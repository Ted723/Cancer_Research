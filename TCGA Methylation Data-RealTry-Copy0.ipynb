{
 "metadata": {
  "kernelspec": {
   "codemirror_mode": {
    "name": "ipython",
    "version": 2
   },
   "display_name": "IPython (Python 2)",
   "language": "python",
   "name": "python2"
  },
  "name": "",
  "signature": "sha256:a581cbb25cad1fe931ceb5e024abe9b79fcb727a5fc84a1a6c63680229f9b80e"
 },
 "nbformat": 3,
 "nbformat_minor": 0,
 "worksheets": [
  {
   "cells": [
    {
     "cell_type": "heading",
     "level": 1,
     "metadata": {},
     "source": [
      "Get TCGA Methylation Data"
     ]
    },
    {
     "cell_type": "markdown",
     "metadata": {},
     "source": [
      "<b>Imports</b>"
     ]
    },
    {
     "cell_type": "code",
     "collapsed": false,
     "input": [
      "from bs4 import BeautifulSoup\n",
      "import urllib2\n",
      "from urllib2 import HTTPError\n",
      "import pandas as pd\n",
      "import os as os\n",
      "import StringIO\n",
      "import gzip"
     ],
     "language": "python",
     "metadata": {},
     "outputs": [],
     "prompt_number": 1
    },
    {
     "cell_type": "markdown",
     "metadata": {},
     "source": [
      "<b>Directory Currently In:</b>"
     ]
    },
    {
     "cell_type": "code",
     "collapsed": false,
     "input": [
      "pwd"
     ],
     "language": "python",
     "metadata": {},
     "outputs": [
      {
       "metadata": {},
       "output_type": "pyout",
       "prompt_number": 2,
       "text": [
        "u'/cellar/users/talejand/Documents/IdekerLab/BackUp'"
       ]
      }
     ],
     "prompt_number": 2
    },
    {
     "cell_type": "code",
     "collapsed": false,
     "input": [
      "ls"
     ],
     "language": "python",
     "metadata": {},
     "outputs": [
      {
       "output_type": "stream",
       "stream": "stdout",
       "text": [
        "Example.ipynb\r\n",
        "Imports.ipynb\r\n",
        "Index.ipynb\r\n",
        "\u001b[0m\u001b[01;34mJustinCase\u001b[0m/\r\n",
        "\u001b[01;34mMethyl\u001b[0m/\r\n",
        "\u001b[01;34mNotebook\u001b[0m/\r\n",
        "TCGA Methylation Data-1?.ipynb\r\n",
        "TCGA Methylation Data 2.ipynb\r\n",
        "TCGA Methylation Data-Copy0.ipynb\r\n",
        "TCGA Methylation Data-First File Zipped.ipynb\r\n",
        "TCGA Methylation Data.ipynb\r\n",
        "TCGA Methylation Data-New TRy-Copy0.ipynb\r\n",
        "TCGA Methylation Data-New TRy.ipynb\r\n",
        "TCGA Methylation Data-RealTry-Copy0.ipynb\r\n",
        "TCGA Methylation Data-RealTry.ipynb\r\n",
        "TCGA Methylation Data-Works?.ipynb\r\n",
        "TCGA Methylation Data-Works Prob?.ipynb\r\n",
        "Untitled0.ipynb\r\n",
        "Untitled1.ipynb\r\n",
        "Untitled2.ipynb\r\n"
       ]
      }
     ],
     "prompt_number": 3
    },
    {
     "cell_type": "markdown",
     "metadata": {},
     "source": [
      "<b>Outpaths</b>"
     ]
    },
    {
     "cell_type": "code",
     "collapsed": false,
     "input": [
      "PATH_TO_CERT = 'JustinCase/cacert.pem'\n",
      "OUT_PATH = 'Methyl'\n",
      "out_path = OUT_PATH + '/New_Methyl_Data'\n",
      "if not os.path.isdir(out_path):\n",
      "    os.mkdir(out_path)"
     ],
     "language": "python",
     "metadata": {},
     "outputs": [],
     "prompt_number": 4
    },
    {
     "cell_type": "markdown",
     "metadata": {},
     "source": [
      "<b>Path to TCGA Website</b>"
     ]
    },
    {
     "cell_type": "code",
     "collapsed": false,
     "input": [
      "url = 'https://tcga-data.nci.nih.gov/tcgafiles/ftp_auth/distro_ftpusers/anonymous/tumor/hnsc/cgcc/jhu-usc.edu/humanmethylation450/methylation/'"
     ],
     "language": "python",
     "metadata": {},
     "outputs": [],
     "prompt_number": 5
    },
    {
     "cell_type": "markdown",
     "metadata": {},
     "source": [
      "<b>Download Certificate (Optional?)</b>"
     ]
    },
    {
     "cell_type": "code",
     "collapsed": false,
     "input": [
      "!curl --cacert $PATH_TO_CERT $url -o tmp.html"
     ],
     "language": "python",
     "metadata": {},
     "outputs": [
      {
       "output_type": "stream",
       "stream": "stdout",
       "text": [
        "  % Total    % Received % Xferd  Average Speed   Time    Time     Time  Current\r\n",
        "                                 Dload  Upload   Total   Spent    Left  Speed\r\n",
        "\r",
        "  0     0    0     0    0     0      0      0 --:--:-- --:--:-- --:--:--     0"
       ]
      },
      {
       "output_type": "stream",
       "stream": "stdout",
       "text": [
        "\r",
        "  0     0    0     0    0     0      0      0 --:--:-- --:--:-- --:--:--     0"
       ]
      },
      {
       "output_type": "stream",
       "stream": "stdout",
       "text": [
        "\r",
        "100 32034    0 32034    0     0  23870      0 --:--:--  0:00:01 --:--:-- 23870"
       ]
      },
      {
       "output_type": "stream",
       "stream": "stdout",
       "text": [
        "\r",
        "100  224k    0  224k    0     0   122k      0 --:--:--  0:00:01 --:--:--  122k\r\n"
       ]
      }
     ],
     "prompt_number": 6
    },
    {
     "cell_type": "markdown",
     "metadata": {},
     "source": [
      "<b>Beautiful Soup module is used to parse links from webpage </b>"
     ]
    },
    {
     "cell_type": "code",
     "collapsed": false,
     "input": [
      "#webpage = urllib2.urlopen(url + 'jhu-usc.edu_HNSC.HumanMethylation450.Level_1.1.0.0.tar.gz').read()\n",
      "#webpage = urllib2.urlopen(url).read()\n",
      "webpage = open('tmp.html', 'rb').read()\n",
      "soup = BeautifulSoup(webpage)\n",
      "soup"
     ],
     "language": "python",
     "metadata": {},
     "outputs": [
      {
       "metadata": {},
       "output_type": "pyout",
       "prompt_number": 7,
       "text": [
        "<!DOCTYPE HTML PUBLIC \"-//W3C//DTD HTML 3.2 Final//EN\">\n",
        "<html>\n",
        "<head>\n",
        "<title>Index of /tcgafiles/ftp_auth/distro_ftpusers/anonymous/tumor/hnsc/cgcc/jhu-usc.edu/humanmethylation450/methylation</title>\n",
        "</head>\n",
        "<body>\n",
        "<h1>Index of /tcgafiles/ftp_auth/distro_ftpusers/anonymous/tumor/hnsc/cgcc/jhu-usc.edu/humanmethylation450/methylation</h1>\n",
        "<pre>      <a href=\"?C=N;O=D\">Name</a>                                                                                           <a href=\"?C=M;O=A\">Last modified</a>      <a href=\"?C=S;O=A\">Size</a>  <hr/>      <a href=\"/tcgafiles/ftp_auth/distro_ftpusers/anonymous/tumor/hnsc/cgcc/jhu-usc.edu/humanmethylation450/\">Parent Directory</a>                                                                                                    -   \n",
        "      <a href=\"jhu-usc.edu_HNSC.HumanMethylation450.Level_1.1.0.0.tar.gz\">jhu-usc.edu_HNSC.HumanMethylation450.Level_1.1.0.0.tar.gz</a>                                      2012-02-28 19:28  327M  \n",
        "      <a href=\"jhu-usc.edu_HNSC.HumanMethylation450.Level_1.1.0.0.tar.gz.md5\">jhu-usc.edu_HNSC.HumanMethylation450.Level_1.1.0.0.tar.gz.md5</a>                                  2012-02-28 19:28   91   \n",
        "      <a href=\"jhu-usc.edu_HNSC.HumanMethylation450.Level_1.1.0.0/\">jhu-usc.edu_HNSC.HumanMethylation450.Level_1.1.0.0/</a>                                            2012-02-28 19:26    -   \n",
        "      <a href=\"jhu-usc.edu_HNSC.HumanMethylation450.Level_1.1.1.0.tar.gz\">jhu-usc.edu_HNSC.HumanMethylation450.Level_1.1.1.0.tar.gz</a>                                      2012-09-27 12:08  327M  \n",
        "      <a href=\"jhu-usc.edu_HNSC.HumanMethylation450.Level_1.1.1.0.tar.gz.md5\">jhu-usc.edu_HNSC.HumanMethylation450.Level_1.1.1.0.tar.gz.md5</a>                                  2012-09-27 12:08   91   \n",
        "      <a href=\"jhu-usc.edu_HNSC.HumanMethylation450.Level_1.1.1.0/\">jhu-usc.edu_HNSC.HumanMethylation450.Level_1.1.1.0/</a>                                            2012-09-27 12:07    -   \n",
        "      <a href=\"jhu-usc.edu_HNSC.HumanMethylation450.Level_1.1.2.0.tar.gz\">jhu-usc.edu_HNSC.HumanMethylation450.Level_1.1.2.0.tar.gz</a>                                      2012-10-30 05:12  327M  \n",
        "      <a href=\"jhu-usc.edu_HNSC.HumanMethylation450.Level_1.1.2.0.tar.gz.md5\">jhu-usc.edu_HNSC.HumanMethylation450.Level_1.1.2.0.tar.gz.md5</a>                                  2012-10-30 05:12   91   \n",
        "      <a href=\"jhu-usc.edu_HNSC.HumanMethylation450.Level_1.1.2.0/\">jhu-usc.edu_HNSC.HumanMethylation450.Level_1.1.2.0/</a>                                            2012-10-30 05:10    -   \n",
        "      <a href=\"jhu-usc.edu_HNSC.HumanMethylation450.Level_1.1.3.0.tar.gz\">jhu-usc.edu_HNSC.HumanMethylation450.Level_1.1.3.0.tar.gz</a>                                      2013-06-18 17:13  327M  \n",
        "      <a href=\"jhu-usc.edu_HNSC.HumanMethylation450.Level_1.1.3.0.tar.gz.md5\">jhu-usc.edu_HNSC.HumanMethylation450.Level_1.1.3.0.tar.gz.md5</a>                                  2013-06-18 17:13   91   \n",
        "      <a href=\"jhu-usc.edu_HNSC.HumanMethylation450.Level_1.1.3.0/\">jhu-usc.edu_HNSC.HumanMethylation450.Level_1.1.3.0/</a>                                            2013-06-18 17:12    -   \n",
        "      <a href=\"jhu-usc.edu_HNSC.HumanMethylation450.Level_1.1.4.0.tar.gz\">jhu-usc.edu_HNSC.HumanMethylation450.Level_1.1.4.0.tar.gz</a>                                      2013-08-28 11:08  327M  \n",
        "      <a href=\"jhu-usc.edu_HNSC.HumanMethylation450.Level_1.1.4.0.tar.gz.md5\">jhu-usc.edu_HNSC.HumanMethylation450.Level_1.1.4.0.tar.gz.md5</a>                                  2013-08-28 11:09   91   \n",
        "      <a href=\"jhu-usc.edu_HNSC.HumanMethylation450.Level_1.1.4.0/\">jhu-usc.edu_HNSC.HumanMethylation450.Level_1.1.4.0/</a>                                            2013-08-28 11:06    -   \n",
        "      <a href=\"jhu-usc.edu_HNSC.HumanMethylation450.Level_1.1.5.0.tar.gz\">jhu-usc.edu_HNSC.HumanMethylation450.Level_1.1.5.0.tar.gz</a>                                      2013-12-03 05:50  327M  \n",
        "      <a href=\"jhu-usc.edu_HNSC.HumanMethylation450.Level_1.1.5.0.tar.gz.md5\">jhu-usc.edu_HNSC.HumanMethylation450.Level_1.1.5.0.tar.gz.md5</a>                                  2013-12-03 05:50   91   \n",
        "      <a href=\"jhu-usc.edu_HNSC.HumanMethylation450.Level_1.1.5.0/\">jhu-usc.edu_HNSC.HumanMethylation450.Level_1.1.5.0/</a>                                            2013-12-03 05:49    -   \n",
        "      <a href=\"jhu-usc.edu_HNSC.HumanMethylation450.Level_1.1.6.0.tar.gz\">jhu-usc.edu_HNSC.HumanMethylation450.Level_1.1.6.0.tar.gz</a>                                      2014-03-15 01:09  327M  \n",
        "      <a href=\"jhu-usc.edu_HNSC.HumanMethylation450.Level_1.1.6.0.tar.gz.md5\">jhu-usc.edu_HNSC.HumanMethylation450.Level_1.1.6.0.tar.gz.md5</a>                                  2014-03-15 01:09   91   \n",
        "      <a href=\"jhu-usc.edu_HNSC.HumanMethylation450.Level_1.1.6.0/\">jhu-usc.edu_HNSC.HumanMethylation450.Level_1.1.6.0/</a>                                            2014-03-15 01:07    -   \n",
        "      <a href=\"jhu-usc.edu_HNSC.HumanMethylation450.Level_1.1.7.0.tar.gz\">jhu-usc.edu_HNSC.HumanMethylation450.Level_1.1.7.0.tar.gz</a>                                      2014-06-13 18:49  327M  \n",
        "      <a href=\"jhu-usc.edu_HNSC.HumanMethylation450.Level_1.1.7.0.tar.gz.md5\">jhu-usc.edu_HNSC.HumanMethylation450.Level_1.1.7.0.tar.gz.md5</a>                                  2014-06-13 18:49   91   \n",
        "      <a href=\"jhu-usc.edu_HNSC.HumanMethylation450.Level_1.1.7.0/\">jhu-usc.edu_HNSC.HumanMethylation450.Level_1.1.7.0/</a>                                            2014-06-13 18:48    -   \n",
        "      <a href=\"jhu-usc.edu_HNSC.HumanMethylation450.Level_1.1.8.0.tar.gz\">jhu-usc.edu_HNSC.HumanMethylation450.Level_1.1.8.0.tar.gz</a>                                      2014-07-03 18:25  327M  \n",
        "      <a href=\"jhu-usc.edu_HNSC.HumanMethylation450.Level_1.1.8.0.tar.gz.md5\">jhu-usc.edu_HNSC.HumanMethylation450.Level_1.1.8.0.tar.gz.md5</a>                                  2014-07-03 18:25   91   \n",
        "      <a href=\"jhu-usc.edu_HNSC.HumanMethylation450.Level_1.1.8.0/\">jhu-usc.edu_HNSC.HumanMethylation450.Level_1.1.8.0/</a>                                            2014-07-03 18:24    -   \n",
        "      <a href=\"jhu-usc.edu_HNSC.HumanMethylation450.Level_1.10.3.0.tar.gz\">jhu-usc.edu_HNSC.HumanMethylation450.Level_1.10.3.0.tar.gz</a>                                     2013-06-18 17:14  130M  \n",
        "      <a href=\"jhu-usc.edu_HNSC.HumanMethylation450.Level_1.10.3.0.tar.gz.md5\">jhu-usc.edu_HNSC.HumanMethylation450.Level_1.10.3.0.tar.gz.md5</a>                                 2013-06-18 17:14   92   \n",
        "      <a href=\"jhu-usc.edu_HNSC.HumanMethylation450.Level_1.10.3.0/\">jhu-usc.edu_HNSC.HumanMethylation450.Level_1.10.3.0/</a>                                           2013-06-18 17:13    -   \n",
        "      <a href=\"jhu-usc.edu_HNSC.HumanMethylation450.Level_1.10.4.0.tar.gz\">jhu-usc.edu_HNSC.HumanMethylation450.Level_1.10.4.0.tar.gz</a>                                     2013-08-28 11:10  130M  \n",
        "      <a href=\"jhu-usc.edu_HNSC.HumanMethylation450.Level_1.10.4.0.tar.gz.md5\">jhu-usc.edu_HNSC.HumanMethylation450.Level_1.10.4.0.tar.gz.md5</a>                                 2013-08-28 11:10   92   \n",
        "      <a href=\"jhu-usc.edu_HNSC.HumanMethylation450.Level_1.10.4.0/\">jhu-usc.edu_HNSC.HumanMethylation450.Level_1.10.4.0/</a>                                           2013-08-28 11:09    -   \n",
        "      <a href=\"jhu-usc.edu_HNSC.HumanMethylation450.Level_1.10.5.0.tar.gz\">jhu-usc.edu_HNSC.HumanMethylation450.Level_1.10.5.0.tar.gz</a>                                     2013-12-03 05:51  130M  \n",
        "      <a href=\"jhu-usc.edu_HNSC.HumanMethylation450.Level_1.10.5.0.tar.gz.md5\">jhu-usc.edu_HNSC.HumanMethylation450.Level_1.10.5.0.tar.gz.md5</a>                                 2013-12-03 05:51   92   \n",
        "      <a href=\"jhu-usc.edu_HNSC.HumanMethylation450.Level_1.10.5.0/\">jhu-usc.edu_HNSC.HumanMethylation450.Level_1.10.5.0/</a>                                           2013-12-03 05:50    -   \n",
        "      <a href=\"jhu-usc.edu_HNSC.HumanMethylation450.Level_1.10.6.0.tar.gz\">jhu-usc.edu_HNSC.HumanMethylation450.Level_1.10.6.0.tar.gz</a>                                     2014-03-15 01:10  130M  \n",
        "      <a href=\"jhu-usc.edu_HNSC.HumanMethylation450.Level_1.10.6.0.tar.gz.md5\">jhu-usc.edu_HNSC.HumanMethylation450.Level_1.10.6.0.tar.gz.md5</a>                                 2014-03-15 01:10   92   \n",
        "      <a href=\"jhu-usc.edu_HNSC.HumanMethylation450.Level_1.10.6.0/\">jhu-usc.edu_HNSC.HumanMethylation450.Level_1.10.6.0/</a>                                           2014-03-15 01:09    -   \n",
        "      <a href=\"jhu-usc.edu_HNSC.HumanMethylation450.Level_1.10.7.0.tar.gz\">jhu-usc.edu_HNSC.HumanMethylation450.Level_1.10.7.0.tar.gz</a>                                     2014-06-13 18:50  130M  \n",
        "      <a href=\"jhu-usc.edu_HNSC.HumanMethylation450.Level_1.10.7.0.tar.gz.md5\">jhu-usc.edu_HNSC.HumanMethylation450.Level_1.10.7.0.tar.gz.md5</a>                                 2014-06-13 18:50   92   \n",
        "      <a href=\"jhu-usc.edu_HNSC.HumanMethylation450.Level_1.10.7.0/\">jhu-usc.edu_HNSC.HumanMethylation450.Level_1.10.7.0/</a>                                           2014-06-13 18:49    -   \n",
        "      <a href=\"jhu-usc.edu_HNSC.HumanMethylation450.Level_1.10.8.0.tar.gz\">jhu-usc.edu_HNSC.HumanMethylation450.Level_1.10.8.0.tar.gz</a>                                     2014-07-03 18:26  130M  \n",
        "      <a href=\"jhu-usc.edu_HNSC.HumanMethylation450.Level_1.10.8.0.tar.gz.md5\">jhu-usc.edu_HNSC.HumanMethylation450.Level_1.10.8.0.tar.gz.md5</a>                                 2014-07-03 18:26   92   \n",
        "      <a href=\"jhu-usc.edu_HNSC.HumanMethylation450.Level_1.10.8.0/\">jhu-usc.edu_HNSC.HumanMethylation450.Level_1.10.8.0/</a>                                           2014-07-03 18:25    -   \n",
        "      <a href=\"jhu-usc.edu_HNSC.HumanMethylation450.Level_1.11.3.0.tar.gz\">jhu-usc.edu_HNSC.HumanMethylation450.Level_1.11.3.0.tar.gz</a>                                     2013-06-18 17:07  131M  \n",
        "      <a href=\"jhu-usc.edu_HNSC.HumanMethylation450.Level_1.11.3.0.tar.gz.md5\">jhu-usc.edu_HNSC.HumanMethylation450.Level_1.11.3.0.tar.gz.md5</a>                                 2013-06-18 17:07   92   \n",
        "      <a href=\"jhu-usc.edu_HNSC.HumanMethylation450.Level_1.11.3.0/\">jhu-usc.edu_HNSC.HumanMethylation450.Level_1.11.3.0/</a>                                           2013-06-18 17:06    -   \n",
        "      <a href=\"jhu-usc.edu_HNSC.HumanMethylation450.Level_1.11.4.0.tar.gz\">jhu-usc.edu_HNSC.HumanMethylation450.Level_1.11.4.0.tar.gz</a>                                     2013-08-28 10:58  131M  \n",
        "      <a href=\"jhu-usc.edu_HNSC.HumanMethylation450.Level_1.11.4.0.tar.gz.md5\">jhu-usc.edu_HNSC.HumanMethylation450.Level_1.11.4.0.tar.gz.md5</a>                                 2013-08-28 10:59   92   \n",
        "      <a href=\"jhu-usc.edu_HNSC.HumanMethylation450.Level_1.11.4.0/\">jhu-usc.edu_HNSC.HumanMethylation450.Level_1.11.4.0/</a>                                           2013-08-28 10:58    -   \n",
        "      <a href=\"jhu-usc.edu_HNSC.HumanMethylation450.Level_1.11.5.0.tar.gz\">jhu-usc.edu_HNSC.HumanMethylation450.Level_1.11.5.0.tar.gz</a>                                     2013-12-03 05:43  131M  \n",
        "      <a href=\"jhu-usc.edu_HNSC.HumanMethylation450.Level_1.11.5.0.tar.gz.md5\">jhu-usc.edu_HNSC.HumanMethylation450.Level_1.11.5.0.tar.gz.md5</a>                                 2013-12-03 05:43   92   \n",
        "      <a href=\"jhu-usc.edu_HNSC.HumanMethylation450.Level_1.11.5.0/\">jhu-usc.edu_HNSC.HumanMethylation450.Level_1.11.5.0/</a>                                           2013-12-03 05:42    -   \n",
        "      <a href=\"jhu-usc.edu_HNSC.HumanMethylation450.Level_1.11.6.0.tar.gz\">jhu-usc.edu_HNSC.HumanMethylation450.Level_1.11.6.0.tar.gz</a>                                     2014-03-15 01:02  131M  \n",
        "      <a href=\"jhu-usc.edu_HNSC.HumanMethylation450.Level_1.11.6.0.tar.gz.md5\">jhu-usc.edu_HNSC.HumanMethylation450.Level_1.11.6.0.tar.gz.md5</a>                                 2014-03-15 01:02   92   \n",
        "      <a href=\"jhu-usc.edu_HNSC.HumanMethylation450.Level_1.11.6.0/\">jhu-usc.edu_HNSC.HumanMethylation450.Level_1.11.6.0/</a>                                           2014-03-15 01:02    -   \n",
        "      <a href=\"jhu-usc.edu_HNSC.HumanMethylation450.Level_1.11.7.0.tar.gz\">jhu-usc.edu_HNSC.HumanMethylation450.Level_1.11.7.0.tar.gz</a>                                     2014-06-13 18:40  131M  \n",
        "      <a href=\"jhu-usc.edu_HNSC.HumanMethylation450.Level_1.11.7.0.tar.gz.md5\">jhu-usc.edu_HNSC.HumanMethylation450.Level_1.11.7.0.tar.gz.md5</a>                                 2014-06-13 18:40   92   \n",
        "      <a href=\"jhu-usc.edu_HNSC.HumanMethylation450.Level_1.11.7.0/\">jhu-usc.edu_HNSC.HumanMethylation450.Level_1.11.7.0/</a>                                           2014-06-13 18:39    -   \n",
        "      <a href=\"jhu-usc.edu_HNSC.HumanMethylation450.Level_1.11.8.0.tar.gz\">jhu-usc.edu_HNSC.HumanMethylation450.Level_1.11.8.0.tar.gz</a>                                     2014-07-03 18:19  131M  \n",
        "      <a href=\"jhu-usc.edu_HNSC.HumanMethylation450.Level_1.11.8.0.tar.gz.md5\">jhu-usc.edu_HNSC.HumanMethylation450.Level_1.11.8.0.tar.gz.md5</a>                                 2014-07-03 18:19   92   \n",
        "      <a href=\"jhu-usc.edu_HNSC.HumanMethylation450.Level_1.11.8.0/\">jhu-usc.edu_HNSC.HumanMethylation450.Level_1.11.8.0/</a>                                           2014-07-03 18:19    -   \n",
        "      <a href=\"jhu-usc.edu_HNSC.HumanMethylation450.Level_1.12.3.0.tar.gz\">jhu-usc.edu_HNSC.HumanMethylation450.Level_1.12.3.0.tar.gz</a>                                     2013-06-18 17:08  130M  \n",
        "      <a href=\"jhu-usc.edu_HNSC.HumanMethylation450.Level_1.12.3.0.tar.gz.md5\">jhu-usc.edu_HNSC.HumanMethylation450.Level_1.12.3.0.tar.gz.md5</a>                                 2013-06-18 17:08   92   \n",
        "      <a href=\"jhu-usc.edu_HNSC.HumanMethylation450.Level_1.12.3.0/\">jhu-usc.edu_HNSC.HumanMethylation450.Level_1.12.3.0/</a>                                           2013-06-18 17:07    -   \n",
        "      <a href=\"jhu-usc.edu_HNSC.HumanMethylation450.Level_1.12.4.0.tar.gz\">jhu-usc.edu_HNSC.HumanMethylation450.Level_1.12.4.0.tar.gz</a>                                     2013-08-28 11:00  130M  \n",
        "      <a href=\"jhu-usc.edu_HNSC.HumanMethylation450.Level_1.12.4.0.tar.gz.md5\">jhu-usc.edu_HNSC.HumanMethylation450.Level_1.12.4.0.tar.gz.md5</a>                                 2013-08-28 11:00   92   \n",
        "      <a href=\"jhu-usc.edu_HNSC.HumanMethylation450.Level_1.12.4.0/\">jhu-usc.edu_HNSC.HumanMethylation450.Level_1.12.4.0/</a>                                           2013-08-28 10:59    -   \n",
        "      <a href=\"jhu-usc.edu_HNSC.HumanMethylation450.Level_1.12.5.0.tar.gz\">jhu-usc.edu_HNSC.HumanMethylation450.Level_1.12.5.0.tar.gz</a>                                     2013-12-03 05:43  130M  \n",
        "      <a href=\"jhu-usc.edu_HNSC.HumanMethylation450.Level_1.12.5.0.tar.gz.md5\">jhu-usc.edu_HNSC.HumanMethylation450.Level_1.12.5.0.tar.gz.md5</a>                                 2013-12-03 05:43   92   \n",
        "      <a href=\"jhu-usc.edu_HNSC.HumanMethylation450.Level_1.12.5.0/\">jhu-usc.edu_HNSC.HumanMethylation450.Level_1.12.5.0/</a>                                           2013-12-03 05:43    -   \n",
        "      <a href=\"jhu-usc.edu_HNSC.HumanMethylation450.Level_1.12.6.0.tar.gz\">jhu-usc.edu_HNSC.HumanMethylation450.Level_1.12.6.0.tar.gz</a>                                     2014-03-15 01:03  130M  \n",
        "      <a href=\"jhu-usc.edu_HNSC.HumanMethylation450.Level_1.12.6.0.tar.gz.md5\">jhu-usc.edu_HNSC.HumanMethylation450.Level_1.12.6.0.tar.gz.md5</a>                                 2014-03-15 01:03   92   \n",
        "      <a href=\"jhu-usc.edu_HNSC.HumanMethylation450.Level_1.12.6.0/\">jhu-usc.edu_HNSC.HumanMethylation450.Level_1.12.6.0/</a>                                           2014-03-15 01:03    -   \n",
        "      <a href=\"jhu-usc.edu_HNSC.HumanMethylation450.Level_1.12.7.0.tar.gz\">jhu-usc.edu_HNSC.HumanMethylation450.Level_1.12.7.0.tar.gz</a>                                     2014-06-13 18:43  130M  \n",
        "      <a href=\"jhu-usc.edu_HNSC.HumanMethylation450.Level_1.12.7.0.tar.gz.md5\">jhu-usc.edu_HNSC.HumanMethylation450.Level_1.12.7.0.tar.gz.md5</a>                                 2014-06-13 18:43   92   \n",
        "      <a href=\"jhu-usc.edu_HNSC.HumanMethylation450.Level_1.12.7.0/\">jhu-usc.edu_HNSC.HumanMethylation450.Level_1.12.7.0/</a>                                           2014-06-13 18:40    -   \n",
        "      <a href=\"jhu-usc.edu_HNSC.HumanMethylation450.Level_1.12.8.0.tar.gz\">jhu-usc.edu_HNSC.HumanMethylation450.Level_1.12.8.0.tar.gz</a>                                     2014-07-03 18:20  130M  \n",
        "      <a href=\"jhu-usc.edu_HNSC.HumanMethylation450.Level_1.12.8.0.tar.gz.md5\">jhu-usc.edu_HNSC.HumanMethylation450.Level_1.12.8.0.tar.gz.md5</a>                                 2014-07-03 18:20   92   \n",
        "      <a href=\"jhu-usc.edu_HNSC.HumanMethylation450.Level_1.12.8.0/\">jhu-usc.edu_HNSC.HumanMethylation450.Level_1.12.8.0/</a>                                           2014-07-03 18:19    -   \n",
        "      <a href=\"jhu-usc.edu_HNSC.HumanMethylation450.Level_1.13.3.0.tar.gz\">jhu-usc.edu_HNSC.HumanMethylation450.Level_1.13.3.0.tar.gz</a>                                     2013-06-18 17:06  137M  \n",
        "      <a href=\"jhu-usc.edu_HNSC.HumanMethylation450.Level_1.13.3.0.tar.gz.md5\">jhu-usc.edu_HNSC.HumanMethylation450.Level_1.13.3.0.tar.gz.md5</a>                                 2013-06-18 17:06   92   \n",
        "      <a href=\"jhu-usc.edu_HNSC.HumanMethylation450.Level_1.13.3.0/\">jhu-usc.edu_HNSC.HumanMethylation450.Level_1.13.3.0/</a>                                           2013-06-18 17:06    -   \n",
        "      <a href=\"jhu-usc.edu_HNSC.HumanMethylation450.Level_1.13.4.0.tar.gz\">jhu-usc.edu_HNSC.HumanMethylation450.Level_1.13.4.0.tar.gz</a>                                     2013-08-28 10:56  137M  \n",
        "      <a href=\"jhu-usc.edu_HNSC.HumanMethylation450.Level_1.13.4.0.tar.gz.md5\">jhu-usc.edu_HNSC.HumanMethylation450.Level_1.13.4.0.tar.gz.md5</a>                                 2013-08-28 10:56   92   \n",
        "      <a href=\"jhu-usc.edu_HNSC.HumanMethylation450.Level_1.13.4.0/\">jhu-usc.edu_HNSC.HumanMethylation450.Level_1.13.4.0/</a>                                           2013-08-28 10:55    -   \n",
        "      <a href=\"jhu-usc.edu_HNSC.HumanMethylation450.Level_1.13.5.0.tar.gz\">jhu-usc.edu_HNSC.HumanMethylation450.Level_1.13.5.0.tar.gz</a>                                     2013-12-03 05:41  137M  \n",
        "      <a href=\"jhu-usc.edu_HNSC.HumanMethylation450.Level_1.13.5.0.tar.gz.md5\">jhu-usc.edu_HNSC.HumanMethylation450.Level_1.13.5.0.tar.gz.md5</a>                                 2013-12-03 05:41   92   \n",
        "      <a href=\"jhu-usc.edu_HNSC.HumanMethylation450.Level_1.13.5.0/\">jhu-usc.edu_HNSC.HumanMethylation450.Level_1.13.5.0/</a>                                           2013-12-03 05:40    -   \n",
        "      <a href=\"jhu-usc.edu_HNSC.HumanMethylation450.Level_1.13.6.0.tar.gz\">jhu-usc.edu_HNSC.HumanMethylation450.Level_1.13.6.0.tar.gz</a>                                     2014-03-15 01:01  137M  \n",
        "      <a href=\"jhu-usc.edu_HNSC.HumanMethylation450.Level_1.13.6.0.tar.gz.md5\">jhu-usc.edu_HNSC.HumanMethylation450.Level_1.13.6.0.tar.gz.md5</a>                                 2014-03-15 01:01   92   \n",
        "      <a href=\"jhu-usc.edu_HNSC.HumanMethylation450.Level_1.13.6.0/\">jhu-usc.edu_HNSC.HumanMethylation450.Level_1.13.6.0/</a>                                           2014-03-15 01:00    -   \n",
        "      <a href=\"jhu-usc.edu_HNSC.HumanMethylation450.Level_1.13.7.0.tar.gz\">jhu-usc.edu_HNSC.HumanMethylation450.Level_1.13.7.0.tar.gz</a>                                     2014-06-13 18:38  137M  \n",
        "      <a href=\"jhu-usc.edu_HNSC.HumanMethylation450.Level_1.13.7.0.tar.gz.md5\">jhu-usc.edu_HNSC.HumanMethylation450.Level_1.13.7.0.tar.gz.md5</a>                                 2014-06-13 18:38   92   \n",
        "      <a href=\"jhu-usc.edu_HNSC.HumanMethylation450.Level_1.13.7.0/\">jhu-usc.edu_HNSC.HumanMethylation450.Level_1.13.7.0/</a>                                           2014-06-13 18:38    -   \n",
        "      <a href=\"jhu-usc.edu_HNSC.HumanMethylation450.Level_1.13.8.0.tar.gz\">jhu-usc.edu_HNSC.HumanMethylation450.Level_1.13.8.0.tar.gz</a>                                     2014-07-03 18:18  137M  \n",
        "      <a href=\"jhu-usc.edu_HNSC.HumanMethylation450.Level_1.13.8.0.tar.gz.md5\">jhu-usc.edu_HNSC.HumanMethylation450.Level_1.13.8.0.tar.gz.md5</a>                                 2014-07-03 18:18   92   \n",
        "      <a href=\"jhu-usc.edu_HNSC.HumanMethylation450.Level_1.13.8.0/\">jhu-usc.edu_HNSC.HumanMethylation450.Level_1.13.8.0/</a>                                           2014-07-03 18:17    -   \n",
        "      <a href=\"jhu-usc.edu_HNSC.HumanMethylation450.Level_1.14.4.0.tar.gz\">jhu-usc.edu_HNSC.HumanMethylation450.Level_1.14.4.0.tar.gz</a>                                     2013-08-28 10:57  170M  \n",
        "      <a href=\"jhu-usc.edu_HNSC.HumanMethylation450.Level_1.14.4.0.tar.gz.md5\">jhu-usc.edu_HNSC.HumanMethylation450.Level_1.14.4.0.tar.gz.md5</a>                                 2013-08-28 10:57   92   \n",
        "      <a href=\"jhu-usc.edu_HNSC.HumanMethylation450.Level_1.14.4.0/\">jhu-usc.edu_HNSC.HumanMethylation450.Level_1.14.4.0/</a>                                           2013-08-28 10:56    -   \n",
        "      <a href=\"jhu-usc.edu_HNSC.HumanMethylation450.Level_1.14.5.0.tar.gz\">jhu-usc.edu_HNSC.HumanMethylation450.Level_1.14.5.0.tar.gz</a>                                     2013-12-03 05:42  170M  \n",
        "      <a href=\"jhu-usc.edu_HNSC.HumanMethylation450.Level_1.14.5.0.tar.gz.md5\">jhu-usc.edu_HNSC.HumanMethylation450.Level_1.14.5.0.tar.gz.md5</a>                                 2013-12-03 05:42   92   \n",
        "      <a href=\"jhu-usc.edu_HNSC.HumanMethylation450.Level_1.14.5.0/\">jhu-usc.edu_HNSC.HumanMethylation450.Level_1.14.5.0/</a>                                           2013-12-03 05:41    -   \n",
        "      <a href=\"jhu-usc.edu_HNSC.HumanMethylation450.Level_1.14.6.0.tar.gz\">jhu-usc.edu_HNSC.HumanMethylation450.Level_1.14.6.0.tar.gz</a>                                     2014-03-15 01:02  170M  \n",
        "      <a href=\"jhu-usc.edu_HNSC.HumanMethylation450.Level_1.14.6.0.tar.gz.md5\">jhu-usc.edu_HNSC.HumanMethylation450.Level_1.14.6.0.tar.gz.md5</a>                                 2014-03-15 01:02   92   \n",
        "      <a href=\"jhu-usc.edu_HNSC.HumanMethylation450.Level_1.14.6.0/\">jhu-usc.edu_HNSC.HumanMethylation450.Level_1.14.6.0/</a>                                           2014-03-15 01:01    -   \n",
        "      <a href=\"jhu-usc.edu_HNSC.HumanMethylation450.Level_1.14.7.0.tar.gz\">jhu-usc.edu_HNSC.HumanMethylation450.Level_1.14.7.0.tar.gz</a>                                     2014-06-13 18:39  170M  \n",
        "      <a href=\"jhu-usc.edu_HNSC.HumanMethylation450.Level_1.14.7.0.tar.gz.md5\">jhu-usc.edu_HNSC.HumanMethylation450.Level_1.14.7.0.tar.gz.md5</a>                                 2014-06-13 18:39   92   \n",
        "      <a href=\"jhu-usc.edu_HNSC.HumanMethylation450.Level_1.14.7.0/\">jhu-usc.edu_HNSC.HumanMethylation450.Level_1.14.7.0/</a>                                           2014-06-13 18:38    -   \n",
        "      <a href=\"jhu-usc.edu_HNSC.HumanMethylation450.Level_1.14.8.0.tar.gz\">jhu-usc.edu_HNSC.HumanMethylation450.Level_1.14.8.0.tar.gz</a>                                     2014-07-03 18:19  170M  \n",
        "      <a href=\"jhu-usc.edu_HNSC.HumanMethylation450.Level_1.14.8.0.tar.gz.md5\">jhu-usc.edu_HNSC.HumanMethylation450.Level_1.14.8.0.tar.gz.md5</a>                                 2014-07-03 18:19   92   \n",
        "      <a href=\"jhu-usc.edu_HNSC.HumanMethylation450.Level_1.14.8.0/\">jhu-usc.edu_HNSC.HumanMethylation450.Level_1.14.8.0/</a>                                           2014-07-03 18:18    -   \n",
        "      <a href=\"jhu-usc.edu_HNSC.HumanMethylation450.Level_1.15.4.0.tar.gz\">jhu-usc.edu_HNSC.HumanMethylation450.Level_1.15.4.0.tar.gz</a>                                     2013-08-28 10:54  283M  \n",
        "      <a href=\"jhu-usc.edu_HNSC.HumanMethylation450.Level_1.15.4.0.tar.gz.md5\">jhu-usc.edu_HNSC.HumanMethylation450.Level_1.15.4.0.tar.gz.md5</a>                                 2013-08-28 10:54   92   \n",
        "      <a href=\"jhu-usc.edu_HNSC.HumanMethylation450.Level_1.15.4.0/\">jhu-usc.edu_HNSC.HumanMethylation450.Level_1.15.4.0/</a>                                           2013-08-28 10:52    -   \n",
        "      <a href=\"jhu-usc.edu_HNSC.HumanMethylation450.Level_1.15.5.0.tar.gz\">jhu-usc.edu_HNSC.HumanMethylation450.Level_1.15.5.0.tar.gz</a>                                     2013-12-03 05:38  283M  \n",
        "      <a href=\"jhu-usc.edu_HNSC.HumanMethylation450.Level_1.15.5.0.tar.gz.md5\">jhu-usc.edu_HNSC.HumanMethylation450.Level_1.15.5.0.tar.gz.md5</a>                                 2013-12-03 05:38   92   \n",
        "      <a href=\"jhu-usc.edu_HNSC.HumanMethylation450.Level_1.15.5.0/\">jhu-usc.edu_HNSC.HumanMethylation450.Level_1.15.5.0/</a>                                           2013-12-03 05:36    -   \n",
        "      <a href=\"jhu-usc.edu_HNSC.HumanMethylation450.Level_1.15.6.0.tar.gz\">jhu-usc.edu_HNSC.HumanMethylation450.Level_1.15.6.0.tar.gz</a>                                     2014-03-15 00:58  283M  \n",
        "      <a href=\"jhu-usc.edu_HNSC.HumanMethylation450.Level_1.15.6.0.tar.gz.md5\">jhu-usc.edu_HNSC.HumanMethylation450.Level_1.15.6.0.tar.gz.md5</a>                                 2014-03-15 00:59   92   \n",
        "      <a href=\"jhu-usc.edu_HNSC.HumanMethylation450.Level_1.15.6.0/\">jhu-usc.edu_HNSC.HumanMethylation450.Level_1.15.6.0/</a>                                           2014-03-15 00:57    -   \n",
        "      <a href=\"jhu-usc.edu_HNSC.HumanMethylation450.Level_1.15.7.0.tar.gz\">jhu-usc.edu_HNSC.HumanMethylation450.Level_1.15.7.0.tar.gz</a>                                     2014-06-13 18:36  283M  \n",
        "      <a href=\"jhu-usc.edu_HNSC.HumanMethylation450.Level_1.15.7.0.tar.gz.md5\">jhu-usc.edu_HNSC.HumanMethylation450.Level_1.15.7.0.tar.gz.md5</a>                                 2014-06-13 18:36   92   \n",
        "      <a href=\"jhu-usc.edu_HNSC.HumanMethylation450.Level_1.15.7.0/\">jhu-usc.edu_HNSC.HumanMethylation450.Level_1.15.7.0/</a>                                           2014-06-13 18:35    -   \n",
        "      <a href=\"jhu-usc.edu_HNSC.HumanMethylation450.Level_1.15.8.0.tar.gz\">jhu-usc.edu_HNSC.HumanMethylation450.Level_1.15.8.0.tar.gz</a>                                     2014-07-03 18:16  283M  \n",
        "      <a href=\"jhu-usc.edu_HNSC.HumanMethylation450.Level_1.15.8.0.tar.gz.md5\">jhu-usc.edu_HNSC.HumanMethylation450.Level_1.15.8.0.tar.gz.md5</a>                                 2014-07-03 18:16   92   \n",
        "      <a href=\"jhu-usc.edu_HNSC.HumanMethylation450.Level_1.15.8.0/\">jhu-usc.edu_HNSC.HumanMethylation450.Level_1.15.8.0/</a>                                           2014-07-03 18:14    -   \n",
        "      <a href=\"jhu-usc.edu_HNSC.HumanMethylation450.Level_1.16.5.0.tar.gz\">jhu-usc.edu_HNSC.HumanMethylation450.Level_1.16.5.0.tar.gz</a>                                     2013-12-03 05:40  268M  \n",
        "      <a href=\"jhu-usc.edu_HNSC.HumanMethylation450.Level_1.16.5.0.tar.gz.md5\">jhu-usc.edu_HNSC.HumanMethylation450.Level_1.16.5.0.tar.gz.md5</a>                                 2013-12-03 05:40   92   \n",
        "      <a href=\"jhu-usc.edu_HNSC.HumanMethylation450.Level_1.16.5.0/\">jhu-usc.edu_HNSC.HumanMethylation450.Level_1.16.5.0/</a>                                           2013-12-03 05:38    -   \n",
        "      <a href=\"jhu-usc.edu_HNSC.HumanMethylation450.Level_1.16.6.0.tar.gz\">jhu-usc.edu_HNSC.HumanMethylation450.Level_1.16.6.0.tar.gz</a>                                     2014-03-15 01:00  268M  \n",
        "      <a href=\"jhu-usc.edu_HNSC.HumanMethylation450.Level_1.16.6.0.tar.gz.md5\">jhu-usc.edu_HNSC.HumanMethylation450.Level_1.16.6.0.tar.gz.md5</a>                                 2014-03-15 01:00   92   \n",
        "      <a href=\"jhu-usc.edu_HNSC.HumanMethylation450.Level_1.16.6.0/\">jhu-usc.edu_HNSC.HumanMethylation450.Level_1.16.6.0/</a>                                           2014-03-15 00:59    -   \n",
        "      <a href=\"jhu-usc.edu_HNSC.HumanMethylation450.Level_1.16.7.0.tar.gz\">jhu-usc.edu_HNSC.HumanMethylation450.Level_1.16.7.0.tar.gz</a>                                     2014-06-13 18:37  268M  \n",
        "      <a href=\"jhu-usc.edu_HNSC.HumanMethylation450.Level_1.16.7.0.tar.gz.md5\">jhu-usc.edu_HNSC.HumanMethylation450.Level_1.16.7.0.tar.gz.md5</a>                                 2014-06-13 18:37   92   \n",
        "      <a href=\"jhu-usc.edu_HNSC.HumanMethylation450.Level_1.16.7.0/\">jhu-usc.edu_HNSC.HumanMethylation450.Level_1.16.7.0/</a>                                           2014-06-13 18:36    -   \n",
        "      <a href=\"jhu-usc.edu_HNSC.HumanMethylation450.Level_1.16.8.0.tar.gz\">jhu-usc.edu_HNSC.HumanMethylation450.Level_1.16.8.0.tar.gz</a>                                     2014-07-03 18:17  268M  \n",
        "      <a href=\"jhu-usc.edu_HNSC.HumanMethylation450.Level_1.16.8.0.tar.gz.md5\">jhu-usc.edu_HNSC.HumanMethylation450.Level_1.16.8.0.tar.gz.md5</a>                                 2014-07-03 18:17   92   \n",
        "      <a href=\"jhu-usc.edu_HNSC.HumanMethylation450.Level_1.16.8.0/\">jhu-usc.edu_HNSC.HumanMethylation450.Level_1.16.8.0/</a>                                           2014-07-03 18:16    -   \n",
        "      <a href=\"jhu-usc.edu_HNSC.HumanMethylation450.Level_1.17.6.0.tar.gz\">jhu-usc.edu_HNSC.HumanMethylation450.Level_1.17.6.0.tar.gz</a>                                     2014-03-15 00:57  485M  \n",
        "      <a href=\"jhu-usc.edu_HNSC.HumanMethylation450.Level_1.17.6.0.tar.gz.md5\">jhu-usc.edu_HNSC.HumanMethylation450.Level_1.17.6.0.tar.gz.md5</a>                                 2014-03-15 00:57   92   \n",
        "      <a href=\"jhu-usc.edu_HNSC.HumanMethylation450.Level_1.17.6.0/\">jhu-usc.edu_HNSC.HumanMethylation450.Level_1.17.6.0/</a>                                           2014-03-15 00:55    -   \n",
        "      <a href=\"jhu-usc.edu_HNSC.HumanMethylation450.Level_1.17.7.0.tar.gz\">jhu-usc.edu_HNSC.HumanMethylation450.Level_1.17.7.0.tar.gz</a>                                     2014-06-13 18:34  493M  \n",
        "      <a href=\"jhu-usc.edu_HNSC.HumanMethylation450.Level_1.17.7.0.tar.gz.md5\">jhu-usc.edu_HNSC.HumanMethylation450.Level_1.17.7.0.tar.gz.md5</a>                                 2014-06-13 18:34   92   \n",
        "      <a href=\"jhu-usc.edu_HNSC.HumanMethylation450.Level_1.17.7.0/\">jhu-usc.edu_HNSC.HumanMethylation450.Level_1.17.7.0/</a>                                           2014-06-13 18:32    -   \n",
        "      <a href=\"jhu-usc.edu_HNSC.HumanMethylation450.Level_1.17.8.0.tar.gz\">jhu-usc.edu_HNSC.HumanMethylation450.Level_1.17.8.0.tar.gz</a>                                     2014-07-03 18:13  493M  \n",
        "      <a href=\"jhu-usc.edu_HNSC.HumanMethylation450.Level_1.17.8.0.tar.gz.md5\">jhu-usc.edu_HNSC.HumanMethylation450.Level_1.17.8.0.tar.gz.md5</a>                                 2014-07-03 18:14   92   \n",
        "      <a href=\"jhu-usc.edu_HNSC.HumanMethylation450.Level_1.17.8.0/\">jhu-usc.edu_HNSC.HumanMethylation450.Level_1.17.8.0/</a>                                           2014-07-03 18:12    -   \n",
        "      <a href=\"jhu-usc.edu_HNSC.HumanMethylation450.Level_1.18.7.0.tar.gz\">jhu-usc.edu_HNSC.HumanMethylation450.Level_1.18.7.0.tar.gz</a>                                     2014-06-13 18:35   97M  \n",
        "      <a href=\"jhu-usc.edu_HNSC.HumanMethylation450.Level_1.18.7.0.tar.gz.md5\">jhu-usc.edu_HNSC.HumanMethylation450.Level_1.18.7.0.tar.gz.md5</a>                                 2014-06-13 18:35   92   \n",
        "      <a href=\"jhu-usc.edu_HNSC.HumanMethylation450.Level_1.18.7.0/\">jhu-usc.edu_HNSC.HumanMethylation450.Level_1.18.7.0/</a>                                           2014-06-13 18:34    -   \n",
        "      <a href=\"jhu-usc.edu_HNSC.HumanMethylation450.Level_1.18.8.0.tar.gz\">jhu-usc.edu_HNSC.HumanMethylation450.Level_1.18.8.0.tar.gz</a>                                     2014-07-03 18:14   97M  \n",
        "      <a href=\"jhu-usc.edu_HNSC.HumanMethylation450.Level_1.18.8.0.tar.gz.md5\">jhu-usc.edu_HNSC.HumanMethylation450.Level_1.18.8.0.tar.gz.md5</a>                                 2014-07-03 18:14   92   \n",
        "      <a href=\"jhu-usc.edu_HNSC.HumanMethylation450.Level_1.18.8.0/\">jhu-usc.edu_HNSC.HumanMethylation450.Level_1.18.8.0/</a>                                           2014-07-03 18:14    -   \n",
        "      <a href=\"jhu-usc.edu_HNSC.HumanMethylation450.Level_1.2.0.0.tar.gz\">jhu-usc.edu_HNSC.HumanMethylation450.Level_1.2.0.0.tar.gz</a>                                      2012-02-28 19:26  229M  \n",
        "      <a href=\"jhu-usc.edu_HNSC.HumanMethylation450.Level_1.2.0.0.tar.gz.md5\">jhu-usc.edu_HNSC.HumanMethylation450.Level_1.2.0.0.tar.gz.md5</a>                                  2012-02-28 19:26   91   \n",
        "      <a href=\"jhu-usc.edu_HNSC.HumanMethylation450.Level_1.2.0.0/\">jhu-usc.edu_HNSC.HumanMethylation450.Level_1.2.0.0/</a>                                            2012-02-28 19:25    -   \n",
        "      <a href=\"jhu-usc.edu_HNSC.HumanMethylation450.Level_1.2.1.0.tar.gz\">jhu-usc.edu_HNSC.HumanMethylation450.Level_1.2.1.0.tar.gz</a>                                      2012-09-27 12:06  229M  \n",
        "      <a href=\"jhu-usc.edu_HNSC.HumanMethylation450.Level_1.2.1.0.tar.gz.md5\">jhu-usc.edu_HNSC.HumanMethylation450.Level_1.2.1.0.tar.gz.md5</a>                                  2012-09-27 12:06   91   \n",
        "      <a href=\"jhu-usc.edu_HNSC.HumanMethylation450.Level_1.2.1.0/\">jhu-usc.edu_HNSC.HumanMethylation450.Level_1.2.1.0/</a>                                            2012-09-27 12:05    -   \n",
        "      <a href=\"jhu-usc.edu_HNSC.HumanMethylation450.Level_1.2.2.0.tar.gz\">jhu-usc.edu_HNSC.HumanMethylation450.Level_1.2.2.0.tar.gz</a>                                      2012-10-30 05:09  229M  \n",
        "      <a href=\"jhu-usc.edu_HNSC.HumanMethylation450.Level_1.2.2.0.tar.gz.md5\">jhu-usc.edu_HNSC.HumanMethylation450.Level_1.2.2.0.tar.gz.md5</a>                                  2012-10-30 05:09   91   \n",
        "      <a href=\"jhu-usc.edu_HNSC.HumanMethylation450.Level_1.2.2.0/\">jhu-usc.edu_HNSC.HumanMethylation450.Level_1.2.2.0/</a>                                            2012-10-30 05:08    -   \n",
        "      <a href=\"jhu-usc.edu_HNSC.HumanMethylation450.Level_1.2.3.0.tar.gz\">jhu-usc.edu_HNSC.HumanMethylation450.Level_1.2.3.0.tar.gz</a>                                      2013-06-18 17:11  229M  \n",
        "      <a href=\"jhu-usc.edu_HNSC.HumanMethylation450.Level_1.2.3.0.tar.gz.md5\">jhu-usc.edu_HNSC.HumanMethylation450.Level_1.2.3.0.tar.gz.md5</a>                                  2013-06-18 17:11   91   \n",
        "      <a href=\"jhu-usc.edu_HNSC.HumanMethylation450.Level_1.2.3.0/\">jhu-usc.edu_HNSC.HumanMethylation450.Level_1.2.3.0/</a>                                            2013-06-18 17:10    -   \n",
        "      <a href=\"jhu-usc.edu_HNSC.HumanMethylation450.Level_1.2.4.0.tar.gz\">jhu-usc.edu_HNSC.HumanMethylation450.Level_1.2.4.0.tar.gz</a>                                      2013-08-28 11:06  229M  \n",
        "      <a href=\"jhu-usc.edu_HNSC.HumanMethylation450.Level_1.2.4.0.tar.gz.md5\">jhu-usc.edu_HNSC.HumanMethylation450.Level_1.2.4.0.tar.gz.md5</a>                                  2013-08-28 11:06   91   \n",
        "      <a href=\"jhu-usc.edu_HNSC.HumanMethylation450.Level_1.2.4.0/\">jhu-usc.edu_HNSC.HumanMethylation450.Level_1.2.4.0/</a>                                            2013-08-28 11:04    -   \n",
        "      <a href=\"jhu-usc.edu_HNSC.HumanMethylation450.Level_1.2.5.0.tar.gz\">jhu-usc.edu_HNSC.HumanMethylation450.Level_1.2.5.0.tar.gz</a>                                      2013-12-03 05:48  229M  \n",
        "      <a href=\"jhu-usc.edu_HNSC.HumanMethylation450.Level_1.2.5.0.tar.gz.md5\">jhu-usc.edu_HNSC.HumanMethylation450.Level_1.2.5.0.tar.gz.md5</a>                                  2013-12-03 05:48   91   \n",
        "      <a href=\"jhu-usc.edu_HNSC.HumanMethylation450.Level_1.2.5.0/\">jhu-usc.edu_HNSC.HumanMethylation450.Level_1.2.5.0/</a>                                            2013-12-03 05:47    -   \n",
        "      <a href=\"jhu-usc.edu_HNSC.HumanMethylation450.Level_1.2.6.0.tar.gz\">jhu-usc.edu_HNSC.HumanMethylation450.Level_1.2.6.0.tar.gz</a>                                      2014-03-15 01:07  229M  \n",
        "      <a href=\"jhu-usc.edu_HNSC.HumanMethylation450.Level_1.2.6.0.tar.gz.md5\">jhu-usc.edu_HNSC.HumanMethylation450.Level_1.2.6.0.tar.gz.md5</a>                                  2014-03-15 01:07   91   \n",
        "      <a href=\"jhu-usc.edu_HNSC.HumanMethylation450.Level_1.2.6.0/\">jhu-usc.edu_HNSC.HumanMethylation450.Level_1.2.6.0/</a>                                            2014-03-15 01:06    -   \n",
        "      <a href=\"jhu-usc.edu_HNSC.HumanMethylation450.Level_1.2.7.0.tar.gz\">jhu-usc.edu_HNSC.HumanMethylation450.Level_1.2.7.0.tar.gz</a>                                      2014-06-13 18:48  229M  \n",
        "      <a href=\"jhu-usc.edu_HNSC.HumanMethylation450.Level_1.2.7.0.tar.gz.md5\">jhu-usc.edu_HNSC.HumanMethylation450.Level_1.2.7.0.tar.gz.md5</a>                                  2014-06-13 18:48   91   \n",
        "      <a href=\"jhu-usc.edu_HNSC.HumanMethylation450.Level_1.2.7.0/\">jhu-usc.edu_HNSC.HumanMethylation450.Level_1.2.7.0/</a>                                            2014-06-13 18:47    -   \n",
        "      <a href=\"jhu-usc.edu_HNSC.HumanMethylation450.Level_1.2.8.0.tar.gz\">jhu-usc.edu_HNSC.HumanMethylation450.Level_1.2.8.0.tar.gz</a>                                      2014-07-03 18:23  229M  \n",
        "      <a href=\"jhu-usc.edu_HNSC.HumanMethylation450.Level_1.2.8.0.tar.gz.md5\">jhu-usc.edu_HNSC.HumanMethylation450.Level_1.2.8.0.tar.gz.md5</a>                                  2014-07-03 18:23   91   \n",
        "      <a href=\"jhu-usc.edu_HNSC.HumanMethylation450.Level_1.2.8.0/\">jhu-usc.edu_HNSC.HumanMethylation450.Level_1.2.8.0/</a>                                            2014-07-03 18:22    -   \n",
        "      <a href=\"jhu-usc.edu_HNSC.HumanMethylation450.Level_1.3.0.0.tar.gz\">jhu-usc.edu_HNSC.HumanMethylation450.Level_1.3.0.0.tar.gz</a>                                      2012-02-28 19:24  456M  \n",
        "      <a href=\"jhu-usc.edu_HNSC.HumanMethylation450.Level_1.3.0.0.tar.gz.md5\">jhu-usc.edu_HNSC.HumanMethylation450.Level_1.3.0.0.tar.gz.md5</a>                                  2012-02-28 19:24   91   \n",
        "      <a href=\"jhu-usc.edu_HNSC.HumanMethylation450.Level_1.3.0.0/\">jhu-usc.edu_HNSC.HumanMethylation450.Level_1.3.0.0/</a>                                            2012-02-28 19:22    -   \n",
        "      <a href=\"jhu-usc.edu_HNSC.HumanMethylation450.Level_1.3.1.0.tar.gz\">jhu-usc.edu_HNSC.HumanMethylation450.Level_1.3.1.0.tar.gz</a>                                      2012-09-27 12:05  456M  \n",
        "      <a href=\"jhu-usc.edu_HNSC.HumanMethylation450.Level_1.3.1.0.tar.gz.md5\">jhu-usc.edu_HNSC.HumanMethylation450.Level_1.3.1.0.tar.gz.md5</a>                                  2012-09-27 12:05   91   \n",
        "      <a href=\"jhu-usc.edu_HNSC.HumanMethylation450.Level_1.3.1.0/\">jhu-usc.edu_HNSC.HumanMethylation450.Level_1.3.1.0/</a>                                            2012-09-27 12:03    -   \n",
        "      <a href=\"jhu-usc.edu_HNSC.HumanMethylation450.Level_1.3.2.0.tar.gz\">jhu-usc.edu_HNSC.HumanMethylation450.Level_1.3.2.0.tar.gz</a>                                      2012-10-30 05:08  456M  \n",
        "      <a href=\"jhu-usc.edu_HNSC.HumanMethylation450.Level_1.3.2.0.tar.gz.md5\">jhu-usc.edu_HNSC.HumanMethylation450.Level_1.3.2.0.tar.gz.md5</a>                                  2012-10-30 05:08   91   \n",
        "      <a href=\"jhu-usc.edu_HNSC.HumanMethylation450.Level_1.3.2.0/\">jhu-usc.edu_HNSC.HumanMethylation450.Level_1.3.2.0/</a>                                            2012-10-30 05:05    -   \n",
        "      <a href=\"jhu-usc.edu_HNSC.HumanMethylation450.Level_1.3.3.0.tar.gz\">jhu-usc.edu_HNSC.HumanMethylation450.Level_1.3.3.0.tar.gz</a>                                      2013-06-18 17:10  456M  \n",
        "      <a href=\"jhu-usc.edu_HNSC.HumanMethylation450.Level_1.3.3.0.tar.gz.md5\">jhu-usc.edu_HNSC.HumanMethylation450.Level_1.3.3.0.tar.gz.md5</a>                                  2013-06-18 17:10   91   \n",
        "      <a href=\"jhu-usc.edu_HNSC.HumanMethylation450.Level_1.3.3.0/\">jhu-usc.edu_HNSC.HumanMethylation450.Level_1.3.3.0/</a>                                            2013-06-18 17:08    -   \n",
        "      <a href=\"jhu-usc.edu_HNSC.HumanMethylation450.Level_1.3.4.0.tar.gz\">jhu-usc.edu_HNSC.HumanMethylation450.Level_1.3.4.0.tar.gz</a>                                      2013-08-28 11:03  456M  \n",
        "      <a href=\"jhu-usc.edu_HNSC.HumanMethylation450.Level_1.3.4.0.tar.gz.md5\">jhu-usc.edu_HNSC.HumanMethylation450.Level_1.3.4.0.tar.gz.md5</a>                                  2013-08-28 11:04   91   \n",
        "      <a href=\"jhu-usc.edu_HNSC.HumanMethylation450.Level_1.3.4.0/\">jhu-usc.edu_HNSC.HumanMethylation450.Level_1.3.4.0/</a>                                            2013-08-28 11:01    -   \n",
        "      <a href=\"jhu-usc.edu_HNSC.HumanMethylation450.Level_1.3.5.0.tar.gz\">jhu-usc.edu_HNSC.HumanMethylation450.Level_1.3.5.0.tar.gz</a>                                      2013-12-03 05:46  456M  \n",
        "      <a href=\"jhu-usc.edu_HNSC.HumanMethylation450.Level_1.3.5.0.tar.gz.md5\">jhu-usc.edu_HNSC.HumanMethylation450.Level_1.3.5.0.tar.gz.md5</a>                                  2013-12-03 05:46   91   \n",
        "      <a href=\"jhu-usc.edu_HNSC.HumanMethylation450.Level_1.3.5.0/\">jhu-usc.edu_HNSC.HumanMethylation450.Level_1.3.5.0/</a>                                            2013-12-03 05:44    -   \n",
        "      <a href=\"jhu-usc.edu_HNSC.HumanMethylation450.Level_1.3.6.0.tar.gz\">jhu-usc.edu_HNSC.HumanMethylation450.Level_1.3.6.0.tar.gz</a>                                      2014-03-15 01:06  456M  \n",
        "      <a href=\"jhu-usc.edu_HNSC.HumanMethylation450.Level_1.3.6.0.tar.gz.md5\">jhu-usc.edu_HNSC.HumanMethylation450.Level_1.3.6.0.tar.gz.md5</a>                                  2014-03-15 01:06   91   \n",
        "      <a href=\"jhu-usc.edu_HNSC.HumanMethylation450.Level_1.3.6.0/\">jhu-usc.edu_HNSC.HumanMethylation450.Level_1.3.6.0/</a>                                            2014-03-15 01:04    -   \n",
        "      <a href=\"jhu-usc.edu_HNSC.HumanMethylation450.Level_1.3.7.0.tar.gz\">jhu-usc.edu_HNSC.HumanMethylation450.Level_1.3.7.0.tar.gz</a>                                      2014-06-13 18:46  456M  \n",
        "      <a href=\"jhu-usc.edu_HNSC.HumanMethylation450.Level_1.3.7.0.tar.gz.md5\">jhu-usc.edu_HNSC.HumanMethylation450.Level_1.3.7.0.tar.gz.md5</a>                                  2014-06-13 18:46   91   \n",
        "      <a href=\"jhu-usc.edu_HNSC.HumanMethylation450.Level_1.3.7.0/\">jhu-usc.edu_HNSC.HumanMethylation450.Level_1.3.7.0/</a>                                            2014-06-13 18:45    -   \n",
        "      <a href=\"jhu-usc.edu_HNSC.HumanMethylation450.Level_1.3.8.0.tar.gz\">jhu-usc.edu_HNSC.HumanMethylation450.Level_1.3.8.0.tar.gz</a>                                      2014-07-03 18:22  456M  \n",
        "      <a href=\"jhu-usc.edu_HNSC.HumanMethylation450.Level_1.3.8.0.tar.gz.md5\">jhu-usc.edu_HNSC.HumanMethylation450.Level_1.3.8.0.tar.gz.md5</a>                                  2014-07-03 18:22   91   \n",
        "      <a href=\"jhu-usc.edu_HNSC.HumanMethylation450.Level_1.3.8.0/\">jhu-usc.edu_HNSC.HumanMethylation450.Level_1.3.8.0/</a>                                            2014-07-03 18:20    -   \n",
        "      <a href=\"jhu-usc.edu_HNSC.HumanMethylation450.Level_1.4.0.0.tar.gz\">jhu-usc.edu_HNSC.HumanMethylation450.Level_1.4.0.0.tar.gz</a>                                      2012-02-28 19:38  277M  \n",
        "      <a href=\"jhu-usc.edu_HNSC.HumanMethylation450.Level_1.4.0.0.tar.gz.md5\">jhu-usc.edu_HNSC.HumanMethylation450.Level_1.4.0.0.tar.gz.md5</a>                                  2012-02-28 19:38   91   \n",
        "      <a href=\"jhu-usc.edu_HNSC.HumanMethylation450.Level_1.4.0.0/\">jhu-usc.edu_HNSC.HumanMethylation450.Level_1.4.0.0/</a>                                            2012-02-28 19:37    -   \n",
        "      <a href=\"jhu-usc.edu_HNSC.HumanMethylation450.Level_1.4.1.0.tar.gz\">jhu-usc.edu_HNSC.HumanMethylation450.Level_1.4.1.0.tar.gz</a>                                      2012-09-27 12:18  277M  \n",
        "      <a href=\"jhu-usc.edu_HNSC.HumanMethylation450.Level_1.4.1.0.tar.gz.md5\">jhu-usc.edu_HNSC.HumanMethylation450.Level_1.4.1.0.tar.gz.md5</a>                                  2012-09-27 12:18   91   \n",
        "      <a href=\"jhu-usc.edu_HNSC.HumanMethylation450.Level_1.4.1.0/\">jhu-usc.edu_HNSC.HumanMethylation450.Level_1.4.1.0/</a>                                            2012-09-27 12:16    -   \n",
        "      <a href=\"jhu-usc.edu_HNSC.HumanMethylation450.Level_1.4.2.0.tar.gz\">jhu-usc.edu_HNSC.HumanMethylation450.Level_1.4.2.0.tar.gz</a>                                      2012-10-30 05:23  277M  \n",
        "      <a href=\"jhu-usc.edu_HNSC.HumanMethylation450.Level_1.4.2.0.tar.gz.md5\">jhu-usc.edu_HNSC.HumanMethylation450.Level_1.4.2.0.tar.gz.md5</a>                                  2012-10-30 05:23   91   \n",
        "      <a href=\"jhu-usc.edu_HNSC.HumanMethylation450.Level_1.4.2.0/\">jhu-usc.edu_HNSC.HumanMethylation450.Level_1.4.2.0/</a>                                            2012-10-30 05:22    -   \n",
        "      <a href=\"jhu-usc.edu_HNSC.HumanMethylation450.Level_1.4.3.0.tar.gz\">jhu-usc.edu_HNSC.HumanMethylation450.Level_1.4.3.0.tar.gz</a>                                      2013-06-18 17:23  277M  \n",
        "      <a href=\"jhu-usc.edu_HNSC.HumanMethylation450.Level_1.4.3.0.tar.gz.md5\">jhu-usc.edu_HNSC.HumanMethylation450.Level_1.4.3.0.tar.gz.md5</a>                                  2013-06-18 17:23   91   \n",
        "      <a href=\"jhu-usc.edu_HNSC.HumanMethylation450.Level_1.4.3.0/\">jhu-usc.edu_HNSC.HumanMethylation450.Level_1.4.3.0/</a>                                            2013-06-18 17:22    -   \n",
        "      <a href=\"jhu-usc.edu_HNSC.HumanMethylation450.Level_1.4.4.0.tar.gz\">jhu-usc.edu_HNSC.HumanMethylation450.Level_1.4.4.0.tar.gz</a>                                      2013-08-28 11:24  277M  \n",
        "      <a href=\"jhu-usc.edu_HNSC.HumanMethylation450.Level_1.4.4.0.tar.gz.md5\">jhu-usc.edu_HNSC.HumanMethylation450.Level_1.4.4.0.tar.gz.md5</a>                                  2013-08-28 11:25   91   \n",
        "      <a href=\"jhu-usc.edu_HNSC.HumanMethylation450.Level_1.4.4.0/\">jhu-usc.edu_HNSC.HumanMethylation450.Level_1.4.4.0/</a>                                            2013-08-28 11:23    -   \n",
        "      <a href=\"jhu-usc.edu_HNSC.HumanMethylation450.Level_1.4.5.0.tar.gz\">jhu-usc.edu_HNSC.HumanMethylation450.Level_1.4.5.0.tar.gz</a>                                      2013-12-03 06:02  277M  \n",
        "      <a href=\"jhu-usc.edu_HNSC.HumanMethylation450.Level_1.4.5.0.tar.gz.md5\">jhu-usc.edu_HNSC.HumanMethylation450.Level_1.4.5.0.tar.gz.md5</a>                                  2013-12-03 06:02   91   \n",
        "      <a href=\"jhu-usc.edu_HNSC.HumanMethylation450.Level_1.4.5.0/\">jhu-usc.edu_HNSC.HumanMethylation450.Level_1.4.5.0/</a>                                            2013-12-03 06:01    -   \n",
        "      <a href=\"jhu-usc.edu_HNSC.HumanMethylation450.Level_1.4.6.0.tar.gz\">jhu-usc.edu_HNSC.HumanMethylation450.Level_1.4.6.0.tar.gz</a>                                      2014-03-15 01:19  277M  \n",
        "      <a href=\"jhu-usc.edu_HNSC.HumanMethylation450.Level_1.4.6.0.tar.gz.md5\">jhu-usc.edu_HNSC.HumanMethylation450.Level_1.4.6.0.tar.gz.md5</a>                                  2014-03-15 01:19   91   \n",
        "      <a href=\"jhu-usc.edu_HNSC.HumanMethylation450.Level_1.4.6.0/\">jhu-usc.edu_HNSC.HumanMethylation450.Level_1.4.6.0/</a>                                            2014-03-15 01:18    -   \n",
        "      <a href=\"jhu-usc.edu_HNSC.HumanMethylation450.Level_1.4.7.0.tar.gz\">jhu-usc.edu_HNSC.HumanMethylation450.Level_1.4.7.0.tar.gz</a>                                      2014-06-13 18:58  277M  \n",
        "      <a href=\"jhu-usc.edu_HNSC.HumanMethylation450.Level_1.4.7.0.tar.gz.md5\">jhu-usc.edu_HNSC.HumanMethylation450.Level_1.4.7.0.tar.gz.md5</a>                                  2014-06-13 18:58   91   \n",
        "      <a href=\"jhu-usc.edu_HNSC.HumanMethylation450.Level_1.4.7.0/\">jhu-usc.edu_HNSC.HumanMethylation450.Level_1.4.7.0/</a>                                            2014-06-13 18:57    -   \n",
        "      <a href=\"jhu-usc.edu_HNSC.HumanMethylation450.Level_1.4.8.0.tar.gz\">jhu-usc.edu_HNSC.HumanMethylation450.Level_1.4.8.0.tar.gz</a>                                      2014-07-03 18:34  277M  \n",
        "      <a href=\"jhu-usc.edu_HNSC.HumanMethylation450.Level_1.4.8.0.tar.gz.md5\">jhu-usc.edu_HNSC.HumanMethylation450.Level_1.4.8.0.tar.gz.md5</a>                                  2014-07-03 18:34   91   \n",
        "      <a href=\"jhu-usc.edu_HNSC.HumanMethylation450.Level_1.4.8.0/\">jhu-usc.edu_HNSC.HumanMethylation450.Level_1.4.8.0/</a>                                            2014-07-03 18:33    -   \n",
        "      <a href=\"jhu-usc.edu_HNSC.HumanMethylation450.Level_1.5.0.0.tar.gz\">jhu-usc.edu_HNSC.HumanMethylation450.Level_1.5.0.0.tar.gz</a>                                      2012-02-28 19:37  445M  \n",
        "      <a href=\"jhu-usc.edu_HNSC.HumanMethylation450.Level_1.5.0.0.tar.gz.md5\">jhu-usc.edu_HNSC.HumanMethylation450.Level_1.5.0.0.tar.gz.md5</a>                                  2012-02-28 19:37   91   \n",
        "      <a href=\"jhu-usc.edu_HNSC.HumanMethylation450.Level_1.5.0.0/\">jhu-usc.edu_HNSC.HumanMethylation450.Level_1.5.0.0/</a>                                            2012-02-28 19:35    -   \n",
        "      <a href=\"jhu-usc.edu_HNSC.HumanMethylation450.Level_1.5.1.0.tar.gz\">jhu-usc.edu_HNSC.HumanMethylation450.Level_1.5.1.0.tar.gz</a>                                      2012-09-27 12:16  445M  \n",
        "      <a href=\"jhu-usc.edu_HNSC.HumanMethylation450.Level_1.5.1.0.tar.gz.md5\">jhu-usc.edu_HNSC.HumanMethylation450.Level_1.5.1.0.tar.gz.md5</a>                                  2012-09-27 12:16   91   \n",
        "      <a href=\"jhu-usc.edu_HNSC.HumanMethylation450.Level_1.5.1.0/\">jhu-usc.edu_HNSC.HumanMethylation450.Level_1.5.1.0/</a>                                            2012-09-27 12:14    -   \n",
        "      <a href=\"jhu-usc.edu_HNSC.HumanMethylation450.Level_1.5.2.0.tar.gz\">jhu-usc.edu_HNSC.HumanMethylation450.Level_1.5.2.0.tar.gz</a>                                      2012-10-30 05:21  445M  \n",
        "      <a href=\"jhu-usc.edu_HNSC.HumanMethylation450.Level_1.5.2.0.tar.gz.md5\">jhu-usc.edu_HNSC.HumanMethylation450.Level_1.5.2.0.tar.gz.md5</a>                                  2012-10-30 05:21   91   \n",
        "      <a href=\"jhu-usc.edu_HNSC.HumanMethylation450.Level_1.5.2.0/\">jhu-usc.edu_HNSC.HumanMethylation450.Level_1.5.2.0/</a>                                            2012-10-30 05:19    -   \n",
        "      <a href=\"jhu-usc.edu_HNSC.HumanMethylation450.Level_1.5.3.0.tar.gz\">jhu-usc.edu_HNSC.HumanMethylation450.Level_1.5.3.0.tar.gz</a>                                      2013-06-18 17:21  445M  \n",
        "      <a href=\"jhu-usc.edu_HNSC.HumanMethylation450.Level_1.5.3.0.tar.gz.md5\">jhu-usc.edu_HNSC.HumanMethylation450.Level_1.5.3.0.tar.gz.md5</a>                                  2013-06-18 17:21   91   \n",
        "      <a href=\"jhu-usc.edu_HNSC.HumanMethylation450.Level_1.5.3.0/\">jhu-usc.edu_HNSC.HumanMethylation450.Level_1.5.3.0/</a>                                            2013-06-18 17:20    -   \n",
        "      <a href=\"jhu-usc.edu_HNSC.HumanMethylation450.Level_1.5.4.0.tar.gz\">jhu-usc.edu_HNSC.HumanMethylation450.Level_1.5.4.0.tar.gz</a>                                      2013-08-28 11:22  445M  \n",
        "      <a href=\"jhu-usc.edu_HNSC.HumanMethylation450.Level_1.5.4.0.tar.gz.md5\">jhu-usc.edu_HNSC.HumanMethylation450.Level_1.5.4.0.tar.gz.md5</a>                                  2013-08-28 11:22   91   \n",
        "      <a href=\"jhu-usc.edu_HNSC.HumanMethylation450.Level_1.5.4.0/\">jhu-usc.edu_HNSC.HumanMethylation450.Level_1.5.4.0/</a>                                            2013-08-28 11:19    -   \n",
        "      <a href=\"jhu-usc.edu_HNSC.HumanMethylation450.Level_1.5.5.0.tar.gz\">jhu-usc.edu_HNSC.HumanMethylation450.Level_1.5.5.0.tar.gz</a>                                      2013-12-03 06:00  445M  \n",
        "      <a href=\"jhu-usc.edu_HNSC.HumanMethylation450.Level_1.5.5.0.tar.gz.md5\">jhu-usc.edu_HNSC.HumanMethylation450.Level_1.5.5.0.tar.gz.md5</a>                                  2013-12-03 06:00   91   \n",
        "      <a href=\"jhu-usc.edu_HNSC.HumanMethylation450.Level_1.5.5.0/\">jhu-usc.edu_HNSC.HumanMethylation450.Level_1.5.5.0/</a>                                            2013-12-03 05:58    -   \n",
        "      <a href=\"jhu-usc.edu_HNSC.HumanMethylation450.Level_1.5.6.0.tar.gz\">jhu-usc.edu_HNSC.HumanMethylation450.Level_1.5.6.0.tar.gz</a>                                      2014-03-15 01:17  445M  \n",
        "      <a href=\"jhu-usc.edu_HNSC.HumanMethylation450.Level_1.5.6.0.tar.gz.md5\">jhu-usc.edu_HNSC.HumanMethylation450.Level_1.5.6.0.tar.gz.md5</a>                                  2014-03-15 01:17   91   \n",
        "      <a href=\"jhu-usc.edu_HNSC.HumanMethylation450.Level_1.5.6.0/\">jhu-usc.edu_HNSC.HumanMethylation450.Level_1.5.6.0/</a>                                            2014-03-15 01:15    -   \n",
        "      <a href=\"jhu-usc.edu_HNSC.HumanMethylation450.Level_1.5.7.0.tar.gz\">jhu-usc.edu_HNSC.HumanMethylation450.Level_1.5.7.0.tar.gz</a>                                      2014-06-13 18:57  445M  \n",
        "      <a href=\"jhu-usc.edu_HNSC.HumanMethylation450.Level_1.5.7.0.tar.gz.md5\">jhu-usc.edu_HNSC.HumanMethylation450.Level_1.5.7.0.tar.gz.md5</a>                                  2014-06-13 18:57   91   \n",
        "      <a href=\"jhu-usc.edu_HNSC.HumanMethylation450.Level_1.5.7.0/\">jhu-usc.edu_HNSC.HumanMethylation450.Level_1.5.7.0/</a>                                            2014-06-13 18:55    -   \n",
        "      <a href=\"jhu-usc.edu_HNSC.HumanMethylation450.Level_1.5.8.0.tar.gz\">jhu-usc.edu_HNSC.HumanMethylation450.Level_1.5.8.0.tar.gz</a>                                      2014-07-03 18:32  445M  \n",
        "      <a href=\"jhu-usc.edu_HNSC.HumanMethylation450.Level_1.5.8.0.tar.gz.md5\">jhu-usc.edu_HNSC.HumanMethylation450.Level_1.5.8.0.tar.gz.md5</a>                                  2014-07-03 18:33   91   \n",
        "      <a href=\"jhu-usc.edu_HNSC.HumanMethylation450.Level_1.5.8.0/\">jhu-usc.edu_HNSC.HumanMethylation450.Level_1.5.8.0/</a>                                            2014-07-03 18:31    -   \n",
        "      <a href=\"jhu-usc.edu_HNSC.HumanMethylation450.Level_1.6.0.0.tar.gz\">jhu-usc.edu_HNSC.HumanMethylation450.Level_1.6.0.0.tar.gz</a>                                      2012-02-28 19:34  685M  \n",
        "      <a href=\"jhu-usc.edu_HNSC.HumanMethylation450.Level_1.6.0.0.tar.gz.md5\">jhu-usc.edu_HNSC.HumanMethylation450.Level_1.6.0.0.tar.gz.md5</a>                                  2012-02-28 19:34   91   \n",
        "      <a href=\"jhu-usc.edu_HNSC.HumanMethylation450.Level_1.6.0.0/\">jhu-usc.edu_HNSC.HumanMethylation450.Level_1.6.0.0/</a>                                            2012-02-28 19:30    -   \n",
        "      <a href=\"jhu-usc.edu_HNSC.HumanMethylation450.Level_1.6.1.0.tar.gz\">jhu-usc.edu_HNSC.HumanMethylation450.Level_1.6.1.0.tar.gz</a>                                      2012-09-27 12:13  685M  \n",
        "      <a href=\"jhu-usc.edu_HNSC.HumanMethylation450.Level_1.6.1.0.tar.gz.md5\">jhu-usc.edu_HNSC.HumanMethylation450.Level_1.6.1.0.tar.gz.md5</a>                                  2012-09-27 12:13   91   \n",
        "      <a href=\"jhu-usc.edu_HNSC.HumanMethylation450.Level_1.6.1.0/\">jhu-usc.edu_HNSC.HumanMethylation450.Level_1.6.1.0/</a>                                            2012-09-27 12:10    -   \n",
        "      <a href=\"jhu-usc.edu_HNSC.HumanMethylation450.Level_1.6.2.0.tar.gz\">jhu-usc.edu_HNSC.HumanMethylation450.Level_1.6.2.0.tar.gz</a>                                      2012-10-30 05:18  685M  \n",
        "      <a href=\"jhu-usc.edu_HNSC.HumanMethylation450.Level_1.6.2.0.tar.gz.md5\">jhu-usc.edu_HNSC.HumanMethylation450.Level_1.6.2.0.tar.gz.md5</a>                                  2012-10-30 05:18   91   \n",
        "      <a href=\"jhu-usc.edu_HNSC.HumanMethylation450.Level_1.6.2.0/\">jhu-usc.edu_HNSC.HumanMethylation450.Level_1.6.2.0/</a>                                            2012-10-30 05:14    -   \n",
        "      <a href=\"jhu-usc.edu_HNSC.HumanMethylation450.Level_1.6.3.0.tar.gz\">jhu-usc.edu_HNSC.HumanMethylation450.Level_1.6.3.0.tar.gz</a>                                      2013-06-18 17:19  685M  \n",
        "      <a href=\"jhu-usc.edu_HNSC.HumanMethylation450.Level_1.6.3.0.tar.gz.md5\">jhu-usc.edu_HNSC.HumanMethylation450.Level_1.6.3.0.tar.gz.md5</a>                                  2013-06-18 17:19   91   \n",
        "      <a href=\"jhu-usc.edu_HNSC.HumanMethylation450.Level_1.6.3.0/\">jhu-usc.edu_HNSC.HumanMethylation450.Level_1.6.3.0/</a>                                            2013-06-18 17:16    -   \n",
        "      <a href=\"jhu-usc.edu_HNSC.HumanMethylation450.Level_1.6.4.0.tar.gz\">jhu-usc.edu_HNSC.HumanMethylation450.Level_1.6.4.0.tar.gz</a>                                      2013-08-28 11:17  685M  \n",
        "      <a href=\"jhu-usc.edu_HNSC.HumanMethylation450.Level_1.6.4.0.tar.gz.md5\">jhu-usc.edu_HNSC.HumanMethylation450.Level_1.6.4.0.tar.gz.md5</a>                                  2013-08-28 11:18   91   \n",
        "      <a href=\"jhu-usc.edu_HNSC.HumanMethylation450.Level_1.6.4.0/\">jhu-usc.edu_HNSC.HumanMethylation450.Level_1.6.4.0/</a>                                            2013-08-28 11:13    -   \n",
        "      <a href=\"jhu-usc.edu_HNSC.HumanMethylation450.Level_1.6.5.0.tar.gz\">jhu-usc.edu_HNSC.HumanMethylation450.Level_1.6.5.0.tar.gz</a>                                      2013-12-03 05:57  685M  \n",
        "      <a href=\"jhu-usc.edu_HNSC.HumanMethylation450.Level_1.6.5.0.tar.gz.md5\">jhu-usc.edu_HNSC.HumanMethylation450.Level_1.6.5.0.tar.gz.md5</a>                                  2013-12-03 05:57   91   \n",
        "      <a href=\"jhu-usc.edu_HNSC.HumanMethylation450.Level_1.6.5.0/\">jhu-usc.edu_HNSC.HumanMethylation450.Level_1.6.5.0/</a>                                            2013-12-03 05:54    -   \n",
        "      <a href=\"jhu-usc.edu_HNSC.HumanMethylation450.Level_1.6.6.0.tar.gz\">jhu-usc.edu_HNSC.HumanMethylation450.Level_1.6.6.0.tar.gz</a>                                      2014-03-15 01:15  685M  \n",
        "      <a href=\"jhu-usc.edu_HNSC.HumanMethylation450.Level_1.6.6.0.tar.gz.md5\">jhu-usc.edu_HNSC.HumanMethylation450.Level_1.6.6.0.tar.gz.md5</a>                                  2014-03-15 01:15   91   \n",
        "      <a href=\"jhu-usc.edu_HNSC.HumanMethylation450.Level_1.6.6.0/\">jhu-usc.edu_HNSC.HumanMethylation450.Level_1.6.6.0/</a>                                            2014-03-15 01:12    -   \n",
        "      <a href=\"jhu-usc.edu_HNSC.HumanMethylation450.Level_1.6.7.0.tar.gz\">jhu-usc.edu_HNSC.HumanMethylation450.Level_1.6.7.0.tar.gz</a>                                      2014-06-13 18:54  685M  \n",
        "      <a href=\"jhu-usc.edu_HNSC.HumanMethylation450.Level_1.6.7.0.tar.gz.md5\">jhu-usc.edu_HNSC.HumanMethylation450.Level_1.6.7.0.tar.gz.md5</a>                                  2014-06-13 18:54   91   \n",
        "      <a href=\"jhu-usc.edu_HNSC.HumanMethylation450.Level_1.6.7.0/\">jhu-usc.edu_HNSC.HumanMethylation450.Level_1.6.7.0/</a>                                            2014-06-13 18:52    -   \n",
        "      <a href=\"jhu-usc.edu_HNSC.HumanMethylation450.Level_1.6.8.0.tar.gz\">jhu-usc.edu_HNSC.HumanMethylation450.Level_1.6.8.0.tar.gz</a>                                      2014-07-03 18:30  685M  \n",
        "      <a href=\"jhu-usc.edu_HNSC.HumanMethylation450.Level_1.6.8.0.tar.gz.md5\">jhu-usc.edu_HNSC.HumanMethylation450.Level_1.6.8.0.tar.gz.md5</a>                                  2014-07-03 18:30   91   \n",
        "      <a href=\"jhu-usc.edu_HNSC.HumanMethylation450.Level_1.6.8.0/\">jhu-usc.edu_HNSC.HumanMethylation450.Level_1.6.8.0/</a>                                            2014-07-03 18:28    -   \n",
        "      <a href=\"jhu-usc.edu_HNSC.HumanMethylation450.Level_1.7.0.0.tar.gz\">jhu-usc.edu_HNSC.HumanMethylation450.Level_1.7.0.0.tar.gz</a>                                      2012-02-28 19:29  262M  \n",
        "      <a href=\"jhu-usc.edu_HNSC.HumanMethylation450.Level_1.7.0.0.tar.gz.md5\">jhu-usc.edu_HNSC.HumanMethylation450.Level_1.7.0.0.tar.gz.md5</a>                                  2012-02-28 19:29   91   \n",
        "      <a href=\"jhu-usc.edu_HNSC.HumanMethylation450.Level_1.7.0.0/\">jhu-usc.edu_HNSC.HumanMethylation450.Level_1.7.0.0/</a>                                            2012-02-28 19:28    -   \n",
        "      <a href=\"jhu-usc.edu_HNSC.HumanMethylation450.Level_1.7.1.0.tar.gz\">jhu-usc.edu_HNSC.HumanMethylation450.Level_1.7.1.0.tar.gz</a>                                      2012-09-27 12:10  262M  \n",
        "      <a href=\"jhu-usc.edu_HNSC.HumanMethylation450.Level_1.7.1.0.tar.gz.md5\">jhu-usc.edu_HNSC.HumanMethylation450.Level_1.7.1.0.tar.gz.md5</a>                                  2012-09-27 12:10   91   \n",
        "      <a href=\"jhu-usc.edu_HNSC.HumanMethylation450.Level_1.7.1.0/\">jhu-usc.edu_HNSC.HumanMethylation450.Level_1.7.1.0/</a>                                            2012-09-27 12:08    -   \n",
        "      <a href=\"jhu-usc.edu_HNSC.HumanMethylation450.Level_1.7.2.0.tar.gz\">jhu-usc.edu_HNSC.HumanMethylation450.Level_1.7.2.0.tar.gz</a>                                      2012-10-30 05:13  262M  \n",
        "      <a href=\"jhu-usc.edu_HNSC.HumanMethylation450.Level_1.7.2.0.tar.gz.md5\">jhu-usc.edu_HNSC.HumanMethylation450.Level_1.7.2.0.tar.gz.md5</a>                                  2012-10-30 05:13   91   \n",
        "      <a href=\"jhu-usc.edu_HNSC.HumanMethylation450.Level_1.7.2.0/\">jhu-usc.edu_HNSC.HumanMethylation450.Level_1.7.2.0/</a>                                            2012-10-30 05:12    -   \n",
        "      <a href=\"jhu-usc.edu_HNSC.HumanMethylation450.Level_1.7.3.0.tar.gz\">jhu-usc.edu_HNSC.HumanMethylation450.Level_1.7.3.0.tar.gz</a>                                      2013-06-18 17:15  262M  \n",
        "      <a href=\"jhu-usc.edu_HNSC.HumanMethylation450.Level_1.7.3.0.tar.gz.md5\">jhu-usc.edu_HNSC.HumanMethylation450.Level_1.7.3.0.tar.gz.md5</a>                                  2013-06-18 17:15   91   \n",
        "      <a href=\"jhu-usc.edu_HNSC.HumanMethylation450.Level_1.7.3.0/\">jhu-usc.edu_HNSC.HumanMethylation450.Level_1.7.3.0/</a>                                            2013-06-18 17:14    -   \n",
        "      <a href=\"jhu-usc.edu_HNSC.HumanMethylation450.Level_1.7.4.0.tar.gz\">jhu-usc.edu_HNSC.HumanMethylation450.Level_1.7.4.0.tar.gz</a>                                      2013-08-28 11:12  262M  \n",
        "      <a href=\"jhu-usc.edu_HNSC.HumanMethylation450.Level_1.7.4.0.tar.gz.md5\">jhu-usc.edu_HNSC.HumanMethylation450.Level_1.7.4.0.tar.gz.md5</a>                                  2013-08-28 11:12   91   \n",
        "      <a href=\"jhu-usc.edu_HNSC.HumanMethylation450.Level_1.7.4.0/\">jhu-usc.edu_HNSC.HumanMethylation450.Level_1.7.4.0/</a>                                            2013-08-28 11:10    -   \n",
        "      <a href=\"jhu-usc.edu_HNSC.HumanMethylation450.Level_1.7.5.0.tar.gz\">jhu-usc.edu_HNSC.HumanMethylation450.Level_1.7.5.0.tar.gz</a>                                      2013-12-03 05:52  262M  \n",
        "      <a href=\"jhu-usc.edu_HNSC.HumanMethylation450.Level_1.7.5.0.tar.gz.md5\">jhu-usc.edu_HNSC.HumanMethylation450.Level_1.7.5.0.tar.gz.md5</a>                                  2013-12-03 05:53   91   \n",
        "      <a href=\"jhu-usc.edu_HNSC.HumanMethylation450.Level_1.7.5.0/\">jhu-usc.edu_HNSC.HumanMethylation450.Level_1.7.5.0/</a>                                            2013-12-03 05:51    -   \n",
        "      <a href=\"jhu-usc.edu_HNSC.HumanMethylation450.Level_1.7.6.0.tar.gz\">jhu-usc.edu_HNSC.HumanMethylation450.Level_1.7.6.0.tar.gz</a>                                      2014-03-15 01:11  262M  \n",
        "      <a href=\"jhu-usc.edu_HNSC.HumanMethylation450.Level_1.7.6.0.tar.gz.md5\">jhu-usc.edu_HNSC.HumanMethylation450.Level_1.7.6.0.tar.gz.md5</a>                                  2014-03-15 01:11   91   \n",
        "      <a href=\"jhu-usc.edu_HNSC.HumanMethylation450.Level_1.7.6.0/\">jhu-usc.edu_HNSC.HumanMethylation450.Level_1.7.6.0/</a>                                            2014-03-15 01:10    -   \n",
        "      <a href=\"jhu-usc.edu_HNSC.HumanMethylation450.Level_1.7.7.0.tar.gz\">jhu-usc.edu_HNSC.HumanMethylation450.Level_1.7.7.0.tar.gz</a>                                      2014-06-13 18:51  262M  \n",
        "      <a href=\"jhu-usc.edu_HNSC.HumanMethylation450.Level_1.7.7.0.tar.gz.md5\">jhu-usc.edu_HNSC.HumanMethylation450.Level_1.7.7.0.tar.gz.md5</a>                                  2014-06-13 18:51   91   \n",
        "      <a href=\"jhu-usc.edu_HNSC.HumanMethylation450.Level_1.7.7.0/\">jhu-usc.edu_HNSC.HumanMethylation450.Level_1.7.7.0/</a>                                            2014-06-13 18:50    -   \n",
        "      <a href=\"jhu-usc.edu_HNSC.HumanMethylation450.Level_1.7.8.0.tar.gz\">jhu-usc.edu_HNSC.HumanMethylation450.Level_1.7.8.0.tar.gz</a>                                      2014-07-03 18:27  262M  \n",
        "      <a href=\"jhu-usc.edu_HNSC.HumanMethylation450.Level_1.7.8.0.tar.gz.md5\">jhu-usc.edu_HNSC.HumanMethylation450.Level_1.7.8.0.tar.gz.md5</a>                                  2014-07-03 18:27   91   \n",
        "      <a href=\"jhu-usc.edu_HNSC.HumanMethylation450.Level_1.7.8.0/\">jhu-usc.edu_HNSC.HumanMethylation450.Level_1.7.8.0/</a>                                            2014-07-03 18:26    -   \n",
        "      <a href=\"jhu-usc.edu_HNSC.HumanMethylation450.Level_1.8.0.0.tar.gz\">jhu-usc.edu_HNSC.HumanMethylation450.Level_1.8.0.0.tar.gz</a>                                      2012-02-28 19:40  172M  \n",
        "      <a href=\"jhu-usc.edu_HNSC.HumanMethylation450.Level_1.8.0.0.tar.gz.md5\">jhu-usc.edu_HNSC.HumanMethylation450.Level_1.8.0.0.tar.gz.md5</a>                                  2012-02-28 19:40   91   \n",
        "      <a href=\"jhu-usc.edu_HNSC.HumanMethylation450.Level_1.8.0.0/\">jhu-usc.edu_HNSC.HumanMethylation450.Level_1.8.0.0/</a>                                            2012-02-28 19:39    -   \n",
        "      <a href=\"jhu-usc.edu_HNSC.HumanMethylation450.Level_1.8.1.0.tar.gz\">jhu-usc.edu_HNSC.HumanMethylation450.Level_1.8.1.0.tar.gz</a>                                      2012-09-27 12:20  172M  \n",
        "      <a href=\"jhu-usc.edu_HNSC.HumanMethylation450.Level_1.8.1.0.tar.gz.md5\">jhu-usc.edu_HNSC.HumanMethylation450.Level_1.8.1.0.tar.gz.md5</a>                                  2012-09-27 12:20   91   \n",
        "      <a href=\"jhu-usc.edu_HNSC.HumanMethylation450.Level_1.8.1.0/\">jhu-usc.edu_HNSC.HumanMethylation450.Level_1.8.1.0/</a>                                            2012-09-27 12:19    -   \n",
        "      <a href=\"jhu-usc.edu_HNSC.HumanMethylation450.Level_1.8.2.0.tar.gz\">jhu-usc.edu_HNSC.HumanMethylation450.Level_1.8.2.0.tar.gz</a>                                      2012-10-30 05:26  172M  \n",
        "      <a href=\"jhu-usc.edu_HNSC.HumanMethylation450.Level_1.8.2.0.tar.gz.md5\">jhu-usc.edu_HNSC.HumanMethylation450.Level_1.8.2.0.tar.gz.md5</a>                                  2012-10-30 05:26   91   \n",
        "      <a href=\"jhu-usc.edu_HNSC.HumanMethylation450.Level_1.8.2.0/\">jhu-usc.edu_HNSC.HumanMethylation450.Level_1.8.2.0/</a>                                            2012-10-30 05:25    -   \n",
        "      <a href=\"jhu-usc.edu_HNSC.HumanMethylation450.Level_1.8.3.0.tar.gz\">jhu-usc.edu_HNSC.HumaLast modified</a>      <a href=\"?C=S;O=A\"><a href=\"jhu-usc.edu_HNSC.HumanMethylation450.Level_1.1.0.0.tar.gz.md5\"></a><a href=\"jhu-usc.edu_HNSC.HumanMethylation450.Level_1.1.0.0/\"></a><a href=\"jhu-usc.edu_HNSC.HumanMethylation450.Level_1.1.1.0.tar.gz\"></a><a href=\"jhu-usc.edu_HNSC.HumanMethylation450.Level_1.1.1.0.tar.gz.md5\"></a><a href=\"jhu-usc.edu_HNSC.HumanMethylation450.Level_1.1.1.0/\"></a><a href=\"jhu-usc.edu_HNSC.HumanMethylation450.Level_1.1.2.0.tar.gz\"></a><a href=\"jhu-usc.edu_HNSC.HumanMethylation450.Level_1.1.2.0.tar.gz.md5\"></a><a href=\"jhu-usc.edu_HNSC.HumanMethylation450.Level_1.1.2.0/\"></a><a href=\"jhu-usc.edu_HNSC.HumanMethylation450.Level_1.1.3.0.tar.gz\"></a><a href=\"jhu-usc.edu_HNSC.HumanMethylation450.Level_1.1.3.0.tar.gz.md5\"></a><a href=\"jhu-usc.edu_HNSC.HumanMethylation450.Level_1.1.3.0/\"></a><a href=\"jhu-usc.edu_HNSC.HumanMethylation450.Level_1.1.4.0.tar.gz\"></a><a href=\"jhu-usc.edu_HNSC.HumanMethylation450.Level_1.1.4.0.tar.gz.md5\"></a><a href=\"jhu-usc.edu_HNSC.HumanMethylation450.Level_1.1.4.0/\"></a><a href=\"jhu-usc.edu_HNSC.HumanMethylation450.Level_1.1.5.0.tar.gz\"></a><a href=\"jhu-usc.edu_HNSC.HumanMethylation450.Level_1.1.5.0.tar.gz.md5\"></a><a href=\"jhu-usc.edu_HNSC.HumanMethylation450.Level_1.1.5.0/\"></a><a href=\"jhu-usc.edu_HNSC.HumanMethylation450.Level_1.1.6.0.tar.gz\"></a><a href=\"jhu-usc.edu_HNSC.HumanMethylation450.Level_1.1.6.0.tar.gz.md5\"></a><a href=\"jhu-usc.edu_HNSC.HumanMethylation450.Level_1.1.6.0/\"></a><a href=\"jhu-usc.edu_HNSC.HumanMethylation450.Level_1.1.7.0.tar.gz\"></a><a href=\"jhu-usc.edu_HNSC.HumanMethylation450.Level_1.1.7.0.tar.gz.md5\"></a><a href=\"jhu-usc.edu_HNSC.HumanMethylation450.Level_1.1.7.0/\"></a><a href=\"jhu-usc.edu_HNSC.HumanMethylation450.Level_1.1.8.0.tar.gz\"></a><a href=\"jhu-usc.edu_HNSC.HumanMethylation450.Level_1.1.8.0.tar.gz.md5\"></a><a href=\"jhu-usc.edu_HNSC.HumanMethylation450.Level_1.1.8.0/\"></a><a href=\"jhu-usc.edu_HNSC.HumanMethylation450.Level_1.10.3.0.tar.gz\"></a><a href=\"jhu-usc.edu_HNSC.HumanMethylation450.Level_1.10.3.0.tar.gz.md5\"></a><a href=\"jhu-usc.edu_HNSC.HumanMethylation450.Level_1.10.3.0/\"></a><a href=\"jhu-usc.edu_HNSC.HumanMethylation450.Level_1.10.4.0.tar.gz\"></a><a href=\"jhu-usc.edu_HNSC.HumanMethylation450.Level_1.10.4.0.tar.gz.md5\"></a><a href=\"jhu-usc.edu_HNSC.HumanMethylation450.Level_1.10.4.0/\"></a><a href=\"jhu-usc.edu_HNSC.HumanMethylation450.Level_1.10.5.0.tar.gz\"></a><a href=\"jhu-usc.edu_HNSC.HumanMethylation450.Level_1.10.5.0.tar.gz.md5\"></a><a href=\"jhu-usc.edu_HNSC.HumanMethylation450.Level_1.10.5.0/\"></a><a href=\"jhu-usc.edu_HNSC.HumanMethylation450.Level_1.10.6.0.tar.gz\"></a><a href=\"jhu-usc.edu_HNSC.HumanMethylation450.Level_1.10.6.0.tar.gz.md5\"></a><a href=\"jhu-usc.edu_HNSC.HumanMethylation450.Level_1.10.6.0/\"></a><a href=\"jhu-usc.edu_HNSC.HumanMethylation450.Level_1.10.7.0.tar.gz\"></a><a href=\"jhu-usc.edu_HNSC.HumanMethylation450.Level_1.10.7.0.tar.gz.md5\"></a><a href=\"jhu-usc.edu_HNSC.HumanMethylation450.Level_1.10.7.0/\"></a><a href=\"jhu-usc.edu_HNSC.HumanMethylation450.Level_1.10.8.0.tar.gz\"></a><a href=\"jhu-usc.edu_HNSC.HumanMethylation450.Level_1.10.8.0.tar.gz.md5\"></a><a href=\"jhu-usc.edu_HNSC.HumanMethylation450.Level_1.10.8.0/\"></a><a href=\"jhu-usc.edu_HNSC.HumanMethylation450.Level_1.11.3.0.tar.gz\"></a><a href=\"jhu-usc.edu_HNSC.HumanMethylation450.Level_1.11.3.0.tar.gz.md5\"></a><a href=\"jhu-usc.edu_HNSC.HumanMethylation450.Level_1.11.3.0/\"></a><a href=\"jhu-usc.edu_HNSC.HumanMethylation450.Level_1.11.4.0.tar.gz\"></a><a href=\"jhu-usc.edu_HNSC.HumanMethylation450.Level_1.11.4.0.tar.gz.md5\"></a><a href=\"jhu-usc.edu_HNSC.HumanMethylation450.Level_1.11.4.0/\"></a><a href=\"jhu-usc.edu_HNSC.HumanMethylation450.Level_1.11.5.0.tar.gz\"></a><a href=\"jhu-usc.edu_HNSC.HumanMethylation450.Level_1.11.5.0.tar.gz.md5\"></a><a href=\"jhu-usc.edu_HNSC.HumanMethylation450.Level_1.11.5.0/\"></a><a href=\"jhu-usc.edu_HNSC.HumanMethylation450.Level_1.11.6.0.tar.gz\"></a><a href=\"jhu-usc.edu_HNSC.HumanMethylation450.Level_1.11.6.0.tar.gz.md5\"></a><a href=\"jhu-usc.edu_HNSC.HumanMethylation450.Level_1.11.6.0/\"></a><a href=\"jhu-usc.edu_HNSC.HumanMethylation450.Level_1.11.7.0.tar.gz\"></a><a href=\"jhu-usc.edu_HNSC.HumanMethylation450.Level_1.11.7.0.tar.gz.md5\"></a><a href=\"jhu-usc.edu_HNSC.HumanMethylation450.Level_1.11.7.0/\"></a><a href=\"jhu-usc.edu_HNSC.HumanMethylation450.Level_1.11.8.0.tar.gz\"></a><a href=\"jhu-usc.edu_HNSC.HumanMethylation450.Level_1.11.8.0.tar.gz.md5\"></a><a href=\"jhu-usc.edu_HNSC.HumanMethylation450.Level_1.11.8.0/\"></a><a href=\"jhu-usc.edu_HNSC.HumanMethylation450.Level_1.12.3.0.tar.gz\"></a><a href=\"jhu-usc.edu_HNSC.HumanMethylation450.Level_1.12.3.0.tar.gz.md5\"></a><a href=\"jhu-usc.edu_HNSC.HumanMethylation450.Level_1.12.3.0/\"></a><a href=\"jhu-usc.edu_HNSC.HumanMethylation450.Level_1.12.4.0.tar.gz\"></a><a href=\"jhu-usc.edu_HNSC.HumanMethylation450.Level_1.12.4.0.tar.gz.md5\"></a><a href=\"jhu-usc.edu_HNSC.HumanMethylation450.Level_1.12.4.0/\"></a><a href=\"jhu-usc.edu_HNSC.HumanMethylation450.Level_1.12.5.0.tar.gz\"></a><a href=\"jhu-usc.edu_HNSC.HumanMethylation450.Level_1.12.5.0.tar.gz.md5\"></a><a href=\"jhu-usc.edu_HNSC.HumanMethylation450.Level_1.12.5.0/\"></a><a href=\"jhu-usc.edu_HNSC.HumanMethylation450.Level_1.12.6.0.tar.gz\"></a><a href=\"jhu-usc.edu_HNSC.HumanMethylation450.Level_1.12.6.0.tar.gz.md5\"></a><a href=\"jhu-usc.edu_HNSC.HumanMethylation450.Level_1.12.6.0/\"></a><a href=\"jhu-usc.edu_HNSC.HumanMethylation450.Level_1.12.7.0.tar.gz\"></a><a href=\"jhu-usc.edu_HNSC.HumanMethylation450.Level_1.12.7.0.tar.gz.md5\"></a><a href=\"jhu-usc.edu_HNSC.HumanMethylation450.Level_1.12.7.0/\"></a><a href=\"jhu-usc.edu_HNSC.HumanMethylation450.Level_1.12.8.0.tar.gz\"></a><a href=\"jhu-usc.edu_HNSC.HumanMethylation450.Level_1.12.8.0.tar.gz.md5\"></a><a href=\"jhu-usc.edu_HNSC.HumanMethylation450.Level_1.12.8.0/\"></a><a href=\"jhu-usc.edu_HNSC.HumanMethylation450.Level_1.13.3.0.tar.gz\"></a><a href=\"jhu-usc.edu_HNSC.HumanMethylation450.Level_1.13.3.0.tar.gz.md5\"></a><a href=\"jhu-usc.edu_HNSC.HumanMethylation450.Level_1.13.3.0/\"></a><a href=\"jhu-usc.edu_HNSC.HumanMethylation450.Level_1.13.4.0.tar.gz\"></a><a href=\"jhu-usc.edu_HNSC.HumanMethylation450.Level_1.13.4.0.tar.gz.md5\"></a><a href=\"jhu-usc.edu_HNSC.HumanMethylation450.Level_1.13.4.0/\"></a><a href=\"jhu-usc.edu_HNSC.HumanMethylation450.Level_1.13.5.0.tar.gz\"></a><a href=\"jhu-usc.edu_HNSC.HumanMethylation450.Level_1.13.5.0.tar.gz.md5\"></a><a href=\"jhu-usc.edu_HNSC.HumanMethylation450.Level_1.13.5.0/\"></a><a href=\"jhu-usc.edu_HNSC.HumanMethylation450.Level_1.13.6.0.tar.gz\"></a><a href=\"jhu-usc.edu_HNSC.HumanMethylation450.Level_1.13.6.0.tar.gz.md5\"></a><a href=\"jhu-usc.edu_HNSC.HumanMethylation450.Level_1.13.6.0/\"></a><a href=\"jhu-usc.edu_HNSC.HumanMethylation450.Level_1.13.7.0.tar.gz\"></a><a href=\"jhu-usc.edu_HNSC.HumanMethylation450.Level_1.13.7.0.tar.gz.md5\"></a><a href=\"jhu-usc.edu_HNSC.HumanMethylation450.Level_1.13.7.0/\"></a><a href=\"jhu-usc.edu_HNSC.HumanMethylation450.Level_1.13.8.0.tar.gz\"></a><a href=\"jhu-usc.edu_HNSC.HumanMethylation450.Level_1.13.8.0.tar.gz.md5\"></a><a href=\"jhu-usc.edu_HNSC.HumanMethylation450.Level_1.13.8.0/\"><a hrefa=\"\"></a></a></a></pre></body></html>"
       ]
      }
     ],
     "prompt_number": 7
    },
    {
     "cell_type": "markdown",
     "metadata": {},
     "source": [
      "<b>Get Tar Links</b>"
     ]
    },
    {
     "cell_type": "code",
     "collapsed": false,
     "input": [
      "#one option\n",
      "url = 'https://tcga-data.nci.nih.gov/tcgafiles/ftp_auth/distro_ftpusers/anonymous/tumor/hnsc/cgcc/jhu-usc.edu/humanmethylation450/methylation/'\n",
      "filename = \"jhu-usc.edu_HNSC.HumanMethylation450.Level_1.1.0.0.tar.gz \"\n",
      "outFilePath = \"jhu-usc.edu_HNSC.HumanMethylation450.Level_1.1.0.0.csv\"\n",
      "\n",
      "response = urllib2.urlopen(url + filename)\n",
      "compressedFile = StringIO.StringIO()\n",
      "compressedFile.write(response.read())\n",
      "\n",
      "# Set the file's current position to the beginning\n",
      "# of the file so that gzip.GzipFile can read\n",
      "# its contents from the top.\n",
      "\n",
      "compressedFile.seek(0)\n",
      "\n",
      "decompressedFile = gzip.GzipFile(fileobj=compressedFile, mode='rb')\n",
      "\n",
      "with open(outFilePath, 'w') as outfile:\n",
      "    outfile.write(decompressedFile.read())"
     ],
     "language": "python",
     "metadata": {},
     "outputs": []
    },
    {
     "cell_type": "code",
     "collapsed": false,
     "input": [
      "def getlinks(url):\n",
      "    links = [link.get('href') for link in soup.find_all('a') if link.get('href') != None \n",
      "             and '1.1.' and '.tar.gz' in link.get('href')]\n",
      "    for i in links:\n",
      "        if '.md5' not in i:\n",
      "            print i"
     ],
     "language": "python",
     "metadata": {},
     "outputs": [],
     "prompt_number": 6
    },
    {
     "cell_type": "code",
     "collapsed": false,
     "input": [
      "t= getlinks(url)\n",
      "t"
     ],
     "language": "python",
     "metadata": {},
     "outputs": [
      {
       "output_type": "stream",
       "stream": "stdout",
       "text": [
        "jhu-usc.edu_HNSC.HumanMethylation450.Level_1.1.0.0.tar.gz\n",
        "jhu-usc.edu_HNSC.HumanMethylation450.Level_1.1.1.0.tar.gz\n",
        "jhu-usc.edu_HNSC.HumanMethylation450.Level_1.1.2.0.tar.gz\n",
        "jhu-usc.edu_HNSC.HumanMethylation450.Level_1.1.3.0.tar.gz\n",
        "jhu-usc.edu_HNSC.HumanMethylation450.Level_1.1.4.0.tar.gz\n",
        "jhu-usc.edu_HNSC.HumanMethylation450.Level_1.1.5.0.tar.gz\n",
        "jhu-usc.edu_HNSC.HumanMethylation450.Level_1.1.6.0.tar.gz\n",
        "jhu-usc.edu_HNSC.HumanMethylation450.Level_1.1.7.0.tar.gz\n",
        "jhu-usc.edu_HNSC.HumanMethylation450.Level_1.1.8.0.tar.gz\n",
        "jhu-usc.edu_HNSC.HumanMethylation450.Level_1.10.3.0.tar.gz\n",
        "jhu-usc.edu_HNSC.HumanMethylation450.Level_1.10.4.0.tar.gz\n",
        "jhu-usc.edu_HNSC.HumanMethylation450.Level_1.10.5.0.tar.gz\n",
        "jhu-usc.edu_HNSC.HumanMethylation450.Level_1.10.6.0.tar.gz\n",
        "jhu-usc.edu_HNSC.HumanMethylation450.Level_1.10.7.0.tar.gz\n",
        "jhu-usc.edu_HNSC.HumanMethylation450.Level_1.10.8.0.tar.gz\n",
        "jhu-usc.edu_HNSC.HumanMethylation450.Level_1.11.3.0.tar.gz\n",
        "jhu-usc.edu_HNSC.HumanMethylation450.Level_1.11.4.0.tar.gz\n",
        "jhu-usc.edu_HNSC.HumanMethylation450.Level_1.11.5.0.tar.gz\n",
        "jhu-usc.edu_HNSC.HumanMethylation450.Level_1.11.6.0.tar.gz\n",
        "jhu-usc.edu_HNSC.HumanMethylation450.Level_1.11.7.0.tar.gz\n",
        "jhu-usc.edu_HNSC.HumanMethylation450.Level_1.11.8.0.tar.gz\n",
        "jhu-usc.edu_HNSC.HumanMethylation450.Level_1.12.3.0.tar.gz\n",
        "jhu-usc.edu_HNSC.HumanMethylation450.Level_1.12.4.0.tar.gz\n",
        "jhu-usc.edu_HNSC.HumanMethylation450.Level_1.12.5.0.tar.gz\n",
        "jhu-usc.edu_HNSC.HumanMethylation450.Level_1.12.6.0.tar.gz\n",
        "jhu-usc.edu_HNSC.HumanMethylation450.Level_1.12.7.0.tar.gz\n",
        "jhu-usc.edu_HNSC.HumanMethylation450.Level_1.12.8.0.tar.gz\n",
        "jhu-usc.edu_HNSC.HumanMethylation450.Level_1.13.3.0.tar.gz\n",
        "jhu-usc.edu_HNSC.HumanMethylation450.Level_1.13.4.0.tar.gz\n",
        "jhu-usc.edu_HNSC.HumanMethylation450.Level_1.13.5.0.tar.gz\n",
        "jhu-usc.edu_HNSC.HumanMethylation450.Level_1.13.6.0.tar.gz\n",
        "jhu-usc.edu_HNSC.HumanMethylation450.Level_1.13.7.0.tar.gz\n",
        "jhu-usc.edu_HNSC.HumanMethylation450.Level_1.13.8.0.tar.gz\n",
        "jhu-usc.edu_HNSC.HumanMethylation450.Level_1.14.4.0.tar.gz\n",
        "jhu-usc.edu_HNSC.HumanMethylation450.Level_1.14.5.0.tar.gz\n",
        "jhu-usc.edu_HNSC.HumanMethylation450.Level_1.14.6.0.tar.gz\n",
        "jhu-usc.edu_HNSC.HumanMethylation450.Level_1.14.7.0.tar.gz\n",
        "jhu-usc.edu_HNSC.HumanMethylation450.Level_1.14.8.0.tar.gz\n",
        "jhu-usc.edu_HNSC.HumanMethylation450.Level_1.15.4.0.tar.gz\n",
        "jhu-usc.edu_HNSC.HumanMethylation450.Level_1.15.5.0.tar.gz\n",
        "jhu-usc.edu_HNSC.HumanMethylation450.Level_1.15.6.0.tar.gz\n",
        "jhu-usc.edu_HNSC.HumanMethylation450.Level_1.15.7.0.tar.gz\n",
        "jhu-usc.edu_HNSC.HumanMethylation450.Level_1.15.8.0.tar.gz\n",
        "jhu-usc.edu_HNSC.HumanMethylation450.Level_1.16.5.0.tar.gz\n",
        "jhu-usc.edu_HNSC.HumanMethylation450.Level_1.16.6.0.tar.gz\n",
        "jhu-usc.edu_HNSC.HumanMethylation450.Level_1.16.7.0.tar.gz\n",
        "jhu-usc.edu_HNSC.HumanMethylation450.Level_1.16.8.0.tar.gz\n",
        "jhu-usc.edu_HNSC.HumanMethylation450.Level_1.17.6.0.tar.gz\n",
        "jhu-usc.edu_HNSC.HumanMethylation450.Level_1.17.7.0.tar.gz\n",
        "jhu-usc.edu_HNSC.HumanMethylation450.Level_1.17.8.0.tar.gz\n",
        "jhu-usc.edu_HNSC.HumanMethylation450.Level_1.18.7.0.tar.gz\n",
        "jhu-usc.edu_HNSC.HumanMethylation450.Level_1.18.8.0.tar.gz\n",
        "jhu-usc.edu_HNSC.HumanMethylation450.Level_1.2.0.0.tar.gz\n",
        "jhu-usc.edu_HNSC.HumanMethylation450.Level_1.2.1.0.tar.gz\n",
        "jhu-usc.edu_HNSC.HumanMethylation450.Level_1.2.2.0.tar.gz\n",
        "jhu-usc.edu_HNSC.HumanMethylation450.Level_1.2.3.0.tar.gz\n",
        "jhu-usc.edu_HNSC.HumanMethylation450.Level_1.2.4.0.tar.gz\n",
        "jhu-usc.edu_HNSC.HumanMethylation450.Level_1.2.5.0.tar.gz\n",
        "jhu-usc.edu_HNSC.HumanMethylation450.Level_1.2.6.0.tar.gz\n",
        "jhu-usc.edu_HNSC.HumanMethylation450.Level_1.2.7.0.tar.gz\n",
        "jhu-usc.edu_HNSC.HumanMethylation450.Level_1.2.8.0.tar.gz\n",
        "jhu-usc.edu_HNSC.HumanMethylation450.Level_1.3.0.0.tar.gz\n",
        "jhu-usc.edu_HNSC.HumanMethylation450.Level_1.3.1.0.tar.gz\n",
        "jhu-usc.edu_HNSC.HumanMethylation450.Level_1.3.2.0.tar.gz\n",
        "jhu-usc.edu_HNSC.HumanMethylation450.Level_1.3.3.0.tar.gz\n",
        "jhu-usc.edu_HNSC.HumanMethylation450.Level_1.3.4.0.tar.gz\n",
        "jhu-usc.edu_HNSC.HumanMethylation450.Level_1.3.5.0.tar.gz\n",
        "jhu-usc.edu_HNSC.HumanMethylation450.Level_1.3.6.0.tar.gz\n",
        "jhu-usc.edu_HNSC.HumanMethylation450.Level_1.3.7.0.tar.gz\n",
        "jhu-usc.edu_HNSC.HumanMethylation450.Level_1.3.8.0.tar.gz\n",
        "jhu-usc.edu_HNSC.HumanMethylation450.Level_1.4.0.0.tar.gz\n",
        "jhu-usc.edu_HNSC.HumanMethylation450.Level_1.4.1.0.tar.gz\n",
        "jhu-usc.edu_HNSC.HumanMethylation450.Level_1.4.2.0.tar.gz\n",
        "jhu-usc.edu_HNSC.HumanMethylation450.Level_1.4.3.0.tar.gz\n",
        "jhu-usc.edu_HNSC.HumanMethylation450.Level_1.4.4.0.tar.gz\n",
        "jhu-usc.edu_HNSC.HumanMethylation450.Level_1.4.5.0.tar.gz\n",
        "jhu-usc.edu_HNSC.HumanMethylation450.Level_1.4.6.0.tar.gz\n",
        "jhu-usc.edu_HNSC.HumanMethylation450.Level_1.4.7.0.tar.gz\n",
        "jhu-usc.edu_HNSC.HumanMethylation450.Level_1.4.8.0.tar.gz\n",
        "jhu-usc.edu_HNSC.HumanMethylation450.Level_1.5.0.0.tar.gz\n",
        "jhu-usc.edu_HNSC.HumanMethylation450.Level_1.5.1.0.tar.gz\n",
        "jhu-usc.edu_HNSC.HumanMethylation450.Level_1.5.2.0.tar.gz\n",
        "jhu-usc.edu_HNSC.HumanMethylation450.Level_1.5.3.0.tar.gz\n",
        "jhu-usc.edu_HNSC.HumanMethylation450.Level_1.5.4.0.tar.gz\n",
        "jhu-usc.edu_HNSC.HumanMethylation450.Level_1.5.5.0.tar.gz\n",
        "jhu-usc.edu_HNSC.HumanMethylation450.Level_1.5.6.0.tar.gz\n",
        "jhu-usc.edu_HNSC.HumanMethylation450.Level_1.5.7.0.tar.gz\n",
        "jhu-usc.edu_HNSC.HumanMethylation450.Level_1.5.8.0.tar.gz\n",
        "jhu-usc.edu_HNSC.HumanMethylation450.Level_1.6.0.0.tar.gz\n",
        "jhu-usc.edu_HNSC.HumanMethylation450.Level_1.6.1.0.tar.gz\n",
        "jhu-usc.edu_HNSC.HumanMethylation450.Level_1.6.2.0.tar.gz\n",
        "jhu-usc.edu_HNSC.HumanMethylation450.Level_1.6.3.0.tar.gz\n",
        "jhu-usc.edu_HNSC.HumanMethylation450.Level_1.6.4.0.tar.gz\n",
        "jhu-usc.edu_HNSC.HumanMethylation450.Level_1.6.5.0.tar.gz\n",
        "jhu-usc.edu_HNSC.HumanMethylation450.Level_1.6.6.0.tar.gz\n",
        "jhu-usc.edu_HNSC.HumanMethylation450.Level_1.6.7.0.tar.gz\n",
        "jhu-usc.edu_HNSC.HumanMethylation450.Level_1.6.8.0.tar.gz\n",
        "jhu-usc.edu_HNSC.HumanMethylation450.Level_1.7.0.0.tar.gz\n",
        "jhu-usc.edu_HNSC.HumanMethylation450.Level_1.7.1.0.tar.gz\n",
        "jhu-usc.edu_HNSC.HumanMethylation450.Level_1.7.2.0.tar.gz\n",
        "jhu-usc.edu_HNSC.HumanMethylation450.Level_1.7.3.0.tar.gz\n",
        "jhu-usc.edu_HNSC.HumanMethylation450.Level_1.7.4.0.tar.gz\n",
        "jhu-usc.edu_HNSC.HumanMethylation450.Level_1.7.5.0.tar.gz\n",
        "jhu-usc.edu_HNSC.HumanMethylation450.Level_1.7.6.0.tar.gz\n",
        "jhu-usc.edu_HNSC.HumanMethylation450.Level_1.7.7.0.tar.gz\n",
        "jhu-usc.edu_HNSC.HumanMethylation450.Level_1.7.8.0.tar.gz\n",
        "jhu-usc.edu_HNSC.HumanMethylation450.Level_1.8.0.0.tar.gz\n",
        "jhu-usc.edu_HNSC.HumanMethylation450.Level_1.8.1.0.tar.gz\n",
        "jhu-usc.edu_HNSC.HumanMethylation450.Level_1.8.2.0.tar.gz\n",
        "jhu-usc.edu_HNSC.HumanMethylation450.Level_1.8.3.0.tar.gz\n",
        "jhu-usc.edu_HNSC.HumanMethylation450.Level_1.1.1.0.tar.gz\n",
        "jhu-usc.edu_HNSC.HumanMethylation450.Level_1.1.2.0.tar.gz\n",
        "jhu-usc.edu_HNSC.HumanMethylation450.Level_1.1.3.0.tar.gz\n",
        "jhu-usc.edu_HNSC.HumanMethylation450.Level_1.1.4.0.tar.gz\n",
        "jhu-usc.edu_HNSC.HumanMethylation450.Level_1.1.5.0.tar.gz\n",
        "jhu-usc.edu_HNSC.HumanMethylation450.Level_1.1.6.0.tar.gz\n",
        "jhu-usc.edu_HNSC.HumanMethylation450.Level_1.1.7.0.tar.gz\n",
        "jhu-usc.edu_HNSC.HumanMethylation450.Level_1.1.8.0.tar.gz\n",
        "jhu-usc.edu_HNSC.HumanMethylation450.Level_1.10.3.0.tar.gz\n",
        "jhu-usc.edu_HNSC.HumanMethylation450.Level_1.10.4.0.tar.gz\n",
        "jhu-usc.edu_HNSC.HumanMethylation450.Level_1.10.5.0.tar.gz\n",
        "jhu-usc.edu_HNSC.HumanMethylation450.Level_1.10.6.0.tar.gz\n",
        "jhu-usc.edu_HNSC.HumanMethylation450.Level_1.10.7.0.tar.gz\n",
        "jhu-usc.edu_HNSC.HumanMethylation450.Level_1.10.8.0.tar.gz\n",
        "jhu-usc.edu_HNSC.HumanMethylation450.Level_1.11.3.0.tar.gz\n",
        "jhu-usc.edu_HNSC.HumanMethylation450.Level_1.11.4.0.tar.gz\n",
        "jhu-usc.edu_HNSC.HumanMethylation450.Level_1.11.5.0.tar.gz\n",
        "jhu-usc.edu_HNSC.HumanMethylation450.Level_1.11.6.0.tar.gz\n",
        "jhu-usc.edu_HNSC.HumanMethylation450.Level_1.11.7.0.tar.gz\n",
        "jhu-usc.edu_HNSC.HumanMethylation450.Level_1.11.8.0.tar.gz\n",
        "jhu-usc.edu_HNSC.HumanMethylation450.Level_1.12.3.0.tar.gz\n",
        "jhu-usc.edu_HNSC.HumanMethylation450.Level_1.12.4.0.tar.gz\n",
        "jhu-usc.edu_HNSC.HumanMethylation450.Level_1.12.5.0.tar.gz\n",
        "jhu-usc.edu_HNSC.HumanMethylation450.Level_1.12.6.0.tar.gz\n",
        "jhu-usc.edu_HNSC.HumanMethylation450.Level_1.12.7.0.tar.gz\n",
        "jhu-usc.edu_HNSC.HumanMethylation450.Level_1.12.8.0.tar.gz\n",
        "jhu-usc.edu_HNSC.HumanMethylation450.Level_1.13.3.0.tar.gz\n",
        "jhu-usc.edu_HNSC.HumanMethylation450.Level_1.13.4.0.tar.gz\n",
        "jhu-usc.edu_HNSC.HumanMethylation450.Level_1.13.5.0.tar.gz\n",
        "jhu-usc.edu_HNSC.HumanMethylation450.Level_1.13.6.0.tar.gz\n",
        "jhu-usc.edu_HNSC.HumanMethylation450.Level_1.13.7.0.tar.gz\n",
        "jhu-usc.edu_HNSC.HumanMethylation450.Level_1.13.8.0.tar.gz\n"
       ]
      }
     ],
     "prompt_number": 7
    },
    {
     "cell_type": "code",
     "collapsed": false,
     "input": [
      "links = [link.get('href') for link in soup.find_all('a') \n",
      "                          if (link.get('href') != None )\n",
      "                           and '1.1.' in link.get('href')\n",
      "                           and '.tar.gz' in link.get('href')\n",
      "                           and '.md5' not in link.get('href')]\n",
      "links"
     ],
     "language": "python",
     "metadata": {},
     "outputs": [
      {
       "metadata": {},
       "output_type": "pyout",
       "prompt_number": 8,
       "text": [
        "['jhu-usc.edu_HNSC.HumanMethylation450.Level_1.1.0.0.tar.gz',\n",
        " 'jhu-usc.edu_HNSC.HumanMethylation450.Level_1.1.1.0.tar.gz',\n",
        " 'jhu-usc.edu_HNSC.HumanMethylation450.Level_1.1.2.0.tar.gz',\n",
        " 'jhu-usc.edu_HNSC.HumanMethylation450.Level_1.1.3.0.tar.gz',\n",
        " 'jhu-usc.edu_HNSC.HumanMethylation450.Level_1.1.4.0.tar.gz',\n",
        " 'jhu-usc.edu_HNSC.HumanMethylation450.Level_1.1.5.0.tar.gz',\n",
        " 'jhu-usc.edu_HNSC.HumanMethylation450.Level_1.1.6.0.tar.gz',\n",
        " 'jhu-usc.edu_HNSC.HumanMethylation450.Level_1.1.7.0.tar.gz',\n",
        " 'jhu-usc.edu_HNSC.HumanMethylation450.Level_1.1.8.0.tar.gz',\n",
        " 'jhu-usc.edu_HNSC.HumanMethylation450.Level_1.1.1.0.tar.gz',\n",
        " 'jhu-usc.edu_HNSC.HumanMethylation450.Level_1.1.2.0.tar.gz',\n",
        " 'jhu-usc.edu_HNSC.HumanMethylation450.Level_1.1.3.0.tar.gz',\n",
        " 'jhu-usc.edu_HNSC.HumanMethylation450.Level_1.1.4.0.tar.gz',\n",
        " 'jhu-usc.edu_HNSC.HumanMethylation450.Level_1.1.5.0.tar.gz',\n",
        " 'jhu-usc.edu_HNSC.HumanMethylation450.Level_1.1.6.0.tar.gz',\n",
        " 'jhu-usc.edu_HNSC.HumanMethylation450.Level_1.1.7.0.tar.gz',\n",
        " 'jhu-usc.edu_HNSC.HumanMethylation450.Level_1.1.8.0.tar.gz']"
       ]
      }
     ],
     "prompt_number": 8
    },
    {
     "cell_type": "code",
     "collapsed": false,
     "input": [
      "os.system('tar -xvf {}'.format(download_file)\n",
      "#os.system(\"wget {          }\".)\n",
      "#os.system('tar -xvf {}'.format(download_file)       "
     ],
     "language": "python",
     "metadata": {},
     "outputs": [
      {
       "ename": "SyntaxError",
       "evalue": "invalid syntax (<ipython-input-23-883e0f8cd350>, line 3)",
       "output_type": "pyerr",
       "traceback": [
        "\u001b[1;36m  File \u001b[1;32m\"<ipython-input-23-883e0f8cd350>\"\u001b[1;36m, line \u001b[1;32m3\u001b[0m\n\u001b[1;33m    #os.system('tar -xvf {}'.format(download_file)\u001b[0m\n\u001b[1;37m                                                         ^\u001b[0m\n\u001b[1;31mSyntaxError\u001b[0m\u001b[1;31m:\u001b[0m invalid syntax\n"
       ]
      }
     ],
     "prompt_number": 23
    },
    {
     "cell_type": "code",
     "collapsed": false,
     "input": [
      "os.system(\"wget {url + download_file}\")"
     ],
     "language": "python",
     "metadata": {},
     "outputs": [
      {
       "metadata": {},
       "output_type": "pyout",
       "prompt_number": 27,
       "text": [
        "1024"
       ]
      }
     ],
     "prompt_number": 27
    },
    {
     "cell_type": "code",
     "collapsed": false,
     "input": [
      "os.system('tar -xvf {}'.format(download_file))"
     ],
     "language": "python",
     "metadata": {},
     "outputs": [
      {
       "metadata": {},
       "output_type": "pyout",
       "prompt_number": 28,
       "text": [
        "512"
       ]
      }
     ],
     "prompt_number": 28
    },
    {
     "cell_type": "code",
     "collapsed": false,
     "input": [
      "linkss = [link.get('href') for link in soup.find_all('a') if link.get('href') != None \n",
      "             and '1.1.' and not 'md5' and '.tar.gz' in link.get('href')]\n",
      "linkss"
     ],
     "language": "python",
     "metadata": {},
     "outputs": [
      {
       "metadata": {},
       "output_type": "pyout",
       "prompt_number": 9,
       "text": [
        "[]"
       ]
      }
     ],
     "prompt_number": 9
    },
    {
     "cell_type": "code",
     "collapsed": false,
     "input": [
      "for i, download_file in enumerate(links):\n",
      "    print \"Downloading file {}\".format(i + 1)\n",
      "    response = urllib2.urlopen(url + download_file)\n",
      "    compressedFile = StringIO.StringIO()\n",
      "    compressedFile.write(response.read())\n",
      "    compressedFile.seek(0)\n",
      "    decompressedFile = gzip.GzipFile(fileobj=compressedFile, mode='rb')\n",
      "    \n",
      "    with open(download_file.replace(\".gz\", \"\"), 'w') as datapath:\n",
      "        datapath.write(decompressedFile.read())"
     ],
     "language": "python",
     "metadata": {},
     "outputs": [
      {
       "output_type": "stream",
       "stream": "stdout",
       "text": [
        "Downloading file 1\n",
        "Downloading file 2"
       ]
      },
      {
       "output_type": "stream",
       "stream": "stdout",
       "text": [
        "\n",
        "Downloading file 3"
       ]
      },
      {
       "output_type": "stream",
       "stream": "stdout",
       "text": [
        "\n",
        "Downloading file 4"
       ]
      },
      {
       "output_type": "stream",
       "stream": "stdout",
       "text": [
        "\n",
        "Downloading file 5"
       ]
      },
      {
       "output_type": "stream",
       "stream": "stdout",
       "text": [
        "\n",
        "Downloading file 6"
       ]
      },
      {
       "output_type": "stream",
       "stream": "stdout",
       "text": [
        "\n",
        "Downloading file 7"
       ]
      },
      {
       "output_type": "stream",
       "stream": "stdout",
       "text": [
        "\n",
        "Downloading file 8"
       ]
      },
      {
       "output_type": "stream",
       "stream": "stdout",
       "text": [
        "\n",
        "Downloading file 9"
       ]
      },
      {
       "output_type": "stream",
       "stream": "stdout",
       "text": [
        "\n",
        "Downloading file 10"
       ]
      },
      {
       "output_type": "stream",
       "stream": "stdout",
       "text": [
        "\n",
        "Downloading file 11"
       ]
      },
      {
       "output_type": "stream",
       "stream": "stdout",
       "text": [
        "\n",
        "Downloading file 12"
       ]
      },
      {
       "output_type": "stream",
       "stream": "stdout",
       "text": [
        "\n",
        "Downloading file 13"
       ]
      },
      {
       "output_type": "stream",
       "stream": "stdout",
       "text": [
        "\n",
        "Downloading file 14"
       ]
      },
      {
       "output_type": "stream",
       "stream": "stdout",
       "text": [
        "\n",
        "Downloading file 15"
       ]
      },
      {
       "output_type": "stream",
       "stream": "stdout",
       "text": [
        "\n",
        "Downloading file 16"
       ]
      },
      {
       "output_type": "stream",
       "stream": "stdout",
       "text": [
        "\n",
        "Downloading file 17"
       ]
      },
      {
       "output_type": "stream",
       "stream": "stdout",
       "text": [
        "\n"
       ]
      }
     ],
     "prompt_number": 20
    },
    {
     "cell_type": "code",
     "collapsed": false,
     "input": [
      "mad = {}\n",
      "for thing in tarfiles:\n",
      "    mad[thing] = pd.read_table(thing)"
     ],
     "language": "python",
     "metadata": {},
     "outputs": []
    },
    {
     "cell_type": "code",
     "collapsed": false,
     "input": [
      "tarfiles = getlinks()\n",
      "tarfiles"
     ],
     "language": "python",
     "metadata": {},
     "outputs": []
    },
    {
     "cell_type": "code",
     "collapsed": false,
     "input": [
      "def getmd5():\n",
      "    md5links = [md5link.get('href') for md5link in soup.find_all('a')\n",
      "                if md5link.get('href') != None and '1.1.'\n",
      "                and 'tar.gz.md5' in md5link.get('href')]\n",
      "    for i in md5links:\n",
      "        print i"
     ],
     "language": "python",
     "metadata": {},
     "outputs": [],
     "prompt_number": 10
    },
    {
     "cell_type": "code",
     "collapsed": false,
     "input": [
      "md5files = getmd5()\n",
      "md5files"
     ],
     "language": "python",
     "metadata": {},
     "outputs": [
      {
       "output_type": "stream",
       "stream": "stdout",
       "text": [
        "jhu-usc.edu_HNSC.HumanMethylation450.Level_1.1.0.0.tar.gz.md5\n",
        "jhu-usc.edu_HNSC.HumanMethylation450.Level_1.1.1.0.tar.gz.md5\n",
        "jhu-usc.edu_HNSC.HumanMethylation450.Level_1.1.2.0.tar.gz.md5\n",
        "jhu-usc.edu_HNSC.HumanMethylation450.Level_1.1.3.0.tar.gz.md5\n",
        "jhu-usc.edu_HNSC.HumanMethylation450.Level_1.1.4.0.tar.gz.md5\n",
        "jhu-usc.edu_HNSC.HumanMethylation450.Level_1.1.5.0.tar.gz.md5\n",
        "jhu-usc.edu_HNSC.HumanMethylation450.Level_1.1.6.0.tar.gz.md5\n",
        "jhu-usc.edu_HNSC.HumanMethylation450.Level_1.1.7.0.tar.gz.md5\n",
        "jhu-usc.edu_HNSC.HumanMethylation450.Level_1.1.8.0.tar.gz.md5\n",
        "jhu-usc.edu_HNSC.HumanMethylation450.Level_1.10.3.0.tar.gz.md5\n",
        "jhu-usc.edu_HNSC.HumanMethylation450.Level_1.10.4.0.tar.gz.md5\n",
        "jhu-usc.edu_HNSC.HumanMethylation450.Level_1.10.5.0.tar.gz.md5\n",
        "jhu-usc.edu_HNSC.HumanMethylation450.Level_1.10.6.0.tar.gz.md5\n",
        "jhu-usc.edu_HNSC.HumanMethylation450.Level_1.10.7.0.tar.gz.md5\n",
        "jhu-usc.edu_HNSC.HumanMethylation450.Level_1.10.8.0.tar.gz.md5\n",
        "jhu-usc.edu_HNSC.HumanMethylation450.Level_1.11.3.0.tar.gz.md5\n",
        "jhu-usc.edu_HNSC.HumanMethylation450.Level_1.11.4.0.tar.gz.md5\n",
        "jhu-usc.edu_HNSC.HumanMethylation450.Level_1.11.5.0.tar.gz.md5\n",
        "jhu-usc.edu_HNSC.HumanMethylation450.Level_1.11.6.0.tar.gz.md5\n",
        "jhu-usc.edu_HNSC.HumanMethylation450.Level_1.11.7.0.tar.gz.md5\n",
        "jhu-usc.edu_HNSC.HumanMethylation450.Level_1.11.8.0.tar.gz.md5\n",
        "jhu-usc.edu_HNSC.HumanMethylation450.Level_1.12.3.0.tar.gz.md5\n",
        "jhu-usc.edu_HNSC.HumanMethylation450.Level_1.12.4.0.tar.gz.md5\n",
        "jhu-usc.edu_HNSC.HumanMethylation450.Level_1.12.5.0.tar.gz.md5\n",
        "jhu-usc.edu_HNSC.HumanMethylation450.Level_1.12.6.0.tar.gz.md5\n",
        "jhu-usc.edu_HNSC.HumanMethylation450.Level_1.12.7.0.tar.gz.md5\n",
        "jhu-usc.edu_HNSC.HumanMethylation450.Level_1.12.8.0.tar.gz.md5\n",
        "jhu-usc.edu_HNSC.HumanMethylation450.Level_1.13.3.0.tar.gz.md5\n",
        "jhu-usc.edu_HNSC.HumanMethylation450.Level_1.13.4.0.tar.gz.md5\n",
        "jhu-usc.edu_HNSC.HumanMethylation450.Level_1.13.5.0.tar.gz.md5\n",
        "jhu-usc.edu_HNSC.HumanMethylation450.Level_1.13.6.0.tar.gz.md5\n",
        "jhu-usc.edu_HNSC.HumanMethylation450.Level_1.13.7.0.tar.gz.md5\n",
        "jhu-usc.edu_HNSC.HumanMethylation450.Level_1.13.8.0.tar.gz.md5\n",
        "jhu-usc.edu_HNSC.HumanMethylation450.Level_1.14.4.0.tar.gz.md5\n",
        "jhu-usc.edu_HNSC.HumanMethylation450.Level_1.14.5.0.tar.gz.md5\n",
        "jhu-usc.edu_HNSC.HumanMethylation450.Level_1.14.6.0.tar.gz.md5\n",
        "jhu-usc.edu_HNSC.HumanMethylation450.Level_1.14.7.0.tar.gz.md5\n",
        "jhu-usc.edu_HNSC.HumanMethylation450.Level_1.14.8.0.tar.gz.md5\n",
        "jhu-usc.edu_HNSC.HumanMethylation450.Level_1.15.4.0.tar.gz.md5\n",
        "jhu-usc.edu_HNSC.HumanMethylation450.Level_1.15.5.0.tar.gz.md5\n",
        "jhu-usc.edu_HNSC.HumanMethylation450.Level_1.15.6.0.tar.gz.md5\n",
        "jhu-usc.edu_HNSC.HumanMethylation450.Level_1.15.7.0.tar.gz.md5\n",
        "jhu-usc.edu_HNSC.HumanMethylation450.Level_1.15.8.0.tar.gz.md5\n",
        "jhu-usc.edu_HNSC.HumanMethylation450.Level_1.16.5.0.tar.gz.md5\n",
        "jhu-usc.edu_HNSC.HumanMethylation450.Level_1.16.6.0.tar.gz.md5\n",
        "jhu-usc.edu_HNSC.HumanMethylation450.Level_1.16.7.0.tar.gz.md5\n",
        "jhu-usc.edu_HNSC.HumanMethylation450.Level_1.16.8.0.tar.gz.md5\n",
        "jhu-usc.edu_HNSC.HumanMethylation450.Level_1.17.6.0.tar.gz.md5\n",
        "jhu-usc.edu_HNSC.HumanMethylation450.Level_1.17.7.0.tar.gz.md5\n",
        "jhu-usc.edu_HNSC.HumanMethylation450.Level_1.17.8.0.tar.gz.md5\n",
        "jhu-usc.edu_HNSC.HumanMethylation450.Level_1.18.7.0.tar.gz.md5\n",
        "jhu-usc.edu_HNSC.HumanMethylation450.Level_1.18.8.0.tar.gz.md5\n",
        "jhu-usc.edu_HNSC.HumanMethylation450.Level_1.2.0.0.tar.gz.md5\n",
        "jhu-usc.edu_HNSC.HumanMethylation450.Level_1.2.1.0.tar.gz.md5\n",
        "jhu-usc.edu_HNSC.HumanMethylation450.Level_1.2.2.0.tar.gz.md5\n",
        "jhu-usc.edu_HNSC.HumanMethylation450.Level_1.2.3.0.tar.gz.md5\n",
        "jhu-usc.edu_HNSC.HumanMethylation450.Level_1.2.4.0.tar.gz.md5\n",
        "jhu-usc.edu_HNSC.HumanMethylation450.Level_1.2.5.0.tar.gz.md5\n",
        "jhu-usc.edu_HNSC.HumanMethylation450.Level_1.2.6.0.tar.gz.md5\n",
        "jhu-usc.edu_HNSC.HumanMethylation450.Level_1.2.7.0.tar.gz.md5\n",
        "jhu-usc.edu_HNSC.HumanMethylation450.Level_1.2.8.0.tar.gz.md5\n",
        "jhu-usc.edu_HNSC.HumanMethylation450.Level_1.3.0.0.tar.gz.md5\n",
        "jhu-usc.edu_HNSC.HumanMethylation450.Level_1.3.1.0.tar.gz.md5\n",
        "jhu-usc.edu_HNSC.HumanMethylation450.Level_1.3.2.0.tar.gz.md5\n",
        "jhu-usc.edu_HNSC.HumanMethylation450.Level_1.3.3.0.tar.gz.md5\n",
        "jhu-usc.edu_HNSC.HumanMethylation450.Level_1.3.4.0.tar.gz.md5\n",
        "jhu-usc.edu_HNSC.HumanMethylation450.Level_1.3.5.0.tar.gz.md5\n",
        "jhu-usc.edu_HNSC.HumanMethylation450.Level_1.3.6.0.tar.gz.md5\n",
        "jhu-usc.edu_HNSC.HumanMethylation450.Level_1.3.7.0.tar.gz.md5\n",
        "jhu-usc.edu_HNSC.HumanMethylation450.Level_1.3.8.0.tar.gz.md5\n",
        "jhu-usc.edu_HNSC.HumanMethylation450.Level_1.4.0.0.tar.gz.md5\n",
        "jhu-usc.edu_HNSC.HumanMethylation450.Level_1.4.1.0.tar.gz.md5\n",
        "jhu-usc.edu_HNSC.HumanMethylation450.Level_1.4.2.0.tar.gz.md5\n",
        "jhu-usc.edu_HNSC.HumanMethylation450.Level_1.4.3.0.tar.gz.md5\n",
        "jhu-usc.edu_HNSC.HumanMethylation450.Level_1.4.4.0.tar.gz.md5\n",
        "jhu-usc.edu_HNSC.HumanMethylation450.Level_1.4.5.0.tar.gz.md5\n",
        "jhu-usc.edu_HNSC.HumanMethylation450.Level_1.4.6.0.tar.gz.md5\n",
        "jhu-usc.edu_HNSC.HumanMethylation450.Level_1.4.7.0.tar.gz.md5\n",
        "jhu-usc.edu_HNSC.HumanMethylation450.Level_1.4.8.0.tar.gz.md5\n",
        "jhu-usc.edu_HNSC.HumanMethylation450.Level_1.5.0.0.tar.gz.md5\n",
        "jhu-usc.edu_HNSC.HumanMethylation450.Level_1.5.1.0.tar.gz.md5\n",
        "jhu-usc.edu_HNSC.HumanMethylation450.Level_1.5.2.0.tar.gz.md5\n",
        "jhu-usc.edu_HNSC.HumanMethylation450.Level_1.5.3.0.tar.gz.md5\n",
        "jhu-usc.edu_HNSC.HumanMethylation450.Level_1.5.4.0.tar.gz.md5\n",
        "jhu-usc.edu_HNSC.HumanMethylation450.Level_1.5.5.0.tar.gz.md5\n",
        "jhu-usc.edu_HNSC.HumanMethylation450.Level_1.5.6.0.tar.gz.md5\n",
        "jhu-usc.edu_HNSC.HumanMethylation450.Level_1.5.7.0.tar.gz.md5\n",
        "jhu-usc.edu_HNSC.HumanMethylation450.Level_1.5.8.0.tar.gz.md5\n",
        "jhu-usc.edu_HNSC.HumanMethylation450.Level_1.6.0.0.tar.gz.md5\n",
        "jhu-usc.edu_HNSC.HumanMethylation450.Level_1.6.1.0.tar.gz.md5\n",
        "jhu-usc.edu_HNSC.HumanMethylation450.Level_1.6.2.0.tar.gz.md5\n",
        "jhu-usc.edu_HNSC.HumanMethylation450.Level_1.6.3.0.tar.gz.md5\n",
        "jhu-usc.edu_HNSC.HumanMethylation450.Level_1.6.4.0.tar.gz.md5\n",
        "jhu-usc.edu_HNSC.HumanMethylation450.Level_1.6.5.0.tar.gz.md5\n",
        "jhu-usc.edu_HNSC.HumanMethylation450.Level_1.6.6.0.tar.gz.md5\n",
        "jhu-usc.edu_HNSC.HumanMethylation450.Level_1.6.7.0.tar.gz.md5\n",
        "jhu-usc.edu_HNSC.HumanMethylation450.Level_1.6.8.0.tar.gz.md5\n",
        "jhu-usc.edu_HNSC.HumanMethylation450.Level_1.7.0.0.tar.gz.md5\n",
        "jhu-usc.edu_HNSC.HumanMethylation450.Level_1.7.1.0.tar.gz.md5\n",
        "jhu-usc.edu_HNSC.HumanMethylation450.Level_1.7.2.0.tar.gz.md5\n",
        "jhu-usc.edu_HNSC.HumanMethylation450.Level_1.7.3.0.tar.gz.md5\n",
        "jhu-usc.edu_HNSC.HumanMethylation450.Level_1.7.4.0.tar.gz.md5\n",
        "jhu-usc.edu_HNSC.HumanMethylation450.Level_1.7.5.0.tar.gz.md5\n",
        "jhu-usc.edu_HNSC.HumanMethylation450.Level_1.7.6.0.tar.gz.md5\n",
        "jhu-usc.edu_HNSC.HumanMethylation450.Level_1.7.7.0.tar.gz.md5\n",
        "jhu-usc.edu_HNSC.HumanMethylation450.Level_1.7.8.0.tar.gz.md5\n",
        "jhu-usc.edu_HNSC.HumanMethylation450.Level_1.8.0.0.tar.gz.md5\n",
        "jhu-usc.edu_HNSC.HumanMethylation450.Level_1.8.1.0.tar.gz.md5\n",
        "jhu-usc.edu_HNSC.HumanMethylation450.Level_1.8.2.0.tar.gz.md5\n",
        "jhu-usc.edu_HNSC.HumanMethylation450.Level_1.1.0.0.tar.gz.md5\n",
        "jhu-usc.edu_HNSC.HumanMethylation450.Level_1.1.1.0.tar.gz.md5\n",
        "jhu-usc.edu_HNSC.HumanMethylation450.Level_1.1.2.0.tar.gz.md5\n",
        "jhu-usc.edu_HNSC.HumanMethylation450.Level_1.1.3.0.tar.gz.md5\n",
        "jhu-usc.edu_HNSC.HumanMethylation450.Level_1.1.4.0.tar.gz.md5\n",
        "jhu-usc.edu_HNSC.HumanMethylation450.Level_1.1.5.0.tar.gz.md5\n",
        "jhu-usc.edu_HNSC.HumanMethylation450.Level_1.1.6.0.tar.gz.md5\n",
        "jhu-usc.edu_HNSC.HumanMethylation450.Level_1.1.7.0.tar.gz.md5\n",
        "jhu-usc.edu_HNSC.HumanMethylation450.Level_1.1.8.0.tar.gz.md5\n",
        "jhu-usc.edu_HNSC.HumanMethylation450.Level_1.10.3.0.tar.gz.md5\n",
        "jhu-usc.edu_HNSC.HumanMethylation450.Level_1.10.4.0.tar.gz.md5\n",
        "jhu-usc.edu_HNSC.HumanMethylation450.Level_1.10.5.0.tar.gz.md5\n",
        "jhu-usc.edu_HNSC.HumanMethylation450.Level_1.10.6.0.tar.gz.md5\n",
        "jhu-usc.edu_HNSC.HumanMethylation450.Level_1.10.7.0.tar.gz.md5\n",
        "jhu-usc.edu_HNSC.HumanMethylation450.Level_1.10.8.0.tar.gz.md5\n",
        "jhu-usc.edu_HNSC.HumanMethylation450.Level_1.11.3.0.tar.gz.md5\n",
        "jhu-usc.edu_HNSC.HumanMethylation450.Level_1.11.4.0.tar.gz.md5\n",
        "jhu-usc.edu_HNSC.HumanMethylation450.Level_1.11.5.0.tar.gz.md5\n",
        "jhu-usc.edu_HNSC.HumanMethylation450.Level_1.11.6.0.tar.gz.md5\n",
        "jhu-usc.edu_HNSC.HumanMethylation450.Level_1.11.7.0.tar.gz.md5\n",
        "jhu-usc.edu_HNSC.HumanMethylation450.Level_1.11.8.0.tar.gz.md5\n",
        "jhu-usc.edu_HNSC.HumanMethylation450.Level_1.12.3.0.tar.gz.md5\n",
        "jhu-usc.edu_HNSC.HumanMethylation450.Level_1.12.4.0.tar.gz.md5\n",
        "jhu-usc.edu_HNSC.HumanMethylation450.Level_1.12.5.0.tar.gz.md5\n",
        "jhu-usc.edu_HNSC.HumanMethylation450.Level_1.12.6.0.tar.gz.md5\n",
        "jhu-usc.edu_HNSC.HumanMethylation450.Level_1.12.7.0.tar.gz.md5\n",
        "jhu-usc.edu_HNSC.HumanMethylation450.Level_1.12.8.0.tar.gz.md5\n",
        "jhu-usc.edu_HNSC.HumanMethylation450.Level_1.13.3.0.tar.gz.md5\n",
        "jhu-usc.edu_HNSC.HumanMethylation450.Level_1.13.4.0.tar.gz.md5\n",
        "jhu-usc.edu_HNSC.HumanMethylation450.Level_1.13.5.0.tar.gz.md5\n",
        "jhu-usc.edu_HNSC.HumanMethylation450.Level_1.13.6.0.tar.gz.md5\n",
        "jhu-usc.edu_HNSC.HumanMethylation450.Level_1.13.7.0.tar.gz.md5\n"
       ]
      }
     ],
     "prompt_number": 11
    },
    {
     "cell_type": "code",
     "collapsed": false,
     "input": [],
     "language": "python",
     "metadata": {},
     "outputs": []
    }
   ],
   "metadata": {}
  }
 ]
}