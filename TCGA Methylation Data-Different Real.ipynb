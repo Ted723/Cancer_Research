{
 "metadata": {
  "kernelspec": {
   "codemirror_mode": {
    "name": "ipython",
    "version": 2
   },
   "display_name": "IPython (Python 2)",
   "language": "python",
   "name": "python2"
  },
  "name": "",
  "signature": "sha256:a57d6608f79c302214697632fd1b82738e4a1db04c4f2099ac69dcc28803aac4"
 },
 "nbformat": 3,
 "nbformat_minor": 0,
 "worksheets": [
  {
   "cells": [
    {
     "cell_type": "heading",
     "level": 1,
     "metadata": {},
     "source": [
      "Get TCGA Methylation Data"
     ]
    },
    {
     "cell_type": "markdown",
     "metadata": {},
     "source": [
      "<b>Imports</b>"
     ]
    },
    {
     "cell_type": "code",
     "collapsed": false,
     "input": [
      "from bs4 import BeautifulSoup\n",
      "import urllib2\n",
      "from urllib2 import HTTPError\n",
      "import pandas as pd\n",
      "import os as os\n",
      "import StringIO\n",
      "import gzip"
     ],
     "language": "python",
     "metadata": {},
     "outputs": [],
     "prompt_number": 1
    },
    {
     "cell_type": "markdown",
     "metadata": {},
     "source": [
      "<b>Directory Currently In:</b>"
     ]
    },
    {
     "cell_type": "code",
     "collapsed": false,
     "input": [
      "pwd"
     ],
     "language": "python",
     "metadata": {},
     "outputs": [
      {
       "metadata": {},
       "output_type": "pyout",
       "prompt_number": 2,
       "text": [
        "u'/cellar/users/talejand/Documents/IdekerLab/BackUp'"
       ]
      }
     ],
     "prompt_number": 2
    },
    {
     "cell_type": "code",
     "collapsed": false,
     "input": [
      "ls"
     ],
     "language": "python",
     "metadata": {},
     "outputs": [
      {
       "output_type": "stream",
       "stream": "stdout",
       "text": [
        "\u001b[0m\u001b[01;34mBLCA_Meth_Data\u001b[0m/\r\n",
        "\u001b[01;34mBRCA_Meth_Data\u001b[0m/\r\n",
        "filess\r\n",
        "\u001b[01;34mHNSC_Meth_Data\u001b[0m/\r\n",
        "jhu-usc.edu_CESC.HumanMethylation450.Level_1.1.0.0.tar\r\n",
        "jhu-usc.edu_CESC.HumanMethylation450.Level_1.10.2.0.tar\r\n",
        "jhu-usc.edu_CESC.HumanMethylation450.Level_1.10.3.0.tar\r\n",
        "jhu-usc.edu_CESC.HumanMethylation450.Level_1.10.4.0.tar\r\n",
        "jhu-usc.edu_CESC.HumanMethylation450.Level_1.10.5.0.tar\r\n",
        "jhu-usc.edu_CESC.HumanMethylation450.Level_1.10.6.0.tar\r\n",
        "jhu-usc.edu_CESC.HumanMethylation450.Level_1.10.7.0.tar\r\n",
        "jhu-usc.edu_CESC.HumanMethylation450.Level_1.10.8.0.tar\r\n",
        "jhu-usc.edu_CESC.HumanMethylation450.Level_1.10.9.0.tar\r\n",
        "jhu-usc.edu_CESC.HumanMethylation450.Level_1.1.1.0.tar\r\n",
        "jhu-usc.edu_CESC.HumanMethylation450.Level_1.11.3.0.tar\r\n",
        "jhu-usc.edu_CESC.HumanMethylation450.Level_1.11.4.0.tar\r\n",
        "jhu-usc.edu_CESC.HumanMethylation450.Level_1.11.5.0.tar\r\n",
        "jhu-usc.edu_CESC.HumanMethylation450.Level_1.11.6.0.tar\r\n",
        "jhu-usc.edu_CESC.HumanMethylation450.Level_1.11.7.0.tar\r\n",
        "jhu-usc.edu_CESC.HumanMethylation450.Level_1.11.8.0.tar\r\n",
        "jhu-usc.edu_CESC.HumanMethylation450.Level_1.11.9.0.tar\r\n",
        "jhu-usc.edu_CESC.HumanMethylation450.Level_1.1.2.0.tar\r\n",
        "jhu-usc.edu_CESC.HumanMethylation450.Level_1.12.3.0.tar\r\n",
        "jhu-usc.edu_CESC.HumanMethylation450.Level_1.12.4.0.tar\r\n",
        "jhu-usc.edu_CESC.HumanMethylation450.Level_1.12.5.0.tar\r\n",
        "jhu-usc.edu_CESC.HumanMethylation450.Level_1.12.6.0.tar\r\n",
        "jhu-usc.edu_CESC.HumanMethylation450.Level_1.12.7.0.tar\r\n",
        "jhu-usc.edu_CESC.HumanMethylation450.Level_1.12.8.0.tar\r\n",
        "jhu-usc.edu_CESC.HumanMethylation450.Level_1.12.9.0.tar\r\n",
        "jhu-usc.edu_CESC.HumanMethylation450.Level_1.1.3.0.tar\r\n",
        "jhu-usc.edu_CESC.HumanMethylation450.Level_1.13.4.0.tar\r\n",
        "jhu-usc.edu_CESC.HumanMethylation450.Level_1.13.5.0.tar\r\n",
        "jhu-usc.edu_CESC.HumanMethylation450.Level_1.13.6.0.tar\r\n",
        "jhu-usc.edu_CESC.HumanMethylation450.Level_1.13.7.0.tar\r\n",
        "jhu-usc.edu_CESC.HumanMethylation450.Level_1.13.8.0.tar\r\n",
        "jhu-usc.edu_CESC.HumanMethylation450.Level_1.13.9.0.tar\r\n",
        "jhu-usc.edu_CESC.HumanMethylation450.Level_1.1.4.0.tar\r\n",
        "jhu-usc.edu_CESC.HumanMethylation450.Level_1.14.5.0.tar\r\n",
        "jhu-usc.edu_CESC.HumanMethylation450.Level_1.14.6.0.tar\r\n",
        "jhu-usc.edu_CESC.HumanMethylation450.Level_1.14.7.0.tar\r\n",
        "jhu-usc.edu_CESC.HumanMethylation450.Level_1.14.8.0.tar\r\n",
        "jhu-usc.edu_CESC.HumanMethylation450.Level_1.14.9.0.tar\r\n",
        "jhu-usc.edu_CESC.HumanMethylation450.Level_1.1.5.0.tar\r\n",
        "jhu-usc.edu_CESC.HumanMethylation450.Level_1.15.6.0.tar\r\n",
        "jhu-usc.edu_CESC.HumanMethylation450.Level_1.15.7.0.tar\r\n",
        "jhu-usc.edu_CESC.HumanMethylation450.Level_1.15.8.0.tar\r\n",
        "jhu-usc.edu_CESC.HumanMethylation450.Level_1.15.9.0.tar\r\n",
        "jhu-usc.edu_CESC.HumanMethylation450.Level_1.1.6.0.tar\r\n",
        "jhu-usc.edu_CESC.HumanMethylation450.Level_1.16.6.0.tar\r\n",
        "jhu-usc.edu_CESC.HumanMethylation450.Level_1.16.7.0.tar\r\n",
        "jhu-usc.edu_CESC.HumanMethylation450.Level_1.16.8.0.tar\r\n",
        "jhu-usc.edu_CESC.HumanMethylation450.Level_1.16.9.0.tar\r\n",
        "jhu-usc.edu_CESC.HumanMethylation450.Level_1.1.7.0.tar\r\n",
        "jhu-usc.edu_CESC.HumanMethylation450.Level_1.17.7.0.tar\r\n",
        "jhu-usc.edu_CESC.HumanMethylation450.Level_1.17.8.0.tar\r\n",
        "jhu-usc.edu_CESC.HumanMethylation450.Level_1.17.9.0.tar\r\n",
        "jhu-usc.edu_CESC.HumanMethylation450.Level_1.1.8.0.tar\r\n",
        "jhu-usc.edu_CESC.HumanMethylation450.Level_1.18.7.0.tar\r\n",
        "jhu-usc.edu_CESC.HumanMethylation450.Level_1.18.8.0.tar\r\n",
        "jhu-usc.edu_CESC.HumanMethylation450.Level_1.18.9.0.tar\r\n",
        "jhu-usc.edu_CESC.HumanMethylation450.Level_1.1.9.0.tar\r\n",
        "jhu-usc.edu_CESC.HumanMethylation450.Level_1.19.9.0.tar\r\n",
        "jhu-usc.edu_CESC.HumanMethylation450.Level_1.2.0.0.tar\r\n",
        "jhu-usc.edu_CESC.HumanMethylation450.Level_1.2.1.0.tar\r\n",
        "jhu-usc.edu_CESC.HumanMethylation450.Level_1.2.2.0.tar\r\n",
        "jhu-usc.edu_CESC.HumanMethylation450.Level_1.2.3.0.tar\r\n",
        "jhu-usc.edu_CESC.HumanMethylation450.Level_1.2.4.0.tar\r\n",
        "jhu-usc.edu_CESC.HumanMethylation450.Level_1.2.5.0.tar\r\n",
        "jhu-usc.edu_CESC.HumanMethylation450.Level_1.2.6.0.tar\r\n",
        "jhu-usc.edu_CESC.HumanMethylation450.Level_1.2.7.0.tar\r\n",
        "jhu-usc.edu_CESC.HumanMethylation450.Level_1.2.8.0.tar\r\n",
        "jhu-usc.edu_CESC.HumanMethylation450.Level_1.2.9.0.tar\r\n",
        "jhu-usc.edu_CESC.HumanMethylation450.Level_1.3.0.0.tar\r\n",
        "jhu-usc.edu_CESC.HumanMethylation450.Level_1.3.1.0.tar\r\n",
        "jhu-usc.edu_CESC.HumanMethylation450.Level_1.3.2.0.tar\r\n",
        "jhu-usc.edu_CESC.HumanMethylation450.Level_1.3.3.0.tar\r\n",
        "jhu-usc.edu_CESC.HumanMethylation450.Level_1.3.4.0.tar\r\n",
        "jhu-usc.edu_CESC.HumanMethylation450.Level_1.3.5.0.tar\r\n",
        "jhu-usc.edu_CESC.HumanMethylation450.Level_1.3.6.0.tar\r\n",
        "jhu-usc.edu_CESC.HumanMethylation450.Level_1.3.7.0.tar\r\n",
        "jhu-usc.edu_CESC.HumanMethylation450.Level_1.3.8.0.tar\r\n",
        "jhu-usc.edu_CESC.HumanMethylation450.Level_1.3.9.0.tar\r\n",
        "jhu-usc.edu_CESC.HumanMethylation450.Level_1.4.0.0.tar\r\n",
        "jhu-usc.edu_CESC.HumanMethylation450.Level_1.4.1.0.tar\r\n",
        "jhu-usc.edu_CESC.HumanMethylation450.Level_1.4.2.0.tar\r\n",
        "jhu-usc.edu_CESC.HumanMethylation450.Level_1.4.3.0.tar\r\n",
        "jhu-usc.edu_CESC.HumanMethylation450.Level_1.4.4.0.tar\r\n",
        "jhu-usc.edu_CESC.HumanMethylation450.Level_1.4.5.0.tar\r\n",
        "jhu-usc.edu_CESC.HumanMethylation450.Level_1.4.6.0.tar\r\n",
        "jhu-usc.edu_CESC.HumanMethylation450.Level_1.4.7.0.tar\r\n",
        "jhu-usc.edu_CESC.HumanMethylation450.Level_1.4.8.0.tar\r\n",
        "jhu-usc.edu_CESC.HumanMethylation450.Level_1.4.9.0.tar\r\n",
        "jhu-usc.edu_CESC.HumanMethylation450.Level_1.5.0.0.tar\r\n",
        "jhu-usc.edu_CESC.HumanMethylation450.Level_1.5.1.0.tar\r\n",
        "jhu-usc.edu_CESC.HumanMethylation450.Level_1.5.2.0.tar\r\n",
        "jhu-usc.edu_CESC.HumanMethylation450.Level_1.5.3.0.tar\r\n",
        "jhu-usc.edu_CESC.HumanMethylation450.Level_1.5.4.0.tar\r\n",
        "jhu-usc.edu_CESC.HumanMethylation450.Level_1.5.5.0.tar\r\n",
        "jhu-usc.edu_CESC.HumanMethylation450.Level_1.5.6.0.tar\r\n",
        "jhu-usc.edu_CESC.HumanMethylation450.Level_1.5.7.0.tar\r\n",
        "jhu-usc.edu_CESC.HumanMethylation450.Level_1.5.8.0.tar\r\n",
        "jhu-usc.edu_CESC.HumanMethylation450.Level_1.5.9.0.tar\r\n",
        "jhu-usc.edu_CESC.HumanMethylation450.Level_1.6.0.0.tar\r\n",
        "jhu-usc.edu_CESC.HumanMethylation450.Level_1.6.1.0.tar\r\n",
        "jhu-usc.edu_CESC.HumanMethylation450.Level_1.6.2.0.tar\r\n",
        "jhu-usc.edu_CESC.HumanMethylation450.Level_1.6.3.0.tar\r\n",
        "jhu-usc.edu_CESC.HumanMethylation450.Level_1.6.4.0.tar\r\n",
        "jhu-usc.edu_CESC.HumanMethylation450.Level_1.6.5.0.tar\r\n",
        "jhu-usc.edu_CESC.HumanMethylation450.Level_1.6.6.0.tar\r\n",
        "\u001b[01;34mJustinCase\u001b[0m/\r\n",
        "\u001b[01;34mMethyl\u001b[0m/\r\n",
        "\u001b[01;34mNotebook\u001b[0m/\r\n",
        "\u001b[01;34mtcga-data.nci.nih.gov\u001b[0m/\r\n",
        "TCGA Methylation Data Code Tries.ipynb\r\n",
        "TCGA Methylation Data-Different Real.ipynb\r\n",
        "TCGA Methylation Data OG.ipynb\r\n",
        "TCGA Methylation Data-RealTry-Indivdownload.ipynb\r\n",
        "tmp.html\r\n"
       ]
      }
     ],
     "prompt_number": 3
    },
    {
     "cell_type": "markdown",
     "metadata": {},
     "source": [
      "<b>Outpaths</b>"
     ]
    },
    {
     "cell_type": "code",
     "collapsed": false,
     "input": [
      "PATH_TO_CERT = 'JustinCase/cacert.pem'\n",
      "OUT_PATH = 'Methyl'\n",
      "out_path = OUT_PATH + '/New_Methyl_Data'\n",
      "if not os.path.isdir(out_path):\n",
      "    os.mkdir(out_path)"
     ],
     "language": "python",
     "metadata": {},
     "outputs": [],
     "prompt_number": 3
    },
    {
     "cell_type": "markdown",
     "metadata": {},
     "source": [
      "<b>Path to TCGA Website</b>"
     ]
    },
    {
     "cell_type": "code",
     "collapsed": false,
     "input": [
      "url = 'https://tcga-data.nci.nih.gov/tcgafiles/ftp_auth/distro_ftpusers/anonymous/tumor/'"
     ],
     "language": "python",
     "metadata": {},
     "outputs": [],
     "prompt_number": 4
    },
    {
     "cell_type": "code",
     "collapsed": false,
     "input": [
      "uvm_data = 'https://tcga-data.nci.nih.gov/tcgafiles/ftp_auth/distro_ftpusers/anonymous/tumor/uvm/cgcc/jhu-usc.edu/humanmethylation450/methylation/'\n",
      "ucs_data = 'https://tcga-data.nci.nih.gov/tcgafiles/ftp_auth/distro_ftpusers/anonymous/tumor/ucs/cgcc/jhu-usc.edu/humanmethylation450/methylation/'    "
     ],
     "language": "python",
     "metadata": {},
     "outputs": [],
     "prompt_number": 5
    },
    {
     "cell_type": "code",
     "collapsed": false,
     "input": [
      "files = [uvm_data,ucs_data]\n",
      "files"
     ],
     "language": "python",
     "metadata": {},
     "outputs": [
      {
       "metadata": {},
       "output_type": "pyout",
       "prompt_number": 6,
       "text": [
        "['https://tcga-data.nci.nih.gov/tcgafiles/ftp_auth/distro_ftpusers/anonymous/tumor/uvm/cgcc/jhu-usc.edu/humanmethylation450/methylation/',\n",
        " 'https://tcga-data.nci.nih.gov/tcgafiles/ftp_auth/distro_ftpusers/anonymous/tumor/ucs/cgcc/jhu-usc.edu/humanmethylation450/methylation/']"
       ]
      }
     ],
     "prompt_number": 6
    },
    {
     "cell_type": "code",
     "collapsed": false,
     "input": [
      "!cat filess"
     ],
     "language": "python",
     "metadata": {},
     "outputs": [
      {
       "output_type": "stream",
       "stream": "stdout",
       "text": [
        "https://tcga-data.nci.nih.gov/tcgafiles/ftp_auth/distro_ftpusers/anonymous/tumor/uvm/cgcc/jhu-usc.edu/humanmethylation450/methylation/\r\n",
        "https://tcga-data.nci.nih.gov/tcgafiles/ftp_auth/distro_ftpusers/anonymous/tumor/ucs/cgcc/jhu-usc.edu/humanmethylation450/methylation/  \r\n"
       ]
      }
     ],
     "prompt_number": 7
    },
    {
     "cell_type": "code",
     "collapsed": false,
     "input": [
      "ls"
     ],
     "language": "python",
     "metadata": {},
     "outputs": [
      {
       "output_type": "stream",
       "stream": "stdout",
       "text": [
        "\u001b[0m\u001b[01;34mBLCA_Meth_Data\u001b[0m/  \u001b[01;34mNotebook\u001b[0m/\r\n",
        "\u001b[01;34mBRCA_Meth_Data\u001b[0m/  \u001b[01;34mtcga-data.nci.nih.gov\u001b[0m/\r\n",
        "\u001b[01;34mCESC_Meth_Data\u001b[0m/  TCGA Methylation Data Code Tries.ipynb\r\n",
        "filess           TCGA Methylation Data-Different Real.ipynb\r\n",
        "filess~          TCGA Methylation Data OG.ipynb\r\n",
        "\u001b[01;34mHNSC_Meth_Data\u001b[0m/  TCGA Methylation Data-RealTry-Indivdownload.ipynb\r\n",
        "\u001b[01;34mJustinCase\u001b[0m/      tmp.html\r\n",
        "\u001b[01;34mMethyl\u001b[0m/\r\n"
       ]
      }
     ],
     "prompt_number": 10
    },
    {
     "cell_type": "code",
     "collapsed": false,
     "input": [
      "https://tcga-data.nci.nih.gov/tcgafiles/ftp_auth/distro_ftpusers/anonymous/tumor/ucec/cgcc/jhu-usc.edu/humanmethylation450/methylation/"
     ],
     "language": "python",
     "metadata": {},
     "outputs": []
    },
    {
     "cell_type": "code",
     "collapsed": false,
     "input": [
      "!wget -i filess -e robots=off -r --no-parent --reject \"index.html*\" "
     ],
     "language": "python",
     "metadata": {},
     "outputs": [
      {
       "output_type": "stream",
       "stream": "stdout",
       "text": [
        "--2015-02-02 17:46:02--  https://tcga-data.nci.nih.gov/tcgafiles/ftp_auth/distro_ftpusers/anonymous/tumor/uvm/cgcc/jhu-usc.edu/humanmethylation450/methylation/\r\n"
       ]
      },
      {
       "output_type": "stream",
       "stream": "stdout",
       "text": [
        "Resolving tcga-data.nci.nih.gov (tcga-data.nci.nih.gov)... 165.112.32.155\r\n",
        "Connecting to tcga-data.nci.nih.gov (tcga-data.nci.nih.gov)|165.112.32.155|:443... "
       ]
      },
      {
       "output_type": "stream",
       "stream": "stdout",
       "text": [
        "connected.\r\n"
       ]
      },
      {
       "output_type": "stream",
       "stream": "stdout",
       "text": [
        "HTTP request sent, awaiting response... "
       ]
      },
      {
       "output_type": "stream",
       "stream": "stdout",
       "text": [
        "200 OK\r\n",
        "Length: 3726 (3.6K) [text/html]\r\n"
       ]
      },
      {
       "output_type": "stream",
       "stream": "stdout",
       "text": [
        "Saving to: \u2018tcga-data.nci.nih.gov/tcgafiles/ftp_auth/distro_ftpusers/anonymous/tumor/uvm/cgcc/jhu-usc.edu/humanmethylation450/methylation/index.html\u2019\r\n",
        "\r\n",
        "\r",
        " 0% [                                       ] 0           --.-K/s              \r",
        "100%[======================================>] 3,726       --.-K/s   in 0s      \r\n",
        "\r\n",
        "2015-02-02 17:46:03 (57.9 MB/s) - \u2018tcga-data.nci.nih.gov/tcgafiles/ftp_auth/distro_ftpusers/anonymous/tumor/uvm/cgcc/jhu-usc.edu/humanmethylation450/methylation/index.html\u2019 saved [3726/3726]\r\n",
        "\r\n"
       ]
      },
      {
       "output_type": "stream",
       "stream": "stdout",
       "text": [
        "Removing tcga-data.nci.nih.gov/tcgafiles/ftp_auth/distro_ftpusers/anonymous/tumor/uvm/cgcc/jhu-usc.edu/humanmethylation450/methylation/index.html since it should be rejected.\r\n"
       ]
      },
      {
       "output_type": "stream",
       "stream": "stdout",
       "text": [
        "\r\n"
       ]
      },
      {
       "output_type": "stream",
       "stream": "stdout",
       "text": [
        "--2015-02-02 17:46:03--  https://tcga-data.nci.nih.gov/tcgafiles/ftp_auth/distro_ftpusers/anonymous/tumor/uvm/cgcc/jhu-usc.edu/humanmethylation450/methylation/?C=N;O=D\r\n",
        "Reusing existing connection to tcga-data.nci.nih.gov:443.\r\n",
        "HTTP request sent, awaiting response... "
       ]
      },
      {
       "output_type": "stream",
       "stream": "stdout",
       "text": [
        "200 OK\r\n",
        "Length: 3726 (3.6K) [text/html]\r\n"
       ]
      },
      {
       "output_type": "stream",
       "stream": "stdout",
       "text": [
        "Saving to: \u2018tcga-data.nci.nih.gov/tcgafiles/ftp_auth/distro_ftpusers/anonymous/tumor/uvm/cgcc/jhu-usc.edu/humanmethylation450/methylation/index.html?C=N;O=D\u2019\r\n",
        "\r\n",
        "\r",
        " 0% [                                       ] 0           --.-K/s              \r",
        "100%[======================================>] 3,726       --.-K/s   in 0s      \r\n",
        "\r\n"
       ]
      },
      {
       "output_type": "stream",
       "stream": "stdout",
       "text": [
        "2015-02-02 17:46:04 (109 MB/s) - \u2018tcga-data.nci.nih.gov/tcgafiles/ftp_auth/distro_ftpusers/anonymous/tumor/uvm/cgcc/jhu-usc.edu/humanmethylation450/methylation/index.html?C=N;O=D\u2019 saved [3726/3726]\r\n",
        "\r\n"
       ]
      },
      {
       "output_type": "stream",
       "stream": "stdout",
       "text": [
        "Removing tcga-data.nci.nih.gov/tcgafiles/ftp_auth/distro_ftpusers/anonymous/tumor/uvm/cgcc/jhu-usc.edu/humanmethylation450/methylation/index.html?C=N;O=D since it should be rejected.\r\n"
       ]
      },
      {
       "output_type": "stream",
       "stream": "stdout",
       "text": [
        "\r\n"
       ]
      },
      {
       "output_type": "stream",
       "stream": "stdout",
       "text": [
        "--2015-02-02 17:46:04--  https://tcga-data.nci.nih.gov/tcgafiles/ftp_auth/distro_ftpusers/anonymous/tumor/uvm/cgcc/jhu-usc.edu/humanmethylation450/methylation/?C=M;O=A\r\n",
        "Reusing existing connection to tcga-data.nci.nih.gov:443.\r\n",
        "HTTP request sent, awaiting response... "
       ]
      },
      {
       "output_type": "stream",
       "stream": "stdout",
       "text": [
        "200 OK\r\n",
        "Length: 3726 (3.6K) [text/html]\r\n"
       ]
      },
      {
       "output_type": "stream",
       "stream": "stdout",
       "text": [
        "Saving to: \u2018tcga-data.nci.nih.gov/tcgafiles/ftp_auth/distro_ftpusers/anonymous/tumor/uvm/cgcc/jhu-usc.edu/humanmethylation450/methylation/index.html?C=M;O=A\u2019\r\n",
        "\r\n",
        "\r",
        " 0% [                                       ] 0           --.-K/s              \r",
        "100%[======================================>] 3,726       --.-K/s   in 0s      \r\n",
        "\r\n"
       ]
      },
      {
       "output_type": "stream",
       "stream": "stdout",
       "text": [
        "2015-02-02 17:46:04 (116 MB/s) - \u2018tcga-data.nci.nih.gov/tcgafiles/ftp_auth/distro_ftpusers/anonymous/tumor/uvm/cgcc/jhu-usc.edu/humanmethylation450/methylation/index.html?C=M;O=A\u2019 saved [3726/3726]\r\n",
        "\r\n"
       ]
      },
      {
       "output_type": "stream",
       "stream": "stdout",
       "text": [
        "Removing tcga-data.nci.nih.gov/tcgafiles/ftp_auth/distro_ftpusers/anonymous/tumor/uvm/cgcc/jhu-usc.edu/humanmethylation450/methylation/index.html?C=M;O=A since it should be rejected.\r\n"
       ]
      },
      {
       "output_type": "stream",
       "stream": "stdout",
       "text": [
        "\r\n"
       ]
      },
      {
       "output_type": "stream",
       "stream": "stdout",
       "text": [
        "--2015-02-02 17:46:04--  https://tcga-data.nci.nih.gov/tcgafiles/ftp_auth/distro_ftpusers/anonymous/tumor/uvm/cgcc/jhu-usc.edu/humanmethylation450/methylation/?C=S;O=A\r\n",
        "Reusing existing connection to tcga-data.nci.nih.gov:443.\r\n",
        "HTTP request sent, awaiting response... "
       ]
      },
      {
       "output_type": "stream",
       "stream": "stdout",
       "text": [
        "200 OK\r\n",
        "Length: 3726 (3.6K) [text/html]\r\n"
       ]
      },
      {
       "output_type": "stream",
       "stream": "stdout",
       "text": [
        "Saving to: \u2018tcga-data.nci.nih.gov/tcgafiles/ftp_auth/distro_ftpusers/anonymous/tumor/uvm/cgcc/jhu-usc.edu/humanmethylation450/methylation/index.html?C=S;O=A\u2019\r\n",
        "\r\n",
        "\r",
        " 0% [                                       ] 0           --.-K/s              \r",
        "100%[======================================>] 3,726       --.-K/s   in 0s      \r\n",
        "\r\n"
       ]
      },
      {
       "output_type": "stream",
       "stream": "stdout",
       "text": [
        "2015-02-02 17:46:05 (71.8 MB/s) - \u2018tcga-data.nci.nih.gov/tcgafiles/ftp_auth/distro_ftpusers/anonymous/tumor/uvm/cgcc/jhu-usc.edu/humanmethylation450/methylation/index.html?C=S;O=A\u2019 saved [3726/3726]\r\n",
        "\r\n"
       ]
      },
      {
       "output_type": "stream",
       "stream": "stdout",
       "text": [
        "Removing tcga-data.nci.nih.gov/tcgafiles/ftp_auth/distro_ftpusers/anonymous/tumor/uvm/cgcc/jhu-usc.edu/humanmethylation450/methylation/index.html?C=S;O=A since it should be rejected.\r\n"
       ]
      },
      {
       "output_type": "stream",
       "stream": "stdout",
       "text": [
        "\r\n"
       ]
      },
      {
       "output_type": "stream",
       "stream": "stdout",
       "text": [
        "--2015-02-02 17:46:05--  https://tcga-data.nci.nih.gov/tcgafiles/ftp_auth/distro_ftpusers/anonymous/tumor/uvm/cgcc/jhu-usc.edu/humanmethylation450/methylation/jhu-usc.edu_UVM.HumanMethylation450.Level_1.1.0.0.tar.gz\r\n",
        "Reusing existing connection to tcga-data.nci.nih.gov:443.\r\n",
        "HTTP request sent, awaiting response... "
       ]
      },
      {
       "output_type": "stream",
       "stream": "stdout",
       "text": [
        "200 OK\r\n",
        "Length: 690785256 (659M) [application/x-gzip]\r\n"
       ]
      },
      {
       "output_type": "stream",
       "stream": "stdout",
       "text": [
        "Saving to: \u2018tcga-data.nci.nih.gov/tcgafiles/ftp_auth/distro_ftpusers/anonymous/tumor/uvm/cgcc/jhu-usc.edu/humanmethylation450/methylation/jhu-usc.edu_UVM.HumanMethylation450.Level_1.1.0.0.tar.gz\u2019\r\n",
        "\r\n",
        "\r",
        " 0% [                                       ] 0           --.-K/s              "
       ]
      },
      {
       "output_type": "stream",
       "stream": "stdout",
       "text": [
        "\r",
        " 0% [                                       ] 106,496      432KB/s             "
       ]
      },
      {
       "output_type": "stream",
       "stream": "stdout",
       "text": [
        "\r",
        " 0% [                                       ] 237,568      502KB/s             "
       ]
      },
      {
       "output_type": "stream",
       "stream": "stdout",
       "text": [
        "\r",
        " 0% [                                       ] 450,560      626KB/s             "
       ]
      },
      {
       "output_type": "stream",
       "stream": "stdout",
       "text": [
        "\r",
        " 0% [                                       ] 761,856      788KB/s             "
       ]
      },
      {
       "output_type": "stream",
       "stream": "stdout",
       "text": [
        "\r",
        " 0% [                                       ] 1,236,992   1020KB/s             "
       ]
      },
      {
       "output_type": "stream",
       "stream": "stdout",
       "text": [
        "\r",
        " 0% [                                       ] 1,941,504   1.32MB/s             "
       ]
      },
      {
       "output_type": "stream",
       "stream": "stdout",
       "text": [
        "\r",
        " 0% [                                       ] 2,695,168   1.60MB/s             "
       ]
      },
      {
       "output_type": "stream",
       "stream": "stdout",
       "text": [
        "\r",
        " 0% [                                       ] 4,038,656   2.11MB/s             "
       ]
      },
      {
       "output_type": "stream",
       "stream": "stdout",
       "text": [
        "\r",
        " 0% [                                       ] 6,397,952   2.99MB/s             "
       ]
      },
      {
       "output_type": "stream",
       "stream": "stdout",
       "text": [
        "\r",
        " 1% [                                       ] 9,003,008   3.83MB/s             "
       ]
      },
      {
       "output_type": "stream",
       "stream": "stdout",
       "text": [
        "\r",
        " 1% [                                       ] 13,590,528  5.31MB/s             "
       ]
      },
      {
       "output_type": "stream",
       "stream": "stdout",
       "text": [
        "\r",
        " 2% [>                                      ] 18,833,408  6.80MB/s             "
       ]
      },
      {
       "output_type": "stream",
       "stream": "stdout",
       "text": [
        "\r",
        " 3% [>                                      ] 25,026,560  8.36MB/s             "
       ]
      },
      {
       "output_type": "stream",
       "stream": "stdout",
       "text": [
        "\r",
        " 4% [>                                      ] 31,678,464  9.89MB/s  eta 64s    "
       ]
      },
      {
       "output_type": "stream",
       "stream": "stdout",
       "text": [
        "\r",
        " 5% [=>                                     ] 37,675,008  11.0MB/s  eta 64s    "
       ]
      },
      {
       "output_type": "stream",
       "stream": "stdout",
       "text": [
        "\r",
        " 6% [=>                                     ] 43,180,032  12.5MB/s  eta 64s    "
       ]
      },
      {
       "output_type": "stream",
       "stream": "stdout",
       "text": [
        "\r",
        " 7% [=>                                     ] 48,685,056  14.5MB/s  eta 64s    "
       ]
      },
      {
       "output_type": "stream",
       "stream": "stdout",
       "text": [
        "\r",
        " 8% [==>                                    ] 55,353,344  16.3MB/s  eta 64s    "
       ]
      },
      {
       "output_type": "stream",
       "stream": "stdout",
       "text": [
        "\r",
        " 8% [==>                                    ] 61,743,104  17.9MB/s  eta 41s    "
       ]
      },
      {
       "output_type": "stream",
       "stream": "stdout",
       "text": [
        "\r",
        " 9% [==>                                    ] 68,984,832  20.7MB/s  eta 41s    "
       ]
      },
      {
       "output_type": "stream",
       "stream": "stdout",
       "text": [
        "\r",
        "11% [===>                                   ] 76,423,168  22.5MB/s  eta 41s    "
       ]
      },
      {
       "output_type": "stream",
       "stream": "stdout",
       "text": [
        "\r",
        "11% [===>                                   ] 82,173,952  23.8MB/s  eta 41s    "
       ]
      },
      {
       "output_type": "stream",
       "stream": "stdout",
       "text": [
        "\r",
        "12% [====>                                  ] 89,415,680  26.4MB/s  eta 41s    "
       ]
      },
      {
       "output_type": "stream",
       "stream": "stdout",
       "text": [
        "\r",
        "13% [====>                                  ] 96,559,104  27.9MB/s  eta 31s    "
       ]
      },
      {
       "output_type": "stream",
       "stream": "stdout",
       "text": [
        "\r",
        "15% [====>                                  ] 103,899,136 29.2MB/s  eta 31s    "
       ]
      },
      {
       "output_type": "stream",
       "stream": "stdout",
       "text": [
        "\r",
        "15% [=====>                                 ] 109,469,696 30.3MB/s  eta 31s    "
       ]
      },
      {
       "output_type": "stream",
       "stream": "stdout",
       "text": [
        "\r",
        "16% [=====>                                 ] 116,514,816 30.8MB/s  eta 31s    "
       ]
      },
      {
       "output_type": "stream",
       "stream": "stdout",
       "text": [
        "\r",
        "17% [=====>                                 ] 122,150,912 30.8MB/s  eta 31s    "
       ]
      },
      {
       "output_type": "stream",
       "stream": "stdout",
       "text": [
        "\r",
        "18% [======>                                ] 128,376,832 30.8MB/s  eta 27s    "
       ]
      },
      {
       "output_type": "stream",
       "stream": "stdout",
       "text": [
        "\r",
        "19% [======>                                ] 133,701,632 30.5MB/s  eta 27s    "
       ]
      },
      {
       "output_type": "stream",
       "stream": "stdout",
       "text": [
        "\r",
        "20% [======>                                ] 139,403,264 30.2MB/s  eta 27s    "
       ]
      },
      {
       "output_type": "stream",
       "stream": "stdout",
       "text": [
        "\r",
        "21% [=======>                               ] 145,170,432 30.6MB/s  eta 27s    "
       ]
      },
      {
       "output_type": "stream",
       "stream": "stdout",
       "text": [
        "\r",
        "21% [=======>                               ] 149,889,024 30.1MB/s  eta 27s    "
       ]
      },
      {
       "output_type": "stream",
       "stream": "stdout",
       "text": [
        "\r",
        "22% [=======>                               ] 153,968,640 29.4MB/s  eta 25s    "
       ]
      },
      {
       "output_type": "stream",
       "stream": "stdout",
       "text": [
        "\r",
        "23% [========>                              ] 161,226,752 29.7MB/s  eta 25s    "
       ]
      },
      {
       "output_type": "stream",
       "stream": "stdout",
       "text": [
        "\r",
        "24% [========>                              ] 166,928,384 28.8MB/s  eta 25s    "
       ]
      },
      {
       "output_type": "stream",
       "stream": "stdout",
       "text": [
        "\r",
        "25% [========>                              ] 173,932,544 29.1MB/s  eta 25s    "
       ]
      },
      {
       "output_type": "stream",
       "stream": "stdout",
       "text": [
        "\r",
        "25% [=========>                             ] 178,708,480 28.7MB/s  eta 25s    "
       ]
      },
      {
       "output_type": "stream",
       "stream": "stdout",
       "text": [
        "\r",
        "26% [=========>                             ] 184,705,024 28.2MB/s  eta 22s    "
       ]
      },
      {
       "output_type": "stream",
       "stream": "stdout",
       "text": [
        "\r",
        "27% [=========>                             ] 192,077,824 27.1MB/s  eta 22s    "
       ]
      },
      {
       "output_type": "stream",
       "stream": "stdout",
       "text": [
        "\r",
        "28% [==========>                            ] 200,138,752 27.9MB/s  eta 22s    "
       ]
      },
      {
       "output_type": "stream",
       "stream": "stdout",
       "text": [
        "\r",
        "29% [==========>                            ] 206,462,976 27.5MB/s  eta 22s    "
       ]
      },
      {
       "output_type": "stream",
       "stream": "stdout",
       "text": [
        "\r",
        "30% [===========>                           ] 212,721,664 27.6MB/s  eta 22s    "
       ]
      },
      {
       "output_type": "stream",
       "stream": "stdout",
       "text": [
        "\r",
        "31% [===========>                           ] 217,669,632 27.4MB/s  eta 20s    "
       ]
      },
      {
       "output_type": "stream",
       "stream": "stdout",
       "text": [
        "\r",
        "32% [===========>                           ] 222,519,296 27.1MB/s  eta 20s    "
       ]
      },
      {
       "output_type": "stream",
       "stream": "stdout",
       "text": [
        "\r",
        "33% [===========>                           ] 230,023,168 27.7MB/s  eta 20s    "
       ]
      },
      {
       "output_type": "stream",
       "stream": "stdout",
       "text": [
        "\r",
        "34% [============>                          ] 235,913,216 27.7MB/s  eta 20s    "
       ]
      },
      {
       "output_type": "stream",
       "stream": "stdout",
       "text": [
        "\r",
        "35% [============>                          ] 242,999,296 28.3MB/s  eta 20s    "
       ]
      },
      {
       "output_type": "stream",
       "stream": "stdout",
       "text": [
        "\r",
        "36% [=============>                         ] 250,732,544 29.1MB/s  eta 18s    "
       ]
      },
      {
       "output_type": "stream",
       "stream": "stdout",
       "text": [
        "\r",
        "37% [=============>                         ] 258,383,872 29.6MB/s  eta 18s    "
       ]
      },
      {
       "output_type": "stream",
       "stream": "stdout",
       "text": [
        "\r",
        "38% [=============>                         ] 264,781,824 29.8MB/s  eta 18s    "
       ]
      },
      {
       "output_type": "stream",
       "stream": "stdout",
       "text": [
        "\r",
        "38% [==============>                        ] 268,312,576 28.8MB/s  eta 18s    "
       ]
      },
      {
       "output_type": "stream",
       "stream": "stdout",
       "text": [
        "\r",
        "39% [==============>                        ] 276,291,584 29.6MB/s  eta 18s    "
       ]
      },
      {
       "output_type": "stream",
       "stream": "stdout",
       "text": [
        "\r",
        "40% [==============>                        ] 281,092,096 29.1MB/s  eta 16s    "
       ]
      },
      {
       "output_type": "stream",
       "stream": "stdout",
       "text": [
        "\r",
        "41% [===============>                       ] 284,934,144 28.3MB/s  eta 16s    "
       ]
      },
      {
       "output_type": "stream",
       "stream": "stdout",
       "text": [
        "\r",
        "42% [===============>                       ] 293,986,304 29.2MB/s  eta 16s    "
       ]
      },
      {
       "output_type": "stream",
       "stream": "stdout",
       "text": [
        "\r",
        "43% [===============>                       ] 299,409,408 28.9MB/s  eta 16s    "
       ]
      },
      {
       "output_type": "stream",
       "stream": "stdout",
       "text": [
        "\r",
        "44% [================>                      ] 305,364,992 28.4MB/s  eta 16s    "
       ]
      },
      {
       "output_type": "stream",
       "stream": "stdout",
       "text": [
        "\r",
        "45% [================>                      ] 314,155,008 29.5MB/s  eta 15s    "
       ]
      },
      {
       "output_type": "stream",
       "stream": "stdout",
       "text": [
        "\r",
        "46% [=================>                     ] 319,856,640 30.4MB/s  eta 15s    "
       ]
      },
      {
       "output_type": "stream",
       "stream": "stdout",
       "text": [
        "\r",
        "47% [=================>                     ] 325,623,808 29.6MB/s  eta 15s    "
       ]
      },
      {
       "output_type": "stream",
       "stream": "stdout",
       "text": [
        "\r",
        "47% [=================>                     ] 330,571,776 29.3MB/s  eta 15s    "
       ]
      },
      {
       "output_type": "stream",
       "stream": "stdout",
       "text": [
        "\r",
        "48% [=================>                     ] 335,806,464 27.9MB/s  eta 15s    "
       ]
      },
      {
       "output_type": "stream",
       "stream": "stdout",
       "text": [
        "\r",
        "49% [==================>                    ] 344,809,472 28.4MB/s  eta 13s    "
       ]
      },
      {
       "output_type": "stream",
       "stream": "stdout",
       "text": [
        "\r",
        "50% [==================>                    ] 351,887,360 28.2MB/s  eta 13s    "
       ]
      },
      {
       "output_type": "stream",
       "stream": "stdout",
       "text": [
        "\r",
        "51% [===================>                   ] 357,351,424 27.7MB/s  eta 13s    "
       ]
      },
      {
       "output_type": "stream",
       "stream": "stdout",
       "text": [
        "\r",
        "52% [===================>                   ] 365,846,528 28.7MB/s  eta 13s    "
       ]
      },
      {
       "output_type": "stream",
       "stream": "stdout",
       "text": [
        "\r",
        "54% [====================>                  ] 373,350,400 29.2MB/s  eta 13s    "
       ]
      },
      {
       "output_type": "stream",
       "stream": "stdout",
       "text": [
        "\r",
        "55% [====================>                  ] 380,755,968 29.8MB/s  eta 12s    "
       ]
      },
      {
       "output_type": "stream",
       "stream": "stdout",
       "text": [
        "\r",
        "56% [====================>                  ] 386,850,816 30.1MB/s  eta 12s    "
       ]
      },
      {
       "output_type": "stream",
       "stream": "stdout",
       "text": [
        "\r",
        "56% [=====================>                 ] 392,388,608 29.7MB/s  eta 12s    "
       ]
      },
      {
       "output_type": "stream",
       "stream": "stdout",
       "text": [
        "\r",
        "57% [=====================>                 ] 398,123,008 30.4MB/s  eta 12s    "
       ]
      },
      {
       "output_type": "stream",
       "stream": "stdout",
       "text": [
        "\r",
        "58% [=====================>                 ] 403,922,944 30.3MB/s  eta 12s    "
       ]
      },
      {
       "output_type": "stream",
       "stream": "stdout",
       "text": [
        "\r",
        "59% [======================>                ] 408,707,072 29.2MB/s  eta 11s    "
       ]
      },
      {
       "output_type": "stream",
       "stream": "stdout",
       "text": [
        "\r",
        "60% [======================>                ] 414,539,776 29.0MB/s  eta 11s    "
       ]
      },
      {
       "output_type": "stream",
       "stream": "stdout",
       "text": [
        "\r",
        "60% [======================>                ] 420,216,832 29.1MB/s  eta 11s    "
       ]
      },
      {
       "output_type": "stream",
       "stream": "stdout",
       "text": [
        "\r",
        "61% [=======================>               ] 425,959,424 29.2MB/s  eta 11s    "
       ]
      },
      {
       "output_type": "stream",
       "stream": "stdout",
       "text": [
        "\r",
        "62% [=======================>               ] 431,087,616 29.2MB/s  eta 11s    "
       ]
      },
      {
       "output_type": "stream",
       "stream": "stdout",
       "text": [
        "\r",
        "63% [=======================>               ] 436,674,560 29.7MB/s  eta 10s    "
       ]
      },
      {
       "output_type": "stream",
       "stream": "stdout",
       "text": [
        "\r",
        "64% [========================>              ] 443,179,008 28.8MB/s  eta 10s    "
       ]
      },
      {
       "output_type": "stream",
       "stream": "stdout",
       "text": [
        "\r",
        "65% [========================>              ] 449,290,240 28.5MB/s  eta 10s    "
       ]
      },
      {
       "output_type": "stream",
       "stream": "stdout",
       "text": [
        "\r",
        "65% [========================>              ] 455,008,256 29.1MB/s  eta 10s    "
       ]
      },
      {
       "output_type": "stream",
       "stream": "stdout",
       "text": [
        "\r",
        "66% [=========================>             ] 460,775,424 27.9MB/s  eta 10s    "
       ]
      },
      {
       "output_type": "stream",
       "stream": "stdout",
       "text": [
        "\r",
        "67% [=========================>             ] 466,534,400 27.2MB/s  eta 8s     "
       ]
      },
      {
       "output_type": "stream",
       "stream": "stdout",
       "text": [
        "\r",
        "68% [=========================>             ] 475,226,112 27.4MB/s  eta 8s     "
       ]
      },
      {
       "output_type": "stream",
       "stream": "stdout",
       "text": [
        "\r",
        "69% [==========================>            ] 482,811,904 28.2MB/s  eta 8s     "
       ]
      },
      {
       "output_type": "stream",
       "stream": "stdout",
       "text": [
        "\r",
        "71% [==========================>            ] 490,758,144 28.8MB/s  eta 8s     "
       ]
      },
      {
       "output_type": "stream",
       "stream": "stdout",
       "text": [
        "\r",
        "72% [===========================>           ] 498,507,776 29.5MB/s  eta 8s     "
       ]
      },
      {
       "output_type": "stream",
       "stream": "stdout",
       "text": [
        "\r",
        "73% [===========================>           ] 506,011,648 30.2MB/s  eta 7s     "
       ]
      },
      {
       "output_type": "stream",
       "stream": "stdout",
       "text": [
        "\r",
        "74% [===========================>           ] 511,680,512 30.3MB/s  eta 7s     "
       ]
      },
      {
       "output_type": "stream",
       "stream": "stdout",
       "text": [
        "\r",
        "75% [============================>          ] 518,496,256 30.6MB/s  eta 7s     "
       ]
      },
      {
       "output_type": "stream",
       "stream": "stdout",
       "text": [
        "\r",
        "76% [============================>          ] 525,918,208 31.1MB/s  eta 7s     "
       ]
      },
      {
       "output_type": "stream",
       "stream": "stdout",
       "text": [
        "\r",
        "77% [=============================>         ] 533,536,768 32.3MB/s  eta 7s     "
       ]
      },
      {
       "output_type": "stream",
       "stream": "stdout",
       "text": [
        "\r",
        "78% [=============================>         ] 541,007,872 32.2MB/s  eta 5s     "
       ]
      },
      {
       "output_type": "stream",
       "stream": "stdout",
       "text": [
        "\r",
        "79% [=============================>         ] 546,758,656 32.3MB/s  eta 5s     "
       ]
      },
      {
       "output_type": "stream",
       "stream": "stdout",
       "text": [
        "\r",
        "80% [==============================>        ] 552,820,736 32.2MB/s  eta 5s     "
       ]
      },
      {
       "output_type": "stream",
       "stream": "stdout",
       "text": [
        "\r",
        "80% [==============================>        ] 556,408,832 31.4MB/s  eta 5s     "
       ]
      },
      {
       "output_type": "stream",
       "stream": "stdout",
       "text": [
        "\r",
        "81% [==============================>        ] 562,028,544 31.5MB/s  eta 5s     "
       ]
      },
      {
       "output_type": "stream",
       "stream": "stdout",
       "text": [
        "\r",
        "82% [===============================>       ] 567,648,256 31.3MB/s  eta 4s     "
       ]
      },
      {
       "output_type": "stream",
       "stream": "stdout",
       "text": [
        "\r",
        "83% [===============================>       ] 574,775,296 31.5MB/s  eta 4s     "
       ]
      },
      {
       "output_type": "stream",
       "stream": "stdout",
       "text": [
        "\r",
        "83% [===============================>       ] 579,182,592 30.5MB/s  eta 4s     "
       ]
      },
      {
       "output_type": "stream",
       "stream": "stdout",
       "text": [
        "\r",
        "84% [================================>      ] 586,096,640 30.4MB/s  eta 4s     "
       ]
      },
      {
       "output_type": "stream",
       "stream": "stdout",
       "text": [
        "\r",
        "85% [================================>      ] 592,363,520 29.7MB/s  eta 4s     "
       ]
      },
      {
       "output_type": "stream",
       "stream": "stdout",
       "text": [
        "\r",
        "86% [================================>      ] 600,039,424 29.9MB/s  eta 3s     "
       ]
      },
      {
       "output_type": "stream",
       "stream": "stdout",
       "text": [
        "\r",
        "87% [=================================>     ] 607,051,776 30.1MB/s  eta 3s     "
       ]
      },
      {
       "output_type": "stream",
       "stream": "stdout",
       "text": [
        "\r",
        "88% [=================================>     ] 613,392,384 30.2MB/s  eta 3s     "
       ]
      },
      {
       "output_type": "stream",
       "stream": "stdout",
       "text": [
        "\r",
        "89% [=================================>     ] 619,175,936 29.7MB/s  eta 3s     "
       ]
      },
      {
       "output_type": "stream",
       "stream": "stdout",
       "text": [
        "\r",
        "90% [==================================>    ] 625,500,160 29.3MB/s  eta 3s     "
       ]
      },
      {
       "output_type": "stream",
       "stream": "stdout",
       "text": [
        "\r",
        "91% [==================================>    ] 630,816,768 28.8MB/s  eta 2s     "
       ]
      },
      {
       "output_type": "stream",
       "stream": "stdout",
       "text": [
        "\r",
        "92% [==================================>    ] 636,559,360 28.4MB/s  eta 2s     "
       ]
      },
      {
       "output_type": "stream",
       "stream": "stdout",
       "text": [
        "\r",
        "93% [===================================>   ] 643,784,704 28.8MB/s  eta 2s     "
       ]
      },
      {
       "output_type": "stream",
       "stream": "stdout",
       "text": [
        "\r",
        "94% [===================================>   ] 649,830,400 28.8MB/s  eta 2s     "
       ]
      },
      {
       "output_type": "stream",
       "stream": "stdout",
       "text": [
        "\r",
        "95% [====================================>  ] 656,760,832 29.8MB/s  eta 2s     "
       ]
      },
      {
       "output_type": "stream",
       "stream": "stdout",
       "text": [
        "\r",
        "96% [====================================>  ] 663,371,776 29.4MB/s  eta 1s     "
       ]
      },
      {
       "output_type": "stream",
       "stream": "stdout",
       "text": [
        "\r",
        "97% [====================================>  ] 672,260,096 30.1MB/s  eta 1s     "
       ]
      },
      {
       "output_type": "stream",
       "stream": "stdout",
       "text": [
        "\r",
        "98% [=====================================> ] 677,584,896 30.0MB/s  eta 1s     "
       ]
      },
      {
       "output_type": "stream",
       "stream": "stdout",
       "text": [
        "\r",
        "98% [=====================================> ] 682,303,488 29.7MB/s  eta 1s     "
       ]
      },
      {
       "output_type": "stream",
       "stream": "stdout",
       "text": [
        "\r",
        "99% [=====================================> ] 687,841,280 29.6MB/s  eta 1s     "
       ]
      },
      {
       "output_type": "stream",
       "stream": "stdout",
       "text": [
        "\r",
        "100%[======================================>] 690,785,256 29.5MB/s   in 24s    \r\n",
        "\r\n"
       ]
      },
      {
       "output_type": "stream",
       "stream": "stdout",
       "text": [
        "2015-02-02 17:46:36 (27.0 MB/s) - \u2018tcga-data.nci.nih.gov/tcgafiles/ftp_auth/distro_ftpusers/anonymous/tumor/uvm/cgcc/jhu-usc.edu/humanmethylation450/methylation/jhu-usc.edu_UVM.HumanMethylation450.Level_1.1.0.0.tar.gz\u2019 saved [690785256/690785256]\r\n",
        "\r\n",
        "--2015-02-02 17:46:36--  https://tcga-data.nci.nih.gov/tcgafiles/ftp_auth/distro_ftpusers/anonymous/tumor/uvm/cgcc/jhu-usc.edu/humanmethylation450/methylation/jhu-usc.edu_UVM.HumanMethylation450.Level_1.1.0.0.tar.gz.md5\r\n",
        "Connecting to tcga-data.nci.nih.gov (tcga-data.nci.nih.gov)|165.112.32.155|:443... "
       ]
      },
      {
       "output_type": "stream",
       "stream": "stdout",
       "text": [
        "connected.\r\n"
       ]
      },
      {
       "output_type": "stream",
       "stream": "stdout",
       "text": [
        "HTTP request sent, awaiting response... "
       ]
      },
      {
       "output_type": "stream",
       "stream": "stdout",
       "text": [
        "200 OK\r\n",
        "Length: 90 [application/x-gzip]\r\n",
        "Saving to: \u2018tcga-data.nci.nih.gov/tcgafiles/ftp_auth/distro_ftpusers/anonymous/tumor/uvm/cgcc/jhu-usc.edu/humanmethylation450/methylation/jhu-usc.edu_UVM.HumanMethylation450.Level_1.1.0.0.tar.gz.md5\u2019\r\n",
        "\r\n",
        "\r",
        " 0% [                                       ] 0           --.-K/s              \r",
        "100%[======================================>] 90          --.-K/s   in 0s      \r\n",
        "\r\n",
        "2015-02-02 17:46:36 (7.92 MB/s) - \u2018tcga-data.nci.nih.gov/tcgafiles/ftp_auth/distro_ftpusers/anonymous/tumor/uvm/cgcc/jhu-usc.edu/humanmethylation450/methylation/jhu-usc.edu_UVM.HumanMethylation450.Level_1.1.0.0.tar.gz.md5\u2019 saved [90/90]\r\n",
        "\r\n",
        "--2015-02-02 17:46:36--  https://tcga-data.nci.nih.gov/tcgafiles/ftp_auth/distro_ftpusers/anonymous/tumor/uvm/cgcc/jhu-usc.edu/humanmethylation450/methylation/jhu-usc.edu_UVM.HumanMethylation450.Level_1.1.0.0/\r\n",
        "Reusing existing connection to tcga-data.nci.nih.gov:443.\r\n",
        "HTTP request sent, awaiting response... "
       ]
      },
      {
       "output_type": "stream",
       "stream": "stdout",
       "text": [
        "200 OK\r\n",
        "Length: unspecified [text/html]\r\n",
        "Saving to: \u2018tcga-data.nci.nih.gov/tcgafiles/ftp_auth/distro_ftpusers/anonymous/tumor/uvm/cgcc/jhu-usc.edu/humanmethylation450/methylation/jhu-usc.edu_UVM.HumanMethylation450.Level_1.1.0.0/index.html\u2019\r\n",
        "\r\n",
        "\r",
        "    [<=>                                    ] 0           --.-K/s              "
       ]
      },
      {
       "output_type": "stream",
       "stream": "stdout",
       "text": [
        "\r",
        "    [ <=>                                   ] 30,107       188KB/s   in 0.2s   \r\n",
        "\r\n",
        "2015-02-02 17:46:37 (188 KB/s) - \u2018tcga-data.nci.nih.gov/tcgafiles/ftp_auth/distro_ftpusers/anonymous/tumor/uvm/cgcc/jhu-usc.edu/humanmethylation450/methylation/jhu-usc.edu_UVM.HumanMethylation450.Level_1.1.0.0/index.html\u2019 saved [30107]\r\n",
        "\r\n",
        "Removing tcga-data.nci.nih.gov/tcgafiles/ftp_auth/distro_ftpusers/anonymous/tumor/uvm/cgcc/jhu-usc.edu/humanmethylation450/methylation/jhu-usc.edu_UVM.HumanMethylation450.Level_1.1.0.0/index.html since it should be rejected.\r\n",
        "\r\n",
        "--2015-02-02 17:46:37--  https://tcga-data.nci.nih.gov/tcgafiles/ftp_auth/distro_ftpusers/anonymous/tumor/uvm/cgcc/jhu-usc.edu/humanmethylation450/methylation/jhu-usc.edu_UVM.HumanMethylation450.Level_2.1.0.0.tar.gz\r\n",
        "Reusing existing connection to tcga-data.nci.nih.gov:443.\r\n",
        "HTTP request sent, awaiting response... "
       ]
      },
      {
       "output_type": "stream",
       "stream": "stdout",
       "text": [
        "200 OK\r\n",
        "Length: 772640631 (737M) [application/x-gzip]\r\n",
        "Saving to: \u2018tcga-data.nci.nih.gov/tcgafiles/ftp_auth/distro_ftpusers/anonymous/tumor/uvm/cgcc/jhu-usc.edu/humanmethylation450/methylation/jhu-usc.edu_UVM.HumanMethylation450.Level_2.1.0.0.tar.gz\u2019\r\n",
        "\r\n",
        "\r",
        " 0% [                                       ] 0           --.-K/s              "
       ]
      },
      {
       "output_type": "stream",
       "stream": "stdout",
       "text": [
        "\r",
        " 0% [                                       ] 73,728       338KB/s             "
       ]
      },
      {
       "output_type": "stream",
       "stream": "stdout",
       "text": [
        "\r",
        " 0% [                                       ] 204,800      445KB/s             "
       ]
      },
      {
       "output_type": "stream",
       "stream": "stdout",
       "text": [
        "\r",
        " 0% [                                       ] 466,944      665KB/s             "
       ]
      },
      {
       "output_type": "stream",
       "stream": "stdout",
       "text": [
        "\r",
        " 0% [                                       ] 958,464     1016KB/s             "
       ]
      },
      {
       "output_type": "stream",
       "stream": "stdout",
       "text": [
        "\r",
        " 0% [                                       ] 1,794,048   1.50MB/s             "
       ]
      },
      {
       "output_type": "stream",
       "stream": "stdout",
       "text": [
        "\r",
        " 0% [                                       ] 2,965,504   2.11MB/s             "
       ]
      },
      {
       "output_type": "stream",
       "stream": "stdout",
       "text": [
        "\r",
        " 0% [                                       ] 4,038,656   2.48MB/s             "
       ]
      },
      {
       "output_type": "stream",
       "stream": "stdout",
       "text": [
        "\r",
        " 0% [                                       ] 6,053,888   3.26MB/s             "
       ]
      },
      {
       "output_type": "stream",
       "stream": "stdout",
       "text": [
        "\r",
        " 1% [                                       ] 8,765,440   4.24MB/s             "
       ]
      },
      {
       "output_type": "stream",
       "stream": "stdout",
       "text": [
        "\r",
        " 1% [                                       ] 12,263,424  5.39MB/s             "
       ]
      },
      {
       "output_type": "stream",
       "stream": "stdout",
       "text": [
        "\r",
        " 2% [                                       ] 18,341,888  7.38MB/s             "
       ]
      },
      {
       "output_type": "stream",
       "stream": "stdout",
       "text": [
        "\r",
        " 3% [>                                      ] 23,977,984  8.89MB/s             "
       ]
      },
      {
       "output_type": "stream",
       "stream": "stdout",
       "text": [
        "\r",
        " 4% [>                                      ] 30,924,800  10.6MB/s             "
       ]
      },
      {
       "output_type": "stream",
       "stream": "stdout",
       "text": [
        "\r",
        " 4% [>                                      ] 36,675,584  11.8MB/s             "
       ]
      },
      {
       "output_type": "stream",
       "stream": "stdout",
       "text": [
        "\r",
        " 5% [>                                      ] 39,329,792  11.6MB/s  eta 60s    "
       ]
      },
      {
       "output_type": "stream",
       "stream": "stdout",
       "text": [
        "\r",
        " 5% [=>                                     ] 44,539,904  12.9MB/s  eta 60s    "
       ]
      },
      {
       "output_type": "stream",
       "stream": "stdout",
       "text": [
        "\r",
        " 6% [=>                                     ] 50,585,600  14.5MB/s  eta 60s    "
       ]
      },
      {
       "output_type": "stream",
       "stream": "stdout",
       "text": [
        "\r",
        " 7% [=>                                     ] 56,401,920  16.7MB/s  eta 60s    "
       ]
      },
      {
       "output_type": "stream",
       "stream": "stdout",
       "text": [
        "\r",
        " 8% [==>                                    ] 62,758,912  18.2MB/s  eta 60s    "
       ]
      },
      {
       "output_type": "stream",
       "stream": "stdout",
       "text": [
        "\r",
        " 8% [==>                                    ] 68,476,928  19.5MB/s  eta 44s    "
       ]
      },
      {
       "output_type": "stream",
       "stream": "stdout",
       "text": [
        "\r",
        " 9% [==>                                    ] 74,260,480  21.6MB/s  eta 44s    "
       ]
      },
      {
       "output_type": "stream",
       "stream": "stdout",
       "text": [
        "\r",
        "10% [===>                                   ] 81,420,288  23.2MB/s  eta 44s    "
       ]
      },
      {
       "output_type": "stream",
       "stream": "stdout",
       "text": [
        "\r",
        "11% [===>                                   ] 87,613,440  24.4MB/s  eta 44s    "
       ]
      },
      {
       "output_type": "stream",
       "stream": "stdout",
       "text": [
        "\r",
        "12% [===>                                   ] 94,248,960  25.6MB/s  eta 44s    "
       ]
      },
      {
       "output_type": "stream",
       "stream": "stdout",
       "text": [
        "\r",
        "13% [====>                                  ] 101,146,624 27.3MB/s  eta 35s    "
       ]
      },
      {
       "output_type": "stream",
       "stream": "stdout",
       "text": [
        "\r",
        "13% [====>                                  ] 106,913,792 27.7MB/s  eta 35s    "
       ]
      },
      {
       "output_type": "stream",
       "stream": "stdout",
       "text": [
        "\r",
        "14% [====>                                  ] 113,860,608 28.0MB/s  eta 35s    "
       ]
      },
      {
       "output_type": "stream",
       "stream": "stdout",
       "text": [
        "\r",
        "15% [=====>                                 ] 119,005,184 27.6MB/s  eta 35s    "
       ]
      },
      {
       "output_type": "stream",
       "stream": "stdout",
       "text": [
        "\r",
        "16% [=====>                                 ] 123,723,776 27.1MB/s  eta 35s    "
       ]
      },
      {
       "output_type": "stream",
       "stream": "stdout",
       "text": [
        "\r",
        "16% [=====>                                 ] 131,014,656 27.5MB/s  eta 31s    "
       ]
      },
      {
       "output_type": "stream",
       "stream": "stdout",
       "text": [
        "\r",
        "17% [=====>                                 ] 136,749,056 29.2MB/s  eta 31s    "
       ]
      },
      {
       "output_type": "stream",
       "stream": "stdout",
       "text": [
        "\r",
        "18% [======>                                ] 143,712,256 29.6MB/s  eta 31s    "
       ]
      },
      {
       "output_type": "stream",
       "stream": "stdout",
       "text": [
        "\r",
        "19% [======>                                ] 151,461,888 30.1MB/s  eta 31s    "
       ]
      },
      {
       "output_type": "stream",
       "stream": "stdout",
       "text": [
        "\r",
        "20% [======>                                ] 157,458,432 30.0MB/s  eta 31s    "
       ]
      },
      {
       "output_type": "stream",
       "stream": "stdout",
       "text": [
        "\r",
        "21% [=======>                               ] 163,192,832 30.0MB/s  eta 27s    "
       ]
      },
      {
       "output_type": "stream",
       "stream": "stdout",
       "text": [
        "\r",
        "21% [=======>                               ] 168,943,616 29.9MB/s  eta 27s    "
       ]
      },
      {
       "output_type": "stream",
       "stream": "stdout",
       "text": [
        "\r",
        "22% [=======>                               ] 175,513,600 30.0MB/s  eta 27s    "
       ]
      },
      {
       "output_type": "stream",
       "stream": "stdout",
       "text": [
        "\r",
        "23% [========>                              ] 181,559,296 29.9MB/s  eta 27s    "
       ]
      },
      {
       "output_type": "stream",
       "stream": "stdout",
       "text": [
        "\r",
        "24% [========>                              ] 187,293,696 29.6MB/s  eta 27s    "
       ]
      },
      {
       "output_type": "stream",
       "stream": "stdout",
       "text": [
        "\r",
        "25% [========>                              ] 193,470,464 29.2MB/s  eta 25s    "
       ]
      },
      {
       "output_type": "stream",
       "stream": "stdout",
       "text": [
        "\r",
        "25% [=========>                             ] 199,204,864 29.2MB/s  eta 25s    "
       ]
      },
      {
       "output_type": "stream",
       "stream": "stdout",
       "text": [
        "\r",
        "26% [=========>                             ] 205,283,328 29.3MB/s  eta 25s    "
       ]
      },
      {
       "output_type": "stream",
       "stream": "stdout",
       "text": [
        "\r",
        "27% [=========>                             ] 211,312,640 29.2MB/s  eta 25s    "
       ]
      },
      {
       "output_type": "stream",
       "stream": "stdout",
       "text": [
        "\r",
        "28% [==========>                            ] 218,505,216 29.8MB/s  eta 25s    "
       ]
      },
      {
       "output_type": "stream",
       "stream": "stdout",
       "text": [
        "\r",
        "29% [==========>                            ] 226,156,544 30.2MB/s  eta 22s    "
       ]
      },
      {
       "output_type": "stream",
       "stream": "stdout",
       "text": [
        "\r",
        "30% [==========>                            ] 234,086,400 30.8MB/s  eta 22s    "
       ]
      },
      {
       "output_type": "stream",
       "stream": "stdout",
       "text": [
        "\r",
        "31% [===========>                           ] 241,639,424 31.3MB/s  eta 22s    "
       ]
      },
      {
       "output_type": "stream",
       "stream": "stdout",
       "text": [
        "\r",
        "32% [===========>                           ] 249,290,752 31.3MB/s  eta 22s    "
       ]
      },
      {
       "output_type": "stream",
       "stream": "stdout",
       "text": [
        "\r",
        "33% [===========>                           ] 256,057,344 31.1MB/s  eta 22s    "
       ]
      },
      {
       "output_type": "stream",
       "stream": "stdout",
       "text": [
        "\r",
        "33% [============>                          ] 261,808,128 31.1MB/s  eta 20s    "
       ]
      },
      {
       "output_type": "stream",
       "stream": "stdout",
       "text": [
        "\r",
        "34% [============>                          ] 267,608,064 30.8MB/s  eta 20s    "
       ]
      },
      {
       "output_type": "stream",
       "stream": "stdout",
       "text": [
        "\r",
        "35% [============>                          ] 272,539,648 30.8MB/s  eta 20s    "
       ]
      },
      {
       "output_type": "stream",
       "stream": "stdout",
       "text": [
        "\r",
        "36% [=============>                         ] 279,044,096 30.6MB/s  eta 20s    "
       ]
      },
      {
       "output_type": "stream",
       "stream": "stdout",
       "text": [
        "\r",
        "36% [=============>                         ] 285,155,328 30.5MB/s  eta 20s    "
       ]
      },
      {
       "output_type": "stream",
       "stream": "stdout",
       "text": [
        "\r",
        "37% [=============>                         ] 289,808,384 30.3MB/s  eta 19s    "
       ]
      },
      {
       "output_type": "stream",
       "stream": "stdout",
       "text": [
        "\r",
        "38% [==============>                        ] 297,295,872 30.8MB/s  eta 19s    "
       ]
      },
      {
       "output_type": "stream",
       "stream": "stdout",
       "text": [
        "\r",
        "39% [==============>                        ] 302,784,512 30.5MB/s  eta 19s    "
       ]
      },
      {
       "output_type": "stream",
       "stream": "stdout",
       "text": [
        "\r",
        "39% [==============>                        ] 308,469,760 30.3MB/s  eta 19s    "
       ]
      },
      {
       "output_type": "stream",
       "stream": "stdout",
       "text": [
        "\r",
        "40% [==============>                        ] 314,925,056 30.3MB/s  eta 19s    "
       ]
      },
      {
       "output_type": "stream",
       "stream": "stdout",
       "text": [
        "\r",
        "41% [===============>                       ] 321,822,720 29.7MB/s  eta 17s    "
       ]
      },
      {
       "output_type": "stream",
       "stream": "stdout",
       "text": [
        "\r",
        "42% [===============>                       ] 326,688,768 29.1MB/s  eta 17s    "
       ]
      },
      {
       "output_type": "stream",
       "stream": "stdout",
       "text": [
        "\r",
        "43% [===============>                       ] 333,864,960 28.9MB/s  eta 17s    "
       ]
      },
      {
       "output_type": "stream",
       "stream": "stdout",
       "text": [
        "\r",
        "44% [================>                      ] 341,499,904 28.7MB/s  eta 17s    "
       ]
      },
      {
       "output_type": "stream",
       "stream": "stdout",
       "text": [
        "\r",
        "44% [================>                      ] 347,234,304 28.5MB/s  eta 17s    "
       ]
      },
      {
       "output_type": "stream",
       "stream": "stdout",
       "text": [
        "\r",
        "45% [================>                      ] 353,722,368 28.7MB/s  eta 16s    "
       ]
      },
      {
       "output_type": "stream",
       "stream": "stdout",
       "text": [
        "\r",
        "46% [=================>                     ] 361,111,552 29.3MB/s  eta 16s    "
       ]
      },
      {
       "output_type": "stream",
       "stream": "stdout",
       "text": [
        "\r",
        "47% [=================>                     ] 365,862,912 29.2MB/s  eta 16s    "
       ]
      },
      {
       "output_type": "stream",
       "stream": "stdout",
       "text": [
        "\r",
        "48% [=================>                     ] 373,039,104 29.6MB/s  eta 16s    "
       ]
      },
      {
       "output_type": "stream",
       "stream": "stdout",
       "text": [
        "\r",
        "49% [==================>                    ] 380,198,912 29.8MB/s  eta 16s    "
       ]
      },
      {
       "output_type": "stream",
       "stream": "stdout",
       "text": [
        "\r",
        "50% [==================>                    ] 387,588,096 30.5MB/s  eta 14s    "
       ]
      },
      {
       "output_type": "stream",
       "stream": "stdout",
       "text": [
        "\r",
        "51% [==================>                    ] 394,158,080 30.6MB/s  eta 14s    "
       ]
      },
      {
       "output_type": "stream",
       "stream": "stdout",
       "text": [
        "\r",
        "51% [===================>                   ] 399,859,712 30.6MB/s  eta 14s    "
       ]
      },
      {
       "output_type": "stream",
       "stream": "stdout",
       "text": [
        "\r",
        "52% [===================>                   ] 405,872,640 30.7MB/s  eta 14s    "
       ]
      },
      {
       "output_type": "stream",
       "stream": "stdout",
       "text": [
        "\r",
        "53% [===================>                   ] 410,722,304 30.4MB/s  eta 14s    "
       ]
      },
      {
       "output_type": "stream",
       "stream": "stdout",
       "text": [
        "\r",
        "53% [====================>                  ] 416,784,384 30.0MB/s  eta 13s    "
       ]
      },
      {
       "output_type": "stream",
       "stream": "stdout",
       "text": [
        "\r",
        "54% [====================>                  ] 423,010,304 30.3MB/s  eta 13s    "
       ]
      },
      {
       "output_type": "stream",
       "stream": "stdout",
       "text": [
        "\r",
        "55% [====================>                  ] 428,728,320 30.1MB/s  eta 13s    "
       ]
      },
      {
       "output_type": "stream",
       "stream": "stdout",
       "text": [
        "\r",
        "56% [====================>                  ] 434,774,016 29.6MB/s  eta 13s    "
       ]
      },
      {
       "output_type": "stream",
       "stream": "stdout",
       "text": [
        "\r",
        "57% [=====================>                 ] 440,721,408 29.5MB/s  eta 13s    "
       ]
      },
      {
       "output_type": "stream",
       "stream": "stdout",
       "text": [
        "\r",
        "57% [=====================>                 ] 446,521,344 29.5MB/s  eta 12s    "
       ]
      },
      {
       "output_type": "stream",
       "stream": "stdout",
       "text": [
        "\r",
        "58% [=====================>                 ] 452,288,512 28.8MB/s  eta 12s    "
       ]
      },
      {
       "output_type": "stream",
       "stream": "stdout",
       "text": [
        "\r",
        "59% [======================>                ] 458,039,296 29.0MB/s  eta 12s    "
       ]
      },
      {
       "output_type": "stream",
       "stream": "stdout",
       "text": [
        "\r",
        "59% [======================>                ] 462,888,960 28.8MB/s  eta 12s    "
       ]
      },
      {
       "output_type": "stream",
       "stream": "stdout",
       "text": [
        "\r",
        "60% [======================>                ] 468,738,048 28.0MB/s  eta 12s    "
       ]
      },
      {
       "output_type": "stream",
       "stream": "stdout",
       "text": [
        "\r",
        "61% [======================>                ] 475,357,184 27.8MB/s  eta 11s    "
       ]
      },
      {
       "output_type": "stream",
       "stream": "stdout",
       "text": [
        "\r",
        "62% [=======================>               ] 481,107,968 27.6MB/s  eta 11s    "
       ]
      },
      {
       "output_type": "stream",
       "stream": "stdout",
       "text": [
        "\r",
        "63% [=======================>               ] 486,809,600 27.5MB/s  eta 11s    "
       ]
      },
      {
       "output_type": "stream",
       "stream": "stdout",
       "text": [
        "\r",
        "63% [=======================>               ] 494,034,944 27.9MB/s  eta 11s    "
       ]
      },
      {
       "output_type": "stream",
       "stream": "stdout",
       "text": [
        "\r",
        "64% [========================>              ] 501,145,600 28.4MB/s  eta 11s    "
       ]
      },
      {
       "output_type": "stream",
       "stream": "stdout",
       "text": [
        "\r",
        "65% [========================>              ] 506,994,688 28.6MB/s  eta 10s    "
       ]
      },
      {
       "output_type": "stream",
       "stream": "stdout",
       "text": [
        "\r",
        "66% [========================>              ] 512,712,704 28.3MB/s  eta 10s    "
       ]
      },
      {
       "output_type": "stream",
       "stream": "stdout",
       "text": [
        "\r",
        "67% [=========================>             ] 520,839,168 29.1MB/s  eta 10s    "
       ]
      },
      {
       "output_type": "stream",
       "stream": "stdout",
       "text": [
        "\r",
        "68% [=========================>             ] 528,048,128 29.4MB/s  eta 10s    "
       ]
      },
      {
       "output_type": "stream",
       "stream": "stdout",
       "text": [
        "\r",
        "69% [=========================>             ] 534,601,728 29.5MB/s  eta 10s    "
       ]
      },
      {
       "output_type": "stream",
       "stream": "stdout",
       "text": [
        "\r",
        "69% [==========================>            ] 540,663,808 29.7MB/s  eta 8s     "
       ]
      },
      {
       "output_type": "stream",
       "stream": "stdout",
       "text": [
        "\r",
        "70% [==========================>            ] 547,823,616 30.2MB/s  eta 8s     "
       ]
      },
      {
       "output_type": "stream",
       "stream": "stdout",
       "text": [
        "\r",
        "71% [===========================>           ] 555,196,416 29.8MB/s  eta 8s     "
       ]
      },
      {
       "output_type": "stream",
       "stream": "stdout",
       "text": [
        "\r",
        "72% [===========================>           ] 562,651,136 30.5MB/s  eta 8s     "
       ]
      },
      {
       "output_type": "stream",
       "stream": "stdout",
       "text": [
        "\r",
        "73% [===========================>           ] 570,023,936 30.5MB/s  eta 8s     "
       ]
      },
      {
       "output_type": "stream",
       "stream": "stdout",
       "text": [
        "\r",
        "74% [============================>          ] 577,118,208 30.6MB/s  eta 7s     "
       ]
      },
      {
       "output_type": "stream",
       "stream": "stdout",
       "text": [
        "\r",
        "75% [============================>          ] 582,787,072 30.4MB/s  eta 7s     "
       ]
      },
      {
       "output_type": "stream",
       "stream": "stdout",
       "text": [
        "\r",
        "76% [============================>          ] 589,996,032 31.1MB/s  eta 7s     "
       ]
      },
      {
       "output_type": "stream",
       "stream": "stdout",
       "text": [
        "\r",
        "77% [=============================>         ] 596,189,184 31.0MB/s  eta 7s     "
       ]
      },
      {
       "output_type": "stream",
       "stream": "stdout",
       "text": [
        "\r",
        "77% [=============================>         ] 602,595,328 30.7MB/s  eta 7s     "
       ]
      },
      {
       "output_type": "stream",
       "stream": "stdout",
       "text": [
        "\r",
        "78% [=============================>         ] 609,263,616 30.8MB/s  eta 6s     "
       ]
      },
      {
       "output_type": "stream",
       "stream": "stdout",
       "text": [
        "\r",
        "79% [==============================>        ] 615,882,752 31.0MB/s  eta 6s     "
       ]
      },
      {
       "output_type": "stream",
       "stream": "stdout",
       "text": [
        "\r",
        "80% [==============================>        ] 622,223,360 30.6MB/s  eta 6s     "
       ]
      },
      {
       "output_type": "stream",
       "stream": "stdout",
       "text": [
        "\r",
        "81% [==============================>        ] 627,859,456 29.9MB/s  eta 6s     "
       ]
      },
      {
       "output_type": "stream",
       "stream": "stdout",
       "text": [
        "\r",
        "82% [==============================>        ] 633,593,856 29.6MB/s  eta 6s     "
       ]
      },
      {
       "output_type": "stream",
       "stream": "stdout",
       "text": [
        "\r",
        "82% [===============================>       ] 639,344,640 29.6MB/s  eta 5s     "
       ]
      },
      {
       "output_type": "stream",
       "stream": "stdout",
       "text": [
        "\r",
        "83% [===============================>       ] 644,751,360 29.1MB/s  eta 5s     "
       ]
      },
      {
       "output_type": "stream",
       "stream": "stdout",
       "text": [
        "\r",
        "84% [===============================>       ] 649,715,712 28.3MB/s  eta 5s     "
       ]
      },
      {
       "output_type": "stream",
       "stream": "stdout",
       "text": [
        "\r",
        "84% [================================>      ] 655,433,728 28.8MB/s  eta 5s     "
       ]
      },
      {
       "output_type": "stream",
       "stream": "stdout",
       "text": [
        "\r",
        "85% [================================>      ] 661,676,032 28.9MB/s  eta 5s     "
       ]
      },
      {
       "output_type": "stream",
       "stream": "stdout",
       "text": [
        "\r",
        "86% [================================>      ] 668,770,304 29.1MB/s  eta 4s     "
       ]
      },
      {
       "output_type": "stream",
       "stream": "stdout",
       "text": [
        "\r",
        "87% [=================================>     ] 676,798,464 29.6MB/s  eta 4s     "
       ]
      },
      {
       "output_type": "stream",
       "stream": "stdout",
       "text": [
        "\r",
        "88% [=================================>     ] 683,909,120 29.8MB/s  eta 4s     "
       ]
      },
      {
       "output_type": "stream",
       "stream": "stdout",
       "text": [
        "\r",
        "89% [=================================>     ] 691,724,288 30.2MB/s  eta 4s     "
       ]
      },
      {
       "output_type": "stream",
       "stream": "stdout",
       "text": [
        "\r",
        "90% [==================================>    ] 698,851,328 30.3MB/s  eta 4s     "
       ]
      },
      {
       "output_type": "stream",
       "stream": "stdout",
       "text": [
        "\r",
        "91% [==================================>    ] 704,602,112 30.0MB/s  eta 2s     "
       ]
      },
      {
       "output_type": "stream",
       "stream": "stdout",
       "text": [
        "\r",
        "92% [==================================>    ] 711,958,528 30.1MB/s  eta 2s     "
       ]
      },
      {
       "output_type": "stream",
       "stream": "stdout",
       "text": [
        "\r",
        "93% [===================================>   ] 719,921,152 30.7MB/s  eta 2s     "
       ]
      },
      {
       "output_type": "stream",
       "stream": "stdout",
       "text": [
        "\r",
        "93% [===================================>   ] 726,147,072 30.9MB/s  eta 2s     "
       ]
      },
      {
       "output_type": "stream",
       "stream": "stdout",
       "text": [
        "\r",
        "94% [===================================>   ] 731,701,248 30.7MB/s  eta 2s     "
       ]
      },
      {
       "output_type": "stream",
       "stream": "stdout",
       "text": [
        "\r",
        "95% [====================================>  ] 737,648,640 30.8MB/s  eta 1s     "
       ]
      },
      {
       "output_type": "stream",
       "stream": "stdout",
       "text": [
        "\r",
        "96% [====================================>  ] 742,678,528 30.6MB/s  eta 1s     "
       ]
      },
      {
       "output_type": "stream",
       "stream": "stdout",
       "text": [
        "\r",
        "96% [====================================>  ] 747,102,208 30.5MB/s  eta 1s     "
       ]
      },
      {
       "output_type": "stream",
       "stream": "stdout",
       "text": [
        "\r",
        "97% [=====================================> ] 752,852,992 30.5MB/s  eta 1s     "
       ]
      },
      {
       "output_type": "stream",
       "stream": "stdout",
       "text": [
        "\r",
        "98% [=====================================> ] 759,341,056 30.8MB/s  eta 1s     "
       ]
      },
      {
       "output_type": "stream",
       "stream": "stdout",
       "text": [
        "\r",
        "99% [=====================================> ] 766,386,176 30.8MB/s  eta 0s     "
       ]
      },
      {
       "output_type": "stream",
       "stream": "stdout",
       "text": [
        "\r",
        "100%[======================================>] 772,640,631 30.5MB/s   in 27s    \r\n",
        "\r\n"
       ]
      },
      {
       "output_type": "stream",
       "stream": "stdout",
       "text": [
        "2015-02-02 17:47:11 (27.5 MB/s) - \u2018tcga-data.nci.nih.gov/tcgafiles/ftp_auth/distro_ftpusers/anonymous/tumor/uvm/cgcc/jhu-usc.edu/humanmethylation450/methylation/jhu-usc.edu_UVM.HumanMethylation450.Level_2.1.0.0.tar.gz\u2019 saved [772640631/772640631]\r\n",
        "\r\n",
        "--2015-02-02 17:47:11--  https://tcga-data.nci.nih.gov/tcgafiles/ftp_auth/distro_ftpusers/anonymous/tumor/uvm/cgcc/jhu-usc.edu/humanmethylation450/methylation/jhu-usc.edu_UVM.HumanMethylation450.Level_2.1.0.0.tar.gz.md5\r\n",
        "Connecting to tcga-data.nci.nih.gov (tcga-data.nci.nih.gov)|165.112.32.155|:443... "
       ]
      },
      {
       "output_type": "stream",
       "stream": "stdout",
       "text": [
        "connected.\r\n"
       ]
      },
      {
       "output_type": "stream",
       "stream": "stdout",
       "text": [
        "HTTP request sent, awaiting response... "
       ]
      },
      {
       "output_type": "stream",
       "stream": "stdout",
       "text": [
        "200 OK\r\n",
        "Length: 90 [application/x-gzip]\r\n",
        "Saving to: \u2018tcga-data.nci.nih.gov/tcgafiles/ftp_auth/distro_ftpusers/anonymous/tumor/uvm/cgcc/jhu-usc.edu/humanmethylation450/methylation/jhu-usc.edu_UVM.HumanMethylation450.Level_2.1.0.0.tar.gz.md5\u2019\r\n",
        "\r\n",
        "\r",
        " 0% [                                       ] 0           --.-K/s              \r",
        "100%[======================================>] 90          --.-K/s   in 0s      \r\n",
        "\r\n",
        "2015-02-02 17:47:11 (3.38 MB/s) - \u2018tcga-data.nci.nih.gov/tcgafiles/ftp_auth/distro_ftpusers/anonymous/tumor/uvm/cgcc/jhu-usc.edu/humanmethylation450/methylation/jhu-usc.edu_UVM.HumanMethylation450.Level_2.1.0.0.tar.gz.md5\u2019 saved [90/90]\r\n",
        "\r\n",
        "--2015-02-02 17:47:11--  https://tcga-data.nci.nih.gov/tcgafiles/ftp_auth/distro_ftpusers/anonymous/tumor/uvm/cgcc/jhu-usc.edu/humanmethylation450/methylation/jhu-usc.edu_UVM.HumanMethylation450.Level_2.1.0.0/\r\n",
        "Reusing existing connection to tcga-data.nci.nih.gov:443.\r\n",
        "HTTP request sent, awaiting response... "
       ]
      },
      {
       "output_type": "stream",
       "stream": "stdout",
       "text": [
        "200 OK\r\n",
        "Length: unspecified [text/html]\r\n",
        "Saving to: \u2018tcga-data.nci.nih.gov/tcgafiles/ftp_auth/distro_ftpusers/anonymous/tumor/uvm/cgcc/jhu-usc.edu/humanmethylation450/methylation/jhu-usc.edu_UVM.HumanMethylation450.Level_2.1.0.0/index.html\u2019\r\n",
        "\r\n",
        "\r",
        "    [<=>                                    ] 0           --.-K/s              "
       ]
      },
      {
       "output_type": "stream",
       "stream": "stdout",
       "text": [
        "\r",
        "    [ <=>                                   ] 19,739      --.-K/s   in 0.08s   \r\n",
        "\r\n",
        "2015-02-02 17:47:11 (243 KB/s) - \u2018tcga-data.nci.nih.gov/tcgafiles/ftp_auth/distro_ftpusers/anonymous/tumor/uvm/cgcc/jhu-usc.edu/humanmethylation450/methylation/jhu-usc.edu_UVM.HumanMethylation450.Level_2.1.0.0/index.html\u2019 saved [19739]\r\n",
        "\r\n",
        "Removing tcga-data.nci.nih.gov/tcgafiles/ftp_auth/distro_ftpusers/anonymous/tumor/uvm/cgcc/jhu-usc.edu/humanmethylation450/methylation/jhu-usc.edu_UVM.HumanMethylation450.Level_2.1.0.0/index.html since it should be rejected.\r\n",
        "\r\n",
        "--2015-02-02 17:47:11--  https://tcga-data.nci.nih.gov/tcgafiles/ftp_auth/distro_ftpusers/anonymous/tumor/uvm/cgcc/jhu-usc.edu/humanmethylation450/methylation/jhu-usc.edu_UVM.HumanMethylation450.Level_3.1.0.0.tar.gz\r\n",
        "Reusing existing connection to tcga-data.nci.nih.gov:443.\r\n",
        "HTTP request sent, awaiting response... "
       ]
      },
      {
       "output_type": "stream",
       "stream": "stdout",
       "text": [
        "200 OK\r\n",
        "Length: 794647338 (758M) [application/x-gzip]\r\n",
        "Saving to: \u2018tcga-data.nci.nih.gov/tcgafiles/ftp_auth/distro_ftpusers/anonymous/tumor/uvm/cgcc/jhu-usc.edu/humanmethylation450/methylation/jhu-usc.edu_UVM.HumanMethylation450.Level_3.1.0.0.tar.gz\u2019\r\n",
        "\r\n",
        "\r",
        " 0% [                                       ] 0           --.-K/s              "
       ]
      },
      {
       "output_type": "stream",
       "stream": "stdout",
       "text": [
        "\r",
        " 0% [                                       ] 57,344       257KB/s             "
       ]
      },
      {
       "output_type": "stream",
       "stream": "stdout",
       "text": [
        "\r",
        " 0% [                                       ] 188,416      404KB/s             "
       ]
      },
      {
       "output_type": "stream",
       "stream": "stdout",
       "text": [
        "\r",
        " 0% [                                       ] 434,176      632KB/s             "
       ]
      },
      {
       "output_type": "stream",
       "stream": "stdout",
       "text": [
        "\r",
        " 0% [                                       ] 827,392      927KB/s             "
       ]
      },
      {
       "output_type": "stream",
       "stream": "stdout",
       "text": [
        "\r",
        " 0% [                                       ] 1,400,832   1.23MB/s             "
       ]
      },
      {
       "output_type": "stream",
       "stream": "stdout",
       "text": [
        "\r",
        " 0% [                                       ] 2,449,408   1.79MB/s             "
       ]
      },
      {
       "output_type": "stream",
       "stream": "stdout",
       "text": [
        "\r",
        " 0% [                                       ] 4,087,808   2.59MB/s             "
       ]
      },
      {
       "output_type": "stream",
       "stream": "stdout",
       "text": [
        "\r",
        " 0% [                                       ] 6,316,032   3.50MB/s             "
       ]
      },
      {
       "output_type": "stream",
       "stream": "stdout",
       "text": [
        "\r",
        " 1% [                                       ] 11,018,240  5.42MB/s             "
       ]
      },
      {
       "output_type": "stream",
       "stream": "stdout",
       "text": [
        "\r",
        " 2% [                                       ] 17,883,136  7.97MB/s             "
       ]
      },
      {
       "output_type": "stream",
       "stream": "stdout",
       "text": [
        "\r",
        " 3% [>                                      ] 24,158,208  9.84MB/s             "
       ]
      },
      {
       "output_type": "stream",
       "stream": "stdout",
       "text": [
        "\r",
        " 3% [>                                      ] 31,514,624  11.8MB/s             "
       ]
      },
      {
       "output_type": "stream",
       "stream": "stdout",
       "text": [
        "\r",
        " 4% [>                                      ] 38,576,128  13.4MB/s             "
       ]
      },
      {
       "output_type": "stream",
       "stream": "stdout",
       "text": [
        "\r",
        " 5% [=>                                     ] 44,163,072  14.3MB/s             "
       ]
      },
      {
       "output_type": "stream",
       "stream": "stdout",
       "text": [
        "\r",
        " 6% [=>                                     ] 51,290,112  15.5MB/s  eta 46s    "
       ]
      },
      {
       "output_type": "stream",
       "stream": "stdout",
       "text": [
        "\r",
        " 7% [=>                                     ] 57,892,864  17.6MB/s  eta 46s    "
       ]
      },
      {
       "output_type": "stream",
       "stream": "stdout",
       "text": [
        "\r",
        " 7% [==>                                    ] 63,397,888  19.0MB/s  eta 46s    "
       ]
      },
      {
       "output_type": "stream",
       "stream": "stdout",
       "text": [
        "\r",
        " 8% [==>                                    ] 69,820,416  20.6MB/s  eta 46s    "
       ]
      },
      {
       "output_type": "stream",
       "stream": "stdout",
       "text": [
        "\r",
        " 9% [==>                                    ] 75,751,424  23.1MB/s  eta 46s    "
       ]
      },
      {
       "output_type": "stream",
       "stream": "stdout",
       "text": [
        "\r",
        "10% [==>                                    ] 81,289,216  24.3MB/s  eta 36s    "
       ]
      },
      {
       "output_type": "stream",
       "stream": "stdout",
       "text": [
        "\r",
        "11% [===>                                   ] 87,678,976  25.7MB/s  eta 36s    "
       ]
      },
      {
       "output_type": "stream",
       "stream": "stdout",
       "text": [
        "\r",
        "12% [===>                                   ] 95,772,672  28.6MB/s  eta 36s    "
       ]
      },
      {
       "output_type": "stream",
       "stream": "stdout",
       "text": [
        "\r",
        "12% [====>                                  ] 103,112,704 29.9MB/s  eta 36s    "
       ]
      },
      {
       "output_type": "stream",
       "stream": "stdout",
       "text": [
        "\r",
        "13% [====>                                  ] 110,747,648 31.1MB/s  eta 36s    "
       ]
      },
      {
       "output_type": "stream",
       "stream": "stdout",
       "text": [
        "\r",
        "14% [====>                                  ] 118,595,584 32.1MB/s  eta 29s    "
       ]
      },
      {
       "output_type": "stream",
       "stream": "stdout",
       "text": [
        "\r",
        "15% [=====>                                 ] 125,804,544 32.2MB/s  eta 29s    "
       ]
      },
      {
       "output_type": "stream",
       "stream": "stdout",
       "text": [
        "\r",
        "16% [=====>                                 ] 133,619,712 32.4MB/s  eta 29s    "
       ]
      },
      {
       "output_type": "stream",
       "stream": "stdout",
       "text": [
        "\r",
        "17% [=====>                                 ] 141,074,432 32.3MB/s  eta 29s    "
       ]
      },
      {
       "output_type": "stream",
       "stream": "stdout",
       "text": [
        "\r",
        "18% [======>                                ] 146,743,296 32.3MB/s  eta 29s    "
       ]
      },
      {
       "output_type": "stream",
       "stream": "stdout",
       "text": [
        "\r",
        "19% [======>                                ] 154,329,088 32.5MB/s  eta 26s    "
       ]
      },
      {
       "output_type": "stream",
       "stream": "stdout",
       "text": [
        "\r",
        "20% [======>                                ] 162,013,184 32.9MB/s  eta 26s    "
       ]
      },
      {
       "output_type": "stream",
       "stream": "stdout",
       "text": [
        "\r",
        "21% [=======>                               ] 167,583,744 32.8MB/s  eta 26s    "
       ]
      },
      {
       "output_type": "stream",
       "stream": "stdout",
       "text": [
        "\r",
        "21% [=======>                               ] 174,104,576 33.0MB/s  eta 26s    "
       ]
      },
      {
       "output_type": "stream",
       "stream": "stdout",
       "text": [
        "\r",
        "22% [=======>                               ] 181,133,312 33.3MB/s  eta 26s    "
       ]
      },
      {
       "output_type": "stream",
       "stream": "stdout",
       "text": [
        "\r",
        "23% [========>                              ] 187,998,208 33.6MB/s  eta 23s    "
       ]
      },
      {
       "output_type": "stream",
       "stream": "stdout",
       "text": [
        "\r",
        "24% [========>                              ] 194,732,032 33.7MB/s  eta 23s    "
       ]
      },
      {
       "output_type": "stream",
       "stream": "stdout",
       "text": [
        "\r",
        "25% [========>                              ] 201,842,688 33.7MB/s  eta 23s    "
       ]
      },
      {
       "output_type": "stream",
       "stream": "stdout",
       "text": [
        "\r",
        "26% [=========>                             ] 209,526,784 33.6MB/s  eta 23s    "
       ]
      },
      {
       "output_type": "stream",
       "stream": "stdout",
       "text": [
        "\r",
        "27% [=========>                             ] 217,366,528 33.9MB/s  eta 23s    "
       ]
      },
      {
       "output_type": "stream",
       "stream": "stdout",
       "text": [
        "\r",
        "28% [==========>                            ] 225,107,968 33.9MB/s  eta 21s    "
       ]
      },
      {
       "output_type": "stream",
       "stream": "stdout",
       "text": [
        "\r",
        "29% [==========>                            ] 230,924,288 33.4MB/s  eta 21s    "
       ]
      },
      {
       "output_type": "stream",
       "stream": "stdout",
       "text": [
        "\r",
        "29% [==========>                            ] 236,445,696 32.9MB/s  eta 21s    "
       ]
      },
      {
       "output_type": "stream",
       "stream": "stdout",
       "text": [
        "\r",
        "30% [==========>                            ] 242,966,528 32.6MB/s  eta 21s    "
       ]
      },
      {
       "output_type": "stream",
       "stream": "stdout",
       "text": [
        "\r",
        "31% [===========>                           ] 249,929,728 32.4MB/s  eta 21s    "
       ]
      },
      {
       "output_type": "stream",
       "stream": "stdout",
       "text": [
        "\r",
        "32% [===========>                           ] 257,654,784 32.9MB/s  eta 19s    "
       ]
      },
      {
       "output_type": "stream",
       "stream": "stdout",
       "text": [
        "\r",
        "33% [===========>                           ] 264,757,248 32.7MB/s  eta 19s    "
       ]
      },
      {
       "output_type": "stream",
       "stream": "stdout",
       "text": [
        "\r",
        "34% [============>                          ] 270,344,192 32.4MB/s  eta 19s    "
       ]
      },
      {
       "output_type": "stream",
       "stream": "stdout",
       "text": [
        "\r",
        "34% [============>                          ] 276,799,488 32.6MB/s  eta 19s    "
       ]
      },
      {
       "output_type": "stream",
       "stream": "stdout",
       "text": [
        "\r",
        "35% [============>                          ] 283,992,064 32.8MB/s  eta 19s    "
       ]
      },
      {
       "output_type": "stream",
       "stream": "stdout",
       "text": [
        "\r",
        "36% [=============>                         ] 292,249,600 33.3MB/s  eta 17s    "
       ]
      },
      {
       "output_type": "stream",
       "stream": "stdout",
       "text": [
        "\r",
        "37% [=============>                         ] 297,721,856 32.1MB/s  eta 17s    "
       ]
      },
      {
       "output_type": "stream",
       "stream": "stdout",
       "text": [
        "\r",
        "38% [=============>                         ] 305,192,960 31.8MB/s  eta 17s    "
       ]
      },
      {
       "output_type": "stream",
       "stream": "stdout",
       "text": [
        "\r",
        "39% [==============>                        ] 311,959,552 31.6MB/s  eta 17s    "
       ]
      },
      {
       "output_type": "stream",
       "stream": "stdout",
       "text": [
        "\r",
        "39% [==============>                        ] 317,333,504 31.1MB/s  eta 17s    "
       ]
      },
      {
       "output_type": "stream",
       "stream": "stdout",
       "text": [
        "\r",
        "40% [==============>                        ] 323,436,544 30.6MB/s  eta 16s    "
       ]
      },
      {
       "output_type": "stream",
       "stream": "stdout",
       "text": [
        "\r",
        "41% [===============>                       ] 329,867,264 30.5MB/s  eta 16s    "
       ]
      },
      {
       "output_type": "stream",
       "stream": "stdout",
       "text": [
        "\r",
        "42% [===============>                       ] 335,224,832 30.4MB/s  eta 16s    "
       ]
      },
      {
       "output_type": "stream",
       "stream": "stdout",
       "text": [
        "\r",
        "42% [===============>                       ] 340,746,240 30.3MB/s  eta 16s    "
       ]
      },
      {
       "output_type": "stream",
       "stream": "stdout",
       "text": [
        "\r",
        "43% [===============>                       ] 344,858,624 29.2MB/s  eta 16s    "
       ]
      },
      {
       "output_type": "stream",
       "stream": "stdout",
       "text": [
        "\r",
        "44% [================>                      ] 351,936,512 29.3MB/s  eta 15s    "
       ]
      },
      {
       "output_type": "stream",
       "stream": "stdout",
       "text": [
        "\r",
        "44% [================>                      ] 356,081,664 28.4MB/s  eta 15s    "
       ]
      },
      {
       "output_type": "stream",
       "stream": "stdout",
       "text": [
        "\r",
        "45% [================>                      ] 362,553,344 28.3MB/s  eta 15s    "
       ]
      },
      {
       "output_type": "stream",
       "stream": "stdout",
       "text": [
        "\r",
        "46% [=================>                     ] 368,140,288 28.4MB/s  eta 15s    "
       ]
      },
      {
       "output_type": "stream",
       "stream": "stdout",
       "text": [
        "\r",
        "47% [=================>                     ] 374,235,136 28.0MB/s  eta 15s    "
       ]
      },
      {
       "output_type": "stream",
       "stream": "stdout",
       "text": [
        "\r",
        "47% [=================>                     ] 378,789,888 27.4MB/s  eta 15s    "
       ]
      },
      {
       "output_type": "stream",
       "stream": "stdout",
       "text": [
        "\r",
        "48% [=================>                     ] 383,311,872 26.1MB/s  eta 15s    "
       ]
      },
      {
       "output_type": "stream",
       "stream": "stdout",
       "text": [
        "\r",
        "49% [==================>                    ] 390,635,520 27.1MB/s  eta 15s    "
       ]
      },
      {
       "output_type": "stream",
       "stream": "stdout",
       "text": [
        "\r",
        "49% [==================>                    ] 396,173,312 27.0MB/s  eta 15s    "
       ]
      },
      {
       "output_type": "stream",
       "stream": "stdout",
       "text": [
        "\r",
        "50% [==================>                    ] 402,251,776 27.0MB/s  eta 15s    "
       ]
      },
      {
       "output_type": "stream",
       "stream": "stdout",
       "text": [
        "\r",
        "51% [==================>                    ] 406,740,992 26.5MB/s  eta 14s    "
       ]
      },
      {
       "output_type": "stream",
       "stream": "stdout",
       "text": [
        "\r",
        "51% [===================>                   ] 411,148,288 26.0MB/s  eta 14s    "
       ]
      },
      {
       "output_type": "stream",
       "stream": "stdout",
       "text": [
        "\r",
        "52% [===================>                   ] 419,127,296 26.6MB/s  eta 14s    "
       ]
      },
      {
       "output_type": "stream",
       "stream": "stdout",
       "text": [
        "\r",
        "53% [===================>                   ] 424,681,472 26.6MB/s  eta 14s    "
       ]
      },
      {
       "output_type": "stream",
       "stream": "stdout",
       "text": [
        "\r",
        "54% [====================>                  ] 431,546,368 27.4MB/s  eta 14s    "
       ]
      },
      {
       "output_type": "stream",
       "stream": "stdout",
       "text": [
        "\r",
        "55% [====================>                  ] 437,379,072 27.2MB/s  eta 12s    "
       ]
      },
      {
       "output_type": "stream",
       "stream": "stdout",
       "text": [
        "\r",
        "55% [====================>                  ] 444,030,976 27.6MB/s  eta 12s    "
       ]
      },
      {
       "output_type": "stream",
       "stream": "stdout",
       "text": [
        "\r",
        "56% [=====================>                 ] 449,781,760 27.6MB/s  eta 12s    "
       ]
      },
      {
       "output_type": "stream",
       "stream": "stdout",
       "text": [
        "\r",
        "57% [=====================>                 ] 455,319,552 27.5MB/s  eta 12s    "
       ]
      },
      {
       "output_type": "stream",
       "stream": "stdout",
       "text": [
        "\r",
        "57% [=====================>                 ] 460,349,440 27.4MB/s  eta 12s    "
       ]
      },
      {
       "output_type": "stream",
       "stream": "stdout",
       "text": [
        "\r",
        "58% [=====================>                 ] 466,132,992 27.3MB/s  eta 11s    "
       ]
      },
      {
       "output_type": "stream",
       "stream": "stdout",
       "text": [
        "\r",
        "59% [======================>                ] 472,686,592 28.2MB/s  eta 11s    "
       ]
      },
      {
       "output_type": "stream",
       "stream": "stdout",
       "text": [
        "\r",
        "60% [======================>                ] 478,208,000 27.7MB/s  eta 11s    "
       ]
      },
      {
       "output_type": "stream",
       "stream": "stdout",
       "text": [
        "\r",
        "60% [======================>                ] 483,876,864 27.7MB/s  eta 11s    "
       ]
      },
      {
       "output_type": "stream",
       "stream": "stdout",
       "text": [
        "\r",
        "61% [======================>                ] 488,382,464 27.2MB/s  eta 11s    "
       ]
      },
      {
       "output_type": "stream",
       "stream": "stdout",
       "text": [
        "\r",
        "62% [=======================>               ] 494,264,320 27.5MB/s  eta 11s    "
       ]
      }
     ]
    },
    {
     "cell_type": "markdown",
     "metadata": {},
     "source": [
      "<b>Download Certificate (Optional?)</b>"
     ]
    },
    {
     "cell_type": "code",
     "collapsed": false,
     "input": [
      "!curl --cacert $PATH_TO_CERT $url -o tmp.html"
     ],
     "language": "python",
     "metadata": {},
     "outputs": [
      {
       "output_type": "stream",
       "stream": "stdout",
       "text": [
        "  % Total    % Received % Xferd  Average Speed   Time    Time     Time  Current\r\n",
        "                                 Dload  Upload   Total   Spent    Left  Speed\r\n",
        "\r",
        "  0     0    0     0    0     0      0      0 --:--:-- --:--:-- --:--:--     0"
       ]
      },
      {
       "output_type": "stream",
       "stream": "stdout",
       "text": [
        "\r",
        "100  4593  100  4593    0     0  12759      0 --:--:-- --:--:-- --:--:-- 12793\r\n"
       ]
      }
     ],
     "prompt_number": 19
    },
    {
     "cell_type": "markdown",
     "metadata": {},
     "source": [
      "<b>Beautiful Soup module is used to parse links from webpage </b>"
     ]
    },
    {
     "cell_type": "code",
     "collapsed": false,
     "input": [
      "#webpage = urllib2.urlopen(url + 'jhu-usc.edu_HNSC.HumanMethylation450.Level_1.1.0.0.tar.gz').read()\n",
      "#webpage = urllib2.urlopen(url).read()\n",
      "webpage = open('tmp.html', 'rb').read()\n",
      "soup = BeautifulSoup(webpage)\n",
      "soup"
     ],
     "language": "python",
     "metadata": {},
     "outputs": [
      {
       "metadata": {},
       "output_type": "pyout",
       "prompt_number": 18,
       "text": [
        "<!DOCTYPE HTML PUBLIC \"-//W3C//DTD HTML 3.2 Final//EN\">\n",
        "<html>\n",
        "<head>\n",
        "<title>Index of /tcgafiles/ftp_auth/distro_ftpusers/anonymous/tumor/brca/cgcc/jhu-usc.edu/humanmethylation450/methylation</title>\n",
        "</head>\n",
        "<body>\n",
        "<h1>Index of /tcgafiles/ftp_auth/distro_ftpusers/anonymous/tumor/brca/cgcc/jhu-usc.edu/humanmethylation450/methylation</h1>\n",
        "<pre>      <a href=\"?C=N;O=D\">Name</a>                                                                                           <a href=\"?C=M;O=A\">Last modified</a>      <a href=\"?C=S;O=A\">Size</a>  <hr/>      <a href=\"/tcgafiles/ftp_auth/distro_ftpusers/anonymous/tumor/brca/cgcc/jhu-usc.edu/humanmethylation450/\">Parent Directory</a>                                                                                                    -   \n",
        "      <a href=\"jhu-usc.edu_BRCA.HumanMethylation450.Level_1.1.0.0.tar.gz\">jhu-usc.edu_BRCA.HumanMethylation450.Level_1.1.0.0.tar.gz</a>                                      2011-10-12 02:30   57M  \n",
        "      <a href=\"jhu-usc.edu_BRCA.HumanMethylation450.Level_1.1.0.0.tar.gz.md5\">jhu-usc.edu_BRCA.HumanMethylation450.Level_1.1.0.0.tar.gz.md5</a>                                  2011-10-12 02:30   91   \n",
        "      <a href=\"jhu-usc.edu_BRCA.HumanMethylation450.Level_1.1.1.0.tar.gz\">jhu-usc.edu_BRCA.HumanMethylation450.Level_1.1.1.0.tar.gz</a>                                      2011-11-07 20:16   57M  \n",
        "      <a href=\"jhu-usc.edu_BRCA.HumanMethylation450.Level_1.1.1.0.tar.gz.md5\">jhu-usc.edu_BRCA.HumanMethylation450.Level_1.1.1.0.tar.gz.md5</a>                                  2011-11-07 20:16   91   \n",
        "      <a href=\"jhu-usc.edu_BRCA.HumanMethylation450.Level_1.1.2.0.tar.gz\">jhu-usc.edu_BRCA.HumanMethylation450.Level_1.1.2.0.tar.gz</a>                                      2012-04-02 23:07   57M  \n",
        "      <a href=\"jhu-usc.edu_BRCA.HumanMethylation450.Level_1.1.2.0.tar.gz.md5\">jhu-usc.edu_BRCA.HumanMethylation450.Level_1.1.2.0.tar.gz.md5</a>                                  2012-04-02 23:07   91   \n",
        "      <a href=\"jhu-usc.edu_BRCA.HumanMethylation450.Level_1.1.2.0/\">jhu-usc.edu_BRCA.HumanMethylation450.Level_1.1.2.0/</a>                                            2012-04-02 23:07    -   \n",
        "      <a href=\"jhu-usc.edu_BRCA.HumanMethylation450.Level_1.1.3.0.tar.gz\">jhu-usc.edu_BRCA.HumanMethylation450.Level_1.1.3.0.tar.gz</a>                                      2012-10-04 03:58   65M  \n",
        "      <a href=\"jhu-usc.edu_BRCA.HumanMethylation450.Level_1.1.3.0.tar.gz.md5\">jhu-usc.edu_BRCA.HumanMethylation450.Level_1.1.3.0.tar.gz.md5</a>                                  2012-10-04 03:58   91   \n",
        "      <a href=\"jhu-usc.edu_BRCA.HumanMethylation450.Level_1.1.3.0/\">jhu-usc.edu_BRCA.HumanMethylation450.Level_1.1.3.0/</a>                                            2012-10-04 03:58    -   \n",
        "      <a href=\"jhu-usc.edu_BRCA.HumanMethylation450.Level_1.1.4.0.tar.gz\">jhu-usc.edu_BRCA.HumanMethylation450.Level_1.1.4.0.tar.gz</a>                                      2012-10-30 02:36   65M  \n",
        "      <a href=\"jhu-usc.edu_BRCA.HumanMethylation450.Level_1.1.4.0.tar.gz.md5\">jhu-usc.edu_BRCA.HumanMethylation450.Level_1.1.4.0.tar.gz.md5</a>                                  2012-10-30 02:36   91   \n",
        "      <a href=\"jhu-usc.edu_BRCA.HumanMethylation450.Level_1.1.4.0/\">jhu-usc.edu_BRCA.HumanMethylation450.Level_1.1.4.0/</a>                                            2012-10-30 02:35    -   \n",
        "      <a href=\"jhu-usc.edu_BRCA.HumanMethylation450.Level_1.1.5.0.tar.gz\">jhu-usc.edu_BRCA.HumanMethylation450.Level_1.1.5.0.tar.gz</a>                                      2013-03-16 11:01   65M  \n",
        "      <a href=\"jhu-usc.edu_BRCA.HumanMethylation450.Level_1.1.5.0.tar.gz.md5\">jhu-usc.edu_BRCA.HumanMethylation450.Level_1.1.5.0.tar.gz.md5</a>                                  2013-03-16 11:01   91   \n",
        "      <a href=\"jhu-usc.edu_BRCA.HumanMethylation450.Level_1.1.5.0/\">jhu-usc.edu_BRCA.HumanMethylation450.Level_1.1.5.0/</a>                                            2013-03-16 11:01    -   \n",
        "      <a href=\"jhu-usc.edu_BRCA.HumanMethylation450.Level_1.1.6.0.tar.gz\">jhu-usc.edu_BRCA.HumanMethylation450.Level_1.1.6.0.tar.gz</a>                                      2013-07-17 02:02   65M  \n",
        "      <a href=\"jhu-usc.edu_BRCA.HumanMethylation450.Level_1.1.6.0.tar.gz.md5\">jhu-usc.edu_BRCA.HumanMethylation450.Level_1.1.6.0.tar.gz.md5</a>                                  2013-07-17 02:02   91   \n",
        "      <a href=\"jhu-usc.edu_BRCA.HumanMethylation450.Level_1.1.6.0/\">jhu-usc.edu_BRCA.HumanMethylation450.Level_1.1.6.0/</a>                                            2013-07-17 02:02    -   \n",
        "      <a href=\"jhu-usc.edu_BRCA.HumanMethylation450.Level_1.1.7.0.tar.gz\">jhu-usc.edu_BRCA.HumanMethylation450.Level_1.1.7.0.tar.gz</a>                                      2013-12-01 17:22   65M  \n",
        "      <a href=\"jhu-usc.edu_BRCA.HumanMethylation450.Level_1.1.7.0.tar.gz.md5\">jhu-usc.edu_BRCA.HumanMethylation450.Level_1.1.7.0.tar.gz.md5</a>                                  2013-12-01 17:22   91   \n",
        "      <a href=\"jhu-usc.edu_BRCA.HumanMethylation450.Level_1.1.7.0/\">jhu-usc.edu_BRCA.HumanMethylation450.Level_1.1.7.0/</a>                                            2013-12-01 17:22    -   \n",
        "      <a href=\"jhu-usc.edu_BRCA.HumanMethylation450.Level_1.1.8.0.tar.gz\">jhu-usc.edu_BRCA.HumanMethylation450.Level_1.1.8.0.tar.gz</a>                                      2014-03-14 20:43   65M  \n",
        "      <a href=\"jhu-usc.edu_BRCA.HumanMethylation450.Level_1.1.8.0.tar.gz.md5\">jhu-usc.edu_BRCA.HumanMethylation450.Level_1.1.8.0.tar.gz.md5</a>                                  2014-03-14 20:43   91   \n",
        "      <a href=\"jhu-usc.edu_BRCA.HumanMethylation450.Level_1.1.8.0/\">jhu-usc.edu_BRCA.HumanMethylation450.Level_1.1.8.0/</a>                                            2014-03-14 20:43    -   \n",
        "      <a href=\"jhu-usc.edu_BRCA.HumanMethylation450.Level_1.1.9.0.tar.gz\">jhu-usc.edu_BRCA.HumanMethylation450.Level_1.1.9.0.tar.gz</a>                                      2015-01-26 03:43   65M  \n",
        "      <a href=\"jhu-usc.edu_BRCA.HumanMethylation450.Level_1.1.9.0.tar.gz.md5\">jhu-usc.edu_BRCA.HumanMethylation450.Level_1.1.9.0.tar.gz.md5</a>                                  2015-01-26 03:43   91   \n",
        "      <a href=\"jhu-usc.edu_BRCA.HumanMethylation450.Level_1.1.9.0/\">jhu-usc.edu_BRCA.HumanMethylation450.Level_1.1.9.0/</a>                                            2015-01-26 03:42    -   \n",
        "      <a href=\"jhu-usc.edu_BRCA.HumanMethylation450.Level_1.10.0.0.tar.gz\">jhu-usc.edu_BRCA.HumanMethylation450.Level_1.10.0.0.tar.gz</a>                                     2011-10-12 02:32  400M  \n",
        "      <a href=\"jhu-usc.edu_BRCA.HumanMethylation450.Level_1.10.0.0.tar.gz.md5\">jhu-usc.edu_BRCA.HumanMethylation450.Level_1.10.0.0.tar.gz.md5</a>                                 2011-10-12 02:32   92   \n",
        "      <a href=\"jhu-usc.edu_BRCA.HumanMethylation450.Level_1.10.1.0.tar.gz\">jhu-usc.edu_BRCA.HumanMethylation450.Level_1.10.1.0.tar.gz</a>                                     2011-11-07 20:18  400M  \n",
        "      <a href=\"jhu-usc.edu_BRCA.HumanMethylation450.Level_1.10.1.0.tar.gz.md5\">jhu-usc.edu_BRCA.HumanMethylation450.Level_1.10.1.0.tar.gz.md5</a>                                 2011-11-07 20:18   92   \n",
        "      <a href=\"jhu-usc.edu_BRCA.HumanMethylation450.Level_1.10.2.0.tar.gz\">jhu-usc.edu_BRCA.HumanMethylation450.Level_1.10.2.0.tar.gz</a>                                     2012-04-02 23:12  767M  \n",
        "      <a href=\"jhu-usc.edu_BRCA.HumanMethylation450.Level_1.10.2.0.tar.gz.md5\">jhu-usc.edu_BRCA.HumanMethylation450.Level_1.10.2.0.tar.gz.md5</a>                                 2012-04-02 23:12   92   \n",
        "      <a href=\"jhu-usc.edu_BRCA.HumanMethylation450.Level_1.10.2.0/\">jhu-usc.edu_BRCA.HumanMethylation450.Level_1.10.2.0/</a>                                           2012-04-02 23:08    -   \n",
        "      <a href=\"jhu-usc.edu_BRCA.HumanMethylation450.Level_1.10.3.0.tar.gz\">jhu-usc.edu_BRCA.HumanMethylation450.Level_1.10.3.0.tar.gz</a>                                     2012-10-04 04:02  776M  \n",
        "      <a href=\"jhu-usc.edu_BRCA.HumanMethylation450.Level_1.10.3.0.tar.gz.md5\">jhu-usc.edu_BRCA.HumanMethylation450.Level_1.10.3.0.tar.gz.md5</a>                                 2012-10-04 04:02   92   \n",
        "      <a href=\"jhu-usc.edu_BRCA.HumanMethylation450.Level_1.10.3.0/\">jhu-usc.edu_BRCA.HumanMethylation450.Level_1.10.3.0/</a>                                           2012-10-04 03:59    -   \n",
        "      <a href=\"jhu-usc.edu_BRCA.HumanMethylation450.Level_1.10.4.0.tar.gz\">jhu-usc.edu_BRCA.HumanMethylation450.Level_1.10.4.0.tar.gz</a>                                     2012-10-30 02:41  776M  \n",
        "      <a href=\"jhu-usc.edu_BRCA.HumanMethylation450.Level_1.10.4.0.tar.gz.md5\">jhu-usc.edu_BRCA.HumanMethylation450.Level_1.10.4.0.tar.gz.md5</a>                                 2012-10-30 02:41   92   \n",
        "      <a href=\"jhu-usc.edu_BRCA.HumanMethylation450.Level_1.10.4.0/\">jhu-usc.edu_BRCA.HumanMethylation450.Level_1.10.4.0/</a>                                           2012-10-30 02:37    -   \n",
        "      <a href=\"jhu-usc.edu_BRCA.HumanMethylation450.Level_1.10.5.0.tar.gz\">jhu-usc.edu_BRCA.HumanMethylation450.Level_1.10.5.0.tar.gz</a>                                     2013-03-16 11:00  776M  \n",
        "      <a href=\"jhu-usc.edu_BRCA.HumanMethylation450.Level_1.10.5.0.tar.gz.md5\">jhu-usc.edu_BRCA.HumanMethylation450.Level_1.10.5.0.tar.gz.md5</a>                                 2013-03-16 11:00   92   \n",
        "      <a href=\"jhu-usc.edu_BRCA.HumanMethylation450.Level_1.10.5.0/\">jhu-usc.edu_BRCA.HumanMethylation450.Level_1.10.5.0/</a>                                           2013-03-16 10:57    -   \n",
        "      <a href=\"jhu-usc.edu_BRCA.HumanMethylation450.Level_1.10.6.0.tar.gz\">jhu-usc.edu_BRCA.HumanMethylation450.Level_1.10.6.0.tar.gz</a>                                     2013-07-17 02:01  776M  \n",
        "      <a href=\"jhu-usc.edu_BRCA.HumanMethylation450.Level_1.10.6.0.tar.gz.md5\">jhu-usc.edu_BRCA.HumanMethylation450.Level_1.10.6.0.tar.gz.md5</a>                                 2013-07-17 02:01   92   \n",
        "      <a href=\"jhu-usc.edu_BRCA.HumanMethylation450.Level_1.10.6.0/\">jhu-usc.edu_BRCA.HumanMethylation450.Level_1.10.6.0/</a>                                           2013-07-17 01:56    -   \n",
        "      <a href=\"jhu-usc.edu_BRCA.HumanMethylation450.Level_1.10.7.0.tar.gz\">jhu-usc.edu_BRCA.HumanMethylation450.Level_1.10.7.0.tar.gz</a>                                     2013-12-01 17:21  776M  \n",
        "      <a href=\"jhu-usc.edu_BRCA.HumanMethylation450.Level_1.10.7.0.tar.gz.md5\">jhu-usc.edu_BRCA.HumanMethylation450.Level_1.10.7.0.tar.gz.md5</a>                                 2013-12-01 17:21   92   \n",
        "      <a href=\"jhu-usc.edu_BRCA.HumanMethylation450.Level_1.10.7.0/\">jhu-usc.edu_BRCA.HumanMethylation450.Level_1.10.7.0/</a>                                           2013-12-01 17:18    -   \n",
        "      <a href=\"jhu-usc.edu_BRCA.HumanMethylation450.Level_1.10.8.0.tar.gz\">jhu-usc.edu_BRCA.HumanMethylation450.Level_1.10.8.0.tar.gz</a>                                     2014-03-14 20:48  776M  \n",
        "      <a href=\"jhu-usc.edu_BRCA.HumanMethylation450.Level_1.10.8.0.tar.gz.md5\">jhu-usc.edu_BRCA.HumanMethylation450.Level_1.10.8.0.tar.gz.md5</a>                                 2014-03-14 20:48   92   \n",
        "      <a href=\"jhu-usc.edu_BRCA.HumanMethylation450.Level_1.10.8.0/\">jhu-usc.edu_BRCA.HumanMethylation450.Level_1.10.8.0/</a>                                           2014-03-14 20:44    -   \n",
        "      <a href=\"jhu-usc.edu_BRCA.HumanMethylation450.Level_1.10.9.0.tar.gz\">jhu-usc.edu_BRCA.HumanMethylation450.Level_1.10.9.0.tar.gz</a>                                     2015-01-26 03:46  776M  \n",
        "      <a href=\"jhu-usc.edu_BRCA.HumanMethylation450.Level_1.10.9.0.tar.gz.md5\">jhu-usc.edu_BRCA.HumanMethylation450.Level_1.10.9.0.tar.gz.md5</a>                                 2015-01-26 03:47   92   \n",
        "      <a href=\"jhu-usc.edu_BRCA.HumanMethylation450.Level_1.10.9.0/\">jhu-usc.edu_BRCA.HumanMethylation450.Level_1.10.9.0/</a>                                           2015-01-26 03:43    -   \n",
        "      <a href=\"jhu-usc.edu_BRCA.HumanMethylation450.Level_1.11.0.0.tar.gz\">jhu-usc.edu_BRCA.HumanMethylation450.Level_1.11.0.0.tar.gz</a>                                     2011-10-12 02:24  221M  \n",
        "      <a href=\"jhu-usc.edu_BRCA.HumanMethylation450.Level_1.11.0.0.tar.gz.md5\">jhu-usc.edu_BRCA.HumanMethylation450.Level_1.11.0.0.tar.gz.md5</a>                                 2011-10-12 02:24   92   \n",
        "      <a href=\"jhu-usc.edu_BRCA.HumanMethylation450.Level_1.11.1.0.tar.gz\">jhu-usc.edu_BRCA.HumanMethylation450.Level_1.11.1.0.tar.gz</a>                                     2011-11-07 20:11  221M  \n",
        "      <a href=\"jhu-usc.edu_BRCA.HumanMethylation450.Level_1.11.1.0.tar.gz.md5\">jhu-usc.edu_BRCA.HumanMethylation450.Level_1.11.1.0.tar.gz.md5</a>                                 2011-11-07 20:11   92   \n",
        "      <a href=\"jhu-usc.edu_BRCA.HumanMethylation450.Level_1.11.2.0.tar.gz\">jhu-usc.edu_BRCA.HumanMethylation450.Level_1.11.2.0.tar.gz</a>                                     2012-04-02 23:01  408M  \n",
        "      <a href=\"jhu-usc.edu_BRCA.HumanMethylation450.Level_1.11.2.0.tar.gz.md5\">jhu-usc.edu_BRCA.HumanMethylation450.Level_1.11.2.0.tar.gz.md5</a>                                 2012-04-02 23:01   92   \n",
        "      <a href=\"jhu-usc.edu_BRCA.HumanMethylation450.Level_1.11.2.0/\">jhu-usc.edu_BRCA.HumanMethylation450.Level_1.11.2.0/</a>                                           2012-04-02 22:59    -   \n",
        "      <a href=\"jhu-usc.edu_BRCA.HumanMethylation450.Level_1.11.3.0.tar.gz\">jhu-usc.edu_BRCA.HumanMethylation450.Level_1.11.3.0.tar.gz</a>                                     2012-10-04 03:52  408M  \n",
        "      <a href=\"jhu-usc.edu_BRCA.HumanMethylation450.Level_1.11.3.0.tar.gz.md5\">jhu-usc.edu_BRCA.HumanMethylation450.Level_1.11.3.0.tar.gz.md5</a>                                 2012-10-04 03:52   92   \n",
        "      <a href=\"jhu-usc.edu_BRCA.HumanMethylation450.Level_1.11.3.0/\">jhu-usc.edu_BRCA.HumanMethylation450.Level_1.11.3.0/</a>                                           2012-10-04 03:50    -   \n",
        "      <a href=\"jhu-usc.edu_BRCA.HumanMethylation450.Level_1.11.4.0.tar.gz\">jhu-usc.edu_BRCA.HumanMethylation450.Level_1.11.4.0.tar.gz</a>                                     2012-10-30 02:29  408M  \n",
        "      <a href=\"jhu-usc.edu_BRCA.HumanMethylation450.Level_1.11.4.0.tar.gz.md5\">jhu-usc.edu_BRCA.HumanMethylation450.Level_1.11.4.0.tar.gz.md5</a>                                 2012-10-30 02:29   92   \n",
        "      <a href=\"jhu-usc.edu_BRCA.HumanMethylation450.Level_1.11.4.0/\">jhu-usc.edu_BRCA.HumanMethylation450.Level_1.11.4.0/</a>                                           2012-10-30 02:27    -   \n",
        "      <a href=\"jhu-usc.edu_BRCA.HumanMethylation450.Level_1.11.5.0.tar.gz\">jhu-usc.edu_BRCA.HumanMethylation450.Level_1.11.5.0.tar.gz</a>                                     2013-03-16 10:48  408M  \n",
        "      <a href=\"jhu-usc.edu_BRCA.HumanMethylation450.Level_1.11.5.0.tar.gz.md5\">jhu-usc.edu_BRCA.HumanMethylation450.Level_1.11.5.0.tar.gz.md5</a>                                 2013-03-16 10:48   92   \n",
        "      <a href=\"jhu-usc.edu_BRCA.HumanMethylation450.Level_1.11.5.0/\">jhu-usc.edu_BRCA.HumanMethylation450.Level_1.11.5.0/</a>                                           2013-03-16 10:46    -   \n",
        "      <a href=\"jhu-usc.edu_BRCA.HumanMethylation450.Level_1.11.6.0.tar.gz\">jhu-usc.edu_BRCA.HumanMethylation450.Level_1.11.6.0.tar.gz</a>                                     2013-07-17 01:36  408M  \n",
        "      <a href=\"jhu-usc.edu_BRCA.HumanMethylation450.Level_1.11.6.0.tar.gz.md5\">jhu-usc.edu_BRCA.HumanMethylation450.Level_1.11.6.0.tar.gz.md5</a>                                 2013-07-17 01:36   92   \n",
        "      <a href=\"jhu-usc.edu_BRCA.HumanMethylation450.Level_1.11.6.0/\">jhu-usc.edu_BRCA.HumanMethylation450.Level_1.11.6.0/</a>                                           2013-07-17 01:34    -   \n",
        "      <a href=\"jhu-usc.edu_BRCA.HumanMethylation450.Level_1.11.7.0.tar.gz\">jhu-usc.edu_BRCA.HumanMethylation450.Level_1.11.7.0.tar.gz</a>                                     2013-12-01 17:06  408M  \n",
        "      <a href=\"jhu-usc.edu_BRCA.HumanMethylation450.Level_1.11.7.0.tar.gz.md5\">jhu-usc.edu_BRCA.HumanMethylation450.Level_1.11.7.0.tar.gz.md5</a>                                 2013-12-01 17:06   92   \n",
        "      <a href=\"jhu-usc.edu_BRCA.HumanMethylation450.Level_1.11.7.0/\">jhu-usc.edu_BRCA.HumanMethylation450.Level_1.11.7.0/</a>                                           2013-12-01 17:05    -   \n",
        "      <a href=\"jhu-usc.edu_BRCA.HumanMethylation450.Level_1.11.8.0.tar.gz\">jhu-usc.edu_BRCA.HumanMethylation450.Level_1.11.8.0.tar.gz</a>                                     2014-03-14 20:29  408M  \n",
        "      <a href=\"jhu-usc.edu_BRCA.HumanMethylation450.Level_1.11.8.0.tar.gz.md5\">jhu-usc.edu_BRCA.HumanMethylation450.Level_1.11.8.0.tar.gz.md5</a>                                 2014-03-14 20:29   92   \n",
        "      <a href=\"jhu-usc.edu_BRCA.HumanMethylation450.Level_1.11.8.0/\">jhu-usc.edu_BRCA.HumanMethylation450.Level_1.11.8.0/</a>                                           2014-03-14 20:28    -   \n",
        "      <a href=\"jhu-usc.edu_BRCA.HumanMethylation450.Level_1.11.9.0.tar.gz\">jhu-usc.edu_BRCA.HumanMethylation450.Level_1.11.9.0.tar.gz</a>                                     2015-01-26 03:31  408M  \n",
        "      <a href=\"jhu-usc.edu_BRCA.HumanMethylation450.Level_1.11.9.0.tar.gz.md5\">jhu-usc.edu_BRCA.HumanMethylation450.Level_1.11.9.0.tar.gz.md5</a>                                 2015-01-26 03:31   92   \n",
        "      <a href=\"jhu-usc.edu_BRCA.HumanMethylation450.Level_1.11.9.0/\">jhu-usc.edu_BRCA.HumanMethylation450.Level_1.11.9.0/</a>                                           2015-01-26 03:30    -   \n",
        "      <a href=\"jhu-usc.edu_BRCA.HumanMethylation450.Level_1.12.0.0.tar.gz\">jhu-usc.edu_BRCA.HumanMethylation450.Level_1.12.0.0.tar.gz</a>                                     2011-10-12 02:26  293M  \n",
        "      <a href=\"jhu-usc.edu_BRCA.HumanMethylation450.Level_1.12.0.0.tar.gz.md5\">jhu-usc.edu_BRCA.HumanMethylation450.Level_1.12.0.0.tar.gz.md5</a>                                 2011-10-12 02:26   92   \n",
        "      <a href=\"jhu-usc.edu_BRCA.HumanMethylation450.Level_1.12.1.0.tar.gz\">jhu-usc.edu_BRCA.HumanMethylation450.Level_1.12.1.0.tar.gz</a>                                     2011-11-07 20:13  293M  \n",
        "      <a href=\"jhu-usc.edu_BRCA.HumanMethylation450.Level_1.12.1.0.tar.gz.md5\">jhu-usc.edu_BRCA.HumanMethylation450.Level_1.12.1.0.tar.gz.md5</a>                                 2011-11-07 20:13   92   \n",
        "      <a href=\"jhu-usc.edu_BRCA.HumanMethylation450.Level_1.12.2.0.tar.gz\">jhu-usc.edu_BRCA.HumanMethylation450.Level_1.12.2.0.tar.gz</a>                                     2012-04-02 23:02  229M  \n",
        "      <a href=\"jhu-usc.edu_BRCA.HumanMethylation450.Level_1.12.2.0.tar.gz.md5\">jhu-usc.edu_BRCA.HumanMethylation450.Level_1.12.2.0.tar.gz.md5</a>                                 2012-04-02 23:02   92   \n",
        "      <a href=\"jhu-usc.edu_BRCA.HumanMethylation450.Level_1.12.2.0/\">jhu-usc.edu_BRCA.HumanMethylation450.Level_1.12.2.0/</a>                                           2012-04-02 23:01    -   \n",
        "      <a href=\"jhu-usc.edu_BRCA.HumanMethylation450.Level_1.12.3.0.tar.gz\">jhu-usc.edu_BRCA.HumanMethylation450.Level_1.12.3.0.tar.gz</a>                                     2012-10-04 03:53  229M  \n",
        "      <a href=\"jhu-usc.edu_BRCA.HumanMethylation450.Level_1.12.3.0.tar.gz.md5\">jhu-usc.edu_BRCA.HumanMethylation450.Level_1.12.3.0.tar.gz.md5</a>                                 2012-10-04 03:53   92   \n",
        "      <a href=\"jhu-usc.edu_BRCA.HumanMethylation450.Level_1.12.3.0/\">jhu-usc.edu_BRCA.HumanMethylation450.Level_1.12.3.0/</a>                                           2012-10-04 03:52    -   \n",
        "      <a href=\"jhu-usc.edu_BRCA.HumanMethylation450.Level_1.12.4.0.tar.gz\">jhu-usc.edu_BRCA.HumanMethylation450.Level_1.12.4.0.tar.gz</a>                                     2012-10-30 02:30  229M  \n",
        "      <a href=\"jhu-usc.edu_BRCA.HumanMethylation450.Level_1.12.4.0.tar.gz.md5\">jhu-usc.edu_BRCA.HumanMethylation450.Level_1.12.4.0.tar.gz.md5</a>                                 2012-10-30 02:30   92   \n",
        "      <a href=\"jhu-usc.edu_BRCA.HumanMethylation450.Level_1.12.4.0/\">jhu-usc.edu_BRCA.HumanMethylation450.Level_1.12.4.0/</a>                                           2012-10-30 02:29    -   \n",
        "      <a href=\"jhu-usc.edu_BRCA.HumanMethylation450.Level_1.12.5.0.tar.gz\">jhu-usc.edu_BRCA.HumanMethylation450.Level_1.12.5.0.tar.gz</a>                                     2013-03-16 10:49  229M  \n",
        "      <a href=\"jhu-usc.edu_BRCA.HumanMethylation450.Level_1.12.5.0.tar.gz.md5\">jhu-usc.edu_BRCA.HumanMethylation450.Level_1.12.5.0.tar.gz.md5</a>                                 2013-03-16 10:49   92   \n",
        "      <a href=\"jhu-usc.edu_BRCA.HumanMethylation450.Level_1.12.5.0/\">jhu-usc.edu_BRCA.HumanMethylation450.Level_1.12.5.0/</a>                                           2013-03-16 10:48    -   \n",
        "      <a href=\"jhu-usc.edu_BRCA.HumanMethylation450.Level_1.12.6.0.tar.gz\">jhu-usc.edu_BRCA.HumanMethylation450.Level_1.12.6.0.tar.gz</a>                                     2013-07-17 01:38  229M  \n",
        "      <a href=\"jhu-usc.edu_BRCA.HumanMethylation450.Level_1.12.6.0.tar.gz.md5\">jhu-usc.edu_BRCA.HumanMethylation450.Level_1.12.6.0.tar.gz.md5</a>                                 2013-07-17 01:38   92   \n",
        "      <a href=\"jhu-usc.edu_BRCA.HumanMethylation450.Level_1.12.6.0/\">jhu-usc.edu_BRCA.HumanMethylation450.Level_1.12.6.0/</a>                                           2013-07-17 01:37    -   \n",
        "      <a href=\"jhu-usc.edu_BRCA.HumanMethylation450.Level_1.12.7.0.tar.gz\">jhu-usc.edu_BRCA.HumanMethylation450.Level_1.12.7.0.tar.gz</a>                                     2013-12-01 17:07  229M  \n",
        "      <a href=\"jhu-usc.edu_BRCA.HumanMethylation450.Level_1.12.7.0.tar.gz.md5\">jhu-usc.edu_BRCA.HumanMethylation450.Level_1.12.7.0.tar.gz.md5</a>                                 2013-12-01 17:08   92   \n",
        "      <a href=\"jhu-usc.edu_BRCA.HumanMethylation450.Level_1.12.7.0/\">jhu-usc.edu_BRCA.HumanMethylation450.Level_1.12.7.0/</a>                                           2013-12-01 17:07    -   \n",
        "      <a href=\"jhu-usc.edu_BRCA.HumanMethylation450.Level_1.12.8.0.tar.gz\">jhu-usc.edu_BRCA.HumanMethylation450.Level_1.12.8.0.tar.gz</a>                                     2014-03-14 20:31  229M  \n",
        "      <a href=\"jhu-usc.edu_BRCA.HumanMethylation450.Level_1.12.8.0.tar.gz.md5\">jhu-usc.edu_BRCA.HumanMethylation450.Level_1.12.8.0.tar.gz.md5</a>                                 2014-03-14 20:31   92   \n",
        "      <a href=\"jhu-usc.edu_BRCA.HumanMethylation450.Level_1.12.8.0/\">jhu-usc.edu_BRCA.HumanMethylation450.Level_1.12.8.0/</a>                                           2014-03-14 20:30    -   \n",
        "      <a href=\"jhu-usc.edu_BRCA.HumanMethylation450.Level_1.12.9.0.tar.gz\">jhu-usc.edu_BRCA.HumanMethylation450.Level_1.12.9.0.tar.gz</a>                                     2015-01-26 03:33  229M  \n",
        "      <a href=\"jhu-usc.edu_BRCA.HumanMethylation450.Level_1.12.9.0.tar.gz.md5\">jhu-usc.edu_BRCA.HumanMethylation450.Level_1.12.9.0.tar.gz.md5</a>                                 2015-01-26 03:33   92   \n",
        "      <a href=\"jhu-usc.edu_BRCA.HumanMethylation450.Level_1.12.9.0/\">jhu-usc.edu_BRCA.HumanMethylation450.Level_1.12.9.0/</a>                                           2015-01-26 03:32    -   \n",
        "      <a href=\"jhu-usc.edu_BRCA.HumanMethylation450.Level_1.13.0.0.tar.gz\">jhu-usc.edu_BRCA.HumanMethylation450.Level_1.13.0.0.tar.gz</a>                                     2011-10-12 02:20  299M  \n",
        "      <a href=\"jhu-usc.edu_BRCA.HumanMethylation450.Level_1.13.0.0.tar.gz.md5\">jhu-usc.edu_BRCA.HumanMethylation450.Level_1.13.0.0.tar.gz.md5</a>                                 2011-10-12 02:20   92   \n",
        "      <a href=\"jhu-usc.edu_BRCA.HumanMethylation450.Level_1.13.1.0.tar.gz\">jhu-usc.edu_BRCA.HumanMethylation450.Level_1.13.1.0.tar.gz</a>                                     2011-11-07 20:08  299M  \n",
        "      <a href=\"jhu-usc.edu_BRCA.HumanMethylation450.Level_1.13.1.0.tar.gz.md5\">jhu-usc.edu_BRCA.HumanMethylation450.Level_1.13.1.0.tar.gz.md5</a>                                 2011-11-07 20:08   92   \n",
        "      <a href=\"jhu-usc.edu_BRCA.HumanMethylation450.Level_1.13.2.0.tar.gz\">jhu-usc.edu_BRCA.HumanMethylation450.Level_1.13.2.0.tar.gz</a>                                     2012-04-02 22:56  301M  \n",
        "      <a href=\"jhu-usc.edu_BRCA.HumanMethylation450.Level_1.13.2.0.tar.gz.md5\">jhu-usc.edu_BRCA.HumanMethylation450.Level_1.13.2.0.tar.gz.md5</a>                                 2012-04-02 22:56   92   \n",
        "      <a href=\"jhu-usc.edu_BRCA.HumanMethylation450.Level_1.13.2.0/\">jhu-usc.edu_BRCA.HumanMethylation450.Level_1.13.2.0/</a>                                           2012-04-02 22:55    -   \n",
        "      <a href=\"jhu-usc.edu_BRCA.HumanMethylation450.Level_1.13.3.0.tar.gz\">jhu-usc.edu_BRCA.HumanMethylation450.Level_1.13.3.0.tar.gz</a>                                     2012-10-04 03:47  301M  \n",
        "      <a href=\"jhu-usc.edu_BRCA.HumanMethylation450.Level_1.13.3.0.tar.gz.md5\">jhu-usc.edu_BRCA.HumanMethylation450.Level_1.13.3.0.tar.gz.md5</a>                                 2012-10-04 03:47   92   \n",
        "      <a href=\"jhu-usc.edu_BRCA.HumanMethylation450.Level_1.13.3.0/\">jhu-usc.edu_BRCA.HumanMethylation450.Level_1.13.3.0/</a>                                           2012-10-04 03:45    -   \n",
        "      <a href=\"jhu-usc.edu_BRCA.HumanMethylation450.Level_1.13.4.0.tar.gz\">jhu-usc.edu_BRCA.HumanMethylation450.Level_1.13.4.0.tar.gz</a>                                     2012-10-30 02:24  301M  \n",
        "      <a href=\"jhu-usc.edu_BRCA.HumanMethylation450.Level_1.13.4.0.tar.gz.md5\">jhu-usc.edu_BRCA.HumanMethylation450.Level_1.13.4.0.tar.gz.md5</a>                                 2012-10-30 02:24   92   \n",
        "      <a href=\"jhu-usc.edu_BRCA.HumanMethylation450.Level_1.13.4.0/\">jhu-usc.edu_BRCA.HumanMethylation450.Level_1.13.4.0/</a>                                           2012-10-30 02:23    -   \n",
        "      <a href=\"jhu-usc.edu_BRCA.HumanMethylation450.Level_1.13.5.0.tar.gz\">jhu-usc.edu_BRCA.HumanMethylation450.Level_1.13.5.0.tar.gz</a>                                     2013-03-16 10:44  301M  \n",
        "      <a href=\"jhu-usc.edu_BRCA.HumanMethylation450.Level_1.13.5.0.tar.gz.md5\">jhu-usc.edu_BRCA.HumanMethylation450.Level_1.13.5.0.tar.gz.md5</a>                                 2013-03-16 10:44   92   \n",
        "      <a href=\"jhu-usc.edu_BRCA.HumanMethylation450.Level_1.13.5.0/\">jhu-usc.edu_BRCA.HumanMethylation450.Level_1.13.5.0/</a>                                           2013-03-16 10:43    -   \n",
        "      <a href=\"jhu-usc.edu_BRCA.HumanMethylation450.Level_1.13.6.0.tar.gz\">jhu-usc.edu_BRCA.HumanMethylation450.Level_1.13.6.0.tar.gz</a>                                     2013-07-17 01:30  301M  \n",
        "      <a href=\"jhu-usc.edu_BRCA.HumanMethylation450.Level_1.13.6.0.tar.gz.md5\">jhu-usc.edu_BRCA.HumanMethylation450.Level_1.13.6.0.tar.gz.md5</a>                                 2013-07-17 01:30   92   \n",
        "      <a href=\"jhu-usc.edu_BRCA.HumanMethylation450.Level_1.13.6.0/\">jhu-usc.edu_BRCA.HumanMethylation450.Level_1.13.6.0/</a>                                           2013-07-17 01:28    -   \n",
        "      <a href=\"jhu-usc.edu_BRCA.HumanMethylation450.Level_1.13.7.0.tar.gz\">jhu-usc.edu_BRCA.HumanMethylation450.Level_1.13.7.0.tar.gz</a>                                     2013-12-01 17:02  301M  \n",
        "      <a href=\"jhu-usc.edu_BRCA.HumanMethylation450.Level_1.13.7.0.tar.gz.md5\">jhu-usc.edu_BRCA.HumanMethylation450.Level_1.13.7.0.tar.gz.md5</a>                                 2013-12-01 17:02   92   \n",
        "      <a href=\"jhu-usc.edu_BRCA.HumanMethylation450.Level_1.13.7.0/\">jhu-usc.edu_BRCA.HumanMethylation450.Level_1.13.7.0/</a>                                           2013-12-01 17:01    -   \n",
        "      <a href=\"jhu-usc.edu_BRCA.HumanMethylation450.Level_1.13.8.0.tar.gz\">jhu-usc.edu_BRCA.HumanMethylation450.Level_1.13.8.0.tar.gz</a>                                     2014-03-14 20:25  301M  \n",
        "      <a href=\"jhu-usc.edu_BRCA.HumanMethylation450.Level_1.13.8.0.tar.gz.md5\">jhu-usc.edu_BRCA.HumanMethylation450.Level_1.13.8.0.tar.gz.md5</a>                                 2014-03-14 20:25   92   \n",
        "      <a href=\"jhu-usc.edu_BRCA.HumanMethylation450.Level_1.13.8.0/\">jhu-usc.edu_BRCA.HumanMethylation450.Level_1.13.8.0/</a>                                           2014-03-14 20:24    -   \n",
        "      <a href=\"jhu-usc.edu_BRCA.HumanMethylation450.Level_1.13.9.0.tar.gz\">jhu-usc.edu_BRCA.HumanMethylation450.Level_1.13.9.0.tar.gz</a>                                     2015-01-26 03:27  301M  \n",
        "      <a href=\"jhu-usc.edu_BRCA.HumanMethylation450.Level_1.13.9.0.tar.gz.md5\">jhu-usc.edu_BRCA.HumanMethylation450.Level_1.13.9.0.tar.gz.md5</a>                                 2015-01-26 03:27   92   \n",
        "      <a href=\"jhu-usc.edu_BRCA.HumanMethylation450.Level_1.13.9.0/\">jhu-usc.edu_BRCA.HumanMethylation450.Level_1.13.9.0/</a>                                           2015-01-26 03:26    -   \n",
        "      <a href=\"jhu-usc.edu_BRCA.HumanMethylation450.Level_1.14.0.0.tar.gz\">jhu-usc.edu_BRCA.HumanMethylation450.Level_1.14.0.0.tar.gz</a>                                     2011-10-12 02:23  401M  \n",
        "      <a href=\"jhu-usc.edu_BRCA.HumanMethylation450.Level_1.14.0.0.tar.gz.md5\">jhu-usc.edu_BRCA.HumanMethylation450.Level_1.14.0.0.tar.gz.md5</a>                                 2011-10-12 02:23   92   \n",
        "      <a href=\"jhu-usc.edu_BRCA.HumanMethylation450.Level_1.14.1.0.tar.gz\">jhu-usc.edu_BRCA.HumanMethylation450.Level_1.14.1.0.tar.gz</a>                                     2011-11-07 20:10  401M  \n",
        "      <a href=\"jhu-usc.edu_BRCA.HumanMethylation450.Level_1.14.1.0.tar.gz.md5\">jhu-usc.edu_BRCA.HumanMethylation450.Level_1.14.1.0.tar.gz.md5</a>                                 2011-11-07 20:10   92   \n",
        "      <a href=\"jhu-usc.edu_BRCA.HumanMethylation450.Level_1.14.2.0.tar.gz\">jhu-usc.edu_BRCA.HumanMethylation450.Level_1.14.2.0.tar.gz</a>                                     2012-04-02 22:58  307M  \n",
        "      <a href=\"jhu-usc.edu_BRCA.HumanMethylation450.Level_1.14.2.0.tar.gz.md5\">jhu-usc.edu_BRCA.HumanMethylation450.Level_1.14.2.0.tar.gz.md5</a>                                 2012-04-02 22:58   92   \n",
        "      <a href=\"jhu-usc.edu_BRCA.HumanMethylation450.Level_1.14.2.0/\">jhu-usc.edu_BRCA.HumanMethylation450.Level_1.14.2.0/</a>                                           2012-04-02 22:57    -   \n",
        "      <a href=\"jhu-usc.edu_BRCA.HumanMethylation450.Level_1.14.3.0.tar.gz\">jhu-usc.edu_BRCA.HumanMethylation450.Level_1.14.3.0.tar.gz</a>                                     2012-10-04 03:49  307M  \n",
        "      <a href=\"jhu-usc.edu_BRCA.HumanMethylation450.Level_1.14.3.0.tar.gz.md5\">jhu-usc.edu_BRCA.HumanMethylation450.Level_1.14.3.0.tar.gz.md5</a>                                 2012-10-04 03:49   92   \n",
        "      <a href=\"jhu-usc.edu_BRCA.HumanMethylation450.Level_1.14.3.0/\">jhu-usc.edu_BRCA.HumanMethylation450.Level_1.14.3.0/</a>                                           2012-10-04 03:48    -   \n",
        "      <a href=\"jhu-usc.edu_BRCA.HumanMethylation450.Level_1.14.4.0.tar.gz\">jhu-usc.edu_BRCA.HumanMethylation450.Level_1.14.4.0.tar.gz</a>                                     2012-10-30 02:26  307M  \n",
        "      <a href=\"jhu-usc.edu_BRCA.HumanMethylation450.Level_1.14.4.0.tar.gz.md5\">jhu-usc.edu_BRCA.HumanMethylation450.Level_1.14.4.0.tar.gz.md5</a>                                 2012-10-30 02:26   92   \n",
        "      <a href=\"jhu-usc.edu_BRCA.HumanMethylation450.Level_1.14.4.0/\">jhu-usc.edu_BRCA.HumanMethylation450.Level_1.14.4.0/</a>                                           2012-10-30 02:25    -   \n",
        "      <a href=\"jhu-usc.edu_BRCA.HumanMethylation450.Level_1.14.5.0.tar.gz\">jhu-usc.edu_BRCA.HumanMethylation450.Level_1.14.5.0.tar.gz</a>                                     2013-03-16 10:46  307M  \n",
        "      <a href=\"jhu-usc.edu_BRCA.HumanMethylation450.Level_1.14.5.0.tar.gz.md5\">jhu-usc.edu_BRCA.HumanMethylation450.Level_1.14.5.0.tar.gz.md5</a>                                 2013-03-16 10:46   92   \n",
        "      <a href=\"jhu-usc.edu_BRCA.HumanMethylation450.Level_1.14.5.0/\">jhu-usc.edu_BRCA.HumanMethylation450.Level_1.14.5.0/</a>                                           2013-03-16 10:45    -   \n",
        "      <a href=\"jhu-usc.edu_BRCA.HumanMethylation450.Level_1.14.6.0.tar.gz\">jhu-usc.edu_BRCA.HumanMethylation450.Level_1.14.6.0.tar.gz</a>                                     2013-07-17 01:32  307M  \n",
        "      <a href=\"jhu-usc.edu_BRCA.HumanMethylation450.Level_1.14.6.0.tar.gz.md5\">jhu-usc.edu_BRCA.HumanMethylation450.Level_1.14.6.0.tar.gz.md5</a>                                 2013-07-17 01:33   92   \n",
        "      <a href=\"jhu-usc.edu_BRCA.HumanMethylation450.Level_1.14.6.0/\">jhu-usc.edu_BRCA.HumanMethylation450.Level_1.14.6.0/</a>                                           2013-07-17 01:31    -   \n",
        "      <a href=\"jhu-usc.edu_BRCA.HumanMethylation450.Level_1.14.7.0.tar.gz\">jhu-usc.edu_BRCA.HumanMethylation450.Level_1.14.7.0.tar.gz</a>                                     2013-12-01 17:04  307M  \n",
        "      <a href=\"jhu-usc.edu_BRCA.HumanMethylation450.Level_1.14.7.0.tar.gz.md5\">jhu-usc.edu_BRCA.HumanMethylation450.Level_1.14.7.0.tar.gz.md5</a>                                 2013-12-01 17:04   92   \n",
        "      <a href=\"jhu-usc.edu_BRCA.HumanMethylation450.Level_1.14.7.0/\">jhu-usc.edu_BRCA.HumanMethylation450.Level_1.14.7.0/</a>                                           2013-12-01 17:03    -   \n",
        "      <a href=\"jhu-usc.edu_BRCA.HumanMethylation450.Level_1.14.8.0.tar.gz\">jhu-usc.edu_BRCA.HumanMethylation450.Level_1.14.8.0.tar.gz</a>                                     2014-03-14 20:27  307M  \n",
        "      <a href=\"jhu-usc.edu_BRCA.HumanMethylation450.Level_1.14.8.0.tar.gz.md5\">jhu-usc.edu_BRCA.HumanMethylation450.Level_1.14.8.0.tar.gz.md5</a>                                 2014-03-14 20:27   92   \n",
        "      <a href=\"jhu-usc.edu_BRCA.HumanMethylation450.Level_1.14.8.0/\">jhu-usc.edu_BRCA.HumanMethylation450.Level_1.14.8.0/</a>                                           2014-03-14 20:25    -   \n",
        "      <a href=\"jhu-usc.edu_BRCA.HumanMethylation450.Level_1.14.9.0.tar.gz\">jhu-usc.edu_BRCA.HumanMethylation450.Level_1.14.9.0.tar.gz</a>                                     2015-01-26 03:29  307M  \n",
        "      <a href=\"jhu-usc.edu_BRCA.HumanMethylation450.Level_1.14.9.0.tar.gz.md5\">jhu-usc.edu_BRCA.HumanMethylation450.Level_1.14.9.0.tar.gz.md5</a>                                 2015-01-26 03:29   92   \n",
        "      <a href=\"jhu-usc.edu_BRCA.HumanMethylation450.Level_1.14.9.0/\">jhu-usc.edu_BRCA.HumanMethylation450.Level_1.14.9.0/</a>                                           2015-01-26 03:28    -   \n",
        "      <a href=\"jhu-usc.edu_BRCA.HumanMethylation450.Level_1.15.0.0.tar.gz\">jhu-usc.edu_BRCA.HumanMethylation450.Level_1.15.0.0.tar.gz</a>                                     2011-10-12 02:18  238M  \n",
        "      <a href=\"jhu-usc.edu_BRCA.HumanMethylation450.Level_1.15.0.0.tar.gz.md5\">jhu-usc.edu_BRCA.HumanMethylation450.Level_1.15.0.0.tar.gz.md5</a>                                 2011-10-12 02:18   92   \n",
        "      <a href=\"jhu-usc.edu_BRCA.HumanMethylation450.Level_1.15.1.0.tar.gz\">jhu-usc.edu_BRCA.HumanMethylation450.Level_1.15.1.0.tar.gz</a>                                     2011-11-07 20:05  238M  \n",
        "      <a href=\"jhu-usc.edu_BRCA.HumanMethylation450.Level_1.15.1.0.tar.gz.md5\">jhu-usc.edu_BRCA.HumanMethylation450.Level_1.15.1.0.tar.gz.md5</a>                                 2011-11-07 20:06   92   \n",
        "      <a href=\"jhu-usc.edu_BRCA.HumanMethylation450.Level_1.15.2.0.tar.gz\">jhu-usc.edu_BRCA.HumanMethylation450.Level_1.15.2.0.tar.gz</a>                                     2012-04-02 22:52  410M  \n",
        "      <a href=\"jhu-usc.edu_BRCA.HumanMethylation450.Level_1.15.2.0.tar.gz.md5\">jhu-usc.edu_BRCA.HumanMethylation450.Level_1.15.2.0.tar.gz.md5</a>                                 2012-04-02 22:52   92   \n",
        "      <a href=\"jhu-usc.edu_BRCA.HumanMethylation450.Level_1.15.2.0/\">jhu-usc.edu_BRCA.HumanMethylation450.Level_1.15.2.0/</a>                                           2012-04-02 22:51    -   \n",
        "      <a href=\"jhu-usc.edu_BRCA.HumanMethylation450.Level_1.15.3.0.tar.gz\">jhu-usc.edu_BRCA.HumanMethylation450.Level_1.15.3.0.tar.gz</a>                                     2012-10-04 03:42  418M  \n",
        "      <a href=\"jhu-usc.edu_BRCA.HumanMethylation450.Level_1.15.3.0.tar.gz.md5\">jhu-usc.edu_BRCA.HumanMethylation450.Level_1.15.3.0.tar.gz.md5</a>                                 2012-10-04 03:43   92   \n",
        "      <a href=\"jhu-usc.edu_BRCA.HumanMethylation450.Level_1.15.3.0/\">jhu-usc.edu_BRCA.HumanMethylation450.Level_1.15.3.0/</a>                                           2012-10-04 03:41    -   \n",
        "      <a href=\"jhu-usc.edu_BRCA.HumanMethylation450.Level_1.15.4.0.tar.gz\">jhu-usc.edu_BRCA.HumanMethylation450.Level_1.15.4.0.tar.gz</a>                                     2012-10-30 02:21  418M  \n",
        "      <a href=\"jhu-usc.edu_BRCA.HumanMethylation450.Level_1.15.4.0.tar.gz.md5\">jhu-usc.edu_BRCA.HumanMethylation450.Level_1.15.4.0.tar.gz.md5</a>                                 2012-10-30 02:21   92   \n",
        "      <a href=\"jhu-usc.edu_BRCA.HumanMethylation450.Level_1.15.4.0/\">jhu-usc.edu_BRCA.HumanMethylation450.Level_1.15.4.0/</a>                                           2012-10-30 02:19    -   \n",
        "      <a href=\"jhu-usc.edu_BRCA.HumanMethylation450.Level_1.15.5.0.tar.gz\">jhu-usc.edu_BRCA.HumanMethylation450.Level_1.15.5.0.tar.gz</a>                                     2013-03-16 10:41  418M  \n",
        "      <a href=\"jhu-usc.edu_BRCA.HumanMethylation450.Level_1.15.5.0.tar.gz.md5\">jhu-usc.edu_BRCA.HumanMethylation450.Level_1.15.5.0.tar.gz.md5</a>                                 2013-03-16 10:41   92   \n",
        "      <a href=\"jhu-usc.edu_BRCA.HumanMethylation450.Level_1.15.5.0/\">jhu-usc.edu_BRCA.HumanMethylation450.Level_1.15.5.0/</a>                                           2013-03-16 10:40    -   \n",
        "      <a href=\"jhu-usc.edu_BRCA.HumanMethylation450.Level_1.15.6.0.tar.gz\">jhu-usc.edu_BRCA.HumanMethylation450.Level_1.15.6.0.tar.gz</a>                                     2013-07-17 01:25  450M  \n",
        "      <a href=\"jhu-usc.edu_BRCA.HumanMethylation450.Level_1.15.6.0.tar.gz.md5\">jhu-usc.edu_BRCA.HumanMethylation450.Level_1.15.6.0.tar.gz.md5</a>                                 2013-07-17 01:25   92   \n",
        "      <a href=\"jhu-usc.edu_BRCA.HumanMethylation450.Level_1.15.6.0/\">jhu-usc.edu_BRCA.HumanMethylation450.Level_1.15.6.0/</a>                                           2013-07-17 01:23    -   \n",
        "      <a href=\"jhu-usc.edu_BRCA.HumanMethylation450.Level_1.15.7.0.tar.gz\">jhu-usc.edu_BRCA.HumanMethylation450.Level_1.15.7.0.tar.gz</a>                                     2013-12-01 16:59  450M  \n",
        "      <a href=\"jhu-usc.edu_BRCA.HumanMethylation450.Level_1.15.7.0.tar.gz.md5\">jhu-usc.edu_BRCA.HumanMethylation450.Level_1.15.7.0.tar.gz.md5</a>                                 2013-12-01 16:59   92   \n",
        "      <a href=\"jhu-usc.edu_BRCA.HumanMethylation450.Level_1.15.7.0/\">jhu-usc.edu_BRCA.HumanMethylation450.Level_1.15.7.0/</a>                                           2013-12-01 16:57    -   \n",
        "      <a href=\"jhu-usc.edu_BRCA.HumanMethylation450.Level_1.15.8.0.tar.gz\">jhu-usc.edu_BRCA.HumanMethylation450.Level_1.15.8.0.tar.gz</a>                                     2014-03-14 20:20  450M  \n",
        "      <a href=\"jhu-usc.edu_BRCA.HumanMethylation450.Level_1.15.8.0.tar.gz.md5\">jhu-usc.edu_BRCA.HumanMethylation450.Level_1.15.8.0.tar.gz.md5</a>                                 2014-03-14 20:20   92   \n",
        "      <a href=\"jhu-usc.edu_BRCA.HumanMethylation450.Level_1.15.8.0/\">jhu-usc.edu_BRCA.HumanMethylation450.Level_1.15.8.0/</a>                                           2014-03-14 20:18    -   \n",
        "      <a href=\"jhu-usc.edu_BRCA.HumanMethylation450.Level_1.15.9.0.tar.gz\">jhu-usc.edu_BRCA.HumanMethylation450.Level_1.15.9.0.tar.gz</a>                                     2015-01-26 03:23  450M  \n",
        "      <a href=\"jhu-usc.edu_BRCA.HumanMethylation450.Level_1.15.9.0.tar.gz.md5\">jhu-usc.edu_BRCA.HumanMethylation450.Level_1.15.9.0.tar.gz.md5</a>                                 2015-01-26 03:24   92   \n",
        "      <a href=\"jhu-usc.edu_BRCA.HumanMethylation450.Level_1.15.9.0/\">jhu-usc.edu_BRCA.HumanMethylation450.Level_1.15.9.0/</a>                                           2015-01-26 03:22    -   \n",
        "      <a href=\"jhu-usc.edu_BRCA.HumanMethylation450.Level_1.16.0.0.tar.gz\">jhu-usc.edu_BRCA.HumanMethylation450.Level_1.16.0.0.tar.gz</a>                                     2011-10-12 02:19   90M  \n",
        "      <a href=\"jhu-usc.edu_BRCA.HumanMethylation450.Level_1.16.0.0.tar.gz.md5\">jhu-usc.edu_BRCA.HumanMethylation450.Level_1.16.0.0.tar.gz.md5</a>                                 2011-10-12 02:19   92   \n",
        "      <a href=\"jhu-usc.edu_BRCA.HumanMethylation450.Level_1.16.1.0.tar.gz\">jhu-usc.edu_BRCA.HumanMethylation450.Level_1.16.1.0.tar.gz</a>                                     2011-11-07 20:06   90M  \n",
        "      <a href=\"jhu-usc.edu_BRCA.HumanMethylation450.Level_1.16.1.0.tar.gz.md5\">jhu-usc.edu_BRCA.HumanMethylation450.Level_1.16.1.0.tar.gz.md5</a>                                 2011-11-07 20:06   92   \n",
        "      <a href=\"jhu-usc.edu_BRCA.HumanMethylation450.Level_1.16.2.0.tar.gz\">jhu-usc.edu_BRCA.HumanMethylation450.Level_1.16.2.0.tar.gz</a>                                     2012-04-02 22:54  246M  \n",
        "      <a href=\"jhu-usc.edu_BRCA.HumanMethylation450.Level_1.16.2.0.tar.gz.md5\">jhu-usc.edu_BRCA.HumanMethylation450.Level_1.16.2.0.tar.gz.md5</a>                                 2012-04-02 22:54   92   \n",
        "      <a href=\"jhu-usc.edu_BRCA.HumanMethylation450.Level_1.16.2.0/\">jhu-usc.edu_BRCA.HumanMethylation450.Level_1.16.2.0/</a>                                           2012-04-02 22:53    -   \n",
        "      <a href=\"jhu-usc.edu_BRCA.HumanMethylation450.Level_1.16.3.0.tar.gz\">jhu-usc.edu_BRCA.HumanMethylation450.Level_1.16.3.0.tar.gz</a>                                     2012-10-04 03:45  246M  \n",
        "      <a href=\"jhu-usc.edu_BRCA.HumanMethylation450.Level_1.16.3.0.tar.gz.md5\">jhu-usc.edu_BRCA.HumanMethylation450.Level_1.16.3.0.tar.gz.md5</a>                                 2012-10-04 03:45   92   \n",
        "      <a href=\"jhu-usc.edu_BRCA.HumanMethylation450.Level_1.16.3.0/\">jhu-usc.edu_BRCA.HumanMethylation450.Level_1.16.3.0/</a>                                           2012-10-04 03:43    -   \n",
        "      <a href=\"jhu-usc.edu_BRCA.HumanMethylation450.Level_1.16.4.0.tar.gz\">jhu-usc.edu_BRCA.HumanMethylation450.Level_1.16.4.0.tar.gz</a>                                     2012-10-30 02:22  246M  \n",
        "      <a href=\"jhu-usc.edu_BRCA.HumanMethylation450.Level_1.16.4.0.tar.gz.md5\">jhu-usc.edu_BRCA.HumanMethylation450.Level_1.16.4.0.tar.gz.md5</a>                                 2012-10-30 02:22   92   \n",
        "      <a href=\"jhu-usc.edu_BRCA.HumanMethylation450.Level_1.16.4.0/\">jhu-usc.edu_BRCA.HumanMethylation450.Level_1.16.4.0/</a>                                           2012-10-30 02:21    -   \n",
        "      <a href=\"jhu-usc.edu_BRCA.HumanMethylation450.Level_1.16.5.0.tar.gz\">jhu-usc.edu_BRCA.HumanMethylation450.Level_1.16.5.0.tar.gz</a>                                     2013-03-16 10:42  246M  \n",
        "      <a href=\"jhu-usc.edu_BRCA.HumanMethylation450.Level_1.16.5.0.tar.gz.md5\">jhu-usc.edu_BRCA.HumanMethylation450.Level_1.16.5.0.tar.gz.md5</a>                                 2013-03-16 10:43   92   \n",
        "      <a href=\"jhu-usc.edu_BRCA.HumanMethylation450.Level_1.16.5.0/\">jhu-usc.edu_BRCA.HumanMethylation450.Level_1.16.5.0/</a>                                           2013-03-16 10:42    -   \n",
        "      <a href=\"jhu-usc.edu_BRCA.HumanMethylation450.Level_1.16.6.0.tar.gz\">jhu-usc.edu_BRCA.HumanMethylation450.Level_1.16.6.0.tar.gz</a>                                     2013-07-17 01:27  246M  \n",
        "      <a href=\"jhu-usc.edu_BRCA.HumanMethylation450.Level_1.16.6.0.tar.gz.md5\">jhu-usc.edu_BRCA.HumanMethylation450.Level_1.16.6.0.tar.gz.md5</a>                                 2013-07-17 01:27   92   \n",
        "      <a href=\"jhu-usc.edu_BRCA.HumanMethylation450.Level_1.16.6.0/\">jhu-usc.edu_BRCA.HumanMethylation450.Level_1.16.6.0/</a>                                           2013-07-17 01:26    -   \n",
        "      <a href=\"jhu-usc.edu_BRCA.HumanMethylation450.Level_1.16.7.0.tar.gz\">jhu-usc.edu_BRCA.HumanMethylation450.Level_1.16.7.0.tar.gz</a>                                     2013-12-01 17:01  246M  \n",
        "      <a href=\"jhu-usc.edu_BRCA.HumanMethylation450.Level_1.16.7.0.tar.gz.md5\">jhu-usc.edu_BRCA.HumanMethylation450.Level_1.16.7.0.tar.gz.md5</a>                                 2013-12-01 17:01   92   \n",
        "      <a href=\"jhu-usc.edu_BRCA.HumanMethylation450.Level_1.16.7.0/\">jhu-usc.edu_BRCA.HumanMethylation450.Level_1.16.7.0/</a>                                           2013-12-01 17:00    -   \n",
        "      <a href=\"jhu-usc.edu_BRCA.HumanMethylation450.Level_1.16.8.0.tar.gz\">jhu-usc.edu_BRCA.HumanMethylation450.Level_1.16.8.0.tar.gz</a>                                     2014-03-14 20:23  246M  \n",
        "      <a href=\"jhu-usc.edu_BRCA.HumanMethylation450.Level_1.16.8.0.tar.gz.md5\">jhu-usc.edu_BRCA.HumanMethylation450.Level_1.16.8.0.tar.gz.md5</a>                                 2014-03-14 20:23   92   \n",
        "      <a href=\"jhu-usc.edu_BRCA.HumanMethylation450.Level_1.16.8.0/\">jhu-usc.edu_BRCA.HumanMethylation450.Level_1.16.8.0/</a>                                           2014-03-14 20:22    -   \n",
        "      <a href=\"jhu-usc.edu_BRCA.HumanMethylation450.Level_1.16.9.0.tar.gz\">jhu-usc.edu_BRCA.HumanMethylation450.Level_1.16.9.0.tar.gz</a>                                     2015-01-26 03:25  246M  \n",
        "      <a href=\"jhu-usc.edu_BRCA.HumanMethylation450.Level_1.16.9.0.tar.gz.md5\">jhu-usc.edu_BRCA.HumanMethylation450.Level_1.16.9.0.tar.gz.md5</a>                                 2015-01-26 03:25   92   \n",
        "      <a href=\"jhu-usc.edu_BRCA.HumanMethylation450.Level_1.16.9.0/\">jhu-usc.edu_BRCA.HumanMethylation450.Level_1.16.9.0/</a>                                           2015-01-26 03:24    -   \n",
        "      <a href=\"jhu-usc.edu_BRCA.HumanMethylation450.Level_1.17.2.0.tar.gz\">jhu-usc.edu_BRCA.HumanMethylation450.Level_1.17.2.0.tar.gz</a>                                     2012-04-02 22:49   98M  \n",
        "      <a href=\"jhu-usc.edu_BRCA.HumanMethylation450.Level_1.17.2.0.tar.gz.md5\">jhu-usc.edu_BRCA.HumanMethylation450.Level_1.17.2.0.tar.gz.md5</a>                                 2012-04-02 22:49   92   \n",
        "      <a href=\"jhu-usc.edu_BRCA.HumanMethylation450.Level_1.17.2.0/\">jhu-usc.edu_BRCA.HumanMethylation450.Level_1.17.2.0/</a>                                           2012-04-02 22:49    -   \n",
        "      <a href=\"jhu-usc.edu_BRCA.HumanMethylation450.Level_1.17.3.0.tar.gz\">jhu-usc.edu_BRCA.HumanMethylation450.Level_1.17.3.0.tar.gz</a>                                     2012-10-04 03:38   98M  \n",
        "      <a href=\"jhu-usc.edu_BRCA.HumanMethylation450.Level_1.17.3.0.tar.gz.md5\">jhu-usc.edu_BRCA.HumanMethylation450.Level_1.17.3.0.tar.gz.md5</a>                                 2012-10-04 03:38   92   \n",
        "      <a href=\"jhu-usc.edu_BRCA.HumanMethylation450.Level_1.17.3.0/\">jhu-usc.edu_BRCA.HumanMethylation450.Level_1.17.3.0/</a>                                           2012-10-04 03:38    -   \n",
        "      <a href=\"jhu-usc.edu_BRCA.HumanMethylation450.Level_1.17.4.0.tar.gz\">jhu-usc.edu_BRCA.HumanMethylation450.Level_1.17.4.0.tar.gz</a>                                     2012-10-30 02:17   98M  \n",
        "      <a href=\"jhu-usc.edu_BRCA.HumanMethylation450.Level_1.17.4.0.tar.gz.md5\">jhu-usc.edu_BRCA.HumanMethylation450.Level_1.17.4.0.tar.gz.md5</a>                                 2012-10-30 02:17   92   \n",
        "      <a href=\"jhu-usc.edu_BRCA.HumanMethylation450.Level_1.17.4.0/\">jhu-usc.edu_BRCA.HumanMethylation450.Level_1.17.4.0/</a>                                           2012-10-30 02:17    -   \n",
        "      <a href=\"jhu-usc.edu_BRCA.HumanMethylation450.Level_1.17.5.0.tar.gz\">jhu-usc.edu_BRCA.HumanMethylation450.Level_1.17.5.0.tar.gz</a>                                     2013-03-16 10:38   98M  \n",
        "      <a href=\"jhu-usc.edu_BRCA.HumanMethylation450.Level_1.17.5.0.tar.gz.md5\">jhu-usc.edu_BRCA.HumanMethylation450.Level_1.17.5.0.tar.gz.md5</a>                                 2013-03-16 10:38   92   \n",
        "      <a href=\"jhu-usc.edu_BRCA.HumanMethylation450.Level_1.17.5.0/\">jhu-usc.edu_BRCA.HumanMethylation450.Level_1.17.5.0/</a>                                           2013-03-16 10:38    -   \n",
        "      <a href=\"jhu-usc.edu_BRCA.HumanMethylation450.Level_1.17.6.0.tar.gz\">jhu-usc.edu_BRCA.HumanMethylation450.Level_1.17.6.0.tar.gz</a>                                     2013-07-17 01:20   98M  \n",
        "      <a href=\"jhu-usc.edu_BRCA.HumanMethylation450.Level_1.17.6.0.tar.gz.md5\">jhu-usc.edu_BRCA.HumanMethylation450.Level_1.17.6.0.tar.gz.md5</a>                                 2013-07-17 01:20   92   \n",
        "      <a href=\"jhu-usc.edu_BRCA.HumanMethylation450.Level_1.17.6.0/\">jhu-usc.edu_BRCA.HumanMethylation450.Level_1.17.6.0/</a>                                           2013-07-17 01:20    -   \n",
        "      <a href=\"jhu-usc.edu_BRCA.HumanMethylation450.Level_1.17.7.0.tar.gz\">jhu-usc.edu_BRCA.HumanMethylation450.Level_1.17.7.0.tar.gz</a>                                     2013-12-01 16:56   98M  \n",
        "      <a href=\"jhu-usc.edu_BRCA.HumanMethylation450.Level_1.17.7.0.tar.gz.md5\">jhu-usc.edu_BRCA.HumanMethylation450.Level_1.17.7.0.tar.gz.md5</a>                                 2013-12-01 16:56   92   \n",
        "      <a href=\"jhu-usc.edu_BRCA.HumanMethylation450.Level_1.17.7.0/\">jhu-usc.edu_BRCA.HumanMethylation450.Level_1.17.7.0/</a>                                           2013-12-01 16:56    -   \n",
        "      <a href=\"jhu-usc.edu_BRCA.HumanMethylation450.Level_1.17.8.0.tar.gz\">jhu-usc.edu_BRCA.HumanMethylation450.Level_1.17.8.0.tar.gz</a>                                     2014-03-14 20:16   98M  \n",
        "      <a href=\"jhu-usc.edu_BRCA.HumanMethylation450.Level_1.17.8.0.tar.gz.md5\">jhu-usc.edu_BRCA.HumanMethylation450.Level_1.17.8.0.tar.gz.md5</a>                                 2014-03-14 20:16   92   \n",
        "      <a href=\"jhu-usc.edu_BRCA.HumanMethylation450.Level_1.17.8.0/\">jhu-usc.edu_BRCA.HumanMethylation450.Level_1.17.8.0/</a>                                           2014-03-14 20:16    -   \n",
        "      <a href=\"jhu-usc.edu_BRCA.HumanMethylation450.Level_1.17.9.0.tar.gz\">jhu-usc.edu_BRCA.HumanMethylation450.Level_1.17.9.0.tar.gz</a>                                     2015-01-26 03:21   98M  \n",
        "      <a href=\"jhu-usc.edu_BRCA.HumanMethylation450.Level_1.17.9.0.tar.gz.md5\">jhu-usc.edu_BRCA.HumanMethylation450.Level_1.17.9.0.tar.gz.md5</a>                                 2015-01-26 03:21   92   \n",
        "      <a href=\"jhu-usc.edu_BRCA.HumanMethylation450.Level_1.17.9.0/\">jhu-usc.edu_BRCA.HumanMethylation450.Level_1.17.9.0/</a>                                           2015-01-26 03:20    -   \n",
        "      <a href=\"jhu-usc.edu_BRCA.HumanMethylation450.Level_1.18.2.0.tar.gz\">jhu-usc.edu_BRCA.HumanMethylation450.Level_1.18.2.0.tar.gz</a>                                     2012-04-02 22:50  115M  \n",
        "      <a href=\"jhu-usc.edu_BRCA.HumanMethylation450.Level_1.18.2.0.tar.gz.md5\">jhu-usc.edu_BRCA.HumanMethylation450.Level_1.18.2.0.tar.gz.md5</a>                                 2012-04-02 22:50   92   \n",
        "      <a href=\"jhu-usc.edu_BRCA.HumanMethylation450.Level_1.18.2.0/\">jhu-usc.edu_BRCA.HumanMethylation450.Level_1.18.2.0/</a>                                           2012-04-02 22:49    -   \n",
        "      <a href=\"jhu-usc.edu_BRCA.HumanMethylation450.Level_1.18.3.0.tar.gz\">jhu-usc.edu_BRCA.HumanMethylation450.Level_1.18.3.0.tar.gz</a>                                     2012-10-04 03:40  115M  \n",
        "      <a href=\"jhu-usc.edu_BRCA.HumanMethylation450.Level_1.18.3.0.tar.gz.md5\">jhu-usc.edu_BRCA.HumanMethylation450.Level_1.18.3.0.tar.gz.md5</a>                                 2012-10-04 03:40   92   \n",
        "      <a href=\"jhu-usc.edu_BRCA.HumanMethylation450.Level_1.18.3.0/\">jhu-usc.edu_BRCA.HumanMethylation450.Level_1.18.3.0/</a>                                           2012-10-04 03:40    -   \n",
        "      <a href=\"jhu-usc.edu_BRCA.HumanMethylation450.Level_1.18.4.0.tar.gz\">jhu-usc.edu_BRCA.HumanMethylation450.Level_1.18.4.0.tar.gz</a>                                     2012-10-30 02:19  115M  \n",
        "      <a href=\"jhu-usc.edu_BRCA.HumanMethylation450.Level_1.18.4.0.tar.gz.md5\">jhu-usc.edu_BRCA.HumanMethylation450.Level_1.18.4.0.tar.gz.md5</a>                                 2012-10-30 02:19   92   \n",
        "      <a href=\"jhu-usc.edu_BRCA.HumanMethylation450.Level_1.18.4.0/\">jhu-usc.edu_BRCA.HumanMethylation450.Level_1.18.4.0/</a>                                           2012-10-30 02:18    -   \n",
        "      <a href=\"jhu-usc.edu_BRCA.HumanMethylation450.Level_1.18.5.0.tar.gz\">jhu-usc.edu_BRCA.HumanMethylation450.Level_1.18.5.0.tar.gz</a>                                     2013-03-16 10:39  115M  \n",
        "      <a href=\"jhu-usc.edu_BRCA.HumanMethylation450.Level_1.18.5.0.tar.gz.md5\">jhu-usc.edu_BRCA.HumanMethylation450.Level_1.18.5.0.tar.gz.md5</a>                                 2013-03-16 10:39   92   \n",
        "      <a href=\"jhu-usc.edu_BRCA.HumanMethylation450.Level_1.18.5.0/\">jhu-usc.edu_BRCA.HumanMethylation450.Level_1.18.5.0/</a>                                           2013-03-16 10:39    -   \n",
        "      <a href=\"jhu-usc.edu_BRCA.HumanMethylation450.Level_1.18.6.0.tar.gz\">jhu-usc.edu_BRCA.HumanMethylation450.Level_1.18.6.0.tar.gz</a>                                     2013-07-17 01:21  115M  \n",
        "      <a href=\"jhu-usc.edu_BRCA.HumanMethylation450.Level_1.18.6.0.tar.gz.md5\">jhu-usc.edu_BRCA.HumanMethylation450.Level_1.18.6.0.tar.gz.md5</a>                                 2013-07-17 01:22   92   \n",
        "      <a href=\"jhu-usc.edu_BRCA.HumanMethylation450.Level_1.18.6.0/\">jhu-usc.edu_BRCA.HumanMethylation450.Level_1.18.6.0/</a>                                           2013-07-17 01:21    -   \n",
        "      <a href=\"jhu-usc.edu_BRCA.HumanMethylation450.Level_1.18.7.0.tar.gz\">jhu-usc.edu_BRCA.HumanMethylation450.Level_1.18.7.0.tar.gz</a>                                     2013-12-01 16:57  115M  \n",
        "      <a href=\"jhu-usc.edu_BRCA.HumanMethylation450.Level_1.18.7.0.tar.gz.md5\">jhu-usc.edu_BRCA.HumanMethylation450.Level_1.18.7.0.tar.gz.md5</a>                                 2013-12-01 16:57   92   \n",
        "      <a href=\"jhu-usc.edu_BRCA.HumanMethylation450.Level_1.18.7.0/\">jhu-usc.edu_BRCA.HumanMethylation450.Level_1.18.7.0/</a>                                           2013-12-01 16:57    -   \n",
        "      <a href=\"jhu-usc.edu_BRCA.HumanMethylation450.Level_1.18.8.0.tar.gz\">jhu-usc.edu_BRCA.HumanMethylation450.Level_1.18.8.0.tar.gz</a>                                     2014-03-14 20:17  115M  \n",
        "      <a href=\"jhu-usc.edu_BRCA.HumanMethylation450.Level_1.18.8.0.tar.gz.md5\">jhu-usc.edu_BRCA.HumanMethylation450.Level_1.18.8.0.tar.gz.md5</a>                                 2014-03-14 20:17   92   \n",
        "      <a href=\"jhu-usc.edu_BRCA.HumanMethylation450.Level_1.18.8.0/\">jhu-usc.edu_BRCA.HumanMethylation450.Level_1.18.8.0/</a>                                           2014-03-14 20:16    -   \n",
        "      <a href=\"jhu-usc.edu_BRCA.HumanMethylation450.Level_1.18.9.0.tar.gz\">jhu-usc.edu_BRCA.HumanMethylation450.Level_1.18.9.0.tar.gz</a>                                     2015-01-26 03:21  115M  \n",
        "      <a href=\"jhu-usc.edu_BRCA.HumanMethylation450.Level_1.18.9.0.tar.gz.md5\">jhu-usc.edu_BRCA.HumanMethylation450.Level_1.18.9.0.tar.gz.md5</a>                                 2015-01-26 03:21   92   \n",
        "      <a href=\"jhu-usc.edu_BRCA.HumanMethylation450.Level_1.18.9.0/\">jhu-usc.edu_BRCA.HumanMethylation450.Level_1.18.9.0/</a>                                           2015-01-26 03:21    -   \n",
        "      <a href=\"jhu-usc.edu_BRCA.HumanMethylation450.Level_1.19.2.0.tar.gz\">jhu-usc.edu_BRCA.HumanMethylation450.Level_1.19.2.0.tar.gz</a>                                     2012-04-02 22:48  147M  \n",
        "      <a href=\"jhu-usc.edu_BRCA.HumanMethylation450.Level_1.19.2.0.tar.gz.md5\">jhu-usc.edu_BRCA.HumanMethylation450.Level_1.19.2.0.tar.gz.md5</a>                                 2012-04-02 22:48   92   \n",
        "      <a href=\"jhu-usc.edu_BRCA.HumanMethylation450.Level_1.19.2.0/\">jhu-usc.edu_BRCA.HumanMethylation450.Level_1.19.2.0/</a>                                           2012-04-02 22:48    -   \n",
        "      <a href=\"jhu-usc.edu_BRCA.HumanMethylation450.Level_1.19.3.0.tar.gz\">jhu-usc.edu_BRCA.HumanMethylation450.Level_1.19.3.0.tar.gz</a>                                     2012-10-04 03:36  155M  \n",
        "      <a href=\"jhu-usc.edu_BRCA.HumanMethylation450.Level_1.19.3.0.tar.gz.md5\">jhu-usc.edu_BRCA.HumanMethylation450.Level_1.19.3.0.tar.gz.md5</a>                                 2012-10-04 03:37   92   \n",
        "      <a href=\"jhu-usc.edu_BRCA.HumanMethylation450.Level_1.19.3.0/\">jhu-usc.edu_BRCA.HumanMethylation450.Level_1.19.3.0/</a>                                           2012-10-04 03:36    -   \n",
        "      <a href=\"jhu-usc.edu_BRCA.HumanMethylation450.Level_1.19.4.0.tar.gz\">jhu-usc.edu_BRCA.HumanMethylation450.Level_1.19.4.0.tar.gz</a>                                     2012-10-30 02:16  155M  \n",
        "      <a href=\"jhu-usc.edu_BRCA.HumanMethylation450.Level_1.19.4.0.tar.gz.md5\">jhu-usc.edu_BRCA.HumanMethylation450.Level_1.19.4.0.tar.gz.md5</a>                                 2012-10-30 02:16   92   \n",
        "      <a href=\"jhu-usc.edu_BRCA.HumanMethylation450.Level_1.19.4.0/\">jhu-usc.edu_BRCA.HumanMethylation450.Level_1.19.4.0/</a>                                           2012-10-30 02:15    -   \n",
        "      <a href=\"jhu-usc.edu_BRCA.HumanMethylation450.Level_1.19.5.0.tar.gz\">jhu-usc.edu_BRCA.HumanMethylation450.Level_1.19.5.0.tar.gz</a>                                     2013-03-16 10:38  155M  \n",
        "      <a href=\"jhu-usc.edu_BRCA.HumanMethylation450.Level_1.19.5.0.tar.gz.md5\">jhu-usc.edu_BRCA.HumanMethylation450.Level_1.19.5.0.tar.gz.md5</a>                                 2013-03-16 10:38   92   \n",
        "      <a href=\"jhu-usc.edu_BRCA.HumanMethylation450.Level_1.19.5.0/\">jhu-usc.edu_BRCA.HumanMethylation450.Level_1.19.5.0/</a>                                           2013-03-16 10:37    -   \n",
        "      <a href=\"jhu-usc.edu_BRCA.HumanMethylation450.Level_1.19.6.0.tar.gz\">jhu-usc.edu_BRCA.HumanMethylation450.Level_1.19.6.0.tar.gz</a>                                     2013-07-17 01:20  155M  \n",
        "      <a href=\"jhu-usc.edu_BRCA.HumanMethylation450.Level_1.19.6.0.tar.gz.md5\">jhu-usc.edu_BRCA.HumanMethylation450.Level_1.19.6.0.tar.gz.md5</a>                                 2013-07-17 01:20   92   \n",
        "      <a href=\"jhu-usc.edu_BRCA.HumanMethylation450.Level_1.19.6.0/\">jhu-usc.edu_BRCA.HumanMethylation450.Level_1.19.6.0/</a>                                           2013-07-17 01:19    -   \n",
        "      <a href=\"jhu-usc.edu_BRCA.HumanMethylation450.Level_1.19.7.0.tar.gz\">jhu-usc.edu_BRCA.HumanMethylation450.Level_1.19.7.0.tar.gz</a>                                     2013-12-01 16:56  155M  \n",
        "      <a href=\"jhu-usc.edu_BRCA.HumanMethylation450.Level_1.19.7.0.tar.gz.md5\">jhu-usc.edu_BRCA.HumanMethylation450.Level_1.19.7.0.tar.gz.md5</a>                                 2013-12-01 16:56   92   \n",
        "      <a href=\"jhu-usc.edu_BRCA.HumanMethylation450.Level_1.19.7.0/\">jhu-usc.edu_BRCA.HumanMethylation450.Level_1.19.7.0/</a>                                           2013-12-01 16:55    -   \n",
        "      <a href=\"jhu-usc.edu_BRCA.HumanMethylation450.Level_1.19.8.0.tar.gz\">jhu-usc.edu_BRCA.HumanMethylation450.Level_1.19.8.0.tar.gz</a>                                     2014-03-14 20:15  155M  \n",
        "      <a href=\"jhu-usc.edu_BRCA.HumanMethylation450.Level_1.19.8.0.tar.gz.md5\">jhu-usc.edu_BRCA.HumanMethylation450.Level_1.19.8.0.tar.gz.md5</a>                                 2014-03-14 20:15   92   \n",
        "      <a href=\"jhu-usc.edu_BRCA.HumanMethylation450.Level_1.19.8.0/\">jhu-usc.edu_BRCA.HumanMethylation450.Level_1.19.8.0/</a>                                           2014-03-14 20:15    -   \n",
        "      <a href=\"jhu-usc.edu_BRCA.HumanMethylation450.Level_1.19.9.0.tar.gz\">jhu-usc.edu_BRCA.HumanMethylation450.Level_1.19.9.0.tar.gz</a>                                     2015-01-26 03:19  155M  \n",
        "      <a href=\"jhu-usc.edu_BRCA.HumanMethylation450.Level_1.19.9.0.tar.gz.md5\">jhu-usc.edu_BRCA.HumanMethylation450.Level_1.19.9.0.tar.gz.md5</a>                                 2015-01-26 03:19   92   \n",
        "      <a href=\"jhu-usc.edu_BRCA.HumanMethylation450.Level_1.19.9.0/\">jhu-usc.edu_BRCA.HumanMethylation450.Level_1.19.9.0/</a>                                           2015-01-26 03:18    -   \n",
        "      <a href=\"jhu-usc.edu_BRCA.HumanMethylation450.Level_1.2.0.0.tar.gz\">jhu-usc.edu_BRCA.HumanMethylation450.Level_1.2.0.0.tar.gz</a>                                      2011-10-12 02:30  8.1M  \n",
        "      <a href=\"jhu-usc.edu_BRCA.HumanMethylation450.Level_1.2.0.0.tar.gz.md5\">jhu-usc.edu_BRCA.HumanMethylation450.Level_1.2.0.0.tar.gz.md5</a>                                  2011-10-12 02:30   91   \n",
        "      <a href=\"jhu-usc.edu_BRCA.HumanMethylation450.Level_1.2.1.0.tar.gz\">jhu-usc.edu_BRCA.HumanMethylation450.Level_1.2.1.0.tar.gz</a>                                      2011-11-07 20:16  8.1M  \n",
        "      <a href=\"jhu-usc.edu_BRCA.HumanMethylation450.Level_1.2.1.0.tar.gz.md5\">jhu-usc.edu_BRCA.HumanMethylation450.Level_1.2.1.0.tar.gz.md5</a>                                  2011-11-07 20:16   91   \n",
        "      <a href=\"jhu-usc.edu_BRCA.HumanMethylation450.Level_1.2.2.0.tar.gz\">jhu-usc.edu_BRCA.HumanMethylation450.Level_1.2.2.0.tar.gz</a>                                      2012-04-02 23:07  8.1M  \n",
        "      <a href=\"jhu-usc.edu_BRCA.HumanMethylation450.Level_1.2.2.0.tar.gz.md5\">jhu-usc.edu_BRCA.HumanMethylation450.Level_1.2.2.0.tar.gz.md5</a>                                  2012-04-02 23:07   91   \n",
        "      <a href=\"jhu-usc.edu_BRCA.HumanMethylation450.Level_1.2.2.0/\">jhu-usc.edu_BRCA.HumanMethylation450.Level_1.2.2.0/</a>                                            2012-04-02 23:07    -   \n",
        "      <a href=\"jhu-usc.edu_BRCA.HumanMethylation450.Level_1.2.3.0.tar.gz\">jhu-usc.edu_BRCA.HumanMethylation450.Level_1.2.3.0.tar.gz</a>                                      2012-10-04 03:57  8.1M  \n",
        "      <a href=\"jhu-usc.edu_BRCA.HumanMethylation450.Level_1.2.3.0.tar.gz.md5\">jhu-usc.edu_BRCA.HumanMethylation450.Level_1.2.3.0.tar.gz.md5</a>                                  2012-10-04 03:57   91   \n",
        "      <a href=\"jhu-usc.edu_BRCA.HumanMethylation450.Level_1.2.3.0/\">jhu-usc.edu_BRCA.HumanMethylation450.Level_1.2.3.0/</a>                                            2012-10-04 03:57    -   \n",
        "      <a href=\"jhu-usc.edu_BRCA.HumanMethylation450.Level_1.2.4.0.tar.gz\">jhu-usc.edu_BRCA.HumanMethylation450.Level_1.2.4.0.tar.gz</a>                                      2012-10-30 02:35  8.1M  \n",
        "      <a href=\"jhu-usc.edu_BRCA.HumanMethylation450.Level_1.2.4.0.tar.gz.md5\">jhu-usc.edu_BRCA.HumanMethylation450.Level_1.2.4.0.tar.gz.md5</a>                                  2012-10-30 02:35   91   \n",
        "      <a href=\"jhu-usc.edu_BRCA.HumanMethylation450.Level_1.2.4.0/\">jhu-usc.edu_BRCA.HumanMethylation450.Level_1.2.4.0/</a>                                            2012-10-30 02:35    -   \n",
        "      <a href=\"jhu-usc.edu_BRCA.HumanMethylation450.Level_1.2.5.0.tar.gz\">jhu-usc.edu_BRCA.HumanMethylation450.Level_1.2.5.0.tar.gz</a>                                      2013-03-16 10:56  8.1M  \n",
        "      <a href=\"jhu-usc.edu_BRCA.HumanMethylation450.Level_1.2.5.0.tar.gz.md5\">jhu-usc.edu_BRCA.HumanMethylation450.Level_1.2.5.0.tar.gz.md5</a>                                  2013-03-16 10:56   91   \n",
        "      <a href=\"jhu-usc.edu_BRCA.HumanMethylation450.Level_1.2.5.0/\">jhu-usc.edu_BRCA.HumanMethylation450.Level_1.2.5.0/</a>                                            2013-03-16 10:56    -   \n",
        "      <a href=\"jhu-usc.edu_BRCA.HumanMethylation450.Level_1.2.6.0.tar.gz\">jhu-usc.edu_BRCA.HumanMethylation450.Level_1.2.6.0.tar.gz</a>                                      2013-07-17 01:55  8.1M  \n",
        "      <a href=\"jhu-usc.edu_BRCA.HumanMethylation450.Level_1.2.6.0.tar.gz.md5\">jhu-usc.edu_BRCA.HumanMethylation450.Level_1.2.6.0.tar.gz.md5</a>                                  2013-07-17 01:55   91   \n",
        "      <a href=\"jhu-usc.edu_BRCA.HumanMethylation450.Level_1.2.6.0/\">jhu-usc.edu_BRCA.HumanMethylation450.Level_1.2.6.0/</a>                                            2013-07-17 01:54    -   \n",
        "      <a href=\"jhu-usc.edu_BRCA.HumanMethylation450.Level_1.2.7.0.tar.gz\">jhu-usc.edu_BRCA.HumanMethylation450.Level_1.2.7.0.tar.gz</a>                                      2013-12-01 17:17  8.1M  \n",
        "      <a href=\"jhu-usc.edu_BRCA.HumanMethylation450.Level_1.2.7.0.tar.gz.md5\">jhu-usc.edu_BRCA.HumanMethylation450.Level_1.2.7.0.tar.gz.md5</a>                                  2013-12-01 17:17   91   \n",
        "      <a href=\"jhu-usc.edu_BRCA.HumanMethylation450.Level_1.2.7.0/\">jhu-usc.edu_BRCA.HumanMethylation450.Level_1.2.7.0/</a>                                            2013-12-01 17:17    -   \n",
        "      <a href=\"jhu-usc.edu_BRCA.HumanMethylation450.Level_1.2.8.0.tar.gz\">jhu-usc.edu_BRCA.HumanMethylation450.Level_1.2.8.0.tar.gz</a>                                      2014-03-14 20:43  8.1M  \n",
        "      <a href=\"jhu-usc.edu_BRCA.HumanMethylation450.Level_1.2.8.0.tar.gz.md5\">jhu-usc.edu_BRCA.HumanMethylation450.Level_1.2.8.0.tar.gz.md5</a>                                  2014-03-14 20:43   91   \n",
        "      <a href=\"jhu-usc.edu_BRCA.HumanMethylation450.Level_1.2.8.0/\">jhu-usc.edu_BRCA.HumanMethylation450.Level_1.2.8.0/</a>                                            2014-03-14 20:43    -   \n",
        "      <a href=\"jhu-usc.edu_BRCA.HumanMethylation450.Level_1.2.9.0.tar.gz\">jhu-usc.edu_BRCA.HumanMethylation450.Level_1.2.9.0.tar.gz</a>                                      2015-01-26 03:42  8.1M  \n",
        "      <a href=\"jhu-usc.edu_BRCA.HumanMethylation450.Level_1.2.9.0.tar.gz.md5\">jhu-usc.edu_BRCA.HumanMethylation450.Level_1.2.9.0.tar.gz.md5</a>                                  2015-01-26 03:42   91   \n",
        "      <a href=\"jhu-usc.edu_BRCA.HumanMethylation450.Level_1.2.9.0/\">jhu-usc.edu_BRCA.HumanMethylation450.Level_1.2.9.0/</a>                                            2015-01-26 03:42    -   \n",
        "      <a href=\"jhu-usc.edu_BRCA.HumanMethylation450.Level_1.20.2.0.tar.gz\">jhu-usc.edu_BRCA.HumanMethylation450.Level_1.20.2.0.tar.gz</a>                                     2012-04-02 23:07   99M  \n",
        "      <a href=\"jhu-usc.edu_BRCA.HumanMethylation450.Level_1.20.2.0.tar.gz.md5\">jhu-usc.edu_BRCA.HumanMethylation450.Level_1.20.2.0.tar.gz.md5</a>                                 2012-04-02 23:07   92   \n",
        "      <a href=\"jhu-usc.edu_BRCA.HumanMethylation45\"></a></pre></body></html>"
       ]
      }
     ],
     "prompt_number": 18
    },
    {
     "cell_type": "markdown",
     "metadata": {},
     "source": [
      "<b>Get Tar Links</b>"
     ]
    },
    {
     "cell_type": "markdown",
     "metadata": {},
     "source": [
      "* Gets the right links:"
     ]
    },
    {
     "cell_type": "code",
     "collapsed": false,
     "input": [
      "links = [link.get('href') for link in soup.find_all('a') \n",
      "                          if (link.get('href') != None )\n",
      "                           and '_1.' in link.get('href')\n",
      "                           and '.tar.gz' in link.get('href')\n",
      "                           and '.md5' not in link.get('href')]\n",
      "links"
     ],
     "language": "python",
     "metadata": {},
     "outputs": [
      {
       "metadata": {},
       "output_type": "pyout",
       "prompt_number": 19,
       "text": [
        "['jhu-usc.edu_BRCA.HumanMethylation450.Level_1.1.0.0.tar.gz',\n",
        " 'jhu-usc.edu_BRCA.HumanMethylation450.Level_1.1.1.0.tar.gz',\n",
        " 'jhu-usc.edu_BRCA.HumanMethylation450.Level_1.1.2.0.tar.gz',\n",
        " 'jhu-usc.edu_BRCA.HumanMethylation450.Level_1.1.3.0.tar.gz',\n",
        " 'jhu-usc.edu_BRCA.HumanMethylation450.Level_1.1.4.0.tar.gz',\n",
        " 'jhu-usc.edu_BRCA.HumanMethylation450.Level_1.1.5.0.tar.gz',\n",
        " 'jhu-usc.edu_BRCA.HumanMethylation450.Level_1.1.6.0.tar.gz',\n",
        " 'jhu-usc.edu_BRCA.HumanMethylation450.Level_1.1.7.0.tar.gz',\n",
        " 'jhu-usc.edu_BRCA.HumanMethylation450.Level_1.1.8.0.tar.gz',\n",
        " 'jhu-usc.edu_BRCA.HumanMethylation450.Level_1.1.9.0.tar.gz',\n",
        " 'jhu-usc.edu_BRCA.HumanMethylation450.Level_1.10.0.0.tar.gz',\n",
        " 'jhu-usc.edu_BRCA.HumanMethylation450.Level_1.10.1.0.tar.gz',\n",
        " 'jhu-usc.edu_BRCA.HumanMethylation450.Level_1.10.2.0.tar.gz',\n",
        " 'jhu-usc.edu_BRCA.HumanMethylation450.Level_1.10.3.0.tar.gz',\n",
        " 'jhu-usc.edu_BRCA.HumanMethylation450.Level_1.10.4.0.tar.gz',\n",
        " 'jhu-usc.edu_BRCA.HumanMethylation450.Level_1.10.5.0.tar.gz',\n",
        " 'jhu-usc.edu_BRCA.HumanMethylation450.Level_1.10.6.0.tar.gz',\n",
        " 'jhu-usc.edu_BRCA.HumanMethylation450.Level_1.10.7.0.tar.gz',\n",
        " 'jhu-usc.edu_BRCA.HumanMethylation450.Level_1.10.8.0.tar.gz',\n",
        " 'jhu-usc.edu_BRCA.HumanMethylation450.Level_1.10.9.0.tar.gz',\n",
        " 'jhu-usc.edu_BRCA.HumanMethylation450.Level_1.11.0.0.tar.gz',\n",
        " 'jhu-usc.edu_BRCA.HumanMethylation450.Level_1.11.1.0.tar.gz',\n",
        " 'jhu-usc.edu_BRCA.HumanMethylation450.Level_1.11.2.0.tar.gz',\n",
        " 'jhu-usc.edu_BRCA.HumanMethylation450.Level_1.11.3.0.tar.gz',\n",
        " 'jhu-usc.edu_BRCA.HumanMethylation450.Level_1.11.4.0.tar.gz',\n",
        " 'jhu-usc.edu_BRCA.HumanMethylation450.Level_1.11.5.0.tar.gz',\n",
        " 'jhu-usc.edu_BRCA.HumanMethylation450.Level_1.11.6.0.tar.gz',\n",
        " 'jhu-usc.edu_BRCA.HumanMethylation450.Level_1.11.7.0.tar.gz',\n",
        " 'jhu-usc.edu_BRCA.HumanMethylation450.Level_1.11.8.0.tar.gz',\n",
        " 'jhu-usc.edu_BRCA.HumanMethylation450.Level_1.11.9.0.tar.gz',\n",
        " 'jhu-usc.edu_BRCA.HumanMethylation450.Level_1.12.0.0.tar.gz',\n",
        " 'jhu-usc.edu_BRCA.HumanMethylation450.Level_1.12.1.0.tar.gz',\n",
        " 'jhu-usc.edu_BRCA.HumanMethylation450.Level_1.12.2.0.tar.gz',\n",
        " 'jhu-usc.edu_BRCA.HumanMethylation450.Level_1.12.3.0.tar.gz',\n",
        " 'jhu-usc.edu_BRCA.HumanMethylation450.Level_1.12.4.0.tar.gz',\n",
        " 'jhu-usc.edu_BRCA.HumanMethylation450.Level_1.12.5.0.tar.gz',\n",
        " 'jhu-usc.edu_BRCA.HumanMethylation450.Level_1.12.6.0.tar.gz',\n",
        " 'jhu-usc.edu_BRCA.HumanMethylation450.Level_1.12.7.0.tar.gz',\n",
        " 'jhu-usc.edu_BRCA.HumanMethylation450.Level_1.12.8.0.tar.gz',\n",
        " 'jhu-usc.edu_BRCA.HumanMethylation450.Level_1.12.9.0.tar.gz',\n",
        " 'jhu-usc.edu_BRCA.HumanMethylation450.Level_1.13.0.0.tar.gz',\n",
        " 'jhu-usc.edu_BRCA.HumanMethylation450.Level_1.13.1.0.tar.gz',\n",
        " 'jhu-usc.edu_BRCA.HumanMethylation450.Level_1.13.2.0.tar.gz',\n",
        " 'jhu-usc.edu_BRCA.HumanMethylation450.Level_1.13.3.0.tar.gz',\n",
        " 'jhu-usc.edu_BRCA.HumanMethylation450.Level_1.13.4.0.tar.gz',\n",
        " 'jhu-usc.edu_BRCA.HumanMethylation450.Level_1.13.5.0.tar.gz',\n",
        " 'jhu-usc.edu_BRCA.HumanMethylation450.Level_1.13.6.0.tar.gz',\n",
        " 'jhu-usc.edu_BRCA.HumanMethylation450.Level_1.13.7.0.tar.gz',\n",
        " 'jhu-usc.edu_BRCA.HumanMethylation450.Level_1.13.8.0.tar.gz',\n",
        " 'jhu-usc.edu_BRCA.HumanMethylation450.Level_1.13.9.0.tar.gz',\n",
        " 'jhu-usc.edu_BRCA.HumanMethylation450.Level_1.14.0.0.tar.gz',\n",
        " 'jhu-usc.edu_BRCA.HumanMethylation450.Level_1.14.1.0.tar.gz',\n",
        " 'jhu-usc.edu_BRCA.HumanMethylation450.Level_1.14.2.0.tar.gz',\n",
        " 'jhu-usc.edu_BRCA.HumanMethylation450.Level_1.14.3.0.tar.gz',\n",
        " 'jhu-usc.edu_BRCA.HumanMethylation450.Level_1.14.4.0.tar.gz',\n",
        " 'jhu-usc.edu_BRCA.HumanMethylation450.Level_1.14.5.0.tar.gz',\n",
        " 'jhu-usc.edu_BRCA.HumanMethylation450.Level_1.14.6.0.tar.gz',\n",
        " 'jhu-usc.edu_BRCA.HumanMethylation450.Level_1.14.7.0.tar.gz',\n",
        " 'jhu-usc.edu_BRCA.HumanMethylation450.Level_1.14.8.0.tar.gz',\n",
        " 'jhu-usc.edu_BRCA.HumanMethylation450.Level_1.14.9.0.tar.gz',\n",
        " 'jhu-usc.edu_BRCA.HumanMethylation450.Level_1.15.0.0.tar.gz',\n",
        " 'jhu-usc.edu_BRCA.HumanMethylation450.Level_1.15.1.0.tar.gz',\n",
        " 'jhu-usc.edu_BRCA.HumanMethylation450.Level_1.15.2.0.tar.gz',\n",
        " 'jhu-usc.edu_BRCA.HumanMethylation450.Level_1.15.3.0.tar.gz',\n",
        " 'jhu-usc.edu_BRCA.HumanMethylation450.Level_1.15.4.0.tar.gz',\n",
        " 'jhu-usc.edu_BRCA.HumanMethylation450.Level_1.15.5.0.tar.gz',\n",
        " 'jhu-usc.edu_BRCA.HumanMethylation450.Level_1.15.6.0.tar.gz',\n",
        " 'jhu-usc.edu_BRCA.HumanMethylation450.Level_1.15.7.0.tar.gz',\n",
        " 'jhu-usc.edu_BRCA.HumanMethylation450.Level_1.15.8.0.tar.gz',\n",
        " 'jhu-usc.edu_BRCA.HumanMethylation450.Level_1.15.9.0.tar.gz',\n",
        " 'jhu-usc.edu_BRCA.HumanMethylation450.Level_1.16.0.0.tar.gz',\n",
        " 'jhu-usc.edu_BRCA.HumanMethylation450.Level_1.16.1.0.tar.gz',\n",
        " 'jhu-usc.edu_BRCA.HumanMethylation450.Level_1.16.2.0.tar.gz',\n",
        " 'jhu-usc.edu_BRCA.HumanMethylation450.Level_1.16.3.0.tar.gz',\n",
        " 'jhu-usc.edu_BRCA.HumanMethylation450.Level_1.16.4.0.tar.gz',\n",
        " 'jhu-usc.edu_BRCA.HumanMethylation450.Level_1.16.5.0.tar.gz',\n",
        " 'jhu-usc.edu_BRCA.HumanMethylation450.Level_1.16.6.0.tar.gz',\n",
        " 'jhu-usc.edu_BRCA.HumanMethylation450.Level_1.16.7.0.tar.gz',\n",
        " 'jhu-usc.edu_BRCA.HumanMethylation450.Level_1.16.8.0.tar.gz',\n",
        " 'jhu-usc.edu_BRCA.HumanMethylation450.Level_1.16.9.0.tar.gz',\n",
        " 'jhu-usc.edu_BRCA.HumanMethylation450.Level_1.17.2.0.tar.gz',\n",
        " 'jhu-usc.edu_BRCA.HumanMethylation450.Level_1.17.3.0.tar.gz',\n",
        " 'jhu-usc.edu_BRCA.HumanMethylation450.Level_1.17.4.0.tar.gz',\n",
        " 'jhu-usc.edu_BRCA.HumanMethylation450.Level_1.17.5.0.tar.gz',\n",
        " 'jhu-usc.edu_BRCA.HumanMethylation450.Level_1.17.6.0.tar.gz',\n",
        " 'jhu-usc.edu_BRCA.HumanMethylation450.Level_1.17.7.0.tar.gz',\n",
        " 'jhu-usc.edu_BRCA.HumanMethylation450.Level_1.17.8.0.tar.gz',\n",
        " 'jhu-usc.edu_BRCA.HumanMethylation450.Level_1.17.9.0.tar.gz',\n",
        " 'jhu-usc.edu_BRCA.HumanMethylation450.Level_1.18.2.0.tar.gz',\n",
        " 'jhu-usc.edu_BRCA.HumanMethylation450.Level_1.18.3.0.tar.gz',\n",
        " 'jhu-usc.edu_BRCA.HumanMethylation450.Level_1.18.4.0.tar.gz',\n",
        " 'jhu-usc.edu_BRCA.HumanMethylation450.Level_1.18.5.0.tar.gz',\n",
        " 'jhu-usc.edu_BRCA.HumanMethylation450.Level_1.18.6.0.tar.gz',\n",
        " 'jhu-usc.edu_BRCA.HumanMethylation450.Level_1.18.7.0.tar.gz',\n",
        " 'jhu-usc.edu_BRCA.HumanMethylation450.Level_1.18.8.0.tar.gz',\n",
        " 'jhu-usc.edu_BRCA.HumanMethylation450.Level_1.18.9.0.tar.gz',\n",
        " 'jhu-usc.edu_BRCA.HumanMethylation450.Level_1.19.2.0.tar.gz',\n",
        " 'jhu-usc.edu_BRCA.HumanMethylation450.Level_1.19.3.0.tar.gz',\n",
        " 'jhu-usc.edu_BRCA.HumanMethylation450.Level_1.19.4.0.tar.gz',\n",
        " 'jhu-usc.edu_BRCA.HumanMethylation450.Level_1.19.5.0.tar.gz',\n",
        " 'jhu-usc.edu_BRCA.HumanMethylation450.Level_1.19.6.0.tar.gz',\n",
        " 'jhu-usc.edu_BRCA.HumanMethylation450.Level_1.19.7.0.tar.gz',\n",
        " 'jhu-usc.edu_BRCA.HumanMethylation450.Level_1.19.8.0.tar.gz',\n",
        " 'jhu-usc.edu_BRCA.HumanMethylation450.Level_1.19.9.0.tar.gz',\n",
        " 'jhu-usc.edu_BRCA.HumanMethylation450.Level_1.2.0.0.tar.gz',\n",
        " 'jhu-usc.edu_BRCA.HumanMethylation450.Level_1.2.1.0.tar.gz',\n",
        " 'jhu-usc.edu_BRCA.HumanMethylation450.Level_1.2.2.0.tar.gz',\n",
        " 'jhu-usc.edu_BRCA.HumanMethylation450.Level_1.2.3.0.tar.gz',\n",
        " 'jhu-usc.edu_BRCA.HumanMethylation450.Level_1.2.4.0.tar.gz',\n",
        " 'jhu-usc.edu_BRCA.HumanMethylation450.Level_1.2.5.0.tar.gz',\n",
        " 'jhu-usc.edu_BRCA.HumanMethylation450.Level_1.2.6.0.tar.gz',\n",
        " 'jhu-usc.edu_BRCA.HumanMethylation450.Level_1.2.7.0.tar.gz',\n",
        " 'jhu-usc.edu_BRCA.HumanMethylation450.Level_1.2.8.0.tar.gz',\n",
        " 'jhu-usc.edu_BRCA.HumanMethylation450.Level_1.2.9.0.tar.gz',\n",
        " 'jhu-usc.edu_BRCA.HumanMethylation450.Level_1.20.2.0.tar.gz']"
       ]
      }
     ],
     "prompt_number": 19
    },
    {
     "cell_type": "markdown",
     "metadata": {},
     "source": [
      "* one way to get files?"
     ]
    },
    {
     "cell_type": "code",
     "collapsed": false,
     "input": [
      "os.system('tar -xvf {}'.format(download_file)\n",
      "#os.system(\"wget {          }\".)\n",
      "#os.system('tar -xvf {}'.format(download_file)       "
     ],
     "language": "python",
     "metadata": {},
     "outputs": [
      {
       "ename": "SyntaxError",
       "evalue": "invalid syntax (<ipython-input-23-883e0f8cd350>, line 3)",
       "output_type": "pyerr",
       "traceback": [
        "\u001b[1;36m  File \u001b[1;32m\"<ipython-input-23-883e0f8cd350>\"\u001b[1;36m, line \u001b[1;32m3\u001b[0m\n\u001b[1;33m    #os.system('tar -xvf {}'.format(download_file)\u001b[0m\n\u001b[1;37m                                                         ^\u001b[0m\n\u001b[1;31mSyntaxError\u001b[0m\u001b[1;31m:\u001b[0m invalid syntax\n"
       ]
      }
     ],
     "prompt_number": 23
    },
    {
     "cell_type": "code",
     "collapsed": false,
     "input": [
      "os.system(\"wget {url + download_file}\")"
     ],
     "language": "python",
     "metadata": {},
     "outputs": [
      {
       "metadata": {},
       "output_type": "pyout",
       "prompt_number": 27,
       "text": [
        "1024"
       ]
      }
     ],
     "prompt_number": 27
    },
    {
     "cell_type": "code",
     "collapsed": false,
     "input": [
      "os.system('tar -xvf {}'.format(download_file))"
     ],
     "language": "python",
     "metadata": {},
     "outputs": [
      {
       "metadata": {},
       "output_type": "pyout",
       "prompt_number": 28,
       "text": [
        "512"
       ]
      }
     ],
     "prompt_number": 28
    },
    {
     "cell_type": "markdown",
     "metadata": {},
     "source": [
      "<b> Download and Unzip tar.gz files </b>"
     ]
    },
    {
     "cell_type": "code",
     "collapsed": false,
     "input": [
      "for i, download_file in enumerate(links):\n",
      "    print \"Downloading file {}\".format(i + 1)\n",
      "    response = urllib2.urlopen(url + download_file)\n",
      "    compressedFile = StringIO.StringIO()\n",
      "    compressedFile.write(response.read())\n",
      "    compressedFile.seek(0)\n",
      "    decompressedFile = gzip.GzipFile(fileobj=compressedFile, mode='rb')\n",
      "    \n",
      "    with open(download_file.replace(\".gz\", \"\"), 'w') as datapath:\n",
      "        datapath.write(decompressedFile.read())"
     ],
     "language": "python",
     "metadata": {},
     "outputs": [
      {
       "output_type": "stream",
       "stream": "stdout",
       "text": [
        "Downloading file 1\n",
        "Downloading file 2"
       ]
      },
      {
       "output_type": "stream",
       "stream": "stdout",
       "text": [
        "\n",
        "Downloading file 3"
       ]
      }
     ]
    },
    {
     "cell_type": "markdown",
     "metadata": {},
     "source": [
      "<b>Extract Tar Archive Using Command Line Function</b>"
     ]
    },
    {
     "cell_type": "code",
     "collapsed": false,
     "input": [
      "!tar -xvf jhu-usc.edu_HNSC.HumanMethylation450.Level_1.1.2.0.tar"
     ],
     "language": "python",
     "metadata": {},
     "outputs": [
      {
       "output_type": "stream",
       "stream": "stdout",
       "text": [
        "jhu-usc.edu_HNSC.HumanMethylation450.Level_1.1.2.0/6285650014_R01C01_Grn.idat\r\n"
       ]
      },
      {
       "output_type": "stream",
       "stream": "stdout",
       "text": [
        "jhu-usc.edu_HNSC.HumanMethylation450.Level_1.1.2.0/6285650014_R01C01_Red.idat\r\n"
       ]
      },
      {
       "output_type": "stream",
       "stream": "stdout",
       "text": [
        "jhu-usc.edu_HNSC.HumanMethylation450.Level_1.1.2.0/6285650014_R01C02_Grn.idat\r\n"
       ]
      },
      {
       "output_type": "stream",
       "stream": "stdout",
       "text": [
        "jhu-usc.edu_HNSC.HumanMethylation450.Level_1.1.2.0/6285650014_R01C02_Red.idat\r\n"
       ]
      },
      {
       "output_type": "stream",
       "stream": "stdout",
       "text": [
        "jhu-usc.edu_HNSC.HumanMethylation450.Level_1.1.2.0/6285650014_R02C01_Grn.idat\r\n"
       ]
      },
      {
       "output_type": "stream",
       "stream": "stdout",
       "text": [
        "jhu-usc.edu_HNSC.HumanMethylation450.Level_1.1.2.0/6285650014_R02C01_Red.idat\r\n"
       ]
      },
      {
       "output_type": "stream",
       "stream": "stdout",
       "text": [
        "jhu-usc.edu_HNSC.HumanMethylation450.Level_1.1.2.0/6285650014_R02C02_Grn.idat\r\n"
       ]
      },
      {
       "output_type": "stream",
       "stream": "stdout",
       "text": [
        "jhu-usc.edu_HNSC.HumanMethylation450.Level_1.1.2.0/6285650014_R02C02_Red.idat\r\n"
       ]
      },
      {
       "output_type": "stream",
       "stream": "stdout",
       "text": [
        "jhu-usc.edu_HNSC.HumanMethylation450.Level_1.1.2.0/6285650014_R03C01_Grn.idat\r\n"
       ]
      },
      {
       "output_type": "stream",
       "stream": "stdout",
       "text": [
        "jhu-usc.edu_HNSC.HumanMethylation450.Level_1.1.2.0/6285650014_R03C01_Red.idat\r\n"
       ]
      },
      {
       "output_type": "stream",
       "stream": "stdout",
       "text": [
        "jhu-usc.edu_HNSC.HumanMethylation450.Level_1.1.2.0/6285650014_R03C02_Grn.idat\r\n"
       ]
      },
      {
       "output_type": "stream",
       "stream": "stdout",
       "text": [
        "jhu-usc.edu_HNSC.HumanMethylation450.Level_1.1.2.0/6285650014_R03C02_Red.idat\r\n"
       ]
      },
      {
       "output_type": "stream",
       "stream": "stdout",
       "text": [
        "jhu-usc.edu_HNSC.HumanMethylation450.Level_1.1.2.0/6285650014_R04C01_Grn.idat\r\n"
       ]
      },
      {
       "output_type": "stream",
       "stream": "stdout",
       "text": [
        "jhu-usc.edu_HNSC.HumanMethylation450.Level_1.1.2.0/6285650014_R04C01_Red.idat\r\n"
       ]
      },
      {
       "output_type": "stream",
       "stream": "stdout",
       "text": [
        "jhu-usc.edu_HNSC.HumanMethylation450.Level_1.1.2.0/6285650014_R04C02_Grn.idat\r\n"
       ]
      },
      {
       "output_type": "stream",
       "stream": "stdout",
       "text": [
        "jhu-usc.edu_HNSC.HumanMethylation450.Level_1.1.2.0/6285650014_R04C02_Red.idat\r\n"
       ]
      },
      {
       "output_type": "stream",
       "stream": "stdout",
       "text": [
        "jhu-usc.edu_HNSC.HumanMethylation450.Level_1.1.2.0/6285650014_R05C01_Grn.idat\r\n"
       ]
      },
      {
       "output_type": "stream",
       "stream": "stdout",
       "text": [
        "jhu-usc.edu_HNSC.HumanMethylation450.Level_1.1.2.0/6285650014_R05C01_Red.idat\r\n"
       ]
      },
      {
       "output_type": "stream",
       "stream": "stdout",
       "text": [
        "jhu-usc.edu_HNSC.HumanMethylation450.Level_1.1.2.0/6285650014_R05C02_Grn.idat\r\n"
       ]
      },
      {
       "output_type": "stream",
       "stream": "stdout",
       "text": [
        "jhu-usc.edu_HNSC.HumanMethylation450.Level_1.1.2.0/6285650014_R05C02_Red.idat\r\n"
       ]
      },
      {
       "output_type": "stream",
       "stream": "stdout",
       "text": [
        "jhu-usc.edu_HNSC.HumanMethylation450.Level_1.1.2.0/6285650014_R06C01_Grn.idat\r\n"
       ]
      },
      {
       "output_type": "stream",
       "stream": "stdout",
       "text": [
        "jhu-usc.edu_HNSC.HumanMethylation450.Level_1.1.2.0/6285650014_R06C01_Red.idat\r\n"
       ]
      },
      {
       "output_type": "stream",
       "stream": "stdout",
       "text": [
        "jhu-usc.edu_HNSC.HumanMethylation450.Level_1.1.2.0/6285650014_R06C02_Grn.idat\r\n"
       ]
      },
      {
       "output_type": "stream",
       "stream": "stdout",
       "text": [
        "jhu-usc.edu_HNSC.HumanMethylation450.Level_1.1.2.0/6285650014_R06C02_Red.idat\r\n"
       ]
      },
      {
       "output_type": "stream",
       "stream": "stdout",
       "text": [
        "jhu-usc.edu_HNSC.HumanMethylation450.Level_1.1.2.0/6285650015_R01C01_Grn.idat\r\n"
       ]
      },
      {
       "output_type": "stream",
       "stream": "stdout",
       "text": [
        "jhu-usc.edu_HNSC.HumanMethylation450.Level_1.1.2.0/6285650015_R01C01_Red.idat\r\n"
       ]
      },
      {
       "output_type": "stream",
       "stream": "stdout",
       "text": [
        "jhu-usc.edu_HNSC.HumanMethylation450.Level_1.1.2.0/6285650015_R01C02_Grn.idat\r\n"
       ]
      },
      {
       "output_type": "stream",
       "stream": "stdout",
       "text": [
        "jhu-usc.edu_HNSC.HumanMethylation450.Level_1.1.2.0/6285650015_R01C02_Red.idat\r\n"
       ]
      },
      {
       "output_type": "stream",
       "stream": "stdout",
       "text": [
        "jhu-usc.edu_HNSC.HumanMethylation450.Level_1.1.2.0/6285650015_R02C01_Grn.idat\r\n"
       ]
      },
      {
       "output_type": "stream",
       "stream": "stdout",
       "text": [
        "jhu-usc.edu_HNSC.HumanMethylation450.Level_1.1.2.0/6285650015_R02C01_Red.idat\r\n"
       ]
      },
      {
       "output_type": "stream",
       "stream": "stdout",
       "text": [
        "jhu-usc.edu_HNSC.HumanMethylation450.Level_1.1.2.0/6285650015_R02C02_Grn.idat\r\n"
       ]
      },
      {
       "output_type": "stream",
       "stream": "stdout",
       "text": [
        "jhu-usc.edu_HNSC.HumanMethylation450.Level_1.1.2.0/6285650015_R02C02_Red.idat\r\n"
       ]
      },
      {
       "output_type": "stream",
       "stream": "stdout",
       "text": [
        "jhu-usc.edu_HNSC.HumanMethylation450.Level_1.1.2.0/6285650015_R03C01_Grn.idat\r\n"
       ]
      },
      {
       "output_type": "stream",
       "stream": "stdout",
       "text": [
        "jhu-usc.edu_HNSC.HumanMethylation450.Level_1.1.2.0/6285650015_R03C01_Red.idat\r\n"
       ]
      },
      {
       "output_type": "stream",
       "stream": "stdout",
       "text": [
        "jhu-usc.edu_HNSC.HumanMethylation450.Level_1.1.2.0/6285650015_R03C02_Grn.idat\r\n"
       ]
      },
      {
       "output_type": "stream",
       "stream": "stdout",
       "text": [
        "jhu-usc.edu_HNSC.HumanMethylation450.Level_1.1.2.0/6285650015_R03C02_Red.idat\r\n"
       ]
      },
      {
       "output_type": "stream",
       "stream": "stdout",
       "text": [
        "jhu-usc.edu_HNSC.HumanMethylation450.Level_1.1.2.0/6285650015_R04C01_Grn.idat\r\n"
       ]
      },
      {
       "output_type": "stream",
       "stream": "stdout",
       "text": [
        "jhu-usc.edu_HNSC.HumanMethylation450.Level_1.1.2.0/6285650015_R04C01_Red.idat\r\n"
       ]
      },
      {
       "output_type": "stream",
       "stream": "stdout",
       "text": [
        "jhu-usc.edu_HNSC.HumanMethylation450.Level_1.1.2.0/6285650015_R04C02_Grn.idat\r\n"
       ]
      },
      {
       "output_type": "stream",
       "stream": "stdout",
       "text": [
        "jhu-usc.edu_HNSC.HumanMethylation450.Level_1.1.2.0/6285650015_R04C02_Red.idat\r\n"
       ]
      },
      {
       "output_type": "stream",
       "stream": "stdout",
       "text": [
        "jhu-usc.edu_HNSC.HumanMethylation450.Level_1.1.2.0/6285650015_R05C01_Grn.idat\r\n"
       ]
      },
      {
       "output_type": "stream",
       "stream": "stdout",
       "text": [
        "jhu-usc.edu_HNSC.HumanMethylation450.Level_1.1.2.0/6285650015_R05C01_Red.idat\r\n"
       ]
      },
      {
       "output_type": "stream",
       "stream": "stdout",
       "text": [
        "jhu-usc.edu_HNSC.HumanMethylation450.Level_1.1.2.0/6285650015_R05C02_Grn.idat\r\n"
       ]
      },
      {
       "output_type": "stream",
       "stream": "stdout",
       "text": [
        "jhu-usc.edu_HNSC.HumanMethylation450.Level_1.1.2.0/6285650015_R05C02_Red.idat\r\n"
       ]
      },
      {
       "output_type": "stream",
       "stream": "stdout",
       "text": [
        "jhu-usc.edu_HNSC.HumanMethylation450.Level_1.1.2.0/6285650015_R06C01_Grn.idat\r\n"
       ]
      },
      {
       "output_type": "stream",
       "stream": "stdout",
       "text": [
        "jhu-usc.edu_HNSC.HumanMethylation450.Level_1.1.2.0/6285650015_R06C01_Red.idat\r\n"
       ]
      },
      {
       "output_type": "stream",
       "stream": "stdout",
       "text": [
        "jhu-usc.edu_HNSC.HumanMethylation450.Level_1.1.2.0/6285650015_R06C02_Grn.idat\r\n"
       ]
      },
      {
       "output_type": "stream",
       "stream": "stdout",
       "text": [
        "jhu-usc.edu_HNSC.HumanMethylation450.Level_1.1.2.0/6285650015_R06C02_Red.idat\r\n"
       ]
      },
      {
       "output_type": "stream",
       "stream": "stdout",
       "text": [
        "jhu-usc.edu_HNSC.HumanMethylation450.Level_1.1.2.0/6285650016_R01C01_Grn.idat\r\n"
       ]
      },
      {
       "output_type": "stream",
       "stream": "stdout",
       "text": [
        "jhu-usc.edu_HNSC.HumanMethylation450.Level_1.1.2.0/6285650016_R01C01_Red.idat\r\n"
       ]
      },
      {
       "output_type": "stream",
       "stream": "stdout",
       "text": [
        "jhu-usc.edu_HNSC.HumanMethylation450.Level_1.1.2.0/6285650016_R02C01_Grn.idat\r\n"
       ]
      },
      {
       "output_type": "stream",
       "stream": "stdout",
       "text": [
        "jhu-usc.edu_HNSC.HumanMethylation450.Level_1.1.2.0/6285650016_R02C01_Red.idat\r\n"
       ]
      },
      {
       "output_type": "stream",
       "stream": "stdout",
       "text": [
        "jhu-usc.edu_HNSC.HumanMethylation450.Level_1.1.2.0/6285650016_R02C02_Grn.idat\r\n"
       ]
      },
      {
       "output_type": "stream",
       "stream": "stdout",
       "text": [
        "jhu-usc.edu_HNSC.HumanMethylation450.Level_1.1.2.0/6285650016_R02C02_Red.idat\r\n"
       ]
      },
      {
       "output_type": "stream",
       "stream": "stdout",
       "text": [
        "jhu-usc.edu_HNSC.HumanMethylation450.Level_1.1.2.0/6285650016_R03C01_Grn.idat\r\n"
       ]
      },
      {
       "output_type": "stream",
       "stream": "stdout",
       "text": [
        "jhu-usc.edu_HNSC.HumanMethylation450.Level_1.1.2.0/6285650016_R03C01_Red.idat\r\n"
       ]
      },
      {
       "output_type": "stream",
       "stream": "stdout",
       "text": [
        "jhu-usc.edu_HNSC.HumanMethylation450.Level_1.1.2.0/6285650016_R03C02_Grn.idat\r\n"
       ]
      },
      {
       "output_type": "stream",
       "stream": "stdout",
       "text": [
        "jhu-usc.edu_HNSC.HumanMethylation450.Level_1.1.2.0/6285650016_R03C02_Red.idat\r\n"
       ]
      },
      {
       "output_type": "stream",
       "stream": "stdout",
       "text": [
        "jhu-usc.edu_HNSC.HumanMethylation450.Level_1.1.2.0/6285650016_R04C01_Grn.idat\r\n"
       ]
      },
      {
       "output_type": "stream",
       "stream": "stdout",
       "text": [
        "jhu-usc.edu_HNSC.HumanMethylation450.Level_1.1.2.0/6285650016_R04C01_Red.idat\r\n"
       ]
      },
      {
       "output_type": "stream",
       "stream": "stdout",
       "text": [
        "jhu-usc.edu_HNSC.HumanMethylation450.Level_1.1.2.0/6285650016_R04C02_Grn.idat\r\n"
       ]
      },
      {
       "output_type": "stream",
       "stream": "stdout",
       "text": [
        "jhu-usc.edu_HNSC.HumanMethylation450.Level_1.1.2.0/6285650016_R04C02_Red.idat\r\n"
       ]
      },
      {
       "output_type": "stream",
       "stream": "stdout",
       "text": [
        "jhu-usc.edu_HNSC.HumanMethylation450.Level_1.1.2.0/6285650016_R05C02_Grn.idat\r\n"
       ]
      },
      {
       "output_type": "stream",
       "stream": "stdout",
       "text": [
        "jhu-usc.edu_HNSC.HumanMethylation450.Level_1.1.2.0/6285650016_R05C02_Red.idat\r\n"
       ]
      },
      {
       "output_type": "stream",
       "stream": "stdout",
       "text": [
        "jhu-usc.edu_HNSC.HumanMethylation450.Level_1.1.2.0/6285650016_R06C01_Grn.idat\r\n"
       ]
      },
      {
       "output_type": "stream",
       "stream": "stdout",
       "text": [
        "jhu-usc.edu_HNSC.HumanMethylation450.Level_1.1.2.0/6285650016_R06C01_Red.idat\r\n"
       ]
      },
      {
       "output_type": "stream",
       "stream": "stdout",
       "text": [
        "jhu-usc.edu_HNSC.HumanMethylation450.Level_1.1.2.0/6285650016_R06C02_Grn.idat\r\n"
       ]
      },
      {
       "output_type": "stream",
       "stream": "stdout",
       "text": [
        "jhu-usc.edu_HNSC.HumanMethylation450.Level_1.1.2.0/6285650016_R06C02_Red.idat\r\n"
       ]
      },
      {
       "output_type": "stream",
       "stream": "stdout",
       "text": [
        "jhu-usc.edu_HNSC.HumanMethylation450.Level_1.1.2.0/6285650023_R01C01_Grn.idat\r\n"
       ]
      },
      {
       "output_type": "stream",
       "stream": "stdout",
       "text": [
        "jhu-usc.edu_HNSC.HumanMethylation450.Level_1.1.2.0/6285650023_R01C01_Red.idat\r\n"
       ]
      },
      {
       "output_type": "stream",
       "stream": "stdout",
       "text": [
        "jhu-usc.edu_HNSC.HumanMethylation450.Level_1.1.2.0/6285650023_R02C01_Grn.idat\r\n"
       ]
      },
      {
       "output_type": "stream",
       "stream": "stdout",
       "text": [
        "jhu-usc.edu_HNSC.HumanMethylation450.Level_1.1.2.0/6285650023_R02C01_Red.idat\r\n"
       ]
      },
      {
       "output_type": "stream",
       "stream": "stdout",
       "text": [
        "jhu-usc.edu_HNSC.HumanMethylation450.Level_1.1.2.0/6285650023_R03C01_Grn.idat\r\n"
       ]
      },
      {
       "output_type": "stream",
       "stream": "stdout",
       "text": [
        "jhu-usc.edu_HNSC.HumanMethylation450.Level_1.1.2.0/6285650023_R03C01_Red.idat\r\n"
       ]
      },
      {
       "output_type": "stream",
       "stream": "stdout",
       "text": [
        "jhu-usc.edu_HNSC.HumanMethylation450.Level_1.1.2.0/6285650023_R04C01_Grn.idat\r\n"
       ]
      },
      {
       "output_type": "stream",
       "stream": "stdout",
       "text": [
        "jhu-usc.edu_HNSC.HumanMethylation450.Level_1.1.2.0/6285650023_R04C01_Red.idat\r\n"
       ]
      },
      {
       "output_type": "stream",
       "stream": "stdout",
       "text": [
        "jhu-usc.edu_HNSC.HumanMethylation450.Level_1.1.2.0/6929671086_R01C01_Grn.idat\r\n"
       ]
      },
      {
       "output_type": "stream",
       "stream": "stdout",
       "text": [
        "jhu-usc.edu_HNSC.HumanMethylation450.Level_1.1.2.0/6929671086_R01C01_Red.idat\r\n"
       ]
      },
      {
       "output_type": "stream",
       "stream": "stdout",
       "text": [
        "jhu-usc.edu_HNSC.HumanMethylation450.Level_1.1.2.0/6929671086_R02C01_Grn.idat\r\n"
       ]
      },
      {
       "output_type": "stream",
       "stream": "stdout",
       "text": [
        "jhu-usc.edu_HNSC.HumanMethylation450.Level_1.1.2.0/6929671086_R02C01_Red.idat\r\n"
       ]
      },
      {
       "output_type": "stream",
       "stream": "stdout",
       "text": [
        "jhu-usc.edu_HNSC.HumanMethylation450.Level_1.1.2.0/CHANGES_DCC.txt\r\n",
        "jhu-usc.edu_HNSC.HumanMethylation450.Level_1.1.2.0/README_DCC.txt\r\n",
        "jhu-usc.edu_HNSC.HumanMethylation450.Level_1.1.2.0/MANIFEST.txt\r\n"
       ]
      }
     ],
     "prompt_number": 4
    },
    {
     "cell_type": "markdown",
     "metadata": {},
     "source": [
      "<b>Get MD5 Links:</b>"
     ]
    }
   ],
   "metadata": {}
  }
 ]
}