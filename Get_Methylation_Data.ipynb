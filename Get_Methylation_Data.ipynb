{
 "metadata": {
  "name": "",
  "signature": "sha256:4fef56da6d045c834a09c7b090bffaf924ed57c750534f3459ce30486e6c92be"
 },
 "nbformat": 3,
 "nbformat_minor": 0,
 "worksheets": [
  {
   "cells": [
    {
     "cell_type": "heading",
     "level": 1,
     "metadata": {},
     "source": [
      "Get TCGA Methylation Data"
     ]
    },
    {
     "cell_type": "markdown",
     "metadata": {},
     "source": [
      "This notebook illustrates how to retrieve Level 1 TCGA HumanMethylation450k raw data for all available cancertypes, as well as the accompanying auxillary and mage-tab files that allow mapping of clinical patient data to methylation data. \n",
      "* BeautifulSoup is used to parse the TCGA HTTPS open access directory for urls to download data. \n",
      "* The downloaded tar archives are unzipped and extracted to user specified out_path folder.\n",
      "* Number of 450k raw idat files counted and listed by cancer_subtype\n"
     ]
    },
    {
     "cell_type": "markdown",
     "metadata": {},
     "source": [
      "<b>Imports</b>"
     ]
    },
    {
     "cell_type": "code",
     "collapsed": false,
     "input": [
      "from bs4 import BeautifulSoup\n",
      "import urllib2\n",
      "from urllib2 import HTTPError\n",
      "import pandas as pd\n",
      "import os as oscd \n",
      "import StringIO\n",
      "import gzip\n",
      "import re\n",
      "import rpy2\n",
      "\n",
      "from IPython.display import clear_output"
     ],
     "language": "python",
     "metadata": {},
     "outputs": [],
     "prompt_number": 1
    },
    {
     "cell_type": "markdown",
     "metadata": {},
     "source": [
      "<b>Directory Currently In:</b>"
     ]
    },
    {
     "cell_type": "code",
     "collapsed": false,
     "input": [
      "%%bash\n",
      "pwd\n",
      "ls"
     ],
     "language": "python",
     "metadata": {},
     "outputs": [
      {
       "output_type": "stream",
       "stream": "stdout",
       "text": [
        "/data/nrnb01_nobackup/agross/TCGA_methylation\n",
        "ACC_Rscript.r\n",
        "againsmall.ipynb\n",
        "againsmallscale.ipynb\n",
        "FirstTime\n",
        "Newest1.ipynb\n",
        "Newest1-Practiceaux.ipynb\n",
        "Newest.ipynb\n",
        "PullCancer.ipynb\n",
        "Report.ipynb\n",
        "tar_links.txt\n",
        "TheNewWay-Copy0.ipynb\n",
        "url_list.txt\n"
       ]
      }
     ],
     "prompt_number": 3
    },
    {
     "cell_type": "markdown",
     "metadata": {},
     "source": [
      "* Change to desired directory"
     ]
    },
    {
     "cell_type": "code",
     "collapsed": false,
     "input": [
      "cd /data/nrnb01_nobackup/agross/TCGA_methylation/"
     ],
     "language": "python",
     "metadata": {},
     "outputs": [
      {
       "output_type": "stream",
       "stream": "stdout",
       "text": [
        "/data/nrnb01_nobackup/agross/TCGA_methylation/auxtry\n"
       ]
      }
     ],
     "prompt_number": 3
    },
    {
     "cell_type": "markdown",
     "metadata": {},
     "source": [
      "<b>Outpaths</b>"
     ]
    },
    {
     "cell_type": "markdown",
     "metadata": {},
     "source": [
      "* Specify paths to certification and to data storage\n",
      "    * Change to desired pathways "
     ]
    },
    {
     "cell_type": "code",
     "collapsed": false,
     "input": [
      "PATH_TO_CERT = '/Documents/IdekerLab/BackUp/JustinCase/cacert.pem'\n",
      "OUT_PATH = '/data/nrnb01_nobackup/agross/TCGA_methylation/'"
     ],
     "language": "python",
     "metadata": {},
     "outputs": [],
     "prompt_number": 4
    },
    {
     "cell_type": "markdown",
     "metadata": {},
     "source": [
      "<b>Path to Data on TCGA Website</b>"
     ]
    },
    {
     "cell_type": "code",
     "collapsed": false,
     "input": [
      "base_url = 'https://tcga-data.nci.nih.gov/tcgafiles/ftp_auth/distro_ftpusers/anonymous/tumor/'"
     ],
     "language": "python",
     "metadata": {},
     "outputs": [],
     "prompt_number": 5
    },
    {
     "cell_type": "code",
     "collapsed": false,
     "input": [
      "end_url = '/cgcc/jhu-usc.edu/humanmethylation450/methylation/'"
     ],
     "language": "python",
     "metadata": {},
     "outputs": [],
     "prompt_number": 6
    },
    {
     "cell_type": "markdown",
     "metadata": {},
     "source": [
      "<b>Cancer Subtypes</b> "
     ]
    },
    {
     "cell_type": "markdown",
     "metadata": {},
     "source": [
      "* Comment below indicates cancers that were removed due to illegitimate file structure on TCGA website"
     ]
    },
    {
     "cell_type": "code",
     "collapsed": false,
     "input": [
      "cancertype = ['acc','blca','brca','cesc','chol','coad','dlbc','esca','hnsc','kich','kirc',\n",
      "              'kirp','lihc','luad','lusc','meso','ov','paad','pcpg','prad',\n",
      "              'read','sarc','skcm','stad','tgct','thca','thym','ucec','ucs','uvm']\n",
      "#cancertypes = ['laml','gbm','lgg','misc']"
     ],
     "language": "python",
     "metadata": {},
     "outputs": [],
     "prompt_number": 7
    },
    {
     "cell_type": "code",
     "collapsed": false,
     "input": [
      "urls = []\n",
      "for i in cancertype:\n",
      "    url = base_url + i + end_url\n",
      "    urls.append(url)\n",
      "\n",
      "f=open('url_list.txt','w')\n",
      "l1=map(lambda x:x+'\\n', urls)\n",
      "f.writelines(l1)\n",
      "f.close()"
     ],
     "language": "python",
     "metadata": {},
     "outputs": [],
     "prompt_number": 8
    },
    {
     "cell_type": "markdown",
     "metadata": {},
     "source": [
      "<b>Use Certificate to Aunthenticate User Acess to TCGA HTTP directory data</b>"
     ]
    },
    {
     "cell_type": "code",
     "collapsed": false,
     "input": [
      "!xargs curl --cacert $PATH_TO_CERT -I < url_list.txt\n",
      "clear_output()"
     ],
     "language": "python",
     "metadata": {},
     "outputs": [],
     "prompt_number": 9
    },
    {
     "cell_type": "markdown",
     "metadata": {},
     "source": [
      "<b>Beautiful Soup module is used to parse links from webpage </b>"
     ]
    },
    {
     "cell_type": "markdown",
     "metadata": {},
     "source": [
      "* Creates list of TCGA cancer methylation data urls by parsing urls for tar archives for data and patient mapping respectively"
     ]
    },
    {
     "cell_type": "code",
     "collapsed": false,
     "input": [
      "urls = []\n",
      "tar_links = []\n",
      "\n",
      "for i in cancertype:\n",
      "    print i\n",
      "    try:\n",
      "        url = base_url + i + end_url\n",
      "        urls.append(url)      \n",
      "        webpage = urllib2.urlopen(url)\n",
      "        soup = BeautifulSoup(webpage.read(), 'html.parser')\n",
      "        \n",
      "        links = [url + link.get('href') for link in soup.find_all('a') \n",
      "                                      if (link.get('href') != None )\n",
      "                                      and 'tar.gz' in link.get('href')\n",
      "                                      and '_2.' not in link.get('href')\n",
      "                                      and '_3.' not in link.get('href')\n",
      "                                      and '.md5' not in link.get('href')]\n",
      "        \n",
      "        aux_links = [url + link.get('href') for link in soup.find_all('a') \n",
      "                                      if (link.get('href') != None )\n",
      "                                      and 'aux' in link.get('href')\n",
      "                                      and '_2.' not in link.get('href')\n",
      "                                      and '_3.' not in link.get('href')\n",
      "                                      and '.md5' not in link.get('href')\n",
      "                                      and 'tar.gz' in link.get('href')]\n",
      "    \n",
      "        tar_links.extend(links)\n",
      "        tar_links.extend(aux_links)\n",
      "    except urllib2.HTTPError:\n",
      "        print '{} failed'.format(i)"
     ],
     "language": "python",
     "metadata": {},
     "outputs": [
      {
       "output_type": "stream",
       "stream": "stdout",
       "text": [
        "acc\n",
        "blca"
       ]
      },
      {
       "output_type": "stream",
       "stream": "stdout",
       "text": [
        "\n",
        "uvm"
       ]
      },
      {
       "output_type": "stream",
       "stream": "stdout",
       "text": [
        "\n"
       ]
      }
     ],
     "prompt_number": 15
    },
    {
     "cell_type": "markdown",
     "metadata": {},
     "source": [
      "* Write downloaded links to list "
     ]
    },
    {
     "cell_type": "code",
     "collapsed": false,
     "input": [
      "f=open('tar_links.txt','w')\n",
      "l1=map(lambda x:x+'\\n', tar_links)\n",
      "f.writelines(l1)\n",
      "f.close()"
     ],
     "language": "python",
     "metadata": {},
     "outputs": [],
     "prompt_number": 17
    },
    {
     "cell_type": "code",
     "collapsed": false,
     "input": [
      "!cat tar_links.txt"
     ],
     "language": "python",
     "metadata": {},
     "outputs": [
      {
       "output_type": "stream",
       "stream": "stdout",
       "text": [
        "https://tcga-data.nci.nih.gov/tcgafiles/ftp_auth/distro_ftpusers/anonymous/tumor/acc/cgcc/jhu-usc.edu/humanmethylation450/methylation/jhu-usc.edu_ACC.HumanMethylation450.Level_1.1.0.0.tar.gz\r\n",
        "https://tcga-data.nci.nih.gov/tcgafiles/ftp_auth/distro_ftpusers/anonymous/tumor/acc/cgcc/jhu-usc.edu/humanmethylation450/methylation/jhu-usc.edu_ACC.HumanMethylation450.aux.1.0.0.tar.gz\r\n",
        "https://tcga-data.nci.nih.gov/tcgafiles/ftp_auth/distro_ftpusers/anonymous/tumor/acc/cgcc/jhu-usc.edu/humanmethylation450/methylation/jhu-usc.edu_ACC.HumanMethylation450.mage-tab.1.0.0.tar.gz\r\n",
        "https://tcga-data.nci.nih.gov/tcgafiles/ftp_auth/distro_ftpusers/anonymous/tumor/acc/cgcc/jhu-usc.edu/humanmethylation450/methylation/jhu-usc.edu_ACC.HumanMethylation450.aux.1.0.0.tar.gz\r\n",
        "https://tcga-data.nci.nih.gov/tcgafiles/ftp_auth/distro_ftpusers/anonymous/tumor/blca/cgcc/jhu-usc.edu/humanmethylation450/methylation/jhu-usc.edu_BLCA.HumanMethylation450.Level_1.1.0.0.tar.gz\r\n",
        "https://tcga-data.nci.nih.gov/tcgafiles/ftp_auth/distro_ftpusers/anonymous/tumor/blca/cgcc/jhu-usc.edu/humanmethylation450/methylation/jhu-usc.edu_BLCA.HumanMethylation450.Level_1.1.1.0.tar.gz\r\n",
        "https://tcga-data.nci.nih.gov/tcgafiles/ftp_auth/distro_ftpusers/anonymous/tumor/blca/cgcc/jhu-usc.edu/humanmethylation450/methylation/jhu-usc.edu_BLCA.HumanMethylation450.Level_1.1.10.0.tar.gz\r\n",
        "https://tcga-data.nci.nih.gov/tcgafiles/ftp_auth/distro_ftpusers/anonymous/tumor/blca/cgcc/jhu-usc.edu/humanmethylation450/methylation/jhu-usc.edu_BLCA.HumanMethylation450.Level_1.1.11.0.tar.gz\r\n",
        "https://tcga-data.nci.nih.gov/tcgafiles/ftp_auth/distro_ftpusers/anonymous/tumor/blca/cgcc/jhu-usc.edu/humanmethylation450/methylation/jhu-usc.edu_BLCA.HumanMethylation450.Level_1.1.12.0.tar.gz\r\n",
        "https://tcga-data.nci.nih.gov/tcgafiles/ftp_auth/distro_ftpusers/anonymous/tumor/blca/cgcc/jhu-usc.edu/humanmethylation450/methylation/jhu-usc.edu_BLCA.HumanMethylation450.Level_1.1.13.0.tar.gz\r\n",
        "https://tcga-data.nci.nih.gov/tcgafiles/ftp_auth/distro_ftpusers/anonymous/tumor/blca/cgcc/jhu-usc.edu/humanmethylation450/methylation/jhu-usc.edu_BLCA.HumanMethylation450.Level_1.1.14.0.tar.gz\r\n",
        "https://tcga-data.nci.nih.gov/tcgafiles/ftp_auth/distro_ftpusers/anonymous/tumor/blca/cgcc/jhu-usc.edu/humanmethylation450/methylation/jhu-usc.edu_BLCA.HumanMethylation450.Level_1.1.15.0.tar.gz\r\n",
        "https://tcga-data.nci.nih.gov/tcgafiles/ftp_auth/distro_ftpusers/anonymous/tumor/blca/cgcc/jhu-usc.edu/humanmethylation450/methylation/jhu-usc.edu_BLCA.HumanMethylation450.Level_1.1.16.0.tar.gz\r\n",
        "https://tcga-data.nci.nih.gov/tcgafiles/ftp_auth/distro_ftpusers/anonymous/tumor/blca/cgcc/jhu-usc.edu/humanmethylation450/methylation/jhu-usc.edu_BLCA.HumanMethylation450.Level_1.1.17.0.tar.gz\r\n",
        "https://tcga-data.nci.nih.gov/tcgafiles/ftp_auth/distro_ftpusers/anonymous/tumor/blca/cgcc/jhu-usc.edu/humanmethylation450/methylation/jhu-usc.edu_BLCA.HumanMethylation450.Level_1.1.2.0.tar.gz\r\n",
        "https://tcga-data.nci.nih.gov/tcgafiles/ftp_auth/distro_ftpusers/anonymous/tumor/blca/cgcc/jhu-usc.edu/humanmethylation450/methylation/jhu-usc.edu_BLCA.HumanMethylation450.Level_1.1.3.0.tar.gz\r\n",
        "https://tcga-data.nci.nih.gov/tcgafiles/ftp_auth/distro_ftpusers/anonymous/tumor/blca/cgcc/jhu-usc.edu/humanmethylation450/methylation/jhu-usc.edu_BLCA.HumanMethylation450.Level_1.1.4.0.tar.gz\r\n",
        "https://tcga-data.nci.nih.gov/tcgafiles/ftp_auth/distro_ftpusers/anonymous/tumor/blca/cgcc/jhu-usc.edu/humanmethylation450/methylation/jhu-usc.edu_BLCA.HumanMethylation450.Level_1.1.5.0.tar.gz\r\n",
        "https://tcga-data.nci.nih.gov/tcgafiles/ftp_auth/distro_ftpusers/anonymous/tumor/blca/cgcc/jhu-usc.edu/humanmethylation450/methylation/jhu-usc.edu_BLCA.HumanMethylation450.Level_1.1.6.0.tar.gz\r\n",
        "https://tcga-data.nci.nih.gov/tcgafiles/ftp_auth/distro_ftpusers/anonymous/tumor/blca/cgcc/jhu-usc.edu/humanmethylation450/methylation/jhu-usc.edu_BLCA.HumanMethylation450.Level_1.1.7.0.tar.gz\r\n",
        "https://tcga-data.nci.nih.gov/tcgafiles/ftp_auth/distro_ftpusers/anonymous/tumor/blca/cgcc/jhu-usc.edu/humanmethylation450/methylation/jhu-usc.edu_BLCA.HumanMethylation450.Level_1.1.8.0.tar.gz\r\n",
        "https://tcga-data.nci.nih.gov/tcgafiles/ftp_auth/distro_ftpusers/anonymous/tumor/blca/cgcc/jhu-usc.edu/humanmethylation450/methylation/jhu-usc.edu_BLCA.HumanMethylation450.Level_1.1.9.0.tar.gz\r\n",
        "https://tcga-data.nci.nih.gov/tcgafiles/ftp_auth/distro_ftpusers/anonymous/tumor/blca/cgcc/jhu-usc.edu/humanmethylation450/methylation/jhu-usc.edu_BLCA.HumanMethylation450.Level_1.10.10.0.tar.gz\r\n",
        "https://tcga-data.nci.nih.gov/tcgafiles/ftp_auth/distro_ftpusers/anonymous/tumor/blca/cgcc/jhu-usc.edu/humanmethylation450/methylation/jhu-usc.edu_BLCA.HumanMethylation450.Level_1.10.11.0.tar.gz\r\n",
        "https://tcga-data.nci.nih.gov/tcgafiles/ftp_auth/distro_ftpusers/anonymous/tumor/blca/cgcc/jhu-usc.edu/humanmethylation450/methylation/jhu-usc.edu_BLCA.HumanMethylation450.Level_1.10.12.0.tar.gz\r\n",
        "https://tcga-data.nci.nih.gov/tcgafiles/ftp_auth/distro_ftpusers/anonymous/tumor/blca/cgcc/jhu-usc.edu/humanmethylation450/methylation/jhu-usc.edu_BLCA.HumanMethylation450.Level_1.10.13.0.tar.gz\r\n",
        "https://tcga-data.nci.nih.gov/tcgafiles/ftp_auth/distro_ftpusers/anonymous/tumor/blca/cgcc/jhu-usc.edu/humanmethylation450/methylation/jhu-usc.edu_BLCA.HumanMethylation450.Level_1.10.14.0.tar.gz\r\n",
        "https://tcga-data.nci.nih.gov/tcgafiles/ftp_auth/distro_ftpusers/anonymous/tumor/blca/cgcc/jhu-usc.edu/humanmethylation450/methylation/jhu-usc.edu_BLCA.HumanMethylation450.Level_1.10.15.0.tar.gz\r\n",
        "https://tcga-data.nci.nih.gov/tcgafiles/ftp_auth/distro_ftpusers/anonymous/tumor/blca/cgcc/jhu-usc.edu/humanmethylation450/methylation/jhu-usc.edu_BLCA.HumanMethylation450.Level_1.10.16.0.tar.gz\r\n",
        "https://tcga-data.nci.nih.gov/tcgafiles/ftp_auth/distro_ftpusers/anonymous/tumor/blca/cgcc/jhu-usc.edu/humanmethylation450/methylation/jhu-usc.edu_BLCA.HumanMethylation450.Level_1.10.17.0.tar.gz\r\n",
        "https://tcga-data.nci.nih.gov/tcgafiles/ftp_auth/distro_ftpusers/anonymous/tumor/blca/cgcc/jhu-usc.edu/humanmethylation450/methylation/jhu-usc.edu_BLCA.HumanMethylation450.Level_1.10.4.0.tar.gz\r\n",
        "https://tcga-data.nci.nih.gov/tcgafiles/ftp_auth/distro_ftpusers/anonymous/tumor/blca/cgcc/jhu-usc.edu/humanmethylation450/methylation/jhu-usc.edu_BLCA.HumanMethylation450.Level_1.10.5.0.tar.gz\r\n",
        "https://tcga-data.nci.nih.gov/tcgafiles/ftp_auth/distro_ftpusers/anonymous/tumor/blca/cgcc/jhu-usc.edu/humanmethylation450/methylation/jhu-usc.edu_BLCA.HumanMethylation450.Level_1.10.6.0.tar.gz\r\n",
        "https://tcga-data.nci.nih.gov/tcgafiles/ftp_auth/distro_ftpusers/anonymous/tumor/blca/cgcc/jhu-usc.edu/humanmethylation450/methylation/jhu-usc.edu_BLCA.HumanMethylation450.Level_1.10.7.0.tar.gz\r\n",
        "https://tcga-data.nci.nih.gov/tcgafiles/ftp_auth/distro_ftpusers/anonymous/tumor/blca/cgcc/jhu-usc.edu/humanmethylation450/methylation/jhu-usc.edu_BLCA.HumanMethylation450.Level_1.10.8.0.tar.gz\r\n",
        "https://tcga-data.nci.nih.gov/tcgafiles/ftp_auth/distro_ftpusers/anonymous/tumor/blca/cgcc/jhu-usc.edu/humanmethylation450/methylation/jhu-usc.edu_BLCA.HumanMethylation450.Level_1.10.9.0.tar.gz\r\n",
        "https://tcga-data.nci.nih.gov/tcgafiles/ftp_auth/distro_ftpusers/anonymous/tumor/blca/cgcc/jhu-usc.edu/humanmethylation450/methylation/jhu-usc.edu_BLCA.HumanMethylation450.Level_1.11.10.0.tar.gz\r\n",
        "https://tcga-data.nci.nih.gov/tcgafiles/ftp_auth/distro_ftpusers/anonymous/tumor/blca/cgcc/jhu-usc.edu/humanmethylation450/methylation/jhu-usc.edu_BLCA.HumanMethylation450.Level_1.11.11.0.tar.gz\r\n",
        "https://tcga-data.nci.nih.gov/tcgafiles/ftp_auth/distro_ftpusers/anonymous/tumor/blca/cgcc/jhu-usc.edu/humanmethylation450/methylation/jhu-usc.edu_BLCA.HumanMethylation450.Level_1.11.12.0.tar.gz\r\n",
        "https://tcga-data.nci.nih.gov/tcgafiles/ftp_auth/distro_ftpusers/anonymous/tumor/blca/cgcc/jhu-usc.edu/humanmethylation450/methylation/jhu-usc.edu_BLCA.HumanMethylation450.Level_1.11.13.0.tar.gz\r\n",
        "https://tcga-data.nci.nih.gov/tcgafiles/ftp_auth/distro_ftpusers/anonymous/tumor/blca/cgcc/jhu-usc.edu/humanmethylation450/methylation/jhu-usc.edu_BLCA.HumanMethylation450.Level_1.11.14.0.tar.gz\r\n",
        "https://tcga-data.nci.nih.gov/tcgafiles/ftp_auth/distro_ftpusers/anonymous/tumor/blca/cgcc/jhu-usc.edu/humanmethylation450/methylation/jhu-usc.edu_BLCA.HumanMethylation450.Level_1.11.15.0.tar.gz\r\n",
        "https://tcga-data.nci.nih.gov/tcgafiles/ftp_auth/distro_ftpusers/anonymous/tumor/blca/cgcc/jhu-usc.edu/humanmethylation450/methylation/jhu-usc.edu_BLCA.HumanMethylation450.Level_1.11.16.0.tar.gz\r\n",
        "https://tcga-data.nci.nih.gov/tcgafiles/ftp_auth/distro_ftpusers/anonymous/tumor/blca/cgcc/jhu-usc.edu/humanmethylation450/methylation/jhu-usc.edu_BLCA.HumanMethylation450.Level_1.11.17.0.tar.gz\r\n",
        "https://tcga-data.nci.nih.gov/tcgafiles/ftp_auth/distro_ftpusers/anonymous/tumor/blca/cgcc/jhu-usc.edu/humanmethylation450/methylation/jhu-usc.edu_BLCA.HumanMethylation450.Level_1.11.4.0.tar.gz\r\n",
        "https://tcga-data.nci.nih.gov/tcgafiles/ftp_auth/distro_ftpusers/anonymous/tumor/blca/cgcc/jhu-usc.edu/humanmethylation450/methylation/jhu-usc.edu_BLCA.HumanMethylation450.Level_1.11.5.0.tar.gz\r\n",
        "https://tcga-data.nci.nih.gov/tcgafiles/ftp_auth/distro_ftpusers/anonymous/tumor/blca/cgcc/jhu-usc.edu/humanmethylation450/methylation/jhu-usc.edu_BLCA.HumanMethylation450.Level_1.11.6.0.tar.gz\r\n",
        "https://tcga-data.nci.nih.gov/tcgafiles/ftp_auth/distro_ftpusers/anonymous/tumor/blca/cgcc/jhu-usc.edu/humanmethylation450/methylation/jhu-usc.edu_BLCA.HumanMethylation450.Level_1.11.7.0.tar.gz\r\n",
        "https://tcga-data.nci.nih.gov/tcgafiles/ftp_auth/distro_ftpusers/anonymous/tumor/blca/cgcc/jhu-usc.edu/humanmethylation450/methylation/jhu-usc.edu_BLCA.HumanMethylation450.Level_1.11.8.0.tar.gz\r\n",
        "https://tcga-data.nci.nih.gov/tcgafiles/ftp_auth/distro_ftpusers/anonymous/tumor/blca/cgcc/jhu-usc.edu/humanmethylation450/methylation/jhu-usc.edu_BLCA.HumanMethylation450.Level_1.11.9.0.tar.gz\r\n",
        "https://tcga-data.nci.nih.gov/tcgafiles/ftp_auth/distro_ftpusers/anonymous/tumor/blca/cgcc/jhu-usc.edu/humanmethylation450/methylation/jhu-usc.edu_BLCA.HumanMethylation450.Level_1.12.10.0.tar.gz\r\n",
        "https://tcga-data.nci.nih.gov/tcgafiles/ftp_auth/distro_ftpusers/anonymous/tumor/blca/cgcc/jhu-usc.edu/humanmethylation450/methylation/jhu-usc.edu_BLCA.HumanMethylation450.Level_1.12.11.0.tar.gz\r\n",
        "https://tcga-data.nci.nih.gov/tcgafiles/ftp_auth/distro_ftpusers/anonymous/tumor/blca/cgcc/jhu-usc.edu/humanmethylation450/methylation/jhu-usc.edu_BLCA.HumanMethylation450.Level_1.12.12.0.tar.gz\r\n",
        "https://tcga-data.nci.nih.gov/tcgafiles/ftp_auth/distro_ftpusers/anonymous/tumor/blca/cgcc/jhu-usc.edu/humanmethylation450/methylation/jhu-usc.edu_BLCA.HumanMethylation450.Level_1.12.13.0.tar.gz\r\n",
        "https://tcga-data.nci.nih.gov/tcgafiles/ftp_auth/distro_ftpusers/anonymous/tumor/blca/cgcc/jhu-usc.edu/humanmethylation450/methylation/jhu-usc.edu_BLCA.HumanMethylation450.Level_1.12.14.0.tar.gz\r\n",
        "https://tcga-data.nci.nih.gov/tcgafiles/ftp_auth/distro_ftpusers/anonymous/tumor/blca/cgcc/jhu-usc.edu/humanmethylation450/methylation/jhu-usc.edu_BLCA.HumanMethylation450.Level_1.12.15.0.tar.gz\r\n",
        "https://tcga-data.nci.nih.gov/tcgafiles/ftp_auth/distro_ftpusers/anonymous/tumor/blca/cgcc/jhu-usc.edu/humanmethylation450/methylation/jhu-usc.edu_BLCA.HumanMethylation450.Level_1.12.16.0.tar.gz\r\n",
        "https://tcga-data.nci.nih.gov/tcgafiles/ftp_auth/distro_ftpusers/anonymous/tumor/blca/cgcc/jhu-usc.edu/humanmethylation450/methylation/jhu-usc.edu_BLCA.HumanMethylation450.Level_1.12.17.0.tar.gz\r\n",
        "https://tcga-data.nci.nih.gov/tcgafiles/ftp_auth/distro_ftpusers/anonymous/tumor/blca/cgcc/jhu-usc.edu/humanmethylation450/methylation/jhu-usc.edu_BLCA.HumanMethylation450.Level_1.12.7.0.tar.gz\r\n",
        "https://tcga-data.nci.nih.gov/tcgafiles/ftp_auth/distro_ftpusers/anonymous/tumor/blca/cgcc/jhu-usc.edu/humanmethylation450/methylation/jhu-usc.edu_BLCA.HumanMethylation450.Level_1.12.8.0.tar.gz\r\n",
        "https://tcga-data.nci.nih.gov/tcgafiles/ftp_auth/distro_ftpusers/anonymous/tumor/blca/cgcc/jhu-usc.edu/humanmethylation450/methylation/jhu-usc.edu_BLCA.HumanMethylation450.Level_1.12.9.0.tar.gz\r\n",
        "https://tcga-data.nci.nih.gov/tcgafiles/ftp_auth/distro_ftpusers/anonymous/tumor/blca/cgcc/jhu-usc.edu/humanmethylation450/methylation/jhu-usc.edu_BLCA.HumanMethylation450.Level_1.13.10.0.tar.gz\r\n",
        "https://tcga-data.nci.nih.gov/tcgafiles/ftp_auth/distro_ftpusers/anonymous/tumor/blca/cgcc/jhu-usc.edu/humanmethylation450/methylation/jhu-usc.edu_BLCA.HumanMethylation450.Level_1.13.11.0.tar.gz\r\n",
        "https://tcga-data.nci.nih.gov/tcgafiles/ftp_auth/distro_ftpusers/anonymous/tumor/blca/cgcc/jhu-usc.edu/humanmethylation450/methylation/jhu-usc.edu_BLCA.HumanMethylation450.Level_1.13.12.0.tar.gz\r\n",
        "https://tcga-data.nci.nih.gov/tcgafiles/ftp_auth/distro_ftpusers/anonymous/tumor/blca/cgcc/jhu-usc.edu/humanmethylation450/methylation/jhu-usc.edu_BLCA.HumanMethylation450.Level_1.13.13.0.tar.gz\r\n",
        "https://tcga-data.nci.nih.gov/tcgafiles/ftp_auth/distro_ftpusers/anonymous/tumor/blca/cgcc/jhu-usc.edu/humanmethylation450/methylation/jhu-usc.edu_BLCA.HumanMethylation450.Level_1.13.14.0.tar.gz\r\n",
        "https://tcga-data.nci.nih.gov/tcgafiles/ftp_auth/distro_ftpusers/anonymous/tumor/blca/cgcc/jhu-usc.edu/humanmethylation450/methylation/jhu-usc.edu_BLCA.HumanMethylation450.Level_1.13.15.0.tar.gz\r\n",
        "https://tcga-data.nci.nih.gov/tcgafiles/ftp_auth/distro_ftpusers/anonymous/tumor/blca/cgcc/jhu-usc.edu/humanmethylation450/methylation/jhu-usc.edu_BLCA.HumanMethylation450.Level_1.13.16.0.tar.gz\r\n",
        "https://tcga-data.nci.nih.gov/tcgafiles/ftp_auth/distro_ftpusers/anonymous/tumor/blca/cgcc/jhu-usc.edu/humanmethylation450/methylation/jhu-usc.edu_BLCA.HumanMethylation450.Level_1.13.17.0.tar.gz\r\n",
        "https://tcga-data.nci.nih.gov/tcgafiles/ftp_auth/distro_ftpusers/anonymous/tumor/blca/cgcc/jhu-usc.edu/humanmethylation450/methylation/jhu-usc.edu_BLCA.HumanMethylation450.Level_1.13.8.0.tar.gz\r\n",
        "https://tcga-data.nci.nih.gov/tcgafiles/ftp_auth/distro_ftpusers/anonymous/tumor/blca/cgcc/jhu-usc.edu/humanmethylation450/methylation/jhu-usc.edu_BLCA.HumanMethylation450.Level_1.13.9.0.tar.gz\r\n",
        "https://tcga-data.nci.nih.gov/tcgafiles/ftp_auth/distro_ftpusers/anonymous/tumor/blca/cgcc/jhu-usc.edu/humanmethylation450/methylation/jhu-usc.edu_BLCA.HumanMethylation450.Level_1.14.10.0.tar.gz\r\n",
        "https://tcga-data.nci.nih.gov/tcgafiles/ftp_auth/distro_ftpusers/anonymous/tumor/blca/cgcc/jhu-usc.edu/humanmethylation450/methylation/jhu-usc.edu_BLCA.HumanMethylation450.Level_1.14.11.0.tar.gz\r\n",
        "https://tcga-data.nci.nih.gov/tcgafiles/ftp_auth/distro_ftpusers/anonymous/tumor/blca/cgcc/jhu-usc.edu/humanmethylation450/methylation/jhu-usc.edu_BLCA.HumanMethylation450.Level_1.14.12.0.tar.gz\r\n",
        "https://tcga-data.nci.nih.gov/tcgafiles/ftp_auth/distro_ftpusers/anonymous/tumor/blca/cgcc/jhu-usc.edu/humanmethylation450/methylation/jhu-usc.edu_BLCA.HumanMethylation450.Level_1.14.13.0.tar.gz\r\n",
        "https://tcga-data.nci.nih.gov/tcgafiles/ftp_auth/distro_ftpusers/anonymous/tumor/blca/cgcc/jhu-usc.edu/humanmethylation450/methylation/jhu-usc.edu_BLCA.HumanMethylation450.Level_1.14.14.0.tar.gz\r\n",
        "https://tcga-data.nci.nih.gov/tcgafiles/ftp_auth/distro_ftpusers/anonymous/tumor/blca/cgcc/jhu-usc.edu/humanmethylation450/methylation/jhu-usc.edu_BLCA.HumanMethylation450.Level_1.14.15.0.tar.gz\r\n",
        "https://tcga-data.nci.nih.gov/tcgafiles/ftp_auth/distro_ftpusers/anonymous/tumor/blca/cgcc/jhu-usc.edu/humanmethylation450/methylation/jhu-usc.edu_BLCA.HumanMethylation450.Level_1.14.16.0.tar.gz\r\n",
        "https://tcga-data.nci.nih.gov/tcgafiles/ftp_auth/distro_ftpusers/anonymous/tumor/blca/cgcc/jhu-usc.edu/humanmethylation450/methylation/jhu-usc.edu_BLCA.HumanMethylation450.Level_1.14.17.0.tar.gz\r\n",
        "https://tcga-data.nci.nih.gov/tcgafiles/ftp_auth/distro_ftpusers/anonymous/tumor/blca/cgcc/jhu-usc.edu/humanmethylation450/methylation/jhu-usc.edu_BLCA.HumanMethylation450.Level_1.14.9.0.tar.gz\r\n",
        "https://tcga-data.nci.nih.gov/tcgafiles/ftp_auth/distro_ftpusers/anonymous/tumor/blca/cgcc/jhu-usc.edu/humanmethylation450/methylation/jhu-usc.edu_BLCA.HumanMethylation450.Level_1.15.10.0.tar.gz\r\n",
        "https://tcga-data.nci.nih.gov/tcgafiles/ftp_auth/distro_ftpusers/anonymous/tumor/blca/cgcc/jhu-usc.edu/humanmethylation450/methylation/jhu-usc.edu_BLCA.HumanMethylation450.Level_1.15.11.0.tar.gz\r\n",
        "https://tcga-data.nci.nih.gov/tcgafiles/ftp_auth/distro_ftpusers/anonymous/tumor/blca/cgcc/jhu-usc.edu/humanmethylation450/methylation/jhu-usc.edu_BLCA.HumanMethylation450.Level_1.15.12.0.tar.gz\r\n",
        "https://tcga-data.nci.nih.gov/tcgafiles/ftp_auth/distro_ftpusers/anonymous/tumor/blca/cgcc/jhu-usc.edu/humanmethylation450/methylation/jhu-usc.edu_BLCA.HumanMethylation450.Level_1.15.13.0.tar.gz\r\n",
        "https://tcga-data.nci.nih.gov/tcgafiles/ftp_auth/distro_ftpusers/anonymous/tumor/blca/cgcc/jhu-usc.edu/humanmethylation450/methylation/jhu-usc.edu_BLCA.HumanMethylation450.Level_1.15.14.0.tar.gz\r\n",
        "https://tcga-data.nci.nih.gov/tcgafiles/ftp_auth/distro_ftpusers/anonymous/tumor/blca/cgcc/jhu-usc.edu/humanmethylation450/methylation/jhu-usc.edu_BLCA.HumanMethylation450.Level_1.15.15.0.tar.gz\r\n",
        "https://tcga-data.nci.nih.gov/tcgafiles/ftp_auth/distro_ftpusers/anonymous/tumor/blca/cgcc/jhu-usc.edu/humanmethylation450/methylation/jhu-usc.edu_BLCA.HumanMethylation450.Level_1.15.16.0.tar.gz\r\n",
        "https://tcga-data.nci.nih.gov/tcgafiles/ftp_auth/distro_ftpusers/anonymous/tumor/blca/cgcc/jhu-usc.edu/humanmethylation450/methylation/jhu-usc.edu_BLCA.HumanMethylation450.Level_1.15.17.0.tar.gz\r\n",
        "https://tcga-data.nci.nih.gov/tcgafiles/ftp_auth/distro_ftpusers/anonymous/tumor/blca/cgcc/jhu-usc.edu/humanmethylation450/methylation/jhu-usc.edu_BLCA.HumanMethylation450.Level_1.16.11.0.tar.gz\r\n",
        "https://tcga-data.nci.nih.gov/tcgafiles/ftp_auth/distro_ftpusers/anonymous/tumor/blca/cgcc/jhu-usc.edu/humanmethylation450/methylation/jhu-usc.edu_BLCA.HumanMethylation450.Level_1.16.12.0.tar.gz\r\n",
        "https://tcga-data.nci.nih.gov/tcgafiles/ftp_auth/distro_ftpusers/anonymous/tumor/blca/cgcc/jhu-usc.edu/humanmethylation450/methylation/jhu-usc.edu_BLCA.HumanMethylation450.Level_1.16.13.0.tar.gz\r\n",
        "https://tcga-data.nci.nih.gov/tcgafiles/ftp_auth/distro_ftpusers/anonymous/tumor/blca/cgcc/jhu-usc.edu/humanmethylation450/methylation/jhu-usc.edu_BLCA.HumanMethylation450.Level_1.16.14.0.tar.gz\r\n",
        "https://tcga-data.nci.nih.gov/tcgafiles/ftp_auth/distro_ftpusers/anonymous/tumor/blca/cgcc/jhu-usc.edu/humanmethylation450/methylation/jhu-usc.edu_BLCA.HumanMethylation450.Level_1.16.15.0.tar.gz\r\n",
        "https://tcga-data.nci.nih.gov/tcgafiles/ftp_auth/distro_ftpusers/anonymous/tumor/blca/cgcc/jhu-usc.edu/humanmethylation450/methylation/jhu-usc.edu_BLCA.HumanMethylation450.Level_1.16.16.0.tar.gz\r\n",
        "https://tcga-data.nci.nih.gov/tcgafiles/ftp_auth/distro_ftpusers/anonymous/tumor/blca/cgcc/jhu-usc.edu/humanmethylation450/methylation/jhu-usc.edu_BLCA.HumanMethylation450.Level_1.16.17.0.tar.gz\r\n",
        "https://tcga-data.nci.nih.gov/tcgafiles/ftp_auth/distro_ftpusers/anonymous/tumor/blca/cgcc/jhu-usc.edu/humanmethylation450/methylation/jhu-usc.edu_BLCA.HumanMethylation450.Level_1.17.12.0.tar.gz\r\n",
        "https://tcga-data.nci.nih.gov/tcgafiles/ftp_auth/distro_ftpusers/anonymous/tumor/blca/cgcc/jhu-usc.edu/humanmethylation450/methylation/jhu-usc.edu_BLCA.HumanMethylation450.Level_1.17.13.0.tar.gz\r\n",
        "https://tcga-data.nci.nih.gov/tcgafiles/ftp_auth/distro_ftpusers/anonymous/tumor/blca/cgcc/jhu-usc.edu/humanmethylation450/methylation/jhu-usc.edu_BLCA.HumanMethylation450.Level_1.17.14.0.tar.gz\r\n",
        "https://tcga-data.nci.nih.gov/tcgafiles/ftp_auth/distro_ftpusers/anonymous/tumor/blca/cgcc/jhu-usc.edu/humanmethylation450/methylation/jhu-usc.edu_BLCA.HumanMethylation450.Level_1.17.15.0.tar.gz\r\n",
        "https://tcga-data.nci.nih.gov/tcgafiles/ftp_auth/distro_ftpusers/anonymous/tumor/blca/cgcc/jhu-usc.edu/humanmethylation450/methylation/jhu-usc.edu_BLCA.HumanMethylation450.Level_1.17.16.0.tar.gz\r\n",
        "https://tcga-data.nci.nih.gov/tcgafiles/ftp_auth/distro_ftpusers/anonymous/tumor/blca/cgcc/jhu-usc.edu/humanmethylation450/methylation/jhu-usc.edu_BLCA.HumanMethylation450.Level_1.17.17.0.tar.gz\r\n",
        "https://tcga-data.nci.nih.gov/tcgafiles/ftp_auth/distro_ftpusers/anonymous/tumor/blca/cgcc/jhu-usc.edu/humanmethylation450/methylation/jhu-usc.edu_BLCA.HumanMethylation450.Level_1.18.12.0.tar.gz\r\n",
        "https://tcga-data.nci.nih.gov/tcgafiles/ftp_auth/distro_ftpusers/anonymous/tumor/blca/cgcc/jhu-usc.edu/humanmethylation450/methylation/jhu-usc.edu_BLCA.HumanMethylation450.Level_1.18.13.0.tar.gz\r\n",
        "https://tcga-data.nci.nih.gov/tcgafiles/ftp_auth/distro_ftpusers/anonymous/tumor/blca/cgcc/jhu-usc.edu/humanmethylation450/methylation/jhu-usc.edu_BLCA.HumanMethylation450.Level_1.18.14.0.tar.gz\r\n",
        "https://tcga-data.nci.nih.gov/tcgafiles/ftp_auth/distro_ftpusers/anonymous/tumor/blca/cgcc/jhu-usc.edu/humanmethylation450/methylation/jhu-usc.edu_BLCA.HumanMethylation450.Level_1.18.15.0.tar.gz\r\n",
        "https://tcga-data.nci.nih.gov/tcgafiles/ftp_auth/distro_ftpusers/anonymous/tumor/blca/cgcc/jhu-usc.edu/humanmethylation450/methylation/jhu-usc.edu_BLCA.HumanMethylation450.Level_1.18.16.0.tar.gz\r\n",
        "https://tcga-data.nci.nih.gov/tcgafiles/ftp_auth/distro_ftpusers/anonymous/tumor/blca/cgcc/jhu-usc.edu/humanmethylation450/methylation/jhu-usc.edu_BLCA.HumanMethylation450.Level_1.18.17.0.tar.gz\r\n",
        "https://tcga-data.nci.nih.gov/tcgafiles/ftp_auth/distro_ftpusers/anonymous/tumor/blca/cgcc/jhu-usc.edu/humanmethylation450/methylation/jhu-usc.edu_BLCA.HumanMethylation450.Level_1.19.12.0.tar.gz\r\n",
        "https://tcga-data.nci.nih.gov/tcgafiles/ftp_auth/distro_ftpusers/anonymous/tumor/blca/cgcc/jhu-usc.edu/humanmethylation450/methylation/jhu-usc.edu_BLCA.HumanMethylation450.Level_1.19.13.0.tar.gz\r\n",
        "https://tcga-data.nci.nih.gov/tcgafiles/ftp_auth/distro_ftpusers/anonymous/tumor/blca/cgcc/jhu-usc.edu/humanmethylation450/methylation/jhu-usc.edu_BLCA.HumanMethylation450.Level_1.19.14.0.tar.gz\r\n",
        "https://tcga-data.nci.nih.gov/tcgafiles/ftp_auth/distro_ftpusers/anonymous/tumor/blca/cgcc/jhu-usc.edu/humanmethylation450/methylation/jhu-usc.edu_BLCA.HumanMethylation450.Level_1.19.15.0.tar.gz\r\n",
        "https://tcga-data.nci.nih.gov/tcgafiles/ftp_auth/distro_ftpusers/anonymous/tumor/blca/cgcc/jhu-usc.edu/humanmethylation450/methylation/jhu-usc.edu_BLCA.HumanMethylation450.Level_1.19.16.0.tar.gz\r\n",
        "https://tcga-data.nci.nih.gov/tcgafiles/ftp_auth/distro_ftpusers/anonymous/tumor/blca/cgcc/jhu-usc.edu/humanmethylation450/methylation/jhu-usc.edu_BLCA.HumanMethylation450.Level_1.19.17.0.tar.gz\r\n",
        "https://tcga-data.nci.nih.gov/tcgafiles/ftp_auth/distro_ftpusers/anonymous/tumor/blca/cgcc/jhu-usc.edu/humanmethylation450/methylation/jhu-usc.edu_BLCA.HumanMethylation450.Level_1.2.0.0.tar.gz\r\n",
        "https://tcga-data.nci.nih.gov/tcgafiles/ftp_auth/distro_ftpusers/anonymous/tumor/blca/cgcc/jhu-usc.edu/humanmethylation450/methylation/jhu-usc.edu_BLCA.HumanMethylation450.Level_1.2.1.0.tar.gz\r\n",
        "https://tcga-data.nci.nih.gov/tcgafiles/ftp_auth/distro_ftpusers/anonymous/tumor/blca/cgcc/jhu-usc.edu/humanmethylation450/methylation/jhu-usc.edu_BLCA.HumanMethylation450.Level_1.2.10.0.tar.gz\r\n",
        "https://tcga-data.nci.nih.gov/tcgafiles/ftp_auth/distro_ftpusers/anonymous/tumor/blca/cgcc/jhu-usc.edu/humanmethylation450/methylation/jhu-usc.edu_BLCA.HumanMethylation450.Level_1.2.11.0.tar.gz\r\n",
        "https://tcga-data.nci.nih.gov/tcgafiles/ftp_auth/distro_ftpusers/anonymous/tumor/blca/cgcc/jhu-usc.edu/humanmethylation450/methylation/jhu-usc.edu_BLCA.HumanMethylation450.Level_1.2.12.0.tar.gz\r\n",
        "https://tcga-data.nci.nih.gov/tcgafiles/ftp_auth/distro_ftpusers/anonymous/tumor/blca/cgcc/jhu-usc.edu/humanmethylation450/methylation/jhu-usc.edu_BLCA.HumanMethylation450.Level_1.2.13.0.tar.gz\r\n",
        "https://tcga-data.nci.nih.gov/tcgafiles/ftp_auth/distro_ftpusers/anonymous/tumor/blca/cgcc/jhu-usc.edu/humanmethylation450/methylation/jhu-usc.edu_BLCA.HumanMethylation450.Level_1.2.14.0.tar.gz\r\n",
        "https://tcga-data.nci.nih.gov/tcgafiles/ftp_auth/distro_ftpusers/anonymous/tumor/blca/cgcc/jhu-usc.edu/humanmethylation450/methylation/jhu-usc.edu_BLCA.HumanMethylation450.Level_1.2.15.0.tar.gz\r\n",
        "https://tcga-data.nci.nih.gov/tcgafiles/ftp_auth/distro_ftpusers/anonymous/tumor/blca/cgcc/jhu-usc.edu/humanmethylation450/methylation/jhu-usc.edu_BLCA.HumanMethylation450.Level_1.2.16.0.tar.gz\r\n",
        "https://tcga-data.nci.nih.gov/tcgafiles/ftp_auth/distro_ftpusers/anonymous/tumor/blca/cgcc/jhu-usc.edu/humanmethylation450/methylation/jhu-usc.edu_BLCA.HumanMethylation450.Level_1.2.17.0.tar.gz\r\n",
        "https://tcga-data.nci.nih.gov/tcgafiles/ftp_auth/distro_ftpusers/anonymous/tumor/blca/cgcc/jhu-usc.edu/humanmethylation450/methylation/jhu-usc.edu_BLCA.HumanMethylation450.Level_1.2.2.0.tar.gz\r\n",
        "https://tcga-data.nci.nih.gov/tcgafiles/ftp_auth/distro_ftpusers/anonymous/tumor/blca/cgcc/jhu-usc.edu/humanmethylation450/methylation/jhu-usc.edu_BLCA.HumanMethylation450.Level_1.2.3.0.tar.gz\r\n",
        "https://tcga-data.nci.nih.gov/tcgafiles/ftp_auth/distro_ftpusers/anonymous/tumor/blca/cgcc/jhu-usc.edu/humanmethylation450/methylation/jhu-usc.edu_BLCA.HumanMethylation450.Level_1.2.4.0.tar.gz\r\n",
        "https://tcga-data.nci.nih.gov/tcgafiles/ftp_auth/distro_ftpusers/anonymous/tumor/blca/cgcc/jhu-usc.edu/humanmethylation450/methylation/jhu-usc.edu_BLCA.HumanMethylation450.Level_1.2.5.0.tar.gz\r\n",
        "https://tcga-data.nci.nih.gov/tcgafiles/ftp_auth/distro_ftpusers/anonymous/tumor/blca/cgcc/jhu-usc.edu/humanmethylation450/methylation/jhu-usc.edu_BLCA.HumanMethylation450.Level_1.2.6.0.tar.gz\r\n",
        "https://tcga-data.nci.nih.gov/tcgafiles/ftp_auth/distro_ftpusers/anonymous/tumor/blca/cgcc/jhu-usc.edu/humanmethylation450/methylation/jhu-usc.edu_BLCA.HumanMethylation450.Level_1.2.7.0.tar.gz\r\n",
        "https://tcga-data.nci.nih.gov/tcgafiles/ftp_auth/distro_ftpusers/anonymous/tumor/blca/cgcc/jhu-usc.edu/humanmethylation450/methylation/jhu-usc.edu_BLCA.HumanMethylation450.Level_1.2.8.0.tar.gz\r\n",
        "https://tcga-data.nci.nih.gov/tcgafiles/ftp_auth/distro_ftpusers/anonymous/tumor/blca/cgcc/jhu-usc.edu/humanmethylation450/methylation/jhu-usc.edu_BLCA.HumanMethylation450.Level_1.2.9.0.tar.gz\r\n",
        "https://tcga-data.nci.nih.gov/tcgafiles/ftp_auth/distro_ftpusers/anonymous/tumor/blca/cgcc/jhu-usc.edu/humanmethylation450/methylation/jhu-usc.edu_BLCA.HumanMethylation450.Level_1.20.13.0.tar.gz\r\n",
        "https://tcga-data.nci.nih.gov/tcgafiles/ftp_auth/distro_ftpusers/anonymous/tumor/blca/cgcc/jhu-usc.edu/humanmethylation450/methylation/jhu-usc.edu_BLCA.HumanMethylation450.Level_1.20.14.0.tar.gz\r\n",
        "https://tcga-data.nci.nih.gov/tcgafiles/ftp_auth/distro_ftpusers/anonymous/tumor/blca/cgcc/jhu-usc.edu/humanmethylation450/methylation/jhu-usc.edu_BLCA.HumanMethylation450.Level_1.20.15.0.tar.gz\r\n",
        "https://tcga-data.nci.nih.gov/tcgafiles/ftp_auth/distro_ftpusers/anonymous/tumor/blca/cgcc/jhu-usc.edu/humanmethylation450/methylation/jhu-usc.edu_BLCA.HumanMethylation450.Level_1.20.16.0.tar.gz\r\n",
        "https://tcga-data.nci.nih.gov/tcgafiles/ftp_auth/distro_ftpusers/anonymous/tumor/blca/cgcc/jhu-usc.edu/humanmethylation450/methylation/jhu-usc.edu_BLCA.HumanMethylation450.Level_1.20.17.0.tar.gz\r\n",
        "https://tcga-data.nci.nih.gov/tcgafiles/ftp_auth/distro_ftpusers/anonymous/tumor/blca/cgcc/jhu-usc.edu/humanmethylation450/methylation/jhu-usc.edu_BLCA.HumanMethylation450.Level_1.21.14.0.tar.gz\r\n",
        "https://tcga-data.nci.nih.gov/tcgafiles/ftp_auth/distro_ftpusers/anonymous/tumor/blca/cgcc/jhu-usc.edu/humanmethylation450/methylation/jhu-usc.edu_BLCA.HumanMethylation450.Level_1.21.15.0.tar.gz\r\n",
        "https://tcga-data.nci.nih.gov/tcgafiles/ftp_auth/distro_ftpusers/anonymous/tumor/blca/cgcc/jhu-usc.edu/humanmethylation450/methylation/jhu-usc.edu_BLCA.HumanMethylation450.Level_1.21.16.0.tar.gz\r\n",
        "https://tcga-data.nci.nih.gov/tcgafiles/ftp_auth/distro_ftpusers/anonymous/tumor/blca/cgcc/jhu-usc.edu/humanmethylation450/methylation/jhu-usc.edu_BLCA.HumanMethylation450.Level_1.21.17.0.tar.gz\r\n",
        "https://tcga-data.nci.nih.gov/tcgafiles/ftp_auth/distro_ftpusers/anonymous/tumor/blca/cgcc/jhu-usc.edu/humanmethylation450/methylation/jhu-usc.edu_BLCA.HumanMethylation450.Level_1.22.15.0.tar.gz\r\n",
        "https://tcga-data.nci.nih.gov/tcgafiles/ftp_auth/distro_ftpusers/anonymous/tumor/blca/cgcc/jhu-usc.edu/humanmethylation450/methylation/jhu-usc.edu_BLCA.HumanMethylation450.Level_1.22.16.0.tar.gz\r\n",
        "https://tcga-data.nci.nih.gov/tcgafiles/ftp_auth/distro_ftpusers/anonymous/tumor/blca/cgcc/jhu-usc.edu/humanmethylation450/methylation/jhu-usc.edu_BLCA.HumanMethylation450.Level_1.22.17.0.tar.gz\r\n",
        "https://tcga-data.nci.nih.gov/tcgafiles/ftp_auth/distro_ftpusers/anonymous/tumor/blca/cgcc/jhu-usc.edu/humanmethylation450/methylation/jhu-usc.edu_BLCA.HumanMethylation450.Level_1.23.16.0.tar.gz\r\n",
        "https://tcga-data.nci.nih.gov/tcgafiles/ftp_auth/distro_ftpusers/anonymous/tumor/blca/cgcc/jhu-usc.edu/humanmethylation450/methylation/jhu-usc.edu_BLCA.HumanMethylation450.Level_1.23.17.0.tar.gz\r\n",
        "https://tcga-data.nci.nih.gov/tcgafiles/ftp_auth/distro_ftpusers/anonymous/tumor/blca/cgcc/jhu-usc.edu/humanmethylation450/methylation/jhu-usc.edu_BLCA.HumanMethylation450.Level_1.24.17.0.tar.gz\r\n",
        "https://tcga-data.nci.nih.gov/tcgafiles/ftp_auth/distro_ftpusers/anonymous/tumor/blca/cgcc/jhu-usc.edu/humanmethylation450/methylation/jhu-usc.edu_BLCA.HumanMethylation450.Level_1.3.0.0.tar.gz\r\n",
        "https://tcga-data.nci.nih.gov/tcgafiles/ftp_auth/distro_ftpusers/anonymous/tumor/blca/cgcc/jhu-usc.edu/humanmethylation450/methylation/jhu-usc.edu_BLCA.HumanMethylation450.Level_1.3.1.0.tar.gz\r\n",
        "https://tcga-data.nci.nih.gov/tcgafiles/ftp_auth/distro_ftpusers/anonymous/tumor/blca/cgcc/jhu-usc.edu/humanmethylation450/methylation/jhu-usc.edu_BLCA.HumanMethylation450.Level_1.3.10.0.tar.gz\r\n",
        "https://tcga-data.nci.nih.gov/tcgafiles/ftp_auth/distro_ftpusers/anonymous/tumor/blca/cgcc/jhu-usc.edu/humanmethylation450/methylation/jhu-usc.edu_BLCA.HumanMethylation450.Level_1.3.11.0.tar.gz\r\n",
        "https://tcga-data.nci.nih.gov/tcgafiles/ftp_auth/distro_ftpusers/anonymous/tumor/blca/cgcc/jhu-usc.edu/humanmethylation450/methylation/jhu-usc.edu_BLCA.HumanMethylation450.Level_1.3.12.0.tar.gz\r\n",
        "https://tcga-data.nci.nih.gov/tcgafiles/ftp_auth/distro_ftpusers/anonymous/tumor/blca/cgcc/jhu-usc.edu/humanmethylation450/methylation/jhu-usc.edu_BLCA.HumanMethylation450.Level_1.3.13.0.tar.gz\r\n",
        "https://tcga-data.nci.nih.gov/tcgafiles/ftp_auth/distro_ftpusers/anonymous/tumor/blca/cgcc/jhu-usc.edu/humanmethylation450/methylation/jhu-usc.edu_BLCA.HumanMethylation450.Level_1.3.14.0.tar.gz\r\n",
        "https://tcga-data.nci.nih.gov/tcgafiles/ftp_auth/distro_ftpusers/anonymous/tumor/blca/cgcc/jhu-usc.edu/humanmethylation450/methylation/jhu-usc.edu_BLCA.HumanMethylation450.Level_1.3.15.0.tar.gz\r\n",
        "https://tcga-data.nci.nih.gov/tcgafiles/ftp_auth/distro_ftpusers/anonymous/tumor/blca/cgcc/jhu-usc.edu/humanmethylation450/methylation/jhu-usc.edu_BLCA.HumanMethylation450.Level_1.3.16.0.tar.gz\r\n",
        "https://tcga-data.nci.nih.gov/tcgafiles/ftp_auth/distro_ftpusers/anonymous/tumor/blca/cgcc/jhu-usc.edu/humanmethylation450/methylation/jhu-usc.edu_BLCA.HumanMethylation450.Level_1.3.17.0.tar.gz\r\n",
        "https://tcga-data.nci.nih.gov/tcgafiles/ftp_auth/distro_ftpusers/anonymous/tumor/blca/cgcc/jhu-usc.edu/humanmethylation450/methylation/jhu-usc.edu_BLCA.HumanMethylation450.Level_1.3.2.0.tar.gz\r\n",
        "https://tcga-data.nci.nih.gov/tcgafiles/ftp_auth/distro_ftpusers/anonymous/tumor/blca/cgcc/jhu-usc.edu/humanmethylation450/methylation/jhu-usc.edu_BLCA.HumanMethylation450.Level_1.3.3.0.tar.gz\r\n",
        "https://tcga-data.nci.nih.gov/tcgafiles/ftp_auth/distro_ftpusers/anonymous/tumor/blca/cgcc/jhu-usc.edu/humanmethylation450/methylation/jhu-usc.edu_BLCA.HumanMethylation450.Level_1.3.4.0.tar.gz\r\n",
        "https://tcga-data.nci.nih.gov/tcgafiles/ftp_auth/distro_ftpusers/anonymous/tumor/blca/cgcc/jhu-usc.edu/humanmethylation450/methylation/jhu-usc.edu_BLCA.HumanMethylation450.Level_1.3.5.0.tar.gz\r\n",
        "https://tcga-data.nci.nih.gov/tcgafiles/ftp_auth/distro_ftpusers/anonymous/tumor/blca/cgcc/jhu-usc.edu/humanmethylation450/methylation/jhu-usc.edu_BLCA.HumanMethylation450.Level_1.3.6.0.tar.gz\r\n",
        "https://tcga-data.nci.nih.gov/tcgafiles/ftp_auth/distro_ftpusers/anonymous/tumor/blca/cgcc/jhu-usc.edu/humanmethylation450/methylation/jhu-usc.edu_BLCA.HumanMethylation450.Level_1.3.7.0.tar.gz\r\n",
        "https://tcga-data.nci.nih.gov/tcgafiles/ftp_auth/distro_ftpusers/anonymous/tumor/blca/cgcc/jhu-usc.edu/humanmethylation450/methylation/jhu-usc.edu_BLCA.HumanMethylation450.Level_1.3.8.0.tar.gz\r\n",
        "https://tcga-data.nci.nih.gov/tcgafiles/ftp_auth/distro_ftpusers/anonymous/tumor/blca/cgcc/jhu-usc.edu/humanmethylation450/methylation/jhu-usc.edu_BLCA.HumanMethylation450.Level_1.3.9.0.tar.gz\r\n",
        "https://tcga-data.nci.nih.gov/tcgafiles/ftp_auth/distro_ftpusers/anonymous/tumor/blca/cgcc/jhu-usc.edu/humanmethylation450/methylation/jhu-usc.edu_BLCA.HumanMethylation450.Level_1.4.0.0.tar.gz\r\n",
        "https://tcga-data.nci.nih.gov/tcgafiles/ftp_auth/distro_ftpusers/anonymous/tumor/blca/cgcc/jhu-usc.edu/humanmethylation450/methylation/jhu-usc.edu_BLCA.HumanMethylation450.Level_1.4.1.0.tar.gz\r\n",
        "https://tcga-data.nci.nih.gov/tcgafiles/ftp_auth/distro_ftpusers/anonymous/tumor/blca/cgcc/jhu-usc.edu/humanmethylation450/methylation/jhu-usc.edu_BLCA.HumanMethylation450.Level_1.4.10.0.tar.gz\r\n",
        "https://tcga-data.nci.nih.gov/tcgafiles/ftp_auth/distro_ftpusers/anonymous/tumor/blca/cgcc/jhu-usc.edu/humanmethylation450/methylation/jhu-usc.edu_BLCA.HumanMethylation450.Level_1.4.11.0.tar.gz\r\n",
        "https://tcga-data.nci.nih.gov/tcgafiles/ftp_auth/distro_ftpusers/anonymous/tumor/blca/cgcc/jhu-usc.edu/humanmethylation450/methylation/jhu-usc.edu_BLCA.HumanMethylation450.Level_1.4.12.0.tar.gz\r\n",
        "https://tcga-data.nci.nih.gov/tcgafiles/ftp_auth/distro_ftpusers/anonymous/tumor/blca/cgcc/jhu-usc.edu/humanmethylation450/methylation/jhu-usc.edu_BLCA.HumanMethylation450.Level_1.4.13.0.tar.gz\r\n",
        "https://tcga-data.nci.nih.gov/tcgafiles/ftp_auth/distro_ftpusers/anonymous/tumor/blca/cgcc/jhu-usc.edu/humanmethylation450/methylation/jhu-usc.edu_BLCA.HumanMethylation450.Level_1.4.14.0.tar.gz\r\n",
        "https://tcga-data.nci.nih.gov/tcgafiles/ftp_auth/distro_ftpusers/anonymous/tumor/blca/cgcc/jhu-usc.edu/humanmethylation450/methylation/jhu-usc.edu_BLCA.HumanMethylation450.Level_1.4.15.0.tar.gz\r\n",
        "https://tcga-data.nci.nih.gov/tcgafiles/ftp_auth/distro_ftpusers/anonymous/tumor/blca/cgcc/jhu-usc.edu/humanmethylation450/methylation/jhu-usc.edu_BLCA.HumanMethylation450.Level_1.4.16.0.tar.gz\r\n",
        "https://tcga-data.nci.nih.gov/tcgafiles/ftp_auth/distro_ftpusers/anonymous/tumor/blca/cgcc/jhu-usc.edu/humanmethylation450/methylation/jhu-usc.edu_BLCA.HumanMethylation450.Level_1.4.17.0.tar.gz\r\n",
        "https://tcga-data.nci.nih.gov/tcgafiles/ftp_auth/distro_ftpusers/anonymous/tumor/blca/cgcc/jhu-usc.edu/humanmethylation450/methylation/jhu-usc.edu_BLCA.HumanMethylation450.Level_1.4.2.0.tar.gz\r\n",
        "https://tcga-data.nci.nih.gov/tcgafiles/ftp_auth/distro_ftpusers/anonymous/tumor/blca/cgcc/jhu-usc.edu/humanmethylation450/methylation/jhu-usc.edu_BLCA.HumanMethylation450.Level_1.4.3.0.tar.gz\r\n",
        "https://tcga-data.nci.nih.gov/tcgafiles/ftp_auth/distro_ftpusers/anonymous/tumor/blca/cgcc/jhu-usc.edu/humanmethylation450/methylation/jhu-usc.edu_BLCA.HumanMethylation450.Level_1.4.4.0.tar.gz\r\n",
        "https://tcga-data.nci.nih.gov/tcgafiles/ftp_auth/distro_ftpusers/anonymous/tumor/blca/cgcc/jhu-usc.edu/humanmethylation450/methylation/jhu-usc.edu_BLCA.HumanMethylation450.Level_1.4.5.0.tar.gz\r\n",
        "https://tcga-data.nci.nih.gov/tcgafiles/ftp_auth/distro_ftpusers/anonymous/tumor/blca/cgcc/jhu-usc.edu/humanmethylation450/methylation/jhu-usc.edu_BLCA.HumanMethylation450.Level_1.4.6.0.tar.gz\r\n",
        "https://tcga-data.nci.nih.gov/tcgafiles/ftp_auth/distro_ftpusers/anonymous/tumor/blca/cgcc/jhu-usc.edu/humanmethylation450/methylation/jhu-usc.edu_BLCA.HumanMethylation450.Level_1.4.7.0.tar.gz\r\n",
        "https://tcga-data.nci.nih.gov/tcgafiles/ftp_auth/distro_ftpusers/anonymous/tumor/blca/cgcc/jhu-usc.edu/humanmethylation450/methylation/jhu-usc.edu_BLCA.HumanMethylation450.Level_1.4.8.0.tar.gz\r\n",
        "https://tcga-data.nci.nih.gov/tcgafiles/ftp_auth/distro_ftpusers/anonymous/tumor/blca/cgcc/jhu-usc.edu/humanmethylation450/methylation/jhu-usc.edu_BLCA.HumanMethylation450.Level_1.4.9.0.tar.gz\r\n",
        "https://tcga-data.nci.nih.gov/tcgafiles/ftp_auth/distro_ftpusers/anonymous/tumor/blca/cgcc/jhu-usc.edu/humanmethylation450/methylation/jhu-usc.edu_BLCA.HumanMethylation450.Level_1.5.1.0.tar.gz\r\n",
        "https://tcga-data.nci.nih.gov/tcgafiles/ftp_auth/distro_ftpusers/anonymous/tumor/blca/cgcc/jhu-usc.edu/humanmethylation450/methylation/jhu-usc.edu_BLCA.HumanMethylation450.Level_1.5.10.0.tar.gz\r\n",
        "https://tcga-data.nci.nih.gov/tcgafiles/ftp_auth/distro_ftpusers/anonymous/tumor/blca/cgcc/jhu-usc.edu/humanmethylation450/methylation/jhu-usc.edu_BLCA.HumanMethylation450.Level_1.5.11.0.tar.gz\r\n",
        "https://tcga-data.nci.nih.gov/tcgafiles/ftp_auth/distro_ftpusers/anonymous/tumor/blca/cgcc/jhu-usc.edu/humanmethylation450/methylation/jhu-usc.edu_BLCA.HumanMethylation450.Level_1.5.12.0.tar.gz\r\n",
        "https://tcga-data.nci.nih.gov/tcgafiles/ftp_auth/distro_ftpusers/anonymous/tumor/blca/cgcc/jhu-usc.edu/humanmethylation450/methylation/jhu-usc.edu_BLCA.HumanMethylation450.Level_1.5.13.0.tar.gz\r\n",
        "https://tcga-data.nci.nih.gov/tcgafiles/ftp_auth/distro_ftpusers/anonymous/tumor/blca/cgcc/jhu-usc.edu/humanmethylation450/methylation/jhu-usc.edu_BLCA.HumanMethylation450.Level_1.5.14.0.tar.gz\r\n",
        "https://tcga-data.nci.nih.gov/tcgafiles/ftp_auth/distro_ftpusers/anonymous/tumor/blca/cgcc/jhu-usc.edu/humanmethylation450/methylation/jhu-usc.edu_BLCA.HumanMethylation450.Level_1.5.15.0.tar.gz\r\n",
        "https://tcga-data.nci.nih.gov/tcgafiles/ftp_auth/distro_ftpusers/anonymous/tumor/blca/cgcc/jhu-usc.edu/humanmethylation450/methylation/jhu-usc.edu_BLCA.HumanMethylation450.Level_1.5.16.0.tar.gz\r\n",
        "https://tcga-data.nci.nih.gov/tcgafiles/ftp_auth/distro_ftpusers/anonymous/tumor/blca/cgcc/jhu-usc.edu/humanmethylation450/methylation/jhu-usc.edu_BLCA.HumanMethylation450.Level_1.5.17.0.tar.gz\r\n",
        "https://tcga-data.nci.nih.gov/tcgafiles/ftp_auth/distro_ftpusers/anonymous/tumor/blca/cgcc/jhu-usc.edu/humanmethylation450/methylation/jhu-usc.edu_BLCA.HumanMethylation450.Level_1.5.2.0.tar.gz\r\n",
        "https://tcga-data.nci.nih.gov/tcgafiles/ftp_auth/distro_ftpusers/anonymous/tumor/blca/cgcc/jhu-usc.edu/humanmethylation450/methylation/jhu-usc.edu_BLCA.HumanMethylation450.Level_1.5.3.0.tar.gz\r\n",
        "https://tcga-data.nci.nih.gov/tcgafiles/ftp_auth/distro_ftpusers/anonymous/tumor/blca/cgcc/jhu-usc.edu/humanmethylation450/methylation/jhu-usc.edu_BLCA.HumanMethylation450.Level_1.5.4.0.tar.gz\r\n",
        "https://tcga-data.nci.nih.gov/tcgafiles/ftp_auth/distro_ftpusers/anonymous/tumor/blca/cgcc/jhu-usc.edu/humanmethylation450/methylation/jhu-usc.edu_BLCA.HumanMethylation450.Level_1.5.5.0.tar.gz\r\n",
        "https://tcga-data.nci.nih.gov/tcgafiles/ftp_auth/distro_ftpusers/anonymous/tumor/blca/cgcc/jhu-usc.edu/humanmethylation450/methylation/jhu-usc.edu_BLCA.HumanMethylation450.Level_1.5.6.0.tar.gz\r\n",
        "https://tcga-data.nci.nih.gov/tcgafiles/ftp_auth/distro_ftpusers/anonymous/tumor/blca/cgcc/jhu-usc.edu/humanmethylation450/methylation/jhu-usc.edu_BLCA.HumanMethylation450.Level_1.5.7.0.tar.gz\r\n",
        "https://tcga-data.nci.nih.gov/tcgafiles/ftp_auth/distro_ftpusers/anonymous/tumor/blca/cgcc/jhu-usc.edu/humanmethylation450/methylation/jhu-usc.edu_BLCA.HumanMethylation450.Level_1.5.8.0.tar.gz\r\n",
        "https://tcga-data.nci.nih.gov/tcgafiles/ftp_auth/distro_ftpusers/anonymous/tumor/blca/cgcc/jhu-usc.edu/humanmethylation450/methylation/jhu-usc.edu_BLCA.HumanMethylation450.Level_1.5.9.0.tar.gz\r\n",
        "https://tcga-data.nci.nih.gov/tcgafiles/ftp_auth/distro_ftpusers/anonymous/tumor/blca/cgcc/jhu-usc.edu/humanmethylation450/methylation/jhu-usc.edu_BLCA.HumanMethylation450.Level_1.6.1.0.tar.gz\r\n",
        "https://tcga-data.nci.nih.gov/tcgafiles/ftp_auth/distro_ftpusers/anonymous/tumor/blca/cgcc/jhu-usc.edu/humanmethylation450/methylation/jhu-usc.edu_BLCA.HumanMethylation450.Level_1.6.10.0.tar.gz\r\n",
        "https://tcga-data.nci.nih.gov/tcgafiles/ftp_auth/distro_ftpusers/anonymous/tumor/blca/cgcc/jhu-usc.edu/humanmethylation450/methylation/jhu-usc.edu_BLCA.HumanMethylation450.Level_1.6.11.0.tar.gz\r\n",
        "https://tcga-data.nci.nih.gov/tcgafiles/ftp_auth/distro_ftpusers/anonymous/tumor/blca/cgcc/jhu-usc.edu/humanmethylation450/methylation/jhu-usc.edu_BLCA.HumanMethylation450.Level_1.6.12.0.tar.gz\r\n",
        "https://tcga-data.nci.nih.gov/tcgafiles/ftp_auth/distro_ftpusers/anonymous/tumor/blca/cgcc/jhu-usc.edu/humanmethylation450/methylation/jhu-usc.edu_BLCA.HumanMethylation450.Level_1.6.13.0.tar.gz\r\n",
        "https://tcga-data.nci.nih.gov/tcgafiles/ftp_auth/distro_ftpusers/anonymous/tumor/blca/cgcc/jhu-usc.edu/humanmethylation450/methylation/jhu-usc.edu_BLCA.HumanMethylation450.Level_1.6.14.0.tar.gz\r\n",
        "https://tcga-data.nci.nih.gov/tcgafiles/ftp_auth/distro_ftpusers/anonymous/tumor/blca/cgcc/jhu-usc.edu/humanmethylation450/methylation/jhu-usc.edu_BLCA.HumanMethylation450.Level_1.6.15.0.tar.gz\r\n",
        "https://tcga-data.nci.nih.gov/tcgafiles/ftp_auth/distro_ftpusers/anonymous/tumor/blca/cgcc/jhu-usc.edu/humanmethylation450/methylation/jhu-usc.edu_BLCA.HumanMethylation450.Level_1.6.16.0.tar.gz\r\n",
        "https://tcga-data.nci.nih.gov/tcgafiles/ftp_auth/distro_ftpusers/anonymous/tumor/blca/cgcc/jhu-usc.edu/humanmethylation450/methylation/jhu-usc.edu_BLCA.HumanMethylation450.Level_1.6.17.0.tar.gz\r\n",
        "https://tcga-data.nci.nih.gov/tcgafiles/ftp_auth/distro_ftpusers/anonymous/tumor/blca/cgcc/jhu-usc.edu/humanmethylation450/methylation/jhu-usc.edu_BLCA.HumanMethylation450.Level_1.6.2.0.tar.gz\r\n",
        "https://tcga-data.nci.nih.gov/tcgafiles/ftp_auth/distro_ftpusers/anonymous/tumor/blca/cgcc/jhu-usc.edu/humanmethylation450/methylation/jhu-usc.edu_BLCA.HumanMethylation450.Level_1.6.3.0.tar.gz\r\n",
        "https://tcga-data.nci.nih.gov/tcgafiles/ftp_auth/distro_ftpusers/anonymous/tumor/blca/cgcc/jhu-usc.edu/humanmethylation450/methylation/jhu-usc.edu_BLCA.HumanMethylation450.Level_1.6.4.0.tar.gz\r\n",
        "https://tcga-data.nci.nih.gov/tcgafiles/ftp_auth/distro_ftpusers/anonymous/tumor/blca/cgcc/jhu-usc.edu/humanmethylation450/methylation/jhu-usc.edu_BLCA.HumanMethylation450.Level_1.6.5.0.tar.gz\r\n",
        "https://tcga-data.nci.nih.gov/tcgafiles/ftp_auth/distro_ftpusers/anonymous/tumor/blca/cgcc/jhu-usc.edu/humanmethylation450/methylation/jhu-usc.edu_BLCA.HumanMethylation450.Level_1.6.6.0.tar.gz\r\n",
        "https://tcga-data.nci.nih.gov/tcgafiles/ftp_auth/distro_ftpusers/anonymous/tumor/blca/cgcc/jhu-usc.edu/humanmethylation450/methylation/jhu-usc.edu_BLCA.HumanMethylation450.Level_1.6.7.0.tar.gz\r\n",
        "https://tcga-data.nci.nih.gov/tcgafiles/ftp_auth/distro_ftpusers/anonymous/tumor/blca/cgcc/jhu-usc.edu/humanmethylation450/methylation/jhu-usc.edu_BLCA.HumanMethylation450.Level_1.6.8.0.tar.gz\r\n",
        "https://tcga-data.nci.nih.gov/tcgafiles/ftp_auth/distro_ftpusers/anonymous/tumor/blca/cgcc/jhu-usc.edu/humanmethylation450/methylation/jhu-usc.edu_BLCA.HumanMethylation450.Level_1.6.9.0.tar.gz\r\n",
        "https://tcga-data.nci.nih.gov/tcgafiles/ftp_auth/distro_ftpusers/anonymous/tumor/blca/cgcc/jhu-usc.edu/humanmethylation450/methylation/jhu-usc.edu_BLCA.HumanMethylation450.Level_1.7.10.0.tar.gz\r\n",
        "https://tcga-data.nci.nih.gov/tcgafiles/ftp_auth/distro_ftpusers/anonymous/tumor/blca/cgcc/jhu-usc.edu/humanmethylation450/methylation/jhu-usc.edu_BLCA.HumanMethylation450.Level_1.7.11.0.tar.gz\r\n",
        "https://tcga-data.nci.nih.gov/tcgafiles/ftp_auth/distro_ftpusers/anonymous/tumor/blca/cgcc/jhu-usc.edu/humanmethylation450/methylation/jhu-usc.edu_BLCA.HumanMethylation450.Level_1.7.12.0.tar.gz\r\n",
        "https://tcga-data.nci.nih.gov/tcgafiles/ftp_auth/distro_ftpusers/anonymous/tumor/blca/cgcc/jhu-usc.edu/humanmethylation450/methylation/jhu-usc.edu_BLCA.HumanMethylation450.Level_1.7.13.0.tar.gz\r\n",
        "https://tcga-data.nci.nih.gov/tcgafiles/ftp_auth/distro_ftpusers/anonymous/tumor/blca/cgcc/jhu-usc.edu/humanmethylation450/methylation/jhu-usc.edu_BLCA.HumanMethylation450.Level_1.7.14.0.tar.gz\r\n",
        "https://tcga-data.nci.nih.gov/tcgafiles/ftp_auth/distro_ftpusers/anonymous/tumor/blca/cgcc/jhu-usc.edu/humanmethylation450/methylation/jhu-usc.edu_BLCA.HumanMethylation450.Level_1.7.15.0.tar.gz\r\n",
        "https://tcga-data.nci.nih.gov/tcgafiles/ftp_auth/distro_ftpusers/anonymous/tumor/blca/cgcc/jhu-usc.edu/humanmethylation450/methylation/jhu-usc.edu_BLCA.HumanMethylation450.Level_1.7.16.0.tar.gz\r\n",
        "https://tcga-data.nci.nih.gov/tcgafiles/ftp_auth/distro_ftpusers/anonymous/tumor/blca/cgcc/jhu-usc.edu/humanmethylation450/methylation/jhu-usc.edu_BLCA.HumanMethylation450.Level_1.7.17.0.tar.gz\r\n",
        "https://tcga-data.nci.nih.gov/tcgafiles/ftp_auth/distro_ftpusers/anonymous/tumor/blca/cgcc/jhu-usc.edu/humanmethylation450/methylation/jhu-usc.edu_BLCA.HumanMethylation450.Level_1.7.2.0.tar.gz\r\n",
        "https://tcga-data.nci.nih.gov/tcgafiles/ftp_auth/distro_ftpusers/anonymous/tumor/blca/cgcc/jhu-usc.edu/humanmethylation450/methylation/jhu-usc.edu_BLCA.HumanMethylation450.Level_1.7.3.0.tar.gz\r\n",
        "https://tcga-data.nci.nih.gov/tcgafiles/ftp_auth/distro_ftpusers/anonymous/tumor/blca/cgcc/jhu-usc.edu/humanmethylation450/methylation/jhu-usc.edu_BLCA.HumanMethylation450.Level_1.7.4.0.tar.gz\r\n",
        "https://tcga-data.nci.nih.gov/tcgafiles/ftp_auth/distro_ftpusers/anonymous/tumor/blca/cgcc/jhu-usc.edu/humanmethylation450/methylation/jhu-usc.edu_BLCA.HumanMethylation450.Level_1.7.5.0.tar.gz\r\n",
        "https://tcga-data.nci.nih.gov/tcgafiles/ftp_auth/distro_ftpusers/anonymous/tumor/blca/cgcc/jhu-usc.edu/humanmethylation450/methylation/jhu-usc.edu_BLCA.HumanMethylation450.Level_1.7.6.0.tar.gz\r\n",
        "https://tcga-data.nci.nih.gov/tcgafiles/ftp_auth/distro_ftpusers/anonymous/tumor/blca/cgcc/jhu-usc.edu/humanmethylation450/methylation/jhu-usc.edu_BLCA.HumanMethylation450.Level_1.7.7.0.tar.gz\r\n",
        "https://tcga-data.nci.nih.gov/tcgafiles/ftp_auth/distro_ftpusers/anonymous/tumor/blca/cgcc/jhu-usc.edu/humanmethylation450/methylation/jhu-usc.edu_BLCA.HumanMethylation450.Level_1.7.8.0.tar.gz\r\n",
        "https://tcga-data.nci.nih.gov/tcgafiles/ftp_auth/distro_ftpusers/anonymous/tumor/blca/cgcc/jhu-usc.edu/humanmethylation450/methylation/jhu-usc.edu_BLCA.HumanMethylation450.Level_1.7.9.0.tar.gz\r\n",
        "https://tcga-data.nci.nih.gov/tcgafiles/ftp_auth/distro_ftpusers/anonymous/tumor/blca/cgcc/jhu-usc.edu/humanmethylation450/methylation/jhu-usc.edu_BLCA.HumanMethylation450.Level_1.8.10.0.tar.gz\r\n",
        "https://tcga-data.nci.nih.gov/tcgafiles/ftp_auth/distro_ftpusers/anonymous/tumor/blca/cgcc/jhu-usc.edu/humanmethylation450/methylation/jhu-usc.edu_BLCA.HumanMethylation450.Level_1.8.11.0.tar.gz\r\n",
        "https://tcga-data.nci.nih.gov/tcgafiles/ftp_auth/distro_ftpusers/anonymous/tumor/blca/cgcc/jhu-usc.edu/humanmethylation450/methylation/jhu-usc.edu_BLCA.HumanMethylation450.Level_1.8.12.0.tar.gz\r\n",
        "https://tcga-data.nci.nih.gov/tcgafiles/ftp_auth/distro_ftpusers/anonymous/tumor/blca/cgcc/jhu-usc.edu/humanmethylation450/methylation/jhu-usc.edu_BLCA.HumanMethylation450.Level_1.8.13.0.tar.gz\r\n",
        "https://tcga-data.nci.nih.gov/tcgafiles/ftp_auth/distro_ftpusers/anonymous/tumor/blca/cgcc/jhu-usc.edu/humanmethylation450/methylation/jhu-usc.edu_BLCA.HumanMethylation450.Level_1.8.14.0.tar.gz\r\n",
        "https://tcga-data.nci.nih.gov/tcgafiles/ftp_auth/distro_ftpusers/anonymous/tumor/blca/cgcc/jhu-usc.edu/humanmethylation450/methylation/jhu-usc.edu_BLCA.HumanMethylation450.Level_1.8.15.0.tar.gz\r\n",
        "https://tcga-data.nci.nih.gov/tcgafiles/ftp_auth/distro_ftpusers/anonymous/tumor/blca/cgcc/jhu-usc.edu/humanmethylation450/methylation/jhu-usc.edu_BLCA.HumanMethylation450.Level_1.8.16.0.tar.gz\r\n",
        "https://tcga-data.nci.nih.gov/tcgafiles/ftp_auth/distro_ftpusers/anonymous/tumor/blca/cgcc/jhu-usc.edu/humanmethylation450/methylation/jhu-usc.edu_BLCA.HumanMethylation450.Level_1.8.17.0.tar.gz\r\n",
        "https://tcga-data.nci.nih.gov/tcgafiles/ftp_auth/distro_ftpusers/anonymous/tumor/blca/cgcc/jhu-usc.edu/humanmethylation450/methylation/jhu-usc.edu_BLCA.HumanMethylation450.Level_1.8.3.0.tar.gz\r\n",
        "https://tcga-data.nci.nih.gov/tcgafiles/ftp_auth/distro_ftpusers/anonymous/tumor/blca/cgcc/jhu-usc.edu/humanmethylation450/methylation/jhu-usc.edu_BLCA.HumanMethylation450.Level_1.8.4.0.tar.gz\r\n",
        "https://tcga-data.nci.nih.gov/tcgafiles/ftp_auth/distro_ftpusers/anonymous/tumor/blca/cgcc/jhu-usc.edu/humanmethylation450/methylation/jhu-usc.edu_BLCA.HumanMethylation450.Level_1.8.5.0.tar.gz\r\n",
        "https://tcga-data.nci.nih.gov/tcgafiles/ftp_auth/distro_ftpusers/anonymous/tumor/blca/cgcc/jhu-usc.edu/humanmethylation450/methylation/jhu-usc.edu_BLCA.HumanMethylation450.Level_1.8.6.0.tar.gz\r\n",
        "https://tcga-data.nci.nih.gov/tcgafiles/ftp_auth/distro_ftpusers/anonymous/tumor/blca/cgcc/jhu-usc.edu/humanmethylation450/methylation/jhu-usc.edu_BLCA.HumanMethylation450.Level_1.8.7.0.tar.gz\r\n",
        "https://tcga-data.nci.nih.gov/tcgafiles/ftp_auth/distro_ftpusers/anonymous/tumor/blca/cgcc/jhu-usc.edu/humanmethylation450/methylation/jhu-usc.edu_BLCA.HumanMethylation450.Level_1.8.8.0.tar.gz\r\n",
        "https://tcga-data.nci.nih.gov/tcgafiles/ftp_auth/distro_ftpusers/anonymous/tumor/blca/cgcc/jhu-usc.edu/humanmethylation450/methylation/jhu-usc.edu_BLCA.HumanMethylation450.Level_1.8.9.0.tar.gz\r\n",
        "https://tcga-data.nci.nih.gov/tcgafiles/ftp_auth/distro_ftpusers/anonymous/tumor/blca/cgcc/jhu-usc.edu/humanmethylation450/methylation/jhu-usc.edu_BLCA.HumanMethylation450.Level_1.9.10.0.tar.gz\r\n",
        "https://tcga-data.nci.nih.gov/tcgafiles/ftp_auth/distro_ftpusers/anonymous/tumor/blca/cgcc/jhu-usc.edu/humanmethylation450/methylation/jhu-usc.edu_BLCA.HumanMethylation450.Level_1.9.11.0.tar.gz\r\n",
        "https://tcga-data.nci.nih.gov/tcgafiles/ftp_auth/distro_ftpusers/anonymous/tumor/blca/cgcc/jhu-usc.edu/humanmethylation450/methylation/jhu-usc.edu_BLCA.HumanMethylation450.Level_1.9.12.0.tar.gz\r\n",
        "https://tcga-data.nci.nih.gov/tcgafiles/ftp_auth/distro_ftpusers/anonymous/tumor/blca/cgcc/jhu-usc.edu/humanmethylation450/methylation/jhu-usc.edu_BLCA.HumanMethylation450.Level_1.9.13.0.tar.gz\r\n",
        "https://tcga-data.nci.nih.gov/tcgafiles/ftp_auth/distro_ftpusers/anonymous/tumor/blca/cgcc/jhu-usc.edu/humanmethylation450/methylation/jhu-usc.edu_BLCA.HumanMethylation450.Level_1.9.14.0.tar.gz\r\n",
        "https://tcga-data.nci.nih.gov/tcgafiles/ftp_auth/distro_ftpusers/anonymous/tumor/blca/cgcc/jhu-usc.edu/humanmethylation450/methylation/jhu-usc.edu_BLCA.HumanMethylation450.Level_1.9.15.0.tar.gz\r\n",
        "https://tcga-data.nci.nih.gov/tcgafiles/ftp_auth/distro_ftpusers/anonymous/tumor/blca/cgcc/jhu-usc.edu/humanmethylation450/methylation/jhu-usc.edu_BLCA.HumanMethylation450.Level_1.9.16.0.tar.gz\r\n",
        "https://tcga-data.nci.nih.gov/tcgafiles/ftp_auth/distro_ftpusers/anonymous/tumor/blca/cgcc/jhu-usc.edu/humanmethylation450/methylation/jhu-usc.edu_BLCA.HumanMethylation450.Level_1.9.17.0.tar.gz\r\n",
        "https://tcga-data.nci.nih.gov/tcgafiles/ftp_auth/distro_ftpusers/anonymous/tumor/blca/cgcc/jhu-usc.edu/humanmethylation450/methylation/jhu-usc.edu_BLCA.HumanMethylation450.Level_1.9.4.0.tar.gz\r\n",
        "https://tcga-data.nci.nih.gov/tcgafiles/ftp_auth/distro_ftpusers/anonymous/tumor/blca/cgcc/jhu-usc.edu/humanmethylation450/methylation/jhu-usc.edu_BLCA.HumanMethylation450.Level_1.9.5.0.tar.gz\r\n",
        "https://tcga-data.nci.nih.gov/tcgafiles/ftp_auth/distro_ftpusers/anonymous/tumor/blca/cgcc/jhu-usc.edu/humanmethylation450/methylation/jhu-usc.edu_BLCA.HumanMethylation450.Level_1.9.6.0.tar.gz\r\n",
        "https://tcga-data.nci.nih.gov/tcgafiles/ftp_auth/distro_ftpusers/anonymous/tumor/blca/cgcc/jhu-usc.edu/humanmethylation450/methylation/jhu-usc.edu_BLCA.HumanMethylation450.Level_1.9.7.0.tar.gz\r\n",
        "https://tcga-data.nci.nih.gov/tcgafiles/ftp_auth/distro_ftpusers/anonymous/tumor/blca/cgcc/jhu-usc.edu/humanmethylation450/methylation/jhu-usc.edu_BLCA.HumanMethylation450.Level_1.9.8.0.tar.gz\r\n",
        "https://tcga-data.nci.nih.gov/tcgafiles/ftp_auth/distro_ftpusers/anonymous/tumor/blca/cgcc/jhu-usc.edu/humanmethylation450/methylation/jhu-usc.edu_BLCA.HumanMethylation450.Level_1.9.9.0.tar.gz\r\n",
        "https://tcga-data.nci.nih.gov/tcgafiles/ftp_auth/distro_ftpusers/anonymous/tumor/blca/cgcc/jhu-usc.edu/humanmethylation450/methylation/jhu-usc.edu_BLCA.HumanMethylation450.aux.1.0.0.tar.gz\r\n",
        "https://tcga-data.nci.nih.gov/tcgafiles/ftp_auth/distro_ftpusers/anonymous/tumor/blca/cgcc/jhu-usc.edu/humanmethylation450/methylation/jhu-usc.edu_BLCA.HumanMethylation450.aux.1.1.0.tar.gz\r\n",
        "https://tcga-data.nci.nih.gov/tcgafiles/ftp_auth/distro_ftpusers/anonymous/tumor/blca/cgcc/jhu-usc.edu/humanmethylation450/methylation/jhu-usc.edu_BLCA.HumanMethylation450.aux.1.10.0.tar.gz\r\n",
        "https://tcga-data.nci.nih.gov/tcgafiles/ftp_auth/distro_ftpusers/anonymous/tumor/blca/cgcc/jhu-usc.edu/humanmethylation450/methylation/jhu-usc.edu_BLCA.HumanMethylation450.aux.1.11.0.tar.gz\r\n",
        "https://tcga-data.nci.nih.gov/tcgafiles/ftp_auth/distro_ftpusers/anonymous/tumor/blca/cgcc/jhu-usc.edu/humanmethylation450/methylation/jhu-usc.edu_BLCA.HumanMethylation450.aux.1.12.0.tar.gz\r\n",
        "https://tcga-data.nci.nih.gov/tcgafiles/ftp_auth/distro_ftpusers/anonymous/tumor/blca/cgcc/jhu-usc.edu/humanmethylation450/methylation/jhu-usc.edu_BLCA.HumanMethylation450.aux.1.13.0.tar.gz\r\n",
        "https://tcga-data.nci.nih.gov/tcgafiles/ftp_auth/distro_ftpusers/anonymous/tumor/blca/cgcc/jhu-usc.edu/humanmethylation450/methylation/jhu-usc.edu_BLCA.HumanMethylation450.aux.1.14.0.tar.gz\r\n",
        "https://tcga-data.nci.nih.gov/tcgafiles/ftp_auth/distro_ftpusers/anonymous/tumor/blca/cgcc/jhu-usc.edu/humanmethylation450/methylation/jhu-usc.edu_BLCA.HumanMethylation450.aux.1.15.0.tar.gz\r\n",
        "https://tcga-data.nci.nih.gov/tcgafiles/ftp_auth/distro_ftpusers/anonymous/tumor/blca/cgcc/jhu-usc.edu/humanmethylation450/methylation/jhu-usc.edu_BLCA.HumanMethylation450.aux.1.16.0.tar.gz\r\n",
        "https://tcga-data.nci.nih.gov/tcgafiles/ftp_auth/distro_ftpusers/anonymous/tumor/blca/cgcc/jhu-usc.edu/humanmethylation450/methylation/jhu-usc.edu_BLCA.HumanMethylation450.aux.1.17.0.tar.gz\r\n",
        "https://tcga-data.nci.nih.gov/tcgafiles/ftp_auth/distro_ftpusers/anonymous/tumor/blca/cgcc/jhu-usc.edu/humanmethylation450/methylation/jhu-usc.edu_BLCA.HumanMethylation450.aux.1.2.0.tar.gz\r\n",
        "https://tcga-data.nci.nih.gov/tcgafiles/ftp_auth/distro_ftpusers/anonymous/tumor/blca/cgcc/jhu-usc.edu/humanmethylation450/methylation/jhu-usc.edu_BLCA.HumanMethylation450.aux.1.3.0.tar.gz\r\n",
        "https://tcga-data.nci.nih.gov/tcgafiles/ftp_auth/distro_ftpusers/anonymous/tumor/blca/cgcc/jhu-usc.edu/humanmethylation450/methylation/jhu-usc.edu_BLCA.HumanMethylation450.aux.1.4.0.tar.gz\r\n",
        "https://tcga-data.nci.nih.gov/tcgafiles/ftp_auth/distro_ftpusers/anonymous/tumor/blca/cgcc/jhu-usc.edu/humanmethylation450/methylation/jhu-usc.edu_BLCA.HumanMethylation450.aux.1.5.0.tar.gz\r\n",
        "https://tcga-data.nci.nih.gov/tcgafiles/ftp_auth/distro_ftpusers/anonymous/tumor/blca/cgcc/jhu-usc.edu/humanmethylation450/methylation/jhu-usc.edu_BLCA.HumanMethylation450.aux.1.6.0.tar.gz\r\n",
        "https://tcga-data.nci.nih.gov/tcgafiles/ftp_auth/distro_ftpusers/anonymous/tumor/blca/cgcc/jhu-usc.edu/humanmethylation450/methylation/jhu-usc.edu_BLCA.HumanMethylation450.aux.1.7.0.tar.gz\r\n",
        "https://tcga-data.nci.nih.gov/tcgafiles/ftp_auth/distro_ftpusers/anonymous/tumor/blca/cgcc/jhu-usc.edu/humanmethylation450/methylation/jhu-usc.edu_BLCA.HumanMethylation450.aux.1.8.0.tar.gz\r\n",
        "https://tcga-data.nci.nih.gov/tcgafiles/ftp_auth/distro_ftpusers/anonymous/tumor/blca/cgcc/jhu-usc.edu/humanmethylation450/methylation/jhu-usc.edu_BLCA.HumanMethylation450.aux.1.9.0.tar.gz\r\n",
        "https://tcga-data.nci.nih.gov/tcgafiles/ftp_auth/distro_ftpusers/anonymous/tumor/blca/cgcc/jhu-usc.edu/humanmethylation450/methylation/jhu-usc.edu_BLCA.HumanMethylation450.mage-tab.1.0.0.tar.gz\r\n",
        "https://tcga-data.nci.nih.gov/tcgafiles/ftp_auth/distro_ftpusers/anonymous/tumor/blca/cgcc/jhu-usc.edu/humanmethylation450/methylation/jhu-usc.edu_BLCA.HumanMethylation450.mage-tab.1.1.0.tar.gz\r\n",
        "https://tcga-data.nci.nih.gov/tcgafiles/ftp_auth/distro_ftpusers/anonymous/tumor/blca/cgcc/jhu-usc.edu/humanmethylation450/methylation/jhu-usc.edu_BLCA.HumanMethylation450.mage-tab.1.10.0.tar.gz\r\n",
        "https://tcga-data.nci.nih.gov/tcgafiles/ftp_auth/distro_ftpusers/anonymous/tumor/blca/cgcc/jhu-usc.edu/humanmethylation450/methylation/jhu-usc.edu_BLCA.HumanMethylation450.mage-tab.1.11.0.tar.gz\r\n",
        "https://tcga-data.nci.nih.gov/tcgafiles/ftp_auth/distro_ftpusers/anonymous/tumor/blca/cgcc/jhu-usc.edu/humanmethylation450/methylation/jhu-usc.edu_BLCA.HumanMethylation450.mage-tab.1.12.0.tar.gz\r\n",
        "https://tcga-data.nci.nih.gov/tcgafiles/ftp_auth/distro_ftpusers/anonymous/tumor/blca/cgcc/jhu-usc.edu/humanmethylation450/methylation/jhu-usc.edu_BLCA.HumanMethylation450.mage-tab.1.13.0.tar.gz\r\n",
        "https://tcga-data.nci.nih.gov/tcgafiles/ftp_auth/distro_ftpusers/anonymous/tumor/blca/cgcc/jhu-usc.edu/humanmethylation450/methylation/jhu-usc.edu_BLCA.HumanMethylation450.mage-tab.1.14.0.tar.gz\r\n",
        "https://tcga-data.nci.nih.gov/tcgafiles/ftp_auth/distro_ftpusers/anonymous/tumor/blca/cgcc/jhu-usc.edu/humanmethylation450/methylation/jhu-usc.edu_BLCA.HumanMethylation450.mage-tab.1.15.0.tar.gz\r\n",
        "https://tcga-data.nci.nih.gov/tcgafiles/ftp_auth/distro_ftpusers/anonymous/tumor/blca/cgcc/jhu-usc.edu/humanmethylation450/methylation/jhu-usc.edu_BLCA.HumanMethylation450.mage-tab.1.16.0.tar.gz\r\n",
        "https://tcga-data.nci.nih.gov/tcgafiles/ftp_auth/distro_ftpusers/anonymous/tumor/blca/cgcc/jhu-usc.edu/humanmethylation450/methylation/jhu-usc.edu_BLCA.HumanMethylation450.mage-tab.1.17.0.tar.gz\r\n",
        "https://tcga-data.nci.nih.gov/tcgafiles/ftp_auth/distro_ftpusers/anonymous/tumor/blca/cgcc/jhu-usc.edu/humanmethylation450/methylation/jhu-usc.edu_BLCA.HumanMethylation450.mage-tab.1.2.0.tar.gz\r\n",
        "https://tcga-data.nci.nih.gov/tcgafiles/ftp_auth/distro_ftpusers/anonymous/tumor/blca/cgcc/jhu-usc.edu/humanmethylation450/methylation/jhu-usc.edu_BLCA.HumanMethylation450.mage-tab.1.3.0.tar.gz\r\n",
        "https://tcga-data.nci.nih.gov/tcgafiles/ftp_auth/distro_ftpusers/anonymous/tumor/blca/cgcc/jhu-usc.edu/humanmethylation450/methylation/jhu-usc.edu_BLCA.HumanMethylation450.mage-tab.1.4.0.tar.gz\r\n",
        "https://tcga-data.nci.nih.gov/tcgafiles/ftp_auth/distro_ftpusers/anonymous/tumor/blca/cgcc/jhu-usc.edu/humanmethylation450/methylation/jhu-usc.edu_BLCA.HumanMethylation450.mage-tab.1.5.0.tar.gz\r\n",
        "https://tcga-data.nci.nih.gov/tcgafiles/ftp_auth/distro_ftpusers/anonymous/tumor/blca/cgcc/jhu-usc.edu/humanmethylation450/methylation/jhu-usc.edu_BLCA.HumanMethylation450.mage-tab.1.6.0.tar.gz\r\n",
        "https://tcga-data.nci.nih.gov/tcgafiles/ftp_auth/distro_ftpusers/anonymous/tumor/blca/cgcc/jhu-usc.edu/humanmethylation450/methylation/jhu-usc.edu_BLCA.HumanMethylation450.mage-tab.1.7.0.tar.gz\r\n",
        "https://tcga-data.nci.nih.gov/tcgafiles/ftp_auth/distro_ftpusers/anonymous/tumor/blca/cgcc/jhu-usc.edu/humanmethylation450/methylation/jhu-usc.edu_BLCA.HumanMethylation450.mage-tab.1.8.0.tar.gz\r\n",
        "https://tcga-data.nci.nih.gov/tcgafiles/ftp_auth/distro_ftpusers/anonymous/tumor/blca/cgcc/jhu-usc.edu/humanmethylation450/methylation/jhu-usc.edu_BLCA.HumanMethylation450.mage-tab.1.9.0.tar.gz\r\n",
        "https://tcga-data.nci.nih.gov/tcgafiles/ftp_auth/distro_ftpusers/anonymous/tumor/blca/cgcc/jhu-usc.edu/humanmethylation450/methylation/jhu-usc.edu_BLCA.HumanMethylation450.aux.1.0.0.tar.gz\r\n",
        "https://tcga-data.nci.nih.gov/tcgafiles/ftp_auth/distro_ftpusers/anonymous/tumor/blca/cgcc/jhu-usc.edu/humanmethylation450/methylation/jhu-usc.edu_BLCA.HumanMethylation450.aux.1.1.0.tar.gz\r\n",
        "https://tcga-data.nci.nih.gov/tcgafiles/ftp_auth/distro_ftpusers/anonymous/tumor/blca/cgcc/jhu-usc.edu/humanmethylation450/methylation/jhu-usc.edu_BLCA.HumanMethylation450.aux.1.10.0.tar.gz\r\n",
        "https://tcga-data.nci.nih.gov/tcgafiles/ftp_auth/distro_ftpusers/anonymous/tumor/blca/cgcc/jhu-usc.edu/humanmethylation450/methylation/jhu-usc.edu_BLCA.HumanMethylation450.aux.1.11.0.tar.gz\r\n",
        "https://tcga-data.nci.nih.gov/tcgafiles/ftp_auth/distro_ftpusers/anonymous/tumor/blca/cgcc/jhu-usc.edu/humanmethylation450/methylation/jhu-usc.edu_BLCA.HumanMethylation450.aux.1.12.0.tar.gz\r\n",
        "https://tcga-data.nci.nih.gov/tcgafiles/ftp_auth/distro_ftpusers/anonymous/tumor/blca/cgcc/jhu-usc.edu/humanmethylation450/methylation/jhu-usc.edu_BLCA.HumanMethylation450.aux.1.13.0.tar.gz\r\n",
        "https://tcga-data.nci.nih.gov/tcgafiles/ftp_auth/distro_ftpusers/anonymous/tumor/blca/cgcc/jhu-usc.edu/humanmethylation450/methylation/jhu-usc.edu_BLCA.HumanMethylation450.aux.1.14.0.tar.gz\r\n",
        "https://tcga-data.nci.nih.gov/tcgafiles/ftp_auth/distro_ftpusers/anonymous/tumor/blca/cgcc/jhu-usc.edu/humanmethylation450/methylation/jhu-usc.edu_BLCA.HumanMethylation450.aux.1.15.0.tar.gz\r\n",
        "https://tcga-data.nci.nih.gov/tcgafiles/ftp_auth/distro_ftpusers/anonymous/tumor/blca/cgcc/jhu-usc.edu/humanmethylation450/methylation/jhu-usc.edu_BLCA.HumanMethylation450.aux.1.16.0.tar.gz\r\n",
        "https://tcga-data.nci.nih.gov/tcgafiles/ftp_auth/distro_ftpusers/anonymous/tumor/blca/cgcc/jhu-usc.edu/humanmethylation450/methylation/jhu-usc.edu_BLCA.HumanMethylation450.aux.1.17.0.tar.gz\r\n",
        "https://tcga-data.nci.nih.gov/tcgafiles/ftp_auth/distro_ftpusers/anonymous/tumor/blca/cgcc/jhu-usc.edu/humanmethylation450/methylation/jhu-usc.edu_BLCA.HumanMethylation450.aux.1.2.0.tar.gz\r\n",
        "https://tcga-data.nci.nih.gov/tcgafiles/ftp_auth/distro_ftpusers/anonymous/tumor/blca/cgcc/jhu-usc.edu/humanmethylation450/methylation/jhu-usc.edu_BLCA.HumanMethylation450.aux.1.3.0.tar.gz\r\n",
        "https://tcga-data.nci.nih.gov/tcgafiles/ftp_auth/distro_ftpusers/anonymous/tumor/blca/cgcc/jhu-usc.edu/humanmethylation450/methylation/jhu-usc.edu_BLCA.HumanMethylation450.aux.1.4.0.tar.gz\r\n",
        "https://tcga-data.nci.nih.gov/tcgafiles/ftp_auth/distro_ftpusers/anonymous/tumor/blca/cgcc/jhu-usc.edu/humanmethylation450/methylation/jhu-usc.edu_BLCA.HumanMethylation450.aux.1.5.0.tar.gz\r\n",
        "https://tcga-data.nci.nih.gov/tcgafiles/ftp_auth/distro_ftpusers/anonymous/tumor/blca/cgcc/jhu-usc.edu/humanmethylation450/methylation/jhu-usc.edu_BLCA.HumanMethylation450.aux.1.6.0.tar.gz\r\n",
        "https://tcga-data.nci.nih.gov/tcgafiles/ftp_auth/distro_ftpusers/anonymous/tumor/blca/cgcc/jhu-usc.edu/humanmethylation450/methylation/jhu-usc.edu_BLCA.HumanMethylation450.aux.1.7.0.tar.gz\r\n",
        "https://tcga-data.nci.nih.gov/tcgafiles/ftp_auth/distro_ftpusers/anonymous/tumor/blca/cgcc/jhu-usc.edu/humanmethylation450/methylation/jhu-usc.edu_BLCA.HumanMethylation450.aux.1.8.0.tar.gz\r\n",
        "https://tcga-data.nci.nih.gov/tcgafiles/ftp_auth/distro_ftpusers/anonymous/tumor/blca/cgcc/jhu-usc.edu/humanmethylation450/methylation/jhu-usc.edu_BLCA.HumanMethylation450.aux.1.9.0.tar.gz\r\n",
        "https://tcga-data.nci.nih.gov/tcgafiles/ftp_auth/distro_ftpusers/anonymous/tumor/uvm/cgcc/jhu-usc.edu/humanmethylation450/methylation/jhu-usc.edu_UVM.HumanMethylation450.Level_1.1.0.0.tar.gz\r\n",
        "https://tcga-data.nci.nih.gov/tcgafiles/ftp_auth/distro_ftpusers/anonymous/tumor/uvm/cgcc/jhu-usc.edu/humanmethylation450/methylation/jhu-usc.edu_UVM.HumanMethylation450.aux.1.0.0.tar.gz\r\n",
        "https://tcga-data.nci.nih.gov/tcgafiles/ftp_auth/distro_ftpusers/anonymous/tumor/uvm/cgcc/jhu-usc.edu/humanmethylation450/methylation/jhu-usc.edu_UVM.HumanMethylation450.mage-tab.1.0.0.tar.gz\r\n",
        "https://tcga-data.nci.nih.gov/tcgafiles/ftp_auth/distro_ftpusers/anonymous/tumor/uvm/cgcc/jhu-usc.edu/humanmethylation450/methylation/jhu-usc.edu_UVM.HumanMethylation450.aux.1.0.0.tar.gz\r\n"
       ]
      }
     ],
     "prompt_number": 18
    },
    {
     "cell_type": "markdown",
     "metadata": {},
     "source": [
      "<b>Download tar.gz files from list extracted</b>"
     ]
    },
    {
     "cell_type": "code",
     "collapsed": false,
     "input": [
      "!wget -q -i tar_links.txt "
     ],
     "language": "python",
     "metadata": {},
     "outputs": [],
     "prompt_number": 19
    },
    {
     "cell_type": "markdown",
     "metadata": {},
     "source": [
      "<b>Unzip, Extract, rearrange and count files using bash script </b>\n",
      "* First, tar.gz files are unzipped and extracted\n",
      "* Excess tar files are removed\n",
      "* Pertinent files are then moved to corresponding folders and each folder is counted for the number of idat files present"
     ]
    },
    {
     "cell_type": "code",
     "collapsed": false,
     "input": [
      "%%bash\n",
      "#!/bin/bash\n",
      "for i in *tar.gz; do  tar -xkizf $i; done\n",
      "find . -type f -name '*tar.gz' -exec rm {} +"
     ],
     "language": "python",
     "metadata": {},
     "outputs": []
    },
    {
     "cell_type": "markdown",
     "metadata": {},
     "source": [
      "<b>List out folder directory</b>"
     ]
    },
    {
     "cell_type": "code",
     "collapsed": false,
     "input": [
      "folders = !ls -f jhu-usc.edu*"
     ],
     "language": "python",
     "metadata": {},
     "outputs": [],
     "prompt_number": 24
    },
    {
     "cell_type": "markdown",
     "metadata": {},
     "source": [
      "<b>Pull out unique list of cancers</b>"
     ]
    },
    {
     "cell_type": "code",
     "collapsed": false,
     "input": [
      "pull_cancer = lambda f: f.split('_')[1].split('.')[0]\n",
      "cancers = {pull_cancer(f) for f in folders}"
     ],
     "language": "python",
     "metadata": {},
     "outputs": [],
     "prompt_number": 26
    },
    {
     "cell_type": "code",
     "collapsed": false,
     "input": [
      "cancers"
     ],
     "language": "python",
     "metadata": {},
     "outputs": [
      {
       "metadata": {},
       "output_type": "pyout",
       "prompt_number": 27,
       "text": [
        "{'ACC', 'BLCA', 'UVM'}"
       ]
      }
     ],
     "prompt_number": 27
    },
    {
     "cell_type": "markdown",
     "metadata": {},
     "source": [
      "<b>Move files into cancer level directory</b>"
     ]
    },
    {
     "cell_type": "code",
     "collapsed": false,
     "input": [
      "for cancer in cancers:\n",
      "    sub_f = [f for f in folders if pull_cancer(f) == cancer]\n",
      "    !mkdir $cancer\n",
      "    for f in sub_f:\n",
      "        !cp $f/* $cancer"
     ],
     "language": "python",
     "metadata": {},
     "outputs": [
      {
       "output_type": "stream",
       "stream": "stdout",
       "text": [
        "cp: cannot stat \u2018jhu-usc.edu_ACC.HumanMethylation450.Level_1.1.0.0.tar.gz/*\u2019: Not a directory\r\n"
       ]
      },
      {
       "output_type": "stream",
       "stream": "stdout",
       "text": [
        "cp: cannot stat \u2018jhu-usc.edu_ACC.HumanMethylation450.aux.1.0.0.tar.gz/*\u2019: Not a directory\r\n"
       ]
      },
      {
       "output_type": "stream",
       "stream": "stdout",
       "text": [
        "cp: cannot stat \u2018jhu-usc.edu_ACC.HumanMethylation450.aux.1.0.0.tar.gz.1/*\u2019: Not a directory\r\n"
       ]
      },
      {
       "output_type": "stream",
       "stream": "stdout",
       "text": [
        "cp: cannot stat \u2018jhu-usc.edu_ACC.HumanMethylation450.mage-tab.1.0.0.tar.gz/*\u2019: Not a directory\r\n"
       ]
      },
      {
       "output_type": "stream",
       "stream": "stdout",
       "text": [
        "cp: cannot stat \u2018jhu-usc.edu_BLCA.HumanMethylation450.Level_1.1.0.0.tar.gz/*\u2019: Not a directory\r\n"
       ]
      },
      {
       "output_type": "stream",
       "stream": "stdout",
       "text": [
        "cp: cannot stat \u2018jhu-usc.edu_BLCA.HumanMethylation450.Level_1.1.1.0.tar.gz/*\u2019: Not a directory\r\n"
       ]
      },
      {
       "output_type": "stream",
       "stream": "stdout",
       "text": [
        "cp: cannot stat \u2018jhu-usc.edu_BLCA.HumanMethylation450.Level_1.1.10.0.tar.gz/*\u2019: Not a directory\r\n"
       ]
      },
      {
       "output_type": "stream",
       "stream": "stdout",
       "text": [
        "cp: cannot stat \u2018jhu-usc.edu_BLCA.HumanMethylation450.Level_1.1.11.0.tar.gz/*\u2019: Not a directory\r\n"
       ]
      },
      {
       "output_type": "stream",
       "stream": "stdout",
       "text": [
        "cp: cannot stat \u2018jhu-usc.edu_BLCA.HumanMethylation450.Level_1.1.12.0.tar.gz/*\u2019: Not a directory\r\n"
       ]
      },
      {
       "output_type": "stream",
       "stream": "stdout",
       "text": [
        "cp: cannot stat \u2018jhu-usc.edu_BLCA.HumanMethylation450.Level_1.1.13.0.tar.gz/*\u2019: Not a directory\r\n"
       ]
      },
      {
       "output_type": "stream",
       "stream": "stdout",
       "text": [
        "cp: cannot stat \u2018jhu-usc.edu_BLCA.HumanMethylation450.Level_1.1.14.0.tar.gz/*\u2019: Not a directory\r\n"
       ]
      },
      {
       "output_type": "stream",
       "stream": "stdout",
       "text": [
        "cp: cannot stat \u2018jhu-usc.edu_BLCA.HumanMethylation450.Level_1.1.15.0.tar.gz/*\u2019: Not a directory\r\n"
       ]
      },
      {
       "output_type": "stream",
       "stream": "stdout",
       "text": [
        "cp: cannot stat \u2018jhu-usc.edu_BLCA.HumanMethylation450.Level_1.1.16.0.tar.gz/*\u2019: Not a directory\r\n"
       ]
      },
      {
       "output_type": "stream",
       "stream": "stdout",
       "text": [
        "cp: cannot stat \u2018jhu-usc.edu_BLCA.HumanMethylation450.Level_1.1.17.0.tar.gz/*\u2019: Not a directory\r\n"
       ]
      },
      {
       "output_type": "stream",
       "stream": "stdout",
       "text": [
        "cp: cannot stat \u2018jhu-usc.edu_BLCA.HumanMethylation450.Level_1.1.2.0.tar.gz/*\u2019: Not a directory\r\n"
       ]
      },
      {
       "output_type": "stream",
       "stream": "stdout",
       "text": [
        "cp: cannot stat \u2018jhu-usc.edu_BLCA.HumanMethylation450.Level_1.1.3.0.tar.gz/*\u2019: Not a directory\r\n"
       ]
      },
      {
       "output_type": "stream",
       "stream": "stdout",
       "text": [
        "cp: cannot stat \u2018jhu-usc.edu_BLCA.HumanMethylation450.Level_1.1.4.0.tar.gz/*\u2019: Not a directory\r\n"
       ]
      },
      {
       "output_type": "stream",
       "stream": "stdout",
       "text": [
        "cp: cannot stat \u2018jhu-usc.edu_BLCA.HumanMethylation450.Level_1.1.5.0.tar.gz/*\u2019: Not a directory\r\n"
       ]
      },
      {
       "output_type": "stream",
       "stream": "stdout",
       "text": [
        "cp: cannot stat \u2018jhu-usc.edu_BLCA.HumanMethylation450.Level_1.1.6.0.tar.gz/*\u2019: Not a directory\r\n"
       ]
      },
      {
       "output_type": "stream",
       "stream": "stdout",
       "text": [
        "cp: cannot stat \u2018jhu-usc.edu_BLCA.HumanMethylation450.Level_1.1.7.0.tar.gz/*\u2019: Not a directory\r\n"
       ]
      },
      {
       "output_type": "stream",
       "stream": "stdout",
       "text": [
        "cp: cannot stat \u2018jhu-usc.edu_BLCA.HumanMethylation450.Level_1.1.8.0.tar.gz/*\u2019: Not a directory\r\n"
       ]
      },
      {
       "output_type": "stream",
       "stream": "stdout",
       "text": [
        "cp: cannot stat \u2018jhu-usc.edu_BLCA.HumanMethylation450.Level_1.1.9.0.tar.gz/*\u2019: Not a directory\r\n"
       ]
      },
      {
       "output_type": "stream",
       "stream": "stdout",
       "text": [
        "cp: cannot stat \u2018jhu-usc.edu_BLCA.HumanMethylation450.Level_1.10.10.0.tar.gz/*\u2019: Not a directory\r\n"
       ]
      },
      {
       "output_type": "stream",
       "stream": "stdout",
       "text": [
        "cp: cannot stat \u2018jhu-usc.edu_BLCA.HumanMethylation450.Level_1.10.11.0.tar.gz/*\u2019: Not a directory\r\n"
       ]
      },
      {
       "output_type": "stream",
       "stream": "stdout",
       "text": [
        "cp: cannot stat \u2018jhu-usc.edu_BLCA.HumanMethylation450.Level_1.10.12.0.tar.gz/*\u2019: Not a directory\r\n"
       ]
      },
      {
       "output_type": "stream",
       "stream": "stdout",
       "text": [
        "cp: cannot stat \u2018jhu-usc.edu_BLCA.HumanMethylation450.Level_1.10.13.0.tar.gz/*\u2019: Not a directory\r\n"
       ]
      },
      {
       "output_type": "stream",
       "stream": "stdout",
       "text": [
        "cp: cannot stat \u2018jhu-usc.edu_BLCA.HumanMethylation450.Level_1.10.14.0.tar.gz/*\u2019: Not a directory\r\n"
       ]
      },
      {
       "output_type": "stream",
       "stream": "stdout",
       "text": [
        "cp: cannot stat \u2018jhu-usc.edu_BLCA.HumanMethylation450.Level_1.10.15.0.tar.gz/*\u2019: Not a directory\r\n"
       ]
      },
      {
       "output_type": "stream",
       "stream": "stdout",
       "text": [
        "cp: cannot stat \u2018jhu-usc.edu_BLCA.HumanMethylation450.Level_1.10.16.0.tar.gz/*\u2019: Not a directory\r\n"
       ]
      },
      {
       "output_type": "stream",
       "stream": "stdout",
       "text": [
        "cp: cannot stat \u2018jhu-usc.edu_BLCA.HumanMethylation450.Level_1.10.17.0.tar.gz/*\u2019: Not a directory\r\n"
       ]
      },
      {
       "output_type": "stream",
       "stream": "stdout",
       "text": [
        "cp: cannot stat \u2018jhu-usc.edu_BLCA.HumanMethylation450.Level_1.10.4.0.tar.gz/*\u2019: Not a directory\r\n"
       ]
      },
      {
       "output_type": "stream",
       "stream": "stdout",
       "text": [
        "cp: cannot stat \u2018jhu-usc.edu_BLCA.HumanMethylation450.Level_1.10.5.0.tar.gz/*\u2019: Not a directory\r\n"
       ]
      },
      {
       "output_type": "stream",
       "stream": "stdout",
       "text": [
        "cp: cannot stat \u2018jhu-usc.edu_BLCA.HumanMethylation450.Level_1.10.6.0.tar.gz/*\u2019: Not a directory\r\n"
       ]
      },
      {
       "output_type": "stream",
       "stream": "stdout",
       "text": [
        "cp: cannot stat \u2018jhu-usc.edu_BLCA.HumanMethylation450.Level_1.10.7.0.tar.gz/*\u2019: Not a directory\r\n"
       ]
      },
      {
       "output_type": "stream",
       "stream": "stdout",
       "text": [
        "cp: cannot stat \u2018jhu-usc.edu_BLCA.HumanMethylation450.Level_1.10.8.0.tar.gz/*\u2019: Not a directory\r\n"
       ]
      },
      {
       "output_type": "stream",
       "stream": "stdout",
       "text": [
        "cp: cannot stat \u2018jhu-usc.edu_BLCA.HumanMethylation450.Level_1.10.9.0.tar.gz/*\u2019: Not a directory\r\n"
       ]
      },
      {
       "output_type": "stream",
       "stream": "stdout",
       "text": [
        "cp: cannot stat \u2018jhu-usc.edu_BLCA.HumanMethylation450.Level_1.11.10.0.tar.gz/*\u2019: Not a directory\r\n"
       ]
      },
      {
       "output_type": "stream",
       "stream": "stdout",
       "text": [
        "cp: cannot stat \u2018jhu-usc.edu_BLCA.HumanMethylation450.Level_1.11.11.0.tar.gz/*\u2019: Not a directory\r\n"
       ]
      },
      {
       "output_type": "stream",
       "stream": "stdout",
       "text": [
        "cp: cannot stat \u2018jhu-usc.edu_BLCA.HumanMethylation450.Level_1.11.12.0.tar.gz/*\u2019: Not a directory\r\n"
       ]
      },
      {
       "output_type": "stream",
       "stream": "stdout",
       "text": [
        "cp: cannot stat \u2018jhu-usc.edu_BLCA.HumanMethylation450.Level_1.11.13.0.tar.gz/*\u2019: Not a directory\r\n"
       ]
      },
      {
       "output_type": "stream",
       "stream": "stdout",
       "text": [
        "cp: cannot stat \u2018jhu-usc.edu_BLCA.HumanMethylation450.Level_1.11.14.0.tar.gz/*\u2019: Not a directory\r\n"
       ]
      },
      {
       "output_type": "stream",
       "stream": "stdout",
       "text": [
        "cp: cannot stat \u2018jhu-usc.edu_BLCA.HumanMethylation450.Level_1.11.15.0.tar.gz/*\u2019: Not a directory\r\n"
       ]
      },
      {
       "output_type": "stream",
       "stream": "stdout",
       "text": [
        "cp: cannot stat \u2018jhu-usc.edu_BLCA.HumanMethylation450.Level_1.11.16.0.tar.gz/*\u2019: Not a directory\r\n"
       ]
      },
      {
       "output_type": "stream",
       "stream": "stdout",
       "text": [
        "cp: cannot stat \u2018jhu-usc.edu_BLCA.HumanMethylation450.Level_1.11.17.0.tar.gz/*\u2019: Not a directory\r\n"
       ]
      },
      {
       "output_type": "stream",
       "stream": "stdout",
       "text": [
        "cp: cannot stat \u2018jhu-usc.edu_BLCA.HumanMethylation450.Level_1.11.4.0.tar.gz/*\u2019: Not a directory\r\n"
       ]
      },
      {
       "output_type": "stream",
       "stream": "stdout",
       "text": [
        "cp: cannot stat \u2018jhu-usc.edu_BLCA.HumanMethylation450.Level_1.11.5.0.tar.gz/*\u2019: Not a directory\r\n"
       ]
      },
      {
       "output_type": "stream",
       "stream": "stdout",
       "text": [
        "cp: cannot stat \u2018jhu-usc.edu_BLCA.HumanMethylation450.Level_1.11.6.0.tar.gz/*\u2019: Not a directory\r\n"
       ]
      },
      {
       "output_type": "stream",
       "stream": "stdout",
       "text": [
        "cp: cannot stat \u2018jhu-usc.edu_BLCA.HumanMethylation450.Level_1.11.7.0.tar.gz/*\u2019: Not a directory\r\n"
       ]
      },
      {
       "output_type": "stream",
       "stream": "stdout",
       "text": [
        "cp: cannot stat \u2018jhu-usc.edu_BLCA.HumanMethylation450.Level_1.11.8.0.tar.gz/*\u2019: Not a directory\r\n"
       ]
      },
      {
       "output_type": "stream",
       "stream": "stdout",
       "text": [
        "cp: cannot stat \u2018jhu-usc.edu_BLCA.HumanMethylation450.Level_1.11.9.0.tar.gz/*\u2019: Not a directory\r\n"
       ]
      },
      {
       "output_type": "stream",
       "stream": "stdout",
       "text": [
        "cp: cannot stat \u2018jhu-usc.edu_BLCA.HumanMethylation450.Level_1.12.10.0.tar.gz/*\u2019: Not a directory\r\n"
       ]
      },
      {
       "output_type": "stream",
       "stream": "stdout",
       "text": [
        "cp: cannot stat \u2018jhu-usc.edu_BLCA.HumanMethylation450.Level_1.12.11.0.tar.gz/*\u2019: Not a directory\r\n"
       ]
      },
      {
       "output_type": "stream",
       "stream": "stdout",
       "text": [
        "cp: cannot stat \u2018jhu-usc.edu_BLCA.HumanMethylation450.Level_1.12.12.0.tar.gz/*\u2019: Not a directory\r\n"
       ]
      },
      {
       "output_type": "stream",
       "stream": "stdout",
       "text": [
        "cp: cannot stat \u2018jhu-usc.edu_BLCA.HumanMethylation450.Level_1.12.13.0.tar.gz/*\u2019: Not a directory\r\n"
       ]
      },
      {
       "output_type": "stream",
       "stream": "stdout",
       "text": [
        "cp: cannot stat \u2018jhu-usc.edu_BLCA.HumanMethylation450.Level_1.12.14.0.tar.gz/*\u2019: Not a directory\r\n"
       ]
      },
      {
       "output_type": "stream",
       "stream": "stdout",
       "text": [
        "cp: cannot stat \u2018jhu-usc.edu_BLCA.HumanMethylation450.Level_1.12.15.0.tar.gz/*\u2019: Not a directory\r\n"
       ]
      },
      {
       "output_type": "stream",
       "stream": "stdout",
       "text": [
        "cp: cannot stat \u2018jhu-usc.edu_BLCA.HumanMethylation450.Level_1.12.16.0.tar.gz/*\u2019: Not a directory\r\n"
       ]
      },
      {
       "output_type": "stream",
       "stream": "stdout",
       "text": [
        "cp: cannot stat \u2018jhu-usc.edu_BLCA.HumanMethylation450.Level_1.12.17.0.tar.gz/*\u2019: Not a directory\r\n"
       ]
      },
      {
       "output_type": "stream",
       "stream": "stdout",
       "text": [
        "cp: cannot stat \u2018jhu-usc.edu_BLCA.HumanMethylation450.Level_1.12.7.0.tar.gz/*\u2019: Not a directory\r\n"
       ]
      },
      {
       "output_type": "stream",
       "stream": "stdout",
       "text": [
        "cp: cannot stat \u2018jhu-usc.edu_BLCA.HumanMethylation450.Level_1.12.8.0.tar.gz/*\u2019: Not a directory\r\n"
       ]
      },
      {
       "output_type": "stream",
       "stream": "stdout",
       "text": [
        "cp: cannot stat \u2018jhu-usc.edu_BLCA.HumanMethylation450.Level_1.12.9.0.tar.gz/*\u2019: Not a directory\r\n"
       ]
      },
      {
       "output_type": "stream",
       "stream": "stdout",
       "text": [
        "cp: cannot stat \u2018jhu-usc.edu_BLCA.HumanMethylation450.Level_1.13.10.0.tar.gz/*\u2019: Not a directory\r\n"
       ]
      },
      {
       "output_type": "stream",
       "stream": "stdout",
       "text": [
        "cp: cannot stat \u2018jhu-usc.edu_BLCA.HumanMethylation450.Level_1.13.11.0.tar.gz/*\u2019: Not a directory\r\n"
       ]
      },
      {
       "output_type": "stream",
       "stream": "stdout",
       "text": [
        "cp: cannot stat \u2018jhu-usc.edu_BLCA.HumanMethylation450.Level_1.13.12.0.tar.gz/*\u2019: Not a directory\r\n"
       ]
      },
      {
       "output_type": "stream",
       "stream": "stdout",
       "text": [
        "cp: cannot stat \u2018jhu-usc.edu_BLCA.HumanMethylation450.Level_1.13.13.0.tar.gz/*\u2019: Not a directory\r\n"
       ]
      },
      {
       "output_type": "stream",
       "stream": "stdout",
       "text": [
        "cp: cannot stat \u2018jhu-usc.edu_BLCA.HumanMethylation450.Level_1.13.14.0.tar.gz/*\u2019: Not a directory\r\n"
       ]
      },
      {
       "output_type": "stream",
       "stream": "stdout",
       "text": [
        "cp: cannot stat \u2018jhu-usc.edu_BLCA.HumanMethylation450.Level_1.13.15.0.tar.gz/*\u2019: Not a directory\r\n"
       ]
      },
      {
       "output_type": "stream",
       "stream": "stdout",
       "text": [
        "cp: cannot stat \u2018jhu-usc.edu_BLCA.HumanMethylation450.Level_1.13.16.0.tar.gz/*\u2019: Not a directory\r\n"
       ]
      },
      {
       "output_type": "stream",
       "stream": "stdout",
       "text": [
        "cp: cannot stat \u2018jhu-usc.edu_BLCA.HumanMethylation450.Level_1.13.17.0.tar.gz/*\u2019: Not a directory\r\n"
       ]
      },
      {
       "output_type": "stream",
       "stream": "stdout",
       "text": [
        "cp: cannot stat \u2018jhu-usc.edu_BLCA.HumanMethylation450.Level_1.13.8.0.tar.gz/*\u2019: Not a directory\r\n"
       ]
      },
      {
       "output_type": "stream",
       "stream": "stdout",
       "text": [
        "cp: cannot stat \u2018jhu-usc.edu_BLCA.HumanMethylation450.Level_1.13.9.0.tar.gz/*\u2019: Not a directory\r\n"
       ]
      },
      {
       "output_type": "stream",
       "stream": "stdout",
       "text": [
        "cp: cannot stat \u2018jhu-usc.edu_BLCA.HumanMethylation450.Level_1.14.10.0.tar.gz/*\u2019: Not a directory\r\n"
       ]
      },
      {
       "output_type": "stream",
       "stream": "stdout",
       "text": [
        "cp: cannot stat \u2018jhu-usc.edu_BLCA.HumanMethylation450.Level_1.14.11.0.tar.gz/*\u2019: Not a directory\r\n"
       ]
      },
      {
       "output_type": "stream",
       "stream": "stdout",
       "text": [
        "cp: cannot stat \u2018jhu-usc.edu_BLCA.HumanMethylation450.Level_1.14.12.0.tar.gz/*\u2019: Not a directory\r\n"
       ]
      },
      {
       "output_type": "stream",
       "stream": "stdout",
       "text": [
        "cp: cannot stat \u2018jhu-usc.edu_BLCA.HumanMethylation450.Level_1.14.13.0.tar.gz/*\u2019: Not a directory\r\n"
       ]
      },
      {
       "output_type": "stream",
       "stream": "stdout",
       "text": [
        "cp: cannot stat \u2018jhu-usc.edu_BLCA.HumanMethylation450.Level_1.14.14.0.tar.gz/*\u2019: Not a directory\r\n"
       ]
      },
      {
       "output_type": "stream",
       "stream": "stdout",
       "text": [
        "cp: cannot stat \u2018jhu-usc.edu_BLCA.HumanMethylation450.Level_1.14.15.0.tar.gz/*\u2019: Not a directory\r\n"
       ]
      },
      {
       "output_type": "stream",
       "stream": "stdout",
       "text": [
        "cp: cannot stat \u2018jhu-usc.edu_BLCA.HumanMethylation450.Level_1.14.16.0.tar.gz/*\u2019: Not a directory\r\n"
       ]
      },
      {
       "output_type": "stream",
       "stream": "stdout",
       "text": [
        "cp: cannot stat \u2018jhu-usc.edu_BLCA.HumanMethylation450.Level_1.14.17.0.tar.gz/*\u2019: Not a directory\r\n"
       ]
      },
      {
       "output_type": "stream",
       "stream": "stdout",
       "text": [
        "cp: cannot stat \u2018jhu-usc.edu_BLCA.HumanMethylation450.Level_1.14.9.0.tar.gz/*\u2019: Not a directory\r\n"
       ]
      },
      {
       "output_type": "stream",
       "stream": "stdout",
       "text": [
        "cp: cannot stat \u2018jhu-usc.edu_BLCA.HumanMethylation450.Level_1.15.10.0.tar.gz/*\u2019: Not a directory\r\n"
       ]
      },
      {
       "output_type": "stream",
       "stream": "stdout",
       "text": [
        "cp: cannot stat \u2018jhu-usc.edu_BLCA.HumanMethylation450.Level_1.15.11.0.tar.gz/*\u2019: Not a directory\r\n"
       ]
      },
      {
       "output_type": "stream",
       "stream": "stdout",
       "text": [
        "cp: cannot stat \u2018jhu-usc.edu_BLCA.HumanMethylation450.Level_1.15.12.0.tar.gz/*\u2019: Not a directory\r\n"
       ]
      },
      {
       "output_type": "stream",
       "stream": "stdout",
       "text": [
        "cp: cannot stat \u2018jhu-usc.edu_BLCA.HumanMethylation450.Level_1.15.13.0.tar.gz/*\u2019: Not a directory\r\n"
       ]
      },
      {
       "output_type": "stream",
       "stream": "stdout",
       "text": [
        "cp: cannot stat \u2018jhu-usc.edu_BLCA.HumanMethylation450.Level_1.15.14.0.tar.gz/*\u2019: Not a directory\r\n"
       ]
      },
      {
       "output_type": "stream",
       "stream": "stdout",
       "text": [
        "cp: cannot stat \u2018jhu-usc.edu_BLCA.HumanMethylation450.Level_1.15.15.0.tar.gz/*\u2019: Not a directory\r\n"
       ]
      },
      {
       "output_type": "stream",
       "stream": "stdout",
       "text": [
        "cp: cannot stat \u2018jhu-usc.edu_BLCA.HumanMethylation450.Level_1.15.16.0.tar.gz/*\u2019: Not a directory\r\n"
       ]
      },
      {
       "output_type": "stream",
       "stream": "stdout",
       "text": [
        "cp: cannot stat \u2018jhu-usc.edu_BLCA.HumanMethylation450.Level_1.15.17.0.tar.gz/*\u2019: Not a directory\r\n"
       ]
      },
      {
       "output_type": "stream",
       "stream": "stdout",
       "text": [
        "cp: cannot stat \u2018jhu-usc.edu_BLCA.HumanMethylation450.Level_1.16.11.0.tar.gz/*\u2019: Not a directory\r\n"
       ]
      },
      {
       "output_type": "stream",
       "stream": "stdout",
       "text": [
        "cp: cannot stat \u2018jhu-usc.edu_BLCA.HumanMethylation450.Level_1.16.12.0.tar.gz/*\u2019: Not a directory\r\n"
       ]
      },
      {
       "output_type": "stream",
       "stream": "stdout",
       "text": [
        "cp: cannot stat \u2018jhu-usc.edu_BLCA.HumanMethylation450.Level_1.16.13.0.tar.gz/*\u2019: Not a directory\r\n"
       ]
      },
      {
       "output_type": "stream",
       "stream": "stdout",
       "text": [
        "cp: cannot stat \u2018jhu-usc.edu_BLCA.HumanMethylation450.Level_1.16.14.0.tar.gz/*\u2019: Not a directory\r\n"
       ]
      },
      {
       "output_type": "stream",
       "stream": "stdout",
       "text": [
        "cp: cannot stat \u2018jhu-usc.edu_BLCA.HumanMethylation450.Level_1.16.15.0.tar.gz/*\u2019: Not a directory\r\n"
       ]
      },
      {
       "output_type": "stream",
       "stream": "stdout",
       "text": [
        "cp: cannot stat \u2018jhu-usc.edu_BLCA.HumanMethylation450.Level_1.16.16.0.tar.gz/*\u2019: Not a directory\r\n"
       ]
      },
      {
       "output_type": "stream",
       "stream": "stdout",
       "text": [
        "cp: cannot stat \u2018jhu-usc.edu_BLCA.HumanMethylation450.Level_1.16.17.0.tar.gz/*\u2019: Not a directory\r\n"
       ]
      },
      {
       "output_type": "stream",
       "stream": "stdout",
       "text": [
        "cp: cannot stat \u2018jhu-usc.edu_BLCA.HumanMethylation450.Level_1.17.12.0.tar.gz/*\u2019: Not a directory\r\n"
       ]
      },
      {
       "output_type": "stream",
       "stream": "stdout",
       "text": [
        "cp: cannot stat \u2018jhu-usc.edu_BLCA.HumanMethylation450.Level_1.17.13.0.tar.gz/*\u2019: Not a directory\r\n"
       ]
      },
      {
       "output_type": "stream",
       "stream": "stdout",
       "text": [
        "cp: cannot stat \u2018jhu-usc.edu_BLCA.HumanMethylation450.Level_1.17.14.0.tar.gz/*\u2019: Not a directory\r\n"
       ]
      },
      {
       "output_type": "stream",
       "stream": "stdout",
       "text": [
        "cp: cannot stat \u2018jhu-usc.edu_BLCA.HumanMethylation450.Level_1.17.15.0.tar.gz/*\u2019: Not a directory\r\n"
       ]
      },
      {
       "output_type": "stream",
       "stream": "stdout",
       "text": [
        "cp: cannot stat \u2018jhu-usc.edu_BLCA.HumanMethylation450.Level_1.17.16.0.tar.gz/*\u2019: Not a directory\r\n"
       ]
      },
      {
       "output_type": "stream",
       "stream": "stdout",
       "text": [
        "cp: cannot stat \u2018jhu-usc.edu_BLCA.HumanMethylation450.Level_1.17.17.0.tar.gz/*\u2019: Not a directory\r\n"
       ]
      },
      {
       "output_type": "stream",
       "stream": "stdout",
       "text": [
        "cp: cannot stat \u2018jhu-usc.edu_BLCA.HumanMethylation450.Level_1.18.12.0.tar.gz/*\u2019: Not a directory\r\n"
       ]
      },
      {
       "output_type": "stream",
       "stream": "stdout",
       "text": [
        "cp: cannot stat \u2018jhu-usc.edu_BLCA.HumanMethylation450.Level_1.18.13.0.tar.gz/*\u2019: Not a directory\r\n"
       ]
      },
      {
       "output_type": "stream",
       "stream": "stdout",
       "text": [
        "cp: cannot stat \u2018jhu-usc.edu_BLCA.HumanMethylation450.Level_1.18.14.0.tar.gz/*\u2019: Not a directory\r\n"
       ]
      },
      {
       "output_type": "stream",
       "stream": "stdout",
       "text": [
        "cp: cannot stat \u2018jhu-usc.edu_BLCA.HumanMethylation450.Level_1.18.15.0.tar.gz/*\u2019: Not a directory\r\n"
       ]
      },
      {
       "output_type": "stream",
       "stream": "stdout",
       "text": [
        "cp: cannot stat \u2018jhu-usc.edu_BLCA.HumanMethylation450.Level_1.18.16.0.tar.gz/*\u2019: Not a directory\r\n"
       ]
      },
      {
       "output_type": "stream",
       "stream": "stdout",
       "text": [
        "cp: cannot stat \u2018jhu-usc.edu_BLCA.HumanMethylation450.Level_1.18.17.0.tar.gz/*\u2019: Not a directory\r\n"
       ]
      },
      {
       "output_type": "stream",
       "stream": "stdout",
       "text": [
        "cp: cannot stat \u2018jhu-usc.edu_BLCA.HumanMethylation450.Level_1.19.12.0.tar.gz/*\u2019: Not a directory\r\n"
       ]
      },
      {
       "output_type": "stream",
       "stream": "stdout",
       "text": [
        "cp: cannot stat \u2018jhu-usc.edu_BLCA.HumanMethylation450.Level_1.19.13.0.tar.gz/*\u2019: Not a directory\r\n"
       ]
      },
      {
       "output_type": "stream",
       "stream": "stdout",
       "text": [
        "cp: cannot stat \u2018jhu-usc.edu_BLCA.HumanMethylation450.Level_1.19.14.0.tar.gz/*\u2019: Not a directory\r\n"
       ]
      },
      {
       "output_type": "stream",
       "stream": "stdout",
       "text": [
        "cp: cannot stat \u2018jhu-usc.edu_BLCA.HumanMethylation450.Level_1.19.15.0.tar.gz/*\u2019: Not a directory\r\n"
       ]
      },
      {
       "output_type": "stream",
       "stream": "stdout",
       "text": [
        "cp: cannot stat \u2018jhu-usc.edu_BLCA.HumanMethylation450.Level_1.19.16.0.tar.gz/*\u2019: Not a directory\r\n"
       ]
      },
      {
       "output_type": "stream",
       "stream": "stdout",
       "text": [
        "cp: cannot stat \u2018jhu-usc.edu_BLCA.HumanMethylation450.Level_1.19.17.0.tar.gz/*\u2019: Not a directory\r\n"
       ]
      },
      {
       "output_type": "stream",
       "stream": "stdout",
       "text": [
        "cp: cannot stat \u2018jhu-usc.edu_BLCA.HumanMethylation450.Level_1.2.0.0.tar.gz/*\u2019: Not a directory\r\n"
       ]
      },
      {
       "output_type": "stream",
       "stream": "stdout",
       "text": [
        "cp: cannot stat \u2018jhu-usc.edu_BLCA.HumanMethylation450.Level_1.2.1.0.tar.gz/*\u2019: Not a directory\r\n"
       ]
      },
      {
       "output_type": "stream",
       "stream": "stdout",
       "text": [
        "cp: cannot stat \u2018jhu-usc.edu_BLCA.HumanMethylation450.Level_1.2.10.0.tar.gz/*\u2019: Not a directory\r\n"
       ]
      },
      {
       "output_type": "stream",
       "stream": "stdout",
       "text": [
        "cp: cannot stat \u2018jhu-usc.edu_BLCA.HumanMethylation450.Level_1.2.11.0.tar.gz/*\u2019: Not a directory\r\n"
       ]
      },
      {
       "output_type": "stream",
       "stream": "stdout",
       "text": [
        "cp: cannot stat \u2018jhu-usc.edu_BLCA.HumanMethylation450.Level_1.2.12.0.tar.gz/*\u2019: Not a directory\r\n"
       ]
      },
      {
       "output_type": "stream",
       "stream": "stdout",
       "text": [
        "cp: cannot stat \u2018jhu-usc.edu_BLCA.HumanMethylation450.Level_1.2.13.0.tar.gz/*\u2019: Not a directory\r\n"
       ]
      },
      {
       "output_type": "stream",
       "stream": "stdout",
       "text": [
        "cp: cannot stat \u2018jhu-usc.edu_BLCA.HumanMethylation450.Level_1.2.14.0.tar.gz/*\u2019: Not a directory\r\n"
       ]
      },
      {
       "output_type": "stream",
       "stream": "stdout",
       "text": [
        "cp: cannot stat \u2018jhu-usc.edu_BLCA.HumanMethylation450.Level_1.2.15.0.tar.gz/*\u2019: Not a directory\r\n"
       ]
      },
      {
       "output_type": "stream",
       "stream": "stdout",
       "text": [
        "cp: cannot stat \u2018jhu-usc.edu_BLCA.HumanMethylation450.Level_1.2.16.0.tar.gz/*\u2019: Not a directory\r\n"
       ]
      },
      {
       "output_type": "stream",
       "stream": "stdout",
       "text": [
        "cp: cannot stat \u2018jhu-usc.edu_BLCA.HumanMethylation450.Level_1.2.17.0.tar.gz/*\u2019: Not a directory\r\n"
       ]
      },
      {
       "output_type": "stream",
       "stream": "stdout",
       "text": [
        "cp: cannot stat \u2018jhu-usc.edu_BLCA.HumanMethylation450.Level_1.2.2.0.tar.gz/*\u2019: Not a directory\r\n"
       ]
      },
      {
       "output_type": "stream",
       "stream": "stdout",
       "text": [
        "cp: cannot stat \u2018jhu-usc.edu_BLCA.HumanMethylation450.Level_1.2.3.0.tar.gz/*\u2019: Not a directory\r\n"
       ]
      },
      {
       "output_type": "stream",
       "stream": "stdout",
       "text": [
        "cp: cannot stat \u2018jhu-usc.edu_BLCA.HumanMethylation450.Level_1.2.4.0.tar.gz/*\u2019: Not a directory\r\n"
       ]
      },
      {
       "output_type": "stream",
       "stream": "stdout",
       "text": [
        "cp: cannot stat \u2018jhu-usc.edu_BLCA.HumanMethylation450.Level_1.2.5.0.tar.gz/*\u2019: Not a directory\r\n"
       ]
      },
      {
       "output_type": "stream",
       "stream": "stdout",
       "text": [
        "cp: cannot stat \u2018jhu-usc.edu_BLCA.HumanMethylation450.Level_1.2.6.0.tar.gz/*\u2019: Not a directory\r\n"
       ]
      },
      {
       "output_type": "stream",
       "stream": "stdout",
       "text": [
        "cp: cannot stat \u2018jhu-usc.edu_BLCA.HumanMethylation450.Level_1.2.7.0.tar.gz/*\u2019: Not a directory\r\n"
       ]
      },
      {
       "output_type": "stream",
       "stream": "stdout",
       "text": [
        "cp: cannot stat \u2018jhu-usc.edu_BLCA.HumanMethylation450.Level_1.2.8.0.tar.gz/*\u2019: Not a directory\r\n"
       ]
      },
      {
       "output_type": "stream",
       "stream": "stdout",
       "text": [
        "cp: cannot stat \u2018jhu-usc.edu_BLCA.HumanMethylation450.Level_1.2.9.0.tar.gz/*\u2019: Not a directory\r\n"
       ]
      },
      {
       "output_type": "stream",
       "stream": "stdout",
       "text": [
        "cp: cannot stat \u2018jhu-usc.edu_BLCA.HumanMethylation450.Level_1.20.13.0.tar.gz/*\u2019: Not a directory\r\n"
       ]
      },
      {
       "output_type": "stream",
       "stream": "stdout",
       "text": [
        "cp: cannot stat \u2018jhu-usc.edu_BLCA.HumanMethylation450.Level_1.20.14.0.tar.gz/*\u2019: Not a directory\r\n"
       ]
      },
      {
       "output_type": "stream",
       "stream": "stdout",
       "text": [
        "cp: cannot stat \u2018jhu-usc.edu_BLCA.HumanMethylation450.Level_1.20.15.0.tar.gz/*\u2019: Not a directory\r\n"
       ]
      },
      {
       "output_type": "stream",
       "stream": "stdout",
       "text": [
        "cp: cannot stat \u2018jhu-usc.edu_BLCA.HumanMethylation450.Level_1.20.16.0.tar.gz/*\u2019: Not a directory\r\n"
       ]
      },
      {
       "output_type": "stream",
       "stream": "stdout",
       "text": [
        "cp: cannot stat \u2018jhu-usc.edu_BLCA.HumanMethylation450.Level_1.20.17.0.tar.gz/*\u2019: Not a directory\r\n"
       ]
      },
      {
       "output_type": "stream",
       "stream": "stdout",
       "text": [
        "cp: cannot stat \u2018jhu-usc.edu_BLCA.HumanMethylation450.Level_1.21.14.0.tar.gz/*\u2019: Not a directory\r\n"
       ]
      },
      {
       "output_type": "stream",
       "stream": "stdout",
       "text": [
        "cp: cannot stat \u2018jhu-usc.edu_BLCA.HumanMethylation450.Level_1.21.15.0.tar.gz/*\u2019: Not a directory\r\n"
       ]
      },
      {
       "output_type": "stream",
       "stream": "stdout",
       "text": [
        "cp: cannot stat \u2018jhu-usc.edu_BLCA.HumanMethylation450.Level_1.21.16.0.tar.gz/*\u2019: Not a directory\r\n"
       ]
      },
      {
       "output_type": "stream",
       "stream": "stdout",
       "text": [
        "cp: cannot stat \u2018jhu-usc.edu_BLCA.HumanMethylation450.Level_1.21.17.0.tar.gz/*\u2019: Not a directory\r\n"
       ]
      },
      {
       "output_type": "stream",
       "stream": "stdout",
       "text": [
        "cp: cannot stat \u2018jhu-usc.edu_BLCA.HumanMethylation450.Level_1.22.15.0.tar.gz/*\u2019: Not a directory\r\n"
       ]
      },
      {
       "output_type": "stream",
       "stream": "stdout",
       "text": [
        "cp: cannot stat \u2018jhu-usc.edu_BLCA.HumanMethylation450.Level_1.22.16.0.tar.gz/*\u2019: Not a directory\r\n"
       ]
      },
      {
       "output_type": "stream",
       "stream": "stdout",
       "text": [
        "cp: cannot stat \u2018jhu-usc.edu_BLCA.HumanMethylation450.Level_1.22.17.0.tar.gz/*\u2019: Not a directory\r\n"
       ]
      },
      {
       "output_type": "stream",
       "stream": "stdout",
       "text": [
        "cp: cannot stat \u2018jhu-usc.edu_BLCA.HumanMethylation450.Level_1.23.16.0.tar.gz/*\u2019: Not a directory\r\n"
       ]
      },
      {
       "output_type": "stream",
       "stream": "stdout",
       "text": [
        "cp: cannot stat \u2018jhu-usc.edu_BLCA.HumanMethylation450.Level_1.23.17.0.tar.gz/*\u2019: Not a directory\r\n"
       ]
      },
      {
       "output_type": "stream",
       "stream": "stdout",
       "text": [
        "cp: cannot stat \u2018jhu-usc.edu_BLCA.HumanMethylation450.Level_1.24.17.0.tar.gz/*\u2019: Not a directory\r\n"
       ]
      },
      {
       "output_type": "stream",
       "stream": "stdout",
       "text": [
        "cp: cannot stat \u2018jhu-usc.edu_BLCA.HumanMethylation450.Level_1.3.0.0.tar.gz/*\u2019: Not a directory\r\n"
       ]
      },
      {
       "output_type": "stream",
       "stream": "stdout",
       "text": [
        "cp: cannot stat \u2018jhu-usc.edu_BLCA.HumanMethylation450.Level_1.3.1.0.tar.gz/*\u2019: Not a directory\r\n"
       ]
      },
      {
       "output_type": "stream",
       "stream": "stdout",
       "text": [
        "cp: cannot stat \u2018jhu-usc.edu_BLCA.HumanMethylation450.Level_1.3.10.0.tar.gz/*\u2019: Not a directory\r\n"
       ]
      },
      {
       "output_type": "stream",
       "stream": "stdout",
       "text": [
        "cp: cannot stat \u2018jhu-usc.edu_BLCA.HumanMethylation450.Level_1.3.11.0.tar.gz/*\u2019: Not a directory\r\n"
       ]
      },
      {
       "output_type": "stream",
       "stream": "stdout",
       "text": [
        "cp: cannot stat \u2018jhu-usc.edu_BLCA.HumanMethylation450.Level_1.3.12.0.tar.gz/*\u2019: Not a directory\r\n"
       ]
      },
      {
       "output_type": "stream",
       "stream": "stdout",
       "text": [
        "cp: cannot stat \u2018jhu-usc.edu_BLCA.HumanMethylation450.Level_1.3.13.0.tar.gz/*\u2019: Not a directory\r\n"
       ]
      },
      {
       "output_type": "stream",
       "stream": "stdout",
       "text": [
        "cp: cannot stat \u2018jhu-usc.edu_BLCA.HumanMethylation450.Level_1.3.14.0.tar.gz/*\u2019: Not a directory\r\n"
       ]
      },
      {
       "output_type": "stream",
       "stream": "stdout",
       "text": [
        "cp: cannot stat \u2018jhu-usc.edu_BLCA.HumanMethylation450.Level_1.3.15.0.tar.gz/*\u2019: Not a directory\r\n"
       ]
      },
      {
       "output_type": "stream",
       "stream": "stdout",
       "text": [
        "cp: cannot stat \u2018jhu-usc.edu_BLCA.HumanMethylation450.Level_1.3.16.0.tar.gz/*\u2019: Not a directory\r\n"
       ]
      },
      {
       "output_type": "stream",
       "stream": "stdout",
       "text": [
        "cp: cannot stat \u2018jhu-usc.edu_BLCA.HumanMethylation450.Level_1.3.17.0.tar.gz/*\u2019: Not a directory\r\n"
       ]
      },
      {
       "output_type": "stream",
       "stream": "stdout",
       "text": [
        "cp: cannot stat \u2018jhu-usc.edu_BLCA.HumanMethylation450.Level_1.3.2.0.tar.gz/*\u2019: Not a directory\r\n"
       ]
      },
      {
       "output_type": "stream",
       "stream": "stdout",
       "text": [
        "cp: cannot stat \u2018jhu-usc.edu_BLCA.HumanMethylation450.Level_1.3.3.0.tar.gz/*\u2019: Not a directory\r\n"
       ]
      },
      {
       "output_type": "stream",
       "stream": "stdout",
       "text": [
        "cp: cannot stat \u2018jhu-usc.edu_BLCA.HumanMethylation450.Level_1.3.4.0.tar.gz/*\u2019: Not a directory\r\n"
       ]
      },
      {
       "output_type": "stream",
       "stream": "stdout",
       "text": [
        "cp: cannot stat \u2018jhu-usc.edu_BLCA.HumanMethylation450.Level_1.3.5.0.tar.gz/*\u2019: Not a directory\r\n"
       ]
      },
      {
       "output_type": "stream",
       "stream": "stdout",
       "text": [
        "cp: cannot stat \u2018jhu-usc.edu_BLCA.HumanMethylation450.Level_1.3.6.0.tar.gz/*\u2019: Not a directory\r\n"
       ]
      },
      {
       "output_type": "stream",
       "stream": "stdout",
       "text": [
        "cp: cannot stat \u2018jhu-usc.edu_BLCA.HumanMethylation450.Level_1.3.7.0.tar.gz/*\u2019: Not a directory\r\n"
       ]
      },
      {
       "output_type": "stream",
       "stream": "stdout",
       "text": [
        "cp: cannot stat \u2018jhu-usc.edu_BLCA.HumanMethylation450.Level_1.3.8.0.tar.gz/*\u2019: Not a directory\r\n"
       ]
      },
      {
       "output_type": "stream",
       "stream": "stdout",
       "text": [
        "cp: cannot stat \u2018jhu-usc.edu_BLCA.HumanMethylation450.Level_1.3.9.0.tar.gz/*\u2019: Not a directory\r\n"
       ]
      },
      {
       "output_type": "stream",
       "stream": "stdout",
       "text": [
        "cp: cannot stat \u2018jhu-usc.edu_BLCA.HumanMethylation450.Level_1.4.0.0.tar.gz/*\u2019: Not a directory\r\n"
       ]
      },
      {
       "output_type": "stream",
       "stream": "stdout",
       "text": [
        "cp: cannot stat \u2018jhu-usc.edu_BLCA.HumanMethylation450.Level_1.4.1.0.tar.gz/*\u2019: Not a directory\r\n"
       ]
      },
      {
       "output_type": "stream",
       "stream": "stdout",
       "text": [
        "cp: cannot stat \u2018jhu-usc.edu_BLCA.HumanMethylation450.Level_1.4.10.0.tar.gz/*\u2019: Not a directory\r\n"
       ]
      },
      {
       "output_type": "stream",
       "stream": "stdout",
       "text": [
        "cp: cannot stat \u2018jhu-usc.edu_BLCA.HumanMethylation450.Level_1.4.11.0.tar.gz/*\u2019: Not a directory\r\n"
       ]
      },
      {
       "output_type": "stream",
       "stream": "stdout",
       "text": [
        "cp: cannot stat \u2018jhu-usc.edu_BLCA.HumanMethylation450.Level_1.4.12.0.tar.gz/*\u2019: Not a directory\r\n"
       ]
      },
      {
       "output_type": "stream",
       "stream": "stdout",
       "text": [
        "cp: cannot stat \u2018jhu-usc.edu_BLCA.HumanMethylation450.Level_1.4.13.0.tar.gz/*\u2019: Not a directory\r\n"
       ]
      },
      {
       "output_type": "stream",
       "stream": "stdout",
       "text": [
        "cp: cannot stat \u2018jhu-usc.edu_BLCA.HumanMethylation450.Level_1.4.14.0.tar.gz/*\u2019: Not a directory\r\n"
       ]
      },
      {
       "output_type": "stream",
       "stream": "stdout",
       "text": [
        "cp: cannot stat \u2018jhu-usc.edu_BLCA.HumanMethylation450.Level_1.4.15.0.tar.gz/*\u2019: Not a directory\r\n"
       ]
      },
      {
       "output_type": "stream",
       "stream": "stdout",
       "text": [
        "cp: cannot stat \u2018jhu-usc.edu_BLCA.HumanMethylation450.Level_1.4.16.0.tar.gz/*\u2019: Not a directory\r\n"
       ]
      },
      {
       "output_type": "stream",
       "stream": "stdout",
       "text": [
        "cp: cannot stat \u2018jhu-usc.edu_BLCA.HumanMethylation450.Level_1.4.17.0.tar.gz/*\u2019: Not a directory\r\n"
       ]
      },
      {
       "output_type": "stream",
       "stream": "stdout",
       "text": [
        "cp: cannot stat \u2018jhu-usc.edu_BLCA.HumanMethylation450.Level_1.4.2.0.tar.gz/*\u2019: Not a directory\r\n"
       ]
      },
      {
       "output_type": "stream",
       "stream": "stdout",
       "text": [
        "cp: cannot stat \u2018jhu-usc.edu_BLCA.HumanMethylation450.Level_1.4.3.0.tar.gz/*\u2019: Not a directory\r\n"
       ]
      },
      {
       "output_type": "stream",
       "stream": "stdout",
       "text": [
        "cp: cannot stat \u2018jhu-usc.edu_BLCA.HumanMethylation450.Level_1.4.4.0.tar.gz/*\u2019: Not a directory\r\n"
       ]
      },
      {
       "output_type": "stream",
       "stream": "stdout",
       "text": [
        "cp: cannot stat \u2018jhu-usc.edu_BLCA.HumanMethylation450.Level_1.4.5.0.tar.gz/*\u2019: Not a directory\r\n"
       ]
      },
      {
       "output_type": "stream",
       "stream": "stdout",
       "text": [
        "cp: cannot stat \u2018jhu-usc.edu_BLCA.HumanMethylation450.Level_1.4.6.0.tar.gz/*\u2019: Not a directory\r\n"
       ]
      },
      {
       "output_type": "stream",
       "stream": "stdout",
       "text": [
        "cp: cannot stat \u2018jhu-usc.edu_BLCA.HumanMethylation450.Level_1.4.7.0.tar.gz/*\u2019: Not a directory\r\n"
       ]
      },
      {
       "output_type": "stream",
       "stream": "stdout",
       "text": [
        "cp: cannot stat \u2018jhu-usc.edu_BLCA.HumanMethylation450.Level_1.4.8.0.tar.gz/*\u2019: Not a directory\r\n"
       ]
      },
      {
       "output_type": "stream",
       "stream": "stdout",
       "text": [
        "cp: cannot stat \u2018jhu-usc.edu_BLCA.HumanMethylation450.Level_1.4.9.0.tar.gz/*\u2019: Not a directory\r\n"
       ]
      },
      {
       "output_type": "stream",
       "stream": "stdout",
       "text": [
        "cp: cannot stat \u2018jhu-usc.edu_BLCA.HumanMethylation450.Level_1.5.1.0.tar.gz/*\u2019: Not a directory\r\n"
       ]
      },
      {
       "output_type": "stream",
       "stream": "stdout",
       "text": [
        "cp: cannot stat \u2018jhu-usc.edu_BLCA.HumanMethylation450.Level_1.5.10.0.tar.gz/*\u2019: Not a directory\r\n"
       ]
      },
      {
       "output_type": "stream",
       "stream": "stdout",
       "text": [
        "cp: cannot stat \u2018jhu-usc.edu_BLCA.HumanMethylation450.Level_1.5.11.0.tar.gz/*\u2019: Not a directory\r\n"
       ]
      },
      {
       "output_type": "stream",
       "stream": "stdout",
       "text": [
        "cp: cannot stat \u2018jhu-usc.edu_BLCA.HumanMethylation450.Level_1.5.12.0.tar.gz/*\u2019: Not a directory\r\n"
       ]
      },
      {
       "output_type": "stream",
       "stream": "stdout",
       "text": [
        "cp: cannot stat \u2018jhu-usc.edu_BLCA.HumanMethylation450.Level_1.5.13.0.tar.gz/*\u2019: Not a directory\r\n"
       ]
      },
      {
       "output_type": "stream",
       "stream": "stdout",
       "text": [
        "cp: cannot stat \u2018jhu-usc.edu_BLCA.HumanMethylation450.Level_1.5.14.0.tar.gz/*\u2019: Not a directory\r\n"
       ]
      },
      {
       "output_type": "stream",
       "stream": "stdout",
       "text": [
        "cp: cannot stat \u2018jhu-usc.edu_BLCA.HumanMethylation450.Level_1.5.15.0.tar.gz/*\u2019: Not a directory\r\n"
       ]
      },
      {
       "output_type": "stream",
       "stream": "stdout",
       "text": [
        "cp: cannot stat \u2018jhu-usc.edu_BLCA.HumanMethylation450.Level_1.5.16.0.tar.gz/*\u2019: Not a directory\r\n"
       ]
      },
      {
       "output_type": "stream",
       "stream": "stdout",
       "text": [
        "cp: cannot stat \u2018jhu-usc.edu_BLCA.HumanMethylation450.Level_1.5.17.0.tar.gz/*\u2019: Not a directory\r\n"
       ]
      },
      {
       "output_type": "stream",
       "stream": "stdout",
       "text": [
        "cp: cannot stat \u2018jhu-usc.edu_BLCA.HumanMethylation450.Level_1.5.2.0.tar.gz/*\u2019: Not a directory\r\n"
       ]
      },
      {
       "output_type": "stream",
       "stream": "stdout",
       "text": [
        "cp: cannot stat \u2018jhu-usc.edu_BLCA.HumanMethylation450.Level_1.5.3.0.tar.gz/*\u2019: Not a directory\r\n"
       ]
      },
      {
       "output_type": "stream",
       "stream": "stdout",
       "text": [
        "cp: cannot stat \u2018jhu-usc.edu_BLCA.HumanMethylation450.Level_1.5.4.0.tar.gz/*\u2019: Not a directory\r\n"
       ]
      },
      {
       "output_type": "stream",
       "stream": "stdout",
       "text": [
        "cp: cannot stat \u2018jhu-usc.edu_BLCA.HumanMethylation450.Level_1.5.5.0.tar.gz/*\u2019: Not a directory\r\n"
       ]
      },
      {
       "output_type": "stream",
       "stream": "stdout",
       "text": [
        "cp: cannot stat \u2018jhu-usc.edu_BLCA.HumanMethylation450.Level_1.5.6.0.tar.gz/*\u2019: Not a directory\r\n"
       ]
      },
      {
       "output_type": "stream",
       "stream": "stdout",
       "text": [
        "cp: cannot stat \u2018jhu-usc.edu_BLCA.HumanMethylation450.Level_1.5.7.0.tar.gz/*\u2019: Not a directory\r\n"
       ]
      },
      {
       "output_type": "stream",
       "stream": "stdout",
       "text": [
        "cp: cannot stat \u2018jhu-usc.edu_BLCA.HumanMethylation450.Level_1.5.8.0.tar.gz/*\u2019: Not a directory\r\n"
       ]
      },
      {
       "output_type": "stream",
       "stream": "stdout",
       "text": [
        "cp: cannot stat \u2018jhu-usc.edu_BLCA.HumanMethylation450.Level_1.5.9.0.tar.gz/*\u2019: Not a directory\r\n"
       ]
      },
      {
       "output_type": "stream",
       "stream": "stdout",
       "text": [
        "cp: cannot stat \u2018jhu-usc.edu_BLCA.HumanMethylation450.Level_1.6.1.0.tar.gz/*\u2019: Not a directory\r\n"
       ]
      },
      {
       "output_type": "stream",
       "stream": "stdout",
       "text": [
        "cp: cannot stat \u2018jhu-usc.edu_BLCA.HumanMethylation450.Level_1.6.10.0.tar.gz/*\u2019: Not a directory\r\n"
       ]
      },
      {
       "output_type": "stream",
       "stream": "stdout",
       "text": [
        "cp: cannot stat \u2018jhu-usc.edu_BLCA.HumanMethylation450.Level_1.6.11.0.tar.gz/*\u2019: Not a directory\r\n"
       ]
      },
      {
       "output_type": "stream",
       "stream": "stdout",
       "text": [
        "cp: cannot stat \u2018jhu-usc.edu_BLCA.HumanMethylation450.Level_1.6.12.0.tar.gz/*\u2019: Not a directory\r\n"
       ]
      },
      {
       "output_type": "stream",
       "stream": "stdout",
       "text": [
        "cp: cannot stat \u2018jhu-usc.edu_BLCA.HumanMethylation450.Level_1.6.13.0.tar.gz/*\u2019: Not a directory\r\n"
       ]
      },
      {
       "output_type": "stream",
       "stream": "stdout",
       "text": [
        "cp: cannot stat \u2018jhu-usc.edu_BLCA.HumanMethylation450.Level_1.6.14.0.tar.gz/*\u2019: Not a directory\r\n"
       ]
      },
      {
       "output_type": "stream",
       "stream": "stdout",
       "text": [
        "cp: cannot stat \u2018jhu-usc.edu_BLCA.HumanMethylation450.Level_1.6.15.0.tar.gz/*\u2019: Not a directory\r\n"
       ]
      },
      {
       "output_type": "stream",
       "stream": "stdout",
       "text": [
        "cp: cannot stat \u2018jhu-usc.edu_BLCA.HumanMethylation450.Level_1.6.16.0.tar.gz/*\u2019: Not a directory\r\n"
       ]
      },
      {
       "output_type": "stream",
       "stream": "stdout",
       "text": [
        "cp: cannot stat \u2018jhu-usc.edu_BLCA.HumanMethylation450.Level_1.6.17.0.tar.gz/*\u2019: Not a directory\r\n"
       ]
      },
      {
       "output_type": "stream",
       "stream": "stdout",
       "text": [
        "cp: cannot stat \u2018jhu-usc.edu_BLCA.HumanMethylation450.Level_1.6.2.0.tar.gz/*\u2019: Not a directory\r\n"
       ]
      },
      {
       "output_type": "stream",
       "stream": "stdout",
       "text": [
        "cp: cannot stat \u2018jhu-usc.edu_BLCA.HumanMethylation450.Level_1.6.3.0.tar.gz/*\u2019: Not a directory\r\n"
       ]
      },
      {
       "output_type": "stream",
       "stream": "stdout",
       "text": [
        "cp: cannot stat \u2018jhu-usc.edu_BLCA.HumanMethylation450.Level_1.6.4.0.tar.gz/*\u2019: Not a directory\r\n"
       ]
      },
      {
       "output_type": "stream",
       "stream": "stdout",
       "text": [
        "cp: cannot stat \u2018jhu-usc.edu_BLCA.HumanMethylation450.Level_1.6.5.0.tar.gz/*\u2019: Not a directory\r\n"
       ]
      },
      {
       "output_type": "stream",
       "stream": "stdout",
       "text": [
        "cp: cannot stat \u2018jhu-usc.edu_BLCA.HumanMethylation450.Level_1.6.6.0.tar.gz/*\u2019: Not a directory\r\n"
       ]
      },
      {
       "output_type": "stream",
       "stream": "stdout",
       "text": [
        "cp: cannot stat \u2018jhu-usc.edu_BLCA.HumanMethylation450.Level_1.6.7.0.tar.gz/*\u2019: Not a directory\r\n"
       ]
      },
      {
       "output_type": "stream",
       "stream": "stdout",
       "text": [
        "cp: cannot stat \u2018jhu-usc.edu_BLCA.HumanMethylation450.Level_1.6.8.0.tar.gz/*\u2019: Not a directory\r\n"
       ]
      },
      {
       "output_type": "stream",
       "stream": "stdout",
       "text": [
        "cp: cannot stat \u2018jhu-usc.edu_BLCA.HumanMethylation450.Level_1.6.9.0.tar.gz/*\u2019: Not a directory\r\n"
       ]
      },
      {
       "output_type": "stream",
       "stream": "stdout",
       "text": [
        "cp: cannot stat \u2018jhu-usc.edu_BLCA.HumanMethylation450.Level_1.7.10.0.tar.gz/*\u2019: Not a directory\r\n"
       ]
      },
      {
       "output_type": "stream",
       "stream": "stdout",
       "text": [
        "cp: cannot stat \u2018jhu-usc.edu_BLCA.HumanMethylation450.Level_1.7.11.0.tar.gz/*\u2019: Not a directory\r\n"
       ]
      },
      {
       "output_type": "stream",
       "stream": "stdout",
       "text": [
        "cp: cannot stat \u2018jhu-usc.edu_BLCA.HumanMethylation450.Level_1.7.12.0.tar.gz/*\u2019: Not a directory\r\n"
       ]
      },
      {
       "output_type": "stream",
       "stream": "stdout",
       "text": [
        "cp: cannot stat \u2018jhu-usc.edu_BLCA.HumanMethylation450.Level_1.7.13.0.tar.gz/*\u2019: Not a directory\r\n"
       ]
      },
      {
       "output_type": "stream",
       "stream": "stdout",
       "text": [
        "cp: cannot stat \u2018jhu-usc.edu_BLCA.HumanMethylation450.Level_1.7.14.0.tar.gz/*\u2019: Not a directory\r\n"
       ]
      },
      {
       "output_type": "stream",
       "stream": "stdout",
       "text": [
        "cp: cannot stat \u2018jhu-usc.edu_BLCA.HumanMethylation450.Level_1.7.15.0.tar.gz/*\u2019: Not a directory\r\n"
       ]
      },
      {
       "output_type": "stream",
       "stream": "stdout",
       "text": [
        "cp: cannot stat \u2018jhu-usc.edu_BLCA.HumanMethylation450.Level_1.7.16.0.tar.gz/*\u2019: Not a directory\r\n"
       ]
      },
      {
       "output_type": "stream",
       "stream": "stdout",
       "text": [
        "cp: cannot stat \u2018jhu-usc.edu_BLCA.HumanMethylation450.Level_1.7.17.0.tar.gz/*\u2019: Not a directory\r\n"
       ]
      },
      {
       "output_type": "stream",
       "stream": "stdout",
       "text": [
        "cp: cannot stat \u2018jhu-usc.edu_BLCA.HumanMethylation450.Level_1.7.2.0.tar.gz/*\u2019: Not a directory\r\n"
       ]
      },
      {
       "output_type": "stream",
       "stream": "stdout",
       "text": [
        "cp: cannot stat \u2018jhu-usc.edu_BLCA.HumanMethylation450.Level_1.7.3.0.tar.gz/*\u2019: Not a directory\r\n"
       ]
      },
      {
       "output_type": "stream",
       "stream": "stdout",
       "text": [
        "cp: cannot stat \u2018jhu-usc.edu_BLCA.HumanMethylation450.Level_1.7.4.0.tar.gz/*\u2019: Not a directory\r\n"
       ]
      },
      {
       "output_type": "stream",
       "stream": "stdout",
       "text": [
        "cp: cannot stat \u2018jhu-usc.edu_BLCA.HumanMethylation450.Level_1.7.5.0.tar.gz/*\u2019: Not a directory\r\n"
       ]
      },
      {
       "output_type": "stream",
       "stream": "stdout",
       "text": [
        "cp: cannot stat \u2018jhu-usc.edu_BLCA.HumanMethylation450.Level_1.7.6.0.tar.gz/*\u2019: Not a directory\r\n"
       ]
      },
      {
       "output_type": "stream",
       "stream": "stdout",
       "text": [
        "cp: cannot stat \u2018jhu-usc.edu_BLCA.HumanMethylation450.Level_1.7.7.0.tar.gz/*\u2019: Not a directory\r\n"
       ]
      },
      {
       "output_type": "stream",
       "stream": "stdout",
       "text": [
        "cp: cannot stat \u2018jhu-usc.edu_BLCA.HumanMethylation450.Level_1.7.8.0.tar.gz/*\u2019: Not a directory\r\n"
       ]
      },
      {
       "output_type": "stream",
       "stream": "stdout",
       "text": [
        "cp: cannot stat \u2018jhu-usc.edu_BLCA.HumanMethylation450.Level_1.7.9.0.tar.gz/*\u2019: Not a directory\r\n"
       ]
      },
      {
       "output_type": "stream",
       "stream": "stdout",
       "text": [
        "cp: cannot stat \u2018jhu-usc.edu_BLCA.HumanMethylation450.Level_1.8.10.0.tar.gz/*\u2019: Not a directory\r\n"
       ]
      },
      {
       "output_type": "stream",
       "stream": "stdout",
       "text": [
        "cp: cannot stat \u2018jhu-usc.edu_BLCA.HumanMethylation450.Level_1.8.11.0.tar.gz/*\u2019: Not a directory\r\n"
       ]
      },
      {
       "output_type": "stream",
       "stream": "stdout",
       "text": [
        "cp: cannot stat \u2018jhu-usc.edu_BLCA.HumanMethylation450.Level_1.8.12.0.tar.gz/*\u2019: Not a directory\r\n"
       ]
      },
      {
       "output_type": "stream",
       "stream": "stdout",
       "text": [
        "cp: cannot stat \u2018jhu-usc.edu_BLCA.HumanMethylation450.Level_1.8.13.0.tar.gz/*\u2019: Not a directory\r\n"
       ]
      },
      {
       "output_type": "stream",
       "stream": "stdout",
       "text": [
        "cp: cannot stat \u2018jhu-usc.edu_BLCA.HumanMethylation450.Level_1.8.14.0.tar.gz/*\u2019: Not a directory\r\n"
       ]
      },
      {
       "output_type": "stream",
       "stream": "stdout",
       "text": [
        "cp: cannot stat \u2018jhu-usc.edu_BLCA.HumanMethylation450.Level_1.8.15.0.tar.gz/*\u2019: Not a directory\r\n"
       ]
      },
      {
       "output_type": "stream",
       "stream": "stdout",
       "text": [
        "cp: cannot stat \u2018jhu-usc.edu_BLCA.HumanMethylation450.Level_1.8.16.0.tar.gz/*\u2019: Not a directory\r\n"
       ]
      },
      {
       "output_type": "stream",
       "stream": "stdout",
       "text": [
        "cp: cannot stat \u2018jhu-usc.edu_BLCA.HumanMethylation450.Level_1.8.17.0.tar.gz/*\u2019: Not a directory\r\n"
       ]
      },
      {
       "output_type": "stream",
       "stream": "stdout",
       "text": [
        "cp: cannot stat \u2018jhu-usc.edu_BLCA.HumanMethylation450.Level_1.8.3.0.tar.gz/*\u2019: Not a directory\r\n"
       ]
      },
      {
       "output_type": "stream",
       "stream": "stdout",
       "text": [
        "cp: cannot stat \u2018jhu-usc.edu_BLCA.HumanMethylation450.Level_1.8.4.0.tar.gz/*\u2019: Not a directory\r\n"
       ]
      },
      {
       "output_type": "stream",
       "stream": "stdout",
       "text": [
        "cp: cannot stat \u2018jhu-usc.edu_BLCA.HumanMethylation450.Level_1.8.5.0.tar.gz/*\u2019: Not a directory\r\n"
       ]
      },
      {
       "output_type": "stream",
       "stream": "stdout",
       "text": [
        "cp: cannot stat \u2018jhu-usc.edu_BLCA.HumanMethylation450.Level_1.8.6.0.tar.gz/*\u2019: Not a directory\r\n"
       ]
      },
      {
       "output_type": "stream",
       "stream": "stdout",
       "text": [
        "cp: cannot stat \u2018jhu-usc.edu_BLCA.HumanMethylation450.Level_1.8.7.0.tar.gz/*\u2019: Not a directory\r\n"
       ]
      },
      {
       "output_type": "stream",
       "stream": "stdout",
       "text": [
        "cp: cannot stat \u2018jhu-usc.edu_BLCA.HumanMethylation450.Level_1.8.8.0.tar.gz/*\u2019: Not a directory\r\n"
       ]
      },
      {
       "output_type": "stream",
       "stream": "stdout",
       "text": [
        "cp: cannot stat \u2018jhu-usc.edu_BLCA.HumanMethylation450.Level_1.8.9.0.tar.gz/*\u2019: Not a directory\r\n"
       ]
      },
      {
       "output_type": "stream",
       "stream": "stdout",
       "text": [
        "cp: cannot stat \u2018jhu-usc.edu_BLCA.HumanMethylation450.Level_1.9.10.0.tar.gz/*\u2019: Not a directory\r\n"
       ]
      },
      {
       "output_type": "stream",
       "stream": "stdout",
       "text": [
        "cp: cannot stat \u2018jhu-usc.edu_BLCA.HumanMethylation450.Level_1.9.11.0.tar.gz/*\u2019: Not a directory\r\n"
       ]
      },
      {
       "output_type": "stream",
       "stream": "stdout",
       "text": [
        "cp: cannot stat \u2018jhu-usc.edu_BLCA.HumanMethylation450.Level_1.9.12.0.tar.gz/*\u2019: Not a directory\r\n"
       ]
      },
      {
       "output_type": "stream",
       "stream": "stdout",
       "text": [
        "cp: cannot stat \u2018jhu-usc.edu_BLCA.HumanMethylation450.Level_1.9.13.0.tar.gz/*\u2019: Not a directory\r\n"
       ]
      },
      {
       "output_type": "stream",
       "stream": "stdout",
       "text": [
        "cp: cannot stat \u2018jhu-usc.edu_BLCA.HumanMethylation450.Level_1.9.14.0.tar.gz/*\u2019: Not a directory\r\n"
       ]
      },
      {
       "output_type": "stream",
       "stream": "stdout",
       "text": [
        "cp: cannot stat \u2018jhu-usc.edu_BLCA.HumanMethylation450.Level_1.9.15.0.tar.gz/*\u2019: Not a directory\r\n"
       ]
      },
      {
       "output_type": "stream",
       "stream": "stdout",
       "text": [
        "cp: cannot stat \u2018jhu-usc.edu_BLCA.HumanMethylation450.Level_1.9.16.0.tar.gz/*\u2019: Not a directory\r\n"
       ]
      },
      {
       "output_type": "stream",
       "stream": "stdout",
       "text": [
        "cp: cannot stat \u2018jhu-usc.edu_BLCA.HumanMethylation450.Level_1.9.17.0.tar.gz/*\u2019: Not a directory\r\n"
       ]
      },
      {
       "output_type": "stream",
       "stream": "stdout",
       "text": [
        "cp: cannot stat \u2018jhu-usc.edu_BLCA.HumanMethylation450.Level_1.9.4.0.tar.gz/*\u2019: Not a directory\r\n"
       ]
      },
      {
       "output_type": "stream",
       "stream": "stdout",
       "text": [
        "cp: cannot stat \u2018jhu-usc.edu_BLCA.HumanMethylation450.Level_1.9.5.0.tar.gz/*\u2019: Not a directory\r\n"
       ]
      },
      {
       "output_type": "stream",
       "stream": "stdout",
       "text": [
        "cp: cannot stat \u2018jhu-usc.edu_BLCA.HumanMethylation450.Level_1.9.6.0.tar.gz/*\u2019: Not a directory\r\n"
       ]
      },
      {
       "output_type": "stream",
       "stream": "stdout",
       "text": [
        "cp: cannot stat \u2018jhu-usc.edu_BLCA.HumanMethylation450.Level_1.9.7.0.tar.gz/*\u2019: Not a directory\r\n"
       ]
      },
      {
       "output_type": "stream",
       "stream": "stdout",
       "text": [
        "cp: cannot stat \u2018jhu-usc.edu_BLCA.HumanMethylation450.Level_1.9.8.0.tar.gz/*\u2019: Not a directory\r\n"
       ]
      },
      {
       "output_type": "stream",
       "stream": "stdout",
       "text": [
        "cp: cannot stat \u2018jhu-usc.edu_BLCA.HumanMethylation450.Level_1.9.9.0.tar.gz/*\u2019: Not a directory\r\n"
       ]
      },
      {
       "output_type": "stream",
       "stream": "stdout",
       "text": [
        "cp: cannot stat \u2018jhu-usc.edu_BLCA.HumanMethylation450.aux.1.0.0.tar.gz/*\u2019: Not a directory\r\n"
       ]
      },
      {
       "output_type": "stream",
       "stream": "stdout",
       "text": [
        "cp: cannot stat \u2018jhu-usc.edu_BLCA.HumanMethylation450.aux.1.0.0.tar.gz.1/*\u2019: Not a directory\r\n"
       ]
      },
      {
       "output_type": "stream",
       "stream": "stdout",
       "text": [
        "cp: cannot stat \u2018jhu-usc.edu_BLCA.HumanMethylation450.aux.1.1.0.tar.gz/*\u2019: Not a directory\r\n"
       ]
      },
      {
       "output_type": "stream",
       "stream": "stdout",
       "text": [
        "cp: cannot stat \u2018jhu-usc.edu_BLCA.HumanMethylation450.aux.1.1.0.tar.gz.1/*\u2019: Not a directory\r\n"
       ]
      },
      {
       "output_type": "stream",
       "stream": "stdout",
       "text": [
        "cp: cannot stat \u2018jhu-usc.edu_BLCA.HumanMethylation450.aux.1.10.0.tar.gz/*\u2019: Not a directory\r\n"
       ]
      },
      {
       "output_type": "stream",
       "stream": "stdout",
       "text": [
        "cp: cannot stat \u2018jhu-usc.edu_BLCA.HumanMethylation450.aux.1.10.0.tar.gz.1/*\u2019: Not a directory\r\n"
       ]
      },
      {
       "output_type": "stream",
       "stream": "stdout",
       "text": [
        "cp: cannot stat \u2018jhu-usc.edu_BLCA.HumanMethylation450.aux.1.11.0.tar.gz/*\u2019: Not a directory\r\n"
       ]
      },
      {
       "output_type": "stream",
       "stream": "stdout",
       "text": [
        "cp: cannot stat \u2018jhu-usc.edu_BLCA.HumanMethylation450.aux.1.11.0.tar.gz.1/*\u2019: Not a directory\r\n"
       ]
      },
      {
       "output_type": "stream",
       "stream": "stdout",
       "text": [
        "cp: cannot stat \u2018jhu-usc.edu_BLCA.HumanMethylation450.aux.1.12.0.tar.gz/*\u2019: Not a directory\r\n"
       ]
      },
      {
       "output_type": "stream",
       "stream": "stdout",
       "text": [
        "cp: cannot stat \u2018jhu-usc.edu_BLCA.HumanMethylation450.aux.1.12.0.tar.gz.1/*\u2019: Not a directory\r\n"
       ]
      },
      {
       "output_type": "stream",
       "stream": "stdout",
       "text": [
        "cp: cannot stat \u2018jhu-usc.edu_BLCA.HumanMethylation450.aux.1.13.0.tar.gz/*\u2019: Not a directory\r\n"
       ]
      },
      {
       "output_type": "stream",
       "stream": "stdout",
       "text": [
        "cp: cannot stat \u2018jhu-usc.edu_BLCA.HumanMethylation450.aux.1.13.0.tar.gz.1/*\u2019: Not a directory\r\n"
       ]
      },
      {
       "output_type": "stream",
       "stream": "stdout",
       "text": [
        "cp: cannot stat \u2018jhu-usc.edu_BLCA.HumanMethylation450.aux.1.14.0.tar.gz/*\u2019: Not a directory\r\n"
       ]
      },
      {
       "output_type": "stream",
       "stream": "stdout",
       "text": [
        "cp: cannot stat \u2018jhu-usc.edu_BLCA.HumanMethylation450.aux.1.14.0.tar.gz.1/*\u2019: Not a directory\r\n"
       ]
      },
      {
       "output_type": "stream",
       "stream": "stdout",
       "text": [
        "cp: cannot stat \u2018jhu-usc.edu_BLCA.HumanMethylation450.aux.1.15.0.tar.gz/*\u2019: Not a directory\r\n"
       ]
      },
      {
       "output_type": "stream",
       "stream": "stdout",
       "text": [
        "cp: cannot stat \u2018jhu-usc.edu_BLCA.HumanMethylation450.aux.1.15.0.tar.gz.1/*\u2019: Not a directory\r\n"
       ]
      },
      {
       "output_type": "stream",
       "stream": "stdout",
       "text": [
        "cp: cannot stat \u2018jhu-usc.edu_BLCA.HumanMethylation450.aux.1.16.0.tar.gz/*\u2019: Not a directory\r\n"
       ]
      },
      {
       "output_type": "stream",
       "stream": "stdout",
       "text": [
        "cp: cannot stat \u2018jhu-usc.edu_BLCA.HumanMethylation450.aux.1.16.0.tar.gz.1/*\u2019: Not a directory\r\n"
       ]
      },
      {
       "output_type": "stream",
       "stream": "stdout",
       "text": [
        "cp: cannot stat \u2018jhu-usc.edu_BLCA.HumanMethylation450.aux.1.17.0.tar.gz/*\u2019: Not a directory\r\n"
       ]
      },
      {
       "output_type": "stream",
       "stream": "stdout",
       "text": [
        "cp: cannot stat \u2018jhu-usc.edu_BLCA.HumanMethylation450.aux.1.17.0.tar.gz.1/*\u2019: Not a directory\r\n"
       ]
      },
      {
       "output_type": "stream",
       "stream": "stdout",
       "text": [
        "cp: cannot stat \u2018jhu-usc.edu_BLCA.HumanMethylation450.aux.1.2.0.tar.gz/*\u2019: Not a directory\r\n"
       ]
      },
      {
       "output_type": "stream",
       "stream": "stdout",
       "text": [
        "cp: cannot stat \u2018jhu-usc.edu_BLCA.HumanMethylation450.aux.1.2.0.tar.gz.1/*\u2019: Not a directory\r\n"
       ]
      },
      {
       "output_type": "stream",
       "stream": "stdout",
       "text": [
        "cp: cannot stat \u2018jhu-usc.edu_BLCA.HumanMethylation450.aux.1.3.0.tar.gz/*\u2019: Not a directory\r\n"
       ]
      },
      {
       "output_type": "stream",
       "stream": "stdout",
       "text": [
        "cp: cannot stat \u2018jhu-usc.edu_BLCA.HumanMethylation450.aux.1.3.0.tar.gz.1/*\u2019: Not a directory\r\n"
       ]
      },
      {
       "output_type": "stream",
       "stream": "stdout",
       "text": [
        "cp: cannot stat \u2018jhu-usc.edu_BLCA.HumanMethylation450.aux.1.4.0.tar.gz/*\u2019: Not a directory\r\n"
       ]
      },
      {
       "output_type": "stream",
       "stream": "stdout",
       "text": [
        "cp: cannot stat \u2018jhu-usc.edu_BLCA.HumanMethylation450.aux.1.4.0.tar.gz.1/*\u2019: Not a directory\r\n"
       ]
      },
      {
       "output_type": "stream",
       "stream": "stdout",
       "text": [
        "cp: cannot stat \u2018jhu-usc.edu_BLCA.HumanMethylation450.aux.1.5.0.tar.gz/*\u2019: Not a directory\r\n"
       ]
      },
      {
       "output_type": "stream",
       "stream": "stdout",
       "text": [
        "cp: cannot stat \u2018jhu-usc.edu_BLCA.HumanMethylation450.aux.1.5.0.tar.gz.1/*\u2019: Not a directory\r\n"
       ]
      },
      {
       "output_type": "stream",
       "stream": "stdout",
       "text": [
        "cp: cannot stat \u2018jhu-usc.edu_BLCA.HumanMethylation450.aux.1.6.0.tar.gz/*\u2019: Not a directory\r\n"
       ]
      },
      {
       "output_type": "stream",
       "stream": "stdout",
       "text": [
        "cp: cannot stat \u2018jhu-usc.edu_BLCA.HumanMethylation450.aux.1.6.0.tar.gz.1/*\u2019: Not a directory\r\n"
       ]
      },
      {
       "output_type": "stream",
       "stream": "stdout",
       "text": [
        "cp: cannot stat \u2018jhu-usc.edu_BLCA.HumanMethylation450.aux.1.7.0.tar.gz/*\u2019: Not a directory\r\n"
       ]
      },
      {
       "output_type": "stream",
       "stream": "stdout",
       "text": [
        "cp: cannot stat \u2018jhu-usc.edu_BLCA.HumanMethylation450.aux.1.7.0.tar.gz.1/*\u2019: Not a directory\r\n"
       ]
      },
      {
       "output_type": "stream",
       "stream": "stdout",
       "text": [
        "cp: cannot stat \u2018jhu-usc.edu_BLCA.HumanMethylation450.aux.1.8.0.tar.gz/*\u2019: Not a directory\r\n"
       ]
      },
      {
       "output_type": "stream",
       "stream": "stdout",
       "text": [
        "cp: cannot stat \u2018jhu-usc.edu_BLCA.HumanMethylation450.aux.1.8.0.tar.gz.1/*\u2019: Not a directory\r\n"
       ]
      },
      {
       "output_type": "stream",
       "stream": "stdout",
       "text": [
        "cp: cannot stat \u2018jhu-usc.edu_BLCA.HumanMethylation450.aux.1.9.0.tar.gz/*\u2019: Not a directory\r\n"
       ]
      },
      {
       "output_type": "stream",
       "stream": "stdout",
       "text": [
        "cp: cannot stat \u2018jhu-usc.edu_BLCA.HumanMethylation450.aux.1.9.0.tar.gz.1/*\u2019: Not a directory\r\n"
       ]
      },
      {
       "output_type": "stream",
       "stream": "stdout",
       "text": [
        "cp: cannot stat \u2018jhu-usc.edu_BLCA.HumanMethylation450.mage-tab.1.0.0.tar.gz/*\u2019: Not a directory\r\n"
       ]
      },
      {
       "output_type": "stream",
       "stream": "stdout",
       "text": [
        "cp: cannot stat \u2018jhu-usc.edu_BLCA.HumanMethylation450.mage-tab.1.1.0.tar.gz/*\u2019: Not a directory\r\n"
       ]
      },
      {
       "output_type": "stream",
       "stream": "stdout",
       "text": [
        "cp: cannot stat \u2018jhu-usc.edu_BLCA.HumanMethylation450.mage-tab.1.10.0.tar.gz/*\u2019: Not a directory\r\n"
       ]
      },
      {
       "output_type": "stream",
       "stream": "stdout",
       "text": [
        "cp: cannot stat \u2018jhu-usc.edu_BLCA.HumanMethylation450.mage-tab.1.11.0.tar.gz/*\u2019: Not a directory\r\n"
       ]
      },
      {
       "output_type": "stream",
       "stream": "stdout",
       "text": [
        "cp: cannot stat \u2018jhu-usc.edu_BLCA.HumanMethylation450.mage-tab.1.12.0.tar.gz/*\u2019: Not a directory\r\n"
       ]
      },
      {
       "output_type": "stream",
       "stream": "stdout",
       "text": [
        "cp: cannot stat \u2018jhu-usc.edu_BLCA.HumanMethylation450.mage-tab.1.13.0.tar.gz/*\u2019: Not a directory\r\n"
       ]
      },
      {
       "output_type": "stream",
       "stream": "stdout",
       "text": [
        "cp: cannot stat \u2018jhu-usc.edu_BLCA.HumanMethylation450.mage-tab.1.14.0.tar.gz/*\u2019: Not a directory\r\n"
       ]
      },
      {
       "output_type": "stream",
       "stream": "stdout",
       "text": [
        "cp: cannot stat \u2018jhu-usc.edu_BLCA.HumanMethylation450.mage-tab.1.15.0.tar.gz/*\u2019: Not a directory\r\n"
       ]
      },
      {
       "output_type": "stream",
       "stream": "stdout",
       "text": [
        "cp: cannot stat \u2018jhu-usc.edu_BLCA.HumanMethylation450.mage-tab.1.16.0.tar.gz/*\u2019: Not a directory\r\n"
       ]
      },
      {
       "output_type": "stream",
       "stream": "stdout",
       "text": [
        "cp: cannot stat \u2018jhu-usc.edu_BLCA.HumanMethylation450.mage-tab.1.17.0.tar.gz/*\u2019: Not a directory\r\n"
       ]
      },
      {
       "output_type": "stream",
       "stream": "stdout",
       "text": [
        "cp: cannot stat \u2018jhu-usc.edu_BLCA.HumanMethylation450.mage-tab.1.2.0.tar.gz/*\u2019: Not a directory\r\n"
       ]
      },
      {
       "output_type": "stream",
       "stream": "stdout",
       "text": [
        "cp: cannot stat \u2018jhu-usc.edu_BLCA.HumanMethylation450.mage-tab.1.3.0.tar.gz/*\u2019: Not a directory\r\n"
       ]
      },
      {
       "output_type": "stream",
       "stream": "stdout",
       "text": [
        "cp: cannot stat \u2018jhu-usc.edu_BLCA.HumanMethylation450.mage-tab.1.4.0.tar.gz/*\u2019: Not a directory\r\n"
       ]
      },
      {
       "output_type": "stream",
       "stream": "stdout",
       "text": [
        "cp: cannot stat \u2018jhu-usc.edu_BLCA.HumanMethylation450.mage-tab.1.5.0.tar.gz/*\u2019: Not a directory\r\n"
       ]
      },
      {
       "output_type": "stream",
       "stream": "stdout",
       "text": [
        "cp: cannot stat \u2018jhu-usc.edu_BLCA.HumanMethylation450.mage-tab.1.6.0.tar.gz/*\u2019: Not a directory\r\n"
       ]
      },
      {
       "output_type": "stream",
       "stream": "stdout",
       "text": [
        "cp: cannot stat \u2018jhu-usc.edu_BLCA.HumanMethylation450.mage-tab.1.7.0.tar.gz/*\u2019: Not a directory\r\n"
       ]
      },
      {
       "output_type": "stream",
       "stream": "stdout",
       "text": [
        "cp: cannot stat \u2018jhu-usc.edu_BLCA.HumanMethylation450.mage-tab.1.8.0.tar.gz/*\u2019: Not a directory\r\n"
       ]
      },
      {
       "output_type": "stream",
       "stream": "stdout",
       "text": [
        "cp: cannot stat \u2018jhu-usc.edu_BLCA.HumanMethylation450.mage-tab.1.9.0.tar.gz/*\u2019: Not a directory\r\n"
       ]
      },
      {
       "output_type": "stream",
       "stream": "stdout",
       "text": [
        "cp: cannot stat \u2018jhu-usc.edu_UVM.HumanMethylation450.Level_1.1.0.0.tar.gz/*\u2019: Not a directory\r\n"
       ]
      },
      {
       "output_type": "stream",
       "stream": "stdout",
       "text": [
        "cp: cannot stat \u2018jhu-usc.edu_UVM.HumanMethylation450.aux.1.0.0.tar.gz/*\u2019: Not a directory\r\n"
       ]
      },
      {
       "output_type": "stream",
       "stream": "stdout",
       "text": [
        "cp: cannot stat \u2018jhu-usc.edu_UVM.HumanMethylation450.aux.1.0.0.tar.gz.1/*\u2019: Not a directory\r\n"
       ]
      },
      {
       "output_type": "stream",
       "stream": "stdout",
       "text": [
        "cp: cannot stat \u2018jhu-usc.edu_UVM.HumanMethylation450.mage-tab.1.0.0.tar.gz/*\u2019: Not a directory\r\n"
       ]
      }
     ],
     "prompt_number": 28
    }
   ],
   "metadata": {}
  }
 ]
}