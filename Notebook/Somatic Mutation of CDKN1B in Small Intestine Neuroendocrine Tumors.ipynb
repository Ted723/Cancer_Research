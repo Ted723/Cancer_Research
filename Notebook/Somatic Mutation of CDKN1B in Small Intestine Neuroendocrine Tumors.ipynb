{
 "metadata": {
  "name": "",
  "signature": "sha256:8625dbef8b226dc1b954cf5a7d9881522186bd8021c6fe86aacee4861b0e9828"
 },
 "nbformat": 3,
 "nbformat_minor": 0,
 "worksheets": [
  {
   "cells": [
    {
     "cell_type": "heading",
     "level": 1,
     "metadata": {},
     "source": [
      "Somatic Mutation of CDKN1B in Small Intestine Neuroendocrine Tumors"
     ]
    },
    {
     "cell_type": "heading",
     "level": 3,
     "metadata": {},
     "source": [
      "Patient Analysis"
     ]
    },
    {
     "cell_type": "markdown",
     "metadata": {},
     "source": [
      "* 50 Patients w/ Small Intestine Neuroendocrine Tumors\n",
      "    * 55 Tumors Examined\n",
      "    * WES, WGS"
     ]
    },
    {
     "cell_type": "heading",
     "level": 3,
     "metadata": {},
     "source": [
      "Mutation Analysis"
     ]
    },
    {
     "cell_type": "markdown",
     "metadata": {},
     "source": [
      "* <b>Genes w/ somatic mutations:</b> 1,230 \n",
      "    * 90% mutated in only single individual\n",
      "    * .77/Mb non-silent SSNV rate\n",
      "* <b>Significantly Mutated Gene:</b> CDKN1B"
     ]
    },
    {
     "cell_type": "heading",
     "level": 3,
     "metadata": {},
     "source": [
      "Summary"
     ]
    },
    {
     "cell_type": "markdown",
     "metadata": {},
     "source": [
      "* <b>Main Points</b> (abstract)\n",
      "\n",
      "    1. Recurrent Somatic Mutations and Deletions in CDKN1B (gene that encodes p27)\n",
      "    2. Frameshift Mutations in 14/180 SI-NETs\n",
      "    3. Hemizygous deletions encompassing CDKN1B in 7/50 SI-NETs\n",
      "        *nominates p27 as a tumor supressor \n",
      "        *implicates cell cycle dysregulation in SI-NETs etiology\n",
      "\n",
      "* <b>Most Frequent Known Genomic Event </b>Hemizygous loss of chromosome 18 (log2(copy number/2) < \u22120.1)..... in ~78% (43/55) of SI-NETs, \n",
      "    * However, loss was associated with only a slight increase in the mutation rate genome wide (Supplementary Figs. 2 and 3).\n",
      "\n",
      "* Two genes, including BCL10, which is mutated in colorectal cancer27, to be altered exclusively in the 12 cases with diploid chromosome 18 (Supplementary Fig. 3d)\n",
      "\n",
      "<b>Next Most Frequent Genomic Event</b>: arm-level gains of chr 4,5,14, and 20"
     ]
    },
    {
     "cell_type": "heading",
     "level": 3,
     "metadata": {},
     "source": [
      "Mutational Analysis"
     ]
    },
    {
     "cell_type": "markdown",
     "metadata": {},
     "source": [
      "* <i>using MuText Algorithm</i>\n",
      "* Somatic Mutations: 1,230\n",
      "    * 90% mutated in only single individual\n",
      "    * .77/Mb non-silent SSNV rate\n",
      "    * 21 genes mutated in previous SI-NET study\n",
      "    * 17 were mutated in a pancreatic NET study (each in a single individual)\n",
      "* Significantly Mutated Gene (SMG): CDKN1B\n",
      "    * Small insertions/deletions in 10% (5/50) of cases --> frameshift mutations\n",
      "* Copy Number Analysis\n",
      "    * Hemizygous deletions encompassing CDKN1B in 7/50 SI-NETs\n",
      "        * 4/7 of these deletions reatained both copies of chr 18 compared to 8/35 SI-NETs w.out CDKN1B deletions\n",
      "        * <b>Note:</b> The region encompassingCDKN1B, at 12p13, is frequently hemizygously deleted in ovarian, prostate and non\u2013small cell lung cancers and multiple hematological malignancies"
     ]
    },
    {
     "cell_type": "markdown",
     "metadata": {},
     "source": [
      "<b>Fig 1: Mutational Analysis of 31 Primary and 19 Metastatic SI-NETs</b>\n",
      "\n",
      "<html><head><meta name=\"viewport\" content=\"width=device-width, minimum-scale=0.1\"><title>ng.2821-F1.jpg (946\u00d7569)</title></head><body style=\"margin: 0px;\"><img style=\"-webkit-user-select: none; cursor: -webkit-zoom-in;\" src=\"http://www.nature.com/ng/journal/v45/n12/images/ng.2821-F1.jpg\" width=\"923\" height=\"555\"></body></html>\n",
      "\n",
      "(a) Top, somatic mutation rate per Mb of the covered target sequence in the 50 cases. Bottom, the recurrent somatic mutation of CDKN1B and prominent somatic copy number alterations (SCNAs) found in each tumor. The sites and type of sequencing performed are indicated by the colored boxes. TP, primary tumor; TM, metastatic tumor. (b) Schematic representation of the frameshift mutations identified in CDKN1B. (c) Schematic of the hemizygous deletions identified that target CDKN1B. The minimally deleted region contains 20 genes (Supplementary Table 8)."
     ]
    },
    {
     "cell_type": "markdown",
     "metadata": {},
     "source": [
      "<b>Confirm Incidence of CDKN1B mutations in SI-NETs:</b>\n",
      "\n",
      "* Analyzed two independent cohorts\n",
      "    1. 48 SI-NETs reported by Banck\n",
      "        * 2 prev. unreported somatic deletions w/in CDKN1B that were not prev. analyzed for indels\n",
      "            *  both resulted in frameshift mutation\n",
      "    2. 81 SI-NETs extension set sequenced to a mean 800-fold coverage\n",
      "        * 7 small indels w/in CDKN1B that leadto frameshifts\n",
      "            * Extension set did not have paired germline DNA --> so we cannot exclude the possibility that some of these inactivating alterations are germline.\n",
      "\n",
      "* <b>Overall:</b> detected heterozygous frameshift mutations in CDKN1B in 8% (14/180) of the individuals analyzed\n",
      "    * Prescence is consistent with the possibility that CDKN1B acts as a haploinsuf-ficient tumor-suppressor gene in SI-NETs\n",
      "        * One possible explanation is that some expression of p27 is necessary for cell proliferation, as has been described in certain oncogenic models 17,18 , thus making biallelic deletion disfavored\n",
      "        * Several cancer genes that are recurrently mutated,including FBXW7, PTEN, DICER1 and CREBBP, were recently reportedto be haploinsufficient tumor suppressors in mouse genetic models of cancer\n",
      "        * The increased susceptibility to tumors after DNA damagethat is observed in Cdkn1b heterozygous knockout mouse models along\n",
      "with elevated cellular proliferation 23\u201326 is consistent with the hypoth-\n",
      "esis that CDKN1B is haploinsufficient for tumor suppression"
     ]
    },
    {
     "cell_type": "markdown",
     "metadata": {},
     "source": [
      "<b>Fig 2: Somatic Mutation and Copy Number Discordance between Primary and Metastatic Tumors </b>\n",
      "\n",
      "<html><head><meta name=\"viewport\" content=\"width=device-width, minimum-scale=0.1\"><title>ng.2821-F2.jpg (946\u00d7850)</title></head><body style=\"margin: 0px;\"><img style=\"-webkit-user-select: none; cursor: -webkit-zoom-in;\" src=\"http://www.nature.com/ng/journal/v45/n12/images/ng.2821-F2.jpg\" width=\"750\" height=\"674\"></body></html>\n",
      "\n",
      "(a) Venn diagram depicting the concordance and discordance in somatic mutation calls in primary or metastatic lesions analyzed in five cases. (b) Copy number profiles for concordant and discordant primary and metastatic tumors."
     ]
    },
    {
     "cell_type": "markdown",
     "metadata": {},
     "source": [
      "<b>Hemizygous Loss of Chr 18:</b> 43/55 (78%) of cases\n",
      "\n",
      "* loss associated w/ only slight increase in mutation rate genome wide\n",
      "\n",
      "* 2 genes altered exclusively in the 12 cases w. diploid chr 16\n",
      "\n",
      "* Because of the high frequency of hemizygous deletion of chromosome 18, we examined the cohort for somatic mutations to growth-inhibitory or \u2018STOP\u2019 28 genes within the three frequently deleted regions of this chromosome\n",
      "    * we observed no somatic mutations, it is pos-\n",
      "sible that hemizygous loss of these genes may contribute to SI-NET\n",
      "tumorigenesis through altered gene dosage\n",
      "\n",
      "* In addition, comparison with genes that are mutated in small cell lung cancer 29,30 , a tumor type that shares neuroendocrine characteristics with SI-NETs, showed 199 genes with mutations in common in both\n",
      "    * however, this overlap may be due to the high overall mutation rate in small cell 12\n",
      "lung cancer rather than a shared mechanism\n",
      "of tumorigenesis"
     ]
    },
    {
     "cell_type": "markdown",
     "metadata": {},
     "source": [
      "<b>WGS:</b> 24 tumor-normal pairs <i> to determine genomic arrangements</i>\n",
      "\n",
      "* The number of somatic rearrangements detected by paired-end and split-read mapping31, 32 ranged from 0 to 45 per case, with a median of 7 (Supplementary Fig. 5 and Supplementary Table 12).\n",
      "    * Of those rearrangements, 20% (33/163) involved genes or promoter regions, leading to five potential fusion proteins and two in-frame deletions; \n",
      "        * however, none of these rearrangements was recurrent (Supplementary Table 13). \n",
      "\n",
      "* The concordance of SSNVs identified through whole-genome and whole-exome sequencing was ~95% on average when sufficient coverage was available6."
     ]
    },
    {
     "cell_type": "markdown",
     "metadata": {},
     "source": [
      "<b> Tumor Heterogeneity and its challenges(?) </b>\n",
      "\n",
      "* Comparison of exomic mutations and copy number data for paired primary and metastatic tumors revealed no overlap in SSNVs or somatic copy number alterations between the primary tumor and metastasis in two out of five primary-metastatic-normal trios (Fig. 2 and Supplementary Table 14). \n",
      "\n",
      "* Confirmed that germline SNPs were concordant in the trios to exclude sample mix up. \n",
      "    * In one particular case (A16), the primary tumor contained a CDKN1B frameshift mutation and the metastasis did not, a phenomenon that has also been reported for PIK3CA and EGFR in breast and non\u2013small cell lung cancer, respectively\n",
      "    * It is hypothesized that the metastases in these two cases may have been derived from an undiagnosed independent primary lesion, a subclonal population that was not detected bysequencing or a clone that was shed from the primary tumor early in the progression and before the acquisition of major genomic events.\n",
      "\n",
      "* In contrast, Banck et al. 5 assessed the overlap of 35 gene mutations in paired primary and metastasis samples and observed an 83% concordance in five cases\n",
      "\n",
      "* It is hypothesized that the metastases in thesetwo cases may have been derived from an undiagnosed independent primary lesion, a subclonal population that was not detected by sequencing or a clone that was shed from the primary tumor early in the progression and before the acquisition of major genomic events.\n",
      "    * A Fisher\u2019s exact test comparing a case series with two primary-metastatic discordances and three concordances to a case series with five primary-metastatic somatic mutation concordances and no discordances yielded P = 0.22, which is consistent with the null hypothesis that the two data sets are identical.\n",
      "        * Suggests SI-NETs are observed in a population in which a subset of patients may harbor multifocal tumors and another subset may harbor unifocal tumors\n",
      "\n",
      "\n",
      "<b>Overall:</b> The discordance between primary tumors and metastasis, along with the multifocal nature of SI-NETs, highlights a challenge in identifying underlying driving events in these tumors.\n"
     ]
    },
    {
     "cell_type": "markdown",
     "metadata": {},
     "source": [
      "<b>Somatic Mutations targeting CDKN1B (cell cycle regulatory gene)</b>\n",
      "\n",
      "* Most Frequent gene specific event in SI-NETs\n",
      "* Also known as MEN4\n",
      "    * Is mutated in the germline of families with a phenotype of MEN-1 syndrome without an identifiable mutation in MEN1\n",
      "    * Furthermore, menin, the product of MEN1, associates with promoter regions to mediate the expression of CDKN1B and CDKN2C through epigenetic regulation\n",
      "    \n",
      "* CDKN1B binds to and inhibits CDK2 and CDK4\n",
      "\n",
      "* In contrast to CDKN2A and related genes encoding inhibitors of CDK4\u2013CDK6:\n",
      "    * somatic mutations in CDKN1B were recently reported at a low frequency in breast and prostate cancers"
     ]
    },
    {
     "cell_type": "markdown",
     "metadata": {},
     "source": [
      "<b>Summary:</b> Comprehensive genomic analysis of somatic variants and whole genomes of SI-NETs. \n",
      "\n",
      "* SI-NETs are dominated by large, arm-level copy number gains and losses, but we found strikingly few recurrent somatic gene alterations. \n",
      "\n",
      "* The discovery of recurrent CDKN1B mutations raises the possibility that the p21-p27-p57 family proteins may be haploinsufficient tumor suppressors \n",
      "    * Suggests a focus on cell cycle regulation in understanding the pathogenesis of SI-NETs."
     ]
    },
    {
     "cell_type": "markdown",
     "metadata": {},
     "source": [
      "<b>Accession Code</b>\n",
      "\n",
      "* Whole-exome sequencing of 55 SI-NETs and whole-genome sequencing of 24 SI-NETs: accession code phs000579.v1.p1.\n"
     ]
    },
    {
     "cell_type": "heading",
     "level": 2,
     "metadata": {},
     "source": [
      "Data Analysis"
     ]
    },
    {
     "cell_type": "code",
     "collapsed": false,
     "input": [
      "import NotebookImport\n",
      "from Imports import *"
     ],
     "language": "python",
     "metadata": {},
     "outputs": [
      {
       "html": [
        "importing IPython notebook from <a href='./Imports.ipynb' target='_blank'>Imports</a>"
       ],
       "metadata": {},
       "output_type": "display_data"
      },
      {
       "output_type": "stream",
       "stream": "stdout",
       "text": [
        "Populating the interactive namespace from numpy and matplotlib\n"
       ]
      }
     ],
     "prompt_number": 3
    },
    {
     "cell_type": "code",
     "collapsed": false,
     "input": [
      "PATH = '{}/{}/Somatic mutation of CDKN1B in small \\\n",
      "intestineneuroendocrine tumors/'.format(LOCAL_DIR, PAPERS)"
     ],
     "language": "python",
     "metadata": {},
     "outputs": [],
     "prompt_number": 4
    },
    {
     "cell_type": "heading",
     "level": 3,
     "metadata": {},
     "source": [
      "Patient Data"
     ]
    },
    {
     "cell_type": "code",
     "collapsed": false,
     "input": [
      "patdata = pd.read_csv(PATH + 'brown.csv', sep='\\t')\n",
      "patdata.to_csv(MUT_PATH + 'patcharCDKN1Bneuro.csv')\n",
      "patdata.head()"
     ],
     "language": "python",
     "metadata": {},
     "outputs": [
      {
       "html": [
        "<div style=\"max-height:1000px;max-width:1500px;overflow:auto;\">\n",
        "<table border=\"1\" class=\"dataframe\">\n",
        "  <thead>\n",
        "    <tr style=\"text-align: right;\">\n",
        "      <th></th>\n",
        "      <th>Patient_id</th>\n",
        "      <th>Gender</th>\n",
        "      <th>Age_At_Diagnosis</th>\n",
        "      <th>Tumor_ID</th>\n",
        "      <th>Tumor_Type</th>\n",
        "      <th>Tumor_Site</th>\n",
        "      <th>WES</th>\n",
        "      <th>WGS</th>\n",
        "      <th>SNP6.0</th>\n",
        "      <th>Targeted CDKN1B</th>\n",
        "    </tr>\n",
        "  </thead>\n",
        "  <tbody>\n",
        "    <tr>\n",
        "      <th>0</th>\n",
        "      <td> A4</td>\n",
        "      <td> F</td>\n",
        "      <td> 60</td>\n",
        "      <td> A4_TP</td>\n",
        "      <td>    Primary</td>\n",
        "      <td> Small intestine</td>\n",
        "      <td> Yes</td>\n",
        "      <td> NaN</td>\n",
        "      <td> NaN</td>\n",
        "      <td> NaN</td>\n",
        "    </tr>\n",
        "    <tr>\n",
        "      <th>1</th>\n",
        "      <td> A6</td>\n",
        "      <td> F</td>\n",
        "      <td> 44</td>\n",
        "      <td> A6_TM</td>\n",
        "      <td> Metastasis</td>\n",
        "      <td>           Liver</td>\n",
        "      <td> Yes</td>\n",
        "      <td> NaN</td>\n",
        "      <td> NaN</td>\n",
        "      <td> NaN</td>\n",
        "    </tr>\n",
        "    <tr>\n",
        "      <th>2</th>\n",
        "      <td> A7</td>\n",
        "      <td> M</td>\n",
        "      <td> 52</td>\n",
        "      <td> A7_TM</td>\n",
        "      <td> Metastasis</td>\n",
        "      <td>           Liver</td>\n",
        "      <td> Yes</td>\n",
        "      <td> NaN</td>\n",
        "      <td> NaN</td>\n",
        "      <td> NaN</td>\n",
        "    </tr>\n",
        "    <tr>\n",
        "      <th>3</th>\n",
        "      <td> A8</td>\n",
        "      <td> M</td>\n",
        "      <td> 46</td>\n",
        "      <td> A8_TM</td>\n",
        "      <td> Metastasis</td>\n",
        "      <td>           Liver</td>\n",
        "      <td> Yes</td>\n",
        "      <td> NaN</td>\n",
        "      <td> NaN</td>\n",
        "      <td> NaN</td>\n",
        "    </tr>\n",
        "    <tr>\n",
        "      <th>4</th>\n",
        "      <td> A9</td>\n",
        "      <td> F</td>\n",
        "      <td> 39</td>\n",
        "      <td> A9_TM</td>\n",
        "      <td> Metastasis</td>\n",
        "      <td>           Liver</td>\n",
        "      <td> Yes</td>\n",
        "      <td> NaN</td>\n",
        "      <td> NaN</td>\n",
        "      <td> NaN</td>\n",
        "    </tr>\n",
        "  </tbody>\n",
        "</table>\n",
        "</div>"
       ],
       "metadata": {},
       "output_type": "pyout",
       "prompt_number": 6,
       "text": [
        "  Patient_id Gender Age_At_Diagnosis Tumor_ID  Tumor_Type       Tumor_Site  \\\n",
        "0         A4      F               60    A4_TP     Primary  Small intestine   \n",
        "1         A6      F               44    A6_TM  Metastasis            Liver   \n",
        "2         A7      M               52    A7_TM  Metastasis            Liver   \n",
        "3         A8      M               46    A8_TM  Metastasis            Liver   \n",
        "4         A9      F               39    A9_TM  Metastasis            Liver   \n",
        "\n",
        "   WES  WGS SNP6.0 Targeted CDKN1B  \n",
        "0  Yes  NaN    NaN             NaN  \n",
        "1  Yes  NaN    NaN             NaN  \n",
        "2  Yes  NaN    NaN             NaN  \n",
        "3  Yes  NaN    NaN             NaN  \n",
        "4  Yes  NaN    NaN             NaN  "
       ]
      }
     ],
     "prompt_number": 6
    },
    {
     "cell_type": "heading",
     "level": 3,
     "metadata": {},
     "source": [
      "Mutation Data "
     ]
    },
    {
     "cell_type": "heading",
     "level": 5,
     "metadata": {},
     "source": [
      "1) Somatic Mutations by WES"
     ]
    },
    {
     "cell_type": "code",
     "collapsed": false,
     "input": [
      "s = pd.read_csv(PATH + 'Somatic_Mutations_Identified_by_Exome_Sequencing.csv')\n",
      "muts=s[['Hugo_Symbol','Chromosome','Variant_Classification','Variant_Type',\n",
      "        'Tumor_Sample_Barcode','Genome_Change','cDNA_Change','Codon_Change',\n",
      "        'Protein_Change','type','classification','chr',]]\n",
      "muts.rename(columns={'Hugo_Symbol':'Gene','Tumor_Sample_Barcode':'Tumor_ID'}, inplace=True)\n",
      "muts['Tissue'] = 'Small Intestine Neuroendocrine'\n",
      "muts.to_csv(MUT_PATH + 'mutdataCDKN1Bneuro.csv')\n",
      "muts.head()"
     ],
     "language": "python",
     "metadata": {},
     "outputs": [
      {
       "output_type": "stream",
       "stream": "stderr",
       "text": [
        "/cellar/users/talejand/anaconda/lib/python2.7/site-packages/pandas/core/frame.py:2194: SettingWithCopyWarning: A value is trying to be set on a copy of a slice from a DataFrame\n",
        "  **kwargs)\n"
       ]
      },
      {
       "html": [
        "<div style=\"max-height:1000px;max-width:1500px;overflow:auto;\">\n",
        "<table border=\"1\" class=\"dataframe\">\n",
        "  <thead>\n",
        "    <tr style=\"text-align: right;\">\n",
        "      <th></th>\n",
        "      <th>Gene</th>\n",
        "      <th>Chromosome</th>\n",
        "      <th>Variant_Classification</th>\n",
        "      <th>Variant_Type</th>\n",
        "      <th>Tumor_ID</th>\n",
        "      <th>Genome_Change</th>\n",
        "      <th>cDNA_Change</th>\n",
        "      <th>Codon_Change</th>\n",
        "      <th>Protein_Change</th>\n",
        "      <th>type</th>\n",
        "      <th>classification</th>\n",
        "      <th>chr</th>\n",
        "      <th>Tissue</th>\n",
        "    </tr>\n",
        "  </thead>\n",
        "  <tbody>\n",
        "    <tr>\n",
        "      <th>0</th>\n",
        "      <td> MARCH11</td>\n",
        "      <td>  5</td>\n",
        "      <td>            Silent</td>\n",
        "      <td> SNP</td>\n",
        "      <td>  H7_TP</td>\n",
        "      <td>  g.chr5:16067658G&gt;A</td>\n",
        "      <td> c.1131C&gt;T</td>\n",
        "      <td> c.(1129-1131)TTC&gt;TTT</td>\n",
        "      <td> p.F377F</td>\n",
        "      <td>            Silent</td>\n",
        "      <td> SNP</td>\n",
        "      <td>  5</td>\n",
        "      <td> Small Intestine Neuroendocrine</td>\n",
        "    </tr>\n",
        "    <tr>\n",
        "      <th>1</th>\n",
        "      <td>   SEPT5</td>\n",
        "      <td> 22</td>\n",
        "      <td>            Silent</td>\n",
        "      <td> SNP</td>\n",
        "      <td> H62_TP</td>\n",
        "      <td> g.chr22:19707729G&gt;T</td>\n",
        "      <td>  c.330G&gt;T</td>\n",
        "      <td>   c.(328-330)CCG&gt;CCT</td>\n",
        "      <td> p.P110P</td>\n",
        "      <td>            Silent</td>\n",
        "      <td> SNP</td>\n",
        "      <td> 22</td>\n",
        "      <td> Small Intestine Neuroendocrine</td>\n",
        "    </tr>\n",
        "    <tr>\n",
        "      <th>2</th>\n",
        "      <td>   SEP15</td>\n",
        "      <td>  1</td>\n",
        "      <td> Missense_Mutation</td>\n",
        "      <td> SNP</td>\n",
        "      <td> B15_TP</td>\n",
        "      <td>  g.chr1:87346348G&gt;T</td>\n",
        "      <td>  c.313C&gt;A</td>\n",
        "      <td>   c.(313-315)CAA&gt;AAA</td>\n",
        "      <td> p.Q105K</td>\n",
        "      <td> Missense_Mutation</td>\n",
        "      <td> SNP</td>\n",
        "      <td>  1</td>\n",
        "      <td> Small Intestine Neuroendocrine</td>\n",
        "    </tr>\n",
        "    <tr>\n",
        "      <th>3</th>\n",
        "      <td>    A1BG</td>\n",
        "      <td> 19</td>\n",
        "      <td>            Silent</td>\n",
        "      <td> SNP</td>\n",
        "      <td>  T7_TP</td>\n",
        "      <td> g.chr19:58863785C&gt;T</td>\n",
        "      <td>  c.477G&gt;A</td>\n",
        "      <td>   c.(475-477)CTG&gt;CTA</td>\n",
        "      <td> p.L159L</td>\n",
        "      <td>            Silent</td>\n",
        "      <td> SNP</td>\n",
        "      <td> 19</td>\n",
        "      <td> Small Intestine Neuroendocrine</td>\n",
        "    </tr>\n",
        "    <tr>\n",
        "      <th>4</th>\n",
        "      <td>     A2M</td>\n",
        "      <td> 12</td>\n",
        "      <td> Missense_Mutation</td>\n",
        "      <td> SNP</td>\n",
        "      <td> H62_TP</td>\n",
        "      <td>  g.chr12:9261989A&gt;G</td>\n",
        "      <td>  c.686T&gt;C</td>\n",
        "      <td>   c.(685-687)TTT&gt;TCT</td>\n",
        "      <td> p.F229S</td>\n",
        "      <td> Missense_Mutation</td>\n",
        "      <td> SNP</td>\n",
        "      <td> 12</td>\n",
        "      <td> Small Intestine Neuroendocrine</td>\n",
        "    </tr>\n",
        "  </tbody>\n",
        "</table>\n",
        "</div>"
       ],
       "metadata": {},
       "output_type": "pyout",
       "prompt_number": 7,
       "text": [
        "      Gene Chromosome Variant_Classification Variant_Type Tumor_ID  \\\n",
        "0  MARCH11          5                 Silent          SNP    H7_TP   \n",
        "1    SEPT5         22                 Silent          SNP   H62_TP   \n",
        "2    SEP15          1      Missense_Mutation          SNP   B15_TP   \n",
        "3     A1BG         19                 Silent          SNP    T7_TP   \n",
        "4      A2M         12      Missense_Mutation          SNP   H62_TP   \n",
        "\n",
        "         Genome_Change cDNA_Change          Codon_Change Protein_Change  \\\n",
        "0   g.chr5:16067658G>A   c.1131C>T  c.(1129-1131)TTC>TTT        p.F377F   \n",
        "1  g.chr22:19707729G>T    c.330G>T    c.(328-330)CCG>CCT        p.P110P   \n",
        "2   g.chr1:87346348G>T    c.313C>A    c.(313-315)CAA>AAA        p.Q105K   \n",
        "3  g.chr19:58863785C>T    c.477G>A    c.(475-477)CTG>CTA        p.L159L   \n",
        "4   g.chr12:9261989A>G    c.686T>C    c.(685-687)TTT>TCT        p.F229S   \n",
        "\n",
        "                type classification  chr                          Tissue  \n",
        "0             Silent            SNP    5  Small Intestine Neuroendocrine  \n",
        "1             Silent            SNP   22  Small Intestine Neuroendocrine  \n",
        "2  Missense_Mutation            SNP    1  Small Intestine Neuroendocrine  \n",
        "3             Silent            SNP   19  Small Intestine Neuroendocrine  \n",
        "4  Missense_Mutation            SNP   12  Small Intestine Neuroendocrine  "
       ]
      }
     ],
     "prompt_number": 7
    },
    {
     "cell_type": "heading",
     "level": 3,
     "metadata": {},
     "source": [
      "Merged Data"
     ]
    },
    {
     "cell_type": "markdown",
     "metadata": {},
     "source": [
      "* Why can't I drop mayo? - don't know why I wrote this\n",
      "* Age is Age at Diagnosis\n",
      "* Look at dropping using threshold again\n",
      "* Did I mess up merge?\n",
      "    * Gender value counts has alot of nans\n",
      "        * Might why be messing up age/gender plot"
     ]
    },
    {
     "cell_type": "code",
     "collapsed": false,
     "input": [
      "merged = pd.merge(patdata, muts, how='right')\n",
      "merged.dropna(axis=1, thresh=4, inplace=True)\n",
      "merged.rename(columns={'Variant_Type':'Mutation_Classification',\n",
      "                       'Age_At_Diagnosis':'Age','Variant_Classification':'Mutation_Type',\n",
      "                       'Tumor_ID':'Patient_ID','Chromosome':'Chr'}, inplace=True)\n",
      "merged.Gender = merged.Gender.astype(str)\n",
      "merged.to_csv(MERGED_PATH + 'mergedCDKN1Bneuro.csv')\n",
      "merged.head()"
     ],
     "language": "python",
     "metadata": {},
     "outputs": [
      {
       "html": [
        "<div style=\"max-height:1000px;max-width:1500px;overflow:auto;\">\n",
        "<table border=\"1\" class=\"dataframe\">\n",
        "  <thead>\n",
        "    <tr style=\"text-align: right;\">\n",
        "      <th></th>\n",
        "      <th>Patient_id</th>\n",
        "      <th>Gender</th>\n",
        "      <th>Age</th>\n",
        "      <th>Patient_ID</th>\n",
        "      <th>Tumor_Type</th>\n",
        "      <th>Tumor_Site</th>\n",
        "      <th>WES</th>\n",
        "      <th>WGS</th>\n",
        "      <th>SNP6.0</th>\n",
        "      <th>Gene</th>\n",
        "      <th>...</th>\n",
        "      <th>Mutation_Type</th>\n",
        "      <th>Mutation_Classification</th>\n",
        "      <th>Genome_Change</th>\n",
        "      <th>cDNA_Change</th>\n",
        "      <th>Codon_Change</th>\n",
        "      <th>Protein_Change</th>\n",
        "      <th>type</th>\n",
        "      <th>classification</th>\n",
        "      <th>chr</th>\n",
        "      <th>Tissue</th>\n",
        "    </tr>\n",
        "  </thead>\n",
        "  <tbody>\n",
        "    <tr>\n",
        "      <th>0</th>\n",
        "      <td> A4</td>\n",
        "      <td> F</td>\n",
        "      <td> 60</td>\n",
        "      <td> A4_TP</td>\n",
        "      <td> Primary</td>\n",
        "      <td> Small intestine</td>\n",
        "      <td> Yes</td>\n",
        "      <td> NaN</td>\n",
        "      <td> NaN</td>\n",
        "      <td> CDC27</td>\n",
        "      <td>...</td>\n",
        "      <td>   Frame_Shift_Del</td>\n",
        "      <td> DEL</td>\n",
        "      <td> g.chr17:45219612delA</td>\n",
        "      <td> c.1361delT</td>\n",
        "      <td>   c.(1360-1362)CTAfs</td>\n",
        "      <td> p.L454fs</td>\n",
        "      <td>   Frame_Shift_Del</td>\n",
        "      <td> DEL</td>\n",
        "      <td> 17</td>\n",
        "      <td> Small Intestine Neuroendocrine</td>\n",
        "    </tr>\n",
        "    <tr>\n",
        "      <th>1</th>\n",
        "      <td> A4</td>\n",
        "      <td> F</td>\n",
        "      <td> 60</td>\n",
        "      <td> A4_TP</td>\n",
        "      <td> Primary</td>\n",
        "      <td> Small intestine</td>\n",
        "      <td> Yes</td>\n",
        "      <td> NaN</td>\n",
        "      <td> NaN</td>\n",
        "      <td> CPT1A</td>\n",
        "      <td>...</td>\n",
        "      <td> Missense_Mutation</td>\n",
        "      <td> SNP</td>\n",
        "      <td>  g.chr11:68566772T&gt;A</td>\n",
        "      <td>   c.607A&gt;T</td>\n",
        "      <td>   c.(607-609)ACA&gt;TCA</td>\n",
        "      <td>  p.T203S</td>\n",
        "      <td> Missense_Mutation</td>\n",
        "      <td> SNP</td>\n",
        "      <td> 11</td>\n",
        "      <td> Small Intestine Neuroendocrine</td>\n",
        "    </tr>\n",
        "    <tr>\n",
        "      <th>2</th>\n",
        "      <td> A4</td>\n",
        "      <td> F</td>\n",
        "      <td> 60</td>\n",
        "      <td> A4_TP</td>\n",
        "      <td> Primary</td>\n",
        "      <td> Small intestine</td>\n",
        "      <td> Yes</td>\n",
        "      <td> NaN</td>\n",
        "      <td> NaN</td>\n",
        "      <td> GLUD2</td>\n",
        "      <td>...</td>\n",
        "      <td> Missense_Mutation</td>\n",
        "      <td> SNP</td>\n",
        "      <td>  g.chrX:120182359G&gt;A</td>\n",
        "      <td>   c.821G&gt;A</td>\n",
        "      <td>   c.(820-822)CGT&gt;CAT</td>\n",
        "      <td>  p.R274H</td>\n",
        "      <td> Missense_Mutation</td>\n",
        "      <td> SNP</td>\n",
        "      <td> 23</td>\n",
        "      <td> Small Intestine Neuroendocrine</td>\n",
        "    </tr>\n",
        "    <tr>\n",
        "      <th>3</th>\n",
        "      <td> A4</td>\n",
        "      <td> F</td>\n",
        "      <td> 60</td>\n",
        "      <td> A4_TP</td>\n",
        "      <td> Primary</td>\n",
        "      <td> Small intestine</td>\n",
        "      <td> Yes</td>\n",
        "      <td> NaN</td>\n",
        "      <td> NaN</td>\n",
        "      <td>  HECA</td>\n",
        "      <td>...</td>\n",
        "      <td> Missense_Mutation</td>\n",
        "      <td> SNP</td>\n",
        "      <td>  g.chr6:139487889G&gt;A</td>\n",
        "      <td>   c.740G&gt;A</td>\n",
        "      <td>   c.(739-741)CGG&gt;CAG</td>\n",
        "      <td>  p.R247Q</td>\n",
        "      <td> Missense_Mutation</td>\n",
        "      <td> SNP</td>\n",
        "      <td>  6</td>\n",
        "      <td> Small Intestine Neuroendocrine</td>\n",
        "    </tr>\n",
        "    <tr>\n",
        "      <th>4</th>\n",
        "      <td> A4</td>\n",
        "      <td> F</td>\n",
        "      <td> 60</td>\n",
        "      <td> A4_TP</td>\n",
        "      <td> Primary</td>\n",
        "      <td> Small intestine</td>\n",
        "      <td> Yes</td>\n",
        "      <td> NaN</td>\n",
        "      <td> NaN</td>\n",
        "      <td> MCM10</td>\n",
        "      <td>...</td>\n",
        "      <td> Missense_Mutation</td>\n",
        "      <td> SNP</td>\n",
        "      <td>  g.chr10:13240722G&gt;A</td>\n",
        "      <td>  c.2156G&gt;A</td>\n",
        "      <td> c.(2155-2157)AGG&gt;AAG</td>\n",
        "      <td>  p.R719K</td>\n",
        "      <td> Missense_Mutation</td>\n",
        "      <td> SNP</td>\n",
        "      <td> 10</td>\n",
        "      <td> Small Intestine Neuroendocrine</td>\n",
        "    </tr>\n",
        "  </tbody>\n",
        "</table>\n",
        "<p>5 rows \u00d7 21 columns</p>\n",
        "</div>"
       ],
       "metadata": {},
       "output_type": "pyout",
       "prompt_number": 17,
       "text": [
        "  Patient_id Gender Age Patient_ID Tumor_Type       Tumor_Site  WES  WGS  \\\n",
        "0         A4      F  60      A4_TP    Primary  Small intestine  Yes  NaN   \n",
        "1         A4      F  60      A4_TP    Primary  Small intestine  Yes  NaN   \n",
        "2         A4      F  60      A4_TP    Primary  Small intestine  Yes  NaN   \n",
        "3         A4      F  60      A4_TP    Primary  Small intestine  Yes  NaN   \n",
        "4         A4      F  60      A4_TP    Primary  Small intestine  Yes  NaN   \n",
        "\n",
        "  SNP6.0   Gene  ...        Mutation_Type Mutation_Classification  \\\n",
        "0    NaN  CDC27  ...      Frame_Shift_Del                     DEL   \n",
        "1    NaN  CPT1A  ...    Missense_Mutation                     SNP   \n",
        "2    NaN  GLUD2  ...    Missense_Mutation                     SNP   \n",
        "3    NaN   HECA  ...    Missense_Mutation                     SNP   \n",
        "4    NaN  MCM10  ...    Missense_Mutation                     SNP   \n",
        "\n",
        "          Genome_Change cDNA_Change          Codon_Change Protein_Change  \\\n",
        "0  g.chr17:45219612delA  c.1361delT    c.(1360-1362)CTAfs       p.L454fs   \n",
        "1   g.chr11:68566772T>A    c.607A>T    c.(607-609)ACA>TCA        p.T203S   \n",
        "2   g.chrX:120182359G>A    c.821G>A    c.(820-822)CGT>CAT        p.R274H   \n",
        "3   g.chr6:139487889G>A    c.740G>A    c.(739-741)CGG>CAG        p.R247Q   \n",
        "4   g.chr10:13240722G>A   c.2156G>A  c.(2155-2157)AGG>AAG        p.R719K   \n",
        "\n",
        "                type classification chr                          Tissue  \n",
        "0    Frame_Shift_Del            DEL  17  Small Intestine Neuroendocrine  \n",
        "1  Missense_Mutation            SNP  11  Small Intestine Neuroendocrine  \n",
        "2  Missense_Mutation            SNP  23  Small Intestine Neuroendocrine  \n",
        "3  Missense_Mutation            SNP   6  Small Intestine Neuroendocrine  \n",
        "4  Missense_Mutation            SNP  10  Small Intestine Neuroendocrine  \n",
        "\n",
        "[5 rows x 21 columns]"
       ]
      }
     ],
     "prompt_number": 17
    },
    {
     "cell_type": "code",
     "collapsed": false,
     "input": [
      "plot_genome_(merged)"
     ],
     "language": "python",
     "metadata": {},
     "outputs": [
      {
       "metadata": {},
       "output_type": "display_data",
       "png": "[encoded data removed]",
       "text": [
        "<matplotlib.figure.Figure at 0x7f31127df490>"
       ]
      }
     ],
     "prompt_number": 16
    },
    {
     "cell_type": "code",
     "collapsed": false,
     "input": [
      "plot_gene_protein(merged)"
     ],
     "language": "python",
     "metadata": {},
     "outputs": [
      {
       "metadata": {},
       "output_type": "display_data",
       "png": "[encoded data removed]",
       "text": [
        "<matplotlib.figure.Figure at 0x7f3112b1ca90>"
       ]
      }
     ],
     "prompt_number": 14
    },
    {
     "cell_type": "code",
     "collapsed": false,
     "input": [
      "plot_age_gender(merged)"
     ],
     "language": "python",
     "metadata": {},
     "outputs": [
      {
       "ename": "AttributeError",
       "evalue": "'DataFrame' object has no attribute 'Mutation_Category'",
       "output_type": "pyerr",
       "traceback": [
        "\u001b[1;31m---------------------------------------------------------------------------\u001b[0m\n\u001b[1;31mAttributeError\u001b[0m                            Traceback (most recent call last)",
        "\u001b[1;32m<ipython-input-15-2e1c5cf11347>\u001b[0m in \u001b[0;36m<module>\u001b[1;34m()\u001b[0m\n\u001b[1;32m----> 1\u001b[1;33m \u001b[0mplot_mutationtype_mutationcategory\u001b[0m\u001b[1;33m(\u001b[0m\u001b[0mmerged\u001b[0m\u001b[1;33m)\u001b[0m\u001b[1;33m\u001b[0m\u001b[0m\n\u001b[0m",
        "\u001b[1;32m/cellar/users/talejand/Documents/IdekerLab/BackUp/Notebook/Imports.ipynb\u001b[0m in \u001b[0;36mplot_mutationtype_mutationcategory\u001b[1;34m(clinical)\u001b[0m\n",
        "\u001b[1;32m/cellar/users/talejand/anaconda/lib/python2.7/site-packages/pandas/core/generic.pyc\u001b[0m in \u001b[0;36m__getattr__\u001b[1;34m(self, name)\u001b[0m\n\u001b[0;32m   1841\u001b[0m                 \u001b[1;32mreturn\u001b[0m \u001b[0mself\u001b[0m\u001b[1;33m[\u001b[0m\u001b[0mname\u001b[0m\u001b[1;33m]\u001b[0m\u001b[1;33m\u001b[0m\u001b[0m\n\u001b[0;32m   1842\u001b[0m             raise AttributeError(\"'%s' object has no attribute '%s'\" %\n\u001b[1;32m-> 1843\u001b[1;33m                                  (type(self).__name__, name))\n\u001b[0m\u001b[0;32m   1844\u001b[0m \u001b[1;33m\u001b[0m\u001b[0m\n\u001b[0;32m   1845\u001b[0m     \u001b[1;32mdef\u001b[0m \u001b[0m__setattr__\u001b[0m\u001b[1;33m(\u001b[0m\u001b[0mself\u001b[0m\u001b[1;33m,\u001b[0m \u001b[0mname\u001b[0m\u001b[1;33m,\u001b[0m \u001b[0mvalue\u001b[0m\u001b[1;33m)\u001b[0m\u001b[1;33m:\u001b[0m\u001b[1;33m\u001b[0m\u001b[0m\n",
        "\u001b[1;31mAttributeError\u001b[0m: 'DataFrame' object has no attribute 'Mutation_Category'"
       ]
      },
      {
       "metadata": {},
       "output_type": "display_data",
       "png": "[encoded data removed]",
       "text": [
        "<matplotlib.figure.Figure at 0x7f3112919110>"
       ]
      }
     ],
     "prompt_number": 15
    },
    {
     "cell_type": "code",
     "collapsed": false,
     "input": [
      "plot_mutationtype_mutationcategory(merged)"
     ],
     "language": "python",
     "metadata": {},
     "outputs": []
    },
    {
     "cell_type": "heading",
     "level": 1,
     "metadata": {},
     "source": [
      "First Data Analysis"
     ]
    },
    {
     "cell_type": "markdown",
     "metadata": {},
     "source": [
      "* Probably very rudimentary, but wanted to include anyways"
     ]
    },
    {
     "cell_type": "heading",
     "level": 6,
     "metadata": {},
     "source": [
      "Why wont data set below drop missing values in gender column\n",
      "# ok it did, but instead of 1 put gender"
     ]
    },
    {
     "cell_type": "heading",
     "level": 6,
     "metadata": {},
     "source": [
      "Female, age top to bottom, with site of cancer in liver"
     ]
    },
    {
     "cell_type": "code",
     "collapsed": false,
     "input": [
      "patdata.columns= ['Gender','Age','Tumor_ID','Tumor_Type','Site','WES','WGS','SNP6.0','Targeted_CDKN1B']\n",
      "a= patdata.drop(['WGS','WES','SNP6.0','Targeted_CDKN1B','Tumor_ID'],1)\n",
      "b= a.sort('Gender', ascending=False)\n",
      "\n",
      "c=b.query('Gender != [\"M\"]').dropna(subset=['Gender'])\n",
      "d=c.sort('Age', ascending=False)\n",
      "d.sort('Site').query('Site != [\"Small intestine\",\"Lymph node\"]')"
     ],
     "language": "python",
     "metadata": {},
     "outputs": [
      {
       "html": [
        "<div style=\"max-height:1000px;max-width:1500px;overflow:auto;\">\n",
        "<table border=\"1\" class=\"dataframe\">\n",
        "  <thead>\n",
        "    <tr style=\"text-align: right;\">\n",
        "      <th></th>\n",
        "      <th>Gender</th>\n",
        "      <th>Age</th>\n",
        "      <th>Tumor_Type</th>\n",
        "      <th>Site</th>\n",
        "    </tr>\n",
        "    <tr>\n",
        "      <th>Patient_id</th>\n",
        "      <th></th>\n",
        "      <th></th>\n",
        "      <th></th>\n",
        "      <th></th>\n",
        "    </tr>\n",
        "  </thead>\n",
        "  <tbody>\n",
        "    <tr>\n",
        "      <th>A12</th>\n",
        "      <td> F</td>\n",
        "      <td> 68</td>\n",
        "      <td> Metastasis</td>\n",
        "      <td> Liver</td>\n",
        "    </tr>\n",
        "    <tr>\n",
        "      <th>H56</th>\n",
        "      <td> F</td>\n",
        "      <td> 63</td>\n",
        "      <td> Metastasis</td>\n",
        "      <td> Liver</td>\n",
        "    </tr>\n",
        "    <tr>\n",
        "      <th>T8</th>\n",
        "      <td> F</td>\n",
        "      <td> 59</td>\n",
        "      <td> Metastasis</td>\n",
        "      <td> Liver</td>\n",
        "    </tr>\n",
        "    <tr>\n",
        "      <th>B13</th>\n",
        "      <td> F</td>\n",
        "      <td> 56</td>\n",
        "      <td> Metastasis</td>\n",
        "      <td> Liver</td>\n",
        "    </tr>\n",
        "    <tr>\n",
        "      <th>D192</th>\n",
        "      <td> F</td>\n",
        "      <td> 56</td>\n",
        "      <td> Metastasis</td>\n",
        "      <td> Liver</td>\n",
        "    </tr>\n",
        "    <tr>\n",
        "      <th>B1</th>\n",
        "      <td> F</td>\n",
        "      <td> 52</td>\n",
        "      <td> Metastasis</td>\n",
        "      <td> Liver</td>\n",
        "    </tr>\n",
        "    <tr>\n",
        "      <th>A6</th>\n",
        "      <td> F</td>\n",
        "      <td> 44</td>\n",
        "      <td> Metastasis</td>\n",
        "      <td> Liver</td>\n",
        "    </tr>\n",
        "    <tr>\n",
        "      <th>D184</th>\n",
        "      <td> F</td>\n",
        "      <td> 42</td>\n",
        "      <td> Metastasis</td>\n",
        "      <td> Liver</td>\n",
        "    </tr>\n",
        "    <tr>\n",
        "      <th>T6</th>\n",
        "      <td> F</td>\n",
        "      <td> 40</td>\n",
        "      <td> Metastasis</td>\n",
        "      <td> Liver</td>\n",
        "    </tr>\n",
        "    <tr>\n",
        "      <th>A9</th>\n",
        "      <td> F</td>\n",
        "      <td> 39</td>\n",
        "      <td> Metastasis</td>\n",
        "      <td> Liver</td>\n",
        "    </tr>\n",
        "  </tbody>\n",
        "</table>\n",
        "</div>"
       ],
       "metadata": {},
       "output_type": "pyout",
       "prompt_number": 9,
       "text": [
        "           Gender Age  Tumor_Type   Site\n",
        "Patient_id                              \n",
        "A12             F  68  Metastasis  Liver\n",
        "H56             F  63  Metastasis  Liver\n",
        "T8              F  59  Metastasis  Liver\n",
        "B13             F  56  Metastasis  Liver\n",
        "D192            F  56  Metastasis  Liver\n",
        "B1              F  52  Metastasis  Liver\n",
        "A6              F  44  Metastasis  Liver\n",
        "D184            F  42  Metastasis  Liver\n",
        "T6              F  40  Metastasis  Liver\n",
        "A9              F  39  Metastasis  Liver"
       ]
      }
     ],
     "prompt_number": 9
    },
    {
     "cell_type": "heading",
     "level": 6,
     "metadata": {},
     "source": [
      "VS: Now Male, age top to bottom, with liver cancer site (shows that now manipulation of data is easier with the framework already constructed)"
     ]
    },
    {
     "cell_type": "code",
     "collapsed": false,
     "input": [
      "patdata.columns= ['Gender','Age','Tumor_ID','Tumor_Type','Site','WES','WGS','SNP6.0','Targeted_CDKN1B']\n",
      "a= patdata.drop(['WGS','WES','SNP6.0','Targeted_CDKN1B','Tumor_ID'],1)\n",
      "b= a.sort('Gender', ascending=False)\n",
      "\n",
      "c=b.query('Gender != [\"F\"]').dropna(subset=['Gender'])\n",
      "d=c.sort('Age', ascending=False)\n",
      "d.sort('Site').query('Site != [\"Small intestine\",\"Lymph node\"]')"
     ],
     "language": "python",
     "metadata": {},
     "outputs": [
      {
       "html": [
        "<div style=\"max-height:1000px;max-width:1500px;overflow:auto;\">\n",
        "<table border=\"1\" class=\"dataframe\">\n",
        "  <thead>\n",
        "    <tr style=\"text-align: right;\">\n",
        "      <th></th>\n",
        "      <th>Gender</th>\n",
        "      <th>Age</th>\n",
        "      <th>Tumor_Type</th>\n",
        "      <th>Site</th>\n",
        "    </tr>\n",
        "    <tr>\n",
        "      <th>Patient_id</th>\n",
        "      <th></th>\n",
        "      <th></th>\n",
        "      <th></th>\n",
        "      <th></th>\n",
        "    </tr>\n",
        "  </thead>\n",
        "  <tbody>\n",
        "    <tr>\n",
        "      <th>H6</th>\n",
        "      <td> M</td>\n",
        "      <td> 68</td>\n",
        "      <td> Metastasis</td>\n",
        "      <td>       Liver</td>\n",
        "    </tr>\n",
        "    <tr>\n",
        "      <th>B2</th>\n",
        "      <td> M</td>\n",
        "      <td> 67</td>\n",
        "      <td> Metastasis</td>\n",
        "      <td>       Liver</td>\n",
        "    </tr>\n",
        "    <tr>\n",
        "      <th>H58</th>\n",
        "      <td> M</td>\n",
        "      <td> 63</td>\n",
        "      <td> Metastasis</td>\n",
        "      <td>       Liver</td>\n",
        "    </tr>\n",
        "    <tr>\n",
        "      <th>H10</th>\n",
        "      <td> M</td>\n",
        "      <td> 59</td>\n",
        "      <td> Metastasis</td>\n",
        "      <td>       Liver</td>\n",
        "    </tr>\n",
        "    <tr>\n",
        "      <th>A7</th>\n",
        "      <td> M</td>\n",
        "      <td> 52</td>\n",
        "      <td> Metastasis</td>\n",
        "      <td>       Liver</td>\n",
        "    </tr>\n",
        "    <tr>\n",
        "      <th>A8</th>\n",
        "      <td> M</td>\n",
        "      <td> 46</td>\n",
        "      <td> Metastasis</td>\n",
        "      <td>       Liver</td>\n",
        "    </tr>\n",
        "    <tr>\n",
        "      <th>A14</th>\n",
        "      <td> M</td>\n",
        "      <td> 37</td>\n",
        "      <td> Metastasis</td>\n",
        "      <td>       Liver</td>\n",
        "    </tr>\n",
        "    <tr>\n",
        "      <th>H27</th>\n",
        "      <td> M</td>\n",
        "      <td> 37</td>\n",
        "      <td> Metastasis</td>\n",
        "      <td>       Liver</td>\n",
        "    </tr>\n",
        "    <tr>\n",
        "      <th>T10</th>\n",
        "      <td> M</td>\n",
        "      <td> 59</td>\n",
        "      <td> Metastasis</td>\n",
        "      <td> Soft tissue</td>\n",
        "    </tr>\n",
        "    <tr>\n",
        "      <th>D183</th>\n",
        "      <td> M</td>\n",
        "      <td> 58</td>\n",
        "      <td> Metastasis</td>\n",
        "      <td> Soft tissue</td>\n",
        "    </tr>\n",
        "  </tbody>\n",
        "</table>\n",
        "</div>"
       ],
       "metadata": {},
       "output_type": "pyout",
       "prompt_number": 10,
       "text": [
        "           Gender Age  Tumor_Type         Site\n",
        "Patient_id                                    \n",
        "H6              M  68  Metastasis        Liver\n",
        "B2              M  67  Metastasis        Liver\n",
        "H58             M  63  Metastasis        Liver\n",
        "H10             M  59  Metastasis        Liver\n",
        "A7              M  52  Metastasis        Liver\n",
        "A8              M  46  Metastasis        Liver\n",
        "A14             M  37  Metastasis        Liver\n",
        "H27             M  37  Metastasis        Liver\n",
        "T10             M  59  Metastasis  Soft tissue\n",
        "D183            M  58  Metastasis  Soft tissue"
       ]
      }
     ],
     "prompt_number": 10
    },
    {
     "cell_type": "code",
     "collapsed": true,
     "input": [
      "patdata.columns= ['Gender','Age','Tumor_ID','Tumor_Type','Site','WES','WGS','SNP6.0','Targeted_CDKN1B']\n",
      "a= patdata.drop(['WGS','WES','SNP6.0','Tumor_ID'],1)\n",
      "b= a.sort('Gender', ascending=False)\n",
      "\n",
      "c=b.query('Gender != [\"F\"]').dropna(subset=['Gender'])\n",
      "d=c.sort('Age', ascending=True)\n",
      "d.sort('Tumor_Type' == 'Metastasis')"
     ],
     "language": "python",
     "metadata": {},
     "outputs": [
      {
       "ename": "KeyError",
       "evalue": "False",
       "output_type": "pyerr",
       "traceback": [
        "\u001b[1;31m---------------------------------------------------------------------------\u001b[0m\n\u001b[1;31mKeyError\u001b[0m                                  Traceback (most recent call last)",
        "\u001b[1;32m<ipython-input-11-108346ccdefd>\u001b[0m in \u001b[0;36m<module>\u001b[1;34m()\u001b[0m\n\u001b[0;32m      5\u001b[0m \u001b[0mc\u001b[0m\u001b[1;33m=\u001b[0m\u001b[0mb\u001b[0m\u001b[1;33m.\u001b[0m\u001b[0mquery\u001b[0m\u001b[1;33m(\u001b[0m\u001b[1;34m'Gender != [\"F\"]'\u001b[0m\u001b[1;33m)\u001b[0m\u001b[1;33m.\u001b[0m\u001b[0mdropna\u001b[0m\u001b[1;33m(\u001b[0m\u001b[0msubset\u001b[0m\u001b[1;33m=\u001b[0m\u001b[1;33m[\u001b[0m\u001b[1;34m'Gender'\u001b[0m\u001b[1;33m]\u001b[0m\u001b[1;33m)\u001b[0m\u001b[1;33m\u001b[0m\u001b[0m\n\u001b[0;32m      6\u001b[0m \u001b[0md\u001b[0m\u001b[1;33m=\u001b[0m\u001b[0mc\u001b[0m\u001b[1;33m.\u001b[0m\u001b[0msort\u001b[0m\u001b[1;33m(\u001b[0m\u001b[1;34m'Age'\u001b[0m\u001b[1;33m,\u001b[0m \u001b[0mascending\u001b[0m\u001b[1;33m=\u001b[0m\u001b[0mTrue\u001b[0m\u001b[1;33m)\u001b[0m\u001b[1;33m\u001b[0m\u001b[0m\n\u001b[1;32m----> 7\u001b[1;33m \u001b[0md\u001b[0m\u001b[1;33m.\u001b[0m\u001b[0msort\u001b[0m\u001b[1;33m(\u001b[0m\u001b[1;34m'Tumor_Type'\u001b[0m \u001b[1;33m==\u001b[0m \u001b[1;34m'Metastasis'\u001b[0m\u001b[1;33m)\u001b[0m\u001b[1;33m\u001b[0m\u001b[0m\n\u001b[0m",
        "\u001b[1;32m/cellar/users/agross/anaconda2/lib/python2.7/site-packages/pandas-0.14.1.dev-py2.7-linux-x86_64.egg/pandas/core/frame.pyc\u001b[0m in \u001b[0;36msort\u001b[1;34m(self, columns, axis, ascending, inplace, kind, na_position)\u001b[0m\n\u001b[0;32m   2683\u001b[0m         \"\"\"\n\u001b[0;32m   2684\u001b[0m         return self.sort_index(by=columns, axis=axis, ascending=ascending,\n\u001b[1;32m-> 2685\u001b[1;33m                                inplace=inplace, kind=kind, na_position=na_position)\n\u001b[0m\u001b[0;32m   2686\u001b[0m \u001b[1;33m\u001b[0m\u001b[0m\n\u001b[0;32m   2687\u001b[0m     def sort_index(self, axis=0, by=None, ascending=True, inplace=False,\n",
        "\u001b[1;32m/cellar/users/agross/anaconda2/lib/python2.7/site-packages/pandas-0.14.1.dev-py2.7-linux-x86_64.egg/pandas/core/frame.pyc\u001b[0m in \u001b[0;36msort_index\u001b[1;34m(self, axis, by, ascending, inplace, kind, na_position)\u001b[0m\n\u001b[0;32m   2751\u001b[0m             \u001b[1;32melse\u001b[0m\u001b[1;33m:\u001b[0m\u001b[1;33m\u001b[0m\u001b[0m\n\u001b[0;32m   2752\u001b[0m                 \u001b[0mby\u001b[0m \u001b[1;33m=\u001b[0m \u001b[0mby\u001b[0m\u001b[1;33m[\u001b[0m\u001b[1;36m0\u001b[0m\u001b[1;33m]\u001b[0m\u001b[1;33m\u001b[0m\u001b[0m\n\u001b[1;32m-> 2753\u001b[1;33m                 \u001b[0mk\u001b[0m \u001b[1;33m=\u001b[0m \u001b[0mself\u001b[0m\u001b[1;33m[\u001b[0m\u001b[0mby\u001b[0m\u001b[1;33m]\u001b[0m\u001b[1;33m.\u001b[0m\u001b[0mvalues\u001b[0m\u001b[1;33m\u001b[0m\u001b[0m\n\u001b[0m\u001b[0;32m   2754\u001b[0m                 \u001b[1;32mif\u001b[0m \u001b[0mk\u001b[0m\u001b[1;33m.\u001b[0m\u001b[0mndim\u001b[0m \u001b[1;33m==\u001b[0m \u001b[1;36m2\u001b[0m\u001b[1;33m:\u001b[0m\u001b[1;33m\u001b[0m\u001b[0m\n\u001b[0;32m   2755\u001b[0m \u001b[1;33m\u001b[0m\u001b[0m\n",
        "\u001b[1;32m/cellar/users/agross/anaconda2/lib/python2.7/site-packages/pandas-0.14.1.dev-py2.7-linux-x86_64.egg/pandas/core/frame.pyc\u001b[0m in \u001b[0;36m__getitem__\u001b[1;34m(self, key)\u001b[0m\n\u001b[0;32m   1677\u001b[0m             \u001b[1;32mreturn\u001b[0m \u001b[0mself\u001b[0m\u001b[1;33m.\u001b[0m\u001b[0m_getitem_multilevel\u001b[0m\u001b[1;33m(\u001b[0m\u001b[0mkey\u001b[0m\u001b[1;33m)\u001b[0m\u001b[1;33m\u001b[0m\u001b[0m\n\u001b[0;32m   1678\u001b[0m         \u001b[1;32melse\u001b[0m\u001b[1;33m:\u001b[0m\u001b[1;33m\u001b[0m\u001b[0m\n\u001b[1;32m-> 1679\u001b[1;33m             \u001b[1;32mreturn\u001b[0m \u001b[0mself\u001b[0m\u001b[1;33m.\u001b[0m\u001b[0m_getitem_column\u001b[0m\u001b[1;33m(\u001b[0m\u001b[0mkey\u001b[0m\u001b[1;33m)\u001b[0m\u001b[1;33m\u001b[0m\u001b[0m\n\u001b[0m\u001b[0;32m   1680\u001b[0m \u001b[1;33m\u001b[0m\u001b[0m\n\u001b[0;32m   1681\u001b[0m     \u001b[1;32mdef\u001b[0m \u001b[0m_getitem_column\u001b[0m\u001b[1;33m(\u001b[0m\u001b[0mself\u001b[0m\u001b[1;33m,\u001b[0m \u001b[0mkey\u001b[0m\u001b[1;33m)\u001b[0m\u001b[1;33m:\u001b[0m\u001b[1;33m\u001b[0m\u001b[0m\n",
        "\u001b[1;32m/cellar/users/agross/anaconda2/lib/python2.7/site-packages/pandas-0.14.1.dev-py2.7-linux-x86_64.egg/pandas/core/frame.pyc\u001b[0m in \u001b[0;36m_getitem_column\u001b[1;34m(self, key)\u001b[0m\n\u001b[0;32m   1684\u001b[0m         \u001b[1;31m# get column\u001b[0m\u001b[1;33m\u001b[0m\u001b[1;33m\u001b[0m\u001b[0m\n\u001b[0;32m   1685\u001b[0m         \u001b[1;32mif\u001b[0m \u001b[0mself\u001b[0m\u001b[1;33m.\u001b[0m\u001b[0mcolumns\u001b[0m\u001b[1;33m.\u001b[0m\u001b[0mis_unique\u001b[0m\u001b[1;33m:\u001b[0m\u001b[1;33m\u001b[0m\u001b[0m\n\u001b[1;32m-> 1686\u001b[1;33m             \u001b[1;32mreturn\u001b[0m \u001b[0mself\u001b[0m\u001b[1;33m.\u001b[0m\u001b[0m_get_item_cache\u001b[0m\u001b[1;33m(\u001b[0m\u001b[0mkey\u001b[0m\u001b[1;33m)\u001b[0m\u001b[1;33m\u001b[0m\u001b[0m\n\u001b[0m\u001b[0;32m   1687\u001b[0m \u001b[1;33m\u001b[0m\u001b[0m\n\u001b[0;32m   1688\u001b[0m         \u001b[1;31m# duplicate columns & possible reduce dimensionaility\u001b[0m\u001b[1;33m\u001b[0m\u001b[1;33m\u001b[0m\u001b[0m\n",
        "\u001b[1;32m/cellar/users/agross/anaconda2/lib/python2.7/site-packages/pandas-0.14.1.dev-py2.7-linux-x86_64.egg/pandas/core/generic.pyc\u001b[0m in \u001b[0;36m_get_item_cache\u001b[1;34m(self, item)\u001b[0m\n\u001b[0;32m   1050\u001b[0m         \u001b[0mres\u001b[0m \u001b[1;33m=\u001b[0m \u001b[0mcache\u001b[0m\u001b[1;33m.\u001b[0m\u001b[0mget\u001b[0m\u001b[1;33m(\u001b[0m\u001b[0mitem\u001b[0m\u001b[1;33m)\u001b[0m\u001b[1;33m\u001b[0m\u001b[0m\n\u001b[0;32m   1051\u001b[0m         \u001b[1;32mif\u001b[0m \u001b[0mres\u001b[0m \u001b[1;32mis\u001b[0m \u001b[0mNone\u001b[0m\u001b[1;33m:\u001b[0m\u001b[1;33m\u001b[0m\u001b[0m\n\u001b[1;32m-> 1052\u001b[1;33m             \u001b[0mvalues\u001b[0m \u001b[1;33m=\u001b[0m \u001b[0mself\u001b[0m\u001b[1;33m.\u001b[0m\u001b[0m_data\u001b[0m\u001b[1;33m.\u001b[0m\u001b[0mget\u001b[0m\u001b[1;33m(\u001b[0m\u001b[0mitem\u001b[0m\u001b[1;33m)\u001b[0m\u001b[1;33m\u001b[0m\u001b[0m\n\u001b[0m\u001b[0;32m   1053\u001b[0m             \u001b[0mres\u001b[0m \u001b[1;33m=\u001b[0m \u001b[0mself\u001b[0m\u001b[1;33m.\u001b[0m\u001b[0m_box_item_values\u001b[0m\u001b[1;33m(\u001b[0m\u001b[0mitem\u001b[0m\u001b[1;33m,\u001b[0m \u001b[0mvalues\u001b[0m\u001b[1;33m)\u001b[0m\u001b[1;33m\u001b[0m\u001b[0m\n\u001b[0;32m   1054\u001b[0m             \u001b[0mcache\u001b[0m\u001b[1;33m[\u001b[0m\u001b[0mitem\u001b[0m\u001b[1;33m]\u001b[0m \u001b[1;33m=\u001b[0m \u001b[0mres\u001b[0m\u001b[1;33m\u001b[0m\u001b[0m\n",
        "\u001b[1;32m/cellar/users/agross/anaconda2/lib/python2.7/site-packages/pandas-0.14.1.dev-py2.7-linux-x86_64.egg/pandas/core/internals.pyc\u001b[0m in \u001b[0;36mget\u001b[1;34m(self, item, fastpath)\u001b[0m\n\u001b[0;32m   2772\u001b[0m \u001b[1;33m\u001b[0m\u001b[0m\n\u001b[0;32m   2773\u001b[0m             \u001b[1;32mif\u001b[0m \u001b[1;32mnot\u001b[0m \u001b[0misnull\u001b[0m\u001b[1;33m(\u001b[0m\u001b[0mitem\u001b[0m\u001b[1;33m)\u001b[0m\u001b[1;33m:\u001b[0m\u001b[1;33m\u001b[0m\u001b[0m\n\u001b[1;32m-> 2774\u001b[1;33m                 \u001b[0mloc\u001b[0m \u001b[1;33m=\u001b[0m \u001b[0mself\u001b[0m\u001b[1;33m.\u001b[0m\u001b[0mitems\u001b[0m\u001b[1;33m.\u001b[0m\u001b[0mget_loc\u001b[0m\u001b[1;33m(\u001b[0m\u001b[0mitem\u001b[0m\u001b[1;33m)\u001b[0m\u001b[1;33m\u001b[0m\u001b[0m\n\u001b[0m\u001b[0;32m   2775\u001b[0m             \u001b[1;32melse\u001b[0m\u001b[1;33m:\u001b[0m\u001b[1;33m\u001b[0m\u001b[0m\n\u001b[0;32m   2776\u001b[0m                 \u001b[0mindexer\u001b[0m \u001b[1;33m=\u001b[0m \u001b[0mnp\u001b[0m\u001b[1;33m.\u001b[0m\u001b[0marange\u001b[0m\u001b[1;33m(\u001b[0m\u001b[0mlen\u001b[0m\u001b[1;33m(\u001b[0m\u001b[0mself\u001b[0m\u001b[1;33m.\u001b[0m\u001b[0mitems\u001b[0m\u001b[1;33m)\u001b[0m\u001b[1;33m)\u001b[0m\u001b[1;33m[\u001b[0m\u001b[0misnull\u001b[0m\u001b[1;33m(\u001b[0m\u001b[0mself\u001b[0m\u001b[1;33m.\u001b[0m\u001b[0mitems\u001b[0m\u001b[1;33m)\u001b[0m\u001b[1;33m]\u001b[0m\u001b[1;33m\u001b[0m\u001b[0m\n",
        "\u001b[1;32m/cellar/users/agross/anaconda2/lib/python2.7/site-packages/pandas-0.14.1.dev-py2.7-linux-x86_64.egg/pandas/core/index.pyc\u001b[0m in \u001b[0;36mget_loc\u001b[1;34m(self, key)\u001b[0m\n\u001b[0;32m   1212\u001b[0m         \u001b[0mloc\u001b[0m \u001b[1;33m:\u001b[0m \u001b[0mint\u001b[0m \u001b[1;32mif\u001b[0m \u001b[0munique\u001b[0m \u001b[0mindex\u001b[0m\u001b[1;33m,\u001b[0m \u001b[0mpossibly\u001b[0m \u001b[0mslice\u001b[0m \u001b[1;32mor\u001b[0m \u001b[0mmask\u001b[0m \u001b[1;32mif\u001b[0m \u001b[1;32mnot\u001b[0m\u001b[1;33m\u001b[0m\u001b[0m\n\u001b[0;32m   1213\u001b[0m         \"\"\"\n\u001b[1;32m-> 1214\u001b[1;33m         \u001b[1;32mreturn\u001b[0m \u001b[0mself\u001b[0m\u001b[1;33m.\u001b[0m\u001b[0m_engine\u001b[0m\u001b[1;33m.\u001b[0m\u001b[0mget_loc\u001b[0m\u001b[1;33m(\u001b[0m\u001b[0m_values_from_object\u001b[0m\u001b[1;33m(\u001b[0m\u001b[0mkey\u001b[0m\u001b[1;33m)\u001b[0m\u001b[1;33m)\u001b[0m\u001b[1;33m\u001b[0m\u001b[0m\n\u001b[0m\u001b[0;32m   1215\u001b[0m \u001b[1;33m\u001b[0m\u001b[0m\n\u001b[0;32m   1216\u001b[0m     \u001b[1;32mdef\u001b[0m \u001b[0mget_value\u001b[0m\u001b[1;33m(\u001b[0m\u001b[0mself\u001b[0m\u001b[1;33m,\u001b[0m \u001b[0mseries\u001b[0m\u001b[1;33m,\u001b[0m \u001b[0mkey\u001b[0m\u001b[1;33m)\u001b[0m\u001b[1;33m:\u001b[0m\u001b[1;33m\u001b[0m\u001b[0m\n",
        "\u001b[1;32m/cellar/users/agross/anaconda2/lib/python2.7/site-packages/pandas-0.14.1.dev-py2.7-linux-x86_64.egg/pandas/index.so\u001b[0m in \u001b[0;36mpandas.index.IndexEngine.get_loc (pandas/index.c:3572)\u001b[1;34m()\u001b[0m\n",
        "\u001b[1;32m/cellar/users/agross/anaconda2/lib/python2.7/site-packages/pandas-0.14.1.dev-py2.7-linux-x86_64.egg/pandas/index.so\u001b[0m in \u001b[0;36mpandas.index.IndexEngine.get_loc (pandas/index.c:3452)\u001b[1;34m()\u001b[0m\n",
        "\u001b[1;32m/cellar/users/agross/anaconda2/lib/python2.7/site-packages/pandas-0.14.1.dev-py2.7-linux-x86_64.egg/pandas/hashtable.so\u001b[0m in \u001b[0;36mpandas.hashtable.PyObjectHashTable.get_item (pandas/hashtable.c:11343)\u001b[1;34m()\u001b[0m\n",
        "\u001b[1;32m/cellar/users/agross/anaconda2/lib/python2.7/site-packages/pandas-0.14.1.dev-py2.7-linux-x86_64.egg/pandas/hashtable.so\u001b[0m in \u001b[0;36mpandas.hashtable.PyObjectHashTable.get_item (pandas/hashtable.c:11296)\u001b[1;34m()\u001b[0m\n",
        "\u001b[1;31mKeyError\u001b[0m: False"
       ]
      }
     ],
     "prompt_number": 11
    },
    {
     "cell_type": "code",
     "collapsed": false,
     "input": [
      "patdata.dropna(subset=['WGS']).count()"
     ],
     "language": "python",
     "metadata": {},
     "outputs": [
      {
       "metadata": {},
       "output_type": "pyout",
       "prompt_number": 12,
       "text": [
        "Gender             21\n",
        "Age                21\n",
        "Tumor_ID           24\n",
        "Tumor_Type         24\n",
        "Site               24\n",
        "WES                23\n",
        "WGS                24\n",
        "SNP6.0             13\n",
        "Targeted_CDKN1B     0\n",
        "dtype: int64"
       ]
      }
     ],
     "prompt_number": 12
    },
    {
     "cell_type": "heading",
     "level": 2,
     "metadata": {},
     "source": [
      "So, as seen above: Female patients of all ages in the study had a metastasis tumor when in the liver"
     ]
    }
   ],
   "metadata": {}
  }
 ]
}