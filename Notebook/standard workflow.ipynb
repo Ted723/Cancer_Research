{
 "metadata": {
  "name": "",
  "signature": "sha256:6ea1848aa95f064e73a58d9fd5eb500c359f4d4b09024784f5bd5036eec0f664"
 },
 "nbformat": 3,
 "nbformat_minor": 0,
 "worksheets": [
  {
   "cells": [
    {
     "cell_type": "code",
     "collapsed": false,
     "input": [
      "%pylab inline\n",
      "import pandas as pd\n",
      "PATH = '/cellar/users/talejand/Documents/IdekerLab/CancerPapers/'"
     ],
     "language": "python",
     "metadata": {},
     "outputs": [
      {
       "output_type": "stream",
       "stream": "stdout",
       "text": [
        "Populating the interactive namespace from numpy and matplotlib\n"
       ]
      }
     ],
     "prompt_number": 6
    },
    {
     "cell_type": "heading",
     "level": 2,
     "metadata": {},
     "source": [
      "Patient Data"
     ]
    },
    {
     "cell_type": "code",
     "collapsed": false,
     "input": [
      "#a = pd.read_csv(PATH + '', usecols= ['','','']) # can index, use cols, ...\n",
      "\n",
      "\n",
      "####clean up:\n",
      "\n",
      "\n",
      "a.dropduplicates()\n",
      "#a.dropna(how='all', thresh = 5, ...)\n",
      "a.rename(columns={'':'','':'','':''}, inplace=True)\n",
      "a['Tissue'] = ''\n",
      "a.to_csv('/cellar/users/talejand/Documents/IdekerLab/CancerPapers/PatData/       ')\n",
      "\n",
      "a\n",
      "\n",
      "\n",
      "\n"
     ],
     "language": "python",
     "metadata": {},
     "outputs": [
      {
       "output_type": "stream",
       "stream": "stdout",
       "text": [
        "Object `rename` not found.\n"
       ]
      }
     ],
     "prompt_number": 5
    },
    {
     "cell_type": "heading",
     "level": 2,
     "metadata": {},
     "source": [
      "Mutation Data"
     ]
    },
    {
     "cell_type": "code",
     "collapsed": false,
     "input": [
      "#b = pd.read_csv(PATH + '', usecols= ['','','']) # can index, use cols, ...\n",
      "\n",
      "\n",
      "###clean up\n",
      "\n",
      "#b.dropna(how='all', thresh = 5, ...)\n",
      "\n",
      "\n",
      "b.rename(columns={'':'','':'','':''}, inplace=True)\n",
      "b['Tissue'] = ''\n",
      "b.to_csv('/cellar/users/talejand/Documents/IdekerLab/CancerPapers/MutData/      ')\n",
      "\n",
      "b\n"
     ],
     "language": "python",
     "metadata": {},
     "outputs": []
    },
    {
     "cell_type": "code",
     "collapsed": false,
     "input": [],
     "language": "python",
     "metadata": {},
     "outputs": []
    },
    {
     "cell_type": "heading",
     "level": 2,
     "metadata": {},
     "source": [
      "Merged Data"
     ]
    },
    {
     "cell_type": "code",
     "collapsed": false,
     "input": [
      "merged = pd.merge(a, b, how='outer')\n",
      "\n",
      "###clean up\n",
      "\n",
      "#merged.dropna(how='all', thresh = 5, ...)\n",
      "\n",
      "\n",
      "merged\n"
     ],
     "language": "python",
     "metadata": {},
     "outputs": []
    },
    {
     "cell_type": "heading",
     "level": 2,
     "metadata": {},
     "source": [
      "Merged Data Analysis"
     ]
    },
    {
     "cell_type": "code",
     "collapsed": false,
     "input": [
      "merged.query('   == \"      \"')\n",
      "\n",
      "merge.sort(['',''], ascending= [1,0])\n",
      "\n",
      "\n",
      "merge['Mutation_Type'].value_counts()[:].plot(kind='bar')\n",
      "merge['Gene'].value_counts()\n",
      "\n",
      "c = merge.groupby(['Age','Gender'])"
     ],
     "language": "python",
     "metadata": {},
     "outputs": []
    }
   ],
   "metadata": {}
  }
 ]
}