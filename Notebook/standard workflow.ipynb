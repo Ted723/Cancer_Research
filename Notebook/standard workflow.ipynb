{
 "metadata": {
  "name": "",
  "signature": "sha256:ce6c9fe489fd2e449b2ceef301d48b3812d8c5fe51de8db5ca41054e7e3b650a"
 },
 "nbformat": 3,
 "nbformat_minor": 0,
 "worksheets": [
  {
   "cells": [
    {
     "cell_type": "code",
     "collapsed": false,
     "input": [
      "import NotebookImport\n",
      "from Imports import *\n"
     ],
     "language": "python",
     "metadata": {},
     "outputs": [
      {
       "output_type": "stream",
       "stream": "stdout",
       "text": [
        "Populating the interactive namespace from numpy and matplotlib\n"
       ]
      }
     ],
     "prompt_number": 6
    },
    {
     "cell_type": "code",
     "collapsed": false,
     "input": [
      "PATH = '{}/{}/***paper name ****/'.format(LOCAL_DIR, PAPERS)"
     ],
     "language": "python",
     "metadata": {},
     "outputs": []
    },
    {
     "cell_type": "heading",
     "level": 2,
     "metadata": {},
     "source": [
      "Patient Data"
     ]
    },
    {
     "cell_type": "code",
     "collapsed": false,
     "input": [
      "patchar = pd.read_csv(PATH + '', usecols= ['','','']) \n",
      "\n",
      "#clean up:\n",
      "patchar.dropduplicates()\n",
      "#patchar.dropna(how='all', thresh = 5, ...)\n",
      "patchar.rename(columns={'':'','':'','':''}, inplace=True)\n",
      "patchar['Tissue'] = ''\n",
      "patchar.to_csv(MUTPATH + '......')\n",
      "patchar.head()\n"
     ],
     "language": "python",
     "metadata": {},
     "outputs": [
      {
       "output_type": "stream",
       "stream": "stdout",
       "text": [
        "Object `rename` not found.\n"
       ]
      }
     ],
     "prompt_number": 5
    },
    {
     "cell_type": "heading",
     "level": 2,
     "metadata": {},
     "source": [
      "Mutation Data"
     ]
    },
    {
     "cell_type": "code",
     "collapsed": false,
     "input": [
      "mutdata = pd.read_csv(PATH + '', usecols= ['','',''])\n",
      "\n",
      "#clean up:\n",
      "mutdata.dropduplicates()\n",
      "#mutdata.dropna(how='all', thresh = 5, ...)\n",
      "mutdata.rename(columns={'':'','':'','':''}, inplace=True)\n",
      "mutdata['Tissue'] = ''\n",
      "mutdata.to_csv(MUTPATH + '.....')\n",
      "mutdata.head()"
     ],
     "language": "python",
     "metadata": {},
     "outputs": []
    },
    {
     "cell_type": "heading",
     "level": 2,
     "metadata": {},
     "source": [
      "Merged Data"
     ]
    },
    {
     "cell_type": "code",
     "collapsed": false,
     "input": [
      "merged = pd.merge(patchar, mutdata, how='outer')\n",
      "#clean up:\n",
      "merged.dropduplicates()\n",
      "#merged.dropna(how='all', thresh = 5, ...)\n",
      "merged.to_csv(MERGED_PATH + '....')\n",
      "merged.head()\n"
     ],
     "language": "python",
     "metadata": {},
     "outputs": []
    },
    {
     "cell_type": "heading",
     "level": 2,
     "metadata": {},
     "source": [
      "Merged Data Analysis"
     ]
    },
    {
     "cell_type": "code",
     "collapsed": false,
     "input": [
      "merged.query('   == \"      \"')\n",
      "\n",
      "merge.sort(['',''], ascending= [1,0])\n",
      "\n",
      "#plot_alls()\n",
      "\n",
      "merge['Gene'].value_counts()\n",
      "\n",
      "group = merge.groupby(['Age','Gender'])"
     ],
     "language": "python",
     "metadata": {},
     "outputs": []
    }
   ],
   "metadata": {}
  }
 ]
}