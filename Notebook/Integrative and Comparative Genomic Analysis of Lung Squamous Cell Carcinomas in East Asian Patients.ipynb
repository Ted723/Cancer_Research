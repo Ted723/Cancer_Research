{
 "metadata": {
  "name": "",
  "signature": "sha256:8d2b048e45e5d28dbed08b2c960d2134c02296d69f7603f3bdbd02a151abe4c1"
 },
 "nbformat": 3,
 "nbformat_minor": 0,
 "worksheets": [
  {
   "cells": [
    {
     "cell_type": "heading",
     "level": 1,
     "metadata": {},
     "source": [
      "Integrative and Comparative Genomic Analysis of Lung Squamous Cell Carcinomas in East Asian Patients"
     ]
    },
    {
     "cell_type": "heading",
     "level": 3,
     "metadata": {},
     "source": [
      "Patient Analysis"
     ]
    },
    {
     "cell_type": "markdown",
     "metadata": {},
     "source": [
      "* WES: 104 Lung Squamous Cell Carcinoma \n",
      "    * RNASeq: 26 LSCC\n",
      "    * Copy#/SNP: 82 LSCC\n",
      "    * All East Asian Patients"
     ]
    },
    {
     "cell_type": "heading",
     "level": 3,
     "metadata": {},
     "source": [
      "Mutation Analysis"
     ]
    },
    {
     "cell_type": "markdown",
     "metadata": {},
     "source": [
      "* <b>SMGs:</b> TP53, RB1, PTEN, NFE2L2, KEAP1, MLL2\n",
      "* Avg. 261 somatic exonic mutations per tumor\n",
      "* Recurrent FGFR3-TACC3 fusion identified "
     ]
    },
    {
     "cell_type": "heading",
     "level": 3,
     "metadata": {},
     "source": [
      "Summary"
     ]
    },
    {
     "cell_type": "markdown",
     "metadata": {},
     "source": [
      "* This cancer cohort is characterized by a high mutational burden with an average of 261 somatic exonic mutations per tumor and a mutational spectrum showing a signature of exposure to cigarette smoke. \n",
      "* Seven genes demonstrated statistical enrichment for mutation: TP53, RB1,PTEN, NFE2L2, KEAP1, MLL2,and PIK3CA\n",
      "* Comparative analysis between Korean and North American lung SCC samples demonstrated a similar spectrum of alterations in these two populations in contrast to the differences seen in lung adenocarcinoma. \n",
      "    * Also uncovered recurrent occurrence of therapeutically actionable FGFR3-TACC3 fusion in lung SCC."
     ]
    },
    {
     "cell_type": "heading",
     "level": 3,
     "metadata": {},
     "source": [
      "Accession Codes"
     ]
    },
    {
     "cell_type": "markdown",
     "metadata": {},
     "source": [
      "* N/A"
     ]
    },
    {
     "cell_type": "heading",
     "level": 2,
     "metadata": {},
     "source": [
      "Data Analysis"
     ]
    },
    {
     "cell_type": "code",
     "collapsed": false,
     "input": [
      "import NotebookImport\n",
      "from Imports import *"
     ],
     "language": "python",
     "metadata": {},
     "outputs": [
      {
       "html": [
        "importing IPython notebook from <a href='./Imports.ipynb' target='_blank'>Imports</a>"
       ],
       "metadata": {},
       "output_type": "display_data"
      },
      {
       "output_type": "stream",
       "stream": "stdout",
       "text": [
        "Populating the interactive namespace from numpy and matplotlib\n"
       ]
      }
     ],
     "prompt_number": 1
    },
    {
     "cell_type": "code",
     "collapsed": false,
     "input": [
      "PATH = '{}/{}/Integrative and Comparative Genomic \\\n",
      "Analysis of Lung Squamous Cell Carcinomas in East Asian Patients/'.format(LOCAL_DIR, PAPERS)"
     ],
     "language": "python",
     "metadata": {},
     "outputs": [],
     "prompt_number": 2
    },
    {
     "cell_type": "heading",
     "level": 2,
     "metadata": {},
     "source": [
      "Hard Data"
     ]
    },
    {
     "cell_type": "markdown",
     "metadata": {},
     "source": [
      "* No common denom\n",
      "* Very little data provided"
     ]
    },
    {
     "cell_type": "heading",
     "level": 3,
     "metadata": {},
     "source": [
      "Patient Data"
     ]
    },
    {
     "cell_type": "code",
     "collapsed": true,
     "input": [
      "patchar = pd.read_csv(PATH + 'patchar.csv', usecols=['Histology', 'Sample ID.', 'Gender',\n",
      "                                                     'Age','Organ',\n",
      "                                                     'Survival_Duration_day',\n",
      "                                                     'smoking status',\n",
      "                                                     'Differentiation'])\n",
      "patchar.rename(columns={'Sample ID.':'Patient_ID','Organ':'Location'}, inplace=True)\n",
      "patchar['Tissue'] = 'Squamous Cell Carcinoma'\n",
      "patchar.head()"
     ],
     "language": "python",
     "metadata": {},
     "outputs": [
      {
       "html": [
        "<div style=\"max-height:1000px;max-width:1500px;overflow:auto;\">\n",
        "<table border=\"1\" class=\"dataframe\">\n",
        "  <thead>\n",
        "    <tr style=\"text-align: right;\">\n",
        "      <th></th>\n",
        "      <th>Histology</th>\n",
        "      <th>Patient_ID</th>\n",
        "      <th>Gender</th>\n",
        "      <th>Age</th>\n",
        "      <th>Location</th>\n",
        "      <th>Differentiation</th>\n",
        "      <th>smoking status</th>\n",
        "      <th>Survival_Duration_day</th>\n",
        "      <th>Tissue</th>\n",
        "    </tr>\n",
        "  </thead>\n",
        "  <tbody>\n",
        "    <tr>\n",
        "      <th>0</th>\n",
        "      <td> Squamous </td>\n",
        "      <td> J10</td>\n",
        "      <td> M</td>\n",
        "      <td> 64</td>\n",
        "      <td> Lung</td>\n",
        "      <td>       well differentiated</td>\n",
        "      <td> Ex</td>\n",
        "      <td> 181</td>\n",
        "      <td> Squamous Cell Carcinoma</td>\n",
        "    </tr>\n",
        "    <tr>\n",
        "      <th>1</th>\n",
        "      <td> Squamous </td>\n",
        "      <td> J32</td>\n",
        "      <td> M</td>\n",
        "      <td> 86</td>\n",
        "      <td> Lung</td>\n",
        "      <td> moderately differentiated</td>\n",
        "      <td>  N</td>\n",
        "      <td>  42</td>\n",
        "      <td> Squamous Cell Carcinoma</td>\n",
        "    </tr>\n",
        "    <tr>\n",
        "      <th>2</th>\n",
        "      <td> Squamous </td>\n",
        "      <td> J33</td>\n",
        "      <td> M</td>\n",
        "      <td> 77</td>\n",
        "      <td> Lung</td>\n",
        "      <td>     poorly differentiated</td>\n",
        "      <td> Ex</td>\n",
        "      <td> 538</td>\n",
        "      <td> Squamous Cell Carcinoma</td>\n",
        "    </tr>\n",
        "    <tr>\n",
        "      <th>3</th>\n",
        "      <td> Squamous </td>\n",
        "      <td> J11</td>\n",
        "      <td> M</td>\n",
        "      <td> 71</td>\n",
        "      <td> Lung</td>\n",
        "      <td> moderately differentiated</td>\n",
        "      <td> Ex</td>\n",
        "      <td> 907</td>\n",
        "      <td> Squamous Cell Carcinoma</td>\n",
        "    </tr>\n",
        "    <tr>\n",
        "      <th>4</th>\n",
        "      <td> Squamous </td>\n",
        "      <td> J46</td>\n",
        "      <td> M</td>\n",
        "      <td> 63</td>\n",
        "      <td> Lung</td>\n",
        "      <td>     poorly differentiated</td>\n",
        "      <td> Ex</td>\n",
        "      <td> 301</td>\n",
        "      <td> Squamous Cell Carcinoma</td>\n",
        "    </tr>\n",
        "  </tbody>\n",
        "</table>\n",
        "</div>"
       ],
       "metadata": {},
       "output_type": "pyout",
       "prompt_number": 3,
       "text": [
        "   Histology Patient_ID Gender  Age Location            Differentiation  \\\n",
        "0  Squamous         J10      M   64     Lung        well differentiated   \n",
        "1  Squamous         J32      M   86     Lung  moderately differentiated   \n",
        "2  Squamous         J33      M   77     Lung      poorly differentiated   \n",
        "3  Squamous         J11      M   71     Lung  moderately differentiated   \n",
        "4  Squamous         J46      M   63     Lung      poorly differentiated   \n",
        "\n",
        "  smoking status  Survival_Duration_day                   Tissue  \n",
        "0             Ex                    181  Squamous Cell Carcinoma  \n",
        "1              N                     42  Squamous Cell Carcinoma  \n",
        "2             Ex                    538  Squamous Cell Carcinoma  \n",
        "3             Ex                    907  Squamous Cell Carcinoma  \n",
        "4             Ex                    301  Squamous Cell Carcinoma  "
       ]
      }
     ],
     "prompt_number": 3
    },
    {
     "cell_type": "code",
     "collapsed": false,
     "input": [
      "plot_age_gender(patchar)"
     ],
     "language": "python",
     "metadata": {},
     "outputs": [
      {
       "metadata": {},
       "output_type": "display_data",
       "png": "[encoded data removed]",
       "text": [
        "<matplotlib.figure.Figure at 0x7f4820e2a990>"
       ]
      }
     ],
     "prompt_number": 5
    },
    {
     "cell_type": "heading",
     "level": 3,
     "metadata": {},
     "source": [
      "Mutation Data"
     ]
    },
    {
     "cell_type": "heading",
     "level": 3,
     "metadata": {},
     "source": [
      "Merged Data"
     ]
    }
   ],
   "metadata": {}
  }
 ]
}