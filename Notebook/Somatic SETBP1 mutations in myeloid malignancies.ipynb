{
 "metadata": {
  "name": "",
  "signature": "sha256:f3252a8389203bf4b1a4cd42dae2f14845b5283fe348a35d06c34bb971690ba7"
 },
 "nbformat": 3,
 "nbformat_minor": 0,
 "worksheets": [
  {
   "cells": [
    {
     "cell_type": "heading",
     "level": 1,
     "metadata": {},
     "source": [
      "Somatic SETBP1 Mutations in Myeloid Malignancies"
     ]
    },
    {
     "cell_type": "heading",
     "level": 3,
     "metadata": {},
     "source": [
      "Patient Analysis"
     ]
    },
    {
     "cell_type": "markdown",
     "metadata": {},
     "source": [
      "* 20 Patients w/ Myeloid Malignancies\n",
      "    * WES"
     ]
    },
    {
     "cell_type": "heading",
     "level": 3,
     "metadata": {},
     "source": [
      "Mutation Analysis"
     ]
    },
    {
     "cell_type": "markdown",
     "metadata": {},
     "source": [
      "* FMG: SETBP1\n",
      "* 38 non-silent somatic mutations"
     ]
    },
    {
     "cell_type": "heading",
     "level": 3,
     "metadata": {},
     "source": [
      "Summary"
     ]
    },
    {
     "cell_type": "markdown",
     "metadata": {},
     "source": [
      "* Report whole-exome sequencing of individuals with various myeloid malignancies and identify recurrent somatic mutations in SETBP1, consistent with a recent report on atypical chronic myeloid leukemia (aCML).\n",
      "* Closely positioned somatic SETBP1 mutations encoding changes in Asp868, Ser869, Gly870, Ile871 and Asp880, which match germline mutations in Schinzel-Giedion syndrome (SGS), were detected in 17% of secondary acute myeloid leukemias (sAML) and 15% of chronic myelomonocytic leukemia (CMML) cases. \n",
      "* Results from deep sequencing demonstrate a higher mutational detection rate than reported with conventional sequencing methodology. \n",
      "* Mutant cases were associated with advanced age and monosomy 7/deletion 7q (\u20137/del(7q)) constituting poor prognostic factors. \n",
      "* Analysis of serially collected samples indicated that SETBP1 mutations were acquired during leukemic evolution. \n",
      "* Transduction with mutant Setbp1 led to the immortalization of mouse myeloid progenitors that showed enhanced proliferative capacity compared to cells transduced with wild-type Setbp1. \n",
      "* Somatic mutations of SETBP1 seem to cause gain of function, are associated with myeloid leukemic transformation and convey poor prognosis in myelodysplastic syndromes (MDS) and CMML."
     ]
    },
    {
     "cell_type": "heading",
     "level": 3,
     "metadata": {},
     "source": [
      "Accession Code"
     ]
    },
    {
     "cell_type": "markdown",
     "metadata": {},
     "source": [
      "<b>Accession Code</b>: Associated with BioProject at accession <b>PRJNA203580</b>\n"
     ]
    },
    {
     "cell_type": "heading",
     "level": 2,
     "metadata": {},
     "source": [
      "Data Analysis"
     ]
    },
    {
     "cell_type": "code",
     "collapsed": false,
     "input": [
      "import NotebookImport\n",
      "from Imports import *"
     ],
     "language": "python",
     "metadata": {},
     "outputs": [
      {
       "html": [
        "importing IPython notebook from <a href='./Imports.ipynb' target='_blank'>Imports</a>"
       ],
       "metadata": {},
       "output_type": "display_data"
      },
      {
       "output_type": "stream",
       "stream": "stdout",
       "text": [
        "Populating the interactive namespace from numpy and matplotlib\n"
       ]
      }
     ],
     "prompt_number": 1
    },
    {
     "cell_type": "code",
     "collapsed": false,
     "input": [
      "PATH = '{}/{}/Somatic SETBP1 mutations in myeloid malignancies/'.format(LOCAL_DIR, PAPERS)"
     ],
     "language": "python",
     "metadata": {},
     "outputs": [],
     "prompt_number": 2
    },
    {
     "cell_type": "heading",
     "level": 2,
     "metadata": {},
     "source": [
      "Hard Data"
     ]
    },
    {
     "cell_type": "markdown",
     "metadata": {},
     "source": [
      "* Problems loading data from tabula"
     ]
    },
    {
     "cell_type": "heading",
     "level": 3,
     "metadata": {},
     "source": [
      "Patient Data"
     ]
    },
    {
     "cell_type": "heading",
     "level": 3,
     "metadata": {},
     "source": [
      "Mutation Data"
     ]
    },
    {
     "cell_type": "heading",
     "level": 3,
     "metadata": {},
     "source": [
      "Merged Data "
     ]
    },
    {
     "cell_type": "heading",
     "level": 3,
     "metadata": {},
     "source": [
      "Copy Number Data"
     ]
    },
    {
     "cell_type": "heading",
     "level": 3,
     "metadata": {},
     "source": [
      "Other Data"
     ]
    }
   ],
   "metadata": {}
  }
 ]
}