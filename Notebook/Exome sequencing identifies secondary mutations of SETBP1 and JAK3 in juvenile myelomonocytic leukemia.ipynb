{
 "metadata": {
  "name": "",
  "signature": "sha256:8db0be54f21db226c200fd69387a40aea3eaa73f0fdb8f1f4c5db9e32a141dca"
 },
 "nbformat": 3,
 "nbformat_minor": 0,
 "worksheets": [
  {
   "cells": [
    {
     "cell_type": "heading",
     "level": 1,
     "metadata": {},
     "source": [
      "Exome sequencing identifies secondary mutations of SETBP1 and JAK3 in juvenile myelomonocytic leukemia"
     ]
    },
    {
     "cell_type": "heading",
     "level": 3,
     "metadata": {},
     "source": [
      "Patient Analysis"
     ]
    },
    {
     "cell_type": "markdown",
     "metadata": {},
     "source": [
      "* 13 Paired Patients with JMML\n",
      "    * WES\n",
      "* 8 Target Genes from 92 Tumor Samples\n",
      "    * Deep Sequencing"
     ]
    },
    {
     "cell_type": "heading",
     "level": 3,
     "metadata": {},
     "source": [
      "Mutation Analysis"
     ]
    },
    {
     "cell_type": "markdown",
     "metadata": {},
     "source": [
      "* FMGs: SETBP1, JAK3\n",
      "* Paucity of Mutations: 0.85 non-silent mutations per sample\n",
      "* Somatic or germline RAS pathway involvement in 82 cases (89%)"
     ]
    },
    {
     "cell_type": "heading",
     "level": 3,
     "metadata": {},
     "source": [
      "Summary"
     ]
    },
    {
     "cell_type": "markdown",
     "metadata": {},
     "source": [
      "* Whole-exome sequencing analysis identified the spectrum of gene mutations in JMML. \n",
      "    * Together with the high frequency of RAS pathway mutations, the paucity of non\u2013RAS pathway mutations is a prominent feature of JMML. \n",
      "    * Mutations of SETBP1 and JAK3 were common recurrent secondary events presumed to be involved in tumor progression and were associated with poor clinical outcomes. \n",
      "* Findings provide an important clue to understanding the pathogenesis of JMML that may help in the development of novel diagnostics and therapeutics for this leukemia."
     ]
    },
    {
     "cell_type": "heading",
     "level": 3,
     "metadata": {},
     "source": [
      "Accession Codes"
     ]
    },
    {
     "cell_type": "markdown",
     "metadata": {},
     "source": [
      "* <b>Accession Codes</b>: from NCBI Reference Sequence -\n",
      "    1. NM_002834.3\n",
      "    2. NM_000267.3\n",
      "    3. NM_002524.4\n",
      "    4. NM_004985.3\n",
      "    5. NM_005188.3\n",
      "    6. NM_015559.2\n",
      "    7. NM_000215.3"
     ]
    },
    {
     "cell_type": "heading",
     "level": 2,
     "metadata": {},
     "source": [
      "Data Analysis"
     ]
    },
    {
     "cell_type": "code",
     "collapsed": false,
     "input": [
      "import NotebookImport\n",
      "from Imports import *\n"
     ],
     "language": "python",
     "metadata": {},
     "outputs": [
      {
       "html": [
        "importing IPython notebook from <a href='./Imports.ipynb' target='_blank'>Imports</a>"
       ],
       "metadata": {},
       "output_type": "display_data"
      },
      {
       "output_type": "stream",
       "stream": "stdout",
       "text": [
        "Populating the interactive namespace from numpy and matplotlib\n"
       ]
      }
     ],
     "prompt_number": 1
    },
    {
     "cell_type": "code",
     "collapsed": false,
     "input": [
      "PATH = '{}/{}/Exome sequencing identifies secondary mutations \\\n",
      "of SETBP1 and JAK3 in juvenile myelomonocytic leukemia/'.format(LOCAL_DIR, PAPERS)"
     ],
     "language": "python",
     "metadata": {},
     "outputs": [],
     "prompt_number": 2
    },
    {
     "cell_type": "heading",
     "level": 2,
     "metadata": {},
     "source": [
      "Hard Data"
     ]
    },
    {
     "cell_type": "markdown",
     "metadata": {},
     "source": [
      "* Are the patient and muts matched up correctly?\n",
      "    * need to check if there is more data or if there just isn't given enough data"
     ]
    },
    {
     "cell_type": "heading",
     "level": 3,
     "metadata": {},
     "source": [
      "Patient Data:"
     ]
    },
    {
     "cell_type": "markdown",
     "metadata": {},
     "source": [
      "* Age is converted from years to months in decimal format since child disease\n",
      "    * Age is Age at Diagnosis"
     ]
    },
    {
     "cell_type": "code",
     "collapsed": false,
     "input": [
      "patientWES = pd.read_table(PATH + 'patientsWES.csv',\n",
      "                           usecols=['Patient_No.','Gender','Age_at_Diag(m)',\n",
      "                                    'Tumor_Sample'])\n",
      "patientWES['Age_at_Diag(m)'] = patientWES['Age_at_Diag(m)'].apply(lambda x: \n",
      "                                                                  x/12. )\n",
      "patientWES.rename(columns={'Tumor_Sample':'Tumor_ID',\n",
      "                           'Patient_No.':'Patient_ID'}, inplace=True)\n",
      "patientWES.to_csv(MUT_PATH + 'patcharExSETBP1.csv')\n",
      "patientWES.head()"
     ],
     "language": "python",
     "metadata": {},
     "outputs": [
      {
       "html": [
        "<div style=\"max-height:1000px;max-width:1500px;overflow:auto;\">\n",
        "<table border=\"1\" class=\"dataframe\">\n",
        "  <thead>\n",
        "    <tr style=\"text-align: right;\">\n",
        "      <th></th>\n",
        "      <th>Patient_ID</th>\n",
        "      <th>Gender</th>\n",
        "      <th>Age_at_Diag(m)</th>\n",
        "      <th>Tumor_ID</th>\n",
        "    </tr>\n",
        "  </thead>\n",
        "  <tbody>\n",
        "    <tr>\n",
        "      <th>0</th>\n",
        "      <td> 11</td>\n",
        "      <td> M </td>\n",
        "      <td> 13.333333</td>\n",
        "      <td> BM-MNC </td>\n",
        "    </tr>\n",
        "    <tr>\n",
        "      <th>1</th>\n",
        "      <td> 63</td>\n",
        "      <td> F </td>\n",
        "      <td>  8.750000</td>\n",
        "      <td> BM-MNC </td>\n",
        "    </tr>\n",
        "    <tr>\n",
        "      <th>2</th>\n",
        "      <td> 72</td>\n",
        "      <td> M </td>\n",
        "      <td>  2.333333</td>\n",
        "      <td> BM-MNC </td>\n",
        "    </tr>\n",
        "    <tr>\n",
        "      <th>3</th>\n",
        "      <td> 77</td>\n",
        "      <td> F </td>\n",
        "      <td>  1.750000</td>\n",
        "      <td> BM-MNC </td>\n",
        "    </tr>\n",
        "    <tr>\n",
        "      <th>4</th>\n",
        "      <td> 78</td>\n",
        "      <td> M </td>\n",
        "      <td>  1.083333</td>\n",
        "      <td> BM-MNC </td>\n",
        "    </tr>\n",
        "  </tbody>\n",
        "</table>\n",
        "</div>"
       ],
       "metadata": {},
       "output_type": "pyout",
       "prompt_number": 17,
       "text": [
        "  Patient_ID Gender  Age_at_Diag(m) Tumor_ID\n",
        "0         11     M        13.333333  BM-MNC \n",
        "1         63     F         8.750000  BM-MNC \n",
        "2         72     M         2.333333  BM-MNC \n",
        "3         77     F         1.750000  BM-MNC \n",
        "4         78     M         1.083333  BM-MNC "
       ]
      }
     ],
     "prompt_number": 17
    },
    {
     "cell_type": "heading",
     "level": 3,
     "metadata": {},
     "source": [
      "Mutation Data:"
     ]
    },
    {
     "cell_type": "code",
     "collapsed": false,
     "input": [
      "listofmut = pd.read_csv(PATH + 'listofmut.csv',sep = '\\t', \n",
      "                        usecols=['Patient_No','Chr ','Gene',\n",
      "                                 'Protein_Change','Allele_Freq.'])\n",
      "#rename columns to format.. Chr had space so deleted space\n",
      "listofmut.rename(columns= {'Patient_No':'Patient_ID','Chr ': 'Chr'}, \n",
      "                 inplace=True)\n",
      "listofmut.to_csv(MUT_PATH + 'mutdataExSETBP1.csv')\n",
      "listofmut.head()"
     ],
     "language": "python",
     "metadata": {},
     "outputs": [
      {
       "html": [
        "<div style=\"max-height:1000px;max-width:1500px;overflow:auto;\">\n",
        "<table border=\"1\" class=\"dataframe\">\n",
        "  <thead>\n",
        "    <tr style=\"text-align: right;\">\n",
        "      <th></th>\n",
        "      <th>Patient_ID</th>\n",
        "      <th>Gene</th>\n",
        "      <th>Chr</th>\n",
        "      <th>Protein_Change</th>\n",
        "      <th>Allele_Freq.</th>\n",
        "    </tr>\n",
        "  </thead>\n",
        "  <tbody>\n",
        "    <tr>\n",
        "      <th>0</th>\n",
        "      <td> 1</td>\n",
        "      <td> PTPN11 </td>\n",
        "      <td> chr12 </td>\n",
        "      <td>   D61V </td>\n",
        "      <td>  0.4</td>\n",
        "    </tr>\n",
        "    <tr>\n",
        "      <th>1</th>\n",
        "      <td> 2</td>\n",
        "      <td>  c-CBL </td>\n",
        "      <td> chr11 </td>\n",
        "      <td>  Y371H </td>\n",
        "      <td> 0.19</td>\n",
        "    </tr>\n",
        "    <tr>\n",
        "      <th>2</th>\n",
        "      <td> 2</td>\n",
        "      <td>    NF1 </td>\n",
        "      <td> chr17 </td>\n",
        "      <td> R997fs </td>\n",
        "      <td> 0.12</td>\n",
        "    </tr>\n",
        "    <tr>\n",
        "      <th>3</th>\n",
        "      <td> 2</td>\n",
        "      <td> PTPN11 </td>\n",
        "      <td> chr12 </td>\n",
        "      <td>   D61Y </td>\n",
        "      <td> 0.46</td>\n",
        "    </tr>\n",
        "    <tr>\n",
        "      <th>4</th>\n",
        "      <td> 3</td>\n",
        "      <td>   KRAS </td>\n",
        "      <td> chr12 </td>\n",
        "      <td>   G12D </td>\n",
        "      <td> 0.38</td>\n",
        "    </tr>\n",
        "  </tbody>\n",
        "</table>\n",
        "</div>"
       ],
       "metadata": {},
       "output_type": "pyout",
       "prompt_number": 16,
       "text": [
        "  Patient_ID     Gene     Chr Protein_Change Allele_Freq.\n",
        "0          1  PTPN11   chr12           D61V           0.4\n",
        "1          2   c-CBL   chr11          Y371H          0.19\n",
        "2          2     NF1   chr17         R997fs          0.12\n",
        "3          2  PTPN11   chr12           D61Y          0.46\n",
        "4          3    KRAS   chr12           G12D          0.38"
       ]
      }
     ],
     "prompt_number": 16
    },
    {
     "cell_type": "heading",
     "level": 3,
     "metadata": {},
     "source": [
      "Merged Data"
     ]
    },
    {
     "cell_type": "markdown",
     "metadata": {},
     "source": [
      "* Many patients are not given data....  only 13 patients WES, the rest had 8 target genes for 90 something patients\n"
     ]
    },
    {
     "cell_type": "code",
     "collapsed": false,
     "input": [
      "merge = pd.merge(patientWES, listofmut, how='outer')\n",
      "merge['Tissue'] = 'Myeloid'\n",
      "# added setbp1 string to make patient Id format consistent\n",
      "merge['Patient_ID'] = merge['Patient_ID'].apply(lambda x: 'setbp1' + str(x))\n",
      "merge['Chr'] = merge['Chr'].str.strip('chr')\n",
      "merge.Protein_Change = merge.Protein_Change.apply(lambda x: 'p.' + str(x))\n",
      "merge.rename(columns={'Age_at_Diag(m)':'Age'}, inplace=True)\n",
      "merge.to_csv(MERGED_PATH + 'mergedExSETBP1.csv')\n",
      "merge.head()"
     ],
     "language": "python",
     "metadata": {},
     "outputs": [
      {
       "html": [
        "<div style=\"max-height:1000px;max-width:1500px;overflow:auto;\">\n",
        "<table border=\"1\" class=\"dataframe\">\n",
        "  <thead>\n",
        "    <tr style=\"text-align: right;\">\n",
        "      <th></th>\n",
        "      <th>Patient_ID</th>\n",
        "      <th>Gender</th>\n",
        "      <th>Age</th>\n",
        "      <th>Tumor_ID</th>\n",
        "      <th>Gene</th>\n",
        "      <th>Chr</th>\n",
        "      <th>Protein_Change</th>\n",
        "      <th>Allele_Freq.</th>\n",
        "      <th>Tissue</th>\n",
        "    </tr>\n",
        "  </thead>\n",
        "  <tbody>\n",
        "    <tr>\n",
        "      <th>0</th>\n",
        "      <td> setbp111</td>\n",
        "      <td> M </td>\n",
        "      <td> 13.333333</td>\n",
        "      <td> BM-MNC </td>\n",
        "      <td>    NF1 </td>\n",
        "      <td> 17 </td>\n",
        "      <td> p.W1976fs </td>\n",
        "      <td> 0.44</td>\n",
        "      <td> Myeloid</td>\n",
        "    </tr>\n",
        "    <tr>\n",
        "      <th>1</th>\n",
        "      <td> setbp111</td>\n",
        "      <td> M </td>\n",
        "      <td> 13.333333</td>\n",
        "      <td> BM-MNC </td>\n",
        "      <td>    NF1 </td>\n",
        "      <td> 17 </td>\n",
        "      <td>  p.R1513X </td>\n",
        "      <td> 0.42</td>\n",
        "      <td> Myeloid</td>\n",
        "    </tr>\n",
        "    <tr>\n",
        "      <th>2</th>\n",
        "      <td> setbp111</td>\n",
        "      <td> M </td>\n",
        "      <td> 13.333333</td>\n",
        "      <td> BM-MNC </td>\n",
        "      <td> SETBP1 </td>\n",
        "      <td> 18 </td>\n",
        "      <td>   p.D868N </td>\n",
        "      <td> 0.33</td>\n",
        "      <td> Myeloid</td>\n",
        "    </tr>\n",
        "    <tr>\n",
        "      <th>3</th>\n",
        "      <td> setbp163</td>\n",
        "      <td> F </td>\n",
        "      <td>  8.750000</td>\n",
        "      <td> BM-MNC </td>\n",
        "      <td>   KRAS </td>\n",
        "      <td> 12 </td>\n",
        "      <td>    p.G13D </td>\n",
        "      <td> 0.44</td>\n",
        "      <td> Myeloid</td>\n",
        "    </tr>\n",
        "    <tr>\n",
        "      <th>4</th>\n",
        "      <td> setbp172</td>\n",
        "      <td> M </td>\n",
        "      <td>  2.333333</td>\n",
        "      <td> BM-MNC </td>\n",
        "      <td>   JAK3 </td>\n",
        "      <td> 19 </td>\n",
        "      <td>   p.R657Q </td>\n",
        "      <td> 0.31</td>\n",
        "      <td> Myeloid</td>\n",
        "    </tr>\n",
        "  </tbody>\n",
        "</table>\n",
        "</div>"
       ],
       "metadata": {},
       "output_type": "pyout",
       "prompt_number": 28,
       "text": [
        "  Patient_ID Gender        Age Tumor_ID     Gene  Chr Protein_Change  \\\n",
        "0   setbp111     M   13.333333  BM-MNC      NF1   17      p.W1976fs    \n",
        "1   setbp111     M   13.333333  BM-MNC      NF1   17       p.R1513X    \n",
        "2   setbp111     M   13.333333  BM-MNC   SETBP1   18        p.D868N    \n",
        "3   setbp163     F    8.750000  BM-MNC     KRAS   12         p.G13D    \n",
        "4   setbp172     M    2.333333  BM-MNC     JAK3   19        p.R657Q    \n",
        "\n",
        "  Allele_Freq.   Tissue  \n",
        "0         0.44  Myeloid  \n",
        "1         0.42  Myeloid  \n",
        "2         0.33  Myeloid  \n",
        "3         0.44  Myeloid  \n",
        "4         0.31  Myeloid  "
       ]
      }
     ],
     "prompt_number": 28
    },
    {
     "cell_type": "code",
     "collapsed": false,
     "input": [
      "plot_age_gender(merge)"
     ],
     "language": "python",
     "metadata": {},
     "outputs": [
      {
       "metadata": {},
       "output_type": "display_data",
       "png": "[encoded data removed]",
       "text": [
        "<matplotlib.figure.Figure at 0x7f2035c16410>"
       ]
      }
     ],
     "prompt_number": 23
    },
    {
     "cell_type": "code",
     "collapsed": false,
     "input": [
      "plot_gene_protein(merge)"
     ],
     "language": "python",
     "metadata": {},
     "outputs": [
      {
       "metadata": {},
       "output_type": "display_data",
       "png": "[encoded data removed]",
       "text": [
        "<matplotlib.figure.Figure at 0x7f203625ebd0>"
       ]
      }
     ],
     "prompt_number": 25
    },
    {
     "cell_type": "code",
     "collapsed": false,
     "input": [
      "plot_genome_(merge)"
     ],
     "language": "python",
     "metadata": {},
     "outputs": [
      {
       "ename": "AttributeError",
       "evalue": "'DataFrame' object has no attribute 'Genome_Change'",
       "output_type": "pyerr",
       "traceback": [
        "\u001b[1;31m---------------------------------------------------------------------------\u001b[0m\n\u001b[1;31mAttributeError\u001b[0m                            Traceback (most recent call last)",
        "\u001b[1;32m<ipython-input-26-f0d60760b63e>\u001b[0m in \u001b[0;36m<module>\u001b[1;34m()\u001b[0m\n\u001b[1;32m----> 1\u001b[1;33m \u001b[0mplot_genome_\u001b[0m\u001b[1;33m(\u001b[0m\u001b[0mmerge\u001b[0m\u001b[1;33m)\u001b[0m\u001b[1;33m\u001b[0m\u001b[0m\n\u001b[0m",
        "\u001b[1;32m/cellar/users/talejand/Documents/IdekerLab/BackUp/Notebook/Imports.ipynb\u001b[0m in \u001b[0;36mplot_genome_\u001b[1;34m(clinical)\u001b[0m\n",
        "\u001b[1;32m/cellar/users/talejand/anaconda/lib/python2.7/site-packages/pandas/core/generic.pyc\u001b[0m in \u001b[0;36m__getattr__\u001b[1;34m(self, name)\u001b[0m\n\u001b[0;32m   1841\u001b[0m                 \u001b[1;32mreturn\u001b[0m \u001b[0mself\u001b[0m\u001b[1;33m[\u001b[0m\u001b[0mname\u001b[0m\u001b[1;33m]\u001b[0m\u001b[1;33m\u001b[0m\u001b[0m\n\u001b[0;32m   1842\u001b[0m             raise AttributeError(\"'%s' object has no attribute '%s'\" %\n\u001b[1;32m-> 1843\u001b[1;33m                                  (type(self).__name__, name))\n\u001b[0m\u001b[0;32m   1844\u001b[0m \u001b[1;33m\u001b[0m\u001b[0m\n\u001b[0;32m   1845\u001b[0m     \u001b[1;32mdef\u001b[0m \u001b[0m__setattr__\u001b[0m\u001b[1;33m(\u001b[0m\u001b[0mself\u001b[0m\u001b[1;33m,\u001b[0m \u001b[0mname\u001b[0m\u001b[1;33m,\u001b[0m \u001b[0mvalue\u001b[0m\u001b[1;33m)\u001b[0m\u001b[1;33m:\u001b[0m\u001b[1;33m\u001b[0m\u001b[0m\n",
        "\u001b[1;31mAttributeError\u001b[0m: 'DataFrame' object has no attribute 'Genome_Change'"
       ]
      },
      {
       "metadata": {},
       "output_type": "display_data",
       "png": "[encoded data removed]",
       "text": [
        "<matplotlib.figure.Figure at 0x7f2035bf7350>"
       ]
      }
     ],
     "prompt_number": 26
    },
    {
     "cell_type": "code",
     "collapsed": false,
     "input": [
      "plot_mutationtype_mutationcategory(merge)"
     ],
     "language": "python",
     "metadata": {},
     "outputs": [
      {
       "ename": "AttributeError",
       "evalue": "'DataFrame' object has no attribute 'Mutation_Type'",
       "output_type": "pyerr",
       "traceback": [
        "\u001b[1;31m---------------------------------------------------------------------------\u001b[0m\n\u001b[1;31mAttributeError\u001b[0m                            Traceback (most recent call last)",
        "\u001b[1;32m<ipython-input-27-f3a07fef4d37>\u001b[0m in \u001b[0;36m<module>\u001b[1;34m()\u001b[0m\n\u001b[1;32m----> 1\u001b[1;33m \u001b[0mplot_mutationtype_mutationcategory\u001b[0m\u001b[1;33m(\u001b[0m\u001b[0mmerge\u001b[0m\u001b[1;33m)\u001b[0m\u001b[1;33m\u001b[0m\u001b[0m\n\u001b[0m",
        "\u001b[1;32m/cellar/users/talejand/Documents/IdekerLab/BackUp/Notebook/Imports.ipynb\u001b[0m in \u001b[0;36mplot_mutationtype_mutationcategory\u001b[1;34m(clinical)\u001b[0m\n",
        "\u001b[1;32m/cellar/users/talejand/anaconda/lib/python2.7/site-packages/pandas/core/generic.pyc\u001b[0m in \u001b[0;36m__getattr__\u001b[1;34m(self, name)\u001b[0m\n\u001b[0;32m   1841\u001b[0m                 \u001b[1;32mreturn\u001b[0m \u001b[0mself\u001b[0m\u001b[1;33m[\u001b[0m\u001b[0mname\u001b[0m\u001b[1;33m]\u001b[0m\u001b[1;33m\u001b[0m\u001b[0m\n\u001b[0;32m   1842\u001b[0m             raise AttributeError(\"'%s' object has no attribute '%s'\" %\n\u001b[1;32m-> 1843\u001b[1;33m                                  (type(self).__name__, name))\n\u001b[0m\u001b[0;32m   1844\u001b[0m \u001b[1;33m\u001b[0m\u001b[0m\n\u001b[0;32m   1845\u001b[0m     \u001b[1;32mdef\u001b[0m \u001b[0m__setattr__\u001b[0m\u001b[1;33m(\u001b[0m\u001b[0mself\u001b[0m\u001b[1;33m,\u001b[0m \u001b[0mname\u001b[0m\u001b[1;33m,\u001b[0m \u001b[0mvalue\u001b[0m\u001b[1;33m)\u001b[0m\u001b[1;33m:\u001b[0m\u001b[1;33m\u001b[0m\u001b[0m\n",
        "\u001b[1;31mAttributeError\u001b[0m: 'DataFrame' object has no attribute 'Mutation_Type'"
       ]
      },
      {
       "metadata": {},
       "output_type": "display_data",
       "png": "[encoded data removed]",
       "text": [
        "<matplotlib.figure.Figure at 0x7f2035977d90>"
       ]
      }
     ],
     "prompt_number": 27
    },
    {
     "cell_type": "heading",
     "level": 3,
     "metadata": {},
     "source": [
      "Copy Number Data"
     ]
    },
    {
     "cell_type": "markdown",
     "metadata": {},
     "source": [
      "* Not Available"
     ]
    }
   ],
   "metadata": {}
  }
 ]
}