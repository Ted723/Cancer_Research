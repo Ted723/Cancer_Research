{
 "metadata": {
  "kernelspec": {
   "codemirror_mode": {
    "name": "ipython",
    "version": 2
   },
   "display_name": "IPython (Python 2)",
   "language": "python",
   "name": "python2"
  },
  "name": "",
  "signature": "sha256:a9640994817e02930f550ee7fb5e8b893d6292270b490f2c0f583174ae401fd1"
 },
 "nbformat": 3,
 "nbformat_minor": 0,
 "worksheets": [
  {
   "cells": [
    {
     "cell_type": "heading",
     "level": 1,
     "metadata": {},
     "source": [
      "Pipeline Standards"
     ]
    },
    {
     "cell_type": "heading",
     "level": 2,
     "metadata": {},
     "source": [
      "Clinical Data"
     ]
    },
    {
     "cell_type": "markdown",
     "metadata": {},
     "source": [
      "* Gender: male or female -> M,F\n",
      "* Age: \n",
      "    * For Adults: Whole Integers\n",
      "    * For Children: Decimals have been included to be more precise since range of ages is significantly less."
     ]
    },
    {
     "cell_type": "heading",
     "level": 2,
     "metadata": {},
     "source": [
      "Mutation Data"
     ]
    },
    {
     "cell_type": "markdown",
     "metadata": {},
     "source": [
      "* Gene\n",
      "    * This denotes gene in HUGO style format\n",
      "    * Ex: TP53\n",
      "    * Note: Numbered Genes (e.g. 39701) may also be included\n",
      "* Chr\n",
      "    * This denotes the Chromsome number where the gene is mutated. \n",
      "    * Also denoted implicitly in Genome_Change\n",
      "    * Ex: 4 \n",
      "* Mutation_Category (or Classification>?????)\n",
      "    * This denotes the type of mutation\n",
      "    * Ex: Syn - synonimous mutation\n",
      "* Mutation_Type\n",
      "    * This denotes the overall mutation subset\n",
      "    * Ex: Missense_Mutation\n",
      "* Genome_Change\n",
      "    * This denotes the precise change in the genome due to the mutation.\n",
      "    * Ex: g.chr4:77936058A>G\n",
      "* Protein_Change\n",
      "    * This denotes the precise change in the amino acid sequence which may induce protein change.\n",
      "    * Ex: p.E192G\n",
      "    \n",
      "    "
     ]
    }
   ],
   "metadata": {}
  }
 ]
}