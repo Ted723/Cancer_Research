{
 "metadata": {
  "name": "",
  "signature": "sha256:c20e1ecbe4b530a7df69574e7f8c40cef74c16af9a4f87569b07ced0c04e9b6c"
 },
 "nbformat": 3,
 "nbformat_minor": 0,
 "worksheets": [
  {
   "cells": [
    {
     "cell_type": "heading",
     "level": 1,
     "metadata": {},
     "source": [
      "Exome sequencing identifies recurrent SPOP, FOXA1 and MED12 mutations in prostate cancer"
     ]
    },
    {
     "cell_type": "heading",
     "level": 3,
     "metadata": {},
     "source": [
      "Patient Analysis"
     ]
    },
    {
     "cell_type": "markdown",
     "metadata": {},
     "source": [
      "* 112 Prostate Tumor Normal Pairs \n",
      "    * WES Analysis"
     ]
    },
    {
     "cell_type": "heading",
     "level": 3,
     "metadata": {},
     "source": [
      "Mutation Analysis"
     ]
    },
    {
     "cell_type": "markdown",
     "metadata": {},
     "source": [
      "* Recurrent Mutations: SPOP, FOXA1, MED12\n",
      "* 5,764 somatic mutations that were present in DNA from tumors \n",
      "    * 997 occurred in a single tumor that harbored a frameshift mutation of the mismatch repair gene MSH6\n",
      "    *  Remaining tumors harbored a median of 10 silent and 30 non-silent mutations \n",
      "    \n"
     ]
    },
    {
     "cell_type": "heading",
     "level": 3,
     "metadata": {},
     "source": [
      "Summary"
     ]
    },
    {
     "cell_type": "markdown",
     "metadata": {},
     "source": [
      "* Common genetic alterations in prostate cancer include losses of NKX3.1 (8p21) and PTEN (10q23), gains of AR (the androgen receptor gene), and fusion of ETS family transcription factor genes with androgen-responsive promoters.\n",
      "* Recurrent somatic base-pair substitutions are believed to be less contributory in prostate tumorigenesis, but have not been systematically analyzed in large cohorts. \n",
      "* Here,sequenced exomes of 112 prostate tumor and normal tissue pairs. \n",
      "    * New recurrent mutations were identified in multiple genes, including MED12 and FOXA1. SPOP was the most frequently mutated gene, with mutations involving the SPOP substrate-binding cleft in 6\u201315% of tumors across multiple independent cohorts. Prostate cancers with mutant SPOP lacked ETS family gene rearrangements and showed a distinct pattern of genomic alterations. \n",
      "        * Thus, SPOP mutations may define a new molecular subtype of prostate cancer."
     ]
    },
    {
     "cell_type": "heading",
     "level": 3,
     "metadata": {},
     "source": [
      "Accesion Codes"
     ]
    },
    {
     "cell_type": "markdown",
     "metadata": {},
     "source": [
      "<b>Accession Code</b>: Binary sequence alignment/map (BAM) files and SNP array data were deposited in the database of Genotypes and Phenotypes (dbGaP; <b>phs000447.v1.p1</b>).\n"
     ]
    },
    {
     "cell_type": "heading",
     "level": 2,
     "metadata": {},
     "source": [
      "Data Analysis"
     ]
    },
    {
     "cell_type": "code",
     "collapsed": false,
     "input": [
      "import NotebookImport\n",
      "from Imports import *"
     ],
     "language": "python",
     "metadata": {},
     "outputs": [
      {
       "html": [
        "importing IPython notebook from <a href='./Imports.ipynb' target='_blank'>Imports</a>"
       ],
       "metadata": {},
       "output_type": "display_data"
      },
      {
       "output_type": "stream",
       "stream": "stdout",
       "text": [
        "Populating the interactive namespace from numpy and matplotlib\n"
       ]
      }
     ],
     "prompt_number": 1
    },
    {
     "cell_type": "code",
     "collapsed": false,
     "input": [
      "PATH = '{}/{}/Exome sequencing identifies recurrent SPOP, FOXA1 and \\\n",
      "MED12 mutations in prostate cancer/'.format(LOCAL_DIR, PAPERS)"
     ],
     "language": "python",
     "metadata": {},
     "outputs": [],
     "prompt_number": 2
    },
    {
     "cell_type": "heading",
     "level": 2,
     "metadata": {},
     "source": [
      "Hard Data"
     ]
    },
    {
     "cell_type": "heading",
     "level": 3,
     "metadata": {},
     "source": [
      "Patient Data"
     ]
    },
    {
     "cell_type": "markdown",
     "metadata": {},
     "source": [
      "* Used tabula to import exome pat char and named the columns myself based on pdf. \n",
      "    * Problems merging, but only really need patient_ID and age --> so its ok\n",
      "* No Gender given, therefore no graph on gender count"
     ]
    },
    {
     "cell_type": "code",
     "collapsed": true,
     "input": [
      "a =pd.read_csv(PATH + 'tabula-1cf513ee6eb7be84578a793438977b7443b3dfae.csv',\n",
      "               sep = '\\t', usecols=['Patient_ID','Age'])\n",
      "a.to_csv(MUT_PATH + 'patcharExSPOP.csv')\n",
      "a.head()"
     ],
     "language": "python",
     "metadata": {},
     "outputs": [
      {
       "html": [
        "<div style=\"max-height:1000px;max-width:1500px;overflow:auto;\">\n",
        "<table border=\"1\" class=\"dataframe\">\n",
        "  <thead>\n",
        "    <tr style=\"text-align: right;\">\n",
        "      <th></th>\n",
        "      <th>Patient_ID</th>\n",
        "      <th>Age</th>\n",
        "    </tr>\n",
        "  </thead>\n",
        "  <tbody>\n",
        "    <tr>\n",
        "      <th>0</th>\n",
        "      <td> P00-000450 </td>\n",
        "      <td> 59</td>\n",
        "    </tr>\n",
        "    <tr>\n",
        "      <th>1</th>\n",
        "      <td>     P01-28 </td>\n",
        "      <td> 61</td>\n",
        "    </tr>\n",
        "    <tr>\n",
        "      <th>2</th>\n",
        "      <td>   P02-1562 </td>\n",
        "      <td> 67</td>\n",
        "    </tr>\n",
        "    <tr>\n",
        "      <th>3</th>\n",
        "      <td>   P02-2035 </td>\n",
        "      <td> 63</td>\n",
        "    </tr>\n",
        "    <tr>\n",
        "      <th>4</th>\n",
        "      <td>   P03-1334 </td>\n",
        "      <td> 69</td>\n",
        "    </tr>\n",
        "  </tbody>\n",
        "</table>\n",
        "</div>"
       ],
       "metadata": {},
       "output_type": "pyout",
       "prompt_number": 22,
       "text": [
        "    Patient_ID  Age\n",
        "0  P00-000450    59\n",
        "1      P01-28    61\n",
        "2    P02-1562    67\n",
        "3    P02-2035    63\n",
        "4    P03-1334    69"
       ]
      }
     ],
     "prompt_number": 22
    },
    {
     "cell_type": "heading",
     "level": 3,
     "metadata": {},
     "source": [
      "Mutation Data"
     ]
    },
    {
     "cell_type": "heading",
     "level": 6,
     "metadata": {},
     "source": [
      "Somatic Mutations in 112 Paired Patients"
     ]
    },
    {
     "cell_type": "code",
     "collapsed": false,
     "input": [
      "sommut112paired = pd.read_csv(PATH + 'sommut112.csv', \n",
      "                              usecols=['Genome_Change','Refseq_mRNA_Id',\n",
      "                                       'Tumor_Sample_Barcode','Variant_Type',\n",
      "                                       'Protein_Change','Hugo_Symbol','Entrez_Gene_Id',\n",
      "                                       'Chromosome','Variant_Classification'])\n",
      "sommut112paired.rename(columns={'Chromosome':'Chr','Refseq_mRNA_Id':'mRNA_ID',\n",
      "                                'Tumor_Sample_Barcode':'Tumor_ID',\n",
      "                                'Variant_Type':'Mutation_Type','Variant_Classification'\n",
      "                                :'Mutation_Classification','Hugo_Symbol':'Gene',\n",
      "                                'Entrez_Gene_Id':'Entrez_ID'}, inplace=True)\n",
      "#changed tumor id to patient id to allow merge\n",
      "sommut112paired['Patient_ID'] = sommut112paired['Tumor_ID'].str.strip('-Tumor')\n",
      "sommut112paired.to_csv(MUT_PATH + 'mutdataEXSPOP-112paired.csv')\n",
      "sommut112paired.head()"
     ],
     "language": "python",
     "metadata": {},
     "outputs": [
      {
       "html": [
        "<div style=\"max-height:1000px;max-width:1500px;overflow:auto;\">\n",
        "<table border=\"1\" class=\"dataframe\">\n",
        "  <thead>\n",
        "    <tr style=\"text-align: right;\">\n",
        "      <th></th>\n",
        "      <th>Gene</th>\n",
        "      <th>Entrez_ID</th>\n",
        "      <th>Chr</th>\n",
        "      <th>Mutation_Classification</th>\n",
        "      <th>Mutation_Type</th>\n",
        "      <th>Tumor_ID</th>\n",
        "      <th>Genome_Change</th>\n",
        "      <th>Protein_Change</th>\n",
        "      <th>mRNA_ID</th>\n",
        "      <th>Patient_ID</th>\n",
        "    </tr>\n",
        "  </thead>\n",
        "  <tbody>\n",
        "    <tr>\n",
        "      <th>0</th>\n",
        "      <td>  A1CF</td>\n",
        "      <td> 29974</td>\n",
        "      <td> 10</td>\n",
        "      <td> Missense_Mutation</td>\n",
        "      <td> SNP</td>\n",
        "      <td>   P03-1426-Tumor</td>\n",
        "      <td> g.chr10:52575861G&gt;T</td>\n",
        "      <td> p.A357D</td>\n",
        "      <td> NM_138933</td>\n",
        "      <td>   P03-1426</td>\n",
        "    </tr>\n",
        "    <tr>\n",
        "      <th>1</th>\n",
        "      <td> A2BP1</td>\n",
        "      <td> 54715</td>\n",
        "      <td> 16</td>\n",
        "      <td> Missense_Mutation</td>\n",
        "      <td> SNP</td>\n",
        "      <td>   P06-4428-Tumor</td>\n",
        "      <td>  g.chr16:7703846G&gt;A</td>\n",
        "      <td> p.A306T</td>\n",
        "      <td> NM_018723</td>\n",
        "      <td>   P06-4428</td>\n",
        "    </tr>\n",
        "    <tr>\n",
        "      <th>2</th>\n",
        "      <td> A2BP1</td>\n",
        "      <td> 54715</td>\n",
        "      <td> 16</td>\n",
        "      <td> Missense_Mutation</td>\n",
        "      <td> SNP</td>\n",
        "      <td> PR-05-3595-Tumor</td>\n",
        "      <td>  g.chr16:7645620G&gt;A</td>\n",
        "      <td> p.V223M</td>\n",
        "      <td> NM_018723</td>\n",
        "      <td> PR-05-3595</td>\n",
        "    </tr>\n",
        "    <tr>\n",
        "      <th>3</th>\n",
        "      <td>  AAAS</td>\n",
        "      <td>  8086</td>\n",
        "      <td> 12</td>\n",
        "      <td>            Silent</td>\n",
        "      <td> SNP</td>\n",
        "      <td>    PR-2916-Tumor</td>\n",
        "      <td> g.chr12:53702570T&gt;C</td>\n",
        "      <td> p.R342R</td>\n",
        "      <td> NM_015665</td>\n",
        "      <td>    PR-2916</td>\n",
        "    </tr>\n",
        "    <tr>\n",
        "      <th>4</th>\n",
        "      <td> AADAC</td>\n",
        "      <td>    13</td>\n",
        "      <td>  3</td>\n",
        "      <td>            Silent</td>\n",
        "      <td> SNP</td>\n",
        "      <td>    P05-620-Tumor</td>\n",
        "      <td> g.chr3:151531965G&gt;A</td>\n",
        "      <td>   p.S5S</td>\n",
        "      <td> NM_001086</td>\n",
        "      <td>    P05-620</td>\n",
        "    </tr>\n",
        "  </tbody>\n",
        "</table>\n",
        "</div>"
       ],
       "metadata": {},
       "output_type": "pyout",
       "prompt_number": 24,
       "text": [
        "    Gene  Entrez_ID Chr Mutation_Classification Mutation_Type  \\\n",
        "0   A1CF      29974  10       Missense_Mutation           SNP   \n",
        "1  A2BP1      54715  16       Missense_Mutation           SNP   \n",
        "2  A2BP1      54715  16       Missense_Mutation           SNP   \n",
        "3   AAAS       8086  12                  Silent           SNP   \n",
        "4  AADAC         13   3                  Silent           SNP   \n",
        "\n",
        "           Tumor_ID        Genome_Change Protein_Change    mRNA_ID  Patient_ID  \n",
        "0    P03-1426-Tumor  g.chr10:52575861G>T        p.A357D  NM_138933    P03-1426  \n",
        "1    P06-4428-Tumor   g.chr16:7703846G>A        p.A306T  NM_018723    P06-4428  \n",
        "2  PR-05-3595-Tumor   g.chr16:7645620G>A        p.V223M  NM_018723  PR-05-3595  \n",
        "3     PR-2916-Tumor  g.chr12:53702570T>C        p.R342R  NM_015665     PR-2916  \n",
        "4     P05-620-Tumor  g.chr3:151531965G>A          p.S5S  NM_001086     P05-620  "
       ]
      }
     ],
     "prompt_number": 24
    },
    {
     "cell_type": "heading",
     "level": 3,
     "metadata": {},
     "source": [
      "Merged Data"
     ]
    },
    {
     "cell_type": "markdown",
     "metadata": {},
     "source": [
      "* Check merging, having problems where either age wont show up or they won't map"
     ]
    },
    {
     "cell_type": "code",
     "collapsed": true,
     "input": [
      "merged = pd.merge(a, sommut112paired, how='right')\n",
      "merged.drop(['Tumor_ID','Entrez_ID', 'mRNA_ID'], 1, inplace=True)\n",
      "merged['Tissue'] = 'Prostate_Cancer'\n",
      "merged.to_csv(MERGED_PATH + 'mergedExSPOP.csv')\n",
      "merged.head()"
     ],
     "language": "python",
     "metadata": {},
     "outputs": [
      {
       "html": [
        "<div style=\"max-height:1000px;max-width:1500px;overflow:auto;\">\n",
        "<table border=\"1\" class=\"dataframe\">\n",
        "  <thead>\n",
        "    <tr style=\"text-align: right;\">\n",
        "      <th></th>\n",
        "      <th>Patient_ID</th>\n",
        "      <th>Age</th>\n",
        "      <th>Gene</th>\n",
        "      <th>Chr</th>\n",
        "      <th>Mutation_Classification</th>\n",
        "      <th>Mutation_Type</th>\n",
        "      <th>Genome_Change</th>\n",
        "      <th>Protein_Change</th>\n",
        "      <th>Tissue</th>\n",
        "    </tr>\n",
        "  </thead>\n",
        "  <tbody>\n",
        "    <tr>\n",
        "      <th>0</th>\n",
        "      <td> P03-1426</td>\n",
        "      <td>NaN</td>\n",
        "      <td>   A1CF</td>\n",
        "      <td> 10</td>\n",
        "      <td> Missense_Mutation</td>\n",
        "      <td> SNP</td>\n",
        "      <td> g.chr10:52575861G&gt;T</td>\n",
        "      <td> p.A357D</td>\n",
        "      <td> Prostate_Cancer</td>\n",
        "    </tr>\n",
        "    <tr>\n",
        "      <th>1</th>\n",
        "      <td> P03-1426</td>\n",
        "      <td>NaN</td>\n",
        "      <td> AKNAD1</td>\n",
        "      <td>  1</td>\n",
        "      <td>            Silent</td>\n",
        "      <td> SNP</td>\n",
        "      <td> g.chr1:109394369C&gt;T</td>\n",
        "      <td> p.T306T</td>\n",
        "      <td> Prostate_Cancer</td>\n",
        "    </tr>\n",
        "    <tr>\n",
        "      <th>2</th>\n",
        "      <td> P03-1426</td>\n",
        "      <td>NaN</td>\n",
        "      <td> ATP1A4</td>\n",
        "      <td>  1</td>\n",
        "      <td> Missense_Mutation</td>\n",
        "      <td> SNP</td>\n",
        "      <td> g.chr1:160129293T&gt;C</td>\n",
        "      <td> p.F252S</td>\n",
        "      <td> Prostate_Cancer</td>\n",
        "    </tr>\n",
        "    <tr>\n",
        "      <th>3</th>\n",
        "      <td> P03-1426</td>\n",
        "      <td>NaN</td>\n",
        "      <td> ATP2C1</td>\n",
        "      <td>  3</td>\n",
        "      <td>            Silent</td>\n",
        "      <td> SNP</td>\n",
        "      <td> g.chr3:130698115T&gt;C</td>\n",
        "      <td> p.P565P</td>\n",
        "      <td> Prostate_Cancer</td>\n",
        "    </tr>\n",
        "    <tr>\n",
        "      <th>4</th>\n",
        "      <td> P03-1426</td>\n",
        "      <td>NaN</td>\n",
        "      <td>  BMP2K</td>\n",
        "      <td>  4</td>\n",
        "      <td> Missense_Mutation</td>\n",
        "      <td> SNP</td>\n",
        "      <td>  g.chr4:79792085G&gt;C</td>\n",
        "      <td> p.Q460H</td>\n",
        "      <td> Prostate_Cancer</td>\n",
        "    </tr>\n",
        "  </tbody>\n",
        "</table>\n",
        "</div>"
       ],
       "metadata": {},
       "output_type": "pyout",
       "prompt_number": 23,
       "text": [
        "  Patient_ID  Age    Gene Chr Mutation_Classification Mutation_Type  \\\n",
        "0   P03-1426  NaN    A1CF  10       Missense_Mutation           SNP   \n",
        "1   P03-1426  NaN  AKNAD1   1                  Silent           SNP   \n",
        "2   P03-1426  NaN  ATP1A4   1       Missense_Mutation           SNP   \n",
        "3   P03-1426  NaN  ATP2C1   3                  Silent           SNP   \n",
        "4   P03-1426  NaN   BMP2K   4       Missense_Mutation           SNP   \n",
        "\n",
        "         Genome_Change Protein_Change           Tissue  \n",
        "0  g.chr10:52575861G>T        p.A357D  Prostate_Cancer  \n",
        "1  g.chr1:109394369C>T        p.T306T  Prostate_Cancer  \n",
        "2  g.chr1:160129293T>C        p.F252S  Prostate_Cancer  \n",
        "3  g.chr3:130698115T>C        p.P565P  Prostate_Cancer  \n",
        "4   g.chr4:79792085G>C        p.Q460H  Prostate_Cancer  "
       ]
      }
     ],
     "prompt_number": 23
    },
    {
     "cell_type": "code",
     "collapsed": false,
     "input": [
      "plot_age_gender(merged)\n",
      "# no plot for gender, since no data on it"
     ],
     "language": "python",
     "metadata": {},
     "outputs": [
      {
       "ename": "AttributeError",
       "evalue": "'DataFrame' object has no attribute 'Gender'",
       "output_type": "pyerr",
       "traceback": [
        "\u001b[1;31m---------------------------------------------------------------------------\u001b[0m\n\u001b[1;31mAttributeError\u001b[0m                            Traceback (most recent call last)",
        "\u001b[1;32m<ipython-input-8-276d6b392f42>\u001b[0m in \u001b[0;36m<module>\u001b[1;34m()\u001b[0m\n\u001b[1;32m----> 1\u001b[1;33m \u001b[0mplot_age_gender\u001b[0m\u001b[1;33m(\u001b[0m\u001b[0mmerged\u001b[0m\u001b[1;33m)\u001b[0m\u001b[1;33m\u001b[0m\u001b[0m\n\u001b[0m\u001b[0;32m      2\u001b[0m \u001b[1;31m# no plot for gender, since no data on it\u001b[0m\u001b[1;33m\u001b[0m\u001b[1;33m\u001b[0m\u001b[0m\n",
        "\u001b[1;32m/cellar/users/talejand/Documents/IdekerLab/BackUp/Notebook/Imports.ipynb\u001b[0m in \u001b[0;36mplot_age_gender\u001b[1;34m(clinical)\u001b[0m\n",
        "\u001b[1;32m/cellar/users/talejand/anaconda/lib/python2.7/site-packages/pandas/core/generic.pyc\u001b[0m in \u001b[0;36m__getattr__\u001b[1;34m(self, name)\u001b[0m\n\u001b[0;32m   1841\u001b[0m                 \u001b[1;32mreturn\u001b[0m \u001b[0mself\u001b[0m\u001b[1;33m[\u001b[0m\u001b[0mname\u001b[0m\u001b[1;33m]\u001b[0m\u001b[1;33m\u001b[0m\u001b[0m\n\u001b[0;32m   1842\u001b[0m             raise AttributeError(\"'%s' object has no attribute '%s'\" %\n\u001b[1;32m-> 1843\u001b[1;33m                                  (type(self).__name__, name))\n\u001b[0m\u001b[0;32m   1844\u001b[0m \u001b[1;33m\u001b[0m\u001b[0m\n\u001b[0;32m   1845\u001b[0m     \u001b[1;32mdef\u001b[0m \u001b[0m__setattr__\u001b[0m\u001b[1;33m(\u001b[0m\u001b[0mself\u001b[0m\u001b[1;33m,\u001b[0m \u001b[0mname\u001b[0m\u001b[1;33m,\u001b[0m \u001b[0mvalue\u001b[0m\u001b[1;33m)\u001b[0m\u001b[1;33m:\u001b[0m\u001b[1;33m\u001b[0m\u001b[0m\n",
        "\u001b[1;31mAttributeError\u001b[0m: 'DataFrame' object has no attribute 'Gender'"
       ]
      },
      {
       "metadata": {},
       "output_type": "display_data",
       "png": "[encoded data removed]",
       "text": [
        "<matplotlib.figure.Figure at 0x7f55ac744650>"
       ]
      }
     ],
     "prompt_number": 8
    },
    {
     "cell_type": "code",
     "collapsed": false,
     "input": [
      "plot_mutationtype_mutationcategory(merged)\n",
      "# no plot for mutation category due to lack of data"
     ],
     "language": "python",
     "metadata": {},
     "outputs": [
      {
       "ename": "AttributeError",
       "evalue": "'DataFrame' object has no attribute 'Mutation_Category'",
       "output_type": "pyerr",
       "traceback": [
        "\u001b[1;31m---------------------------------------------------------------------------\u001b[0m\n\u001b[1;31mAttributeError\u001b[0m                            Traceback (most recent call last)",
        "\u001b[1;32m<ipython-input-21-022007ea0bf7>\u001b[0m in \u001b[0;36m<module>\u001b[1;34m()\u001b[0m\n\u001b[1;32m----> 1\u001b[1;33m \u001b[0mplot_mutationtype_mutationcategory\u001b[0m\u001b[1;33m(\u001b[0m\u001b[0mmerged\u001b[0m\u001b[1;33m)\u001b[0m\u001b[1;33m\u001b[0m\u001b[0m\n\u001b[0m\u001b[0;32m      2\u001b[0m \u001b[1;31m# no plot for mutation category due to lack of data\u001b[0m\u001b[1;33m\u001b[0m\u001b[1;33m\u001b[0m\u001b[0m\n",
        "\u001b[1;32m/cellar/users/talejand/Documents/IdekerLab/BackUp/Notebook/Imports.ipynb\u001b[0m in \u001b[0;36mplot_mutationtype_mutationcategory\u001b[1;34m(clinical)\u001b[0m\n",
        "\u001b[1;32m/cellar/users/talejand/anaconda/lib/python2.7/site-packages/pandas/core/generic.pyc\u001b[0m in \u001b[0;36m__getattr__\u001b[1;34m(self, name)\u001b[0m\n\u001b[0;32m   1841\u001b[0m                 \u001b[1;32mreturn\u001b[0m \u001b[0mself\u001b[0m\u001b[1;33m[\u001b[0m\u001b[0mname\u001b[0m\u001b[1;33m]\u001b[0m\u001b[1;33m\u001b[0m\u001b[0m\n\u001b[0;32m   1842\u001b[0m             raise AttributeError(\"'%s' object has no attribute '%s'\" %\n\u001b[1;32m-> 1843\u001b[1;33m                                  (type(self).__name__, name))\n\u001b[0m\u001b[0;32m   1844\u001b[0m \u001b[1;33m\u001b[0m\u001b[0m\n\u001b[0;32m   1845\u001b[0m     \u001b[1;32mdef\u001b[0m \u001b[0m__setattr__\u001b[0m\u001b[1;33m(\u001b[0m\u001b[0mself\u001b[0m\u001b[1;33m,\u001b[0m \u001b[0mname\u001b[0m\u001b[1;33m,\u001b[0m \u001b[0mvalue\u001b[0m\u001b[1;33m)\u001b[0m\u001b[1;33m:\u001b[0m\u001b[1;33m\u001b[0m\u001b[0m\n",
        "\u001b[1;31mAttributeError\u001b[0m: 'DataFrame' object has no attribute 'Mutation_Category'"
       ]
      },
      {
       "metadata": {},
       "output_type": "display_data",
       "png": "[encoded data removed]",
       "text": [
        "<matplotlib.figure.Figure at 0x7f55ac403710>"
       ]
      }
     ],
     "prompt_number": 21
    },
    {
     "cell_type": "code",
     "collapsed": false,
     "input": [
      "plot_gene_protein(merged)"
     ],
     "language": "python",
     "metadata": {},
     "outputs": [
      {
       "metadata": {},
       "output_type": "display_data",
       "png": "[encoded data removed]",
       "text": [
        "<matplotlib.figure.Figure at 0x7f55ac4b03d0>"
       ]
      }
     ],
     "prompt_number": 18
    },
    {
     "cell_type": "code",
     "collapsed": false,
     "input": [
      "plot_genome_(merged)"
     ],
     "language": "python",
     "metadata": {},
     "outputs": [
      {
       "metadata": {},
       "output_type": "display_data",
       "png": "[encoded data removed]",
       "text": [
        "<matplotlib.figure.Figure at 0x7f55ac2e1c90>"
       ]
      }
     ],
     "prompt_number": 20
    },
    {
     "cell_type": "heading",
     "level": 3,
     "metadata": {},
     "source": [
      "Copy Number Data:"
     ]
    },
    {
     "cell_type": "code",
     "collapsed": false,
     "input": [
      "copynumvar = pd.read_csv(PATH + 'cnvs112.csv')\n",
      "copynumvar.head()"
     ],
     "language": "python",
     "metadata": {},
     "outputs": [
      {
       "html": [
        "<div style=\"max-height:1000px;max-width:1500px;overflow:auto;\">\n",
        "<table border=\"1\" class=\"dataframe\">\n",
        "  <thead>\n",
        "    <tr style=\"text-align: right;\">\n",
        "      <th></th>\n",
        "      <th>ID</th>\n",
        "      <th>chrom</th>\n",
        "      <th>loc.start</th>\n",
        "      <th>loc.end</th>\n",
        "      <th>num.mark</th>\n",
        "      <th>seg.mean</th>\n",
        "    </tr>\n",
        "  </thead>\n",
        "  <tbody>\n",
        "    <tr>\n",
        "      <th>0</th>\n",
        "      <td> P00-000450</td>\n",
        "      <td> 1</td>\n",
        "      <td>   52771</td>\n",
        "      <td>  912872</td>\n",
        "      <td>   42</td>\n",
        "      <td> 0.1225</td>\n",
        "    </tr>\n",
        "    <tr>\n",
        "      <th>1</th>\n",
        "      <td> P00-000450</td>\n",
        "      <td> 1</td>\n",
        "      <td>   52771</td>\n",
        "      <td>  912872</td>\n",
        "      <td>   42</td>\n",
        "      <td> 0.1225</td>\n",
        "    </tr>\n",
        "    <tr>\n",
        "      <th>2</th>\n",
        "      <td> P00-000450</td>\n",
        "      <td> 1</td>\n",
        "      <td>  913189</td>\n",
        "      <td> 1934403</td>\n",
        "      <td>  242</td>\n",
        "      <td>-0.0341</td>\n",
        "    </tr>\n",
        "    <tr>\n",
        "      <th>3</th>\n",
        "      <td> P00-000450</td>\n",
        "      <td> 1</td>\n",
        "      <td> 1938260</td>\n",
        "      <td> 6085652</td>\n",
        "      <td> 2469</td>\n",
        "      <td> 0.0905</td>\n",
        "    </tr>\n",
        "    <tr>\n",
        "      <th>4</th>\n",
        "      <td> P00-000450</td>\n",
        "      <td> 1</td>\n",
        "      <td> 6086512</td>\n",
        "      <td> 6785929</td>\n",
        "      <td>  306</td>\n",
        "      <td>-0.0296</td>\n",
        "    </tr>\n",
        "  </tbody>\n",
        "</table>\n",
        "</div>"
       ],
       "metadata": {},
       "output_type": "pyout",
       "prompt_number": 13,
       "text": [
        "           ID chrom  loc.start  loc.end  num.mark  seg.mean\n",
        "0  P00-000450     1      52771   912872        42    0.1225\n",
        "1  P00-000450     1      52771   912872        42    0.1225\n",
        "2  P00-000450     1     913189  1934403       242   -0.0341\n",
        "3  P00-000450     1    1938260  6085652      2469    0.0905\n",
        "4  P00-000450     1    6086512  6785929       306   -0.0296"
       ]
      }
     ],
     "prompt_number": 13
    }
   ],
   "metadata": {}
  }
 ]
}