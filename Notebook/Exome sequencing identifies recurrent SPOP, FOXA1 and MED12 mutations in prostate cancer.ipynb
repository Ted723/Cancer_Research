{
 "metadata": {
  "name": "",
  "signature": "sha256:6b0b04ce2b7e0b5b45977e70e463a93811a19347faf3354508fb3efdc843cf70"
 },
 "nbformat": 3,
 "nbformat_minor": 0,
 "worksheets": [
  {
   "cells": [
    {
     "cell_type": "heading",
     "level": 1,
     "metadata": {},
     "source": [
      "Exome sequencing identifies recurrent SPOP, FOXA1 and MED12 mutations in prostate cancer"
     ]
    },
    {
     "cell_type": "markdown",
     "metadata": {},
     "source": [
      "* Need to add High Level"
     ]
    },
    {
     "cell_type": "heading",
     "level": 3,
     "metadata": {},
     "source": [
      "Patient Analysis"
     ]
    },
    {
     "cell_type": "heading",
     "level": 3,
     "metadata": {},
     "source": [
      "Mutation Analysis"
     ]
    },
    {
     "cell_type": "heading",
     "level": 3,
     "metadata": {},
     "source": [
      "Summary"
     ]
    },
    {
     "cell_type": "heading",
     "level": 3,
     "metadata": {},
     "source": [
      "Accesion Codes"
     ]
    },
    {
     "cell_type": "heading",
     "level": 2,
     "metadata": {},
     "source": [
      "Data Analysis"
     ]
    },
    {
     "cell_type": "code",
     "collapsed": false,
     "input": [
      "cd ~"
     ],
     "language": "python",
     "metadata": {},
     "outputs": [
      {
       "output_type": "stream",
       "stream": "stdout",
       "text": [
        "/cellar/users/talejand\n"
       ]
      }
     ],
     "prompt_number": 1
    },
    {
     "cell_type": "code",
     "collapsed": false,
     "input": [
      "%pylab inline\n",
      "import pandas as pd\n",
      "import seaborn as sns"
     ],
     "language": "python",
     "metadata": {},
     "outputs": [
      {
       "output_type": "stream",
       "stream": "stdout",
       "text": [
        "Populating the interactive namespace from numpy and matplotlib\n"
       ]
      }
     ],
     "prompt_number": 2
    },
    {
     "cell_type": "code",
     "collapsed": false,
     "input": [
      "PATH = 'Documents/IdekerLab/CancerPapers/Exome sequencing identifies recurrent SPOP, FOXA1 and MED12 mutations in prostate cancer/'\n",
      "MUT_PATH = 'Documents/IdekerLab/CancerPapers/Pat-Mut_Data/'\n",
      "MERGED_PATH = 'Documents/IdekerLab/CancerPapers/Merged/'"
     ],
     "language": "python",
     "metadata": {},
     "outputs": [],
     "prompt_number": 3
    },
    {
     "cell_type": "heading",
     "level": 2,
     "metadata": {},
     "source": [
      "Hard Data"
     ]
    },
    {
     "cell_type": "heading",
     "level": 3,
     "metadata": {},
     "source": [
      "Patient Data"
     ]
    },
    {
     "cell_type": "markdown",
     "metadata": {},
     "source": [
      "* Used tabula to import exome pat char and named the columns myself based on pdf. \n",
      "    * Problems merging, but only really need patient_ID and age --> so its ok"
     ]
    },
    {
     "cell_type": "code",
     "collapsed": true,
     "input": [
      "a =pd.read_csv(PATH + 'tabula-1cf513ee6eb7be84578a793438977b7443b3dfae.csv',\n",
      "               sep = '\\t', usecols=['Patient_ID','Age'])\n",
      "a.to_csv(MUT_PATH + 'patcharExSPOP.csv')\n",
      "a.head()"
     ],
     "language": "python",
     "metadata": {},
     "outputs": [
      {
       "html": [
        "<div style=\"max-height:1000px;max-width:1500px;overflow:auto;\">\n",
        "<table border=\"1\" class=\"dataframe\">\n",
        "  <thead>\n",
        "    <tr style=\"text-align: right;\">\n",
        "      <th></th>\n",
        "      <th>Patient_ID</th>\n",
        "      <th>Age</th>\n",
        "    </tr>\n",
        "  </thead>\n",
        "  <tbody>\n",
        "    <tr>\n",
        "      <th>0</th>\n",
        "      <td> P00-000450 </td>\n",
        "      <td> 59</td>\n",
        "    </tr>\n",
        "    <tr>\n",
        "      <th>1</th>\n",
        "      <td>     P01-28 </td>\n",
        "      <td> 61</td>\n",
        "    </tr>\n",
        "    <tr>\n",
        "      <th>2</th>\n",
        "      <td>   P02-1562 </td>\n",
        "      <td> 67</td>\n",
        "    </tr>\n",
        "    <tr>\n",
        "      <th>3</th>\n",
        "      <td>   P02-2035 </td>\n",
        "      <td> 63</td>\n",
        "    </tr>\n",
        "    <tr>\n",
        "      <th>4</th>\n",
        "      <td>   P03-1334 </td>\n",
        "      <td> 69</td>\n",
        "    </tr>\n",
        "  </tbody>\n",
        "</table>\n",
        "</div>"
       ],
       "metadata": {},
       "output_type": "pyout",
       "prompt_number": 12,
       "text": [
        "    Patient_ID  Age\n",
        "0  P00-000450    59\n",
        "1      P01-28    61\n",
        "2    P02-1562    67\n",
        "3    P02-2035    63\n",
        "4    P03-1334    69"
       ]
      }
     ],
     "prompt_number": 12
    },
    {
     "cell_type": "heading",
     "level": 3,
     "metadata": {},
     "source": [
      "Mutation Data"
     ]
    },
    {
     "cell_type": "heading",
     "level": 6,
     "metadata": {},
     "source": [
      "Somatic Mutations in 112 Paired Patients"
     ]
    },
    {
     "cell_type": "code",
     "collapsed": false,
     "input": [
      "sommut112paired = pd.read_csv(PATH + 'sommut112.csv', \n",
      "                              usecols=['Genome_Change','Refseq_mRNA_Id',\n",
      "                                       'Tumor_Sample_Barcode','Variant_Type',\n",
      "                                       'Protein_Change','Hugo_Symbol','Entrez_Gene_Id',\n",
      "                                       'Chromosome','Variant_Classification'])\n",
      "sommut112paired.rename(columns={'Chromosome':'Chr','Refseq_mRNA_Id':'mRNA_ID',\n",
      "                                'Tumor_Sample_Barcode':'Tumor_ID',\n",
      "                                'Variant_Type':'Mutation_Type','Variant_Classification'\n",
      "                                :'Mutation_Classification','Hugo_Symbol':'Gene',\n",
      "                                'Entrez_Gene_Id':'Entrez_ID'}, inplace=True)\n",
      "#changed tumor id to patient id to allow merge\n",
      "sommut112paired['Patient_ID'] = sommut112paired['Tumor_ID'].str.strip('-Tumor')\n",
      "sommut112paired.to_csv(MUT_PATH + 'mutdataEXSPOP-112paired.csv')\n",
      "sommut112paired.head()"
     ],
     "language": "python",
     "metadata": {},
     "outputs": [
      {
       "html": [
        "<div style=\"max-height:1000px;max-width:1500px;overflow:auto;\">\n",
        "<table border=\"1\" class=\"dataframe\">\n",
        "  <thead>\n",
        "    <tr style=\"text-align: right;\">\n",
        "      <th></th>\n",
        "      <th>Gene</th>\n",
        "      <th>Entrez_ID</th>\n",
        "      <th>Chr</th>\n",
        "      <th>Mutation_Classification</th>\n",
        "      <th>Mutation_Type</th>\n",
        "      <th>Tumor_ID</th>\n",
        "      <th>Genome_Change</th>\n",
        "      <th>Protein_Change</th>\n",
        "      <th>mRNA_ID</th>\n",
        "      <th>Patient_ID</th>\n",
        "    </tr>\n",
        "  </thead>\n",
        "  <tbody>\n",
        "    <tr>\n",
        "      <th>0</th>\n",
        "      <td>  A1CF</td>\n",
        "      <td> 29974</td>\n",
        "      <td> 10</td>\n",
        "      <td> Missense_Mutation</td>\n",
        "      <td> SNP</td>\n",
        "      <td>   P03-1426-Tumor</td>\n",
        "      <td> g.chr10:52575861G&gt;T</td>\n",
        "      <td> p.A357D</td>\n",
        "      <td> NM_138933</td>\n",
        "      <td>   P03-1426</td>\n",
        "    </tr>\n",
        "    <tr>\n",
        "      <th>1</th>\n",
        "      <td> A2BP1</td>\n",
        "      <td> 54715</td>\n",
        "      <td> 16</td>\n",
        "      <td> Missense_Mutation</td>\n",
        "      <td> SNP</td>\n",
        "      <td>   P06-4428-Tumor</td>\n",
        "      <td>  g.chr16:7703846G&gt;A</td>\n",
        "      <td> p.A306T</td>\n",
        "      <td> NM_018723</td>\n",
        "      <td>   P06-4428</td>\n",
        "    </tr>\n",
        "    <tr>\n",
        "      <th>2</th>\n",
        "      <td> A2BP1</td>\n",
        "      <td> 54715</td>\n",
        "      <td> 16</td>\n",
        "      <td> Missense_Mutation</td>\n",
        "      <td> SNP</td>\n",
        "      <td> PR-05-3595-Tumor</td>\n",
        "      <td>  g.chr16:7645620G&gt;A</td>\n",
        "      <td> p.V223M</td>\n",
        "      <td> NM_018723</td>\n",
        "      <td> PR-05-3595</td>\n",
        "    </tr>\n",
        "    <tr>\n",
        "      <th>3</th>\n",
        "      <td>  AAAS</td>\n",
        "      <td>  8086</td>\n",
        "      <td> 12</td>\n",
        "      <td>            Silent</td>\n",
        "      <td> SNP</td>\n",
        "      <td>    PR-2916-Tumor</td>\n",
        "      <td> g.chr12:53702570T&gt;C</td>\n",
        "      <td> p.R342R</td>\n",
        "      <td> NM_015665</td>\n",
        "      <td>    PR-2916</td>\n",
        "    </tr>\n",
        "    <tr>\n",
        "      <th>4</th>\n",
        "      <td> AADAC</td>\n",
        "      <td>    13</td>\n",
        "      <td>  3</td>\n",
        "      <td>            Silent</td>\n",
        "      <td> SNP</td>\n",
        "      <td>    P05-620-Tumor</td>\n",
        "      <td> g.chr3:151531965G&gt;A</td>\n",
        "      <td>   p.S5S</td>\n",
        "      <td> NM_001086</td>\n",
        "      <td>    P05-620</td>\n",
        "    </tr>\n",
        "  </tbody>\n",
        "</table>\n",
        "</div>"
       ],
       "metadata": {},
       "output_type": "pyout",
       "prompt_number": 16,
       "text": [
        "    Gene  Entrez_ID Chr Mutation_Classification Mutation_Type  \\\n",
        "0   A1CF      29974  10       Missense_Mutation           SNP   \n",
        "1  A2BP1      54715  16       Missense_Mutation           SNP   \n",
        "2  A2BP1      54715  16       Missense_Mutation           SNP   \n",
        "3   AAAS       8086  12                  Silent           SNP   \n",
        "4  AADAC         13   3                  Silent           SNP   \n",
        "\n",
        "           Tumor_ID        Genome_Change Protein_Change    mRNA_ID  Patient_ID  \n",
        "0    P03-1426-Tumor  g.chr10:52575861G>T        p.A357D  NM_138933    P03-1426  \n",
        "1    P06-4428-Tumor   g.chr16:7703846G>A        p.A306T  NM_018723    P06-4428  \n",
        "2  PR-05-3595-Tumor   g.chr16:7645620G>A        p.V223M  NM_018723  PR-05-3595  \n",
        "3     PR-2916-Tumor  g.chr12:53702570T>C        p.R342R  NM_015665     PR-2916  \n",
        "4     P05-620-Tumor  g.chr3:151531965G>A          p.S5S  NM_001086     P05-620  "
       ]
      }
     ],
     "prompt_number": 16
    },
    {
     "cell_type": "heading",
     "level": 3,
     "metadata": {},
     "source": [
      "Merged Data"
     ]
    },
    {
     "cell_type": "code",
     "collapsed": true,
     "input": [
      "merged = pd.merge(a, sommut112paired, how='outer')\n",
      "merged.drop(['Tumor_ID','Entrez_ID', 'mRNA_ID'], 1, inplace=True)\n",
      "merged['Tissue'] = 'Prostate_Cancer'\n",
      "merged.to_csv(MERGED_PATH + 'mergedExSPOP.csv')\n",
      "merged.head()"
     ],
     "language": "python",
     "metadata": {},
     "outputs": [
      {
       "html": [
        "<div style=\"max-height:1000px;max-width:1500px;overflow:auto;\">\n",
        "<table border=\"1\" class=\"dataframe\">\n",
        "  <thead>\n",
        "    <tr style=\"text-align: right;\">\n",
        "      <th></th>\n",
        "      <th>Patient_ID</th>\n",
        "      <th>Age</th>\n",
        "      <th>Gene</th>\n",
        "      <th>Chr</th>\n",
        "      <th>Mutation_Classification</th>\n",
        "      <th>Mutation_Type</th>\n",
        "      <th>Genome_Change</th>\n",
        "      <th>Protein_Change</th>\n",
        "      <th>Tissue</th>\n",
        "    </tr>\n",
        "  </thead>\n",
        "  <tbody>\n",
        "    <tr>\n",
        "      <th>0</th>\n",
        "      <td> P00-000450 </td>\n",
        "      <td> 59</td>\n",
        "      <td> NaN</td>\n",
        "      <td> NaN</td>\n",
        "      <td> NaN</td>\n",
        "      <td> NaN</td>\n",
        "      <td> NaN</td>\n",
        "      <td> NaN</td>\n",
        "      <td> Prostate_Cancer</td>\n",
        "    </tr>\n",
        "    <tr>\n",
        "      <th>1</th>\n",
        "      <td>     P01-28 </td>\n",
        "      <td> 61</td>\n",
        "      <td> NaN</td>\n",
        "      <td> NaN</td>\n",
        "      <td> NaN</td>\n",
        "      <td> NaN</td>\n",
        "      <td> NaN</td>\n",
        "      <td> NaN</td>\n",
        "      <td> Prostate_Cancer</td>\n",
        "    </tr>\n",
        "    <tr>\n",
        "      <th>2</th>\n",
        "      <td>   P02-1562 </td>\n",
        "      <td> 67</td>\n",
        "      <td> NaN</td>\n",
        "      <td> NaN</td>\n",
        "      <td> NaN</td>\n",
        "      <td> NaN</td>\n",
        "      <td> NaN</td>\n",
        "      <td> NaN</td>\n",
        "      <td> Prostate_Cancer</td>\n",
        "    </tr>\n",
        "    <tr>\n",
        "      <th>3</th>\n",
        "      <td>   P02-2035 </td>\n",
        "      <td> 63</td>\n",
        "      <td> NaN</td>\n",
        "      <td> NaN</td>\n",
        "      <td> NaN</td>\n",
        "      <td> NaN</td>\n",
        "      <td> NaN</td>\n",
        "      <td> NaN</td>\n",
        "      <td> Prostate_Cancer</td>\n",
        "    </tr>\n",
        "    <tr>\n",
        "      <th>4</th>\n",
        "      <td>   P03-1334 </td>\n",
        "      <td> 69</td>\n",
        "      <td> NaN</td>\n",
        "      <td> NaN</td>\n",
        "      <td> NaN</td>\n",
        "      <td> NaN</td>\n",
        "      <td> NaN</td>\n",
        "      <td> NaN</td>\n",
        "      <td> Prostate_Cancer</td>\n",
        "    </tr>\n",
        "  </tbody>\n",
        "</table>\n",
        "</div>"
       ],
       "metadata": {},
       "output_type": "pyout",
       "prompt_number": 17,
       "text": [
        "    Patient_ID  Age Gene  Chr Mutation_Classification Mutation_Type  \\\n",
        "0  P00-000450    59  NaN  NaN                     NaN           NaN   \n",
        "1      P01-28    61  NaN  NaN                     NaN           NaN   \n",
        "2    P02-1562    67  NaN  NaN                     NaN           NaN   \n",
        "3    P02-2035    63  NaN  NaN                     NaN           NaN   \n",
        "4    P03-1334    69  NaN  NaN                     NaN           NaN   \n",
        "\n",
        "  Genome_Change Protein_Change           Tissue  \n",
        "0           NaN            NaN  Prostate_Cancer  \n",
        "1           NaN            NaN  Prostate_Cancer  \n",
        "2           NaN            NaN  Prostate_Cancer  \n",
        "3           NaN            NaN  Prostate_Cancer  \n",
        "4           NaN            NaN  Prostate_Cancer  "
       ]
      }
     ],
     "prompt_number": 17
    },
    {
     "cell_type": "heading",
     "level": 3,
     "metadata": {},
     "source": [
      "Copy Number Data:"
     ]
    },
    {
     "cell_type": "code",
     "collapsed": false,
     "input": [
      "copynumvar = pd.read_csv(PATH + 'cnvs112.csv')\n",
      "copynumvar.head()"
     ],
     "language": "python",
     "metadata": {},
     "outputs": [
      {
       "html": [
        "<div style=\"max-height:1000px;max-width:1500px;overflow:auto;\">\n",
        "<table border=\"1\" class=\"dataframe\">\n",
        "  <thead>\n",
        "    <tr style=\"text-align: right;\">\n",
        "      <th></th>\n",
        "      <th>ID</th>\n",
        "      <th>chrom</th>\n",
        "      <th>loc.start</th>\n",
        "      <th>loc.end</th>\n",
        "      <th>num.mark</th>\n",
        "      <th>seg.mean</th>\n",
        "    </tr>\n",
        "  </thead>\n",
        "  <tbody>\n",
        "    <tr>\n",
        "      <th>0</th>\n",
        "      <td> P00-000450</td>\n",
        "      <td> 1</td>\n",
        "      <td>   52771</td>\n",
        "      <td>  912872</td>\n",
        "      <td>   42</td>\n",
        "      <td> 0.1225</td>\n",
        "    </tr>\n",
        "    <tr>\n",
        "      <th>1</th>\n",
        "      <td> P00-000450</td>\n",
        "      <td> 1</td>\n",
        "      <td>   52771</td>\n",
        "      <td>  912872</td>\n",
        "      <td>   42</td>\n",
        "      <td> 0.1225</td>\n",
        "    </tr>\n",
        "    <tr>\n",
        "      <th>2</th>\n",
        "      <td> P00-000450</td>\n",
        "      <td> 1</td>\n",
        "      <td>  913189</td>\n",
        "      <td> 1934403</td>\n",
        "      <td>  242</td>\n",
        "      <td>-0.0341</td>\n",
        "    </tr>\n",
        "    <tr>\n",
        "      <th>3</th>\n",
        "      <td> P00-000450</td>\n",
        "      <td> 1</td>\n",
        "      <td> 1938260</td>\n",
        "      <td> 6085652</td>\n",
        "      <td> 2469</td>\n",
        "      <td> 0.0905</td>\n",
        "    </tr>\n",
        "    <tr>\n",
        "      <th>4</th>\n",
        "      <td> P00-000450</td>\n",
        "      <td> 1</td>\n",
        "      <td> 6086512</td>\n",
        "      <td> 6785929</td>\n",
        "      <td>  306</td>\n",
        "      <td>-0.0296</td>\n",
        "    </tr>\n",
        "  </tbody>\n",
        "</table>\n",
        "</div>"
       ],
       "metadata": {},
       "output_type": "pyout",
       "prompt_number": 13,
       "text": [
        "           ID chrom  loc.start  loc.end  num.mark  seg.mean\n",
        "0  P00-000450     1      52771   912872        42    0.1225\n",
        "1  P00-000450     1      52771   912872        42    0.1225\n",
        "2  P00-000450     1     913189  1934403       242   -0.0341\n",
        "3  P00-000450     1    1938260  6085652      2469    0.0905\n",
        "4  P00-000450     1    6086512  6785929       306   -0.0296"
       ]
      }
     ],
     "prompt_number": 13
    }
   ],
   "metadata": {}
  }
 ]
}