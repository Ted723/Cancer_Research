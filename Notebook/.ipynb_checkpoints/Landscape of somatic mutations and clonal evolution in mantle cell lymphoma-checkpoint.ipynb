{
 "metadata": {
  "name": "",
  "signature": "sha256:b3e0370f260ffe8b9865426b975ede8d2ae286a3e280e99dd8f661b365c7eab5"
 },
 "nbformat": 3,
 "nbformat_minor": 0,
 "worksheets": [
  {
   "cells": [
    {
     "cell_type": "heading",
     "level": 1,
     "metadata": {},
     "source": [
      "Landscape of somatic mutations and clonal evolution in mantle cell lymphoma"
     ]
    },
    {
     "cell_type": "heading",
     "level": 3,
     "metadata": {},
     "source": [
      "Patient Analysis"
     ]
    },
    {
     "cell_type": "markdown",
     "metadata": {},
     "source": [
      "* 29 MCL cases w/ matched normal DNA\n",
      "    * WES and WGS Analysis\n",
      "* Also 6 MCL cell lines analyzed\n",
      "* Validation: 172 MCL patients target sequenced for recurrently mutatated genes"
     ]
    },
    {
     "cell_type": "heading",
     "level": 3,
     "metadata": {},
     "source": [
      "Mutation Analysis"
     ]
    },
    {
     "cell_type": "markdown",
     "metadata": {},
     "source": [
      "* 25 Sig. Mut Genes:\n",
      "    * Drivers: ATM, CCND1, TP53\n",
      "    * Mutated genes: BIRC3 and TLR2\n",
      "    * Chromatin Modifiers: WHSC1, MLL2, MEF2B\n",
      "* 3,700 somatic mutations per tumor (1.2 per Mb) by WGS\n",
      "* Identified 652 protein-coding genes with somatic mutations affecting the structure of the encoded protein\n",
      "    * Median = 20 mut/case"
     ]
    },
    {
     "cell_type": "heading",
     "level": 3,
     "metadata": {},
     "source": [
      "Summary"
     ]
    },
    {
     "cell_type": "markdown",
     "metadata": {},
     "source": [
      "* NOTCH2 mutations as an alternative phenomenon to NOTCH1 mutations in aggressive tumors with a dismal progno- sis\n",
      "* Analysis of two simultaneous or subsequent MCL samples by whole-genome/whole-exome (n = 8) or targeted (n = 19) sequenc- ing revealed subclonal heterogeneity at diagnosis in samples from different topographic sites and modulation of the initial muta- tional profile at the progression of the disease\n",
      "* Most com- mon substitution was the transition C > T/G > A, usually oc- curring in a CpG context. Two IGHV-mutated MCL showed a higher proportion of A > C/T > G mutations than the two IGHV-unmutated cases \n",
      "* Twenty-five of the 33 mutated genes in at least two samples were mutated at a rate significantly higher than expected by chance, and all tumors harbored mutations in at least 1 of these 25 genes (Fig. 1 and SI Appendix, Table S11). \n",
      "    * Similarly, five of the six MCL cell lines also had mutations in at least one of the recurrently mutated genes identified in primary tumors\n",
      "* ATM mutations were found in 12 of the 22 (55%) tumors expressing SOX11, but in none of the SOX11-negative MCL"
     ]
    },
    {
     "cell_type": "heading",
     "level": 3,
     "metadata": {},
     "source": [
      "Accession Codes"
     ]
    },
    {
     "cell_type": "markdown",
     "metadata": {},
     "source": [
      "* N/A"
     ]
    },
    {
     "cell_type": "heading",
     "level": 2,
     "metadata": {},
     "source": [
      "Data Analysis"
     ]
    },
    {
     "cell_type": "code",
     "collapsed": false,
     "input": [
      "import NotebookImport\n",
      "from Imports import *"
     ],
     "language": "python",
     "metadata": {},
     "outputs": [
      {
       "html": [
        "importing IPython notebook from <a href='./Imports.ipynb' target='_blank'>Imports</a>"
       ],
       "metadata": {},
       "output_type": "display_data"
      },
      {
       "output_type": "stream",
       "stream": "stdout",
       "text": [
        "Populating the interactive namespace from numpy and matplotlib\n"
       ]
      }
     ],
     "prompt_number": 1
    },
    {
     "cell_type": "code",
     "collapsed": false,
     "input": [
      "PATH = '{}/{}/Landscape of somatic mutations and \\\n",
      "clonal evolution in mantle cell lymphoma/'.format(LOCAL_DIR, PAPERS)"
     ],
     "language": "python",
     "metadata": {},
     "outputs": [],
     "prompt_number": 2
    },
    {
     "cell_type": "heading",
     "level": 2,
     "metadata": {},
     "source": [
      "Hard Data"
     ]
    },
    {
     "cell_type": "heading",
     "level": 3,
     "metadata": {},
     "source": [
      "Patient Data"
     ]
    },
    {
     "cell_type": "markdown",
     "metadata": {},
     "source": [
      "* Patient Data provides little\n",
      "* Can I combine columns to form protein or genome change\n",
      "* Paper messed up and provided amino acid reference base instead of nucleotide\n",
      "    * makes it hard to use data"
     ]
    },
    {
     "cell_type": "code",
     "collapsed": false,
     "input": [
      "patchar= pd.read_csv(PATH + 'patchar.csv')\n",
      "patchar.head()"
     ],
     "language": "python",
     "metadata": {},
     "outputs": [
      {
       "html": [
        "<div style=\"max-height:1000px;max-width:1500px;overflow:auto;\">\n",
        "<table border=\"1\" class=\"dataframe\">\n",
        "  <thead>\n",
        "    <tr style=\"text-align: right;\">\n",
        "      <th></th>\n",
        "      <th>Patient_ID</th>\n",
        "      <th>Sample</th>\n",
        "      <th>Sampling-Time</th>\n",
        "      <th>Synchronic/At_Progression</th>\n",
        "      <th>Cytology</th>\n",
        "      <th>Puriity</th>\n",
        "      <th>WGS</th>\n",
        "      <th>YES</th>\n",
        "      <th>Unnamed: 8</th>\n",
        "      <th>Unnamed: 9</th>\n",
        "      <th>Unnamed: 10</th>\n",
        "      <th>Unnamed: 11</th>\n",
        "      <th>Unnamed: 12</th>\n",
        "    </tr>\n",
        "  </thead>\n",
        "  <tbody>\n",
        "    <tr>\n",
        "      <th>0</th>\n",
        "      <td> M001 </td>\n",
        "      <td>    PB normal </td>\n",
        "      <td>           NaN</td>\n",
        "      <td>          NaN</td>\n",
        "      <td>       NaN</td>\n",
        "      <td>    96</td>\n",
        "      <td> y </td>\n",
        "      <td> y </td>\n",
        "      <td> y </td>\n",
        "      <td> NaN</td>\n",
        "      <td>  NaN</td>\n",
        "      <td>       NaN</td>\n",
        "      <td>   NaN</td>\n",
        "    </tr>\n",
        "    <tr>\n",
        "      <th>1</th>\n",
        "      <td> M001 </td>\n",
        "      <td>     LN tumor </td>\n",
        "      <td> At diagnosis </td>\n",
        "      <td> Synchronic  </td>\n",
        "      <td>  Classic </td>\n",
        "      <td> &gt;90  </td>\n",
        "      <td> y </td>\n",
        "      <td> y </td>\n",
        "      <td> y </td>\n",
        "      <td> NaN</td>\n",
        "      <td> Pos </td>\n",
        "      <td> IGHV3-21 </td>\n",
        "      <td> 98.80</td>\n",
        "    </tr>\n",
        "    <tr>\n",
        "      <th>2</th>\n",
        "      <td> M001 </td>\n",
        "      <td>     PB tumor </td>\n",
        "      <td> At diagnosis </td>\n",
        "      <td> Synchronic  </td>\n",
        "      <td>       NaN</td>\n",
        "      <td>  96.1</td>\n",
        "      <td> y </td>\n",
        "      <td> y </td>\n",
        "      <td> y </td>\n",
        "      <td>  y </td>\n",
        "      <td> Pos </td>\n",
        "      <td>       NaN</td>\n",
        "      <td>   NaN</td>\n",
        "    </tr>\n",
        "    <tr>\n",
        "      <th>3</th>\n",
        "      <td> M002 </td>\n",
        "      <td>    PB normal </td>\n",
        "      <td>           NaN</td>\n",
        "      <td>          NaN</td>\n",
        "      <td>       NaN</td>\n",
        "      <td>    99</td>\n",
        "      <td> y </td>\n",
        "      <td> y </td>\n",
        "      <td> y </td>\n",
        "      <td> NaN</td>\n",
        "      <td>  NaN</td>\n",
        "      <td>       NaN</td>\n",
        "      <td>   NaN</td>\n",
        "    </tr>\n",
        "    <tr>\n",
        "      <th>4</th>\n",
        "      <td> M002 </td>\n",
        "      <td> Tonsil tumor </td>\n",
        "      <td> At diagnosis </td>\n",
        "      <td>          NaN</td>\n",
        "      <td> Blastoid </td>\n",
        "      <td>  &gt;90 </td>\n",
        "      <td> y </td>\n",
        "      <td> y </td>\n",
        "      <td> y </td>\n",
        "      <td>  y </td>\n",
        "      <td> Pos </td>\n",
        "      <td> IGHV4-34 </td>\n",
        "      <td> 99.55</td>\n",
        "    </tr>\n",
        "  </tbody>\n",
        "</table>\n",
        "</div>"
       ],
       "metadata": {},
       "output_type": "pyout",
       "prompt_number": 5,
       "text": [
        "  Patient_ID         Sample  Sampling-Time Synchronic/At_Progression  \\\n",
        "0      M001      PB normal             NaN                       NaN   \n",
        "1      M001       LN tumor   At diagnosis               Synchronic     \n",
        "2      M001       PB tumor   At diagnosis               Synchronic     \n",
        "3      M002      PB normal             NaN                       NaN   \n",
        "4      M002   Tonsil tumor   At diagnosis                        NaN   \n",
        "\n",
        "    Cytology Puriity WGS YES Unnamed: 8 Unnamed: 9 Unnamed: 10 Unnamed: 11  \\\n",
        "0        NaN      96  y   y          y         NaN         NaN         NaN   \n",
        "1   Classic    >90    y   y          y         NaN        Pos    IGHV3-21    \n",
        "2        NaN    96.1  y   y          y          y         Pos          NaN   \n",
        "3        NaN      99  y   y          y         NaN         NaN         NaN   \n",
        "4  Blastoid     >90   y   y          y          y         Pos    IGHV4-34    \n",
        "\n",
        "   Unnamed: 12  \n",
        "0          NaN  \n",
        "1        98.80  \n",
        "2          NaN  \n",
        "3          NaN  \n",
        "4        99.55  "
       ]
      }
     ],
     "prompt_number": 5
    },
    {
     "cell_type": "heading",
     "level": 3,
     "metadata": {},
     "source": [
      "Mutation Data"
     ]
    },
    {
     "cell_type": "markdown",
     "metadata": {},
     "source": [
      "* Merged data here since patient data wasnt helpful"
     ]
    },
    {
     "cell_type": "code",
     "collapsed": true,
     "input": [
      "df = pd.read_csv(PATH + 'sd02.csv', usecols=['Gene symbol', 'Mutation Type'])\n",
      "df.rename(columns={'Gene symbol':'Gene','Mutation Type':'Mutation_Type'}, inplace=True)\n",
      "df['Tissue'] = 'MCL'\n",
      "df.to_csv(MUT_PATH + 'mutdataMCL.csv')\n",
      "df.to_csv(MERGED_PATH + 'mergedMCL.csv')\n",
      "df.head()       "
     ],
     "language": "python",
     "metadata": {},
     "outputs": [
      {
       "html": [
        "<div style=\"max-height:1000px;max-width:1500px;overflow:auto;\">\n",
        "<table border=\"1\" class=\"dataframe\">\n",
        "  <thead>\n",
        "    <tr style=\"text-align: right;\">\n",
        "      <th></th>\n",
        "      <th>Gene</th>\n",
        "      <th>Mutation_Type</th>\n",
        "      <th>Tissue</th>\n",
        "    </tr>\n",
        "  </thead>\n",
        "  <tbody>\n",
        "    <tr>\n",
        "      <th>0</th>\n",
        "      <td> ARID5A</td>\n",
        "      <td> non_synonymous</td>\n",
        "      <td> MCL</td>\n",
        "    </tr>\n",
        "    <tr>\n",
        "      <th>1</th>\n",
        "      <td>  CSMD2</td>\n",
        "      <td> non_synonymous</td>\n",
        "      <td> MCL</td>\n",
        "    </tr>\n",
        "    <tr>\n",
        "      <th>2</th>\n",
        "      <td>   ECT2</td>\n",
        "      <td> non_synonymous</td>\n",
        "      <td> MCL</td>\n",
        "    </tr>\n",
        "    <tr>\n",
        "      <th>3</th>\n",
        "      <td> FAM46C</td>\n",
        "      <td> non_synonymous</td>\n",
        "      <td> MCL</td>\n",
        "    </tr>\n",
        "    <tr>\n",
        "      <th>4</th>\n",
        "      <td>    KDR</td>\n",
        "      <td> non_synonymous</td>\n",
        "      <td> MCL</td>\n",
        "    </tr>\n",
        "  </tbody>\n",
        "</table>\n",
        "</div>"
       ],
       "metadata": {},
       "output_type": "pyout",
       "prompt_number": 6,
       "text": [
        "     Gene   Mutation_Type Tissue\n",
        "0  ARID5A  non_synonymous    MCL\n",
        "1   CSMD2  non_synonymous    MCL\n",
        "2    ECT2  non_synonymous    MCL\n",
        "3  FAM46C  non_synonymous    MCL\n",
        "4     KDR  non_synonymous    MCL"
       ]
      }
     ],
     "prompt_number": 6
    }
   ],
   "metadata": {}
  }
 ]
}