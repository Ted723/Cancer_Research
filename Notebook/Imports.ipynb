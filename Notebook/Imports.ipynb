{
 "metadata": {
  "kernelspec": {
   "codemirror_mode": {
    "name": "ipython",
    "version": 2
   },
   "display_name": "IPython (Python 2)",
   "language": "python",
   "name": "python2"
  },
  "name": "",
  "signature": "sha256:ac1a7a02fbf99e6e15a3d6b6d3cde20eaa7e3a2eefe8ec30ab073ebfab41ddd1"
 },
 "nbformat": 3,
 "nbformat_minor": 0,
 "worksheets": [
  {
   "cells": [
    {
     "cell_type": "heading",
     "level": 1,
     "metadata": {},
     "source": [
      "Imports"
     ]
    },
    {
     "cell_type": "code",
     "collapsed": false,
     "input": [
      "%pylab inline\n",
      "import pandas as pd\n",
      "import seaborn as sns"
     ],
     "language": "python",
     "metadata": {},
     "outputs": [
      {
       "output_type": "stream",
       "stream": "stdout",
       "text": [
        "Populating the interactive namespace from numpy and matplotlib\n"
       ]
      }
     ],
     "prompt_number": 1
    },
    {
     "cell_type": "code",
     "collapsed": false,
     "input": [
      "LOCAL_DIR = '/cellar/users/talejand'\n",
      "PAPERS = 'Documents/IdekerLab/CancerPapers'\n",
      "MUT_PATH = '{}/{}/Pat-Mut_Data/'.format(LOCAL_DIR, PAPERS)\n",
      "MERGED_PATH = '{}/{}/Merged/'.format(LOCAL_DIR, PAPERS)"
     ],
     "language": "python",
     "metadata": {},
     "outputs": []
    },
    {
     "cell_type": "heading",
     "level": 1,
     "metadata": {},
     "source": [
      "Helper Functions  for Common Tasks"
     ]
    },
    {
     "cell_type": "code",
     "collapsed": false,
     "input": [
      "def plot_age_gender(clinical):\n",
      "    \"\"\"\n",
      "    Helper function for descriptive plots of age and gender.\n",
      "    Takes a clinical data-frame normalized to specifications.\n",
      "    \"\"\"\n",
      "    fig, axs = subplots(1,2, figsize=(1 a2,5))\n",
      "    clinical.Age.hist(ax=axs[0])\n",
      "    axs[0].set_xlabel('Age')\n",
      "    axs[0].set_ylabel('# of Patients')\n",
      "    clinical.Gender.value_counts().plot(kind='bar', ax=axs[1])\n",
      "    axs[1].set_xlabel('Gender')\n",
      "    axs[1].set_ylabel('# of Patients')"
     ],
     "language": "python",
     "metadata": {},
     "outputs": [],
     "prompt_number": 3
    }
   ],
   "metadata": {}
  }
 ]
}