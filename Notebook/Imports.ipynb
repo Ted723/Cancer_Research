{
 "metadata": {
  "kernelspec": {
   "codemirror_mode": {
    "name": "ipython",
    "version": 2
   },
   "display_name": "IPython (Python 2)",
   "language": "python",
   "name": "python2"
  },
  "name": "",
  "signature": "sha256:67c74c9db4f5782d78a91370936d62d8004801664d6e3e5d1e1393b8d1674ccc"
 },
 "nbformat": 3,
 "nbformat_minor": 0,
 "worksheets": [
  {
   "cells": [
    {
     "cell_type": "heading",
     "level": 1,
     "metadata": {},
     "source": [
      "Imports"
     ]
    },
    {
     "cell_type": "code",
     "collapsed": false,
     "input": [
      "%pylab inline\n",
      "import pandas as pd\n",
      "import seaborn as sns"
     ],
     "language": "python",
     "metadata": {},
     "outputs": [
      {
       "output_type": "stream",
       "stream": "stdout",
       "text": [
        "Populating the interactive namespace from numpy and matplotlib\n"
       ]
      }
     ],
     "prompt_number": 1
    },
    {
     "cell_type": "code",
     "collapsed": false,
     "input": [
      "LOCAL_DIR = '/cellar/users/talejand'\n",
      "PAPERS = 'Documents/IdekerLab/CancerPapers'\n",
      "MUT_PATH = '{}/{}/Pat-Mut_Data/'.format(LOCAL_DIR, PAPERS)\n",
      "MERGED_PATH = '{}/{}/Merged/'.format(LOCAL_DIR, PAPERS)"
     ],
     "language": "python",
     "metadata": {},
     "outputs": [],
     "prompt_number": 2
    },
    {
     "cell_type": "heading",
     "level": 1,
     "metadata": {},
     "source": [
      "Helper Functions  for Common Tasks"
     ]
    },
    {
     "cell_type": "code",
     "collapsed": false,
     "input": [
      "def plot_age_gender(clinical):\n",
      "    \"\"\"\n",
      "    Helper function for descriptive plots of age and gender.\n",
      "    Takes a clinical data-frame normalized to specifications.\n",
      "    \"\"\"\n",
      "    fig, axs = subplots(1,2, figsize=(12,5))\n",
      "    clinical.Age.hist(ax=axs[0])\n",
      "    axs[0].set_xlabel('Age')\n",
      "    axs[0].set_ylabel('# of Patients')\n",
      "    clinical.Gender.value_counts().plot(kind='bar', ax=axs[1])\n",
      "    axs[1].set_xlabel('Gender')\n",
      "    axs[1].set_ylabel('# of Patients')"
     ],
     "language": "python",
     "metadata": {},
     "outputs": [],
     "prompt_number": 3
    },
    {
     "cell_type": "code",
     "collapsed": false,
     "input": [
      "def plot_mutationtype_mutationcategory(clinical):\n",
      "    \"\"\"\n",
      "    Helper function for descriptive plots of mutation type and category counts.\n",
      "    Takes a clinical data-frame normalized to specifications.\n",
      "    \"\"\"\n",
      "    fig, axs = subplots(1,2, figsize=(12,5))\n",
      "    clinical.Mutation_Type.value_counts().head().plot(kind='bar', ax=axs[0])\n",
      "    axs[0].set_xlabel('Mutation Type')\n",
      "    axs[0].set_ylabel('# of Mutations')\n",
      "    clinical.Mutation_Category.value_counts().head().plot(kind='bar', ax=axs[1])\n",
      "    axs[1].set_xlabel('Mutation Category')\n",
      "    axs[1].set_ylabel('# of Mutations')"
     ],
     "language": "python",
     "metadata": {},
     "outputs": [],
     "prompt_number": 5
    },
    {
     "cell_type": "code",
     "collapsed": false,
     "input": [
      "def plot_gene_protein(clinical):\n",
      "    \"\"\"\n",
      "    Helper function for descriptive plots of mutated gene count and specific\n",
      "    protein change count.\n",
      "    Takes a clinical data-frame normalized to specifications.\n",
      "    \"\"\"\n",
      "    fig, axs = subplots(1,2, figsize=(12,5))\n",
      "    clinical.Gene.value_counts().head().plot(kind='bar', ax=axs[0])\n",
      "    axs[0].set_xlabel('Gene')\n",
      "    axs[0].set_ylabel('# of Genes Mutated')\n",
      "    clinical.Protein_Change.value_counts().head().plot(kind='bar', ax=axs[1])\n",
      "    axs[1].set_xlabel('Protein Change')\n",
      "    axs[1].set_ylabel('# of Specific Protein Change')"
     ],
     "language": "python",
     "metadata": {},
     "outputs": [],
     "prompt_number": 7
    },
    {
     "cell_type": "code",
     "collapsed": false,
     "input": [
      "def plot_genome_(clinical):\n",
      "    \"\"\"\n",
      "    Helper function for descriptive plot of specific genome change count.\n",
      "    Takes a clinical data-frame normalized to specifications.\n",
      "    \"\"\"\n",
      "    fig, axs = subplots(1,2, figsize=(12,5))\n",
      "    clinical.Genome_Change.value_counts().head().plot(kind='bar', ax=axs[0])\n",
      "    axs[0].set_xlabel('Genome Change')\n",
      "    axs[0].set_ylabel('# of Specific Genome Change')\n",
      "    #clinical.Gender.value_counts().plot(kind='bar', ax=axs[1])\n",
      "    #axs[1].set_xlabel('')\n",
      "    #axs[1].set_ylabel('')"
     ],
     "language": "python",
     "metadata": {},
     "outputs": [],
     "prompt_number": 8
    }
   ],
   "metadata": {}
  }
 ]
}