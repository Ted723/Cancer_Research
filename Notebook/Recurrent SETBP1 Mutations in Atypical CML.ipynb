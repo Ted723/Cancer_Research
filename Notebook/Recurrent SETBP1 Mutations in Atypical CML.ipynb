{
 "metadata": {
  "name": "",
  "signature": "sha256:3b63b65ca3a77349a38cfab1d9774115ce6adba5877bed4b196cede42d71f038"
 },
 "nbformat": 3,
 "nbformat_minor": 0,
 "worksheets": [
  {
   "cells": [
    {
     "cell_type": "heading",
     "level": 1,
     "metadata": {},
     "source": [
      "Recurrent SETBP1 Mutations in Atypical CML"
     ]
    },
    {
     "cell_type": "heading",
     "level": 3,
     "metadata": {},
     "source": [
      "Patient Analysis"
     ]
    },
    {
     "cell_type": "markdown",
     "metadata": {},
     "source": [
      "* 8 Patients w/ aCML\n",
      "    * WES\n",
      "* Resequencing: 70 aCMLs, 574 diverse hematological malignancies, 344 cancer cell lines "
     ]
    },
    {
     "cell_type": "heading",
     "level": 3,
     "metadata": {},
     "source": [
      "Mutation Analysis"
     ]
    },
    {
     "cell_type": "markdown",
     "metadata": {},
     "source": [
      "* FMG: SETBP1 (2/8 = 25%) Cases \n",
      "    * each encoding p.Gly870Ser alteration\n",
      "    "
     ]
    },
    {
     "cell_type": "heading",
     "level": 3,
     "metadata": {},
     "source": [
      "Summary"
     ]
    },
    {
     "cell_type": "markdown",
     "metadata": {},
     "source": [
      "* Atypical chronic myeloid leukemia (aCML) shares clinical and laboratory features with CML, but it lacks the BCR-ABL1 fusion. \n",
      "* Most mutations (92%) were located between codons 858 and 871 and were identical to changes seen in individuals with Schinzel-Giedion syndrome. \n",
      "    * Individuals with mutations had higher white blood cell counts (P = 0.008) and worse prognosis (P = 0.01). \n",
      "    * The p.Gly870Ser alteration abrogated a site for ubiquitination, and cells exogenously expressing this mutant exhibited higher amounts of SETBP1 and SET protein, lower PP2A activity and higher proliferation rates relative to those expressing the wild-type protein. \n",
      "* In summary, mutated SETBP1 represents a newly discovered oncogene present in aCML and closely related diseases."
     ]
    },
    {
     "cell_type": "heading",
     "level": 3,
     "metadata": {},
     "source": [
      "Accession Codes"
     ]
    },
    {
     "cell_type": "markdown",
     "metadata": {},
     "source": [
      "<b>Accession Codes</b>:  High-throughput sequencing data have been deposited in the Sequence Read Archive (SRA) under accession <b>SRA061202</b> and in the Gene Expression Omnibus (GEO) under accession <b>GSE42146</b>."
     ]
    },
    {
     "cell_type": "heading",
     "level": 2,
     "metadata": {},
     "source": [
      "Data Analysis"
     ]
    },
    {
     "cell_type": "code",
     "collapsed": false,
     "input": [
      "import NotebookImport\n",
      "from Imports import *"
     ],
     "language": "python",
     "metadata": {},
     "outputs": [
      {
       "html": [
        "importing IPython notebook from <a href='./Imports.ipynb' target='_blank'>Imports</a>"
       ],
       "metadata": {},
       "output_type": "display_data"
      },
      {
       "output_type": "stream",
       "stream": "stdout",
       "text": [
        "Populating the interactive namespace from numpy and matplotlib\n"
       ]
      }
     ],
     "prompt_number": 1
    },
    {
     "cell_type": "code",
     "collapsed": false,
     "input": [
      "PATH = '{}/{}/Recurrent SETBP1 mutations in atypical CML/'.format(LOCAL_DIR, PAPERS)"
     ],
     "language": "python",
     "metadata": {},
     "outputs": [],
     "prompt_number": 4
    },
    {
     "cell_type": "heading",
     "level": 2,
     "metadata": {},
     "source": [
      "Hard Data:\n"
     ]
    },
    {
     "cell_type": "markdown",
     "metadata": {},
     "source": [
      "* Data badly imported by Tabula..."
     ]
    },
    {
     "cell_type": "heading",
     "level": 3,
     "metadata": {},
     "source": [
      "Patient and Mutation Data"
     ]
    },
    {
     "cell_type": "markdown",
     "metadata": {},
     "source": [
      "* Data is combined, since other data is not really present\n",
      "* Redid tabula process... came out same (bad)"
     ]
    },
    {
     "cell_type": "code",
     "collapsed": false,
     "input": [
      "patandmutchar = pd.read_csv(PATH + 'patandmutchar.csv')\n",
      "patandmutchar.head()"
     ],
     "language": "python",
     "metadata": {},
     "outputs": [
      {
       "html": [
        "<div style=\"max-height:1000px;max-width:1500px;overflow:auto;\">\n",
        "<table border=\"1\" class=\"dataframe\">\n",
        "  <thead>\n",
        "    <tr style=\"text-align: right;\">\n",
        "      <th></th>\n",
        "      <th>Gene</th>\n",
        "      <th>Gene Description</th>\n",
        "      <th>Mutation</th>\n",
        "      <th>Locus</th>\n",
        "      <th>Mutation Fraction(%)</th>\n",
        "      <th>Absolute Coverage</th>\n",
        "      <th>Mutation fraction in control (%)</th>\n",
        "      <th>Absolute Coverage in control</th>\n",
        "      <th>Patient #</th>\n",
        "      <th>Unnamed: 9</th>\n",
        "      <th>Unnamed: 10</th>\n",
        "    </tr>\n",
        "  </thead>\n",
        "  <tbody>\n",
        "    <tr>\n",
        "      <th>0</th>\n",
        "      <td>    NaN</td>\n",
        "      <td> Bifunctional UDP-N-acetylglucosamine </td>\n",
        "      <td>  2-</td>\n",
        "      <td>                                   NaN</td>\n",
        "      <td>NaN</td>\n",
        "      <td>NaN</td>\n",
        "      <td>  NaN</td>\n",
        "      <td>NaN</td>\n",
        "      <td> NaN</td>\n",
        "      <td> NaN</td>\n",
        "      <td>NaN</td>\n",
        "    </tr>\n",
        "    <tr>\n",
        "      <th>1</th>\n",
        "      <td>   GNE </td>\n",
        "      <td>                                   NaN</td>\n",
        "      <td> NaN</td>\n",
        "      <td>  Pro704Ser 9,36207420-36207421,1,G/A </td>\n",
        "      <td>NaN</td>\n",
        "      <td>NaN</td>\n",
        "      <td> 54.9</td>\n",
        "      <td> 51</td>\n",
        "      <td> 0.0</td>\n",
        "      <td>  89</td>\n",
        "      <td>  1</td>\n",
        "    </tr>\n",
        "    <tr>\n",
        "      <th>2</th>\n",
        "      <td>    NaN</td>\n",
        "      <td>  epimerase/N-acetylmannosamine kinase</td>\n",
        "      <td> NaN</td>\n",
        "      <td>                                   NaN</td>\n",
        "      <td>NaN</td>\n",
        "      <td>NaN</td>\n",
        "      <td>  NaN</td>\n",
        "      <td>NaN</td>\n",
        "      <td> NaN</td>\n",
        "      <td> NaN</td>\n",
        "      <td>NaN</td>\n",
        "    </tr>\n",
        "    <tr>\n",
        "      <th>3</th>\n",
        "      <td> HOXC8 </td>\n",
        "      <td>              Homeobox protein Hox-C8 </td>\n",
        "      <td> NaN</td>\n",
        "      <td>  Arg27Gln 12,52689414-52689415,1,G/A </td>\n",
        "      <td>NaN</td>\n",
        "      <td>NaN</td>\n",
        "      <td> 39.3</td>\n",
        "      <td> 89</td>\n",
        "      <td> 0.9</td>\n",
        "      <td> 213</td>\n",
        "      <td>  1</td>\n",
        "    </tr>\n",
        "    <tr>\n",
        "      <th>4</th>\n",
        "      <td>  IDH2 </td>\n",
        "      <td>             Isocitrate dehydrogenase </td>\n",
        "      <td> NaN</td>\n",
        "      <td> Arg140Gln 15,88432937-88432938,1,C/T </td>\n",
        "      <td>NaN</td>\n",
        "      <td>NaN</td>\n",
        "      <td> 59.2</td>\n",
        "      <td> 49</td>\n",
        "      <td> 0.0</td>\n",
        "      <td> 101</td>\n",
        "      <td>  1</td>\n",
        "    </tr>\n",
        "  </tbody>\n",
        "</table>\n",
        "</div>"
       ],
       "metadata": {},
       "output_type": "pyout",
       "prompt_number": 6,
       "text": [
        "     Gene                       Gene Description Mutation  \\\n",
        "0     NaN  Bifunctional UDP-N-acetylglucosamine        2-   \n",
        "1    GNE                                     NaN      NaN   \n",
        "2     NaN   epimerase/N-acetylmannosamine kinase      NaN   \n",
        "3  HOXC8                Homeobox protein Hox-C8       NaN   \n",
        "4   IDH2               Isocitrate dehydrogenase       NaN   \n",
        "\n",
        "                                   Locus  Mutation Fraction(%)  \\\n",
        "0                                    NaN                   NaN   \n",
        "1   Pro704Ser 9,36207420-36207421,1,G/A                    NaN   \n",
        "2                                    NaN                   NaN   \n",
        "3   Arg27Gln 12,52689414-52689415,1,G/A                    NaN   \n",
        "4  Arg140Gln 15,88432937-88432938,1,C/T                    NaN   \n",
        "\n",
        "   Absolute Coverage  Mutation fraction in control (%)  \\\n",
        "0                NaN                               NaN   \n",
        "1                NaN                              54.9   \n",
        "2                NaN                               NaN   \n",
        "3                NaN                              39.3   \n",
        "4                NaN                              59.2   \n",
        "\n",
        "   Absolute Coverage in control  Patient #  Unnamed: 9  Unnamed: 10  \n",
        "0                           NaN        NaN         NaN          NaN  \n",
        "1                            51        0.0          89            1  \n",
        "2                           NaN        NaN         NaN          NaN  \n",
        "3                            89        0.9         213            1  \n",
        "4                            49        0.0         101            1  "
       ]
      }
     ],
     "prompt_number": 6
    }
   ],
   "metadata": {}
  }
 ]
}