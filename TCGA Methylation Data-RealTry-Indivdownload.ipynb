{
 "metadata": {
  "kernelspec": {
   "codemirror_mode": {
    "name": "ipython",
    "version": 2
   },
   "display_name": "IPython (Python 2)",
   "language": "python",
   "name": "python2"
  },
  "name": "",
  "signature": "sha256:bcc02a69380f99af0c85c84c1ee30f1832b82bf297d9fd6a084e234f40b5f502"
 },
 "nbformat": 3,
 "nbformat_minor": 0,
 "worksheets": [
  {
   "cells": [
    {
     "cell_type": "heading",
     "level": 1,
     "metadata": {},
     "source": [
      "Get TCGA Methylation Data"
     ]
    },
    {
     "cell_type": "markdown",
     "metadata": {},
     "source": [
      "<b>Imports</b>"
     ]
    },
    {
     "cell_type": "code",
     "collapsed": false,
     "input": [
      "from bs4 import BeautifulSoup\n",
      "import urllib2\n",
      "from urllib2 import HTTPError\n",
      "import pandas as pd\n",
      "import os as os\n",
      "import StringIO\n",
      "import gzip"
     ],
     "language": "python",
     "metadata": {},
     "outputs": [],
     "prompt_number": 1
    },
    {
     "cell_type": "markdown",
     "metadata": {},
     "source": [
      "<b>Directory Currently In:</b>"
     ]
    },
    {
     "cell_type": "code",
     "collapsed": false,
     "input": [
      "pwd"
     ],
     "language": "python",
     "metadata": {},
     "outputs": [
      {
       "metadata": {},
       "output_type": "pyout",
       "prompt_number": 2,
       "text": [
        "u'/cellar/users/talejand/Documents/IdekerLab/BackUp'"
       ]
      }
     ],
     "prompt_number": 2
    },
    {
     "cell_type": "code",
     "collapsed": false,
     "input": [
      "ls"
     ],
     "language": "python",
     "metadata": {},
     "outputs": [
      {
       "output_type": "stream",
       "stream": "stdout",
       "text": [
        "\u001b[0m\u001b[01;34mBLCA_Meth_Data\u001b[0m/  \u001b[01;34mtcga-data.nci.nih.gov\u001b[0m/\r\n",
        "\u001b[01;34mBRCA_Meth_Data\u001b[0m/  TCGA Methylation Data Code Tries.ipynb\r\n",
        "filess           TCGA Methylation Data-Different Real.ipynb\r\n",
        "\u001b[01;34mHNSC_Meth_Data\u001b[0m/  TCGA Methylation Data OG.ipynb\r\n",
        "\u001b[01;34mJustinCase\u001b[0m/      TCGA Methylation Data-RealTry-Indivdownload.ipynb\r\n",
        "\u001b[01;34mMethyl\u001b[0m/          tmp.html\r\n",
        "\u001b[01;34mNotebook\u001b[0m/\r\n"
       ]
      }
     ],
     "prompt_number": 3
    },
    {
     "cell_type": "markdown",
     "metadata": {},
     "source": [
      "<b>Outpaths</b>"
     ]
    },
    {
     "cell_type": "code",
     "collapsed": false,
     "input": [
      "PATH_TO_CERT = 'JustinCase/cacert.pem'\n",
      "OUT_PATH = 'Methyl'\n",
      "out_path = OUT_PATH + '/New_Methyl_Data'\n",
      "if not os.path.isdir(out_path):\n",
      "    os.mkdir(out_path)"
     ],
     "language": "python",
     "metadata": {},
     "outputs": [],
     "prompt_number": 4
    },
    {
     "cell_type": "markdown",
     "metadata": {},
     "source": [
      "<b>Path to TCGA Website</b>"
     ]
    },
    {
     "cell_type": "code",
     "collapsed": false,
     "input": [
      "base_url = 'https://tcga-data.nci.nih.gov/tcgafiles/ftp_auth/distro_ftpusers/anonymous/tumor/'"
     ],
     "language": "python",
     "metadata": {},
     "outputs": [],
     "prompt_number": 5
    },
    {
     "cell_type": "code",
     "collapsed": false,
     "input": [
      "url = 'https://tcga-data.nci.nih.gov/tcgafiles/ftp_auth/distro_ftpusers/anonymous/tumor/coad/cgcc/jhu-usc.edu/humanmethylation450/methylation/'"
     ],
     "language": "python",
     "metadata": {},
     "outputs": [],
     "prompt_number": 18
    },
    {
     "cell_type": "markdown",
     "metadata": {},
     "source": [
      "<b>Download Certificate (Optional?)</b>"
     ]
    },
    {
     "cell_type": "code",
     "collapsed": false,
     "input": [
      "!curl --cacert $PATH_TO_CERT $url -o tmp.html"
     ],
     "language": "python",
     "metadata": {},
     "outputs": [
      {
       "output_type": "stream",
       "stream": "stdout",
       "text": [
        "  % Total    % Received % Xferd  Average Speed   Time    Time     Time  Current\r\n",
        "                                 Dload  Upload   Total   Spent    Left  Speed\r\n",
        "\r",
        "  0     0    0     0    0     0      0      0 --:--:-- --:--:-- --:--:--     0"
       ]
      },
      {
       "output_type": "stream",
       "stream": "stdout",
       "text": [
        "\r",
        "100 72298    0 72298    0     0  70132      0 --:--:--  0:00:01 --:--:-- 70192"
       ]
      },
      {
       "output_type": "stream",
       "stream": "stdout",
       "text": [
        "\r",
        "100  168k    0  168k    0     0   141k      0 --:--:--  0:00:01 --:--:--  141k\r\n"
       ]
      }
     ],
     "prompt_number": 19
    },
    {
     "cell_type": "markdown",
     "metadata": {},
     "source": [
      "<b>Beautiful Soup module is used to parse links from webpage </b>"
     ]
    },
    {
     "cell_type": "code",
     "collapsed": false,
     "input": [
      "#webpage = urllib2.urlopen(url + 'jhu-usc.edu_HNSC.HumanMethylation450.Level_1.1.0.0.tar.gz').read()\n",
      "#webpage = urllib2.urlopen(url).read()\n",
      "webpage = open('tmp.html', 'rb').read()\n",
      "soup = BeautifulSoup(webpage)\n",
      "soup"
     ],
     "language": "python",
     "metadata": {},
     "outputs": [
      {
       "metadata": {},
       "output_type": "pyout",
       "prompt_number": 20,
       "text": [
        "<!DOCTYPE HTML PUBLIC \"-//W3C//DTD HTML 3.2 Final//EN\">\n",
        "<html>\n",
        "<head>\n",
        "<title>Index of /tcgafiles/ftp_auth/distro_ftpusers/anonymous/tumor/coad/cgcc/jhu-usc.edu/humanmethylation450/methylation</title>\n",
        "</head>\n",
        "<body>\n",
        "<h1>Index of /tcgafiles/ftp_auth/distro_ftpusers/anonymous/tumor/coad/cgcc/jhu-usc.edu/humanmethylation450/methylation</h1>\n",
        "<pre>      <a href=\"?C=N;O=D\">Name</a>                                                                                           <a href=\"?C=M;O=A\">Last modified</a>      <a href=\"?C=S;O=A\">Size</a>  <hr/>      <a href=\"/tcgafiles/ftp_auth/distro_ftpusers/anonymous/tumor/coad/cgcc/jhu-usc.edu/humanmethylation450/\">Parent Directory</a>                                                                                                    -   \n",
        "      <a href=\"jhu-usc.edu_COAD.HumanMethylation450.Level_1.1.0.0.tar.gz\">jhu-usc.edu_COAD.HumanMethylation450.Level_1.1.0.0.tar.gz</a>                                      2012-01-30 17:35  425M  \n",
        "      <a href=\"jhu-usc.edu_COAD.HumanMethylation450.Level_1.1.0.0.tar.gz.md5\">jhu-usc.edu_COAD.HumanMethylation450.Level_1.1.0.0.tar.gz.md5</a>                                  2012-01-30 17:35   91   \n",
        "      <a href=\"jhu-usc.edu_COAD.HumanMethylation450.Level_1.1.1.0.tar.gz\">jhu-usc.edu_COAD.HumanMethylation450.Level_1.1.1.0.tar.gz</a>                                      2012-02-01 22:16  425M  \n",
        "      <a href=\"jhu-usc.edu_COAD.HumanMethylation450.Level_1.1.1.0.tar.gz.md5\">jhu-usc.edu_COAD.HumanMethylation450.Level_1.1.1.0.tar.gz.md5</a>                                  2012-02-01 22:16   91   \n",
        "      <a href=\"jhu-usc.edu_COAD.HumanMethylation450.Level_1.1.2.0.tar.gz\">jhu-usc.edu_COAD.HumanMethylation450.Level_1.1.2.0.tar.gz</a>                                      2012-02-29 05:33  425M  \n",
        "      <a href=\"jhu-usc.edu_COAD.HumanMethylation450.Level_1.1.2.0.tar.gz.md5\">jhu-usc.edu_COAD.HumanMethylation450.Level_1.1.2.0.tar.gz.md5</a>                                  2012-02-29 05:33   91   \n",
        "      <a href=\"jhu-usc.edu_COAD.HumanMethylation450.Level_1.1.2.0/\">jhu-usc.edu_COAD.HumanMethylation450.Level_1.1.2.0/</a>                                            2012-02-29 05:31    -   \n",
        "      <a href=\"jhu-usc.edu_COAD.HumanMethylation450.Level_1.1.3.0.tar.gz\">jhu-usc.edu_COAD.HumanMethylation450.Level_1.1.3.0.tar.gz</a>                                      2012-10-03 19:56  425M  \n",
        "      <a href=\"jhu-usc.edu_COAD.HumanMethylation450.Level_1.1.3.0.tar.gz.md5\">jhu-usc.edu_COAD.HumanMethylation450.Level_1.1.3.0.tar.gz.md5</a>                                  2012-10-03 19:56   91   \n",
        "      <a href=\"jhu-usc.edu_COAD.HumanMethylation450.Level_1.1.3.0/\">jhu-usc.edu_COAD.HumanMethylation450.Level_1.1.3.0/</a>                                            2012-10-03 19:54    -   \n",
        "      <a href=\"jhu-usc.edu_COAD.HumanMethylation450.Level_1.1.4.0.tar.gz\">jhu-usc.edu_COAD.HumanMethylation450.Level_1.1.4.0.tar.gz</a>                                      2012-10-30 03:24  425M  \n",
        "      <a href=\"jhu-usc.edu_COAD.HumanMethylation450.Level_1.1.4.0.tar.gz.md5\">jhu-usc.edu_COAD.HumanMethylation450.Level_1.1.4.0.tar.gz.md5</a>                                  2012-10-30 03:24   91   \n",
        "      <a href=\"jhu-usc.edu_COAD.HumanMethylation450.Level_1.1.4.0/\">jhu-usc.edu_COAD.HumanMethylation450.Level_1.1.4.0/</a>                                            2012-10-30 03:23    -   \n",
        "      <a href=\"jhu-usc.edu_COAD.HumanMethylation450.Level_1.1.5.0.tar.gz\">jhu-usc.edu_COAD.HumanMethylation450.Level_1.1.5.0.tar.gz</a>                                      2013-06-17 23:15  442M  \n",
        "      <a href=\"jhu-usc.edu_COAD.HumanMethylation450.Level_1.1.5.0.tar.gz.md5\">jhu-usc.edu_COAD.HumanMethylation450.Level_1.1.5.0.tar.gz.md5</a>                                  2013-06-17 23:15   91   \n",
        "      <a href=\"jhu-usc.edu_COAD.HumanMethylation450.Level_1.1.5.0/\">jhu-usc.edu_COAD.HumanMethylation450.Level_1.1.5.0/</a>                                            2013-06-17 23:13    -   \n",
        "      <a href=\"jhu-usc.edu_COAD.HumanMethylation450.Level_1.1.6.0.tar.gz\">jhu-usc.edu_COAD.HumanMethylation450.Level_1.1.6.0.tar.gz</a>                                      2013-07-12 18:44  442M  \n",
        "      <a href=\"jhu-usc.edu_COAD.HumanMethylation450.Level_1.1.6.0.tar.gz.md5\">jhu-usc.edu_COAD.HumanMethylation450.Level_1.1.6.0.tar.gz.md5</a>                                  2013-07-12 18:44   91   \n",
        "      <a href=\"jhu-usc.edu_COAD.HumanMethylation450.Level_1.1.6.0/\">jhu-usc.edu_COAD.HumanMethylation450.Level_1.1.6.0/</a>                                            2013-07-12 18:42    -   \n",
        "      <a href=\"jhu-usc.edu_COAD.HumanMethylation450.Level_1.1.7.0.tar.gz\">jhu-usc.edu_COAD.HumanMethylation450.Level_1.1.7.0.tar.gz</a>                                      2014-05-16 19:36  442M  \n",
        "      <a href=\"jhu-usc.edu_COAD.HumanMethylation450.Level_1.1.7.0.tar.gz.md5\">jhu-usc.edu_COAD.HumanMethylation450.Level_1.1.7.0.tar.gz.md5</a>                                  2014-05-16 19:36   91   \n",
        "      <a href=\"jhu-usc.edu_COAD.HumanMethylation450.Level_1.1.7.0/\">jhu-usc.edu_COAD.HumanMethylation450.Level_1.1.7.0/</a>                                            2014-05-16 19:34    -   \n",
        "      <a href=\"jhu-usc.edu_COAD.HumanMethylation450.Level_1.1.8.0.tar.gz\">jhu-usc.edu_COAD.HumanMethylation450.Level_1.1.8.0.tar.gz</a>                                      2015-01-26 01:03  442M  \n",
        "      <a href=\"jhu-usc.edu_COAD.HumanMethylation450.Level_1.1.8.0.tar.gz.md5\">jhu-usc.edu_COAD.HumanMethylation450.Level_1.1.8.0.tar.gz.md5</a>                                  2015-01-26 01:04   91   \n",
        "      <a href=\"jhu-usc.edu_COAD.HumanMethylation450.Level_1.1.8.0/\">jhu-usc.edu_COAD.HumanMethylation450.Level_1.1.8.0/</a>                                            2015-01-26 01:02    -   \n",
        "      <a href=\"jhu-usc.edu_COAD.HumanMethylation450.Level_1.10.3.0.tar.gz\">jhu-usc.edu_COAD.HumanMethylation450.Level_1.10.3.0.tar.gz</a>                                     2012-10-03 19:54  8.1M  \n",
        "      <a href=\"jhu-usc.edu_COAD.HumanMethylation450.Level_1.10.3.0.tar.gz.md5\">jhu-usc.edu_COAD.HumanMethylation450.Level_1.10.3.0.tar.gz.md5</a>                                 2012-10-03 19:54   92   \n",
        "      <a href=\"jhu-usc.edu_COAD.HumanMethylation450.Level_1.10.3.0/\">jhu-usc.edu_COAD.HumanMethylation450.Level_1.10.3.0/</a>                                           2012-10-03 19:54    -   \n",
        "      <a href=\"jhu-usc.edu_COAD.HumanMethylation450.Level_1.10.4.0.tar.gz\">jhu-usc.edu_COAD.HumanMethylation450.Level_1.10.4.0.tar.gz</a>                                     2012-10-30 03:25  8.1M  \n",
        "      <a href=\"jhu-usc.edu_COAD.HumanMethylation450.Level_1.10.4.0.tar.gz.md5\">jhu-usc.edu_COAD.HumanMethylation450.Level_1.10.4.0.tar.gz.md5</a>                                 2012-10-30 03:25   92   \n",
        "      <a href=\"jhu-usc.edu_COAD.HumanMethylation450.Level_1.10.4.0/\">jhu-usc.edu_COAD.HumanMethylation450.Level_1.10.4.0/</a>                                           2012-10-30 03:25    -   \n",
        "      <a href=\"jhu-usc.edu_COAD.HumanMethylation450.Level_1.10.5.0.tar.gz\">jhu-usc.edu_COAD.HumanMethylation450.Level_1.10.5.0.tar.gz</a>                                     2013-06-17 23:15  8.1M  \n",
        "      <a href=\"jhu-usc.edu_COAD.HumanMethylation450.Level_1.10.5.0.tar.gz.md5\">jhu-usc.edu_COAD.HumanMethylation450.Level_1.10.5.0.tar.gz.md5</a>                                 2013-06-17 23:15   92   \n",
        "      <a href=\"jhu-usc.edu_COAD.HumanMethylation450.Level_1.10.5.0/\">jhu-usc.edu_COAD.HumanMethylation450.Level_1.10.5.0/</a>                                           2013-06-17 23:15    -   \n",
        "      <a href=\"jhu-usc.edu_COAD.HumanMethylation450.Level_1.10.6.0.tar.gz\">jhu-usc.edu_COAD.HumanMethylation450.Level_1.10.6.0.tar.gz</a>                                     2013-07-12 18:44  8.1M  \n",
        "      <a href=\"jhu-usc.edu_COAD.HumanMethylation450.Level_1.10.6.0.tar.gz.md5\">jhu-usc.edu_COAD.HumanMethylation450.Level_1.10.6.0.tar.gz.md5</a>                                 2013-07-12 18:44   92   \n",
        "      <a href=\"jhu-usc.edu_COAD.HumanMethylation450.Level_1.10.6.0/\">jhu-usc.edu_COAD.HumanMethylation450.Level_1.10.6.0/</a>                                           2013-07-12 18:44    -   \n",
        "      <a href=\"jhu-usc.edu_COAD.HumanMethylation450.Level_1.10.7.0.tar.gz\">jhu-usc.edu_COAD.HumanMethylation450.Level_1.10.7.0.tar.gz</a>                                     2014-05-16 19:33  8.1M  \n",
        "      <a href=\"jhu-usc.edu_COAD.HumanMethylation450.Level_1.10.7.0.tar.gz.md5\">jhu-usc.edu_COAD.HumanMethylation450.Level_1.10.7.0.tar.gz.md5</a>                                 2014-05-16 19:33   92   \n",
        "      <a href=\"jhu-usc.edu_COAD.HumanMethylation450.Level_1.10.7.0/\">jhu-usc.edu_COAD.HumanMethylation450.Level_1.10.7.0/</a>                                           2014-05-16 19:33    -   \n",
        "      <a href=\"jhu-usc.edu_COAD.HumanMethylation450.Level_1.10.8.0.tar.gz\">jhu-usc.edu_COAD.HumanMethylation450.Level_1.10.8.0.tar.gz</a>                                     2015-01-26 01:04  8.1M  \n",
        "      <a href=\"jhu-usc.edu_COAD.HumanMethylation450.Level_1.10.8.0.tar.gz.md5\">jhu-usc.edu_COAD.HumanMethylation450.Level_1.10.8.0.tar.gz.md5</a>                                 2015-01-26 01:04   92   \n",
        "      <a href=\"jhu-usc.edu_COAD.HumanMethylation450.Level_1.10.8.0/\">jhu-usc.edu_COAD.HumanMethylation450.Level_1.10.8.0/</a>                                           2015-01-26 01:04    -   \n",
        "      <a href=\"jhu-usc.edu_COAD.HumanMethylation450.Level_1.11.5.0.tar.gz\">jhu-usc.edu_COAD.HumanMethylation450.Level_1.11.5.0.tar.gz</a>                                     2013-06-17 23:22   24M  \n",
        "      <a href=\"jhu-usc.edu_COAD.HumanMethylation450.Level_1.11.5.0.tar.gz.md5\">jhu-usc.edu_COAD.HumanMethylation450.Level_1.11.5.0.tar.gz.md5</a>                                 2013-06-17 23:22   92   \n",
        "      <a href=\"jhu-usc.edu_COAD.HumanMethylation450.Level_1.11.5.0/\">jhu-usc.edu_COAD.HumanMethylation450.Level_1.11.5.0/</a>                                           2013-06-17 23:21    -   \n",
        "      <a href=\"jhu-usc.edu_COAD.HumanMethylation450.Level_1.11.6.0.tar.gz\">jhu-usc.edu_COAD.HumanMethylation450.Level_1.11.6.0.tar.gz</a>                                     2013-07-12 18:36   24M  \n",
        "      <a href=\"jhu-usc.edu_COAD.HumanMethylation450.Level_1.11.6.0.tar.gz.md5\">jhu-usc.edu_COAD.HumanMethylation450.Level_1.11.6.0.tar.gz.md5</a>                                 2013-07-12 18:36   92   \n",
        "      <a href=\"jhu-usc.edu_COAD.HumanMethylation450.Level_1.11.6.0/\">jhu-usc.edu_COAD.HumanMethylation450.Level_1.11.6.0/</a>                                           2013-07-12 18:36    -   \n",
        "      <a href=\"jhu-usc.edu_COAD.HumanMethylation450.Level_1.11.7.0.tar.gz\">jhu-usc.edu_COAD.HumanMethylation450.Level_1.11.7.0.tar.gz</a>                                     2014-05-16 19:45   24M  \n",
        "      <a href=\"jhu-usc.edu_COAD.HumanMethylation450.Level_1.11.7.0.tar.gz.md5\">jhu-usc.edu_COAD.HumanMethylation450.Level_1.11.7.0.tar.gz.md5</a>                                 2014-05-16 19:45   92   \n",
        "      <a href=\"jhu-usc.edu_COAD.HumanMethylation450.Level_1.11.7.0/\">jhu-usc.edu_COAD.HumanMethylation450.Level_1.11.7.0/</a>                                           2014-05-16 19:45    -   \n",
        "      <a href=\"jhu-usc.edu_COAD.HumanMethylation450.Level_1.11.8.0.tar.gz\">jhu-usc.edu_COAD.HumanMethylation450.Level_1.11.8.0.tar.gz</a>                                     2015-01-26 00:56   24M  \n",
        "      <a href=\"jhu-usc.edu_COAD.HumanMethylation450.Level_1.11.8.0.tar.gz.md5\">jhu-usc.edu_COAD.HumanMethylation450.Level_1.11.8.0.tar.gz.md5</a>                                 2015-01-26 00:56   92   \n",
        "      <a href=\"jhu-usc.edu_COAD.HumanMethylation450.Level_1.11.8.0/\">jhu-usc.edu_COAD.HumanMethylation450.Level_1.11.8.0/</a>                                           2015-01-26 00:56    -   \n",
        "      <a href=\"jhu-usc.edu_COAD.HumanMethylation450.Level_1.12.5.0.tar.gz\">jhu-usc.edu_COAD.HumanMethylation450.Level_1.12.5.0.tar.gz</a>                                     2013-06-17 23:22   32M  \n",
        "      <a href=\"jhu-usc.edu_COAD.HumanMethylation450.Level_1.12.5.0.tar.gz.md5\">jhu-usc.edu_COAD.HumanMethylation450.Level_1.12.5.0.tar.gz.md5</a>                                 2013-06-17 23:22   92   \n",
        "      <a href=\"jhu-usc.edu_COAD.HumanMethylation450.Level_1.12.5.0/\">jhu-usc.edu_COAD.HumanMethylation450.Level_1.12.5.0/</a>                                           2013-06-17 23:22    -   \n",
        "      <a href=\"jhu-usc.edu_COAD.HumanMethylation450.Level_1.12.6.0.tar.gz\">jhu-usc.edu_COAD.HumanMethylation450.Level_1.12.6.0.tar.gz</a>                                     2013-07-12 18:36   32M  \n",
        "      <a href=\"jhu-usc.edu_COAD.HumanMethylation450.Level_1.12.6.0.tar.gz.md5\">jhu-usc.edu_COAD.HumanMethylation450.Level_1.12.6.0.tar.gz.md5</a>                                 2013-07-12 18:36   92   \n",
        "      <a href=\"jhu-usc.edu_COAD.HumanMethylation450.Level_1.12.6.0/\">jhu-usc.edu_COAD.HumanMethylation450.Level_1.12.6.0/</a>                                           2013-07-12 18:36    -   \n",
        "      <a href=\"jhu-usc.edu_COAD.HumanMethylation450.Level_1.12.7.0.tar.gz\">jhu-usc.edu_COAD.HumanMethylation450.Level_1.12.7.0.tar.gz</a>                                     2014-05-16 19:46   32M  \n",
        "      <a href=\"jhu-usc.edu_COAD.HumanMethylation450.Level_1.12.7.0.tar.gz.md5\">jhu-usc.edu_COAD.HumanMethylation450.Level_1.12.7.0.tar.gz.md5</a>                                 2014-05-16 19:46   92   \n",
        "      <a href=\"jhu-usc.edu_COAD.HumanMethylation450.Level_1.12.7.0/\">jhu-usc.edu_COAD.HumanMethylation450.Level_1.12.7.0/</a>                                           2014-05-16 19:45    -   \n",
        "      <a href=\"jhu-usc.edu_COAD.HumanMethylation450.Level_1.12.8.0.tar.gz\">jhu-usc.edu_COAD.HumanMethylation450.Level_1.12.8.0.tar.gz</a>                                     2015-01-26 00:56   32M  \n",
        "      <a href=\"jhu-usc.edu_COAD.HumanMethylation450.Level_1.12.8.0.tar.gz.md5\">jhu-usc.edu_COAD.HumanMethylation450.Level_1.12.8.0.tar.gz.md5</a>                                 2015-01-26 00:56   92   \n",
        "      <a href=\"jhu-usc.edu_COAD.HumanMethylation450.Level_1.12.8.0/\">jhu-usc.edu_COAD.HumanMethylation450.Level_1.12.8.0/</a>                                           2015-01-26 00:56    -   \n",
        "      <a href=\"jhu-usc.edu_COAD.HumanMethylation450.Level_1.13.6.0.tar.gz\">jhu-usc.edu_COAD.HumanMethylation450.Level_1.13.6.0.tar.gz</a>                                     2013-07-12 18:36  130M  \n",
        "      <a href=\"jhu-usc.edu_COAD.HumanMethylation450.Level_1.13.6.0.tar.gz.md5\">jhu-usc.edu_COAD.HumanMethylation450.Level_1.13.6.0.tar.gz.md5</a>                                 2013-07-12 18:36   92   \n",
        "      <a href=\"jhu-usc.edu_COAD.HumanMethylation450.Level_1.13.6.0/\">jhu-usc.edu_COAD.HumanMethylation450.Level_1.13.6.0/</a>                                           2013-07-12 18:35    -   \n",
        "      <a href=\"jhu-usc.edu_COAD.HumanMethylation450.Level_1.13.7.0.tar.gz\">jhu-usc.edu_COAD.HumanMethylation450.Level_1.13.7.0.tar.gz</a>                                     2014-05-16 19:44  130M  \n",
        "      <a href=\"jhu-usc.edu_COAD.HumanMethylation450.Level_1.13.7.0.tar.gz.md5\">jhu-usc.edu_COAD.HumanMethylation450.Level_1.13.7.0.tar.gz.md5</a>                                 2014-05-16 19:44   92   \n",
        "      <a href=\"jhu-usc.edu_COAD.HumanMethylation450.Level_1.13.7.0/\">jhu-usc.edu_COAD.HumanMethylation450.Level_1.13.7.0/</a>                                           2014-05-16 19:44    -   \n",
        "      <a href=\"jhu-usc.edu_COAD.HumanMethylation450.Level_1.13.8.0.tar.gz\">jhu-usc.edu_COAD.HumanMethylation450.Level_1.13.8.0.tar.gz</a>                                     2015-01-26 00:55  130M  \n",
        "      <a href=\"jhu-usc.edu_COAD.HumanMethylation450.Level_1.13.8.0.tar.gz.md5\">jhu-usc.edu_COAD.HumanMethylation450.Level_1.13.8.0.tar.gz.md5</a>                                 2015-01-26 00:55   92   \n",
        "      <a href=\"jhu-usc.edu_COAD.HumanMethylation450.Level_1.13.8.0/\">jhu-usc.edu_COAD.HumanMethylation450.Level_1.13.8.0/</a>                                           2015-01-26 00:55    -   \n",
        "      <a href=\"jhu-usc.edu_COAD.HumanMethylation450.Level_1.14.7.0.tar.gz\">jhu-usc.edu_COAD.HumanMethylation450.Level_1.14.7.0.tar.gz</a>                                     2014-05-16 19:45   97M  \n",
        "      <a href=\"jhu-usc.edu_COAD.HumanMethylation450.Level_1.14.7.0.tar.gz.md5\">jhu-usc.edu_COAD.HumanMethylation450.Level_1.14.7.0.tar.gz.md5</a>                                 2014-05-16 19:45   92   \n",
        "      <a href=\"jhu-usc.edu_COAD.HumanMethylation450.Level_1.14.7.0/\">jhu-usc.edu_COAD.HumanMethylation450.Level_1.14.7.0/</a>                                           2014-05-16 19:45    -   \n",
        "      <a href=\"jhu-usc.edu_COAD.HumanMethylation450.Level_1.14.8.0.tar.gz\">jhu-usc.edu_COAD.HumanMethylation450.Level_1.14.8.0.tar.gz</a>                                     2015-01-26 00:56   97M  \n",
        "      <a href=\"jhu-usc.edu_COAD.HumanMethylation450.Level_1.14.8.0.tar.gz.md5\">jhu-usc.edu_COAD.HumanMethylation450.Level_1.14.8.0.tar.gz.md5</a>                                 2015-01-26 00:56   92   \n",
        "      <a href=\"jhu-usc.edu_COAD.HumanMethylation450.Level_1.14.8.0/\">jhu-usc.edu_COAD.HumanMethylation450.Level_1.14.8.0/</a>                                           2015-01-26 00:55    -   \n",
        "      <a href=\"jhu-usc.edu_COAD.HumanMethylation450.Level_1.15.8.0.tar.gz\">jhu-usc.edu_COAD.HumanMethylation450.Level_1.15.8.0.tar.gz</a>                                     2015-01-26 00:54  114M  \n",
        "      <a href=\"jhu-usc.edu_COAD.HumanMethylation450.Level_1.15.8.0.tar.gz.md5\">jhu-usc.edu_COAD.HumanMethylation450.Level_1.15.8.0.tar.gz.md5</a>                                 2015-01-26 00:54   92   \n",
        "      <a href=\"jhu-usc.edu_COAD.HumanMethylation450.Level_1.15.8.0/\">jhu-usc.edu_COAD.HumanMethylation450.Level_1.15.8.0/</a>                                           2015-01-26 00:54    -   \n",
        "      <a href=\"jhu-usc.edu_COAD.HumanMethylation450.Level_1.2.0.0.tar.gz\">jhu-usc.edu_COAD.HumanMethylation450.Level_1.2.0.0.tar.gz</a>                                      2012-01-30 17:31  538M  \n",
        "      <a href=\"jhu-usc.edu_COAD.HumanMethylation450.Level_1.2.0.0.tar.gz.md5\">jhu-usc.edu_COAD.HumanMethylation450.Level_1.2.0.0.tar.gz.md5</a>                                  2012-01-30 17:31   91   \n",
        "      <a href=\"jhu-usc.edu_COAD.HumanMethylation450.Level_1.2.1.0.tar.gz\">jhu-usc.edu_COAD.HumanMethylation450.Level_1.2.1.0.tar.gz</a>                                      2012-02-01 22:14  538M  \n",
        "      <a href=\"jhu-usc.edu_COAD.HumanMethylation450.Level_1.2.1.0.tar.gz.md5\">jhu-usc.edu_COAD.HumanMethylation450.Level_1.2.1.0.tar.gz.md5</a>                                  2012-02-01 22:14   91   \n",
        "      <a href=\"jhu-usc.edu_COAD.HumanMethylation450.Level_1.2.2.0.tar.gz\">jhu-usc.edu_COAD.HumanMethylation450.Level_1.2.2.0.tar.gz</a>                                      2012-02-29 05:30  350M  \n",
        "      <a href=\"jhu-usc.edu_COAD.HumanMethylation450.Level_1.2.2.0.tar.gz.md5\">jhu-usc.edu_COAD.HumanMethylation450.Level_1.2.2.0.tar.gz.md5</a>                                  2012-02-29 05:30   91   \n",
        "      <a href=\"jhu-usc.edu_COAD.HumanMethylation450.Level_1.2.2.0/\">jhu-usc.edu_COAD.HumanMethylation450.Level_1.2.2.0/</a>                                            2012-02-29 05:29    -   \n",
        "      <a href=\"jhu-usc.edu_COAD.HumanMethylation450.Level_1.2.3.0.tar.gz\">jhu-usc.edu_COAD.HumanMethylation450.Level_1.2.3.0.tar.gz</a>                                      2012-10-03 19:54  367M  \n",
        "      <a href=\"jhu-usc.edu_COAD.HumanMethylation450.Level_1.2.3.0.tar.gz.md5\">jhu-usc.edu_COAD.HumanMethylation450.Level_1.2.3.0.tar.gz.md5</a>                                  2012-10-03 19:54   91   \n",
        "      <a href=\"jhu-usc.edu_COAD.HumanMethylation450.Level_1.2.3.0/\">jhu-usc.edu_COAD.HumanMethylation450.Level_1.2.3.0/</a>                                            2012-10-03 19:52    -   \n",
        "      <a href=\"jhu-usc.edu_COAD.HumanMethylation450.Level_1.2.4.0.tar.gz\">jhu-usc.edu_COAD.HumanMethylation450.Level_1.2.4.0.tar.gz</a>                                      2012-10-30 03:22  367M  \n",
        "      <a href=\"jhu-usc.edu_COAD.HumanMethylation450.Level_1.2.4.0.tar.gz.md5\">jhu-usc.edu_COAD.HumanMethylation450.Level_1.2.4.0.tar.gz.md5</a>                                  2012-10-30 03:22   91   \n",
        "      <a href=\"jhu-usc.edu_COAD.HumanMethylation450.Level_1.2.4.0/\">jhu-usc.edu_COAD.HumanMethylation450.Level_1.2.4.0/</a>                                            2012-10-30 03:21    -   \n",
        "      <a href=\"jhu-usc.edu_COAD.HumanMethylation450.Level_1.2.5.0.tar.gz\">jhu-usc.edu_COAD.HumanMethylation450.Level_1.2.5.0.tar.gz</a>                                      2013-06-17 23:12  383M  \n",
        "      <a href=\"jhu-usc.edu_COAD.HumanMethylation450.Level_1.2.5.0.tar.gz.md5\">jhu-usc.edu_COAD.HumanMethylation450.Level_1.2.5.0.tar.gz.md5</a>                                  2013-06-17 23:12   91   \n",
        "      <a href=\"jhu-usc.edu_COAD.HumanMethylation450.Level_1.2.5.0/\">jhu-usc.edu_COAD.HumanMethylation450.Level_1.2.5.0/</a>                                            2013-06-17 23:11    -   \n",
        "      <a href=\"jhu-usc.edu_COAD.HumanMethylation450.Level_1.2.6.0.tar.gz\">jhu-usc.edu_COAD.HumanMethylation450.Level_1.2.6.0.tar.gz</a>                                      2013-07-12 18:42  383M  \n",
        "      <a href=\"jhu-usc.edu_COAD.HumanMethylation450.Level_1.2.6.0.tar.gz.md5\">jhu-usc.edu_COAD.HumanMethylation450.Level_1.2.6.0.tar.gz.md5</a>                                  2013-07-12 18:42   91   \n",
        "      <a href=\"jhu-usc.edu_COAD.HumanMethylation450.Level_1.2.6.0/\">jhu-usc.edu_COAD.HumanMethylation450.Level_1.2.6.0/</a>                                            2013-07-12 18:40    -   \n",
        "      <a href=\"jhu-usc.edu_COAD.HumanMethylation450.Level_1.2.7.0.tar.gz\">jhu-usc.edu_COAD.HumanMethylation450.Level_1.2.7.0.tar.gz</a>                                      2014-05-16 19:32  383M  \n",
        "      <a href=\"jhu-usc.edu_COAD.HumanMethylation450.Level_1.2.7.0.tar.gz.md5\">jhu-usc.edu_COAD.HumanMethylation450.Level_1.2.7.0.tar.gz.md5</a>                                  2014-05-16 19:33   91   \n",
        "      <a href=\"jhu-usc.edu_COAD.HumanMethylation450.Level_1.2.7.0/\">jhu-usc.edu_COAD.HumanMethylation450.Level_1.2.7.0/</a>                                            2014-05-16 19:31    -   \n",
        "      <a href=\"jhu-usc.edu_COAD.HumanMethylation450.Level_1.2.8.0.tar.gz\">jhu-usc.edu_COAD.HumanMethylation450.Level_1.2.8.0.tar.gz</a>                                      2015-01-26 01:01  383M  \n",
        "      <a href=\"jhu-usc.edu_COAD.HumanMethylation450.Level_1.2.8.0.tar.gz.md5\">jhu-usc.edu_COAD.HumanMethylation450.Level_1.2.8.0.tar.gz.md5</a>                                  2015-01-26 01:01   91   \n",
        "      <a href=\"jhu-usc.edu_COAD.HumanMethylation450.Level_1.2.8.0/\">jhu-usc.edu_COAD.HumanMethylation450.Level_1.2.8.0/</a>                                            2015-01-26 01:00    -   \n",
        "      <a href=\"jhu-usc.edu_COAD.HumanMethylation450.Level_1.3.0.0.tar.gz\">jhu-usc.edu_COAD.HumanMethylation450.Level_1.3.0.0.tar.gz</a>                                      2012-01-30 17:27  292M  \n",
        "      <a href=\"jhu-usc.edu_COAD.HumanMethylation450.Level_1.3.0.0.tar.gz.md5\">jhu-usc.edu_COAD.HumanMethylation450.Level_1.3.0.0.tar.gz.md5</a>                                  2012-01-30 17:27   91   \n",
        "      <a href=\"jhu-usc.edu_COAD.HumanMethylation450.Level_1.3.1.0.tar.gz\">jhu-usc.edu_COAD.HumanMethylation450.Level_1.3.1.0.tar.gz</a>                                      2012-02-01 22:11  292M  \n",
        "      <a href=\"jhu-usc.edu_COAD.HumanMethylation450.Level_1.3.1.0.tar.gz.md5\">jhu-usc.edu_COAD.HumanMethylation450.Level_1.3.1.0.tar.gz.md5</a>                                  2012-02-01 22:11   91   \n",
        "      <a href=\"jhu-usc.edu_COAD.HumanMethylation450.Level_1.3.2.0.tar.gz\">jhu-usc.edu_COAD.HumanMethylation450.Level_1.3.2.0.tar.gz</a>                                      2012-02-29 05:28  530M  \n",
        "      <a href=\"jhu-usc.edu_COAD.HumanMethylation450.Level_1.3.2.0.tar.gz.md5\">jhu-usc.edu_COAD.HumanMethylation450.Level_1.3.2.0.tar.gz.md5</a>                                  2012-02-29 05:28   91   \n",
        "      <a href=\"jhu-usc.edu_COAD.HumanMethylation450.Level_1.3.2.0/\">jhu-usc.edu_COAD.HumanMethylation450.Level_1.3.2.0/</a>                                            2012-02-29 05:26    -   \n",
        "      <a href=\"jhu-usc.edu_COAD.HumanMethylation450.Level_1.3.3.0.tar.gz\">jhu-usc.edu_COAD.HumanMethylation450.Level_1.3.3.0.tar.gz</a>                                      2012-10-03 19:52  530M  \n",
        "      <a href=\"jhu-usc.edu_COAD.HumanMethylation450.Level_1.3.3.0.tar.gz.md5\">jhu-usc.edu_COAD.HumanMethylation450.Level_1.3.3.0.tar.gz.md5</a>                                  2012-10-03 19:52   91   \n",
        "      <a href=\"jhu-usc.edu_COAD.HumanMethylation450.Level_1.3.3.0/\">jhu-usc.edu_COAD.HumanMethylation450.Level_1.3.3.0/</a>                                            2012-10-03 19:50    -   \n",
        "      <a href=\"jhu-usc.edu_COAD.HumanMethylation450.Level_1.3.4.0.tar.gz\">jhu-usc.edu_COAD.HumanMethylation450.Level_1.3.4.0.tar.gz</a>                                      2012-10-30 03:20  530M  \n",
        "      <a href=\"jhu-usc.edu_COAD.HumanMethylation450.Level_1.3.4.0.tar.gz.md5\">jhu-usc.edu_COAD.HumanMethylation450.Level_1.3.4.0.tar.gz.md5</a>                                  2012-10-30 03:20   91   \n",
        "      <a href=\"jhu-usc.edu_COAD.HumanMethylation450.Level_1.3.4.0/\">jhu-usc.edu_COAD.HumanMethylation450.Level_1.3.4.0/</a>                                            2012-10-30 03:18    -   \n",
        "      <a href=\"jhu-usc.edu_COAD.HumanMethylation450.Level_1.3.5.0.tar.gz\">jhu-usc.edu_COAD.HumanMethylation450.Level_1.3.5.0.tar.gz</a>                                      2013-06-17 23:10  538M  \n",
        "      <a href=\"jhu-usc.edu_COAD.HumanMethylation450.Level_1.3.5.0.tar.gz.md5\">jhu-usc.edu_COAD.HumanMethylation450.Level_1.3.5.0.tar.gz.md5</a>                                  2013-06-17 23:10   91   \n",
        "      <a href=\"jhu-usc.edu_COAD.HumanMethylation450.Level_1.3.5.0/\">jhu-usc.edu_COAD.HumanMethylation450.Level_1.3.5.0/</a>                                            2013-06-17 23:08    -   \n",
        "      <a href=\"jhu-usc.edu_COAD.HumanMethylation450.Level_1.3.6.0.tar.gz\">jhu-usc.edu_COAD.HumanMethylation450.Level_1.3.6.0.tar.gz</a>                                      2013-07-12 18:39  538M  \n",
        "      <a href=\"jhu-usc.edu_COAD.HumanMethylation450.Level_1.3.6.0.tar.gz.md5\">jhu-usc.edu_COAD.HumanMethylation450.Level_1.3.6.0.tar.gz.md5</a>                                  2013-07-12 18:39   91   \n",
        "      <a href=\"jhu-usc.edu_COAD.HumanMethylation450.Level_1.3.6.0/\">jhu-usc.edu_COAD.HumanMethylation450.Level_1.3.6.0/</a>                                            2013-07-12 18:37    -   \n",
        "      <a href=\"jhu-usc.edu_COAD.HumanMethylation450.Level_1.3.7.0.tar.gz\">jhu-usc.edu_COAD.HumanMethylation450.Level_1.3.7.0.tar.gz</a>                                      2014-05-16 19:30  538M  \n",
        "      <a href=\"jhu-usc.edu_COAD.HumanMethylation450.Level_1.3.7.0.tar.gz.md5\">jhu-usc.edu_COAD.HumanMethylation450.Level_1.3.7.0.tar.gz.md5</a>                                  2014-05-16 19:30   91   \n",
        "      <a href=\"jhu-usc.edu_COAD.HumanMethylation450.Level_1.3.7.0/\">jhu-usc.edu_COAD.HumanMethylation450.Level_1.3.7.0/</a>                                            2014-05-16 19:28    -   \n",
        "      <a href=\"jhu-usc.edu_COAD.HumanMethylation450.Level_1.3.8.0.tar.gz\">jhu-usc.edu_COAD.HumanMethylation450.Level_1.3.8.0.tar.gz</a>                                      2015-01-26 00:59  538M  \n",
        "      <a href=\"jhu-usc.edu_COAD.HumanMethylation450.Level_1.3.8.0.tar.gz.md5\">jhu-usc.edu_COAD.HumanMethylation450.Level_1.3.8.0.tar.gz.md5</a>                                  2015-01-26 00:59   91   \n",
        "      <a href=\"jhu-usc.edu_COAD.HumanMethylation450.Level_1.3.8.0/\">jhu-usc.edu_COAD.HumanMethylation450.Level_1.3.8.0/</a>                                            2015-01-26 00:57    -   \n",
        "      <a href=\"jhu-usc.edu_COAD.HumanMethylation450.Level_1.4.0.0.tar.gz\">jhu-usc.edu_COAD.HumanMethylation450.Level_1.4.0.0.tar.gz</a>                                      2012-01-30 17:38  106M  \n",
        "      <a href=\"jhu-usc.edu_COAD.HumanMethylation450.Level_1.4.0.0.tar.gz.md5\">jhu-usc.edu_COAD.HumanMethylation450.Level_1.4.0.0.tar.gz.md5</a>                                  2012-01-30 17:38   91   \n",
        "      <a href=\"jhu-usc.edu_COAD.HumanMethylation450.Level_1.4.1.0.tar.gz\">jhu-usc.edu_COAD.HumanMethylation450.Level_1.4.1.0.tar.gz</a>                                      2012-02-01 22:21  106M  \n",
        "      <a href=\"jhu-usc.edu_COAD.HumanMethylation450.Level_1.4.1.0.tar.gz.md5\">jhu-usc.edu_COAD.HumanMethylation450.Level_1.4.1.0.tar.gz.md5</a>                                  2012-02-01 22:21   91   \n",
        "      <a href=\"jhu-usc.edu_COAD.HumanMethylation450.Level_1.4.2.0.tar.gz\">jhu-usc.edu_COAD.HumanMethylation450.Level_1.4.2.0.tar.gz</a>                                      2012-02-29 05:38  292M  \n",
        "      <a href=\"jhu-usc.edu_COAD.HumanMethylation450.Level_1.4.2.0.tar.gz.md5\">jhu-usc.edu_COAD.HumanMethylation450.Level_1.4.2.0.tar.gz.md5</a>                                  2012-02-29 05:38   91   \n",
        "      <a href=\"jhu-usc.edu_COAD.HumanMethylation450.Level_1.4.2.0/\">jhu-usc.edu_COAD.HumanMethylation450.Level_1.4.2.0/</a>                                            2012-02-29 05:37    -   \n",
        "      <a href=\"jhu-usc.edu_COAD.HumanMethylation450.Level_1.4.3.0.tar.gz\">jhu-usc.edu_COAD.HumanMethylation450.Level_1.4.3.0.tar.gz</a>                                      2012-10-03 20:01  292M  \n",
        "      <a href=\"jhu-usc.edu_COAD.HumanMethylation450.Level_1.4.3.0.tar.gz.md5\">jhu-usc.edu_COAD.HumanMethylation450.Level_1.4.3.0.tar.gz.md5</a>                                  2012-10-03 20:01   91   \n",
        "      <a href=\"jhu-usc.edu_COAD.HumanMethylation450.Level_1.4.3.0/\">jhu-usc.edu_COAD.HumanMethylation450.Level_1.4.3.0/</a>                                            2012-10-03 20:00    -   \n",
        "      <a href=\"jhu-usc.edu_COAD.HumanMethylation450.Level_1.4.4.0.tar.gz\">jhu-usc.edu_COAD.HumanMethylation450.Level_1.4.4.0.tar.gz</a>                                      2012-10-30 03:29  292M  \n",
        "      <a href=\"jhu-usc.edu_COAD.HumanMethylation450.Level_1.4.4.0.tar.gz.md5\">jhu-usc.edu_COAD.HumanMethylation450.Level_1.4.4.0.tar.gz.md5</a>                                  2012-10-30 03:29   91   \n",
        "      <a href=\"jhu-usc.edu_COAD.HumanMethylation450.Level_1.4.4.0/\">jhu-usc.edu_COAD.HumanMethylation450.Level_1.4.4.0/</a>                                            2012-10-30 03:28    -   \n",
        "      <a href=\"jhu-usc.edu_COAD.HumanMethylation450.Level_1.4.5.0.tar.gz\">jhu-usc.edu_COAD.HumanMethylation450.Level_1.4.5.0.tar.gz</a>                                      2013-06-17 23:20  308M  \n",
        "      <a href=\"jhu-usc.edu_COAD.HumanMethylation450.Level_1.4.5.0.tar.gz.md5\">jhu-usc.edu_COAD.HumanMethylation450.Level_1.4.5.0.tar.gz.md5</a>                                  2013-06-17 23:20   91   \n",
        "      <a href=\"jhu-usc.edu_COAD.HumanMethylation450.Level_1.4.5.0/\">jhu-usc.edu_COAD.HumanMethylation450.Level_1.4.5.0/</a>                                            2013-06-17 23:19    -   \n",
        "      <a href=\"jhu-usc.edu_COAD.HumanMethylation450.Level_1.4.6.0.tar.gz\">jhu-usc.edu_COAD.HumanMethylation450.Level_1.4.6.0.tar.gz</a>                                      2013-07-12 18:50  308M  \n",
        "      <a href=\"jhu-usc.edu_COAD.HumanMethylation450.Level_1.4.6.0.tar.gz.md5\">jhu-usc.edu_COAD.HumanMethylation450.Level_1.4.6.0.tar.gz.md5</a>                                  2013-07-12 18:50   91   \n",
        "      <a href=\"jhu-usc.edu_COAD.HumanMethylation450.Level_1.4.6.0/\">jhu-usc.edu_COAD.HumanMethylation450.Level_1.4.6.0/</a>                                            2013-07-12 18:49    -   \n",
        "      <a href=\"jhu-usc.edu_COAD.HumanMethylation450.Level_1.4.7.0.tar.gz\">jhu-usc.edu_COAD.HumanMethylation450.Level_1.4.7.0.tar.gz</a>                                      2014-05-16 19:41  308M  \n",
        "      <a href=\"jhu-usc.edu_COAD.HumanMethylation450.Level_1.4.7.0.tar.gz.md5\">jhu-usc.edu_COAD.HumanMethylation450.Level_1.4.7.0.tar.gz.md5</a>                                  2014-05-16 19:42   91   \n",
        "      <a href=\"jhu-usc.edu_COAD.HumanMethylation450.Level_1.4.7.0/\">jhu-usc.edu_COAD.HumanMethylation450.Level_1.4.7.0/</a>                                            2014-05-16 19:40    -   \n",
        "      <a href=\"jhu-usc.edu_COAD.HumanMethylation450.Level_1.4.8.0.tar.gz\">jhu-usc.edu_COAD.HumanMethylation450.Level_1.4.8.0.tar.gz</a>                                      2015-01-26 01:09  308M  \n",
        "      <a href=\"jhu-usc.edu_COAD.HumanMethylation450.Level_1.4.8.0.tar.gz.md5\">jhu-usc.edu_COAD.HumanMethylation450.Level_1.4.8.0.tar.gz.md5</a>                                  2015-01-26 01:09   91   \n",
        "      <a href=\"jhu-usc.edu_COAD.HumanMethylation450.Level_1.4.8.0/\">jhu-usc.edu_COAD.HumanMethylation450.Level_1.4.8.0/</a>                                            2015-01-26 01:08    -   \n",
        "      <a href=\"jhu-usc.edu_COAD.HumanMethylation450.Level_1.5.0.0.tar.gz\">jhu-usc.edu_COAD.HumanMethylation450.Level_1.5.0.0.tar.gz</a>                                      2012-01-30 17:37  254M  \n",
        "      <a href=\"jhu-usc.edu_COAD.HumanMethylation450.Level_1.5.0.0.tar.gz.md5\">jhu-usc.edu_COAD.HumanMethylation450.Level_1.5.0.0.tar.gz.md5</a>                                  2012-01-30 17:37   91   \n",
        "      <a href=\"jhu-usc.edu_COAD.HumanMethylation450.Level_1.5.1.0.tar.gz\">jhu-usc.edu_COAD.HumanMethylation450.Level_1.5.1.0.tar.gz</a>                                      2012-02-01 22:20  382M  \n",
        "      <a href=\"jhu-usc.edu_COAD.HumanMethylation450.Level_1.5.1.0.tar.gz.md5\">jhu-usc.edu_COAD.HumanMethylation450.Level_1.5.1.0.tar.gz.md5</a>                                  2012-02-01 22:20   91   \n",
        "      <a href=\"jhu-usc.edu_COAD.HumanMethylation450.Level_1.5.2.0.tar.gz\">jhu-usc.edu_COAD.HumanMethylation450.Level_1.5.2.0.tar.gz</a>                                      2012-02-29 05:37  106M  \n",
        "      <a href=\"jhu-usc.edu_COAD.HumanMethylation450.Level_1.5.2.0.tar.gz.md5\">jhu-usc.edu_COAD.HumanMethylation450.Level_1.5.2.0.tar.gz.md5</a>                                  2012-02-29 05:37   91   \n",
        "      <a href=\"jhu-usc.edu_COAD.HumanMethylation450.Level_1.5.2.0/\">jhu-usc.edu_COAD.HumanMethylation450.Level_1.5.2.0/</a>                                            2012-02-29 05:36    -   \n",
        "      <a href=\"jhu-usc.edu_COAD.HumanMethylation450.Level_1.5.3.0.tar.gz\">jhu-usc.edu_COAD.HumanMethylation450.Level_1.5.3.0.tar.gz</a>                                      2012-10-03 20:00  106M  \n",
        "      <a href=\"jhu-usc.edu_COAD.HumanMethylation450.Level_1.5.3.0.tar.gz.md5\">jhu-usc.edu_COAD.HumanMethylation450.Level_1.5.3.0.tar.gz.md5</a>                                  2012-10-03 20:00   91   \n",
        "      <a href=\"jhu-usc.edu_COAD.HumanMethylation450.Level_1.5.3.0/\">jhu-usc.edu_COAD.HumanMethylation450.Level_1.5.3.0/</a>                                            2012-10-03 19:59    -   \n",
        "      <a href=\"jhu-usc.edu_COAD.HumanMethylation450.Level_1.5.4.0.tar.gz\">jhu-usc.edu_COAD.HumanMethylation450.Level_1.5.4.0.tar.gz</a>                                      2012-10-30 03:28  106M  \n",
        "      <a href=\"jhu-usc.edu_COAD.HumanMethylation450.Level_1.5.4.0.tar.gz.md5\">jhu-usc.edu_COAD.HumanMethylation450.Level_1.5.4.0.tar.gz.md5</a>                                  2012-10-30 03:28   91   \n",
        "      <a href=\"jhu-usc.edu_COAD.HumanMethylation450.Level_1.5.4.0/\">jhu-usc.edu_COAD.HumanMethylation450.Level_1.5.4.0/</a>                                            2012-10-30 03:27    -   \n",
        "      <a href=\"jhu-usc.edu_COAD.HumanMethylation450.Level_1.5.5.0.tar.gz\">jhu-usc.edu_COAD.HumanMethylation450.Level_1.5.5.0.tar.gz</a>                                      2013-06-17 23:18  106M  \n",
        "      <a href=\"jhu-usc.edu_COAD.HumanMethylation450.Level_1.5.5.0.tar.gz.md5\">jhu-usc.edu_COAD.HumanMethylation450.Level_1.5.5.0.tar.gz.md5</a>                                  2013-06-17 23:18   91   \n",
        "      <a href=\"jhu-usc.edu_COAD.HumanMethylation450.Level_1.5.5.0/\">jhu-usc.edu_COAD.HumanMethylation450.Level_1.5.5.0/</a>                                            2013-06-17 23:18    -   \n",
        "      <a href=\"jhu-usc.edu_COAD.HumanMethylation450.Level_1.5.6.0.tar.gz\">jhu-usc.edu_COAD.HumanMethylation450.Level_1.5.6.0.tar.gz</a>                                      2013-07-12 18:48  106M  \n",
        "      <a href=\"jhu-usc.edu_COAD.HumanMethylation450.Level_1.5.6.0.tar.gz.md5\">jhu-usc.edu_COAD.HumanMethylation450.Level_1.5.6.0.tar.gz.md5</a>                                  2013-07-12 18:48   91   \n",
        "      <a href=\"jhu-usc.edu_COAD.HumanMethylation450.Level_1.5.6.0/\">jhu-usc.edu_COAD.HumanMethylation450.Level_1.5.6.0/</a>                                            2013-07-12 18:48    -   \n",
        "      <a href=\"jhu-usc.edu_COAD.HumanMethylation450.Level_1.5.7.0.tar.gz\">jhu-usc.edu_COAD.HumanMethylation450.Level_1.5.7.0.tar.gz</a>                                      2014-05-16 19:39  106M  \n",
        "      <a href=\"jhu-usc.edu_COAD.HumanMethylation450.Level_1.5.7.0.tar.gz.md5\">jhu-usc.edu_COAD.HumanMethylation450.Level_1.5.7.0.tar.gz.md5</a>                                  2014-05-16 19:40   91   \n",
        "      <a href=\"jhu-usc.edu_COAD.HumanMethylation450.Level_1.5.7.0/\">jhu-usc.edu_COAD.HumanMethylation450.Level_1.5.7.0/</a>                                            2014-05-16 19:39    -   \n",
        "      <a href=\"jhu-usc.edu_COAD.HumanMethylation450.Level_1.5.8.0.tar.gz\">jhu-usc.edu_COAD.HumanMethylation450.Level_1.5.8.0.tar.gz</a>                                      2015-01-26 01:07  106M  \n",
        "      <a href=\"jhu-usc.edu_COAD.HumanMethylation450.Level_1.5.8.0.tar.gz.md5\">jhu-usc.edu_COAD.HumanMethylation450.Level_1.5.8.0.tar.gz.md5</a>                                  2015-01-26 01:07   91   \n",
        "      <a href=\"jhu-usc.edu_COAD.HumanMethylation450.Level_1.5.8.0/\">jhu-usc.edu_COAD.HumanMethylation450.Level_1.5.8.0/</a>                                            2015-01-26 01:07    -   \n",
        "      <a href=\"jhu-usc.edu_COAD.HumanMethylation450.Level_1.6.1.0.tar.gz\">jhu-usc.edu_COAD.HumanMethylation450.Level_1.6.1.0.tar.gz</a>                                      2012-02-01 22:18  254M  \n",
        "      <a href=\"jhu-usc.edu_COAD.HumanMethylation450.Level_1.6.1.0.tar.gz.md5\">jhu-usc.edu_COAD.HumanMethylation450.Level_1.6.1.0.tar.gz.md5</a>                                  2012-02-01 22:18   91   \n",
        "      <a href=\"jhu-usc.edu_COAD.HumanMethylation450.Level_1.6.2.0.tar.gz\">jhu-usc.edu_COAD.HumanMethylation450.Level_1.6.2.0.tar.gz</a>                                      2012-02-29 05:36  382M  \n",
        "      <a href=\"jhu-usc.edu_COAD.HumanMethylation450.Level_1.6.2.0.tar.gz.md5\">jhu-usc.edu_COAD.HumanMethylation450.Level_1.6.2.0.tar.gz.md5</a>                                  2012-02-29 05:36   91   \n",
        "      <a href=\"jhu-usc.edu_COAD.HumanMethylation450.Level_1.6.2.0/\">jhu-usc.edu_COAD.HumanMethylation450.Level_1.6.2.0/</a>                                            2012-02-29 05:34    -   \n",
        "      <a href=\"jhu-usc.edu_COAD.HumanMethylation450.Level_1.6.3.0.tar.gz\">jhu-usc.edu_COAD.HumanMethylation450.Level_1.6.3.0.tar.gz</a>                                      2012-10-03 19:59  382M  \n",
        "      <a href=\"jhu-usc.edu_COAD.HumanMethylation450.Level_1.6.3.0.tar.gz.md5\">jhu-usc.edu_COAD.HumanMethylation450.Level_1.6.3.0.tar.gz.md5</a>                                  2012-10-03 19:59   91   \n",
        "      <a href=\"jhu-usc.edu_COAD.HumanMethylation450.Level_1.6.3.0/\">jhu-usc.edu_COAD.HumanMethylation450.Level_1.6.3.0/</a>                                            2012-10-03 19:57    -   \n",
        "      <a href=\"jhu-usc.edu_COAD.HumanMethylation450.Level_1.6.4.0.tar.gz\">jhu-usc.edu_COAD.HumanMethylation450.Level_1.6.4.0.tar.gz</a>                                      2012-10-30 03:27  382M  \n",
        "      <a href=\"jhu-usc.edu_COAD.HumanMethylation450.Level_1.6.4.0.tar.gz.md5\">jhu-usc.edu_COAD.HumanMethylation450.Level_1.6.4.0.tar.gz.md5</a>                                  2012-10-30 03:27   91   \n",
        "      <a href=\"jhu-usc.edu_COAD.HumanMethylation450.Level_1.6.4.0/\">jhu-usc.edu_COAD.HumanMethylation450.Level_1.6.4.0/</a>                                            2012-10-30 03:26    -   \n",
        "      <a href=\"jhu-usc.edu_COAD.HumanMethylation450.Level_1.6.5.0.tar.gz\">jhu-usc.edu_COAD.HumanMethylation450.Level_1.6.5.0.tar.gz</a>                                      2013-06-17 23:17  382M  \n",
        "      <a href=\"jhu-usc.edu_COAD.HumanMethylation450.Level_1.6.5.0.tar.gz.md5\">jhu-usc.edu_COAD.HumanMethylation450.Level_1.6.5.0.tar.gz.md5</a>                                  2013-06-17 23:18   91   \n",
        "      <a href=\"jhu-usc.edu_COAD.HumanMethylation450.Level_1.6.5.0/\">jhu-usc.edu_COAD.HumanMethylation450.Level_1.6.5.0/</a>                                            2013-06-17 23:16    -   \n",
        "      <a href=\"jhu-usc.edu_COAD.HumanMethylation450.Level_1.6.6.0.tar.gz\">jhu-usc.edu_COAD.HumanMethylation450.Level_1.6.6.0.tar.gz</a>                                      2013-07-12 18:47  415M  \n",
        "      <a href=\"jhu-usc.edu_COAD.HumanMethylation450.Level_1.6.6.0.tar.gz.md5\">jhu-usc.edu_COAD.HumanMethylation450.Level_1.6.6.0.tar.gz.md5</a>                                  2013-07-12 18:47   91   \n",
        "      <a href=\"jhu-usc.edu_COAD.HumanMethylation450.Level_1.6.6.0/\">jhu-usc.edu_COAD.HumanMethylation450.Level_1.6.6.0/</a>                                            2013-07-12 18:45    -   \n",
        "      <a href=\"jhu-usc.edu_COAD.HumanMethylation450.Level_1.6.7.0.tar.gz\">jhu-usc.edu_COAD.HumanMethylation450.Level_1.6.7.0.tar.gz</a>                                      2014-05-16 19:39  415M  \n",
        "      <a href=\"jhu-usc.edu_COAD.HumanMethylation450.Level_1.6.7.0.tar.gz.md5\">jhu-usc.edu_COAD.HumanMethylation450.Level_1.6.7.0.tar.gz.md5</a>                                  2014-05-16 19:39   91   \n",
        "      <a href=\"jhu-usc.edu_COAD.HumanMethylation450.Level_1.6.7.0/\">jhu-usc.edu_COAD.HumanMethylation450.Level_1.6.7.0/</a>                                            2014-05-16 19:37    -   \n",
        "      <a href=\"jhu-usc.edu_COAD.HumanMethylation450.Level_1.6.8.0.tar.gz\">jhu-usc.edu_COAD.HumanMethylation450.Level_1.6.8.0.tar.gz</a>                                      2015-01-26 01:06  415M  \n",
        "      <a href=\"jhu-usc.edu_COAD.HumanMethylation450.Level_1.6.8.0.tar.gz.md5\">jhu-usc.edu_COAD.HumanMethylation450.Level_1.6.8.0.tar.gz.md5</a>                                  2015-01-26 01:06   91   \n",
        "      <a href=\"jhu-usc.edu_COAD.HumanMethylation450.Level_1.6.8.0/\">jhu-usc.edu_COAD.HumanMethylation450.Level_1.6.8.0/</a>                                            2015-01-26 01:05    -   \n",
        "      <a href=\"jhu-usc.edu_COAD.HumanMethylation450.Level_1.7.1.0.tar.gz\">jhu-usc.edu_COAD.HumanMethylation450.Level_1.7.1.0.tar.gz</a>                                      2012-02-01 22:17   16M  \n",
        "      <a href=\"jhu-usc.edu_COAD.HumanMethylation450.Level_1.7.1.0.tar.gz.md5\">jhu-usc.edu_COAD.HumanMethylation450.Level_1.7.1.0.tar.gz.md5</a>                                  2012-02-01 22:17   91   \n",
        "      <a href=\"jhu-usc.edu_COAD.HumanMethylation450.Level_1.7.2.0.tar.gz\">jhu-usc.edu_COAD.HumanMethylation450.Level_1.7.2.0.tar.gz</a>                                      2012-02-29 05:34  106M  \n",
        "      <a href=\"jhu-usc.edu_COAD.HumanMethylation450.Level_1.7.2.0.tar.gz.md5\">jhu-usc.edu_COAD.HumanMethylation450.Level_1.7.2.0.tar.gz.md5</a>                                  2012-02-29 05:34   91   \n",
        "      <a href=\"jhu-usc.edu_COAD.HumanMethylation450.Level_1.7.2.0/\">jhu-usc.edu_COAD.HumanMethylation450.Level_1.7.2.0/</a>                                            2012-02-29 05:33    -   \n",
        "      <a href=\"jhu-usc.edu_COAD.HumanMethylation450.Level_1.7.3.0.tar.gz\">jhu-usc.edu_COAD.HumanMethylation450.Level_1.7.3.0.tar.gz</a>                                      2012-10-03 19:57  106M  \n",
        "      <a href=\"jhu-usc.edu_COAD.HumanMethylation450.Level_1.7.3.0.tar.gz.md5\">jhu-usc.edu_COAD.HumanMethylation450.Level_1.7.3.0.tar.gz.md5</a>                                  2012-10-03 19:57   91   \n",
        "      <a href=\"jhu-usc.edu_COAD.HumanMethylation450.Level_1.7.3.0/\">jhu-usc.edu_COAD.HumanMethylation450.Level_1.7.3.0/</a>                                            2012-10-03 19:56    -   \n",
        "      <a href=\"jhu-usc.edu_COAD.HumanMethylation450.Level_1.7.4.0.tar.gz\">jhu-usc.edu_COAD.HumanMethylation450.Level_1.7.4.0.tar.gz</a>                                      2012-10-30 03:25  106M  \n",
        "      <a href=\"jhu-usc.edu_COAD.HumanMethylation450.Level_1.7.4.0.tar.gz.md5\">jhu-usc.edu_COAD.HumanMethylation450.Level_1.7.4.0.tar.gz.md5</a>                                  2012-10-30 03:25   91   \n",
        "      <a href=\"jhu-usc.edu_COAD.HumanMethylation450.Level_1.7.4.0/\">jhu-usc.edu_COAD.HumanMethylation450.Level_1.7.4.0/</a>                                            2012-10-30 03:25    -   \n",
        "      <a href=\"jhu-usc.edu_COAD.HumanMethylation450.Level_1.7.5.0.tar.gz\">jhu-usc.edu_COAD.HumanMethylation450.Level_1.7.5.0.tar.gz</a>                                      2013-06-17 23:16  106M  \n",
        "      <a href=\"jhu-usc.edu_COAD.HumanMethylation450.Level_1.7.5.0.tar.gz.md5\">jhu-usc.edu_COAD.HumanMethylation450.Level_1.7.5.0.tar.gz.md5</a>                                  2013-06-17 23:16   91   \n",
        "      <a href=\"jhu-usc.edu_COAD.HumanMethylation450.Level_1.7.5.0/\">jhu-usc.edu_COAD.HumanMethylation450.Level_1.7.5.0/</a>                                            2013-06-17 23:15    -   \n",
        "      <a href=\"jhu-usc.edu_COAD.HumanMethylation450.Level_1.7.6.0.tar.gz\">jhu-usc.edu_COAD.HumanMethylation450.Level_1.7.6.0.tar.gz</a>                                      2013-07-12 18:45  106M  \n",
        "      <a href=\"jhu-usc.edu_COAD.HumanMethylation450.Level_1.7.6.0.tar.gz.md5\">jhu-usc.edu_COAD.HumanMethylation450.Level_1.7.6.0.tar.gz.md5</a>                                  2013-07-12 18:45   91   \n",
        "      <a href=\"jhu-usc.edu_COAD.HumanMethylation450.Level_1.7.6.0/\">jhu-usc.edu_COAD.HumanMethylation450.Level_1.7.6.0/</a>                                            2013-07-12 18:45    -   \n",
        "      <a href=\"jhu-usc.edu_COAD.HumanMethylation450.Level_1.7.7.0.tar.gz\">jhu-usc.edu_COAD.HumanMethylation450.Level_1.7.7.0.tar.gz</a>                                      2014-05-16 19:36  106M  \n",
        "      <a href=\"jhu-usc.edu_COAD.HumanMethylation450.Level_1.7.7.0.tar.gz.md5\">jhu-usc.edu_COAD.HumanMethylation450.Level_1.7.7.0.tar.gz.md5</a>                                  2014-05-16 19:36   91   \n",
        "      <a href=\"jhu-usc.edu_COAD.HumanMethylation450.Level_1.7.7.0/\">jhu-usc.edu_COAD.HumanMethylation450.Level_1.7.7.0/</a>                                            2014-05-16 19:36    -   \n",
        "      <a href=\"jhu-usc.edu_COAD.HumanMethylation450.Level_1.7.8.0.tar.gz\">jhu-usc.edu_COAD.HumanMethylation450.Level_1.7.8.0.tar.gz</a>                                      2015-01-26 01:04  106M  \n",
        "      <a href=\"jhu-usc.edu_COAD.HumanMethylation450.Level_1.7.8.0.tar.gz.md5\">jhu-usc.edu_COAD.HumanMethylation450.Level_1.7.8.0.tar.gz.md5</a>                                  2015-01-26 01:04   91   \n",
        "      <a href=\"jhu-usc.edu_COAD.HumanMethylation450.Level_1.7.8.0/\">jhu-usc.edu_COAD.HumanMethylation450.Level_1.7.8.0/</a>                                            2015-01-26 01:04    -   \n",
        "      <a href=\"jhu-usc.edu_COAD.HumanMethylation450.Level_1.8.2.0.tar.gz\">jhu-usc.edu_COAD.HumanMethylation450.Level_1.8.2.0.tar.gz</a>                                      2012-02-29 05:40  254M  \n",
        "      <a href=\"jhu-usc.edu_COAD.HumanMethylation450.Level_1.8.2.0.tar.gz.md5\">jhu-usc.edu_COAD.HumanMethylation450.Level_1.8.2.0.tar.gz.md5</a>                                  2012-02-29 05:40   91   \n",
        "      <a href=\"jhu-usc.edu_COAD.HumanMethylation450.Level_1.8.2.0/\">jhu-usc.edu_COAD.HumanMethylation450.Level_1.8.2.0/</a>                                            2012-02-29 05:39    -   \n",
        "      <a href=\"jhu-usc.edu_COAD.HumanMethylation450.Level_1.8.3.0.tar.gz\">jhu-usc.edu_COAD.HumanMethylation450.Level_1.8.3.0.tar.gz</a>                                      2012-10-03 20:03  254M  \n",
        "      <a href=\"jhu-usc.edu_COAD.HumanMethylation450.Level_1.8.3.0.tar.gz.md5\">jhu-usc.edu_COAD.HumanMethylation450.Level_1.8.3.0.tar.gz.md5</a>                                  2012-10-03 20:03   91   \n",
        "      <a href=\"jhu-usc.edu_COAD.HumanMethylation450.Level_1.8.3.0/\">jhu-usc.edu_COAD.HumanMethylation450.Level_1.8.3.0/</a>                                            2012-10-03 20:01    -   \n",
        "      <a href=\"jhu-usc.edu_COAD.HumanMethylation450.Level_1.8.4.0.tar.gz\">jhu-usc.edu_COAD.HumanMethylation450.Level_1.8.4.0.tar.gz</a>                                      2012-10-30 03:31  254M  \n",
        "      <a href=\"jhu-usc.edu_COAD.HumanMethylation450.Level_1.8.4.0.tar.gz.md5\">jhu-usc.edu_COAD.HumanMethylation450.Level_1.8.4.0.tar.gz.md5</a>                                  2012-10-30 03:31   91   \n",
        "      <a href=\"jhu-usc.edu_COAD.HumanMethylation450.Level_1.8.4.0/\">jhu-usc.edu_COAD.HumanMethylation450.Level_1.8.4.0/</a>                                            2012-10-30 03:30    -   \n",
        "      <a href=\"jhu-usc.edu_COAD.HumanMethylation450.Level_1.8.5.0.tar.gz\">jhu-usc.edu_COAD.HumanMethylation450.Level_1.8.5.0.tar.gz</a>                                      2013-06-17 23:21  254M  \n",
        "      <a href=\"jhu-usc.edu_COAD.HumanMethylation450.Level_1.8.5.0.tar.gz.md5\">jhu-usc.edu_COAD.HumanMethylation450.Level_1.8.5.0.tar.gz.md5</a>                                  2013-06-17 23:21   91   \n",
        "      <a href=\"jhu-usc.edu_COAD.HumanMethylation450.Level_1.8.5.0/\">jhu-usc.edu_COAD.HumanMethylation450.Level_1.8.5.0/</a>                                            2013-06-17 23:20    -   \n",
        "      <a href=\"jhu-usc.edu_COAD.HumanMethylation450.Level_1.8.6.0.tar.gz\">jhu-usc.edu_COAD.HumanMethylation450.Level_1.8.6.0.tar.gz</a>                                      2013-07-12 18:52  270M  \n",
        "      <a href=\"jhu-usc.edu_COAD.HumanMethylation450.Level_1.8.6.0.tar.gz.md5\">jhu-usc.edu_COAD.HumanMethylation450.Level_1.8.6.0.tar.gz.md5</a>                                  2013-07-12 18:52   91   \n",
        "      <a href=\"jhu-usc.edu_COAD.HumanMethylation450.Level_1.8.6.0/\">jhu-usc.edu_COAD.HumanMethylation450.Level_1.8.6.0/</a>                                            2013-07-12 18:51    -   \n",
        "      <a href=\"jhu-usc.edu_COAD.HumanMethylation450.Level_1.8.7.0.tar.gz\">jhu-usc.edu_COAD.HumanMethylation450.Level_1.8.7.0.tar.gz</a>                                      2014-05-16 19:43  270M  \n",
        "      <a href=\"jhu-usc.edu_COAD.HumanMethylation450.Level_1.8.7.0.tar.gz.md5\">jhu-usc.edu_COAD.HumanMethylation450.Level_1.8.7.0.tar.gz.md5</a>                                  2014-05-16 19:43   91   \n",
        "      <a href=\"jhu-usc.edu_COAD.HumanMethylation450.Level_1.8.7.0/\">jhu-usc.edu_COAD.HumanMethylation450.Level_1.8.7.0/</a>                                            2014-05-16 19:42    -   \n",
        "      <a href=\"jhu-usc.edu_COAD.HumanMethylation450.Level_1.8.8.0.tar.gz\">jhu-usc.edu_COAD.HumanMethylation450.Level_1.8.8.0.tar.gz</a>                                      2015-01-26 01:11  270M  \n",
        "      <a href=\"jhu-usc.edu_COAD.HumanMethylation450.Level_1.8.8.0.tar.gz.md5\">jhu-usc.edu_COAD.HumanMethylation450.Level_1.8.8.0.tar.gz.md5</a>                                  2015-01-26 01:11   91   \n",
        "      <a href=\"jhu-usc.edu_COAD.HumanMethylation450.Level_1.8.8.0/\">jhu-usc.edu_COAD.HumanMethylation450.Level_1.8.8.0/</a>                                            2015-01-26 01:09    -   \n",
        "      <a href=\"jhu-usc.edu_COAD.HumanMethylation450.Level_1.9.2.0.tar.gz\">jhu-usc.edu_COAD.HumanMethylation450.Level_1.9.2.0.tar.gz</a>                                      2012-02-29 05:38   16M  \n",
        "      <a href=\"jhu-usc.edu_COAD.HumanMethylation450.Level_1.9.2.0.tar.gz.md5\">jhu-usc.edu_COAD.HumanMethylation450.Level_1.9.2.0.tar.gz.md5</a>                                  2012-02-29 05:38   91   \n",
        "      <a href=\"jhu-usc.edu_COAD.HumanMethylation450.Level_1.9.2.0/\">jhu-usc.edu_COAD.HumanMethylation450.Level_1.9.2.0/</a>                                            2012-02-29 05:38    -   \n",
        "      <a href=\"jhu-usc.edu_COAD.HumanMethylation450.Level_1.9.3.0.tar.gz\">jhu-usc.edu_COAD.HumanMethylation450.Level_1.9.3.0.tar.gz</a>                                      2012-10-03 20:01   16M  \n",
        "      <a href=\"jhu-usc.edu_COAD.HumanMethylation450.Level_1.9.3.0.tar.gz.md5\">jhu-usc.edu_COAD.HumanMethylation450.Level_1.9.3.0.tar.gz.md5</a>                                  2012-10-03 20:01   91   \n",
        "      <a href=\"jhu-usc.edu_COAD.HumanMethylation450.Level_1.9.3.0/\">jhu-usc.edu_COAD.HumanMethylation450.Level_1.9.3.0/</a>                                            2012-10-03 20:01    -   \n",
        "      <a href=\"jhu-usc.edu_COAD.HumanMethylation450.Level_1.9.4.0.tar.gz\">jhu-usc.edu_COAD.HumanMethylation450.Level_1.9.4.0.tar.gz</a>                                      2012-10-30 03:30   16M  \n",
        "      <a href=\"jhu-usc.edu_COAD.HumanMethylation450.Level_1.9.4.0.tar.gz.md5\">jhu-usc.edu_COAD.HumanMethylation450.Level_1.9.4.0.tar.gz.md5</a>                                  2012-10-30 03:30   91   \n",
        "      <a href=\"jhu-usc.edu_COAD.HumanMethylation450.Level_1.9.4.0/\">jhu-usc.edu_COAD.HumanMethylation450.Level_1.9.4.0/</a>                                            2012-10-30 03:30    -   \n",
        "      <a href=\"jhu-usc.edu_COAD.HumanMethylation450.Level_1.9.5.0.tar.gz\">jhu-usc.edu_COAD.HumanMethylation450.Level_1.9.5.0.tar.gz</a>                                      2013-06-17 23:20   16M  \n",
        "      <a href=\"jhu-usc.edu_COAD.HumanMethylation450.Level_1.9.5.0.tar.gz.md5\">jhu-usc.edu_COAD.HumanMethylation450.Level_1.9.5.0.tar.gz.md5</a>                                  2013-06-17 23:20   91   \n",
        "      <a href=\"jhu-usc.edu_COAD.HumanMethylation450.Level_1.9.5.0/\">jhu-usc.edu_COAD.HumanMethylation450.Level_1.9.5.0/</a>                                            2013-06-17 23:20    -   \n",
        "      <a href=\"jhu-usc.edu_COAD.HumanMethylation450.Level_1.9.6.0.tar.gz\">jhu-usc.edu_COAD.HumanMethylation450.Level_1.9.6.0.tar.gz</a>                                      2013-07-12 18:50   16M  \n",
        "      <a href=\"jhu-usc.edu_COAD.HumanMethylation450.Level_1.9.6.0.tar.gz.md5\">jhu-usc.edu_COAD.HumanMethylation450.Level_1.9.6.0.tar.gz.md5</a>                                  2013-07-12 18:50   91   \n",
        "      <a href=\"jhu-usc.edu_COAD.HumanMethylation450.Level_1.9.6.0/\">jhu-usc.edu_COAD.HumanMethylation450.Level_1.9.6.0/</a>                                            2013-07-12 18:50    -   \n",
        "      <a href=\"jhu-usc.edu_COAD.HumanMethylation450.Level_1.9.7.0.tar.gz\">jhu-usc.edu_COAD.HumanMethylation450.Level_1.9.7.0.tar.gz</a>                                      2014-05-16 19:42   16M  \n",
        "      <a href=\"jhu-usc.edu_COAD.HumanMethylation450.Level_1.9.7.0.tar.gz.md5\">jhu-usc.edu_COAD.HumanMethylation450.Level_1.9.7.0.tar.gz.md5</a>                                  2014-05-16 19:42   91   \n",
        "      <a href=\"jhu-usc.edu_COAD.HumanMethylation450.Level_1.9.7.0/\">jhu-usc.edu_COAD.HumanMethylation450.Level_1.9.7.0/</a>                                            2014-05-16 19:42    -   \n",
        "      <a href=\"jhu-usc.edu_COAD.HumanMethylation450.Level_1.9.8.0.tar.gz\">jhu-usc.edu_COAD.HumanMethylation450.Level_1.9.8.0.tar.gz</a>                                      2015-01-26 01:09   16M  \n",
        "      <a href=\"jhu-usc.edu_COAD.HumanMethylation450.Level_1.9.8.0.tar.gz.md5\">jhu-usc.edu_COAD.HumanMethylation450.Level_1.9.8.0.tar.gz.md5</a>                                  2015-01-26 01:09   91   \n",
        "      <a href=\"jhu-usc.edu_COAD.HumanMethylation450.Level_1.9.8.0/\">jhu-usc.edu_COAD.HumanMethylation450.Level_1.9.8.0/</a>                                            2015-01-26 01:09    -   \n",
        "      <a href=\"jhu-usc.edu_COAD.HumanMethylation450.Level_2.1.0.0.tar.gz\">jhu-usc.edu_COAD.HumanMethylation450.Level_2.1.0.0.tar.gz</a>                                      2012-01-30 17:19  480M  \n",
        "      <a href=\"jhu-usc.edu_COAD.HumanMethylation450.Level_2.1.0.0.tar.gz.md5\">jhu-usc.edu_COAD.HumanMethylation450.Level_2.1.0.0.tar.gz.md5</a>                                  2012-01-30 17:19   91   \n",
        "      <a href=\"jhu-usc.edu_COAD.HumanMethylation450.Level_2.1.1.0.tar.gz\">jhu-usc.edu_COAD.HumanMethylation450.Level_2.1.1.0.tar.gz</a>                                      2012-02-01 22:04  480M  \n",
        "      <a href=\"jhu-usc.edu_COAD.HumanMethylation450.Level_2.1.1.0.tar.gz.md5\">jhu-usc.edu_COAD.HumanMethylation450.Level_2.1.1.0.tar.gz.md5</a>                                  2012-02-01 22:04   91   \n",
        "      <a href=\"jhu-usc.edu_COAD.HumanMethylation450.Level_2.1.2.0.tar.gz\">jhu-usc.edu_COAD.HumanMethylation450.Level_2.1.2.0.tar.gz</a>                                      2012-02-29 05:15  480M  \n",
        "      <a href=\"jhu-usc.edu_COAD.HumanMethylation450.Level_2.1.2.0.tar.gz.md5\">jhu-usc.edu_COAD.HumanMethylation450.Level_2.1.2.0.tar.gz.md5</a>                                  2012-02-29 05:16   91   \n",
        "      <a href=\"jhu-usc.edu_COAD.HumanMethylation450.Level_2.1.2.0/\">jhu-usc.edu_COAD.HumanMethylation450.Level_2.1.2.0/</a>                                            2012-02-29 05:13    -   \n",
        "      <a href=\"jhu-usc.edu_COAD.HumanMethylation450.Level_2.1.3.0.tar.gz\">jhu-usc.edu_COAD.HumanMethylation450.Level_2.1.3.0.tar.gz</a>                                      2012-10-03 19:41  480M  \n",
        "      <a href=\"jhu-usc.edu_COAD.HumanMethylation450.Level_2.1.3.0.tar.gz.md5\">jhu-usc.edu_COAD.HumanMethylation450.Level_2.1.3.0.tar.gz.md5</a>                                  2012-10-03 19:41   91   \n",
        "      <a href=\"jhu-usc.edu_COAD.HumanMethylation450.Level_2.1.3.0/\">jhu-usc.edu_COAD.HumanMethylation450.Level_2.1.3.0/</a>                                            2012-10-03 19:38    -   \n",
        "      <a href=\"jhu-usc.edu_COAD.HumanMethylation450.Level_2.1.4.0.tar.gz\">jhu-usc.edu_COAD.HumanMethylation450.Level_2.1.4.0.tar.gz</a>                                      2012-10-30 03:06  480M  \n",
        "      <a href=\"jhu-usc.edu_COAD.HumanMethylation450.Level_2.1.4.0.tar.gz.md5\">jhu-usc.edu_COAD.HumanMethylation450.Level_2.1.4.0.tar.gz.md5</a>                                  2012-10-30 03:06   91   \n",
        "      <a href=\"jhu-usc.edu_COAD.HumanMethylation450.Level_2.1.4.0/\">jhu-usc.edu_COAD.HumanMethylation450.Level_2.1.4.0/</a>                                            2012-10-30 03:04    -   \n",
        "      <a href=\"jhu-usc.edu_COAD.HumanMethylation450.Level_2.1.5.0.tar.gz\">jhu-usc.edu_COAD.HumanMethylation450.Level_2.1.5.0.tar.gz</a>                                      2013-06-17 22:59  498M  \n",
        "      <a href=\"jhu-usc.edu_COAD.HumanMethylation450.Level_2.1.5.0.tar.gz.md5\">jhu-usc.edu_COAD.HumanMethylation450.Level_2.1.5.0.tar.gz.md5</a>                                  2013-06-17 22:59   91   \n",
        "      <a href=\"jhu-usc.edu_COAD.HumanMethylation450.Level_2.1.5.0/\">jhu-usc.edu_COAD.HumanMethylation450.Level_2.1.5.0/</a>                                            2013-06-17 22:56    -   \n",
        "      <a href=\"jhu-usc.edu_COAD.HumanMethylation450.Level_2.1.6.0.tar.gz\">jhu-usc.edu_COAD.HumanMethylation450.Level_2.1.6.0.tar.gz</a>                                      2013-07-12 18:24  498M  \n",
        "      <a href=\"jhu-usc.edu_COAD.HumanMethylation450.Level_2.1.6.0.tar.gz.md5\">jhu-usc.edu_COAD.HumanMethylation450.Level_2.1.6.0.tar.gz.md5</a>                                  2013-07-12 18:25   91   \n",
        "      <a href=\"jhu-usc.edu_COAD.HumanMethylation450.Level_2.1.6.0/\">jhu-usc.edu_COAD.HumanMethylation450.Level_2.1.6.0/</a>                                            2013-07-12 18:22    -   \n",
        "      <a href=\"jhu-usc.edu_COAD.HumanMethylation450.Level_2.1.7.0.tar.gz\">jhu-usc.edu_COAD.HumanMethylation450.Level_2.1.7.0.tar.gz</a>                                      2014-05-16 19:14  498M  \n",
        "      <a href=\"jhu-usc.edu_COAD.HumanMethylation450.Level_2.1.7.0.tar.gz.md5\">jhu-usc.edu_COAD.HumanMethylation450.Level_2.1.7.0.tar.gz.md5</a>                                  2014-05-16 19:14   91   \n",
        "      <a href=\"jhu-usc.edu_COAD.HumanMethylation450.Level_2.1.7.0/\">jhu-usc.edu_COAD.HumanMethylation450.Level_2.1.7.0/</a>                                            2014-05-16 19:11    -   \n",
        "      <a href=\"jhu-usc.edu_COAD.HumanMethylation450.Level_2.1.8.0.tar.gz\">jhu-usc.edu_COAD.HumanMethylation450.Level_2.1.8.0.tar.gz</a>                                      2015-01-26 00:44  498M  \n",
        "      <a href=\"jhu-usc.edu_COAD.HumanMethylation450.Level_2.1.8.0.tar.gz.md5\">jhu-usc.edu_COAD.HumanMethylation450.Level_2.1.8.0.tar.gz.md5</a>                                  2015-01-26 00:44   91   \n",
        "      <a href=\"jhu-usc.edu_COAD.HumanMethylation450.Level_2.1.8.0/\">jhu-usc.edu_COAD.HumanMethylation450.Level_2.1.8.0/</a>                                            2015-01-26 00:41    -   \n",
        "      <a href=\"jhu-usc.edu_COAD.HumanMethylation450.Level_2.10.3.0.tar.gz\">jhu-usc.edu_COAD.HumanMethylation450.Level_2.10.3.0.tar.gz</a>                                     2012-10-03 19:38  9.1M  \n",
        "      <a href=\"jhu-usc.edu_COAD.HumanMethylation450.Level_2.10.3.0.tar.gz.md5\">jhu-usc.edu_COAD.HumanMethylation450.Level_2.10.3.0.tar.gz.md5</a>                                 2012-10-03 19:38   92   \n",
        "      <a href=\"jhu-usc.edu_COAD.HumanMethylation450.Level_2.10.3.0/\">jhu-usc.edu_COAD.HumanMethylation450.Level_2.10.3.0/</a>                                           2012-10-03 19:38    -   \n",
        "      <a href=\"jhu-usc.edu_COAD.HumanMethylation450.Level_2.10.4.0.tar.gz\">jhu-usc.edu_COAD.HumanMethylation450.Level_2.10.4.0.tar.gz</a>                                     2012-10-30 03:07  9.1M  \n",
        "      <a href=\"jhu-usc.edu_COAD.HumanMethylation450.Level_2.10.4.0.tar.gz.md5\">jhu-usc.edu_COAD.HumanMethylation450.Level_2.10.4.0.tar.gz.md5</a>                                 2012-10-30 03:07   92   \n",
        "      <a href=\"jhu-usc.edu_COAD.HumanMethylation450.Level_2.10.4.0/\">jhu-usc.edu_COAD.HumanMethylation450.Level_2.10.4.0/</a>                                           2012-10-30 03:07    -   \n",
        "      <a href=\"jhu-usc.edu_COAD.HumanMethylation450.Level_2.10.5.0.tar.gz\">jhu-usc.edu_COAD.HumanMethylation450.Level_2.10.5.0.tar.gz</a>                                     2013-06-17 22:59  9.1M  \n",
        "      <a href=\"jhu-usc.edu_COAD.HumanMethylation450.Level_2.10.5.0.tar.gz.md5\">jhu-usc.edu_COAD.HumanMethylation450.Level_2.10.5.0.tar.gz.md5</a>                                 2013-06-17 22:59   92   \n",
        "      <a href=\"jhu-usc.edu_COAD.HumanMethylation450.Level_2.10.5.0/\">jhu-usc.edu_COAD.HumanMethylation450.Level_2.10.5.0/</a>                                           2013-06-17 22:59    -   \n",
        "      <a href=\"jhu-usc.edu_COAD.HumanMethylation450.Level_2.10.6.0.tar.gz\">jhu-usc.edu_COAD.HumanMethylation450.Level_2.10.6.0.tar.gz</a>                                     2013-07-12 18:25  9.1M  \n",
        "      <a href=\"jhu-usc.edu_COAD.HumanMethylation450.Level_2.10.6.0.tar.gz.md5\">jhu-usc.edu_COAD.HumanMethylation450.Level_2.10.6.0.tar.gz.md5</a>                                 2013-07-12 18:25   92   \n",
        "      <a href=\"jhu-usc.edu_COAD.HumanMethylation450.Level_2.10.6.0/\">jhu-usc.edu_COAD.HumanMethylation450.Level_2.10.6.0/</a>                                           2013-07-12 18:25    -   \n",
        "      <a href=\"jhu-usc.edu_COAD.HumanMethylation450.Level_2.10.7.0.tar.gz\">jhu-usc.edu_COAD.HumanMethylation450.Level_2.10.7.0.tar.gz</a>                                     2014-05-16 19:10  9.1M  \n",
        "      <a href=\"jhu-usc.edu_COAD.HumanMethylation450.Level_2.10.7.0.tar.gz.md5\">jhu-usc.edu_COAD.HumanMethylation450.Level_2.10.7.0.tar.gz.md5</a>                                 2014-05-16 19:10   92   \n",
        "      <a href=\"jhu-usc.edu_COAD.HumanMethylation450.Level_2.10.7.0/\">jhu-usc.edu_COAD.HumanMethylation450.Level_2.10.7.0/</a>                                           2014-05-16 19:10    -   \n",
        "      <a href=\"jhu-usc.edu_COAD.HumanMethylation450.Level_2.10.8.0.tar.gz\">jhu-usc.edu_COAD.HumanMethylation450.Level_2.10.8.0.tar.gz</a>                                     2015-01-26 00:41  9.1M  \n",
        "      <a href=\"jhu-usc.edu_COAD.HumanMethylation450.Level_2.10.8.0.tar.gz.md5\">jhu-usc.edu_COAD.HumanMethylation450.Level_2.10.8.0.tar.gz.md5</a>                                 2015-01-26 00:41   92   \n",
        "      <a href=\"jhu-usc.edu_COAD.HumanMethylation450.Level_2.10.8.0/\">jhu-usc.edu_COAD.HumanMethylation450.Level_2.10.8.0/</a>                                           2015-01-26 00:40    -   \n",
        "      <a href=\"jhu-usc.edu_COAD.HumanMethylation450.Level_2.11.5.0.tar.gz\">jhu-usc.edu_COAD.HumanMethylation450.Level_2.11.5.0.tar.gz</a>                                     2013-06-17 23:07   27M  \n",
        "      <a href=\"jhu-usc.edu_COAD.HumanMethylation450.Level_2.11.5.0.tar.gz.md5\">jhu-usc.edu_COAD.HumanMethylation450.Level_2.11.5.0.tar.gz.md5</a>                                 2013-06-17 23:07   92   \n",
        "      <a href=\"jhu-usc.edu_COAD.HumanMethylation450.Level_2.11.5.0/\">jhu-usc.edu_COAD.HumanMethylation450.Level_2.11.5.0/</a>                                           2013-06-17 23:07    -   \n",
        "      <a href=\"jhu-usc.edu_COAD.HumanMethylation450.Level_2.11.6.0.tar.gz\">jhu-usc.edu_COAD.HumanMethylation450.Level_2.11.6.0.tar.gz</a>                                     2013-07-12 18:13   27M  \n",
        "      <a href=\"jhu-usc.edu_COAD.HumanMethylation450.Level_2.11.6.0.tar.gz.md5\">jhu-usc.edu_COAD.HumanMethylation450.Level_2.11.6.0.tar.gz.md5</a>                                 2013-07-12 18:13   92   \n",
        "      <a href=\"jhu-usc.edu_COAD.HumanMethylation450.Level_2.11.6.0/\">jhu-usc.edu_COAD.HumanMethylation450.Level_2.11.6.0/</a>                                           2013-07-12 18:13    -   \n",
        "      <a href=\"jhu-usc.edu_COAD.HumanMethylation450.Level_2.11.7.0.tar.gz\">jhu-usc.edu_COAD.HumanMethylation450.Level_2.11.7.0.tar.gz</a>                                     2014-05-16 19:27   27M  \n",
        "      <a href=\"jhu-usc.edu_COAD.HumanMethylation450.Level_2.11.7.0.tar.gz.md5\">jhu-usc.edu_COAD.HumanMethylation450.Level_2.11.7.0.tar.gz.md5</a>                                 2014-05-16 19:27   92   \n",
        "      <a href=\"jhu-usc.edu_COAD.HumanMethylation450.Level_2.11.7.0/\">jhu-usc.edu_COAD.HumanMethylation450.Level_2.11.7.0/</a>                                           2014-05-16 19:26    -   \n",
        "      <a href=\"jhu-usc.edu_COAD.HumanMethylation450.Level_2.11.8.0.tar.gz\">jhu-usc.edu_COAD.HumanMethylation450.Level_2.11.8.0.tar.gz</a>                                     2015-01-26 00:33   27M  \n",
        "      <a href=\"jhu-usc.edu_COAD.HumanMethylation450.Level_2.11.8.0.tar.gz.md5\">jhu-usc.edu_COAD.HumanMethylation450.Level_2.11.8.0.tar.gz.md5</a>                                 2015-01-26 00:33   92   \n",
        "      <a href=\"jhu-usc.edu_COAD.HumanMethylation450.Level_2.11.8.0/\">jhu-usc.edu_COAD.HumanMethylation450.Level_2.11.8.0/</a>                                           2015-01-26 00:33    -   \n",
        "      <a href=\"jhu-usc.edu_COAD.HumanMethylation450.Level_2.12.5.0.tar.gz\">jhu-usc.edu_COAD.HumanMethylation450.Level_2.12.5.0.tar.gz</a>                                     2013-06-17 23:08   36M  \n",
        "      <a href=\"jhu-usc.edu_COAD.HumanMethylation450.Level_2.12.5.0.tar.gz.md5\">jhu-usc.edu_COAD.HumanMethylation450.Level_2.12.5.0.tar.gz.md5</a>                                 2013-06-17 23:08   92   \n",
        "      <a href=\"jhu-usc.edu_COAD.HumanMethylation450.Level_2.12.5.0/\">jhu-usc.edu_COAD.HumanMethylation450.Level_2.12.5.0/</a>                                           2013-06-17 23:07    -   \n",
        "      <a href=\"jhu-usc.edu_COAD.HumanMethylation450.Level_2.12.6.0.tar.gz\">jhu-usc.edu_COAD.HumanMethylation450.Level_2.12.6.0.tar.gz</a>                                     2013-07-12 18:13   36M  \n",
        "      <a href=\"jhu-usc.edu_COAD.HumanMethylation450.Level_2.12.6.0.tar.gz.md5\">jhu-usc.edu_COAD.HumanMethylation450.Level_2.12.6.0.tar.gz.md5</a>                                 2013-07-12 18:13   92   \n",
        "      <a href=\"jhu-usc.edu_COAD.HumanMethylation450.Level_2.12.6.0/\">jhu-usc.edu_COAD.HumanMethylation450.Level_2.12.6.0/</a>                                           2013-07-12 18:13    -   \n",
        "      <a href=\"jhu-usc.edu_COAD.HumanMethylation450.Level_2.12.7.0.tar.gz\">jhu-usc.edu_COAD.HumanMethylation450.Level_2.12.7.0.tar.gz</a>                                     2014-05-16 19:27   36M  \n",
        "      <a href=\"jhu-usc.edu_COAD.HumanMethylation450.Level_2.12.7.0.tar.gz.md5\">jhu-usc.edu_COAD.HumanMethylation450.Level_2.12.7.0.tar.gz.md5</a>                                 2014-05-16 19:27   92   \n",
        "      <a href=\"jhu-usc.edu_COAD.HumanMethylation450.Level_2.12.7.0/\">jhu-usc.edu_COAD.HumanMethylation450.Level_2.12.7.0/</a>                                           2014-05-16 19:27    -   \n",
        "      <a href=\"jhu-usc.edu_COAD.HumanMethylation450.Level_2.12.8.0.tar.gz\">jhu-usc.edu_COAD.HumanMethylation450.Level_2.12.8.0.tar.gz</a>                                     2015-01-26 00:33   36M  \n",
        "      <a href=\"jhu-usc.edu_COAD.HumanMethylation450.Level_2.12.8.0.tar.gz.md5\">jhu-usc.edu_COAD.HumanMethylation450.Level_2.12.8.0.tar.gz.md5</a>                                 2015-01-26 00:33   92   \n",
        "      <a href=\"jhu-usc.edu_COAD.HumanMethylation450.Level_2.12.8.0/\">jhu-usc.edu_COAD.HumanMethylation450.Level_2.12.8.0/</a>                                           2015-01-26 00:33    -   \n",
        "      <a href=\"jhu-usc.edu_COAD.HumanMethylation450.Level_2.13.6.0.tar.gz\">jhu-usc.edu_COAD.HumanMethylation450.Level_2.13.6.0.tar.gz</a>                                     2013-07-12 18:13  147M  \n",
        "      <a href=\"jhu-usc.edu_COAD.HumanMethylation450.Level_2.13.6.0.tar.gz.md5\">jhu-usc.edu_COAD.HumanMethylation450.Level_2.13.6.0.tar.gz.md5</a>                                 2013-07-12 18:13   92   \n",
        "      <a href=\"jhu-usc.edu_COAD.HumanMethylation450.Level_2.13.6.0/\">jhu-usc.edu_COAD.HumanMethylation450.Level_2.13.6.0/</a>                                           2013-07-12 18:12    -   \n",
        "      <a href=\"jhu-usc.edu_COAD.HumanMethylation450.Level_2.13.7.0.tar.gz\">jhu-usc.edu_COAD.HumanMethylation450.Level_2.13.7.0.tar.gz</a>                                     2014-05-16 19:26  147M  \n",
        "      <a href=\"jhu-usc.edu_COAD.HumanMethylation450.Level_2.13.7.0.tar.gz.md5\">jhu-usc.edu_COAD.HumanMethylation450.Level_2.13.7.0.tar.gz.md5</a>                                 2014-05-16 19:26   92   \n",
        "      <a href=\"jhu-usc.edu_COAD.HumanMethylation450.Level_2.13.7.0/\">jhu-usc.edu_COAD.HumanMethylation450.Level_2.13.7.0/</a>                                           2014-05-16 19:25    -   \n",
        "      <a href=\"jhu-usc.edu_COAD.HumanMethylation450.Level_2.13.8.0.tar.gz\">jhu-usc.edu_COAD.HumanMethylation450.Level_2.13.8.0.tar.gz</a>                                     2015-01-26 00:32  147M  \n",
        "      <a href=\"jhu-usc.edu_COAD.HumanMethylation450.Level_2.13.8.0.tar.gz.md5\">jhu-usc.edu_COAD.HumanMethylation450.Level_2.13.8.0.tar.gz.md5</a>                                 2015-01-26 00:32   92   \n",
        "      <a href=\"jhu-usc.edu_COAD.HumanMethylation450.Level_2.13.8.0/\">jhu-usc.edu_COAD.HumanMethylation450.Level_2.13.8.0/</a>                                           2015-01-26 00:31    -   \n",
        "      <a href=\"jhu-usc.edu_COAD.HumanMethylation450.Level_2.14.7.0.tar.gz\">jhu-usc.edu_COAD.HumanMethylation450.Level_2.14.7.0.tar.gz</a>                                     2014-05-16 19:26  110M  \n",
        "      <a href=\"jhu-usc.edu_COAD.HumanMethylation450.Level_2.14.7.0.tar.gz.md5\">jhu-usc.edu_COAD.HumanMethylation450.Level_2.14.7.0.tar.gz.md5</a>                                 2014-05-16 19:26   92   \n",
        "      <a href=\"jhu-usc.edu_COAD.HumanMethylation450.Level_2.14.7.0/\">jhu-usc.edu_COAD.HumanMethylation450.Level_2.14.7.0/</a>                                           2014-05-16 19:26    -   \n",
        "      <a href=\"jhu-usc.edu_COAD.HumanMethylation450.Level_2.14.8.0.tar.gz\">jhu-usc.edu_COAD.HumanMethylation450.Level_2.14.8.0.tar.gz</a>                                     2015-01-26 00:33  110M  \n",
        "      <a href=\"jhu-usc.edu_COAD.HumanMethylation450.Level_2.14.8.0.tar.gz.md5\">jhu-usc.edu_COAD.HumanMethylation450.Level_2.14.8.0.tar.gz.md5</a>                                 2015-01-26 00:33   92   \n",
        "      <a href=\"jhu-usc.edu_COAD.HumanMethylation450.Level_2.14.8.0/\">jhu-usc.edu_COAD.HumanMethylation450.Level_2.14.8.0/</a>                                           2015-01-26 00:32    -   \n",
        "      <a href=\"jhu-usc.edu_COAD.HumanMethylation450.Level_2.15.8.0.tar.gz\">jhu-usc.edu_COAD.HumanMethylation450.Level_2.15.8.0.tar.gz</a>                                     2015-01-26 00:31  128M  \n",
        "      <a href=\"jhu-usc.edu_COAD.HumanMethylation450.Level_2.15.8.0.tar.gz.md5\">jhu-usc.edu_COAD.HumanMethylation450.Level_2.15.8.0.tar.gz.md5</a>                                 2015-01-26 00:31   92   \n",
        "      <a href=\"jhu-usc.edu_COAD.HumanMethylation450.Level_2.15.8.0/\">jhu-usc.edu_COAD.HumanMethylation450.Level_2.15.8.0/</a>                                           2015-01-26 00:30    -   \n",
        "      <a href=\"jhu-usc.edu_COAD.HumanMethylation450.Level_2.2.0.0.tar.gz\">jhu-usc.edu_COAD.HumanMethylation450.Level_2.2.0.0.tar.gz</a>                                      2012-01-30 17:14  607M  \n",
        "      <a href=\"jhu-usc.edu_COAD.HumanMethylation450.Level_2.2.0.0.tar.gz.md5\">jhu-usc.edu_COAD.HumanMethylation450.Level_2.2.0.0.tar.gz.md5</a>                                  2012-01-30 17:14   91   \n",
        "      <a href=\"jhu-usc.edu_COAD.HumanMethylation450.Level_2.2.1.0.tar.gz\">jhu-usc.edu_COAD.HumanMethylation450.Level_2.2.1.0.tar.gz</a>                                      2012-02-01 22:00  607M  \n",
        "      <a href=\"jhu-usc.edu_COAD.HumanMethylation450.Level_2.2.1.0.tar.gz.md5\">jhu-usc.edu_COAD.HumanMethylation450.Level_2.2.1.0.tar.gz.md5</a>                                  2012-02-01 22:00   91   \n",
        "      <a href=\"jhu-usc.edu_COAD.HumanMethylation450.Level_2.2.2.0.tar.gz\">jhu-usc.edu_COAD.HumanMethylation450.Level_2.2.2.0.tar.gz</a>                                      2012-02-29 05:12  394M  \n",
        "      <a href=\"jhu-usc.edu_COAD.HumanMethylation450.Level_2.2.2.0.tar.gz.md5\">jhu-usc.edu_COAD.HumanMethylation450.Level_2.2.2.0.tar.gz.md5</a>                                  2012-02-29 05:12   91   \n",
        "      <a href=\"jhu-usc.edu_COAD.HumanMethylation450.Level_2.2.2.0/\">jhu-usc.edu_COAD.HumanMethylation450.Level_2.2.2.0/</a>                                            2012-02-29 05:10    -   \n",
        "      <a href=\"jhu-usc.edu_COAD.HumanMethylation450.Level_2.2.3.0.tar.gz\">jhu-usc.edu_COAD.HumanMethylation450.Level_2.2.3.0.tar.gz</a>                                      2012-10-03 19:37  412M  \n",
        "      <a href=\"jhu-usc.edu_COAD.HumanMethylation450.Level_2.2.3.0.tar.gz.md5\">jhu-usc.edu_COAD.HumanMethylation450.Level_2.2.3.0.tar.gz.md5</a>                                  2012-10-03 19:37   91   \n",
        "      <a href=\"jhu-usc.edu_COAD.HumanMethylation450.Level_2.2.3.0/\">jhu-usc.edu_COAD.HumanMethylation450.Level_2.2.3.0/</a>                                            2012-10-03 19:35    -   \n",
        "      <a href=\"jhu-usc.edu_COAD.HumanMethylation450.Level_2.2.4.0.tar.gz\">jhu-usc.edu_COAD.HumanMethylation450.Level_2.2.4.0.tar.gz</a>                                      2012-10-30 03:03  412M  \n",
        "      <a href=\"jhu-usc.edu_COAD.HumanMethylation450.Level_2.2.4.0.tar.gz.md5\">jhu-usc.edu_COAD.HumanMethylation450.Level_2.2.4.0.tar.gz.md5</a>                                  2012-10-30 03:03   91   \n",
        "      <a href=\"jhu-usc.edu_COAD.HumanMethylation450.Level_2.2.4.0/\">jhu-usc.edu_COAD.HumanMethylation450.Level_2.2.4.0/</a>                                            2012-10-30 03:00    -   \n",
        "      <a href=\"jhu-usc.edu_COAD.HumanMethylation450.Level_2.2.5.0.tar.gz\">jhu-usc.edu_COAD.HumanMethylation450.Level_2.2.5.0.tar.gz</a>                                      2013-06-17 22:56  431M  \n",
        "      <a href=\"jhu-usc.edu_COAD.HumanMethylation450.Level_2.2.5.0.tar.gz.md5\">jhu-usc.edu_COAD.HumanMethylation450.Level_2.2.5.0.tar.gz.md5</a>                                  2013-06-17 22:56   91   \n",
        "      <a href=\"jhu-usc.edu_COAD.HumanMethylation450.Level_2.2.5.0/\">jhu-usc.edu_COAD.HumanMethylation450.Level_2.2.5.0/</a>                                            2013-06-17 22:54    -   \n",
        "      <a href=\"jhu-usc.edu_COAD.HumanMethylation450.Level_2.2.6.0.tar.gz\">jhu-usc.edu_COAD.HumanMethylation450.Level_2.2.6.0.tar.gz</a>                                      2013-07-12 18:21  431M  \n",
        "      <a href=\"jhu-usc.edu_COAD.HumanMethylation450.Level_2.2.6.0.tar.gz.md5\">jhu-usc.edu_COAD.HumanMethylation450.Level_2.2.6.0.tar.gz.md5</a>                                  2013-07-12 18:21   91   \n",
        "      <a href=\"jhu-usc.edu_COAD.HumanMethylation450.Level_2.2.6.0/\">jhu-usc.edu_COAD.HumanMethylation450.Level_2.2.6.0/</a>                                            2013-07-12 18:18    -   \n",
        "      <a href=\"jhu-usc.edu_COAD.HumanMethylation450.Level_2.2.7.0.tar.gz\">jhu-usc.edu_COAD.HumanMethylation450.Level_2.2.7.0.tar.gz</a>                                      2014-05-16 19:10  431M  \n",
        "      <a href=\"jhu-usc.edu_COAD.HumanMethylation450.Level_2.2.7.0.tar.gz.md5\">jhu-usc.edu_COAD.HumanMethylation450.Level_2.2.7.0.tar.gz.md5</a>                                  2014-05-16 19:10   91   \n",
        "      <a href=\"jhu-usc.edu_COAD.HumanMethylation450.Level_2.2.7.0/\">jhu-usc.edu_COAD.HumanMethylation450.Level_2.2.7.0/</a>                                            2014-05-16 19:07    -   \n",
        "      <a href=\"jhu-usc.edu_COAD.HumanMethylation450.Level_2.2.8.0.tar.gz\">jhu-usc.edu_COAD.HumanMethylation450.Level_2.2.8.0.tar.gz</a>                                      2015-01-26 00:40  431M  \n",
        "      <a href=\"jhu-usc.edu_COAD.HumanMethylation450.Level_2.2.8.0.tar.gz.md5\">jhu-usc.edu_COAD.HumanMethylation450.Level_2.2.8.0.tar.gz.md5</a>                                  2015-01-26 00:40   91   \n",
        "      <a href=\"jhu-usc.edu_COAD.HumanMethylation450.Level_2.2.8.0/\">jhu-usc.edu_COAD.HumanMethylation450.Level_2.2.8.0/</a>                                            2015-01-26 00:38    -   \n",
        "      <a href=\"jhu-usc.edu_COAD.HumanMethylation450.Level_2.3.0.0.tar.gz\">jhu-usc.edu_COAD.HumanMethylation450.Level_2.3.0.0.tar.gz</a>                                      2012-01-30 17:07  329M  \n",
        "      <a href=\"jhu-usc.edu_COAD.HumanMethylation450.Level_2.3.0.0.tar.gz.md5\">jhu-usc.edu_COAD.HumanMethylation450.Level_2.3.0.0.tar.gz.md5</a>                                  2012-01-30 17:07   91   \n",
        "      <a href=\"jhu-usc.edu_COAD.HumanMethylation450.Level_2.3.1.0.tar.gz\">jhu-usc.edu_COAD.HumanMethylation450.Level_2.3.1.0.tar.gz</a>                                      2012-02-01 21:56  329M  \n",
        "      <a href=\"jhu-usc.edu_COAD.HumanMethylation450.Level_2.3.1.0.tar.gz.md5\">jhu-usc.edu_COAD.HumanMethylation450.Level_2.3.1.0.tar.gz.md5</a>                                  2012-02-01 21:56   91   \n",
        "      <a href=\"jhu-usc.edu_COAD.HumanMethylation450.Level_2.3.2.0.tar.gz\">jhu-usc.edu_COAD.HumanMethylation450.Level_2.3.2.0.tar.gz</a>                                      2012-02-29 05:09  597M  \n",
        "      <a href=\"jhu-usc.edu_COAD.HumanMethylation450.Level_2.3.2.0.tar.gz.md5\">jhu-usc.edu_COAD.HumanMethylation450.Level_2.3.2.0.tar.gz.md5</a>                                  2012-02-29 05:09   91   \n",
        "      <a href=\"jhu-usc.edu_COAD.HumanMethylation450.Level_2.3.2.0/\">jhu-usc.edu_COAD.HumanMethylation450.Level_2.3.2.0/</a>                                            2012-02-29 05:06    -   \n",
        "      <a href=\"jhu-usc.edu_COAD.HumanMethylation450.Level_2.3.3.0.tar.gz\">jhu-usc.edu_COAD.HumanMethylation450.Level_2.3.3.0.tar.gz</a>                                      2012-10-03 19:35  597M  \n",
        "      <a href=\"jhu-usc.edu_COAD.HumanMethylation450.Level_2.3.3.0.tar.gz.md5\">jhu-usc.edu_COAD.HumanMethylation450.Level_2.3.3.0.tar.gz.md5</a>                                  2012-10-03 19:35   91   \n",
        "      <a href=\"jhu-usc.edu_COAD.HumanMethylation450.Level_2.3.3.0/\">jhu-usc.edu_COAD.HumanMethylation450.Level_2.3.3.0/</a>                                            2012-10-03 19:32    -   \n",
        "      <a href=\"jhu-usc.edu_COAD.HumanMethylation450.Level_2.3.4.0.tar.gz\">jhu-usc.edu_COAD.HumanMethylation450.Level_2.3.4.0.tar.gz</a>                                      2012-10-30 02:59  597M  \n",
        "      <a href=\"jhu-usc.edu_COAD.HumanMethylation450.Level_2.3.4.0.tar.gz.md5\">jhu-usc.edu_COAD.HumanMethylation450.Level_2.3.4.0.tar.gz.md5</a>                                  2012-10-30 02:59   91   \n",
        "      <a href=\"jhu-usc.edu_COAD.HumanMethylation450.Level_2.3.4.0/\">jhu-usc.edu_COAD.HumanMethylation450.Level_2.3.4.0/</a>                                            2012-10-30 02:55    -   \n",
        "      <a href=\"jhu-usc.edu_COAD.HumanMethylation450.Level_2.3.5.0.tar.gz\">jhu-usc.edu_COAD.HumanMethylation450.Level_2.3.5.0.tar.gz</a>                                      2013-06-17 22:53  606M  \n",
        "      <a href=\"jhu-usc.edu_COAD.HumanMethylation450.Level_2.3.5.0.tar.gz.md5\">jhu-usc.edu_COAD.HumanMethylation450.Level_2.3.5.0.tar.gz.md5</a>                                  2013-06-17 22:53   91   \n",
        "      <a href=\"jhu-usc.edu_COAD.HumanMethylation450.Level_2.3.5.0/\">jhu-usc.edu_COAD.HumanMethylation450.Level_2.3.5.0/</a>                                            2013-06-17 22:50    -   \n",
        "      <a href=\"jhu-usc.edu_COAD.HumanMethylation450.Level_2.3.6.0.tar.gz\">jhu-usc.edu_COAD.HumanMethylation450.Level_2.3.6.0.tar.gz</a>                                      2013-07-12 18:18  606M  \n",
        "      <a href=\"jhu-usc.edu_COAD.HumanMethylation450.Level_2.3.6.0.tar.gz.md5\">jhu-usc.edu_COAD.HumanMethylation450.Level_2.3.6.0.tar.gz.md5</a>                                  2013-07-12 18:18   91   \n",
        "      <a href=\"jhu-usc.edu_COAD.HumanMethylation450.Level_2.3.6.0/\">jhu-usc.edu_COAD.HumanMethylation450.Level_2.3.6.0/</a>                                            2013-07-12 18:14    -   \n",
        "      <a href=\"jhu-usc.edu_COAD.HumanMethylation450.Level_2.3.7.0.tar.gz\">jhu-usc.edu_COAD.HumanMethylation450.Level_2.3.7.0.tar.gz</a>                                      2014-05-16 19:07  607M  \n",
        "      <a href=\"jhu-usc.edu_COAD.HumanMethylation450.Level_2.3.7.0.tar.gz.md5\">jhu-usc.edu_COAD.HumanMethylation450.Level_2.3.7.0.tar.gz.md5</a>                                  2014-05-16 19:07   91   \n",
        "      <a href=\"jhu-usc.edu_COAD.HumanMethylation450.Level_2.3.7.0/\">jhu-usc.edu_COAD.HumanMethylation450.Level_2.3.7.0/</a>                                            2014-05-16 19:03    -   \n",
        "      <a href=\"jhu-usc.edu_COAD.HumanMethylation450.Level_2.3.8.0.tar.gz\">jhu-usc.edu_COAD.HumanMethylation450.Level_2.3.8.0.tar.gz</a>                                      2015-01-26 00:37  607M  \n",
        "      <a href=\"jhu-usc.edu_COAD.HumanMethylation450.Level_2.3.8.0.tar.gz.md5\">jhu-usc.edu_COAD.HumanMethylation450.Level_2.3.8.0.tar.gz.md5</a>                                  2015-01-26 00:37   91   \n",
        "      <a href=\"jhu-usc.edu_COAD.HumanMethylation450.Level_2.3.8.0/\">jhu-usc.edu_COAD.HumanMethylation450.Level_2.3.8.0/</a>                                            2015-01-26 00:34    -   \n",
        "      <a href=\"jhu-usc.edu_COAD.HumanMethylation450.Level_2.4.0.0.tar.gz\">jhu-usc.edu_COAD.HumanMethylation450.Level_2.4.0.0.tar.gz</a>                                      2012-01-30 17:24  119M  \n",
        "      <a href=\"jhu-usc.edu_COAD.HumanMethylation450.Level_2.4.0.0.tar.gz.md5\">jhu-usc.edu_COAD.HumanMethylation450.Level_2.4.0.0.tar.gz.md5</a>                                  2012-01-30 17:24   91   \n",
        "      <a href=\"jhu-usc.edu_COAD.HumanMethylation450.Level_2.4.1.0.tar.gz\">jhu-usc.edu_COAD.HumanMethylation450.Level_2.4.1.0.tar.gz</a>                                      2012-02-01 22:10  119M  \n",
        "      <a href=\"jhu-usc.edu_COAD.HumanMethylation450.Level_2.4.1.0.tar.gz.md5\">jhu-usc.edu_COAD.HumanMethylation450.Level_2.4.1.0.tar.gz.md5</a>                                  2012-02-01 22:10   91   \n",
        "      <a href=\"jhu-usc.edu_COAD.HumanMethylation450.Level_2.4.2.0.tar.gz\">jhu-usc.edu_COAD.HumanMethylation450.Level_2.4.2.0.tar.gz</a>                                      2012-02-29 05:23  329M  \n",
        "      <a href=\"jhu-usc.edu_COAD.HumanMethylation450.Level_2.4.2.0.tar.gz.md5\">jhu-usc.edu_COAD.HumanMethylation450.Level_2.4.2.0.tar.gz.md5</a>                                  2012-02-29 05:23   91   \n",
        "      <a href=\"jhu-usc.edu_COAD.HumanMethylation450.Level_2.4.2.0/\">jhu-usc.edu_COAD.HumanMethylation450.Level_2.4.2.0/</a>                                            2012-02-29 05:21    -   \n",
        "      <a href=\"jhu-usc.edu_COAD.HumanMethylation450.Level_2.4.3.0.tar.gz\">jhu-usc.edu_COAD.HumanMethylation450.Level_2.4.3.0.tar.gz</a>                                      2012-10-03 19:47  329M  \n",
        "      <a href=\"jhu-usc.edu_COAD.HumanMethylation450.Level_2.4.3.0.tar.gz.md5\">jhu-usc.edu_COAD.HumanMethylation450.Level_2.4.3.0.tar.gz.md5</a>                                  2012-10-03 19:47   91   \n",
        "      <a href=\"jhu-usc.edu_COAD.HumanMethylation450.Level_2.4.3.0/\">jhu-usc.edu_COAD.HumanMethylation450.Level_2.4.3.0/</a>                                            2012-10-03 19:45    -   \n",
        "      <a href=\"jhu-usc.edu_COAD.HumanMethylation450.Level_2.4.4.0.tar.gz\">jhu-usc.edu_COAD.HumanMethylation450.Level_2.4.4.0.tar.gz</a>                                      2012-10-30 03:15  329M  \n",
        "      <a href=\"jhu-usc.edu_COAD.HumanMethylation450.Level_2.4.4.0.tar.gz.md5\">jhu-usc.edu_COAD.HumanMethylation450.Level_2.4.4.0.tar.gz.md5</a>                                  2012-10-30 03:15   91   \n",
        "      <a href=\"jhu-usc.edu_COAD.HumanMethylation450.Level_2.4.4.0/\">jhu-usc.edu_COAD.HumanMethylation450.Level_2.4.4.0/</a>                                            2012-10-30 03:14    -   \n",
        "      <a href=\"jhu-usc.edu_COAD.HumanMethylation450.Level_2.4.5.0.tar.gz\">jhu-usc.edu_COAD.HumanMethylation450.Level_2.4.5.0.tar.gz</a>                                      2013-06-17 23:05  347M  \n",
        "      <a href=\"jhu-usc.edu_COAD.HumanMethylation450.Level_2.4.5.0.tar.gz.md5\">jhu-usc.edu_COAD.HumanMethylation450.Level_2.4.5.0.tar.gz.md5</a>                                  2013-06-17 23:05   91   \n",
        "      <a href=\"jhu-usc.edu_COAD.HumanMethylation450.Level_2.4.5.0/\">jhu-usc.edu_COAD.HumanMethylation450.Level_2.4.5.0/</a>                                            2013-06-17 23:03    -   \n",
        "      <a href=\"jhu-usc.edu_COAD.HumanMethylation450.Level_2.4.6.0.tar.gz\">jhu-usc.edu_COAD.HumanMethylation450.Level_2.4.6.0.tar.gz</a>                                      2013-07-12 18:32  347M  \n",
        "      <a href=\"jhu-usc.edu_COAD.HumanMethylation450.Level_2.4.6.0.tar.gz.md5\">jhu-usc.edu_COAD.HumanMethylation450.Level_2.4.6.0.tar.gz.md5</a>                                  2013-07-12 18:33   91   \n",
        "      <a href=\"jhu-usc.edu_COAD.HumanMethylation450.Level_2.4.6.0/\">jhu-usc.edu_COAD.HumanMethylation450.Level_2.4.6.0/</a>                                            2013-07-12 18:30    -   \n",
        "      <a href=\"jhu-usc.edu_COAD.HumanMethylation450.Level_2.4.7.0.tar.gz\">jhu-usc.edu_COAD.HumanMethylation450.Level_2.4.7.0.tar.gz</a>                                      2014-05-16 19:22  347M  \n",
        "      <a href=\"jhu-usc.edu_COAD.HumanMethylation450.Level_2.4.7.0.tar.gz.md5\">jhu-usc.edu_COAD.HumanMethylation450.Level_2.4.7.0.tar.gz.md5</a>                                  2014-05-16 19:22   91   \n",
        "      <a href=\"jhu-usc.edu_COAD.HumanMethylation450.Level_2.4.7.0/\">jhu-usc.edu_COAD.HumanMethylation450.Level_2.4.7.0/</a>                                            2014-05-16 19:20    -   \n",
        "      <a href=\"jhu-usc.edu_COAD.HumanMethylation450.Level_2.4.8.0.tar.gz\">jhu-usc.edu_COAD.HumanMethylation450.Level_2.4.8.0.tar.gz</a>                                      2015-01-26 00:51  347M  \n",
        "      <a href=\"jhu-usc.edu_COAD.HumanMethylation450.Level_2.4.8.0.tar.gz.md5\">jhu-usc.edu_COAD.HumanMethylation450.Level_2.4.8.0.tar.gz.md5</a>                                  2015-01-26 00:51   91   \n",
        "      <a href=\"jhu-usc.edu_COAD.HumanMethylation450.Level_2.4.8.0/\">jhu-usc.edu_COAD.HumanMethylation450.Level_2.4.8.0/</a>                                            2015-01-26 00:49    -   \n",
        "      <a href=\"jhu-usc.edu_COAD.HumanMethylation450.Level_2.5.0.0.tar.gz\">jhu-usc.edu_COAD.HumanMethylation450.Level_2.5.0.0.tar.gz</a>                                      2012-01-30 17:23  287M  \n",
        "      <a href=\"jhu-usc.edu_COAD.HumanMethylation450.Level_2.5.0.0.tar.gz.md5\">jhu-usc.edu_COAD.HumanMethylation450.Level_2.5.0.0.tar.gz.md5</a>                                  2012-01-30 17:23   91   \n",
        "      <a href=\"jhu-usc.edu_COAD.HumanMethylation450.Level_2.5.1.0.tar.gz\">jhu-usc.edu_COAD.HumanMethylation450.Level_2.5.1.0.tar.gz</a>                                      2012-02-01 22:08  431M  \n",
        "      <a href=\"jhu-usc.edu_COAD.HumanMethylation450.Level_2.5.1.0.tar.gz.md5\">jhu-usc.edu_COAD.HumanMethylation450.Level_2.5.1.0.tar.gz.md5</a>                                  2012-02-01 22:09   91   \n",
        "      <a href=\"jhu-usc.edu_COAD.HumanMethylation450.Level_2.5.2.0.tar.gz\">jhu-usc.edu_COAD.HumanMethylation450.Level_2.5.2.0.tar.gz</a>                                      2012-02-29 05:21  119M  \n",
        "      <a href=\"jhu-usc.edu_COAD.HumanMethylation450.Level_2.5.2.0.tar.gz.md5\">jhu-usc.edu_COAD.HumanMethylation450.Level_2.5.2.0.tar.gz.md5</a>                                  2012-02-29 05:21   91   \n",
        "      <a href=\"jhu-usc.edu_COAD.HumanMethylation450.Level_2.5.2.0/\">jhu-usc.edu_COAD.HumanMethylation450.Level_2.5.2.0/</a>                                            2012-02-29 05:20    -   \n",
        "      <a href=\"jhu-usc.edu_COAD.HumanMethylation450.Level_2.5.3.0.tar.gz\">jhu-usc.edu_COAD.HumanMethylation450.Level_2.5.3.0.tar.gz</a>                                      2012-10-03 19:45  119M  \n",
        "      <a href=\"jhu-usc.edu_COAD.HumanMethylation450.Level_2.5.3.0.tar.gz.md5\">jhu-usc.edu_COAD.HumanMethylation450.Level_2.5.3.0.tar.gz.md5</a>                                  2012-10-03 19:45   91   \n",
        "      <a href=\"jhu-usc.edu_COAD.HumanMethylation450.Level_2.5.3.0/\">jhu-usc.edu_COAD.HumanMethylation450.Level_2.5.3.0/</a>                                            2012-10-03 19:44    -   \n",
        "      <a href=\"jhu-usc.edu_COAD.HumanMethylation450.Level_2.5.4.0.tar.gz\">jhu-usc.edu_COAD.HumanMethylation450.Level_2.5.4.0.tar.gz</a>                                      2012-10-30 03:13  119M  \n",
        "      <a href=\"jhu-usc.edu_COAD.HumanMethylation450.Level_2.5.4.0.tar.gz.md5\">jhu-usc.edu_COAD.HumanMethylation450.Level_2.5.4.0.tar.gz.md5</a>                                  2012-10-30 03:13   91   \n",
        "      <a href=\"jhu-usc.edu_COAD.HumanMethylation450.Level_2.5.4.0/\">jhu-usc.edu_COAD.HumanMethylation450.Level_2.5.4.0/</a>                                            2012-10-30 03:13    -   \n",
        "      <a href=\"jhu-usc.edu_COAD.HumanMethylation450.Level_2.5.5.0.tar.gz\">jhu-usc.edu_COAD.HumanMethylation450.Level_2.5.5.0.tar.gz</a>                                      2013-06-17 23:03  119M  \n",
        "      <a href=\"jhu-usc.edu_COAD.HumanMethylation450.Level_2.5.5.0.tar.gz.md5\">jhu-usc.edu_COAD.HumanMethylation450.Level_2.5.5.0.tar.gz.md5</a>                                  2013-06-17 23:03   91   \n",
        "      <a href=\"jhu-usc.edu_COAD.HumanMethylation450.Level_2.5.5.0/\">jhu-usc.edu_COAD.HumanMethylation450.Level_2.5.5.0/</a>                                            2013-06-17 23:02    -   \n",
        "      <a href=\"jhu-usc.edu_COAD.HumanMethylation450.Level_2.5.6.0.tar.gz\">jhu-usc.edu_COAD.HumanMethylation450.Level_2.5.6.0.tar.gz</a>                                      2013-07-12 18:30  119M  \n",
        "      <a href=\"jhu-usc.edu_COAD.HumanMethylation450.Level_2.5.6.0.tar.gz.md5\">jhu-usc.edu_COAD.HumanMethylation450.Level_2.5.6.0.tar.gz.md5</a>                                  2013-07-12 18:30   91   \n",
        "      <a href=\"jhu-usc.edu_COAD.HumanMethylation450.Level_2.5.6.0/\">jhu-usc.edu_COAD.HumanMethylation450.Level_2.5.6.0/</a>                                            2013-07-12 18:29    -   \n",
        "      <a href=\"jhu-usc.edu_COAD.HumanMethylation450.Level_2.5.7.0.tar.gz\">jhu-usc.edu_COAD.HumanMethylation450.Level_2.5.7.0.tar.gz</a>                                      2014-05-16 19:19  119M  \n",
        "      <a href=\"jhu-usc.edu_COAD.HumanMethylation450.Level_2.5.7.0.tar.gz.md5\">jhu-usc.edu_COAD.HumanMethylation450.Level_2.5.7.0.tar.gz.md5</a>                                  2014-05-16 19:19   91   \n",
        "      <a href=\"jhu-usc.edu_COAD.HumanMethylation450.Level_2.5.7.0/\">jhu-usc.edu_COAD.HumanMethylation450.Level_2.5.7.0/</a>                                            2014-05-16 19:19    -   \n",
        "      <a href=\"jhu-usc.edu_COAD.HumanMethylation450.Level_2.5.8.0.tar.gz\">jhu-usc.edu_COAD.HumanMethylation450.Level_2.5.8.0.tar.gz</a>                                      2015-01-26 00:49  119M  \n",
        "      <a href=\"jhu-usc.edu_COAD.HumanMethylation450.Level_2.5.8.0.tar.gz.md5\">jhu-usc.edu_COAD.HumanMethylation450.Level_2.5.8.0.tar.gz.md5</a>                                  2015-01-26 00:49   91   \n",
        "      <a href=\"jhu-usc.edu_COAD.HumanMethylation450.Level_2.5.8.0/\">jhu-usc.edu_COAD.HumanMethylation450.Level_2.5.8.0/</a>                                            2015-01-26 00:48    -   \n",
        "      <a href=\"jhu-usc.edu_COAD.HumanMethylation450.Level_2.6.1.0.tar.gz\">jhu-usc.edu_COAD.HumanMethylation450.Level_2.6.1.0.tar.gz</a>                                      2012-02-01 22:06  287M  \n",
        "      <a href=\"jhu-usc.edu_COAD.HumanMethylation450.Level_2.6.1.0.tar.gz.md5\">jhu-usc.edu_COAD.HumanMethylation450.Level_2.6.1.0.tar.gz.md5</a>                                  2012-02-01 22:06   91   \n",
        "      <a href=\"jhu-usc.edu_COAD.HumanMethylation450.Level_2.6.2.0.tar.gz\">jhu-usc.edu_COAD.HumanMethylation450.Level_2.6.2.0.tar.gz</a>                                      2012-02-29 05:20  431M  \n",
        "      <a href=\"jhu-usc.edu_COAD.HumanMethylation450.Level_2.6.2.0.tar.gz.md5\">jhu-usc.edu_COAD.HumanMethylation450.Level_2.6.2.0.tar.gz.md5</a>                                  2012-02-29 05:20   91   \n",
        "      <a href=\"jhu-usc.edu_COAD.HumanMethylation450.Level_2.6.2.0/\">jhu-usc.edu_COAD.HumanMethylation450.Level_2.6.2.0/</a>                                            2012-02-29 05:17    -   \n",
        "      <a href=\"jhu-usc.edu_COAD.HumanMethylation450.Level_2.6.3.0.tar.gz\">jhu-usc.edu_COAD.HumanMethylation450.Level_2.6.3.0.tar.gz</a>                                      2012-10-03 19:44  431M  \n",
        "      <a href=\"jhu-usc.edu_COAD.HumanMethylation450.Level_2.6.3.0.tar.gz.md5\">jhu-usc.edu_COAD.HumanMethylation450.Level_2.6.3.0.tar.gz.md5</a>                                  2012-10-03 19:44   91   \n",
        "      <a href=\"jhu-usc.edu_COAD.HumanMethylation450.Level_2.6.3.0/\">jhu-usc.edu_COAD.HumanMethylation450.Level_2.6.3.0/</a>                                            2012-10-03 19:42    -   \n",
        "      <a href=\"jhu-usc.edu_COAD.HumanMethylation450.Level_2.6.4.0.tar.gz\">jhu-usc.edu_COAD.HumanMethylation450.Level_2.6.4.0.tar.gz</a>                                      2012-10-30 03:12  431M  \n",
        "      <a href=\"jhu-usc.edu_COAD.HumanMethylation450.Level_2.6.4.0.tar.gz.md5\">jhu-usc.edu_COAD.HumanMethylation450.Level_2.6.4.0.tar.gz.md5</a>                                  2012-10-30 03:12   91   \n",
        "      <a href=\"jhu-usc.edu_COAD.HumanMethylation450.Level_2.6.4.0/\">jhu-usc.edu_COAD.HumanMethylation450.Level_2.6.4.0/</a>                                            2012-10-30 03:10    -   \n",
        "      <a href=\"jhu-usc.edu_COAD.HumanMethylation450.Level_2.6.5.0.tar.gz\">jhu-usc.edu_COAD.HumanMethylation450.Level_2.6.5.0.tar.gz</a>                                      2013-06-17 23:02  431M  \n",
        "      <a href=\"jhu-usc.edu_COAD.HumanMethylation450.Level_2.6.5.0.tar.gz.md5\">jhu-usc.edu_COAD.HumanMethylation450.Level_2.6.5.0.tar.gz.md5</a>                                  2013-06-17 23:02   91   \n",
        "      <a href=\"jhu-usc.edu_COAD.HumanMethylation450.Level_2.6.5.0/\">jhu-usc.edu_COAD.HumanMethylation450.Level_2.6.5.0/</a>                                            2013-06-17 23:00    -   \n",
        "      <a href=\"jhu-usc.edu_COAD.HumanMethylation450.Level_2.6.6.0.tar.gz\">jhu-usc.edu_COAD.HumanMethylation450.Level_2.6.6.0.tar.gz</a>                                      2013-07-12 18:29  467M  \n",
        "      <a href=\"jhu-usc.edu_COAD.HumanMethylation450.Level_2.6.6.0.tar.gz.md5\">jhu-usc.edu_COAD.HumanMethylation450.Level_2.6.6.0.tar.gz.md5</a>                                  2013-07-12 18:29   91   \n",
        "      <a href=\"jhu-usc.edu_COAD.HumanMethylation450.Level_2.6.6.0/\">jhu-usc.edu_COAD.HumanMethylation450.Level_2.6.6.0/</a>                                            2013-07-12 18:26    -   \n",
        "      <a href=\"jhu-usc.edu_COAD.HumanMethylation450.Level_2.6.7.0.tar.gz\">jhu-usc.edu_COAD.HumanMethylation450.Level_2.6.7.0.tar.gz</a>                                      2014-05-16 19:18  468M  \n",
        "      <a href=\"jhu-usc.edu_COAD.HumanMethylation450.Level_2.6.7.0.tar.gz.md5\">jhu-usc.edu_COAD.HumanMethylation450.Level_2.6.7.0.tar.gz.md5</a>                                  2014-05-16 19:18   91   \n",
        "      <a href=\"jhu-usc.edu_COAD.HumanMethylation450.Level_2.6.7.0/\">jhu-usc.edu_COAD.HumanMethylation450.Level_2.6.7.0/</a>                                            2014-05-16 19:15    -   \n",
        "      <a href=\"jhu-usc.edu_COAD.HumanMethylation450.Level_2.6.8.0.tar.gz\">jhu-usc.edu_COAD.HumanMethylation450.Level_2.6.8.0.tar.gz</a>                                      2015-01-26 00:48  468M  \n",
        "      <a href=\"jhu-usc.edu_COAD.HumanMethylation450.Level_2.6.8.0.tar.gz.md5\">jhu-usc.edu_COAD.HumanMethylation450.Level_2.6.8.0.tar.gz.md5</a>                                  2015-01-26 00:48   91   \n",
        "      <a href=\"jhu-usc.edu_COAD.HumanMethylation450.Level_2.6.8.0/\">jhu-usc.edu_COAD.HumanMethylation450.Level_2.6.8.0/</a>                                            2015-01-26 00:45    -   \n",
        "      <a href=\"jhu-usc.edu_COAD.HumanMethylation450.Level_2.7.1.0.tar.gz\">jhu-usc.edu_COAD.HumanMethylation450.Level_2.7.1.0.tar.gz</a>                                      2012-02-01 22:04   18M  \n",
        "      <a href=\"jhu-usc.edu_COAD.HumanMethylation450.Level_2.7.1.0.tar.gz.md5\">jhu-usc.edu_COAD.HumanMethylation450.Level_2.7.1.0.tar.gz.md5</a>                                  2012-02-01 22:04   91   \n",
        "      <a href=\"jhu-usc.edu_COAD.HumanMethylation450.Level_2.7.2.0.tar.gz\">jhu-usc.edu_COAD.HumanMethylation450.Level_2.7.2.0.tar.gz</a>                                      2012-02-29 05:17  120M  \n",
        "      <a href=\"jhu-usc.edu_COAD.HumanMethylation450.Level_2.7.2.0.tar.gz.md5\">jhu-usc.edu_COAD.HumanMethylation450.Level_2.7.2.0.tar.gz.md5</a>                                  2012-02-29 05:17   91   \n",
        "      <a href=\"jhu-usc.edu_COAD.HumanMethylation450.Level_2.7.2.0/\">jhu-usc.edu_COAD.HumanMethylation450.Level_2.7.2.0/</a>                                            2012-02-29 05:16    -   \n",
        "      <a href=\"jhu-usc.edu_COAD.HumanMethylation450.Level_2.7.3.0.tar.gz\">jhu-usc.edu_COAD.HumanMethylation450.Level_2.7.3.0.tar.gz</a>                                      2012-10-03 19:41  120M  \n",
        "      <a href=\"jhu-usc.edu_COAD.HumanMethylation450.Level_2.7.3.0.tar.gz.md5\">jhu-usc.edu_COAD.HumanMethylation450.Level_2.7.3.0.tar.gz.md5</a>                                  2012-10-03 19:42   91   \n",
        "      <a href=\"jhu-usc.edu_COAD.HumanMethylation450.Level_2.7.3.0/\">jhu-usc.edu_COAD.HumanMethylation450.Level_2.7.3.0/</a>                                            2012-10-03 19:41    -   \n",
        "      <a href=\"jhu-usc.edu_COAD.HumanMethylation450.Level_2.7.4.0.tar.gz\">jhu-usc.edu_COAD.HumanMethylation450.Level_2.7.4.0.tar.gz</a>                                      2012-10-30 03:08  120M  \n",
        "      <a href=\"jhu-usc.edu_COAD.HumanMethylation450.Level_2.7.4.0.tar.gz.md5\">jhu-usc.edu_COAD.HumanMethylation450.Level_2.7.4.0.tar.gz.md5</a>                                  2012-10-30 03:08   91   \n",
        "      <a href=\"jhu-usc.edu_COAD.HumanMethylation450.Level_2.7.4.0/\">jhu-usc.edu_COAD.HumanMethylation450.Level_2.7.4.0/</a>                                            2012-10-30 03:08    -   \n",
        "      <a href=\"jhu-usc.edu_COAD.HumanMethylation450.Level_2.7.5.0.tar.gz\">jhu-usc.edu_COAD.HumanMethylation450.Level_2.7.5.0.tar.gz</a>                                      2013-06-17 23:00  120M  \n",
        "      <a href=\"jhu-usc.edu_COAD.HumanMethylation450.Level_2.7.5.0.tar.gz.md5\">jhu-usc.edu_COAD.HumanMethylation450.Level_2.7.5.0.tar.gz.md5</a>                                  2013-06-17 23:00   91   \n",
        "      <a href=\"jhu-usc.edu_COAD.HumanMethylation450.Level_2.7.5.0/\">jhu-usc.edu_COAD.HumanMethylation450.Level_2.7.5.0/</a>                                            2013-06-17 22:59    -   \n",
        "      <a href=\"jhu-usc.edu_COAD.HumanMethylation450.Level_2.7.6.0.tar.gz\">jhu-usc.edu_COAD.HumanMethylation450.Level_2.7.6.0.tar.gz</a>                                      2013-07-12 18:26  120M  \n",
        "      <a href=\"jhu-usc.edu_COAD.HumanMethylation450.Level_2.7.6.0.tar.gz.md5\">jhu-usc.edu_COAD.HumanMethylation450.Level_2.7.6.0.tar.gz.md5</a>                                  2013-07-12 18:26   91   \n",
        "      <a href=\"jhu-usc.edu_COAD.HumanMethylation450.Level_2.7.6.0/\">jhu-usc.edu_COAD.HumanMethylation450.Level_2.7.6.0/</a>                                            2013-07-12 18:25    -   \n",
        "      <a href=\"jhu-usc.edu_COAD.HumanMethylation450.Level_2.7.7.0.tar.gz\">jhu-usc.edu_COAD.HumanMethylation450.Level_2.7.7.0.tar.gz</a>                                      2014-05-16 19:15  120M  \n",
        "      <a href=\"jhu-usc.edu_COAD.HumanMethylation450.Level_2.7.7.0.tar.gz.md5\">jhu-usc.edu_COAD.HumanMethylation450.Level_2.7.7.0.tar.gz.md5</a>                                  2014-05-16 19:15   91   \n",
        "      <a href=\"jhu-usc.edu_COAD.HumanMethylation450.Level_2.7.7.0/\">jhu-usc.edu_COAD.HumanMethylation450.Level_2.7.7.0/</a>                                            2014-05-16 19:14    -   \n",
        "      <a href=\"jhu-usc.edu_COAD.HumanMethylation450.Level_2.7.8.0.tar.gz\">jhu-usc.edu_COAD.HumanMethylation450.Level_2.7.8.0.tar.gz</a>                                      2015-01-26 00:45  120M  \n",
        "      <a href=\"jhu-usc.edu_COAD.HumanMethylation450.Level_2.7.8.0.tar.gz.md5\">jhu-usc.edu_COAD.HumanMethylation450.Level_2.7.8.0.tar.gz.md5</a>                                  2015-01-26 00:45   91   \n",
        "      <a href=\"jhu-usc.edu_COAD.HumanMethylation450.Level_2.7.8.0/\">jhu-usc.edu_COAD.HumanMethylation450.Level_2.7.8.0/</a>                                            2015-01-26 00:44    -   \n",
        "      <a href=\"jhu-usc.edu_COAD.HumanMethylation450.Level_2.8.2.0.tar.gz\">jhu-usc.edu_COAD.HumanMethylation450.Level_2.8.2.0.tar.gz</a>                                      2012-02-29 05:25  287M  \n",
        "      <a href=\"jhu-usc.edu_COAD.HumanMethylation450.Level_2.8.2.0.tar.gz.md5\">jhu-usc.edu_COAD.HumanMethylation450.Level_2.8.2.0.tar.gz.md5</a>                                  2012-02-29 05:25   91   \n",
        "      <a href=\"jhu-usc.edu_COAD.HumanMethylation450.Level_2.8.2.0/\">jhu-usc.edu_COAD.HumanMethylation450.Level_2.8.2.0/</a>                                            2012-02-29 05:23    -   \n",
        "      <a href=\"jhu-usc.edu_COAD.HumanMethylation450.Level_2.8.3.0.tar.gz\">jhu-usc.edu_COAD.HumanMethylation450.Level_2.8.3.0.tar.gz</a>                                      2012-10-03 19:49  287M  \n",
        "      <a href=\"jhu-usc.edu_COAD.HumanMethylation450.Level_2.8.3.0.tar.gz.md5\">jhu-usc.edu_COAD.HumanMethylation450.Level_2.8.3.0.tar.gz.md5</a>                                  2012-10-03 19:49   91   \n",
        "      <a href=\"jhu-usc.edu_COAD.HumanMethylation450.Level_2.8.3.0/\">jhu-usc.edu_COAD.HumanMethylation450.Level_2.8.3.0/</a>                                            2012-10-03 19:48    -   \n",
        "      <a href=\"jhu-usc.edu_COAD.HumanMethylation450.Level_2.8.4.0.tar.gz\">jhu-usc.edu_COAD.HumanMethylation450.Level_2.8.4.0.tar.gz</a>                                      2012-10-30 03:17  287M  \n",
        "      <a href=\"jhu-usc.edu_COAD.HumanMethylation450.Level_2.8.4.0.tar.gz.md5\">jhu-usc.edu_COAD.HumanMethylation450.Level_2.8.4.0.tar.gz.md5</a>                                  2012-10-30 03:18   91   \n",
        "      <a href=\"jhu-usc.edu_COAD.HumanMethylation450.Level_2.8.4.0/\">jhu-usc.edu_COAD.HumanMethylation450.Level_2.8.4.0/</a>                                            2012-10-30 03:16    -   \n",
        "      <a href=\"jhu-usc.edu_COAD.HumanMethylation450.Level_2.8.5.0.tar.gz\">jhu-usc.edu_COAD.HumanMethylation450.Level_2.8.5.0.tar.gz</a>                                      2013-06-17 23:07  287M  \n",
        "      <a href=\"jhu-usc.edu_COAD.HumanMethylation450.Level_2.8.5.0.tar.gz.md5\">jhu-usc.edu_COAD.HumanMethylation450.Level_2.8.5.0.tar.gz.md5</a>                                  2013-06-17 23:07   91   \n",
        "      <a href=\"jhu-usc.edu_COAD.HumanMethylation450.Level_2.8.5.0/\">jhu-usc.edu_COAD.HumanMethylation450.Level_2.8.5.0/</a>                                            2013-06-17 23:06    -   \n",
        "      <a href=\"jhu-usc.edu_COAD.HumanMethylation450.Level_2.8.6.0.tar.gz\">jhu-usc.edu_COAD.HumanMethylation450.Level_2.8.6.0.tar.gz</a>                                      2013-07-12 18:35  305M  \n",
        "      <a href=\"jhu-usc.edu_COAD.HumanMethylation450.Level_2.8.6.0.tar.gz.md5\">jhu-usc.edu_COAD.HumanMethylation450.Level_2.8.6.0.tar.gz.md5</a>                                  2013-07-12 18:35   91   \n",
        "      <a href=\"jhu-usc.edu_COAD.HumanMethylation450.Level_2.8.6.0/\">jhu-usc.edu_COAD.HumanMethylation450.Level_2.8.6.0/</a>                                            2013-07-12 18:33    -   \n",
        "      <a href=\"jhu-usc.edu_COAD.HumanMethylation450.Level_2.8.7.0.tar.gz\">jhu-usc.edu_COAD.HumanMethylation450.Level_2.8.7.0.tar.gz</a>                                      2014-05-16 19:24  305M  \n",
        "      <a href=\"jhu-usc.edu_COAD.HumanMethylation450.Level_2.8.7.0.tar.gz.md5\">jhu-usc.edu_COAD.HumanMethylation450.Level_2.8.7.0.tar.gz.md5</a>                                  2014-05-16 19:24   91   \n",
        "      <a href=\"jhu-usc.edu_COAD.HumanMethylation450.Level_2.8.7.0/\">jhu-usc.edu_COAD.HumanMethylation450.Level_2.8.7.0/</a>                                            2014-05-16 19:22    -   \n",
        "      <a href=\"jhu-usc.edu_COAD.HumanMethylation450.Level_2.8.8.0.tar.gz\">jhu-usc.edu_COAD.HumanMethylation450.Level_2.8.8.0.tar.gz</a>                                      2015-01-26 00:54  305M  \n",
        "      <a href=\"jhu-usc.edu_COAD.HumanMethylation450.Level_2.8.8.0.tar.gz.md5\">jhu-usc.edu_COAD.HumanMethylation450.Level_2.8.8.0.tar.gz.md5</a>                                  2015-01-26 00:54   91   \n",
        "      <a href=\"jhu-usc.edu_COAD.HumanMethylation450.Level_2.8.8.0/\">jhu-usc.edu_COAD.HumanMethylation450.Level_2.8.8.0/</a>                                            2015-01-26 00:52    -   \n",
        "      <a href=\"jhu-usc.edu_COAD.HumanMethylation450.Level_2.9.2.0.tar.gz\">jhu-usc.edu_COAD.HumanMethylation450.Level_2.9.2.0.tar.gz</a>                                      2012-02-29 05:23   18M  \n",
        "      <a href=\"jhu-usc.edu_COAD.HumanMethylation450.Level_2.9.2.0.tar.gz.md5\">jhu-usc.edu_COAD.HumanMethylation450.Level_2.9.2.0.tar.gz.md5</a>                                  2012-02-29 05:23   91   \n",
        "      <a href=\"jhu-usc.edu_COAD.HumanMethylation450.Level_2.9.2.0/\">jhu-usc.edu_COAD.HumanMethylation450.Level_2.9.2.0/</a>                                            2012-02-29 05:23    -   \n",
        "      <a href=\"jhu-usc.edu_COAD.HumanMethylation450.Level_2.9.3.0.tar.gz\">jhu-usc.edu_COAD.HumanMethylation450.Level_2.9.3.0.tar.gz</a>                                      2012-10-03 19:47   18M  \n",
        "      <a href=\"jhu-usc.edu_COAD.HumanMethylation450.Level_2.9.3.0.tar.gz.md5\">jhu-usc.edu_COAD.HumanMethylation450.Level_2.9.3.0.tar.gz.md5</a>                                  2012-10-03 19:47   91   \n",
        "      <a href=\"jhu-usc.edu_COAD.HumanMethylation450.Level_2.9.3.0/\">jhu-usc.edu_COAD.HumanMethylation450.Level_2.9.3.0/</a>                                            2012-10-03 19:47    -   \n",
        "      <a href=\"jhu-usc.edu_COAD.HumanMethylation450.Level_2.9.4.0.tar.gz\">jhu-usc.edu_COAD.HumanMethylation450.Level_2.9.4.0.tar.gz</a>                                      2012-10-30 03:16   18M  \n",
        "      <a href=\"jhu-usc.edu_COAD.HumanMethylation450.Level_2.9.4.0.tar.gz.md5\">jhu-usc.edu_COAD.HumanMethylation450.Level_2.9.4.0.tar.gz.md5</a>                                  2012-10-30 03:16   91   \n",
        "      <a href=\"jhu-usc.edu_COAD.HumanMethylation450.Level_2.9.4.0/\">jhu-usc.edu_COAD.HumanMethylation450.Level_2.9.4.0/</a>                                            2012-10-30 03:16    -   \n",
        "      <a href=\"jhu-usc.edu_COAD.HumanMethylation450.Level_2.9.5.0.tar.gz\">jhu-usc.edu_COAD.HumanMethylation450.Level_2.9.5.0.tar.gz</a>                                      2013-06-17 23:05   18M  \n",
        "      <a href=\"jhu-usc.edu_COAD.HumanMethylation450.Level_2.9.5.0.tar.gz.md5\">jhu-usc.edu_COAD.HumanMethylation450.Level_2.9.5.0.tar.gz.md5</a>                                  2013-06-17 23:05   91   \n",
        "      <a href=\"jhu-usc.edu_COAD.HumanMethylation450.Level_2.9.5.0/\">jhu-usc.edu_COAD.HumanMethylation450.Level_2.9.5.0/</a>                                            2013-06-17 23:05    -   \n",
        "      <a href=\"jhu-usc.edu_COAD.HumanMethylation450.Level_2.9.6.0.tar.gz\">jhu-usc.edu_COAD.HumanMethylation450.Level_2.9.6.0.tar.gz</a>                                      2013-07-12 18:33   18M  \n",
        "      <a href=\"jhu-usc.edu_COAD.HumanMethylation450.Level_2.9.6.0.tar.gz.md5\">jhu-usc.edu_COAD.HumanMethylation450.Level_2.9.6.0.tar.gz.md5</a>                                  2013-07-12 18:33   91   \n",
        "      <a href=\"jhu-usc.edu_COAD.HumanMethylation450.Level_2.9.6.0/\">jhu-usc.edu_COAD.HumanMethylation450.Level_2.9.6.0/</a>                                            2013-07-12 18:33    -   \n",
        "      <a href=\"jhu-usc.edu_COAD.HumanMethylation450.Level_2.9.7.0.tar.gz\">jhu-usc.edu_COAD.HumanMethylation450.Level_2.9.7.0.tar.gz</a>                                      2014-05-16 19:22   18M  \n",
        "      <a href=\"jhu-usc.edu_COAD.HumanMethylation450.Level_2.9.7.0.tar.gz.md5\">jhu-usc.edu_COAD.HumanMethylation450.Level_2.9.7.0.tar.gz.md5</a>                                  2014-05-16 19:22   91   \n",
        "      <a href=\"jhu-usc.edu_COAD.HumanMethylation450.Level_2.9.7.0/\">jhu-usc.edu_COAD.HumanMethylation450.Level_2.9.7.0/</a>                                            2014-05-16 19:22    -   \n",
        "      <a href=\"jhu-usc.edu_COAD.HumanMethylation450.Level_2.9.8.0.tar.gz\">jhu-usc.edu_COAD.HumanMethylation450.Level_2.9.8.0.tar.gz</a>                                      2015-01-26 00:52   18M  \n",
        "      <a href=\"jhu-usc.edu_COAD.HumanMethylation450.Level_2.9.8.0.tar.gz.md5\">jhu-usc.edu_COAD.HumanMethylation450.Level_2.9.8.0.tar.gz.md5</a>                                  2015-01-26 00:52   91   \n",
        "      <a href=\"jhu-usc.edu_COAD.HumanMethylation450.Level_2.9.8.0/\">jhu-usc.edu_COAD.HumanMethylation450.Level_2.9.8.0/</a>                                            2015-01-26 00:51    -   \n",
        "      <a href=\"jhu-usc.edu_COAD.HumanMethylation450.Level_3.1.0.0.tar.gz\">jhu-usc.edu_COAD.HumanMethylation450.Level_3.1.0.0.tar.gz</a>                                      2012-01-30 16:56  508M  \n",
        "      <a href=\"jhu-usc.edu_COAD.HumanMethylation450.Level_3.1.0.0.tar.gz.md5\">jhu-usc.edu_COAD.HumanMethylation450.Level_3.1.0.0.tar.gz.md5</a>                                  2012-01-30 16:56   91   \n",
        "      <a href=\"jhu-usc.edu_COAD.HumanMethylation450.Level_3.1.1.0.tar.gz\">jhu-usc.edu_COAD.HumanMethylation450.Level_3.1.1.0.tar.gz</a>                                      2012-02-01 21:48  508M  \n",
        "      <a href=\"jhu-usc.edu_COAD.HumanMethylation450.Level_3.1.1.0.tar.gz.md5\">jhu-usc.edu_COAD.HumanMethylation450.Level_3.1.1.0.tar.gz.md5</a>                                  2012-02-01 21:48   91   \n",
        "      <a href=\"jhu-usc.edu_COAD.HumanMethylation450.Level_3.1.2.0.tar.gz\">jhu-usc.edu_COAD.HumanMethylation450.Level_3.1.2.0.tar.gz</a>                                      2012-02-29 04:55  508M  \n",
        "      <a href=\"jhu-usc.edu_COAD.HumanMethylation450.Level_3.1.2.0.tar.gz.md5\">jhu-usc.edu_COAD.HumanMethylation450.Level_3.1.2.0.tar.gz.md5</a>                                  2012-02-29 04:55   91   \n",
        "      <a href=\"jhu-usc.edu_COAD.HumanMethylation450.Level_3.1.2.0/\">jhu-usc.edu_COAD.HumanMethylation450.Level_3.1.2.0/</a>                                            2012-02-29 04:52    -   \n",
        "      <a href=\"jhu-usc.edu_COAD.HumanMethylation450.Level_3.1.3.0.tar.gz\">jhu-usc.edu_COAD.HumanMethylation450.Level_3.1.3.0.tar.gz</a>                                      2012-10-03 19:22  487M  \n",
        "      <a href=\"jhu-usc.edu_COAD.HumanMethylation450.Level_3.1.3.0.tar.gz.md5\">jhu-usc.edu_COAD.HumanMethylation450.Level_3.1.3.0.tar.gz.md5</a>                                  2012-10-03 19:22   91   \n",
        "      <a href=\"jhu-usc.edu_COAD.HumanMethylation450.Level_3.1.3.0/\">jhu-usc.edu_COAD.HumanMethylation450.Level_3.1.3.0/</a>                                            2012-10-03 19:20    -   \n",
        "      <a href=\"jhu-usc.edu_COAD.HumanMethylation450.Level_3.1.4.0.tar.gz\">jhu-usc.edu_COAD.HumanMethylation450.Level_3.1.4.0.tar.gz</a>                                      2012-10-30 02:42  487M  \n",
        "      <a href=\"jhu-usc.edu_COAD.HumanMethylation450.Level_3.1.4.0.tar.gz.md5\">jhu-usc.edu_COAD.HumanMethylation450.Level_3.1.4.0.tar.gz.md5</a>                                  2012-10-30 02:42   91   \n",
        "      <a href=\"jhu-usc.edu_COAD.HumanMethylation450.Level_3.1.4.0/\">jhu-usc.edu_COAD.HumanMethylation450.Level_3.1.4.0/</a>                                            2012-10-30 02:39    -   \n",
        "      <a href=\"jhu-usc.edu_COAD.HumanMethylation450.Level_3.1.5.0.tar.gz\">jhu-usc.edu_COAD.HumanMethylation450.Level_3.1.5.0.tar.gz</a>                                      2013-06-17 22:41  506M  \n",
        "      <a href=\"jhu-usc.edu_COAD.HumanMethylation450.Level_3.1.5.0.tar.gz.md5\">jhu-usc.edu_COAD.HumanMethylation450.Level_3.1.5.0.tar.gz.md5</a>                                  2013-06-17 22:41   91   \n",
        "      <a href=\"jhu-usc.edu_COAD.HumanMethylation450.Level_3.1.5.0/\">jhu-usc.edu_COAD.HumanMethylation450.Level_3.1.5.0/</a>                                            2013-06-17 22:39    -   \n",
        "      <a href=\"jhu-usc.edu_COAD.HumanMethylation450.Level_3.1.6.0.tar.gz\">jhu-usc.edu_COAD.HumanMethylation450.Level_3.1.6.0.tar.gz</a>                                      2013-07-12 18:00  506M  \n",
        "      <a href=\"jhu-usc.edu_COAD.HumanMethylation450.Level_3.1.6.0.tar.gz.md5\">jhu-usc.edu_COAD.HumanMethylation450.Level_3.1.6.0.tar.gz.md5</a>                                  2013-07-12 18:01   91   \n",
        "      <a href=\"jhu-usc.edu_COAD.HumanMethylation450.Level_3.1.6.0/\">jhu-usc.edu_COAD.HumanMethylation450.Level_3.1.6.0/</a>                                            2013-07-12 17:57    -   \n",
        "      <a href=\"jhu-usc.edu_COAD.HumanMethylation450.Level_3.1.7.0.tar.gz\">jhu-usc.edu_COAD.HumanMethylation450.Level_3.1.7.0.tar.gz</a>                                      2014-05-16 18:52  506M  \n",
        "      <a href=\"jhu-usc.edu_COAD.HumanMethylation450.Level_3.1.7.0.tar.gz.md5\">jhu-usc.edu_COAD.HumanMethylation450.Level_3.1.7.0.tar.gz.md5</a>                                  2014-05-16 18:52   91   \n",
        "      <a href=\"jhu-usc.edu_COAD.HumanMethylation450.Level_3.1.7.0/\">jhu-usc.edu_COAD.HumanMethylation450.Level_3.1.7.0/</a>                                            2014-05-16 18:49    -   \n",
        "      <a href=\"jhu-usc.edu_COAD.HumanMethylation450.Level_3.1.8.0.tar.gz\">jhu-usc.edu_COAD.HumanMethylation450.Level_3.1.8.0.tar.gz</a>                                      2015-01-26 00:20  506M  \n",
        "      <a href=\"jhu-usc.edu_COAD.HumanMethylation450.Level_3.1.8.0.tar.gz.md5\">jhu-usc.edu_COAD.HumanMethylation450.Level_3.1.8.0.tar.gz.md5</a>                                  2015-01-26 00:20   91   \n",
        "      <a href=\"jhu-usc.edu_COAD.HumanMethylation450.Level_3.1.8.0/\">jhu-usc.edu_COAD.HumanMethylation450.Level_3.1.8.0/</a>                                            2015-01-26 00:17    -   \n",
        "      <a href=\"jhu-usc.edu_COAD.HumanMethylation450.Level_3.10.3.0.tar.gz\">jhu-usc.edu_COAD.HumanMethylation450.Level_3.10.3.0.tar.gz</a>                                     2012-10-03 19:19  9.4M  \n",
        "      <a href=\"jhu-usc.edu_COAD.HumanMethylation450.Level_3.10.3.0.tar.gz.md5\">jhu-usc.edu_COAD.HumanMethylation450.Level_3.10.3.0.tar.gz.md5</a>                                 2012-10-03 19:19   92   \n",
        "      <a href=\"jhu-usc.edu_COAD.HumanMethylation450.Level_3.10.3.0/\">jhu-usc.edu_COAD.HumanMethylation450.Level_3.10.3.0/</a>                                           2012-10-03 19:19    -   \n",
        "      <a href=\"jhu-usc.edu_COAD.HumanMethylation450.Level_3.10.4.0.tar.gz\">jhu-usc.edu_COAD.HumanMethylation450.Level_3.10.4.0.tar.gz</a>                                     2012-10-30 02:43  9.4M  \n",
        "      <a href=\"jhu-usc.edu_COAD.HumanMethylation450.Level_3.10.4.0.tar.gz.md5\">jhu-usc.edu_COAD.HumanMethylation450.Level_3.10.4.0.tar.gz.md5</a>                                 2012-10-30 02:43   92   \n",
        "      <a href=\"jhu-usc.edu_COAD.HumanMethylation450.Level_3.10.4.0/\">jhu-usc.edu_COAD.HumanMethylation450.Level_3.10.4.0/</a>                                           2012-10-30 02:43    -   \n",
        "      <a href=\"jhu-usc.edu_COAD.HumanMethylation450.Level_3.10.5.0.tar.gz\">jhu-usc.edu_COAD.HumanMethylation450.Level_3.10.5.0.tar.gz</a>                                     2013-06-17 22:38  9.4M  \n",
        "      <a href=\"jhu-usc.edu_COAD.HumanMethylation450.Level_3.10.5.0.tar.gz.md5\">jhu-usc.edu_COAD.HumanMethylation450.Level_3.10.5.0.tar.gz.md5</a>                                 2013-06-17 22:38   92   \n",
        "      <a href=\"jhu-usc.edu_COAD.HumanMethylation450.Level_3.10.5.0/\">jhu-usc.edu_COAD.HumanMethylation450.Level_3.10.5.0/</a>                                           2013-06-17 22:38    -   \n",
        "      <a href=\"jhu-usc.edu_COAD.HumanMethylation450.Level_3.10.6.0.tar.gz\">jhu-usc.edu_COAD.HumanMethylation450.Level_3.10.6.0.tar.gz</a>                                     2013-07-12 18:01  9.4M  \n",
        "      <a href=\"jhu-usc.edu_COAD.HumanMethylation450.Level_3.10.6.0.tar.gz.md5\">jhu-usc.edu_COAD.HumanMethylation450.Level_3.10.6.0.tar.gz.md5</a>                                 2013-07-12 18:01   92   \n",
        "      <a href=\"jhu-usc.edu_COAD.HumanMethylation450.Level_3.10.6.0/\">jhu-usc.edu_COAD.HumanMethylation450.Level_3.10.6.0/</a>                                           2013-07-12 18:01    -   \n",
        "      <a href=\"jhu-usc.edu_COAD.HumanMethylation450.Level_3.10.7.0.tar.gz\">jhu-usc.edu_COAD.HumanMethylation450.Level_3.10.7.0.tar.gz</a>                                     2014-05-16 18:49  9.4M  \n",
        "      <a href=\"jhu-usc.edu_COAD.HumanMethylation450.Level_3.10.7.0.tar.gz.md5\">jhu-usc.edu_COAD.HumanMethylation450.Level_3.10.7.0.tar.gz.md5</a>                                 2014-05-16 18:49   92   \n",
        "      <a href=\"jhu-usc.edu_COAD.HumanMethylation450.Level_3.10.7.0/\">jhu-usc.edu_COAD.HumanMethylation450.Level_3.10.7.0/</a>                                           2014-05-16 18:49    -   \n",
        "      <a href=\"jhu-usc.edu_COAD.HumanMethylation450.Level_3.10.8.0.tar.gz\">jhu-usc.edu_COAD.HumanMethylation450.Level_3.10.8.0.tar.gz</a>                                     2015-01-26 00:20  9.4M  \n",
        "      <a href=\"jhu-usc.edu_COAD.HumanMethylation450.Level_3.10.8.0.tar.gz.md5\">jhu-usc.edu_COAD.HumanMethylation450.Level_3.10.8.0.tar.gz.md5</a>                                 2015-01-26 00:20   92   \n",
        "      <a href=\"jhu-usc.edu_COAD.HumanMethylation450.Level_3.10.8.0/\">jhu-usc.edu_COAD.HumanMethylation450.Level_3.10.8.0/</a>                                           2015-01-26 00:20    -   \n",
        "      <a href=\"jhu-usc.edu_COAD.HumanMethylation450.Level_3.11.5.0.tar.gz\">jhu-usc.edu_COAD.HumanMethylation450.Level_3.11.5.0.tar.gz</a>                                     2013-06-17 22:50   28M  \n",
        "      <a href=\"jhu-usc.edu_COAD.HumanMethylation450.Level_3.11.5.0.tar.gz.md5\">jhu-usc.edu_COAD.HumanMethylation450.Level_3.11.5.0.tar.gz.md5</a>                                 2013-06-17 22:50   92   \n",
        "      <a href=\"jhu-usc.edu_COAD.HumanMethylation450.Level_3.11.5.0/\">jhu-usc.edu_COAD.HumanMethylation450.Level_3.11.5.0/</a>                                           2013-06-17 22:49    -   \n",
        "      <a href=\"jhu-usc.edu_COAD.HumanMethylation450.Level_3.11.6.0.tar.gz\">jhu-usc.edu_COAD.HumanMethylation450.Level_3.11.6.0.tar.gz</a>                                     2013-07-12 17:48   28M  \n",
        "      <a href=\"jhu-usc.edu_COAD.HumanMethylation450.Level_3.11.6.0.tar.gz.md5\">jhu-usc.edu_COAD.HumanMethylation450.Level_3.11.6.0.tar.gz.md5</a>                                 2013-07-12 17:48   92   \n",
        "      <a href=\"jhu-usc.edu_COAD.HumanMethylation450.Level_3.11.6.0/\">jhu-usc.edu_COAD.HumanMethylation450.Level_3.11.6.0/</a>                                           2013-07-12 17:48    -   \n",
        "      <a href=\"jhu-usc.edu_COAD.HumanMethylation450.Level_3.11.7.0.tar.gz\">jhu-usc.edu_COAD.HumanMethylation450.Level_3.11.7.0.tar.gz</a>                                     2014-05-16 18:41   28M  \n",
        "      <a href=\"jhu-usc.edu_COAD.HumanMethylation450.Level_3.11.7.0.tar.gz.md5\">jhu-usc.edu_COAD.HumanMethylation450.Level_3.11.7.0.tar.gz.md5</a>                                 2014-05-16 18:41   92   \n",
        "      <a href=\"jhu-usc.edu_COAD.HumanMethylation450.Level_3.11.7.0/\">jhu-usc.edu_COAD.HumanMethylation450.Level_3.11.7.0/</a>                                           2014-05-16 18:41    -   \n",
        "      <a href=\"jhu-usc.edu_COAD.HumanMethylation450.Level_3.11.8.0.tar.gz\">jhu-usc.edu_COAD.HumanMethylation450.Level_3.11.8.0.tar.gz</a>                                     2015-01-26 00:09   28M  \n",
        "      <a href=\"jhu-usc.edu_COAD.HumanMethylation450.Level_3.11.8.0.tar.gz.md5\">jhu-usc.edu_COAD.HumanMethylation450.Level_3.11.8.0.tar.gz.md5</a>                                 2015-01-26 00:09   92   \n",
        "      <a href=\"jhu-usc.edu_COAD.HumanMethylation450.Level_3.11.8.0/\">jhu-usc.edu_COAD.HumanMethylation450.Level_3.11.8.0/</a>                                           2015-01-26 00:09    -   \n",
        "      <a href=\"jhu-usc.edu_COAD.HumanMethylation450.Level_3.12.5.0.tar.gz\">jhu-usc.edu_COAD.HumanMethylation450.Level_3.12.5.0.tar.gz</a>                                     2013-06-17 22:50   37M  \n",
        "      <a href=\"jhu-usc.edu_COAD.HumanMethylation450.Level_3.12.5.0.tar.gz.md5\">jhu-usc.edu_COAD.HumanMethylation450.Level_3.12.5.0.tar.gz.md5</a>                                 2013-06-17 22:50   92   \n",
        "      <a href=\"jhu-usc.edu_COAD.HumanMethylation450.Level_3.12.5.0/\">jhu-usc.edu_COAD.HumanMethylation450.Level_3.12.5.0/</a>                                           2013-06-17 22:50    -   \n",
        "      <a href=\"jhu-usc.edu_COAD.HumanMethylation450.Level_3.12.6.0.tar.gz\">jhu-usc.edu_COAD.HumanMethylation450.Level_3.12.6.0.tar.gz</a>                                     2013-07-12 17:48   37M  \n",
        "      <a href=\"jhu-usc.edu_COAD.HumanMethylation450.Level_3.12.6.0.tar.gz.md5\">jhu-usc.edu_COAD.HumanMethylation450.Level_3.12.6.0.tar.gz.md5</a>                                 2013-07-12 17:48   92   \n",
        "      <a href=\"jhu-usc.edu_COAD.HumanMethylation450.Level_3.12.6.0/\">jhu-usc.edu_COAD.HumanMethylation450.Level_3.12.6.0/</a>                                           2013-07-12 17:48    -   \n",
        "      <a href=\"jhu-usc.edu_COAD.HumanMethylation450.Level_3.12.7.0.tar.gz\">jhu-usc.edu_COAD.HumanMethylation450.Level_3.12.7.0.tar.gz</a>                                     2014-05-16 18:41   37M  \n",
        "      <a href=\"jhu-usc.edu_COAD.HumanMethylation450.Level_3.12.7.0.tar.gz.md5\">jhu-usc.edu_COAD.HumanMethylation450.Level_3.12.7.0.tar.gz.md5</a>                                 2014-05-16 18:41   92   \n",
        "      <a href=\"jhu-usc.edu_COAD.HumanMethylation450.Level_3.12.7.0/\">jhu-usc.edu_COAD.HumanMethylation450.Level_3.12.7.0/</a>                                           2014-05-16 18:41    -   \n",
        "      <a href=\"jhu-usc.edu_COAD.HumanMethylation450.Level_3.12.8.0.tar.gz\">jhu-usc.edu_COAD.HumanMethylation450.Level_3.12.8.0.tar.gz</a>                                     2015-01-26 00:09   37M  \n",
        "      <a href=\"jhu-usc.edu_COAD.HumanMethylation450.Level_3.12.8.0.tar.gz.md5\">jhu-usc.edu_COAD.HumanMethylation450.Level_3.12.8.0.tar.gz.md5</a>                                 2015-01-26 00:09   92   \n",
        "      <a href=\"jhu-usc.edu_COAD.HumanMethylation450.Level_3.12.8.0/\">jhu-usc.edu_COAD.HumanMethylation450.Level_3.12.8.0/</a>                                           2015-01-26 00:09    -   \n",
        "      <a href=\"jhu-usc.edu_COAD.HumanMethylation450.Level_3.13.6.0.tar.gz\">jhu-usc.edu_COAD.HumanMethylation450.Level_3.13.6.0.tar.gz</a>                                     2013-07-12 17:48  150M  \n",
        "      <a href=\"jhu-usc.edu_COAD.HumanMethylation450.Level_3.13.6.0.tar.gz.md5\">jhu-usc.edu_COAD.HumanMethylation450.Level_3.13.6.0.tar.gz.md5</a>                                 2013-07-12 17:48   92   \n",
        "      <a href=\"jhu-usc.edu_COAD.HumanMethylation450.Level_3.13.6.0/\">jhu-usc.edu_COAD.HumanMethylation450.Level_3.13.6.0/</a>                                           2013-07-12 17:47    -   \n",
        "      <a href=\"jhu-usc.edu_COAD.HumanMethylation450.Level_3.13.7.0.tar.gz\">jhu-usc.edu_COAD.HumanMethylation450.Level_3.13.7.0.tar.gz</a>                                     2014-05-16 18:40  150M  \n",
        "      <a href=\"jhu-usc.edu_COAD.HumanMethylation450.Level_3.13.7.0.tar.gz.md5\">jhu-usc.edu_COAD.HumanMethylation450.Level_3.13.7.0.tar.gz.md5</a>                                 2014-05-16 18:40   92   \n",
        "      <a href=\"jhu-usc.edu_COAD.HumanMethylation450.Level_3.13.7.0/\">jhu-usc.edu_COAD.HumanMethylation450.Level_3.13.7.0/</a>                                           2014-05-16 18:39    -   \n",
        "      <a href=\"jhu-usc.edu_COAD.HumanMethylation450.Level_3.13.8.0.tar.gz\">jhu-usc.edu_COAD.HumanMethylation450.Level_3.13.8.0.tar.gz</a>                                     2015-01-26 00:08  150M  \n",
        "      <a href=\"jhu-usc.edu_COAD.HumanMethylation450.Level_3.13.8.0.tar.gz.md5\">jhu-usc.edu_COAD.HumanMethylation450.Level_3.13.8.0.tar.gz.md5</a>                                 2015-01-26 00:08   92   \n",
        "      <a href=\"jhu-usc.edu_COAD.HumanMethylation450.Level_3.13.8.0/\">jhu-usc.edu_COAD.HumanMethylation450.Level_3.13.8.0/</a>                                           2015-01-26 00:07    -   \n",
        "      <a href=\"jhu-usc.edu_COAD.HumanMethylation450.Level_3.14.7.0.tar.gz\">jhu-usc.edu_COAD.HumanMethylation450.Level_3.14.7.0.tar.gz</a>                                     2014-05-16 18:41  112M  \n",
        "      <a href=\"jhu-usc.edu_COAD.HumanMethylation450.Level_3.14.7.0.tar.gz.md5\">jhu-usc.edu_COAD.HumanMethylation450.Level_3.14.7.0.tar.gz.md5</a>                                 2014-05-16 18:41   92   \n",
        "      <a href=\"jhu-usc.edu_COAD.HumanMethylation450.Level_3.14.7.0/\">jhu-usc.edu_COAD.HumanMethylation450.Level_3.14.7.0/</a>                                           2014-05-16 18:40    -   \n",
        "      <a href=\"jhu-usc.edu_COAD.HumanMethylation450.Level_3.14.8.0.tar.gz\">jhu-usc.edu_COAD.HumanMethylation450.Level_3.14.8.0.tar.gz</a>                                     2015-01-26 00:09  112M  \n",
        "      <a href=\"jhu-usc.edu_COAD.HumanMethylation450.Level_3.14.8.0.tar.gz.md5\">jhu-usc.edu_COAD.HumanMethylation450.Level_3.14.8.0.tar.gz.md5</a>                                 2015-01-26 00:09   92   \n",
        "      <a href=\"jhu-usc.edu_COAD.HumanMethylation450.Level_3.14.8.0/\">jhu-usc.edu_COAD.HumanMethylation450.Level_3.14.8.0/</a>                                           2015-01-26 00:08    -   \n",
        "      <a href=\"jhu-usc.edu_COAD.HumanMethylation450.Level_3.15.8.0.tar.gz\">jhu-usc.edu_COAD.HumanMethylation450.Level_3.15.8.0.tar.gz</a>                                     2015-01-26 00:07  131M  \n",
        "      <a href=\"jhu-usc.edu_COAD.HumanMethylation450.Level_3.15.8.0.tar.gz.md5\">jhu-usc.edu_COAD.HumanMethylation450.Level_3.15.8.0.tar.gz.md5</a>                                 2015-01-26 00:07   92   \n",
        "      <a href=\"jhu-usc.edu_COAD.HumanMethylation450.Level_3.15.8.0/\">jhu-usc.edu_COAD.HumanMethylation450.Level_3.15.8.0/</a>                                           2015-01-26 00:06    -   \n",
        "      <a href=\"jhu-usc.edu_COAD.HumanMethylation450.Level_3.2.0.0.tar.gz\">jhu-usc.edu_COAD.HumanMethylation450.Level_3.2.0.0.tar.gz</a>                                      2012-01-30 16:46  645M  \n",
        "      <a href=\"jhu-usc.edu_COAD.HumanMethylation450.Level_3.2.0.0.tar.gz.md5\">jhu-usc.edu_COAD.HumanMethylation450.Level_3.2.0.0.tar.gz.md5</a>                                  2012-01-30 16:47   91   \n",
        "      <a href=\"jhu-usc.edu_COAD.HumanMethylation450.Level_3.2.1.0.tar.gz\">jhu-usc.edu_COAD.HumanMethylation450.Level_3.2.1.0.tar.gz</a>                                      2012-02-01 21:45  645M  \n",
        "      <a href=\"jhu-usc.edu_COAD.HumanMethylation450.Level_3.2.1.0.tar.gz.md5\">jhu-usc.edu_COAD.HumanMethylation450.Level_3.2.1.0.tar.gz.md5</a>                                  2012-02-01 21:45   91   \n",
        "      <a href=\"jhu-usc.edu_COAD.HumanMethylation450.Level_3.2.2.0.tar.gz\">jhu-usc.edu_COAD.HumanMethylation450.Level_3.2.2.0.tar.gz</a>                                      2012-02-29 04:52  420M  \n",
        "      <a href=\"jhu-usc.edu_COAD.HumanMethylation450.Level_3.2.2.0.tar.gz.md5\">jhu-usc.edu_COAD.HumanMethylation450.Level_3.2.2.0.tar.gz.md5</a>                                  2012-02-29 04:52   91   \n",
        "      <a href=\"jhu-usc.edu_COAD.HumanMethylation450.Level_3.2.2.0/\">jhu-usc.edu_COAD.HumanMethylation450.Level_3.2.2.0/</a>                                            2012-02-29 04:49    -   \n",
        "      <a href=\"jhu-usc.edu_COAD.HumanMethylation450.Level_3.2.3.0.tar.gz\">jhu-usc.edu_COAD.HumanMethylation450.Level_3.2.3.0.tar.gz</a>                                      2012-10-03 19:19  421M  \n",
        "      <a href=\"jhu-usc.edu_COAD.HumanMethylation450.Level_3.2.3.0.tar.gz.md5\">jhu-usc.edu_COAD.HumanMethylation450.Level_3.2.3.0.tar.gz.md5</a>                                  2012-10-03 19:19   91   \n",
        "      <a href=\"jhu-usc.edu_COAD.HumanMethylation450.Level_3.2.3.0/\">jhu-usc.edu_COAD.HumanMethylation450.Level_3.2.3.0/</a>                                            2012-10-03 19:17    -   \n",
        "      <a href=\"jhu-usc.edu_COAD.HumanMethylation450.Level_3.2.4.0.tar.gz\">jhu-usc.edu_COAD.HumanMethylation450.Level_3.2.4.0.tar.gz</a>                                      2012-10-30 02:38  421M  \n",
        "      <a href=\"jhu-usc.edu_COAD.HumanMethylation450.Level_3.2.4.0.tar.gz.md5\">jhu-usc.edu_COAD.HumanMethylation450.Level_3.2.4.0.tar.gz.md5</a>                                  2012-10-30 02:38   91   \n",
        "      <a href=\"jhu-usc.edu_COAD.HumanMethylation450.Level_3.2.4.0/\">jhu-usc.edu_COAD.HumanMethylation450.Level_3.2.4.0/</a>                                            2012-10-30 02:35    -   \n",
        "      <a href=\"jhu-usc.edu_COAD.HumanMethylation450.Level_3.2.5.0.tar.gz\">jhu-usc.edu_COAD.HumanMethylation450.Level_3.2.5.0.tar.gz</a>                                      2013-06-17 22:38  440M  \n",
        "      <a href=\"jhu-usc.edu_COAD.HumanMethylation450.Level_3.2.5.0.tar.gz.md5\">jhu-usc.edu_COAD.HumanMethylation450.Level_3.2.5.0.tar.gz.md5</a>                                  2013-06-17 22:38   91   \n",
        "      <a href=\"jhu-usc.edu_COAD.HumanMethylation450.Level_3.2.5.0/\">jhu-usc.edu_COAD.HumanMethylation450.Level_3.2.5.0/</a>                                            2013-06-17 22:36    -   \n",
        "      <a href=\"jhu-usc.edu_COAD.HumanMethylation450.Level_3.2.6.0.tar.gz\">jhu-usc.edu_COAD.HumanMethylation450.Level_3.2.6.0.tar.gz</a>                                      2013-07-12 17:56  440M  \n",
        "      <a href=\"jhu-usc.edu_COAD.HumanMethylation450.Level_3.2.6.0.tar.gz.md5\">jhu-usc.edu_COAD.HumanMethylation450.Level_3.2.6.0.tar.gz.md5</a>                                  2013-07-12 17:56   91   \n",
        "      <a href=\"jhu-usc.edu_COAD.HumanMethylation450.Level_3.2.6.0/\">jhu-usc.edu_COAD.HumanMethylation450.Level_3.2.6.0/</a>                                            2013-07-12 17:54    -   \n",
        "      <a href=\"jhu-usc.edu_COAD.HumanMethylation450.Level_3.2.7.0.tar.gz\">jhu-usc.edu_COAD.HumanMethylation450.Level_3.2.7.0.tar.gz</a>                                      2014-05-16 18:48  440M  \n",
        "      <a href=\"jhu-usc.edu_COAD.HumanMethylation450.Level_3.2.7.0.tar.gz.md5\">jhu-usc.edu_COAD.HumanMethylation450.Level_3.2.7.0.tar.gz.md5</a>                                  2014-05-16 18:49   91   \n",
        "      <a href=\"jhu-usc.edu_COAD.HumanMethylation450.Level_3.2.7.0/\">jhu-usc.edu_COAD.HumanMethylation450.Level_3.2.7.0/</a>                                            2014-05-16 18:46    -   \n",
        "      <a href=\"jhu-usc.edu_COAD.HumanMethylation450.Level_3.2.8.0.tar.gz\">jhu-usc.edu_COAD.HumanMethylation450.Level_3.2.8.0.tar.gz</a>                                      2015-01-26 00:16  440M  \n",
        "      <a href=\"jhu-usc.edu_COAD.HumanMethylation450.Level_3.2.8.0.tar.gz.md5\">jhu-usc.edu_COAD.HumanMethylation450.Level_3.2.8.0.tar.gz.md5</a>                                  2015-01-26 00:16   91   \n",
        "      <a href=\"jhu-usc.edu_COAD.HumanMethylation450.Level_3.2.8.0/\">jhu-usc.edu_COAD.HumanMethylation450.Level_3.2.8.0/</a>                                            2015-01-26 00:14    -   \n",
        "      <a href=\"jhu-usc.edu_COAD.HumanMethylation450.Level_3.3.0.0.tar.gz\">jhu-usc.edu_COAD.HumanMethylation450.Level_3.3.0.0.tar.gz</a>                                      2012-01-30 16:34  352M  \n",
        "      <a href=\"jhu-usc.edu_COAD.HumanMethylation450.Level_3.3.0.0.tar.gz.md5\">jhu-usc.edu_COAD.HumanMethylation450.Level_3.3.0.0.tar.gz.md5</a>                                  2012-01-30 16:34   91   \n",
        "      <a href=\"jhu-usc.edu_COAD.HumanMethylation450.Level_3.3.1.0.tar.gz\">jhu-usc.edu_COAD.HumanMethylation4</a></pre></body></html>"
       ]
      }
     ],
     "prompt_number": 20
    },
    {
     "cell_type": "markdown",
     "metadata": {},
     "source": [
      "<b>Get Tar Links</b>"
     ]
    },
    {
     "cell_type": "markdown",
     "metadata": {},
     "source": [
      "* Singular Way:"
     ]
    },
    {
     "cell_type": "code",
     "collapsed": false,
     "input": [
      "#one option\n",
      "url = 'https://tcga-data.nci.nih.gov/tcgafiles/ftp_auth/distro_ftpusers/anonymous/tumor/hnsc/cgcc/jhu-usc.edu/humanmethylation450/methylation/'\n",
      "filename = \"jhu-usc.edu_HNSC.HumanMethylation450.Level_1.1.0.0.tar.gz \"\n",
      "outFilePath = \"jhu-usc.edu_HNSC.HumanMethylation450.Level_1.1.0.0.csv\"\n",
      "\n",
      "response = urllib2.urlopen(url + filename)\n",
      "compressedFile = StringIO.StringIO()\n",
      "compressedFile.write(response.read())\n",
      "\n",
      "# Set the file's current position to the beginning\n",
      "# of the file so that gzip.GzipFile can read\n",
      "# its contents from the top.\n",
      "\n",
      "compressedFile.seek(0)\n",
      "\n",
      "decompressedFile = gzip.GzipFile(fileobj=compressedFile, mode='rb')\n",
      "\n",
      "with open(outFilePath, 'w') as outfile:\n",
      "    outfile.write(decompressedFile.read())"
     ],
     "language": "python",
     "metadata": {},
     "outputs": []
    },
    {
     "cell_type": "markdown",
     "metadata": {},
     "source": [
      "* Function that can be used if updated:"
     ]
    },
    {
     "cell_type": "code",
     "collapsed": false,
     "input": [
      "def getlinks(url):\n",
      "    links = [link.get('href') for link in soup.find_all('a') if link.get('href') != None \n",
      "             and '1.1.' and '.tar.gz' in link.get('href')]\n",
      "    for i in links:\n",
      "        if '.md5' not in i:\n",
      "            print i"
     ],
     "language": "python",
     "metadata": {},
     "outputs": [],
     "prompt_number": 6
    },
    {
     "cell_type": "code",
     "collapsed": false,
     "input": [
      "t= getlinks(url)\n",
      "t"
     ],
     "language": "python",
     "metadata": {},
     "outputs": [
      {
       "output_type": "stream",
       "stream": "stdout",
       "text": [
        "jhu-usc.edu_HNSC.HumanMethylation450.Level_1.1.0.0.tar.gz\n",
        "jhu-usc.edu_HNSC.HumanMethylation450.Level_1.1.1.0.tar.gz\n",
        "jhu-usc.edu_HNSC.HumanMethylation450.Level_1.1.2.0.tar.gz\n",
        "jhu-usc.edu_HNSC.HumanMethylation450.Level_1.1.3.0.tar.gz\n",
        "jhu-usc.edu_HNSC.HumanMethylation450.Level_1.1.4.0.tar.gz\n",
        "jhu-usc.edu_HNSC.HumanMethylation450.Level_1.1.5.0.tar.gz\n",
        "jhu-usc.edu_HNSC.HumanMethylation450.Level_1.1.6.0.tar.gz\n",
        "jhu-usc.edu_HNSC.HumanMethylation450.Level_1.1.7.0.tar.gz\n",
        "jhu-usc.edu_HNSC.HumanMethylation450.Level_1.1.8.0.tar.gz\n",
        "jhu-usc.edu_HNSC.HumanMethylation450.Level_1.10.3.0.tar.gz\n",
        "jhu-usc.edu_HNSC.HumanMethylation450.Level_1.10.4.0.tar.gz\n",
        "jhu-usc.edu_HNSC.HumanMethylation450.Level_1.10.5.0.tar.gz\n",
        "jhu-usc.edu_HNSC.HumanMethylation450.Level_1.10.6.0.tar.gz\n",
        "jhu-usc.edu_HNSC.HumanMethylation450.Level_1.10.7.0.tar.gz\n",
        "jhu-usc.edu_HNSC.HumanMethylation450.Level_1.10.8.0.tar.gz\n",
        "jhu-usc.edu_HNSC.HumanMethylation450.Level_1.11.3.0.tar.gz\n",
        "jhu-usc.edu_HNSC.HumanMethylation450.Level_1.11.4.0.tar.gz\n",
        "jhu-usc.edu_HNSC.HumanMethylation450.Level_1.11.5.0.tar.gz\n",
        "jhu-usc.edu_HNSC.HumanMethylation450.Level_1.11.6.0.tar.gz\n",
        "jhu-usc.edu_HNSC.HumanMethylation450.Level_1.11.7.0.tar.gz\n",
        "jhu-usc.edu_HNSC.HumanMethylation450.Level_1.11.8.0.tar.gz\n",
        "jhu-usc.edu_HNSC.HumanMethylation450.Level_1.12.3.0.tar.gz\n",
        "jhu-usc.edu_HNSC.HumanMethylation450.Level_1.12.4.0.tar.gz\n",
        "jhu-usc.edu_HNSC.HumanMethylation450.Level_1.12.5.0.tar.gz\n",
        "jhu-usc.edu_HNSC.HumanMethylation450.Level_1.12.6.0.tar.gz\n",
        "jhu-usc.edu_HNSC.HumanMethylation450.Level_1.12.7.0.tar.gz\n",
        "jhu-usc.edu_HNSC.HumanMethylation450.Level_1.12.8.0.tar.gz\n",
        "jhu-usc.edu_HNSC.HumanMethylation450.Level_1.13.3.0.tar.gz\n",
        "jhu-usc.edu_HNSC.HumanMethylation450.Level_1.13.4.0.tar.gz\n",
        "jhu-usc.edu_HNSC.HumanMethylation450.Level_1.13.5.0.tar.gz\n",
        "jhu-usc.edu_HNSC.HumanMethylation450.Level_1.13.6.0.tar.gz\n",
        "jhu-usc.edu_HNSC.HumanMethylation450.Level_1.13.7.0.tar.gz\n",
        "jhu-usc.edu_HNSC.HumanMethylation450.Level_1.13.8.0.tar.gz\n",
        "jhu-usc.edu_HNSC.HumanMethylation450.Level_1.14.4.0.tar.gz\n",
        "jhu-usc.edu_HNSC.HumanMethylation450.Level_1.14.5.0.tar.gz\n",
        "jhu-usc.edu_HNSC.HumanMethylation450.Level_1.14.6.0.tar.gz\n",
        "jhu-usc.edu_HNSC.HumanMethylation450.Level_1.14.7.0.tar.gz\n",
        "jhu-usc.edu_HNSC.HumanMethylation450.Level_1.14.8.0.tar.gz\n",
        "jhu-usc.edu_HNSC.HumanMethylation450.Level_1.15.4.0.tar.gz\n",
        "jhu-usc.edu_HNSC.HumanMethylation450.Level_1.15.5.0.tar.gz\n",
        "jhu-usc.edu_HNSC.HumanMethylation450.Level_1.15.6.0.tar.gz\n",
        "jhu-usc.edu_HNSC.HumanMethylation450.Level_1.15.7.0.tar.gz\n",
        "jhu-usc.edu_HNSC.HumanMethylation450.Level_1.15.8.0.tar.gz\n",
        "jhu-usc.edu_HNSC.HumanMethylation450.Level_1.16.5.0.tar.gz\n",
        "jhu-usc.edu_HNSC.HumanMethylation450.Level_1.16.6.0.tar.gz\n",
        "jhu-usc.edu_HNSC.HumanMethylation450.Level_1.16.7.0.tar.gz\n",
        "jhu-usc.edu_HNSC.HumanMethylation450.Level_1.16.8.0.tar.gz\n",
        "jhu-usc.edu_HNSC.HumanMethylation450.Level_1.17.6.0.tar.gz\n",
        "jhu-usc.edu_HNSC.HumanMethylation450.Level_1.17.7.0.tar.gz\n",
        "jhu-usc.edu_HNSC.HumanMethylation450.Level_1.17.8.0.tar.gz\n",
        "jhu-usc.edu_HNSC.HumanMethylation450.Level_1.18.7.0.tar.gz\n",
        "jhu-usc.edu_HNSC.HumanMethylation450.Level_1.18.8.0.tar.gz\n",
        "jhu-usc.edu_HNSC.HumanMethylation450.Level_1.2.0.0.tar.gz\n",
        "jhu-usc.edu_HNSC.HumanMethylation450.Level_1.2.1.0.tar.gz\n",
        "jhu-usc.edu_HNSC.HumanMethylation450.Level_1.2.2.0.tar.gz\n",
        "jhu-usc.edu_HNSC.HumanMethylation450.Level_1.2.3.0.tar.gz\n",
        "jhu-usc.edu_HNSC.HumanMethylation450.Level_1.2.4.0.tar.gz\n",
        "jhu-usc.edu_HNSC.HumanMethylation450.Level_1.2.5.0.tar.gz\n",
        "jhu-usc.edu_HNSC.HumanMethylation450.Level_1.2.6.0.tar.gz\n",
        "jhu-usc.edu_HNSC.HumanMethylation450.Level_1.2.7.0.tar.gz\n",
        "jhu-usc.edu_HNSC.HumanMethylation450.Level_1.2.8.0.tar.gz\n",
        "jhu-usc.edu_HNSC.HumanMethylation450.Level_1.3.0.0.tar.gz\n",
        "jhu-usc.edu_HNSC.HumanMethylation450.Level_1.3.1.0.tar.gz\n",
        "jhu-usc.edu_HNSC.HumanMethylation450.Level_1.3.2.0.tar.gz\n",
        "jhu-usc.edu_HNSC.HumanMethylation450.Level_1.3.3.0.tar.gz\n",
        "jhu-usc.edu_HNSC.HumanMethylation450.Level_1.3.4.0.tar.gz\n",
        "jhu-usc.edu_HNSC.HumanMethylation450.Level_1.3.5.0.tar.gz\n",
        "jhu-usc.edu_HNSC.HumanMethylation450.Level_1.3.6.0.tar.gz\n",
        "jhu-usc.edu_HNSC.HumanMethylation450.Level_1.3.7.0.tar.gz\n",
        "jhu-usc.edu_HNSC.HumanMethylation450.Level_1.3.8.0.tar.gz\n",
        "jhu-usc.edu_HNSC.HumanMethylation450.Level_1.4.0.0.tar.gz\n",
        "jhu-usc.edu_HNSC.HumanMethylation450.Level_1.4.1.0.tar.gz\n",
        "jhu-usc.edu_HNSC.HumanMethylation450.Level_1.4.2.0.tar.gz\n",
        "jhu-usc.edu_HNSC.HumanMethylation450.Level_1.4.3.0.tar.gz\n",
        "jhu-usc.edu_HNSC.HumanMethylation450.Level_1.4.4.0.tar.gz\n",
        "jhu-usc.edu_HNSC.HumanMethylation450.Level_1.4.5.0.tar.gz\n",
        "jhu-usc.edu_HNSC.HumanMethylation450.Level_1.4.6.0.tar.gz\n",
        "jhu-usc.edu_HNSC.HumanMethylation450.Level_1.4.7.0.tar.gz\n",
        "jhu-usc.edu_HNSC.HumanMethylation450.Level_1.4.8.0.tar.gz\n",
        "jhu-usc.edu_HNSC.HumanMethylation450.Level_1.5.0.0.tar.gz\n",
        "jhu-usc.edu_HNSC.HumanMethylation450.Level_1.5.1.0.tar.gz\n",
        "jhu-usc.edu_HNSC.HumanMethylation450.Level_1.5.2.0.tar.gz\n",
        "jhu-usc.edu_HNSC.HumanMethylation450.Level_1.5.3.0.tar.gz\n",
        "jhu-usc.edu_HNSC.HumanMethylation450.Level_1.5.4.0.tar.gz\n",
        "jhu-usc.edu_HNSC.HumanMethylation450.Level_1.5.5.0.tar.gz\n",
        "jhu-usc.edu_HNSC.HumanMethylation450.Level_1.5.6.0.tar.gz\n",
        "jhu-usc.edu_HNSC.HumanMethylation450.Level_1.5.7.0.tar.gz\n",
        "jhu-usc.edu_HNSC.HumanMethylation450.Level_1.5.8.0.tar.gz\n",
        "jhu-usc.edu_HNSC.HumanMethylation450.Level_1.6.0.0.tar.gz\n",
        "jhu-usc.edu_HNSC.HumanMethylation450.Level_1.6.1.0.tar.gz\n",
        "jhu-usc.edu_HNSC.HumanMethylation450.Level_1.6.2.0.tar.gz\n",
        "jhu-usc.edu_HNSC.HumanMethylation450.Level_1.6.3.0.tar.gz\n",
        "jhu-usc.edu_HNSC.HumanMethylation450.Level_1.6.4.0.tar.gz\n",
        "jhu-usc.edu_HNSC.HumanMethylation450.Level_1.6.5.0.tar.gz\n",
        "jhu-usc.edu_HNSC.HumanMethylation450.Level_1.6.6.0.tar.gz\n",
        "jhu-usc.edu_HNSC.HumanMethylation450.Level_1.6.7.0.tar.gz\n",
        "jhu-usc.edu_HNSC.HumanMethylation450.Level_1.6.8.0.tar.gz\n",
        "jhu-usc.edu_HNSC.HumanMethylation450.Level_1.7.0.0.tar.gz\n",
        "jhu-usc.edu_HNSC.HumanMethylation450.Level_1.7.1.0.tar.gz\n",
        "jhu-usc.edu_HNSC.HumanMethylation450.Level_1.7.2.0.tar.gz\n",
        "jhu-usc.edu_HNSC.HumanMethylation450.Level_1.7.3.0.tar.gz\n",
        "jhu-usc.edu_HNSC.HumanMethylation450.Level_1.7.4.0.tar.gz\n",
        "jhu-usc.edu_HNSC.HumanMethylation450.Level_1.7.5.0.tar.gz\n",
        "jhu-usc.edu_HNSC.HumanMethylation450.Level_1.7.6.0.tar.gz\n",
        "jhu-usc.edu_HNSC.HumanMethylation450.Level_1.7.7.0.tar.gz\n",
        "jhu-usc.edu_HNSC.HumanMethylation450.Level_1.7.8.0.tar.gz\n",
        "jhu-usc.edu_HNSC.HumanMethylation450.Level_1.8.0.0.tar.gz\n",
        "jhu-usc.edu_HNSC.HumanMethylation450.Level_1.8.1.0.tar.gz\n",
        "jhu-usc.edu_HNSC.HumanMethylation450.Level_1.8.2.0.tar.gz\n",
        "jhu-usc.edu_HNSC.HumanMethylation450.Level_1.8.3.0.tar.gz\n",
        "jhu-usc.edu_HNSC.HumanMethylation450.Level_1.1.1.0.tar.gz\n",
        "jhu-usc.edu_HNSC.HumanMethylation450.Level_1.1.2.0.tar.gz\n",
        "jhu-usc.edu_HNSC.HumanMethylation450.Level_1.1.3.0.tar.gz\n",
        "jhu-usc.edu_HNSC.HumanMethylation450.Level_1.1.4.0.tar.gz\n",
        "jhu-usc.edu_HNSC.HumanMethylation450.Level_1.1.5.0.tar.gz\n",
        "jhu-usc.edu_HNSC.HumanMethylation450.Level_1.1.6.0.tar.gz\n",
        "jhu-usc.edu_HNSC.HumanMethylation450.Level_1.1.7.0.tar.gz\n",
        "jhu-usc.edu_HNSC.HumanMethylation450.Level_1.1.8.0.tar.gz\n",
        "jhu-usc.edu_HNSC.HumanMethylation450.Level_1.10.3.0.tar.gz\n",
        "jhu-usc.edu_HNSC.HumanMethylation450.Level_1.10.4.0.tar.gz\n",
        "jhu-usc.edu_HNSC.HumanMethylation450.Level_1.10.5.0.tar.gz\n",
        "jhu-usc.edu_HNSC.HumanMethylation450.Level_1.10.6.0.tar.gz\n",
        "jhu-usc.edu_HNSC.HumanMethylation450.Level_1.10.7.0.tar.gz\n",
        "jhu-usc.edu_HNSC.HumanMethylation450.Level_1.10.8.0.tar.gz\n",
        "jhu-usc.edu_HNSC.HumanMethylation450.Level_1.11.3.0.tar.gz\n",
        "jhu-usc.edu_HNSC.HumanMethylation450.Level_1.11.4.0.tar.gz\n",
        "jhu-usc.edu_HNSC.HumanMethylation450.Level_1.11.5.0.tar.gz\n",
        "jhu-usc.edu_HNSC.HumanMethylation450.Level_1.11.6.0.tar.gz\n",
        "jhu-usc.edu_HNSC.HumanMethylation450.Level_1.11.7.0.tar.gz\n",
        "jhu-usc.edu_HNSC.HumanMethylation450.Level_1.11.8.0.tar.gz\n",
        "jhu-usc.edu_HNSC.HumanMethylation450.Level_1.12.3.0.tar.gz\n",
        "jhu-usc.edu_HNSC.HumanMethylation450.Level_1.12.4.0.tar.gz\n",
        "jhu-usc.edu_HNSC.HumanMethylation450.Level_1.12.5.0.tar.gz\n",
        "jhu-usc.edu_HNSC.HumanMethylation450.Level_1.12.6.0.tar.gz\n",
        "jhu-usc.edu_HNSC.HumanMethylation450.Level_1.12.7.0.tar.gz\n",
        "jhu-usc.edu_HNSC.HumanMethylation450.Level_1.12.8.0.tar.gz\n",
        "jhu-usc.edu_HNSC.HumanMethylation450.Level_1.13.3.0.tar.gz\n",
        "jhu-usc.edu_HNSC.HumanMethylation450.Level_1.13.4.0.tar.gz\n",
        "jhu-usc.edu_HNSC.HumanMethylation450.Level_1.13.5.0.tar.gz\n",
        "jhu-usc.edu_HNSC.HumanMethylation450.Level_1.13.6.0.tar.gz\n",
        "jhu-usc.edu_HNSC.HumanMethylation450.Level_1.13.7.0.tar.gz\n",
        "jhu-usc.edu_HNSC.HumanMethylation450.Level_1.13.8.0.tar.gz\n"
       ]
      }
     ],
     "prompt_number": 7
    },
    {
     "cell_type": "markdown",
     "metadata": {},
     "source": [
      "* Gets the right links:"
     ]
    },
    {
     "cell_type": "code",
     "collapsed": false,
     "input": [
      "links = [link.get('href') for link in soup.find_all('a') \n",
      "                          if (link.get('href') != None )\n",
      "                           and '_1.' in link.get('href')\n",
      "                           and '.tar.gz' in link.get('href')\n",
      "                           and '.md5' not in link.get('href')]\n",
      "links"
     ],
     "language": "python",
     "metadata": {},
     "outputs": [
      {
       "metadata": {},
       "output_type": "pyout",
       "prompt_number": 21,
       "text": [
        "['jhu-usc.edu_COAD.HumanMethylation450.Level_1.1.0.0.tar.gz',\n",
        " 'jhu-usc.edu_COAD.HumanMethylation450.Level_1.1.1.0.tar.gz',\n",
        " 'jhu-usc.edu_COAD.HumanMethylation450.Level_1.1.2.0.tar.gz',\n",
        " 'jhu-usc.edu_COAD.HumanMethylation450.Level_1.1.3.0.tar.gz',\n",
        " 'jhu-usc.edu_COAD.HumanMethylation450.Level_1.1.4.0.tar.gz',\n",
        " 'jhu-usc.edu_COAD.HumanMethylation450.Level_1.1.5.0.tar.gz',\n",
        " 'jhu-usc.edu_COAD.HumanMethylation450.Level_1.1.6.0.tar.gz',\n",
        " 'jhu-usc.edu_COAD.HumanMethylation450.Level_1.1.7.0.tar.gz',\n",
        " 'jhu-usc.edu_COAD.HumanMethylation450.Level_1.1.8.0.tar.gz',\n",
        " 'jhu-usc.edu_COAD.HumanMethylation450.Level_1.10.3.0.tar.gz',\n",
        " 'jhu-usc.edu_COAD.HumanMethylation450.Level_1.10.4.0.tar.gz',\n",
        " 'jhu-usc.edu_COAD.HumanMethylation450.Level_1.10.5.0.tar.gz',\n",
        " 'jhu-usc.edu_COAD.HumanMethylation450.Level_1.10.6.0.tar.gz',\n",
        " 'jhu-usc.edu_COAD.HumanMethylation450.Level_1.10.7.0.tar.gz',\n",
        " 'jhu-usc.edu_COAD.HumanMethylation450.Level_1.10.8.0.tar.gz',\n",
        " 'jhu-usc.edu_COAD.HumanMethylation450.Level_1.11.5.0.tar.gz',\n",
        " 'jhu-usc.edu_COAD.HumanMethylation450.Level_1.11.6.0.tar.gz',\n",
        " 'jhu-usc.edu_COAD.HumanMethylation450.Level_1.11.7.0.tar.gz',\n",
        " 'jhu-usc.edu_COAD.HumanMethylation450.Level_1.11.8.0.tar.gz',\n",
        " 'jhu-usc.edu_COAD.HumanMethylation450.Level_1.12.5.0.tar.gz',\n",
        " 'jhu-usc.edu_COAD.HumanMethylation450.Level_1.12.6.0.tar.gz',\n",
        " 'jhu-usc.edu_COAD.HumanMethylation450.Level_1.12.7.0.tar.gz',\n",
        " 'jhu-usc.edu_COAD.HumanMethylation450.Level_1.12.8.0.tar.gz',\n",
        " 'jhu-usc.edu_COAD.HumanMethylation450.Level_1.13.6.0.tar.gz',\n",
        " 'jhu-usc.edu_COAD.HumanMethylation450.Level_1.13.7.0.tar.gz',\n",
        " 'jhu-usc.edu_COAD.HumanMethylation450.Level_1.13.8.0.tar.gz',\n",
        " 'jhu-usc.edu_COAD.HumanMethylation450.Level_1.14.7.0.tar.gz',\n",
        " 'jhu-usc.edu_COAD.HumanMethylation450.Level_1.14.8.0.tar.gz',\n",
        " 'jhu-usc.edu_COAD.HumanMethylation450.Level_1.15.8.0.tar.gz',\n",
        " 'jhu-usc.edu_COAD.HumanMethylation450.Level_1.2.0.0.tar.gz',\n",
        " 'jhu-usc.edu_COAD.HumanMethylation450.Level_1.2.1.0.tar.gz',\n",
        " 'jhu-usc.edu_COAD.HumanMethylation450.Level_1.2.2.0.tar.gz',\n",
        " 'jhu-usc.edu_COAD.HumanMethylation450.Level_1.2.3.0.tar.gz',\n",
        " 'jhu-usc.edu_COAD.HumanMethylation450.Level_1.2.4.0.tar.gz',\n",
        " 'jhu-usc.edu_COAD.HumanMethylation450.Level_1.2.5.0.tar.gz',\n",
        " 'jhu-usc.edu_COAD.HumanMethylation450.Level_1.2.6.0.tar.gz',\n",
        " 'jhu-usc.edu_COAD.HumanMethylation450.Level_1.2.7.0.tar.gz',\n",
        " 'jhu-usc.edu_COAD.HumanMethylation450.Level_1.2.8.0.tar.gz',\n",
        " 'jhu-usc.edu_COAD.HumanMethylation450.Level_1.3.0.0.tar.gz',\n",
        " 'jhu-usc.edu_COAD.HumanMethylation450.Level_1.3.1.0.tar.gz',\n",
        " 'jhu-usc.edu_COAD.HumanMethylation450.Level_1.3.2.0.tar.gz',\n",
        " 'jhu-usc.edu_COAD.HumanMethylation450.Level_1.3.3.0.tar.gz',\n",
        " 'jhu-usc.edu_COAD.HumanMethylation450.Level_1.3.4.0.tar.gz',\n",
        " 'jhu-usc.edu_COAD.HumanMethylation450.Level_1.3.5.0.tar.gz',\n",
        " 'jhu-usc.edu_COAD.HumanMethylation450.Level_1.3.6.0.tar.gz',\n",
        " 'jhu-usc.edu_COAD.HumanMethylation450.Level_1.3.7.0.tar.gz',\n",
        " 'jhu-usc.edu_COAD.HumanMethylation450.Level_1.3.8.0.tar.gz',\n",
        " 'jhu-usc.edu_COAD.HumanMethylation450.Level_1.4.0.0.tar.gz',\n",
        " 'jhu-usc.edu_COAD.HumanMethylation450.Level_1.4.1.0.tar.gz',\n",
        " 'jhu-usc.edu_COAD.HumanMethylation450.Level_1.4.2.0.tar.gz',\n",
        " 'jhu-usc.edu_COAD.HumanMethylation450.Level_1.4.3.0.tar.gz',\n",
        " 'jhu-usc.edu_COAD.HumanMethylation450.Level_1.4.4.0.tar.gz',\n",
        " 'jhu-usc.edu_COAD.HumanMethylation450.Level_1.4.5.0.tar.gz',\n",
        " 'jhu-usc.edu_COAD.HumanMethylation450.Level_1.4.6.0.tar.gz',\n",
        " 'jhu-usc.edu_COAD.HumanMethylation450.Level_1.4.7.0.tar.gz',\n",
        " 'jhu-usc.edu_COAD.HumanMethylation450.Level_1.4.8.0.tar.gz',\n",
        " 'jhu-usc.edu_COAD.HumanMethylation450.Level_1.5.0.0.tar.gz',\n",
        " 'jhu-usc.edu_COAD.HumanMethylation450.Level_1.5.1.0.tar.gz',\n",
        " 'jhu-usc.edu_COAD.HumanMethylation450.Level_1.5.2.0.tar.gz',\n",
        " 'jhu-usc.edu_COAD.HumanMethylation450.Level_1.5.3.0.tar.gz',\n",
        " 'jhu-usc.edu_COAD.HumanMethylation450.Level_1.5.4.0.tar.gz',\n",
        " 'jhu-usc.edu_COAD.HumanMethylation450.Level_1.5.5.0.tar.gz',\n",
        " 'jhu-usc.edu_COAD.HumanMethylation450.Level_1.5.6.0.tar.gz',\n",
        " 'jhu-usc.edu_COAD.HumanMethylation450.Level_1.5.7.0.tar.gz',\n",
        " 'jhu-usc.edu_COAD.HumanMethylation450.Level_1.5.8.0.tar.gz',\n",
        " 'jhu-usc.edu_COAD.HumanMethylation450.Level_1.6.1.0.tar.gz',\n",
        " 'jhu-usc.edu_COAD.HumanMethylation450.Level_1.6.2.0.tar.gz',\n",
        " 'jhu-usc.edu_COAD.HumanMethylation450.Level_1.6.3.0.tar.gz',\n",
        " 'jhu-usc.edu_COAD.HumanMethylation450.Level_1.6.4.0.tar.gz',\n",
        " 'jhu-usc.edu_COAD.HumanMethylation450.Level_1.6.5.0.tar.gz',\n",
        " 'jhu-usc.edu_COAD.HumanMethylation450.Level_1.6.6.0.tar.gz',\n",
        " 'jhu-usc.edu_COAD.HumanMethylation450.Level_1.6.7.0.tar.gz',\n",
        " 'jhu-usc.edu_COAD.HumanMethylation450.Level_1.6.8.0.tar.gz',\n",
        " 'jhu-usc.edu_COAD.HumanMethylation450.Level_1.7.1.0.tar.gz',\n",
        " 'jhu-usc.edu_COAD.HumanMethylation450.Level_1.7.2.0.tar.gz',\n",
        " 'jhu-usc.edu_COAD.HumanMethylation450.Level_1.7.3.0.tar.gz',\n",
        " 'jhu-usc.edu_COAD.HumanMethylation450.Level_1.7.4.0.tar.gz',\n",
        " 'jhu-usc.edu_COAD.HumanMethylation450.Level_1.7.5.0.tar.gz',\n",
        " 'jhu-usc.edu_COAD.HumanMethylation450.Level_1.7.6.0.tar.gz',\n",
        " 'jhu-usc.edu_COAD.HumanMethylation450.Level_1.7.7.0.tar.gz',\n",
        " 'jhu-usc.edu_COAD.HumanMethylation450.Level_1.7.8.0.tar.gz',\n",
        " 'jhu-usc.edu_COAD.HumanMethylation450.Level_1.8.2.0.tar.gz',\n",
        " 'jhu-usc.edu_COAD.HumanMethylation450.Level_1.8.3.0.tar.gz',\n",
        " 'jhu-usc.edu_COAD.HumanMethylation450.Level_1.8.4.0.tar.gz',\n",
        " 'jhu-usc.edu_COAD.HumanMethylation450.Level_1.8.5.0.tar.gz',\n",
        " 'jhu-usc.edu_COAD.HumanMethylation450.Level_1.8.6.0.tar.gz',\n",
        " 'jhu-usc.edu_COAD.HumanMethylation450.Level_1.8.7.0.tar.gz',\n",
        " 'jhu-usc.edu_COAD.HumanMethylation450.Level_1.8.8.0.tar.gz',\n",
        " 'jhu-usc.edu_COAD.HumanMethylation450.Level_1.9.2.0.tar.gz',\n",
        " 'jhu-usc.edu_COAD.HumanMethylation450.Level_1.9.3.0.tar.gz',\n",
        " 'jhu-usc.edu_COAD.HumanMethylation450.Level_1.9.4.0.tar.gz',\n",
        " 'jhu-usc.edu_COAD.HumanMethylation450.Level_1.9.5.0.tar.gz',\n",
        " 'jhu-usc.edu_COAD.HumanMethylation450.Level_1.9.6.0.tar.gz',\n",
        " 'jhu-usc.edu_COAD.HumanMethylation450.Level_1.9.7.0.tar.gz',\n",
        " 'jhu-usc.edu_COAD.HumanMethylation450.Level_1.9.8.0.tar.gz']"
       ]
      }
     ],
     "prompt_number": 21
    },
    {
     "cell_type": "markdown",
     "metadata": {},
     "source": [
      "* one way to get files?"
     ]
    },
    {
     "cell_type": "code",
     "collapsed": false,
     "input": [
      "os.system('tar -xvf {}'.format(download_file)\n",
      "#os.system(\"wget {          }\".)\n",
      "#os.system('tar -xvf {}'.format(download_file)       "
     ],
     "language": "python",
     "metadata": {},
     "outputs": [
      {
       "ename": "SyntaxError",
       "evalue": "invalid syntax (<ipython-input-23-883e0f8cd350>, line 3)",
       "output_type": "pyerr",
       "traceback": [
        "\u001b[1;36m  File \u001b[1;32m\"<ipython-input-23-883e0f8cd350>\"\u001b[1;36m, line \u001b[1;32m3\u001b[0m\n\u001b[1;33m    #os.system('tar -xvf {}'.format(download_file)\u001b[0m\n\u001b[1;37m                                                         ^\u001b[0m\n\u001b[1;31mSyntaxError\u001b[0m\u001b[1;31m:\u001b[0m invalid syntax\n"
       ]
      }
     ],
     "prompt_number": 23
    },
    {
     "cell_type": "code",
     "collapsed": false,
     "input": [
      "os.system(\"wget {url + download_file}\")"
     ],
     "language": "python",
     "metadata": {},
     "outputs": [
      {
       "metadata": {},
       "output_type": "pyout",
       "prompt_number": 27,
       "text": [
        "1024"
       ]
      }
     ],
     "prompt_number": 27
    },
    {
     "cell_type": "code",
     "collapsed": false,
     "input": [
      "os.system('tar -xvf {}'.format(download_file))"
     ],
     "language": "python",
     "metadata": {},
     "outputs": [
      {
       "metadata": {},
       "output_type": "pyout",
       "prompt_number": 28,
       "text": [
        "512"
       ]
      }
     ],
     "prompt_number": 28
    },
    {
     "cell_type": "code",
     "collapsed": false,
     "input": [
      "ls"
     ],
     "language": "python",
     "metadata": {},
     "outputs": [
      {
       "output_type": "stream",
       "stream": "stdout",
       "text": [
        "\u001b[0m\u001b[01;34mBLCA_Meth_Data\u001b[0m/  \u001b[01;34mNotebook\u001b[0m/\r\n",
        "\u001b[01;34mBRCA_Meth_Data\u001b[0m/  \u001b[01;34mtcga-data.nci.nih.gov\u001b[0m/\r\n",
        "\u001b[01;34mCESC_Meth_Data\u001b[0m/  TCGA Methylation Data Code Tries.ipynb\r\n",
        "filess           TCGA Methylation Data-Different Real.ipynb\r\n",
        "filess~          TCGA Methylation Data OG.ipynb\r\n",
        "\u001b[01;34mHNSC_Meth_Data\u001b[0m/  TCGA Methylation Data-RealTry-Indivdownload.ipynb\r\n",
        "\u001b[01;34mJustinCase\u001b[0m/      tmp.html\r\n",
        "\u001b[01;34mMethyl\u001b[0m/\r\n"
       ]
      }
     ],
     "prompt_number": 11
    },
    {
     "cell_type": "markdown",
     "metadata": {},
     "source": [
      "<b> Download and Unzip tar.gz files </b>"
     ]
    },
    {
     "cell_type": "code",
     "collapsed": false,
     "input": [
      "for i, download_file in enumerate(links):\n",
      "    print \"Downloading file {}\".format(i + 1)\n",
      "    response = urllib2.urlopen(url + download_file)\n",
      "    compressedFile = StringIO.StringIO()\n",
      "    compressedFile.write(response.read())\n",
      "    compressedFile.seek(0)\n",
      "    decompressedFile = gzip.GzipFile(fileobj=compressedFile, mode='rb')\n",
      "    \n",
      "    with open(download_file.replace(\".gz\", \"\"), 'w') as datapath:\n",
      "        datapath.write(decompressedFile.read())"
     ],
     "language": "python",
     "metadata": {},
     "outputs": [
      {
       "output_type": "stream",
       "stream": "stdout",
       "text": [
        "Downloading file 1\n",
        "Downloading file 2"
       ]
      },
      {
       "output_type": "stream",
       "stream": "stdout",
       "text": [
        "\n",
        "Downloading file 3"
       ]
      },
      {
       "output_type": "stream",
       "stream": "stdout",
       "text": [
        "\n",
        "Downloading file 4"
       ]
      },
      {
       "output_type": "stream",
       "stream": "stdout",
       "text": [
        "\n",
        "Downloading file 5"
       ]
      },
      {
       "output_type": "stream",
       "stream": "stdout",
       "text": [
        "\n",
        "Downloading file 6"
       ]
      },
      {
       "output_type": "stream",
       "stream": "stdout",
       "text": [
        "\n",
        "Downloading file 7"
       ]
      },
      {
       "output_type": "stream",
       "stream": "stdout",
       "text": [
        "\n",
        "Downloading file 8"
       ]
      },
      {
       "output_type": "stream",
       "stream": "stdout",
       "text": [
        "\n",
        "Downloading file 9"
       ]
      },
      {
       "output_type": "stream",
       "stream": "stdout",
       "text": [
        "\n",
        "Downloading file 10"
       ]
      },
      {
       "output_type": "stream",
       "stream": "stdout",
       "text": [
        "\n",
        "Downloading file 11"
       ]
      },
      {
       "output_type": "stream",
       "stream": "stdout",
       "text": [
        "\n",
        "Downloading file 12"
       ]
      },
      {
       "output_type": "stream",
       "stream": "stdout",
       "text": [
        "\n",
        "Downloading file 13"
       ]
      },
      {
       "output_type": "stream",
       "stream": "stdout",
       "text": [
        "\n",
        "Downloading file 14"
       ]
      },
      {
       "output_type": "stream",
       "stream": "stdout",
       "text": [
        "\n",
        "Downloading file 15"
       ]
      },
      {
       "output_type": "stream",
       "stream": "stdout",
       "text": [
        "\n",
        "Downloading file 16"
       ]
      },
      {
       "output_type": "stream",
       "stream": "stdout",
       "text": [
        "\n",
        "Downloading file 17"
       ]
      },
      {
       "output_type": "stream",
       "stream": "stdout",
       "text": [
        "\n",
        "Downloading file 18"
       ]
      },
      {
       "output_type": "stream",
       "stream": "stdout",
       "text": [
        "\n",
        "Downloading file 19"
       ]
      },
      {
       "output_type": "stream",
       "stream": "stdout",
       "text": [
        "\n",
        "Downloading file 20"
       ]
      },
      {
       "output_type": "stream",
       "stream": "stdout",
       "text": [
        "\n",
        "Downloading file 21"
       ]
      },
      {
       "output_type": "stream",
       "stream": "stdout",
       "text": [
        "\n",
        "Downloading file 22"
       ]
      },
      {
       "output_type": "stream",
       "stream": "stdout",
       "text": [
        "\n",
        "Downloading file 23"
       ]
      },
      {
       "output_type": "stream",
       "stream": "stdout",
       "text": [
        "\n",
        "Downloading file 24"
       ]
      },
      {
       "output_type": "stream",
       "stream": "stdout",
       "text": [
        "\n",
        "Downloading file 25"
       ]
      },
      {
       "output_type": "stream",
       "stream": "stdout",
       "text": [
        "\n",
        "Downloading file 26"
       ]
      },
      {
       "output_type": "stream",
       "stream": "stdout",
       "text": [
        "\n",
        "Downloading file 27"
       ]
      },
      {
       "output_type": "stream",
       "stream": "stdout",
       "text": [
        "\n",
        "Downloading file 28"
       ]
      },
      {
       "output_type": "stream",
       "stream": "stdout",
       "text": [
        "\n",
        "Downloading file 29"
       ]
      },
      {
       "output_type": "stream",
       "stream": "stdout",
       "text": [
        "\n",
        "Downloading file 30"
       ]
      },
      {
       "output_type": "stream",
       "stream": "stdout",
       "text": [
        "\n",
        "Downloading file 31"
       ]
      },
      {
       "output_type": "stream",
       "stream": "stdout",
       "text": [
        "\n",
        "Downloading file 32"
       ]
      },
      {
       "output_type": "stream",
       "stream": "stdout",
       "text": [
        "\n",
        "Downloading file 33"
       ]
      },
      {
       "output_type": "stream",
       "stream": "stdout",
       "text": [
        "\n",
        "Downloading file 34"
       ]
      },
      {
       "output_type": "stream",
       "stream": "stdout",
       "text": [
        "\n",
        "Downloading file 35"
       ]
      },
      {
       "output_type": "stream",
       "stream": "stdout",
       "text": [
        "\n",
        "Downloading file 36"
       ]
      },
      {
       "output_type": "stream",
       "stream": "stdout",
       "text": [
        "\n",
        "Downloading file 37"
       ]
      },
      {
       "output_type": "stream",
       "stream": "stdout",
       "text": [
        "\n",
        "Downloading file 38"
       ]
      },
      {
       "output_type": "stream",
       "stream": "stdout",
       "text": [
        "\n",
        "Downloading file 39"
       ]
      },
      {
       "output_type": "stream",
       "stream": "stdout",
       "text": [
        "\n",
        "Downloading file 40"
       ]
      },
      {
       "output_type": "stream",
       "stream": "stdout",
       "text": [
        "\n",
        "Downloading file 41"
       ]
      },
      {
       "output_type": "stream",
       "stream": "stdout",
       "text": [
        "\n",
        "Downloading file 42"
       ]
      },
      {
       "output_type": "stream",
       "stream": "stdout",
       "text": [
        "\n",
        "Downloading file 43"
       ]
      },
      {
       "output_type": "stream",
       "stream": "stdout",
       "text": [
        "\n",
        "Downloading file 44"
       ]
      },
      {
       "output_type": "stream",
       "stream": "stdout",
       "text": [
        "\n",
        "Downloading file 45"
       ]
      },
      {
       "output_type": "stream",
       "stream": "stdout",
       "text": [
        "\n",
        "Downloading file 46"
       ]
      },
      {
       "output_type": "stream",
       "stream": "stdout",
       "text": [
        "\n",
        "Downloading file 47"
       ]
      },
      {
       "output_type": "stream",
       "stream": "stdout",
       "text": [
        "\n",
        "Downloading file 48"
       ]
      },
      {
       "output_type": "stream",
       "stream": "stdout",
       "text": [
        "\n",
        "Downloading file 49"
       ]
      },
      {
       "output_type": "stream",
       "stream": "stdout",
       "text": [
        "\n",
        "Downloading file 50"
       ]
      },
      {
       "output_type": "stream",
       "stream": "stdout",
       "text": [
        "\n",
        "Downloading file 51"
       ]
      },
      {
       "output_type": "stream",
       "stream": "stdout",
       "text": [
        "\n",
        "Downloading file 52"
       ]
      },
      {
       "output_type": "stream",
       "stream": "stdout",
       "text": [
        "\n",
        "Downloading file 53"
       ]
      },
      {
       "output_type": "stream",
       "stream": "stdout",
       "text": [
        "\n",
        "Downloading file 54"
       ]
      },
      {
       "output_type": "stream",
       "stream": "stdout",
       "text": [
        "\n",
        "Downloading file 55"
       ]
      },
      {
       "output_type": "stream",
       "stream": "stdout",
       "text": [
        "\n",
        "Downloading file 56"
       ]
      },
      {
       "output_type": "stream",
       "stream": "stdout",
       "text": [
        "\n",
        "Downloading file 57"
       ]
      },
      {
       "output_type": "stream",
       "stream": "stdout",
       "text": [
        "\n",
        "Downloading file 58"
       ]
      },
      {
       "output_type": "stream",
       "stream": "stdout",
       "text": [
        "\n",
        "Downloading file 59"
       ]
      },
      {
       "output_type": "stream",
       "stream": "stdout",
       "text": [
        "\n",
        "Downloading file 60"
       ]
      },
      {
       "output_type": "stream",
       "stream": "stdout",
       "text": [
        "\n",
        "Downloading file 61"
       ]
      },
      {
       "output_type": "stream",
       "stream": "stdout",
       "text": [
        "\n",
        "Downloading file 62"
       ]
      },
      {
       "output_type": "stream",
       "stream": "stdout",
       "text": [
        "\n",
        "Downloading file 63"
       ]
      },
      {
       "output_type": "stream",
       "stream": "stdout",
       "text": [
        "\n",
        "Downloading file 64"
       ]
      },
      {
       "output_type": "stream",
       "stream": "stdout",
       "text": [
        "\n",
        "Downloading file 65"
       ]
      },
      {
       "output_type": "stream",
       "stream": "stdout",
       "text": [
        "\n",
        "Downloading file 66"
       ]
      },
      {
       "output_type": "stream",
       "stream": "stdout",
       "text": [
        "\n",
        "Downloading file 67"
       ]
      },
      {
       "output_type": "stream",
       "stream": "stdout",
       "text": [
        "\n",
        "Downloading file 68"
       ]
      },
      {
       "output_type": "stream",
       "stream": "stdout",
       "text": [
        "\n",
        "Downloading file 69"
       ]
      },
      {
       "output_type": "stream",
       "stream": "stdout",
       "text": [
        "\n",
        "Downloading file 70"
       ]
      },
      {
       "output_type": "stream",
       "stream": "stdout",
       "text": [
        "\n",
        "Downloading file 71"
       ]
      },
      {
       "output_type": "stream",
       "stream": "stdout",
       "text": [
        "\n",
        "Downloading file 72"
       ]
      },
      {
       "output_type": "stream",
       "stream": "stdout",
       "text": [
        "\n",
        "Downloading file 73"
       ]
      },
      {
       "output_type": "stream",
       "stream": "stdout",
       "text": [
        "\n",
        "Downloading file 74"
       ]
      },
      {
       "output_type": "stream",
       "stream": "stdout",
       "text": [
        "\n",
        "Downloading file 75"
       ]
      },
      {
       "output_type": "stream",
       "stream": "stdout",
       "text": [
        "\n",
        "Downloading file 76"
       ]
      },
      {
       "output_type": "stream",
       "stream": "stdout",
       "text": [
        "\n",
        "Downloading file 77"
       ]
      },
      {
       "output_type": "stream",
       "stream": "stdout",
       "text": [
        "\n",
        "Downloading file 78"
       ]
      },
      {
       "output_type": "stream",
       "stream": "stdout",
       "text": [
        "\n",
        "Downloading file 79"
       ]
      },
      {
       "output_type": "stream",
       "stream": "stdout",
       "text": [
        "\n",
        "Downloading file 80"
       ]
      },
      {
       "output_type": "stream",
       "stream": "stdout",
       "text": [
        "\n",
        "Downloading file 81"
       ]
      },
      {
       "output_type": "stream",
       "stream": "stdout",
       "text": [
        "\n",
        "Downloading file 82"
       ]
      },
      {
       "output_type": "stream",
       "stream": "stdout",
       "text": [
        "\n",
        "Downloading file 83"
       ]
      },
      {
       "output_type": "stream",
       "stream": "stdout",
       "text": [
        "\n",
        "Downloading file 84"
       ]
      },
      {
       "output_type": "stream",
       "stream": "stdout",
       "text": [
        "\n",
        "Downloading file 85"
       ]
      },
      {
       "output_type": "stream",
       "stream": "stdout",
       "text": [
        "\n",
        "Downloading file 86"
       ]
      },
      {
       "output_type": "stream",
       "stream": "stdout",
       "text": [
        "\n",
        "Downloading file 87"
       ]
      },
      {
       "output_type": "stream",
       "stream": "stdout",
       "text": [
        "\n",
        "Downloading file 88"
       ]
      },
      {
       "output_type": "stream",
       "stream": "stdout",
       "text": [
        "\n",
        "Downloading file 89"
       ]
      },
      {
       "output_type": "stream",
       "stream": "stdout",
       "text": [
        "\n",
        "Downloading file 90"
       ]
      },
      {
       "output_type": "stream",
       "stream": "stdout",
       "text": [
        "\n",
        "Downloading file 91"
       ]
      },
      {
       "output_type": "stream",
       "stream": "stdout",
       "text": [
        "\n",
        "Downloading file 92"
       ]
      },
      {
       "output_type": "stream",
       "stream": "stdout",
       "text": [
        "\n",
        "Downloading file 93"
       ]
      },
      {
       "output_type": "stream",
       "stream": "stdout",
       "text": [
        "\n",
        "Downloading file 94"
       ]
      },
      {
       "output_type": "stream",
       "stream": "stdout",
       "text": [
        "\n",
        "Downloading file 95"
       ]
      },
      {
       "output_type": "stream",
       "stream": "stdout",
       "text": [
        "\n"
       ]
      }
     ],
     "prompt_number": 22
    },
    {
     "cell_type": "markdown",
     "metadata": {},
     "source": [
      "<b>Extract Tar Archive Using Command Line Function</b>"
     ]
    },
    {
     "cell_type": "code",
     "collapsed": false,
     "input": [
      "ls"
     ],
     "language": "python",
     "metadata": {},
     "outputs": [
      {
       "output_type": "stream",
       "stream": "stdout",
       "text": [
        "Example.ipynb\r\n",
        "fdsfdsd.tar\r\n",
        "Imports.ipynb\r\n",
        "Index.ipynb\r\n",
        "\u001b[0m\u001b[01;34mjhu-usc.edu_HNSC.HumanMethylation450.Level_1.1.0.0\u001b[0m/\r\n",
        "jhu-usc.edu_HNSC.HumanMethylation450.Level_1.1.0.0.tar\r\n",
        "jhu-usc.edu_HNSC.HumanMethylation450.Level_1.10.3.0.tar\r\n",
        "jhu-usc.edu_HNSC.HumanMethylation450.Level_1.10.4.0.tar\r\n",
        "jhu-usc.edu_HNSC.HumanMethylation450.Level_1.10.5.0.tar\r\n",
        "jhu-usc.edu_HNSC.HumanMethylation450.Level_1.10.6.0.tar\r\n",
        "jhu-usc.edu_HNSC.HumanMethylation450.Level_1.10.7.0.tar\r\n",
        "jhu-usc.edu_HNSC.HumanMethylation450.Level_1.10.8.0.tar\r\n",
        "jhu-usc.edu_HNSC.HumanMethylation450.Level_1.1.1.0.tar\r\n",
        "jhu-usc.edu_HNSC.HumanMethylation450.Level_1.11.3.0.tar\r\n",
        "jhu-usc.edu_HNSC.HumanMethylation450.Level_1.11.4.0.tar\r\n",
        "jhu-usc.edu_HNSC.HumanMethylation450.Level_1.11.5.0.tar\r\n",
        "jhu-usc.edu_HNSC.HumanMethylation450.Level_1.11.6.0.tar\r\n",
        "jhu-usc.edu_HNSC.HumanMethylation450.Level_1.11.7.0.tar\r\n",
        "jhu-usc.edu_HNSC.HumanMethylation450.Level_1.11.8.0.tar\r\n",
        "jhu-usc.edu_HNSC.HumanMethylation450.Level_1.1.2.0.tar\r\n",
        "jhu-usc.edu_HNSC.HumanMethylation450.Level_1.12.3.0.tar\r\n",
        "jhu-usc.edu_HNSC.HumanMethylation450.Level_1.12.4.0.tar\r\n",
        "jhu-usc.edu_HNSC.HumanMethylation450.Level_1.12.5.0.tar\r\n",
        "jhu-usc.edu_HNSC.HumanMethylation450.Level_1.12.6.0.tar\r\n",
        "jhu-usc.edu_HNSC.HumanMethylation450.Level_1.12.7.0.tar\r\n",
        "jhu-usc.edu_HNSC.HumanMethylation450.Level_1.12.8.0.tar\r\n",
        "jhu-usc.edu_HNSC.HumanMethylation450.Level_1.1.3.0.tar\r\n",
        "jhu-usc.edu_HNSC.HumanMethylation450.Level_1.13.3.0.tar\r\n",
        "jhu-usc.edu_HNSC.HumanMethylation450.Level_1.13.4.0.tar\r\n",
        "jhu-usc.edu_HNSC.HumanMethylation450.Level_1.13.5.0.tar\r\n",
        "jhu-usc.edu_HNSC.HumanMethylation450.Level_1.13.6.0.tar\r\n",
        "jhu-usc.edu_HNSC.HumanMethylation450.Level_1.13.7.0.tar\r\n",
        "jhu-usc.edu_HNSC.HumanMethylation450.Level_1.13.8.0.tar\r\n",
        "jhu-usc.edu_HNSC.HumanMethylation450.Level_1.1.4.0.tar\r\n",
        "jhu-usc.edu_HNSC.HumanMethylation450.Level_1.14.4.0.tar\r\n",
        "jhu-usc.edu_HNSC.HumanMethylation450.Level_1.14.5.0.tar\r\n",
        "jhu-usc.edu_HNSC.HumanMethylation450.Level_1.14.6.0.tar\r\n",
        "jhu-usc.edu_HNSC.HumanMethylation450.Level_1.14.7.0.tar\r\n",
        "jhu-usc.edu_HNSC.HumanMethylation450.Level_1.14.8.0.tar\r\n",
        "jhu-usc.edu_HNSC.HumanMethylation450.Level_1.1.5.0.tar\r\n",
        "jhu-usc.edu_HNSC.HumanMethylation450.Level_1.15.4.0.tar\r\n",
        "jhu-usc.edu_HNSC.HumanMethylation450.Level_1.15.5.0.tar\r\n",
        "jhu-usc.edu_HNSC.HumanMethylation450.Level_1.15.6.0.tar\r\n",
        "jhu-usc.edu_HNSC.HumanMethylation450.Level_1.15.7.0.tar\r\n",
        "jhu-usc.edu_HNSC.HumanMethylation450.Level_1.15.8.0.tar\r\n",
        "jhu-usc.edu_HNSC.HumanMethylation450.Level_1.1.6.0.tar\r\n",
        "jhu-usc.edu_HNSC.HumanMethylation450.Level_1.16.5.0.tar\r\n",
        "jhu-usc.edu_HNSC.HumanMethylation450.Level_1.16.6.0.tar\r\n",
        "jhu-usc.edu_HNSC.HumanMethylation450.Level_1.16.7.0.tar\r\n",
        "jhu-usc.edu_HNSC.HumanMethylation450.Level_1.16.8.0.tar\r\n",
        "jhu-usc.edu_HNSC.HumanMethylation450.Level_1.1.7.0.tar\r\n",
        "jhu-usc.edu_HNSC.HumanMethylation450.Level_1.17.6.0.tar\r\n",
        "jhu-usc.edu_HNSC.HumanMethylation450.Level_1.17.7.0.tar\r\n",
        "jhu-usc.edu_HNSC.HumanMethylation450.Level_1.17.8.0.tar\r\n",
        "jhu-usc.edu_HNSC.HumanMethylation450.Level_1.1.8.0.tar\r\n",
        "jhu-usc.edu_HNSC.HumanMethylation450.Level_1.18.7.0.tar\r\n",
        "jhu-usc.edu_HNSC.HumanMethylation450.Level_1.18.8.0.tar\r\n",
        "jhu-usc.edu_HNSC.HumanMethylation450.Level_1.2.0.0.tar\r\n",
        "jhu-usc.edu_HNSC.HumanMethylation450.Level_1.2.1.0.tar\r\n",
        "jhu-usc.edu_HNSC.HumanMethylation450.Level_1.2.2.0.tar\r\n",
        "jhu-usc.edu_HNSC.HumanMethylation450.Level_1.2.3.0.tar\r\n",
        "jhu-usc.edu_HNSC.HumanMethylation450.Level_1.2.4.0.tar\r\n",
        "jhu-usc.edu_HNSC.HumanMethylation450.Level_1.2.5.0.tar\r\n",
        "jhu-usc.edu_HNSC.HumanMethylation450.Level_1.2.6.0.tar\r\n",
        "jhu-usc.edu_HNSC.HumanMethylation450.Level_1.2.7.0.tar\r\n",
        "jhu-usc.edu_HNSC.HumanMethylation450.Level_1.2.8.0.tar\r\n",
        "jhu-usc.edu_HNSC.HumanMethylation450.Level_1.3.0.0.tar\r\n",
        "jhu-usc.edu_HNSC.HumanMethylation450.Level_1.3.1.0.tar\r\n",
        "jhu-usc.edu_HNSC.HumanMethylation450.Level_1.3.2.0.tar\r\n",
        "jhu-usc.edu_HNSC.HumanMethylation450.Level_1.3.3.0.tar\r\n",
        "jhu-usc.edu_HNSC.HumanMethylation450.Level_1.3.4.0.tar\r\n",
        "jhu-usc.edu_HNSC.HumanMethylation450.Level_1.3.5.0.tar\r\n",
        "jhu-usc.edu_HNSC.HumanMethylation450.Level_1.3.6.0.tar\r\n",
        "jhu-usc.edu_HNSC.HumanMethylation450.Level_1.3.7.0.tar\r\n",
        "jhu-usc.edu_HNSC.HumanMethylation450.Level_1.3.8.0.tar\r\n",
        "jhu-usc.edu_HNSC.HumanMethylation450.Level_1.4.0.0.tar\r\n",
        "jhu-usc.edu_HNSC.HumanMethylation450.Level_1.4.1.0.tar\r\n",
        "jhu-usc.edu_HNSC.HumanMethylation450.Level_1.4.2.0.tar\r\n",
        "jhu-usc.edu_HNSC.HumanMethylation450.Level_1.4.3.0.tar\r\n",
        "jhu-usc.edu_HNSC.HumanMethylation450.Level_1.4.4.0.tar\r\n",
        "jhu-usc.edu_HNSC.HumanMethylation450.Level_1.4.5.0.tar\r\n",
        "jhu-usc.edu_HNSC.HumanMethylation450.Level_1.4.6.0.tar\r\n",
        "jhu-usc.edu_HNSC.HumanMethylation450.Level_1.4.7.0.tar\r\n",
        "jhu-usc.edu_HNSC.HumanMethylation450.Level_1.4.8.0.tar\r\n",
        "jhu-usc.edu_HNSC.HumanMethylation450.Level_1.5.0.0.tar\r\n",
        "jhu-usc.edu_HNSC.HumanMethylation450.Level_1.5.1.0.tar\r\n",
        "jhu-usc.edu_HNSC.HumanMethylation450.Level_1.5.2.0.tar\r\n",
        "jhu-usc.edu_HNSC.HumanMethylation450.Level_1.5.3.0.tar\r\n",
        "jhu-usc.edu_HNSC.HumanMethylation450.Level_1.5.4.0.tar\r\n",
        "jhu-usc.edu_HNSC.HumanMethylation450.Level_1.5.5.0.tar\r\n",
        "jhu-usc.edu_HNSC.HumanMethylation450.Level_1.5.6.0.tar\r\n",
        "jhu-usc.edu_HNSC.HumanMethylation450.Level_1.5.7.0.tar\r\n",
        "jhu-usc.edu_HNSC.HumanMethylation450.Level_1.5.8.0.tar\r\n",
        "jhu-usc.edu_HNSC.HumanMethylation450.Level_1.6.0.0.tar\r\n",
        "jhu-usc.edu_HNSC.HumanMethylation450.Level_1.6.1.0.tar\r\n",
        "jhu-usc.edu_HNSC.HumanMethylation450.Level_1.6.2.0.tar\r\n",
        "jhu-usc.edu_HNSC.HumanMethylation450.Level_1.6.3.0.tar\r\n",
        "\u001b[01;34mJustinCase\u001b[0m/\r\n",
        "\u001b[01;34mMethyl\u001b[0m/\r\n",
        "\u001b[01;34mNotebook\u001b[0m/\r\n",
        "\u001b[01;34mtcga-data.nci.nih.gov\u001b[0m/\r\n",
        "TCGA Methylation Data-1?.ipynb\r\n",
        "TCGA Methylation Data 2.ipynb\r\n",
        "TCGA Methylation Data-Copy0.ipynb\r\n",
        "TCGA Methylation Data-First File Zipped.ipynb\r\n",
        "TCGA Methylation Data.ipynb\r\n",
        "TCGA Methylation Data-New TRy-Copy0.ipynb\r\n",
        "TCGA Methylation Data-New TRy.ipynb\r\n",
        "TCGA Methylation Data-RealTry-Copy0-Copy0.ipynb\r\n",
        "TCGA Methylation Data-RealTry-Copy0.ipynb\r\n",
        "TCGA Methylation Data-RealTry.ipynb\r\n",
        "TCGA Methylation Data-Works?.ipynb\r\n",
        "TCGA Methylation Data-Works Prob?.ipynb\r\n",
        "tmp.html\r\n",
        "Untitled0.ipynb\r\n",
        "Untitled1.ipynb\r\n",
        "Untitled2.ipynb\r\n"
       ]
      }
     ],
     "prompt_number": 1
    },
    {
     "cell_type": "code",
     "collapsed": false,
     "input": [
      "!tar -xvf jhu-usc.edu_HNSC.HumanMethylation450.Level_1.1.2.0.tar"
     ],
     "language": "python",
     "metadata": {},
     "outputs": [
      {
       "output_type": "stream",
       "stream": "stdout",
       "text": [
        "jhu-usc.edu_HNSC.HumanMethylation450.Level_1.1.2.0/6285650014_R01C01_Grn.idat\r\n"
       ]
      },
      {
       "output_type": "stream",
       "stream": "stdout",
       "text": [
        "jhu-usc.edu_HNSC.HumanMethylation450.Level_1.1.2.0/6285650014_R01C01_Red.idat\r\n"
       ]
      },
      {
       "output_type": "stream",
       "stream": "stdout",
       "text": [
        "jhu-usc.edu_HNSC.HumanMethylation450.Level_1.1.2.0/6285650014_R01C02_Grn.idat\r\n"
       ]
      },
      {
       "output_type": "stream",
       "stream": "stdout",
       "text": [
        "jhu-usc.edu_HNSC.HumanMethylation450.Level_1.1.2.0/6285650014_R01C02_Red.idat\r\n"
       ]
      },
      {
       "output_type": "stream",
       "stream": "stdout",
       "text": [
        "jhu-usc.edu_HNSC.HumanMethylation450.Level_1.1.2.0/6285650014_R02C01_Grn.idat\r\n"
       ]
      },
      {
       "output_type": "stream",
       "stream": "stdout",
       "text": [
        "jhu-usc.edu_HNSC.HumanMethylation450.Level_1.1.2.0/6285650014_R02C01_Red.idat\r\n"
       ]
      },
      {
       "output_type": "stream",
       "stream": "stdout",
       "text": [
        "jhu-usc.edu_HNSC.HumanMethylation450.Level_1.1.2.0/6285650014_R02C02_Grn.idat\r\n"
       ]
      },
      {
       "output_type": "stream",
       "stream": "stdout",
       "text": [
        "jhu-usc.edu_HNSC.HumanMethylation450.Level_1.1.2.0/6285650014_R02C02_Red.idat\r\n"
       ]
      },
      {
       "output_type": "stream",
       "stream": "stdout",
       "text": [
        "jhu-usc.edu_HNSC.HumanMethylation450.Level_1.1.2.0/6285650014_R03C01_Grn.idat\r\n"
       ]
      },
      {
       "output_type": "stream",
       "stream": "stdout",
       "text": [
        "jhu-usc.edu_HNSC.HumanMethylation450.Level_1.1.2.0/6285650014_R03C01_Red.idat\r\n"
       ]
      },
      {
       "output_type": "stream",
       "stream": "stdout",
       "text": [
        "jhu-usc.edu_HNSC.HumanMethylation450.Level_1.1.2.0/6285650014_R03C02_Grn.idat\r\n"
       ]
      },
      {
       "output_type": "stream",
       "stream": "stdout",
       "text": [
        "jhu-usc.edu_HNSC.HumanMethylation450.Level_1.1.2.0/6285650014_R03C02_Red.idat\r\n"
       ]
      },
      {
       "output_type": "stream",
       "stream": "stdout",
       "text": [
        "jhu-usc.edu_HNSC.HumanMethylation450.Level_1.1.2.0/6285650014_R04C01_Grn.idat\r\n"
       ]
      },
      {
       "output_type": "stream",
       "stream": "stdout",
       "text": [
        "jhu-usc.edu_HNSC.HumanMethylation450.Level_1.1.2.0/6285650014_R04C01_Red.idat\r\n"
       ]
      },
      {
       "output_type": "stream",
       "stream": "stdout",
       "text": [
        "jhu-usc.edu_HNSC.HumanMethylation450.Level_1.1.2.0/6285650014_R04C02_Grn.idat\r\n"
       ]
      },
      {
       "output_type": "stream",
       "stream": "stdout",
       "text": [
        "jhu-usc.edu_HNSC.HumanMethylation450.Level_1.1.2.0/6285650014_R04C02_Red.idat\r\n"
       ]
      },
      {
       "output_type": "stream",
       "stream": "stdout",
       "text": [
        "jhu-usc.edu_HNSC.HumanMethylation450.Level_1.1.2.0/6285650014_R05C01_Grn.idat\r\n"
       ]
      },
      {
       "output_type": "stream",
       "stream": "stdout",
       "text": [
        "jhu-usc.edu_HNSC.HumanMethylation450.Level_1.1.2.0/6285650014_R05C01_Red.idat\r\n"
       ]
      },
      {
       "output_type": "stream",
       "stream": "stdout",
       "text": [
        "jhu-usc.edu_HNSC.HumanMethylation450.Level_1.1.2.0/6285650014_R05C02_Grn.idat\r\n"
       ]
      },
      {
       "output_type": "stream",
       "stream": "stdout",
       "text": [
        "jhu-usc.edu_HNSC.HumanMethylation450.Level_1.1.2.0/6285650014_R05C02_Red.idat\r\n"
       ]
      },
      {
       "output_type": "stream",
       "stream": "stdout",
       "text": [
        "jhu-usc.edu_HNSC.HumanMethylation450.Level_1.1.2.0/6285650014_R06C01_Grn.idat\r\n"
       ]
      },
      {
       "output_type": "stream",
       "stream": "stdout",
       "text": [
        "jhu-usc.edu_HNSC.HumanMethylation450.Level_1.1.2.0/6285650014_R06C01_Red.idat\r\n"
       ]
      },
      {
       "output_type": "stream",
       "stream": "stdout",
       "text": [
        "jhu-usc.edu_HNSC.HumanMethylation450.Level_1.1.2.0/6285650014_R06C02_Grn.idat\r\n"
       ]
      },
      {
       "output_type": "stream",
       "stream": "stdout",
       "text": [
        "jhu-usc.edu_HNSC.HumanMethylation450.Level_1.1.2.0/6285650014_R06C02_Red.idat\r\n"
       ]
      },
      {
       "output_type": "stream",
       "stream": "stdout",
       "text": [
        "jhu-usc.edu_HNSC.HumanMethylation450.Level_1.1.2.0/6285650015_R01C01_Grn.idat\r\n"
       ]
      },
      {
       "output_type": "stream",
       "stream": "stdout",
       "text": [
        "jhu-usc.edu_HNSC.HumanMethylation450.Level_1.1.2.0/6285650015_R01C01_Red.idat\r\n"
       ]
      },
      {
       "output_type": "stream",
       "stream": "stdout",
       "text": [
        "jhu-usc.edu_HNSC.HumanMethylation450.Level_1.1.2.0/6285650015_R01C02_Grn.idat\r\n"
       ]
      },
      {
       "output_type": "stream",
       "stream": "stdout",
       "text": [
        "jhu-usc.edu_HNSC.HumanMethylation450.Level_1.1.2.0/6285650015_R01C02_Red.idat\r\n"
       ]
      },
      {
       "output_type": "stream",
       "stream": "stdout",
       "text": [
        "jhu-usc.edu_HNSC.HumanMethylation450.Level_1.1.2.0/6285650015_R02C01_Grn.idat\r\n"
       ]
      },
      {
       "output_type": "stream",
       "stream": "stdout",
       "text": [
        "jhu-usc.edu_HNSC.HumanMethylation450.Level_1.1.2.0/6285650015_R02C01_Red.idat\r\n"
       ]
      },
      {
       "output_type": "stream",
       "stream": "stdout",
       "text": [
        "jhu-usc.edu_HNSC.HumanMethylation450.Level_1.1.2.0/6285650015_R02C02_Grn.idat\r\n"
       ]
      },
      {
       "output_type": "stream",
       "stream": "stdout",
       "text": [
        "jhu-usc.edu_HNSC.HumanMethylation450.Level_1.1.2.0/6285650015_R02C02_Red.idat\r\n"
       ]
      },
      {
       "output_type": "stream",
       "stream": "stdout",
       "text": [
        "jhu-usc.edu_HNSC.HumanMethylation450.Level_1.1.2.0/6285650015_R03C01_Grn.idat\r\n"
       ]
      },
      {
       "output_type": "stream",
       "stream": "stdout",
       "text": [
        "jhu-usc.edu_HNSC.HumanMethylation450.Level_1.1.2.0/6285650015_R03C01_Red.idat\r\n"
       ]
      },
      {
       "output_type": "stream",
       "stream": "stdout",
       "text": [
        "jhu-usc.edu_HNSC.HumanMethylation450.Level_1.1.2.0/6285650015_R03C02_Grn.idat\r\n"
       ]
      },
      {
       "output_type": "stream",
       "stream": "stdout",
       "text": [
        "jhu-usc.edu_HNSC.HumanMethylation450.Level_1.1.2.0/6285650015_R03C02_Red.idat\r\n"
       ]
      },
      {
       "output_type": "stream",
       "stream": "stdout",
       "text": [
        "jhu-usc.edu_HNSC.HumanMethylation450.Level_1.1.2.0/6285650015_R04C01_Grn.idat\r\n"
       ]
      },
      {
       "output_type": "stream",
       "stream": "stdout",
       "text": [
        "jhu-usc.edu_HNSC.HumanMethylation450.Level_1.1.2.0/6285650015_R04C01_Red.idat\r\n"
       ]
      },
      {
       "output_type": "stream",
       "stream": "stdout",
       "text": [
        "jhu-usc.edu_HNSC.HumanMethylation450.Level_1.1.2.0/6285650015_R04C02_Grn.idat\r\n"
       ]
      },
      {
       "output_type": "stream",
       "stream": "stdout",
       "text": [
        "jhu-usc.edu_HNSC.HumanMethylation450.Level_1.1.2.0/6285650015_R04C02_Red.idat\r\n"
       ]
      },
      {
       "output_type": "stream",
       "stream": "stdout",
       "text": [
        "jhu-usc.edu_HNSC.HumanMethylation450.Level_1.1.2.0/6285650015_R05C01_Grn.idat\r\n"
       ]
      },
      {
       "output_type": "stream",
       "stream": "stdout",
       "text": [
        "jhu-usc.edu_HNSC.HumanMethylation450.Level_1.1.2.0/6285650015_R05C01_Red.idat\r\n"
       ]
      },
      {
       "output_type": "stream",
       "stream": "stdout",
       "text": [
        "jhu-usc.edu_HNSC.HumanMethylation450.Level_1.1.2.0/6285650015_R05C02_Grn.idat\r\n"
       ]
      },
      {
       "output_type": "stream",
       "stream": "stdout",
       "text": [
        "jhu-usc.edu_HNSC.HumanMethylation450.Level_1.1.2.0/6285650015_R05C02_Red.idat\r\n"
       ]
      },
      {
       "output_type": "stream",
       "stream": "stdout",
       "text": [
        "jhu-usc.edu_HNSC.HumanMethylation450.Level_1.1.2.0/6285650015_R06C01_Grn.idat\r\n"
       ]
      },
      {
       "output_type": "stream",
       "stream": "stdout",
       "text": [
        "jhu-usc.edu_HNSC.HumanMethylation450.Level_1.1.2.0/6285650015_R06C01_Red.idat\r\n"
       ]
      },
      {
       "output_type": "stream",
       "stream": "stdout",
       "text": [
        "jhu-usc.edu_HNSC.HumanMethylation450.Level_1.1.2.0/6285650015_R06C02_Grn.idat\r\n"
       ]
      },
      {
       "output_type": "stream",
       "stream": "stdout",
       "text": [
        "jhu-usc.edu_HNSC.HumanMethylation450.Level_1.1.2.0/6285650015_R06C02_Red.idat\r\n"
       ]
      },
      {
       "output_type": "stream",
       "stream": "stdout",
       "text": [
        "jhu-usc.edu_HNSC.HumanMethylation450.Level_1.1.2.0/6285650016_R01C01_Grn.idat\r\n"
       ]
      },
      {
       "output_type": "stream",
       "stream": "stdout",
       "text": [
        "jhu-usc.edu_HNSC.HumanMethylation450.Level_1.1.2.0/6285650016_R01C01_Red.idat\r\n"
       ]
      },
      {
       "output_type": "stream",
       "stream": "stdout",
       "text": [
        "jhu-usc.edu_HNSC.HumanMethylation450.Level_1.1.2.0/6285650016_R02C01_Grn.idat\r\n"
       ]
      },
      {
       "output_type": "stream",
       "stream": "stdout",
       "text": [
        "jhu-usc.edu_HNSC.HumanMethylation450.Level_1.1.2.0/6285650016_R02C01_Red.idat\r\n"
       ]
      },
      {
       "output_type": "stream",
       "stream": "stdout",
       "text": [
        "jhu-usc.edu_HNSC.HumanMethylation450.Level_1.1.2.0/6285650016_R02C02_Grn.idat\r\n"
       ]
      },
      {
       "output_type": "stream",
       "stream": "stdout",
       "text": [
        "jhu-usc.edu_HNSC.HumanMethylation450.Level_1.1.2.0/6285650016_R02C02_Red.idat\r\n"
       ]
      },
      {
       "output_type": "stream",
       "stream": "stdout",
       "text": [
        "jhu-usc.edu_HNSC.HumanMethylation450.Level_1.1.2.0/6285650016_R03C01_Grn.idat\r\n"
       ]
      },
      {
       "output_type": "stream",
       "stream": "stdout",
       "text": [
        "jhu-usc.edu_HNSC.HumanMethylation450.Level_1.1.2.0/6285650016_R03C01_Red.idat\r\n"
       ]
      },
      {
       "output_type": "stream",
       "stream": "stdout",
       "text": [
        "jhu-usc.edu_HNSC.HumanMethylation450.Level_1.1.2.0/6285650016_R03C02_Grn.idat\r\n"
       ]
      },
      {
       "output_type": "stream",
       "stream": "stdout",
       "text": [
        "jhu-usc.edu_HNSC.HumanMethylation450.Level_1.1.2.0/6285650016_R03C02_Red.idat\r\n"
       ]
      },
      {
       "output_type": "stream",
       "stream": "stdout",
       "text": [
        "jhu-usc.edu_HNSC.HumanMethylation450.Level_1.1.2.0/6285650016_R04C01_Grn.idat\r\n"
       ]
      },
      {
       "output_type": "stream",
       "stream": "stdout",
       "text": [
        "jhu-usc.edu_HNSC.HumanMethylation450.Level_1.1.2.0/6285650016_R04C01_Red.idat\r\n"
       ]
      },
      {
       "output_type": "stream",
       "stream": "stdout",
       "text": [
        "jhu-usc.edu_HNSC.HumanMethylation450.Level_1.1.2.0/6285650016_R04C02_Grn.idat\r\n"
       ]
      },
      {
       "output_type": "stream",
       "stream": "stdout",
       "text": [
        "jhu-usc.edu_HNSC.HumanMethylation450.Level_1.1.2.0/6285650016_R04C02_Red.idat\r\n"
       ]
      },
      {
       "output_type": "stream",
       "stream": "stdout",
       "text": [
        "jhu-usc.edu_HNSC.HumanMethylation450.Level_1.1.2.0/6285650016_R05C02_Grn.idat\r\n"
       ]
      },
      {
       "output_type": "stream",
       "stream": "stdout",
       "text": [
        "jhu-usc.edu_HNSC.HumanMethylation450.Level_1.1.2.0/6285650016_R05C02_Red.idat\r\n"
       ]
      },
      {
       "output_type": "stream",
       "stream": "stdout",
       "text": [
        "jhu-usc.edu_HNSC.HumanMethylation450.Level_1.1.2.0/6285650016_R06C01_Grn.idat\r\n"
       ]
      },
      {
       "output_type": "stream",
       "stream": "stdout",
       "text": [
        "jhu-usc.edu_HNSC.HumanMethylation450.Level_1.1.2.0/6285650016_R06C01_Red.idat\r\n"
       ]
      },
      {
       "output_type": "stream",
       "stream": "stdout",
       "text": [
        "jhu-usc.edu_HNSC.HumanMethylation450.Level_1.1.2.0/6285650016_R06C02_Grn.idat\r\n"
       ]
      },
      {
       "output_type": "stream",
       "stream": "stdout",
       "text": [
        "jhu-usc.edu_HNSC.HumanMethylation450.Level_1.1.2.0/6285650016_R06C02_Red.idat\r\n"
       ]
      },
      {
       "output_type": "stream",
       "stream": "stdout",
       "text": [
        "jhu-usc.edu_HNSC.HumanMethylation450.Level_1.1.2.0/6285650023_R01C01_Grn.idat\r\n"
       ]
      },
      {
       "output_type": "stream",
       "stream": "stdout",
       "text": [
        "jhu-usc.edu_HNSC.HumanMethylation450.Level_1.1.2.0/6285650023_R01C01_Red.idat\r\n"
       ]
      },
      {
       "output_type": "stream",
       "stream": "stdout",
       "text": [
        "jhu-usc.edu_HNSC.HumanMethylation450.Level_1.1.2.0/6285650023_R02C01_Grn.idat\r\n"
       ]
      },
      {
       "output_type": "stream",
       "stream": "stdout",
       "text": [
        "jhu-usc.edu_HNSC.HumanMethylation450.Level_1.1.2.0/6285650023_R02C01_Red.idat\r\n"
       ]
      },
      {
       "output_type": "stream",
       "stream": "stdout",
       "text": [
        "jhu-usc.edu_HNSC.HumanMethylation450.Level_1.1.2.0/6285650023_R03C01_Grn.idat\r\n"
       ]
      },
      {
       "output_type": "stream",
       "stream": "stdout",
       "text": [
        "jhu-usc.edu_HNSC.HumanMethylation450.Level_1.1.2.0/6285650023_R03C01_Red.idat\r\n"
       ]
      },
      {
       "output_type": "stream",
       "stream": "stdout",
       "text": [
        "jhu-usc.edu_HNSC.HumanMethylation450.Level_1.1.2.0/6285650023_R04C01_Grn.idat\r\n"
       ]
      },
      {
       "output_type": "stream",
       "stream": "stdout",
       "text": [
        "jhu-usc.edu_HNSC.HumanMethylation450.Level_1.1.2.0/6285650023_R04C01_Red.idat\r\n"
       ]
      },
      {
       "output_type": "stream",
       "stream": "stdout",
       "text": [
        "jhu-usc.edu_HNSC.HumanMethylation450.Level_1.1.2.0/6929671086_R01C01_Grn.idat\r\n"
       ]
      },
      {
       "output_type": "stream",
       "stream": "stdout",
       "text": [
        "jhu-usc.edu_HNSC.HumanMethylation450.Level_1.1.2.0/6929671086_R01C01_Red.idat\r\n"
       ]
      },
      {
       "output_type": "stream",
       "stream": "stdout",
       "text": [
        "jhu-usc.edu_HNSC.HumanMethylation450.Level_1.1.2.0/6929671086_R02C01_Grn.idat\r\n"
       ]
      },
      {
       "output_type": "stream",
       "stream": "stdout",
       "text": [
        "jhu-usc.edu_HNSC.HumanMethylation450.Level_1.1.2.0/6929671086_R02C01_Red.idat\r\n"
       ]
      },
      {
       "output_type": "stream",
       "stream": "stdout",
       "text": [
        "jhu-usc.edu_HNSC.HumanMethylation450.Level_1.1.2.0/CHANGES_DCC.txt\r\n",
        "jhu-usc.edu_HNSC.HumanMethylation450.Level_1.1.2.0/README_DCC.txt\r\n",
        "jhu-usc.edu_HNSC.HumanMethylation450.Level_1.1.2.0/MANIFEST.txt\r\n"
       ]
      }
     ],
     "prompt_number": 4
    },
    {
     "cell_type": "markdown",
     "metadata": {},
     "source": [
      "<b>Get MD5 Links:</b>"
     ]
    },
    {
     "cell_type": "code",
     "collapsed": false,
     "input": [
      "def getmd5():\n",
      "    md5links = [md5link.get('href') for md5link in soup.find_all('a')\n",
      "                if md5link.get('href') != None and '1.1.'\n",
      "                and 'tar.gz.md5' in md5link.get('href')]\n",
      "    for i in md5links:\n",
      "        print i"
     ],
     "language": "python",
     "metadata": {},
     "outputs": [],
     "prompt_number": 10
    },
    {
     "cell_type": "code",
     "collapsed": false,
     "input": [
      "md5files = getmd5()\n",
      "md5files"
     ],
     "language": "python",
     "metadata": {},
     "outputs": [
      {
       "output_type": "stream",
       "stream": "stdout",
       "text": [
        "jhu-usc.edu_HNSC.HumanMethylation450.Level_1.1.0.0.tar.gz.md5\n",
        "jhu-usc.edu_HNSC.HumanMethylation450.Level_1.1.1.0.tar.gz.md5\n",
        "jhu-usc.edu_HNSC.HumanMethylation450.Level_1.1.2.0.tar.gz.md5\n",
        "jhu-usc.edu_HNSC.HumanMethylation450.Level_1.1.3.0.tar.gz.md5\n",
        "jhu-usc.edu_HNSC.HumanMethylation450.Level_1.1.4.0.tar.gz.md5\n",
        "jhu-usc.edu_HNSC.HumanMethylation450.Level_1.1.5.0.tar.gz.md5\n",
        "jhu-usc.edu_HNSC.HumanMethylation450.Level_1.1.6.0.tar.gz.md5\n",
        "jhu-usc.edu_HNSC.HumanMethylation450.Level_1.1.7.0.tar.gz.md5\n",
        "jhu-usc.edu_HNSC.HumanMethylation450.Level_1.1.8.0.tar.gz.md5\n",
        "jhu-usc.edu_HNSC.HumanMethylation450.Level_1.10.3.0.tar.gz.md5\n",
        "jhu-usc.edu_HNSC.HumanMethylation450.Level_1.10.4.0.tar.gz.md5\n",
        "jhu-usc.edu_HNSC.HumanMethylation450.Level_1.10.5.0.tar.gz.md5\n",
        "jhu-usc.edu_HNSC.HumanMethylation450.Level_1.10.6.0.tar.gz.md5\n",
        "jhu-usc.edu_HNSC.HumanMethylation450.Level_1.10.7.0.tar.gz.md5\n",
        "jhu-usc.edu_HNSC.HumanMethylation450.Level_1.10.8.0.tar.gz.md5\n",
        "jhu-usc.edu_HNSC.HumanMethylation450.Level_1.11.3.0.tar.gz.md5\n",
        "jhu-usc.edu_HNSC.HumanMethylation450.Level_1.11.4.0.tar.gz.md5\n",
        "jhu-usc.edu_HNSC.HumanMethylation450.Level_1.11.5.0.tar.gz.md5\n",
        "jhu-usc.edu_HNSC.HumanMethylation450.Level_1.11.6.0.tar.gz.md5\n",
        "jhu-usc.edu_HNSC.HumanMethylation450.Level_1.11.7.0.tar.gz.md5\n",
        "jhu-usc.edu_HNSC.HumanMethylation450.Level_1.11.8.0.tar.gz.md5\n",
        "jhu-usc.edu_HNSC.HumanMethylation450.Level_1.12.3.0.tar.gz.md5\n",
        "jhu-usc.edu_HNSC.HumanMethylation450.Level_1.12.4.0.tar.gz.md5\n",
        "jhu-usc.edu_HNSC.HumanMethylation450.Level_1.12.5.0.tar.gz.md5\n",
        "jhu-usc.edu_HNSC.HumanMethylation450.Level_1.12.6.0.tar.gz.md5\n",
        "jhu-usc.edu_HNSC.HumanMethylation450.Level_1.12.7.0.tar.gz.md5\n",
        "jhu-usc.edu_HNSC.HumanMethylation450.Level_1.12.8.0.tar.gz.md5\n",
        "jhu-usc.edu_HNSC.HumanMethylation450.Level_1.13.3.0.tar.gz.md5\n",
        "jhu-usc.edu_HNSC.HumanMethylation450.Level_1.13.4.0.tar.gz.md5\n",
        "jhu-usc.edu_HNSC.HumanMethylation450.Level_1.13.5.0.tar.gz.md5\n",
        "jhu-usc.edu_HNSC.HumanMethylation450.Level_1.13.6.0.tar.gz.md5\n",
        "jhu-usc.edu_HNSC.HumanMethylation450.Level_1.13.7.0.tar.gz.md5\n",
        "jhu-usc.edu_HNSC.HumanMethylation450.Level_1.13.8.0.tar.gz.md5\n",
        "jhu-usc.edu_HNSC.HumanMethylation450.Level_1.14.4.0.tar.gz.md5\n",
        "jhu-usc.edu_HNSC.HumanMethylation450.Level_1.14.5.0.tar.gz.md5\n",
        "jhu-usc.edu_HNSC.HumanMethylation450.Level_1.14.6.0.tar.gz.md5\n",
        "jhu-usc.edu_HNSC.HumanMethylation450.Level_1.14.7.0.tar.gz.md5\n",
        "jhu-usc.edu_HNSC.HumanMethylation450.Level_1.14.8.0.tar.gz.md5\n",
        "jhu-usc.edu_HNSC.HumanMethylation450.Level_1.15.4.0.tar.gz.md5\n",
        "jhu-usc.edu_HNSC.HumanMethylation450.Level_1.15.5.0.tar.gz.md5\n",
        "jhu-usc.edu_HNSC.HumanMethylation450.Level_1.15.6.0.tar.gz.md5\n",
        "jhu-usc.edu_HNSC.HumanMethylation450.Level_1.15.7.0.tar.gz.md5\n",
        "jhu-usc.edu_HNSC.HumanMethylation450.Level_1.15.8.0.tar.gz.md5\n",
        "jhu-usc.edu_HNSC.HumanMethylation450.Level_1.16.5.0.tar.gz.md5\n",
        "jhu-usc.edu_HNSC.HumanMethylation450.Level_1.16.6.0.tar.gz.md5\n",
        "jhu-usc.edu_HNSC.HumanMethylation450.Level_1.16.7.0.tar.gz.md5\n",
        "jhu-usc.edu_HNSC.HumanMethylation450.Level_1.16.8.0.tar.gz.md5\n",
        "jhu-usc.edu_HNSC.HumanMethylation450.Level_1.17.6.0.tar.gz.md5\n",
        "jhu-usc.edu_HNSC.HumanMethylation450.Level_1.17.7.0.tar.gz.md5\n",
        "jhu-usc.edu_HNSC.HumanMethylation450.Level_1.17.8.0.tar.gz.md5\n",
        "jhu-usc.edu_HNSC.HumanMethylation450.Level_1.18.7.0.tar.gz.md5\n",
        "jhu-usc.edu_HNSC.HumanMethylation450.Level_1.18.8.0.tar.gz.md5\n",
        "jhu-usc.edu_HNSC.HumanMethylation450.Level_1.2.0.0.tar.gz.md5\n",
        "jhu-usc.edu_HNSC.HumanMethylation450.Level_1.2.1.0.tar.gz.md5\n",
        "jhu-usc.edu_HNSC.HumanMethylation450.Level_1.2.2.0.tar.gz.md5\n",
        "jhu-usc.edu_HNSC.HumanMethylation450.Level_1.2.3.0.tar.gz.md5\n",
        "jhu-usc.edu_HNSC.HumanMethylation450.Level_1.2.4.0.tar.gz.md5\n",
        "jhu-usc.edu_HNSC.HumanMethylation450.Level_1.2.5.0.tar.gz.md5\n",
        "jhu-usc.edu_HNSC.HumanMethylation450.Level_1.2.6.0.tar.gz.md5\n",
        "jhu-usc.edu_HNSC.HumanMethylation450.Level_1.2.7.0.tar.gz.md5\n",
        "jhu-usc.edu_HNSC.HumanMethylation450.Level_1.2.8.0.tar.gz.md5\n",
        "jhu-usc.edu_HNSC.HumanMethylation450.Level_1.3.0.0.tar.gz.md5\n",
        "jhu-usc.edu_HNSC.HumanMethylation450.Level_1.3.1.0.tar.gz.md5\n",
        "jhu-usc.edu_HNSC.HumanMethylation450.Level_1.3.2.0.tar.gz.md5\n",
        "jhu-usc.edu_HNSC.HumanMethylation450.Level_1.3.3.0.tar.gz.md5\n",
        "jhu-usc.edu_HNSC.HumanMethylation450.Level_1.3.4.0.tar.gz.md5\n",
        "jhu-usc.edu_HNSC.HumanMethylation450.Level_1.3.5.0.tar.gz.md5\n",
        "jhu-usc.edu_HNSC.HumanMethylation450.Level_1.3.6.0.tar.gz.md5\n",
        "jhu-usc.edu_HNSC.HumanMethylation450.Level_1.3.7.0.tar.gz.md5\n",
        "jhu-usc.edu_HNSC.HumanMethylation450.Level_1.3.8.0.tar.gz.md5\n",
        "jhu-usc.edu_HNSC.HumanMethylation450.Level_1.4.0.0.tar.gz.md5\n",
        "jhu-usc.edu_HNSC.HumanMethylation450.Level_1.4.1.0.tar.gz.md5\n",
        "jhu-usc.edu_HNSC.HumanMethylation450.Level_1.4.2.0.tar.gz.md5\n",
        "jhu-usc.edu_HNSC.HumanMethylation450.Level_1.4.3.0.tar.gz.md5\n",
        "jhu-usc.edu_HNSC.HumanMethylation450.Level_1.4.4.0.tar.gz.md5\n",
        "jhu-usc.edu_HNSC.HumanMethylation450.Level_1.4.5.0.tar.gz.md5\n",
        "jhu-usc.edu_HNSC.HumanMethylation450.Level_1.4.6.0.tar.gz.md5\n",
        "jhu-usc.edu_HNSC.HumanMethylation450.Level_1.4.7.0.tar.gz.md5\n",
        "jhu-usc.edu_HNSC.HumanMethylation450.Level_1.4.8.0.tar.gz.md5\n",
        "jhu-usc.edu_HNSC.HumanMethylation450.Level_1.5.0.0.tar.gz.md5\n",
        "jhu-usc.edu_HNSC.HumanMethylation450.Level_1.5.1.0.tar.gz.md5\n",
        "jhu-usc.edu_HNSC.HumanMethylation450.Level_1.5.2.0.tar.gz.md5\n",
        "jhu-usc.edu_HNSC.HumanMethylation450.Level_1.5.3.0.tar.gz.md5\n",
        "jhu-usc.edu_HNSC.HumanMethylation450.Level_1.5.4.0.tar.gz.md5\n",
        "jhu-usc.edu_HNSC.HumanMethylation450.Level_1.5.5.0.tar.gz.md5\n",
        "jhu-usc.edu_HNSC.HumanMethylation450.Level_1.5.6.0.tar.gz.md5\n",
        "jhu-usc.edu_HNSC.HumanMethylation450.Level_1.5.7.0.tar.gz.md5\n",
        "jhu-usc.edu_HNSC.HumanMethylation450.Level_1.5.8.0.tar.gz.md5\n",
        "jhu-usc.edu_HNSC.HumanMethylation450.Level_1.6.0.0.tar.gz.md5\n",
        "jhu-usc.edu_HNSC.HumanMethylation450.Level_1.6.1.0.tar.gz.md5\n",
        "jhu-usc.edu_HNSC.HumanMethylation450.Level_1.6.2.0.tar.gz.md5\n",
        "jhu-usc.edu_HNSC.HumanMethylation450.Level_1.6.3.0.tar.gz.md5\n",
        "jhu-usc.edu_HNSC.HumanMethylation450.Level_1.6.4.0.tar.gz.md5\n",
        "jhu-usc.edu_HNSC.HumanMethylation450.Level_1.6.5.0.tar.gz.md5\n",
        "jhu-usc.edu_HNSC.HumanMethylation450.Level_1.6.6.0.tar.gz.md5\n",
        "jhu-usc.edu_HNSC.HumanMethylation450.Level_1.6.7.0.tar.gz.md5\n",
        "jhu-usc.edu_HNSC.HumanMethylation450.Level_1.6.8.0.tar.gz.md5\n",
        "jhu-usc.edu_HNSC.HumanMethylation450.Level_1.7.0.0.tar.gz.md5\n",
        "jhu-usc.edu_HNSC.HumanMethylation450.Level_1.7.1.0.tar.gz.md5\n",
        "jhu-usc.edu_HNSC.HumanMethylation450.Level_1.7.2.0.tar.gz.md5\n",
        "jhu-usc.edu_HNSC.HumanMethylation450.Level_1.7.3.0.tar.gz.md5\n",
        "jhu-usc.edu_HNSC.HumanMethylation450.Level_1.7.4.0.tar.gz.md5\n",
        "jhu-usc.edu_HNSC.HumanMethylation450.Level_1.7.5.0.tar.gz.md5\n",
        "jhu-usc.edu_HNSC.HumanMethylation450.Level_1.7.6.0.tar.gz.md5\n",
        "jhu-usc.edu_HNSC.HumanMethylation450.Level_1.7.7.0.tar.gz.md5\n",
        "jhu-usc.edu_HNSC.HumanMethylation450.Level_1.7.8.0.tar.gz.md5\n",
        "jhu-usc.edu_HNSC.HumanMethylation450.Level_1.8.0.0.tar.gz.md5\n",
        "jhu-usc.edu_HNSC.HumanMethylation450.Level_1.8.1.0.tar.gz.md5\n",
        "jhu-usc.edu_HNSC.HumanMethylation450.Level_1.8.2.0.tar.gz.md5\n",
        "jhu-usc.edu_HNSC.HumanMethylation450.Level_1.1.0.0.tar.gz.md5\n",
        "jhu-usc.edu_HNSC.HumanMethylation450.Level_1.1.1.0.tar.gz.md5\n",
        "jhu-usc.edu_HNSC.HumanMethylation450.Level_1.1.2.0.tar.gz.md5\n",
        "jhu-usc.edu_HNSC.HumanMethylation450.Level_1.1.3.0.tar.gz.md5\n",
        "jhu-usc.edu_HNSC.HumanMethylation450.Level_1.1.4.0.tar.gz.md5\n",
        "jhu-usc.edu_HNSC.HumanMethylation450.Level_1.1.5.0.tar.gz.md5\n",
        "jhu-usc.edu_HNSC.HumanMethylation450.Level_1.1.6.0.tar.gz.md5\n",
        "jhu-usc.edu_HNSC.HumanMethylation450.Level_1.1.7.0.tar.gz.md5\n",
        "jhu-usc.edu_HNSC.HumanMethylation450.Level_1.1.8.0.tar.gz.md5\n",
        "jhu-usc.edu_HNSC.HumanMethylation450.Level_1.10.3.0.tar.gz.md5\n",
        "jhu-usc.edu_HNSC.HumanMethylation450.Level_1.10.4.0.tar.gz.md5\n",
        "jhu-usc.edu_HNSC.HumanMethylation450.Level_1.10.5.0.tar.gz.md5\n",
        "jhu-usc.edu_HNSC.HumanMethylation450.Level_1.10.6.0.tar.gz.md5\n",
        "jhu-usc.edu_HNSC.HumanMethylation450.Level_1.10.7.0.tar.gz.md5\n",
        "jhu-usc.edu_HNSC.HumanMethylation450.Level_1.10.8.0.tar.gz.md5\n",
        "jhu-usc.edu_HNSC.HumanMethylation450.Level_1.11.3.0.tar.gz.md5\n",
        "jhu-usc.edu_HNSC.HumanMethylation450.Level_1.11.4.0.tar.gz.md5\n",
        "jhu-usc.edu_HNSC.HumanMethylation450.Level_1.11.5.0.tar.gz.md5\n",
        "jhu-usc.edu_HNSC.HumanMethylation450.Level_1.11.6.0.tar.gz.md5\n",
        "jhu-usc.edu_HNSC.HumanMethylation450.Level_1.11.7.0.tar.gz.md5\n",
        "jhu-usc.edu_HNSC.HumanMethylation450.Level_1.11.8.0.tar.gz.md5\n",
        "jhu-usc.edu_HNSC.HumanMethylation450.Level_1.12.3.0.tar.gz.md5\n",
        "jhu-usc.edu_HNSC.HumanMethylation450.Level_1.12.4.0.tar.gz.md5\n",
        "jhu-usc.edu_HNSC.HumanMethylation450.Level_1.12.5.0.tar.gz.md5\n",
        "jhu-usc.edu_HNSC.HumanMethylation450.Level_1.12.6.0.tar.gz.md5\n",
        "jhu-usc.edu_HNSC.HumanMethylation450.Level_1.12.7.0.tar.gz.md5\n",
        "jhu-usc.edu_HNSC.HumanMethylation450.Level_1.12.8.0.tar.gz.md5\n",
        "jhu-usc.edu_HNSC.HumanMethylation450.Level_1.13.3.0.tar.gz.md5\n",
        "jhu-usc.edu_HNSC.HumanMethylation450.Level_1.13.4.0.tar.gz.md5\n",
        "jhu-usc.edu_HNSC.HumanMethylation450.Level_1.13.5.0.tar.gz.md5\n",
        "jhu-usc.edu_HNSC.HumanMethylation450.Level_1.13.6.0.tar.gz.md5\n",
        "jhu-usc.edu_HNSC.HumanMethylation450.Level_1.13.7.0.tar.gz.md5\n"
       ]
      }
     ],
     "prompt_number": 11
    }
   ],
   "metadata": {}
  }
 ]
}