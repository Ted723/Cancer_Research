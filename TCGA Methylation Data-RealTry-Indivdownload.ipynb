{
 "metadata": {
  "kernelspec": {
   "codemirror_mode": {
    "name": "ipython",
    "version": 2
   },
   "display_name": "IPython (Python 2)",
   "language": "python",
   "name": "python2"
  },
  "name": "",
  "signature": "sha256:68be24a0d935f76b694958001467d85c0f79d281036f9fb5fafc00d7a98cd5fe"
 },
 "nbformat": 3,
 "nbformat_minor": 0,
 "worksheets": [
  {
   "cells": [
    {
     "cell_type": "heading",
     "level": 1,
     "metadata": {},
     "source": [
      "Get TCGA Methylation Data"
     ]
    },
    {
     "cell_type": "markdown",
     "metadata": {},
     "source": [
      "<b>Imports</b>"
     ]
    },
    {
     "cell_type": "code",
     "collapsed": false,
     "input": [
      "from bs4 import BeautifulSoup\n",
      "import urllib2\n",
      "from urllib2 import HTTPError\n",
      "import pandas as pd\n",
      "import os as os\n",
      "import StringIO\n",
      "import gzip"
     ],
     "language": "python",
     "metadata": {},
     "outputs": [],
     "prompt_number": 17
    },
    {
     "cell_type": "markdown",
     "metadata": {},
     "source": [
      "<b>Directory Currently In:</b>"
     ]
    },
    {
     "cell_type": "code",
     "collapsed": false,
     "input": [
      "pwd"
     ],
     "language": "python",
     "metadata": {},
     "outputs": [
      {
       "metadata": {},
       "output_type": "pyout",
       "prompt_number": 18,
       "text": [
        "u'/cellar/users/talejand/Documents/IdekerLab/BackUp'"
       ]
      }
     ],
     "prompt_number": 18
    },
    {
     "cell_type": "code",
     "collapsed": false,
     "input": [
      "ls"
     ],
     "language": "python",
     "metadata": {},
     "outputs": [
      {
       "output_type": "stream",
       "stream": "stdout",
       "text": [
        "\u001b[0m\u001b[01;34mBLCA_Meth_Data\u001b[0m/\r\n",
        "\u001b[01;34mBRCA_Meth_Data\u001b[0m/\r\n",
        "\u001b[01;34mCESC_Meth_Data\u001b[0m/\r\n",
        "\u001b[01;34mCHOL_Meth_Data\u001b[0m/\r\n",
        "\u001b[01;34mCOAD_Meth_Data\u001b[0m/\r\n",
        "\u001b[01;34mESCA_Meth_Data\u001b[0m/\r\n",
        "filess\r\n",
        "filess~\r\n",
        "\u001b[01;34mGBM_Meth_Data\u001b[0m/\r\n",
        "\u001b[01;34mHNSC_Meth_Data\u001b[0m/\r\n",
        "jhu-usc.edu_ESCA.HumanMethylation450.Level_1.10.8.0.tar\r\n",
        "jhu-usc.edu_KIRP.HumanMethylation450.Level_1.10.10.0.tar\r\n",
        "jhu-usc.edu_KIRP.HumanMethylation450.Level_1.10.9.0.tar\r\n",
        "jhu-usc.edu_KIRP.HumanMethylation450.Level_1.11.10.0.tar\r\n",
        "jhu-usc.edu_KIRP.HumanMethylation450.Level_1.11.7.0.tar\r\n",
        "jhu-usc.edu_KIRP.HumanMethylation450.Level_1.11.8.0.tar\r\n",
        "jhu-usc.edu_KIRP.HumanMethylation450.Level_1.11.9.0.tar\r\n",
        "jhu-usc.edu_KIRP.HumanMethylation450.Level_1.12.10.0.tar\r\n",
        "jhu-usc.edu_KIRP.HumanMethylation450.Level_1.12.8.0.tar\r\n",
        "jhu-usc.edu_KIRP.HumanMethylation450.Level_1.12.9.0.tar\r\n",
        "jhu-usc.edu_KIRP.HumanMethylation450.Level_1.13.10.0.tar\r\n",
        "jhu-usc.edu_KIRP.HumanMethylation450.Level_1.13.8.0.tar\r\n",
        "jhu-usc.edu_KIRP.HumanMethylation450.Level_1.13.9.0.tar\r\n",
        "jhu-usc.edu_KIRP.HumanMethylation450.Level_1.14.10.0.tar\r\n",
        "jhu-usc.edu_KIRP.HumanMethylation450.Level_1.14.9.0.tar\r\n",
        "jhu-usc.edu_KIRP.HumanMethylation450.Level_1.15.10.0.tar\r\n",
        "\u001b[01;34mJustinCase\u001b[0m/\r\n",
        "\u001b[01;34mKIRC_Meth_Data\u001b[0m/\r\n",
        "\u001b[01;34mKIRP_Meth_Data\u001b[0m/\r\n",
        "\u001b[01;34mMethyl\u001b[0m/\r\n",
        "\u001b[01;34mNotebook\u001b[0m/\r\n",
        "\u001b[01;34mtcga-data.nci.nih.gov\u001b[0m/\r\n",
        "TCGA Methylation Data Code Tries.ipynb\r\n",
        "TCGA Methylation Data-Different Real.ipynb\r\n",
        "TCGA Methylation Data OG.ipynb\r\n",
        "TCGA Methylation Data-RealTry-Indivdownload-Copy0-Copy0-Copy0-Copy0.ipynb\r\n",
        "TCGA Methylation Data-RealTry-Indivdownload-Copy0-Copy0-Copy0.ipynb\r\n",
        "TCGA Methylation Data-RealTry-Indivdownload-Copy0-Copy0.ipynb\r\n",
        "TCGA Methylation Data-RealTry-Indivdownload-Copy0.ipynb\r\n",
        "TCGA Methylation Data-RealTry-Indivdownload.ipynb\r\n",
        "tmp.html\r\n"
       ]
      }
     ],
     "prompt_number": 10
    },
    {
     "cell_type": "markdown",
     "metadata": {},
     "source": [
      "<b>Outpaths</b>"
     ]
    },
    {
     "cell_type": "code",
     "collapsed": false,
     "input": [
      "PATH_TO_CERT = 'JustinCase/cacert.pem'\n",
      "OUT_PATH = 'Methyl'\n",
      "out_path = OUT_PATH + '/New_Methyl_Data'\n",
      "if not os.path.isdir(out_path):\n",
      "    os.mkdir(out_path)"
     ],
     "language": "python",
     "metadata": {},
     "outputs": [],
     "prompt_number": 25
    },
    {
     "cell_type": "markdown",
     "metadata": {},
     "source": [
      "<b>Path to TCGA Website</b>"
     ]
    },
    {
     "cell_type": "code",
     "collapsed": false,
     "input": [
      "base_url = 'https://tcga-data.nci.nih.gov/tcgafiles/ftp_auth/distro_ftpusers/anonymous/tumor/'"
     ],
     "language": "python",
     "metadata": {},
     "outputs": [],
     "prompt_number": 5
    },
    {
     "cell_type": "code",
     "collapsed": false,
     "input": [
      "url = 'https://tcga-data.nci.nih.gov/tcgafiles/ftp_auth/distro_ftpusers/anonymous/tumor/luad/cgcc/jhu-usc.edu/humanmethylation450/methylation/'"
     ],
     "language": "python",
     "metadata": {},
     "outputs": [],
     "prompt_number": 34
    },
    {
     "cell_type": "markdown",
     "metadata": {},
     "source": [
      "<b>Download Certificate (Optional?)</b>"
     ]
    },
    {
     "cell_type": "code",
     "collapsed": false,
     "input": [
      "!curl --cacert $PATH_TO_CERT $url -o tmp.html"
     ],
     "language": "python",
     "metadata": {},
     "outputs": [
      {
       "output_type": "stream",
       "stream": "stdout",
       "text": [
        "  % Total    % Received % Xferd  Average Speed   Time    Time     Time  Current\r\n",
        "                                 Dload  Upload   Total   Spent    Left  Speed\r\n",
        "\r",
        "  0     0    0     0    0     0      0      0 --:--:-- --:--:-- --:--:--     0"
       ]
      },
      {
       "output_type": "stream",
       "stream": "stdout",
       "text": [
        "\r",
        "  0     0    0     0    0     0      0      0 --:--:-- --:--:-- --:--:--     0"
       ]
      },
      {
       "output_type": "stream",
       "stream": "stdout",
       "text": [
        "\r",
        "100 32106    0 32106    0     0  28468      0 --:--:--  0:00:01 --:--:-- 28462"
       ]
      },
      {
       "output_type": "stream",
       "stream": "stdout",
       "text": [
        "\r",
        "100  225k    0  225k    0     0   156k      0 --:--:--  0:00:01 --:--:--  156k\r\n"
       ]
      }
     ],
     "prompt_number": 35
    },
    {
     "cell_type": "markdown",
     "metadata": {},
     "source": [
      "<b>Beautiful Soup module is used to parse links from webpage </b>"
     ]
    },
    {
     "cell_type": "code",
     "collapsed": false,
     "input": [
      "#webpage = urllib2.urlopen(url + 'jhu-usc.edu_HNSC.HumanMethylation450.Level_1.1.0.0.tar.gz').read()\n",
      "#webpage = urllib2.urlopen(url).read()\n",
      "webpage = open('tmp.html', 'rb').read()\n",
      "soup = BeautifulSoup(webpage)\n",
      "soup"
     ],
     "language": "python",
     "metadata": {},
     "outputs": [
      {
       "metadata": {},
       "output_type": "pyout",
       "prompt_number": 36,
       "text": [
        "<!DOCTYPE HTML PUBLIC \"-//W3C//DTD HTML 3.2 Final//EN\">\n",
        "<html>\n",
        "<head>\n",
        "<title>Index of /tcgafiles/ftp_auth/distro_ftpusers/anonymous/tumor/luad/cgcc/jhu-usc.edu/humanmethylation450/methylation</title>\n",
        "</head>\n",
        "<body>\n",
        "<h1>Index of /tcgafiles/ftp_auth/distro_ftpusers/anonymous/tumor/luad/cgcc/jhu-usc.edu/humanmethylation450/methylation</h1>\n",
        "<pre>      <a href=\"?C=N;O=D\">Name</a>                                                                                           <a href=\"?C=M;O=A\">Last modified</a>      <a href=\"?C=S;O=A\">Size</a>  <hr/>      <a href=\"/tcgafiles/ftp_auth/distro_ftpusers/anonymous/tumor/luad/cgcc/jhu-usc.edu/humanmethylation450/\">Parent Directory</a>                                                                                                    -   \n",
        "      <a href=\"jhu-usc.edu_LUAD.HumanMethylation450.Level_1.1.0.0.tar.gz\">jhu-usc.edu_LUAD.HumanMethylation450.Level_1.1.0.0.tar.gz</a>                                      2012-02-28 18:48   57M  \n",
        "      <a href=\"jhu-usc.edu_LUAD.HumanMethylation450.Level_1.1.0.0.tar.gz.md5\">jhu-usc.edu_LUAD.HumanMethylation450.Level_1.1.0.0.tar.gz.md5</a>                                  2012-02-28 18:48   91   \n",
        "      <a href=\"jhu-usc.edu_LUAD.HumanMethylation450.Level_1.1.1.0.tar.gz\">jhu-usc.edu_LUAD.HumanMethylation450.Level_1.1.1.0.tar.gz</a>                                      2012-03-08 00:43   57M  \n",
        "      <a href=\"jhu-usc.edu_LUAD.HumanMethylation450.Level_1.1.1.0.tar.gz.md5\">jhu-usc.edu_LUAD.HumanMethylation450.Level_1.1.1.0.tar.gz.md5</a>                                  2012-03-08 00:43   91   \n",
        "      <a href=\"jhu-usc.edu_LUAD.HumanMethylation450.Level_1.1.1.0/\">jhu-usc.edu_LUAD.HumanMethylation450.Level_1.1.1.0/</a>                                            2012-03-08 00:43    -   \n",
        "      <a href=\"jhu-usc.edu_LUAD.HumanMethylation450.Level_1.1.2.0.tar.gz\">jhu-usc.edu_LUAD.HumanMethylation450.Level_1.1.2.0.tar.gz</a>                                      2012-09-25 15:37   57M  \n",
        "      <a href=\"jhu-usc.edu_LUAD.HumanMethylation450.Level_1.1.2.0.tar.gz.md5\">jhu-usc.edu_LUAD.HumanMethylation450.Level_1.1.2.0.tar.gz.md5</a>                                  2012-09-25 15:37   91   \n",
        "      <a href=\"jhu-usc.edu_LUAD.HumanMethylation450.Level_1.1.2.0/\">jhu-usc.edu_LUAD.HumanMethylation450.Level_1.1.2.0/</a>                                            2012-09-25 15:37    -   \n",
        "      <a href=\"jhu-usc.edu_LUAD.HumanMethylation450.Level_1.1.3.0.tar.gz\">jhu-usc.edu_LUAD.HumanMethylation450.Level_1.1.3.0.tar.gz</a>                                      2012-10-30 06:35   57M  \n",
        "      <a href=\"jhu-usc.edu_LUAD.HumanMethylation450.Level_1.1.3.0.tar.gz.md5\">jhu-usc.edu_LUAD.HumanMethylation450.Level_1.1.3.0.tar.gz.md5</a>                                  2012-10-30 06:35   91   \n",
        "      <a href=\"jhu-usc.edu_LUAD.HumanMethylation450.Level_1.1.3.0/\">jhu-usc.edu_LUAD.HumanMethylation450.Level_1.1.3.0/</a>                                            2012-10-30 06:35    -   \n",
        "      <a href=\"jhu-usc.edu_LUAD.HumanMethylation450.Level_1.1.4.0.tar.gz\">jhu-usc.edu_LUAD.HumanMethylation450.Level_1.1.4.0.tar.gz</a>                                      2013-02-26 15:07   57M  \n",
        "      <a href=\"jhu-usc.edu_LUAD.HumanMethylation450.Level_1.1.4.0.tar.gz.md5\">jhu-usc.edu_LUAD.HumanMethylation450.Level_1.1.4.0.tar.gz.md5</a>                                  2013-02-26 15:07   91   \n",
        "      <a href=\"jhu-usc.edu_LUAD.HumanMethylation450.Level_1.1.4.0/\">jhu-usc.edu_LUAD.HumanMethylation450.Level_1.1.4.0/</a>                                            2013-02-26 15:06    -   \n",
        "      <a href=\"jhu-usc.edu_LUAD.HumanMethylation450.Level_1.1.5.0.tar.gz\">jhu-usc.edu_LUAD.HumanMethylation450.Level_1.1.5.0.tar.gz</a>                                      2013-06-18 22:37  130M  \n",
        "      <a href=\"jhu-usc.edu_LUAD.HumanMethylation450.Level_1.1.5.0.tar.gz.md5\">jhu-usc.edu_LUAD.HumanMethylation450.Level_1.1.5.0.tar.gz.md5</a>                                  2013-06-18 22:37   91   \n",
        "      <a href=\"jhu-usc.edu_LUAD.HumanMethylation450.Level_1.1.5.0/\">jhu-usc.edu_LUAD.HumanMethylation450.Level_1.1.5.0/</a>                                            2013-06-18 22:36    -   \n",
        "      <a href=\"jhu-usc.edu_LUAD.HumanMethylation450.Level_1.1.6.0.tar.gz\">jhu-usc.edu_LUAD.HumanMethylation450.Level_1.1.6.0.tar.gz</a>                                      2014-06-16 17:23  130M  \n",
        "      <a href=\"jhu-usc.edu_LUAD.HumanMethylation450.Level_1.1.6.0.tar.gz.md5\">jhu-usc.edu_LUAD.HumanMethylation450.Level_1.1.6.0.tar.gz.md5</a>                                  2014-06-16 17:23   91   \n",
        "      <a href=\"jhu-usc.edu_LUAD.HumanMethylation450.Level_1.1.6.0/\">jhu-usc.edu_LUAD.HumanMethylation450.Level_1.1.6.0/</a>                                            2014-06-16 17:22    -   \n",
        "      <a href=\"jhu-usc.edu_LUAD.HumanMethylation450.Level_1.1.7.0.tar.gz\">jhu-usc.edu_LUAD.HumanMethylation450.Level_1.1.7.0.tar.gz</a>                                      2014-08-04 07:09  130M  \n",
        "      <a href=\"jhu-usc.edu_LUAD.HumanMethylation450.Level_1.1.7.0.tar.gz.md5\">jhu-usc.edu_LUAD.HumanMethylation450.Level_1.1.7.0.tar.gz.md5</a>                                  2014-08-04 07:09   91   \n",
        "      <a href=\"jhu-usc.edu_LUAD.HumanMethylation450.Level_1.1.7.0/\">jhu-usc.edu_LUAD.HumanMethylation450.Level_1.1.7.0/</a>                                            2014-08-04 07:08    -   \n",
        "      <a href=\"jhu-usc.edu_LUAD.HumanMethylation450.Level_1.1.8.0.tar.gz\">jhu-usc.edu_LUAD.HumanMethylation450.Level_1.1.8.0.tar.gz</a>                                      2015-01-26 04:35  130M  \n",
        "      <a href=\"jhu-usc.edu_LUAD.HumanMethylation450.Level_1.1.8.0.tar.gz.md5\">jhu-usc.edu_LUAD.HumanMethylation450.Level_1.1.8.0.tar.gz.md5</a>                                  2015-01-26 04:35   91   \n",
        "      <a href=\"jhu-usc.edu_LUAD.HumanMethylation450.Level_1.1.8.0/\">jhu-usc.edu_LUAD.HumanMethylation450.Level_1.1.8.0/</a>                                            2015-01-26 04:35    -   \n",
        "      <a href=\"jhu-usc.edu_LUAD.HumanMethylation450.Level_1.10.2.0.tar.gz\">jhu-usc.edu_LUAD.HumanMethylation450.Level_1.10.2.0.tar.gz</a>                                     2012-09-25 15:37  155M  \n",
        "      <a href=\"jhu-usc.edu_LUAD.HumanMethylation450.Level_1.10.2.0.tar.gz.md5\">jhu-usc.edu_LUAD.HumanMethylation450.Level_1.10.2.0.tar.gz.md5</a>                                 2012-09-25 15:37   92   \n",
        "      <a href=\"jhu-usc.edu_LUAD.HumanMethylation450.Level_1.10.2.0/\">jhu-usc.edu_LUAD.HumanMethylation450.Level_1.10.2.0/</a>                                           2012-09-25 15:36    -   \n",
        "      <a href=\"jhu-usc.edu_LUAD.HumanMethylation450.Level_1.10.3.0.tar.gz\">jhu-usc.edu_LUAD.HumanMethylation450.Level_1.10.3.0.tar.gz</a>                                     2012-10-30 06:35  155M  \n",
        "      <a href=\"jhu-usc.edu_LUAD.HumanMethylation450.Level_1.10.3.0.tar.gz.md5\">jhu-usc.edu_LUAD.HumanMethylation450.Level_1.10.3.0.tar.gz.md5</a>                                 2012-10-30 06:35   92   \n",
        "      <a href=\"jhu-usc.edu_LUAD.HumanMethylation450.Level_1.10.3.0/\">jhu-usc.edu_LUAD.HumanMethylation450.Level_1.10.3.0/</a>                                           2012-10-30 06:34    -   \n",
        "      <a href=\"jhu-usc.edu_LUAD.HumanMethylation450.Level_1.10.4.0.tar.gz\">jhu-usc.edu_LUAD.HumanMethylation450.Level_1.10.4.0.tar.gz</a>                                     2013-02-26 15:06  155M  \n",
        "      <a href=\"jhu-usc.edu_LUAD.HumanMethylation450.Level_1.10.4.0.tar.gz.md5\">jhu-usc.edu_LUAD.HumanMethylation450.Level_1.10.4.0.tar.gz.md5</a>                                 2013-02-26 15:06   92   \n",
        "      <a href=\"jhu-usc.edu_LUAD.HumanMethylation450.Level_1.10.4.0/\">jhu-usc.edu_LUAD.HumanMethylation450.Level_1.10.4.0/</a>                                           2013-02-26 15:06    -   \n",
        "      <a href=\"jhu-usc.edu_LUAD.HumanMethylation450.Level_1.10.5.0.tar.gz\">jhu-usc.edu_LUAD.HumanMethylation450.Level_1.10.5.0.tar.gz</a>                                     2013-06-18 22:36  155M  \n",
        "      <a href=\"jhu-usc.edu_LUAD.HumanMethylation450.Level_1.10.5.0.tar.gz.md5\">jhu-usc.edu_LUAD.HumanMethylation450.Level_1.10.5.0.tar.gz.md5</a>                                 2013-06-18 22:36   92   \n",
        "      <a href=\"jhu-usc.edu_LUAD.HumanMethylation450.Level_1.10.5.0/\">jhu-usc.edu_LUAD.HumanMethylation450.Level_1.10.5.0/</a>                                           2013-06-18 22:36    -   \n",
        "      <a href=\"jhu-usc.edu_LUAD.HumanMethylation450.Level_1.10.6.0.tar.gz\">jhu-usc.edu_LUAD.HumanMethylation450.Level_1.10.6.0.tar.gz</a>                                     2014-06-16 17:22  155M  \n",
        "      <a href=\"jhu-usc.edu_LUAD.HumanMethylation450.Level_1.10.6.0.tar.gz.md5\">jhu-usc.edu_LUAD.HumanMethylation450.Level_1.10.6.0.tar.gz.md5</a>                                 2014-06-16 17:22   92   \n",
        "      <a href=\"jhu-usc.edu_LUAD.HumanMethylation450.Level_1.10.6.0/\">jhu-usc.edu_LUAD.HumanMethylation450.Level_1.10.6.0/</a>                                           2014-06-16 17:22    -   \n",
        "      <a href=\"jhu-usc.edu_LUAD.HumanMethylation450.Level_1.10.7.0.tar.gz\">jhu-usc.edu_LUAD.HumanMethylation450.Level_1.10.7.0.tar.gz</a>                                     2014-08-04 07:09  155M  \n",
        "      <a href=\"jhu-usc.edu_LUAD.HumanMethylation450.Level_1.10.7.0.tar.gz.md5\">jhu-usc.edu_LUAD.HumanMethylation450.Level_1.10.7.0.tar.gz.md5</a>                                 2014-08-04 07:09   92   \n",
        "      <a href=\"jhu-usc.edu_LUAD.HumanMethylation450.Level_1.10.7.0/\">jhu-usc.edu_LUAD.HumanMethylation450.Level_1.10.7.0/</a>                                           2014-08-04 07:09    -   \n",
        "      <a href=\"jhu-usc.edu_LUAD.HumanMethylation450.Level_1.10.8.0.tar.gz\">jhu-usc.edu_LUAD.HumanMethylation450.Level_1.10.8.0.tar.gz</a>                                     2015-01-26 04:34  155M  \n",
        "      <a href=\"jhu-usc.edu_LUAD.HumanMethylation450.Level_1.10.8.0.tar.gz.md5\">jhu-usc.edu_LUAD.HumanMethylation450.Level_1.10.8.0.tar.gz.md5</a>                                 2015-01-26 04:34   92   \n",
        "      <a href=\"jhu-usc.edu_LUAD.HumanMethylation450.Level_1.10.8.0/\">jhu-usc.edu_LUAD.HumanMethylation450.Level_1.10.8.0/</a>                                           2015-01-26 04:34    -   \n",
        "      <a href=\"jhu-usc.edu_LUAD.HumanMethylation450.Level_1.11.2.0.tar.gz\">jhu-usc.edu_LUAD.HumanMethylation450.Level_1.11.2.0.tar.gz</a>                                     2012-09-25 15:47  296M  \n",
        "      <a href=\"jhu-usc.edu_LUAD.HumanMethylation450.Level_1.11.2.0.tar.gz.md5\">jhu-usc.edu_LUAD.HumanMethylation450.Level_1.11.2.0.tar.gz.md5</a>                                 2012-09-25 15:47   92   \n",
        "      <a href=\"jhu-usc.edu_LUAD.HumanMethylation450.Level_1.11.2.0/\">jhu-usc.edu_LUAD.HumanMethylation450.Level_1.11.2.0/</a>                                           2012-09-25 15:46    -   \n",
        "      <a href=\"jhu-usc.edu_LUAD.HumanMethylation450.Level_1.11.3.0.tar.gz\">jhu-usc.edu_LUAD.HumanMethylation450.Level_1.11.3.0.tar.gz</a>                                     2012-10-30 06:43  296M  \n",
        "      <a href=\"jhu-usc.edu_LUAD.HumanMethylation450.Level_1.11.3.0.tar.gz.md5\">jhu-usc.edu_LUAD.HumanMethylation450.Level_1.11.3.0.tar.gz.md5</a>                                 2012-10-30 06:44   92   \n",
        "      <a href=\"jhu-usc.edu_LUAD.HumanMethylation450.Level_1.11.3.0/\">jhu-usc.edu_LUAD.HumanMethylation450.Level_1.11.3.0/</a>                                           2012-10-30 06:42    -   \n",
        "      <a href=\"jhu-usc.edu_LUAD.HumanMethylation450.Level_1.11.4.0.tar.gz\">jhu-usc.edu_LUAD.HumanMethylation450.Level_1.11.4.0.tar.gz</a>                                     2013-02-26 15:01  296M  \n",
        "      <a href=\"jhu-usc.edu_LUAD.HumanMethylation450.Level_1.11.4.0.tar.gz.md5\">jhu-usc.edu_LUAD.HumanMethylation450.Level_1.11.4.0.tar.gz.md5</a>                                 2013-02-26 15:01   92   \n",
        "      <a href=\"jhu-usc.edu_LUAD.HumanMethylation450.Level_1.11.4.0/\">jhu-usc.edu_LUAD.HumanMethylation450.Level_1.11.4.0/</a>                                           2013-02-26 15:00    -   \n",
        "      <a href=\"jhu-usc.edu_LUAD.HumanMethylation450.Level_1.11.5.0.tar.gz\">jhu-usc.edu_LUAD.HumanMethylation450.Level_1.11.5.0.tar.gz</a>                                     2013-06-18 22:30  296M  \n",
        "      <a href=\"jhu-usc.edu_LUAD.HumanMethylation450.Level_1.11.5.0.tar.gz.md5\">jhu-usc.edu_LUAD.HumanMethylation450.Level_1.11.5.0.tar.gz.md5</a>                                 2013-06-18 22:30   92   \n",
        "      <a href=\"jhu-usc.edu_LUAD.HumanMethylation450.Level_1.11.5.0/\">jhu-usc.edu_LUAD.HumanMethylation450.Level_1.11.5.0/</a>                                           2013-06-18 22:29    -   \n",
        "      <a href=\"jhu-usc.edu_LUAD.HumanMethylation450.Level_1.11.6.0.tar.gz\">jhu-usc.edu_LUAD.HumanMethylation450.Level_1.11.6.0.tar.gz</a>                                     2014-06-16 17:15  296M  \n",
        "      <a href=\"jhu-usc.edu_LUAD.HumanMethylation450.Level_1.11.6.0.tar.gz.md5\">jhu-usc.edu_LUAD.HumanMethylation450.Level_1.11.6.0.tar.gz.md5</a>                                 2014-06-16 17:15   92   \n",
        "      <a href=\"jhu-usc.edu_LUAD.HumanMethylation450.Level_1.11.6.0/\">jhu-usc.edu_LUAD.HumanMethylation450.Level_1.11.6.0/</a>                                           2014-06-16 17:14    -   \n",
        "      <a href=\"jhu-usc.edu_LUAD.HumanMethylation450.Level_1.11.7.0.tar.gz\">jhu-usc.edu_LUAD.HumanMethylation450.Level_1.11.7.0.tar.gz</a>                                     2014-08-04 07:02  296M  \n",
        "      <a href=\"jhu-usc.edu_LUAD.HumanMethylation450.Level_1.11.7.0.tar.gz.md5\">jhu-usc.edu_LUAD.HumanMethylation450.Level_1.11.7.0.tar.gz.md5</a>                                 2014-08-04 07:02   92   \n",
        "      <a href=\"jhu-usc.edu_LUAD.HumanMethylation450.Level_1.11.7.0/\">jhu-usc.edu_LUAD.HumanMethylation450.Level_1.11.7.0/</a>                                           2014-08-04 07:01    -   \n",
        "      <a href=\"jhu-usc.edu_LUAD.HumanMethylation450.Level_1.11.8.0.tar.gz\">jhu-usc.edu_LUAD.HumanMethylation450.Level_1.11.8.0.tar.gz</a>                                     2015-01-26 04:29  296M  \n",
        "      <a href=\"jhu-usc.edu_LUAD.HumanMethylation450.Level_1.11.8.0.tar.gz.md5\">jhu-usc.edu_LUAD.HumanMethylation450.Level_1.11.8.0.tar.gz.md5</a>                                 2015-01-26 04:29   92   \n",
        "      <a href=\"jhu-usc.edu_LUAD.HumanMethylation450.Level_1.11.8.0/\">jhu-usc.edu_LUAD.HumanMethylation450.Level_1.11.8.0/</a>                                           2015-01-26 04:27    -   \n",
        "      <a href=\"jhu-usc.edu_LUAD.HumanMethylation450.Level_1.12.2.0.tar.gz\">jhu-usc.edu_LUAD.HumanMethylation450.Level_1.12.2.0.tar.gz</a>                                     2012-09-25 15:48  130M  \n",
        "      <a href=\"jhu-usc.edu_LUAD.HumanMethylation450.Level_1.12.2.0.tar.gz.md5\">jhu-usc.edu_LUAD.HumanMethylation450.Level_1.12.2.0.tar.gz.md5</a>                                 2012-09-25 15:48   92   \n",
        "      <a href=\"jhu-usc.edu_LUAD.HumanMethylation450.Level_1.12.2.0/\">jhu-usc.edu_LUAD.HumanMethylation450.Level_1.12.2.0/</a>                                           2012-09-25 15:47    -   \n",
        "      <a href=\"jhu-usc.edu_LUAD.HumanMethylation450.Level_1.12.3.0.tar.gz\">jhu-usc.edu_LUAD.HumanMethylation450.Level_1.12.3.0.tar.gz</a>                                     2012-10-30 06:44  130M  \n",
        "      <a href=\"jhu-usc.edu_LUAD.HumanMethylation450.Level_1.12.3.0.tar.gz.md5\">jhu-usc.edu_LUAD.HumanMethylation450.Level_1.12.3.0.tar.gz.md5</a>                                 2012-10-30 06:44   92   \n",
        "      <a href=\"jhu-usc.edu_LUAD.HumanMethylation450.Level_1.12.3.0/\">jhu-usc.edu_LUAD.HumanMethylation450.Level_1.12.3.0/</a>                                           2012-10-30 06:44    -   \n",
        "      <a href=\"jhu-usc.edu_LUAD.HumanMethylation450.Level_1.12.4.0.tar.gz\">jhu-usc.edu_LUAD.HumanMethylation450.Level_1.12.4.0.tar.gz</a>                                     2013-02-26 15:02  138M  \n",
        "      <a href=\"jhu-usc.edu_LUAD.HumanMethylation450.Level_1.12.4.0.tar.gz.md5\">jhu-usc.edu_LUAD.HumanMethylation450.Level_1.12.4.0.tar.gz.md5</a>                                 2013-02-26 15:02   92   \n",
        "      <a href=\"jhu-usc.edu_LUAD.HumanMethylation450.Level_1.12.4.0/\">jhu-usc.edu_LUAD.HumanMethylation450.Level_1.12.4.0/</a>                                           2013-02-26 15:01    -   \n",
        "      <a href=\"jhu-usc.edu_LUAD.HumanMethylation450.Level_1.12.5.0.tar.gz\">jhu-usc.edu_LUAD.HumanMethylation450.Level_1.12.5.0.tar.gz</a>                                     2013-06-18 22:31  138M  \n",
        "      <a href=\"jhu-usc.edu_LUAD.HumanMethylation450.Level_1.12.5.0.tar.gz.md5\">jhu-usc.edu_LUAD.HumanMethylation450.Level_1.12.5.0.tar.gz.md5</a>                                 2013-06-18 22:31   92   \n",
        "      <a href=\"jhu-usc.edu_LUAD.HumanMethylation450.Level_1.12.5.0/\">jhu-usc.edu_LUAD.HumanMethylation450.Level_1.12.5.0/</a>                                           2013-06-18 22:31    -   \n",
        "      <a href=\"jhu-usc.edu_LUAD.HumanMethylation450.Level_1.12.6.0.tar.gz\">jhu-usc.edu_LUAD.HumanMethylation450.Level_1.12.6.0.tar.gz</a>                                     2014-06-16 17:16  138M  \n",
        "      <a href=\"jhu-usc.edu_LUAD.HumanMethylation450.Level_1.12.6.0.tar.gz.md5\">jhu-usc.edu_LUAD.HumanMethylation450.Level_1.12.6.0.tar.gz.md5</a>                                 2014-06-16 17:16   92   \n",
        "      <a href=\"jhu-usc.edu_LUAD.HumanMethylation450.Level_1.12.6.0/\">jhu-usc.edu_LUAD.HumanMethylation450.Level_1.12.6.0/</a>                                           2014-06-16 17:16    -   \n",
        "      <a href=\"jhu-usc.edu_LUAD.HumanMethylation450.Level_1.12.7.0.tar.gz\">jhu-usc.edu_LUAD.HumanMethylation450.Level_1.12.7.0.tar.gz</a>                                     2014-08-04 07:03  138M  \n",
        "      <a href=\"jhu-usc.edu_LUAD.HumanMethylation450.Level_1.12.7.0.tar.gz.md5\">jhu-usc.edu_LUAD.HumanMethylation450.Level_1.12.7.0.tar.gz.md5</a>                                 2014-08-04 07:03   92   \n",
        "      <a href=\"jhu-usc.edu_LUAD.HumanMethylation450.Level_1.12.7.0/\">jhu-usc.edu_LUAD.HumanMethylation450.Level_1.12.7.0/</a>                                           2014-08-04 07:02    -   \n",
        "      <a href=\"jhu-usc.edu_LUAD.HumanMethylation450.Level_1.12.8.0.tar.gz\">jhu-usc.edu_LUAD.HumanMethylation450.Level_1.12.8.0.tar.gz</a>                                     2015-01-26 04:29  138M  \n",
        "      <a href=\"jhu-usc.edu_LUAD.HumanMethylation450.Level_1.12.8.0.tar.gz.md5\">jhu-usc.edu_LUAD.HumanMethylation450.Level_1.12.8.0.tar.gz.md5</a>                                 2015-01-26 04:29   92   \n",
        "      <a href=\"jhu-usc.edu_LUAD.HumanMethylation450.Level_1.12.8.0/\">jhu-usc.edu_LUAD.HumanMethylation450.Level_1.12.8.0/</a>                                           2015-01-26 04:29    -   \n",
        "      <a href=\"jhu-usc.edu_LUAD.HumanMethylation450.Level_1.13.4.0.tar.gz\">jhu-usc.edu_LUAD.HumanMethylation450.Level_1.13.4.0.tar.gz</a>                                     2013-02-26 14:58  276M  \n",
        "      <a href=\"jhu-usc.edu_LUAD.HumanMethylation450.Level_1.13.4.0.tar.gz.md5\">jhu-usc.edu_LUAD.HumanMethylation450.Level_1.13.4.0.tar.gz.md5</a>                                 2013-02-26 14:58   92   \n",
        "      <a href=\"jhu-usc.edu_LUAD.HumanMethylation450.Level_1.13.4.0/\">jhu-usc.edu_LUAD.HumanMethylation450.Level_1.13.4.0/</a>                                           2013-02-26 14:57    -   \n",
        "      <a href=\"jhu-usc.edu_LUAD.HumanMethylation450.Level_1.13.5.0.tar.gz\">jhu-usc.edu_LUAD.HumanMethylation450.Level_1.13.5.0.tar.gz</a>                                     2013-06-18 22:27  276M  \n",
        "      <a href=\"jhu-usc.edu_LUAD.HumanMethylation450.Level_1.13.5.0.tar.gz.md5\">jhu-usc.edu_LUAD.HumanMethylation450.Level_1.13.5.0.tar.gz.md5</a>                                 2013-06-18 22:27   92   \n",
        "      <a href=\"jhu-usc.edu_LUAD.HumanMethylation450.Level_1.13.5.0/\">jhu-usc.edu_LUAD.HumanMethylation450.Level_1.13.5.0/</a>                                           2013-06-18 22:26    -   \n",
        "      <a href=\"jhu-usc.edu_LUAD.HumanMethylation450.Level_1.13.6.0.tar.gz\">jhu-usc.edu_LUAD.HumanMethylation450.Level_1.13.6.0.tar.gz</a>                                     2014-06-16 17:12  276M  \n",
        "      <a href=\"jhu-usc.edu_LUAD.HumanMethylation450.Level_1.13.6.0.tar.gz.md5\">jhu-usc.edu_LUAD.HumanMethylation450.Level_1.13.6.0.tar.gz.md5</a>                                 2014-06-16 17:12   92   \n",
        "      <a href=\"jhu-usc.edu_LUAD.HumanMethylation450.Level_1.13.6.0/\">jhu-usc.edu_LUAD.HumanMethylation450.Level_1.13.6.0/</a>                                           2014-06-16 17:11    -   \n",
        "      <a href=\"jhu-usc.edu_LUAD.HumanMethylation450.Level_1.13.7.0.tar.gz\">jhu-usc.edu_LUAD.HumanMethylation450.Level_1.13.7.0.tar.gz</a>                                     2014-08-04 06:58  276M  \n",
        "      <a href=\"jhu-usc.edu_LUAD.HumanMethylation450.Level_1.13.7.0.tar.gz.md5\">jhu-usc.edu_LUAD.HumanMethylation450.Level_1.13.7.0.tar.gz.md5</a>                                 2014-08-04 06:59   92   \n",
        "      <a href=\"jhu-usc.edu_LUAD.HumanMethylation450.Level_1.13.7.0/\">jhu-usc.edu_LUAD.HumanMethylation450.Level_1.13.7.0/</a>                                           2014-08-04 06:57    -   \n",
        "      <a href=\"jhu-usc.edu_LUAD.HumanMethylation450.Level_1.13.8.0.tar.gz\">jhu-usc.edu_LUAD.HumanMethylation450.Level_1.13.8.0.tar.gz</a>                                     2015-01-26 04:26  276M  \n",
        "      <a href=\"jhu-usc.edu_LUAD.HumanMethylation450.Level_1.13.8.0.tar.gz.md5\">jhu-usc.edu_LUAD.HumanMethylation450.Level_1.13.8.0.tar.gz.md5</a>                                 2015-01-26 04:26   92   \n",
        "      <a href=\"jhu-usc.edu_LUAD.HumanMethylation450.Level_1.13.8.0/\">jhu-usc.edu_LUAD.HumanMethylation450.Level_1.13.8.0/</a>                                           2015-01-26 04:24    -   \n",
        "      <a href=\"jhu-usc.edu_LUAD.HumanMethylation450.Level_1.14.4.0.tar.gz\">jhu-usc.edu_LUAD.HumanMethylation450.Level_1.14.4.0.tar.gz</a>                                     2013-02-26 15:00  282M  \n",
        "      <a href=\"jhu-usc.edu_LUAD.HumanMethylation450.Level_1.14.4.0.tar.gz.md5\">jhu-usc.edu_LUAD.HumanMethylation450.Level_1.14.4.0.tar.gz.md5</a>                                 2013-02-26 15:00   92   \n",
        "      <a href=\"jhu-usc.edu_LUAD.HumanMethylation450.Level_1.14.4.0/\">jhu-usc.edu_LUAD.HumanMethylation450.Level_1.14.4.0/</a>                                           2013-02-26 14:59    -   \n",
        "      <a href=\"jhu-usc.edu_LUAD.HumanMethylation450.Level_1.14.5.0.tar.gz\">jhu-usc.edu_LUAD.HumanMethylation450.Level_1.14.5.0.tar.gz</a>                                     2013-06-18 22:29  282M  \n",
        "      <a href=\"jhu-usc.edu_LUAD.HumanMethylation450.Level_1.14.5.0.tar.gz.md5\">jhu-usc.edu_LUAD.HumanMethylation450.Level_1.14.5.0.tar.gz.md5</a>                                 2013-06-18 22:29   92   \n",
        "      <a href=\"jhu-usc.edu_LUAD.HumanMethylation450.Level_1.14.5.0/\">jhu-usc.edu_LUAD.HumanMethylation450.Level_1.14.5.0/</a>                                           2013-06-18 22:28    -   \n",
        "      <a href=\"jhu-usc.edu_LUAD.HumanMethylation450.Level_1.14.6.0.tar.gz\">jhu-usc.edu_LUAD.HumanMethylation450.Level_1.14.6.0.tar.gz</a>                                     2014-06-16 17:14  282M  \n",
        "      <a href=\"jhu-usc.edu_LUAD.HumanMethylation450.Level_1.14.6.0.tar.gz.md5\">jhu-usc.edu_LUAD.HumanMethylation450.Level_1.14.6.0.tar.gz.md5</a>                                 2014-06-16 17:14   92   \n",
        "      <a href=\"jhu-usc.edu_LUAD.HumanMethylation450.Level_1.14.6.0/\">jhu-usc.edu_LUAD.HumanMethylation450.Level_1.14.6.0/</a>                                           2014-06-16 17:13    -   \n",
        "      <a href=\"jhu-usc.edu_LUAD.HumanMethylation450.Level_1.14.7.0.tar.gz\">jhu-usc.edu_LUAD.HumanMethylation450.Level_1.14.7.0.tar.gz</a>                                     2014-08-04 07:00  282M  \n",
        "      <a href=\"jhu-usc.edu_LUAD.HumanMethylation450.Level_1.14.7.0.tar.gz.md5\">jhu-usc.edu_LUAD.HumanMethylation450.Level_1.14.7.0.tar.gz.md5</a>                                 2014-08-04 07:00   92   \n",
        "      <a href=\"jhu-usc.edu_LUAD.HumanMethylation450.Level_1.14.7.0/\">jhu-usc.edu_LUAD.HumanMethylation450.Level_1.14.7.0/</a>                                           2014-08-04 06:59    -   \n",
        "      <a href=\"jhu-usc.edu_LUAD.HumanMethylation450.Level_1.14.8.0.tar.gz\">jhu-usc.edu_LUAD.HumanMethylation450.Level_1.14.8.0.tar.gz</a>                                     2015-01-26 04:27  282M  \n",
        "      <a href=\"jhu-usc.edu_LUAD.HumanMethylation450.Level_1.14.8.0.tar.gz.md5\">jhu-usc.edu_LUAD.HumanMethylation450.Level_1.14.8.0.tar.gz.md5</a>                                 2015-01-26 04:27   92   \n",
        "      <a href=\"jhu-usc.edu_LUAD.HumanMethylation450.Level_1.14.8.0/\">jhu-usc.edu_LUAD.HumanMethylation450.Level_1.14.8.0/</a>                                           2015-01-26 04:26    -   \n",
        "      <a href=\"jhu-usc.edu_LUAD.HumanMethylation450.Level_1.15.4.0.tar.gz\">jhu-usc.edu_LUAD.HumanMethylation450.Level_1.15.4.0.tar.gz</a>                                     2013-02-26 14:57  291M  \n",
        "      <a href=\"jhu-usc.edu_LUAD.HumanMethylation450.Level_1.15.4.0.tar.gz.md5\">jhu-usc.edu_LUAD.HumanMethylation450.Level_1.15.4.0.tar.gz.md5</a>                                 2013-02-26 14:57   92   \n",
        "      <a href=\"jhu-usc.edu_LUAD.HumanMethylation450.Level_1.15.4.0/\">jhu-usc.edu_LUAD.HumanMethylation450.Level_1.15.4.0/</a>                                           2013-02-26 14:56    -   \n",
        "      <a href=\"jhu-usc.edu_LUAD.HumanMethylation450.Level_1.15.5.0.tar.gz\">jhu-usc.edu_LUAD.HumanMethylation450.Level_1.15.5.0.tar.gz</a>                                     2013-06-18 22:25  291M  \n",
        "      <a href=\"jhu-usc.edu_LUAD.HumanMethylation450.Level_1.15.5.0.tar.gz.md5\">jhu-usc.edu_LUAD.HumanMethylation450.Level_1.15.5.0.tar.gz.md5</a>                                 2013-06-18 22:25   92   \n",
        "      <a href=\"jhu-usc.edu_LUAD.HumanMethylation450.Level_1.15.5.0/\">jhu-usc.edu_LUAD.HumanMethylation450.Level_1.15.5.0/</a>                                           2013-06-18 22:24    -   \n",
        "      <a href=\"jhu-usc.edu_LUAD.HumanMethylation450.Level_1.15.6.0.tar.gz\">jhu-usc.edu_LUAD.HumanMethylation450.Level_1.15.6.0.tar.gz</a>                                     2014-06-16 17:09  291M  \n",
        "      <a href=\"jhu-usc.edu_LUAD.HumanMethylation450.Level_1.15.6.0.tar.gz.md5\">jhu-usc.edu_LUAD.HumanMethylation450.Level_1.15.6.0.tar.gz.md5</a>                                 2014-06-16 17:09   92   \n",
        "      <a href=\"jhu-usc.edu_LUAD.HumanMethylation450.Level_1.15.6.0/\">jhu-usc.edu_LUAD.HumanMethylation450.Level_1.15.6.0/</a>                                           2014-06-16 17:07    -   \n",
        "      <a href=\"jhu-usc.edu_LUAD.HumanMethylation450.Level_1.15.7.0.tar.gz\">jhu-usc.edu_LUAD.HumanMethylation450.Level_1.15.7.0.tar.gz</a>                                     2014-08-04 06:56  291M  \n",
        "      <a href=\"jhu-usc.edu_LUAD.HumanMethylation450.Level_1.15.7.0.tar.gz.md5\">jhu-usc.edu_LUAD.HumanMethylation450.Level_1.15.7.0.tar.gz.md5</a>                                 2014-08-04 06:56   92   \n",
        "      <a href=\"jhu-usc.edu_LUAD.HumanMethylation450.Level_1.15.7.0/\">jhu-usc.edu_LUAD.HumanMethylation450.Level_1.15.7.0/</a>                                           2014-08-04 06:54    -   \n",
        "      <a href=\"jhu-usc.edu_LUAD.HumanMethylation450.Level_1.15.8.0.tar.gz\">jhu-usc.edu_LUAD.HumanMethylation450.Level_1.15.8.0.tar.gz</a>                                     2015-01-26 04:23  291M  \n",
        "      <a href=\"jhu-usc.edu_LUAD.HumanMethylation450.Level_1.15.8.0.tar.gz.md5\">jhu-usc.edu_LUAD.HumanMethylation450.Level_1.15.8.0.tar.gz.md5</a>                                 2015-01-26 04:23   92   \n",
        "      <a href=\"jhu-usc.edu_LUAD.HumanMethylation450.Level_1.15.8.0/\">jhu-usc.edu_LUAD.HumanMethylation450.Level_1.15.8.0/</a>                                           2015-01-26 04:22    -   \n",
        "      <a href=\"jhu-usc.edu_LUAD.HumanMethylation450.Level_1.16.5.0.tar.gz\">jhu-usc.edu_LUAD.HumanMethylation450.Level_1.16.5.0.tar.gz</a>                                     2013-06-18 22:26  177M  \n",
        "      <a href=\"jhu-usc.edu_LUAD.HumanMethylation450.Level_1.16.5.0.tar.gz.md5\">jhu-usc.edu_LUAD.HumanMethylation450.Level_1.16.5.0.tar.gz.md5</a>                                 2013-06-18 22:26   92   \n",
        "      <a href=\"jhu-usc.edu_LUAD.HumanMethylation450.Level_1.16.5.0/\">jhu-usc.edu_LUAD.HumanMethylation450.Level_1.16.5.0/</a>                                           2013-06-18 22:25    -   \n",
        "      <a href=\"jhu-usc.edu_LUAD.HumanMethylation450.Level_1.16.6.0.tar.gz\">jhu-usc.edu_LUAD.HumanMethylation450.Level_1.16.6.0.tar.gz</a>                                     2014-06-16 17:10  177M  \n",
        "      <a href=\"jhu-usc.edu_LUAD.HumanMethylation450.Level_1.16.6.0.tar.gz.md5\">jhu-usc.edu_LUAD.HumanMethylation450.Level_1.16.6.0.tar.gz.md5</a>                                 2014-06-16 17:10   92   \n",
        "      <a href=\"jhu-usc.edu_LUAD.HumanMethylation450.Level_1.16.6.0/\">jhu-usc.edu_LUAD.HumanMethylation450.Level_1.16.6.0/</a>                                           2014-06-16 17:09    -   \n",
        "      <a href=\"jhu-usc.edu_LUAD.HumanMethylation450.Level_1.16.7.0.tar.gz\">jhu-usc.edu_LUAD.HumanMethylation450.Level_1.16.7.0.tar.gz</a>                                     2014-08-04 06:57  177M  \n",
        "      <a href=\"jhu-usc.edu_LUAD.HumanMethylation450.Level_1.16.7.0.tar.gz.md5\">jhu-usc.edu_LUAD.HumanMethylation450.Level_1.16.7.0.tar.gz.md5</a>                                 2014-08-04 06:57   92   \n",
        "      <a href=\"jhu-usc.edu_LUAD.HumanMethylation450.Level_1.16.7.0/\">jhu-usc.edu_LUAD.HumanMethylation450.Level_1.16.7.0/</a>                                           2014-08-04 06:56    -   \n",
        "      <a href=\"jhu-usc.edu_LUAD.HumanMethylation450.Level_1.16.8.0.tar.gz\">jhu-usc.edu_LUAD.HumanMethylation450.Level_1.16.8.0.tar.gz</a>                                     2015-01-26 04:24  177M  \n",
        "      <a href=\"jhu-usc.edu_LUAD.HumanMethylation450.Level_1.16.8.0.tar.gz.md5\">jhu-usc.edu_LUAD.HumanMethylation450.Level_1.16.8.0.tar.gz.md5</a>                                 2015-01-26 04:24   92   \n",
        "      <a href=\"jhu-usc.edu_LUAD.HumanMethylation450.Level_1.16.8.0/\">jhu-usc.edu_LUAD.HumanMethylation450.Level_1.16.8.0/</a>                                           2015-01-26 04:23    -   \n",
        "      <a href=\"jhu-usc.edu_LUAD.HumanMethylation450.Level_1.17.5.0.tar.gz\">jhu-usc.edu_LUAD.HumanMethylation450.Level_1.17.5.0.tar.gz</a>                                     2013-06-18 22:23   49M  \n",
        "      <a href=\"jhu-usc.edu_LUAD.HumanMethylation450.Level_1.17.5.0.tar.gz.md5\">jhu-usc.edu_LUAD.HumanMethylation450.Level_1.17.5.0.tar.gz.md5</a>                                 2013-06-18 22:23   92   \n",
        "      <a href=\"jhu-usc.edu_LUAD.HumanMethylation450.Level_1.17.5.0/\">jhu-usc.edu_LUAD.HumanMethylation450.Level_1.17.5.0/</a>                                           2013-06-18 22:23    -   \n",
        "      <a href=\"jhu-usc.edu_LUAD.HumanMethylation450.Level_1.17.6.0.tar.gz\">jhu-usc.edu_LUAD.HumanMethylation450.Level_1.17.6.0.tar.gz</a>                                     2014-06-16 17:06   49M  \n",
        "      <a href=\"jhu-usc.edu_LUAD.HumanMethylation450.Level_1.17.6.0.tar.gz.md5\">jhu-usc.edu_LUAD.HumanMethylation450.Level_1.17.6.0.tar.gz.md5</a>                                 2014-06-16 17:06   92   \n",
        "      <a href=\"jhu-usc.edu_LUAD.HumanMethylation450.Level_1.17.6.0/\">jhu-usc.edu_LUAD.HumanMethylation450.Level_1.17.6.0/</a>                                           2014-06-16 17:06    -   \n",
        "      <a href=\"jhu-usc.edu_LUAD.HumanMethylation450.Level_1.17.7.0.tar.gz\">jhu-usc.edu_LUAD.HumanMethylation450.Level_1.17.7.0.tar.gz</a>                                     2014-08-04 06:54   49M  \n",
        "      <a href=\"jhu-usc.edu_LUAD.HumanMethylation450.Level_1.17.7.0.tar.gz.md5\">jhu-usc.edu_LUAD.HumanMethylation450.Level_1.17.7.0.tar.gz.md5</a>                                 2014-08-04 06:54   92   \n",
        "      <a href=\"jhu-usc.edu_LUAD.HumanMethylation450.Level_1.17.7.0/\">jhu-usc.edu_LUAD.HumanMethylation450.Level_1.17.7.0/</a>                                           2014-08-04 06:53    -   \n",
        "      <a href=\"jhu-usc.edu_LUAD.HumanMethylation450.Level_1.17.8.0.tar.gz\">jhu-usc.edu_LUAD.HumanMethylation450.Level_1.17.8.0.tar.gz</a>                                     2015-01-26 04:21   49M  \n",
        "      <a href=\"jhu-usc.edu_LUAD.HumanMethylation450.Level_1.17.8.0.tar.gz.md5\">jhu-usc.edu_LUAD.HumanMethylation450.Level_1.17.8.0.tar.gz.md5</a>                                 2015-01-26 04:21   92   \n",
        "      <a href=\"jhu-usc.edu_LUAD.HumanMethylation450.Level_1.17.8.0/\">jhu-usc.edu_LUAD.HumanMethylation450.Level_1.17.8.0/</a>                                           2015-01-26 04:21    -   \n",
        "      <a href=\"jhu-usc.edu_LUAD.HumanMethylation450.Level_1.18.6.0.tar.gz\">jhu-usc.edu_LUAD.HumanMethylation450.Level_1.18.6.0.tar.gz</a>                                     2014-06-16 17:06  115M  \n",
        "      <a href=\"jhu-usc.edu_LUAD.HumanMethylation450.Level_1.18.6.0.tar.gz.md5\">jhu-usc.edu_LUAD.HumanMethylation450.Level_1.18.6.0.tar.gz.md5</a>                                 2014-06-16 17:06   92   \n",
        "      <a href=\"jhu-usc.edu_LUAD.HumanMethylation450.Level_1.18.6.0/\">jhu-usc.edu_LUAD.HumanMethylation450.Level_1.18.6.0/</a>                                           2014-06-16 17:06    -   \n",
        "      <a href=\"jhu-usc.edu_LUAD.HumanMethylation450.Level_1.18.7.0.tar.gz\">jhu-usc.edu_LUAD.HumanMethylation450.Level_1.18.7.0.tar.gz</a>                                     2014-08-04 06:54  115M  \n",
        "      <a href=\"jhu-usc.edu_LUAD.HumanMethylation450.Level_1.18.7.0.tar.gz.md5\">jhu-usc.edu_LUAD.HumanMethylation450.Level_1.18.7.0.tar.gz.md5</a>                                 2014-08-04 06:54   92   \n",
        "      <a href=\"jhu-usc.edu_LUAD.HumanMethylation450.Level_1.18.7.0/\">jhu-usc.edu_LUAD.HumanMethylation450.Level_1.18.7.0/</a>                                           2014-08-04 06:54    -   \n",
        "      <a href=\"jhu-usc.edu_LUAD.HumanMethylation450.Level_1.18.8.0.tar.gz\">jhu-usc.edu_LUAD.HumanMethylation450.Level_1.18.8.0.tar.gz</a>                                     2015-01-26 04:22  115M  \n",
        "      <a href=\"jhu-usc.edu_LUAD.HumanMethylation450.Level_1.18.8.0.tar.gz.md5\">jhu-usc.edu_LUAD.HumanMethylation450.Level_1.18.8.0.tar.gz.md5</a>                                 2015-01-26 04:22   92   \n",
        "      <a href=\"jhu-usc.edu_LUAD.HumanMethylation450.Level_1.18.8.0/\">jhu-usc.edu_LUAD.HumanMethylation450.Level_1.18.8.0/</a>                                           2015-01-26 04:21    -   \n",
        "      <a href=\"jhu-usc.edu_LUAD.HumanMethylation450.Level_1.19.8.0.tar.gz\">jhu-usc.edu_LUAD.HumanMethylation450.Level_1.19.8.0.tar.gz</a>                                     2015-01-26 04:21   81M  \n",
        "      <a href=\"jhu-usc.edu_LUAD.HumanMethylation450.Level_1.19.8.0.tar.gz.md5\">jhu-usc.edu_LUAD.HumanMethylation450.Level_1.19.8.0.tar.gz.md5</a>                                 2015-01-26 04:21   92   \n",
        "      <a href=\"jhu-usc.edu_LUAD.HumanMethylation450.Level_1.19.8.0/\">jhu-usc.edu_LUAD.HumanMethylation450.Level_1.19.8.0/</a>                                           2015-01-26 04:21    -   \n",
        "      <a href=\"jhu-usc.edu_LUAD.HumanMethylation450.Level_1.2.0.0.tar.gz\">jhu-usc.edu_LUAD.HumanMethylation450.Level_1.2.0.0.tar.gz</a>                                      2012-02-28 18:47  269M  \n",
        "      <a href=\"jhu-usc.edu_LUAD.HumanMethylation450.Level_1.2.0.0.tar.gz.md5\">jhu-usc.edu_LUAD.HumanMethylation450.Level_1.2.0.0.tar.gz.md5</a>                                  2012-02-28 18:47   91   \n",
        "      <a href=\"jhu-usc.edu_LUAD.HumanMethylation450.Level_1.2.1.0.tar.gz\">jhu-usc.edu_LUAD.HumanMethylation450.Level_1.2.1.0.tar.gz</a>                                      2012-03-08 00:43  269M  \n",
        "      <a href=\"jhu-usc.edu_LUAD.HumanMethylation450.Level_1.2.1.0.tar.gz.md5\">jhu-usc.edu_LUAD.HumanMethylation450.Level_1.2.1.0.tar.gz.md5</a>                                  2012-03-08 00:43   91   \n",
        "      <a href=\"jhu-usc.edu_LUAD.HumanMethylation450.Level_1.2.1.0/\">jhu-usc.edu_LUAD.HumanMethylation450.Level_1.2.1.0/</a>                                            2012-03-08 00:41    -   \n",
        "      <a href=\"jhu-usc.edu_LUAD.HumanMethylation450.Level_1.2.2.0.tar.gz\">jhu-usc.edu_LUAD.HumanMethylation450.Level_1.2.2.0.tar.gz</a>                                      2012-09-25 15:36  277M  \n",
        "      <a href=\"jhu-usc.edu_LUAD.HumanMethylation450.Level_1.2.2.0.tar.gz.md5\">jhu-usc.edu_LUAD.HumanMethylation450.Level_1.2.2.0.tar.gz.md5</a>                                  2012-09-25 15:36   91   \n",
        "      <a href=\"jhu-usc.edu_LUAD.HumanMethylation450.Level_1.2.2.0/\">jhu-usc.edu_LUAD.HumanMethylation450.Level_1.2.2.0/</a>                                            2012-09-25 15:35    -   \n",
        "      <a href=\"jhu-usc.edu_LUAD.HumanMethylation450.Level_1.2.3.0.tar.gz\">jhu-usc.edu_LUAD.HumanMethylation450.Level_1.2.3.0.tar.gz</a>                                      2012-10-30 06:34  277M  \n",
        "      <a href=\"jhu-usc.edu_LUAD.HumanMethylation450.Level_1.2.3.0.tar.gz.md5\">jhu-usc.edu_LUAD.HumanMethylation450.Level_1.2.3.0.tar.gz.md5</a>                                  2012-10-30 06:34   91   \n",
        "      <a href=\"jhu-usc.edu_LUAD.HumanMethylation450.Level_1.2.3.0/\">jhu-usc.edu_LUAD.HumanMethylation450.Level_1.2.3.0/</a>                                            2012-10-30 06:33    -   \n",
        "      <a href=\"jhu-usc.edu_LUAD.HumanMethylation450.Level_1.2.4.0.tar.gz\">jhu-usc.edu_LUAD.HumanMethylation450.Level_1.2.4.0.tar.gz</a>                                      2013-02-26 15:06  277M  \n",
        "      <a href=\"jhu-usc.edu_LUAD.HumanMethylation450.Level_1.2.4.0.tar.gz.md5\">jhu-usc.edu_LUAD.HumanMethylation450.Level_1.2.4.0.tar.gz.md5</a>                                  2013-02-26 15:06   91   \n",
        "      <a href=\"jhu-usc.edu_LUAD.HumanMethylation450.Level_1.2.4.0/\">jhu-usc.edu_LUAD.HumanMethylation450.Level_1.2.4.0/</a>                                            2013-02-26 15:04    -   \n",
        "      <a href=\"jhu-usc.edu_LUAD.HumanMethylation450.Level_1.2.5.0.tar.gz\">jhu-usc.edu_LUAD.HumanMethylation450.Level_1.2.5.0.tar.gz</a>                                      2013-06-18 22:35  293M  \n",
        "      <a href=\"jhu-usc.edu_LUAD.HumanMethylation450.Level_1.2.5.0.tar.gz.md5\">jhu-usc.edu_LUAD.HumanMethylation450.Level_1.2.5.0.tar.gz.md5</a>                                  2013-06-18 22:35   91   \n",
        "      <a href=\"jhu-usc.edu_LUAD.HumanMethylation450.Level_1.2.5.0/\">jhu-usc.edu_LUAD.HumanMethylation450.Level_1.2.5.0/</a>                                            2013-06-18 22:34    -   \n",
        "      <a href=\"jhu-usc.edu_LUAD.HumanMethylation450.Level_1.2.6.0.tar.gz\">jhu-usc.edu_LUAD.HumanMethylation450.Level_1.2.6.0.tar.gz</a>                                      2014-06-16 17:21  293M  \n",
        "      <a href=\"jhu-usc.edu_LUAD.HumanMethylation450.Level_1.2.6.0.tar.gz.md5\">jhu-usc.edu_LUAD.HumanMethylation450.Level_1.2.6.0.tar.gz.md5</a>                                  2014-06-16 17:21   91   \n",
        "      <a href=\"jhu-usc.edu_LUAD.HumanMethylation450.Level_1.2.6.0/\">jhu-usc.edu_LUAD.HumanMethylation450.Level_1.2.6.0/</a>                                            2014-06-16 17:20    -   \n",
        "      <a href=\"jhu-usc.edu_LUAD.HumanMethylation450.Level_1.2.7.0.tar.gz\">jhu-usc.edu_LUAD.HumanMethylation450.Level_1.2.7.0.tar.gz</a>                                      2014-08-04 07:08  293M  \n",
        "      <a href=\"jhu-usc.edu_LUAD.HumanMethylation450.Level_1.2.7.0.tar.gz.md5\">jhu-usc.edu_LUAD.HumanMethylation450.Level_1.2.7.0.tar.gz.md5</a>                                  2014-08-04 07:08   91   \n",
        "      <a href=\"jhu-usc.edu_LUAD.HumanMethylation450.Level_1.2.7.0/\">jhu-usc.edu_LUAD.HumanMethylation450.Level_1.2.7.0/</a>                                            2014-08-04 07:06    -   \n",
        "      <a href=\"jhu-usc.edu_LUAD.HumanMethylation450.Level_1.2.8.0.tar.gz\">jhu-usc.edu_LUAD.HumanMethylation450.Level_1.2.8.0.tar.gz</a>                                      2015-01-26 04:33  293M  \n",
        "      <a href=\"jhu-usc.edu_LUAD.HumanMethylation450.Level_1.2.8.0.tar.gz.md5\">jhu-usc.edu_LUAD.HumanMethylation450.Level_1.2.8.0.tar.gz.md5</a>                                  2015-01-26 04:33   91   \n",
        "      <a href=\"jhu-usc.edu_LUAD.HumanMethylation450.Level_1.2.8.0/\">jhu-usc.edu_LUAD.HumanMethylation450.Level_1.2.8.0/</a>                                            2015-01-26 04:32    -   \n",
        "      <a href=\"jhu-usc.edu_LUAD.HumanMethylation450.Level_1.3.0.0.tar.gz\">jhu-usc.edu_LUAD.HumanMethylation450.Level_1.3.0.0.tar.gz</a>                                      2012-02-28 18:45  505M  \n",
        "      <a href=\"jhu-usc.edu_LUAD.HumanMethylation450.Level_1.3.0.0.tar.gz.md5\">jhu-usc.edu_LUAD.HumanMethylation450.Level_1.3.0.0.tar.gz.md5</a>                                  2012-02-28 18:45   91   \n",
        "      <a href=\"jhu-usc.edu_LUAD.HumanMethylation450.Level_1.3.1.0.tar.gz\">jhu-usc.edu_LUAD.HumanMethylation450.Level_1.3.1.0.tar.gz</a>                                      2012-03-08 00:41  505M  \n",
        "      <a href=\"jhu-usc.edu_LUAD.HumanMethylation450.Level_1.3.1.0.tar.gz.md5\">jhu-usc.edu_LUAD.HumanMethylation450.Level_1.3.1.0.tar.gz.md5</a>                                  2012-03-08 00:41   91   \n",
        "      <a href=\"jhu-usc.edu_LUAD.HumanMethylation450.Level_1.3.1.0/\">jhu-usc.edu_LUAD.HumanMethylation450.Level_1.3.1.0/</a>                                            2012-03-08 00:38    -   \n",
        "      <a href=\"jhu-usc.edu_LUAD.HumanMethylation450.Level_1.3.2.0.tar.gz\">jhu-usc.edu_LUAD.HumanMethylation450.Level_1.3.2.0.tar.gz</a>                                      2012-09-25 15:34  505M  \n",
        "      <a href=\"jhu-usc.edu_LUAD.HumanMethylation450.Level_1.3.2.0.tar.gz.md5\">jhu-usc.edu_LUAD.HumanMethylation450.Level_1.3.2.0.tar.gz.md5</a>                                  2012-09-25 15:34   91   \n",
        "      <a href=\"jhu-usc.edu_LUAD.HumanMethylation450.Level_1.3.2.0/\">jhu-usc.edu_LUAD.HumanMethylation450.Level_1.3.2.0/</a>                                            2012-09-25 15:32    -   \n",
        "      <a href=\"jhu-usc.edu_LUAD.HumanMethylation450.Level_1.3.3.0.tar.gz\">jhu-usc.edu_LUAD.HumanMethylation450.Level_1.3.3.0.tar.gz</a>                                      2012-10-30 06:32  505M  \n",
        "      <a href=\"jhu-usc.edu_LUAD.HumanMethylation450.Level_1.3.3.0.tar.gz.md5\">jhu-usc.edu_LUAD.HumanMethylation450.Level_1.3.3.0.tar.gz.md5</a>                                  2012-10-30 06:32   91   \n",
        "      <a href=\"jhu-usc.edu_LUAD.HumanMethylation450.Level_1.3.3.0/\">jhu-usc.edu_LUAD.HumanMethylation450.Level_1.3.3.0/</a>                                            2012-10-30 06:30    -   \n",
        "      <a href=\"jhu-usc.edu_LUAD.HumanMethylation450.Level_1.3.4.0.tar.gz\">jhu-usc.edu_LUAD.HumanMethylation450.Level_1.3.4.0.tar.gz</a>                                      2013-02-26 15:04  505M  \n",
        "      <a href=\"jhu-usc.edu_LUAD.HumanMethylation450.Level_1.3.4.0.tar.gz.md5\">jhu-usc.edu_LUAD.HumanMethylation450.Level_1.3.4.0.tar.gz.md5</a>                                  2013-02-26 15:04   91   \n",
        "      <a href=\"jhu-usc.edu_LUAD.HumanMethylation450.Level_1.3.4.0/\">jhu-usc.edu_LUAD.HumanMethylation450.Level_1.3.4.0/</a>                                            2013-02-26 15:02    -   \n",
        "      <a href=\"jhu-usc.edu_LUAD.HumanMethylation450.Level_1.3.5.0.tar.gz\">jhu-usc.edu_LUAD.HumanMethylation450.Level_1.3.5.0.tar.gz</a>                                      2013-06-18 22:34  537M  \n",
        "      <a href=\"jhu-usc.edu_LUAD.HumanMethylation450.Level_1.3.5.0.tar.gz.md5\">jhu-usc.edu_LUAD.HumanMethylation450.Level_1.3.5.0.tar.gz.md5</a>                                  2013-06-18 22:34   91   \n",
        "      <a href=\"jhu-usc.edu_LUAD.HumanMethylation450.Level_1.3.5.0/\">jhu-usc.edu_LUAD.HumanMethylation450.Level_1.3.5.0/</a>                                            2013-06-18 22:32    -   \n",
        "      <a href=\"jhu-usc.edu_LUAD.HumanMethylation450.Level_1.3.6.0.tar.gz\">jhu-usc.edu_LUAD.HumanMethylation450.Level_1.3.6.0.tar.gz</a>                                      2014-06-16 17:19  537M  \n",
        "      <a href=\"jhu-usc.edu_LUAD.HumanMethylation450.Level_1.3.6.0.tar.gz.md5\">jhu-usc.edu_LUAD.HumanMethylation450.Level_1.3.6.0.tar.gz.md5</a>                                  2014-06-16 17:19   91   \n",
        "      <a href=\"jhu-usc.edu_LUAD.HumanMethylation450.Level_1.3.6.0/\">jhu-usc.edu_LUAD.HumanMethylation450.Level_1.3.6.0/</a>                                            2014-06-16 17:17    -   \n",
        "      <a href=\"jhu-usc.edu_LUAD.HumanMethylation450.Level_1.3.7.0.tar.gz\">jhu-usc.edu_LUAD.HumanMethylation450.Level_1.3.7.0.tar.gz</a>                                      2014-08-04 07:06  545M  \n",
        "      <a href=\"jhu-usc.edu_LUAD.HumanMethylation450.Level_1.3.7.0.tar.gz.md5\">jhu-usc.edu_LUAD.HumanMethylation450.Level_1.3.7.0.tar.gz.md5</a>                                  2014-08-04 07:06   91   \n",
        "      <a href=\"jhu-usc.edu_LUAD.HumanMethylation450.Level_1.3.7.0/\">jhu-usc.edu_LUAD.HumanMethylation450.Level_1.3.7.0/</a>                                            2014-08-04 07:03    -   \n",
        "      <a href=\"jhu-usc.edu_LUAD.HumanMethylation450.Level_1.3.8.0.tar.gz\">jhu-usc.edu_LUAD.HumanMethylation450.Level_1.3.8.0.tar.gz</a>                                      2015-01-26 04:32  545M  \n",
        "      <a href=\"jhu-usc.edu_LUAD.HumanMethylation450.Level_1.3.8.0.tar.gz.md5\">jhu-usc.edu_LUAD.HumanMethylation450.Level_1.3.8.0.tar.gz.md5</a>                                  2015-01-26 04:32   91   \n",
        "      <a href=\"jhu-usc.edu_LUAD.HumanMethylation450.Level_1.3.8.0/\">jhu-usc.edu_LUAD.HumanMethylation450.Level_1.3.8.0/</a>                                            2015-01-26 04:30    -   \n",
        "      <a href=\"jhu-usc.edu_LUAD.HumanMethylation450.Level_1.4.0.0.tar.gz\">jhu-usc.edu_LUAD.HumanMethylation450.Level_1.4.0.0.tar.gz</a>                                      2012-02-28 18:54  327M  \n",
        "      <a href=\"jhu-usc.edu_LUAD.HumanMethylation450.Level_1.4.0.0.tar.gz.md5\">jhu-usc.edu_LUAD.HumanMethylation450.Level_1.4.0.0.tar.gz.md5</a>                                  2012-02-28 18:54   91   \n",
        "      <a href=\"jhu-usc.edu_LUAD.HumanMethylation450.Level_1.4.1.0.tar.gz\">jhu-usc.edu_LUAD.HumanMethylation450.Level_1.4.1.0.tar.gz</a>                                      2012-03-08 00:51  327M  \n",
        "      <a href=\"jhu-usc.edu_LUAD.HumanMethylation450.Level_1.4.1.0.tar.gz.md5\">jhu-usc.edu_LUAD.HumanMethylation450.Level_1.4.1.0.tar.gz.md5</a>                                  2012-03-08 00:51   91   \n",
        "      <a href=\"jhu-usc.edu_LUAD.HumanMethylation450.Level_1.4.1.0/\">jhu-usc.edu_LUAD.HumanMethylation450.Level_1.4.1.0/</a>                                            2012-03-08 00:49    -   \n",
        "      <a href=\"jhu-usc.edu_LUAD.HumanMethylation450.Level_1.4.2.0.tar.gz\">jhu-usc.edu_LUAD.HumanMethylation450.Level_1.4.2.0.tar.gz</a>                                      2012-09-25 15:43  327M  \n",
        "      <a href=\"jhu-usc.edu_LUAD.HumanMethylation450.Level_1.4.2.0.tar.gz.md5\">jhu-usc.edu_LUAD.HumanMethylation450.Level_1.4.2.0.tar.gz.md5</a>                                  2012-09-25 15:44   91   \n",
        "      <a href=\"jhu-usc.edu_LUAD.HumanMethylation450.Level_1.4.2.0/\">jhu-usc.edu_LUAD.HumanMethylation450.Level_1.4.2.0/</a>                                            2012-09-25 15:42    -   \n",
        "      <a href=\"jhu-usc.edu_LUAD.HumanMethylation450.Level_1.4.3.0.tar.gz\">jhu-usc.edu_LUAD.HumanMethylation450.Level_1.4.3.0.tar.gz</a>                                      2012-10-30 06:40  327M  \n",
        "      <a href=\"jhu-usc.edu_LUAD.HumanMethylation450.Level_1.4.3.0.tar.gz.md5\">jhu-usc.edu_LUAD.HumanMethylation450.Level_1.4.3.0.tar.gz.md5</a>                                  2012-10-30 06:40   91   \n",
        "      <a href=\"jhu-usc.edu_LUAD.HumanMethylation450.Level_1.4.3.0/\">jhu-usc.edu_LUAD.HumanMethylation450.Level_1.4.3.0/</a>                                            2012-10-30 06:39    -   \n",
        "      <a href=\"jhu-usc.edu_LUAD.HumanMethylation450.Level_1.4.4.0.tar.gz\">jhu-usc.edu_LUAD.HumanMethylation450.Level_1.4.4.0.tar.gz</a>                                      2013-02-26 15:12  327M  \n",
        "      <a href=\"jhu-usc.edu_LUAD.HumanMethylation450.Level_1.4.4.0.tar.gz.md5\">jhu-usc.edu_LUAD.HumanMethylation450.Level_1.4.4.0.tar.gz.md5</a>                                  2013-02-26 15:12   91   \n",
        "      <a href=\"jhu-usc.edu_LUAD.HumanMethylation450.Level_1.4.4.0/\">jhu-usc.edu_LUAD.HumanMethylation450.Level_1.4.4.0/</a>                                            2013-02-26 15:11    -   \n",
        "      <a href=\"jhu-usc.edu_LUAD.HumanMethylation450.Level_1.4.5.0.tar.gz\">jhu-usc.edu_LUAD.HumanMethylation450.Level_1.4.5.0.tar.gz</a>                                      2013-06-18 22:43  343M  \n",
        "      <a href=\"jhu-usc.edu_LUAD.HumanMethylation450.Level_1.4.5.0.tar.gz.md5\">jhu-usc.edu_LUAD.HumanMethylation450.Level_1.4.5.0.tar.gz.md5</a>                                  2013-06-18 22:43   91   \n",
        "      <a href=\"jhu-usc.edu_LUAD.HumanMethylation450.Level_1.4.5.0/\">jhu-usc.edu_LUAD.HumanMethylation450.Level_1.4.5.0/</a>                                            2013-06-18 22:42    -   \n",
        "      <a href=\"jhu-usc.edu_LUAD.HumanMethylation450.Level_1.4.6.0.tar.gz\">jhu-usc.edu_LUAD.HumanMethylation450.Level_1.4.6.0.tar.gz</a>                                      2014-06-16 17:30  343M  \n",
        "      <a href=\"jhu-usc.edu_LUAD.HumanMethylation450.Level_1.4.6.0.tar.gz.md5\">jhu-usc.edu_LUAD.HumanMethylation450.Level_1.4.6.0.tar.gz.md5</a>                                  2014-06-16 17:30   91   \n",
        "      <a href=\"jhu-usc.edu_LUAD.HumanMethylation450.Level_1.4.6.0/\">jhu-usc.edu_LUAD.HumanMethylation450.Level_1.4.6.0/</a>                                            2014-06-16 17:28    -   \n",
        "      <a href=\"jhu-usc.edu_LUAD.HumanMethylation450.Level_1.4.7.0.tar.gz\">jhu-usc.edu_LUAD.HumanMethylation450.Level_1.4.7.0.tar.gz</a>                                      2014-08-04 07:16  343M  \n",
        "      <a href=\"jhu-usc.edu_LUAD.HumanMethylation450.Level_1.4.7.0.tar.gz.md5\">jhu-usc.edu_LUAD.HumanMethylation450.Level_1.4.7.0.tar.gz.md5</a>                                  2014-08-04 07:16   91   \n",
        "      <a href=\"jhu-usc.edu_LUAD.HumanMethylation450.Level_1.4.7.0/\">jhu-usc.edu_LUAD.HumanMethylation450.Level_1.4.7.0/</a>                                            2014-08-04 07:15    -   \n",
        "      <a href=\"jhu-usc.edu_LUAD.HumanMethylation450.Level_1.4.8.0.tar.gz\">jhu-usc.edu_LUAD.HumanMethylation450.Level_1.4.8.0.tar.gz</a>                                      2015-01-26 04:41  343M  \n",
        "      <a href=\"jhu-usc.edu_LUAD.HumanMethylation450.Level_1.4.8.0.tar.gz.md5\">jhu-usc.edu_LUAD.HumanMethylation450.Level_1.4.8.0.tar.gz.md5</a>                                  2015-01-26 04:41   91   \n",
        "      <a href=\"jhu-usc.edu_LUAD.HumanMethylation450.Level_1.4.8.0/\">jhu-usc.edu_LUAD.HumanMethylation450.Level_1.4.8.0/</a>                                            2015-01-26 04:39    -   \n",
        "      <a href=\"jhu-usc.edu_LUAD.HumanMethylation450.Level_1.5.0.0.tar.gz\">jhu-usc.edu_LUAD.HumanMethylation450.Level_1.5.0.0.tar.gz</a>                                      2012-02-28 18:52  278M  \n",
        "      <a href=\"jhu-usc.edu_LUAD.HumanMethylation450.Level_1.5.0.0.tar.gz.md5\">jhu-usc.edu_LUAD.HumanMethylation450.Level_1.5.0.0.tar.gz.md5</a>                                  2012-02-28 18:53   91   \n",
        "      <a href=\"jhu-usc.edu_LUAD.HumanMethylation450.Level_1.5.1.0.tar.gz\">jhu-usc.edu_LUAD.HumanMethylation450.Level_1.5.1.0.tar.gz</a>                                      2012-03-08 00:48  278M  \n",
        "      <a href=\"jhu-usc.edu_LUAD.HumanMethylation450.Level_1.5.1.0.tar.gz.md5\">jhu-usc.edu_LUAD.HumanMethylation450.Level_1.5.1.0.tar.gz.md5</a>                                  2012-03-08 00:48   91   \n",
        "      <a href=\"jhu-usc.edu_LUAD.HumanMethylation450.Level_1.5.1.0/\">jhu-usc.edu_LUAD.HumanMethylation450.Level_1.5.1.0/</a>                                            2012-03-08 00:47    -   \n",
        "      <a href=\"jhu-usc.edu_LUAD.HumanMethylation450.Level_1.5.2.0.tar.gz\">jhu-usc.edu_LUAD.HumanMethylation450.Level_1.5.2.0.tar.gz</a>                                      2012-09-25 15:42  278M  \n",
        "      <a href=\"jhu-usc.edu_LUAD.HumanMethylation450.Level_1.5.2.0.tar.gz.md5\">jhu-usc.edu_LUAD.HumanMethylation450.Level_1.5.2.0.tar.gz.md5</a>                                  2012-09-25 15:42   91   \n",
        "      <a href=\"jhu-usc.edu_LUAD.HumanMethylation450.Level_1.5.2.0/\">jhu-usc.edu_LUAD.HumanMethylation450.Level_1.5.2.0/</a>                                            2012-09-25 15:41    -   \n",
        "      <a href=\"jhu-usc.edu_LUAD.HumanMethylation450.Level_1.5.3.0.tar.gz\">jhu-usc.edu_LUAD.HumanMethylation450.Level_1.5.3.0.tar.gz</a>                                      2012-10-30 06:39  278M  \n",
        "      <a href=\"jhu-usc.edu_LUAD.HumanMethylation450.Level_1.5.3.0.tar.gz.md5\">jhu-usc.edu_LUAD.HumanMethylation450.Level_1.5.3.0.tar.gz.md5</a>                                  2012-10-30 06:39   91   \n",
        "      <a href=\"jhu-usc.edu_LUAD.HumanMethylation450.Level_1.5.3.0/\">jhu-usc.edu_LUAD.HumanMethylation450.Level_1.5.3.0/</a>                                            2012-10-30 06:38    -   \n",
        "      <a href=\"jhu-usc.edu_LUAD.HumanMethylation450.Level_1.5.4.0.tar.gz\">jhu-usc.edu_LUAD.HumanMethylation450.Level_1.5.4.0.tar.gz</a>                                      2013-02-26 15:10  278M  \n",
        "      <a href=\"jhu-usc.edu_LUAD.HumanMethylation450.Level_1.5.4.0.tar.gz.md5\">jhu-usc.edu_LUAD.HumanMethylation450.Level_1.5.4.0.tar.gz.md5</a>                                  2013-02-26 15:10   91   \n",
        "      <a href=\"jhu-usc.edu_LUAD.HumanMethylation450.Level_1.5.4.0/\">jhu-usc.edu_LUAD.HumanMethylation450.Level_1.5.4.0/</a>                                            2013-02-26 15:09    -   \n",
        "      <a href=\"jhu-usc.edu_LUAD.HumanMethylation450.Level_1.5.5.0.tar.gz\">jhu-usc.edu_LUAD.HumanMethylation450.Level_1.5.5.0.tar.gz</a>                                      2013-06-18 22:41  278M  \n",
        "      <a href=\"jhu-usc.edu_LUAD.HumanMethylation450.Level_1.5.5.0.tar.gz.md5\">jhu-usc.edu_LUAD.HumanMethylation450.Level_1.5.5.0.tar.gz.md5</a>                                  2013-06-18 22:41   91   \n",
        "      <a href=\"jhu-usc.edu_LUAD.HumanMethylation450.Level_1.5.5.0/\">jhu-usc.edu_LUAD.HumanMethylation450.Level_1.5.5.0/</a>                                            2013-06-18 22:40    -   \n",
        "      <a href=\"jhu-usc.edu_LUAD.HumanMethylation450.Level_1.5.6.0.tar.gz\">jhu-usc.edu_LUAD.HumanMethylation450.Level_1.5.6.0.tar.gz</a>                                      2014-06-16 17:28  278M  \n",
        "      <a href=\"jhu-usc.edu_LUAD.HumanMethylation450.Level_1.5.6.0.tar.gz.md5\">jhu-usc.edu_LUAD.HumanMethylation450.Level_1.5.6.0.tar.gz.md5</a>                                  2014-06-16 17:28   91   \n",
        "      <a href=\"jhu-usc.edu_LUAD.HumanMethylation450.Level_1.5.6.0/\">jhu-usc.edu_LUAD.HumanMethylation450.Level_1.5.6.0/</a>                                            2014-06-16 17:26    -   \n",
        "      <a href=\"jhu-usc.edu_LUAD.HumanMethylation450.Level_1.5.7.0.tar.gz\">jhu-usc.edu_LUAD.HumanMethylation450.Level_1.5.7.0.tar.gz</a>                                      2014-08-04 07:14  278M  \n",
        "      <a href=\"jhu-usc.edu_LUAD.HumanMethylation450.Level_1.5.7.0.tar.gz.md5\">jhu-usc.edu_LUAD.HumanMethylation450.Level_1.5.7.0.tar.gz.md5</a>                                  2014-08-04 07:14   91   \n",
        "      <a href=\"jhu-usc.edu_LUAD.HumanMethylation450.Level_1.5.7.0/\">jhu-usc.edu_LUAD.HumanMethylation450.Level_1.5.7.0/</a>                                            2014-08-04 07:13    -   \n",
        "      <a href=\"jhu-usc.edu_LUAD.HumanMethylation450.Level_1.5.8.0.tar.gz\">jhu-usc.edu_LUAD.HumanMethylation450.Level_1.5.8.0.tar.gz</a>                                      2015-01-26 04:39  278M  \n",
        "      <a href=\"jhu-usc.edu_LUAD.HumanMethylation450.Level_1.5.8.0.tar.gz.md5\">jhu-usc.edu_LUAD.HumanMethylation450.Level_1.5.8.0.tar.gz.md5</a>                                  2015-01-26 04:39   91   \n",
        "      <a href=\"jhu-usc.edu_LUAD.HumanMethylation450.Level_1.5.8.0/\">jhu-usc.edu_LUAD.HumanMethylation450.Level_1.5.8.0/</a>                                            2015-01-26 04:38    -   \n",
        "      <a href=\"jhu-usc.edu_LUAD.HumanMethylation450.Level_1.6.0.0.tar.gz\">jhu-usc.edu_LUAD.HumanMethylation450.Level_1.6.0.0.tar.gz</a>                                      2012-02-28 18:51  277M  \n",
        "      <a href=\"jhu-usc.edu_LUAD.HumanMethylation450.Level_1.6.0.0.tar.gz.md5\">jhu-usc.edu_LUAD.HumanMethylation450.Level_1.6.0.0.tar.gz.md5</a>                                  2012-02-28 18:51   91   \n",
        "      <a href=\"jhu-usc.edu_LUAD.HumanMethylation450.Level_1.6.1.0.tar.gz\">jhu-usc.edu_LUAD.HumanMethylation450.Level_1.6.1.0.tar.gz</a>                                      2012-03-08 00:46  277M  \n",
        "      <a href=\"jhu-usc.edu_LUAD.HumanMethylation450.Level_1.6.1.0.tar.gz.md5\">jhu-usc.edu_LUAD.HumanMethylation450.Level_1.6.1.0.tar.gz.md5</a>                                  2012-03-08 00:46   91   \n",
        "      <a href=\"jhu-usc.edu_LUAD.HumanMethylation450.Level_1.6.1.0/\">jhu-usc.edu_LUAD.HumanMethylation450.Level_1.6.1.0/</a>                                            2012-03-08 00:45    -   \n",
        "      <a href=\"jhu-usc.edu_LUAD.HumanMethylation450.Level_1.6.2.0.tar.gz\">jhu-usc.edu_LUAD.HumanMethylation450.Level_1.6.2.0.tar.gz</a>                                      2012-09-25 15:40  277M  \n",
        "      <a href=\"jhu-usc.edu_LUAD.HumanMethylation450.Level_1.6.2.0.tar.gz.md5\">jhu-usc.edu_LUAD.HumanMethylation450.Level_1.6.2.0.tar.gz.md5</a>                                  2012-09-25 15:40   91   \n",
        "      <a href=\"jhu-usc.edu_LUAD.HumanMethylation450.Level_1.6.2.0/\">jhu-usc.edu_LUAD.HumanMethylation450.Level_1.6.2.0/</a>                                            2012-09-25 15:39    -   \n",
        "      <a href=\"jhu-usc.edu_LUAD.HumanMethylation450.Level_1.6.3.0.tar.gz\">jhu-usc.edu_LUAD.HumanMethylation450.Level_1.6.3.0.tar.gz</a>                                      2012-10-30 06:37  277M  \n",
        "      <a href=\"jhu-usc.edu_LUAD.HumanMethylation450.Level_1.6.3.0.tar.gz.md5\">jhu-usc.edu_LUAD.HumanMethylation450.Level_1.6.3.0.tar.gz.md5</a>                                  2012-10-30 06:37   91   \n",
        "      <a href=\"jhu-usc.edu_LUAD.HumanMethylation450.Level_1.6.3.0/\">jhu-usc.edu_LUAD.HumanMethylation450.Level_1.6.3.0/</a>                                            2012-10-30 06:36    -   \n",
        "      <a href=\"jhu-usc.edu_LUAD.HumanMethylation450.Level_1.6.4.0.tar.gz\">jhu-usc.edu_LUAD.HumanMethylation450.Level_1.6.4.0.tar.gz</a>                                      2013-02-26 15:09  277M  \n",
        "      <a href=\"jhu-usc.edu_LUAD.HumanMethylation450.Level_1.6.4.0.tar.gz.md5\">jhu-usc.edu_LUAD.HumanMethylation450.Level_1.6.4.0.tar.gz.md5</a>                                  2013-02-26 15:09   91   \n",
        "      <a href=\"jhu-usc.edu_LUAD.HumanMethylation450.Level_1.6.4.0/\">jhu-usc.edu_LUAD.HumanMethylation450.Level_1.6.4.0/</a>                                            2013-02-26 15:08    -   \n",
        "      <a href=\"jhu-usc.edu_LUAD.HumanMethylation450.Level_1.6.5.0.tar.gz\">jhu-usc.edu_LUAD.HumanMethylation450.Level_1.6.5.0.tar.gz</a>                                      2013-06-18 22:40  277M  \n",
        "      <a href=\"jhu-usc.edu_LUAD.HumanMethylation450.Level_1.6.5.0.tar.gz.md5\">jhu-usc.edu_LUAD.HumanMethylation450.Level_1.6.5.0.tar.gz.md5</a>                                  2013-06-18 22:40   91   \n",
        "      <a href=\"jhu-usc.edu_LUAD.HumanMethylation450.Level_1.6.5.0/\">jhu-usc.edu_LUAD.HumanMethylation450.Level_1.6.5.0/</a>                                            2013-06-18 22:39    -   \n",
        "      <a href=\"jhu-usc.edu_LUAD.HumanMethylation450.Level_1.6.6.0.tar.gz\">jhu-usc.edu_LUAD.HumanMethylation450.Level_1.6.6.0.tar.gz</a>                                      2014-06-16 17:26  277M  \n",
        "      <a href=\"jhu-usc.edu_LUAD.HumanMethylation450.Level_1.6.6.0.tar.gz.md5\">jhu-usc.edu_LUAD.HumanMethylation450.Level_1.6.6.0.tar.gz.md5</a>                                  2014-06-16 17:26   91   \n",
        "      <a href=\"jhu-usc.edu_LUAD.HumanMethylation450.Level_1.6.6.0/\">jhu-usc.edu_LUAD.HumanMethylation450.Level_1.6.6.0/</a>                                            2014-06-16 17:25    -   \n",
        "      <a href=\"jhu-usc.edu_LUAD.HumanMethylation450.Level_1.6.7.0.tar.gz\">jhu-usc.edu_LUAD.HumanMethylation450.Level_1.6.7.0.tar.gz</a>                                      2014-08-04 07:13  277M  \n",
        "      <a href=\"jhu-usc.edu_LUAD.HumanMethylation450.Level_1.6.7.0.tar.gz.md5\">jhu-usc.edu_LUAD.HumanMethylation450.Level_1.6.7.0.tar.gz.md5</a>                                  2014-08-04 07:13   91   \n",
        "      <a href=\"jhu-usc.edu_LUAD.HumanMethylation450.Level_1.6.7.0/\">jhu-usc.edu_LUAD.HumanMethylation450.Level_1.6.7.0/</a>                                            2014-08-04 07:11    -   \n",
        "      <a href=\"jhu-usc.edu_LUAD.HumanMethylation450.Level_1.6.8.0.tar.gz\">jhu-usc.edu_LUAD.HumanMethylation450.Level_1.6.8.0.tar.gz</a>                                      2015-01-26 04:38  277M  \n",
        "      <a href=\"jhu-usc.edu_LUAD.HumanMethylation450.Level_1.6.8.0.tar.gz.md5\">jhu-usc.edu_LUAD.HumanMethylation450.Level_1.6.8.0.tar.gz.md5</a>                                  2015-01-26 04:38   91   \n",
        "      <a href=\"jhu-usc.edu_LUAD.HumanMethylation450.Level_1.6.8.0/\">jhu-usc.edu_LUAD.HumanMethylation450.Level_1.6.8.0/</a>                                            2015-01-26 04:37    -   \n",
        "      <a href=\"jhu-usc.edu_LUAD.HumanMethylation450.Level_1.7.0.0.tar.gz\">jhu-usc.edu_LUAD.HumanMethylation450.Level_1.7.0.0.tar.gz</a>                                      2012-02-28 18:49  235M  \n",
        "      <a href=\"jhu-usc.edu_LUAD.HumanMethylation450.Level_1.7.0.0.tar.gz.md5\">jhu-usc.edu_LUAD.HumanMethylation450.Level_1.7.0.0.tar.gz.md5</a>                                  2012-02-28 18:49   91   \n",
        "      <a href=\"jhu-usc.edu_LUAD.HumanMethylation450.Level_1.7.1.0.tar.gz\">jhu-usc.edu_LUAD.HumanMethylation450.Level_1.7.1.0.tar.gz</a>                                      2012-03-08 00:45  235M  \n",
        "      <a href=\"jhu-usc.edu_LUAD.HumanMethylation450.Level_1.7.1.0.tar.gz.md5\">jhu-usc.edu_LUAD.HumanMethylation450.Level_1.7.1.0.tar.gz.md5</a>                                  2012-03-08 00:45   91   \n",
        "      <a href=\"jhu-usc.edu_LUAD.HumanMethylation450.Level_1.7.1.0/\">jhu-usc.edu_LUAD.HumanMethylation450.Level_1.7.1.0/</a>                                            2012-03-08 00:44    -   \n",
        "      <a href=\"jhu-usc.edu_LUAD.HumanMethylation450.Level_1.7.2.0.tar.gz\">jhu-usc.edu_LUAD.HumanMethylation450.Level_1.7.2.0.tar.gz</a>                                      2012-09-25 15:39  235M  \n",
        "      <a href=\"jhu-usc.edu_LUAD.HumanMethylation450.Level_1.7.2.0.tar.gz.md5\">jhu-usc.edu_LUAD.HumanMethylation450.Level_1.7.2.0.tar.gz.md5</a>                                  2012-09-25 15:39   91   \n",
        "      <a href=\"jhu-usc.edu_LUAD.HumanMethylation450.Level_1.7.2.0/\">jhu-usc.edu_LUAD.HumanMethylation450.Level_1.7.2.0/</a>                                            2012-09-25 15:38    -   \n",
        "      <a href=\"jhu-usc.edu_LUAD.HumanMethylation450.Level_1.7.3.0.tar.gz\">jhu-usc.edu_LUAD.HumanMethylation450.Level_1.7.3.0.tar.gz</a>                                      2012-10-30 06:36  235M  \n",
        "      <a href=\"jhu-usc.edu_LUAD.HumanMethylation450.Level_1.7.3.0.tar.gz.md5\">jhu-usc.edu_LUAD.HumanMethylation450.Level_1.7.3.0.tar.gz.md5</a>                                  2012-10-30 06:36   91   \n",
        "      <a href=\"jhu-usc.edu_LUAD.HumanMethylation450.Level_1.7.3.0/\">jhu-usc.edu_LUAD.HumanMethylation450.Level_1.7.3.0/</a>                                            2012-10-30 06:35    -   \n",
        "      <a href=\"jhu-usc.edu_LUAD.HumanMethylation450.Level_1.7.4.0.tar.gz\">jhu-usc.edu_LUAD.HumanMethylation450.Level_1.7.4.0.tar.gz</a>                                      2013-02-26 15:08  235M  \n",
        "      <a href=\"jhu-usc.edu_LUAD.HumanMethylation450.Level_1.7.4.0.tar.gz.md5\">jhu-usc.edu_LUAD.HumanMethylation450.Level_1.7.4.0.tar.gz.md5</a>                                  2013-02-26 15:08   91   \n",
        "      <a href=\"jhu-usc.edu_LUAD.HumanMethylation450.Level_1.7.4.0/\">jhu-usc.edu_LUAD.HumanMethylation450.Level_1.7.4.0/</a>                                            2013-02-26 15:07    -   \n",
        "      <a href=\"jhu-usc.edu_LUAD.HumanMethylation450.Level_1.7.5.0.tar.gz\">jhu-usc.edu_LUAD.HumanMethylation450.Level_1.7.5.0.tar.gz</a>                                      2013-06-18 22:38  235M  \n",
        "      <a href=\"jhu-usc.edu_LUAD.HumanMethylation450.Level_1.7.5.0.tar.gz.md5\">jhu-usc.edu_LUAD.HumanMethylation450.Level_1.7.5.0.tar.gz.md5</a>                                  2013-06-18 22:38   91   \n",
        "      <a href=\"jhu-usc.edu_LUAD.HumanMethylation450.Level_1.7.5.0/\">jhu-usc.edu_LUAD.HumanMethylation450.Level_1.7.5.0/</a>                                            2013-06-18 22:37    -   \n",
        "      <a href=\"jhu-usc.edu_LUAD.HumanMethylation450.Level_1.7.6.0.tar.gz\">jhu-usc.edu_LUAD.HumanMethylation450.Level_1.7.6.0.tar.gz</a>                                      2014-06-16 17:24  235M  \n",
        "      <a href=\"jhu-usc.edu_LUAD.HumanMethylation450.Level_1.7.6.0.tar.gz.md5\">jhu-usc.edu_LUAD.HumanMethylation450.Level_1.7.6.0.tar.gz.md5</a>                                  2014-06-16 17:24   91   \n",
        "      <a href=\"jhu-usc.edu_LUAD.HumanMethylation450.Level_1.7.6.0/\">jhu-usc.edu_LUAD.HumanMethylation450.Level_1.7.6.0/</a>                                            2014-06-16 17:23    -   \n",
        "      <a href=\"jhu-usc.edu_LUAD.HumanMethylation450.Level_1.7.7.0.tar.gz\">jhu-usc.edu_LUAD.HumanMethylation450.Level_1.7.7.0.tar.gz</a>                                      2014-08-04 07:11  235M  \n",
        "      <a href=\"jhu-usc.edu_LUAD.HumanMethylation450.Level_1.7.7.0.tar.gz.md5\">jhu-usc.edu_LUAD.HumanMethylation450.Level_1.7.7.0.tar.gz.md5</a>                                  2014-08-04 07:11   91   \n",
        "      <a href=\"jhu-usc.edu_LUAD.HumanMethylation450.Level_1.7.7.0/\">jhu-usc.edu_LUAD.HumanMethylation450.Level_1.7.7.0/</a>                                            2014-08-04 07:10    -   \n",
        "      <a href=\"jhu-usc.edu_LUAD.HumanMethylation450.Level_1.7.8.0.tar.gz\">jhu-usc.edu_LUAD.HumanMethylation450.Level_1.7.8.0.tar.gz</a>                                      2015-01-26 04:36  235M  \n",
        "      <a href=\"jhu-usc.edu_LUAD.HumanMethylation450.Level_1.7.8.0.tar.gz.md5\">jhu-usc.edu_LUAD.HumanMethylation450.Level_1.7.8.0.tar.gz.md5</a>                                  2015-01-26 04:36   91   \n",
        "      <a href=\"jhu-usc.edu_LUAD.HumanMethylation450.Level_1.7.8.0/\">jhu-usc.edu_LUAD.HumanMethylation450.Level_1.7.8.0/</a>                                            2015-01-26 04:35    -   \n",
        "      <a href=\"jhu-usc.edu_LUAD.HumanMethylation450.Level_1.8.1.0.tar.gz\">jhu-usc.edu_LUAD.HumanMethylation450.Level_1.8.1.0.tar.gz</a>                                      2012-03-08 00:52  188M  \n",
        "      <a href=\"jhu-usc.edu_LUAD.HumanMethylation450.Level_1.8.1.0.tar.gz.md5\">jhu-usc.edu_LUAD.HumanMethylation450.Level_1.8.1.0.tar.gz.md5</a>                                  2012-03-08 00:52   91   \n",
        "      <a href=\"jhu-usc.edu_LUAD.HumanMethylation450.Level_1.8.1.0/\">jhu-usc.edu_LUAD.HumanMethylation450.Level_1.8.1.0/</a>                                            2012-03-08 00:51    -   \n",
        "      <a href=\"jhu-usc.edu_LUAD.HumanMethylation450.Level_1.8.2.0.tar.gz\">jhu-usc.edu_LUAD.HumanMethylation450.Level_1.8.2.0.tar.gz</a>                                      2012-09-25 15:45  188M  \n",
        "      <a href=\"jhu-usc.edu_LUAD.HumanMethylation450.Level_1.8.2.0.tar.gz.md5\">jhu-usc.edu_LUAD.HumanMethylation450.Level_1.8.2.0.tar.gz.md5</a>                                  2012-09-25 15:45   91   \n",
        "      <a href=\"jhu-usc.edu_LUAD.HumanMethylation450.Level_1.8.2.0/\">jhu-usc.edu_LUAD.HumanMethylation450.Level_1.8.2.0/</a>                                            2012-09-25 15:45    -   \n",
        "      <a href=\"jhu-usc.edu_LUAD.HumanMethylation450.Level_1.8.3.0.tar.gz\">jhu-usc.edu_LUAD.HumanMethylation450.Level_1.8.3.0.tar.gz</a>                                      2012-10-30 06:42  188M  \n",
        "      <a href=\"jhu-usc.edu_LUAD.HumanMethylation450.Level_1.8.3.0.tar.gz.md5\">jhu-usc.edu_LUAD.HumanMethylation450.Level_1.8.3.0.tar.gz.md5</a>                                  2012-10-30 06:42   91   \n",
        "      <a href=\"jhu-usc.edu_LUAD.HumanMethylation450.Level_1.8.3.0/\">jhu-usc.edu_LUAD.HumanMethylation450.Level_1.8.3.0/</a>                                            2012-10-30 06:41    -   \n",
        "      <a href=\"jhu-usc.edu_LUAD.HumanMethylation450.Level_1.8.4.0.tar.gz\">jhu-usc.edu_LUAD.HumanMethylation450.Level_1.8.4.0.tar.gz</a>                                      2013-02-26 15:13  188M  \n",
        "      <a href=\"jhu-usc.edu_LUAD.HumanMethylation450.Level_1.8.4.0.tar.gz.md5\">jhu-usc.edu_LUAD.HumanMethylation450.Level_1.8.4.0.tar.gz.md5</a>                                  2013-02-26 15:14   91   \n",
        "      <a href=\"jhu-usc.edu_LUAD.HumanMethylation450.Level_1.8.4.0/\">jhu-usc.edu_LUAD.HumanMethylation450.Level_1.8.4.0/</a>                                            2013-02-26 15:13    -   \n",
        "      <a href=\"jhu-usc.edu_LUAD.HumanMethylation450.Level_1.8.5.0.tar.gz\">jhu-usc.edu_LUAD.HumanMethylation450.Level_1.8.5.0.tar.gz</a>                                      2013-06-18 22:45  188M  \n",
        "      <a href=\"jhu-usc.edu_LUAD.HumanMethylation450.Level_1.8.5.0.tar.gz.md5\">jhu-usc.edu_LUAD.HumanMethylation450.Level_1.8.5.0.tar.gz.md5</a>                                  2013-06-18 22:45   91   \n",
        "      <a href=\"jhu-usc.edu_LUAD.HumanMethylation450.Level_1.8.5.0/\">jhu-usc.edu_LUAD.HumanMethylation450.Level_1.8.5.0/</a>                                            2013-06-18 22:44    -   \n",
        "      <a href=\"jhu-usc.edu_LUAD.HumanMethylation450.Level_1.8.6.0.tar.gz\">jhu-usc.edu_LUAD.HumanMethylation450.Level_1.8.6.0.tar.gz</a>                                      2014-06-16 17:32  188M  \n",
        "      <a href=\"jhu-usc.edu_LUAD.HumanMethylation450.Level_1.8.6.0.tar.gz.md5\">jhu-usc.edu_LUAD.HumanMethylation450.Level_1.8.6.0.tar.gz.md5</a>                                  2014-06-16 17:32   91   \n",
        "      <a href=\"jhu-usc.edu_LUAD.HumanMethylation450.Level_1.8.6.0/\">jhu-usc.edu_LUAD.HumanMethylation450.Level_1.8.6.0/</a>                                            2014-06-16 17:31    -   \n",
        "      <a href=\"jhu-usc.edu_LUAD.HumanMethylation450.Level_1.8.7.0.tar.gz\">jhu-usc.edu_LUAD.HumanMethylation450.Level_1.8.7.0.tar.gz</a>                                      2014-08-04 07:18  188M  \n",
        "      <a href=\"jhu-usc.edu_LUAD.HumanMethylation450.Level_1.8.7.0.tar.gz.md5\">jhu-usc.edu_LUAD.HumanMethylation450.Level_1.8.7.0.tar.gz.md5</a>                                  2014-08-04 07:18   91   \n",
        "      <a href=\"jhu-usc.edu_LUAD.HumanMethylation450.Level_1.8.7.0/\">jhu-usc.edu_LUAD.HumanMethylation450.Level_1.8.7.0/</a>                                            2014-08-04 07:17    -   \n",
        "      <a href=\"jhu-usc.edu_LUAD.HumanMethylation450.Level_1.8.8.0.tar.gz\">jhu-usc.edu_LUAD.HumanMethylation450.Level_1.8.8.0.tar.gz</a>                                      2015-01-26 04:42  188M  \n",
        "      <a href=\"jhu-usc.edu_LUAD.HumanMethylation450.Level_1.8.8.0.tar.gz.md5\">jhu-usc.edu_LUAD.HumanMethylation450.Level_1.8.8.0.tar.gz.md5</a>                                  2015-01-26 04:42   91   \n",
        "      <a href=\"jhu-usc.edu_LUAD.HumanMethylation450.Level_1.8.8.0/\">jhu-usc.edu_LUAD.HumanMethylation450.Level_1.8.8.0/</a>                                            2015-01-26 04:42    -   \n",
        "      <a href=\"jhu-usc.edu_LUAD.HumanMethylation450.Level_1.9.2.0.tar.gz\">jhu-usc.edu_LUAD.HumanMethylation450.Level_1.9.2.0.tar.gz</a>                                      2012-09-25 15:44  113M  \n",
        "      <a href=\"jhu-usc.edu_LUAD.HumanMethylation450.Level_1.9.2.0.tar.gz.md5\">jhu-usc.edu_LUAD.HumanMethylation450.Level_1.9.2.0.tar.gz.md5</a>                                  2012-09-25 15:44   91   \n",
        "      <a href=\"jhu-usc.edu_LUAD.HumanMethylation450.Level_1.9.2.0/\">jhu-usc.edu_LUAD.HumanMethylation450.Level_1.9.2.0/</a>                                            2012-09-25 15:44    -   \n",
        "      <a href=\"jhu-usc.edu_LUAD.HumanMethylation450.Level_1.9.3.0.tar.gz\">jhu-usc.edu_LUAD.HumanMethylation450.Level_1.9.3.0.tar.gz</a>                                      2012-10-30 06:41  113M  \n",
        "      <a href=\"jhu-usc.edu_LUAD.HumanMethylation450.Level_1.9.3.0.tar.gz.md5\">jhu-usc.edu_LUAD.HumanMethylation450.Level_1.9.3.0.tar.gz.md5</a>                                  2012-10-30 06:41   91   \n",
        "      <a href=\"jhu-usc.edu_LUAD.HumanMethylation450.Level_1.9.3.0/\">jhu-usc.edu_LUAD.HumanMethylation450.Level_1.9.3.0/</a>                                            2012-10-30 06:41    -   \n",
        "      <a href=\"jhu-usc.edu_LUAD.HumanMethylation450.Level_1.9.4.0.tar.gz\">jhu-usc.edu_LUAD.HumanMethylation450.Level_1.9.4.0.tar.gz</a>                                      2013-02-26 15:13  121M  \n",
        "      <a href=\"jhu-usc.edu_LUAD.HumanMethylation450.Level_1.9.4.0.tar.gz.md5\">jhu-usc.edu_LUAD.HumanMethylation450.Level_1.9.4.0.tar.gz.md5</a>                                  2013-02-26 15:13   91   \n",
        "      <a href=\"jhu-usc.edu_LUAD.HumanMethylation450.Level_1.9.4.0/\">jhu-usc.edu_LUAD.HumanMethylation450.Level_1.9.4.0/</a>                                            2013-02-26 15:12    -   \n",
        "      <a href=\"jhu-usc.edu_LUAD.HumanMethylation450.Level_1.9.5.0.tar.gz\">jhu-usc.edu_LUAD.HumanMethylation450.Level_1.9.5.0.tar.gz</a>                                      2013-06-18 22:44  121M  \n",
        "      <a href=\"jhu-usc.edu_LUAD.HumanMethylation450.Level_1.9.5.0.tar.gz.md5\">jhu-usc.edu_LUAD.HumanMethylation450.Level_1.9.5.0.tar.gz.md5</a>                                  2013-06-18 22:44   91   \n",
        "      <a href=\"jhu-usc.edu_LUAD.HumanMethylation450.Level_1.9.5.0/\">jhu-usc.edu_LUAD.HumanMethylation450.Level_1.9.5.0/</a>                                            2013-06-18 22:43    -   \n",
        "      <a href=\"jhu-usc.edu_LUAD.HumanMethylation450.Level_1.9.6.0.tar.gz\">jhu-usc.edu_LUAD.HumanMethylation450.Level_1.9.6.0.tar.gz</a>                                      2014-06-16 17:31  121M  \n",
        "      <a href=\"jhu-usc.edu_LUAD.HumanMethylation450.Level_1.9.6.0.tar.gz.md5\">jhu-usc.edu_LUAD.HumanMethylation450.Level_1.9.6.0.tar.gz.md5</a>                                  2014-06-16 17:31   91   \n",
        "      <a href=\"jhu-usc.edu_LUAD.HumanMethylation450.Level_1.9.6.0/\">jhu-usc.edu_LUAD.HumanMethylation450.Level_1.9.6.0/</a>                                            2014-06-16 17:30    -   \n",
        "      <a href=\"jhu-usc.edu_LUAD.HumanMethylation450.Level_1.9.7.0.tar.gz\">jhu-usc.edu_LUAD.HumanMethylation450.Level_1.9.7.0.tar.gz</a>                                      2014-08-04 07:17  121M  \n",
        "      <a href=\"jhu-usc.edu_LUAD.HumanMethylation450.Level_1.9.7.0.tar.gz.md5\">jhu-usc.edu_LUAD.HumanMethylation450.Level_1.9.7.0.tar.gz.md5</a>                                  2014-08-04 07:17   91   \n",
        "      <a href=\"jhu-usc.edu_LUAD.HumanMethylation450.Level_1.9.7.0/\">jhu-usc.edu_LUAD.HumanMethylation450.Level_1.9.7.0/</a>                                            2014-08-04 07:16    -   \n",
        "      <a href=\"jhu-usc.edu_LUAD.HumanMethylation450.Level_1.9.8.0.tar.gz\">jhu-usc.edu_LUAD.HumanMethylation450.Level_1.9.8.0.tar.gz</a>                                      2015-01-26 04:41  121M  \n",
        "      <a href=\"jhu-usc.edu_LUAD.HumanMethylation450.Level_1.9.8.0.tar.gz.md5\">jhu-usc.edu_LUAD.HumanMethylation450.Level_1.9.8.0.tar.gz.md5</a>                                  2015-01-26 04:41   91   \n",
        "      <a href=\"jhu-usc.edu_LUAD.HumanMethylation450.Level_1.9.8.0/\">jhu-usc.edu_LUAD.HumanMethylation450.Level_1.9.8.0/</a>                                            2015-01-26 04:41    -   \n",
        "      <a href=\"jhu-usc.edu_LUAD.HumanMethylation450.Level_2.1.0.0.tar.gz\">jhu-usc.edu_LUAD.HumanMethylation450.Level_2.1.0.0.tar.gz</a>                                      2012-02-28 18:33   64M  \n",
        "      <a href=\"jhu-usc.edu_LUAD.HumanMethylation450.Level_2.1.0.0.tar.gz.md5\">jhu-usc.edu_LUAD.HumanMethylation450.Level_2.1.0.0.tar.gz.md5</a>                                  2012-02-28 18:33   91   \n",
        "      <a href=\"jhu-usc.edu_LUAD.HumanMethylation450.Level_2.1.1.0.tar.gz\">jhu-usc.edu_LUAD.HumanMethylation450.Level_2.1.1.0.tar.gz</a>                                      2012-03-08 00:25   64M  \n",
        "      <a href=\"jhu-usc.edu_LUAD.HumanMethylation450.Level_2.1.1.0.tar.gz.md5\">jhu-usc.edu_LUAD.HumanMethylation450.Level_2.1.1.0.tar.gz.md5</a>                                  2012-03-08 00:25   91   \n",
        "      <a href=\"jhu-usc.edu_LUAD.HumanMethylation450.Level_2.1.1.0/\">jhu-usc.edu_LUAD.HumanMethylation450.Level_2.1.1.0/</a>                                            2012-03-08 00:25    -   \n",
        "      <a href=\"jhu-usc.edu_LUAD.HumanMethylation450.Level_2.1.2.0.tar.gz\">jhu-usc.edu_LUAD.HumanMethylation450.Level_2.1.2.0.tar.gz</a>                                      2012-09-25 15:18   64M  \n",
        "      <a href=\"jhu-usc.edu_LUAD.HumanMethylation450.Level_2.1.2.0.tar.gz.md5\">jhu-usc.edu_LUAD.HumanMethylation450.Level_2.1.2.0.tar.gz.md5</a>                                  2012-09-25 15:18   91   \n",
        "      <a href=\"jhu-usc.edu_LUAD.HumanMethylation450.Level_2.1.2.0/\">jhu-usc.edu_LUAD.HumanMethylation450.Level_2.1.2.0/</a>                                            2012-09-25 15:18    -   \n",
        "      <a href=\"jhu-usc.edu_LUAD.HumanMethylation450.Level_2.1.3.0.tar.gz\">jhu-usc.edu_LUAD.HumanMethylation450.Level_2.1.3.0.tar.gz</a>                                      2012-10-30 06:17   64M  \n",
        "      <a href=\"jhu-usc.edu_LUAD.HumanMethylation450.Level_2.1.3.0.tar.gz.md5\">jhu-usc.edu_LUAD.HumanMethylation450.Level_2.1.3.0.tar.gz.md5</a>                                  2012-10-30 06:17   91   \n",
        "      <a href=\"jhu-usc.edu_LUAD.HumanMethylation450.Level_2.1.3.0/\">jhu-usc.edu_LUAD.HumanMethylation450.Level_2.1.3.0/</a>                                            2012-10-30 06:16    -   \n",
        "      <a href=\"jhu-usc.edu_LUAD.HumanMethylation450.Level_2.1.4.0.tar.gz\">jhu-usc.edu_LUAD.HumanMethylation450.Level_2.1.4.0.tar.gz</a>                                      2013-02-26 14:45   64M  \n",
        "      <a href=\"jhu-usc.edu_LUAD.HumanMethylation450.Level_2.1.4.0.tar.gz.md5\">jhu-usc.edu_LUAD.HumanMethylation450.Level_2.1.4.0.tar.gz.md5</a>                                  2013-02-26 14:45   91   \n",
        "      <a href=\"jhu-usc.edu_LUAD.HumanMethylation450.Level_2.1.4.0/\">jhu-usc.edu_LUAD.HumanMethylation450.Level_2.1.4.0/</a>                                            2013-02-26 14:44    -   \n",
        "      <a href=\"jhu-usc.edu_LUAD.HumanMethylation450.Level_2.1.5.0.tar.gz\">jhu-usc.edu_LUAD.HumanMethylation450.Level_2.1.5.0.tar.gz</a>                                      2013-06-18 22:11  146M  \n",
        "      <a href=\"jhu-usc.edu_LUAD.HumanMethylation450.Level_2.1.5.0.tar.gz.md5\">jhu-usc.edu_LUAD.HumanMethylation450.Level_2.1.5.0.tar.gz.md5</a>                                  2013-06-18 22:11   91   \n",
        "      <a href=\"jhu-usc.edu_LUAD.HumanMethylation450.Level_2.1.5.0/\">jhu-usc.edu_LUAD.HumanMethylation450.Level_2.1.5.0/</a>                                            2013-06-18 22:10    -   \n",
        "      <a href=\"jhu-usc.edu_LUAD.HumanMethylation450.Level_2.1.6.0.tar.gz\">jhu-usc.edu_LUAD.HumanMethylation450.Level_2.1.6.0.tar.gz</a>                                      2014-06-16 16:48  146M  \n",
        "      <a href=\"jhu-usc.edu_LUAD.HumanMethylation450.Level_2.1.6.0.tar.gz.md5\">jhu-usc.edu_LUAD.HumanMethylation450.Level_2.1.6.0.tar.gz.md5</a>                                  2014-06-16 16:48   91   \n",
        "      <a href=\"jhu-usc.edu_LUAD.HumanMethylation450.Level_2.1.6.0/\">jhu-usc.edu_LUAD.HumanMethylation450.Level_2.1.6.0/</a>                                            2014-06-16 16:47    -   \n",
        "      <a href=\"jhu-usc.edu_LUAD.HumanMethylation450.Level_2.1.7.0.tar.gz\">jhu-usc.edu_LUAD.HumanMethylation450.Level_2.1.7.0.tar.gz</a>                                      2014-08-04 06:39  146M  \n",
        "      <a href=\"jhu-usc.edu_LUAD.HumanMethylation450.Level_2.1.7.0.tar.gz.md5\">jhu-usc.edu_LUAD.HumanMethylation450.Level_2.1.7.0.tar.gz.md5</a>                                  2014-08-04 06:39   91   \n",
        "      <a href=\"jhu-usc.edu_LUAD.HumanMethylation450.Level_2.1.7.0/\">jhu-usc.edu_LUAD.HumanMethylation450.Level_2.1.7.0/</a>                                            2014-08-04 06:38    -   \n",
        "      <a href=\"jhu-usc.edu_LUAD.HumanMethylation450.Level_2.1.8.0.tar.gz\">jhu-usc.edu_LUAD.HumanMethylation450.Level_2.1.8.0.tar.gz</a>                                      2015-01-26 04:10  145M  \n",
        "      <a href=\"jhu-usc.edu_LUAD.HumanMethylation450.Level_2.1.8.0.tar.gz.md5\">jhu-usc.edu_LUAD.HumanMethylation450.Level_2.1.8.0.tar.gz.md5</a>                                  2015-01-26 04:10   91   \n",
        "      <a href=\"jhu-usc.edu_LUAD.HumanMethylation450.Level_2.1.8.0/\">jhu-usc.edu_LUAD.HumanMethylation450.Level_2.1.8.0/</a>                                            2015-01-26 04:10    -   \n",
        "      <a href=\"jhu-usc.edu_LUAD.HumanMethylation450.Level_2.10.2.0.tar.gz\">jhu-usc.edu_LUAD.HumanMethylation450.Level_2.10.2.0.tar.gz</a>                                     2012-09-25 15:17  174M  \n",
        "      <a href=\"jhu-usc.edu_LUAD.HumanMethylation450.Level_2.10.2.0.tar.gz.md5\">jhu-usc.edu_LUAD.HumanMethylation450.Level_2.10.2.0.tar.gz.md5</a>                                 2012-09-25 15:17   92   \n",
        "      <a href=\"jhu-usc.edu_LUAD.HumanMethylation450.Level_2.10.2.0/\">jhu-usc.edu_LUAD.HumanMethylation450.Level_2.10.2.0/</a>                                           2012-09-25 15:16    -   \n",
        "      <a href=\"jhu-usc.edu_LUAD.HumanMethylation450.Level_2.10.3.0.tar.gz\">jhu-usc.edu_LUAD.HumanMethylation450.Level_2.10.3.0.tar.gz</a>                                     2012-10-30 06:16  174M  \n",
        "      <a href=\"jhu-usc.edu_LUAD.HumanMethylation450.Level_2.10.3.0.tar.gz.md5\">jhu-usc.edu_LUAD.HumanMethylation450.Level_2.10.3.0.tar.gz.md5</a>                                 2012-10-30 06:16   92   \n",
        "      <a href=\"jhu-usc.edu_LUAD.HumanMethylation450.Level_2.10.3.0/\">jhu-usc.edu_LUAD.HumanMethylation450.Level_2.10.3.0/</a>                                           2012-10-30 06:15    -   \n",
        "      <a href=\"jhu-usc.edu_LUAD.HumanMethylation450.Level_2.10.4.0.tar.gz\">jhu-usc.edu_LUAD.HumanMethylation450.Level_2.10.4.0.tar.gz</a>                                     2013-02-26 14:46  174M  \n",
        "      <a href=\"jhu-usc.edu_LUAD.HumanMethylation450.Level_2.10.4.0.tar.gz.md5\">jhu-usc.edu_LUAD.HumanMethylation450.Level_2.10.4.0.tar.gz.md5</a>                                 2013-02-26 14:46   92   \n",
        "      <a href=\"jhu-usc.edu_LUAD.HumanMethylation450.Level_2.10.4.0/\">jhu-usc.edu_LUAD.HumanMethylation450.Level_2.10.4.0/</a>                                           2013-02-26 14:45    -   \n",
        "      <a href=\"jhu-usc.edu_LUAD.HumanMethylation450.Level_2.10.5.0.tar.gz\">jhu-usc.edu_LUAD.HumanMethylation450.Level_2.10.5.0.tar.gz</a>                                     2013-06-18 22:12  174M  \n",
        "      <a href=\"jhu-usc.edu_LUAD.HumanMethylation450.Level_2.10.5.0.tar.gz.md5\">jhu-usc.edu_LUAD.HumanMethylation450.Level_2.10.5.0.tar.gz.md5</a>                                 2013-06-18 22:12   92   \n",
        "      <a href=\"jhu-usc.edu_LUAD.HumanMethylation450.Level_2.10.5.0/\">jhu-usc.edu_LUAD.HumanMethylation450.Level_2.10.5.0/</a>                                           2013-06-18 22:11    -   \n",
        "      <a href=\"jhu-usc.edu_LUAD.HumanMethylation450.Level_2.10.6.0.tar.gz\">jhu-usc.edu_LUAD.HumanMethylation450.Level_2.10.6.0.tar.gz</a>                                     2014-06-16 16:49  174M  \n",
        "      <a href=\"jhu-usc.edu_LUAD.HumanMethylation450.Level_2.10.6.0.tar.gz.md5\">jhu-usc.edu_LUAD.HumanMethylation450.Level_2.10.6.0.tar.gz.md5</a>                                 2014-06-16 16:49   92   \n",
        "      <a href=\"jhu-usc.edu_LUAD.HumanMethylation450.Level_2.10.6.0/\">jhu-usc.edu_LUAD.HumanMethylation450.Level_2.10.6.0/</a>                                           2014-06-16 16:48    -   \n",
        "      <a href=\"jhu-usc.edu_LUAD.HumanMethylation450.Level_2.10.7.0.tar.gz\">jhu-usc.edu_LUAD.HumanMethylation450.Level_2.10.7.0.tar.gz</a>                                     2014-08-04 06:40  174M  \n",
        "      <a href=\"jhu-usc.edu_LUAD.HumanMethylation450.Level_2.10.7.0.tar.gz.md5\">jhu-usc.edu_LUAD.HumanMethylation450.Level_2.10.7.0.tar.gz.md5</a>                                 2014-08-04 06:40   92   \n",
        "      <a href=\"jhu-usc.edu_LUAD.HumanMethylation450.Level_2.10.7.0/\">jhu-usc.edu_LUAD.HumanMethylation450.Level_2.10.7.0/</a>                                           2014-08-04 06:39    -   \n",
        "      <a href=\"jhu-usc.edu_LUAD.HumanMethylation450.Level_2.10.8.0.tar.gz\">jhu-usc.edu_LUAD.HumanMethylation450.Level_2.10.8.0.tar.gz</a>                                     2015-01-26 04:09  172M  \n",
        "      <a href=\"jhu-usc.edu_LUAD.HumanMethylation450.Level_2.10.8.0.tar.gz.md5\">jhu-usc.edu_LUAD.HumanMethylation450.Level_2.10.8.0.tar.gz.md5</a>                                 2015-01-26 04:09   92   \n",
        "      <a href=\"jhu-usc.edu_LUAD.HumanMethylation450.Level_2.10.8.0/\">jhu-usc.edu_LUAD.HumanMethylation450.Level_2.10.8.0/</a>                                           2015-01-26 04:09    -   \n",
        "      <a href=\"jhu-usc.edu_LUAD.HumanMethylation450.Level_2.11.2.0.tar.gz\">jhu-usc.edu_LUAD.HumanMethylation450.Level_2.11.2.0.tar.gz</a>                                     2012-09-25 15:31  333M  \n",
        "      <a href=\"jhu-usc.edu_LUAD.HumanMethylation450.Level_2.11.2.0.tar.gz.md5\">jhu-usc.edu_LUAD.HumanMethylation450.Level_2.11.2.0.tar.gz.md5</a>                                 2012-09-25 15:31   92   \n",
        "      <a href=\"jhu-usc.edu_LUAD.HumanMethylation450.Level_2.11.2.0/\">jhu-usc.edu_LUAD.HumanMethylation450.Level_2.11.2.0/</a>                                           2012-09-25 15:29    -   \n",
        "      <a href=\"jhu-usc.edu_LUAD.HumanMethylation450.Level_2.11.3.0.tar.gz\">jhu-usc.edu_LUAD.HumanMethylation450.Level_2.11.3.0.tar.gz</a>                                     2012-10-30 06:29  333M  \n",
        "      <a href=\"jhu-usc.edu_LUAD.HumanMethylation450.Level_2.11.3.0.tar.gz.md5\">jhu-usc.edu_LUAD.HumanMethylation450.Level_2.11.3.0.tar.gz.md5</a>                                 2012-10-30 06:29   92   \n",
        "      <a href=\"jhu-usc.edu_LUAD.HumanMethylation450.Level_2.11.3.0/\">jhu-usc.edu_LUAD.HumanMethylation450.Level_2.11.3.0/</a>                                           2012-10-30 06:27    -   \n",
        "      <a href=\"jhu-usc.edu_LUAD.HumanMethylation450.Level_2.11.4.0.tar.gz\">jhu-usc.edu_LUAD.HumanMethylation450.Level_2.11.4.0.tar.gz</a>                                     2013-02-26 14:38  333M  \n",
        "      <a href=\"jhu-usc.edu_LUAD.HumanMethylation450.Level_2.11.4.0.tar.gz.md5\">jhu-usc.edu_LUAD.HumanMethylation450.Level_2.11.4.0.tar.gz.md5</a>                                 2013-02-26 14:38   92   \n",
        "      <a href=\"jhu-usc.edu_LUAD.HumanMethylation450.Level_2.11.4.0/\">jhu-usc.edu_LUAD.HumanMethylation450.Level_2.11.4.0/</a>                                           2013-02-26 14:36    -   \n",
        "      <a href=\"jhu-usc.edu_LUAD.HumanMethylation450.Level_2.11.5.0.tar.gz\">jhu-usc.edu_LUAD.HumanMethylation450.Level_2.11.5.0.tar.gz</a>                                     2013-06-18 22:02  333M  \n",
        "      <a href=\"jhu-usc.edu_LUAD.HumanMethylation450.Level_2.11.5.0.tar.gz.md5\">jhu-usc.edu_LUAD.HumanMethylation450.Level_2.11.5.0.tar.gz.md5</a>                                 2013-06-18 22:02   92   \n",
        "      <a href=\"jhu-usc.edu_LUAD.HumanMethylation450.Level_2.11.5.0/\">jhu-usc.edu_LUAD.HumanMethylation450.Level_2.11.5.0/</a>                                           2013-06-18 22:01    -   \n",
        "      <a href=\"jhu-usc.edu_LUAD.HumanMethylation450.Level_2.11.6.0.tar.gz\">jhu-usc.edu_LUAD.HumanMethylation450.Level_2.11.6.0.tar.gz</a>                                     2014-06-16 16:38  333M  \n",
        "      <a href=\"jhu-usc.edu_LUAD.HumanMethylation450.Level_2.11.6.0.tar.gz.md5\">jhu-usc.edu_LUAD.HumanMethylation450.Level_2.11.6.0.tar.gz.md5</a>                                 2014-06-16 16:38   92   \n",
        "      <a href=\"jhu-usc.edu_LUAD.HumanMethylation450.Level_2.11.6.0/\">jhu-usc.edu_LUAD.HumanMethylation450.Level_2.11.6.0/</a>                                           2014-06-16 16:36    -   \n",
        "      <a href=\"jhu-usc.edu_LUAD.HumanMethylation450.Level_2.11.7.0.tar.gz\">jhu-usc.edu_LUAD.HumanMethylation450.Level_2.11.7.0.tar.gz</a>                                     2014-08-04 06:30  333M  \n",
        "      <a href=\"jhu-usc.edu_LUAD.HumanMethylation450.Level_2.11.7.0.tar.gz.md5\">jhu-usc.edu_LUAD.HumanMethylation450.Level_2.11.7.0.tar.gz.md5</a>                                 2014-08-04 06:30   92   \n",
        "      <a href=\"jhu-usc.edu_LUAD.HumanMethylation450.Level_2.11.7.0/\">jhu-usc.edu_LUAD.HumanMethylation450.Level_2.11.7.0/</a>                                           2014-08-04 06:28    -   \n",
        "      <a href=\"jhu-usc.edu_LUAD.HumanMethylation450.Level_2.11.8.0.tar.gz\">jhu-usc.edu_LUAD.HumanMethylation450.Level_2.11.8.0.tar.gz</a>                                     2015-01-26 04:01  329M  \n",
        "      <a href=\"jhu-usc.edu_LUAD.HumanMethylation450.Level_2.11.8.0.tar.gz.md5\">jhu-usc.edu_LUAD.HumanMethylation450.Level_2.11.8.0.tar.gz.md5</a>                                 2015-01-26 04:02   92   \n",
        "      <a href=\"jhu-usc.edu_LUAD.HumanMethylation450.Level_2.11.8.0/\">jhu-usc.edu_LUAD.HumanMethylation450.Level_2.11.8.0/</a>                                           2015-01-26 04:00    -   \n",
        "      <a href=\"jhu-usc.edu_LUAD.HumanMethylation450.Level_2.12.2.0.tar.gz\">jhu-usc.edu_LUAD.HumanMethylation450.Level_2.12.2.0.tar.gz</a>                                     2012-09-25 15:32  147M  \n",
        "      <a href=\"jhu-usc.edu_LUAD.HumanMethylation450.Level_2.12.2.0.tar.gz.md5\">jhu-usc.edu_LUAD.HumanMethylation450.Level_2.12.2.0.tar.gz.md5</a>                                 2012-09-25 15:32   92   \n",
        "      <a href=\"jhu-usc.edu_LUAD.HumanMethylation450.Level_2.12.2.0/\">jhu-usc.edu_LUAD.HumanMethylation450.Level_2.12.2.0/</a>                                           2012-09-25 15:31    -   \n",
        "      <a href=\"jhu-usc.edu_LUAD.HumanMethylation450.Level_2.12.3.0.tar.gz\">jhu-usc.edu_LUAD.HumanMethylation450.Level_2.12.3.0.tar.gz</a>                                     2012-10-30 06:30  147M  \n",
        "      <a href=\"jhu-usc.edu_LUAD.HumanMethylation450.Level_2.12.3.0.tar.gz.md5\">jhu-usc.edu_LUAD.HumanMethylation450.Level_2.12.3.0.tar.gz.md5</a>                                 2012-10-30 06:30   92   \n",
        "      <a href=\"jhu-usc.edu_LUAD.HumanMethylation450.Level_2.12.3.0/\">jhu-usc.edu_LUAD.HumanMethylation450.Level_2.12.3.0/</a>                                           2012-10-30 06:29    -   \n",
        "      <a href=\"jhu-usc.edu_LUAD.HumanMethylation450.Level_2.12.4.0.tar.gz\">jhu-usc.edu_LUAD.HumanMethylation450.Level_2.12.4.0.tar.gz</a>                                     2013-02-26 14:39  156M  \n",
        "      <a href=\"jhu-usc.edu_LUAD.HumanMethylation450.Level_2.12.4.0.tar.gz.md5\">jhu-usc.edu_LUAD.HumanMethylation450.Level_2.12.4.0.tar.gz.md5</a>                                 2013-02-26 14:39   92   \n",
        "      <a href=\"jhu-usc.edu_LUAD.HumanMethylation450.Level_2.12.4.0/\">jhu-usc.edu_LUAD.HumanMethylation450.Level_2.12.4.0/</a>                                           2013-02-26 14:38    -   \n",
        "      <a href=\"jhu-usc.edu_LUAD.HumanMethylation450.Level_2.12.5.0.tar.gz\">jhu-usc.edu_LUAD.HumanMethylation450.Level_2.12.5.0.tar.gz</a>                                     2013-06-18 22:04  156M  \n",
        "      <a href=\"jhu-usc.edu_LUAD.HumanMethylation450.Level_2.12.5.0.tar.gz.md5\">jhu-usc.edu_LUAD.HumanMethylation450.Level_2.12.5.0.tar.gz.md5</a>                                 2013-06-18 22:04   92   \n",
        "      <a href=\"jhu-usc.edu_LUAD.HumanMethylation450.Level_2.12.5.0/\">jhu-usc.edu_LUAD.HumanMethylation450.Level_2.12.5.0/</a>                                           2013-06-18 22:03    -   \n",
        "      <a href=\"jhu-usc.edu_LUAD.HumanMethylation450.Level_2.12.6.0.tar.gz\">jhu-usc.edu_LUAD.HumanMethylation450.Level_2.12.6.0.tar.gz</a>                                     2014-06-16 16:39  156M  \n",
        "      <a href=\"jhu-usc.edu_LUAD.HumanMethylation450.Level_2.12.6.0.tar.gz.md5\">jhu-usc.edu_LUAD.HumanMethylation450.Level_2.12.6.0.tar.gz.md5</a>                                 2014-06-16 16:40   92   \n",
        "      <a href=\"jhu-usc.edu_LUAD.HumanMethylation450.Level_2.12.6.0/\">jhu-usc.edu_LUAD.HumanMethylation450.Level_2.12.6.0/</a>                                           2014-06-16 16:39    -   \n",
        "      <a href=\"jhu-usc.edu_LUAD.HumanMethylation450.Level_2.12.7.0.tar.gz\">jhu-usc.edu_LUAD.HumanMethylation450.Level_2.12.7.0.tar.gz</a>                                     2014-08-04 06:31  156M  \n",
        "      <a href=\"jhu-usc.edu_LUAD.HumanMethylation450.Level_2.12.7.0.tar.gz.md5\">jhu-usc.edu_LUAD.HumanMethylation450.Level_2.12.7.0.tar.gz.md5</a>                                 2014-08-04 06:31   92   \n",
        "      <a href=\"jhu-usc.edu_LUAD.HumanMethylation450.Level_2.12.7.0/\">jhu-usc.edu_LUAD.HumanMethylation450.Level_2.12.7.0/</a>                                           2014-08-04 06:30    -   \n",
        "      <a href=\"jhu-usc.edu_LUAD.HumanMethylation450.Level_2.12.8.0.tar.gz\">jhu-usc.edu_LUAD.HumanMethylation450.Level_2.12.8.0.tar.gz</a>                                     2015-01-26 04:03  155M  \n",
        "      <a href=\"jhu-usc.edu_LUAD.HumanMethylation450.Level_2.12.8.0.tar.gz.md5\">jhu-usc.edu_LUAD.HumanMethylation450.Level_2.12.8.0.tar.gz.md5</a>                                 2015-01-26 04:03   92   \n",
        "      <a href=\"jhu-usc.edu_LUAD.HumanMethylation450.Level_2.12.8.0/\">jhu-usc.edu_LUAD.HumanMethylation450.Level_2.12.8.0/</a>                                           2015-01-26 04:02    -   \n",
        "      <a href=\"jhu-usc.edu_LUAD.HumanMethylation450.Level_2.13.4.0.tar.gz\">jhu-usc.edu_LUAD.HumanMethylation450.Level_2.13.4.0.tar.gz</a>                                     2013-02-26 14:34  310M  \n",
        "      <a href=\"jhu-usc.edu_LUAD.HumanMethylation450.Level_2.13.4.0.tar.gz.md5\">jhu-usc.edu_LUAD.HumanMethylation450.Level_2.13.4.0.tar.gz.md5</a>                                 2013-02-26 14:34   92   \n",
        "      <a href=\"jhu-usc.edu_LUAD.HumanMethylation450.Level_2.13.4.0/\">jhu-usc.edu_LUAD.HumanMethylation450.Level_2.13.4.0/</a>                                           2013-02-26 14:33    -   \n",
        "      <a href=\"jhu-usc.edu_LUAD.HumanMethylation450.Level_2.13.5.0.tar.gz\">jhu-usc.edu_LUAD.HumanMethylation450.Level_2.13.5.0.tar.gz</a>                                     2013-06-18 21:58  310M  \n",
        "      <a href=\"jhu-usc.edu_LUAD.HumanMethylation450.Level_2.13.5.0.tar.gz.md5\">jhu-usc.edu_LUAD.HumanMethylation450.Level_2.13.5.0.tar.gz.md5</a>                                 2013-06-18 21:58   92   \n",
        "      <a href=\"jhu-usc.edu_LUAD.HumanMethylation450.Level_2.13.5.0/\">jhu-usc.edu_LUAD.HumanMethylation450.Level_2.13.5.0/</a>                                           2013-06-18 21:57    -   \n",
        "      <a href=\"jhu-usc.edu_LUAD.HumanMethylation450.Level_2.13.6.0.tar.gz\">jhu-usc.edu_LUAD.HumanMethylation450.Level_2.13.6.0.tar.gz</a>                                     2014-06-16 16:33  310M  \n",
        "      <a href=\"jhu-usc.edu_LUAD.HumanMethylation450.Level_2.13.6.0.tar.gz.md5\">jhu-usc.edu_LUAD.HumanMethylation450.Level_2.13.6.0.tar.gz.md5</a>                                 2014-06-16 16:33   92   \n",
        "      <a href=\"jhu-usc.edu_LUAD.HumanMethylation450.Level_2.13.6.0/\">jhu-usc.edu_LUAD.HumanMethylation450.Level_2.13.6.0/</a>                                           2014-06-16 16:31    -   \n",
        "      <a href=\"jhu-usc.edu_LUAD.HumanMethylation450.Level_2.13.7.0.tar.gz\">jhu-usc.edu_LUAD.HumanMethylation450.Level_2.13.7.0.tar.gz</a>                                     2014-08-04 06:25  310M  \n",
        "      <a href=\"jhu-usc.edu_LUAD.HumanMethylation450.Level_2.13.7.0.tar.gz.md5\">jhu-usc.edu_LUAD.HumanMethylation450.Level_2.13.7.0.tar.gz.md5</a>                                 2014-08-04 06:25   92   \n",
        "      <a href=\"jhu-usc.edu_LUAD.HumanMethylation450.Level_2.13.7.0/\">jhu-usc.edu_LUAD.HumanMethylation450.Level_2.13.7.0/</a>                                           2014-08-04 06:23    -   \n",
        "      <a href=\"jhu-usc.edu_LUAD.HumanMethylation450.Level_2.13.8.0.tar.gz\">jhu-usc.edu_LUAD.HumanMethylation450.Level_2.13.8.0.tar.gz</a>                                     2015-01-26 03:57  308M  \n",
        "      <a href=\"jhu-usc.edu_LUAD.HumanMethylation450.Level_2.13.8.0.tar.gz.md5\">jhu-usc.edu_LUAD.HumanMethylation450.Level_2.13.8.0.tar.gz.md5</a>                                 2015-01-26 03:57   92   \n",
        "      <a href=\"jhu-usc.edu_LUAD.HumanMethylation450.Level_2.13.8.0/\">jhu-usc.edu_LUAD.HumanMethylation450.Level_2.13.8.0/</a>                                           2015-01-26 03:56    -   \n",
        "      <a href=\"jhu-usc.edu_LUAD.HumanMethylation450.Level_2.14.4.0.tar.gz\">jhu-usc.edu_LUAD.HumanMethylation450.Level_2.14.4.0.tar.gz</a>                                     2013-02-26 14:36  319M  \n",
        "      <a href=\"jhu-usc.edu_LUAD.HumanMethylation450.Level_2.14.4.0.tar.gz.md5\">jhu-usc.edu_LUAD.HumanMethylation450.Level_2.14.4.0.tar.gz.md5</a>                                 2013-02-26 14:36   92   \n",
        "      <a href=\"jhu-usc.edu_LUAD.HumanMethylation450.Level_2.14.4.0/\">jhu-usc.edu_LUAD.HumanMethylation450.Level_2.14.4.0/</a>                                           2013-02-26 14:34    -   \n",
        "      <a href=\"jhu-usc.edu_LUAD.HumanMethylation450.Level_2.14.5.0.tar.gz\">jhu-usc.edu_LUAD.HumanMethylation450.Level_2.14.5.0.tar.gz</a>                                     2013-06-18 22:00  319M  \n",
        "      <a href=\"jhu-usc.edu_LUAD.HumanMethylation450.Level_2.14.5.0.tar.gz.md5\">jhu-usc.edu_LUAD.HumanMethylation450.Level_2.14.5.0.tar.gz.md5</a>                                 2013-06-18 22:00   92   \n",
        "      <a href=\"jhu-usc.edu_LUAD.HumanMethylation450.Level_2.14.5.0/\">jhu-usc.edu_LUAD.HumanMethylation450.Level_2.14.5.0/</a>                                           2013-06-18 21:59    -   \n",
        "      <a href=\"jhu-usc.edu_LUAD.HumanMethylation450.Level_2.14.6.0.tar.gz\">jhu-usc.edu_LUAD.HumanMethylation450.Level_2.14.6.0.tar.gz</a>                                     2014-06-16 16:35  319M  \n",
        "      <a href=\"jhu-usc.edu_LUAD.HumanMethylation450.Level_2.14.6.0.tar.gz.md5\">jhu-usc.edu_LUAD.HumanMethylation450.Level_2.14.6.0.tar.gz.md5</a>                                 2014-06-16 16:35   92   \n",
        "      <a href=\"jhu-usc.edu_LUAD.HumanMethylation450.Level_2.14.6.0/\">jhu-usc.edu_LUAD.HumanMethylation450.Level_2.14.6.0/</a>                                           2014-06-16 16:33    -   \n",
        "      <a href=\"jhu-usc.edu_LUAD.HumanMethylation450.Level_2.14.7.0.tar.gz\">jhu-usc.edu_LUAD.HumanMethylation450.Level_2.14.7.0.tar.gz</a>                                     2014-08-04 06:27  319M  \n",
        "      <a href=\"jhu-usc.edu_LUAD.HumanMethylation450.Level_2.14.7.0.tar.gz.md5\">jhu-usc.edu_LUAD.HumanMethylation450.Level_2.14.7.0.tar.gz.md5</a>                                 2014-08-04 06:27   92   \n",
        "      <a href=\"jhu-usc.edu_LUAD.HumanMethylation450.Level_2.14.7.0/\">jhu-usc.edu_LUAD.HumanMethylation450.Level_2.14.7.0/</a>                                           2014-08-04 06:25    -   \n",
        "      <a href=\"jhu-usc.edu_LUAD.HumanMethylation450.Level_2.14.8.0.tar.gz\">jhu-usc.edu_LUAD.HumanMethylation450.Level_2.14.8.0.tar.gz</a>                                     2015-01-26 03:59  316M  \n",
        "      <a href=\"jhu-usc.edu_LUAD.HumanMethylation450.Level_2.14.8.0.tar.gz.md5\">jhu-usc.edu_LUAD.HumanMethylation450.Level_2.14.8.0.tar.gz.md5</a>                                 2015-01-26 03:59   92   \n",
        "      <a href=\"jhu-usc.edu_LUAD.HumanMethylation450.Level_2.14.8.0/\">jhu-usc.edu_LUAD.HumanMethylation450.Level_2.14.8.0/</a>                                           2015-01-26 03:58    -   \n",
        "      <a href=\"jhu-usc.edu_LUAD.HumanMethylation450.Level_2.15.4.0.tar.gz\">jhu-usc.edu_LUAD.HumanMethylation450.Level_2.15.4.0.tar.gz</a>                                     2013-02-26 14:32  327M  \n",
        "      <a href=\"jhu-usc.edu_LUAD.HumanMethylation450.Level_2.15.4.0.tar.gz.md5\">jhu-usc.edu_LUAD.HumanMethylation450.Level_2.15.4.0.tar.gz.md5</a>                                 2013-02-26 14:32   92   \n",
        "      <a href=\"jhu-usc.edu_LUAD.HumanMethylation450.Level_2.15.4.0/\">jhu-usc.edu_LUAD.HumanMethylation450.Level_2.15.4.0/</a>                                           2013-02-26 14:31    -   \n",
        "      <a href=\"jhu-usc.edu_LUAD.HumanMethylation450.Level_2.15.5.0.tar.gz\">jhu-usc.edu_LUAD.HumanMethylation450.Level_2.15.5.0.tar.gz</a>                                     2013-06-18 21:55  327M  \n",
        "      <a href=\"jhu-usc.edu_LUAD.HumanMethylation450.Level_2.15.5.0.tar.gz.md5\">jhu-usc.edu_LUAD.HumanMethylation450.Level_2.15.5.0.tar.gz.md5</a>                                 2013-06-18 21:55   92   \n",
        "      <a href=\"jhu-usc.edu_LUAD.HumanMethylation450.Level_2.15.5.0/\">jhu-usc.edu_LUAD.HumanMethylation450.Level_2.15.5.0/</a>                                           2013-06-18 21:53    -   \n",
        "      <a href=\"jhu-usc.edu_LUAD.HumanMethylation450.Level_2.15.6.0.tar.gz\">jhu-usc.edu_LUAD.HumanMethylation450.Level_2.15.6.0.tar.gz</a>                                     2014-06-16 16:28  327M  \n",
        "      <a href=\"jhu-usc.edu_LUAD.HumanMethylation450.Level_2.15.6.0.tar.gz.md5\">jhu-usc.edu_LUAD.HumanMethylation450.Level_2.15.6.0.tar.gz.md5</a>                                 2014-06-16 16:28   92   \n",
        "      <a href=\"jhu-usc.edu_LUAD.HumanMethylation450.Level_2.15.6.0/\">jhu-usc.edu_LUAD.HumanMethylation450.Level_2.15.6.0/</a>                                           2014-06-16 16:26    -   \n",
        "      <a href=\"jhu-usc.edu_LUAD.HumanMethylation450.Level_2.15.7.0.tar.gz\">jhu-usc.edu_LUAD.HumanMethylation450.Level_2.15.7.0.tar.gz</a>                                     2014-08-04 06:21  327M  \n",
        "      <a href=\"jhu-usc.edu_LUAD.HumanMethylation450.Level_2.15.7.0.tar.gz.md5\">jhu-usc.edu_LUAD.HumanMethylation450.Level_2.15.7.0.tar.gz.md5</a>                                 2014-08-04 06:21   92   \n",
        "      <a href=\"jhu-usc.edu_LUAD.HumanMethylation450.Level_2.15.7.0/\">jhu-usc.edu_LUAD.HumanMethylation450.Level_2.15.7.0/</a>                                           2014-08-04 06:20    -   \n",
        "      <a href=\"jhu-usc.edu_LUAD.HumanMethylation450.Level_2.15.8.0.tar.gz\">jhu-usc.edu_LUAD.HumanMethylation450.Level_2.15.8.0.tar.gz</a>                                     2015-01-26 03:54  324M  \n",
        "      <a href=\"jhu-usc.edu_LUAD.HumanMethylation450.Level_2.15.8.0.tar.gz.md5\">jhu-usc.edu_LUAD.HumanMethylation450.Level_2.15.8.0.tar.gz.md5</a>                                 2015-01-26 03:54   92   \n",
        "      <a href=\"jhu-usc.edu_LUAD.HumanMethylation450.Level_2.15.8.0/\">jhu-usc.edu_LUAD.HumanMethylation450.Level_2.15.8.0/</a>                                           2015-01-26 03:53    -   \n",
        "      <a href=\"jhu-usc.edu_LUAD.HumanMethylation450.Level_2.16.5.0.tar.gz\">jhu-usc.edu_LUAD.HumanMethylation450.Level_2.16.5.0.tar.gz</a>                                     2013-06-18 21:56  199M  \n",
        "      <a href=\"jhu-usc.edu_LUAD.HumanMethylation450.Level_2.16.5.0.tar.gz.md5\">jhu-usc.edu_LUAD.HumanMethylation450.Level_2.16.5.0.tar.gz.md5</a>                                 2013-06-18 21:56   92   \n",
        "      <a href=\"jhu-usc.edu_LUAD.HumanMethylation450.Level_2.16.5.0/\">jhu-usc.edu_LUAD.HumanMethylation450.Level_2.16.5.0/</a>                                           2013-06-18 21:55    -   \n",
        "      <a href=\"jhu-usc.edu_LUAD.HumanMethylation450.Level_2.16.6.0.tar.gz\">jhu-usc.edu_LUAD.HumanMethylation450.Level_2.16.6.0.tar.gz</a>                                     2014-06-16 16:31  199M  \n",
        "      <a href=\"jhu-usc.edu_LUAD.HumanMethylation450.Level_2.16.6.0.tar.gz.md5\">jhu-usc.edu_LUAD.HumanMethylation450.Level_2.16.6.0.tar.gz.md5</a>                                 2014-06-16 16:31   92   \n",
        "      <a href=\"jhu-usc.edu_LUAD.HumanMethylation450.Level_2.16.6.0/\">jhu-usc.edu_LUAD.HumanMethylation450.Level_2.16.6.0/</a>                                           2014-06-16 16:29    -   \n",
        "      <a href=\"jhu-usc.edu_LUAD.HumanMethylation450.Level_2.16.7.0.tar.gz\">jhu-usc.edu_LUAD.HumanMethylation450.Level_2.16.7.0.tar.gz</a>                                     2014-08-04 06:23  199M  \n",
        "      <a href=\"jhu-usc.edu_LUAD.HumanMethylation450.Level_2.16.7.0.tar.gz.md5\">jhu-usc.edu_LUAD.HumanMethylation450.Level_2.16.7.0.tar.gz.md5</a>                                 2014-08-04 06:23   92   \n",
        "      <a href=\"jhu-usc.edu_LUAD.HumanMethylation450.Level_2.16.7.0/\">jhu-usc.edu_LUAD.HumanMethylation450.Level_2.16.7.0/</a>                                           2014-08-04 06:22    -   \n",
        "      <a href=\"jhu-usc.edu_LUAD.HumanMethylation450.Level_2.16.8.0.tar.gz\">jhu-usc.edu_LUAD.HumanMethylation450.Level_2.16.8.0.tar.gz</a>                                     2015-01-26 03:55  196M  \n",
        "      <a href=\"jhu-usc.edu_LUAD.HumanMethylation450.Level_2.16.8.0.tar.gz.md5\">jhu-usc.edu_LUAD.HumanMethylation450.Level_2.16.8.0.tar.gz.md5</a>                                 2015-01-26 03:55   92   \n",
        "      <a href=\"jhu-usc.edu_LUAD.HumanMethylation450.Level_2.16.8.0/\">jhu-usc.edu_LUAD.HumanMethylation450.Level_2.16.8.0/</a>                                           2015-01-26 03:54    -   \n",
        "      <a href=\"jhu-usc.edu_LUAD.HumanMethylation450.Level_2.17.5.0.tar.gz\">jhu-usc.edu_LUAD.HumanMethylation450.Level_2.17.5.0.tar.gz</a>                                     2013-06-18 21:53   55M  \n",
        "      <a href=\"jhu-usc.edu_LUAD.HumanMethylation450.Level_2.17.5.0.tar.gz.md5\">jhu-usc.edu_LUAD.HumanMethylation450.Level_2.17.5.0.tar.gz.md5</a>                                 2013-06-18 21:53   92   \n",
        "      <a href=\"jhu-usc.edu_LUAD.HumanMethylation450.Level_2.17.5.0/\">jhu-usc.edu_LUAD.HumanMethylation450.Level_2.17.5.0/</a>                                           2013-06-18 21:53    -   \n",
        "      <a href=\"jhu-usc.edu_LUAD.HumanMethylation450.Level_2.17.6.0.tar.gz\">jhu-usc.edu_LUAD.HumanMethylation450.Level_2.17.6.0.tar.gz</a>                                     2014-06-16 16:25   55M  \n",
        "      <a href=\"jhu-usc.edu_LUAD.HumanMethylation450.Level_2.17.6.0.tar.gz.md5\">jhu-usc.edu_LUAD.HumanMethylation450.Level_2.17.6.0.tar.gz.md5</a>                                 2014-06-16 16:25   92   \n",
        "      <a href=\"jhu-usc.edu_LUAD.HumanMethylation450.Level_2.17.6.0/\">jhu-usc.edu_LUAD.HumanMethylation450.Level_2.17.6.0/</a>                                           2014-06-16 16:25    -   \n",
        "      <a href=\"jhu-usc.edu_LUAD.HumanMethylation450.Level_2.17.7.0.tar.gz\">jhu-usc.edu_LUAD.HumanMethylation450.Level_2.17.7.0.tar.gz</a>                                     2014-08-04 06:18   55M  \n",
        "      <a href=\"jhu-usc.edu_LUAD.HumanMethylation450.Level_2.17.7.0.tar.gz.md5\">jhu-usc.edu_LUAD.HumanMethylation450.Level_2.17.7.0.tar.gz.md5</a>                                 2014-08-04 06:18   92   \n",
        "      <a href=\"jhu-usc.edu_LUAD.HumanMethylation450.Level_2.17.7.0/\">jhu-usc.edu_LUAD.HumanMethylation450.Level_2.17.7.0/</a>                                           2014-08-04 06:17    -   \n",
        "      <a href=\"jhu-usc.edu_LUAD.HumanMethylation450.Level_2.17.8.0.tar.gz\">jhu-usc.edu_LUAD.HumanMethylation450.Level_2.17.8.0.tar.gz</a>                                     2015-01-26 03:51   55M  \n",
        "      <a href=\"jhu-usc.edu_LUAD.HumanMethylation450.Level_2.17.8.0.tar.gz.md5\">jhu-usc.edu_LUAD.HumanMethylation450.Level_2.17.8.0.tar.gz.md5</a>                                 2015-01-26 03:51   92   \n",
        "      <a href=\"jhu-usc.edu_LUAD.HumanMethylation450.Level_2.17.8.0/\">jhu-usc.edu_LUAD.HumanMethylation450.Level_2.17.8.0/</a>                                           2015-01-26 03:51    -   \n",
        "      <a href=\"jhu-usc.edu_LUAD.HumanMethylation450.Level_2.18.6.0.tar.gz\">jhu-usc.edu_LUAD.HumanMethylation450.Level_2.18.6.0.tar.gz</a>                                     2014-06-16 16:26  129M  \n",
        "      <a href=\"jhu-usc.edu_LUAD.HumanMethylation450.Level_2.18.6.0.tar.gz.md5\">jhu-usc.edu_LUAD.HumanMethylation450.Level_2.18.6.0.tar.gz.md5</a>                                 2014-06-16 16:26   92   \n",
        "      <a href=\"jhu-usc.edu_LUAD.HumanMethylation450.Level_2.18.6.0/\">jhu-usc.edu_LUAD.HumanMethylation450.Level_2.18.6.0/</a>                                           2014-06-16 16:25    -   \n",
        "      <a href=\"jhu-usc.edu_LUAD.HumanMethylation450.Level_2.18.7.0.tar.gz\">jhu-usc.edu_LUAD.HumanMethylation450.Level_2.18.7.0.tar.gz</a>                                     2014-08-04 06:19  129M  \n",
        "      <a href=\"jhu-usc.edu_LUAD.HumanMethylation450.Level_2.18.7.0.tar.gz.md5\">jhu-usc.edu_LUAD.HumanMethylation450.Level_2.18.7.0.tar.gz.md5</a>                                 2014-08-04 06:19   92   \n",
        "      <a href=\"jhu-usc.edu_LUAD.HumanMethylation450.Level_2.18.7.0/\">jhu-usc.edu_LUAD.HumanMethylation450.Level_2.18.7.0/</a>                                           2014-08-04 06:18    -   \n",
        "      <a href=\"jhu-usc.edu_LUAD.HumanMethylation450.Level_2.18.8.0.tar.gz\">jhu-usc.edu_LUAD.HumanMethylation450.Level_2.18.8.0.tar.gz</a>                                     2015-01-26 03:52  128M  \n",
        "      <a href=\"jhu-usc.edu_LUAD.HumanMethylation450.Level_2.18.8.0.tar.gz.md5\">jhu-usc.edu_LUAD.HumanMethylation450.Level_2.18.8.0.tar.gz.md5</a>                                 2015-01-26 03:52   92   \n",
        "      <a href=\"jhu-usc.edu_LUAD.HumanMethylation450.Level_2.18.8.0/\">jhu-usc.edu_LUAD.HumanMethylation450.Level_2.18.8.0/</a>                                           2015-01-26 03:51    -   \n",
        "      <a href=\"jhu-usc.edu_LUAD.HumanMethylation450.Level_2.19.8.0.tar.gz\">jhu-usc.edu_LUAD.HumanMethylation450.Level_2.19.8.0.tar.gz</a>                                     2015-01-26 03:51   89M  \n",
        "      <a href=\"jhu-usc.edu_LUAD.HumanMethylation450.Level_2.19.8.0.tar.gz.md5\">jhu-usc.edu_LUAD.HumanMethylation450.Level_2.19.8.0.tar.gz.md5</a>                                 2015-01-26 03:51   92   \n",
        "      <a href=\"jhu-usc.edu_LUAD.HumanMethylation450.Level_2.19.8.0/\">jhu-usc.edu_LUAD.HumanMethylation450.Level_2.19.8.0/</a>                                           2015-01-26 03:50    -   \n",
        "      <a href=\"jhu-usc.edu_LUAD.HumanMethylation450.Level_2.2.0.0.tar.gz\">jhu-usc.edu_LUAD.HumanMethylation450.Level_2.2.0.0.tar.gz</a>                                      2012-02-28 18:32  302M  \n",
        "      <a href=\"jhu-usc.edu_LUAD.HumanMethylation450.Level_2.2.0.0.tar.gz.md5\">jhu-usc.edu_LUAD.HumanMethylation450.Level_2.2.0.0.tar.gz.md5</a>                                  2012-02-28 18:32   91   \n",
        "      <a href=\"jhu-usc.edu_LUAD.HumanMethylation450.Level_2.2.1.0.tar.gz\">jhu-usc.edu_LUAD.HumanMethylation450.Level_2.2.1.0.tar.gz</a>                                      2012-03-08 00:25  302M  \n",
        "      <a href=\"jhu-usc.edu_LUAD.HumanMethylation450.Level_2.2.1.0.tar.gz.md5\">jhu-usc.edu_LUAD.HumanMethylation450.Level_2.2.1.0.tar.gz.md5</a>                                  2012-03-08 00:25   91   \n",
        "      <a href=\"jhu-usc.edu_LUAD.HumanMethylation450.Level_2.2.1.0/\">jhu-usc.edu_LUAD.HumanMethylation450.Level_2.2.1.0/</a>                                            2012-03-08 00:23    -   \n",
        "      <a href=\"jhu-usc.edu_LUAD.HumanMethylation450.Level_2.2.2.0.tar.gz\">jhu-usc.edu_LUAD.HumanMethylation450.Level_2.2.2.0.tar.gz</a>                                      2012-09-25 15:16  311M  \n",
        "      <a href=\"jhu-usc.edu_LUAD.HumanMethylation450.Level_2.2.2.0.tar.gz.md5\">jhu-usc.edu_LUAD.HumanMethylation450.Level_2.2.2.0.tar.gz.md5</a>                                  2012-09-25 15:16   91   \n",
        "      <a href=\"jhu-usc.edu_LUAD.HumanMethylation450.Level_2.2.2.0/\">jhu-usc.edu_LUAD.HumanMethylation450.Level_2.2.2.0/</a>                                            2012-09-25 15:15    -   \n",
        "      <a href=\"jhu-usc.edu_LUAD.HumanMethylation450.Level_2.2.3.0.tar.gz\">jhu-usc.edu_LUAD.HumanMethylation450.Level_2.2.3.0.tar.gz</a>                                      2012-10-30 06:15  311M  \n",
        "      <a href=\"jhu-usc.edu_LUAD.HumanMethylation450.Level_2.2.3.0.tar.gz.md5\">jhu-usc.edu_LUAD.HumanMethylation450.Level_2.2.3.0.tar.gz.md5</a>                                  2012-10-30 06:15   91   \n",
        "      <a href=\"jhu-usc.edu_LUAD.HumanMethylation450.Level_2.2.3.0/\">jhu-usc.edu_LUAD.HumanMethylation450.Level_2.2.3.0/</a>                                            2012-10-30 06:13    -   \n",
        "      <a href=\"jhu-usc.edu_LUAD.HumanMethylation450.Level_2.2.4.0.tar.gz\">jhu-usc.edu_LUAD.HumanMethylation450.Level_2.2.4.0.tar.gz</a>                                      2013-02-26 14:44  311M  \n",
        "      <a href=\"jhu-usc.edu_LUAD.HumanMethylation450.Level_2.2.4.0.tar.gz.md5\">jhu-usc.edu_LUAD.HumanMethylation450.Level_2.2.4.0.tar.gz.md5</a>                                  2013-02-26 14:44   91   \n",
        "      <a href=\"jhu-usc.edu_LUAD.HumanMethylation450.Level_2.2.4.0/\">jhu-usc.edu_LUAD.HumanMethylation450.Level_2.2.4.0/</a>                                            2013-02-26 14:43    -   \n",
        "      <a href=\"jhu-usc.edu_LUAD.HumanMethylation450.Level_2.2.5.0.tar.gz\">jhu-usc.edu_LUAD.HumanMethylation450.Level_2.2.5.0.tar.gz</a>                                      2013-06-18 22:10  330M  \n",
        "      <a href=\"jhu-usc.edu_LUAD.HumanMethylation450.Level_2.2.5.0.tar.gz.md5\">jhu-usc.edu_LUAD.HumanMethylation450.Level_2.2.5.0.tar.gz.md5</a>                                  2013-06-18 22:10   91   \n",
        "      <a href=\"jhu-usc.edu_LUAD.HumanMethylation450.Level_2.2.5.0/\">jhu-usc.edu_LUAD.HumanMethylation450.Level_2.2.5.0/</a>                                            2013-06-18 22:08    -   \n",
        "      <a href=\"jhu-usc.edu_LUAD.HumanMethylation450.Level_2.2.6.0.tar.gz\">jhu-usc.edu_LUAD.HumanMethylation450.Level_2.2.6.0.tar.gz</a>                                      2014-06-16 16:46  330M  \n",
        "      <a href=\"jhu-usc.edu_LUAD.HumanMethylation450.Level_2.2.6.0.tar.gz.md5\">jhu-usc.edu_LUAD.HumanMethylation450.Level_2.2.6.0.tar.gz.md5</a>                                  2014-06-16 16:46   91   \n",
        "      <a href=\"jhu-usc.edu_LUAD.HumanMethylation450.Level_2.2.6.0/\">jhu-usc.edu_LUAD.HumanMethylation450.Level_2.2.6.0/</a>                                            2014-06-16 16:44    -   \n",
        "      <a href=\"jhu-usc.edu_LUAD.HumanMethylation450.Level_2.2.7.0.tar.gz\">jhu-usc.edu_LUAD.HumanMethylation450.Level_2.2.7.0.tar.gz</a>                                      2014-08-04 06:38  330M  \n",
        "      <a href=\"jhu-usc.edu_LUAD.HumanMethylation450.Level_2.2.7.0.tar.gz.md5\">jhu-usc.edu_LUAD.HumanMethylation450.Level_2.2.7.0.tar.gz.md5</a>                                  2014-08-04 06:38   91   \n",
        "      <a href=\"jhu-usc.edu_LUAD.HumanMethylation450.Level_2.2.7.0/\">jhu-usc.edu_LUAD.HumanMethylation450.Level_2.2.7.0/</a>                                            2014-08-04 06:36    -   \n",
        "      <a href=\"jhu-usc.edu_LUAD.HumanMethylation450.Level_2.2.8.0.tar.gz\">jhu-usc.edu_LUAD.HumanMethylation450.Level_2.2.8.0.tar.gz</a>                                      2015-01-26 04:08  328M  \n",
        "      <a href=\"jhu-usc.edu_LUAD.HumanMethylation450.Level_2.2.8.0.tar.gz.md5\">jhu-usc.edu_LUAD.HumanMethylation450.Level_2.2.8.0.tar.gz.md5</a>                                  2015-01-26 04:08   91   \n",
        "      <a href=\"jhu-usc.edu_LUAD.HumanMethylation450.Level_2.2.8.0/\">jhu-usc.edu_LUAD.HumanMethylation450.Level_2.2.8.0/</a>                                            2015-01-26 04:07    -   \n",
        "      <a href=\"jhu-usc.edu_LUAD.HumanMethylation450.Level_2.3.0.0.tar.gz\">jhu-usc.edu_LUAD.HumanMethylation450.Level_2.3.0.0.tar.gz</a>                                      2012-02-28 18:29  568M  \n",
        "      <a href=\"jhu-usc.edu_LUAD.HumanMethylation450.Level_2.3.0.0.tar.gz.md5\">jhu-usc.edu_LUAD.HumanMethylation450.Level_2.3.0.0.tar.gz.md5</a>                                  2012-02-28 18:29   91   \n",
        "      <a href=\"jhu-usc.edu_LUAD.HumanMethylation450.Level_2.3.1.0.tar.gz\">jhu-usc.edu_LUAD.HumanMethylation450.Level_2.3.1.0.tar.gz</a>                                      2012-03-08 00:22  568M  \n",
        "      <a href=\"jhu-usc.edu_LUAD.HumanMethylation450.Level_2.3.1.0.tar.gz.md5\">jhu-usc.edu_LUAD.HumanMethylation450.Level_2.3.1.0.tar.gz.md5</a>                                  2012-03-08 00:22   91   \n",
        "      <a href=\"jhu-usc.edu_LUAD.HumanMethylation450.Level_2.3.1.0/\">jhu-usc.edu_LUAD.HumanMethylation450.Level_2.3.1.0/</a>                                            2012-03-08 00:19    -   \n",
        "      <a href=\"jhu-usc.edu_LUAD.HumanMethylation450.Level_2.3.2.0.tar.gz\">jhu-usc.edu_LUAD.HumanMethylation450.Level_2.3.2.0.tar.gz</a>                                      2012-09-25 15:14  568M  \n",
        "      <a href=\"jhu-usc.edu_LUAD.HumanMethylation450.Level_2.3.2.0.tar.gz.md5\">jhu-usc.edu_LUAD.HumanMethylation450.Level_2.3.2.0.tar.gz.md5</a>                                  2012-09-25 15:14   91   \n",
        "      <a href=\"jhu-usc.edu_LUAD.HumanMethylation450.Level_2.3.2.0/\">jhu-usc.edu_LUAD.HumanMethylation450.Level_2.3.2.0/</a>                                            2012-09-25 15:11    -   \n",
        "      <a href=\"jhu-usc.edu_LUAD.HumanMethylation450.Level_2.3.3.0.tar.gz\">jhu-usc.edu_LUAD.HumanMethylation450.Level_2.3.3.0.tar.gz</a>                                      2012-10-30 06:13  568M  \n",
        "      <a href=\"jhu-usc.edu_LUAD.HumanMethylation450.Level_2.3.3.0.tar.gz.md5\">jhu-usc.edu_LUAD.HumanMethylation450.Level_2.3.3.0.tar.gz.md5</a>                                  2012-10-30 06:13   91   \n",
        "      <a href=\"jhu-usc.edu_LUAD.HumanMethylation450.Level_2.3.3.0/\">jhu-usc.edu_LUAD.HumanMethylation450.Level_2.3.3.0/</a>                                            2012-10-30 06:10    -   \n",
        "      <a href=\"jhu-usc.edu_LUAD.HumanMethylation450.Level_2.3.4.0.tar.gz\">jhu-usc.edu_LUAD.HumanMethylation450.Level_2.3.4.0.tar.gz</a>                                      2013-02-26 14:42  568M  \n",
        "      <a href=\"jhu-usc.edu_LUAD.HumanMethylation450.Level_2.3.4.0.tar.gz.md5\">jhu-usc.edu_LUAD.HumanMethylation450.Level_2.3.4.0.tar.gz.md5</a>                                  2013-02-26 14:42   91   \n",
        "      <a href=\"jhu-usc.edu_LUAD.HumanMethylation450.Level_2.3.4.0/\">jhu-usc.edu_LUAD.HumanMethylation450.Level_2.3.4.0/</a>                                            2013-02-26 14:40    -   \n",
        "      <a href=\"jhu-usc.edu_LUAD.HumanMethylation450.Level_2.3.5.0.tar.gz\">jhu-usc.edu_LUAD.HumanMethylation450.Level_2.3.5.0.tar.gz</a>                                      2013-06-18 22:08  605M  \n",
        "      <a href=\"jhu-usc.edu_LUAD.HumanMethylation450.Level_2.3.5.0.tar.gz.md5\">jhu-usc.edu_LUAD.HumanMethylation450.Level_2.3.5.0.tar.gz.md5</a>                                  2013-06-18 22:08   91   \n",
        "      <a href=\"jhu-usc.edu_LUAD.HumanMethylation450.Level_2.3.5.0/\">jhu-usc.edu_LUAD.HumanMethylation450.Level_2.3.5.0/</a>                                            2013-06-18 22:05    -   \n",
        "      <a href=\"jhu-usc.edu_LUAD.HumanMethylation450.Level_2.3.6.0.tar.gz\">jhu-usc.edu_LUAD.HumanMethylation450.Level_2.3.6.0.tar.gz</a>                                      2014-06-16 16:43  605M  \n",
        "      <a href=\"jhu-usc.edu_LUAD.HumanMethylation450.Level_2.3.6.0.tar.gz.md5\">jhu-usc.edu_LUAD.HumanMethylation450.Level_2.3.6.0.tar.gz.md5</a>                                  2014-06-16 16:43   91   \n",
        "      <a href=\"jhu-usc.edu_LUAD.HumanMethylation450.Level_2.3.6.0/\">jhu-usc.edu_LUAD.HumanMethylation450.Level_2.3.6.0/</a>                                            2014-06-16 16:40    -   \n",
        "      <a href=\"jhu-usc.edu_LUAD.HumanMethylation450.Level_2.3.7.0.tar.gz\">jhu-usc.edu_LUAD.HumanMethylation450.Level_2.3.7.0.tar.gz</a>                                      2014-08-04 06:35  614M  \n",
        "      <a href=\"jhu-usc.edu_LUAD.HumanMethylation450.Level_2.3.7.0.tar.gz.md5\">jhu-usc.edu_LUAD.HumanMethylation450.Level_2.3.7.0.tar.gz.md5</a>                                  2014-08-04 06:35   91   \n",
        "      <a href=\"jhu-usc.edu_LUAD.HumanMethylation450.Level_2.3.7.0/\">jhu-usc.edu_LUAD.HumanMethylation450.Level_2.3.7.0/</a>                                            2014-08-04 06:32    -   \n",
        "      <a href=\"jhu-usc.edu_LUAD.HumanMethylation450.Level_2.3.8.0.tar.gz\">jhu-usc.edu_LUAD.HumanMethylation450.Level_2.3.8.0.tar.gz</a>                                      2015-01-26 04:06  610M  \n",
        "      <a href=\"jhu-usc.edu_LUAD.HumanMethylation450.Level_2.3.8.0.tar.gz.md5\">jhu-usc.edu_LUAD.HumanMethylation450.Level_2.3.8.0.tar.gz.md5</a>                                  2015-01-26 04:06   91   \n",
        "      <a href=\"jhu-usc.edu_LUAD.HumanMethylation450.Level_2.3.8.0/\">jhu-usc.edu_LUAD.HumanMethylation450.Level_2.3.8.0/</a>                                            2015-01-26 04:03    -   \n",
        "      <a href=\"jhu-usc.edu_LUAD.HumanMethylation450.Level_2.4.0.0.tar.gz\">jhu-usc.edu_LUAD.HumanMethylation450.Level_2.4.0.0.tar.gz</a>                                      2012-02-28 18:42  369M  \n",
        "      <a href=\"jhu-usc.edu_LUAD.HumanMethylation450.Level_2.4.0.0.tar.gz.md5\">jhu-usc.edu_LUAD.HumanMethylation450.Level_2.4.0.0.tar.gz.md5</a>                                  2012-02-28 18:42   91   \n",
        "      <a href=\"jhu-usc.edu_LUAD.HumanMethylation450.Level_2.4.1.0.tar.gz\">jhu-usc.edu_LUAD.HumanMethylation450.Level_2.4.1.0.tar.gz</a>                                      2012-03-08 00:36  369M  \n",
        "      <a href=\"jhu-usc.edu_LUAD.HumanMethylation450.Level_2.4.1.0.tar.gz.md5\">jhu-usc.edu_LUAD.HumanMethylation450.Level_2.4.1.0.tar.gz.md5</a>                                  2012-03-08 00:36   91   \n",
        "      <a href=\"jhu-usc.edu_LUAD.HumanMethylation450.Level_2.4.1.0/\">jhu-usc.edu_LUAD.HumanMethylation450.Level_2.4.1.0/</a>                                            2012-03-08 00:33    -   \n",
        "      <a href=\"jhu-usc.edu_LUAD.HumanMethylation450.Level_2.4.2.0.tar.gz\">jhu-usc.edu_LUAD.HumanMethylation450.Level_2.4.2.0.tar.gz</a>                                      2012-09-25 15:26  369M  \n",
        "      <a href=\"jhu-usc.edu_LUAD.HumanMethylation450.Level_2.4.2.0.tar.gz.md5\">jhu-usc.edu_LUAD.HumanMethylation450.Level_2.4.2.0.tar.gz.md5</a>                                  2012-09-25 15:26   91   \n",
        "      <a href=\"jhu-usc.edu_LUAD.HumanMethylation450.Level_2.4.2.0/\">jhu-usc.edu_LUAD.HumanMethylation450.Level_2.4.2.0/</a>                                            2012-09-25 15:24    -   \n",
        "      <a href=\"jhu-usc.edu_LUAD.HumanMethylation450.Level_2.4.3.0.tar.gz\">jhu-usc.edu_LUAD.HumanMethylation450.Level_2.4.3.0.tar.gz</a>                                      2012-10-30 06:24  369M  \n",
        "      <a href=\"jhu-usc.edu_LUAD.HumanMethylation450.Level_2.4.3.0.tar.gz.md5\">jhu-usc.edu_LUAD.HumanMethylation450.Level_2.4.3.0.tar.gz.md5</a>                                  2012-10-30 06:24   91   \n",
        "      <a href=\"jhu-usc.edu_LUAD.HumanMethylation450.Level_2.4.3.0/\">jhu-usc.edu_LUAD.HumanMethylation450.Level_2.4.3.0/</a>                                            2012-10-30 06:22    -   \n",
        "      <a href=\"jhu-usc.edu_LUAD.HumanMethylation450.Level_2.4.4.0.tar.gz\">jhu-usc.edu_LUAD.HumanMethylation450.Level_2.4.4.0.tar.gz</a>                                      2013-02-26 14:53  369M  \n",
        "      <a href=\"jhu-usc.edu_LUAD.HumanMethylation450.Level_2.4.4.0.tar.gz.md5\">jhu-usc.edu_LUAD.HumanMethylation450.Level_2.4.4.0.tar.gz.md5</a>                                  2013-02-26 14:53   91   \n",
        "      <a href=\"jhu-usc.edu_LUAD.HumanMethylation450.Level_2.4.4.0/\">jhu-usc.edu_LUAD.HumanMethylation450.Level_2.4.4.0/</a>                                            2013-02-26 14:52    -   \n",
        "      <a href=\"jhu-usc.edu_LUAD.HumanMethylation450.Level_2.4.5.0.tar.gz\">jhu-usc.edu_LUAD.HumanMethylation450.Level_2.4.5.0.tar.gz</a>                                      2013-06-18 22:21  388M  \n",
        "      <a href=\"jhu-usc.edu_LUAD.HumanMethylation450.Level_2.4.5.0.tar.gz.md5\">jhu-usc.edu_LUAD.HumanMethylation450.Level_2.4.5.0.tar.gz.md5</a>                                  2013-06-18 22:21   91   \n",
        "      <a href=\"jhu-usc.edu_LUAD.HumanMethylation450.Level_2.4.5.0/\">jhu-usc.edu_LUAD.HumanMethylation450.Level_2.4.5.0/</a>                                            2013-06-18 22:19    -   \n",
        "      <a href=\"jhu-usc.edu_LUAD.HumanMethylation450.Level_2.4.6.0.tar.gz\">jhu-usc.edu_LUAD.HumanMethylation450.Level_2.4.6.0.tar.gz</a>                                      2014-06-16 17:01  388M  \n",
        "      <a href=\"jhu-usc.edu_LUAD.HumanMethylation450.Level_2.4.6.0.tar.gz.md5\">jhu-usc.edu_LUAD.HumanMethylation450.Level_2.4.6.0.tar.gz.md5</a>                                  2014-06-16 17:01   91   \n",
        "      <a href=\"jhu-usc.edu_LUAD.HumanMethylation450.Level_2.4.6.0/\">jhu-usc.edu_LUAD.HumanMethylation450.Level_2.4.6.0/</a>                                            2014-06-16 16:58    -   \n",
        "      <a href=\"jhu-usc.edu_LUAD.HumanMethylation450.Level_2.4.7.0.tar.gz\">jhu-usc.edu_LUAD.HumanMethylation450.Level_2.4.7.0.tar.gz</a>                                      2014-08-04 06:50  388M  \n",
        "      <a href=\"jhu-usc.edu_LUAD.HumanMethylation450.Level_2.4.7.0.tar.gz.md5\">jhu-usc.edu_LUAD.HumanMethylation450.Level_2.4.7.0.tar.gz.md5</a>                                  2014-08-04 06:50   91   \n",
        "      <a href=\"jhu-usc.edu_LUAD.HumanMethylation450.Level_2.4.7.0/\">jhu-usc.edu_LUAD.HumanMethylation450.Level_2.4.7.0/</a>                                            2014-08-04 06:48    -   \n",
        "      <a href=\"jhu-usc.edu_LUAD.HumanMethylation450.Level_2.4.8.0.tar.gz\">jhu-usc.edu_LUAD.HumanMethylation450.Level_2.4.8.0.tar.gz</a>                                      2015-01-26 04:18  385M  \n",
        "      <a href=\"jhu-usc.edu_LUAD.HumanMethylation450.Level_2.4.8.0.tar.gz.md5\">jhu-usc.edu_LUAD.HumanMethylation450.Level_2.4.8.0.tar.gz.md5</a>                                  2015-01-26 04:18   91   \n",
        "      <a href=\"jhu-usc.edu_LUAD.HumanMethylation450.Level_2.4.8.0/\">jhu-usc.edu_LUAD.HumanMethylation450.Level_2.4.8.0/</a>                                            2015-01-26 04:16    -   \n",
        "      <a href=\"jhu-usc.edu_LUAD.HumanMethylation450.Level_2.5.0.0.tar.gz\">jhu-usc.edu_LUAD.HumanMethylation450.Level_2.5.0.0.tar.gz</a>                                      2012-02-28 18:39  313M  \n",
        "      <a href=\"jhu-usc.edu_LUAD.HumanMethylation450.Level_2.5.0.0.tar.gz.md5\">jhu-usc.edu_LUAD.HumanMethylation450.Level_2.5.0.0.tar.gz.md5</a>                                  2012-02-28 18:39   91   \n",
        "      <a href=\"jhu-usc.edu_LUAD.HumanMethylation450.Level_2.5.1.0.tar.gz\">jhu-usc.edu_LUAD.HumanMethylation450.Level_2.5.1.0.tar.gz</a>                                      2012-03-08 00:32  313M  \n",
        "      <a href=\"jhu-usc.edu_LUAD.HumanMethylation450.Level_2.5.1.0.tar.gz.md5\">jhu-usc.edu_LUAD.HumanMethylation450.Level_2.5.1.0.tar.gz.md5</a>                                  2012-03-08 00:32   91   \n",
        "      <a href=\"jhu-usc.edu_LUAD.HumanMethylation450.Level_2.5.1.0/\">jhu-usc.edu_LUAD.HumanMethylation450.Level_2.5.1.0/</a>                                            2012-03-08 00:30    -   \n",
        "      <a href=\"jhu-usc.edu_LUAD.HumanMethylation450.Level_2.5.2.0.tar.gz\">jhu-usc.edu_LUAD.HumanMethylation450.Level_2.5.2.0.tar.gz</a>                                      2012-09-25 15:24  313M  \n",
        "      <a href=\"jhu-usc.edu_LUAD.HumanMethylation450.Level_2.5.2.0.tar.gz.md5\">jhu-usc.edu_LUAD.HumanMethylation450.Level_2.5.2.0.tar.gz.md5</a>                                  2012-09-25 15:24   91   \n",
        "      <a href=\"jhu-usc.edu_LUAD.HumanMethylation450.Level_2.5.2.0/\">jhu-usc.edu_LUAD.HumanMethylation450.Level_2.5.2.0/</a>                                            2012-09-25 15:22    -   \n",
        "      <a href=\"jhu-usc.edu_LUAD.HumanMethylation450.Level_2.5.3.0.tar.gz\">jhu-usc.edu_LUAD.HumanMethylation450.Level_2.5.3.0.tar.gz</a>                                      2012-10-30 06:22  313M  \n",
        "      <a href=\"jhu-usc.edu_LUAD.HumanMethylation450.Level_2.5.3.0.tar.gz.md5\">jhu-usc.edu_LUAD.HumanMethylation450.Level_2.5.3.0.tar.gz.md5</a>                                  2012-10-30 06:22   91   \n",
        "      <a href=\"jhu-usc.edu_LUAD.HumanMethylation450.Level_2.5.3.0/\">jhu-usc.edu_LUAD.HumanMethylation450.Level_2.5.3.0/</a>                                            2012-10-30 06:20    -   \n",
        "      <a href=\"jhu-usc.edu_LUAD.HumanMethylation450.Level_2.5.4.0.tar.gz\">jhu-usc.edu_LUAD.HumanMethylation450.Level_2.5.4.0.tar.gz</a>                                      2013-02-26 14:51  313M  \n",
        "      <a href=\"jhu-usc.edu_LUAD.HumanMethylation450.Level_2.5.4.0.tar.gz.md5\">jhu-usc.edu_LUAD.HumanMethylation450.Level_2.5.4.0.tar.gz.md5</a>                                  2013-02-26 14:51   91   \n",
        "      <a href=\"jhu-usc.edu_LUAD.HumanMethylation450.Level_2.5.4.0/\">jhu-usc.edu_LUAD.HumanMethylation450.Level_2.5.4.0/</a>                                            2013-02-26 14:50    -   \n",
        "      <a href=\"jhu-usc.edu_LUAD.HumanMethylation450.Level_2.5.5.0.tar.gz\">jhu-usc.edu_LUAD.HumanMethylation450.Level_2.5.5.0.tar.gz</a>                                      2013-06-18 22:18  313M  \n",
        "      <a href=\"jhu-usc.edu_LUAD.HumanMethylation450.Level_2.5.5.0.tar.gz.md5\">jhu-usc.edu_LUAD.HumanMethylation450.Level_2.5.5.0.tar.gz.md5</a>                                  2013-06-18 22:18   91   \n",
        "      <a href=\"jhu-usc.edu_LUAD.HumanMethylation450.Level_2.5.5.0/\">jhu-usc.edu_LUAD.HumanMethylation450.Level_2.5.5.0/</a>                                            2013-06-18 22:17    -   \n",
        "      <a href=\"jhu-usc.edu_LUAD.HumanMethylation450.Level_2.5.6.0.tar.gz\">jhu-usc.edu_LUAD.HumanMethylation450.Level_2.5.6.0.tar.gz</a>                                      2014-06-16 16:57  313M  \n",
        "      <a href=\"jhu-usc.edu_LUAD.HumanMethylation450.Level_2.5.6.0.tar.gz.md5\">jhu-usc.edu_LUAD.HumanMethylation450.Level_2.5.6.0.tar.gz.md5</a>                                  2014-06-16 16:57   91   \n",
        "      <a href=\"jhu-usc.edu_LUAD.HumanMethylation450.Level_2.5.6.0/\">jhu-usc.edu_LUAD.HumanMethylation450.Level_2.5.6.0/</a>                                            2014-06-16 16:55    -   \n",
        "      <a href=\"jhu-usc.edu_LUAD.HumanMethylation450.Level_2.5.7.0.tar.gz\">jhu-usc.edu_LUAD.HumanMethylation450.Level_2.5.7.0.tar.gz</a>                                      2014-08-04 06:47  313M  \n",
        "      <a href=\"jhu-usc.edu_LUAD.HumanMethylation450.Level_2.5.7.0.tar.gz.md5\">jhu-usc.edu_LUAD.HumanMethylation450.Level_2.5.7.0.tar.gz.md5</a>                                  2014-08-04 06:48   91   \n",
        "      <a href=\"jhu-usc.edu_LUAD.HumanMethylation450.Level_2.5.7.0/\">jhu-usc.edu_LUAD.HumanMethylation450.Level_2.5.7.0/</a>                                            2014-08-04 06:45    -   \n",
        "      <a href=\"jhu-usc.edu_LUAD.HumanMethylation450.Level_2.5.8.0.tar.gz\">jhu-usc.edu_LUAD.HumanMethylation450.Level_2.5.8.0.tar.gz</a>                                      2015-01-26 04:16  312M  \n",
        "      <a href=\"jhu-usc.edu_LUAD.HumanMethylation450.Level_2.5.8.0.tar.gz.md5\">jhu-usc.edu_LUAD.HumanMethylation450.Level_2.5.8.0.tar.gz.md5</a>                                  2015-01-26 04:16   91   \n",
        "      <a href=\"jhu-usc.edu_LUAD.HumanMethylation450.Level_2.5.8.0/\">jhu-usc.edu_LUAD.HumanMethylation450.Level_2.5.8.0/</a>                                            2015-01-26 04:14    -   \n",
        "      <a href=\"jhu-usc.edu_LUAD.HumanMethylation450.Level_2.6.0.0.tar.gz\">jhu-usc.edu_LUAD.HumanMethylation450.Level_2.6.0.0.tar.gz</a>                                      2012-02-28 18:37  312M  \n",
        "      <a href=\"jhu-usc.edu_LUAD.HumanMethylation450.Level_2.6.0.0.tar.gz.md5\">jhu-usc.edu_LUAD.HumanMethylation450.Level_2.6.0.0.tar.gz.md5</a>                                  2012-02-28 18:37   91   \n",
        "      <a href=\"jhu-usc.edu_LUAD.HumanMethylation450.Level_2.6.1.0.tar.gz\">jhu-usc.edu_LUAD.HumanMethylation450.Level_2.6.1.0.tar.gz</a>                                      2012-03-08 00:29  312M  \n",
        "      <a href=\"jhu-usc.edu_LUAD.HumanMethylation450.Level_2.6.1.0.tar.gz.md5\">jhu-usc.edu_LUAD.HumanMethylation450.Level_2.6.1.0.tar.gz.md5</a>                                  2012-03-08 00:29   91   \n",
        "      <a href=\"jhu-usc.edu_LUAD.HumanMethylation450.Level_2.6.1.0/\">jhu-usc.edu_LUAD.HumanMethylation450.Level_2.6.1.0/</a>                                            2012-03-08 00:28    -   \n",
        "      <a href=\"jhu-usc.edu_LUAD.HumanMethylation450.Level_2.6.2.0.tar.gz\">jhu-usc.edu_LUAD.HumanMethylation450.Level_2.6.2.0.tar.gz</a>                                      2012-09-25 15:22  312M  \n",
        "      <a href=\"jhu-usc.edu_LUAD.HumanMethylation450.Level_2.6.2.0.tar.gz.md5\">jhu-usc.edu_LUAD.HumanMethylation450.Level_2.6.2.0.tar.gz.md5</a>                                  2012-09-25 15:22   91   \n",
        "      <a href=\"jhu-usc.edu_LUAD.HumanMethylation450.Level_2.6.2.0/\">jhu-usc.edu_LUAD.HumanMethylation450.Level_2.6.2.0/</a>                                            2012-09-25 15:20    -   \n",
        "      <a href=\"jhu-usc.edu_LUAD.HumanMethylation450.Level_2.6.3.0.tar.gz\">jhu-usc.edu_LUAD.HumanMethylation450.Level_2.6.3.0.tar.gz</a>                                      2012-10-30 06:20  312M  \n",
        "      <a href=\"jhu-usc.edu_LUAD.HumanMethylation450.Level_2.6.3.0.tar.gz.md5\">jhu-usc.edu_LUAD.HumanMethylation450.Level_2.6.3.0.tar.gz.md5</a>                                  2012-10-30 06:20   91   \n",
        "      <a href=\"jhu-usc.edu_LUAD.HumanMethylation450.Level_2.6.3.0/\">jhu-usc.edu_LUAD.HumanMethylation450.Level_2.6.3.0/</a>                                            2012-10-30 06:18    -   \n",
        "      <a href=\"jhu-usc.edu_LUAD.HumanMethylation450.Level_2.6.4.0.tar.gz\">jhu-usc.edu_LUAD.HumanMethylation450.Level_2.6.4.0.tar.gz</a>                                      2013-02-26 14:49  312M  \n",
        "      <a href=\"jhu-usc.edu_LUAD.HumanMethylation450.Level_2.6.4.0.tar.gz.md5\">jhu-usc.edu_LUAD.HumanMethylation450.Level_2.6.4.0.tar.gz.md5</a>                                  2013-02-26 14:49   91   \n",
        "      <a href=\"jhu-usc.edu_LUAD.HumanMethylation450.Level_2.6.4.0/\">jhu-usc.edu_</a></pre></body></html>"
       ]
      }
     ],
     "prompt_number": 36
    },
    {
     "cell_type": "markdown",
     "metadata": {},
     "source": [
      "<b>Get Tar Links</b>"
     ]
    },
    {
     "cell_type": "markdown",
     "metadata": {},
     "source": [
      "* Singular Way:"
     ]
    },
    {
     "cell_type": "code",
     "collapsed": false,
     "input": [
      "#one option\n",
      "url = 'https://tcga-data.nci.nih.gov/tcgafiles/ftp_auth/distro_ftpusers/anonymous/tumor/hnsc/cgcc/jhu-usc.edu/humanmethylation450/methylation/'\n",
      "filename = \"jhu-usc.edu_HNSC.HumanMethylation450.Level_1.1.0.0.tar.gz \"\n",
      "outFilePath = \"jhu-usc.edu_HNSC.HumanMethylation450.Level_1.1.0.0.csv\"\n",
      "\n",
      "response = urllib2.urlopen(url + filename)\n",
      "compressedFile = StringIO.StringIO()\n",
      "compressedFile.write(response.read())\n",
      "\n",
      "# Set the file's current position to the beginning\n",
      "# of the file so that gzip.GzipFile can read\n",
      "# its contents from the top.\n",
      "\n",
      "compressedFile.seek(0)\n",
      "\n",
      "decompressedFile = gzip.GzipFile(fileobj=compressedFile, mode='rb')\n",
      "\n",
      "with open(outFilePath, 'w') as outfile:\n",
      "    outfile.write(decompressedFile.read())"
     ],
     "language": "python",
     "metadata": {},
     "outputs": []
    },
    {
     "cell_type": "markdown",
     "metadata": {},
     "source": [
      "* Function that can be used if updated:"
     ]
    },
    {
     "cell_type": "code",
     "collapsed": false,
     "input": [
      "def getlinks(url):\n",
      "    links = [link.get('href') for link in soup.find_all('a') if link.get('href') != None \n",
      "             and '1.1.' and '.tar.gz' in link.get('href')]\n",
      "    for i in links:\n",
      "        if '.md5' not in i:\n",
      "            print i"
     ],
     "language": "python",
     "metadata": {},
     "outputs": [],
     "prompt_number": 6
    },
    {
     "cell_type": "code",
     "collapsed": false,
     "input": [
      "t= getlinks(url)\n",
      "t"
     ],
     "language": "python",
     "metadata": {},
     "outputs": [
      {
       "output_type": "stream",
       "stream": "stdout",
       "text": [
        "jhu-usc.edu_HNSC.HumanMethylation450.Level_1.1.0.0.tar.gz\n",
        "jhu-usc.edu_HNSC.HumanMethylation450.Level_1.1.1.0.tar.gz\n",
        "jhu-usc.edu_HNSC.HumanMethylation450.Level_1.1.2.0.tar.gz\n",
        "jhu-usc.edu_HNSC.HumanMethylation450.Level_1.1.3.0.tar.gz\n",
        "jhu-usc.edu_HNSC.HumanMethylation450.Level_1.1.4.0.tar.gz\n",
        "jhu-usc.edu_HNSC.HumanMethylation450.Level_1.1.5.0.tar.gz\n",
        "jhu-usc.edu_HNSC.HumanMethylation450.Level_1.1.6.0.tar.gz\n",
        "jhu-usc.edu_HNSC.HumanMethylation450.Level_1.1.7.0.tar.gz\n",
        "jhu-usc.edu_HNSC.HumanMethylation450.Level_1.1.8.0.tar.gz\n",
        "jhu-usc.edu_HNSC.HumanMethylation450.Level_1.10.3.0.tar.gz\n",
        "jhu-usc.edu_HNSC.HumanMethylation450.Level_1.10.4.0.tar.gz\n",
        "jhu-usc.edu_HNSC.HumanMethylation450.Level_1.10.5.0.tar.gz\n",
        "jhu-usc.edu_HNSC.HumanMethylation450.Level_1.10.6.0.tar.gz\n",
        "jhu-usc.edu_HNSC.HumanMethylation450.Level_1.10.7.0.tar.gz\n",
        "jhu-usc.edu_HNSC.HumanMethylation450.Level_1.10.8.0.tar.gz\n",
        "jhu-usc.edu_HNSC.HumanMethylation450.Level_1.11.3.0.tar.gz\n",
        "jhu-usc.edu_HNSC.HumanMethylation450.Level_1.11.4.0.tar.gz\n",
        "jhu-usc.edu_HNSC.HumanMethylation450.Level_1.11.5.0.tar.gz\n",
        "jhu-usc.edu_HNSC.HumanMethylation450.Level_1.11.6.0.tar.gz\n",
        "jhu-usc.edu_HNSC.HumanMethylation450.Level_1.11.7.0.tar.gz\n",
        "jhu-usc.edu_HNSC.HumanMethylation450.Level_1.11.8.0.tar.gz\n",
        "jhu-usc.edu_HNSC.HumanMethylation450.Level_1.12.3.0.tar.gz\n",
        "jhu-usc.edu_HNSC.HumanMethylation450.Level_1.12.4.0.tar.gz\n",
        "jhu-usc.edu_HNSC.HumanMethylation450.Level_1.12.5.0.tar.gz\n",
        "jhu-usc.edu_HNSC.HumanMethylation450.Level_1.12.6.0.tar.gz\n",
        "jhu-usc.edu_HNSC.HumanMethylation450.Level_1.12.7.0.tar.gz\n",
        "jhu-usc.edu_HNSC.HumanMethylation450.Level_1.12.8.0.tar.gz\n",
        "jhu-usc.edu_HNSC.HumanMethylation450.Level_1.13.3.0.tar.gz\n",
        "jhu-usc.edu_HNSC.HumanMethylation450.Level_1.13.4.0.tar.gz\n",
        "jhu-usc.edu_HNSC.HumanMethylation450.Level_1.13.5.0.tar.gz\n",
        "jhu-usc.edu_HNSC.HumanMethylation450.Level_1.13.6.0.tar.gz\n",
        "jhu-usc.edu_HNSC.HumanMethylation450.Level_1.13.7.0.tar.gz\n",
        "jhu-usc.edu_HNSC.HumanMethylation450.Level_1.13.8.0.tar.gz\n",
        "jhu-usc.edu_HNSC.HumanMethylation450.Level_1.14.4.0.tar.gz\n",
        "jhu-usc.edu_HNSC.HumanMethylation450.Level_1.14.5.0.tar.gz\n",
        "jhu-usc.edu_HNSC.HumanMethylation450.Level_1.14.6.0.tar.gz\n",
        "jhu-usc.edu_HNSC.HumanMethylation450.Level_1.14.7.0.tar.gz\n",
        "jhu-usc.edu_HNSC.HumanMethylation450.Level_1.14.8.0.tar.gz\n",
        "jhu-usc.edu_HNSC.HumanMethylation450.Level_1.15.4.0.tar.gz\n",
        "jhu-usc.edu_HNSC.HumanMethylation450.Level_1.15.5.0.tar.gz\n",
        "jhu-usc.edu_HNSC.HumanMethylation450.Level_1.15.6.0.tar.gz\n",
        "jhu-usc.edu_HNSC.HumanMethylation450.Level_1.15.7.0.tar.gz\n",
        "jhu-usc.edu_HNSC.HumanMethylation450.Level_1.15.8.0.tar.gz\n",
        "jhu-usc.edu_HNSC.HumanMethylation450.Level_1.16.5.0.tar.gz\n",
        "jhu-usc.edu_HNSC.HumanMethylation450.Level_1.16.6.0.tar.gz\n",
        "jhu-usc.edu_HNSC.HumanMethylation450.Level_1.16.7.0.tar.gz\n",
        "jhu-usc.edu_HNSC.HumanMethylation450.Level_1.16.8.0.tar.gz\n",
        "jhu-usc.edu_HNSC.HumanMethylation450.Level_1.17.6.0.tar.gz\n",
        "jhu-usc.edu_HNSC.HumanMethylation450.Level_1.17.7.0.tar.gz\n",
        "jhu-usc.edu_HNSC.HumanMethylation450.Level_1.17.8.0.tar.gz\n",
        "jhu-usc.edu_HNSC.HumanMethylation450.Level_1.18.7.0.tar.gz\n",
        "jhu-usc.edu_HNSC.HumanMethylation450.Level_1.18.8.0.tar.gz\n",
        "jhu-usc.edu_HNSC.HumanMethylation450.Level_1.2.0.0.tar.gz\n",
        "jhu-usc.edu_HNSC.HumanMethylation450.Level_1.2.1.0.tar.gz\n",
        "jhu-usc.edu_HNSC.HumanMethylation450.Level_1.2.2.0.tar.gz\n",
        "jhu-usc.edu_HNSC.HumanMethylation450.Level_1.2.3.0.tar.gz\n",
        "jhu-usc.edu_HNSC.HumanMethylation450.Level_1.2.4.0.tar.gz\n",
        "jhu-usc.edu_HNSC.HumanMethylation450.Level_1.2.5.0.tar.gz\n",
        "jhu-usc.edu_HNSC.HumanMethylation450.Level_1.2.6.0.tar.gz\n",
        "jhu-usc.edu_HNSC.HumanMethylation450.Level_1.2.7.0.tar.gz\n",
        "jhu-usc.edu_HNSC.HumanMethylation450.Level_1.2.8.0.tar.gz\n",
        "jhu-usc.edu_HNSC.HumanMethylation450.Level_1.3.0.0.tar.gz\n",
        "jhu-usc.edu_HNSC.HumanMethylation450.Level_1.3.1.0.tar.gz\n",
        "jhu-usc.edu_HNSC.HumanMethylation450.Level_1.3.2.0.tar.gz\n",
        "jhu-usc.edu_HNSC.HumanMethylation450.Level_1.3.3.0.tar.gz\n",
        "jhu-usc.edu_HNSC.HumanMethylation450.Level_1.3.4.0.tar.gz\n",
        "jhu-usc.edu_HNSC.HumanMethylation450.Level_1.3.5.0.tar.gz\n",
        "jhu-usc.edu_HNSC.HumanMethylation450.Level_1.3.6.0.tar.gz\n",
        "jhu-usc.edu_HNSC.HumanMethylation450.Level_1.3.7.0.tar.gz\n",
        "jhu-usc.edu_HNSC.HumanMethylation450.Level_1.3.8.0.tar.gz\n",
        "jhu-usc.edu_HNSC.HumanMethylation450.Level_1.4.0.0.tar.gz\n",
        "jhu-usc.edu_HNSC.HumanMethylation450.Level_1.4.1.0.tar.gz\n",
        "jhu-usc.edu_HNSC.HumanMethylation450.Level_1.4.2.0.tar.gz\n",
        "jhu-usc.edu_HNSC.HumanMethylation450.Level_1.4.3.0.tar.gz\n",
        "jhu-usc.edu_HNSC.HumanMethylation450.Level_1.4.4.0.tar.gz\n",
        "jhu-usc.edu_HNSC.HumanMethylation450.Level_1.4.5.0.tar.gz\n",
        "jhu-usc.edu_HNSC.HumanMethylation450.Level_1.4.6.0.tar.gz\n",
        "jhu-usc.edu_HNSC.HumanMethylation450.Level_1.4.7.0.tar.gz\n",
        "jhu-usc.edu_HNSC.HumanMethylation450.Level_1.4.8.0.tar.gz\n",
        "jhu-usc.edu_HNSC.HumanMethylation450.Level_1.5.0.0.tar.gz\n",
        "jhu-usc.edu_HNSC.HumanMethylation450.Level_1.5.1.0.tar.gz\n",
        "jhu-usc.edu_HNSC.HumanMethylation450.Level_1.5.2.0.tar.gz\n",
        "jhu-usc.edu_HNSC.HumanMethylation450.Level_1.5.3.0.tar.gz\n",
        "jhu-usc.edu_HNSC.HumanMethylation450.Level_1.5.4.0.tar.gz\n",
        "jhu-usc.edu_HNSC.HumanMethylation450.Level_1.5.5.0.tar.gz\n",
        "jhu-usc.edu_HNSC.HumanMethylation450.Level_1.5.6.0.tar.gz\n",
        "jhu-usc.edu_HNSC.HumanMethylation450.Level_1.5.7.0.tar.gz\n",
        "jhu-usc.edu_HNSC.HumanMethylation450.Level_1.5.8.0.tar.gz\n",
        "jhu-usc.edu_HNSC.HumanMethylation450.Level_1.6.0.0.tar.gz\n",
        "jhu-usc.edu_HNSC.HumanMethylation450.Level_1.6.1.0.tar.gz\n",
        "jhu-usc.edu_HNSC.HumanMethylation450.Level_1.6.2.0.tar.gz\n",
        "jhu-usc.edu_HNSC.HumanMethylation450.Level_1.6.3.0.tar.gz\n",
        "jhu-usc.edu_HNSC.HumanMethylation450.Level_1.6.4.0.tar.gz\n",
        "jhu-usc.edu_HNSC.HumanMethylation450.Level_1.6.5.0.tar.gz\n",
        "jhu-usc.edu_HNSC.HumanMethylation450.Level_1.6.6.0.tar.gz\n",
        "jhu-usc.edu_HNSC.HumanMethylation450.Level_1.6.7.0.tar.gz\n",
        "jhu-usc.edu_HNSC.HumanMethylation450.Level_1.6.8.0.tar.gz\n",
        "jhu-usc.edu_HNSC.HumanMethylation450.Level_1.7.0.0.tar.gz\n",
        "jhu-usc.edu_HNSC.HumanMethylation450.Level_1.7.1.0.tar.gz\n",
        "jhu-usc.edu_HNSC.HumanMethylation450.Level_1.7.2.0.tar.gz\n",
        "jhu-usc.edu_HNSC.HumanMethylation450.Level_1.7.3.0.tar.gz\n",
        "jhu-usc.edu_HNSC.HumanMethylation450.Level_1.7.4.0.tar.gz\n",
        "jhu-usc.edu_HNSC.HumanMethylation450.Level_1.7.5.0.tar.gz\n",
        "jhu-usc.edu_HNSC.HumanMethylation450.Level_1.7.6.0.tar.gz\n",
        "jhu-usc.edu_HNSC.HumanMethylation450.Level_1.7.7.0.tar.gz\n",
        "jhu-usc.edu_HNSC.HumanMethylation450.Level_1.7.8.0.tar.gz\n",
        "jhu-usc.edu_HNSC.HumanMethylation450.Level_1.8.0.0.tar.gz\n",
        "jhu-usc.edu_HNSC.HumanMethylation450.Level_1.8.1.0.tar.gz\n",
        "jhu-usc.edu_HNSC.HumanMethylation450.Level_1.8.2.0.tar.gz\n",
        "jhu-usc.edu_HNSC.HumanMethylation450.Level_1.8.3.0.tar.gz\n",
        "jhu-usc.edu_HNSC.HumanMethylation450.Level_1.1.1.0.tar.gz\n",
        "jhu-usc.edu_HNSC.HumanMethylation450.Level_1.1.2.0.tar.gz\n",
        "jhu-usc.edu_HNSC.HumanMethylation450.Level_1.1.3.0.tar.gz\n",
        "jhu-usc.edu_HNSC.HumanMethylation450.Level_1.1.4.0.tar.gz\n",
        "jhu-usc.edu_HNSC.HumanMethylation450.Level_1.1.5.0.tar.gz\n",
        "jhu-usc.edu_HNSC.HumanMethylation450.Level_1.1.6.0.tar.gz\n",
        "jhu-usc.edu_HNSC.HumanMethylation450.Level_1.1.7.0.tar.gz\n",
        "jhu-usc.edu_HNSC.HumanMethylation450.Level_1.1.8.0.tar.gz\n",
        "jhu-usc.edu_HNSC.HumanMethylation450.Level_1.10.3.0.tar.gz\n",
        "jhu-usc.edu_HNSC.HumanMethylation450.Level_1.10.4.0.tar.gz\n",
        "jhu-usc.edu_HNSC.HumanMethylation450.Level_1.10.5.0.tar.gz\n",
        "jhu-usc.edu_HNSC.HumanMethylation450.Level_1.10.6.0.tar.gz\n",
        "jhu-usc.edu_HNSC.HumanMethylation450.Level_1.10.7.0.tar.gz\n",
        "jhu-usc.edu_HNSC.HumanMethylation450.Level_1.10.8.0.tar.gz\n",
        "jhu-usc.edu_HNSC.HumanMethylation450.Level_1.11.3.0.tar.gz\n",
        "jhu-usc.edu_HNSC.HumanMethylation450.Level_1.11.4.0.tar.gz\n",
        "jhu-usc.edu_HNSC.HumanMethylation450.Level_1.11.5.0.tar.gz\n",
        "jhu-usc.edu_HNSC.HumanMethylation450.Level_1.11.6.0.tar.gz\n",
        "jhu-usc.edu_HNSC.HumanMethylation450.Level_1.11.7.0.tar.gz\n",
        "jhu-usc.edu_HNSC.HumanMethylation450.Level_1.11.8.0.tar.gz\n",
        "jhu-usc.edu_HNSC.HumanMethylation450.Level_1.12.3.0.tar.gz\n",
        "jhu-usc.edu_HNSC.HumanMethylation450.Level_1.12.4.0.tar.gz\n",
        "jhu-usc.edu_HNSC.HumanMethylation450.Level_1.12.5.0.tar.gz\n",
        "jhu-usc.edu_HNSC.HumanMethylation450.Level_1.12.6.0.tar.gz\n",
        "jhu-usc.edu_HNSC.HumanMethylation450.Level_1.12.7.0.tar.gz\n",
        "jhu-usc.edu_HNSC.HumanMethylation450.Level_1.12.8.0.tar.gz\n",
        "jhu-usc.edu_HNSC.HumanMethylation450.Level_1.13.3.0.tar.gz\n",
        "jhu-usc.edu_HNSC.HumanMethylation450.Level_1.13.4.0.tar.gz\n",
        "jhu-usc.edu_HNSC.HumanMethylation450.Level_1.13.5.0.tar.gz\n",
        "jhu-usc.edu_HNSC.HumanMethylation450.Level_1.13.6.0.tar.gz\n",
        "jhu-usc.edu_HNSC.HumanMethylation450.Level_1.13.7.0.tar.gz\n",
        "jhu-usc.edu_HNSC.HumanMethylation450.Level_1.13.8.0.tar.gz\n"
       ]
      }
     ],
     "prompt_number": 7
    },
    {
     "cell_type": "markdown",
     "metadata": {},
     "source": [
      "* Gets the right links:"
     ]
    },
    {
     "cell_type": "code",
     "collapsed": false,
     "input": [
      "links = [link.get('href') for link in soup.find_all('a') \n",
      "                          if (link.get('href') != None )\n",
      "                           and '_1.' in link.get('href')\n",
      "                           and '.tar.gz' in link.get('href')\n",
      "                           and '.md5' not in link.get('href')]\n",
      "links"
     ],
     "language": "python",
     "metadata": {},
     "outputs": [
      {
       "metadata": {},
       "output_type": "pyout",
       "prompt_number": 37,
       "text": [
        "['jhu-usc.edu_LUAD.HumanMethylation450.Level_1.1.0.0.tar.gz',\n",
        " 'jhu-usc.edu_LUAD.HumanMethylation450.Level_1.1.1.0.tar.gz',\n",
        " 'jhu-usc.edu_LUAD.HumanMethylation450.Level_1.1.2.0.tar.gz',\n",
        " 'jhu-usc.edu_LUAD.HumanMethylation450.Level_1.1.3.0.tar.gz',\n",
        " 'jhu-usc.edu_LUAD.HumanMethylation450.Level_1.1.4.0.tar.gz',\n",
        " 'jhu-usc.edu_LUAD.HumanMethylation450.Level_1.1.5.0.tar.gz',\n",
        " 'jhu-usc.edu_LUAD.HumanMethylation450.Level_1.1.6.0.tar.gz',\n",
        " 'jhu-usc.edu_LUAD.HumanMethylation450.Level_1.1.7.0.tar.gz',\n",
        " 'jhu-usc.edu_LUAD.HumanMethylation450.Level_1.1.8.0.tar.gz',\n",
        " 'jhu-usc.edu_LUAD.HumanMethylation450.Level_1.10.2.0.tar.gz',\n",
        " 'jhu-usc.edu_LUAD.HumanMethylation450.Level_1.10.3.0.tar.gz',\n",
        " 'jhu-usc.edu_LUAD.HumanMethylation450.Level_1.10.4.0.tar.gz',\n",
        " 'jhu-usc.edu_LUAD.HumanMethylation450.Level_1.10.5.0.tar.gz',\n",
        " 'jhu-usc.edu_LUAD.HumanMethylation450.Level_1.10.6.0.tar.gz',\n",
        " 'jhu-usc.edu_LUAD.HumanMethylation450.Level_1.10.7.0.tar.gz',\n",
        " 'jhu-usc.edu_LUAD.HumanMethylation450.Level_1.10.8.0.tar.gz',\n",
        " 'jhu-usc.edu_LUAD.HumanMethylation450.Level_1.11.2.0.tar.gz',\n",
        " 'jhu-usc.edu_LUAD.HumanMethylation450.Level_1.11.3.0.tar.gz',\n",
        " 'jhu-usc.edu_LUAD.HumanMethylation450.Level_1.11.4.0.tar.gz',\n",
        " 'jhu-usc.edu_LUAD.HumanMethylation450.Level_1.11.5.0.tar.gz',\n",
        " 'jhu-usc.edu_LUAD.HumanMethylation450.Level_1.11.6.0.tar.gz',\n",
        " 'jhu-usc.edu_LUAD.HumanMethylation450.Level_1.11.7.0.tar.gz',\n",
        " 'jhu-usc.edu_LUAD.HumanMethylation450.Level_1.11.8.0.tar.gz',\n",
        " 'jhu-usc.edu_LUAD.HumanMethylation450.Level_1.12.2.0.tar.gz',\n",
        " 'jhu-usc.edu_LUAD.HumanMethylation450.Level_1.12.3.0.tar.gz',\n",
        " 'jhu-usc.edu_LUAD.HumanMethylation450.Level_1.12.4.0.tar.gz',\n",
        " 'jhu-usc.edu_LUAD.HumanMethylation450.Level_1.12.5.0.tar.gz',\n",
        " 'jhu-usc.edu_LUAD.HumanMethylation450.Level_1.12.6.0.tar.gz',\n",
        " 'jhu-usc.edu_LUAD.HumanMethylation450.Level_1.12.7.0.tar.gz',\n",
        " 'jhu-usc.edu_LUAD.HumanMethylation450.Level_1.12.8.0.tar.gz',\n",
        " 'jhu-usc.edu_LUAD.HumanMethylation450.Level_1.13.4.0.tar.gz',\n",
        " 'jhu-usc.edu_LUAD.HumanMethylation450.Level_1.13.5.0.tar.gz',\n",
        " 'jhu-usc.edu_LUAD.HumanMethylation450.Level_1.13.6.0.tar.gz',\n",
        " 'jhu-usc.edu_LUAD.HumanMethylation450.Level_1.13.7.0.tar.gz',\n",
        " 'jhu-usc.edu_LUAD.HumanMethylation450.Level_1.13.8.0.tar.gz',\n",
        " 'jhu-usc.edu_LUAD.HumanMethylation450.Level_1.14.4.0.tar.gz',\n",
        " 'jhu-usc.edu_LUAD.HumanMethylation450.Level_1.14.5.0.tar.gz',\n",
        " 'jhu-usc.edu_LUAD.HumanMethylation450.Level_1.14.6.0.tar.gz',\n",
        " 'jhu-usc.edu_LUAD.HumanMethylation450.Level_1.14.7.0.tar.gz',\n",
        " 'jhu-usc.edu_LUAD.HumanMethylation450.Level_1.14.8.0.tar.gz',\n",
        " 'jhu-usc.edu_LUAD.HumanMethylation450.Level_1.15.4.0.tar.gz',\n",
        " 'jhu-usc.edu_LUAD.HumanMethylation450.Level_1.15.5.0.tar.gz',\n",
        " 'jhu-usc.edu_LUAD.HumanMethylation450.Level_1.15.6.0.tar.gz',\n",
        " 'jhu-usc.edu_LUAD.HumanMethylation450.Level_1.15.7.0.tar.gz',\n",
        " 'jhu-usc.edu_LUAD.HumanMethylation450.Level_1.15.8.0.tar.gz',\n",
        " 'jhu-usc.edu_LUAD.HumanMethylation450.Level_1.16.5.0.tar.gz',\n",
        " 'jhu-usc.edu_LUAD.HumanMethylation450.Level_1.16.6.0.tar.gz',\n",
        " 'jhu-usc.edu_LUAD.HumanMethylation450.Level_1.16.7.0.tar.gz',\n",
        " 'jhu-usc.edu_LUAD.HumanMethylation450.Level_1.16.8.0.tar.gz',\n",
        " 'jhu-usc.edu_LUAD.HumanMethylation450.Level_1.17.5.0.tar.gz',\n",
        " 'jhu-usc.edu_LUAD.HumanMethylation450.Level_1.17.6.0.tar.gz',\n",
        " 'jhu-usc.edu_LUAD.HumanMethylation450.Level_1.17.7.0.tar.gz',\n",
        " 'jhu-usc.edu_LUAD.HumanMethylation450.Level_1.17.8.0.tar.gz',\n",
        " 'jhu-usc.edu_LUAD.HumanMethylation450.Level_1.18.6.0.tar.gz',\n",
        " 'jhu-usc.edu_LUAD.HumanMethylation450.Level_1.18.7.0.tar.gz',\n",
        " 'jhu-usc.edu_LUAD.HumanMethylation450.Level_1.18.8.0.tar.gz',\n",
        " 'jhu-usc.edu_LUAD.HumanMethylation450.Level_1.19.8.0.tar.gz',\n",
        " 'jhu-usc.edu_LUAD.HumanMethylation450.Level_1.2.0.0.tar.gz',\n",
        " 'jhu-usc.edu_LUAD.HumanMethylation450.Level_1.2.1.0.tar.gz',\n",
        " 'jhu-usc.edu_LUAD.HumanMethylation450.Level_1.2.2.0.tar.gz',\n",
        " 'jhu-usc.edu_LUAD.HumanMethylation450.Level_1.2.3.0.tar.gz',\n",
        " 'jhu-usc.edu_LUAD.HumanMethylation450.Level_1.2.4.0.tar.gz',\n",
        " 'jhu-usc.edu_LUAD.HumanMethylation450.Level_1.2.5.0.tar.gz',\n",
        " 'jhu-usc.edu_LUAD.HumanMethylation450.Level_1.2.6.0.tar.gz',\n",
        " 'jhu-usc.edu_LUAD.HumanMethylation450.Level_1.2.7.0.tar.gz',\n",
        " 'jhu-usc.edu_LUAD.HumanMethylation450.Level_1.2.8.0.tar.gz',\n",
        " 'jhu-usc.edu_LUAD.HumanMethylation450.Level_1.3.0.0.tar.gz',\n",
        " 'jhu-usc.edu_LUAD.HumanMethylation450.Level_1.3.1.0.tar.gz',\n",
        " 'jhu-usc.edu_LUAD.HumanMethylation450.Level_1.3.2.0.tar.gz',\n",
        " 'jhu-usc.edu_LUAD.HumanMethylation450.Level_1.3.3.0.tar.gz',\n",
        " 'jhu-usc.edu_LUAD.HumanMethylation450.Level_1.3.4.0.tar.gz',\n",
        " 'jhu-usc.edu_LUAD.HumanMethylation450.Level_1.3.5.0.tar.gz',\n",
        " 'jhu-usc.edu_LUAD.HumanMethylation450.Level_1.3.6.0.tar.gz',\n",
        " 'jhu-usc.edu_LUAD.HumanMethylation450.Level_1.3.7.0.tar.gz',\n",
        " 'jhu-usc.edu_LUAD.HumanMethylation450.Level_1.3.8.0.tar.gz',\n",
        " 'jhu-usc.edu_LUAD.HumanMethylation450.Level_1.4.0.0.tar.gz',\n",
        " 'jhu-usc.edu_LUAD.HumanMethylation450.Level_1.4.1.0.tar.gz',\n",
        " 'jhu-usc.edu_LUAD.HumanMethylation450.Level_1.4.2.0.tar.gz',\n",
        " 'jhu-usc.edu_LUAD.HumanMethylation450.Level_1.4.3.0.tar.gz',\n",
        " 'jhu-usc.edu_LUAD.HumanMethylation450.Level_1.4.4.0.tar.gz',\n",
        " 'jhu-usc.edu_LUAD.HumanMethylation450.Level_1.4.5.0.tar.gz',\n",
        " 'jhu-usc.edu_LUAD.HumanMethylation450.Level_1.4.6.0.tar.gz',\n",
        " 'jhu-usc.edu_LUAD.HumanMethylation450.Level_1.4.7.0.tar.gz',\n",
        " 'jhu-usc.edu_LUAD.HumanMethylation450.Level_1.4.8.0.tar.gz',\n",
        " 'jhu-usc.edu_LUAD.HumanMethylation450.Level_1.5.0.0.tar.gz',\n",
        " 'jhu-usc.edu_LUAD.HumanMethylation450.Level_1.5.1.0.tar.gz',\n",
        " 'jhu-usc.edu_LUAD.HumanMethylation450.Level_1.5.2.0.tar.gz',\n",
        " 'jhu-usc.edu_LUAD.HumanMethylation450.Level_1.5.3.0.tar.gz',\n",
        " 'jhu-usc.edu_LUAD.HumanMethylation450.Level_1.5.4.0.tar.gz',\n",
        " 'jhu-usc.edu_LUAD.HumanMethylation450.Level_1.5.5.0.tar.gz',\n",
        " 'jhu-usc.edu_LUAD.HumanMethylation450.Level_1.5.6.0.tar.gz',\n",
        " 'jhu-usc.edu_LUAD.HumanMethylation450.Level_1.5.7.0.tar.gz',\n",
        " 'jhu-usc.edu_LUAD.HumanMethylation450.Level_1.5.8.0.tar.gz',\n",
        " 'jhu-usc.edu_LUAD.HumanMethylation450.Level_1.6.0.0.tar.gz',\n",
        " 'jhu-usc.edu_LUAD.HumanMethylation450.Level_1.6.1.0.tar.gz',\n",
        " 'jhu-usc.edu_LUAD.HumanMethylation450.Level_1.6.2.0.tar.gz',\n",
        " 'jhu-usc.edu_LUAD.HumanMethylation450.Level_1.6.3.0.tar.gz',\n",
        " 'jhu-usc.edu_LUAD.HumanMethylation450.Level_1.6.4.0.tar.gz',\n",
        " 'jhu-usc.edu_LUAD.HumanMethylation450.Level_1.6.5.0.tar.gz',\n",
        " 'jhu-usc.edu_LUAD.HumanMethylation450.Level_1.6.6.0.tar.gz',\n",
        " 'jhu-usc.edu_LUAD.HumanMethylation450.Level_1.6.7.0.tar.gz',\n",
        " 'jhu-usc.edu_LUAD.HumanMethylation450.Level_1.6.8.0.tar.gz',\n",
        " 'jhu-usc.edu_LUAD.HumanMethylation450.Level_1.7.0.0.tar.gz',\n",
        " 'jhu-usc.edu_LUAD.HumanMethylation450.Level_1.7.1.0.tar.gz',\n",
        " 'jhu-usc.edu_LUAD.HumanMethylation450.Level_1.7.2.0.tar.gz',\n",
        " 'jhu-usc.edu_LUAD.HumanMethylation450.Level_1.7.3.0.tar.gz',\n",
        " 'jhu-usc.edu_LUAD.HumanMethylation450.Level_1.7.4.0.tar.gz',\n",
        " 'jhu-usc.edu_LUAD.HumanMethylation450.Level_1.7.5.0.tar.gz',\n",
        " 'jhu-usc.edu_LUAD.HumanMethylation450.Level_1.7.6.0.tar.gz',\n",
        " 'jhu-usc.edu_LUAD.HumanMethylation450.Level_1.7.7.0.tar.gz',\n",
        " 'jhu-usc.edu_LUAD.HumanMethylation450.Level_1.7.8.0.tar.gz',\n",
        " 'jhu-usc.edu_LUAD.HumanMethylation450.Level_1.8.1.0.tar.gz',\n",
        " 'jhu-usc.edu_LUAD.HumanMethylation450.Level_1.8.2.0.tar.gz',\n",
        " 'jhu-usc.edu_LUAD.HumanMethylation450.Level_1.8.3.0.tar.gz',\n",
        " 'jhu-usc.edu_LUAD.HumanMethylation450.Level_1.8.4.0.tar.gz',\n",
        " 'jhu-usc.edu_LUAD.HumanMethylation450.Level_1.8.5.0.tar.gz',\n",
        " 'jhu-usc.edu_LUAD.HumanMethylation450.Level_1.8.6.0.tar.gz',\n",
        " 'jhu-usc.edu_LUAD.HumanMethylation450.Level_1.8.7.0.tar.gz',\n",
        " 'jhu-usc.edu_LUAD.HumanMethylation450.Level_1.8.8.0.tar.gz',\n",
        " 'jhu-usc.edu_LUAD.HumanMethylation450.Level_1.9.2.0.tar.gz',\n",
        " 'jhu-usc.edu_LUAD.HumanMethylation450.Level_1.9.3.0.tar.gz',\n",
        " 'jhu-usc.edu_LUAD.HumanMethylation450.Level_1.9.4.0.tar.gz',\n",
        " 'jhu-usc.edu_LUAD.HumanMethylation450.Level_1.9.5.0.tar.gz',\n",
        " 'jhu-usc.edu_LUAD.HumanMethylation450.Level_1.9.6.0.tar.gz',\n",
        " 'jhu-usc.edu_LUAD.HumanMethylation450.Level_1.9.7.0.tar.gz',\n",
        " 'jhu-usc.edu_LUAD.HumanMethylation450.Level_1.9.8.0.tar.gz']"
       ]
      }
     ],
     "prompt_number": 37
    },
    {
     "cell_type": "markdown",
     "metadata": {},
     "source": [
      "* one way to get files?"
     ]
    },
    {
     "cell_type": "code",
     "collapsed": false,
     "input": [
      "os.system('tar -xvf {}'.format(download_file)\n",
      "#os.system(\"wget {          }\".)\n",
      "#os.system('tar -xvf {}'.format(download_file)       "
     ],
     "language": "python",
     "metadata": {},
     "outputs": [
      {
       "ename": "SyntaxError",
       "evalue": "invalid syntax (<ipython-input-23-883e0f8cd350>, line 3)",
       "output_type": "pyerr",
       "traceback": [
        "\u001b[1;36m  File \u001b[1;32m\"<ipython-input-23-883e0f8cd350>\"\u001b[1;36m, line \u001b[1;32m3\u001b[0m\n\u001b[1;33m    #os.system('tar -xvf {}'.format(download_file)\u001b[0m\n\u001b[1;37m                                                         ^\u001b[0m\n\u001b[1;31mSyntaxError\u001b[0m\u001b[1;31m:\u001b[0m invalid syntax\n"
       ]
      }
     ],
     "prompt_number": 23
    },
    {
     "cell_type": "code",
     "collapsed": false,
     "input": [
      "os.system(\"wget {url + download_file}\")"
     ],
     "language": "python",
     "metadata": {},
     "outputs": [
      {
       "metadata": {},
       "output_type": "pyout",
       "prompt_number": 27,
       "text": [
        "1024"
       ]
      }
     ],
     "prompt_number": 27
    },
    {
     "cell_type": "code",
     "collapsed": false,
     "input": [
      "os.system('tar -xvf {}'.format(download_file))"
     ],
     "language": "python",
     "metadata": {},
     "outputs": [
      {
       "metadata": {},
       "output_type": "pyout",
       "prompt_number": 28,
       "text": [
        "512"
       ]
      }
     ],
     "prompt_number": 28
    },
    {
     "cell_type": "code",
     "collapsed": false,
     "input": [
      "ls"
     ],
     "language": "python",
     "metadata": {},
     "outputs": [
      {
       "output_type": "stream",
       "stream": "stdout",
       "text": [
        "\u001b[0m\u001b[01;34mBLCA_Meth_Data\u001b[0m/  \u001b[01;34mNotebook\u001b[0m/\r\n",
        "\u001b[01;34mBRCA_Meth_Data\u001b[0m/  \u001b[01;34mtcga-data.nci.nih.gov\u001b[0m/\r\n",
        "\u001b[01;34mCESC_Meth_Data\u001b[0m/  TCGA Methylation Data Code Tries.ipynb\r\n",
        "filess           TCGA Methylation Data-Different Real.ipynb\r\n",
        "filess~          TCGA Methylation Data OG.ipynb\r\n",
        "\u001b[01;34mHNSC_Meth_Data\u001b[0m/  TCGA Methylation Data-RealTry-Indivdownload.ipynb\r\n",
        "\u001b[01;34mJustinCase\u001b[0m/      tmp.html\r\n",
        "\u001b[01;34mMethyl\u001b[0m/\r\n"
       ]
      }
     ],
     "prompt_number": 11
    },
    {
     "cell_type": "markdown",
     "metadata": {},
     "source": [
      "<b> Download and Unzip tar.gz files </b>"
     ]
    },
    {
     "cell_type": "code",
     "collapsed": false,
     "input": [
      "for i, download_file in enumerate(links):\n",
      "    print \"Downloading file {}\".format(i + 1)\n",
      "    response = urllib2.urlopen(url + download_file)\n",
      "    compressedFile = StringIO.StringIO()\n",
      "    compressedFile.write(response.read())\n",
      "    compressedFile.seek(0)\n",
      "    decompressedFile = gzip.GzipFile(fileobj=compressedFile, mode='rb')\n",
      "    \n",
      "    with open(download_file.replace(\".gz\", \"\"), 'w') as datapath:\n",
      "        datapath.write(decompressedFile.read())"
     ],
     "language": "python",
     "metadata": {},
     "outputs": [
      {
       "output_type": "stream",
       "stream": "stdout",
       "text": [
        "Downloading file 1\n",
        "Downloading file 2"
       ]
      }
     ]
    },
    {
     "cell_type": "markdown",
     "metadata": {},
     "source": [
      "<b>Extract Tar Archive Using Command Line Function</b>"
     ]
    },
    {
     "cell_type": "code",
     "collapsed": false,
     "input": [
      "ls"
     ],
     "language": "python",
     "metadata": {},
     "outputs": [
      {
       "output_type": "stream",
       "stream": "stdout",
       "text": [
        "Example.ipynb\r\n",
        "fdsfdsd.tar\r\n",
        "Imports.ipynb\r\n",
        "Index.ipynb\r\n",
        "\u001b[0m\u001b[01;34mjhu-usc.edu_HNSC.HumanMethylation450.Level_1.1.0.0\u001b[0m/\r\n",
        "jhu-usc.edu_HNSC.HumanMethylation450.Level_1.1.0.0.tar\r\n",
        "jhu-usc.edu_HNSC.HumanMethylation450.Level_1.10.3.0.tar\r\n",
        "jhu-usc.edu_HNSC.HumanMethylation450.Level_1.10.4.0.tar\r\n",
        "jhu-usc.edu_HNSC.HumanMethylation450.Level_1.10.5.0.tar\r\n",
        "jhu-usc.edu_HNSC.HumanMethylation450.Level_1.10.6.0.tar\r\n",
        "jhu-usc.edu_HNSC.HumanMethylation450.Level_1.10.7.0.tar\r\n",
        "jhu-usc.edu_HNSC.HumanMethylation450.Level_1.10.8.0.tar\r\n",
        "jhu-usc.edu_HNSC.HumanMethylation450.Level_1.1.1.0.tar\r\n",
        "jhu-usc.edu_HNSC.HumanMethylation450.Level_1.11.3.0.tar\r\n",
        "jhu-usc.edu_HNSC.HumanMethylation450.Level_1.11.4.0.tar\r\n",
        "jhu-usc.edu_HNSC.HumanMethylation450.Level_1.11.5.0.tar\r\n",
        "jhu-usc.edu_HNSC.HumanMethylation450.Level_1.11.6.0.tar\r\n",
        "jhu-usc.edu_HNSC.HumanMethylation450.Level_1.11.7.0.tar\r\n",
        "jhu-usc.edu_HNSC.HumanMethylation450.Level_1.11.8.0.tar\r\n",
        "jhu-usc.edu_HNSC.HumanMethylation450.Level_1.1.2.0.tar\r\n",
        "jhu-usc.edu_HNSC.HumanMethylation450.Level_1.12.3.0.tar\r\n",
        "jhu-usc.edu_HNSC.HumanMethylation450.Level_1.12.4.0.tar\r\n",
        "jhu-usc.edu_HNSC.HumanMethylation450.Level_1.12.5.0.tar\r\n",
        "jhu-usc.edu_HNSC.HumanMethylation450.Level_1.12.6.0.tar\r\n",
        "jhu-usc.edu_HNSC.HumanMethylation450.Level_1.12.7.0.tar\r\n",
        "jhu-usc.edu_HNSC.HumanMethylation450.Level_1.12.8.0.tar\r\n",
        "jhu-usc.edu_HNSC.HumanMethylation450.Level_1.1.3.0.tar\r\n",
        "jhu-usc.edu_HNSC.HumanMethylation450.Level_1.13.3.0.tar\r\n",
        "jhu-usc.edu_HNSC.HumanMethylation450.Level_1.13.4.0.tar\r\n",
        "jhu-usc.edu_HNSC.HumanMethylation450.Level_1.13.5.0.tar\r\n",
        "jhu-usc.edu_HNSC.HumanMethylation450.Level_1.13.6.0.tar\r\n",
        "jhu-usc.edu_HNSC.HumanMethylation450.Level_1.13.7.0.tar\r\n",
        "jhu-usc.edu_HNSC.HumanMethylation450.Level_1.13.8.0.tar\r\n",
        "jhu-usc.edu_HNSC.HumanMethylation450.Level_1.1.4.0.tar\r\n",
        "jhu-usc.edu_HNSC.HumanMethylation450.Level_1.14.4.0.tar\r\n",
        "jhu-usc.edu_HNSC.HumanMethylation450.Level_1.14.5.0.tar\r\n",
        "jhu-usc.edu_HNSC.HumanMethylation450.Level_1.14.6.0.tar\r\n",
        "jhu-usc.edu_HNSC.HumanMethylation450.Level_1.14.7.0.tar\r\n",
        "jhu-usc.edu_HNSC.HumanMethylation450.Level_1.14.8.0.tar\r\n",
        "jhu-usc.edu_HNSC.HumanMethylation450.Level_1.1.5.0.tar\r\n",
        "jhu-usc.edu_HNSC.HumanMethylation450.Level_1.15.4.0.tar\r\n",
        "jhu-usc.edu_HNSC.HumanMethylation450.Level_1.15.5.0.tar\r\n",
        "jhu-usc.edu_HNSC.HumanMethylation450.Level_1.15.6.0.tar\r\n",
        "jhu-usc.edu_HNSC.HumanMethylation450.Level_1.15.7.0.tar\r\n",
        "jhu-usc.edu_HNSC.HumanMethylation450.Level_1.15.8.0.tar\r\n",
        "jhu-usc.edu_HNSC.HumanMethylation450.Level_1.1.6.0.tar\r\n",
        "jhu-usc.edu_HNSC.HumanMethylation450.Level_1.16.5.0.tar\r\n",
        "jhu-usc.edu_HNSC.HumanMethylation450.Level_1.16.6.0.tar\r\n",
        "jhu-usc.edu_HNSC.HumanMethylation450.Level_1.16.7.0.tar\r\n",
        "jhu-usc.edu_HNSC.HumanMethylation450.Level_1.16.8.0.tar\r\n",
        "jhu-usc.edu_HNSC.HumanMethylation450.Level_1.1.7.0.tar\r\n",
        "jhu-usc.edu_HNSC.HumanMethylation450.Level_1.17.6.0.tar\r\n",
        "jhu-usc.edu_HNSC.HumanMethylation450.Level_1.17.7.0.tar\r\n",
        "jhu-usc.edu_HNSC.HumanMethylation450.Level_1.17.8.0.tar\r\n",
        "jhu-usc.edu_HNSC.HumanMethylation450.Level_1.1.8.0.tar\r\n",
        "jhu-usc.edu_HNSC.HumanMethylation450.Level_1.18.7.0.tar\r\n",
        "jhu-usc.edu_HNSC.HumanMethylation450.Level_1.18.8.0.tar\r\n",
        "jhu-usc.edu_HNSC.HumanMethylation450.Level_1.2.0.0.tar\r\n",
        "jhu-usc.edu_HNSC.HumanMethylation450.Level_1.2.1.0.tar\r\n",
        "jhu-usc.edu_HNSC.HumanMethylation450.Level_1.2.2.0.tar\r\n",
        "jhu-usc.edu_HNSC.HumanMethylation450.Level_1.2.3.0.tar\r\n",
        "jhu-usc.edu_HNSC.HumanMethylation450.Level_1.2.4.0.tar\r\n",
        "jhu-usc.edu_HNSC.HumanMethylation450.Level_1.2.5.0.tar\r\n",
        "jhu-usc.edu_HNSC.HumanMethylation450.Level_1.2.6.0.tar\r\n",
        "jhu-usc.edu_HNSC.HumanMethylation450.Level_1.2.7.0.tar\r\n",
        "jhu-usc.edu_HNSC.HumanMethylation450.Level_1.2.8.0.tar\r\n",
        "jhu-usc.edu_HNSC.HumanMethylation450.Level_1.3.0.0.tar\r\n",
        "jhu-usc.edu_HNSC.HumanMethylation450.Level_1.3.1.0.tar\r\n",
        "jhu-usc.edu_HNSC.HumanMethylation450.Level_1.3.2.0.tar\r\n",
        "jhu-usc.edu_HNSC.HumanMethylation450.Level_1.3.3.0.tar\r\n",
        "jhu-usc.edu_HNSC.HumanMethylation450.Level_1.3.4.0.tar\r\n",
        "jhu-usc.edu_HNSC.HumanMethylation450.Level_1.3.5.0.tar\r\n",
        "jhu-usc.edu_HNSC.HumanMethylation450.Level_1.3.6.0.tar\r\n",
        "jhu-usc.edu_HNSC.HumanMethylation450.Level_1.3.7.0.tar\r\n",
        "jhu-usc.edu_HNSC.HumanMethylation450.Level_1.3.8.0.tar\r\n",
        "jhu-usc.edu_HNSC.HumanMethylation450.Level_1.4.0.0.tar\r\n",
        "jhu-usc.edu_HNSC.HumanMethylation450.Level_1.4.1.0.tar\r\n",
        "jhu-usc.edu_HNSC.HumanMethylation450.Level_1.4.2.0.tar\r\n",
        "jhu-usc.edu_HNSC.HumanMethylation450.Level_1.4.3.0.tar\r\n",
        "jhu-usc.edu_HNSC.HumanMethylation450.Level_1.4.4.0.tar\r\n",
        "jhu-usc.edu_HNSC.HumanMethylation450.Level_1.4.5.0.tar\r\n",
        "jhu-usc.edu_HNSC.HumanMethylation450.Level_1.4.6.0.tar\r\n",
        "jhu-usc.edu_HNSC.HumanMethylation450.Level_1.4.7.0.tar\r\n",
        "jhu-usc.edu_HNSC.HumanMethylation450.Level_1.4.8.0.tar\r\n",
        "jhu-usc.edu_HNSC.HumanMethylation450.Level_1.5.0.0.tar\r\n",
        "jhu-usc.edu_HNSC.HumanMethylation450.Level_1.5.1.0.tar\r\n",
        "jhu-usc.edu_HNSC.HumanMethylation450.Level_1.5.2.0.tar\r\n",
        "jhu-usc.edu_HNSC.HumanMethylation450.Level_1.5.3.0.tar\r\n",
        "jhu-usc.edu_HNSC.HumanMethylation450.Level_1.5.4.0.tar\r\n",
        "jhu-usc.edu_HNSC.HumanMethylation450.Level_1.5.5.0.tar\r\n",
        "jhu-usc.edu_HNSC.HumanMethylation450.Level_1.5.6.0.tar\r\n",
        "jhu-usc.edu_HNSC.HumanMethylation450.Level_1.5.7.0.tar\r\n",
        "jhu-usc.edu_HNSC.HumanMethylation450.Level_1.5.8.0.tar\r\n",
        "jhu-usc.edu_HNSC.HumanMethylation450.Level_1.6.0.0.tar\r\n",
        "jhu-usc.edu_HNSC.HumanMethylation450.Level_1.6.1.0.tar\r\n",
        "jhu-usc.edu_HNSC.HumanMethylation450.Level_1.6.2.0.tar\r\n",
        "jhu-usc.edu_HNSC.HumanMethylation450.Level_1.6.3.0.tar\r\n",
        "\u001b[01;34mJustinCase\u001b[0m/\r\n",
        "\u001b[01;34mMethyl\u001b[0m/\r\n",
        "\u001b[01;34mNotebook\u001b[0m/\r\n",
        "\u001b[01;34mtcga-data.nci.nih.gov\u001b[0m/\r\n",
        "TCGA Methylation Data-1?.ipynb\r\n",
        "TCGA Methylation Data 2.ipynb\r\n",
        "TCGA Methylation Data-Copy0.ipynb\r\n",
        "TCGA Methylation Data-First File Zipped.ipynb\r\n",
        "TCGA Methylation Data.ipynb\r\n",
        "TCGA Methylation Data-New TRy-Copy0.ipynb\r\n",
        "TCGA Methylation Data-New TRy.ipynb\r\n",
        "TCGA Methylation Data-RealTry-Copy0-Copy0.ipynb\r\n",
        "TCGA Methylation Data-RealTry-Copy0.ipynb\r\n",
        "TCGA Methylation Data-RealTry.ipynb\r\n",
        "TCGA Methylation Data-Works?.ipynb\r\n",
        "TCGA Methylation Data-Works Prob?.ipynb\r\n",
        "tmp.html\r\n",
        "Untitled0.ipynb\r\n",
        "Untitled1.ipynb\r\n",
        "Untitled2.ipynb\r\n"
       ]
      }
     ],
     "prompt_number": 1
    },
    {
     "cell_type": "code",
     "collapsed": false,
     "input": [
      "!tar -xvf jhu-usc.edu_HNSC.HumanMethylation450.Level_1.1.2.0.tar"
     ],
     "language": "python",
     "metadata": {},
     "outputs": [
      {
       "output_type": "stream",
       "stream": "stdout",
       "text": [
        "jhu-usc.edu_HNSC.HumanMethylation450.Level_1.1.2.0/6285650014_R01C01_Grn.idat\r\n"
       ]
      },
      {
       "output_type": "stream",
       "stream": "stdout",
       "text": [
        "jhu-usc.edu_HNSC.HumanMethylation450.Level_1.1.2.0/6285650014_R01C01_Red.idat\r\n"
       ]
      },
      {
       "output_type": "stream",
       "stream": "stdout",
       "text": [
        "jhu-usc.edu_HNSC.HumanMethylation450.Level_1.1.2.0/6285650014_R01C02_Grn.idat\r\n"
       ]
      },
      {
       "output_type": "stream",
       "stream": "stdout",
       "text": [
        "jhu-usc.edu_HNSC.HumanMethylation450.Level_1.1.2.0/6285650014_R01C02_Red.idat\r\n"
       ]
      },
      {
       "output_type": "stream",
       "stream": "stdout",
       "text": [
        "jhu-usc.edu_HNSC.HumanMethylation450.Level_1.1.2.0/6285650014_R02C01_Grn.idat\r\n"
       ]
      },
      {
       "output_type": "stream",
       "stream": "stdout",
       "text": [
        "jhu-usc.edu_HNSC.HumanMethylation450.Level_1.1.2.0/6285650014_R02C01_Red.idat\r\n"
       ]
      },
      {
       "output_type": "stream",
       "stream": "stdout",
       "text": [
        "jhu-usc.edu_HNSC.HumanMethylation450.Level_1.1.2.0/6285650014_R02C02_Grn.idat\r\n"
       ]
      },
      {
       "output_type": "stream",
       "stream": "stdout",
       "text": [
        "jhu-usc.edu_HNSC.HumanMethylation450.Level_1.1.2.0/6285650014_R02C02_Red.idat\r\n"
       ]
      },
      {
       "output_type": "stream",
       "stream": "stdout",
       "text": [
        "jhu-usc.edu_HNSC.HumanMethylation450.Level_1.1.2.0/6285650014_R03C01_Grn.idat\r\n"
       ]
      },
      {
       "output_type": "stream",
       "stream": "stdout",
       "text": [
        "jhu-usc.edu_HNSC.HumanMethylation450.Level_1.1.2.0/6285650014_R03C01_Red.idat\r\n"
       ]
      },
      {
       "output_type": "stream",
       "stream": "stdout",
       "text": [
        "jhu-usc.edu_HNSC.HumanMethylation450.Level_1.1.2.0/6285650014_R03C02_Grn.idat\r\n"
       ]
      },
      {
       "output_type": "stream",
       "stream": "stdout",
       "text": [
        "jhu-usc.edu_HNSC.HumanMethylation450.Level_1.1.2.0/6285650014_R03C02_Red.idat\r\n"
       ]
      },
      {
       "output_type": "stream",
       "stream": "stdout",
       "text": [
        "jhu-usc.edu_HNSC.HumanMethylation450.Level_1.1.2.0/6285650014_R04C01_Grn.idat\r\n"
       ]
      },
      {
       "output_type": "stream",
       "stream": "stdout",
       "text": [
        "jhu-usc.edu_HNSC.HumanMethylation450.Level_1.1.2.0/6285650014_R04C01_Red.idat\r\n"
       ]
      },
      {
       "output_type": "stream",
       "stream": "stdout",
       "text": [
        "jhu-usc.edu_HNSC.HumanMethylation450.Level_1.1.2.0/6285650014_R04C02_Grn.idat\r\n"
       ]
      },
      {
       "output_type": "stream",
       "stream": "stdout",
       "text": [
        "jhu-usc.edu_HNSC.HumanMethylation450.Level_1.1.2.0/6285650014_R04C02_Red.idat\r\n"
       ]
      },
      {
       "output_type": "stream",
       "stream": "stdout",
       "text": [
        "jhu-usc.edu_HNSC.HumanMethylation450.Level_1.1.2.0/6285650014_R05C01_Grn.idat\r\n"
       ]
      },
      {
       "output_type": "stream",
       "stream": "stdout",
       "text": [
        "jhu-usc.edu_HNSC.HumanMethylation450.Level_1.1.2.0/6285650014_R05C01_Red.idat\r\n"
       ]
      },
      {
       "output_type": "stream",
       "stream": "stdout",
       "text": [
        "jhu-usc.edu_HNSC.HumanMethylation450.Level_1.1.2.0/6285650014_R05C02_Grn.idat\r\n"
       ]
      },
      {
       "output_type": "stream",
       "stream": "stdout",
       "text": [
        "jhu-usc.edu_HNSC.HumanMethylation450.Level_1.1.2.0/6285650014_R05C02_Red.idat\r\n"
       ]
      },
      {
       "output_type": "stream",
       "stream": "stdout",
       "text": [
        "jhu-usc.edu_HNSC.HumanMethylation450.Level_1.1.2.0/6285650014_R06C01_Grn.idat\r\n"
       ]
      },
      {
       "output_type": "stream",
       "stream": "stdout",
       "text": [
        "jhu-usc.edu_HNSC.HumanMethylation450.Level_1.1.2.0/6285650014_R06C01_Red.idat\r\n"
       ]
      },
      {
       "output_type": "stream",
       "stream": "stdout",
       "text": [
        "jhu-usc.edu_HNSC.HumanMethylation450.Level_1.1.2.0/6285650014_R06C02_Grn.idat\r\n"
       ]
      },
      {
       "output_type": "stream",
       "stream": "stdout",
       "text": [
        "jhu-usc.edu_HNSC.HumanMethylation450.Level_1.1.2.0/6285650014_R06C02_Red.idat\r\n"
       ]
      },
      {
       "output_type": "stream",
       "stream": "stdout",
       "text": [
        "jhu-usc.edu_HNSC.HumanMethylation450.Level_1.1.2.0/6285650015_R01C01_Grn.idat\r\n"
       ]
      },
      {
       "output_type": "stream",
       "stream": "stdout",
       "text": [
        "jhu-usc.edu_HNSC.HumanMethylation450.Level_1.1.2.0/6285650015_R01C01_Red.idat\r\n"
       ]
      },
      {
       "output_type": "stream",
       "stream": "stdout",
       "text": [
        "jhu-usc.edu_HNSC.HumanMethylation450.Level_1.1.2.0/6285650015_R01C02_Grn.idat\r\n"
       ]
      },
      {
       "output_type": "stream",
       "stream": "stdout",
       "text": [
        "jhu-usc.edu_HNSC.HumanMethylation450.Level_1.1.2.0/6285650015_R01C02_Red.idat\r\n"
       ]
      },
      {
       "output_type": "stream",
       "stream": "stdout",
       "text": [
        "jhu-usc.edu_HNSC.HumanMethylation450.Level_1.1.2.0/6285650015_R02C01_Grn.idat\r\n"
       ]
      },
      {
       "output_type": "stream",
       "stream": "stdout",
       "text": [
        "jhu-usc.edu_HNSC.HumanMethylation450.Level_1.1.2.0/6285650015_R02C01_Red.idat\r\n"
       ]
      },
      {
       "output_type": "stream",
       "stream": "stdout",
       "text": [
        "jhu-usc.edu_HNSC.HumanMethylation450.Level_1.1.2.0/6285650015_R02C02_Grn.idat\r\n"
       ]
      },
      {
       "output_type": "stream",
       "stream": "stdout",
       "text": [
        "jhu-usc.edu_HNSC.HumanMethylation450.Level_1.1.2.0/6285650015_R02C02_Red.idat\r\n"
       ]
      },
      {
       "output_type": "stream",
       "stream": "stdout",
       "text": [
        "jhu-usc.edu_HNSC.HumanMethylation450.Level_1.1.2.0/6285650015_R03C01_Grn.idat\r\n"
       ]
      },
      {
       "output_type": "stream",
       "stream": "stdout",
       "text": [
        "jhu-usc.edu_HNSC.HumanMethylation450.Level_1.1.2.0/6285650015_R03C01_Red.idat\r\n"
       ]
      },
      {
       "output_type": "stream",
       "stream": "stdout",
       "text": [
        "jhu-usc.edu_HNSC.HumanMethylation450.Level_1.1.2.0/6285650015_R03C02_Grn.idat\r\n"
       ]
      },
      {
       "output_type": "stream",
       "stream": "stdout",
       "text": [
        "jhu-usc.edu_HNSC.HumanMethylation450.Level_1.1.2.0/6285650015_R03C02_Red.idat\r\n"
       ]
      },
      {
       "output_type": "stream",
       "stream": "stdout",
       "text": [
        "jhu-usc.edu_HNSC.HumanMethylation450.Level_1.1.2.0/6285650015_R04C01_Grn.idat\r\n"
       ]
      },
      {
       "output_type": "stream",
       "stream": "stdout",
       "text": [
        "jhu-usc.edu_HNSC.HumanMethylation450.Level_1.1.2.0/6285650015_R04C01_Red.idat\r\n"
       ]
      },
      {
       "output_type": "stream",
       "stream": "stdout",
       "text": [
        "jhu-usc.edu_HNSC.HumanMethylation450.Level_1.1.2.0/6285650015_R04C02_Grn.idat\r\n"
       ]
      },
      {
       "output_type": "stream",
       "stream": "stdout",
       "text": [
        "jhu-usc.edu_HNSC.HumanMethylation450.Level_1.1.2.0/6285650015_R04C02_Red.idat\r\n"
       ]
      },
      {
       "output_type": "stream",
       "stream": "stdout",
       "text": [
        "jhu-usc.edu_HNSC.HumanMethylation450.Level_1.1.2.0/6285650015_R05C01_Grn.idat\r\n"
       ]
      },
      {
       "output_type": "stream",
       "stream": "stdout",
       "text": [
        "jhu-usc.edu_HNSC.HumanMethylation450.Level_1.1.2.0/6285650015_R05C01_Red.idat\r\n"
       ]
      },
      {
       "output_type": "stream",
       "stream": "stdout",
       "text": [
        "jhu-usc.edu_HNSC.HumanMethylation450.Level_1.1.2.0/6285650015_R05C02_Grn.idat\r\n"
       ]
      },
      {
       "output_type": "stream",
       "stream": "stdout",
       "text": [
        "jhu-usc.edu_HNSC.HumanMethylation450.Level_1.1.2.0/6285650015_R05C02_Red.idat\r\n"
       ]
      },
      {
       "output_type": "stream",
       "stream": "stdout",
       "text": [
        "jhu-usc.edu_HNSC.HumanMethylation450.Level_1.1.2.0/6285650015_R06C01_Grn.idat\r\n"
       ]
      },
      {
       "output_type": "stream",
       "stream": "stdout",
       "text": [
        "jhu-usc.edu_HNSC.HumanMethylation450.Level_1.1.2.0/6285650015_R06C01_Red.idat\r\n"
       ]
      },
      {
       "output_type": "stream",
       "stream": "stdout",
       "text": [
        "jhu-usc.edu_HNSC.HumanMethylation450.Level_1.1.2.0/6285650015_R06C02_Grn.idat\r\n"
       ]
      },
      {
       "output_type": "stream",
       "stream": "stdout",
       "text": [
        "jhu-usc.edu_HNSC.HumanMethylation450.Level_1.1.2.0/6285650015_R06C02_Red.idat\r\n"
       ]
      },
      {
       "output_type": "stream",
       "stream": "stdout",
       "text": [
        "jhu-usc.edu_HNSC.HumanMethylation450.Level_1.1.2.0/6285650016_R01C01_Grn.idat\r\n"
       ]
      },
      {
       "output_type": "stream",
       "stream": "stdout",
       "text": [
        "jhu-usc.edu_HNSC.HumanMethylation450.Level_1.1.2.0/6285650016_R01C01_Red.idat\r\n"
       ]
      },
      {
       "output_type": "stream",
       "stream": "stdout",
       "text": [
        "jhu-usc.edu_HNSC.HumanMethylation450.Level_1.1.2.0/6285650016_R02C01_Grn.idat\r\n"
       ]
      },
      {
       "output_type": "stream",
       "stream": "stdout",
       "text": [
        "jhu-usc.edu_HNSC.HumanMethylation450.Level_1.1.2.0/6285650016_R02C01_Red.idat\r\n"
       ]
      },
      {
       "output_type": "stream",
       "stream": "stdout",
       "text": [
        "jhu-usc.edu_HNSC.HumanMethylation450.Level_1.1.2.0/6285650016_R02C02_Grn.idat\r\n"
       ]
      },
      {
       "output_type": "stream",
       "stream": "stdout",
       "text": [
        "jhu-usc.edu_HNSC.HumanMethylation450.Level_1.1.2.0/6285650016_R02C02_Red.idat\r\n"
       ]
      },
      {
       "output_type": "stream",
       "stream": "stdout",
       "text": [
        "jhu-usc.edu_HNSC.HumanMethylation450.Level_1.1.2.0/6285650016_R03C01_Grn.idat\r\n"
       ]
      },
      {
       "output_type": "stream",
       "stream": "stdout",
       "text": [
        "jhu-usc.edu_HNSC.HumanMethylation450.Level_1.1.2.0/6285650016_R03C01_Red.idat\r\n"
       ]
      },
      {
       "output_type": "stream",
       "stream": "stdout",
       "text": [
        "jhu-usc.edu_HNSC.HumanMethylation450.Level_1.1.2.0/6285650016_R03C02_Grn.idat\r\n"
       ]
      },
      {
       "output_type": "stream",
       "stream": "stdout",
       "text": [
        "jhu-usc.edu_HNSC.HumanMethylation450.Level_1.1.2.0/6285650016_R03C02_Red.idat\r\n"
       ]
      },
      {
       "output_type": "stream",
       "stream": "stdout",
       "text": [
        "jhu-usc.edu_HNSC.HumanMethylation450.Level_1.1.2.0/6285650016_R04C01_Grn.idat\r\n"
       ]
      },
      {
       "output_type": "stream",
       "stream": "stdout",
       "text": [
        "jhu-usc.edu_HNSC.HumanMethylation450.Level_1.1.2.0/6285650016_R04C01_Red.idat\r\n"
       ]
      },
      {
       "output_type": "stream",
       "stream": "stdout",
       "text": [
        "jhu-usc.edu_HNSC.HumanMethylation450.Level_1.1.2.0/6285650016_R04C02_Grn.idat\r\n"
       ]
      },
      {
       "output_type": "stream",
       "stream": "stdout",
       "text": [
        "jhu-usc.edu_HNSC.HumanMethylation450.Level_1.1.2.0/6285650016_R04C02_Red.idat\r\n"
       ]
      },
      {
       "output_type": "stream",
       "stream": "stdout",
       "text": [
        "jhu-usc.edu_HNSC.HumanMethylation450.Level_1.1.2.0/6285650016_R05C02_Grn.idat\r\n"
       ]
      },
      {
       "output_type": "stream",
       "stream": "stdout",
       "text": [
        "jhu-usc.edu_HNSC.HumanMethylation450.Level_1.1.2.0/6285650016_R05C02_Red.idat\r\n"
       ]
      },
      {
       "output_type": "stream",
       "stream": "stdout",
       "text": [
        "jhu-usc.edu_HNSC.HumanMethylation450.Level_1.1.2.0/6285650016_R06C01_Grn.idat\r\n"
       ]
      },
      {
       "output_type": "stream",
       "stream": "stdout",
       "text": [
        "jhu-usc.edu_HNSC.HumanMethylation450.Level_1.1.2.0/6285650016_R06C01_Red.idat\r\n"
       ]
      },
      {
       "output_type": "stream",
       "stream": "stdout",
       "text": [
        "jhu-usc.edu_HNSC.HumanMethylation450.Level_1.1.2.0/6285650016_R06C02_Grn.idat\r\n"
       ]
      },
      {
       "output_type": "stream",
       "stream": "stdout",
       "text": [
        "jhu-usc.edu_HNSC.HumanMethylation450.Level_1.1.2.0/6285650016_R06C02_Red.idat\r\n"
       ]
      },
      {
       "output_type": "stream",
       "stream": "stdout",
       "text": [
        "jhu-usc.edu_HNSC.HumanMethylation450.Level_1.1.2.0/6285650023_R01C01_Grn.idat\r\n"
       ]
      },
      {
       "output_type": "stream",
       "stream": "stdout",
       "text": [
        "jhu-usc.edu_HNSC.HumanMethylation450.Level_1.1.2.0/6285650023_R01C01_Red.idat\r\n"
       ]
      },
      {
       "output_type": "stream",
       "stream": "stdout",
       "text": [
        "jhu-usc.edu_HNSC.HumanMethylation450.Level_1.1.2.0/6285650023_R02C01_Grn.idat\r\n"
       ]
      },
      {
       "output_type": "stream",
       "stream": "stdout",
       "text": [
        "jhu-usc.edu_HNSC.HumanMethylation450.Level_1.1.2.0/6285650023_R02C01_Red.idat\r\n"
       ]
      },
      {
       "output_type": "stream",
       "stream": "stdout",
       "text": [
        "jhu-usc.edu_HNSC.HumanMethylation450.Level_1.1.2.0/6285650023_R03C01_Grn.idat\r\n"
       ]
      },
      {
       "output_type": "stream",
       "stream": "stdout",
       "text": [
        "jhu-usc.edu_HNSC.HumanMethylation450.Level_1.1.2.0/6285650023_R03C01_Red.idat\r\n"
       ]
      },
      {
       "output_type": "stream",
       "stream": "stdout",
       "text": [
        "jhu-usc.edu_HNSC.HumanMethylation450.Level_1.1.2.0/6285650023_R04C01_Grn.idat\r\n"
       ]
      },
      {
       "output_type": "stream",
       "stream": "stdout",
       "text": [
        "jhu-usc.edu_HNSC.HumanMethylation450.Level_1.1.2.0/6285650023_R04C01_Red.idat\r\n"
       ]
      },
      {
       "output_type": "stream",
       "stream": "stdout",
       "text": [
        "jhu-usc.edu_HNSC.HumanMethylation450.Level_1.1.2.0/6929671086_R01C01_Grn.idat\r\n"
       ]
      },
      {
       "output_type": "stream",
       "stream": "stdout",
       "text": [
        "jhu-usc.edu_HNSC.HumanMethylation450.Level_1.1.2.0/6929671086_R01C01_Red.idat\r\n"
       ]
      },
      {
       "output_type": "stream",
       "stream": "stdout",
       "text": [
        "jhu-usc.edu_HNSC.HumanMethylation450.Level_1.1.2.0/6929671086_R02C01_Grn.idat\r\n"
       ]
      },
      {
       "output_type": "stream",
       "stream": "stdout",
       "text": [
        "jhu-usc.edu_HNSC.HumanMethylation450.Level_1.1.2.0/6929671086_R02C01_Red.idat\r\n"
       ]
      },
      {
       "output_type": "stream",
       "stream": "stdout",
       "text": [
        "jhu-usc.edu_HNSC.HumanMethylation450.Level_1.1.2.0/CHANGES_DCC.txt\r\n",
        "jhu-usc.edu_HNSC.HumanMethylation450.Level_1.1.2.0/README_DCC.txt\r\n",
        "jhu-usc.edu_HNSC.HumanMethylation450.Level_1.1.2.0/MANIFEST.txt\r\n"
       ]
      }
     ],
     "prompt_number": 4
    },
    {
     "cell_type": "markdown",
     "metadata": {},
     "source": [
      "<b>Get MD5 Links:</b>"
     ]
    },
    {
     "cell_type": "code",
     "collapsed": false,
     "input": [
      "def getmd5():\n",
      "    md5links = [md5link.get('href') for md5link in soup.find_all('a')\n",
      "                if md5link.get('href') != None and '1.1.'\n",
      "                and 'tar.gz.md5' in md5link.get('href')]\n",
      "    for i in md5links:\n",
      "        print i"
     ],
     "language": "python",
     "metadata": {},
     "outputs": [],
     "prompt_number": 10
    },
    {
     "cell_type": "code",
     "collapsed": false,
     "input": [
      "md5files = getmd5()\n",
      "md5files"
     ],
     "language": "python",
     "metadata": {},
     "outputs": [
      {
       "output_type": "stream",
       "stream": "stdout",
       "text": [
        "jhu-usc.edu_HNSC.HumanMethylation450.Level_1.1.0.0.tar.gz.md5\n",
        "jhu-usc.edu_HNSC.HumanMethylation450.Level_1.1.1.0.tar.gz.md5\n",
        "jhu-usc.edu_HNSC.HumanMethylation450.Level_1.1.2.0.tar.gz.md5\n",
        "jhu-usc.edu_HNSC.HumanMethylation450.Level_1.1.3.0.tar.gz.md5\n",
        "jhu-usc.edu_HNSC.HumanMethylation450.Level_1.1.4.0.tar.gz.md5\n",
        "jhu-usc.edu_HNSC.HumanMethylation450.Level_1.1.5.0.tar.gz.md5\n",
        "jhu-usc.edu_HNSC.HumanMethylation450.Level_1.1.6.0.tar.gz.md5\n",
        "jhu-usc.edu_HNSC.HumanMethylation450.Level_1.1.7.0.tar.gz.md5\n",
        "jhu-usc.edu_HNSC.HumanMethylation450.Level_1.1.8.0.tar.gz.md5\n",
        "jhu-usc.edu_HNSC.HumanMethylation450.Level_1.10.3.0.tar.gz.md5\n",
        "jhu-usc.edu_HNSC.HumanMethylation450.Level_1.10.4.0.tar.gz.md5\n",
        "jhu-usc.edu_HNSC.HumanMethylation450.Level_1.10.5.0.tar.gz.md5\n",
        "jhu-usc.edu_HNSC.HumanMethylation450.Level_1.10.6.0.tar.gz.md5\n",
        "jhu-usc.edu_HNSC.HumanMethylation450.Level_1.10.7.0.tar.gz.md5\n",
        "jhu-usc.edu_HNSC.HumanMethylation450.Level_1.10.8.0.tar.gz.md5\n",
        "jhu-usc.edu_HNSC.HumanMethylation450.Level_1.11.3.0.tar.gz.md5\n",
        "jhu-usc.edu_HNSC.HumanMethylation450.Level_1.11.4.0.tar.gz.md5\n",
        "jhu-usc.edu_HNSC.HumanMethylation450.Level_1.11.5.0.tar.gz.md5\n",
        "jhu-usc.edu_HNSC.HumanMethylation450.Level_1.11.6.0.tar.gz.md5\n",
        "jhu-usc.edu_HNSC.HumanMethylation450.Level_1.11.7.0.tar.gz.md5\n",
        "jhu-usc.edu_HNSC.HumanMethylation450.Level_1.11.8.0.tar.gz.md5\n",
        "jhu-usc.edu_HNSC.HumanMethylation450.Level_1.12.3.0.tar.gz.md5\n",
        "jhu-usc.edu_HNSC.HumanMethylation450.Level_1.12.4.0.tar.gz.md5\n",
        "jhu-usc.edu_HNSC.HumanMethylation450.Level_1.12.5.0.tar.gz.md5\n",
        "jhu-usc.edu_HNSC.HumanMethylation450.Level_1.12.6.0.tar.gz.md5\n",
        "jhu-usc.edu_HNSC.HumanMethylation450.Level_1.12.7.0.tar.gz.md5\n",
        "jhu-usc.edu_HNSC.HumanMethylation450.Level_1.12.8.0.tar.gz.md5\n",
        "jhu-usc.edu_HNSC.HumanMethylation450.Level_1.13.3.0.tar.gz.md5\n",
        "jhu-usc.edu_HNSC.HumanMethylation450.Level_1.13.4.0.tar.gz.md5\n",
        "jhu-usc.edu_HNSC.HumanMethylation450.Level_1.13.5.0.tar.gz.md5\n",
        "jhu-usc.edu_HNSC.HumanMethylation450.Level_1.13.6.0.tar.gz.md5\n",
        "jhu-usc.edu_HNSC.HumanMethylation450.Level_1.13.7.0.tar.gz.md5\n",
        "jhu-usc.edu_HNSC.HumanMethylation450.Level_1.13.8.0.tar.gz.md5\n",
        "jhu-usc.edu_HNSC.HumanMethylation450.Level_1.14.4.0.tar.gz.md5\n",
        "jhu-usc.edu_HNSC.HumanMethylation450.Level_1.14.5.0.tar.gz.md5\n",
        "jhu-usc.edu_HNSC.HumanMethylation450.Level_1.14.6.0.tar.gz.md5\n",
        "jhu-usc.edu_HNSC.HumanMethylation450.Level_1.14.7.0.tar.gz.md5\n",
        "jhu-usc.edu_HNSC.HumanMethylation450.Level_1.14.8.0.tar.gz.md5\n",
        "jhu-usc.edu_HNSC.HumanMethylation450.Level_1.15.4.0.tar.gz.md5\n",
        "jhu-usc.edu_HNSC.HumanMethylation450.Level_1.15.5.0.tar.gz.md5\n",
        "jhu-usc.edu_HNSC.HumanMethylation450.Level_1.15.6.0.tar.gz.md5\n",
        "jhu-usc.edu_HNSC.HumanMethylation450.Level_1.15.7.0.tar.gz.md5\n",
        "jhu-usc.edu_HNSC.HumanMethylation450.Level_1.15.8.0.tar.gz.md5\n",
        "jhu-usc.edu_HNSC.HumanMethylation450.Level_1.16.5.0.tar.gz.md5\n",
        "jhu-usc.edu_HNSC.HumanMethylation450.Level_1.16.6.0.tar.gz.md5\n",
        "jhu-usc.edu_HNSC.HumanMethylation450.Level_1.16.7.0.tar.gz.md5\n",
        "jhu-usc.edu_HNSC.HumanMethylation450.Level_1.16.8.0.tar.gz.md5\n",
        "jhu-usc.edu_HNSC.HumanMethylation450.Level_1.17.6.0.tar.gz.md5\n",
        "jhu-usc.edu_HNSC.HumanMethylation450.Level_1.17.7.0.tar.gz.md5\n",
        "jhu-usc.edu_HNSC.HumanMethylation450.Level_1.17.8.0.tar.gz.md5\n",
        "jhu-usc.edu_HNSC.HumanMethylation450.Level_1.18.7.0.tar.gz.md5\n",
        "jhu-usc.edu_HNSC.HumanMethylation450.Level_1.18.8.0.tar.gz.md5\n",
        "jhu-usc.edu_HNSC.HumanMethylation450.Level_1.2.0.0.tar.gz.md5\n",
        "jhu-usc.edu_HNSC.HumanMethylation450.Level_1.2.1.0.tar.gz.md5\n",
        "jhu-usc.edu_HNSC.HumanMethylation450.Level_1.2.2.0.tar.gz.md5\n",
        "jhu-usc.edu_HNSC.HumanMethylation450.Level_1.2.3.0.tar.gz.md5\n",
        "jhu-usc.edu_HNSC.HumanMethylation450.Level_1.2.4.0.tar.gz.md5\n",
        "jhu-usc.edu_HNSC.HumanMethylation450.Level_1.2.5.0.tar.gz.md5\n",
        "jhu-usc.edu_HNSC.HumanMethylation450.Level_1.2.6.0.tar.gz.md5\n",
        "jhu-usc.edu_HNSC.HumanMethylation450.Level_1.2.7.0.tar.gz.md5\n",
        "jhu-usc.edu_HNSC.HumanMethylation450.Level_1.2.8.0.tar.gz.md5\n",
        "jhu-usc.edu_HNSC.HumanMethylation450.Level_1.3.0.0.tar.gz.md5\n",
        "jhu-usc.edu_HNSC.HumanMethylation450.Level_1.3.1.0.tar.gz.md5\n",
        "jhu-usc.edu_HNSC.HumanMethylation450.Level_1.3.2.0.tar.gz.md5\n",
        "jhu-usc.edu_HNSC.HumanMethylation450.Level_1.3.3.0.tar.gz.md5\n",
        "jhu-usc.edu_HNSC.HumanMethylation450.Level_1.3.4.0.tar.gz.md5\n",
        "jhu-usc.edu_HNSC.HumanMethylation450.Level_1.3.5.0.tar.gz.md5\n",
        "jhu-usc.edu_HNSC.HumanMethylation450.Level_1.3.6.0.tar.gz.md5\n",
        "jhu-usc.edu_HNSC.HumanMethylation450.Level_1.3.7.0.tar.gz.md5\n",
        "jhu-usc.edu_HNSC.HumanMethylation450.Level_1.3.8.0.tar.gz.md5\n",
        "jhu-usc.edu_HNSC.HumanMethylation450.Level_1.4.0.0.tar.gz.md5\n",
        "jhu-usc.edu_HNSC.HumanMethylation450.Level_1.4.1.0.tar.gz.md5\n",
        "jhu-usc.edu_HNSC.HumanMethylation450.Level_1.4.2.0.tar.gz.md5\n",
        "jhu-usc.edu_HNSC.HumanMethylation450.Level_1.4.3.0.tar.gz.md5\n",
        "jhu-usc.edu_HNSC.HumanMethylation450.Level_1.4.4.0.tar.gz.md5\n",
        "jhu-usc.edu_HNSC.HumanMethylation450.Level_1.4.5.0.tar.gz.md5\n",
        "jhu-usc.edu_HNSC.HumanMethylation450.Level_1.4.6.0.tar.gz.md5\n",
        "jhu-usc.edu_HNSC.HumanMethylation450.Level_1.4.7.0.tar.gz.md5\n",
        "jhu-usc.edu_HNSC.HumanMethylation450.Level_1.4.8.0.tar.gz.md5\n",
        "jhu-usc.edu_HNSC.HumanMethylation450.Level_1.5.0.0.tar.gz.md5\n",
        "jhu-usc.edu_HNSC.HumanMethylation450.Level_1.5.1.0.tar.gz.md5\n",
        "jhu-usc.edu_HNSC.HumanMethylation450.Level_1.5.2.0.tar.gz.md5\n",
        "jhu-usc.edu_HNSC.HumanMethylation450.Level_1.5.3.0.tar.gz.md5\n",
        "jhu-usc.edu_HNSC.HumanMethylation450.Level_1.5.4.0.tar.gz.md5\n",
        "jhu-usc.edu_HNSC.HumanMethylation450.Level_1.5.5.0.tar.gz.md5\n",
        "jhu-usc.edu_HNSC.HumanMethylation450.Level_1.5.6.0.tar.gz.md5\n",
        "jhu-usc.edu_HNSC.HumanMethylation450.Level_1.5.7.0.tar.gz.md5\n",
        "jhu-usc.edu_HNSC.HumanMethylation450.Level_1.5.8.0.tar.gz.md5\n",
        "jhu-usc.edu_HNSC.HumanMethylation450.Level_1.6.0.0.tar.gz.md5\n",
        "jhu-usc.edu_HNSC.HumanMethylation450.Level_1.6.1.0.tar.gz.md5\n",
        "jhu-usc.edu_HNSC.HumanMethylation450.Level_1.6.2.0.tar.gz.md5\n",
        "jhu-usc.edu_HNSC.HumanMethylation450.Level_1.6.3.0.tar.gz.md5\n",
        "jhu-usc.edu_HNSC.HumanMethylation450.Level_1.6.4.0.tar.gz.md5\n",
        "jhu-usc.edu_HNSC.HumanMethylation450.Level_1.6.5.0.tar.gz.md5\n",
        "jhu-usc.edu_HNSC.HumanMethylation450.Level_1.6.6.0.tar.gz.md5\n",
        "jhu-usc.edu_HNSC.HumanMethylation450.Level_1.6.7.0.tar.gz.md5\n",
        "jhu-usc.edu_HNSC.HumanMethylation450.Level_1.6.8.0.tar.gz.md5\n",
        "jhu-usc.edu_HNSC.HumanMethylation450.Level_1.7.0.0.tar.gz.md5\n",
        "jhu-usc.edu_HNSC.HumanMethylation450.Level_1.7.1.0.tar.gz.md5\n",
        "jhu-usc.edu_HNSC.HumanMethylation450.Level_1.7.2.0.tar.gz.md5\n",
        "jhu-usc.edu_HNSC.HumanMethylation450.Level_1.7.3.0.tar.gz.md5\n",
        "jhu-usc.edu_HNSC.HumanMethylation450.Level_1.7.4.0.tar.gz.md5\n",
        "jhu-usc.edu_HNSC.HumanMethylation450.Level_1.7.5.0.tar.gz.md5\n",
        "jhu-usc.edu_HNSC.HumanMethylation450.Level_1.7.6.0.tar.gz.md5\n",
        "jhu-usc.edu_HNSC.HumanMethylation450.Level_1.7.7.0.tar.gz.md5\n",
        "jhu-usc.edu_HNSC.HumanMethylation450.Level_1.7.8.0.tar.gz.md5\n",
        "jhu-usc.edu_HNSC.HumanMethylation450.Level_1.8.0.0.tar.gz.md5\n",
        "jhu-usc.edu_HNSC.HumanMethylation450.Level_1.8.1.0.tar.gz.md5\n",
        "jhu-usc.edu_HNSC.HumanMethylation450.Level_1.8.2.0.tar.gz.md5\n",
        "jhu-usc.edu_HNSC.HumanMethylation450.Level_1.1.0.0.tar.gz.md5\n",
        "jhu-usc.edu_HNSC.HumanMethylation450.Level_1.1.1.0.tar.gz.md5\n",
        "jhu-usc.edu_HNSC.HumanMethylation450.Level_1.1.2.0.tar.gz.md5\n",
        "jhu-usc.edu_HNSC.HumanMethylation450.Level_1.1.3.0.tar.gz.md5\n",
        "jhu-usc.edu_HNSC.HumanMethylation450.Level_1.1.4.0.tar.gz.md5\n",
        "jhu-usc.edu_HNSC.HumanMethylation450.Level_1.1.5.0.tar.gz.md5\n",
        "jhu-usc.edu_HNSC.HumanMethylation450.Level_1.1.6.0.tar.gz.md5\n",
        "jhu-usc.edu_HNSC.HumanMethylation450.Level_1.1.7.0.tar.gz.md5\n",
        "jhu-usc.edu_HNSC.HumanMethylation450.Level_1.1.8.0.tar.gz.md5\n",
        "jhu-usc.edu_HNSC.HumanMethylation450.Level_1.10.3.0.tar.gz.md5\n",
        "jhu-usc.edu_HNSC.HumanMethylation450.Level_1.10.4.0.tar.gz.md5\n",
        "jhu-usc.edu_HNSC.HumanMethylation450.Level_1.10.5.0.tar.gz.md5\n",
        "jhu-usc.edu_HNSC.HumanMethylation450.Level_1.10.6.0.tar.gz.md5\n",
        "jhu-usc.edu_HNSC.HumanMethylation450.Level_1.10.7.0.tar.gz.md5\n",
        "jhu-usc.edu_HNSC.HumanMethylation450.Level_1.10.8.0.tar.gz.md5\n",
        "jhu-usc.edu_HNSC.HumanMethylation450.Level_1.11.3.0.tar.gz.md5\n",
        "jhu-usc.edu_HNSC.HumanMethylation450.Level_1.11.4.0.tar.gz.md5\n",
        "jhu-usc.edu_HNSC.HumanMethylation450.Level_1.11.5.0.tar.gz.md5\n",
        "jhu-usc.edu_HNSC.HumanMethylation450.Level_1.11.6.0.tar.gz.md5\n",
        "jhu-usc.edu_HNSC.HumanMethylation450.Level_1.11.7.0.tar.gz.md5\n",
        "jhu-usc.edu_HNSC.HumanMethylation450.Level_1.11.8.0.tar.gz.md5\n",
        "jhu-usc.edu_HNSC.HumanMethylation450.Level_1.12.3.0.tar.gz.md5\n",
        "jhu-usc.edu_HNSC.HumanMethylation450.Level_1.12.4.0.tar.gz.md5\n",
        "jhu-usc.edu_HNSC.HumanMethylation450.Level_1.12.5.0.tar.gz.md5\n",
        "jhu-usc.edu_HNSC.HumanMethylation450.Level_1.12.6.0.tar.gz.md5\n",
        "jhu-usc.edu_HNSC.HumanMethylation450.Level_1.12.7.0.tar.gz.md5\n",
        "jhu-usc.edu_HNSC.HumanMethylation450.Level_1.12.8.0.tar.gz.md5\n",
        "jhu-usc.edu_HNSC.HumanMethylation450.Level_1.13.3.0.tar.gz.md5\n",
        "jhu-usc.edu_HNSC.HumanMethylation450.Level_1.13.4.0.tar.gz.md5\n",
        "jhu-usc.edu_HNSC.HumanMethylation450.Level_1.13.5.0.tar.gz.md5\n",
        "jhu-usc.edu_HNSC.HumanMethylation450.Level_1.13.6.0.tar.gz.md5\n",
        "jhu-usc.edu_HNSC.HumanMethylation450.Level_1.13.7.0.tar.gz.md5\n"
       ]
      }
     ],
     "prompt_number": 11
    }
   ],
   "metadata": {}
  }
 ]
}