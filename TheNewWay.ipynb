{
 "metadata": {
  "name": "",
  "signature": "sha256:de966490cdbe8e93603a02b9f468ec08b597e4e187fb9d50e3c89dccfa61f0bf"
 },
 "nbformat": 3,
 "nbformat_minor": 0,
 "worksheets": [
  {
   "cells": [
    {
     "cell_type": "heading",
     "level": 1,
     "metadata": {},
     "source": [
      "Get TCGA Methylation Data"
     ]
    },
    {
     "cell_type": "markdown",
     "metadata": {},
     "source": [
      "This notebook illustrates how to retrieve Level 1 TCGA HumanMethylation450k raw Data for all available cancertypes, as well as the accompanying auxillary and mage-tab files that allow mapping of clinical patient data to methylation data. \n",
      "* BeautifulSoup is used to parse the TCGA HTTPS open access directory for urls to download data. \n",
      "* The downloaded tar archives are unzipped and extracted to user specified out_path folder.\n"
     ]
    },
    {
     "cell_type": "markdown",
     "metadata": {},
     "source": [
      "<b>Imports</b>"
     ]
    },
    {
     "cell_type": "code",
     "collapsed": false,
     "input": [
      "from bs4 import BeautifulSoup\n",
      "import urllib2\n",
      "from urllib2 import HTTPError\n",
      "import pandas as pd\n",
      "import os as os\n",
      "import StringIO\n",
      "import gzip\n",
      "\n",
      "from IPython.display import clear_output"
     ],
     "language": "python",
     "metadata": {},
     "outputs": [],
     "prompt_number": 3
    },
    {
     "cell_type": "markdown",
     "metadata": {},
     "source": [
      "<b>Directory Currently In:</b>"
     ]
    },
    {
     "cell_type": "code",
     "collapsed": false,
     "input": [
      "pwd"
     ],
     "language": "python",
     "metadata": {},
     "outputs": [],
     "prompt_number": 7
    },
    {
     "cell_type": "code",
     "collapsed": false,
     "input": [
      "ls"
     ],
     "language": "python",
     "metadata": {},
     "outputs": [
      {
       "output_type": "stream",
       "stream": "stdout",
       "text": [
        "\u001b[1m\u001b[36mJustinCase\u001b[m\u001b[m/                                             jhu-usc.edu_LGG.HumanMethylation450.aux.1.5.0.tar.gz\r\n",
        "\u001b[1m\u001b[36mMethyl\u001b[m\u001b[m/                                                 jhu-usc.edu_LGG.HumanMethylation450.aux.1.6.0.tar.gz\r\n",
        "\u001b[1m\u001b[36mNotebook\u001b[m\u001b[m/                                               jhu-usc.edu_LGG.HumanMethylation450.aux.1.7.0.tar.gz\r\n",
        "TheNewWay.ipynb                                         jhu-usc.edu_LGG.HumanMethylation450.aux.1.8.0.tar.gz\r\n",
        "TheWay-Aux Files.ipynb                                  jhu-usc.edu_LGG.HumanMethylation450.aux.1.9.0.tar.gz\r\n",
        "TheWay.ipynb                                            jhu-usc.edu_LIHC.HumanMethylation450.aux.1.0.0.tar.gz\r\n",
        "\u001b[1m\u001b[36mUVM\u001b[m\u001b[m/                                                    jhu-usc.edu_LIHC.HumanMethylation450.aux.1.1.0.tar.gz\r\n",
        "Untitled0.ipynb                                         jhu-usc.edu_LIHC.HumanMethylation450.aux.1.10.0.tar.gz\r\n",
        "aux_links.txt                                           jhu-usc.edu_LIHC.HumanMethylation450.aux.1.11.0.tar.gz\r\n",
        "jhu-usc.edu_ACC.HumanMethylation450.aux.1.0.0.tar.gz    jhu-usc.edu_LIHC.HumanMethylation450.aux.1.12.0.tar.gz\r\n",
        "jhu-usc.edu_BLCA.HumanMethylation450.aux.1.0.0.tar.gz   jhu-usc.edu_LIHC.HumanMethylation450.aux.1.13.0.tar.gz\r\n",
        "jhu-usc.edu_BLCA.HumanMethylation450.aux.1.1.0.tar.gz   jhu-usc.edu_LIHC.HumanMethylation450.aux.1.2.0.tar.gz\r\n",
        "jhu-usc.edu_BLCA.HumanMethylation450.aux.1.10.0.tar.gz  jhu-usc.edu_LIHC.HumanMethylation450.aux.1.3.0.tar.gz\r\n",
        "jhu-usc.edu_BLCA.HumanMethylation450.aux.1.11.0.tar.gz  jhu-usc.edu_LIHC.HumanMethylation450.aux.1.4.0.tar.gz\r\n",
        "jhu-usc.edu_BLCA.HumanMethylation450.aux.1.12.0.tar.gz  jhu-usc.edu_LIHC.HumanMethylation450.aux.1.5.0.tar.gz\r\n",
        "jhu-usc.edu_BLCA.HumanMethylation450.aux.1.13.0.tar.gz  jhu-usc.edu_LIHC.HumanMethylation450.aux.1.6.0.tar.gz\r\n",
        "jhu-usc.edu_BLCA.HumanMethylation450.aux.1.14.0.tar.gz  jhu-usc.edu_LIHC.HumanMethylation450.aux.1.7.0.tar.gz\r\n",
        "jhu-usc.edu_BLCA.HumanMethylation450.aux.1.15.0.tar.gz  jhu-usc.edu_LIHC.HumanMethylation450.aux.1.8.0.tar.gz\r\n",
        "jhu-usc.edu_BLCA.HumanMethylation450.aux.1.16.0.tar.gz  jhu-usc.edu_LIHC.HumanMethylation450.aux.1.9.0.tar.gz\r\n",
        "jhu-usc.edu_BLCA.HumanMethylation450.aux.1.17.0.tar.gz  jhu-usc.edu_LUAD.HumanMethylation450.aux.1.0.0.tar.gz\r\n",
        "jhu-usc.edu_BLCA.HumanMethylation450.aux.1.2.0.tar.gz   jhu-usc.edu_LUAD.HumanMethylation450.aux.1.1.0.tar.gz\r\n",
        "jhu-usc.edu_BLCA.HumanMethylation450.aux.1.3.0.tar.gz   jhu-usc.edu_LUAD.HumanMethylation450.aux.1.2.0.tar.gz\r\n",
        "jhu-usc.edu_BLCA.HumanMethylation450.aux.1.4.0.tar.gz   jhu-usc.edu_LUAD.HumanMethylation450.aux.1.3.0.tar.gz\r\n",
        "jhu-usc.edu_BLCA.HumanMethylation450.aux.1.5.0.tar.gz   jhu-usc.edu_LUAD.HumanMethylation450.aux.1.4.0.tar.gz\r\n",
        "jhu-usc.edu_BLCA.HumanMethylation450.aux.1.6.0.tar.gz   jhu-usc.edu_LUAD.HumanMethylation450.aux.1.5.0.tar.gz\r\n",
        "jhu-usc.edu_BLCA.HumanMethylation450.aux.1.7.0.tar.gz   jhu-usc.edu_LUAD.HumanMethylation450.aux.1.6.0.tar.gz\r\n",
        "jhu-usc.edu_BLCA.HumanMethylation450.aux.1.8.0.tar.gz   jhu-usc.edu_LUAD.HumanMethylation450.aux.1.7.0.tar.gz\r\n",
        "jhu-usc.edu_BLCA.HumanMethylation450.aux.1.9.0.tar.gz   jhu-usc.edu_LUAD.HumanMethylation450.aux.1.8.0.tar.gz\r\n",
        "jhu-usc.edu_BRCA.HumanMethylation450.aux.1.0.0.tar.gz   jhu-usc.edu_LUSC.HumanMethylation450.aux.1.1.0.tar.gz\r\n",
        "jhu-usc.edu_BRCA.HumanMethylation450.aux.1.1.0.tar.gz   jhu-usc.edu_LUSC.HumanMethylation450.aux.1.2.0.tar.gz\r\n",
        "jhu-usc.edu_BRCA.HumanMethylation450.aux.1.2.0.tar.gz   jhu-usc.edu_LUSC.HumanMethylation450.aux.1.3.0.tar.gz\r\n",
        "jhu-usc.edu_BRCA.HumanMethylation450.aux.1.3.0.tar.gz   jhu-usc.edu_LUSC.HumanMethylation450.aux.1.4.0.tar.gz\r\n",
        "jhu-usc.edu_BRCA.HumanMethylation450.aux.1.4.0.tar.gz   jhu-usc.edu_LUSC.HumanMethylation450.aux.1.5.0.tar.gz\r\n",
        "jhu-usc.edu_BRCA.HumanMethylation450.aux.1.5.0.tar.gz   jhu-usc.edu_LUSC.HumanMethylation450.aux.1.6.0.tar.gz\r\n",
        "jhu-usc.edu_BRCA.HumanMethylation450.aux.1.6.0.tar.gz   jhu-usc.edu_LUSC.HumanMethylation450.aux.1.7.0.tar.gz\r\n",
        "jhu-usc.edu_BRCA.HumanMethylation450.aux.1.7.0.tar.gz   jhu-usc.edu_MESO.HumanMethylation450.aux.1.0.0.tar.gz\r\n",
        "jhu-usc.edu_BRCA.HumanMethylation450.aux.1.8.0.tar.gz   jhu-usc.edu_MESO.HumanMethylation450.aux.1.1.0.tar.gz\r\n",
        "jhu-usc.edu_BRCA.HumanMethylation450.aux.1.9.0.tar.gz   jhu-usc.edu_OV.HumanMethylation450.aux.1.0.0.tar.gz\r\n",
        "jhu-usc.edu_CESC.HumanMethylation450.aux.1.0.0.tar.gz   jhu-usc.edu_PAAD.HumanMethylation450.aux.1.0.0.tar.gz\r\n",
        "jhu-usc.edu_CESC.HumanMethylation450.aux.1.1.0.tar.gz   jhu-usc.edu_PAAD.HumanMethylation450.aux.1.1.0.tar.gz\r\n",
        "jhu-usc.edu_CESC.HumanMethylation450.aux.1.2.0.tar.gz   jhu-usc.edu_PAAD.HumanMethylation450.aux.1.10.0.tar.gz\r\n",
        "jhu-usc.edu_CESC.HumanMethylation450.aux.1.3.0.tar.gz   jhu-usc.edu_PAAD.HumanMethylation450.aux.1.11.0.tar.gz\r\n",
        "jhu-usc.edu_CESC.HumanMethylation450.aux.1.4.0.tar.gz   jhu-usc.edu_PAAD.HumanMethylation450.aux.1.2.0.tar.gz\r\n",
        "jhu-usc.edu_CESC.HumanMethylation450.aux.1.5.0.tar.gz   jhu-usc.edu_PAAD.HumanMethylation450.aux.1.3.0.tar.gz\r\n",
        "jhu-usc.edu_CESC.HumanMethylation450.aux.1.6.0.tar.gz   jhu-usc.edu_PAAD.HumanMethylation450.aux.1.4.0.tar.gz\r\n",
        "jhu-usc.edu_CESC.HumanMethylation450.aux.1.7.0.tar.gz   jhu-usc.edu_PAAD.HumanMethylation450.aux.1.5.0.tar.gz\r\n",
        "jhu-usc.edu_CESC.HumanMethylation450.aux.1.8.0.tar.gz   jhu-usc.edu_PAAD.HumanMethylation450.aux.1.6.0.tar.gz\r\n",
        "jhu-usc.edu_CESC.HumanMethylation450.aux.1.9.0.tar.gz   jhu-usc.edu_PAAD.HumanMethylation450.aux.1.7.0.tar.gz\r\n",
        "jhu-usc.edu_CHOL.HumanMethylation450.aux.1.0.0.tar.gz   jhu-usc.edu_PAAD.HumanMethylation450.aux.1.8.0.tar.gz\r\n",
        "jhu-usc.edu_CHOL.HumanMethylation450.aux.1.1.0.tar.gz   jhu-usc.edu_PAAD.HumanMethylation450.aux.1.9.0.tar.gz\r\n",
        "jhu-usc.edu_COAD.HumanMethylation450.aux.1.0.0.tar.gz   jhu-usc.edu_PCPG.HumanMethylation450.aux.1.0.0.tar.gz\r\n",
        "jhu-usc.edu_COAD.HumanMethylation450.aux.1.1.0.tar.gz   jhu-usc.edu_PRAD.HumanMethylation450.aux.1.0.0.tar.gz\r\n",
        "jhu-usc.edu_COAD.HumanMethylation450.aux.1.2.0.tar.gz   jhu-usc.edu_PRAD.HumanMethylation450.aux.1.1.0.tar.gz\r\n",
        "jhu-usc.edu_COAD.HumanMethylation450.aux.1.3.0.tar.gz   jhu-usc.edu_PRAD.HumanMethylation450.aux.1.10.0.tar.gz\r\n",
        "jhu-usc.edu_COAD.HumanMethylation450.aux.1.4.0.tar.gz   jhu-usc.edu_PRAD.HumanMethylation450.aux.1.11.0.tar.gz\r\n",
        "jhu-usc.edu_COAD.HumanMethylation450.aux.1.5.0.tar.gz   jhu-usc.edu_PRAD.HumanMethylation450.aux.1.12.0.tar.gz\r\n",
        "jhu-usc.edu_COAD.HumanMethylation450.aux.1.6.0.tar.gz   jhu-usc.edu_PRAD.HumanMethylation450.aux.1.13.0.tar.gz\r\n",
        "jhu-usc.edu_COAD.HumanMethylation450.aux.1.7.0.tar.gz   jhu-usc.edu_PRAD.HumanMethylation450.aux.1.2.0.tar.gz\r\n",
        "jhu-usc.edu_COAD.HumanMethylation450.aux.1.8.0.tar.gz   jhu-usc.edu_PRAD.HumanMethylation450.aux.1.3.0.tar.gz\r\n",
        "jhu-usc.edu_DLBC.HumanMethylation450.aux.1.0.0.tar.gz   jhu-usc.edu_PRAD.HumanMethylation450.aux.1.4.0.tar.gz\r\n",
        "jhu-usc.edu_DLBC.HumanMethylation450.aux.1.1.0.tar.gz   jhu-usc.edu_PRAD.HumanMethylation450.aux.1.5.0.tar.gz\r\n",
        "jhu-usc.edu_DLBC.HumanMethylation450.aux.1.2.0.tar.gz   jhu-usc.edu_PRAD.HumanMethylation450.aux.1.6.0.tar.gz\r\n",
        "jhu-usc.edu_DLBC.HumanMethylation450.aux.1.3.0.tar.gz   jhu-usc.edu_PRAD.HumanMethylation450.aux.1.7.0.tar.gz\r\n",
        "jhu-usc.edu_DLBC.HumanMethylation450.aux.1.4.0.tar.gz   jhu-usc.edu_PRAD.HumanMethylation450.aux.1.8.0.tar.gz\r\n",
        "jhu-usc.edu_DLBC.HumanMethylation450.aux.1.5.0.tar.gz   jhu-usc.edu_PRAD.HumanMethylation450.aux.1.9.0.tar.gz\r\n",
        "jhu-usc.edu_DLBC.HumanMethylation450.aux.1.6.0.tar.gz   jhu-usc.edu_READ.HumanMethylation450.aux.1.0.0.tar.gz\r\n",
        "jhu-usc.edu_ESCA.HumanMethylation450.aux.1.0.0.tar.gz   jhu-usc.edu_READ.HumanMethylation450.aux.1.1.0.tar.gz\r\n",
        "jhu-usc.edu_ESCA.HumanMethylation450.aux.1.1.0.tar.gz   jhu-usc.edu_READ.HumanMethylation450.aux.1.2.0.tar.gz\r\n",
        "jhu-usc.edu_ESCA.HumanMethylation450.aux.1.2.0.tar.gz   jhu-usc.edu_READ.HumanMethylation450.aux.1.3.0.tar.gz\r\n",
        "jhu-usc.edu_ESCA.HumanMethylation450.aux.1.3.0.tar.gz   jhu-usc.edu_SARC.HumanMethylation450.aux.1.0.0.tar.gz\r\n",
        "jhu-usc.edu_ESCA.HumanMethylation450.aux.1.4.0.tar.gz   jhu-usc.edu_SARC.HumanMethylation450.aux.1.1.0.tar.gz\r\n",
        "jhu-usc.edu_ESCA.HumanMethylation450.aux.1.5.0.tar.gz   jhu-usc.edu_SARC.HumanMethylation450.aux.1.10.0.tar.gz\r\n",
        "jhu-usc.edu_ESCA.HumanMethylation450.aux.1.6.0.tar.gz   jhu-usc.edu_SARC.HumanMethylation450.aux.1.11.0.tar.gz\r\n",
        "jhu-usc.edu_ESCA.HumanMethylation450.aux.1.7.0.tar.gz   jhu-usc.edu_SARC.HumanMethylation450.aux.1.2.0.tar.gz\r\n",
        "jhu-usc.edu_ESCA.HumanMethylation450.aux.1.8.0.tar.gz   jhu-usc.edu_SARC.HumanMethylation450.aux.1.3.0.tar.gz\r\n",
        "jhu-usc.edu_GBM.HumanMethylation450.aux.1.0.0.tar.gz    jhu-usc.edu_SARC.HumanMethylation450.aux.1.4.0.tar.gz\r\n",
        "jhu-usc.edu_GBM.HumanMethylation450.aux.1.1.0.tar.gz    jhu-usc.edu_SARC.HumanMethylation450.aux.1.5.0.tar.gz\r\n",
        "jhu-usc.edu_GBM.HumanMethylation450.aux.1.2.0.tar.gz    jhu-usc.edu_SARC.HumanMethylation450.aux.1.6.0.tar.gz\r\n",
        "jhu-usc.edu_GBM.HumanMethylation450.aux.1.3.0.tar.gz    jhu-usc.edu_SARC.HumanMethylation450.aux.1.7.0.tar.gz\r\n",
        "jhu-usc.edu_GBM.HumanMethylation450.aux.1.4.0.tar.gz    jhu-usc.edu_SARC.HumanMethylation450.aux.1.8.0.tar.gz\r\n",
        "jhu-usc.edu_GBM.HumanMethylation450.aux.1.5.0.tar.gz    jhu-usc.edu_SARC.HumanMethylation450.aux.1.9.0.tar.gz\r\n",
        "jhu-usc.edu_GBM.HumanMethylation450.aux.1.6.0.tar.gz    jhu-usc.edu_SKCM.HumanMethylation450.aux.1.0.0.tar.gz\r\n",
        "jhu-usc.edu_HNSC.HumanMethylation450.aux.1.1.0.tar.gz   jhu-usc.edu_SKCM.HumanMethylation450.aux.1.1.0.tar.gz\r\n",
        "jhu-usc.edu_HNSC.HumanMethylation450.aux.1.2.0.tar.gz   jhu-usc.edu_SKCM.HumanMethylation450.aux.1.10.0.tar.gz\r\n",
        "jhu-usc.edu_HNSC.HumanMethylation450.aux.1.3.0.tar.gz   jhu-usc.edu_SKCM.HumanMethylation450.aux.1.11.0.tar.gz\r\n",
        "jhu-usc.edu_HNSC.HumanMethylation450.aux.1.4.0.tar.gz   jhu-usc.edu_SKCM.HumanMethylation450.aux.1.12.0.tar.gz\r\n",
        "jhu-usc.edu_HNSC.HumanMethylation450.aux.1.5.0.tar.gz   jhu-usc.edu_SKCM.HumanMethylation450.aux.1.2.0.tar.gz\r\n",
        "jhu-usc.edu_HNSC.HumanMethylation450.aux.1.6.0.tar.gz   jhu-usc.edu_SKCM.HumanMethylation450.aux.1.3.0.tar.gz\r\n",
        "jhu-usc.edu_HNSC.HumanMethylation450.aux.1.7.0.tar.gz   jhu-usc.edu_SKCM.HumanMethylation450.aux.1.4.0.tar.gz\r\n",
        "jhu-usc.edu_HNSC.HumanMethylation450.aux.1.8.0.tar.gz   jhu-usc.edu_SKCM.HumanMethylation450.aux.1.5.0.tar.gz\r\n",
        "jhu-usc.edu_KICH.HumanMethylation450.aux.1.0.0.tar.gz   jhu-usc.edu_SKCM.HumanMethylation450.aux.1.6.0.tar.gz\r\n",
        "jhu-usc.edu_KICH.HumanMethylation450.aux.1.1.0.tar.gz   jhu-usc.edu_SKCM.HumanMethylation450.aux.1.7.0.tar.gz\r\n",
        "jhu-usc.edu_KICH.HumanMethylation450.aux.1.2.0.tar.gz   jhu-usc.edu_SKCM.HumanMethylation450.aux.1.8.0.tar.gz\r\n",
        "jhu-usc.edu_KICH.HumanMethylation450.aux.1.3.0.tar.gz   jhu-usc.edu_SKCM.HumanMethylation450.aux.1.9.0.tar.gz\r\n",
        "jhu-usc.edu_KIRC.HumanMethylation450.aux.1.1.0.tar.gz   jhu-usc.edu_STAD.HumanMethylation450.aux.1.0.0.tar.gz\r\n",
        "jhu-usc.edu_KIRC.HumanMethylation450.aux.1.10.0.tar.gz  jhu-usc.edu_STAD.HumanMethylation450.aux.1.1.0.tar.gz\r\n",
        "jhu-usc.edu_KIRC.HumanMethylation450.aux.1.11.0.tar.gz  jhu-usc.edu_STAD.HumanMethylation450.aux.1.10.0.tar.gz\r\n",
        "jhu-usc.edu_KIRC.HumanMethylation450.aux.1.2.0.tar.gz   jhu-usc.edu_STAD.HumanMethylation450.aux.1.2.0.tar.gz\r\n",
        "jhu-usc.edu_KIRC.HumanMethylation450.aux.1.3.0.tar.gz   jhu-usc.edu_STAD.HumanMethylation450.aux.1.3.0.tar.gz\r\n",
        "jhu-usc.edu_KIRC.HumanMethylation450.aux.1.4.0.tar.gz   jhu-usc.edu_STAD.HumanMethylation450.aux.1.4.0.tar.gz\r\n",
        "jhu-usc.edu_KIRC.HumanMethylation450.aux.1.5.0.tar.gz   jhu-usc.edu_STAD.HumanMethylation450.aux.1.5.0.tar.gz\r\n",
        "jhu-usc.edu_KIRC.HumanMethylation450.aux.1.6.0.tar.gz   jhu-usc.edu_STAD.HumanMethylation450.aux.1.6.0.tar.gz\r\n",
        "jhu-usc.edu_KIRC.HumanMethylation450.aux.1.7.0.tar.gz   jhu-usc.edu_STAD.HumanMethylation450.aux.1.7.0.tar.gz\r\n",
        "jhu-usc.edu_KIRC.HumanMethylation450.aux.1.8.0.tar.gz   jhu-usc.edu_STAD.HumanMethylation450.aux.1.8.0.tar.gz\r\n",
        "jhu-usc.edu_KIRC.HumanMethylation450.aux.1.9.0.tar.gz   jhu-usc.edu_STAD.HumanMethylation450.aux.1.9.0.tar.gz\r\n",
        "jhu-usc.edu_KIRP.HumanMethylation450.aux.1.0.0.tar.gz   jhu-usc.edu_TGCT.HumanMethylation450.aux.1.0.0.tar.gz\r\n",
        "jhu-usc.edu_KIRP.HumanMethylation450.aux.1.1.0.tar.gz   jhu-usc.edu_THCA.HumanMethylation450.aux.1.0.0.tar.gz\r\n",
        "jhu-usc.edu_KIRP.HumanMethylation450.aux.1.10.0.tar.gz  jhu-usc.edu_THCA.HumanMethylation450.aux.1.1.0.tar.gz\r\n",
        "jhu-usc.edu_KIRP.HumanMethylation450.aux.1.2.0.tar.gz   jhu-usc.edu_THCA.HumanMethylation450.aux.1.2.0.tar.gz\r\n",
        "jhu-usc.edu_KIRP.HumanMethylation450.aux.1.3.0.tar.gz   jhu-usc.edu_THCA.HumanMethylation450.aux.1.3.0.tar.gz\r\n",
        "jhu-usc.edu_KIRP.HumanMethylation450.aux.1.4.0.tar.gz   jhu-usc.edu_THCA.HumanMethylation450.aux.1.4.0.tar.gz\r\n",
        "jhu-usc.edu_KIRP.HumanMethylation450.aux.1.5.0.tar.gz   jhu-usc.edu_THCA.HumanMethylation450.aux.1.5.0.tar.gz\r\n",
        "jhu-usc.edu_KIRP.HumanMethylation450.aux.1.6.0.tar.gz   jhu-usc.edu_THCA.HumanMethylation450.aux.1.6.0.tar.gz\r\n",
        "jhu-usc.edu_KIRP.HumanMethylation450.aux.1.7.0.tar.gz   jhu-usc.edu_THYM.HumanMethylation450.aux.1.0.0.tar.gz\r\n",
        "jhu-usc.edu_KIRP.HumanMethylation450.aux.1.8.0.tar.gz   jhu-usc.edu_UCEC.HumanMethylation450.aux.1.0.0.tar.gz\r\n",
        "jhu-usc.edu_KIRP.HumanMethylation450.aux.1.9.0.tar.gz   jhu-usc.edu_UCEC.HumanMethylation450.aux.1.1.0.tar.gz\r\n",
        "jhu-usc.edu_LAML.HumanMethylation450.aux.2.0.0.tar.gz   jhu-usc.edu_UCEC.HumanMethylation450.aux.1.2.0.tar.gz\r\n",
        "jhu-usc.edu_LAML.HumanMethylation450.aux.2.1.0.tar.gz   jhu-usc.edu_UCEC.HumanMethylation450.aux.1.3.0.tar.gz\r\n",
        "jhu-usc.edu_LAML.HumanMethylation450.aux.2.2.0.tar.gz   jhu-usc.edu_UCEC.HumanMethylation450.aux.1.4.0.tar.gz\r\n",
        "jhu-usc.edu_LAML.HumanMethylation450.aux.2.3.0.tar.gz   jhu-usc.edu_UCEC.HumanMethylation450.aux.1.5.0.tar.gz\r\n",
        "jhu-usc.edu_LGG.HumanMethylation450.aux.1.0.0.tar.gz    jhu-usc.edu_UCEC.HumanMethylation450.aux.1.6.0.tar.gz\r\n",
        "jhu-usc.edu_LGG.HumanMethylation450.aux.1.1.0.tar.gz    jhu-usc.edu_UCEC.HumanMethylation450.aux.1.7.0.tar.gz\r\n",
        "jhu-usc.edu_LGG.HumanMethylation450.aux.1.10.0.tar.gz   jhu-usc.edu_UCEC.HumanMethylation450.aux.1.8.0.tar.gz\r\n",
        "jhu-usc.edu_LGG.HumanMethylation450.aux.1.11.0.tar.gz   jhu-usc.edu_UCS.HumanMethylation450.aux.1.0.0.tar.gz\r\n",
        "jhu-usc.edu_LGG.HumanMethylation450.aux.1.12.0.tar.gz   jhu-usc.edu_UVM.HumanMethylation450.aux.1.0.0.tar.gz\r\n",
        "jhu-usc.edu_LGG.HumanMethylation450.aux.1.2.0.tar.gz    tar_links.txt\r\n",
        "jhu-usc.edu_LGG.HumanMethylation450.aux.1.3.0.tar.gz    url_list.txt\r\n",
        "jhu-usc.edu_LGG.HumanMethylation450.aux.1.4.0.tar.gz\r\n"
       ]
      }
     ],
     "prompt_number": 12
    },
    {
     "cell_type": "markdown",
     "metadata": {},
     "source": [
      "<b>Outpaths</b>"
     ]
    },
    {
     "cell_type": "code",
     "collapsed": false,
     "input": [
      "PATH_TO_CERT = 'JustinCase/cacert.pem'\n",
      "OUT_PATH = '/data/nrnb01_nobackup/agross/TCGA_methylation/'"
     ],
     "language": "python",
     "metadata": {},
     "outputs": [],
     "prompt_number": 13
    },
    {
     "cell_type": "markdown",
     "metadata": {},
     "source": [
      "<b>Path to TCGA Website</b>"
     ]
    },
    {
     "cell_type": "code",
     "collapsed": false,
     "input": [
      "base_url = 'https://tcga-data.nci.nih.gov/tcgafiles/ftp_auth/distro_ftpusers/anonymous/tumor/'"
     ],
     "language": "python",
     "metadata": {},
     "outputs": [],
     "prompt_number": 14
    },
    {
     "cell_type": "code",
     "collapsed": false,
     "input": [
      "end_url = '/cgcc/jhu-usc.edu/humanmethylation450/methylation/'"
     ],
     "language": "python",
     "metadata": {},
     "outputs": [],
     "prompt_number": 15
    },
    {
     "cell_type": "code",
     "collapsed": false,
     "input": [
      "cancertype = ['acc','blca','brca','cesc','chol','coad','dlbc','esca','gbm','hnsc','kich','kirc',\n",
      "              'kirp','laml','lgg','lihc','luad','lusc','meso','misc','ov','paad','pcpg','prad',\n",
      "              'read','sarc','skcm','stad','tgct','thca','thym','ucec','ucs','uvm']\n",
      "#cancertypes = ['laml','gbm','lgg']"
     ],
     "language": "python",
     "metadata": {},
     "outputs": [],
     "prompt_number": 16
    },
    {
     "cell_type": "code",
     "collapsed": false,
     "input": [
      "urls = []\n",
      "for i in cancertype:\n",
      "    url = base_url + i + end_url\n",
      "    urls.append(url)\n",
      "\n",
      "f=open('url_list.txt','w')\n",
      "l1=map(lambda x:x+'\\n', urls)\n",
      "f.writelines(l1)\n",
      "f.close()"
     ],
     "language": "python",
     "metadata": {},
     "outputs": [],
     "prompt_number": 17
    },
    {
     "cell_type": "markdown",
     "metadata": {},
     "source": [
      "<b>Download Certificate (Optional?)</b>"
     ]
    },
    {
     "cell_type": "code",
     "collapsed": false,
     "input": [
      "!xargs curl --cacert $PATH_TO_CERT -I < url_list.txt\n",
      "clear_output()"
     ],
     "language": "python",
     "metadata": {},
     "outputs": [],
     "prompt_number": 18
    },
    {
     "cell_type": "markdown",
     "metadata": {},
     "source": [
      "<b>Beautiful Soup module is used to parse links from webpage </b>"
     ]
    },
    {
     "cell_type": "markdown",
     "metadata": {},
     "source": [
      "* creates list of TCGA cancer methylation data urls\n",
      "* parses urls for specific datalinks that include tar.gz files"
     ]
    },
    {
     "cell_type": "code",
     "collapsed": false,
     "input": [
      "urls = []\n",
      "tar_links = []\n",
      "\n",
      "for i in cancertype:\n",
      "    print i\n",
      "    try:\n",
      "        url = base_url + i + end_url\n",
      "        urls.append(url)      \n",
      "        webpage = urllib2.urlopen(url)\n",
      "        soup = BeautifulSoup(webpage)\n",
      "        links = [url + link.get('href') for link in soup.find_all('a') \n",
      "                                      if (link.get('href') != None )\n",
      "                                      and 'tar.gz' in link.get('href')\n",
      "                                      and '_2.' not in link.get('href')\n",
      "                                      and '_3.' not in link.get('href')\n",
      "                                      and '.md5' not in link.get('href')]\n",
      "        \n",
      "        aux_links = [url + link.get('href') for link in soup.find_all('a') \n",
      "                                      if (link.get('href') != None )\n",
      "                                      and 'aux' in link.get('href')\n",
      "                                      and '_2.' not in link.get('href')\n",
      "                                      and '_3.' not in link.get('href')\n",
      "                                      and '.md5' not in link.get('href')\n",
      "                                      and 'tar.gz' in link.get('href')]\n",
      "    \n",
      "        tar_links.extend(links)\n",
      "        tar_links.extend(aux_links)\n",
      "    except urllib2.HTTPError:\n",
      "        print '{} failed'.format(i)"
     ],
     "language": "python",
     "metadata": {},
     "outputs": [
      {
       "output_type": "stream",
       "stream": "stdout",
       "text": [
        "acc\n",
        "blca"
       ]
      },
      {
       "output_type": "stream",
       "stream": "stdout",
       "text": [
        "\n",
        "brca"
       ]
      },
      {
       "output_type": "stream",
       "stream": "stdout",
       "text": [
        "\n"
       ]
      },
      {
       "ename": "KeyboardInterrupt",
       "evalue": "",
       "output_type": "pyerr",
       "traceback": [
        "\u001b[0;31m---------------------------------------------------------------------------\u001b[0m\n\u001b[0;31mKeyboardInterrupt\u001b[0m                         Traceback (most recent call last)",
        "\u001b[0;32m<ipython-input-22-6b74fb05951c>\u001b[0m in \u001b[0;36m<module>\u001b[0;34m()\u001b[0m\n\u001b[1;32m      7\u001b[0m         \u001b[0murl\u001b[0m \u001b[0;34m=\u001b[0m \u001b[0mbase_url\u001b[0m \u001b[0;34m+\u001b[0m \u001b[0mi\u001b[0m \u001b[0;34m+\u001b[0m \u001b[0mend_url\u001b[0m\u001b[0;34m\u001b[0m\u001b[0m\n\u001b[1;32m      8\u001b[0m         \u001b[0murls\u001b[0m\u001b[0;34m.\u001b[0m\u001b[0mappend\u001b[0m\u001b[0;34m(\u001b[0m\u001b[0murl\u001b[0m\u001b[0;34m)\u001b[0m\u001b[0;34m\u001b[0m\u001b[0m\n\u001b[0;32m----> 9\u001b[0;31m         \u001b[0mwebpage\u001b[0m \u001b[0;34m=\u001b[0m \u001b[0murllib2\u001b[0m\u001b[0;34m.\u001b[0m\u001b[0murlopen\u001b[0m\u001b[0;34m(\u001b[0m\u001b[0murl\u001b[0m\u001b[0;34m)\u001b[0m\u001b[0;34m\u001b[0m\u001b[0m\n\u001b[0m\u001b[1;32m     10\u001b[0m         \u001b[0msoup\u001b[0m \u001b[0;34m=\u001b[0m \u001b[0mBeautifulSoup\u001b[0m\u001b[0;34m(\u001b[0m\u001b[0mwebpage\u001b[0m\u001b[0;34m)\u001b[0m\u001b[0;34m\u001b[0m\u001b[0m\n\u001b[1;32m     11\u001b[0m         links = [url + link.get('href') for link in soup.find_all('a') \n",
        "\u001b[0;32m/Users/ted_alejandre/anaconda/lib/python2.7/urllib2.pyc\u001b[0m in \u001b[0;36murlopen\u001b[0;34m(url, data, timeout)\u001b[0m\n\u001b[1;32m    125\u001b[0m     \u001b[0;32mif\u001b[0m \u001b[0m_opener\u001b[0m \u001b[0;32mis\u001b[0m \u001b[0mNone\u001b[0m\u001b[0;34m:\u001b[0m\u001b[0;34m\u001b[0m\u001b[0m\n\u001b[1;32m    126\u001b[0m         \u001b[0m_opener\u001b[0m \u001b[0;34m=\u001b[0m \u001b[0mbuild_opener\u001b[0m\u001b[0;34m(\u001b[0m\u001b[0;34m)\u001b[0m\u001b[0;34m\u001b[0m\u001b[0m\n\u001b[0;32m--> 127\u001b[0;31m     \u001b[0;32mreturn\u001b[0m \u001b[0m_opener\u001b[0m\u001b[0;34m.\u001b[0m\u001b[0mopen\u001b[0m\u001b[0;34m(\u001b[0m\u001b[0murl\u001b[0m\u001b[0;34m,\u001b[0m \u001b[0mdata\u001b[0m\u001b[0;34m,\u001b[0m \u001b[0mtimeout\u001b[0m\u001b[0;34m)\u001b[0m\u001b[0;34m\u001b[0m\u001b[0m\n\u001b[0m\u001b[1;32m    128\u001b[0m \u001b[0;34m\u001b[0m\u001b[0m\n\u001b[1;32m    129\u001b[0m \u001b[0;32mdef\u001b[0m \u001b[0minstall_opener\u001b[0m\u001b[0;34m(\u001b[0m\u001b[0mopener\u001b[0m\u001b[0;34m)\u001b[0m\u001b[0;34m:\u001b[0m\u001b[0;34m\u001b[0m\u001b[0m\n",
        "\u001b[0;32m/Users/ted_alejandre/anaconda/lib/python2.7/urllib2.pyc\u001b[0m in \u001b[0;36mopen\u001b[0;34m(self, fullurl, data, timeout)\u001b[0m\n\u001b[1;32m    402\u001b[0m             \u001b[0mreq\u001b[0m \u001b[0;34m=\u001b[0m \u001b[0mmeth\u001b[0m\u001b[0;34m(\u001b[0m\u001b[0mreq\u001b[0m\u001b[0;34m)\u001b[0m\u001b[0;34m\u001b[0m\u001b[0m\n\u001b[1;32m    403\u001b[0m \u001b[0;34m\u001b[0m\u001b[0m\n\u001b[0;32m--> 404\u001b[0;31m         \u001b[0mresponse\u001b[0m \u001b[0;34m=\u001b[0m \u001b[0mself\u001b[0m\u001b[0;34m.\u001b[0m\u001b[0m_open\u001b[0m\u001b[0;34m(\u001b[0m\u001b[0mreq\u001b[0m\u001b[0;34m,\u001b[0m \u001b[0mdata\u001b[0m\u001b[0;34m)\u001b[0m\u001b[0;34m\u001b[0m\u001b[0m\n\u001b[0m\u001b[1;32m    405\u001b[0m \u001b[0;34m\u001b[0m\u001b[0m\n\u001b[1;32m    406\u001b[0m         \u001b[0;31m# post-process response\u001b[0m\u001b[0;34m\u001b[0m\u001b[0;34m\u001b[0m\u001b[0m\n",
        "\u001b[0;32m/Users/ted_alejandre/anaconda/lib/python2.7/urllib2.pyc\u001b[0m in \u001b[0;36m_open\u001b[0;34m(self, req, data)\u001b[0m\n\u001b[1;32m    420\u001b[0m         \u001b[0mprotocol\u001b[0m \u001b[0;34m=\u001b[0m \u001b[0mreq\u001b[0m\u001b[0;34m.\u001b[0m\u001b[0mget_type\u001b[0m\u001b[0;34m(\u001b[0m\u001b[0;34m)\u001b[0m\u001b[0;34m\u001b[0m\u001b[0m\n\u001b[1;32m    421\u001b[0m         result = self._call_chain(self.handle_open, protocol, protocol +\n\u001b[0;32m--> 422\u001b[0;31m                                   '_open', req)\n\u001b[0m\u001b[1;32m    423\u001b[0m         \u001b[0;32mif\u001b[0m \u001b[0mresult\u001b[0m\u001b[0;34m:\u001b[0m\u001b[0;34m\u001b[0m\u001b[0m\n\u001b[1;32m    424\u001b[0m             \u001b[0;32mreturn\u001b[0m \u001b[0mresult\u001b[0m\u001b[0;34m\u001b[0m\u001b[0m\n",
        "\u001b[0;32m/Users/ted_alejandre/anaconda/lib/python2.7/urllib2.pyc\u001b[0m in \u001b[0;36m_call_chain\u001b[0;34m(self, chain, kind, meth_name, *args)\u001b[0m\n\u001b[1;32m    380\u001b[0m             \u001b[0mfunc\u001b[0m \u001b[0;34m=\u001b[0m \u001b[0mgetattr\u001b[0m\u001b[0;34m(\u001b[0m\u001b[0mhandler\u001b[0m\u001b[0;34m,\u001b[0m \u001b[0mmeth_name\u001b[0m\u001b[0;34m)\u001b[0m\u001b[0;34m\u001b[0m\u001b[0m\n\u001b[1;32m    381\u001b[0m \u001b[0;34m\u001b[0m\u001b[0m\n\u001b[0;32m--> 382\u001b[0;31m             \u001b[0mresult\u001b[0m \u001b[0;34m=\u001b[0m \u001b[0mfunc\u001b[0m\u001b[0;34m(\u001b[0m\u001b[0;34m*\u001b[0m\u001b[0margs\u001b[0m\u001b[0;34m)\u001b[0m\u001b[0;34m\u001b[0m\u001b[0m\n\u001b[0m\u001b[1;32m    383\u001b[0m             \u001b[0;32mif\u001b[0m \u001b[0mresult\u001b[0m \u001b[0;32mis\u001b[0m \u001b[0;32mnot\u001b[0m \u001b[0mNone\u001b[0m\u001b[0;34m:\u001b[0m\u001b[0;34m\u001b[0m\u001b[0m\n\u001b[1;32m    384\u001b[0m                 \u001b[0;32mreturn\u001b[0m \u001b[0mresult\u001b[0m\u001b[0;34m\u001b[0m\u001b[0m\n",
        "\u001b[0;32m/Users/ted_alejandre/anaconda/lib/python2.7/urllib2.pyc\u001b[0m in \u001b[0;36mhttps_open\u001b[0;34m(self, req)\u001b[0m\n\u001b[1;32m   1220\u001b[0m \u001b[0;34m\u001b[0m\u001b[0m\n\u001b[1;32m   1221\u001b[0m         \u001b[0;32mdef\u001b[0m \u001b[0mhttps_open\u001b[0m\u001b[0;34m(\u001b[0m\u001b[0mself\u001b[0m\u001b[0;34m,\u001b[0m \u001b[0mreq\u001b[0m\u001b[0;34m)\u001b[0m\u001b[0;34m:\u001b[0m\u001b[0;34m\u001b[0m\u001b[0m\n\u001b[0;32m-> 1222\u001b[0;31m             \u001b[0;32mreturn\u001b[0m \u001b[0mself\u001b[0m\u001b[0;34m.\u001b[0m\u001b[0mdo_open\u001b[0m\u001b[0;34m(\u001b[0m\u001b[0mhttplib\u001b[0m\u001b[0;34m.\u001b[0m\u001b[0mHTTPSConnection\u001b[0m\u001b[0;34m,\u001b[0m \u001b[0mreq\u001b[0m\u001b[0;34m)\u001b[0m\u001b[0;34m\u001b[0m\u001b[0m\n\u001b[0m\u001b[1;32m   1223\u001b[0m \u001b[0;34m\u001b[0m\u001b[0m\n\u001b[1;32m   1224\u001b[0m         \u001b[0mhttps_request\u001b[0m \u001b[0;34m=\u001b[0m \u001b[0mAbstractHTTPHandler\u001b[0m\u001b[0;34m.\u001b[0m\u001b[0mdo_request_\u001b[0m\u001b[0;34m\u001b[0m\u001b[0m\n",
        "\u001b[0;32m/Users/ted_alejandre/anaconda/lib/python2.7/urllib2.pyc\u001b[0m in \u001b[0;36mdo_open\u001b[0;34m(self, http_class, req)\u001b[0m\n\u001b[1;32m   1185\u001b[0m         \u001b[0;32melse\u001b[0m\u001b[0;34m:\u001b[0m\u001b[0;34m\u001b[0m\u001b[0m\n\u001b[1;32m   1186\u001b[0m             \u001b[0;32mtry\u001b[0m\u001b[0;34m:\u001b[0m\u001b[0;34m\u001b[0m\u001b[0m\n\u001b[0;32m-> 1187\u001b[0;31m                 \u001b[0mr\u001b[0m \u001b[0;34m=\u001b[0m \u001b[0mh\u001b[0m\u001b[0;34m.\u001b[0m\u001b[0mgetresponse\u001b[0m\u001b[0;34m(\u001b[0m\u001b[0mbuffering\u001b[0m\u001b[0;34m=\u001b[0m\u001b[0mTrue\u001b[0m\u001b[0;34m)\u001b[0m\u001b[0;34m\u001b[0m\u001b[0m\n\u001b[0m\u001b[1;32m   1188\u001b[0m             \u001b[0;32mexcept\u001b[0m \u001b[0mTypeError\u001b[0m\u001b[0;34m:\u001b[0m \u001b[0;31m# buffering kw not supported\u001b[0m\u001b[0;34m\u001b[0m\u001b[0m\n\u001b[1;32m   1189\u001b[0m                 \u001b[0mr\u001b[0m \u001b[0;34m=\u001b[0m \u001b[0mh\u001b[0m\u001b[0;34m.\u001b[0m\u001b[0mgetresponse\u001b[0m\u001b[0;34m(\u001b[0m\u001b[0;34m)\u001b[0m\u001b[0;34m\u001b[0m\u001b[0m\n",
        "\u001b[0;32m/Users/ted_alejandre/anaconda/lib/python2.7/httplib.pyc\u001b[0m in \u001b[0;36mgetresponse\u001b[0;34m(self, buffering)\u001b[0m\n\u001b[1;32m   1065\u001b[0m         \u001b[0mresponse\u001b[0m \u001b[0;34m=\u001b[0m \u001b[0mself\u001b[0m\u001b[0;34m.\u001b[0m\u001b[0mresponse_class\u001b[0m\u001b[0;34m(\u001b[0m\u001b[0;34m*\u001b[0m\u001b[0margs\u001b[0m\u001b[0;34m,\u001b[0m \u001b[0;34m**\u001b[0m\u001b[0mkwds\u001b[0m\u001b[0;34m)\u001b[0m\u001b[0;34m\u001b[0m\u001b[0m\n\u001b[1;32m   1066\u001b[0m \u001b[0;34m\u001b[0m\u001b[0m\n\u001b[0;32m-> 1067\u001b[0;31m         \u001b[0mresponse\u001b[0m\u001b[0;34m.\u001b[0m\u001b[0mbegin\u001b[0m\u001b[0;34m(\u001b[0m\u001b[0;34m)\u001b[0m\u001b[0;34m\u001b[0m\u001b[0m\n\u001b[0m\u001b[1;32m   1068\u001b[0m         \u001b[0;32massert\u001b[0m \u001b[0mresponse\u001b[0m\u001b[0;34m.\u001b[0m\u001b[0mwill_close\u001b[0m \u001b[0;34m!=\u001b[0m \u001b[0m_UNKNOWN\u001b[0m\u001b[0;34m\u001b[0m\u001b[0m\n\u001b[1;32m   1069\u001b[0m         \u001b[0mself\u001b[0m\u001b[0;34m.\u001b[0m\u001b[0m__state\u001b[0m \u001b[0;34m=\u001b[0m \u001b[0m_CS_IDLE\u001b[0m\u001b[0;34m\u001b[0m\u001b[0m\n",
        "\u001b[0;32m/Users/ted_alejandre/anaconda/lib/python2.7/httplib.pyc\u001b[0m in \u001b[0;36mbegin\u001b[0;34m(self)\u001b[0m\n\u001b[1;32m    407\u001b[0m         \u001b[0;31m# read until we get a non-100 response\u001b[0m\u001b[0;34m\u001b[0m\u001b[0;34m\u001b[0m\u001b[0m\n\u001b[1;32m    408\u001b[0m         \u001b[0;32mwhile\u001b[0m \u001b[0mTrue\u001b[0m\u001b[0;34m:\u001b[0m\u001b[0;34m\u001b[0m\u001b[0m\n\u001b[0;32m--> 409\u001b[0;31m             \u001b[0mversion\u001b[0m\u001b[0;34m,\u001b[0m \u001b[0mstatus\u001b[0m\u001b[0;34m,\u001b[0m \u001b[0mreason\u001b[0m \u001b[0;34m=\u001b[0m \u001b[0mself\u001b[0m\u001b[0;34m.\u001b[0m\u001b[0m_read_status\u001b[0m\u001b[0;34m(\u001b[0m\u001b[0;34m)\u001b[0m\u001b[0;34m\u001b[0m\u001b[0m\n\u001b[0m\u001b[1;32m    410\u001b[0m             \u001b[0;32mif\u001b[0m \u001b[0mstatus\u001b[0m \u001b[0;34m!=\u001b[0m \u001b[0mCONTINUE\u001b[0m\u001b[0;34m:\u001b[0m\u001b[0;34m\u001b[0m\u001b[0m\n\u001b[1;32m    411\u001b[0m                 \u001b[0;32mbreak\u001b[0m\u001b[0;34m\u001b[0m\u001b[0m\n",
        "\u001b[0;32m/Users/ted_alejandre/anaconda/lib/python2.7/httplib.pyc\u001b[0m in \u001b[0;36m_read_status\u001b[0;34m(self)\u001b[0m\n\u001b[1;32m    363\u001b[0m     \u001b[0;32mdef\u001b[0m \u001b[0m_read_status\u001b[0m\u001b[0;34m(\u001b[0m\u001b[0mself\u001b[0m\u001b[0;34m)\u001b[0m\u001b[0;34m:\u001b[0m\u001b[0;34m\u001b[0m\u001b[0m\n\u001b[1;32m    364\u001b[0m         \u001b[0;31m# Initialize with Simple-Response defaults\u001b[0m\u001b[0;34m\u001b[0m\u001b[0;34m\u001b[0m\u001b[0m\n\u001b[0;32m--> 365\u001b[0;31m         \u001b[0mline\u001b[0m \u001b[0;34m=\u001b[0m \u001b[0mself\u001b[0m\u001b[0;34m.\u001b[0m\u001b[0mfp\u001b[0m\u001b[0;34m.\u001b[0m\u001b[0mreadline\u001b[0m\u001b[0;34m(\u001b[0m\u001b[0m_MAXLINE\u001b[0m \u001b[0;34m+\u001b[0m \u001b[0;36m1\u001b[0m\u001b[0;34m)\u001b[0m\u001b[0;34m\u001b[0m\u001b[0m\n\u001b[0m\u001b[1;32m    366\u001b[0m         \u001b[0;32mif\u001b[0m \u001b[0mlen\u001b[0m\u001b[0;34m(\u001b[0m\u001b[0mline\u001b[0m\u001b[0;34m)\u001b[0m \u001b[0;34m>\u001b[0m \u001b[0m_MAXLINE\u001b[0m\u001b[0;34m:\u001b[0m\u001b[0;34m\u001b[0m\u001b[0m\n\u001b[1;32m    367\u001b[0m             \u001b[0;32mraise\u001b[0m \u001b[0mLineTooLong\u001b[0m\u001b[0;34m(\u001b[0m\u001b[0;34m\"header line\"\u001b[0m\u001b[0;34m)\u001b[0m\u001b[0;34m\u001b[0m\u001b[0m\n",
        "\u001b[0;32m/Users/ted_alejandre/anaconda/lib/python2.7/socket.pyc\u001b[0m in \u001b[0;36mreadline\u001b[0;34m(self, size)\u001b[0m\n\u001b[1;32m    474\u001b[0m             \u001b[0;32mwhile\u001b[0m \u001b[0mTrue\u001b[0m\u001b[0;34m:\u001b[0m\u001b[0;34m\u001b[0m\u001b[0m\n\u001b[1;32m    475\u001b[0m                 \u001b[0;32mtry\u001b[0m\u001b[0;34m:\u001b[0m\u001b[0;34m\u001b[0m\u001b[0m\n\u001b[0;32m--> 476\u001b[0;31m                     \u001b[0mdata\u001b[0m \u001b[0;34m=\u001b[0m \u001b[0mself\u001b[0m\u001b[0;34m.\u001b[0m\u001b[0m_sock\u001b[0m\u001b[0;34m.\u001b[0m\u001b[0mrecv\u001b[0m\u001b[0;34m(\u001b[0m\u001b[0mself\u001b[0m\u001b[0;34m.\u001b[0m\u001b[0m_rbufsize\u001b[0m\u001b[0;34m)\u001b[0m\u001b[0;34m\u001b[0m\u001b[0m\n\u001b[0m\u001b[1;32m    477\u001b[0m                 \u001b[0;32mexcept\u001b[0m \u001b[0merror\u001b[0m\u001b[0;34m,\u001b[0m \u001b[0me\u001b[0m\u001b[0;34m:\u001b[0m\u001b[0;34m\u001b[0m\u001b[0m\n\u001b[1;32m    478\u001b[0m                     \u001b[0;32mif\u001b[0m \u001b[0me\u001b[0m\u001b[0;34m.\u001b[0m\u001b[0margs\u001b[0m\u001b[0;34m[\u001b[0m\u001b[0;36m0\u001b[0m\u001b[0;34m]\u001b[0m \u001b[0;34m==\u001b[0m \u001b[0mEINTR\u001b[0m\u001b[0;34m:\u001b[0m\u001b[0;34m\u001b[0m\u001b[0m\n",
        "\u001b[0;32m/Users/ted_alejandre/anaconda/lib/python2.7/ssl.pyc\u001b[0m in \u001b[0;36mrecv\u001b[0;34m(self, buflen, flags)\u001b[0m\n\u001b[1;32m    244\u001b[0m                     \u001b[0;34m\"non-zero flags not allowed in calls to recv() on %s\"\u001b[0m \u001b[0;34m%\u001b[0m\u001b[0;34m\u001b[0m\u001b[0m\n\u001b[1;32m    245\u001b[0m                     self.__class__)\n\u001b[0;32m--> 246\u001b[0;31m             \u001b[0;32mreturn\u001b[0m \u001b[0mself\u001b[0m\u001b[0;34m.\u001b[0m\u001b[0mread\u001b[0m\u001b[0;34m(\u001b[0m\u001b[0mbuflen\u001b[0m\u001b[0;34m)\u001b[0m\u001b[0;34m\u001b[0m\u001b[0m\n\u001b[0m\u001b[1;32m    247\u001b[0m         \u001b[0;32melse\u001b[0m\u001b[0;34m:\u001b[0m\u001b[0;34m\u001b[0m\u001b[0m\n\u001b[1;32m    248\u001b[0m             \u001b[0;32mreturn\u001b[0m \u001b[0mself\u001b[0m\u001b[0;34m.\u001b[0m\u001b[0m_sock\u001b[0m\u001b[0;34m.\u001b[0m\u001b[0mrecv\u001b[0m\u001b[0;34m(\u001b[0m\u001b[0mbuflen\u001b[0m\u001b[0;34m,\u001b[0m \u001b[0mflags\u001b[0m\u001b[0;34m)\u001b[0m\u001b[0;34m\u001b[0m\u001b[0m\n",
        "\u001b[0;32m/Users/ted_alejandre/anaconda/lib/python2.7/ssl.pyc\u001b[0m in \u001b[0;36mread\u001b[0;34m(self, len)\u001b[0m\n\u001b[1;32m    163\u001b[0m \u001b[0;34m\u001b[0m\u001b[0m\n\u001b[1;32m    164\u001b[0m         \u001b[0;32mtry\u001b[0m\u001b[0;34m:\u001b[0m\u001b[0;34m\u001b[0m\u001b[0m\n\u001b[0;32m--> 165\u001b[0;31m             \u001b[0;32mreturn\u001b[0m \u001b[0mself\u001b[0m\u001b[0;34m.\u001b[0m\u001b[0m_sslobj\u001b[0m\u001b[0;34m.\u001b[0m\u001b[0mread\u001b[0m\u001b[0;34m(\u001b[0m\u001b[0mlen\u001b[0m\u001b[0;34m)\u001b[0m\u001b[0;34m\u001b[0m\u001b[0m\n\u001b[0m\u001b[1;32m    166\u001b[0m         \u001b[0;32mexcept\u001b[0m \u001b[0mSSLError\u001b[0m\u001b[0;34m,\u001b[0m \u001b[0mx\u001b[0m\u001b[0;34m:\u001b[0m\u001b[0;34m\u001b[0m\u001b[0m\n\u001b[1;32m    167\u001b[0m             \u001b[0;32mif\u001b[0m \u001b[0mx\u001b[0m\u001b[0;34m.\u001b[0m\u001b[0margs\u001b[0m\u001b[0;34m[\u001b[0m\u001b[0;36m0\u001b[0m\u001b[0;34m]\u001b[0m \u001b[0;34m==\u001b[0m \u001b[0mSSL_ERROR_EOF\u001b[0m \u001b[0;32mand\u001b[0m \u001b[0mself\u001b[0m\u001b[0;34m.\u001b[0m\u001b[0msuppress_ragged_eofs\u001b[0m\u001b[0;34m:\u001b[0m\u001b[0;34m\u001b[0m\u001b[0m\n",
        "\u001b[0;31mKeyboardInterrupt\u001b[0m: "
       ]
      }
     ],
     "prompt_number": 22
    },
    {
     "cell_type": "markdown",
     "metadata": {},
     "source": [
      "* write downloaded links to list "
     ]
    },
    {
     "cell_type": "code",
     "collapsed": false,
     "input": [
      "f=open('tar_links.txt','w')\n",
      "l1=map(lambda x:x+'\\n', tar_links)\n",
      "f.writelines(l1)\n",
      "f.close()"
     ],
     "language": "python",
     "metadata": {},
     "outputs": [],
     "prompt_number": 23
    },
    {
     "cell_type": "code",
     "collapsed": false,
     "input": [
      "!cat tar_links.txt"
     ],
     "language": "python",
     "metadata": {},
     "outputs": [
      {
       "output_type": "stream",
       "stream": "stdout",
       "text": [
        "https://tcga-data.nci.nih.gov/tcgafiles/ftp_auth/distro_ftpusers/anonymous/tumor/acc/cgcc/jhu-usc.edu/humanmethylation450/methylation/jhu-usc.edu_ACC.HumanMethylation450.mage-tab.1.0.0.tar.gz\r\n",
        "https://tcga-data.nci.nih.gov/tcgafiles/ftp_auth/distro_ftpusers/anonymous/tumor/acc/cgcc/jhu-usc.edu/humanmethylation450/methylation/jhu-usc.edu_ACC.HumanMethylation450.aux.1.0.0.tar.gz\r\n",
        "https://tcga-data.nci.nih.gov/tcgafiles/ftp_auth/distro_ftpusers/anonymous/tumor/blca/cgcc/jhu-usc.edu/humanmethylation450/methylation/jhu-usc.edu_BLCA.HumanMethylation450.mage-tab.1.0.0.tar.gz\r\n",
        "https://tcga-data.nci.nih.gov/tcgafiles/ftp_auth/distro_ftpusers/anonymous/tumor/blca/cgcc/jhu-usc.edu/humanmethylation450/methylation/jhu-usc.edu_BLCA.HumanMethylation450.mage-tab.1.1.0.tar.gz\r\n",
        "https://tcga-data.nci.nih.gov/tcgafiles/ftp_auth/distro_ftpusers/anonymous/tumor/blca/cgcc/jhu-usc.edu/humanmethylation450/methylation/jhu-usc.edu_BLCA.HumanMethylation450.mage-tab.1.10.0.tar.gz\r\n",
        "https://tcga-data.nci.nih.gov/tcgafiles/ftp_auth/distro_ftpusers/anonymous/tumor/blca/cgcc/jhu-usc.edu/humanmethylation450/methylation/jhu-usc.edu_BLCA.HumanMethylation450.mage-tab.1.11.0.tar.gz\r\n",
        "https://tcga-data.nci.nih.gov/tcgafiles/ftp_auth/distro_ftpusers/anonymous/tumor/blca/cgcc/jhu-usc.edu/humanmethylation450/methylation/jhu-usc.edu_BLCA.HumanMethylation450.mage-tab.1.12.0.tar.gz\r\n",
        "https://tcga-data.nci.nih.gov/tcgafiles/ftp_auth/distro_ftpusers/anonymous/tumor/blca/cgcc/jhu-usc.edu/humanmethylation450/methylation/jhu-usc.edu_BLCA.HumanMethylation450.mage-tab.1.13.0.tar.gz\r\n",
        "https://tcga-data.nci.nih.gov/tcgafiles/ftp_auth/distro_ftpusers/anonymous/tumor/blca/cgcc/jhu-usc.edu/humanmethylation450/methylation/jhu-usc.edu_BLCA.HumanMethylation450.mage-tab.1.14.0.tar.gz\r\n",
        "https://tcga-data.nci.nih.gov/tcgafiles/ftp_auth/distro_ftpusers/anonymous/tumor/blca/cgcc/jhu-usc.edu/humanmethylation450/methylation/jhu-usc.edu_BLCA.HumanMethylation450.mage-tab.1.15.0.tar.gz\r\n",
        "https://tcga-data.nci.nih.gov/tcgafiles/ftp_auth/distro_ftpusers/anonymous/tumor/blca/cgcc/jhu-usc.edu/humanmethylation450/methylation/jhu-usc.edu_BLCA.HumanMethylation450.mage-tab.1.16.0.tar.gz\r\n",
        "https://tcga-data.nci.nih.gov/tcgafiles/ftp_auth/distro_ftpusers/anonymous/tumor/blca/cgcc/jhu-usc.edu/humanmethylation450/methylation/jhu-usc.edu_BLCA.HumanMethylation450.mage-tab.1.17.0.tar.gz\r\n",
        "https://tcga-data.nci.nih.gov/tcgafiles/ftp_auth/distro_ftpusers/anonymous/tumor/blca/cgcc/jhu-usc.edu/humanmethylation450/methylation/jhu-usc.edu_BLCA.HumanMethylation450.mage-tab.1.2.0.tar.gz\r\n",
        "https://tcga-data.nci.nih.gov/tcgafiles/ftp_auth/distro_ftpusers/anonymous/tumor/blca/cgcc/jhu-usc.edu/humanmethylation450/methylation/jhu-usc.edu_BLCA.HumanMethylation450.mage-tab.1.3.0.tar.gz\r\n",
        "https://tcga-data.nci.nih.gov/tcgafiles/ftp_auth/distro_ftpusers/anonymous/tumor/blca/cgcc/jhu-usc.edu/humanmethylation450/methylation/jhu-usc.edu_BLCA.HumanMethylation450.mage-tab.1.4.0.tar.gz\r\n",
        "https://tcga-data.nci.nih.gov/tcgafiles/ftp_auth/distro_ftpusers/anonymous/tumor/blca/cgcc/jhu-usc.edu/humanmethylation450/methylation/jhu-usc.edu_BLCA.HumanMethylation450.mage-tab.1.5.0.tar.gz\r\n",
        "https://tcga-data.nci.nih.gov/tcgafiles/ftp_auth/distro_ftpusers/anonymous/tumor/blca/cgcc/jhu-usc.edu/humanmethylation450/methylation/jhu-usc.edu_BLCA.HumanMethylation450.mage-tab.1.6.0.tar.gz\r\n",
        "https://tcga-data.nci.nih.gov/tcgafiles/ftp_auth/distro_ftpusers/anonymous/tumor/blca/cgcc/jhu-usc.edu/humanmethylation450/methylation/jhu-usc.edu_BLCA.HumanMethylation450.mage-tab.1.7.0.tar.gz\r\n",
        "https://tcga-data.nci.nih.gov/tcgafiles/ftp_auth/distro_ftpusers/anonymous/tumor/blca/cgcc/jhu-usc.edu/humanmethylation450/methylation/jhu-usc.edu_BLCA.HumanMethylation450.mage-tab.1.8.0.tar.gz\r\n",
        "https://tcga-data.nci.nih.gov/tcgafiles/ftp_auth/distro_ftpusers/anonymous/tumor/blca/cgcc/jhu-usc.edu/humanmethylation450/methylation/jhu-usc.edu_BLCA.HumanMethylation450.mage-tab.1.9.0.tar.gz\r\n",
        "https://tcga-data.nci.nih.gov/tcgafiles/ftp_auth/distro_ftpusers/anonymous/tumor/blca/cgcc/jhu-usc.edu/humanmethylation450/methylation/jhu-usc.edu_BLCA.HumanMethylation450.aux.1.0.0.tar.gz\r\n",
        "https://tcga-data.nci.nih.gov/tcgafiles/ftp_auth/distro_ftpusers/anonymous/tumor/blca/cgcc/jhu-usc.edu/humanmethylation450/methylation/jhu-usc.edu_BLCA.HumanMethylation450.aux.1.1.0.tar.gz\r\n",
        "https://tcga-data.nci.nih.gov/tcgafiles/ftp_auth/distro_ftpusers/anonymous/tumor/blca/cgcc/jhu-usc.edu/humanmethylation450/methylation/jhu-usc.edu_BLCA.HumanMethylation450.aux.1.10.0.tar.gz\r\n",
        "https://tcga-data.nci.nih.gov/tcgafiles/ftp_auth/distro_ftpusers/anonymous/tumor/blca/cgcc/jhu-usc.edu/humanmethylation450/methylation/jhu-usc.edu_BLCA.HumanMethylation450.aux.1.11.0.tar.gz\r\n",
        "https://tcga-data.nci.nih.gov/tcgafiles/ftp_auth/distro_ftpusers/anonymous/tumor/blca/cgcc/jhu-usc.edu/humanmethylation450/methylation/jhu-usc.edu_BLCA.HumanMethylation450.aux.1.12.0.tar.gz\r\n",
        "https://tcga-data.nci.nih.gov/tcgafiles/ftp_auth/distro_ftpusers/anonymous/tumor/blca/cgcc/jhu-usc.edu/humanmethylation450/methylation/jhu-usc.edu_BLCA.HumanMethylation450.aux.1.13.0.tar.gz\r\n",
        "https://tcga-data.nci.nih.gov/tcgafiles/ftp_auth/distro_ftpusers/anonymous/tumor/blca/cgcc/jhu-usc.edu/humanmethylation450/methylation/jhu-usc.edu_BLCA.HumanMethylation450.aux.1.14.0.tar.gz\r\n",
        "https://tcga-data.nci.nih.gov/tcgafiles/ftp_auth/distro_ftpusers/anonymous/tumor/blca/cgcc/jhu-usc.edu/humanmethylation450/methylation/jhu-usc.edu_BLCA.HumanMethylation450.aux.1.15.0.tar.gz\r\n",
        "https://tcga-data.nci.nih.gov/tcgafiles/ftp_auth/distro_ftpusers/anonymous/tumor/blca/cgcc/jhu-usc.edu/humanmethylation450/methylation/jhu-usc.edu_BLCA.HumanMethylation450.aux.1.16.0.tar.gz\r\n",
        "https://tcga-data.nci.nih.gov/tcgafiles/ftp_auth/distro_ftpusers/anonymous/tumor/blca/cgcc/jhu-usc.edu/humanmethylation450/methylation/jhu-usc.edu_BLCA.HumanMethylation450.aux.1.17.0.tar.gz\r\n",
        "https://tcga-data.nci.nih.gov/tcgafiles/ftp_auth/distro_ftpusers/anonymous/tumor/blca/cgcc/jhu-usc.edu/humanmethylation450/methylation/jhu-usc.edu_BLCA.HumanMethylation450.aux.1.2.0.tar.gz\r\n",
        "https://tcga-data.nci.nih.gov/tcgafiles/ftp_auth/distro_ftpusers/anonymous/tumor/blca/cgcc/jhu-usc.edu/humanmethylation450/methylation/jhu-usc.edu_BLCA.HumanMethylation450.aux.1.3.0.tar.gz\r\n",
        "https://tcga-data.nci.nih.gov/tcgafiles/ftp_auth/distro_ftpusers/anonymous/tumor/blca/cgcc/jhu-usc.edu/humanmethylation450/methylation/jhu-usc.edu_BLCA.HumanMethylation450.aux.1.4.0.tar.gz\r\n",
        "https://tcga-data.nci.nih.gov/tcgafiles/ftp_auth/distro_ftpusers/anonymous/tumor/blca/cgcc/jhu-usc.edu/humanmethylation450/methylation/jhu-usc.edu_BLCA.HumanMethylation450.aux.1.5.0.tar.gz\r\n",
        "https://tcga-data.nci.nih.gov/tcgafiles/ftp_auth/distro_ftpusers/anonymous/tumor/blca/cgcc/jhu-usc.edu/humanmethylation450/methylation/jhu-usc.edu_BLCA.HumanMethylation450.aux.1.6.0.tar.gz\r\n",
        "https://tcga-data.nci.nih.gov/tcgafiles/ftp_auth/distro_ftpusers/anonymous/tumor/blca/cgcc/jhu-usc.edu/humanmethylation450/methylation/jhu-usc.edu_BLCA.HumanMethylation450.aux.1.7.0.tar.gz\r\n",
        "https://tcga-data.nci.nih.gov/tcgafiles/ftp_auth/distro_ftpusers/anonymous/tumor/blca/cgcc/jhu-usc.edu/humanmethylation450/methylation/jhu-usc.edu_BLCA.HumanMethylation450.aux.1.8.0.tar.gz\r\n",
        "https://tcga-data.nci.nih.gov/tcgafiles/ftp_auth/distro_ftpusers/anonymous/tumor/blca/cgcc/jhu-usc.edu/humanmethylation450/methylation/jhu-usc.edu_BLCA.HumanMethylation450.aux.1.9.0.tar.gz\r\n"
       ]
      }
     ],
     "prompt_number": 25
    },
    {
     "cell_type": "markdown",
     "metadata": {},
     "source": [
      "<b>Download tar.gz files, unzip and extract to new destination</b>"
     ]
    },
    {
     "cell_type": "code",
     "collapsed": false,
     "input": [
      "#Works but trying the other way first\n",
      "#!wget -q -i tar_links.txt | tar -xz\n",
      "#clear_output()"
     ],
     "language": "python",
     "metadata": {},
     "outputs": [],
     "prompt_number": 26
    },
    {
     "cell_type": "code",
     "collapsed": false,
     "input": [
      "!wget -q -i tar_links.txt "
     ],
     "language": "python",
     "metadata": {},
     "outputs": []
    },
    {
     "cell_type": "code",
     "collapsed": false,
     "input": [
      "for i in *.tar.gz; do tar xzf $i -C /data/nrnb01_nobackup/agross/TCGA_methylation; done"
     ],
     "language": "python",
     "metadata": {},
     "outputs": []
    },
    {
     "cell_type": "markdown",
     "metadata": {},
     "source": [
      "<b>Go to directory where data is stored</b>"
     ]
    },
    {
     "cell_type": "code",
     "collapsed": false,
     "input": [
      "cd /data/nrnb01_nobackup/agross/TCGA_methylation"
     ],
     "language": "python",
     "metadata": {},
     "outputs": []
    },
    {
     "cell_type": "markdown",
     "metadata": {},
     "source": [
      "<b>Rearrange and count files using bash script </b>\n",
      "* Files are moved to corresponding folders and each folder is counted for the number of idat files present"
     ]
    },
    {
     "cell_type": "code",
     "collapsed": false,
     "input": [
      "%%move_and_count.sh*"
     ],
     "language": "python",
     "metadata": {},
     "outputs": []
    },
    {
     "cell_type": "code",
     "collapsed": false,
     "input": [
      "!echo $move_and_count.sh"
     ],
     "language": "python",
     "metadata": {},
     "outputs": []
    },
    {
     "cell_type": "markdown",
     "metadata": {},
     "source": [
      "* Displays text doc that shows number of idat files per cancer subtype"
     ]
    },
    {
     "cell_type": "code",
     "collapsed": false,
     "input": [
      "!cat idat_count.txt "
     ],
     "language": "python",
     "metadata": {},
     "outputs": []
    },
    {
     "cell_type": "markdown",
     "metadata": {},
     "source": [
      "<b>Concerns:</b>"
     ]
    },
    {
     "cell_type": "markdown",
     "metadata": {},
     "source": [
      "* should i move csv mappings somewhere separately - maybe since error in lgg, laml etc, however \n",
      "**could just get rid of those\n",
      "* also need to remove tar.gz in script - in script\n",
      "* also need to only get newest aux file - when expanding into parent, it replaces with current aux\n",
      "* also need to move all idat files of each cancer in one folder - should be doing it\n"
     ]
    }
   ],
   "metadata": {}
  }
 ]
}