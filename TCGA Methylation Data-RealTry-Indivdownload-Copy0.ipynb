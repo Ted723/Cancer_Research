{
 "metadata": {
  "kernelspec": {
   "codemirror_mode": {
    "name": "ipython",
    "version": 2
   },
   "display_name": "IPython (Python 2)",
   "language": "python",
   "name": "python2"
  },
  "name": "",
  "signature": "sha256:a51b4a450830c5b1c82c7bcfe7100b517aaf38c39565f8c6bda0115a2bc56a48"
 },
 "nbformat": 3,
 "nbformat_minor": 0,
 "worksheets": [
  {
   "cells": [
    {
     "cell_type": "heading",
     "level": 1,
     "metadata": {},
     "source": [
      "Get TCGA Methylation Data"
     ]
    },
    {
     "cell_type": "markdown",
     "metadata": {},
     "source": [
      "<b>Imports</b>"
     ]
    },
    {
     "cell_type": "code",
     "collapsed": false,
     "input": [
      "from bs4 import BeautifulSoup\n",
      "import urllib2\n",
      "from urllib2 import HTTPError\n",
      "import pandas as pd\n",
      "import os as os\n",
      "import StringIO\n",
      "import gzip"
     ],
     "language": "python",
     "metadata": {},
     "outputs": [],
     "prompt_number": 1
    },
    {
     "cell_type": "markdown",
     "metadata": {},
     "source": [
      "<b>Directory Currently In:</b>"
     ]
    },
    {
     "cell_type": "code",
     "collapsed": false,
     "input": [
      "pwd"
     ],
     "language": "python",
     "metadata": {},
     "outputs": [
      {
       "metadata": {},
       "output_type": "pyout",
       "prompt_number": 2,
       "text": [
        "u'/cellar/users/talejand/Documents/IdekerLab/BackUp'"
       ]
      }
     ],
     "prompt_number": 2
    },
    {
     "cell_type": "code",
     "collapsed": false,
     "input": [
      "ls"
     ],
     "language": "python",
     "metadata": {},
     "outputs": [
      {
       "output_type": "stream",
       "stream": "stdout",
       "text": [
        "\u001b[0m\u001b[01;34mBLCA_Meth_Data\u001b[0m/\r\n",
        "\u001b[01;34mBRCA_Meth_Data\u001b[0m/\r\n",
        "\u001b[01;34mCESC_Meth_Data\u001b[0m/\r\n",
        "\u001b[01;34mCHOL_Meth_Data\u001b[0m/\r\n",
        "\u001b[01;34mCOAD_Meth_Data\u001b[0m/\r\n",
        "\u001b[01;34mESCA_Meth_Data\u001b[0m/\r\n",
        "filess\r\n",
        "filess~\r\n",
        "\u001b[01;34mGBM_Meth_Data\u001b[0m/\r\n",
        "\u001b[01;34mHNSC_Meth_Data\u001b[0m/\r\n",
        "jhu-usc.edu_ESCA.HumanMethylation450.Level_1.10.8.0.tar\r\n",
        "jhu-usc.edu_KIRP.HumanMethylation450.Level_1.10.10.0.tar\r\n",
        "jhu-usc.edu_KIRP.HumanMethylation450.Level_1.10.9.0.tar\r\n",
        "jhu-usc.edu_KIRP.HumanMethylation450.Level_1.11.10.0.tar\r\n",
        "jhu-usc.edu_KIRP.HumanMethylation450.Level_1.11.7.0.tar\r\n",
        "jhu-usc.edu_KIRP.HumanMethylation450.Level_1.11.8.0.tar\r\n",
        "jhu-usc.edu_KIRP.HumanMethylation450.Level_1.11.9.0.tar\r\n",
        "jhu-usc.edu_KIRP.HumanMethylation450.Level_1.12.10.0.tar\r\n",
        "jhu-usc.edu_KIRP.HumanMethylation450.Level_1.12.8.0.tar\r\n",
        "jhu-usc.edu_KIRP.HumanMethylation450.Level_1.12.9.0.tar\r\n",
        "jhu-usc.edu_KIRP.HumanMethylation450.Level_1.13.10.0.tar\r\n",
        "jhu-usc.edu_KIRP.HumanMethylation450.Level_1.13.8.0.tar\r\n",
        "jhu-usc.edu_KIRP.HumanMethylation450.Level_1.13.9.0.tar\r\n",
        "jhu-usc.edu_KIRP.HumanMethylation450.Level_1.14.10.0.tar\r\n",
        "jhu-usc.edu_KIRP.HumanMethylation450.Level_1.14.9.0.tar\r\n",
        "jhu-usc.edu_KIRP.HumanMethylation450.Level_1.15.10.0.tar\r\n",
        "jhu-usc.edu_LAML.HumanMethylation450.Level_1.2.4.0.tar\r\n",
        "jhu-usc.edu_LAML.HumanMethylation450.Level_1.2.5.0.tar\r\n",
        "\u001b[01;34mJustinCase\u001b[0m/\r\n",
        "\u001b[01;34mKIRC_Meth_Data\u001b[0m/\r\n",
        "\u001b[01;34mKIRP_Meth_Data\u001b[0m/\r\n",
        "\u001b[01;34mMethyl\u001b[0m/\r\n",
        "\u001b[01;34mNotebook\u001b[0m/\r\n",
        "\u001b[01;34mtcga-data.nci.nih.gov\u001b[0m/\r\n",
        "TCGA Methylation Data Code Tries.ipynb\r\n",
        "TCGA Methylation Data-Different Real.ipynb\r\n",
        "TCGA Methylation Data OG.ipynb\r\n",
        "TCGA Methylation Data-RealTry-Indivdownload-Copy0-Copy0-Copy0-Copy0.ipynb\r\n",
        "TCGA Methylation Data-RealTry-Indivdownload-Copy0-Copy0-Copy0.ipynb\r\n",
        "TCGA Methylation Data-RealTry-Indivdownload-Copy0-Copy0.ipynb\r\n",
        "TCGA Methylation Data-RealTry-Indivdownload-Copy0.ipynb\r\n",
        "TCGA Methylation Data-RealTry-Indivdownload.ipynb\r\n",
        "tmp.html\r\n"
       ]
      }
     ],
     "prompt_number": 3
    },
    {
     "cell_type": "markdown",
     "metadata": {},
     "source": [
      "<b>Outpaths</b>"
     ]
    },
    {
     "cell_type": "code",
     "collapsed": false,
     "input": [
      "PATH_TO_CERT = 'JustinCase/cacert.pem'\n",
      "OUT_PATH = 'Methyl'\n",
      "out_path = OUT_PATH + '/New_Methyl_Data'\n",
      "if not os.path.isdir(out_path):\n",
      "    os.mkdir(out_path)"
     ],
     "language": "python",
     "metadata": {},
     "outputs": [],
     "prompt_number": 4
    },
    {
     "cell_type": "markdown",
     "metadata": {},
     "source": [
      "<b>Path to TCGA Website</b>"
     ]
    },
    {
     "cell_type": "code",
     "collapsed": false,
     "input": [
      "base_url = 'https://tcga-data.nci.nih.gov/tcgafiles/ftp_auth/distro_ftpusers/anonymous/tumor/'"
     ],
     "language": "python",
     "metadata": {},
     "outputs": [],
     "prompt_number": 5
    },
    {
     "cell_type": "code",
     "collapsed": false,
     "input": [
      "url = 'https://tcga-data.nci.nih.gov/tcgafiles/ftp_auth/distro_ftpusers/anonymous/tumor/lgg/cgcc/jhu-usc.edu/humanmethylation450/methylation/'"
     ],
     "language": "python",
     "metadata": {},
     "outputs": [],
     "prompt_number": 5
    },
    {
     "cell_type": "markdown",
     "metadata": {},
     "source": [
      "<b>Download Certificate (Optional?)</b>"
     ]
    },
    {
     "cell_type": "code",
     "collapsed": false,
     "input": [
      "!curl --cacert $PATH_TO_CERT $url -o tmp.html"
     ],
     "language": "python",
     "metadata": {},
     "outputs": [
      {
       "output_type": "stream",
       "stream": "stdout",
       "text": [
        "  % Total    % Received % Xferd  Average Speed   Time    Time     Time  Current\r\n",
        "                                 Dload  Upload   Total   Spent    Left  Speed\r\n",
        "\r",
        "  0     0    0     0    0     0      0      0 --:--:-- --:--:-- --:--:--     0"
       ]
      },
      {
       "output_type": "stream",
       "stream": "stdout",
       "text": [
        "\r",
        "  0     0    0     0    0     0      0      0 --:--:--  0:00:01 --:--:--     0"
       ]
      },
      {
       "output_type": "stream",
       "stream": "stdout",
       "text": [
        "\r",
        "100  228k    0  228k    0     0   148k      0 --:--:--  0:00:01 --:--:--  148k\r\n"
       ]
      }
     ],
     "prompt_number": 6
    },
    {
     "cell_type": "markdown",
     "metadata": {},
     "source": [
      "<b>Beautiful Soup module is used to parse links from webpage </b>"
     ]
    },
    {
     "cell_type": "code",
     "collapsed": false,
     "input": [
      "#webpage = urllib2.urlopen(url + 'jhu-usc.edu_HNSC.HumanMethylation450.Level_1.1.0.0.tar.gz').read()\n",
      "#webpage = urllib2.urlopen(url).read()\n",
      "webpage = open('tmp.html', 'rb').read()\n",
      "soup = BeautifulSoup(webpage)\n",
      "soup"
     ],
     "language": "python",
     "metadata": {},
     "outputs": [
      {
       "metadata": {},
       "output_type": "pyout",
       "prompt_number": 7,
       "text": [
        "<!DOCTYPE HTML PUBLIC \"-//W3C//DTD HTML 3.2 Final//EN\">\n",
        "<html>\n",
        "<head>\n",
        "<title>Index of /tcgafiles/ftp_auth/distro_ftpusers/anonymous/tumor/lgg/cgcc/jhu-usc.edu/humanmethylation450/methylation</title>\n",
        "</head>\n",
        "<body>\n",
        "<h1>Index of /tcgafiles/ftp_auth/distro_ftpusers/anonymous/tumor/lgg/cgcc/jhu-usc.edu/humanmethylation450/methylation</h1>\n",
        "<pre>      <a href=\"?C=N;O=D\">Name</a>                                                                                          <a href=\"?C=M;O=A\">Last modified</a>      <a href=\"?C=S;O=A\">Size</a>  <hr/>      <a href=\"/tcgafiles/ftp_auth/distro_ftpusers/anonymous/tumor/lgg/cgcc/jhu-usc.edu/humanmethylation450/\">Parent Directory</a>                                                                                                   -   \n",
        "      <a href=\"jhu-usc.edu_LGG.HumanMethylation450.Level_1.1.0.0.tar.gz\">jhu-usc.edu_LGG.HumanMethylation450.Level_1.1.0.0.tar.gz</a>                                      2011-08-01 14:59  201M  \n",
        "      <a href=\"jhu-usc.edu_LGG.HumanMethylation450.Level_1.1.0.0.tar.gz.md5\">jhu-usc.edu_LGG.HumanMethylation450.Level_1.1.0.0.tar.gz.md5</a>                                  2011-08-01 14:59   90   \n",
        "      <a href=\"jhu-usc.edu_LGG.HumanMethylation450.Level_1.1.0.0/\">jhu-usc.edu_LGG.HumanMethylation450.Level_1.1.0.0/</a>                                            2012-04-12 10:27    -   \n",
        "      <a href=\"jhu-usc.edu_LGG.HumanMethylation450.Level_1.1.1.0.tar.gz\">jhu-usc.edu_LGG.HumanMethylation450.Level_1.1.1.0.tar.gz</a>                                      2012-07-19 16:34  253M  \n",
        "      <a href=\"jhu-usc.edu_LGG.HumanMethylation450.Level_1.1.1.0.tar.gz.md5\">jhu-usc.edu_LGG.HumanMethylation450.Level_1.1.1.0.tar.gz.md5</a>                                  2012-07-19 16:34   90   \n",
        "      <a href=\"jhu-usc.edu_LGG.HumanMethylation450.Level_1.1.1.0/\">jhu-usc.edu_LGG.HumanMethylation450.Level_1.1.1.0/</a>                                            2012-07-19 16:33    -   \n",
        "      <a href=\"jhu-usc.edu_LGG.HumanMethylation450.Level_1.1.10.0.tar.gz\">jhu-usc.edu_LGG.HumanMethylation450.Level_1.1.10.0.tar.gz</a>                                     2014-04-10 10:46  253M  \n",
        "      <a href=\"jhu-usc.edu_LGG.HumanMethylation450.Level_1.1.10.0.tar.gz.md5\">jhu-usc.edu_LGG.HumanMethylation450.Level_1.1.10.0.tar.gz.md5</a>                                 2014-04-10 10:46   91   \n",
        "      <a href=\"jhu-usc.edu_LGG.HumanMethylation450.Level_1.1.10.0/\">jhu-usc.edu_LGG.HumanMethylation450.Level_1.1.10.0/</a>                                           2014-04-10 10:44    -   \n",
        "      <a href=\"jhu-usc.edu_LGG.HumanMethylation450.Level_1.1.11.0.tar.gz\">jhu-usc.edu_LGG.HumanMethylation450.Level_1.1.11.0.tar.gz</a>                                     2014-07-03 00:21  253M  \n",
        "      <a href=\"jhu-usc.edu_LGG.HumanMethylation450.Level_1.1.11.0.tar.gz.md5\">jhu-usc.edu_LGG.HumanMethylation450.Level_1.1.11.0.tar.gz.md5</a>                                 2014-07-03 00:21   91   \n",
        "      <a href=\"jhu-usc.edu_LGG.HumanMethylation450.Level_1.1.11.0/\">jhu-usc.edu_LGG.HumanMethylation450.Level_1.1.11.0/</a>                                           2014-07-03 00:20    -   \n",
        "      <a href=\"jhu-usc.edu_LGG.HumanMethylation450.Level_1.1.12.0.tar.gz\">jhu-usc.edu_LGG.HumanMethylation450.Level_1.1.12.0.tar.gz</a>                                     2014-08-04 15:35  253M  \n",
        "      <a href=\"jhu-usc.edu_LGG.HumanMethylation450.Level_1.1.12.0.tar.gz.md5\">jhu-usc.edu_LGG.HumanMethylation450.Level_1.1.12.0.tar.gz.md5</a>                                 2014-08-04 15:35   91   \n",
        "      <a href=\"jhu-usc.edu_LGG.HumanMethylation450.Level_1.1.12.0/\">jhu-usc.edu_LGG.HumanMethylation450.Level_1.1.12.0/</a>                                           2014-08-04 15:34    -   \n",
        "      <a href=\"jhu-usc.edu_LGG.HumanMethylation450.Level_1.1.2.0.tar.gz\">jhu-usc.edu_LGG.HumanMethylation450.Level_1.1.2.0.tar.gz</a>                                      2012-10-09 22:37  253M  \n",
        "      <a href=\"jhu-usc.edu_LGG.HumanMethylation450.Level_1.1.2.0.tar.gz.md5\">jhu-usc.edu_LGG.HumanMethylation450.Level_1.1.2.0.tar.gz.md5</a>                                  2012-10-09 22:37   90   \n",
        "      <a href=\"jhu-usc.edu_LGG.HumanMethylation450.Level_1.1.2.0/\">jhu-usc.edu_LGG.HumanMethylation450.Level_1.1.2.0/</a>                                            2012-10-09 22:36    -   \n",
        "      <a href=\"jhu-usc.edu_LGG.HumanMethylation450.Level_1.1.3.0.tar.gz\">jhu-usc.edu_LGG.HumanMethylation450.Level_1.1.3.0.tar.gz</a>                                      2012-10-30 05:44  253M  \n",
        "      <a href=\"jhu-usc.edu_LGG.HumanMethylation450.Level_1.1.3.0.tar.gz.md5\">jhu-usc.edu_LGG.HumanMethylation450.Level_1.1.3.0.tar.gz.md5</a>                                  2012-10-30 05:44   90   \n",
        "      <a href=\"jhu-usc.edu_LGG.HumanMethylation450.Level_1.1.3.0/\">jhu-usc.edu_LGG.HumanMethylation450.Level_1.1.3.0/</a>                                            2012-10-30 05:43    -   \n",
        "      <a href=\"jhu-usc.edu_LGG.HumanMethylation450.Level_1.1.4.0.tar.gz\">jhu-usc.edu_LGG.HumanMethylation450.Level_1.1.4.0.tar.gz</a>                                      2013-02-25 22:15  253M  \n",
        "      <a href=\"jhu-usc.edu_LGG.HumanMethylation450.Level_1.1.4.0.tar.gz.md5\">jhu-usc.edu_LGG.HumanMethylation450.Level_1.1.4.0.tar.gz.md5</a>                                  2013-02-25 22:15   90   \n",
        "      <a href=\"jhu-usc.edu_LGG.HumanMethylation450.Level_1.1.4.0/\">jhu-usc.edu_LGG.HumanMethylation450.Level_1.1.4.0/</a>                                            2013-02-25 22:14    -   \n",
        "      <a href=\"jhu-usc.edu_LGG.HumanMethylation450.Level_1.1.5.0.tar.gz\">jhu-usc.edu_LGG.HumanMethylation450.Level_1.1.5.0.tar.gz</a>                                      2013-04-24 20:20  253M  \n",
        "      <a href=\"jhu-usc.edu_LGG.HumanMethylation450.Level_1.1.5.0.tar.gz.md5\">jhu-usc.edu_LGG.HumanMethylation450.Level_1.1.5.0.tar.gz.md5</a>                                  2013-04-24 20:20   90   \n",
        "      <a href=\"jhu-usc.edu_LGG.HumanMethylation450.Level_1.1.5.0/\">jhu-usc.edu_LGG.HumanMethylation450.Level_1.1.5.0/</a>                                            2013-04-24 20:19    -   \n",
        "      <a href=\"jhu-usc.edu_LGG.HumanMethylation450.Level_1.1.6.0.tar.gz\">jhu-usc.edu_LGG.HumanMethylation450.Level_1.1.6.0.tar.gz</a>                                      2013-05-13 15:26  253M  \n",
        "      <a href=\"jhu-usc.edu_LGG.HumanMethylation450.Level_1.1.6.0.tar.gz.md5\">jhu-usc.edu_LGG.HumanMethylation450.Level_1.1.6.0.tar.gz.md5</a>                                  2013-05-13 15:26   90   \n",
        "      <a href=\"jhu-usc.edu_LGG.HumanMethylation450.Level_1.1.6.0/\">jhu-usc.edu_LGG.HumanMethylation450.Level_1.1.6.0/</a>                                            2013-05-13 15:25    -   \n",
        "      <a href=\"jhu-usc.edu_LGG.HumanMethylation450.Level_1.1.7.0.tar.gz\">jhu-usc.edu_LGG.HumanMethylation450.Level_1.1.7.0.tar.gz</a>                                      2013-06-17 18:14  253M  \n",
        "      <a href=\"jhu-usc.edu_LGG.HumanMethylation450.Level_1.1.7.0.tar.gz.md5\">jhu-usc.edu_LGG.HumanMethylation450.Level_1.1.7.0.tar.gz.md5</a>                                  2013-06-17 18:14   90   \n",
        "      <a href=\"jhu-usc.edu_LGG.HumanMethylation450.Level_1.1.7.0/\">jhu-usc.edu_LGG.HumanMethylation450.Level_1.1.7.0/</a>                                            2013-06-17 18:13    -   \n",
        "      <a href=\"jhu-usc.edu_LGG.HumanMethylation450.Level_1.1.8.0.tar.gz\">jhu-usc.edu_LGG.HumanMethylation450.Level_1.1.8.0.tar.gz</a>                                      2013-08-16 01:08  253M  \n",
        "      <a href=\"jhu-usc.edu_LGG.HumanMethylation450.Level_1.1.8.0.tar.gz.md5\">jhu-usc.edu_LGG.HumanMethylation450.Level_1.1.8.0.tar.gz.md5</a>                                  2013-08-16 01:08   90   \n",
        "      <a href=\"jhu-usc.edu_LGG.HumanMethylation450.Level_1.1.8.0/\">jhu-usc.edu_LGG.HumanMethylation450.Level_1.1.8.0/</a>                                            2013-08-16 01:06    -   \n",
        "      <a href=\"jhu-usc.edu_LGG.HumanMethylation450.Level_1.1.9.0.tar.gz\">jhu-usc.edu_LGG.HumanMethylation450.Level_1.1.9.0.tar.gz</a>                                      2013-12-03 06:07  253M  \n",
        "      <a href=\"jhu-usc.edu_LGG.HumanMethylation450.Level_1.1.9.0.tar.gz.md5\">jhu-usc.edu_LGG.HumanMethylation450.Level_1.1.9.0.tar.gz.md5</a>                                  2013-12-03 06:08   90   \n",
        "      <a href=\"jhu-usc.edu_LGG.HumanMethylation450.Level_1.1.9.0/\">jhu-usc.edu_LGG.HumanMethylation450.Level_1.1.9.0/</a>                                            2013-12-03 06:05    -   \n",
        "      <a href=\"jhu-usc.edu_LGG.HumanMethylation450.Level_1.10.10.0.tar.gz\">jhu-usc.edu_LGG.HumanMethylation450.Level_1.10.10.0.tar.gz</a>                                    2014-04-10 10:49  203M  \n",
        "      <a href=\"jhu-usc.edu_LGG.HumanMethylation450.Level_1.10.10.0.tar.gz.md5\">jhu-usc.edu_LGG.HumanMethylation450.Level_1.10.10.0.tar.gz.md5</a>                                2014-04-10 10:49   92   \n",
        "      <a href=\"jhu-usc.edu_LGG.HumanMethylation450.Level_1.10.10.0/\">jhu-usc.edu_LGG.HumanMethylation450.Level_1.10.10.0/</a>                                          2014-04-10 10:47    -   \n",
        "      <a href=\"jhu-usc.edu_LGG.HumanMethylation450.Level_1.10.11.0.tar.gz\">jhu-usc.edu_LGG.HumanMethylation450.Level_1.10.11.0.tar.gz</a>                                    2014-07-03 00:22  203M  \n",
        "      <a href=\"jhu-usc.edu_LGG.HumanMethylation450.Level_1.10.11.0.tar.gz.md5\">jhu-usc.edu_LGG.HumanMethylation450.Level_1.10.11.0.tar.gz.md5</a>                                2014-07-03 00:22   92   \n",
        "      <a href=\"jhu-usc.edu_LGG.HumanMethylation450.Level_1.10.11.0/\">jhu-usc.edu_LGG.HumanMethylation450.Level_1.10.11.0/</a>                                          2014-07-03 00:21    -   \n",
        "      <a href=\"jhu-usc.edu_LGG.HumanMethylation450.Level_1.10.12.0.tar.gz\">jhu-usc.edu_LGG.HumanMethylation450.Level_1.10.12.0.tar.gz</a>                                    2014-08-04 15:34  203M  \n",
        "      <a href=\"jhu-usc.edu_LGG.HumanMethylation450.Level_1.10.12.0.tar.gz.md5\">jhu-usc.edu_LGG.HumanMethylation450.Level_1.10.12.0.tar.gz.md5</a>                                2014-08-04 15:34   92   \n",
        "      <a href=\"jhu-usc.edu_LGG.HumanMethylation450.Level_1.10.12.0/\">jhu-usc.edu_LGG.HumanMethylation450.Level_1.10.12.0/</a>                                          2014-08-04 15:33    -   \n",
        "      <a href=\"jhu-usc.edu_LGG.HumanMethylation450.Level_1.10.7.0.tar.gz\">jhu-usc.edu_LGG.HumanMethylation450.Level_1.10.7.0.tar.gz</a>                                     2013-06-17 18:15  203M  \n",
        "      <a href=\"jhu-usc.edu_LGG.HumanMethylation450.Level_1.10.7.0.tar.gz.md5\">jhu-usc.edu_LGG.HumanMethylation450.Level_1.10.7.0.tar.gz.md5</a>                                 2013-06-17 18:15   91   \n",
        "      <a href=\"jhu-usc.edu_LGG.HumanMethylation450.Level_1.10.7.0/\">jhu-usc.edu_LGG.HumanMethylation450.Level_1.10.7.0/</a>                                           2013-06-17 18:15    -   \n",
        "      <a href=\"jhu-usc.edu_LGG.HumanMethylation450.Level_1.10.8.0.tar.gz\">jhu-usc.edu_LGG.HumanMethylation450.Level_1.10.8.0.tar.gz</a>                                     2013-08-16 01:09  203M  \n",
        "      <a href=\"jhu-usc.edu_LGG.HumanMethylation450.Level_1.10.8.0.tar.gz.md5\">jhu-usc.edu_LGG.HumanMethylation450.Level_1.10.8.0.tar.gz.md5</a>                                 2013-08-16 01:09   91   \n",
        "      <a href=\"jhu-usc.edu_LGG.HumanMethylation450.Level_1.10.8.0/\">jhu-usc.edu_LGG.HumanMethylation450.Level_1.10.8.0/</a>                                           2013-08-16 01:08    -   \n",
        "      <a href=\"jhu-usc.edu_LGG.HumanMethylation450.Level_1.10.9.0.tar.gz\">jhu-usc.edu_LGG.HumanMethylation450.Level_1.10.9.0.tar.gz</a>                                     2013-12-03 06:09  203M  \n",
        "      <a href=\"jhu-usc.edu_LGG.HumanMethylation450.Level_1.10.9.0.tar.gz.md5\">jhu-usc.edu_LGG.HumanMethylation450.Level_1.10.9.0.tar.gz.md5</a>                                 2013-12-03 06:10   91   \n",
        "      <a href=\"jhu-usc.edu_LGG.HumanMethylation450.Level_1.10.9.0/\">jhu-usc.edu_LGG.HumanMethylation450.Level_1.10.9.0/</a>                                           2013-12-03 06:09    -   \n",
        "      <a href=\"jhu-usc.edu_LGG.HumanMethylation450.Level_1.11.10.0.tar.gz\">jhu-usc.edu_LGG.HumanMethylation450.Level_1.11.10.0.tar.gz</a>                                    2014-04-10 10:37  212M  \n",
        "      <a href=\"jhu-usc.edu_LGG.HumanMethylation450.Level_1.11.10.0.tar.gz.md5\">jhu-usc.edu_LGG.HumanMethylation450.Level_1.11.10.0.tar.gz.md5</a>                                2014-04-10 10:37   92   \n",
        "      <a href=\"jhu-usc.edu_LGG.HumanMethylation450.Level_1.11.10.0/\">jhu-usc.edu_LGG.HumanMethylation450.Level_1.11.10.0/</a>                                          2014-04-10 10:35    -   \n",
        "      <a href=\"jhu-usc.edu_LGG.HumanMethylation450.Level_1.11.11.0.tar.gz\">jhu-usc.edu_LGG.HumanMethylation450.Level_1.11.11.0.tar.gz</a>                                    2014-07-03 00:16  212M  \n",
        "      <a href=\"jhu-usc.edu_LGG.HumanMethylation450.Level_1.11.11.0.tar.gz.md5\">jhu-usc.edu_LGG.HumanMethylation450.Level_1.11.11.0.tar.gz.md5</a>                                2014-07-03 00:16   92   \n",
        "      <a href=\"jhu-usc.edu_LGG.HumanMethylation450.Level_1.11.11.0/\">jhu-usc.edu_LGG.HumanMethylation450.Level_1.11.11.0/</a>                                          2014-07-03 00:15    -   \n",
        "      <a href=\"jhu-usc.edu_LGG.HumanMethylation450.Level_1.11.12.0.tar.gz\">jhu-usc.edu_LGG.HumanMethylation450.Level_1.11.12.0.tar.gz</a>                                    2014-08-04 15:30  212M  \n",
        "      <a href=\"jhu-usc.edu_LGG.HumanMethylation450.Level_1.11.12.0.tar.gz.md5\">jhu-usc.edu_LGG.HumanMethylation450.Level_1.11.12.0.tar.gz.md5</a>                                2014-08-04 15:30   92   \n",
        "      <a href=\"jhu-usc.edu_LGG.HumanMethylation450.Level_1.11.12.0/\">jhu-usc.edu_LGG.HumanMethylation450.Level_1.11.12.0/</a>                                          2014-08-04 15:29    -   \n",
        "      <a href=\"jhu-usc.edu_LGG.HumanMethylation450.Level_1.11.8.0.tar.gz\">jhu-usc.edu_LGG.HumanMethylation450.Level_1.11.8.0.tar.gz</a>                                     2013-08-16 01:19  212M  \n",
        "      <a href=\"jhu-usc.edu_LGG.HumanMethylation450.Level_1.11.8.0.tar.gz.md5\">jhu-usc.edu_LGG.HumanMethylation450.Level_1.11.8.0.tar.gz.md5</a>                                 2013-08-16 01:19   91   \n",
        "      <a href=\"jhu-usc.edu_LGG.HumanMethylation450.Level_1.11.8.0/\">jhu-usc.edu_LGG.HumanMethylation450.Level_1.11.8.0/</a>                                           2013-08-16 01:18    -   \n",
        "      <a href=\"jhu-usc.edu_LGG.HumanMethylation450.Level_1.11.9.0.tar.gz\">jhu-usc.edu_LGG.HumanMethylation450.Level_1.11.9.0.tar.gz</a>                                     2013-12-03 06:23  212M  \n",
        "      <a href=\"jhu-usc.edu_LGG.HumanMethylation450.Level_1.11.9.0.tar.gz.md5\">jhu-usc.edu_LGG.HumanMethylation450.Level_1.11.9.0.tar.gz.md5</a>                                 2013-12-03 06:24   91   \n",
        "      <a href=\"jhu-usc.edu_LGG.HumanMethylation450.Level_1.11.9.0/\">jhu-usc.edu_LGG.HumanMethylation450.Level_1.11.9.0/</a>                                           2013-12-03 06:23    -   \n",
        "      <a href=\"jhu-usc.edu_LGG.HumanMethylation450.Level_1.12.10.0.tar.gz\">jhu-usc.edu_LGG.HumanMethylation450.Level_1.12.10.0.tar.gz</a>                                    2014-04-10 10:38  104M  \n",
        "      <a href=\"jhu-usc.edu_LGG.HumanMethylation450.Level_1.12.10.0.tar.gz.md5\">jhu-usc.edu_LGG.HumanMethylation450.Level_1.12.10.0.tar.gz.md5</a>                                2014-04-10 10:38   92   \n",
        "      <a href=\"jhu-usc.edu_LGG.HumanMethylation450.Level_1.12.10.0/\">jhu-usc.edu_LGG.HumanMethylation450.Level_1.12.10.0/</a>                                          2014-04-10 10:38    -   \n",
        "      <a href=\"jhu-usc.edu_LGG.HumanMethylation450.Level_1.12.11.0.tar.gz\">jhu-usc.edu_LGG.HumanMethylation450.Level_1.12.11.0.tar.gz</a>                                    2014-07-03 00:17  104M  \n",
        "      <a href=\"jhu-usc.edu_LGG.HumanMethylation450.Level_1.12.11.0.tar.gz.md5\">jhu-usc.edu_LGG.HumanMethylation450.Level_1.12.11.0.tar.gz.md5</a>                                2014-07-03 00:17   92   \n",
        "      <a href=\"jhu-usc.edu_LGG.HumanMethylation450.Level_1.12.11.0/\">jhu-usc.edu_LGG.HumanMethylation450.Level_1.12.11.0/</a>                                          2014-07-03 00:16    -   \n",
        "      <a href=\"jhu-usc.edu_LGG.HumanMethylation450.Level_1.12.12.0.tar.gz\">jhu-usc.edu_LGG.HumanMethylation450.Level_1.12.12.0.tar.gz</a>                                    2014-08-04 15:30  104M  \n",
        "      <a href=\"jhu-usc.edu_LGG.HumanMethylation450.Level_1.12.12.0.tar.gz.md5\">jhu-usc.edu_LGG.HumanMethylation450.Level_1.12.12.0.tar.gz.md5</a>                                2014-08-04 15:30   92   \n",
        "      <a href=\"jhu-usc.edu_LGG.HumanMethylation450.Level_1.12.12.0/\">jhu-usc.edu_LGG.HumanMethylation450.Level_1.12.12.0/</a>                                          2014-08-04 15:30    -   \n",
        "      <a href=\"jhu-usc.edu_LGG.HumanMethylation450.Level_1.12.9.0.tar.gz\">jhu-usc.edu_LGG.HumanMethylation450.Level_1.12.9.0.tar.gz</a>                                     2013-12-03 06:24  104M  \n",
        "      <a href=\"jhu-usc.edu_LGG.HumanMethylation450.Level_1.12.9.0.tar.gz.md5\">jhu-usc.edu_LGG.HumanMethylation450.Level_1.12.9.0.tar.gz.md5</a>                                 2013-12-03 06:24   91   \n",
        "      <a href=\"jhu-usc.edu_LGG.HumanMethylation450.Level_1.12.9.0/\">jhu-usc.edu_LGG.HumanMethylation450.Level_1.12.9.0/</a>                                           2013-12-03 06:24    -   \n",
        "      <a href=\"jhu-usc.edu_LGG.HumanMethylation450.Level_1.13.10.0.tar.gz\">jhu-usc.edu_LGG.HumanMethylation450.Level_1.13.10.0.tar.gz</a>                                    2014-04-10 10:30  504M  \n",
        "      <a href=\"jhu-usc.edu_LGG.HumanMethylation450.Level_1.13.10.0.tar.gz.md5\">jhu-usc.edu_LGG.HumanMethylation450.Level_1.13.10.0.tar.gz.md5</a>                                2014-04-10 10:30   92   \n",
        "      <a href=\"jhu-usc.edu_LGG.HumanMethylation450.Level_1.13.10.0/\">jhu-usc.edu_LGG.HumanMethylation450.Level_1.13.10.0/</a>                                          2014-04-10 10:27    -   \n",
        "      <a href=\"jhu-usc.edu_LGG.HumanMethylation450.Level_1.13.11.0.tar.gz\">jhu-usc.edu_LGG.HumanMethylation450.Level_1.13.11.0.tar.gz</a>                                    2014-07-03 00:12  504M  \n",
        "      <a href=\"jhu-usc.edu_LGG.HumanMethylation450.Level_1.13.11.0.tar.gz.md5\">jhu-usc.edu_LGG.HumanMethylation450.Level_1.13.11.0.tar.gz.md5</a>                                2014-07-03 00:12   92   \n",
        "      <a href=\"jhu-usc.edu_LGG.HumanMethylation450.Level_1.13.11.0/\">jhu-usc.edu_LGG.HumanMethylation450.Level_1.13.11.0/</a>                                          2014-07-03 00:10    -   \n",
        "      <a href=\"jhu-usc.edu_LGG.HumanMethylation450.Level_1.13.12.0.tar.gz\">jhu-usc.edu_LGG.HumanMethylation450.Level_1.13.12.0.tar.gz</a>                                    2014-08-04 15:26  504M  \n",
        "      <a href=\"jhu-usc.edu_LGG.HumanMethylation450.Level_1.13.12.0.tar.gz.md5\">jhu-usc.edu_LGG.HumanMethylation450.Level_1.13.12.0.tar.gz.md5</a>                                2014-08-04 15:26   92   \n",
        "      <a href=\"jhu-usc.edu_LGG.HumanMethylation450.Level_1.13.12.0/\">jhu-usc.edu_LGG.HumanMethylation450.Level_1.13.12.0/</a>                                          2014-08-04 15:24    -   \n",
        "      <a href=\"jhu-usc.edu_LGG.HumanMethylation450.Level_1.13.9.0.tar.gz\">jhu-usc.edu_LGG.HumanMethylation450.Level_1.13.9.0.tar.gz</a>                                     2013-12-03 06:20  504M  \n",
        "      <a href=\"jhu-usc.edu_LGG.HumanMethylation450.Level_1.13.9.0.tar.gz.md5\">jhu-usc.edu_LGG.HumanMethylation450.Level_1.13.9.0.tar.gz.md5</a>                                 2013-12-03 06:20   91   \n",
        "      <a href=\"jhu-usc.edu_LGG.HumanMethylation450.Level_1.13.9.0/\">jhu-usc.edu_LGG.HumanMethylation450.Level_1.13.9.0/</a>                                           2013-12-03 06:18    -   \n",
        "      <a href=\"jhu-usc.edu_LGG.HumanMethylation450.Level_1.14.10.0.tar.gz\">jhu-usc.edu_LGG.HumanMethylation450.Level_1.14.10.0.tar.gz</a>                                    2014-04-10 10:35  335M  \n",
        "      <a href=\"jhu-usc.edu_LGG.HumanMethylation450.Level_1.14.10.0.tar.gz.md5\">jhu-usc.edu_LGG.HumanMethylation450.Level_1.14.10.0.tar.gz.md5</a>                                2014-04-10 10:35   92   \n",
        "      <a href=\"jhu-usc.edu_LGG.HumanMethylation450.Level_1.14.10.0/\">jhu-usc.edu_LGG.HumanMethylation450.Level_1.14.10.0/</a>                                          2014-04-10 10:32    -   \n",
        "      <a href=\"jhu-usc.edu_LGG.HumanMethylation450.Level_1.14.11.0.tar.gz\">jhu-usc.edu_LGG.HumanMethylation450.Level_1.14.11.0.tar.gz</a>                                    2014-07-03 00:14  343M  \n",
        "      <a href=\"jhu-usc.edu_LGG.HumanMethylation450.Level_1.14.11.0.tar.gz.md5\">jhu-usc.edu_LGG.HumanMethylation450.Level_1.14.11.0.tar.gz.md5</a>                                2014-07-03 00:14   92   \n",
        "      <a href=\"jhu-usc.edu_LGG.HumanMethylation450.Level_1.14.11.0/\">jhu-usc.edu_LGG.HumanMethylation450.Level_1.14.11.0/</a>                                          2014-07-03 00:13    -   \n",
        "      <a href=\"jhu-usc.edu_LGG.HumanMethylation450.Level_1.14.12.0.tar.gz\">jhu-usc.edu_LGG.HumanMethylation450.Level_1.14.12.0.tar.gz</a>                                    2014-08-04 15:28  343M  \n",
        "      <a href=\"jhu-usc.edu_LGG.HumanMethylation450.Level_1.14.12.0.tar.gz.md5\">jhu-usc.edu_LGG.HumanMethylation450.Level_1.14.12.0.tar.gz.md5</a>                                2014-08-04 15:28   92   \n",
        "      <a href=\"jhu-usc.edu_LGG.HumanMethylation450.Level_1.14.12.0/\">jhu-usc.edu_LGG.HumanMethylation450.Level_1.14.12.0/</a>                                          2014-08-04 15:27    -   \n",
        "      <a href=\"jhu-usc.edu_LGG.HumanMethylation450.Level_1.14.9.0.tar.gz\">jhu-usc.edu_LGG.HumanMethylation450.Level_1.14.9.0.tar.gz</a>                                     2013-12-03 06:22  327M  \n",
        "      <a href=\"jhu-usc.edu_LGG.HumanMethylation450.Level_1.14.9.0.tar.gz.md5\">jhu-usc.edu_LGG.HumanMethylation450.Level_1.14.9.0.tar.gz.md5</a>                                 2013-12-03 06:22   91   \n",
        "      <a href=\"jhu-usc.edu_LGG.HumanMethylation450.Level_1.14.9.0/\">jhu-usc.edu_LGG.HumanMethylation450.Level_1.14.9.0/</a>                                           2013-12-03 06:21    -   \n",
        "      <a href=\"jhu-usc.edu_LGG.HumanMethylation450.Level_1.15.10.0.tar.gz\">jhu-usc.edu_LGG.HumanMethylation450.Level_1.15.10.0.tar.gz</a>                                    2014-04-10 10:21  494M  \n",
        "      <a href=\"jhu-usc.edu_LGG.HumanMethylation450.Level_1.15.10.0.tar.gz.md5\">jhu-usc.edu_LGG.HumanMethylation450.Level_1.15.10.0.tar.gz.md5</a>                                2014-04-10 10:21   92   \n",
        "      <a href=\"jhu-usc.edu_LGG.HumanMethylation450.Level_1.15.10.0/\">jhu-usc.edu_LGG.HumanMethylation450.Level_1.15.10.0/</a>                                          2014-04-10 10:19    -   \n",
        "      <a href=\"jhu-usc.edu_LGG.HumanMethylation450.Level_1.15.11.0.tar.gz\">jhu-usc.edu_LGG.HumanMethylation450.Level_1.15.11.0.tar.gz</a>                                    2014-07-03 00:07  494M  \n",
        "      <a href=\"jhu-usc.edu_LGG.HumanMethylation450.Level_1.15.11.0.tar.gz.md5\">jhu-usc.edu_LGG.HumanMethylation450.Level_1.15.11.0.tar.gz.md5</a>                                2014-07-03 00:07   92   \n",
        "      <a href=\"jhu-usc.edu_LGG.HumanMethylation450.Level_1.15.11.0/\">jhu-usc.edu_LGG.HumanMethylation450.Level_1.15.11.0/</a>                                          2014-07-03 00:05    -   \n",
        "      <a href=\"jhu-usc.edu_LGG.HumanMethylation450.Level_1.15.12.0.tar.gz\">jhu-usc.edu_LGG.HumanMethylation450.Level_1.15.12.0.tar.gz</a>                                    2014-08-04 15:21  494M  \n",
        "      <a href=\"jhu-usc.edu_LGG.HumanMethylation450.Level_1.15.12.0.tar.gz.md5\">jhu-usc.edu_LGG.HumanMethylation450.Level_1.15.12.0.tar.gz.md5</a>                                2014-08-04 15:21   92   \n",
        "      <a href=\"jhu-usc.edu_LGG.HumanMethylation450.Level_1.15.12.0/\">jhu-usc.edu_LGG.HumanMethylation450.Level_1.15.12.0/</a>                                          2014-08-04 15:19    -   \n",
        "      <a href=\"jhu-usc.edu_LGG.HumanMethylation450.Level_1.16.10.0.tar.gz\">jhu-usc.edu_LGG.HumanMethylation450.Level_1.16.10.0.tar.gz</a>                                    2014-04-10 10:25  421M  \n",
        "      <a href=\"jhu-usc.edu_LGG.HumanMethylation450.Level_1.16.10.0.tar.gz.md5\">jhu-usc.edu_LGG.HumanMethylation450.Level_1.16.10.0.tar.gz.md5</a>                                2014-04-10 10:26   92   \n",
        "      <a href=\"jhu-usc.edu_LGG.HumanMethylation450.Level_1.16.10.0/\">jhu-usc.edu_LGG.HumanMethylation450.Level_1.16.10.0/</a>                                          2014-04-10 10:23    -   \n",
        "      <a href=\"jhu-usc.edu_LGG.HumanMethylation450.Level_1.16.11.0.tar.gz\">jhu-usc.edu_LGG.HumanMethylation450.Level_1.16.11.0.tar.gz</a>                                    2014-07-03 00:09  421M  \n",
        "      <a href=\"jhu-usc.edu_LGG.HumanMethylation450.Level_1.16.11.0.tar.gz.md5\">jhu-usc.edu_LGG.HumanMethylation450.Level_1.16.11.0.tar.gz.md5</a>                                2014-07-03 00:10   92   \n",
        "      <a href=\"jhu-usc.edu_LGG.HumanMethylation450.Level_1.16.11.0/\">jhu-usc.edu_LGG.HumanMethylation450.Level_1.16.11.0/</a>                                          2014-07-03 00:08    -   \n",
        "      <a href=\"jhu-usc.edu_LGG.HumanMethylation450.Level_1.16.12.0.tar.gz\">jhu-usc.edu_LGG.HumanMethylation450.Level_1.16.12.0.tar.gz</a>                                    2014-08-04 15:24  421M  \n",
        "      <a href=\"jhu-usc.edu_LGG.HumanMethylation450.Level_1.16.12.0.tar.gz.md5\">jhu-usc.edu_LGG.HumanMethylation450.Level_1.16.12.0.tar.gz.md5</a>                                2014-08-04 15:24   92   \n",
        "      <a href=\"jhu-usc.edu_LGG.HumanMethylation450.Level_1.16.12.0/\">jhu-usc.edu_LGG.HumanMethylation450.Level_1.16.12.0/</a>                                          2014-08-04 15:22    -   \n",
        "      <a href=\"jhu-usc.edu_LGG.HumanMethylation450.Level_1.2.1.0.tar.gz\">jhu-usc.edu_LGG.HumanMethylation450.Level_1.2.1.0.tar.gz</a>                                      2012-07-19 16:32  228M  \n",
        "      <a href=\"jhu-usc.edu_LGG.HumanMethylation450.Level_1.2.1.0.tar.gz.md5\">jhu-usc.edu_LGG.HumanMethylation450.Level_1.2.1.0.tar.gz.md5</a>                                  2012-07-19 16:32   90   \n",
        "      <a href=\"jhu-usc.edu_LGG.HumanMethylation450.Level_1.2.1.0/\">jhu-usc.edu_LGG.HumanMethylation450.Level_1.2.1.0/</a>                                            2012-07-19 16:31    -   \n",
        "      <a href=\"jhu-usc.edu_LGG.HumanMethylation450.Level_1.2.10.0.tar.gz\">jhu-usc.edu_LGG.HumanMethylation450.Level_1.2.10.0.tar.gz</a>                                     2014-04-10 10:43  277M  \n",
        "      <a href=\"jhu-usc.edu_LGG.HumanMethylation450.Level_1.2.10.0.tar.gz.md5\">jhu-usc.edu_LGG.HumanMethylation450.Level_1.2.10.0.tar.gz.md5</a>                                 2014-04-10 10:43   91   \n",
        "      <a href=\"jhu-usc.edu_LGG.HumanMethylation450.Level_1.2.10.0/\">jhu-usc.edu_LGG.HumanMethylation450.Level_1.2.10.0/</a>                                           2014-04-10 10:41    -   \n",
        "      <a href=\"jhu-usc.edu_LGG.HumanMethylation450.Level_1.2.11.0.tar.gz\">jhu-usc.edu_LGG.HumanMethylation450.Level_1.2.11.0.tar.gz</a>                                     2014-07-03 00:19  277M  \n",
        "      <a href=\"jhu-usc.edu_LGG.HumanMethylation450.Level_1.2.11.0.tar.gz.md5\">jhu-usc.edu_LGG.HumanMethylation450.Level_1.2.11.0.tar.gz.md5</a>                                 2014-07-03 00:19   91   \n",
        "      <a href=\"jhu-usc.edu_LGG.HumanMethylation450.Level_1.2.11.0/\">jhu-usc.edu_LGG.HumanMethylation450.Level_1.2.11.0/</a>                                           2014-07-03 00:18    -   \n",
        "      <a href=\"jhu-usc.edu_LGG.HumanMethylation450.Level_1.2.12.0.tar.gz\">jhu-usc.edu_LGG.HumanMethylation450.Level_1.2.12.0.tar.gz</a>                                     2014-08-04 15:33  301M  \n",
        "      <a href=\"jhu-usc.edu_LGG.HumanMethylation450.Level_1.2.12.0.tar.gz.md5\">jhu-usc.edu_LGG.HumanMethylation450.Level_1.2.12.0.tar.gz.md5</a>                                 2014-08-04 15:33   91   \n",
        "      <a href=\"jhu-usc.edu_LGG.HumanMethylation450.Level_1.2.12.0/\">jhu-usc.edu_LGG.HumanMethylation450.Level_1.2.12.0/</a>                                           2014-08-04 15:32    -   \n",
        "      <a href=\"jhu-usc.edu_LGG.HumanMethylation450.Level_1.2.2.0.tar.gz\">jhu-usc.edu_LGG.HumanMethylation450.Level_1.2.2.0.tar.gz</a>                                      2012-10-09 22:35  228M  \n",
        "      <a href=\"jhu-usc.edu_LGG.HumanMethylation450.Level_1.2.2.0.tar.gz.md5\">jhu-usc.edu_LGG.HumanMethylation450.Level_1.2.2.0.tar.gz.md5</a>                                  2012-10-09 22:36   90   \n",
        "      <a href=\"jhu-usc.edu_LGG.HumanMethylation450.Level_1.2.2.0/\">jhu-usc.edu_LGG.HumanMethylation450.Level_1.2.2.0/</a>                                            2012-10-09 22:35    -   \n",
        "      <a href=\"jhu-usc.edu_LGG.HumanMethylation450.Level_1.2.3.0.tar.gz\">jhu-usc.edu_LGG.HumanMethylation450.Level_1.2.3.0.tar.gz</a>                                      2012-10-30 05:43  228M  \n",
        "      <a href=\"jhu-usc.edu_LGG.HumanMethylation450.Level_1.2.3.0.tar.gz.md5\">jhu-usc.edu_LGG.HumanMethylation450.Level_1.2.3.0.tar.gz.md5</a>                                  2012-10-30 05:43   90   \n",
        "      <a href=\"jhu-usc.edu_LGG.HumanMethylation450.Level_1.2.3.0/\">jhu-usc.edu_LGG.HumanMethylation450.Level_1.2.3.0/</a>                                            2012-10-30 05:42    -   \n",
        "      <a href=\"jhu-usc.edu_LGG.HumanMethylation450.Level_1.2.4.0.tar.gz\">jhu-usc.edu_LGG.HumanMethylation450.Level_1.2.4.0.tar.gz</a>                                      2013-02-25 22:14  228M  \n",
        "      <a href=\"jhu-usc.edu_LGG.HumanMethylation450.Level_1.2.4.0.tar.gz.md5\">jhu-usc.edu_LGG.HumanMethylation450.Level_1.2.4.0.tar.gz.md5</a>                                  2013-02-25 22:14   90   \n",
        "      <a href=\"jhu-usc.edu_LGG.HumanMethylation450.Level_1.2.4.0/\">jhu-usc.edu_LGG.HumanMethylation450.Level_1.2.4.0/</a>                                            2013-02-25 22:13    -   \n",
        "      <a href=\"jhu-usc.edu_LGG.HumanMethylation450.Level_1.2.5.0.tar.gz\">jhu-usc.edu_LGG.HumanMethylation450.Level_1.2.5.0.tar.gz</a>                                      2013-04-24 20:18  228M  \n",
        "      <a href=\"jhu-usc.edu_LGG.HumanMethylation450.Level_1.2.5.0.tar.gz.md5\">jhu-usc.edu_LGG.HumanMethylation450.Level_1.2.5.0.tar.gz.md5</a>                                  2013-04-24 20:18   90   \n",
        "      <a href=\"jhu-usc.edu_LGG.HumanMethylation450.Level_1.2.5.0/\">jhu-usc.edu_LGG.HumanMethylation450.Level_1.2.5.0/</a>                                            2013-04-24 20:17    -   \n",
        "      <a href=\"jhu-usc.edu_LGG.HumanMethylation450.Level_1.2.6.0.tar.gz\">jhu-usc.edu_LGG.HumanMethylation450.Level_1.2.6.0.tar.gz</a>                                      2013-05-13 15:25  228M  \n",
        "      <a href=\"jhu-usc.edu_LGG.HumanMethylation450.Level_1.2.6.0.tar.gz.md5\">jhu-usc.edu_LGG.HumanMethylation450.Level_1.2.6.0.tar.gz.md5</a>                                  2013-05-13 15:25   90   \n",
        "      <a href=\"jhu-usc.edu_LGG.HumanMethylation450.Level_1.2.6.0/\">jhu-usc.edu_LGG.HumanMethylation450.Level_1.2.6.0/</a>                                            2013-05-13 15:24    -   \n",
        "      <a href=\"jhu-usc.edu_LGG.HumanMethylation450.Level_1.2.7.0.tar.gz\">jhu-usc.edu_LGG.HumanMethylation450.Level_1.2.7.0.tar.gz</a>                                      2013-06-17 18:13  228M  \n",
        "      <a href=\"jhu-usc.edu_LGG.HumanMethylation450.Level_1.2.7.0.tar.gz.md5\">jhu-usc.edu_LGG.HumanMethylation450.Level_1.2.7.0.tar.gz.md5</a>                                  2013-06-17 18:13   90   \n",
        "      <a href=\"jhu-usc.edu_LGG.HumanMethylation450.Level_1.2.7.0/\">jhu-usc.edu_LGG.HumanMethylation450.Level_1.2.7.0/</a>                                            2013-06-17 18:12    -   \n",
        "      <a href=\"jhu-usc.edu_LGG.HumanMethylation450.Level_1.2.8.0.tar.gz\">jhu-usc.edu_LGG.HumanMethylation450.Level_1.2.8.0.tar.gz</a>                                      2013-08-16 01:06  220M  \n",
        "      <a href=\"jhu-usc.edu_LGG.HumanMethylation450.Level_1.2.8.0.tar.gz.md5\">jhu-usc.edu_LGG.HumanMethylation450.Level_1.2.8.0.tar.gz.md5</a>                                  2013-08-16 01:06   90   \n",
        "      <a href=\"jhu-usc.edu_LGG.HumanMethylation450.Level_1.2.8.0/\">jhu-usc.edu_LGG.HumanMethylation450.Level_1.2.8.0/</a>                                            2013-08-16 01:05    -   \n",
        "      <a href=\"jhu-usc.edu_LGG.HumanMethylation450.Level_1.2.9.0.tar.gz\">jhu-usc.edu_LGG.HumanMethylation450.Level_1.2.9.0.tar.gz</a>                                      2013-12-03 06:05  220M  \n",
        "      <a href=\"jhu-usc.edu_LGG.HumanMethylation450.Level_1.2.9.0.tar.gz.md5\">jhu-usc.edu_LGG.HumanMethylation450.Level_1.2.9.0.tar.gz.md5</a>                                  2013-12-03 06:05   90   \n",
        "      <a href=\"jhu-usc.edu_LGG.HumanMethylation450.Level_1.2.9.0/\">jhu-usc.edu_LGG.HumanMethylation450.Level_1.2.9.0/</a>                                            2013-12-03 06:04    -   \n",
        "      <a href=\"jhu-usc.edu_LGG.HumanMethylation450.Level_1.3.1.0.tar.gz\">jhu-usc.edu_LGG.HumanMethylation450.Level_1.3.1.0.tar.gz</a>                                      2012-07-19 16:31  186M  \n",
        "      <a href=\"jhu-usc.edu_LGG.HumanMethylation450.Level_1.3.1.0.tar.gz.md5\">jhu-usc.edu_LGG.HumanMethylation450.Level_1.3.1.0.tar.gz.md5</a>                                  2012-07-19 16:31   90   \n",
        "      <a href=\"jhu-usc.edu_LGG.HumanMethylation450.Level_1.3.1.0/\">jhu-usc.edu_LGG.HumanMethylation450.Level_1.3.1.0/</a>                                            2012-07-19 16:30    -   \n",
        "      <a href=\"jhu-usc.edu_LGG.HumanMethylation450.Level_1.3.10.0.tar.gz\">jhu-usc.edu_LGG.HumanMethylation450.Level_1.3.10.0.tar.gz</a>                                     2014-04-10 10:40  203M  \n",
        "      <a href=\"jhu-usc.edu_LGG.HumanMethylation450.Level_1.3.10.0.tar.gz.md5\">jhu-usc.edu_LGG.HumanMethylation450.Level_1.3.10.0.tar.gz.md5</a>                                 2014-04-10 10:41   91   \n",
        "      <a href=\"jhu-usc.edu_LGG.HumanMethylation450.Level_1.3.10.0/\">jhu-usc.edu_LGG.HumanMethylation450.Level_1.3.10.0/</a>                                           2014-04-10 10:39    -   \n",
        "      <a href=\"jhu-usc.edu_LGG.HumanMethylation450.Level_1.3.11.0.tar.gz\">jhu-usc.edu_LGG.HumanMethylation450.Level_1.3.11.0.tar.gz</a>                                     2014-07-03 00:18  203M  \n",
        "      <a href=\"jhu-usc.edu_LGG.HumanMethylation450.Level_1.3.11.0.tar.gz.md5\">jhu-usc.edu_LGG.HumanMethylation450.Level_1.3.11.0.tar.gz.md5</a>                                 2014-07-03 00:18   91   \n",
        "      <a href=\"jhu-usc.edu_LGG.HumanMethylation450.Level_1.3.11.0/\">jhu-usc.edu_LGG.HumanMethylation450.Level_1.3.11.0/</a>                                           2014-07-03 00:17    -   \n",
        "      <a href=\"jhu-usc.edu_LGG.HumanMethylation450.Level_1.3.12.0.tar.gz\">jhu-usc.edu_LGG.HumanMethylation450.Level_1.3.12.0.tar.gz</a>                                     2014-08-04 15:31  203M  \n",
        "      <a href=\"jhu-usc.edu_LGG.HumanMethylation450.Level_1.3.12.0.tar.gz.md5\">jhu-usc.edu_LGG.HumanMethylation450.Level_1.3.12.0.tar.gz.md5</a>                                 2014-08-04 15:31   91   \n",
        "      <a href=\"jhu-usc.edu_LGG.HumanMethylation450.Level_1.3.12.0/\">jhu-usc.edu_LGG.HumanMethylation450.Level_1.3.12.0/</a>                                           2014-08-04 15:31    -   \n",
        "      <a href=\"jhu-usc.edu_LGG.HumanMethylation450.Level_1.3.2.0.tar.gz\">jhu-usc.edu_LGG.HumanMethylation450.Level_1.3.2.0.tar.gz</a>                                      2012-10-09 22:34  186M  \n",
        "      <a href=\"jhu-usc.edu_LGG.HumanMethylation450.Level_1.3.2.0.tar.gz.md5\">jhu-usc.edu_LGG.HumanMethylation450.Level_1.3.2.0.tar.gz.md5</a>                                  2012-10-09 22:34   90   \n",
        "      <a href=\"jhu-usc.edu_LGG.HumanMethylation450.Level_1.3.2.0/\">jhu-usc.edu_LGG.HumanMethylation450.Level_1.3.2.0/</a>                                            2012-10-09 22:34    -   \n",
        "      <a href=\"jhu-usc.edu_LGG.HumanMethylation450.Level_1.3.3.0.tar.gz\">jhu-usc.edu_LGG.HumanMethylation450.Level_1.3.3.0.tar.gz</a>                                      2012-10-30 05:41  186M  \n",
        "      <a href=\"jhu-usc.edu_LGG.HumanMethylation450.Level_1.3.3.0.tar.gz.md5\">jhu-usc.edu_LGG.HumanMethylation450.Level_1.3.3.0.tar.gz.md5</a>                                  2012-10-30 05:42   90   \n",
        "      <a href=\"jhu-usc.edu_LGG.HumanMethylation450.Level_1.3.3.0/\">jhu-usc.edu_LGG.HumanMethylation450.Level_1.3.3.0/</a>                                            2012-10-30 05:41    -   \n",
        "      <a href=\"jhu-usc.edu_LGG.HumanMethylation450.Level_1.3.4.0.tar.gz\">jhu-usc.edu_LGG.HumanMethylation450.Level_1.3.4.0.tar.gz</a>                                      2013-02-25 22:12  186M  \n",
        "      <a href=\"jhu-usc.edu_LGG.HumanMethylation450.Level_1.3.4.0.tar.gz.md5\">jhu-usc.edu_LGG.HumanMethylation450.Level_1.3.4.0.tar.gz.md5</a>                                  2013-02-25 22:12   90   \n",
        "      <a href=\"jhu-usc.edu_LGG.HumanMethylation450.Level_1.3.4.0/\">jhu-usc.edu_LGG.HumanMethylation450.Level_1.3.4.0/</a>                                            2013-02-25 22:11    -   \n",
        "      <a href=\"jhu-usc.edu_LGG.HumanMethylation450.Level_1.3.5.0.tar.gz\">jhu-usc.edu_LGG.HumanMethylation450.Level_1.3.5.0.tar.gz</a>                                      2013-04-24 20:17  186M  \n",
        "      <a href=\"jhu-usc.edu_LGG.HumanMethylation450.Level_1.3.5.0.tar.gz.md5\">jhu-usc.edu_LGG.HumanMethylation450.Level_1.3.5.0.tar.gz.md5</a>                                  2013-04-24 20:17   90   \n",
        "      <a href=\"jhu-usc.edu_LGG.HumanMethylation450.Level_1.3.5.0/\">jhu-usc.edu_LGG.HumanMethylation450.Level_1.3.5.0/</a>                                            2013-04-24 20:16    -   \n",
        "      <a href=\"jhu-usc.edu_LGG.HumanMethylation450.Level_1.3.6.0.tar.gz\">jhu-usc.edu_LGG.HumanMethylation450.Level_1.3.6.0.tar.gz</a>                                      2013-05-13 15:24  186M  \n",
        "      <a href=\"jhu-usc.edu_LGG.HumanMethylation450.Level_1.3.6.0.tar.gz.md5\">jhu-usc.edu_LGG.HumanMethylation450.Level_1.3.6.0.tar.gz.md5</a>                                  2013-05-13 15:24   90   \n",
        "      <a href=\"jhu-usc.edu_LGG.HumanMethylation450.Level_1.3.6.0/\">jhu-usc.edu_LGG.HumanMethylation450.Level_1.3.6.0/</a>                                            2013-05-13 15:23    -   \n",
        "      <a href=\"jhu-usc.edu_LGG.HumanMethylation450.Level_1.3.7.0.tar.gz\">jhu-usc.edu_LGG.HumanMethylation450.Level_1.3.7.0.tar.gz</a>                                      2013-06-17 18:12  186M  \n",
        "      <a href=\"jhu-usc.edu_LGG.HumanMethylation450.Level_1.3.7.0.tar.gz.md5\">jhu-usc.edu_LGG.HumanMethylation450.Level_1.3.7.0.tar.gz.md5</a>                                  2013-06-17 18:12   90   \n",
        "      <a href=\"jhu-usc.edu_LGG.HumanMethylation450.Level_1.3.7.0/\">jhu-usc.edu_LGG.HumanMethylation450.Level_1.3.7.0/</a>                                            2013-06-17 18:11    -   \n",
        "      <a href=\"jhu-usc.edu_LGG.HumanMethylation450.Level_1.3.8.0.tar.gz\">jhu-usc.edu_LGG.HumanMethylation450.Level_1.3.8.0.tar.gz</a>                                      2013-08-16 01:05  203M  \n",
        "      <a href=\"jhu-usc.edu_LGG.HumanMethylation450.Level_1.3.8.0.tar.gz.md5\">jhu-usc.edu_LGG.HumanMethylation450.Level_1.3.8.0.tar.gz.md5</a>                                  2013-08-16 01:05   90   \n",
        "      <a href=\"jhu-usc.edu_LGG.HumanMethylation450.Level_1.3.8.0/\">jhu-usc.edu_LGG.HumanMethylation450.Level_1.3.8.0/</a>                                            2013-08-16 01:04    -   \n",
        "      <a href=\"jhu-usc.edu_LGG.HumanMethylation450.Level_1.3.9.0.tar.gz\">jhu-usc.edu_LGG.HumanMethylation450.Level_1.3.9.0.tar.gz</a>                                      2013-12-03 06:04  203M  \n",
        "      <a href=\"jhu-usc.edu_LGG.HumanMethylation450.Level_1.3.9.0.tar.gz.md5\">jhu-usc.edu_LGG.HumanMethylation450.Level_1.3.9.0.tar.gz.md5</a>                                  2013-12-03 06:04   90   \n",
        "      <a href=\"jhu-usc.edu_LGG.HumanMethylation450.Level_1.3.9.0/\">jhu-usc.edu_LGG.HumanMethylation450.Level_1.3.9.0/</a>                                            2013-12-03 06:03    -   \n",
        "      <a href=\"jhu-usc.edu_LGG.HumanMethylation450.Level_1.4.1.0.tar.gz\">jhu-usc.edu_LGG.HumanMethylation450.Level_1.4.1.0.tar.gz</a>                                      2012-07-19 16:37  326M  \n",
        "      <a href=\"jhu-usc.edu_LGG.HumanMethylation450.Level_1.4.1.0.tar.gz.md5\">jhu-usc.edu_LGG.HumanMethylation450.Level_1.4.1.0.tar.gz.md5</a>                                  2012-07-19 16:37   90   \n",
        "      <a href=\"jhu-usc.edu_LGG.HumanMethylation450.Level_1.4.1.0/\">jhu-usc.edu_LGG.HumanMethylation450.Level_1.4.1.0/</a>                                            2012-07-19 16:35    -   \n",
        "      <a href=\"jhu-usc.edu_LGG.HumanMethylation450.Level_1.4.10.0.tar.gz\">jhu-usc.edu_LGG.HumanMethylation450.Level_1.4.10.0.tar.gz</a>                                     2014-04-10 11:03  326M  \n",
        "      <a href=\"jhu-usc.edu_LGG.HumanMethylation450.Level_1.4.10.0.tar.gz.md5\">jhu-usc.edu_LGG.HumanMethylation450.Level_1.4.10.0.tar.gz.md5</a>                                 2014-04-10 11:03   91   \n",
        "      <a href=\"jhu-usc.edu_LGG.HumanMethylation450.Level_1.4.10.0/\">jhu-usc.edu_LGG.HumanMethylation450.Level_1.4.10.0/</a>                                           2014-04-10 11:00    -   \n",
        "      <a href=\"jhu-usc.edu_LGG.HumanMethylation450.Level_1.4.11.0.tar.gz\">jhu-usc.edu_LGG.HumanMethylation450.Level_1.4.11.0.tar.gz</a>                                     2014-07-03 00:28  326M  \n",
        "      <a href=\"jhu-usc.edu_LGG.HumanMethylation450.Level_1.4.11.0.tar.gz.md5\">jhu-usc.edu_LGG.HumanMethylation450.Level_1.4.11.0.tar.gz.md5</a>                                 2014-07-03 00:28   91   \n",
        "      <a href=\"jhu-usc.edu_LGG.HumanMethylation450.Level_1.4.11.0/\">jhu-usc.edu_LGG.HumanMethylation450.Level_1.4.11.0/</a>                                           2014-07-03 00:27    -   \n",
        "      <a href=\"jhu-usc.edu_LGG.HumanMethylation450.Level_1.4.12.0.tar.gz\">jhu-usc.edu_LGG.HumanMethylation450.Level_1.4.12.0.tar.gz</a>                                     2014-08-04 15:42  334M  \n",
        "      <a href=\"jhu-usc.edu_LGG.HumanMethylation450.Level_1.4.12.0.tar.gz.md5\">jhu-usc.edu_LGG.HumanMethylation450.Level_1.4.12.0.tar.gz.md5</a>                                 2014-08-04 15:42   91   \n",
        "      <a href=\"jhu-usc.edu_LGG.HumanMethylation450.Level_1.4.12.0/\">jhu-usc.edu_LGG.HumanMethylation450.Level_1.4.12.0/</a>                                           2014-08-04 15:41    -   \n",
        "      <a href=\"jhu-usc.edu_LGG.HumanMethylation450.Level_1.4.2.0.tar.gz\">jhu-usc.edu_LGG.HumanMethylation450.Level_1.4.2.0.tar.gz</a>                                      2012-10-09 22:42  326M  \n",
        "      <a href=\"jhu-usc.edu_LGG.HumanMethylation450.Level_1.4.2.0.tar.gz.md5\">jhu-usc.edu_LGG.HumanMethylation450.Level_1.4.2.0.tar.gz.md5</a>                                  2012-10-09 22:42   90   \n",
        "      <a href=\"jhu-usc.edu_LGG.HumanMethylation450.Level_1.4.2.0/\">jhu-usc.edu_LGG.HumanMethylation450.Level_1.4.2.0/</a>                                            2012-10-09 22:40    -   \n",
        "      <a href=\"jhu-usc.edu_LGG.HumanMethylation450.Level_1.4.3.0.tar.gz\">jhu-usc.edu_LGG.HumanMethylation450.Level_1.4.3.0.tar.gz</a>                                      2012-10-30 05:49  326M  \n",
        "      <a href=\"jhu-usc.edu_LGG.HumanMethylation450.Level_1.4.3.0.tar.gz.md5\">jhu-usc.edu_LGG.HumanMethylation450.Level_1.4.3.0.tar.gz.md5</a>                                  2012-10-30 05:49   90   \n",
        "      <a href=\"jhu-usc.edu_LGG.HumanMethylation450.Level_1.4.3.0/\">jhu-usc.edu_LGG.HumanMethylation450.Level_1.4.3.0/</a>                                            2012-10-30 05:48    -   \n",
        "      <a href=\"jhu-usc.edu_LGG.HumanMethylation450.Level_1.4.4.0.tar.gz\">jhu-usc.edu_LGG.HumanMethylation450.Level_1.4.4.0.tar.gz</a>                                      2013-02-25 22:22  326M  \n",
        "      <a href=\"jhu-usc.edu_LGG.HumanMethylation450.Level_1.4.4.0.tar.gz.md5\">jhu-usc.edu_LGG.HumanMethylation450.Level_1.4.4.0.tar.gz.md5</a>                                  2013-02-25 22:22   90   \n",
        "      <a href=\"jhu-usc.edu_LGG.HumanMethylation450.Level_1.4.4.0/\">jhu-usc.edu_LGG.HumanMethylation450.Level_1.4.4.0/</a>                                            2013-02-25 22:20    -   \n",
        "      <a href=\"jhu-usc.edu_LGG.HumanMethylation450.Level_1.4.5.0.tar.gz\">jhu-usc.edu_LGG.HumanMethylation450.Level_1.4.5.0.tar.gz</a>                                      2013-04-24 20:25  326M  \n",
        "      <a href=\"jhu-usc.edu_LGG.HumanMethylation450.Level_1.4.5.0.tar.gz.md5\">jhu-usc.edu_LGG.HumanMethylation450.Level_1.4.5.0.tar.gz.md5</a>                                  2013-04-24 20:25   90   \n",
        "      <a href=\"jhu-usc.edu_LGG.HumanMethylation450.Level_1.4.5.0/\">jhu-usc.edu_LGG.HumanMethylation450.Level_1.4.5.0/</a>                                            2013-04-24 20:24    -   \n",
        "      <a href=\"jhu-usc.edu_LGG.HumanMethylation450.Level_1.4.6.0.tar.gz\">jhu-usc.edu_LGG.HumanMethylation450.Level_1.4.6.0.tar.gz</a>                                      2013-05-13 15:33  326M  \n",
        "      <a href=\"jhu-usc.edu_LGG.HumanMethylation450.Level_1.4.6.0.tar.gz.md5\">jhu-usc.edu_LGG.HumanMethylation450.Level_1.4.6.0.tar.gz.md5</a>                                  2013-05-13 15:33   90   \n",
        "      <a href=\"jhu-usc.edu_LGG.HumanMethylation450.Level_1.4.6.0/\">jhu-usc.edu_LGG.HumanMethylation450.Level_1.4.6.0/</a>                                            2013-05-13 15:31    -   \n",
        "      <a href=\"jhu-usc.edu_LGG.HumanMethylation450.Level_1.4.7.0.tar.gz\">jhu-usc.edu_LGG.HumanMethylation450.Level_1.4.7.0.tar.gz</a>                                      2013-06-17 18:22  326M  \n",
        "      <a href=\"jhu-usc.edu_LGG.HumanMethylation450.Level_1.4.7.0.tar.gz.md5\">jhu-usc.edu_LGG.HumanMethylation450.Level_1.4.7.0.tar.gz.md5</a>                                  2013-06-17 18:22   90   \n",
        "      <a href=\"jhu-usc.edu_LGG.HumanMethylation450.Level_1.4.7.0/\">jhu-usc.edu_LGG.HumanMethylation450.Level_1.4.7.0/</a>                                            2013-06-17 18:20    -   \n",
        "      <a href=\"jhu-usc.edu_LGG.HumanMethylation450.Level_1.4.8.0.tar.gz\">jhu-usc.edu_LGG.HumanMethylation450.Level_1.4.8.0.tar.gz</a>                                      2013-08-16 01:16  326M  \n",
        "      <a href=\"jhu-usc.edu_LGG.HumanMethylation450.Level_1.4.8.0.tar.gz.md5\">jhu-usc.edu_LGG.HumanMethylation450.Level_1.4.8.0.tar.gz.md5</a>                                  2013-08-16 01:16   90   \n",
        "      <a href=\"jhu-usc.edu_LGG.HumanMethylation450.Level_1.4.8.0/\">jhu-usc.edu_LGG.HumanMethylation450.Level_1.4.8.0/</a>                                            2013-08-16 01:15    -   \n",
        "      <a href=\"jhu-usc.edu_LGG.HumanMethylation450.Level_1.4.9.0.tar.gz\">jhu-usc.edu_LGG.HumanMethylation450.Level_1.4.9.0.tar.gz</a>                                      2013-12-03 06:16  326M  \n",
        "      <a href=\"jhu-usc.edu_LGG.HumanMethylation450.Level_1.4.9.0.tar.gz.md5\">jhu-usc.edu_LGG.HumanMethylation450.Level_1.4.9.0.tar.gz.md5</a>                                  2013-12-03 06:16   90   \n",
        "      <a href=\"jhu-usc.edu_LGG.HumanMethylation450.Level_1.4.9.0/\">jhu-usc.edu_LGG.HumanMethylation450.Level_1.4.9.0/</a>                                            2013-12-03 06:15    -   \n",
        "      <a href=\"jhu-usc.edu_LGG.HumanMethylation450.Level_1.5.1.0.tar.gz\">jhu-usc.edu_LGG.HumanMethylation450.Level_1.5.1.0.tar.gz</a>                                      2012-07-19 16:35  203M  \n",
        "      <a href=\"jhu-usc.edu_LGG.HumanMethylation450.Level_1.5.1.0.tar.gz.md5\">jhu-usc.edu_LGG.HumanMethylation450.Level_1.5.1.0.tar.gz.md5</a>                                  2012-07-19 16:35   90   \n",
        "      <a href=\"jhu-usc.edu_LGG.HumanMethylation450.Level_1.5.1.0/\">jhu-usc.edu_LGG.HumanMethylation450.Level_1.5.1.0/</a>                                            2012-07-19 16:34    -   \n",
        "      <a href=\"jhu-usc.edu_LGG.HumanMethylation450.Level_1.5.10.0.tar.gz\">jhu-usc.edu_LGG.HumanMethylation450.Level_1.5.10.0.tar.gz</a>                                     2014-04-10 10:59  212M  \n",
        "      <a href=\"jhu-usc.edu_LGG.HumanMethylation450.Level_1.5.10.0.tar.gz.md5\">jhu-usc.edu_LGG.HumanMethylation450.Level_1.5.10.0.tar.gz.md5</a>                                 2014-04-10 10:59   91   \n",
        "      <a href=\"jhu-usc.edu_LGG.HumanMethylation450.Level_1.5.10.0/\">jhu-usc.edu_LGG.HumanMethylation450.Level_1.5.10.0/</a>                                           2014-04-10 10:57    -   \n",
        "      <a href=\"jhu-usc.edu_LGG.HumanMethylation450.Level_1.5.11.0.tar.gz\">jhu-usc.edu_LGG.HumanMethylation450.Level_1.5.11.0.tar.gz</a>                                     2014-07-03 00:26  212M  \n",
        "      <a href=\"jhu-usc.edu_LGG.HumanMethylation450.Level_1.5.11.0.tar.gz.md5\">jhu-usc.edu_LGG.HumanMethylation450.Level_1.5.11.0.tar.gz.md5</a>                                 2014-07-03 00:26   91   \n",
        "      <a href=\"jhu-usc.edu_LGG.HumanMethylation450.Level_1.5.11.0/\">jhu-usc.edu_LGG.HumanMethylation450.Level_1.5.11.0/</a>                                           2014-07-03 00:26    -   \n",
        "      <a href=\"jhu-usc.edu_LGG.HumanMethylation450.Level_1.5.12.0.tar.gz\">jhu-usc.edu_LGG.HumanMethylation450.Level_1.5.12.0.tar.gz</a>                                     2014-08-04 15:40  220M  \n",
        "      <a href=\"jhu-usc.edu_LGG.HumanMethylation450.Level_1.5.12.0.tar.gz.md5\">jhu-usc.edu_LGG.HumanMethylation450.Level_1.5.12.0.tar.gz.md5</a>                                 2014-08-04 15:40   91   \n",
        "      <a href=\"jhu-usc.edu_LGG.HumanMethylation450.Level_1.5.12.0/\">jhu-usc.edu_LGG.HumanMethylation450.Level_1.5.12.0/</a>                                           2014-08-04 15:39    -   \n",
        "      <a href=\"jhu-usc.edu_LGG.HumanMethylation450.Level_1.5.2.0.tar.gz\">jhu-usc.edu_LGG.HumanMethylation450.Level_1.5.2.0.tar.gz</a>                                      2012-10-09 22:40  203M  \n",
        "      <a href=\"jhu-usc.edu_LGG.HumanMethylation450.Level_1.5.2.0.tar.gz.md5\">jhu-usc.edu_LGG.HumanMethylation450.Level_1.5.2.0.tar.gz.md5</a>                                  2012-10-09 22:40   90   \n",
        "      <a href=\"jhu-usc.edu_LGG.HumanMethylation450.Level_1.5.2.0/\">jhu-usc.edu_LGG.HumanMethylation450.Level_1.5.2.0/</a>                                            2012-10-09 22:39    -   \n",
        "      <a href=\"jhu-usc.edu_LGG.HumanMethylation450.Level_1.5.3.0.tar.gz\">jhu-usc.edu_LGG.HumanMethylation450.Level_1.5.3.0.tar.gz</a>                                      2012-10-30 05:47  203M  \n",
        "      <a href=\"jhu-usc.edu_LGG.HumanMethylation450.Level_1.5.3.0.tar.gz.md5\">jhu-usc.edu_LGG.HumanMethylation450.Level_1.5.3.0.tar.gz.md5</a>                                  2012-10-30 05:47   90   \n",
        "      <a href=\"jhu-usc.edu_LGG.HumanMethylation450.Level_1.5.3.0/\">jhu-usc.edu_LGG.HumanMethylation450.Level_1.5.3.0/</a>                                            2012-10-30 05:46    -   \n",
        "      <a href=\"jhu-usc.edu_LGG.HumanMethylation450.Level_1.5.4.0.tar.gz\">jhu-usc.edu_LGG.HumanMethylation450.Level_1.5.4.0.tar.gz</a>                                      2013-02-25 22:20  203M  \n",
        "      <a href=\"jhu-usc.edu_LGG.HumanMethylation450.Level_1.5.4.0.tar.gz.md5\">jhu-usc.edu_LGG.HumanMethylation450.Level_1.5.4.0.tar.gz.md5</a>                                  2013-02-25 22:20   90   \n",
        "      <a href=\"jhu-usc.edu_LGG.HumanMethylation450.Level_1.5.4.0/\">jhu-usc.edu_LGG.HumanMethylation450.Level_1.5.4.0/</a>                                            2013-02-25 22:19    -   \n",
        "      <a href=\"jhu-usc.edu_LGG.HumanMethylation450.Level_1.5.5.0.tar.gz\">jhu-usc.edu_LGG.HumanMethylation450.Level_1.5.5.0.tar.gz</a>                                      2013-04-24 20:24  203M  \n",
        "      <a href=\"jhu-usc.edu_LGG.HumanMethylation450.Level_1.5.5.0.tar.gz.md5\">jhu-usc.edu_LGG.HumanMethylation450.Level_1.5.5.0.tar.gz.md5</a>                                  2013-04-24 20:24   90   \n",
        "      <a href=\"jhu-usc.edu_LGG.HumanMethylation450.Level_1.5.5.0/\">jhu-usc.edu_LGG.HumanMethylation450.Level_1.5.5.0/</a>                                            2013-04-24 20:23    -   \n",
        "      <a href=\"jhu-usc.edu_LGG.HumanMethylation450.Level_1.5.6.0.tar.gz\">jhu-usc.edu_LGG.HumanMethylation450.Level_1.5.6.0.tar.gz</a>                                      2013-05-13 15:31  203M  \n",
        "      <a href=\"jhu-usc.edu_LGG.HumanMethylation450.Level_1.5.6.0.tar.gz.md5\">jhu-usc.edu_LGG.HumanMethylation450.Level_1.5.6.0.tar.gz.md5</a>                                  2013-05-13 15:31   90   \n",
        "      <a href=\"jhu-usc.edu_LGG.HumanMethylation450.Level_1.5.6.0/\">jhu-usc.edu_LGG.HumanMethylation450.Level_1.5.6.0/</a>                                            2013-05-13 15:30    -   \n",
        "      <a href=\"jhu-usc.edu_LGG.HumanMethylation450.Level_1.5.7.0.tar.gz\">jhu-usc.edu_LGG.HumanMethylation450.Level_1.5.7.0.tar.gz</a>                                      2013-06-17 18:20  203M  \n",
        "      <a href=\"jhu-usc.edu_LGG.HumanMethylation450.Level_1.5.7.0.tar.gz.md5\">jhu-usc.edu_LGG.HumanMethylation450.Level_1.5.7.0.tar.gz.md5</a>                                  2013-06-17 18:20   90   \n",
        "      <a href=\"jhu-usc.edu_LGG.HumanMethylation450.Level_1.5.7.0/\">jhu-usc.edu_LGG.HumanMethylation450.Level_1.5.7.0/</a>                                            2013-06-17 18:19    -   \n",
        "      <a href=\"jhu-usc.edu_LGG.HumanMethylation450.Level_1.5.8.0.tar.gz\">jhu-usc.edu_LGG.HumanMethylation450.Level_1.5.8.0.tar.gz</a>                                      2013-08-16 01:14  203M  \n",
        "      <a href=\"jhu-usc.edu_LGG.HumanMethylation450.Level_1.5.8.0.tar.gz.md5\">jhu-usc.edu_LGG.HumanMethylation450.Level_1.5.8.0.tar.gz.md5</a>                                  2013-08-16 01:14   90   \n",
        "      <a href=\"jhu-usc.edu_LGG.HumanMethylation450.Level_1.5.8.0/\">jhu-usc.edu_LGG.HumanMethylation450.Level_1.5.8.0/</a>                                            2013-08-16 01:13    -   \n",
        "      <a href=\"jhu-usc.edu_LGG.HumanMethylation450.Level_1.5.9.0.tar.gz\">jhu-usc.edu_LGG.HumanMethylation450.Level_1.5.9.0.tar.gz</a>                                      2013-12-03 06:14  203M  \n",
        "      <a href=\"jhu-usc.edu_LGG.HumanMethylation450.Level_1.5.9.0.tar.gz.md5\">jhu-usc.edu_LGG.HumanMethylation450.Level_1.5.9.0.tar.gz.md5</a>                                  2013-12-03 06:14   90   \n",
        "      <a href=\"jhu-usc.edu_LGG.HumanMethylation450.Level_1.5.9.0/\">jhu-usc.edu_LGG.HumanMethylation450.Level_1.5.9.0/</a>                                            2013-12-03 06:13    -   \n",
        "      <a href=\"jhu-usc.edu_LGG.HumanMethylation450.Level_1.6.10.0.tar.gz\">jhu-usc.edu_LGG.HumanMethylation450.Level_1.6.10.0.tar.gz</a>                                     2014-04-10 10:56  302M  \n",
        "      <a href=\"jhu-usc.edu_LGG.HumanMethylation450.Level_1.6.10.0.tar.gz.md5\">jhu-usc.edu_LGG.HumanMethylation450.Level_1.6.10.0.tar.gz.md5</a>                                 2014-04-10 10:56   91   \n",
        "      <a href=\"jhu-usc.edu_LGG.HumanMethylation450.Level_1.6.10.0/\">jhu-usc.edu_LGG.HumanMethylation450.Level_1.6.10.0/</a>                                           2014-04-10 10:53    -   \n",
        "      <a href=\"jhu-usc.edu_LGG.HumanMethylation450.Level_1.6.11.0.tar.gz\">jhu-usc.edu_LGG.HumanMethylation450.Level_1.6.11.0.tar.gz</a>                                     2014-07-03 00:25  302M  \n",
        "      <a href=\"jhu-usc.edu_LGG.HumanMethylation450.Level_1.6.11.0.tar.gz.md5\">jhu-usc.edu_LGG.HumanMethylation450.Level_1.6.11.0.tar.gz.md5</a>                                 2014-07-03 00:25   91   \n",
        "      <a href=\"jhu-usc.edu_LGG.HumanMethylation450.Level_1.6.11.0/\">jhu-usc.edu_LGG.HumanMethylation450.Level_1.6.11.0/</a>                                           2014-07-03 00:24    -   \n",
        "      <a href=\"jhu-usc.edu_LGG.HumanMethylation450.Level_1.6.12.0.tar.gz\">jhu-usc.edu_LGG.HumanMethylation450.Level_1.6.12.0.tar.gz</a>                                     2014-08-04 15:39  302M  \n",
        "      <a href=\"jhu-usc.edu_LGG.HumanMethylation450.Level_1.6.12.0.tar.gz.md5\">jhu-usc.edu_LGG.HumanMethylation450.Level_1.6.12.0.tar.gz.md5</a>                                 2014-08-04 15:39   91   \n",
        "      <a href=\"jhu-usc.edu_LGG.HumanMethylation450.Level_1.6.12.0/\">jhu-usc.edu_LGG.HumanMethylation450.Level_1.6.12.0/</a>                                           2014-08-04 15:38    -   \n",
        "      <a href=\"jhu-usc.edu_LGG.HumanMethylation450.Level_1.6.2.0.tar.gz\">jhu-usc.edu_LGG.HumanMethylation450.Level_1.6.2.0.tar.gz</a>                                      2012-10-09 22:39  302M  \n",
        "      <a href=\"jhu-usc.edu_LGG.HumanMethylation450.Level_1.6.2.0.tar.gz.md5\">jhu-usc.edu_LGG.HumanMethylation450.Level_1.6.2.0.tar.gz.md5</a>                                  2012-10-09 22:39   90   \n",
        "      <a href=\"jhu-usc.edu_LGG.HumanMethylation450.Level_1.6.2.0/\">jhu-usc.edu_LGG.HumanMethylation450.Level_1.6.2.0/</a>                                            2012-10-09 22:37    -   \n",
        "      <a href=\"jhu-usc.edu_LGG.HumanMethylation450.Level_1.6.3.0.tar.gz\">jhu-usc.edu_LGG.HumanMethylation450.Level_1.6.3.0.tar.gz</a>                                      2012-10-30 05:46  302M  \n",
        "      <a href=\"jhu-usc.edu_LGG.HumanMethylation450.Level_1.6.3.0.tar.gz.md5\">jhu-usc.edu_LGG.HumanMethylation450.Level_1.6.3.0.tar.gz.md5</a>                                  2012-10-30 05:46   90   \n",
        "      <a href=\"jhu-usc.edu_LGG.HumanMethylation450.Level_1.6.3.0/\">jhu-usc.edu_LGG.HumanMethylation450.Level_1.6.3.0/</a>                                            2012-10-30 05:45    -   \n",
        "      <a href=\"jhu-usc.edu_LGG.HumanMethylation450.Level_1.6.4.0.tar.gz\">jhu-usc.edu_LGG.HumanMethylation450.Level_1.6.4.0.tar.gz</a>                                      2013-02-25 22:19  302M  \n",
        "      <a href=\"jhu-usc.edu_LGG.HumanMethylation450.Level_1.6.4.0.tar.gz.md5\">jhu-usc.edu_LGG.HumanMethylation450.Level_1.6.4.0.tar.gz.md5</a>                                  2013-02-25 22:19   90   \n",
        "      <a href=\"jhu-usc.edu_LGG.HumanMethylation450.Level_1.6.4.0/\">jhu-usc.edu_LGG.HumanMethylation450.Level_1.6.4.0/</a>                                            2013-02-25 22:17    -   \n",
        "      <a href=\"jhu-usc.edu_LGG.HumanMethylation450.Level_1.6.5.0.tar.gz\">jhu-usc.edu_LGG.HumanMethylation450.Level_1.6.5.0.tar.gz</a>                                      2013-04-24 20:23  302M  \n",
        "      <a href=\"jhu-usc.edu_LGG.HumanMethylation450.Level_1.6.5.0.tar.gz.md5\">jhu-usc.edu_LGG.HumanMethylation450.Level_1.6.5.0.tar.gz.md5</a>                                  2013-04-24 20:23   90   \n",
        "      <a href=\"jhu-usc.edu_LGG.HumanMethylation450.Level_1.6.5.0/\">jhu-usc.edu_LGG.HumanMethylation450.Level_1.6.5.0/</a>                                            2013-04-24 20:22    -   \n",
        "      <a href=\"jhu-usc.edu_LGG.HumanMethylation450.Level_1.6.6.0.tar.gz\">jhu-usc.edu_LGG.HumanMethylation450.Level_1.6.6.0.tar.gz</a>                                      2013-05-13 15:30  302M  \n",
        "      <a href=\"jhu-usc.edu_LGG.HumanMethylation450.Level_1.6.6.0.tar.gz.md5\">jhu-usc.edu_LGG.HumanMethylation450.Level_1.6.6.0.tar.gz.md5</a>                                  2013-05-13 15:30   90   \n",
        "      <a href=\"jhu-usc.edu_LGG.HumanMethylation450.Level_1.6.6.0/\">jhu-usc.edu_LGG.HumanMethylation450.Level_1.6.6.0/</a>                                            2013-05-13 15:29    -   \n",
        "      <a href=\"jhu-usc.edu_LGG.HumanMethylation450.Level_1.6.7.0.tar.gz\">jhu-usc.edu_LGG.HumanMethylation450.Level_1.6.7.0.tar.gz</a>                                      2013-06-17 18:19  302M  \n",
        "      <a href=\"jhu-usc.edu_LGG.HumanMethylation450.Level_1.6.7.0.tar.gz.md5\">jhu-usc.edu_LGG.HumanMethylation450.Level_1.6.7.0.tar.gz.md5</a>                                  2013-06-17 18:19   90   \n",
        "      <a href=\"jhu-usc.edu_LGG.HumanMethylation450.Level_1.6.7.0/\">jhu-usc.edu_LGG.HumanMethylation450.Level_1.6.7.0/</a>                                            2013-06-17 18:18    -   \n",
        "      <a href=\"jhu-usc.edu_LGG.HumanMethylation450.Level_1.6.8.0.tar.gz\">jhu-usc.edu_LGG.HumanMethylation450.Level_1.6.8.0.tar.gz</a>                                      2013-08-16 01:13  302M  \n",
        "      <a href=\"jhu-usc.edu_LGG.HumanMethylation450.Level_1.6.8.0.tar.gz.md5\">jhu-usc.edu_LGG.HumanMethylation450.Level_1.6.8.0.tar.gz.md5</a>                                  2013-08-16 01:13   90   \n",
        "      <a href=\"jhu-usc.edu_LGG.HumanMethylation450.Level_1.6.8.0/\">jhu-usc.edu_LGG.HumanMethylation450.Level_1.6.8.0/</a>                                            2013-08-16 01:12    -   \n",
        "      <a href=\"jhu-usc.edu_LGG.HumanMethylation450.Level_1.6.9.0.tar.gz\">jhu-usc.edu_LGG.HumanMethylation450.Level_1.6.9.0.tar.gz</a>                                      2013-12-03 06:13  302M  \n",
        "      <a href=\"jhu-usc.edu_LGG.HumanMethylation450.Level_1.6.9.0.tar.gz.md5\">jhu-usc.edu_LGG.HumanMethylation450.Level_1.6.9.0.tar.gz.md5</a>                                  2013-12-03 06:13   90   \n",
        "      <a href=\"jhu-usc.edu_LGG.HumanMethylation450.Level_1.6.9.0/\">jhu-usc.edu_LGG.HumanMethylation450.Level_1.6.9.0/</a>                                            2013-12-03 06:12    -   \n",
        "      <a href=\"jhu-usc.edu_LGG.HumanMethylation450.Level_1.7.10.0.tar.gz\">jhu-usc.edu_LGG.HumanMethylation450.Level_1.7.10.0.tar.gz</a>                                     2014-04-10 10:52  338M  \n",
        "      <a href=\"jhu-usc.edu_LGG.HumanMethylation450.Level_1.7.10.0.tar.gz.md5\">jhu-usc.edu_LGG.HumanMethylation450.Level_1.7.10.0.tar.gz.md5</a>                                 2014-04-10 10:52   91   \n",
        "      <a href=\"jhu-usc.edu_LGG.HumanMethylation450.Level_1.7.10.0/\">jhu-usc.edu_LGG.HumanMethylation450.Level_1.7.10.0/</a>                                           2014-04-10 10:49    -   \n",
        "      <a href=\"jhu-usc.edu_LGG.HumanMethylation450.Level_1.7.11.0.tar.gz\">jhu-usc.edu_LGG.HumanMethylation450.Level_1.7.11.0.tar.gz</a>                                     2014-07-03 00:24  338M  \n",
        "      <a href=\"jhu-usc.edu_LGG.HumanMethylation450.Level_1.7.11.0.tar.gz.md5\">jhu-usc.edu_LGG.HumanMethylation450.Level_1.7.11.0.tar.gz.md5</a>                                 2014-07-03 00:24   91   \n",
        "      <a href=\"jhu-usc.edu_LGG.HumanMethylation450.Level_1.7.11.0/\">jhu-usc.edu_LGG.HumanMethylation450.Level_1.7.11.0/</a>                                           2014-07-03 00:22    -   \n",
        "      <a href=\"jhu-usc.edu_LGG.HumanMethylation450.Level_1.7.12.0.tar.gz\">jhu-usc.edu_LGG.HumanMethylation450.Level_1.7.12.0.tar.gz</a>                                     2014-08-04 15:37  338M  \n",
        "      <a href=\"jhu-usc.edu_LGG.HumanMethylation450.Level_1.7.12.0.tar.gz.md5\">jhu-usc.edu_LGG.HumanMethylation450.Level_1.7.12.0.tar.gz.md5</a>                                 2014-08-04 15:37   91   \n",
        "      <a href=\"jhu-usc.edu_LGG.HumanMethylation450.Level_1.7.12.0/\">jhu-usc.edu_LGG.HumanMethylation450.Level_1.7.12.0/</a>                                           2014-08-04 15:36    -   \n",
        "      <a href=\"jhu-usc.edu_LGG.HumanMethylation450.Level_1.7.4.0.tar.gz\">jhu-usc.edu_LGG.HumanMethylation450.Level_1.7.4.0.tar.gz</a>                                      2013-02-25 22:17  338M  \n",
        "      <a href=\"jhu-usc.edu_LGG.HumanMethylation450.Level_1.7.4.0.tar.gz.md5\">jhu-usc.edu_LGG.HumanMethylation450.Level_1.7.4.0.tar.gz.md5</a>                                  2013-02-25 22:17   90   \n",
        "      <a href=\"jhu-usc.edu_LGG.HumanMethylation450.Level_1.7.4.0/\">jhu-usc.edu_LGG.HumanMethylation450.Level_1.7.4.0/</a>                                            2013-02-25 22:15    -   \n",
        "      <a href=\"jhu-usc.edu_LGG.HumanMethylation450.Level_1.7.5.0.tar.gz\">jhu-usc.edu_LGG.HumanMethylation450.Level_1.7.5.0.tar.gz</a>                                      2013-04-24 20:21  338M  \n",
        "      <a href=\"jhu-usc.edu_LGG.HumanMethylation450.Level_1.7.5.0.tar.gz.md5\">jhu-usc.edu_LGG.HumanMethylation450.Level_1.7.5.0.tar.gz.md5</a>                                  2013-04-24 20:21   90   \n",
        "      <a href=\"jhu-usc.edu_LGG.HumanMethylation450.Level_1.7.5.0/\">jhu-usc.edu_LGG.HumanMethylation450.Level_1.7.5.0/</a>                                            2013-04-24 20:20    -   \n",
        "      <a href=\"jhu-usc.edu_LGG.HumanMethylation450.Level_1.7.6.0.tar.gz\">jhu-usc.edu_LGG.HumanMethylation450.Level_1.7.6.0.tar.gz</a>                                      2013-05-13 15:28  338M  \n",
        "      <a href=\"jhu-usc.edu_LGG.HumanMethylation450.Level_1.7.6.0.tar.gz.md5\">jhu-usc.edu_LGG.HumanMethylation450.Level_1.7.6.0.tar.gz.md5</a>                                  2013-05-13 15:28   90   \n",
        "      <a href=\"jhu-usc.edu_LGG.HumanMethylation450.Level_1.7.6.0/\">jhu-usc.edu_LGG.HumanMethylation450.Level_1.7.6.0/</a>                                            2013-05-13 15:27    -   \n",
        "      <a href=\"jhu-usc.edu_LGG.HumanMethylation450.Level_1.7.7.0.tar.gz\">jhu-usc.edu_LGG.HumanMethylation450.Level_1.7.7.0.tar.gz</a>                                      2013-06-17 18:17  338M  \n",
        "      <a href=\"jhu-usc.edu_LGG.HumanMethylation450.Level_1.7.7.0.tar.gz.md5\">jhu-usc.edu_LGG.HumanMethylation450.Level_1.7.7.0.tar.gz.md5</a>                                  2013-06-17 18:17   90   \n",
        "      <a href=\"jhu-usc.edu_LGG.HumanMethylation450.Level_1.7.7.0/\">jhu-usc.edu_LGG.HumanMethylation450.Level_1.7.7.0/</a>                                            2013-06-17 18:16    -   \n",
        "      <a href=\"jhu-usc.edu_LGG.HumanMethylation450.Level_1.7.8.0.tar.gz\">jhu-usc.edu_LGG.HumanMethylation450.Level_1.7.8.0.tar.gz</a>                                      2013-08-16 01:11  338M  \n",
        "      <a href=\"jhu-usc.edu_LGG.HumanMethylation450.Level_1.7.8.0.tar.gz.md5\">jhu-usc.edu_LGG.HumanMethylation450.Level_1.7.8.0.tar.gz.md5</a>                                  2013-08-16 01:11   90   \n",
        "      <a href=\"jhu-usc.edu_LGG.HumanMethylation450.Level_1.7.8.0/\">jhu-usc.edu_LGG.HumanMethylation450.Level_1.7.8.0/</a>                                            2013-08-16 01:09    -   \n",
        "      <a href=\"jhu-usc.edu_LGG.HumanMethylation450.Level_1.7.9.0.tar.gz\">jhu-usc.edu_LGG.HumanMethylation450.Level_1.7.9.0.tar.gz</a>                                      2013-12-03 06:11  338M  \n",
        "      <a href=\"jhu-usc.edu_LGG.HumanMethylation450.Level_1.7.9.0.tar.gz.md5\">jhu-usc.edu_LGG.HumanMethylation450.Level_1.7.9.0.tar.gz.md5</a>                                  2013-12-03 06:11   90   \n",
        "      <a href=\"jhu-usc.edu_LGG.HumanMethylation450.Level_1.7.9.0/\">jhu-usc.edu_LGG.HumanMethylation450.Level_1.7.9.0/</a>                                            2013-12-03 06:10    -   \n",
        "      <a href=\"jhu-usc.edu_LGG.HumanMethylation450.Level_1.8.10.0.tar.gz\">jhu-usc.ed\"?C=M;O=A\"&gt;Last modified</a>      <a href=\"?C=S;O=A\"><a></a></a></pre></body></html>"
       ]
      }
     ],
     "prompt_number": 7
    },
    {
     "cell_type": "markdown",
     "metadata": {},
     "source": [
      "<b>Get Tar Links</b>"
     ]
    },
    {
     "cell_type": "markdown",
     "metadata": {},
     "source": [
      "* Singular Way:"
     ]
    },
    {
     "cell_type": "code",
     "collapsed": false,
     "input": [
      "#one option\n",
      "url = 'https://tcga-data.nci.nih.gov/tcgafiles/ftp_auth/distro_ftpusers/anonymous/tumor/hnsc/cgcc/jhu-usc.edu/humanmethylation450/methylation/'\n",
      "filename = \"jhu-usc.edu_HNSC.HumanMethylation450.Level_1.1.0.0.tar.gz \"\n",
      "outFilePath = \"jhu-usc.edu_HNSC.HumanMethylation450.Level_1.1.0.0.csv\"\n",
      "\n",
      "response = urllib2.urlopen(url + filename)\n",
      "compressedFile = StringIO.StringIO()\n",
      "compressedFile.write(response.read())\n",
      "\n",
      "# Set the file's current position to the beginning\n",
      "# of the file so that gzip.GzipFile can read\n",
      "# its contents from the top.\n",
      "\n",
      "compressedFile.seek(0)\n",
      "\n",
      "decompressedFile = gzip.GzipFile(fileobj=compressedFile, mode='rb')\n",
      "\n",
      "with open(outFilePath, 'w') as outfile:\n",
      "    outfile.write(decompressedFile.read())"
     ],
     "language": "python",
     "metadata": {},
     "outputs": []
    },
    {
     "cell_type": "markdown",
     "metadata": {},
     "source": [
      "* Function that can be used if updated:"
     ]
    },
    {
     "cell_type": "code",
     "collapsed": false,
     "input": [
      "def getlinks(url):\n",
      "    links = [link.get('href') for link in soup.find_all('a') if link.get('href') != None \n",
      "             and '1.1.' and '.tar.gz' in link.get('href')]\n",
      "    for i in links:\n",
      "        if '.md5' not in i:\n",
      "            print i"
     ],
     "language": "python",
     "metadata": {},
     "outputs": [],
     "prompt_number": 6
    },
    {
     "cell_type": "code",
     "collapsed": false,
     "input": [
      "t= getlinks(url)\n",
      "t"
     ],
     "language": "python",
     "metadata": {},
     "outputs": [
      {
       "output_type": "stream",
       "stream": "stdout",
       "text": [
        "jhu-usc.edu_HNSC.HumanMethylation450.Level_1.1.0.0.tar.gz\n",
        "jhu-usc.edu_HNSC.HumanMethylation450.Level_1.1.1.0.tar.gz\n",
        "jhu-usc.edu_HNSC.HumanMethylation450.Level_1.1.2.0.tar.gz\n",
        "jhu-usc.edu_HNSC.HumanMethylation450.Level_1.1.3.0.tar.gz\n",
        "jhu-usc.edu_HNSC.HumanMethylation450.Level_1.1.4.0.tar.gz\n",
        "jhu-usc.edu_HNSC.HumanMethylation450.Level_1.1.5.0.tar.gz\n",
        "jhu-usc.edu_HNSC.HumanMethylation450.Level_1.1.6.0.tar.gz\n",
        "jhu-usc.edu_HNSC.HumanMethylation450.Level_1.1.7.0.tar.gz\n",
        "jhu-usc.edu_HNSC.HumanMethylation450.Level_1.1.8.0.tar.gz\n",
        "jhu-usc.edu_HNSC.HumanMethylation450.Level_1.10.3.0.tar.gz\n",
        "jhu-usc.edu_HNSC.HumanMethylation450.Level_1.10.4.0.tar.gz\n",
        "jhu-usc.edu_HNSC.HumanMethylation450.Level_1.10.5.0.tar.gz\n",
        "jhu-usc.edu_HNSC.HumanMethylation450.Level_1.10.6.0.tar.gz\n",
        "jhu-usc.edu_HNSC.HumanMethylation450.Level_1.10.7.0.tar.gz\n",
        "jhu-usc.edu_HNSC.HumanMethylation450.Level_1.10.8.0.tar.gz\n",
        "jhu-usc.edu_HNSC.HumanMethylation450.Level_1.11.3.0.tar.gz\n",
        "jhu-usc.edu_HNSC.HumanMethylation450.Level_1.11.4.0.tar.gz\n",
        "jhu-usc.edu_HNSC.HumanMethylation450.Level_1.11.5.0.tar.gz\n",
        "jhu-usc.edu_HNSC.HumanMethylation450.Level_1.11.6.0.tar.gz\n",
        "jhu-usc.edu_HNSC.HumanMethylation450.Level_1.11.7.0.tar.gz\n",
        "jhu-usc.edu_HNSC.HumanMethylation450.Level_1.11.8.0.tar.gz\n",
        "jhu-usc.edu_HNSC.HumanMethylation450.Level_1.12.3.0.tar.gz\n",
        "jhu-usc.edu_HNSC.HumanMethylation450.Level_1.12.4.0.tar.gz\n",
        "jhu-usc.edu_HNSC.HumanMethylation450.Level_1.12.5.0.tar.gz\n",
        "jhu-usc.edu_HNSC.HumanMethylation450.Level_1.12.6.0.tar.gz\n",
        "jhu-usc.edu_HNSC.HumanMethylation450.Level_1.12.7.0.tar.gz\n",
        "jhu-usc.edu_HNSC.HumanMethylation450.Level_1.12.8.0.tar.gz\n",
        "jhu-usc.edu_HNSC.HumanMethylation450.Level_1.13.3.0.tar.gz\n",
        "jhu-usc.edu_HNSC.HumanMethylation450.Level_1.13.4.0.tar.gz\n",
        "jhu-usc.edu_HNSC.HumanMethylation450.Level_1.13.5.0.tar.gz\n",
        "jhu-usc.edu_HNSC.HumanMethylation450.Level_1.13.6.0.tar.gz\n",
        "jhu-usc.edu_HNSC.HumanMethylation450.Level_1.13.7.0.tar.gz\n",
        "jhu-usc.edu_HNSC.HumanMethylation450.Level_1.13.8.0.tar.gz\n",
        "jhu-usc.edu_HNSC.HumanMethylation450.Level_1.14.4.0.tar.gz\n",
        "jhu-usc.edu_HNSC.HumanMethylation450.Level_1.14.5.0.tar.gz\n",
        "jhu-usc.edu_HNSC.HumanMethylation450.Level_1.14.6.0.tar.gz\n",
        "jhu-usc.edu_HNSC.HumanMethylation450.Level_1.14.7.0.tar.gz\n",
        "jhu-usc.edu_HNSC.HumanMethylation450.Level_1.14.8.0.tar.gz\n",
        "jhu-usc.edu_HNSC.HumanMethylation450.Level_1.15.4.0.tar.gz\n",
        "jhu-usc.edu_HNSC.HumanMethylation450.Level_1.15.5.0.tar.gz\n",
        "jhu-usc.edu_HNSC.HumanMethylation450.Level_1.15.6.0.tar.gz\n",
        "jhu-usc.edu_HNSC.HumanMethylation450.Level_1.15.7.0.tar.gz\n",
        "jhu-usc.edu_HNSC.HumanMethylation450.Level_1.15.8.0.tar.gz\n",
        "jhu-usc.edu_HNSC.HumanMethylation450.Level_1.16.5.0.tar.gz\n",
        "jhu-usc.edu_HNSC.HumanMethylation450.Level_1.16.6.0.tar.gz\n",
        "jhu-usc.edu_HNSC.HumanMethylation450.Level_1.16.7.0.tar.gz\n",
        "jhu-usc.edu_HNSC.HumanMethylation450.Level_1.16.8.0.tar.gz\n",
        "jhu-usc.edu_HNSC.HumanMethylation450.Level_1.17.6.0.tar.gz\n",
        "jhu-usc.edu_HNSC.HumanMethylation450.Level_1.17.7.0.tar.gz\n",
        "jhu-usc.edu_HNSC.HumanMethylation450.Level_1.17.8.0.tar.gz\n",
        "jhu-usc.edu_HNSC.HumanMethylation450.Level_1.18.7.0.tar.gz\n",
        "jhu-usc.edu_HNSC.HumanMethylation450.Level_1.18.8.0.tar.gz\n",
        "jhu-usc.edu_HNSC.HumanMethylation450.Level_1.2.0.0.tar.gz\n",
        "jhu-usc.edu_HNSC.HumanMethylation450.Level_1.2.1.0.tar.gz\n",
        "jhu-usc.edu_HNSC.HumanMethylation450.Level_1.2.2.0.tar.gz\n",
        "jhu-usc.edu_HNSC.HumanMethylation450.Level_1.2.3.0.tar.gz\n",
        "jhu-usc.edu_HNSC.HumanMethylation450.Level_1.2.4.0.tar.gz\n",
        "jhu-usc.edu_HNSC.HumanMethylation450.Level_1.2.5.0.tar.gz\n",
        "jhu-usc.edu_HNSC.HumanMethylation450.Level_1.2.6.0.tar.gz\n",
        "jhu-usc.edu_HNSC.HumanMethylation450.Level_1.2.7.0.tar.gz\n",
        "jhu-usc.edu_HNSC.HumanMethylation450.Level_1.2.8.0.tar.gz\n",
        "jhu-usc.edu_HNSC.HumanMethylation450.Level_1.3.0.0.tar.gz\n",
        "jhu-usc.edu_HNSC.HumanMethylation450.Level_1.3.1.0.tar.gz\n",
        "jhu-usc.edu_HNSC.HumanMethylation450.Level_1.3.2.0.tar.gz\n",
        "jhu-usc.edu_HNSC.HumanMethylation450.Level_1.3.3.0.tar.gz\n",
        "jhu-usc.edu_HNSC.HumanMethylation450.Level_1.3.4.0.tar.gz\n",
        "jhu-usc.edu_HNSC.HumanMethylation450.Level_1.3.5.0.tar.gz\n",
        "jhu-usc.edu_HNSC.HumanMethylation450.Level_1.3.6.0.tar.gz\n",
        "jhu-usc.edu_HNSC.HumanMethylation450.Level_1.3.7.0.tar.gz\n",
        "jhu-usc.edu_HNSC.HumanMethylation450.Level_1.3.8.0.tar.gz\n",
        "jhu-usc.edu_HNSC.HumanMethylation450.Level_1.4.0.0.tar.gz\n",
        "jhu-usc.edu_HNSC.HumanMethylation450.Level_1.4.1.0.tar.gz\n",
        "jhu-usc.edu_HNSC.HumanMethylation450.Level_1.4.2.0.tar.gz\n",
        "jhu-usc.edu_HNSC.HumanMethylation450.Level_1.4.3.0.tar.gz\n",
        "jhu-usc.edu_HNSC.HumanMethylation450.Level_1.4.4.0.tar.gz\n",
        "jhu-usc.edu_HNSC.HumanMethylation450.Level_1.4.5.0.tar.gz\n",
        "jhu-usc.edu_HNSC.HumanMethylation450.Level_1.4.6.0.tar.gz\n",
        "jhu-usc.edu_HNSC.HumanMethylation450.Level_1.4.7.0.tar.gz\n",
        "jhu-usc.edu_HNSC.HumanMethylation450.Level_1.4.8.0.tar.gz\n",
        "jhu-usc.edu_HNSC.HumanMethylation450.Level_1.5.0.0.tar.gz\n",
        "jhu-usc.edu_HNSC.HumanMethylation450.Level_1.5.1.0.tar.gz\n",
        "jhu-usc.edu_HNSC.HumanMethylation450.Level_1.5.2.0.tar.gz\n",
        "jhu-usc.edu_HNSC.HumanMethylation450.Level_1.5.3.0.tar.gz\n",
        "jhu-usc.edu_HNSC.HumanMethylation450.Level_1.5.4.0.tar.gz\n",
        "jhu-usc.edu_HNSC.HumanMethylation450.Level_1.5.5.0.tar.gz\n",
        "jhu-usc.edu_HNSC.HumanMethylation450.Level_1.5.6.0.tar.gz\n",
        "jhu-usc.edu_HNSC.HumanMethylation450.Level_1.5.7.0.tar.gz\n",
        "jhu-usc.edu_HNSC.HumanMethylation450.Level_1.5.8.0.tar.gz\n",
        "jhu-usc.edu_HNSC.HumanMethylation450.Level_1.6.0.0.tar.gz\n",
        "jhu-usc.edu_HNSC.HumanMethylation450.Level_1.6.1.0.tar.gz\n",
        "jhu-usc.edu_HNSC.HumanMethylation450.Level_1.6.2.0.tar.gz\n",
        "jhu-usc.edu_HNSC.HumanMethylation450.Level_1.6.3.0.tar.gz\n",
        "jhu-usc.edu_HNSC.HumanMethylation450.Level_1.6.4.0.tar.gz\n",
        "jhu-usc.edu_HNSC.HumanMethylation450.Level_1.6.5.0.tar.gz\n",
        "jhu-usc.edu_HNSC.HumanMethylation450.Level_1.6.6.0.tar.gz\n",
        "jhu-usc.edu_HNSC.HumanMethylation450.Level_1.6.7.0.tar.gz\n",
        "jhu-usc.edu_HNSC.HumanMethylation450.Level_1.6.8.0.tar.gz\n",
        "jhu-usc.edu_HNSC.HumanMethylation450.Level_1.7.0.0.tar.gz\n",
        "jhu-usc.edu_HNSC.HumanMethylation450.Level_1.7.1.0.tar.gz\n",
        "jhu-usc.edu_HNSC.HumanMethylation450.Level_1.7.2.0.tar.gz\n",
        "jhu-usc.edu_HNSC.HumanMethylation450.Level_1.7.3.0.tar.gz\n",
        "jhu-usc.edu_HNSC.HumanMethylation450.Level_1.7.4.0.tar.gz\n",
        "jhu-usc.edu_HNSC.HumanMethylation450.Level_1.7.5.0.tar.gz\n",
        "jhu-usc.edu_HNSC.HumanMethylation450.Level_1.7.6.0.tar.gz\n",
        "jhu-usc.edu_HNSC.HumanMethylation450.Level_1.7.7.0.tar.gz\n",
        "jhu-usc.edu_HNSC.HumanMethylation450.Level_1.7.8.0.tar.gz\n",
        "jhu-usc.edu_HNSC.HumanMethylation450.Level_1.8.0.0.tar.gz\n",
        "jhu-usc.edu_HNSC.HumanMethylation450.Level_1.8.1.0.tar.gz\n",
        "jhu-usc.edu_HNSC.HumanMethylation450.Level_1.8.2.0.tar.gz\n",
        "jhu-usc.edu_HNSC.HumanMethylation450.Level_1.8.3.0.tar.gz\n",
        "jhu-usc.edu_HNSC.HumanMethylation450.Level_1.1.1.0.tar.gz\n",
        "jhu-usc.edu_HNSC.HumanMethylation450.Level_1.1.2.0.tar.gz\n",
        "jhu-usc.edu_HNSC.HumanMethylation450.Level_1.1.3.0.tar.gz\n",
        "jhu-usc.edu_HNSC.HumanMethylation450.Level_1.1.4.0.tar.gz\n",
        "jhu-usc.edu_HNSC.HumanMethylation450.Level_1.1.5.0.tar.gz\n",
        "jhu-usc.edu_HNSC.HumanMethylation450.Level_1.1.6.0.tar.gz\n",
        "jhu-usc.edu_HNSC.HumanMethylation450.Level_1.1.7.0.tar.gz\n",
        "jhu-usc.edu_HNSC.HumanMethylation450.Level_1.1.8.0.tar.gz\n",
        "jhu-usc.edu_HNSC.HumanMethylation450.Level_1.10.3.0.tar.gz\n",
        "jhu-usc.edu_HNSC.HumanMethylation450.Level_1.10.4.0.tar.gz\n",
        "jhu-usc.edu_HNSC.HumanMethylation450.Level_1.10.5.0.tar.gz\n",
        "jhu-usc.edu_HNSC.HumanMethylation450.Level_1.10.6.0.tar.gz\n",
        "jhu-usc.edu_HNSC.HumanMethylation450.Level_1.10.7.0.tar.gz\n",
        "jhu-usc.edu_HNSC.HumanMethylation450.Level_1.10.8.0.tar.gz\n",
        "jhu-usc.edu_HNSC.HumanMethylation450.Level_1.11.3.0.tar.gz\n",
        "jhu-usc.edu_HNSC.HumanMethylation450.Level_1.11.4.0.tar.gz\n",
        "jhu-usc.edu_HNSC.HumanMethylation450.Level_1.11.5.0.tar.gz\n",
        "jhu-usc.edu_HNSC.HumanMethylation450.Level_1.11.6.0.tar.gz\n",
        "jhu-usc.edu_HNSC.HumanMethylation450.Level_1.11.7.0.tar.gz\n",
        "jhu-usc.edu_HNSC.HumanMethylation450.Level_1.11.8.0.tar.gz\n",
        "jhu-usc.edu_HNSC.HumanMethylation450.Level_1.12.3.0.tar.gz\n",
        "jhu-usc.edu_HNSC.HumanMethylation450.Level_1.12.4.0.tar.gz\n",
        "jhu-usc.edu_HNSC.HumanMethylation450.Level_1.12.5.0.tar.gz\n",
        "jhu-usc.edu_HNSC.HumanMethylation450.Level_1.12.6.0.tar.gz\n",
        "jhu-usc.edu_HNSC.HumanMethylation450.Level_1.12.7.0.tar.gz\n",
        "jhu-usc.edu_HNSC.HumanMethylation450.Level_1.12.8.0.tar.gz\n",
        "jhu-usc.edu_HNSC.HumanMethylation450.Level_1.13.3.0.tar.gz\n",
        "jhu-usc.edu_HNSC.HumanMethylation450.Level_1.13.4.0.tar.gz\n",
        "jhu-usc.edu_HNSC.HumanMethylation450.Level_1.13.5.0.tar.gz\n",
        "jhu-usc.edu_HNSC.HumanMethylation450.Level_1.13.6.0.tar.gz\n",
        "jhu-usc.edu_HNSC.HumanMethylation450.Level_1.13.7.0.tar.gz\n",
        "jhu-usc.edu_HNSC.HumanMethylation450.Level_1.13.8.0.tar.gz\n"
       ]
      }
     ],
     "prompt_number": 7
    },
    {
     "cell_type": "markdown",
     "metadata": {},
     "source": [
      "* Gets the right links:"
     ]
    },
    {
     "cell_type": "code",
     "collapsed": false,
     "input": [
      "links = [link.get('href') for link in soup.find_all('a') \n",
      "                          if (link.get('href') != None )\n",
      "                           and '_1.' in link.get('href')\n",
      "                           and '.tar.gz' in link.get('href')\n",
      "                           and '.md5' not in link.get('href')]\n",
      "links"
     ],
     "language": "python",
     "metadata": {},
     "outputs": [
      {
       "metadata": {},
       "output_type": "pyout",
       "prompt_number": 8,
       "text": [
        "['jhu-usc.edu_LGG.HumanMethylation450.Level_1.1.0.0.tar.gz',\n",
        " 'jhu-usc.edu_LGG.HumanMethylation450.Level_1.1.1.0.tar.gz',\n",
        " 'jhu-usc.edu_LGG.HumanMethylation450.Level_1.1.10.0.tar.gz',\n",
        " 'jhu-usc.edu_LGG.HumanMethylation450.Level_1.1.11.0.tar.gz',\n",
        " 'jhu-usc.edu_LGG.HumanMethylation450.Level_1.1.12.0.tar.gz',\n",
        " 'jhu-usc.edu_LGG.HumanMethylation450.Level_1.1.2.0.tar.gz',\n",
        " 'jhu-usc.edu_LGG.HumanMethylation450.Level_1.1.3.0.tar.gz',\n",
        " 'jhu-usc.edu_LGG.HumanMethylation450.Level_1.1.4.0.tar.gz',\n",
        " 'jhu-usc.edu_LGG.HumanMethylation450.Level_1.1.5.0.tar.gz',\n",
        " 'jhu-usc.edu_LGG.HumanMethylation450.Level_1.1.6.0.tar.gz',\n",
        " 'jhu-usc.edu_LGG.HumanMethylation450.Level_1.1.7.0.tar.gz',\n",
        " 'jhu-usc.edu_LGG.HumanMethylation450.Level_1.1.8.0.tar.gz',\n",
        " 'jhu-usc.edu_LGG.HumanMethylation450.Level_1.1.9.0.tar.gz',\n",
        " 'jhu-usc.edu_LGG.HumanMethylation450.Level_1.10.10.0.tar.gz',\n",
        " 'jhu-usc.edu_LGG.HumanMethylation450.Level_1.10.11.0.tar.gz',\n",
        " 'jhu-usc.edu_LGG.HumanMethylation450.Level_1.10.12.0.tar.gz',\n",
        " 'jhu-usc.edu_LGG.HumanMethylation450.Level_1.10.7.0.tar.gz',\n",
        " 'jhu-usc.edu_LGG.HumanMethylation450.Level_1.10.8.0.tar.gz',\n",
        " 'jhu-usc.edu_LGG.HumanMethylation450.Level_1.10.9.0.tar.gz',\n",
        " 'jhu-usc.edu_LGG.HumanMethylation450.Level_1.11.10.0.tar.gz',\n",
        " 'jhu-usc.edu_LGG.HumanMethylation450.Level_1.11.11.0.tar.gz',\n",
        " 'jhu-usc.edu_LGG.HumanMethylation450.Level_1.11.12.0.tar.gz',\n",
        " 'jhu-usc.edu_LGG.HumanMethylation450.Level_1.11.8.0.tar.gz',\n",
        " 'jhu-usc.edu_LGG.HumanMethylation450.Level_1.11.9.0.tar.gz',\n",
        " 'jhu-usc.edu_LGG.HumanMethylation450.Level_1.12.10.0.tar.gz',\n",
        " 'jhu-usc.edu_LGG.HumanMethylation450.Level_1.12.11.0.tar.gz',\n",
        " 'jhu-usc.edu_LGG.HumanMethylation450.Level_1.12.12.0.tar.gz',\n",
        " 'jhu-usc.edu_LGG.HumanMethylation450.Level_1.12.9.0.tar.gz',\n",
        " 'jhu-usc.edu_LGG.HumanMethylation450.Level_1.13.10.0.tar.gz',\n",
        " 'jhu-usc.edu_LGG.HumanMethylation450.Level_1.13.11.0.tar.gz',\n",
        " 'jhu-usc.edu_LGG.HumanMethylation450.Level_1.13.12.0.tar.gz',\n",
        " 'jhu-usc.edu_LGG.HumanMethylation450.Level_1.13.9.0.tar.gz',\n",
        " 'jhu-usc.edu_LGG.HumanMethylation450.Level_1.14.10.0.tar.gz',\n",
        " 'jhu-usc.edu_LGG.HumanMethylation450.Level_1.14.11.0.tar.gz',\n",
        " 'jhu-usc.edu_LGG.HumanMethylation450.Level_1.14.12.0.tar.gz',\n",
        " 'jhu-usc.edu_LGG.HumanMethylation450.Level_1.14.9.0.tar.gz',\n",
        " 'jhu-usc.edu_LGG.HumanMethylation450.Level_1.15.10.0.tar.gz',\n",
        " 'jhu-usc.edu_LGG.HumanMethylation450.Level_1.15.11.0.tar.gz',\n",
        " 'jhu-usc.edu_LGG.HumanMethylation450.Level_1.15.12.0.tar.gz',\n",
        " 'jhu-usc.edu_LGG.HumanMethylation450.Level_1.16.10.0.tar.gz',\n",
        " 'jhu-usc.edu_LGG.HumanMethylation450.Level_1.16.11.0.tar.gz',\n",
        " 'jhu-usc.edu_LGG.HumanMethylation450.Level_1.16.12.0.tar.gz',\n",
        " 'jhu-usc.edu_LGG.HumanMethylation450.Level_1.2.1.0.tar.gz',\n",
        " 'jhu-usc.edu_LGG.HumanMethylation450.Level_1.2.10.0.tar.gz',\n",
        " 'jhu-usc.edu_LGG.HumanMethylation450.Level_1.2.11.0.tar.gz',\n",
        " 'jhu-usc.edu_LGG.HumanMethylation450.Level_1.2.12.0.tar.gz',\n",
        " 'jhu-usc.edu_LGG.HumanMethylation450.Level_1.2.2.0.tar.gz',\n",
        " 'jhu-usc.edu_LGG.HumanMethylation450.Level_1.2.3.0.tar.gz',\n",
        " 'jhu-usc.edu_LGG.HumanMethylation450.Level_1.2.4.0.tar.gz',\n",
        " 'jhu-usc.edu_LGG.HumanMethylation450.Level_1.2.5.0.tar.gz',\n",
        " 'jhu-usc.edu_LGG.HumanMethylation450.Level_1.2.6.0.tar.gz',\n",
        " 'jhu-usc.edu_LGG.HumanMethylation450.Level_1.2.7.0.tar.gz',\n",
        " 'jhu-usc.edu_LGG.HumanMethylation450.Level_1.2.8.0.tar.gz',\n",
        " 'jhu-usc.edu_LGG.HumanMethylation450.Level_1.2.9.0.tar.gz',\n",
        " 'jhu-usc.edu_LGG.HumanMethylation450.Level_1.3.1.0.tar.gz',\n",
        " 'jhu-usc.edu_LGG.HumanMethylation450.Level_1.3.10.0.tar.gz',\n",
        " 'jhu-usc.edu_LGG.HumanMethylation450.Level_1.3.11.0.tar.gz',\n",
        " 'jhu-usc.edu_LGG.HumanMethylation450.Level_1.3.12.0.tar.gz',\n",
        " 'jhu-usc.edu_LGG.HumanMethylation450.Level_1.3.2.0.tar.gz',\n",
        " 'jhu-usc.edu_LGG.HumanMethylation450.Level_1.3.3.0.tar.gz',\n",
        " 'jhu-usc.edu_LGG.HumanMethylation450.Level_1.3.4.0.tar.gz',\n",
        " 'jhu-usc.edu_LGG.HumanMethylation450.Level_1.3.5.0.tar.gz',\n",
        " 'jhu-usc.edu_LGG.HumanMethylation450.Level_1.3.6.0.tar.gz',\n",
        " 'jhu-usc.edu_LGG.HumanMethylation450.Level_1.3.7.0.tar.gz',\n",
        " 'jhu-usc.edu_LGG.HumanMethylation450.Level_1.3.8.0.tar.gz',\n",
        " 'jhu-usc.edu_LGG.HumanMethylation450.Level_1.3.9.0.tar.gz',\n",
        " 'jhu-usc.edu_LGG.HumanMethylation450.Level_1.4.1.0.tar.gz',\n",
        " 'jhu-usc.edu_LGG.HumanMethylation450.Level_1.4.10.0.tar.gz',\n",
        " 'jhu-usc.edu_LGG.HumanMethylation450.Level_1.4.11.0.tar.gz',\n",
        " 'jhu-usc.edu_LGG.HumanMethylation450.Level_1.4.12.0.tar.gz',\n",
        " 'jhu-usc.edu_LGG.HumanMethylation450.Level_1.4.2.0.tar.gz',\n",
        " 'jhu-usc.edu_LGG.HumanMethylation450.Level_1.4.3.0.tar.gz',\n",
        " 'jhu-usc.edu_LGG.HumanMethylation450.Level_1.4.4.0.tar.gz',\n",
        " 'jhu-usc.edu_LGG.HumanMethylation450.Level_1.4.5.0.tar.gz',\n",
        " 'jhu-usc.edu_LGG.HumanMethylation450.Level_1.4.6.0.tar.gz',\n",
        " 'jhu-usc.edu_LGG.HumanMethylation450.Level_1.4.7.0.tar.gz',\n",
        " 'jhu-usc.edu_LGG.HumanMethylation450.Level_1.4.8.0.tar.gz',\n",
        " 'jhu-usc.edu_LGG.HumanMethylation450.Level_1.4.9.0.tar.gz',\n",
        " 'jhu-usc.edu_LGG.HumanMethylation450.Level_1.5.1.0.tar.gz',\n",
        " 'jhu-usc.edu_LGG.HumanMethylation450.Level_1.5.10.0.tar.gz',\n",
        " 'jhu-usc.edu_LGG.HumanMethylation450.Level_1.5.11.0.tar.gz',\n",
        " 'jhu-usc.edu_LGG.HumanMethylation450.Level_1.5.12.0.tar.gz',\n",
        " 'jhu-usc.edu_LGG.HumanMethylation450.Level_1.5.2.0.tar.gz',\n",
        " 'jhu-usc.edu_LGG.HumanMethylation450.Level_1.5.3.0.tar.gz',\n",
        " 'jhu-usc.edu_LGG.HumanMethylation450.Level_1.5.4.0.tar.gz',\n",
        " 'jhu-usc.edu_LGG.HumanMethylation450.Level_1.5.5.0.tar.gz',\n",
        " 'jhu-usc.edu_LGG.HumanMethylation450.Level_1.5.6.0.tar.gz',\n",
        " 'jhu-usc.edu_LGG.HumanMethylation450.Level_1.5.7.0.tar.gz',\n",
        " 'jhu-usc.edu_LGG.HumanMethylation450.Level_1.5.8.0.tar.gz',\n",
        " 'jhu-usc.edu_LGG.HumanMethylation450.Level_1.5.9.0.tar.gz',\n",
        " 'jhu-usc.edu_LGG.HumanMethylation450.Level_1.6.10.0.tar.gz',\n",
        " 'jhu-usc.edu_LGG.HumanMethylation450.Level_1.6.11.0.tar.gz',\n",
        " 'jhu-usc.edu_LGG.HumanMethylation450.Level_1.6.12.0.tar.gz',\n",
        " 'jhu-usc.edu_LGG.HumanMethylation450.Level_1.6.2.0.tar.gz',\n",
        " 'jhu-usc.edu_LGG.HumanMethylation450.Level_1.6.3.0.tar.gz',\n",
        " 'jhu-usc.edu_LGG.HumanMethylation450.Level_1.6.4.0.tar.gz',\n",
        " 'jhu-usc.edu_LGG.HumanMethylation450.Level_1.6.5.0.tar.gz',\n",
        " 'jhu-usc.edu_LGG.HumanMethylation450.Level_1.6.6.0.tar.gz',\n",
        " 'jhu-usc.edu_LGG.HumanMethylation450.Level_1.6.7.0.tar.gz',\n",
        " 'jhu-usc.edu_LGG.HumanMethylation450.Level_1.6.8.0.tar.gz',\n",
        " 'jhu-usc.edu_LGG.HumanMethylation450.Level_1.6.9.0.tar.gz',\n",
        " 'jhu-usc.edu_LGG.HumanMethylation450.Level_1.7.10.0.tar.gz',\n",
        " 'jhu-usc.edu_LGG.HumanMethylation450.Level_1.7.11.0.tar.gz',\n",
        " 'jhu-usc.edu_LGG.HumanMethylation450.Level_1.7.12.0.tar.gz',\n",
        " 'jhu-usc.edu_LGG.HumanMethylation450.Level_1.7.4.0.tar.gz',\n",
        " 'jhu-usc.edu_LGG.HumanMethylation450.Level_1.7.5.0.tar.gz',\n",
        " 'jhu-usc.edu_LGG.HumanMethylation450.Level_1.7.6.0.tar.gz',\n",
        " 'jhu-usc.edu_LGG.HumanMethylation450.Level_1.7.7.0.tar.gz',\n",
        " 'jhu-usc.edu_LGG.HumanMethylation450.Level_1.7.8.0.tar.gz',\n",
        " 'jhu-usc.edu_LGG.HumanMethylation450.Level_1.7.9.0.tar.gz',\n",
        " 'jhu-usc.edu_LGG.HumanMethylation450.Level_1.8.10.0.tar.gz']"
       ]
      }
     ],
     "prompt_number": 8
    },
    {
     "cell_type": "markdown",
     "metadata": {},
     "source": [
      "* one way to get files?"
     ]
    },
    {
     "cell_type": "code",
     "collapsed": false,
     "input": [
      "os.system('tar -xvf {}'.format(download_file)\n",
      "#os.system(\"wget {          }\".)\n",
      "#os.system('tar -xvf {}'.format(download_file)       "
     ],
     "language": "python",
     "metadata": {},
     "outputs": [
      {
       "ename": "SyntaxError",
       "evalue": "invalid syntax (<ipython-input-23-883e0f8cd350>, line 3)",
       "output_type": "pyerr",
       "traceback": [
        "\u001b[1;36m  File \u001b[1;32m\"<ipython-input-23-883e0f8cd350>\"\u001b[1;36m, line \u001b[1;32m3\u001b[0m\n\u001b[1;33m    #os.system('tar -xvf {}'.format(download_file)\u001b[0m\n\u001b[1;37m                                                         ^\u001b[0m\n\u001b[1;31mSyntaxError\u001b[0m\u001b[1;31m:\u001b[0m invalid syntax\n"
       ]
      }
     ],
     "prompt_number": 23
    },
    {
     "cell_type": "code",
     "collapsed": false,
     "input": [
      "os.system(\"wget {url + download_file}\")"
     ],
     "language": "python",
     "metadata": {},
     "outputs": [
      {
       "metadata": {},
       "output_type": "pyout",
       "prompt_number": 27,
       "text": [
        "1024"
       ]
      }
     ],
     "prompt_number": 27
    },
    {
     "cell_type": "code",
     "collapsed": false,
     "input": [
      "os.system('tar -xvf {}'.format(download_file))"
     ],
     "language": "python",
     "metadata": {},
     "outputs": [
      {
       "metadata": {},
       "output_type": "pyout",
       "prompt_number": 28,
       "text": [
        "512"
       ]
      }
     ],
     "prompt_number": 28
    },
    {
     "cell_type": "code",
     "collapsed": false,
     "input": [
      "ls"
     ],
     "language": "python",
     "metadata": {},
     "outputs": [
      {
       "output_type": "stream",
       "stream": "stdout",
       "text": [
        "\u001b[0m\u001b[01;34mBLCA_Meth_Data\u001b[0m/  \u001b[01;34mNotebook\u001b[0m/\r\n",
        "\u001b[01;34mBRCA_Meth_Data\u001b[0m/  \u001b[01;34mtcga-data.nci.nih.gov\u001b[0m/\r\n",
        "\u001b[01;34mCESC_Meth_Data\u001b[0m/  TCGA Methylation Data Code Tries.ipynb\r\n",
        "filess           TCGA Methylation Data-Different Real.ipynb\r\n",
        "filess~          TCGA Methylation Data OG.ipynb\r\n",
        "\u001b[01;34mHNSC_Meth_Data\u001b[0m/  TCGA Methylation Data-RealTry-Indivdownload.ipynb\r\n",
        "\u001b[01;34mJustinCase\u001b[0m/      tmp.html\r\n",
        "\u001b[01;34mMethyl\u001b[0m/\r\n"
       ]
      }
     ],
     "prompt_number": 11
    },
    {
     "cell_type": "markdown",
     "metadata": {},
     "source": [
      "<b> Download and Unzip tar.gz files </b>"
     ]
    },
    {
     "cell_type": "code",
     "collapsed": false,
     "input": [
      "for i, download_file in enumerate(links):\n",
      "    print \"Downloading file {}\".format(i + 1)\n",
      "    response = urllib2.urlopen(url + download_file)\n",
      "    compressedFile = StringIO.StringIO()\n",
      "    compressedFile.write(response.read())\n",
      "    compressedFile.seek(0)\n",
      "    decompressedFile = gzip.GzipFile(fileobj=compressedFile, mode='rb')\n",
      "    \n",
      "    with open(download_file.replace(\".gz\", \"\"), 'w') as datapath:\n",
      "        datapath.write(decompressedFile.read())"
     ],
     "language": "python",
     "metadata": {},
     "outputs": [
      {
       "output_type": "stream",
       "stream": "stdout",
       "text": [
        "Downloading file 1\n",
        "Downloading file 2"
       ]
      },
      {
       "output_type": "stream",
       "stream": "stdout",
       "text": [
        "\n",
        "Downloading file 3"
       ]
      },
      {
       "output_type": "stream",
       "stream": "stdout",
       "text": [
        "\n",
        "Downloading file 4"
       ]
      },
      {
       "output_type": "stream",
       "stream": "stdout",
       "text": [
        "\n",
        "Downloading file 5"
       ]
      },
      {
       "output_type": "stream",
       "stream": "stdout",
       "text": [
        "\n",
        "Downloading file 6"
       ]
      },
      {
       "output_type": "stream",
       "stream": "stdout",
       "text": [
        "\n",
        "Downloading file 7"
       ]
      },
      {
       "output_type": "stream",
       "stream": "stdout",
       "text": [
        "\n",
        "Downloading file 8"
       ]
      },
      {
       "output_type": "stream",
       "stream": "stdout",
       "text": [
        "\n",
        "Downloading file 9"
       ]
      },
      {
       "output_type": "stream",
       "stream": "stdout",
       "text": [
        "\n",
        "Downloading file 10"
       ]
      },
      {
       "output_type": "stream",
       "stream": "stdout",
       "text": [
        "\n",
        "Downloading file 11"
       ]
      },
      {
       "output_type": "stream",
       "stream": "stdout",
       "text": [
        "\n",
        "Downloading file 12"
       ]
      },
      {
       "output_type": "stream",
       "stream": "stdout",
       "text": [
        "\n",
        "Downloading file 13"
       ]
      },
      {
       "output_type": "stream",
       "stream": "stdout",
       "text": [
        "\n",
        "Downloading file 14"
       ]
      },
      {
       "output_type": "stream",
       "stream": "stdout",
       "text": [
        "\n",
        "Downloading file 15"
       ]
      },
      {
       "output_type": "stream",
       "stream": "stdout",
       "text": [
        "\n",
        "Downloading file 16"
       ]
      },
      {
       "output_type": "stream",
       "stream": "stdout",
       "text": [
        "\n",
        "Downloading file 17"
       ]
      },
      {
       "output_type": "stream",
       "stream": "stdout",
       "text": [
        "\n",
        "Downloading file 18"
       ]
      },
      {
       "output_type": "stream",
       "stream": "stdout",
       "text": [
        "\n",
        "Downloading file 19"
       ]
      },
      {
       "output_type": "stream",
       "stream": "stdout",
       "text": [
        "\n",
        "Downloading file 20"
       ]
      },
      {
       "output_type": "stream",
       "stream": "stdout",
       "text": [
        "\n",
        "Downloading file 21"
       ]
      },
      {
       "output_type": "stream",
       "stream": "stdout",
       "text": [
        "\n",
        "Downloading file 22"
       ]
      },
      {
       "output_type": "stream",
       "stream": "stdout",
       "text": [
        "\n",
        "Downloading file 23"
       ]
      },
      {
       "output_type": "stream",
       "stream": "stdout",
       "text": [
        "\n",
        "Downloading file 24"
       ]
      },
      {
       "output_type": "stream",
       "stream": "stdout",
       "text": [
        "\n",
        "Downloading file 25"
       ]
      },
      {
       "output_type": "stream",
       "stream": "stdout",
       "text": [
        "\n",
        "Downloading file 26"
       ]
      },
      {
       "output_type": "stream",
       "stream": "stdout",
       "text": [
        "\n",
        "Downloading file 27"
       ]
      },
      {
       "output_type": "stream",
       "stream": "stdout",
       "text": [
        "\n",
        "Downloading file 28"
       ]
      },
      {
       "output_type": "stream",
       "stream": "stdout",
       "text": [
        "\n",
        "Downloading file 29"
       ]
      },
      {
       "output_type": "stream",
       "stream": "stdout",
       "text": [
        "\n",
        "Downloading file 30"
       ]
      },
      {
       "output_type": "stream",
       "stream": "stdout",
       "text": [
        "\n",
        "Downloading file 31"
       ]
      },
      {
       "output_type": "stream",
       "stream": "stdout",
       "text": [
        "\n",
        "Downloading file 32"
       ]
      },
      {
       "output_type": "stream",
       "stream": "stdout",
       "text": [
        "\n",
        "Downloading file 33"
       ]
      },
      {
       "output_type": "stream",
       "stream": "stdout",
       "text": [
        "\n",
        "Downloading file 34"
       ]
      },
      {
       "output_type": "stream",
       "stream": "stdout",
       "text": [
        "\n",
        "Downloading file 35"
       ]
      },
      {
       "output_type": "stream",
       "stream": "stdout",
       "text": [
        "\n",
        "Downloading file 36"
       ]
      },
      {
       "output_type": "stream",
       "stream": "stdout",
       "text": [
        "\n",
        "Downloading file 37"
       ]
      },
      {
       "output_type": "stream",
       "stream": "stdout",
       "text": [
        "\n",
        "Downloading file 38"
       ]
      },
      {
       "output_type": "stream",
       "stream": "stdout",
       "text": [
        "\n",
        "Downloading file 39"
       ]
      },
      {
       "output_type": "stream",
       "stream": "stdout",
       "text": [
        "\n",
        "Downloading file 40"
       ]
      },
      {
       "output_type": "stream",
       "stream": "stdout",
       "text": [
        "\n",
        "Downloading file 41"
       ]
      },
      {
       "output_type": "stream",
       "stream": "stdout",
       "text": [
        "\n",
        "Downloading file 42"
       ]
      },
      {
       "output_type": "stream",
       "stream": "stdout",
       "text": [
        "\n",
        "Downloading file 43"
       ]
      },
      {
       "output_type": "stream",
       "stream": "stdout",
       "text": [
        "\n",
        "Downloading file 44"
       ]
      },
      {
       "output_type": "stream",
       "stream": "stdout",
       "text": [
        "\n",
        "Downloading file 45"
       ]
      },
      {
       "output_type": "stream",
       "stream": "stdout",
       "text": [
        "\n",
        "Downloading file 46"
       ]
      },
      {
       "output_type": "stream",
       "stream": "stdout",
       "text": [
        "\n",
        "Downloading file 47"
       ]
      },
      {
       "output_type": "stream",
       "stream": "stdout",
       "text": [
        "\n",
        "Downloading file 48"
       ]
      },
      {
       "output_type": "stream",
       "stream": "stdout",
       "text": [
        "\n",
        "Downloading file 49"
       ]
      },
      {
       "output_type": "stream",
       "stream": "stdout",
       "text": [
        "\n",
        "Downloading file 50"
       ]
      },
      {
       "output_type": "stream",
       "stream": "stdout",
       "text": [
        "\n",
        "Downloading file 51"
       ]
      },
      {
       "output_type": "stream",
       "stream": "stdout",
       "text": [
        "\n",
        "Downloading file 52"
       ]
      },
      {
       "output_type": "stream",
       "stream": "stdout",
       "text": [
        "\n",
        "Downloading file 53"
       ]
      },
      {
       "output_type": "stream",
       "stream": "stdout",
       "text": [
        "\n",
        "Downloading file 54"
       ]
      },
      {
       "output_type": "stream",
       "stream": "stdout",
       "text": [
        "\n",
        "Downloading file 55"
       ]
      },
      {
       "output_type": "stream",
       "stream": "stdout",
       "text": [
        "\n",
        "Downloading file 56"
       ]
      },
      {
       "output_type": "stream",
       "stream": "stdout",
       "text": [
        "\n",
        "Downloading file 57"
       ]
      },
      {
       "output_type": "stream",
       "stream": "stdout",
       "text": [
        "\n",
        "Downloading file 58"
       ]
      },
      {
       "output_type": "stream",
       "stream": "stdout",
       "text": [
        "\n",
        "Downloading file 59"
       ]
      },
      {
       "output_type": "stream",
       "stream": "stdout",
       "text": [
        "\n",
        "Downloading file 60"
       ]
      },
      {
       "output_type": "stream",
       "stream": "stdout",
       "text": [
        "\n",
        "Downloading file 61"
       ]
      },
      {
       "output_type": "stream",
       "stream": "stdout",
       "text": [
        "\n",
        "Downloading file 62"
       ]
      },
      {
       "output_type": "stream",
       "stream": "stdout",
       "text": [
        "\n",
        "Downloading file 63"
       ]
      },
      {
       "output_type": "stream",
       "stream": "stdout",
       "text": [
        "\n",
        "Downloading file 64"
       ]
      },
      {
       "output_type": "stream",
       "stream": "stdout",
       "text": [
        "\n",
        "Downloading file 65"
       ]
      },
      {
       "output_type": "stream",
       "stream": "stdout",
       "text": [
        "\n",
        "Downloading file 66"
       ]
      },
      {
       "output_type": "stream",
       "stream": "stdout",
       "text": [
        "\n",
        "Downloading file 67"
       ]
      },
      {
       "output_type": "stream",
       "stream": "stdout",
       "text": [
        "\n",
        "Downloading file 68"
       ]
      },
      {
       "output_type": "stream",
       "stream": "stdout",
       "text": [
        "\n",
        "Downloading file 69"
       ]
      },
      {
       "output_type": "stream",
       "stream": "stdout",
       "text": [
        "\n",
        "Downloading file 70"
       ]
      },
      {
       "output_type": "stream",
       "stream": "stdout",
       "text": [
        "\n",
        "Downloading file 71"
       ]
      },
      {
       "output_type": "stream",
       "stream": "stdout",
       "text": [
        "\n",
        "Downloading file 72"
       ]
      },
      {
       "output_type": "stream",
       "stream": "stdout",
       "text": [
        "\n",
        "Downloading file 73"
       ]
      },
      {
       "output_type": "stream",
       "stream": "stdout",
       "text": [
        "\n",
        "Downloading file 74"
       ]
      },
      {
       "output_type": "stream",
       "stream": "stdout",
       "text": [
        "\n",
        "Downloading file 75"
       ]
      },
      {
       "output_type": "stream",
       "stream": "stdout",
       "text": [
        "\n",
        "Downloading file 76"
       ]
      },
      {
       "output_type": "stream",
       "stream": "stdout",
       "text": [
        "\n",
        "Downloading file 77"
       ]
      },
      {
       "output_type": "stream",
       "stream": "stdout",
       "text": [
        "\n",
        "Downloading file 78"
       ]
      },
      {
       "output_type": "stream",
       "stream": "stdout",
       "text": [
        "\n",
        "Downloading file 79"
       ]
      },
      {
       "output_type": "stream",
       "stream": "stdout",
       "text": [
        "\n",
        "Downloading file 80"
       ]
      },
      {
       "output_type": "stream",
       "stream": "stdout",
       "text": [
        "\n",
        "Downloading file 81"
       ]
      },
      {
       "output_type": "stream",
       "stream": "stdout",
       "text": [
        "\n",
        "Downloading file 82"
       ]
      },
      {
       "output_type": "stream",
       "stream": "stdout",
       "text": [
        "\n",
        "Downloading file 83"
       ]
      },
      {
       "output_type": "stream",
       "stream": "stdout",
       "text": [
        "\n",
        "Downloading file 84"
       ]
      },
      {
       "output_type": "stream",
       "stream": "stdout",
       "text": [
        "\n",
        "Downloading file 85"
       ]
      },
      {
       "output_type": "stream",
       "stream": "stdout",
       "text": [
        "\n",
        "Downloading file 86"
       ]
      },
      {
       "output_type": "stream",
       "stream": "stdout",
       "text": [
        "\n",
        "Downloading file 87"
       ]
      },
      {
       "output_type": "stream",
       "stream": "stdout",
       "text": [
        "\n",
        "Downloading file 88"
       ]
      },
      {
       "output_type": "stream",
       "stream": "stdout",
       "text": [
        "\n",
        "Downloading file 89"
       ]
      },
      {
       "output_type": "stream",
       "stream": "stdout",
       "text": [
        "\n",
        "Downloading file 90"
       ]
      },
      {
       "output_type": "stream",
       "stream": "stdout",
       "text": [
        "\n",
        "Downloading file 91"
       ]
      },
      {
       "output_type": "stream",
       "stream": "stdout",
       "text": [
        "\n",
        "Downloading file 92"
       ]
      },
      {
       "output_type": "stream",
       "stream": "stdout",
       "text": [
        "\n",
        "Downloading file 93"
       ]
      },
      {
       "output_type": "stream",
       "stream": "stdout",
       "text": [
        "\n",
        "Downloading file 94"
       ]
      },
      {
       "output_type": "stream",
       "stream": "stdout",
       "text": [
        "\n",
        "Downloading file 95"
       ]
      },
      {
       "output_type": "stream",
       "stream": "stdout",
       "text": [
        "\n",
        "Downloading file 96"
       ]
      },
      {
       "output_type": "stream",
       "stream": "stdout",
       "text": [
        "\n",
        "Downloading file 97"
       ]
      },
      {
       "output_type": "stream",
       "stream": "stdout",
       "text": [
        "\n",
        "Downloading file 98"
       ]
      },
      {
       "output_type": "stream",
       "stream": "stdout",
       "text": [
        "\n",
        "Downloading file 99"
       ]
      },
      {
       "output_type": "stream",
       "stream": "stdout",
       "text": [
        "\n",
        "Downloading file 100"
       ]
      },
      {
       "output_type": "stream",
       "stream": "stdout",
       "text": [
        "\n",
        "Downloading file 101"
       ]
      },
      {
       "output_type": "stream",
       "stream": "stdout",
       "text": [
        "\n",
        "Downloading file 102"
       ]
      },
      {
       "output_type": "stream",
       "stream": "stdout",
       "text": [
        "\n",
        "Downloading file 103"
       ]
      },
      {
       "output_type": "stream",
       "stream": "stdout",
       "text": [
        "\n",
        "Downloading file 104"
       ]
      },
      {
       "output_type": "stream",
       "stream": "stdout",
       "text": [
        "\n",
        "Downloading file 105"
       ]
      },
      {
       "output_type": "stream",
       "stream": "stdout",
       "text": [
        "\n",
        "Downloading file 106"
       ]
      },
      {
       "output_type": "stream",
       "stream": "stdout",
       "text": [
        "\n",
        "Downloading file 107"
       ]
      },
      {
       "output_type": "stream",
       "stream": "stdout",
       "text": [
        "\n",
        "Downloading file 108"
       ]
      },
      {
       "output_type": "stream",
       "stream": "stdout",
       "text": [
        "\n",
        "Downloading file 109"
       ]
      },
      {
       "output_type": "stream",
       "stream": "stdout",
       "text": [
        "\n",
        "Downloading file 110"
       ]
      },
      {
       "output_type": "stream",
       "stream": "stdout",
       "text": [
        "\n",
        "Downloading file 111"
       ]
      },
      {
       "output_type": "stream",
       "stream": "stdout",
       "text": [
        "\n"
       ]
      }
     ],
     "prompt_number": 9
    },
    {
     "cell_type": "markdown",
     "metadata": {},
     "source": [
      "<b>Extract Tar Archive Using Command Line Function</b>"
     ]
    },
    {
     "cell_type": "code",
     "collapsed": false,
     "input": [
      "ls"
     ],
     "language": "python",
     "metadata": {},
     "outputs": [
      {
       "output_type": "stream",
       "stream": "stdout",
       "text": [
        "Example.ipynb\r\n",
        "fdsfdsd.tar\r\n",
        "Imports.ipynb\r\n",
        "Index.ipynb\r\n",
        "\u001b[0m\u001b[01;34mjhu-usc.edu_HNSC.HumanMethylation450.Level_1.1.0.0\u001b[0m/\r\n",
        "jhu-usc.edu_HNSC.HumanMethylation450.Level_1.1.0.0.tar\r\n",
        "jhu-usc.edu_HNSC.HumanMethylation450.Level_1.10.3.0.tar\r\n",
        "jhu-usc.edu_HNSC.HumanMethylation450.Level_1.10.4.0.tar\r\n",
        "jhu-usc.edu_HNSC.HumanMethylation450.Level_1.10.5.0.tar\r\n",
        "jhu-usc.edu_HNSC.HumanMethylation450.Level_1.10.6.0.tar\r\n",
        "jhu-usc.edu_HNSC.HumanMethylation450.Level_1.10.7.0.tar\r\n",
        "jhu-usc.edu_HNSC.HumanMethylation450.Level_1.10.8.0.tar\r\n",
        "jhu-usc.edu_HNSC.HumanMethylation450.Level_1.1.1.0.tar\r\n",
        "jhu-usc.edu_HNSC.HumanMethylation450.Level_1.11.3.0.tar\r\n",
        "jhu-usc.edu_HNSC.HumanMethylation450.Level_1.11.4.0.tar\r\n",
        "jhu-usc.edu_HNSC.HumanMethylation450.Level_1.11.5.0.tar\r\n",
        "jhu-usc.edu_HNSC.HumanMethylation450.Level_1.11.6.0.tar\r\n",
        "jhu-usc.edu_HNSC.HumanMethylation450.Level_1.11.7.0.tar\r\n",
        "jhu-usc.edu_HNSC.HumanMethylation450.Level_1.11.8.0.tar\r\n",
        "jhu-usc.edu_HNSC.HumanMethylation450.Level_1.1.2.0.tar\r\n",
        "jhu-usc.edu_HNSC.HumanMethylation450.Level_1.12.3.0.tar\r\n",
        "jhu-usc.edu_HNSC.HumanMethylation450.Level_1.12.4.0.tar\r\n",
        "jhu-usc.edu_HNSC.HumanMethylation450.Level_1.12.5.0.tar\r\n",
        "jhu-usc.edu_HNSC.HumanMethylation450.Level_1.12.6.0.tar\r\n",
        "jhu-usc.edu_HNSC.HumanMethylation450.Level_1.12.7.0.tar\r\n",
        "jhu-usc.edu_HNSC.HumanMethylation450.Level_1.12.8.0.tar\r\n",
        "jhu-usc.edu_HNSC.HumanMethylation450.Level_1.1.3.0.tar\r\n",
        "jhu-usc.edu_HNSC.HumanMethylation450.Level_1.13.3.0.tar\r\n",
        "jhu-usc.edu_HNSC.HumanMethylation450.Level_1.13.4.0.tar\r\n",
        "jhu-usc.edu_HNSC.HumanMethylation450.Level_1.13.5.0.tar\r\n",
        "jhu-usc.edu_HNSC.HumanMethylation450.Level_1.13.6.0.tar\r\n",
        "jhu-usc.edu_HNSC.HumanMethylation450.Level_1.13.7.0.tar\r\n",
        "jhu-usc.edu_HNSC.HumanMethylation450.Level_1.13.8.0.tar\r\n",
        "jhu-usc.edu_HNSC.HumanMethylation450.Level_1.1.4.0.tar\r\n",
        "jhu-usc.edu_HNSC.HumanMethylation450.Level_1.14.4.0.tar\r\n",
        "jhu-usc.edu_HNSC.HumanMethylation450.Level_1.14.5.0.tar\r\n",
        "jhu-usc.edu_HNSC.HumanMethylation450.Level_1.14.6.0.tar\r\n",
        "jhu-usc.edu_HNSC.HumanMethylation450.Level_1.14.7.0.tar\r\n",
        "jhu-usc.edu_HNSC.HumanMethylation450.Level_1.14.8.0.tar\r\n",
        "jhu-usc.edu_HNSC.HumanMethylation450.Level_1.1.5.0.tar\r\n",
        "jhu-usc.edu_HNSC.HumanMethylation450.Level_1.15.4.0.tar\r\n",
        "jhu-usc.edu_HNSC.HumanMethylation450.Level_1.15.5.0.tar\r\n",
        "jhu-usc.edu_HNSC.HumanMethylation450.Level_1.15.6.0.tar\r\n",
        "jhu-usc.edu_HNSC.HumanMethylation450.Level_1.15.7.0.tar\r\n",
        "jhu-usc.edu_HNSC.HumanMethylation450.Level_1.15.8.0.tar\r\n",
        "jhu-usc.edu_HNSC.HumanMethylation450.Level_1.1.6.0.tar\r\n",
        "jhu-usc.edu_HNSC.HumanMethylation450.Level_1.16.5.0.tar\r\n",
        "jhu-usc.edu_HNSC.HumanMethylation450.Level_1.16.6.0.tar\r\n",
        "jhu-usc.edu_HNSC.HumanMethylation450.Level_1.16.7.0.tar\r\n",
        "jhu-usc.edu_HNSC.HumanMethylation450.Level_1.16.8.0.tar\r\n",
        "jhu-usc.edu_HNSC.HumanMethylation450.Level_1.1.7.0.tar\r\n",
        "jhu-usc.edu_HNSC.HumanMethylation450.Level_1.17.6.0.tar\r\n",
        "jhu-usc.edu_HNSC.HumanMethylation450.Level_1.17.7.0.tar\r\n",
        "jhu-usc.edu_HNSC.HumanMethylation450.Level_1.17.8.0.tar\r\n",
        "jhu-usc.edu_HNSC.HumanMethylation450.Level_1.1.8.0.tar\r\n",
        "jhu-usc.edu_HNSC.HumanMethylation450.Level_1.18.7.0.tar\r\n",
        "jhu-usc.edu_HNSC.HumanMethylation450.Level_1.18.8.0.tar\r\n",
        "jhu-usc.edu_HNSC.HumanMethylation450.Level_1.2.0.0.tar\r\n",
        "jhu-usc.edu_HNSC.HumanMethylation450.Level_1.2.1.0.tar\r\n",
        "jhu-usc.edu_HNSC.HumanMethylation450.Level_1.2.2.0.tar\r\n",
        "jhu-usc.edu_HNSC.HumanMethylation450.Level_1.2.3.0.tar\r\n",
        "jhu-usc.edu_HNSC.HumanMethylation450.Level_1.2.4.0.tar\r\n",
        "jhu-usc.edu_HNSC.HumanMethylation450.Level_1.2.5.0.tar\r\n",
        "jhu-usc.edu_HNSC.HumanMethylation450.Level_1.2.6.0.tar\r\n",
        "jhu-usc.edu_HNSC.HumanMethylation450.Level_1.2.7.0.tar\r\n",
        "jhu-usc.edu_HNSC.HumanMethylation450.Level_1.2.8.0.tar\r\n",
        "jhu-usc.edu_HNSC.HumanMethylation450.Level_1.3.0.0.tar\r\n",
        "jhu-usc.edu_HNSC.HumanMethylation450.Level_1.3.1.0.tar\r\n",
        "jhu-usc.edu_HNSC.HumanMethylation450.Level_1.3.2.0.tar\r\n",
        "jhu-usc.edu_HNSC.HumanMethylation450.Level_1.3.3.0.tar\r\n",
        "jhu-usc.edu_HNSC.HumanMethylation450.Level_1.3.4.0.tar\r\n",
        "jhu-usc.edu_HNSC.HumanMethylation450.Level_1.3.5.0.tar\r\n",
        "jhu-usc.edu_HNSC.HumanMethylation450.Level_1.3.6.0.tar\r\n",
        "jhu-usc.edu_HNSC.HumanMethylation450.Level_1.3.7.0.tar\r\n",
        "jhu-usc.edu_HNSC.HumanMethylation450.Level_1.3.8.0.tar\r\n",
        "jhu-usc.edu_HNSC.HumanMethylation450.Level_1.4.0.0.tar\r\n",
        "jhu-usc.edu_HNSC.HumanMethylation450.Level_1.4.1.0.tar\r\n",
        "jhu-usc.edu_HNSC.HumanMethylation450.Level_1.4.2.0.tar\r\n",
        "jhu-usc.edu_HNSC.HumanMethylation450.Level_1.4.3.0.tar\r\n",
        "jhu-usc.edu_HNSC.HumanMethylation450.Level_1.4.4.0.tar\r\n",
        "jhu-usc.edu_HNSC.HumanMethylation450.Level_1.4.5.0.tar\r\n",
        "jhu-usc.edu_HNSC.HumanMethylation450.Level_1.4.6.0.tar\r\n",
        "jhu-usc.edu_HNSC.HumanMethylation450.Level_1.4.7.0.tar\r\n",
        "jhu-usc.edu_HNSC.HumanMethylation450.Level_1.4.8.0.tar\r\n",
        "jhu-usc.edu_HNSC.HumanMethylation450.Level_1.5.0.0.tar\r\n",
        "jhu-usc.edu_HNSC.HumanMethylation450.Level_1.5.1.0.tar\r\n",
        "jhu-usc.edu_HNSC.HumanMethylation450.Level_1.5.2.0.tar\r\n",
        "jhu-usc.edu_HNSC.HumanMethylation450.Level_1.5.3.0.tar\r\n",
        "jhu-usc.edu_HNSC.HumanMethylation450.Level_1.5.4.0.tar\r\n",
        "jhu-usc.edu_HNSC.HumanMethylation450.Level_1.5.5.0.tar\r\n",
        "jhu-usc.edu_HNSC.HumanMethylation450.Level_1.5.6.0.tar\r\n",
        "jhu-usc.edu_HNSC.HumanMethylation450.Level_1.5.7.0.tar\r\n",
        "jhu-usc.edu_HNSC.HumanMethylation450.Level_1.5.8.0.tar\r\n",
        "jhu-usc.edu_HNSC.HumanMethylation450.Level_1.6.0.0.tar\r\n",
        "jhu-usc.edu_HNSC.HumanMethylation450.Level_1.6.1.0.tar\r\n",
        "jhu-usc.edu_HNSC.HumanMethylation450.Level_1.6.2.0.tar\r\n",
        "jhu-usc.edu_HNSC.HumanMethylation450.Level_1.6.3.0.tar\r\n",
        "\u001b[01;34mJustinCase\u001b[0m/\r\n",
        "\u001b[01;34mMethyl\u001b[0m/\r\n",
        "\u001b[01;34mNotebook\u001b[0m/\r\n",
        "\u001b[01;34mtcga-data.nci.nih.gov\u001b[0m/\r\n",
        "TCGA Methylation Data-1?.ipynb\r\n",
        "TCGA Methylation Data 2.ipynb\r\n",
        "TCGA Methylation Data-Copy0.ipynb\r\n",
        "TCGA Methylation Data-First File Zipped.ipynb\r\n",
        "TCGA Methylation Data.ipynb\r\n",
        "TCGA Methylation Data-New TRy-Copy0.ipynb\r\n",
        "TCGA Methylation Data-New TRy.ipynb\r\n",
        "TCGA Methylation Data-RealTry-Copy0-Copy0.ipynb\r\n",
        "TCGA Methylation Data-RealTry-Copy0.ipynb\r\n",
        "TCGA Methylation Data-RealTry.ipynb\r\n",
        "TCGA Methylation Data-Works?.ipynb\r\n",
        "TCGA Methylation Data-Works Prob?.ipynb\r\n",
        "tmp.html\r\n",
        "Untitled0.ipynb\r\n",
        "Untitled1.ipynb\r\n",
        "Untitled2.ipynb\r\n"
       ]
      }
     ],
     "prompt_number": 1
    },
    {
     "cell_type": "code",
     "collapsed": false,
     "input": [
      "!tar -xvf jhu-usc.edu_HNSC.HumanMethylation450.Level_1.1.2.0.tar"
     ],
     "language": "python",
     "metadata": {},
     "outputs": [
      {
       "output_type": "stream",
       "stream": "stdout",
       "text": [
        "jhu-usc.edu_HNSC.HumanMethylation450.Level_1.1.2.0/6285650014_R01C01_Grn.idat\r\n"
       ]
      },
      {
       "output_type": "stream",
       "stream": "stdout",
       "text": [
        "jhu-usc.edu_HNSC.HumanMethylation450.Level_1.1.2.0/6285650014_R01C01_Red.idat\r\n"
       ]
      },
      {
       "output_type": "stream",
       "stream": "stdout",
       "text": [
        "jhu-usc.edu_HNSC.HumanMethylation450.Level_1.1.2.0/6285650014_R01C02_Grn.idat\r\n"
       ]
      },
      {
       "output_type": "stream",
       "stream": "stdout",
       "text": [
        "jhu-usc.edu_HNSC.HumanMethylation450.Level_1.1.2.0/6285650014_R01C02_Red.idat\r\n"
       ]
      },
      {
       "output_type": "stream",
       "stream": "stdout",
       "text": [
        "jhu-usc.edu_HNSC.HumanMethylation450.Level_1.1.2.0/6285650014_R02C01_Grn.idat\r\n"
       ]
      },
      {
       "output_type": "stream",
       "stream": "stdout",
       "text": [
        "jhu-usc.edu_HNSC.HumanMethylation450.Level_1.1.2.0/6285650014_R02C01_Red.idat\r\n"
       ]
      },
      {
       "output_type": "stream",
       "stream": "stdout",
       "text": [
        "jhu-usc.edu_HNSC.HumanMethylation450.Level_1.1.2.0/6285650014_R02C02_Grn.idat\r\n"
       ]
      },
      {
       "output_type": "stream",
       "stream": "stdout",
       "text": [
        "jhu-usc.edu_HNSC.HumanMethylation450.Level_1.1.2.0/6285650014_R02C02_Red.idat\r\n"
       ]
      },
      {
       "output_type": "stream",
       "stream": "stdout",
       "text": [
        "jhu-usc.edu_HNSC.HumanMethylation450.Level_1.1.2.0/6285650014_R03C01_Grn.idat\r\n"
       ]
      },
      {
       "output_type": "stream",
       "stream": "stdout",
       "text": [
        "jhu-usc.edu_HNSC.HumanMethylation450.Level_1.1.2.0/6285650014_R03C01_Red.idat\r\n"
       ]
      },
      {
       "output_type": "stream",
       "stream": "stdout",
       "text": [
        "jhu-usc.edu_HNSC.HumanMethylation450.Level_1.1.2.0/6285650014_R03C02_Grn.idat\r\n"
       ]
      },
      {
       "output_type": "stream",
       "stream": "stdout",
       "text": [
        "jhu-usc.edu_HNSC.HumanMethylation450.Level_1.1.2.0/6285650014_R03C02_Red.idat\r\n"
       ]
      },
      {
       "output_type": "stream",
       "stream": "stdout",
       "text": [
        "jhu-usc.edu_HNSC.HumanMethylation450.Level_1.1.2.0/6285650014_R04C01_Grn.idat\r\n"
       ]
      },
      {
       "output_type": "stream",
       "stream": "stdout",
       "text": [
        "jhu-usc.edu_HNSC.HumanMethylation450.Level_1.1.2.0/6285650014_R04C01_Red.idat\r\n"
       ]
      },
      {
       "output_type": "stream",
       "stream": "stdout",
       "text": [
        "jhu-usc.edu_HNSC.HumanMethylation450.Level_1.1.2.0/6285650014_R04C02_Grn.idat\r\n"
       ]
      },
      {
       "output_type": "stream",
       "stream": "stdout",
       "text": [
        "jhu-usc.edu_HNSC.HumanMethylation450.Level_1.1.2.0/6285650014_R04C02_Red.idat\r\n"
       ]
      },
      {
       "output_type": "stream",
       "stream": "stdout",
       "text": [
        "jhu-usc.edu_HNSC.HumanMethylation450.Level_1.1.2.0/6285650014_R05C01_Grn.idat\r\n"
       ]
      },
      {
       "output_type": "stream",
       "stream": "stdout",
       "text": [
        "jhu-usc.edu_HNSC.HumanMethylation450.Level_1.1.2.0/6285650014_R05C01_Red.idat\r\n"
       ]
      },
      {
       "output_type": "stream",
       "stream": "stdout",
       "text": [
        "jhu-usc.edu_HNSC.HumanMethylation450.Level_1.1.2.0/6285650014_R05C02_Grn.idat\r\n"
       ]
      },
      {
       "output_type": "stream",
       "stream": "stdout",
       "text": [
        "jhu-usc.edu_HNSC.HumanMethylation450.Level_1.1.2.0/6285650014_R05C02_Red.idat\r\n"
       ]
      },
      {
       "output_type": "stream",
       "stream": "stdout",
       "text": [
        "jhu-usc.edu_HNSC.HumanMethylation450.Level_1.1.2.0/6285650014_R06C01_Grn.idat\r\n"
       ]
      },
      {
       "output_type": "stream",
       "stream": "stdout",
       "text": [
        "jhu-usc.edu_HNSC.HumanMethylation450.Level_1.1.2.0/6285650014_R06C01_Red.idat\r\n"
       ]
      },
      {
       "output_type": "stream",
       "stream": "stdout",
       "text": [
        "jhu-usc.edu_HNSC.HumanMethylation450.Level_1.1.2.0/6285650014_R06C02_Grn.idat\r\n"
       ]
      },
      {
       "output_type": "stream",
       "stream": "stdout",
       "text": [
        "jhu-usc.edu_HNSC.HumanMethylation450.Level_1.1.2.0/6285650014_R06C02_Red.idat\r\n"
       ]
      },
      {
       "output_type": "stream",
       "stream": "stdout",
       "text": [
        "jhu-usc.edu_HNSC.HumanMethylation450.Level_1.1.2.0/6285650015_R01C01_Grn.idat\r\n"
       ]
      },
      {
       "output_type": "stream",
       "stream": "stdout",
       "text": [
        "jhu-usc.edu_HNSC.HumanMethylation450.Level_1.1.2.0/6285650015_R01C01_Red.idat\r\n"
       ]
      },
      {
       "output_type": "stream",
       "stream": "stdout",
       "text": [
        "jhu-usc.edu_HNSC.HumanMethylation450.Level_1.1.2.0/6285650015_R01C02_Grn.idat\r\n"
       ]
      },
      {
       "output_type": "stream",
       "stream": "stdout",
       "text": [
        "jhu-usc.edu_HNSC.HumanMethylation450.Level_1.1.2.0/6285650015_R01C02_Red.idat\r\n"
       ]
      },
      {
       "output_type": "stream",
       "stream": "stdout",
       "text": [
        "jhu-usc.edu_HNSC.HumanMethylation450.Level_1.1.2.0/6285650015_R02C01_Grn.idat\r\n"
       ]
      },
      {
       "output_type": "stream",
       "stream": "stdout",
       "text": [
        "jhu-usc.edu_HNSC.HumanMethylation450.Level_1.1.2.0/6285650015_R02C01_Red.idat\r\n"
       ]
      },
      {
       "output_type": "stream",
       "stream": "stdout",
       "text": [
        "jhu-usc.edu_HNSC.HumanMethylation450.Level_1.1.2.0/6285650015_R02C02_Grn.idat\r\n"
       ]
      },
      {
       "output_type": "stream",
       "stream": "stdout",
       "text": [
        "jhu-usc.edu_HNSC.HumanMethylation450.Level_1.1.2.0/6285650015_R02C02_Red.idat\r\n"
       ]
      },
      {
       "output_type": "stream",
       "stream": "stdout",
       "text": [
        "jhu-usc.edu_HNSC.HumanMethylation450.Level_1.1.2.0/6285650015_R03C01_Grn.idat\r\n"
       ]
      },
      {
       "output_type": "stream",
       "stream": "stdout",
       "text": [
        "jhu-usc.edu_HNSC.HumanMethylation450.Level_1.1.2.0/6285650015_R03C01_Red.idat\r\n"
       ]
      },
      {
       "output_type": "stream",
       "stream": "stdout",
       "text": [
        "jhu-usc.edu_HNSC.HumanMethylation450.Level_1.1.2.0/6285650015_R03C02_Grn.idat\r\n"
       ]
      },
      {
       "output_type": "stream",
       "stream": "stdout",
       "text": [
        "jhu-usc.edu_HNSC.HumanMethylation450.Level_1.1.2.0/6285650015_R03C02_Red.idat\r\n"
       ]
      },
      {
       "output_type": "stream",
       "stream": "stdout",
       "text": [
        "jhu-usc.edu_HNSC.HumanMethylation450.Level_1.1.2.0/6285650015_R04C01_Grn.idat\r\n"
       ]
      },
      {
       "output_type": "stream",
       "stream": "stdout",
       "text": [
        "jhu-usc.edu_HNSC.HumanMethylation450.Level_1.1.2.0/6285650015_R04C01_Red.idat\r\n"
       ]
      },
      {
       "output_type": "stream",
       "stream": "stdout",
       "text": [
        "jhu-usc.edu_HNSC.HumanMethylation450.Level_1.1.2.0/6285650015_R04C02_Grn.idat\r\n"
       ]
      },
      {
       "output_type": "stream",
       "stream": "stdout",
       "text": [
        "jhu-usc.edu_HNSC.HumanMethylation450.Level_1.1.2.0/6285650015_R04C02_Red.idat\r\n"
       ]
      },
      {
       "output_type": "stream",
       "stream": "stdout",
       "text": [
        "jhu-usc.edu_HNSC.HumanMethylation450.Level_1.1.2.0/6285650015_R05C01_Grn.idat\r\n"
       ]
      },
      {
       "output_type": "stream",
       "stream": "stdout",
       "text": [
        "jhu-usc.edu_HNSC.HumanMethylation450.Level_1.1.2.0/6285650015_R05C01_Red.idat\r\n"
       ]
      },
      {
       "output_type": "stream",
       "stream": "stdout",
       "text": [
        "jhu-usc.edu_HNSC.HumanMethylation450.Level_1.1.2.0/6285650015_R05C02_Grn.idat\r\n"
       ]
      },
      {
       "output_type": "stream",
       "stream": "stdout",
       "text": [
        "jhu-usc.edu_HNSC.HumanMethylation450.Level_1.1.2.0/6285650015_R05C02_Red.idat\r\n"
       ]
      },
      {
       "output_type": "stream",
       "stream": "stdout",
       "text": [
        "jhu-usc.edu_HNSC.HumanMethylation450.Level_1.1.2.0/6285650015_R06C01_Grn.idat\r\n"
       ]
      },
      {
       "output_type": "stream",
       "stream": "stdout",
       "text": [
        "jhu-usc.edu_HNSC.HumanMethylation450.Level_1.1.2.0/6285650015_R06C01_Red.idat\r\n"
       ]
      },
      {
       "output_type": "stream",
       "stream": "stdout",
       "text": [
        "jhu-usc.edu_HNSC.HumanMethylation450.Level_1.1.2.0/6285650015_R06C02_Grn.idat\r\n"
       ]
      },
      {
       "output_type": "stream",
       "stream": "stdout",
       "text": [
        "jhu-usc.edu_HNSC.HumanMethylation450.Level_1.1.2.0/6285650015_R06C02_Red.idat\r\n"
       ]
      },
      {
       "output_type": "stream",
       "stream": "stdout",
       "text": [
        "jhu-usc.edu_HNSC.HumanMethylation450.Level_1.1.2.0/6285650016_R01C01_Grn.idat\r\n"
       ]
      },
      {
       "output_type": "stream",
       "stream": "stdout",
       "text": [
        "jhu-usc.edu_HNSC.HumanMethylation450.Level_1.1.2.0/6285650016_R01C01_Red.idat\r\n"
       ]
      },
      {
       "output_type": "stream",
       "stream": "stdout",
       "text": [
        "jhu-usc.edu_HNSC.HumanMethylation450.Level_1.1.2.0/6285650016_R02C01_Grn.idat\r\n"
       ]
      },
      {
       "output_type": "stream",
       "stream": "stdout",
       "text": [
        "jhu-usc.edu_HNSC.HumanMethylation450.Level_1.1.2.0/6285650016_R02C01_Red.idat\r\n"
       ]
      },
      {
       "output_type": "stream",
       "stream": "stdout",
       "text": [
        "jhu-usc.edu_HNSC.HumanMethylation450.Level_1.1.2.0/6285650016_R02C02_Grn.idat\r\n"
       ]
      },
      {
       "output_type": "stream",
       "stream": "stdout",
       "text": [
        "jhu-usc.edu_HNSC.HumanMethylation450.Level_1.1.2.0/6285650016_R02C02_Red.idat\r\n"
       ]
      },
      {
       "output_type": "stream",
       "stream": "stdout",
       "text": [
        "jhu-usc.edu_HNSC.HumanMethylation450.Level_1.1.2.0/6285650016_R03C01_Grn.idat\r\n"
       ]
      },
      {
       "output_type": "stream",
       "stream": "stdout",
       "text": [
        "jhu-usc.edu_HNSC.HumanMethylation450.Level_1.1.2.0/6285650016_R03C01_Red.idat\r\n"
       ]
      },
      {
       "output_type": "stream",
       "stream": "stdout",
       "text": [
        "jhu-usc.edu_HNSC.HumanMethylation450.Level_1.1.2.0/6285650016_R03C02_Grn.idat\r\n"
       ]
      },
      {
       "output_type": "stream",
       "stream": "stdout",
       "text": [
        "jhu-usc.edu_HNSC.HumanMethylation450.Level_1.1.2.0/6285650016_R03C02_Red.idat\r\n"
       ]
      },
      {
       "output_type": "stream",
       "stream": "stdout",
       "text": [
        "jhu-usc.edu_HNSC.HumanMethylation450.Level_1.1.2.0/6285650016_R04C01_Grn.idat\r\n"
       ]
      },
      {
       "output_type": "stream",
       "stream": "stdout",
       "text": [
        "jhu-usc.edu_HNSC.HumanMethylation450.Level_1.1.2.0/6285650016_R04C01_Red.idat\r\n"
       ]
      },
      {
       "output_type": "stream",
       "stream": "stdout",
       "text": [
        "jhu-usc.edu_HNSC.HumanMethylation450.Level_1.1.2.0/6285650016_R04C02_Grn.idat\r\n"
       ]
      },
      {
       "output_type": "stream",
       "stream": "stdout",
       "text": [
        "jhu-usc.edu_HNSC.HumanMethylation450.Level_1.1.2.0/6285650016_R04C02_Red.idat\r\n"
       ]
      },
      {
       "output_type": "stream",
       "stream": "stdout",
       "text": [
        "jhu-usc.edu_HNSC.HumanMethylation450.Level_1.1.2.0/6285650016_R05C02_Grn.idat\r\n"
       ]
      },
      {
       "output_type": "stream",
       "stream": "stdout",
       "text": [
        "jhu-usc.edu_HNSC.HumanMethylation450.Level_1.1.2.0/6285650016_R05C02_Red.idat\r\n"
       ]
      },
      {
       "output_type": "stream",
       "stream": "stdout",
       "text": [
        "jhu-usc.edu_HNSC.HumanMethylation450.Level_1.1.2.0/6285650016_R06C01_Grn.idat\r\n"
       ]
      },
      {
       "output_type": "stream",
       "stream": "stdout",
       "text": [
        "jhu-usc.edu_HNSC.HumanMethylation450.Level_1.1.2.0/6285650016_R06C01_Red.idat\r\n"
       ]
      },
      {
       "output_type": "stream",
       "stream": "stdout",
       "text": [
        "jhu-usc.edu_HNSC.HumanMethylation450.Level_1.1.2.0/6285650016_R06C02_Grn.idat\r\n"
       ]
      },
      {
       "output_type": "stream",
       "stream": "stdout",
       "text": [
        "jhu-usc.edu_HNSC.HumanMethylation450.Level_1.1.2.0/6285650016_R06C02_Red.idat\r\n"
       ]
      },
      {
       "output_type": "stream",
       "stream": "stdout",
       "text": [
        "jhu-usc.edu_HNSC.HumanMethylation450.Level_1.1.2.0/6285650023_R01C01_Grn.idat\r\n"
       ]
      },
      {
       "output_type": "stream",
       "stream": "stdout",
       "text": [
        "jhu-usc.edu_HNSC.HumanMethylation450.Level_1.1.2.0/6285650023_R01C01_Red.idat\r\n"
       ]
      },
      {
       "output_type": "stream",
       "stream": "stdout",
       "text": [
        "jhu-usc.edu_HNSC.HumanMethylation450.Level_1.1.2.0/6285650023_R02C01_Grn.idat\r\n"
       ]
      },
      {
       "output_type": "stream",
       "stream": "stdout",
       "text": [
        "jhu-usc.edu_HNSC.HumanMethylation450.Level_1.1.2.0/6285650023_R02C01_Red.idat\r\n"
       ]
      },
      {
       "output_type": "stream",
       "stream": "stdout",
       "text": [
        "jhu-usc.edu_HNSC.HumanMethylation450.Level_1.1.2.0/6285650023_R03C01_Grn.idat\r\n"
       ]
      },
      {
       "output_type": "stream",
       "stream": "stdout",
       "text": [
        "jhu-usc.edu_HNSC.HumanMethylation450.Level_1.1.2.0/6285650023_R03C01_Red.idat\r\n"
       ]
      },
      {
       "output_type": "stream",
       "stream": "stdout",
       "text": [
        "jhu-usc.edu_HNSC.HumanMethylation450.Level_1.1.2.0/6285650023_R04C01_Grn.idat\r\n"
       ]
      },
      {
       "output_type": "stream",
       "stream": "stdout",
       "text": [
        "jhu-usc.edu_HNSC.HumanMethylation450.Level_1.1.2.0/6285650023_R04C01_Red.idat\r\n"
       ]
      },
      {
       "output_type": "stream",
       "stream": "stdout",
       "text": [
        "jhu-usc.edu_HNSC.HumanMethylation450.Level_1.1.2.0/6929671086_R01C01_Grn.idat\r\n"
       ]
      },
      {
       "output_type": "stream",
       "stream": "stdout",
       "text": [
        "jhu-usc.edu_HNSC.HumanMethylation450.Level_1.1.2.0/6929671086_R01C01_Red.idat\r\n"
       ]
      },
      {
       "output_type": "stream",
       "stream": "stdout",
       "text": [
        "jhu-usc.edu_HNSC.HumanMethylation450.Level_1.1.2.0/6929671086_R02C01_Grn.idat\r\n"
       ]
      },
      {
       "output_type": "stream",
       "stream": "stdout",
       "text": [
        "jhu-usc.edu_HNSC.HumanMethylation450.Level_1.1.2.0/6929671086_R02C01_Red.idat\r\n"
       ]
      },
      {
       "output_type": "stream",
       "stream": "stdout",
       "text": [
        "jhu-usc.edu_HNSC.HumanMethylation450.Level_1.1.2.0/CHANGES_DCC.txt\r\n",
        "jhu-usc.edu_HNSC.HumanMethylation450.Level_1.1.2.0/README_DCC.txt\r\n",
        "jhu-usc.edu_HNSC.HumanMethylation450.Level_1.1.2.0/MANIFEST.txt\r\n"
       ]
      }
     ],
     "prompt_number": 4
    },
    {
     "cell_type": "markdown",
     "metadata": {},
     "source": [
      "<b>Get MD5 Links:</b>"
     ]
    },
    {
     "cell_type": "code",
     "collapsed": false,
     "input": [
      "def getmd5():\n",
      "    md5links = [md5link.get('href') for md5link in soup.find_all('a')\n",
      "                if md5link.get('href') != None and '1.1.'\n",
      "                and 'tar.gz.md5' in md5link.get('href')]\n",
      "    for i in md5links:\n",
      "        print i"
     ],
     "language": "python",
     "metadata": {},
     "outputs": [],
     "prompt_number": 10
    },
    {
     "cell_type": "code",
     "collapsed": false,
     "input": [
      "md5files = getmd5()\n",
      "md5files"
     ],
     "language": "python",
     "metadata": {},
     "outputs": [
      {
       "output_type": "stream",
       "stream": "stdout",
       "text": [
        "jhu-usc.edu_HNSC.HumanMethylation450.Level_1.1.0.0.tar.gz.md5\n",
        "jhu-usc.edu_HNSC.HumanMethylation450.Level_1.1.1.0.tar.gz.md5\n",
        "jhu-usc.edu_HNSC.HumanMethylation450.Level_1.1.2.0.tar.gz.md5\n",
        "jhu-usc.edu_HNSC.HumanMethylation450.Level_1.1.3.0.tar.gz.md5\n",
        "jhu-usc.edu_HNSC.HumanMethylation450.Level_1.1.4.0.tar.gz.md5\n",
        "jhu-usc.edu_HNSC.HumanMethylation450.Level_1.1.5.0.tar.gz.md5\n",
        "jhu-usc.edu_HNSC.HumanMethylation450.Level_1.1.6.0.tar.gz.md5\n",
        "jhu-usc.edu_HNSC.HumanMethylation450.Level_1.1.7.0.tar.gz.md5\n",
        "jhu-usc.edu_HNSC.HumanMethylation450.Level_1.1.8.0.tar.gz.md5\n",
        "jhu-usc.edu_HNSC.HumanMethylation450.Level_1.10.3.0.tar.gz.md5\n",
        "jhu-usc.edu_HNSC.HumanMethylation450.Level_1.10.4.0.tar.gz.md5\n",
        "jhu-usc.edu_HNSC.HumanMethylation450.Level_1.10.5.0.tar.gz.md5\n",
        "jhu-usc.edu_HNSC.HumanMethylation450.Level_1.10.6.0.tar.gz.md5\n",
        "jhu-usc.edu_HNSC.HumanMethylation450.Level_1.10.7.0.tar.gz.md5\n",
        "jhu-usc.edu_HNSC.HumanMethylation450.Level_1.10.8.0.tar.gz.md5\n",
        "jhu-usc.edu_HNSC.HumanMethylation450.Level_1.11.3.0.tar.gz.md5\n",
        "jhu-usc.edu_HNSC.HumanMethylation450.Level_1.11.4.0.tar.gz.md5\n",
        "jhu-usc.edu_HNSC.HumanMethylation450.Level_1.11.5.0.tar.gz.md5\n",
        "jhu-usc.edu_HNSC.HumanMethylation450.Level_1.11.6.0.tar.gz.md5\n",
        "jhu-usc.edu_HNSC.HumanMethylation450.Level_1.11.7.0.tar.gz.md5\n",
        "jhu-usc.edu_HNSC.HumanMethylation450.Level_1.11.8.0.tar.gz.md5\n",
        "jhu-usc.edu_HNSC.HumanMethylation450.Level_1.12.3.0.tar.gz.md5\n",
        "jhu-usc.edu_HNSC.HumanMethylation450.Level_1.12.4.0.tar.gz.md5\n",
        "jhu-usc.edu_HNSC.HumanMethylation450.Level_1.12.5.0.tar.gz.md5\n",
        "jhu-usc.edu_HNSC.HumanMethylation450.Level_1.12.6.0.tar.gz.md5\n",
        "jhu-usc.edu_HNSC.HumanMethylation450.Level_1.12.7.0.tar.gz.md5\n",
        "jhu-usc.edu_HNSC.HumanMethylation450.Level_1.12.8.0.tar.gz.md5\n",
        "jhu-usc.edu_HNSC.HumanMethylation450.Level_1.13.3.0.tar.gz.md5\n",
        "jhu-usc.edu_HNSC.HumanMethylation450.Level_1.13.4.0.tar.gz.md5\n",
        "jhu-usc.edu_HNSC.HumanMethylation450.Level_1.13.5.0.tar.gz.md5\n",
        "jhu-usc.edu_HNSC.HumanMethylation450.Level_1.13.6.0.tar.gz.md5\n",
        "jhu-usc.edu_HNSC.HumanMethylation450.Level_1.13.7.0.tar.gz.md5\n",
        "jhu-usc.edu_HNSC.HumanMethylation450.Level_1.13.8.0.tar.gz.md5\n",
        "jhu-usc.edu_HNSC.HumanMethylation450.Level_1.14.4.0.tar.gz.md5\n",
        "jhu-usc.edu_HNSC.HumanMethylation450.Level_1.14.5.0.tar.gz.md5\n",
        "jhu-usc.edu_HNSC.HumanMethylation450.Level_1.14.6.0.tar.gz.md5\n",
        "jhu-usc.edu_HNSC.HumanMethylation450.Level_1.14.7.0.tar.gz.md5\n",
        "jhu-usc.edu_HNSC.HumanMethylation450.Level_1.14.8.0.tar.gz.md5\n",
        "jhu-usc.edu_HNSC.HumanMethylation450.Level_1.15.4.0.tar.gz.md5\n",
        "jhu-usc.edu_HNSC.HumanMethylation450.Level_1.15.5.0.tar.gz.md5\n",
        "jhu-usc.edu_HNSC.HumanMethylation450.Level_1.15.6.0.tar.gz.md5\n",
        "jhu-usc.edu_HNSC.HumanMethylation450.Level_1.15.7.0.tar.gz.md5\n",
        "jhu-usc.edu_HNSC.HumanMethylation450.Level_1.15.8.0.tar.gz.md5\n",
        "jhu-usc.edu_HNSC.HumanMethylation450.Level_1.16.5.0.tar.gz.md5\n",
        "jhu-usc.edu_HNSC.HumanMethylation450.Level_1.16.6.0.tar.gz.md5\n",
        "jhu-usc.edu_HNSC.HumanMethylation450.Level_1.16.7.0.tar.gz.md5\n",
        "jhu-usc.edu_HNSC.HumanMethylation450.Level_1.16.8.0.tar.gz.md5\n",
        "jhu-usc.edu_HNSC.HumanMethylation450.Level_1.17.6.0.tar.gz.md5\n",
        "jhu-usc.edu_HNSC.HumanMethylation450.Level_1.17.7.0.tar.gz.md5\n",
        "jhu-usc.edu_HNSC.HumanMethylation450.Level_1.17.8.0.tar.gz.md5\n",
        "jhu-usc.edu_HNSC.HumanMethylation450.Level_1.18.7.0.tar.gz.md5\n",
        "jhu-usc.edu_HNSC.HumanMethylation450.Level_1.18.8.0.tar.gz.md5\n",
        "jhu-usc.edu_HNSC.HumanMethylation450.Level_1.2.0.0.tar.gz.md5\n",
        "jhu-usc.edu_HNSC.HumanMethylation450.Level_1.2.1.0.tar.gz.md5\n",
        "jhu-usc.edu_HNSC.HumanMethylation450.Level_1.2.2.0.tar.gz.md5\n",
        "jhu-usc.edu_HNSC.HumanMethylation450.Level_1.2.3.0.tar.gz.md5\n",
        "jhu-usc.edu_HNSC.HumanMethylation450.Level_1.2.4.0.tar.gz.md5\n",
        "jhu-usc.edu_HNSC.HumanMethylation450.Level_1.2.5.0.tar.gz.md5\n",
        "jhu-usc.edu_HNSC.HumanMethylation450.Level_1.2.6.0.tar.gz.md5\n",
        "jhu-usc.edu_HNSC.HumanMethylation450.Level_1.2.7.0.tar.gz.md5\n",
        "jhu-usc.edu_HNSC.HumanMethylation450.Level_1.2.8.0.tar.gz.md5\n",
        "jhu-usc.edu_HNSC.HumanMethylation450.Level_1.3.0.0.tar.gz.md5\n",
        "jhu-usc.edu_HNSC.HumanMethylation450.Level_1.3.1.0.tar.gz.md5\n",
        "jhu-usc.edu_HNSC.HumanMethylation450.Level_1.3.2.0.tar.gz.md5\n",
        "jhu-usc.edu_HNSC.HumanMethylation450.Level_1.3.3.0.tar.gz.md5\n",
        "jhu-usc.edu_HNSC.HumanMethylation450.Level_1.3.4.0.tar.gz.md5\n",
        "jhu-usc.edu_HNSC.HumanMethylation450.Level_1.3.5.0.tar.gz.md5\n",
        "jhu-usc.edu_HNSC.HumanMethylation450.Level_1.3.6.0.tar.gz.md5\n",
        "jhu-usc.edu_HNSC.HumanMethylation450.Level_1.3.7.0.tar.gz.md5\n",
        "jhu-usc.edu_HNSC.HumanMethylation450.Level_1.3.8.0.tar.gz.md5\n",
        "jhu-usc.edu_HNSC.HumanMethylation450.Level_1.4.0.0.tar.gz.md5\n",
        "jhu-usc.edu_HNSC.HumanMethylation450.Level_1.4.1.0.tar.gz.md5\n",
        "jhu-usc.edu_HNSC.HumanMethylation450.Level_1.4.2.0.tar.gz.md5\n",
        "jhu-usc.edu_HNSC.HumanMethylation450.Level_1.4.3.0.tar.gz.md5\n",
        "jhu-usc.edu_HNSC.HumanMethylation450.Level_1.4.4.0.tar.gz.md5\n",
        "jhu-usc.edu_HNSC.HumanMethylation450.Level_1.4.5.0.tar.gz.md5\n",
        "jhu-usc.edu_HNSC.HumanMethylation450.Level_1.4.6.0.tar.gz.md5\n",
        "jhu-usc.edu_HNSC.HumanMethylation450.Level_1.4.7.0.tar.gz.md5\n",
        "jhu-usc.edu_HNSC.HumanMethylation450.Level_1.4.8.0.tar.gz.md5\n",
        "jhu-usc.edu_HNSC.HumanMethylation450.Level_1.5.0.0.tar.gz.md5\n",
        "jhu-usc.edu_HNSC.HumanMethylation450.Level_1.5.1.0.tar.gz.md5\n",
        "jhu-usc.edu_HNSC.HumanMethylation450.Level_1.5.2.0.tar.gz.md5\n",
        "jhu-usc.edu_HNSC.HumanMethylation450.Level_1.5.3.0.tar.gz.md5\n",
        "jhu-usc.edu_HNSC.HumanMethylation450.Level_1.5.4.0.tar.gz.md5\n",
        "jhu-usc.edu_HNSC.HumanMethylation450.Level_1.5.5.0.tar.gz.md5\n",
        "jhu-usc.edu_HNSC.HumanMethylation450.Level_1.5.6.0.tar.gz.md5\n",
        "jhu-usc.edu_HNSC.HumanMethylation450.Level_1.5.7.0.tar.gz.md5\n",
        "jhu-usc.edu_HNSC.HumanMethylation450.Level_1.5.8.0.tar.gz.md5\n",
        "jhu-usc.edu_HNSC.HumanMethylation450.Level_1.6.0.0.tar.gz.md5\n",
        "jhu-usc.edu_HNSC.HumanMethylation450.Level_1.6.1.0.tar.gz.md5\n",
        "jhu-usc.edu_HNSC.HumanMethylation450.Level_1.6.2.0.tar.gz.md5\n",
        "jhu-usc.edu_HNSC.HumanMethylation450.Level_1.6.3.0.tar.gz.md5\n",
        "jhu-usc.edu_HNSC.HumanMethylation450.Level_1.6.4.0.tar.gz.md5\n",
        "jhu-usc.edu_HNSC.HumanMethylation450.Level_1.6.5.0.tar.gz.md5\n",
        "jhu-usc.edu_HNSC.HumanMethylation450.Level_1.6.6.0.tar.gz.md5\n",
        "jhu-usc.edu_HNSC.HumanMethylation450.Level_1.6.7.0.tar.gz.md5\n",
        "jhu-usc.edu_HNSC.HumanMethylation450.Level_1.6.8.0.tar.gz.md5\n",
        "jhu-usc.edu_HNSC.HumanMethylation450.Level_1.7.0.0.tar.gz.md5\n",
        "jhu-usc.edu_HNSC.HumanMethylation450.Level_1.7.1.0.tar.gz.md5\n",
        "jhu-usc.edu_HNSC.HumanMethylation450.Level_1.7.2.0.tar.gz.md5\n",
        "jhu-usc.edu_HNSC.HumanMethylation450.Level_1.7.3.0.tar.gz.md5\n",
        "jhu-usc.edu_HNSC.HumanMethylation450.Level_1.7.4.0.tar.gz.md5\n",
        "jhu-usc.edu_HNSC.HumanMethylation450.Level_1.7.5.0.tar.gz.md5\n",
        "jhu-usc.edu_HNSC.HumanMethylation450.Level_1.7.6.0.tar.gz.md5\n",
        "jhu-usc.edu_HNSC.HumanMethylation450.Level_1.7.7.0.tar.gz.md5\n",
        "jhu-usc.edu_HNSC.HumanMethylation450.Level_1.7.8.0.tar.gz.md5\n",
        "jhu-usc.edu_HNSC.HumanMethylation450.Level_1.8.0.0.tar.gz.md5\n",
        "jhu-usc.edu_HNSC.HumanMethylation450.Level_1.8.1.0.tar.gz.md5\n",
        "jhu-usc.edu_HNSC.HumanMethylation450.Level_1.8.2.0.tar.gz.md5\n",
        "jhu-usc.edu_HNSC.HumanMethylation450.Level_1.1.0.0.tar.gz.md5\n",
        "jhu-usc.edu_HNSC.HumanMethylation450.Level_1.1.1.0.tar.gz.md5\n",
        "jhu-usc.edu_HNSC.HumanMethylation450.Level_1.1.2.0.tar.gz.md5\n",
        "jhu-usc.edu_HNSC.HumanMethylation450.Level_1.1.3.0.tar.gz.md5\n",
        "jhu-usc.edu_HNSC.HumanMethylation450.Level_1.1.4.0.tar.gz.md5\n",
        "jhu-usc.edu_HNSC.HumanMethylation450.Level_1.1.5.0.tar.gz.md5\n",
        "jhu-usc.edu_HNSC.HumanMethylation450.Level_1.1.6.0.tar.gz.md5\n",
        "jhu-usc.edu_HNSC.HumanMethylation450.Level_1.1.7.0.tar.gz.md5\n",
        "jhu-usc.edu_HNSC.HumanMethylation450.Level_1.1.8.0.tar.gz.md5\n",
        "jhu-usc.edu_HNSC.HumanMethylation450.Level_1.10.3.0.tar.gz.md5\n",
        "jhu-usc.edu_HNSC.HumanMethylation450.Level_1.10.4.0.tar.gz.md5\n",
        "jhu-usc.edu_HNSC.HumanMethylation450.Level_1.10.5.0.tar.gz.md5\n",
        "jhu-usc.edu_HNSC.HumanMethylation450.Level_1.10.6.0.tar.gz.md5\n",
        "jhu-usc.edu_HNSC.HumanMethylation450.Level_1.10.7.0.tar.gz.md5\n",
        "jhu-usc.edu_HNSC.HumanMethylation450.Level_1.10.8.0.tar.gz.md5\n",
        "jhu-usc.edu_HNSC.HumanMethylation450.Level_1.11.3.0.tar.gz.md5\n",
        "jhu-usc.edu_HNSC.HumanMethylation450.Level_1.11.4.0.tar.gz.md5\n",
        "jhu-usc.edu_HNSC.HumanMethylation450.Level_1.11.5.0.tar.gz.md5\n",
        "jhu-usc.edu_HNSC.HumanMethylation450.Level_1.11.6.0.tar.gz.md5\n",
        "jhu-usc.edu_HNSC.HumanMethylation450.Level_1.11.7.0.tar.gz.md5\n",
        "jhu-usc.edu_HNSC.HumanMethylation450.Level_1.11.8.0.tar.gz.md5\n",
        "jhu-usc.edu_HNSC.HumanMethylation450.Level_1.12.3.0.tar.gz.md5\n",
        "jhu-usc.edu_HNSC.HumanMethylation450.Level_1.12.4.0.tar.gz.md5\n",
        "jhu-usc.edu_HNSC.HumanMethylation450.Level_1.12.5.0.tar.gz.md5\n",
        "jhu-usc.edu_HNSC.HumanMethylation450.Level_1.12.6.0.tar.gz.md5\n",
        "jhu-usc.edu_HNSC.HumanMethylation450.Level_1.12.7.0.tar.gz.md5\n",
        "jhu-usc.edu_HNSC.HumanMethylation450.Level_1.12.8.0.tar.gz.md5\n",
        "jhu-usc.edu_HNSC.HumanMethylation450.Level_1.13.3.0.tar.gz.md5\n",
        "jhu-usc.edu_HNSC.HumanMethylation450.Level_1.13.4.0.tar.gz.md5\n",
        "jhu-usc.edu_HNSC.HumanMethylation450.Level_1.13.5.0.tar.gz.md5\n",
        "jhu-usc.edu_HNSC.HumanMethylation450.Level_1.13.6.0.tar.gz.md5\n",
        "jhu-usc.edu_HNSC.HumanMethylation450.Level_1.13.7.0.tar.gz.md5\n"
       ]
      }
     ],
     "prompt_number": 11
    }
   ],
   "metadata": {}
  }
 ]
}