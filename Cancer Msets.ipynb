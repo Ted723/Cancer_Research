{
 "metadata": {
  "name": "",
  "signature": "sha256:100c87f845cbe1f7980bc4fbe32751488334c14367cdb1f639ebf78c88c30449"
 },
 "nbformat": 3,
 "nbformat_minor": 0,
 "worksheets": [
  {
   "cells": [
    {
     "cell_type": "code",
     "collapsed": false,
     "input": [
      "import pandas as pd\n",
      "import rpy2"
     ],
     "language": "python",
     "metadata": {},
     "outputs": [],
     "prompt_number": 1
    },
    {
     "cell_type": "code",
     "collapsed": false,
     "input": [
      "cd ~/Documents/IdekerLab/BackUp/"
     ],
     "language": "python",
     "metadata": {},
     "outputs": [
      {
       "output_type": "stream",
       "stream": "stdout",
       "text": [
        "/cellar/users/talejand/Documents/IdekerLab/BackUp\n"
       ]
      }
     ],
     "prompt_number": 2
    },
    {
     "cell_type": "code",
     "collapsed": false,
     "input": [
      "%load_ext rpy2.python"
     ],
     "language": "python",
     "metadata": {},
     "outputs": []
    },
    {
     "cell_type": "markdown",
     "metadata": {},
     "source": [
      "<b>R Script using Minfi</b>"
     ]
    },
    {
     "cell_type": "code",
     "collapsed": false,
     "input": [
      "* Minfi is used to analze the Level 1 TCGA HumanMethylation450k raw data for each cancer\n",
      "    * Detection p-values dataframe and mset are written to a csv file for downstream analysis"
     ],
     "language": "python",
     "metadata": {},
     "outputs": []
    },
    {
     "cell_type": "code",
     "collapsed": false,
     "input": [
      "%%R\n",
      "library(minfi)\n",
      "cancers <- c('acc','blca','brca','cesc','chol','coad','dlbc','esca','hnsc','kich','kirc', \\\n",
      "              'kirp','lihc','luad','lusc','meso','ov','paad','pcpg','prad', \\\n",
      "              'read','sarc','skcm','stad','tgct','thca','thym','ucec','ucs','uvm')\n",
      "for(cancer in cancers){\n",
      "firstpath <- paste('/data/nrnb01_nobackup/agross/TCGA_methylation/FirstTime/UVM_Attempt/',cancer, sep= \"\") \n",
      "mapping <- paste(firstpath,'/',cancer,'.mappings.csv', sep=\"\")\n",
      "targets <- read.csv(mapping, as.is = TRUE)\n",
      "targets$barcode <- file.path(firstpath, targets$barcode)\n",
      "rgset <- read.450k(targets$barcode, verbose = TRUE)\n",
      "dp <- detectionP(rgset)\n",
      "write.csv(dp, paste(cancer,\"_dp\",\".csv\",sep=\"\"))\n",
      "mset <- preprocessQuantile(rgset)\n",
      "write.csv(mset, paste(cancer,\"_mset\",\".csv\",sep=\"\"))}"
     ],
     "language": "python",
     "metadata": {},
     "outputs": []
    },
    {
     "cell_type": "markdown",
     "metadata": {},
     "source": [
      "Put R Ouput into Pandas Dataframe for Analysis"
     ]
    },
    {
     "cell_type": "code",
     "collapsed": false,
     "input": [
      "for cancer in cancers:\n",
      "     cancer = pd.read_csv(cancer +'_dp.csv')"
     ],
     "language": "python",
     "metadata": {},
     "outputs": []
    },
    {
     "cell_type": "code",
     "collapsed": false,
     "input": [
      "for subcancer in cancers:\n",
      "    subcancer = pd.read_csv(cancer + '_mset.csv')"
     ],
     "language": "python",
     "metadata": {},
     "outputs": []
    },
    {
     "cell_type": "code",
     "collapsed": false,
     "input": [
      "dpvalues = !ls -f \"*dp.csv\""
     ],
     "language": "python",
     "metadata": {},
     "outputs": []
    },
    {
     "cell_type": "code",
     "collapsed": false,
     "input": [
      "msets = !ls -f \"*mset.csv\""
     ],
     "language": "python",
     "metadata": {},
     "outputs": []
    }
   ],
   "metadata": {}
  }
 ]
}