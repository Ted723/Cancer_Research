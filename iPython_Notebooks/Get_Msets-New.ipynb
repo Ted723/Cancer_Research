{
 "metadata": {
  "name": "",
  "signature": "sha256:e219a1b64d7c6ee383e7da6a64ac65d0fd6939409590cd32d1a22bfac80baa4e"
 },
 "nbformat": 3,
 "nbformat_minor": 0,
 "worksheets": [
  {
   "cells": [
    {
     "cell_type": "code",
     "collapsed": false,
     "input": [
      "import pandas as pd\n",
      "import rpy2"
     ],
     "language": "python",
     "metadata": {},
     "outputs": [],
     "prompt_number": 7
    },
    {
     "cell_type": "code",
     "collapsed": false,
     "input": [
      "cd /data/nrnb01_nobackup/agross/TCGA_methylation/"
     ],
     "language": "python",
     "metadata": {},
     "outputs": [
      {
       "output_type": "stream",
       "stream": "stdout",
       "text": [
        "/data/nrnb01_nobackup/agross/TCGA_methylation\n"
       ]
      }
     ],
     "prompt_number": 8
    },
    {
     "cell_type": "markdown",
     "metadata": {},
     "source": [
      "<b>R Script using Minfi</b>"
     ]
    },
    {
     "cell_type": "markdown",
     "metadata": {},
     "source": [
      "* Minfi is used to analze the Level 1 TCGA HumanMethylation450k raw data for each cancer\n",
      "    * Detection p-values dataframe and mset are written to a csv file for downstream analysis"
     ]
    },
    {
     "cell_type": "code",
     "collapsed": false,
     "input": [
      "rscript = '''#!/usr/bin/RScript\n",
      "library(minfi)\n",
      "cancer <- 'CANCER_VARIABLE'\n",
      "firstpath <- paste('/data/nrnb01_nobackup/agross/TCGA_methylation/',cancer, sep= \"\") \n",
      "mapping <- paste(firstpath,'/',cancer,'.mappings.csv', sep=\"\")\n",
      "targets <- read.csv(mapping, as.is = TRUE)\n",
      "targets$barcode <- file.path(firstpath, targets$barcode)\n",
      "rgset <- read.450k(targets$barcode, verbose = TRUE)\n",
      "dp <- detectionP(rgset)\n",
      "write.csv(dp, paste(cancer,\"_dp\",\".csv\",sep=\"\"))\n",
      "mset <- preprocessQuantile(rgset)\n",
      "write.csv(mset, paste(cancer,\"_mset\",\".csv\",sep=\"\")'''"
     ],
     "language": "python",
     "metadata": {},
     "outputs": [],
     "prompt_number": 21
    },
    {
     "cell_type": "code",
     "collapsed": false,
     "input": [
      "cancers = ['acc','blca','brca','cesc','chol','coad','dlbc','esca','hnsc','kich','kirc', \n",
      "              'kirp','lihc','luad','lusc','meso','ov','paad','pcpg','prad', \n",
      "              'read','sarc','skcm','stad','tgct','thca','thym','ucec','ucs','uvm']"
     ],
     "language": "python",
     "metadata": {},
     "outputs": [],
     "prompt_number": 9
    },
    {
     "cell_type": "code",
     "collapsed": false,
     "input": [
      "cancer_variables = map(lambda x:x.upper(),cancers)"
     ],
     "language": "python",
     "metadata": {},
     "outputs": [],
     "prompt_number": 10
    },
    {
     "cell_type": "code",
     "collapsed": false,
     "input": [
      "for cancer in cancer_variables:\n",
      "    l = rscript.replace('CANCER_VARIABLE', cancer) + '\\n'\n",
      "    f = open(cancer + '_.r', 'w')\n",
      "    f.write(l)\n",
      "    f.close()"
     ],
     "language": "python",
     "metadata": {},
     "outputs": [],
     "prompt_number": 24
    },
    {
     "cell_type": "heading",
     "level": 5,
     "metadata": {},
     "source": [
      "Put R Ouput into Pandas Dataframe for Analysis"
     ]
    },
    {
     "cell_type": "markdown",
     "metadata": {},
     "source": [
      "* Below data analysis scripts created for all\n",
      "    * Python Scripts are created for each cancer subtype\n",
      "    * Dataframes with Barcode, TCGA ID, Tissue Type, and M Values are created in corresponding csv files for downstream iPython Notebook analysis"
     ]
    },
    {
     "cell_type": "code",
     "collapsed": false,
     "input": [
      "pythonscript = '''#!/usr/bin/env python\n",
      "import os\n",
      "os.chdir(\"../CANCER_VARIABLE/\")\n",
      "import pandas as pd\n",
      "CANCER_VARIABLE_mappings = pd.read_csv(\"CANCER_VARIABLE.mappings.csv\", index_col=0, usecols=['barcode','TCGA.ID','histology'])\n",
      "a = CANCER_VARIABLE_mappings\n",
      "CANCER_VARIABLE_patient = pd.read_csv('../Minfi_Output/CANCER_VARIABLE_mset.csv', index_col=0)\n",
      "CANCER_VARIABLE =CANCER_VARIABLE_patient.head().stack().head()\n",
      "CANCER_VARIABLE\n",
      "b = CANCER_VARIABLE_patient\n",
      "c= b.transpose()\n",
      "c.index.name = 'barcode'\n",
      "d = c\n",
      "final = pd.merge(a,d, on=a.index, how='outer')\n",
      "finals = final.head()\n",
      "finals.rename(columns={'key_0':'barcode'}, inplace=True)\n",
      "final['Sample_Type'] = [\"Normal\" if '-20A-' in col else \"Tumor\" for col in final['TCGA.ID']] \n",
      "df = final.to_csv('CANCER_VARIABLE_df.csv')\n",
      "'''\n"
     ],
     "language": "python",
     "metadata": {},
     "outputs": [],
     "prompt_number": 39
    },
    {
     "cell_type": "code",
     "collapsed": false,
     "input": [
      "for cancer in cancer_variables:\n",
      "    l = pythonscript.replace('CANCER_VARIABLE', cancer) + '\\n'\n",
      "    f = open(cancer + '_Analysis.py', 'w')\n",
      "    f.write(l)\n",
      "    f.close()"
     ],
     "language": "python",
     "metadata": {},
     "outputs": [],
     "prompt_number": 40
    },
    {
     "cell_type": "markdown",
     "metadata": {},
     "source": [
      "* Command Line Movement and Execution for Resulting DataFrames"
     ]
    },
    {
     "cell_type": "code",
     "collapsed": false,
     "input": [
      "!mv *_Analysis.py iPython_Notebooks/\n",
      "!cd iPython_Notebooks/\n",
      "!chmod 755 *_Analysis.py"
     ],
     "language": "python",
     "metadata": {},
     "outputs": []
    }
   ],
   "metadata": {}
  }
 ]
}