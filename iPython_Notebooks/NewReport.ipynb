{
 "metadata": {
  "name": "",
  "signature": "sha256:537942dc611bfdc2ca93aa499b81585a4507fd8a1f5708713cc54398589a9167"
 },
 "nbformat": 3,
 "nbformat_minor": 0,
 "worksheets": [
  {
   "cells": [
    {
     "cell_type": "code",
     "collapsed": false,
     "input": [
      "import re\n",
      "import pandas as pd"
     ],
     "language": "python",
     "metadata": {},
     "outputs": [],
     "prompt_number": 28
    },
    {
     "cell_type": "code",
     "collapsed": false,
     "input": [
      "pwd"
     ],
     "language": "python",
     "metadata": {},
     "outputs": [
      {
       "metadata": {},
       "output_type": "pyout",
       "prompt_number": 29,
       "text": [
        "u'/data/nrnb01_nobackup/agross/TCGA_methylation'"
       ]
      }
     ],
     "prompt_number": 29
    },
    {
     "cell_type": "code",
     "collapsed": false,
     "input": [
      "cd /data/nrnb01_nobackup/agross/TCGA_methylation/"
     ],
     "language": "python",
     "metadata": {},
     "outputs": [
      {
       "output_type": "stream",
       "stream": "stdout",
       "text": [
        "/data/nrnb01_nobackup/agross/TCGA_methylation\n"
       ]
      }
     ],
     "prompt_number": 30
    },
    {
     "cell_type": "code",
     "collapsed": false,
     "input": [
      "folders = !ls -d -- */"
     ],
     "language": "python",
     "metadata": {},
     "outputs": [],
     "prompt_number": 31
    },
    {
     "cell_type": "heading",
     "level": 1,
     "metadata": {},
     "source": [
      "<b>Data Description</b>"
     ]
    },
    {
     "cell_type": "markdown",
     "metadata": {},
     "source": [
      "* Out of 33 cancers, three (LGG, LAML, and GBM)were intially \n",
      "rejected due to format inconsistencies on the TCGA website\n",
      "    * Therefore, 30 cancer subtypes total\n"
     ]
    },
    {
     "cell_type": "markdown",
     "metadata": {},
     "source": [
      "* Number of 450k raw idat files are counted and listed by cancer_subtype using count_idat fxn below"
     ]
    },
    {
     "cell_type": "markdown",
     "metadata": {},
     "source": [
      "* Using Bioconductor's Minfi package, the detection p and mset values of the metyhlation data per cancer were determined using quantile preprocessing methods"
     ]
    },
    {
     "cell_type": "code",
     "collapsed": false,
     "input": [
      "def count_idat():\n",
      "    for cancer in folders:\n",
      "        count = !find $cancer -type f -name \"*idat\" | wc -l \n",
      "        print cancer + \" cancer subtype has \" + \\\n",
      "              str(int(re.search(r'\\d+', str(count)).group())) + \\\n",
      "              \" idat files available.\"    "
     ],
     "language": "python",
     "metadata": {},
     "outputs": [],
     "prompt_number": 5
    },
    {
     "cell_type": "code",
     "collapsed": false,
     "input": [
      "meta = ['Extra_Information/','Minfi_Output/','iPython_Notebooks/']\n",
      "def count_idat():\n",
      "    count_vec = {}\n",
      "    for cancer in folders:\n",
      "        if cancer in meta:\n",
      "            continue\n",
      "        count = !find $cancer -type f -name \"*idat\" | wc -l \n",
      "        count_vec[cancer] = count[0]\n",
      "        print cancer + \" cancer subtype has \" + \\\n",
      "              str(int(re.search(r'\\d+', str(count)).group())) + \\\n",
      "              \" idat files available.\"    \n",
      "    return pd.Series(count_vec)"
     ],
     "language": "python",
     "metadata": {},
     "outputs": [],
     "prompt_number": 17
    },
    {
     "cell_type": "markdown",
     "metadata": {},
     "source": [
      "<b># of idat files per cancer subtype</b>"
     ]
    },
    {
     "cell_type": "code",
     "collapsed": false,
     "input": [
      "counts = count_idat()"
     ],
     "language": "python",
     "metadata": {},
     "outputs": [
      {
       "output_type": "stream",
       "stream": "stdout",
       "text": [
        "ACC/ cancer subtype has 162 idat files available.\n"
       ]
      },
      {
       "output_type": "stream",
       "stream": "stdout",
       "text": [
        "BLCA/ cancer subtype has 928 idat files available.\n"
       ]
      },
      {
       "output_type": "stream",
       "stream": "stdout",
       "text": [
        "BRCA/ cancer subtype has 1826 idat files available.\n"
       ]
      },
      {
       "output_type": "stream",
       "stream": "stdout",
       "text": [
        "CESC/ cancer subtype has 664 idat files available.\n"
       ]
      },
      {
       "output_type": "stream",
       "stream": "stdout",
       "text": [
        "CHOL/ cancer subtype has 92 idat files available.\n"
       ]
      },
      {
       "output_type": "stream",
       "stream": "stdout",
       "text": [
        "COAD/ cancer subtype has 736 idat files available.\n"
       ]
      },
      {
       "output_type": "stream",
       "stream": "stdout",
       "text": [
        "DLBC/ cancer subtype has 106 idat files available.\n"
       ]
      },
      {
       "output_type": "stream",
       "stream": "stdout",
       "text": [
        "ESCA/ cancer subtype has 424 idat files available.\n"
       ]
      },
      {
       "output_type": "stream",
       "stream": "stdout",
       "text": [
        "HNSC/ cancer subtype has 1196 idat files available.\n"
       ]
      },
      {
       "output_type": "stream",
       "stream": "stdout",
       "text": [
        "LUAD/ cancer subtype has 1050 idat files available.\n"
       ]
      },
      {
       "output_type": "stream",
       "stream": "stdout",
       "text": [
        "LUSC/ cancer subtype has 864 idat files available.\n"
       ]
      },
      {
       "output_type": "stream",
       "stream": "stdout",
       "text": [
        "MESO/ cancer subtype has 178 idat files available.\n"
       ]
      },
      {
       "output_type": "stream",
       "stream": "stdout",
       "text": [
        "OV/ cancer subtype has 22 idat files available.\n"
       ]
      },
      {
       "output_type": "stream",
       "stream": "stdout",
       "text": [
        "PAAD/ cancer subtype has 414 idat files available.\n"
       ]
      },
      {
       "output_type": "stream",
       "stream": "stdout",
       "text": [
        "PCPG/ cancer subtype has 378 idat files available.\n"
       ]
      },
      {
       "output_type": "stream",
       "stream": "stdout",
       "text": [
        "PRAD/ cancer subtype has 1146 idat files available.\n"
       ]
      },
      {
       "output_type": "stream",
       "stream": "stdout",
       "text": [
        "READ/ cancer subtype has 226 idat files available.\n"
       ]
      },
      {
       "output_type": "stream",
       "stream": "stdout",
       "text": [
        "SARC/ cancer subtype has 570 idat files available.\n"
       ]
      },
      {
       "output_type": "stream",
       "stream": "stdout",
       "text": [
        "SKCM/ cancer subtype has 986 idat files available.\n"
       ]
      },
      {
       "output_type": "stream",
       "stream": "stdout",
       "text": [
        "STAD/ cancer subtype has 826 idat files available.\n"
       ]
      },
      {
       "output_type": "stream",
       "stream": "stdout",
       "text": [
        "TGCT/ cancer subtype has 316 idat files available.\n"
       ]
      },
      {
       "output_type": "stream",
       "stream": "stdout",
       "text": [
        "THCA/ cancer subtype has 1176 idat files available.\n"
       ]
      },
      {
       "output_type": "stream",
       "stream": "stdout",
       "text": [
        "THYM/ cancer subtype has 256 idat files available.\n"
       ]
      },
      {
       "output_type": "stream",
       "stream": "stdout",
       "text": [
        "UCEC/ cancer subtype has 1016 idat files available.\n"
       ]
      },
      {
       "output_type": "stream",
       "stream": "stdout",
       "text": [
        "UCS/ cancer subtype has 116 idat files available.\n"
       ]
      },
      {
       "output_type": "stream",
       "stream": "stdout",
       "text": [
        "UVM/ cancer subtype has 162 idat files available.\n"
       ]
      }
     ],
     "prompt_number": 18
    },
    {
     "cell_type": "code",
     "collapsed": false,
     "input": [
      "counts.astype(int)"
     ],
     "language": "python",
     "metadata": {},
     "outputs": [
      {
       "metadata": {},
       "output_type": "pyout",
       "prompt_number": 26,
       "text": [
        "ACC/      162\n",
        "BLCA/     928\n",
        "BRCA/    1826\n",
        "CESC/     664\n",
        "CHOL/      92\n",
        "COAD/     736\n",
        "DLBC/     106\n",
        "ESCA/     424\n",
        "HNSC/    1196\n",
        "LUAD/    1050\n",
        "LUSC/     864\n",
        "MESO/     178\n",
        "OV/        22\n",
        "PAAD/     414\n",
        "PCPG/     378\n",
        "PRAD/    1146\n",
        "READ/     226\n",
        "SARC/     570\n",
        "SKCM/     986\n",
        "STAD/     826\n",
        "TGCT/     316\n",
        "THCA/    1176\n",
        "THYM/     256\n",
        "UCEC/    1016\n",
        "UCS/      116\n",
        "UVM/      162\n",
        "dtype: int64"
       ]
      }
     ],
     "prompt_number": 26
    },
    {
     "cell_type": "code",
     "collapsed": false,
     "input": [
      "counts.astype(int).sum()/2"
     ],
     "language": "python",
     "metadata": {},
     "outputs": []
    },
    {
     "cell_type": "markdown",
     "metadata": {},
     "source": [
      "<b>CSVs of all Minfi R Outputs for Each Cancer Subtype<b>"
     ]
    },
    {
     "cell_type": "code",
     "collapsed": false,
     "input": [
      "cd PRAD/"
     ],
     "language": "python",
     "metadata": {},
     "outputs": [
      {
       "output_type": "stream",
       "stream": "stdout",
       "text": [
        "/data/nrnb01_nobackup/agross/TCGA_methylation/PRAD\n"
       ]
      }
     ],
     "prompt_number": 32
    },
    {
     "cell_type": "code",
     "collapsed": false,
     "input": [
      "df = pd.read_csv('PRAD_df.csv')"
     ],
     "language": "python",
     "metadata": {},
     "outputs": []
    },
    {
     "cell_type": "code",
     "collapsed": false,
     "input": [
      "df.head()"
     ],
     "language": "python",
     "metadata": {},
     "outputs": []
    },
    {
     "cell_type": "code",
     "collapsed": false,
     "input": [],
     "language": "python",
     "metadata": {},
     "outputs": []
    }
   ],
   "metadata": {}
  }
 ]
}