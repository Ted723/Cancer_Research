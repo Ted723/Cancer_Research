{
 "metadata": {
  "name": "",
  "signature": "sha256:b218b3e94407b53527a2c69531d19f02cdcc476a4c79eec64af208220d7bb696"
 },
 "nbformat": 3,
 "nbformat_minor": 0,
 "worksheets": [
  {
   "cells": [
    {
     "cell_type": "code",
     "collapsed": false,
     "input": [
      "import pandas as pd\n",
      "import rpy2"
     ],
     "language": "python",
     "metadata": {},
     "outputs": [],
     "prompt_number": 1
    },
    {
     "cell_type": "code",
     "collapsed": false,
     "input": [
      "cd /data/nrnb01_nobackup/agross/TCGA_methylation/"
     ],
     "language": "python",
     "metadata": {},
     "outputs": [
      {
       "output_type": "stream",
       "stream": "stdout",
       "text": [
        "/cellar/users/talejand/Documents/IdekerLab/BackUp\n"
       ]
      }
     ],
     "prompt_number": 2
    },
    {
     "cell_type": "code",
     "collapsed": false,
     "input": [
      "%load_ext rpy2.python"
     ],
     "language": "python",
     "metadata": {},
     "outputs": []
    },
    {
     "cell_type": "markdown",
     "metadata": {},
     "source": [
      "<b>R Script using Minfi</b>"
     ]
    },
    {
     "cell_type": "markdown",
     "metadata": {},
     "source": [
      "* Minfi is used to analze the Level 1 TCGA HumanMethylation450k raw data for each cancer\n",
      "    * Detection p-values dataframe and mset are written to a csv file for downstream analysis"
     ]
    },
    {
     "cell_type": "code",
     "collapsed": false,
     "input": [
      "!./ACC.r"
     ],
     "language": "python",
     "metadata": {},
     "outputs": []
    },
    {
     "cell_type": "code",
     "collapsed": false,
     "input": [
      "!./BLCA.r"
     ],
     "language": "python",
     "metadata": {},
     "outputs": []
    },
    {
     "cell_type": "code",
     "collapsed": false,
     "input": [
      "small = '''#!/usr/bin/RScript\n",
      "library(minfi)\n",
      "cancer <- 'CANCER_VARIABLE'\n",
      "firstpath <- paste('/data/nrnb01_nobackup/agross/TCGA_methylation/',cancer, sep= \"\") \n",
      "mapping <- paste(firstpath,'/',cancer,'.mappings.csv', sep=\"\")\n",
      "targets <- read.csv(mapping, as.is = TRUE)\n",
      "targets$barcode <- file.path(firstpath, targets$barcode)\n",
      "write.csv(targets$barcode)'''"
     ],
     "language": "python",
     "metadata": {},
     "outputs": [],
     "prompt_number": 26
    },
    {
     "cell_type": "code",
     "collapsed": false,
     "input": [
      "for cancer in cancer_variables:\n",
      "    l = small.replace('CANCER_VARIABLE', cancer) + '\\n'\n",
      "    f = open(cancer + 'test.r', 'w')\n",
      "    f.write(l)\n",
      "    f.close()"
     ],
     "language": "python",
     "metadata": {},
     "outputs": [],
     "prompt_number": 27
    },
    {
     "cell_type": "code",
     "collapsed": false,
     "input": [
      "cat CHOLtest.r"
     ],
     "language": "python",
     "metadata": {},
     "outputs": [
      {
       "output_type": "stream",
       "stream": "stdout",
       "text": [
        "#!/usr/bin/RScript\r\n",
        "library(minfi)\r\n",
        "cancer <- 'CHOL'\r\n",
        "firstpath <- paste('/data/nrnb01_nobackup/agross/TCGA_methylation/',cancer, sep= \"\") \r\n",
        "mapping <- paste(firstpath,'/',cancer,'.mappings.csv', sep=\"\")\r\n",
        "targets <- read.csv(mapping, as.is = TRUE)\r\n",
        "targets$barcode <- file.path(firstpath, targets$barcode)\r\n",
        "write.csv(targets$barcode)\r\n"
       ]
      }
     ],
     "prompt_number": 30
    },
    {
     "cell_type": "code",
     "collapsed": false,
     "input": [
      "s = '''#!/usr/bin/RScript\n",
      "library(minfi)\n",
      "cancer <- 'CANCER_VARIABLE'\n",
      "firstpath <- paste('/data/nrnb01_nobackup/agross/TCGA_methylation/',cancer, sep= \"\") \n",
      "mapping <- paste(firstpath,'/',cancer,'.mappings.csv', sep=\"\")\n",
      "targets <- read.csv(mapping, as.is = TRUE)\n",
      "targets$barcode <- file.path(firstpath, targets$barcode)\n",
      "rgset <- read.450k(targets$barcode, verbose = TRUE)\n",
      "dp <- detectionP(rgset)\n",
      "write.csv(dp, paste(cancer,\"_dp\",\".csv\",sep=\"\"))\n",
      "mset <- preprocessQuantile(rgset)\n",
      "write.csv(mset, paste(cancer,\"_mset\",\".csv\",sep=\"\")'''"
     ],
     "language": "python",
     "metadata": {},
     "outputs": [],
     "prompt_number": 21
    },
    {
     "cell_type": "code",
     "collapsed": false,
     "input": [
      "cancers = ['acc','blca','brca','cesc','chol','coad','dlbc','esca','hnsc','kich','kirc', \n",
      "              'kirp','lihc','luad','lusc','meso','ov','paad','pcpg','prad', \n",
      "              'read','sarc','skcm','stad','tgct','thca','thym','ucec','ucs','uvm']"
     ],
     "language": "python",
     "metadata": {},
     "outputs": [],
     "prompt_number": 5
    },
    {
     "cell_type": "code",
     "collapsed": false,
     "input": [
      "cancer_variables = map(lambda x:x.upper(),cancers)"
     ],
     "language": "python",
     "metadata": {},
     "outputs": [],
     "prompt_number": 6
    },
    {
     "cell_type": "code",
     "collapsed": false,
     "input": [
      "for cancer in cancer_variables:\n",
      "    l = s.replace('CANCER_VARIABLE', cancer) + '\\n'\n",
      "    f = open(cancer + '_.r', 'w')\n",
      "    f.write(l)\n",
      "    f.close()"
     ],
     "language": "python",
     "metadata": {},
     "outputs": [],
     "prompt_number": 24
    },
    {
     "cell_type": "code",
     "collapsed": false,
     "input": [
      "cat ACC_.r"
     ],
     "language": "python",
     "metadata": {},
     "outputs": [
      {
       "output_type": "stream",
       "stream": "stdout",
       "text": [
        "#!/usr/bin/RScript\r\n",
        "library(minfi)\r\n",
        "cancer <- 'ACC'\r\n",
        "firstpath <- paste('/data/nrnb01_nobackup/agross/TCGA_methylation/',cancer, sep= \"\") \r\n",
        "mapping <- paste(firstpath,'/',cancer,'.mappings.csv', sep=\"\")\r\n",
        "targets <- read.csv(mapping, as.is = TRUE)\r\n",
        "targets$barcode <- file.path(firstpath, targets$barcode)\r\n",
        "rgset <- read.450k(targets$barcode, verbose = TRUE)\r\n",
        "dp <- detectionP(rgset)\r\n",
        "write.csv(dp, paste(cancer,\"_dp\",\".csv\",sep=\"\"))\r\n",
        "mset <- preprocessQuantile(rgset)\r\n",
        "write.csv(mset, paste(cancer,\"_mset\",\".csv\",sep=\"\")\r\n"
       ]
      }
     ],
     "prompt_number": 25
    },
    {
     "cell_type": "code",
     "collapsed": false,
     "input": [
      "print s.replace('CANCER_VARIABLE', 'LUAD')"
     ],
     "language": "python",
     "metadata": {},
     "outputs": [
      {
       "output_type": "stream",
       "stream": "stdout",
       "text": [
        "#!/usr/bin/RScript\n",
        "library(minfi)\n",
        "cancer <- LUAD\n",
        "firstpath <- paste('/data/nrnb01_nobackup/agross/TCGA_methylation/',cancer, sep= \"\") \n",
        "mapping <- paste(firstpath,'/',cancer,'.mappings.csv', sep=\"\")\n",
        "targets <- read.csv(mapping, as.is = TRUE)\n",
        "targets$barcode <- file.path(firstpath, targets$barcode)\n",
        "rgset <- read.450k(targets$barcode, verbose = TRUE)\n",
        "dp <- detectionP(rgset)\n",
        "write.csv(dp, paste(cancer,\"_dp\",\".csv\",sep=\"\"))\n",
        "mset <- preprocessQuantile(rgset)\n",
        "write.csv(mset, paste(cancer,\"_mset\",\".csv\",sep=\"\"))}\n"
       ]
      }
     ],
     "prompt_number": 7
    },
    {
     "cell_type": "code",
     "collapsed": false,
     "input": [
      "%%R\n",
      "library(minfi)\n",
      "cancers <- c('acc','blca','brca','cesc','chol','coad','dlbc','esca','hnsc','kich','kirc', \\\n",
      "              'kirp','lihc','luad','lusc','meso','ov','paad','pcpg','prad', \\\n",
      "              'read','sarc','skcm','stad','tgct','thca','thym','ucec','ucs','uvm')\n",
      "for(cancer in cancers){\n",
      "firstpath <- paste('/data/nrnb01_nobackup/agross/TCGA_methylation/FirstTime/UVM_Attempt/',cancer, sep= \"\") \n",
      "mapping <- paste(firstpath,'/',cancer,'.mappings.csv', sep=\"\")\n",
      "targets <- read.csv(mapping, as.is = TRUE)\n",
      "targets$barcode <- file.path(firstpath, targets$barcode)\n",
      "rgset <- read.450k(targets$barcode, verbose = TRUE)\n",
      "dp <- detectionP(rgset)\n",
      "write.csv(dp, paste(cancer,\"_dp\",\".csv\",sep=\"\"))\n",
      "mset <- preprocessQuantile(rgset)\n",
      "write.csv(mset, paste(cancer,\"_mset\",\".csv\",sep=\"\"))}"
     ],
     "language": "python",
     "metadata": {},
     "outputs": []
    },
    {
     "cell_type": "markdown",
     "metadata": {},
     "source": [
      "Put R Ouput into Pandas Dataframe for Analysis"
     ]
    },
    {
     "cell_type": "code",
     "collapsed": false,
     "input": [
      "pwd"
     ],
     "language": "python",
     "metadata": {},
     "outputs": [
      {
       "metadata": {},
       "output_type": "pyout",
       "prompt_number": 1,
       "text": [
        "u'/data/nrnb01_nobackup/agross/TCGA_methylation'"
       ]
      }
     ],
     "prompt_number": 1
    },
    {
     "cell_type": "code",
     "collapsed": false,
     "input": [],
     "language": "python",
     "metadata": {},
     "outputs": []
    },
    {
     "cell_type": "code",
     "collapsed": false,
     "input": [],
     "language": "python",
     "metadata": {},
     "outputs": []
    },
    {
     "cell_type": "code",
     "collapsed": false,
     "input": [
      "commandArgs(trailingonly = T)"
     ],
     "language": "python",
     "metadata": {},
     "outputs": []
    },
    {
     "cell_type": "code",
     "collapsed": false,
     "input": [
      "%%R  \n",
      "library(minfi)\n",
      "cancer <- \n",
      "firstpath <- paste('/data/nrnb01_nobackup/agross/TCGA_methylation/',cancer, sep= \"\") \n",
      "mapping <- paste(firstpath,'/',cancer,'.mappings.csv', sep=\"\")\n",
      "targets <- read.csv(mapping, as.is = TRUE)\n",
      "targets$barcode <- file.path(firstpath, targets$barcode)\n",
      "rgset <- read.450k(targets$barcode, verbose = TRUE)\n",
      "dp <- detectionP(rgset)\n",
      "write.csv(dp, paste(cancer,\"_dp\",\".csv\",sep=\"\"))\n",
      "mset <- preprocessQuantile(rgset)\n",
      "write.csv(mset, paste(cancer,\"_mset\",\".csv\",sep=\"\"))}"
     ],
     "language": "python",
     "metadata": {},
     "outputs": []
    },
    {
     "cell_type": "code",
     "collapsed": false,
     "input": [
      "for cancer in cancers:\n",
      "     cancer = pd.read_csv(cancer +'_dp.csv')"
     ],
     "language": "python",
     "metadata": {},
     "outputs": []
    },
    {
     "cell_type": "code",
     "collapsed": false,
     "input": [
      "for subcancer in cancers:\n",
      "    subcancer = pd.read_csv(cancer + '_mset.csv')"
     ],
     "language": "python",
     "metadata": {},
     "outputs": []
    },
    {
     "cell_type": "code",
     "collapsed": false,
     "input": [
      "dpvalues = !ls -f \"*dp.csv\""
     ],
     "language": "python",
     "metadata": {},
     "outputs": []
    },
    {
     "cell_type": "code",
     "collapsed": false,
     "input": [
      "msets = !ls -f \"*mset.csv\""
     ],
     "language": "python",
     "metadata": {},
     "outputs": []
    },
    {
     "cell_type": "markdown",
     "metadata": {},
     "source": [
      "* Below I create the data scripts for all"
     ]
    },
    {
     "cell_type": "code",
     "collapsed": false,
     "input": [
      "ted = '''import pandas as pd\n",
      "pwd\n",
      "ls\n",
      "cd ../CANCER_VARIABLE/\n",
      "'CANCER_VARIABLE'_mappings = pd.read_csv(\"'CANCER_VARIABLE'.mappings.csv\", index_col=0, usecols=['barcode','TCGA.ID','histology'])\n",
      "a = 'CANCER_VARIABLE'_mappings\n",
      "a\n",
      "'CANCER_VARIABLE'_patient = pd.read_csv('../Minfi_Output/'CANCER_VARIABLE'_mset.csv', index_col=0)\n",
      "'CANCER_VARIABLE' ='CANCER_VARIABLE'_patient.head().stack().head()\n",
      "'CANCER_VARIABLE'\n",
      "b = 'CANCER_VARIABLE'_patient\n",
      "c= b.transpose()\n",
      "c.index.name = 'barcode'\n",
      "d = c\n",
      "d\n",
      "final = pd.merge(a,d, on=a.index, how='outer')\n",
      "finals = final.head()\n",
      "finals.rename(columns={'key_0':'barcode'}, inplace=True)\n",
      "final['Sample_Type'] = [\"Normal\" if '-20A-' in col else \"Tumor\" for col in final['TCGA.ID']] \n",
      "final'''\n"
     ],
     "language": "python",
     "metadata": {},
     "outputs": [],
     "prompt_number": 3
    },
    {
     "cell_type": "code",
     "collapsed": false,
     "input": [
      "for cancer in cancer_variables:\n",
      "    l = ted.replace('CANCER_VARIABLE', cancer) + '\\n'\n",
      "    f = open(cancer + '_Analysis.ipynb', 'w')\n",
      "    f.write(l)\n",
      "    f.close()"
     ],
     "language": "python",
     "metadata": {},
     "outputs": [
      {
       "ename": "NameError",
       "evalue": "name 'cancer_variables' is not defined",
       "output_type": "pyerr",
       "traceback": [
        "\u001b[1;31m---------------------------------------------------------------------------\u001b[0m\n\u001b[1;31mNameError\u001b[0m                                 Traceback (most recent call last)",
        "\u001b[1;32m<ipython-input-5-17e75c203b3d>\u001b[0m in \u001b[0;36m<module>\u001b[1;34m()\u001b[0m\n\u001b[1;32m----> 1\u001b[1;33m \u001b[1;32mfor\u001b[0m \u001b[0mcancer\u001b[0m \u001b[1;32min\u001b[0m \u001b[0mcancer_variables\u001b[0m\u001b[1;33m:\u001b[0m\u001b[1;33m\u001b[0m\u001b[0m\n\u001b[0m\u001b[0;32m      2\u001b[0m     \u001b[0ml\u001b[0m \u001b[1;33m=\u001b[0m \u001b[0mted\u001b[0m\u001b[1;33m.\u001b[0m\u001b[0mreplace\u001b[0m\u001b[1;33m(\u001b[0m\u001b[1;34m'CANCER_VARIABLE'\u001b[0m\u001b[1;33m,\u001b[0m \u001b[0mcancer\u001b[0m\u001b[1;33m)\u001b[0m \u001b[1;33m+\u001b[0m \u001b[1;34m'\\n'\u001b[0m\u001b[1;33m\u001b[0m\u001b[0m\n\u001b[0;32m      3\u001b[0m     \u001b[0mf\u001b[0m \u001b[1;33m=\u001b[0m \u001b[0mopen\u001b[0m\u001b[1;33m(\u001b[0m\u001b[0mcancer\u001b[0m \u001b[1;33m+\u001b[0m \u001b[1;34m'_Analysis.ipynb'\u001b[0m\u001b[1;33m,\u001b[0m \u001b[1;34m'w'\u001b[0m\u001b[1;33m)\u001b[0m\u001b[1;33m\u001b[0m\u001b[0m\n\u001b[0;32m      4\u001b[0m     \u001b[0mf\u001b[0m\u001b[1;33m.\u001b[0m\u001b[0mwrite\u001b[0m\u001b[1;33m(\u001b[0m\u001b[0ml\u001b[0m\u001b[1;33m)\u001b[0m\u001b[1;33m\u001b[0m\u001b[0m\n\u001b[0;32m      5\u001b[0m     \u001b[0mf\u001b[0m\u001b[1;33m.\u001b[0m\u001b[0mclose\u001b[0m\u001b[1;33m(\u001b[0m\u001b[1;33m)\u001b[0m\u001b[1;33m\u001b[0m\u001b[0m\n",
        "\u001b[1;31mNameError\u001b[0m: name 'cancer_variables' is not defined"
       ]
      }
     ],
     "prompt_number": 5
    },
    {
     "cell_type": "code",
     "collapsed": false,
     "input": [
      "pwd"
     ],
     "language": "python",
     "metadata": {},
     "outputs": [
      {
       "metadata": {},
       "output_type": "pyout",
       "prompt_number": 4,
       "text": [
        "u'/data/nrnb01_nobackup/agross/TCGA_methylation/iPython_Notebooks'"
       ]
      }
     ],
     "prompt_number": 4
    },
    {
     "cell_type": "code",
     "collapsed": false,
     "input": [],
     "language": "python",
     "metadata": {},
     "outputs": []
    }
   ],
   "metadata": {}
  }
 ]
}