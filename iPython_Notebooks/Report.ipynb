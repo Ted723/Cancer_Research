{
 "metadata": {
  "name": "",
  "signature": "sha256:eb530523e821a1359288b3e6204814709f3825f24172c39a098609e648425919"
 },
 "nbformat": 3,
 "nbformat_minor": 0,
 "worksheets": [
  {
   "cells": [
    {
     "cell_type": "code",
     "collapsed": false,
     "input": [
      "import re\n",
      "import pandas as pd"
     ],
     "language": "python",
     "metadata": {},
     "outputs": [],
     "prompt_number": 1
    },
    {
     "cell_type": "code",
     "collapsed": false,
     "input": [
      "pwd"
     ],
     "language": "python",
     "metadata": {},
     "outputs": [
      {
       "metadata": {},
       "output_type": "pyout",
       "prompt_number": 6,
       "text": [
        "u'/Users/ted_alejandre/Documents/IdekerLab/Cancer_Research'"
       ]
      }
     ],
     "prompt_number": 6
    },
    {
     "cell_type": "code",
     "collapsed": false,
     "input": [
      "cd /data/nrnb01_nobackup/agross/TCGA_methylation/"
     ],
     "language": "python",
     "metadata": {},
     "outputs": [
      {
       "output_type": "stream",
       "stream": "stdout",
       "text": [
        "/data/nrnb01_nobackup/agross/TCGA_methylation\n"
       ]
      }
     ],
     "prompt_number": 2
    },
    {
     "cell_type": "code",
     "collapsed": false,
     "input": [
      "folders = !ls -d jhu-usc.edu*"
     ],
     "language": "python",
     "metadata": {},
     "outputs": [],
     "prompt_number": 5
    },
    {
     "cell_type": "code",
     "collapsed": false,
     "input": [
      "pull_cancer = lambda f: f.split('_')[1].split('.')[0]\n",
      "cancers = {pull_cancer(f) for f in folders}"
     ],
     "language": "python",
     "metadata": {},
     "outputs": [],
     "prompt_number": 6
    },
    {
     "cell_type": "heading",
     "level": 1,
     "metadata": {},
     "source": [
      "<b>Data Description</b>"
     ]
    },
    {
     "cell_type": "markdown",
     "metadata": {},
     "source": [
      "* Out of 33 cancers, three (LGG, LAML, and )were intially \n",
      "rejected due to format inconsistencies on the TCGA website\n"
     ]
    },
    {
     "cell_type": "markdown",
     "metadata": {},
     "source": [
      "* Number of 450k raw idat files counted and listed by cancer_subtype"
     ]
    },
    {
     "cell_type": "markdown",
     "metadata": {},
     "source": [
      "* Using Bioconductor's Minfi package, the detection p values of the metyhlation data per cancer were determined using quantile preprocessing methods"
     ]
    },
    {
     "cell_type": "markdown",
     "metadata": {},
     "source": [
      "* Based on a filter criteria of (> 0.5 for p values) ??? , the following cancer types data were eliminated from analysis"
     ]
    },
    {
     "cell_type": "code",
     "collapsed": false,
     "input": [
      "def count_idat():\n",
      "    for cancer in cancers:\n",
      "        count = !find $cancer -type f -name \"*idat\" | wc -l \n",
      "        print cancer + \" cancer subtype has \" + \\\n",
      "              str(int(re.search(r'\\d+', str(count)).group())) + \\\n",
      "              \" idat files available.\"    "
     ],
     "language": "python",
     "metadata": {},
     "outputs": [],
     "prompt_number": 7
    },
    {
     "cell_type": "markdown",
     "metadata": {},
     "source": [
      "<b># of idat files per cancer subtype</b>"
     ]
    },
    {
     "cell_type": "code",
     "collapsed": false,
     "input": [
      "count_idat()"
     ],
     "language": "python",
     "metadata": {},
     "outputs": [
      {
       "output_type": "stream",
       "stream": "stdout",
       "text": [
        "ACC cancer subtype has 162 idat files available.\n"
       ]
      },
      {
       "output_type": "stream",
       "stream": "stdout",
       "text": [
        "DLBC cancer subtype has 106 idat files available.\n"
       ]
      },
      {
       "output_type": "stream",
       "stream": "stdout",
       "text": [
        "READ cancer subtype has 226 idat files available.\n"
       ]
      },
      {
       "output_type": "stream",
       "stream": "stdout",
       "text": [
        "THCA cancer subtype has 1176 idat files available.\n"
       ]
      },
      {
       "output_type": "stream",
       "stream": "stdout",
       "text": [
        "BLCA cancer subtype has 928 idat files available.\n"
       ]
      },
      {
       "output_type": "stream",
       "stream": "stdout",
       "text": [
        "UCEC cancer subtype has 1016 idat files available.\n"
       ]
      },
      {
       "output_type": "stream",
       "stream": "stdout",
       "text": [
        "PCPG cancer subtype has 378 idat files available.\n"
       ]
      },
      {
       "output_type": "stream",
       "stream": "stdout",
       "text": [
        "CESC cancer subtype has 664 idat files available.\n"
       ]
      },
      {
       "output_type": "stream",
       "stream": "stdout",
       "text": [
        "UCS cancer subtype has 116 idat files available.\n"
       ]
      },
      {
       "output_type": "stream",
       "stream": "stdout",
       "text": [
        "THYM cancer subtype has 256 idat files available.\n"
       ]
      },
      {
       "output_type": "stream",
       "stream": "stdout",
       "text": [
        "LIHC cancer subtype has 900 idat files available.\n"
       ]
      },
      {
       "output_type": "stream",
       "stream": "stdout",
       "text": [
        "CHOL cancer subtype has 92 idat files available.\n"
       ]
      },
      {
       "output_type": "stream",
       "stream": "stdout",
       "text": [
        "HNSC cancer subtype has 1196 idat files available.\n"
       ]
      },
      {
       "output_type": "stream",
       "stream": "stdout",
       "text": [
        "UVM cancer subtype has 162 idat files available.\n"
       ]
      },
      {
       "output_type": "stream",
       "stream": "stdout",
       "text": [
        "SKCM cancer subtype has 986 idat files available.\n"
       ]
      },
      {
       "output_type": "stream",
       "stream": "stdout",
       "text": [
        "COAD cancer subtype has 736 idat files available.\n"
       ]
      },
      {
       "output_type": "stream",
       "stream": "stdout",
       "text": [
        "LUAD cancer subtype has 1050 idat files available.\n"
       ]
      },
      {
       "output_type": "stream",
       "stream": "stdout",
       "text": [
        "TGCT cancer subtype has 316 idat files available.\n"
       ]
      },
      {
       "output_type": "stream",
       "stream": "stdout",
       "text": [
        "LUSC cancer subtype has 864 idat files available.\n"
       ]
      },
      {
       "output_type": "stream",
       "stream": "stdout",
       "text": [
        "MESO cancer subtype has 178 idat files available.\n"
       ]
      },
      {
       "output_type": "stream",
       "stream": "stdout",
       "text": [
        "KIRC cancer subtype has 992 idat files available.\n"
       ]
      },
      {
       "output_type": "stream",
       "stream": "stdout",
       "text": [
        "ESCA cancer subtype has 424 idat files available.\n"
       ]
      },
      {
       "output_type": "stream",
       "stream": "stdout",
       "text": [
        "SARC cancer subtype has 570 idat files available.\n"
       ]
      },
      {
       "output_type": "stream",
       "stream": "stdout",
       "text": [
        "KIRP cancer subtype has 672 idat files available.\n"
       ]
      },
      {
       "output_type": "stream",
       "stream": "stdout",
       "text": [
        "STAD cancer subtype has 826 idat files available.\n"
       ]
      },
      {
       "output_type": "stream",
       "stream": "stdout",
       "text": [
        "PRAD cancer subtype has 1146 idat files available.\n"
       ]
      },
      {
       "output_type": "stream",
       "stream": "stdout",
       "text": [
        "PAAD cancer subtype has 414 idat files available.\n"
       ]
      },
      {
       "output_type": "stream",
       "stream": "stdout",
       "text": [
        "BRCA cancer subtype has 1826 idat files available.\n"
       ]
      },
      {
       "output_type": "stream",
       "stream": "stdout",
       "text": [
        "OV cancer subtype has 22 idat files available.\n"
       ]
      },
      {
       "output_type": "stream",
       "stream": "stdout",
       "text": [
        "KICH cancer subtype has 134 idat files available.\n"
       ]
      }
     ],
     "prompt_number": 12
    },
    {
     "cell_type": "markdown",
     "metadata": {},
     "source": [
      "<b>CSVs of all Minfi R Outputs for Each Cancer Subtype<b>"
     ]
    },
    {
     "cell_type": "code",
     "collapsed": false,
     "input": [
      "for cancer in cancer:\n",
      "    cancer = !cat $cancer\n",
      "    print cancer "
     ],
     "language": "python",
     "metadata": {},
     "outputs": []
    },
    {
     "cell_type": "code",
     "collapsed": false,
     "input": [
      "cd ../Minfi_Output/"
     ],
     "language": "python",
     "metadata": {},
     "outputs": [
      {
       "output_type": "stream",
       "stream": "stdout",
       "text": [
        "/data/nrnb01_nobackup/agross/TCGA_methylation/Minfi_Output\n"
       ]
      }
     ],
     "prompt_number": 4
    },
    {
     "cell_type": "code",
     "collapsed": false,
     "input": [
      "ls"
     ],
     "language": "python",
     "metadata": {},
     "outputs": [
      {
       "output_type": "stream",
       "stream": "stdout",
       "text": [
        "ACC_dp.csv     COAD_dp.csv    LUSC_dp.csv    PRAD_dp.csv    THYM_dp.csv\r\n",
        "ACC_mset.csv   COAD_mset.csv  LUSC_mset.csv  PRAD_mset.csv  THYM_mset.csv\r\n",
        "BLCA_dp.csv    DLBC_dp.csv    MESO_dp.csv    READ_dp.csv    UCEC_dp.csv\r\n",
        "BLCA_mset.csv  DLBC_mset.csv  MESO_mset.csv  READ_mset.csv  UCEC_mset.csv\r\n",
        "BRCA_dp.csv    ESCA_dp.csv    OV_dp.csv      SARC_dp.csv    UCS_dp.csv\r\n",
        "BRCA_mset.csv  ESCA_mset.csv  OV_mset.csv    SARC_mset.csv  UCS_mset.csv\r\n",
        "CESC_dp.csv    HNSC_dp.csv    PAAD_dp.csv    SKCM_dp.csv    UVM_dp.csv\r\n",
        "CESC_mset.csv  HNSC_mset.csv  PAAD_mset.csv  SKCM_mset.csv  UVM_mset.csv\r\n",
        "CHOL_dp.csv    LUAD_dp.csv    PCPG_dp.csv    STAD_dp.csv\r\n",
        "CHOL_mset.csv  LUAD_mset.csv  PCPG_mset.csv  STAD_mset.csv\r\n"
       ]
      }
     ],
     "prompt_number": 5
    },
    {
     "cell_type": "code",
     "collapsed": false,
     "input": [
      "acc_dp = pd.read_csv('ACC_dp.csv')\n",
      "acc_dp.head()"
     ],
     "language": "python",
     "metadata": {},
     "outputs": [
      {
       "ename": "IOError",
       "evalue": "File ACC_dp.csv does not exist",
       "output_type": "pyerr",
       "traceback": [
        "\u001b[1;31m---------------------------------------------------------------------------\u001b[0m\n\u001b[1;31mIOError\u001b[0m                                   Traceback (most recent call last)",
        "\u001b[1;32m<ipython-input-2-702c04d8765e>\u001b[0m in \u001b[0;36m<module>\u001b[1;34m()\u001b[0m\n\u001b[1;32m----> 1\u001b[1;33m \u001b[0macc_dp\u001b[0m \u001b[1;33m=\u001b[0m \u001b[0mpd\u001b[0m\u001b[1;33m.\u001b[0m\u001b[0mread_csv\u001b[0m\u001b[1;33m(\u001b[0m\u001b[1;34m'ACC_dp.csv'\u001b[0m\u001b[1;33m)\u001b[0m\u001b[1;33m\u001b[0m\u001b[0m\n\u001b[0m\u001b[0;32m      2\u001b[0m \u001b[0macc_dp\u001b[0m\u001b[1;33m.\u001b[0m\u001b[0mhead\u001b[0m\u001b[1;33m(\u001b[0m\u001b[1;33m)\u001b[0m\u001b[1;33m\u001b[0m\u001b[0m\n",
        "\u001b[1;32m/cellar/users/talejand/anaconda/lib/python2.7/site-packages/pandas/io/parsers.pyc\u001b[0m in \u001b[0;36mparser_f\u001b[1;34m(filepath_or_buffer, sep, dialect, compression, doublequote, escapechar, quotechar, quoting, skipinitialspace, lineterminator, header, index_col, names, prefix, skiprows, skipfooter, skip_footer, na_values, na_fvalues, true_values, false_values, delimiter, converters, dtype, usecols, engine, delim_whitespace, as_recarray, na_filter, compact_ints, use_unsigned, low_memory, buffer_lines, warn_bad_lines, error_bad_lines, keep_default_na, thousands, comment, decimal, parse_dates, keep_date_col, dayfirst, date_parser, memory_map, nrows, iterator, chunksize, verbose, encoding, squeeze, mangle_dupe_cols, tupleize_cols, infer_datetime_format)\u001b[0m\n\u001b[0;32m    441\u001b[0m                     infer_datetime_format=infer_datetime_format)\n\u001b[0;32m    442\u001b[0m \u001b[1;33m\u001b[0m\u001b[0m\n\u001b[1;32m--> 443\u001b[1;33m         \u001b[1;32mreturn\u001b[0m \u001b[0m_read\u001b[0m\u001b[1;33m(\u001b[0m\u001b[0mfilepath_or_buffer\u001b[0m\u001b[1;33m,\u001b[0m \u001b[0mkwds\u001b[0m\u001b[1;33m)\u001b[0m\u001b[1;33m\u001b[0m\u001b[0m\n\u001b[0m\u001b[0;32m    444\u001b[0m \u001b[1;33m\u001b[0m\u001b[0m\n\u001b[0;32m    445\u001b[0m     \u001b[0mparser_f\u001b[0m\u001b[1;33m.\u001b[0m\u001b[0m__name__\u001b[0m \u001b[1;33m=\u001b[0m \u001b[0mname\u001b[0m\u001b[1;33m\u001b[0m\u001b[0m\n",
        "\u001b[1;32m/cellar/users/talejand/anaconda/lib/python2.7/site-packages/pandas/io/parsers.pyc\u001b[0m in \u001b[0;36m_read\u001b[1;34m(filepath_or_buffer, kwds)\u001b[0m\n\u001b[0;32m    226\u001b[0m \u001b[1;33m\u001b[0m\u001b[0m\n\u001b[0;32m    227\u001b[0m     \u001b[1;31m# Create the parser.\u001b[0m\u001b[1;33m\u001b[0m\u001b[1;33m\u001b[0m\u001b[0m\n\u001b[1;32m--> 228\u001b[1;33m     \u001b[0mparser\u001b[0m \u001b[1;33m=\u001b[0m \u001b[0mTextFileReader\u001b[0m\u001b[1;33m(\u001b[0m\u001b[0mfilepath_or_buffer\u001b[0m\u001b[1;33m,\u001b[0m \u001b[1;33m**\u001b[0m\u001b[0mkwds\u001b[0m\u001b[1;33m)\u001b[0m\u001b[1;33m\u001b[0m\u001b[0m\n\u001b[0m\u001b[0;32m    229\u001b[0m \u001b[1;33m\u001b[0m\u001b[0m\n\u001b[0;32m    230\u001b[0m     \u001b[1;32mif\u001b[0m \u001b[0mnrows\u001b[0m \u001b[1;32mis\u001b[0m \u001b[1;32mnot\u001b[0m \u001b[0mNone\u001b[0m\u001b[1;33m:\u001b[0m\u001b[1;33m\u001b[0m\u001b[0m\n",
        "\u001b[1;32m/cellar/users/talejand/anaconda/lib/python2.7/site-packages/pandas/io/parsers.pyc\u001b[0m in \u001b[0;36m__init__\u001b[1;34m(self, f, engine, **kwds)\u001b[0m\n\u001b[0;32m    531\u001b[0m             \u001b[0mself\u001b[0m\u001b[1;33m.\u001b[0m\u001b[0moptions\u001b[0m\u001b[1;33m[\u001b[0m\u001b[1;34m'has_index_names'\u001b[0m\u001b[1;33m]\u001b[0m \u001b[1;33m=\u001b[0m \u001b[0mkwds\u001b[0m\u001b[1;33m[\u001b[0m\u001b[1;34m'has_index_names'\u001b[0m\u001b[1;33m]\u001b[0m\u001b[1;33m\u001b[0m\u001b[0m\n\u001b[0;32m    532\u001b[0m \u001b[1;33m\u001b[0m\u001b[0m\n\u001b[1;32m--> 533\u001b[1;33m         \u001b[0mself\u001b[0m\u001b[1;33m.\u001b[0m\u001b[0m_make_engine\u001b[0m\u001b[1;33m(\u001b[0m\u001b[0mself\u001b[0m\u001b[1;33m.\u001b[0m\u001b[0mengine\u001b[0m\u001b[1;33m)\u001b[0m\u001b[1;33m\u001b[0m\u001b[0m\n\u001b[0m\u001b[0;32m    534\u001b[0m \u001b[1;33m\u001b[0m\u001b[0m\n\u001b[0;32m    535\u001b[0m     \u001b[1;32mdef\u001b[0m \u001b[0m_get_options_with_defaults\u001b[0m\u001b[1;33m(\u001b[0m\u001b[0mself\u001b[0m\u001b[1;33m,\u001b[0m \u001b[0mengine\u001b[0m\u001b[1;33m)\u001b[0m\u001b[1;33m:\u001b[0m\u001b[1;33m\u001b[0m\u001b[0m\n",
        "\u001b[1;32m/cellar/users/talejand/anaconda/lib/python2.7/site-packages/pandas/io/parsers.pyc\u001b[0m in \u001b[0;36m_make_engine\u001b[1;34m(self, engine)\u001b[0m\n\u001b[0;32m    668\u001b[0m     \u001b[1;32mdef\u001b[0m \u001b[0m_make_engine\u001b[0m\u001b[1;33m(\u001b[0m\u001b[0mself\u001b[0m\u001b[1;33m,\u001b[0m \u001b[0mengine\u001b[0m\u001b[1;33m=\u001b[0m\u001b[1;34m'c'\u001b[0m\u001b[1;33m)\u001b[0m\u001b[1;33m:\u001b[0m\u001b[1;33m\u001b[0m\u001b[0m\n\u001b[0;32m    669\u001b[0m         \u001b[1;32mif\u001b[0m \u001b[0mengine\u001b[0m \u001b[1;33m==\u001b[0m \u001b[1;34m'c'\u001b[0m\u001b[1;33m:\u001b[0m\u001b[1;33m\u001b[0m\u001b[0m\n\u001b[1;32m--> 670\u001b[1;33m             \u001b[0mself\u001b[0m\u001b[1;33m.\u001b[0m\u001b[0m_engine\u001b[0m \u001b[1;33m=\u001b[0m \u001b[0mCParserWrapper\u001b[0m\u001b[1;33m(\u001b[0m\u001b[0mself\u001b[0m\u001b[1;33m.\u001b[0m\u001b[0mf\u001b[0m\u001b[1;33m,\u001b[0m \u001b[1;33m**\u001b[0m\u001b[0mself\u001b[0m\u001b[1;33m.\u001b[0m\u001b[0moptions\u001b[0m\u001b[1;33m)\u001b[0m\u001b[1;33m\u001b[0m\u001b[0m\n\u001b[0m\u001b[0;32m    671\u001b[0m         \u001b[1;32melse\u001b[0m\u001b[1;33m:\u001b[0m\u001b[1;33m\u001b[0m\u001b[0m\n\u001b[0;32m    672\u001b[0m             \u001b[1;32mif\u001b[0m \u001b[0mengine\u001b[0m \u001b[1;33m==\u001b[0m \u001b[1;34m'python'\u001b[0m\u001b[1;33m:\u001b[0m\u001b[1;33m\u001b[0m\u001b[0m\n",
        "\u001b[1;32m/cellar/users/talejand/anaconda/lib/python2.7/site-packages/pandas/io/parsers.pyc\u001b[0m in \u001b[0;36m__init__\u001b[1;34m(self, src, **kwds)\u001b[0m\n\u001b[0;32m   1030\u001b[0m         \u001b[0mkwds\u001b[0m\u001b[1;33m[\u001b[0m\u001b[1;34m'allow_leading_cols'\u001b[0m\u001b[1;33m]\u001b[0m \u001b[1;33m=\u001b[0m \u001b[0mself\u001b[0m\u001b[1;33m.\u001b[0m\u001b[0mindex_col\u001b[0m \u001b[1;32mis\u001b[0m \u001b[1;32mnot\u001b[0m \u001b[0mFalse\u001b[0m\u001b[1;33m\u001b[0m\u001b[0m\n\u001b[0;32m   1031\u001b[0m \u001b[1;33m\u001b[0m\u001b[0m\n\u001b[1;32m-> 1032\u001b[1;33m         \u001b[0mself\u001b[0m\u001b[1;33m.\u001b[0m\u001b[0m_reader\u001b[0m \u001b[1;33m=\u001b[0m \u001b[0m_parser\u001b[0m\u001b[1;33m.\u001b[0m\u001b[0mTextReader\u001b[0m\u001b[1;33m(\u001b[0m\u001b[0msrc\u001b[0m\u001b[1;33m,\u001b[0m \u001b[1;33m**\u001b[0m\u001b[0mkwds\u001b[0m\u001b[1;33m)\u001b[0m\u001b[1;33m\u001b[0m\u001b[0m\n\u001b[0m\u001b[0;32m   1033\u001b[0m \u001b[1;33m\u001b[0m\u001b[0m\n\u001b[0;32m   1034\u001b[0m         \u001b[1;31m# XXX\u001b[0m\u001b[1;33m\u001b[0m\u001b[1;33m\u001b[0m\u001b[0m\n",
        "\u001b[1;32m/cellar/users/talejand/anaconda/lib/python2.7/site-packages/pandas/parser.so\u001b[0m in \u001b[0;36mpandas.parser.TextReader.__cinit__ (pandas/parser.c:3213)\u001b[1;34m()\u001b[0m\n",
        "\u001b[1;32m/cellar/users/talejand/anaconda/lib/python2.7/site-packages/pandas/parser.so\u001b[0m in \u001b[0;36mpandas.parser.TextReader._setup_parser_source (pandas/parser.c:5595)\u001b[1;34m()\u001b[0m\n",
        "\u001b[1;31mIOError\u001b[0m: File ACC_dp.csv does not exist"
       ]
      }
     ],
     "prompt_number": 2
    },
    {
     "cell_type": "code",
     "collapsed": false,
     "input": [
      "acc_mset = pd.read_csv('ACC_mset.csv')\n",
      "acc_mset.head()"
     ],
     "language": "python",
     "metadata": {},
     "outputs": [
      {
       "html": [
        "<div style=\"max-height:1000px;max-width:1500px;overflow:auto;\">\n",
        "<table border=\"1\" class=\"dataframe\">\n",
        "  <thead>\n",
        "    <tr style=\"text-align: right;\">\n",
        "      <th></th>\n",
        "      <th>Unnamed: 0</th>\n",
        "      <th>9283265010_R01C01</th>\n",
        "      <th>9283265010_R02C01</th>\n",
        "      <th>9283265010_R03C01</th>\n",
        "      <th>9283265010_R04C01</th>\n",
        "      <th>9283265010_R05C01</th>\n",
        "      <th>9283265010_R06C01</th>\n",
        "      <th>9283265010_R01C02</th>\n",
        "      <th>9283265010_R02C02</th>\n",
        "      <th>9283265010_R03C02</th>\n",
        "      <th>...</th>\n",
        "      <th>9283265058_R06C01</th>\n",
        "      <th>9283265058_R01C02</th>\n",
        "      <th>9283265058_R02C02</th>\n",
        "      <th>9283265058_R03C02</th>\n",
        "      <th>9283265012_R02C02</th>\n",
        "      <th>9283265025_R01C01</th>\n",
        "      <th>9283265026_R01C01</th>\n",
        "      <th>9283265027_R05C01</th>\n",
        "      <th>9283265046_R02C02</th>\n",
        "      <th>9283265058_R05C01</th>\n",
        "    </tr>\n",
        "  </thead>\n",
        "  <tbody>\n",
        "    <tr>\n",
        "      <th>0</th>\n",
        "      <td> cg13869341</td>\n",
        "      <td> 0.838821</td>\n",
        "      <td> 0.860483</td>\n",
        "      <td> 0.885606</td>\n",
        "      <td> 0.856034</td>\n",
        "      <td> 0.826106</td>\n",
        "      <td> 0.901290</td>\n",
        "      <td> 0.791481</td>\n",
        "      <td> 0.863729</td>\n",
        "      <td> 0.838324</td>\n",
        "      <td>...</td>\n",
        "      <td> 0.765319</td>\n",
        "      <td> 0.878457</td>\n",
        "      <td> 0.878334</td>\n",
        "      <td> 0.845417</td>\n",
        "      <td> 0.838542</td>\n",
        "      <td> 0.861572</td>\n",
        "      <td> 0.772519</td>\n",
        "      <td> 0.841664</td>\n",
        "      <td> 0.854355</td>\n",
        "      <td> 0.843802</td>\n",
        "    </tr>\n",
        "    <tr>\n",
        "      <th>1</th>\n",
        "      <td> cg14008030</td>\n",
        "      <td> 0.754150</td>\n",
        "      <td> 0.644770</td>\n",
        "      <td> 0.730299</td>\n",
        "      <td> 0.771222</td>\n",
        "      <td> 0.584768</td>\n",
        "      <td> 0.761874</td>\n",
        "      <td> 0.760869</td>\n",
        "      <td> 0.724012</td>\n",
        "      <td> 0.715404</td>\n",
        "      <td>...</td>\n",
        "      <td> 0.672610</td>\n",
        "      <td> 0.692130</td>\n",
        "      <td> 0.706583</td>\n",
        "      <td> 0.761055</td>\n",
        "      <td> 0.771221</td>\n",
        "      <td> 0.745781</td>\n",
        "      <td> 0.794315</td>\n",
        "      <td> 0.714708</td>\n",
        "      <td> 0.659787</td>\n",
        "      <td> 0.773897</td>\n",
        "    </tr>\n",
        "    <tr>\n",
        "      <th>2</th>\n",
        "      <td> cg12045430</td>\n",
        "      <td> 0.233321</td>\n",
        "      <td> 0.134562</td>\n",
        "      <td> 0.292089</td>\n",
        "      <td> 0.280681</td>\n",
        "      <td> 0.303479</td>\n",
        "      <td> 0.145047</td>\n",
        "      <td> 0.279082</td>\n",
        "      <td> 0.201869</td>\n",
        "      <td> 0.262386</td>\n",
        "      <td>...</td>\n",
        "      <td> 0.197561</td>\n",
        "      <td> 0.144507</td>\n",
        "      <td> 0.211956</td>\n",
        "      <td> 0.359202</td>\n",
        "      <td> 0.190878</td>\n",
        "      <td> 0.175772</td>\n",
        "      <td> 0.260610</td>\n",
        "      <td> 0.150400</td>\n",
        "      <td> 0.196654</td>\n",
        "      <td> 0.275417</td>\n",
        "    </tr>\n",
        "    <tr>\n",
        "      <th>3</th>\n",
        "      <td> cg20826792</td>\n",
        "      <td> 0.362271</td>\n",
        "      <td> 0.464021</td>\n",
        "      <td> 0.473111</td>\n",
        "      <td> 0.613353</td>\n",
        "      <td> 0.584091</td>\n",
        "      <td> 0.524802</td>\n",
        "      <td> 0.456538</td>\n",
        "      <td> 0.518891</td>\n",
        "      <td> 0.538791</td>\n",
        "      <td>...</td>\n",
        "      <td> 0.448983</td>\n",
        "      <td> 0.432621</td>\n",
        "      <td> 0.505079</td>\n",
        "      <td> 0.521802</td>\n",
        "      <td> 0.481197</td>\n",
        "      <td> 0.423700</td>\n",
        "      <td> 0.412175</td>\n",
        "      <td> 0.540226</td>\n",
        "      <td> 0.434668</td>\n",
        "      <td> 0.457351</td>\n",
        "    </tr>\n",
        "    <tr>\n",
        "      <th>4</th>\n",
        "      <td> cg00381604</td>\n",
        "      <td> 0.151602</td>\n",
        "      <td> 0.140310</td>\n",
        "      <td> 0.195156</td>\n",
        "      <td> 0.291057</td>\n",
        "      <td> 0.163177</td>\n",
        "      <td> 0.117262</td>\n",
        "      <td> 0.104102</td>\n",
        "      <td> 0.133798</td>\n",
        "      <td> 0.135624</td>\n",
        "      <td>...</td>\n",
        "      <td> 0.150964</td>\n",
        "      <td> 0.111576</td>\n",
        "      <td> 0.165191</td>\n",
        "      <td> 0.161239</td>\n",
        "      <td> 0.120688</td>\n",
        "      <td> 0.116291</td>\n",
        "      <td> 0.072256</td>\n",
        "      <td> 0.207162</td>\n",
        "      <td> 0.125874</td>\n",
        "      <td> 0.139632</td>\n",
        "    </tr>\n",
        "  </tbody>\n",
        "</table>\n",
        "<p>5 rows \u00d7 82 columns</p>\n",
        "</div>"
       ],
       "metadata": {},
       "output_type": "pyout",
       "prompt_number": 6,
       "text": [
        "   Unnamed: 0  9283265010_R01C01  9283265010_R02C01  9283265010_R03C01  \\\n",
        "0  cg13869341           0.838821           0.860483           0.885606   \n",
        "1  cg14008030           0.754150           0.644770           0.730299   \n",
        "2  cg12045430           0.233321           0.134562           0.292089   \n",
        "3  cg20826792           0.362271           0.464021           0.473111   \n",
        "4  cg00381604           0.151602           0.140310           0.195156   \n",
        "\n",
        "   9283265010_R04C01  9283265010_R05C01  9283265010_R06C01  9283265010_R01C02  \\\n",
        "0           0.856034           0.826106           0.901290           0.791481   \n",
        "1           0.771222           0.584768           0.761874           0.760869   \n",
        "2           0.280681           0.303479           0.145047           0.279082   \n",
        "3           0.613353           0.584091           0.524802           0.456538   \n",
        "4           0.291057           0.163177           0.117262           0.104102   \n",
        "\n",
        "   9283265010_R02C02  9283265010_R03C02        ...          9283265058_R06C01  \\\n",
        "0           0.863729           0.838324        ...                   0.765319   \n",
        "1           0.724012           0.715404        ...                   0.672610   \n",
        "2           0.201869           0.262386        ...                   0.197561   \n",
        "3           0.518891           0.538791        ...                   0.448983   \n",
        "4           0.133798           0.135624        ...                   0.150964   \n",
        "\n",
        "   9283265058_R01C02  9283265058_R02C02  9283265058_R03C02  9283265012_R02C02  \\\n",
        "0           0.878457           0.878334           0.845417           0.838542   \n",
        "1           0.692130           0.706583           0.761055           0.771221   \n",
        "2           0.144507           0.211956           0.359202           0.190878   \n",
        "3           0.432621           0.505079           0.521802           0.481197   \n",
        "4           0.111576           0.165191           0.161239           0.120688   \n",
        "\n",
        "   9283265025_R01C01  9283265026_R01C01  9283265027_R05C01  9283265046_R02C02  \\\n",
        "0           0.861572           0.772519           0.841664           0.854355   \n",
        "1           0.745781           0.794315           0.714708           0.659787   \n",
        "2           0.175772           0.260610           0.150400           0.196654   \n",
        "3           0.423700           0.412175           0.540226           0.434668   \n",
        "4           0.116291           0.072256           0.207162           0.125874   \n",
        "\n",
        "   9283265058_R05C01  \n",
        "0           0.843802  \n",
        "1           0.773897  \n",
        "2           0.275417  \n",
        "3           0.457351  \n",
        "4           0.139632  \n",
        "\n",
        "[5 rows x 82 columns]"
       ]
      }
     ],
     "prompt_number": 6
    },
    {
     "cell_type": "code",
     "collapsed": false,
     "input": [
      "result = pd.merge(acc_mapping,acc_mset, on= 'barcode')\n",
      "result"
     ],
     "language": "python",
     "metadata": {},
     "outputs": [
      {
       "ename": "KeyError",
       "evalue": "'barcode'",
       "output_type": "pyerr",
       "traceback": [
        "\u001b[1;31m---------------------------------------------------------------------------\u001b[0m\n\u001b[1;31mKeyError\u001b[0m                                  Traceback (most recent call last)",
        "\u001b[1;32m<ipython-input-24-11c074c2021a>\u001b[0m in \u001b[0;36m<module>\u001b[1;34m()\u001b[0m\n\u001b[1;32m----> 1\u001b[1;33m \u001b[0mresult\u001b[0m \u001b[1;33m=\u001b[0m \u001b[0mpd\u001b[0m\u001b[1;33m.\u001b[0m\u001b[0mmerge\u001b[0m\u001b[1;33m(\u001b[0m\u001b[0macc_mapping\u001b[0m\u001b[1;33m,\u001b[0m\u001b[0macc_mset\u001b[0m\u001b[1;33m,\u001b[0m \u001b[0mon\u001b[0m\u001b[1;33m=\u001b[0m \u001b[1;34m'barcode'\u001b[0m\u001b[1;33m)\u001b[0m\u001b[1;33m\u001b[0m\u001b[0m\n\u001b[0m\u001b[0;32m      2\u001b[0m \u001b[0mresult\u001b[0m\u001b[1;33m\u001b[0m\u001b[0m\n",
        "\u001b[1;32m/cellar/users/talejand/anaconda/lib/python2.7/site-packages/pandas/tools/merge.pyc\u001b[0m in \u001b[0;36mmerge\u001b[1;34m(left, right, how, on, left_on, right_on, left_index, right_index, sort, suffixes, copy)\u001b[0m\n\u001b[0;32m     36\u001b[0m                          \u001b[0mright_on\u001b[0m\u001b[1;33m=\u001b[0m\u001b[0mright_on\u001b[0m\u001b[1;33m,\u001b[0m \u001b[0mleft_index\u001b[0m\u001b[1;33m=\u001b[0m\u001b[0mleft_index\u001b[0m\u001b[1;33m,\u001b[0m\u001b[1;33m\u001b[0m\u001b[0m\n\u001b[0;32m     37\u001b[0m                          \u001b[0mright_index\u001b[0m\u001b[1;33m=\u001b[0m\u001b[0mright_index\u001b[0m\u001b[1;33m,\u001b[0m \u001b[0msort\u001b[0m\u001b[1;33m=\u001b[0m\u001b[0msort\u001b[0m\u001b[1;33m,\u001b[0m \u001b[0msuffixes\u001b[0m\u001b[1;33m=\u001b[0m\u001b[0msuffixes\u001b[0m\u001b[1;33m,\u001b[0m\u001b[1;33m\u001b[0m\u001b[0m\n\u001b[1;32m---> 38\u001b[1;33m                          copy=copy)\n\u001b[0m\u001b[0;32m     39\u001b[0m     \u001b[1;32mreturn\u001b[0m \u001b[0mop\u001b[0m\u001b[1;33m.\u001b[0m\u001b[0mget_result\u001b[0m\u001b[1;33m(\u001b[0m\u001b[1;33m)\u001b[0m\u001b[1;33m\u001b[0m\u001b[0m\n\u001b[0;32m     40\u001b[0m \u001b[1;32mif\u001b[0m \u001b[0m__debug__\u001b[0m\u001b[1;33m:\u001b[0m\u001b[1;33m\u001b[0m\u001b[0m\n",
        "\u001b[1;32m/cellar/users/talejand/anaconda/lib/python2.7/site-packages/pandas/tools/merge.pyc\u001b[0m in \u001b[0;36m__init__\u001b[1;34m(self, left, right, how, on, left_on, right_on, axis, left_index, right_index, sort, suffixes, copy)\u001b[0m\n\u001b[0;32m    180\u001b[0m         (self.left_join_keys,\n\u001b[0;32m    181\u001b[0m          \u001b[0mself\u001b[0m\u001b[1;33m.\u001b[0m\u001b[0mright_join_keys\u001b[0m\u001b[1;33m,\u001b[0m\u001b[1;33m\u001b[0m\u001b[0m\n\u001b[1;32m--> 182\u001b[1;33m          self.join_names) = self._get_merge_keys()\n\u001b[0m\u001b[0;32m    183\u001b[0m \u001b[1;33m\u001b[0m\u001b[0m\n\u001b[0;32m    184\u001b[0m     \u001b[1;32mdef\u001b[0m \u001b[0mget_result\u001b[0m\u001b[1;33m(\u001b[0m\u001b[0mself\u001b[0m\u001b[1;33m)\u001b[0m\u001b[1;33m:\u001b[0m\u001b[1;33m\u001b[0m\u001b[0m\n",
        "\u001b[1;32m/cellar/users/talejand/anaconda/lib/python2.7/site-packages/pandas/tools/merge.pyc\u001b[0m in \u001b[0;36m_get_merge_keys\u001b[1;34m(self)\u001b[0m\n\u001b[0;32m    337\u001b[0m                 \u001b[1;32melse\u001b[0m\u001b[1;33m:\u001b[0m\u001b[1;33m\u001b[0m\u001b[0m\n\u001b[0;32m    338\u001b[0m                     \u001b[1;32mif\u001b[0m \u001b[1;32mnot\u001b[0m \u001b[0mis_rkey\u001b[0m\u001b[1;33m(\u001b[0m\u001b[0mrk\u001b[0m\u001b[1;33m)\u001b[0m\u001b[1;33m:\u001b[0m\u001b[1;33m\u001b[0m\u001b[0m\n\u001b[1;32m--> 339\u001b[1;33m                         \u001b[0mright_keys\u001b[0m\u001b[1;33m.\u001b[0m\u001b[0mappend\u001b[0m\u001b[1;33m(\u001b[0m\u001b[0mright\u001b[0m\u001b[1;33m[\u001b[0m\u001b[0mrk\u001b[0m\u001b[1;33m]\u001b[0m\u001b[1;33m.\u001b[0m\u001b[0mvalues\u001b[0m\u001b[1;33m)\u001b[0m\u001b[1;33m\u001b[0m\u001b[0m\n\u001b[0m\u001b[0;32m    340\u001b[0m                         \u001b[1;32mif\u001b[0m \u001b[0mlk\u001b[0m \u001b[1;33m==\u001b[0m \u001b[0mrk\u001b[0m\u001b[1;33m:\u001b[0m\u001b[1;33m\u001b[0m\u001b[0m\n\u001b[0;32m    341\u001b[0m                             \u001b[1;31m# avoid key upcast in corner case (length-0)\u001b[0m\u001b[1;33m\u001b[0m\u001b[1;33m\u001b[0m\u001b[0m\n",
        "\u001b[1;32m/cellar/users/talejand/anaconda/lib/python2.7/site-packages/pandas/core/frame.pyc\u001b[0m in \u001b[0;36m__getitem__\u001b[1;34m(self, key)\u001b[0m\n\u001b[0;32m   1682\u001b[0m             \u001b[1;32mreturn\u001b[0m \u001b[0mself\u001b[0m\u001b[1;33m.\u001b[0m\u001b[0m_getitem_multilevel\u001b[0m\u001b[1;33m(\u001b[0m\u001b[0mkey\u001b[0m\u001b[1;33m)\u001b[0m\u001b[1;33m\u001b[0m\u001b[0m\n\u001b[0;32m   1683\u001b[0m         \u001b[1;32melse\u001b[0m\u001b[1;33m:\u001b[0m\u001b[1;33m\u001b[0m\u001b[0m\n\u001b[1;32m-> 1684\u001b[1;33m             \u001b[1;32mreturn\u001b[0m \u001b[0mself\u001b[0m\u001b[1;33m.\u001b[0m\u001b[0m_getitem_column\u001b[0m\u001b[1;33m(\u001b[0m\u001b[0mkey\u001b[0m\u001b[1;33m)\u001b[0m\u001b[1;33m\u001b[0m\u001b[0m\n\u001b[0m\u001b[0;32m   1685\u001b[0m \u001b[1;33m\u001b[0m\u001b[0m\n\u001b[0;32m   1686\u001b[0m     \u001b[1;32mdef\u001b[0m \u001b[0m_getitem_column\u001b[0m\u001b[1;33m(\u001b[0m\u001b[0mself\u001b[0m\u001b[1;33m,\u001b[0m \u001b[0mkey\u001b[0m\u001b[1;33m)\u001b[0m\u001b[1;33m:\u001b[0m\u001b[1;33m\u001b[0m\u001b[0m\n",
        "\u001b[1;32m/cellar/users/talejand/anaconda/lib/python2.7/site-packages/pandas/core/frame.pyc\u001b[0m in \u001b[0;36m_getitem_column\u001b[1;34m(self, key)\u001b[0m\n\u001b[0;32m   1689\u001b[0m         \u001b[1;31m# get column\u001b[0m\u001b[1;33m\u001b[0m\u001b[1;33m\u001b[0m\u001b[0m\n\u001b[0;32m   1690\u001b[0m         \u001b[1;32mif\u001b[0m \u001b[0mself\u001b[0m\u001b[1;33m.\u001b[0m\u001b[0mcolumns\u001b[0m\u001b[1;33m.\u001b[0m\u001b[0mis_unique\u001b[0m\u001b[1;33m:\u001b[0m\u001b[1;33m\u001b[0m\u001b[0m\n\u001b[1;32m-> 1691\u001b[1;33m             \u001b[1;32mreturn\u001b[0m \u001b[0mself\u001b[0m\u001b[1;33m.\u001b[0m\u001b[0m_get_item_cache\u001b[0m\u001b[1;33m(\u001b[0m\u001b[0mkey\u001b[0m\u001b[1;33m)\u001b[0m\u001b[1;33m\u001b[0m\u001b[0m\n\u001b[0m\u001b[0;32m   1692\u001b[0m \u001b[1;33m\u001b[0m\u001b[0m\n\u001b[0;32m   1693\u001b[0m         \u001b[1;31m# duplicate columns & possible reduce dimensionaility\u001b[0m\u001b[1;33m\u001b[0m\u001b[1;33m\u001b[0m\u001b[0m\n",
        "\u001b[1;32m/cellar/users/talejand/anaconda/lib/python2.7/site-packages/pandas/core/generic.pyc\u001b[0m in \u001b[0;36m_get_item_cache\u001b[1;34m(self, item)\u001b[0m\n\u001b[0;32m   1050\u001b[0m         \u001b[0mres\u001b[0m \u001b[1;33m=\u001b[0m \u001b[0mcache\u001b[0m\u001b[1;33m.\u001b[0m\u001b[0mget\u001b[0m\u001b[1;33m(\u001b[0m\u001b[0mitem\u001b[0m\u001b[1;33m)\u001b[0m\u001b[1;33m\u001b[0m\u001b[0m\n\u001b[0;32m   1051\u001b[0m         \u001b[1;32mif\u001b[0m \u001b[0mres\u001b[0m \u001b[1;32mis\u001b[0m \u001b[0mNone\u001b[0m\u001b[1;33m:\u001b[0m\u001b[1;33m\u001b[0m\u001b[0m\n\u001b[1;32m-> 1052\u001b[1;33m             \u001b[0mvalues\u001b[0m \u001b[1;33m=\u001b[0m \u001b[0mself\u001b[0m\u001b[1;33m.\u001b[0m\u001b[0m_data\u001b[0m\u001b[1;33m.\u001b[0m\u001b[0mget\u001b[0m\u001b[1;33m(\u001b[0m\u001b[0mitem\u001b[0m\u001b[1;33m)\u001b[0m\u001b[1;33m\u001b[0m\u001b[0m\n\u001b[0m\u001b[0;32m   1053\u001b[0m             \u001b[0mres\u001b[0m \u001b[1;33m=\u001b[0m \u001b[0mself\u001b[0m\u001b[1;33m.\u001b[0m\u001b[0m_box_item_values\u001b[0m\u001b[1;33m(\u001b[0m\u001b[0mitem\u001b[0m\u001b[1;33m,\u001b[0m \u001b[0mvalues\u001b[0m\u001b[1;33m)\u001b[0m\u001b[1;33m\u001b[0m\u001b[0m\n\u001b[0;32m   1054\u001b[0m             \u001b[0mcache\u001b[0m\u001b[1;33m[\u001b[0m\u001b[0mitem\u001b[0m\u001b[1;33m]\u001b[0m \u001b[1;33m=\u001b[0m \u001b[0mres\u001b[0m\u001b[1;33m\u001b[0m\u001b[0m\n",
        "\u001b[1;32m/cellar/users/talejand/anaconda/lib/python2.7/site-packages/pandas/core/internals.pyc\u001b[0m in \u001b[0;36mget\u001b[1;34m(self, item)\u001b[0m\n\u001b[0;32m   2535\u001b[0m \u001b[1;33m\u001b[0m\u001b[0m\n\u001b[0;32m   2536\u001b[0m             \u001b[1;32mif\u001b[0m \u001b[1;32mnot\u001b[0m \u001b[0misnull\u001b[0m\u001b[1;33m(\u001b[0m\u001b[0mitem\u001b[0m\u001b[1;33m)\u001b[0m\u001b[1;33m:\u001b[0m\u001b[1;33m\u001b[0m\u001b[0m\n\u001b[1;32m-> 2537\u001b[1;33m                 \u001b[0mloc\u001b[0m \u001b[1;33m=\u001b[0m \u001b[0mself\u001b[0m\u001b[1;33m.\u001b[0m\u001b[0mitems\u001b[0m\u001b[1;33m.\u001b[0m\u001b[0mget_loc\u001b[0m\u001b[1;33m(\u001b[0m\u001b[0mitem\u001b[0m\u001b[1;33m)\u001b[0m\u001b[1;33m\u001b[0m\u001b[0m\n\u001b[0m\u001b[0;32m   2538\u001b[0m             \u001b[1;32melse\u001b[0m\u001b[1;33m:\u001b[0m\u001b[1;33m\u001b[0m\u001b[0m\n\u001b[0;32m   2539\u001b[0m                 \u001b[0mindexer\u001b[0m \u001b[1;33m=\u001b[0m \u001b[0mnp\u001b[0m\u001b[1;33m.\u001b[0m\u001b[0marange\u001b[0m\u001b[1;33m(\u001b[0m\u001b[0mlen\u001b[0m\u001b[1;33m(\u001b[0m\u001b[0mself\u001b[0m\u001b[1;33m.\u001b[0m\u001b[0mitems\u001b[0m\u001b[1;33m)\u001b[0m\u001b[1;33m)\u001b[0m\u001b[1;33m[\u001b[0m\u001b[0misnull\u001b[0m\u001b[1;33m(\u001b[0m\u001b[0mself\u001b[0m\u001b[1;33m.\u001b[0m\u001b[0mitems\u001b[0m\u001b[1;33m)\u001b[0m\u001b[1;33m]\u001b[0m\u001b[1;33m\u001b[0m\u001b[0m\n",
        "\u001b[1;32m/cellar/users/talejand/anaconda/lib/python2.7/site-packages/pandas/core/index.pyc\u001b[0m in \u001b[0;36mget_loc\u001b[1;34m(self, key)\u001b[0m\n\u001b[0;32m   1154\u001b[0m         \u001b[0mloc\u001b[0m \u001b[1;33m:\u001b[0m \u001b[0mint\u001b[0m \u001b[1;32mif\u001b[0m \u001b[0munique\u001b[0m \u001b[0mindex\u001b[0m\u001b[1;33m,\u001b[0m \u001b[0mpossibly\u001b[0m \u001b[0mslice\u001b[0m \u001b[1;32mor\u001b[0m \u001b[0mmask\u001b[0m \u001b[1;32mif\u001b[0m \u001b[1;32mnot\u001b[0m\u001b[1;33m\u001b[0m\u001b[0m\n\u001b[0;32m   1155\u001b[0m         \"\"\"\n\u001b[1;32m-> 1156\u001b[1;33m         \u001b[1;32mreturn\u001b[0m \u001b[0mself\u001b[0m\u001b[1;33m.\u001b[0m\u001b[0m_engine\u001b[0m\u001b[1;33m.\u001b[0m\u001b[0mget_loc\u001b[0m\u001b[1;33m(\u001b[0m\u001b[0m_values_from_object\u001b[0m\u001b[1;33m(\u001b[0m\u001b[0mkey\u001b[0m\u001b[1;33m)\u001b[0m\u001b[1;33m)\u001b[0m\u001b[1;33m\u001b[0m\u001b[0m\n\u001b[0m\u001b[0;32m   1157\u001b[0m \u001b[1;33m\u001b[0m\u001b[0m\n\u001b[0;32m   1158\u001b[0m     \u001b[1;32mdef\u001b[0m \u001b[0mget_value\u001b[0m\u001b[1;33m(\u001b[0m\u001b[0mself\u001b[0m\u001b[1;33m,\u001b[0m \u001b[0mseries\u001b[0m\u001b[1;33m,\u001b[0m \u001b[0mkey\u001b[0m\u001b[1;33m)\u001b[0m\u001b[1;33m:\u001b[0m\u001b[1;33m\u001b[0m\u001b[0m\n",
        "\u001b[1;32m/cellar/users/talejand/anaconda/lib/python2.7/site-packages/pandas/index.so\u001b[0m in \u001b[0;36mpandas.index.IndexEngine.get_loc (pandas/index.c:3650)\u001b[1;34m()\u001b[0m\n",
        "\u001b[1;32m/cellar/users/talejand/anaconda/lib/python2.7/site-packages/pandas/index.so\u001b[0m in \u001b[0;36mpandas.index.IndexEngine.get_loc (pandas/index.c:3528)\u001b[1;34m()\u001b[0m\n",
        "\u001b[1;32m/cellar/users/talejand/anaconda/lib/python2.7/site-packages/pandas/hashtable.so\u001b[0m in \u001b[0;36mpandas.hashtable.PyObjectHashTable.get_item (pandas/hashtable.c:11908)\u001b[1;34m()\u001b[0m\n",
        "\u001b[1;32m/cellar/users/talejand/anaconda/lib/python2.7/site-packages/pandas/hashtable.so\u001b[0m in \u001b[0;36mpandas.hashtable.PyObjectHashTable.get_item (pandas/hashtable.c:11861)\u001b[1;34m()\u001b[0m\n",
        "\u001b[1;31mKeyError\u001b[0m: 'barcode'"
       ]
      }
     ],
     "prompt_number": 24
    },
    {
     "cell_type": "code",
     "collapsed": false,
     "input": [
      "acc_mset.head()"
     ],
     "language": "python",
     "metadata": {},
     "outputs": [
      {
       "html": [
        "<div style=\"max-height:1000px;max-width:1500px;overflow:auto;\">\n",
        "<table border=\"1\" class=\"dataframe\">\n",
        "  <thead>\n",
        "    <tr style=\"text-align: right;\">\n",
        "      <th></th>\n",
        "      <th>Unnamed: 0</th>\n",
        "      <th>9283265010_R01C01</th>\n",
        "      <th>9283265010_R02C01</th>\n",
        "      <th>9283265010_R03C01</th>\n",
        "      <th>9283265010_R04C01</th>\n",
        "      <th>9283265010_R05C01</th>\n",
        "      <th>9283265010_R06C01</th>\n",
        "      <th>9283265010_R01C02</th>\n",
        "      <th>9283265010_R02C02</th>\n",
        "      <th>9283265010_R03C02</th>\n",
        "      <th>...</th>\n",
        "      <th>9283265058_R06C01</th>\n",
        "      <th>9283265058_R01C02</th>\n",
        "      <th>9283265058_R02C02</th>\n",
        "      <th>9283265058_R03C02</th>\n",
        "      <th>9283265012_R02C02</th>\n",
        "      <th>9283265025_R01C01</th>\n",
        "      <th>9283265026_R01C01</th>\n",
        "      <th>9283265027_R05C01</th>\n",
        "      <th>9283265046_R02C02</th>\n",
        "      <th>9283265058_R05C01</th>\n",
        "    </tr>\n",
        "  </thead>\n",
        "  <tbody>\n",
        "    <tr>\n",
        "      <th>0</th>\n",
        "      <td> cg13869341</td>\n",
        "      <td> 0.838821</td>\n",
        "      <td> 0.860483</td>\n",
        "      <td> 0.885606</td>\n",
        "      <td> 0.856034</td>\n",
        "      <td> 0.826106</td>\n",
        "      <td> 0.901290</td>\n",
        "      <td> 0.791481</td>\n",
        "      <td> 0.863729</td>\n",
        "      <td> 0.838324</td>\n",
        "      <td>...</td>\n",
        "      <td> 0.765319</td>\n",
        "      <td> 0.878457</td>\n",
        "      <td> 0.878334</td>\n",
        "      <td> 0.845417</td>\n",
        "      <td> 0.838542</td>\n",
        "      <td> 0.861572</td>\n",
        "      <td> 0.772519</td>\n",
        "      <td> 0.841664</td>\n",
        "      <td> 0.854355</td>\n",
        "      <td> 0.843802</td>\n",
        "    </tr>\n",
        "    <tr>\n",
        "      <th>1</th>\n",
        "      <td> cg14008030</td>\n",
        "      <td> 0.754150</td>\n",
        "      <td> 0.644770</td>\n",
        "      <td> 0.730299</td>\n",
        "      <td> 0.771222</td>\n",
        "      <td> 0.584768</td>\n",
        "      <td> 0.761874</td>\n",
        "      <td> 0.760869</td>\n",
        "      <td> 0.724012</td>\n",
        "      <td> 0.715404</td>\n",
        "      <td>...</td>\n",
        "      <td> 0.672610</td>\n",
        "      <td> 0.692130</td>\n",
        "      <td> 0.706583</td>\n",
        "      <td> 0.761055</td>\n",
        "      <td> 0.771221</td>\n",
        "      <td> 0.745781</td>\n",
        "      <td> 0.794315</td>\n",
        "      <td> 0.714708</td>\n",
        "      <td> 0.659787</td>\n",
        "      <td> 0.773897</td>\n",
        "    </tr>\n",
        "    <tr>\n",
        "      <th>2</th>\n",
        "      <td> cg12045430</td>\n",
        "      <td> 0.233321</td>\n",
        "      <td> 0.134562</td>\n",
        "      <td> 0.292089</td>\n",
        "      <td> 0.280681</td>\n",
        "      <td> 0.303479</td>\n",
        "      <td> 0.145047</td>\n",
        "      <td> 0.279082</td>\n",
        "      <td> 0.201869</td>\n",
        "      <td> 0.262386</td>\n",
        "      <td>...</td>\n",
        "      <td> 0.197561</td>\n",
        "      <td> 0.144507</td>\n",
        "      <td> 0.211956</td>\n",
        "      <td> 0.359202</td>\n",
        "      <td> 0.190878</td>\n",
        "      <td> 0.175772</td>\n",
        "      <td> 0.260610</td>\n",
        "      <td> 0.150400</td>\n",
        "      <td> 0.196654</td>\n",
        "      <td> 0.275417</td>\n",
        "    </tr>\n",
        "    <tr>\n",
        "      <th>3</th>\n",
        "      <td> cg20826792</td>\n",
        "      <td> 0.362271</td>\n",
        "      <td> 0.464021</td>\n",
        "      <td> 0.473111</td>\n",
        "      <td> 0.613353</td>\n",
        "      <td> 0.584091</td>\n",
        "      <td> 0.524802</td>\n",
        "      <td> 0.456538</td>\n",
        "      <td> 0.518891</td>\n",
        "      <td> 0.538791</td>\n",
        "      <td>...</td>\n",
        "      <td> 0.448983</td>\n",
        "      <td> 0.432621</td>\n",
        "      <td> 0.505079</td>\n",
        "      <td> 0.521802</td>\n",
        "      <td> 0.481197</td>\n",
        "      <td> 0.423700</td>\n",
        "      <td> 0.412175</td>\n",
        "      <td> 0.540226</td>\n",
        "      <td> 0.434668</td>\n",
        "      <td> 0.457351</td>\n",
        "    </tr>\n",
        "    <tr>\n",
        "      <th>4</th>\n",
        "      <td> cg00381604</td>\n",
        "      <td> 0.151602</td>\n",
        "      <td> 0.140310</td>\n",
        "      <td> 0.195156</td>\n",
        "      <td> 0.291057</td>\n",
        "      <td> 0.163177</td>\n",
        "      <td> 0.117262</td>\n",
        "      <td> 0.104102</td>\n",
        "      <td> 0.133798</td>\n",
        "      <td> 0.135624</td>\n",
        "      <td>...</td>\n",
        "      <td> 0.150964</td>\n",
        "      <td> 0.111576</td>\n",
        "      <td> 0.165191</td>\n",
        "      <td> 0.161239</td>\n",
        "      <td> 0.120688</td>\n",
        "      <td> 0.116291</td>\n",
        "      <td> 0.072256</td>\n",
        "      <td> 0.207162</td>\n",
        "      <td> 0.125874</td>\n",
        "      <td> 0.139632</td>\n",
        "    </tr>\n",
        "  </tbody>\n",
        "</table>\n",
        "<p>5 rows \u00d7 82 columns</p>\n",
        "</div>"
       ],
       "metadata": {},
       "output_type": "pyout",
       "prompt_number": 21,
       "text": [
        "   Unnamed: 0  9283265010_R01C01  9283265010_R02C01  9283265010_R03C01  \\\n",
        "0  cg13869341           0.838821           0.860483           0.885606   \n",
        "1  cg14008030           0.754150           0.644770           0.730299   \n",
        "2  cg12045430           0.233321           0.134562           0.292089   \n",
        "3  cg20826792           0.362271           0.464021           0.473111   \n",
        "4  cg00381604           0.151602           0.140310           0.195156   \n",
        "\n",
        "   9283265010_R04C01  9283265010_R05C01  9283265010_R06C01  9283265010_R01C02  \\\n",
        "0           0.856034           0.826106           0.901290           0.791481   \n",
        "1           0.771222           0.584768           0.761874           0.760869   \n",
        "2           0.280681           0.303479           0.145047           0.279082   \n",
        "3           0.613353           0.584091           0.524802           0.456538   \n",
        "4           0.291057           0.163177           0.117262           0.104102   \n",
        "\n",
        "   9283265010_R02C02  9283265010_R03C02        ...          9283265058_R06C01  \\\n",
        "0           0.863729           0.838324        ...                   0.765319   \n",
        "1           0.724012           0.715404        ...                   0.672610   \n",
        "2           0.201869           0.262386        ...                   0.197561   \n",
        "3           0.518891           0.538791        ...                   0.448983   \n",
        "4           0.133798           0.135624        ...                   0.150964   \n",
        "\n",
        "   9283265058_R01C02  9283265058_R02C02  9283265058_R03C02  9283265012_R02C02  \\\n",
        "0           0.878457           0.878334           0.845417           0.838542   \n",
        "1           0.692130           0.706583           0.761055           0.771221   \n",
        "2           0.144507           0.211956           0.359202           0.190878   \n",
        "3           0.432621           0.505079           0.521802           0.481197   \n",
        "4           0.111576           0.165191           0.161239           0.120688   \n",
        "\n",
        "   9283265025_R01C01  9283265026_R01C01  9283265027_R05C01  9283265046_R02C02  \\\n",
        "0           0.861572           0.772519           0.841664           0.854355   \n",
        "1           0.745781           0.794315           0.714708           0.659787   \n",
        "2           0.175772           0.260610           0.150400           0.196654   \n",
        "3           0.423700           0.412175           0.540226           0.434668   \n",
        "4           0.116291           0.072256           0.207162           0.125874   \n",
        "\n",
        "   9283265058_R05C01  \n",
        "0           0.843802  \n",
        "1           0.773897  \n",
        "2           0.275417  \n",
        "3           0.457351  \n",
        "4           0.139632  \n",
        "\n",
        "[5 rows x 82 columns]"
       ]
      }
     ],
     "prompt_number": 21
    },
    {
     "cell_type": "code",
     "collapsed": false,
     "input": [
      "acc_mapping.head()"
     ],
     "language": "python",
     "metadata": {},
     "outputs": [
      {
       "html": [
        "<div style=\"max-height:1000px;max-width:1500px;overflow:auto;\">\n",
        "<table border=\"1\" class=\"dataframe\">\n",
        "  <thead>\n",
        "    <tr style=\"text-align: right;\">\n",
        "      <th></th>\n",
        "      <th>Unnamed: 0</th>\n",
        "      <th>uuid</th>\n",
        "      <th>TCGA.ID</th>\n",
        "      <th>TCGA.BATCH</th>\n",
        "      <th>BATCH.ID</th>\n",
        "      <th>histology</th>\n",
        "      <th>tissue</th>\n",
        "      <th>diseaseabr</th>\n",
        "      <th>plate</th>\n",
        "      <th>well</th>\n",
        "      <th>mu.Cy3</th>\n",
        "      <th>sigma.Cy3</th>\n",
        "      <th>alpha.Cy3</th>\n",
        "      <th>offset.Cy3</th>\n",
        "      <th>mu.Cy5</th>\n",
        "      <th>sigma.Cy5</th>\n",
        "      <th>alpha.Cy5</th>\n",
        "      <th>offset.Cy5</th>\n",
        "    </tr>\n",
        "    <tr>\n",
        "      <th>barcode</th>\n",
        "      <th></th>\n",
        "      <th></th>\n",
        "      <th></th>\n",
        "      <th></th>\n",
        "      <th></th>\n",
        "      <th></th>\n",
        "      <th></th>\n",
        "      <th></th>\n",
        "      <th></th>\n",
        "      <th></th>\n",
        "      <th></th>\n",
        "      <th></th>\n",
        "      <th></th>\n",
        "      <th></th>\n",
        "      <th></th>\n",
        "      <th></th>\n",
        "      <th></th>\n",
        "      <th></th>\n",
        "    </tr>\n",
        "  </thead>\n",
        "  <tbody>\n",
        "    <tr>\n",
        "      <th>9283265010_R01C01</th>\n",
        "      <td> 1</td>\n",
        "      <td> a5175e83-5084-440b-9670-7dc37879fcfd</td>\n",
        "      <td> TCGA-OR-A5LC-01A-11D-A29J-05</td>\n",
        "      <td> 304</td>\n",
        "      <td> 1</td>\n",
        "      <td> Adrenocortical Carcinoma - Usual Type</td>\n",
        "      <td> Adrenocortical Carcinoma</td>\n",
        "      <td> ACC</td>\n",
        "      <td> 1161</td>\n",
        "      <td> A01</td>\n",
        "      <td> 269.301463</td>\n",
        "      <td> 146.7774</td>\n",
        "      <td> 2467.537677</td>\n",
        "      <td> 15</td>\n",
        "      <td> 395.215606</td>\n",
        "      <td> 232.7682</td>\n",
        "      <td> 2803.497694</td>\n",
        "      <td> 15</td>\n",
        "    </tr>\n",
        "    <tr>\n",
        "      <th>9283265010_R02C01</th>\n",
        "      <td> 2</td>\n",
        "      <td> 6f9f56c5-3d36-4036-8bdb-a135c94b9b72</td>\n",
        "      <td> TCGA-OR-A5K8-01A-11D-A29J-05</td>\n",
        "      <td> 304</td>\n",
        "      <td> 1</td>\n",
        "      <td> Adrenocortical Carcinoma - Usual Type</td>\n",
        "      <td> Adrenocortical Carcinoma</td>\n",
        "      <td> ACC</td>\n",
        "      <td> 1161</td>\n",
        "      <td> B01</td>\n",
        "      <td> 346.442205</td>\n",
        "      <td> 201.6336</td>\n",
        "      <td> 3881.192481</td>\n",
        "      <td> 15</td>\n",
        "      <td> 454.147732</td>\n",
        "      <td> 253.5246</td>\n",
        "      <td> 2509.437821</td>\n",
        "      <td> 15</td>\n",
        "    </tr>\n",
        "    <tr>\n",
        "      <th>9283265010_R03C01</th>\n",
        "      <td> 3</td>\n",
        "      <td> 2928a301-3d2d-4071-984e-1c4a67e59cd7</td>\n",
        "      <td> TCGA-OR-A5JM-01A-11D-A29J-05</td>\n",
        "      <td> 304</td>\n",
        "      <td> 1</td>\n",
        "      <td> Adrenocortical Carcinoma - Usual Type</td>\n",
        "      <td> Adrenocortical Carcinoma</td>\n",
        "      <td> ACC</td>\n",
        "      <td> 1161</td>\n",
        "      <td> C01</td>\n",
        "      <td> 470.533054</td>\n",
        "      <td> 278.7288</td>\n",
        "      <td> 5038.244228</td>\n",
        "      <td> 15</td>\n",
        "      <td> 511.659013</td>\n",
        "      <td> 299.4852</td>\n",
        "      <td> 3025.118003</td>\n",
        "      <td> 15</td>\n",
        "    </tr>\n",
        "    <tr>\n",
        "      <th>9283265010_R04C01</th>\n",
        "      <td> 4</td>\n",
        "      <td> a4eef4c7-cfe6-4bde-9f69-8c0f0cb23e88</td>\n",
        "      <td> TCGA-OR-A5L3-01A-11D-A29J-05</td>\n",
        "      <td> 304</td>\n",
        "      <td> 1</td>\n",
        "      <td> Adrenocortical Carcinoma - Usual Type</td>\n",
        "      <td> Adrenocortical Carcinoma</td>\n",
        "      <td> ACC</td>\n",
        "      <td> 1161</td>\n",
        "      <td> D01</td>\n",
        "      <td> 573.717154</td>\n",
        "      <td> 338.0328</td>\n",
        "      <td> 5851.870721</td>\n",
        "      <td> 15</td>\n",
        "      <td> 535.559363</td>\n",
        "      <td> 305.4156</td>\n",
        "      <td> 4084.030763</td>\n",
        "      <td> 15</td>\n",
        "    </tr>\n",
        "    <tr>\n",
        "      <th>9283265010_R05C01</th>\n",
        "      <td> 5</td>\n",
        "      <td> b71cf4e6-2e41-469e-9bc2-741b0344eff2</td>\n",
        "      <td> TCGA-OR-A5LR-01A-11D-A29J-05</td>\n",
        "      <td> 304</td>\n",
        "      <td> 1</td>\n",
        "      <td> Adrenocortical Carcinoma - Usual Type</td>\n",
        "      <td> Adrenocortical Carcinoma</td>\n",
        "      <td> ACC</td>\n",
        "      <td> 1161</td>\n",
        "      <td> E01</td>\n",
        "      <td> 672.014133</td>\n",
        "      <td> 386.9586</td>\n",
        "      <td> 6200.018666</td>\n",
        "      <td> 15</td>\n",
        "      <td> 624.124048</td>\n",
        "      <td> 346.9284</td>\n",
        "      <td> 3357.014477</td>\n",
        "      <td> 15</td>\n",
        "    </tr>\n",
        "  </tbody>\n",
        "</table>\n",
        "</div>"
       ],
       "metadata": {},
       "output_type": "pyout",
       "prompt_number": 23,
       "text": [
        "                   Unnamed: 0                                  uuid  \\\n",
        "barcode                                                               \n",
        "9283265010_R01C01           1  a5175e83-5084-440b-9670-7dc37879fcfd   \n",
        "9283265010_R02C01           2  6f9f56c5-3d36-4036-8bdb-a135c94b9b72   \n",
        "9283265010_R03C01           3  2928a301-3d2d-4071-984e-1c4a67e59cd7   \n",
        "9283265010_R04C01           4  a4eef4c7-cfe6-4bde-9f69-8c0f0cb23e88   \n",
        "9283265010_R05C01           5  b71cf4e6-2e41-469e-9bc2-741b0344eff2   \n",
        "\n",
        "                                        TCGA.ID  TCGA.BATCH  BATCH.ID  \\\n",
        "barcode                                                                 \n",
        "9283265010_R01C01  TCGA-OR-A5LC-01A-11D-A29J-05         304         1   \n",
        "9283265010_R02C01  TCGA-OR-A5K8-01A-11D-A29J-05         304         1   \n",
        "9283265010_R03C01  TCGA-OR-A5JM-01A-11D-A29J-05         304         1   \n",
        "9283265010_R04C01  TCGA-OR-A5L3-01A-11D-A29J-05         304         1   \n",
        "9283265010_R05C01  TCGA-OR-A5LR-01A-11D-A29J-05         304         1   \n",
        "\n",
        "                                               histology  \\\n",
        "barcode                                                    \n",
        "9283265010_R01C01  Adrenocortical Carcinoma - Usual Type   \n",
        "9283265010_R02C01  Adrenocortical Carcinoma - Usual Type   \n",
        "9283265010_R03C01  Adrenocortical Carcinoma - Usual Type   \n",
        "9283265010_R04C01  Adrenocortical Carcinoma - Usual Type   \n",
        "9283265010_R05C01  Adrenocortical Carcinoma - Usual Type   \n",
        "\n",
        "                                     tissue diseaseabr  plate well  \\\n",
        "barcode                                                              \n",
        "9283265010_R01C01  Adrenocortical Carcinoma        ACC   1161  A01   \n",
        "9283265010_R02C01  Adrenocortical Carcinoma        ACC   1161  B01   \n",
        "9283265010_R03C01  Adrenocortical Carcinoma        ACC   1161  C01   \n",
        "9283265010_R04C01  Adrenocortical Carcinoma        ACC   1161  D01   \n",
        "9283265010_R05C01  Adrenocortical Carcinoma        ACC   1161  E01   \n",
        "\n",
        "                       mu.Cy3  sigma.Cy3    alpha.Cy3  offset.Cy3      mu.Cy5  \\\n",
        "barcode                                                                         \n",
        "9283265010_R01C01  269.301463   146.7774  2467.537677          15  395.215606   \n",
        "9283265010_R02C01  346.442205   201.6336  3881.192481          15  454.147732   \n",
        "9283265010_R03C01  470.533054   278.7288  5038.244228          15  511.659013   \n",
        "9283265010_R04C01  573.717154   338.0328  5851.870721          15  535.559363   \n",
        "9283265010_R05C01  672.014133   386.9586  6200.018666          15  624.124048   \n",
        "\n",
        "                   sigma.Cy5    alpha.Cy5  offset.Cy5  \n",
        "barcode                                                \n",
        "9283265010_R01C01   232.7682  2803.497694          15  \n",
        "9283265010_R02C01   253.5246  2509.437821          15  \n",
        "9283265010_R03C01   299.4852  3025.118003          15  \n",
        "9283265010_R04C01   305.4156  4084.030763          15  \n",
        "9283265010_R05C01   346.9284  3357.014477          15  "
       ]
      }
     ],
     "prompt_number": 23
    },
    {
     "cell_type": "code",
     "collapsed": false,
     "input": [
      "barcode = acc_mapping['barcode']\n",
      "barcode"
     ],
     "language": "python",
     "metadata": {},
     "outputs": [
      {
       "metadata": {},
       "output_type": "pyout",
       "prompt_number": 17,
       "text": [
        "0     9283265010_R01C01\n",
        "1     9283265010_R02C01\n",
        "2     9283265010_R03C01\n",
        "3     9283265010_R04C01\n",
        "4     9283265010_R05C01\n",
        "5     9283265010_R06C01\n",
        "6     9283265010_R01C02\n",
        "7     9283265010_R02C02\n",
        "8     9283265010_R03C02\n",
        "9     9283265010_R04C02\n",
        "10    9283265010_R05C02\n",
        "11    9283265010_R06C02\n",
        "12    9283265012_R01C01\n",
        "13    9283265012_R02C01\n",
        "14    9283265012_R03C01\n",
        "...\n",
        "66    9283265046_R06C02\n",
        "67    9283265058_R01C01\n",
        "68    9283265058_R02C01\n",
        "69    9283265058_R03C01\n",
        "70    9283265058_R04C01\n",
        "71    9283265058_R06C01\n",
        "72    9283265058_R01C02\n",
        "73    9283265058_R02C02\n",
        "74    9283265058_R03C02\n",
        "75    9283265012_R02C02\n",
        "76    9283265025_R01C01\n",
        "77    9283265026_R01C01\n",
        "78    9283265027_R05C01\n",
        "79    9283265046_R02C02\n",
        "80    9283265058_R05C01\n",
        "Name: barcode, Length: 81, dtype: object"
       ]
      }
     ],
     "prompt_number": 17
    },
    {
     "cell_type": "code",
     "collapsed": false,
     "input": [
      "acc_mapping = pd.read_csv('../ACC/ACC.mappings.csv')\n",
      "acc_mapping.head()\n",
      "tcga_id = acc_mapping['TCGA.ID']\n",
      "tcga_id"
     ],
     "language": "python",
     "metadata": {},
     "outputs": [
      {
       "metadata": {},
       "output_type": "pyout",
       "prompt_number": 25,
       "text": [
        "0     TCGA-OR-A5LC-01A-11D-A29J-05\n",
        "1     TCGA-OR-A5K8-01A-11D-A29J-05\n",
        "2     TCGA-OR-A5JM-01A-11D-A29J-05\n",
        "3     TCGA-OR-A5L3-01A-11D-A29J-05\n",
        "4     TCGA-OR-A5LR-01A-11D-A29J-05\n",
        "5     TCGA-OR-A5LT-01A-11D-A29J-05\n",
        "6     TCGA-OR-A5KV-01A-11D-A29J-05\n",
        "7     TCGA-OR-A5KO-01A-11D-A29J-05\n",
        "8     TCGA-OR-A5J2-01A-11D-A29J-05\n",
        "9     TCGA-OR-A5JS-01A-11D-A29J-05\n",
        "10    TCGA-OR-A5JI-01A-11D-A29J-05\n",
        "11    TCGA-OR-A5K9-01A-11D-A29J-05\n",
        "12    TCGA-OR-A5JG-01A-11D-A29J-05\n",
        "13    TCGA-OR-A5KW-01A-11D-A29J-05\n",
        "14    TCGA-OR-A5J7-01A-11D-A29J-05\n",
        "...\n",
        "66    TCGA-OR-A5LA-01A-11D-A29J-05\n",
        "67    TCGA-OR-A5L5-01A-11D-A29J-05\n",
        "68    TCGA-PK-A5HB-01A-11D-A29J-05\n",
        "69    TCGA-OR-A5JC-01A-11D-A29J-05\n",
        "70    TCGA-OR-A5JW-01A-11D-A29J-05\n",
        "71    TCGA-OR-A5LB-01A-11D-A29J-05\n",
        "72    TCGA-OR-A5LH-01A-11D-A29J-05\n",
        "73    TCGA-OR-A5JX-01A-11D-A29J-05\n",
        "74    TCGA-OR-A5K1-01A-11D-A29J-05\n",
        "75    TCGA-OR-A5K3-01A-11D-A29J-05\n",
        "76    TCGA-OR-A5LK-01A-11D-A29J-05\n",
        "77    TCGA-OR-A5JD-01A-11D-A29J-05\n",
        "78    TCGA-OR-A5JL-01A-11D-A29J-05\n",
        "79    TCGA-OR-A5JQ-01A-11D-A29J-05\n",
        "80    TCGA-AV-A03D-20A-02D-A29J-05\n",
        "Name: TCGA.ID, Length: 81, dtype: object"
       ]
      }
     ],
     "prompt_number": 25
    },
    {
     "cell_type": "code",
     "collapsed": false,
     "input": [
      "combine = pd.merge(acc_mset, tcga_id)"
     ],
     "language": "python",
     "metadata": {},
     "outputs": [
      {
       "ename": "AttributeError",
       "evalue": "'Series' object has no attribute 'columns'",
       "output_type": "pyerr",
       "traceback": [
        "\u001b[1;31m---------------------------------------------------------------------------\u001b[0m\n\u001b[1;31mAttributeError\u001b[0m                            Traceback (most recent call last)",
        "\u001b[1;32m<ipython-input-15-de932515acd0>\u001b[0m in \u001b[0;36m<module>\u001b[1;34m()\u001b[0m\n\u001b[1;32m----> 1\u001b[1;33m \u001b[0mcombine\u001b[0m \u001b[1;33m=\u001b[0m \u001b[0mpd\u001b[0m\u001b[1;33m.\u001b[0m\u001b[0mmerge\u001b[0m\u001b[1;33m(\u001b[0m\u001b[0macc_mset\u001b[0m\u001b[1;33m,\u001b[0m \u001b[0mtcga_id\u001b[0m\u001b[1;33m)\u001b[0m\u001b[1;33m\u001b[0m\u001b[0m\n\u001b[0m",
        "\u001b[1;32m/cellar/users/talejand/anaconda/lib/python2.7/site-packages/pandas/tools/merge.pyc\u001b[0m in \u001b[0;36mmerge\u001b[1;34m(left, right, how, on, left_on, right_on, left_index, right_index, sort, suffixes, copy)\u001b[0m\n\u001b[0;32m     36\u001b[0m                          \u001b[0mright_on\u001b[0m\u001b[1;33m=\u001b[0m\u001b[0mright_on\u001b[0m\u001b[1;33m,\u001b[0m \u001b[0mleft_index\u001b[0m\u001b[1;33m=\u001b[0m\u001b[0mleft_index\u001b[0m\u001b[1;33m,\u001b[0m\u001b[1;33m\u001b[0m\u001b[0m\n\u001b[0;32m     37\u001b[0m                          \u001b[0mright_index\u001b[0m\u001b[1;33m=\u001b[0m\u001b[0mright_index\u001b[0m\u001b[1;33m,\u001b[0m \u001b[0msort\u001b[0m\u001b[1;33m=\u001b[0m\u001b[0msort\u001b[0m\u001b[1;33m,\u001b[0m \u001b[0msuffixes\u001b[0m\u001b[1;33m=\u001b[0m\u001b[0msuffixes\u001b[0m\u001b[1;33m,\u001b[0m\u001b[1;33m\u001b[0m\u001b[0m\n\u001b[1;32m---> 38\u001b[1;33m                          copy=copy)\n\u001b[0m\u001b[0;32m     39\u001b[0m     \u001b[1;32mreturn\u001b[0m \u001b[0mop\u001b[0m\u001b[1;33m.\u001b[0m\u001b[0mget_result\u001b[0m\u001b[1;33m(\u001b[0m\u001b[1;33m)\u001b[0m\u001b[1;33m\u001b[0m\u001b[0m\n\u001b[0;32m     40\u001b[0m \u001b[1;32mif\u001b[0m \u001b[0m__debug__\u001b[0m\u001b[1;33m:\u001b[0m\u001b[1;33m\u001b[0m\u001b[0m\n",
        "\u001b[1;32m/cellar/users/talejand/anaconda/lib/python2.7/site-packages/pandas/tools/merge.pyc\u001b[0m in \u001b[0;36m__init__\u001b[1;34m(self, left, right, how, on, left_on, right_on, axis, left_index, right_index, sort, suffixes, copy)\u001b[0m\n\u001b[0;32m    180\u001b[0m         (self.left_join_keys,\n\u001b[0;32m    181\u001b[0m          \u001b[0mself\u001b[0m\u001b[1;33m.\u001b[0m\u001b[0mright_join_keys\u001b[0m\u001b[1;33m,\u001b[0m\u001b[1;33m\u001b[0m\u001b[0m\n\u001b[1;32m--> 182\u001b[1;33m          self.join_names) = self._get_merge_keys()\n\u001b[0m\u001b[0;32m    183\u001b[0m \u001b[1;33m\u001b[0m\u001b[0m\n\u001b[0;32m    184\u001b[0m     \u001b[1;32mdef\u001b[0m \u001b[0mget_result\u001b[0m\u001b[1;33m(\u001b[0m\u001b[0mself\u001b[0m\u001b[1;33m)\u001b[0m\u001b[1;33m:\u001b[0m\u001b[1;33m\u001b[0m\u001b[0m\n",
        "\u001b[1;32m/cellar/users/talejand/anaconda/lib/python2.7/site-packages/pandas/tools/merge.pyc\u001b[0m in \u001b[0;36m_get_merge_keys\u001b[1;34m(self)\u001b[0m\n\u001b[0;32m    312\u001b[0m         \u001b[0mleft_keys\u001b[0m\u001b[1;33m,\u001b[0m \u001b[0mright_keys\u001b[0m\u001b[1;33m\u001b[0m\u001b[0m\n\u001b[0;32m    313\u001b[0m         \"\"\"\n\u001b[1;32m--> 314\u001b[1;33m         \u001b[0mself\u001b[0m\u001b[1;33m.\u001b[0m\u001b[0m_validate_specification\u001b[0m\u001b[1;33m(\u001b[0m\u001b[1;33m)\u001b[0m\u001b[1;33m\u001b[0m\u001b[0m\n\u001b[0m\u001b[0;32m    315\u001b[0m \u001b[1;33m\u001b[0m\u001b[0m\n\u001b[0;32m    316\u001b[0m         \u001b[0mleft_keys\u001b[0m \u001b[1;33m=\u001b[0m \u001b[1;33m[\u001b[0m\u001b[1;33m]\u001b[0m\u001b[1;33m\u001b[0m\u001b[0m\n",
        "\u001b[1;32m/cellar/users/talejand/anaconda/lib/python2.7/site-packages/pandas/tools/merge.pyc\u001b[0m in \u001b[0;36m_validate_specification\u001b[1;34m(self)\u001b[0m\n\u001b[0;32m    403\u001b[0m                                      % repr(self.left.columns))\n\u001b[0;32m    404\u001b[0m \u001b[1;33m\u001b[0m\u001b[0m\n\u001b[1;32m--> 405\u001b[1;33m                 \u001b[1;32mif\u001b[0m \u001b[1;32mnot\u001b[0m \u001b[0mself\u001b[0m\u001b[1;33m.\u001b[0m\u001b[0mright\u001b[0m\u001b[1;33m.\u001b[0m\u001b[0mcolumns\u001b[0m\u001b[1;33m.\u001b[0m\u001b[0mis_unique\u001b[0m\u001b[1;33m:\u001b[0m\u001b[1;33m\u001b[0m\u001b[0m\n\u001b[0m\u001b[0;32m    406\u001b[0m                     raise MergeError(\"Right data columns not unique: %s\"\n\u001b[0;32m    407\u001b[0m                                      % repr(self.right.columns))\n",
        "\u001b[1;32m/cellar/users/talejand/anaconda/lib/python2.7/site-packages/pandas/core/generic.pyc\u001b[0m in \u001b[0;36m__getattr__\u001b[1;34m(self, name)\u001b[0m\n\u001b[0;32m   1834\u001b[0m         \"\"\"\n\u001b[0;32m   1835\u001b[0m         \u001b[1;32mif\u001b[0m \u001b[0mname\u001b[0m \u001b[1;32min\u001b[0m \u001b[0mself\u001b[0m\u001b[1;33m.\u001b[0m\u001b[0m_internal_names_set\u001b[0m\u001b[1;33m:\u001b[0m\u001b[1;33m\u001b[0m\u001b[0m\n\u001b[1;32m-> 1836\u001b[1;33m             \u001b[1;32mreturn\u001b[0m \u001b[0mobject\u001b[0m\u001b[1;33m.\u001b[0m\u001b[0m__getattribute__\u001b[0m\u001b[1;33m(\u001b[0m\u001b[0mself\u001b[0m\u001b[1;33m,\u001b[0m \u001b[0mname\u001b[0m\u001b[1;33m)\u001b[0m\u001b[1;33m\u001b[0m\u001b[0m\n\u001b[0m\u001b[0;32m   1837\u001b[0m         \u001b[1;32melif\u001b[0m \u001b[0mname\u001b[0m \u001b[1;32min\u001b[0m \u001b[0mself\u001b[0m\u001b[1;33m.\u001b[0m\u001b[0m_metadata\u001b[0m\u001b[1;33m:\u001b[0m\u001b[1;33m\u001b[0m\u001b[0m\n\u001b[0;32m   1838\u001b[0m             \u001b[1;32mreturn\u001b[0m \u001b[0mobject\u001b[0m\u001b[1;33m.\u001b[0m\u001b[0m__getattribute__\u001b[0m\u001b[1;33m(\u001b[0m\u001b[0mself\u001b[0m\u001b[1;33m,\u001b[0m \u001b[0mname\u001b[0m\u001b[1;33m)\u001b[0m\u001b[1;33m\u001b[0m\u001b[0m\n",
        "\u001b[1;31mAttributeError\u001b[0m: 'Series' object has no attribute 'columns'"
       ]
      }
     ],
     "prompt_number": 15
    },
    {
     "cell_type": "code",
     "collapsed": false,
     "input": [],
     "language": "python",
     "metadata": {},
     "outputs": []
    }
   ],
   "metadata": {}
  }
 ]
}