{
 "metadata": {
  "name": "",
  "signature": "sha256:32d17636d0cd75561d722c69fdf7988bdedd97e349386a268d10d2b4ebcfc0ba"
 },
 "nbformat": 3,
 "nbformat_minor": 0,
 "worksheets": [
  {
   "cells": [
    {
     "cell_type": "code",
     "collapsed": false,
     "input": [
      "import re\n",
      "import pandas as pd"
     ],
     "language": "python",
     "metadata": {},
     "outputs": [],
     "prompt_number": 1
    },
    {
     "cell_type": "code",
     "collapsed": false,
     "input": [
      "pwd"
     ],
     "language": "python",
     "metadata": {},
     "outputs": [
      {
       "metadata": {},
       "output_type": "pyout",
       "prompt_number": 6,
       "text": [
        "u'/Users/ted_alejandre/Documents/IdekerLab/Cancer_Research'"
       ]
      }
     ],
     "prompt_number": 6
    },
    {
     "cell_type": "heading",
     "level": 1,
     "metadata": {},
     "source": [
      "<b>Data Description</b>"
     ]
    },
    {
     "cell_type": "markdown",
     "metadata": {},
     "source": [
      "* Out of 33 cancers, three (LGG, LAML, and )were intially \n",
      "rejected due to format inconsistencies on the TCGA website\n"
     ]
    },
    {
     "cell_type": "markdown",
     "metadata": {},
     "source": [
      "* Using Bioconductor's Minfi package, the detection p values of the metyhlation data per cancer were determined using quantile preprocessing methods"
     ]
    },
    {
     "cell_type": "markdown",
     "metadata": {},
     "source": [
      "* Based on a filter criteria of (> 0.5 for p values) ??? , the following cancer types data were eliminated from analysis"
     ]
    },
    {
     "cell_type": "code",
     "collapsed": false,
     "input": [
      "def count_idat():\n",
      "    for cancer in cancers:\n",
      "        count = !find $cancer -type f -name \"*idat\" | wc -l \n",
      "        print cancer + \" cancer subtype has \" + \\\n",
      "              str(int(re.search(r'\\d+', str(count)).group())) + \\\n",
      "              \" idat files available.\"    "
     ],
     "language": "python",
     "metadata": {},
     "outputs": []
    },
    {
     "cell_type": "markdown",
     "metadata": {},
     "source": [
      "<b># of idat files per cancer subtype</b>"
     ]
    },
    {
     "cell_type": "code",
     "collapsed": false,
     "input": [
      "count_idat()"
     ],
     "language": "python",
     "metadata": {},
     "outputs": []
    },
    {
     "cell_type": "markdown",
     "metadata": {},
     "source": [
      "<b>CSVs of all Minfi R Outputs for Each Cancer Subtype<b>"
     ]
    },
    {
     "cell_type": "code",
     "collapsed": false,
     "input": [
      "for cancer in cancer:\n",
      "    cancer = !cat $cancer\n",
      "    print cancer "
     ],
     "language": "python",
     "metadata": {},
     "outputs": []
    }
   ],
   "metadata": {}
  }
 ]
}