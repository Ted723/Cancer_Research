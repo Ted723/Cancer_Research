{
 "metadata": {
  "kernelspec": {
   "codemirror_mode": {
    "name": "ipython",
    "version": 2
   },
   "display_name": "IPython (Python 2)",
   "language": "python",
   "name": "python2"
  },
  "name": "",
  "signature": "sha256:356efbbd02b5bdb376e36858d6f875c4917db800df99b70aae2d7eb528e52a57"
 },
 "nbformat": 3,
 "nbformat_minor": 0,
 "worksheets": [
  {
   "cells": [
    {
     "cell_type": "heading",
     "level": 1,
     "metadata": {},
     "source": [
      "Notebook Directory"
     ]
    },
    {
     "cell_type": "heading",
     "level": 2,
     "metadata": {},
     "source": [
      "Cohorts"
     ]
    },
    {
     "cell_type": "markdown",
     "metadata": {},
     "source": [
      "* [__Metastatic Breast Cancer__](./Notebook/Activating ESR1 mutations in hormone-resistant metastatic breast cancer.ipynb)  \n",
      "    * Activating ESR1 mutations in hormone-resistant metastatic breast cancer [link](http://www.nature.com/ng/journal/v45/n12/full/ng.2823.html)  \n",
      "        * 11 ER+ patients, WXS and rna\n",
      "        "
     ]
    },
    {
     "cell_type": "markdown",
     "metadata": {},
     "source": [
      "* [__Bile Duct Cancer__](./Notebook/Exome Sequencing Identifies Distinct Mutational Patterns in Liver Fluke-Related and Non-Infection-Related Bile Duct Cancers.ipynb)\n",
      "    * Exome Sequencing Identifies Distinct Mutational Patterns in Liver Fluke-Related and Non-Infection-Related Bile Duct Cancers [link](http://www.nature.com/ng/journal/v45/n12/full/ng.2806.html)\n"
     ]
    },
    {
     "cell_type": "markdown",
     "metadata": {},
     "source": [
      "* [__Lung Cancer__](./Notebook/Exome and whole-genome sequencing of esophageal adenocarcinoma identifies recurrent driver events and mutational complexity.ipynb)\n",
      "    * Exome and whole-genome sequencing of esophageal adenocarcinoma identifies recurrent driver events and mutational complexity [link](http://www.nature.com/ng/journal/v45/n5/full/ng.2591.html)  \n",
      "    * [__Integrative and Comparative Genomic Analysis of Lung Squamous Cell Carcinomas in East Asian Patients.ipynb__](./Notebook/Integrative and Comparative Genomic Analysis of Lung Squamous Cell Carcinomas in East Asian Patients.ipynb)\n",
      "        * [link](http://jco.ascopubs.org/content/32/2/121.full.pdf)\n",
      "            * JCO Article"
     ]
    },
    {
     "cell_type": "markdown",
     "metadata": {},
     "source": [
      "* [__Liver Cancer__](./Notebook/Exome sequencing identifies frequent inactivating mutations in BAP1, ARID1A and PBRM1 in intrahepatic cholangiocarcinomas.ipynb)\n",
      "    * Exome sequencing identifies frequent inactivating mutations in BAP1, ARID1A and PBRM1 in intrahepatic cholangiocarcinomas [link](http://www.nature.com/ng/journal/v45/n12/full/ng.2813.html)\n"
     ]
    },
    {
     "cell_type": "markdown",
     "metadata": {},
     "source": [
      "* [__Leuekemia__](./Notebook/Exome sequencing identifies secondary mutations of SETBP1 and JAK3 in juvenile myelomonocytic leukemia.ipynb)\n",
      "    * Exome sequencing identifies secondary mutations of SETBP1 and JAK3 in juvenile myelomonocytic leukemia [link](http://www.nature.com/ng/journal/v45/n8/full/ng.2698.html)"
     ]
    },
    {
     "cell_type": "markdown",
     "metadata": {},
     "source": [
      "* [__Prostate Cancer__](./Notebook/Exome sequencing identifies recurrent SPOP, FOXA1 and MED12 mutations in prostate cancer.ipynb)\n",
      "    * Exome sequencing identifies recurrent SPOP, FOXA1 and MED12 mutations in prostate cancer [link](http://www.nature.com/ng/journal/v44/n6/full/ng.2279.html)"
     ]
    },
    {
     "cell_type": "markdown",
     "metadata": {},
     "source": [
      "* [__Meningioma__](./Notebook/Genomic sequencing of meningiomas identifies oncogenic SMO and AKT1 mutations.ipynb)\n",
      "    * Genomic sequencing of meningiomas identifies oncogenic SMO and AKT1 mutations.ipynb [link](http://www.nature.com/ng/journal/v45/n3/full/ng.2526.html)"
     ]
    },
    {
     "cell_type": "markdown",
     "metadata": {},
     "source": [
      "* [__Neuroblastoma__](./Notebook/Integrated genomic analyses identify ARID1A and ARID1B in the childhood cancer neuroblastoma.ipynb)\n",
      "    * Integrated genomic analyses identify ARID1A and ARID1B in the childhood cancer neuroblastoma [link](http://www.nature.com/ng/journal/v45/n1/full/ng.2493.html)\n",
      "    * [__The Genetic Landscape of High-Risk Neuroblastoma.ipynb__](./Notebook/The Genetic Landscape of High-Risk Neuroblastoma.ipynb)\n",
      "        * [link](http://www.nature.com/ng/journal/v45/n3/full/ng.2529.html)\n"
     ]
    },
    {
     "cell_type": "markdown",
     "metadata": {},
     "source": [
      "* [__MCL__](./Notebook/Landscape of somatic mutations and clonal evolution in mantle cell lymphoma.ipynb)\n",
      "    * Landscape of somatic mutations and clonal evolution in mantle cell lymphoma [link](http://www.ncbi.nlm.nih.gov/pubmed/24145436)\n",
      "        * PubMed Article"
     ]
    },
    {
     "cell_type": "markdown",
     "metadata": {},
     "source": [
      "* [__CML__](./Notebook/Recurrent SETBP1 Mutations in Atypical CML.ipynb)\n",
      "    * Recurrent SETBP1 Mutations in Atypical CML [link](http://www.nature.com/ng/journal/v45/n1/full/ng.2495.html)"
     ]
    },
    {
     "cell_type": "markdown",
     "metadata": {},
     "source": [
      "* [__Small Intestine Cancer__](./Notebook/Somatic Mutation of CDKN1B in Small Intestine Neuroendocrine Tumors.ipynb)\n",
      "    * Somatic Mutation of CDKN1B in Small Intestine Neuroendocrine Tumors [link](http://www.nature.com/ng/journal/v45/n12/full/ng.2821.html)"
     ]
    },
    {
     "cell_type": "markdown",
     "metadata": {},
     "source": [
      "* [__Myeloid Malignancy__](./Notebook/Somatic SETBP1 mutations in myeloid malignancies.ipynb)\n",
      "    * Somatic SETBP1 mutations in myeloid malignancies [link](http://www.nature.com/ng/journal/v45/n8/full/ng.2696.html)"
     ]
    },
    {
     "cell_type": "markdown",
     "metadata": {},
     "source": [
      "* [__Solitary Fibrous Tumor__](./Notebook/Whole-exome sequencing identifies a recurrent NAB2-STAT6 fusion in solitary fibrous tumors.ipynb) \n",
      "    * Whole-exome sequencing identifies a recurrent NAB2-STAT6 fusion in solitary fibrous tumors [link](http://www.nature.com/ng/journal/v45/n2/full/ng.2522.html) "
     ]
    },
    {
     "cell_type": "markdown",
     "metadata": {},
     "source": [
      "* [__ACC__](./Notebook/The Mutational Landscape of Adenoid Cystic Carcinoma.ipynb)\n",
      "    * The Mutation Landscape of Adenoid Cystic Carcinoma [link](http://www.nature.com/ng/journal/v45/n7/full/ng.2643.html)\n"
     ]
    },
    {
     "cell_type": "markdown",
     "metadata": {},
     "source": [
      "* [__Bladder Cancer__](./Notebook/Whole-genome and whole-exome sequencing of bladder cancer identifies frequent alterations in genes involved in sister chromatid cohesion and segregation.ipynb.ipynb)\n",
      "    * Whole-genome and whole-exome sequencing of bladder cancer identifies frequent alterations in genes involved in sister chromatid cohesion and segregation [link](http://www.nature.com/ng/journal/v45/n12/full/ng.2798.html)"
     ]
    },
    {
     "cell_type": "heading",
     "level": 2,
     "metadata": {},
     "source": [
      "Analysis"
     ]
    },
    {
     "cell_type": "markdown",
     "metadata": {},
     "source": [
      "* [__Merged.ipynb__](./Notebook/Merged.ipynb)"
     ]
    },
    {
     "cell_type": "heading",
     "level": 1,
     "metadata": {},
     "source": [
      "Extra"
     ]
    },
    {
     "cell_type": "markdown",
     "metadata": {},
     "source": [
      "* [__Integrative and Comparative Genomic Analysis of Lung Squamous Cell Carcinomas in East Asian Patients.ipynb__](./Notebook/Integrative and Comparative Genomic Analysis of Lung Squamous Cell Carcinomas in East Asian Patients.ipynb)\n",
      "\n",
      "* [__The Genetic Landscape of High-Risk Neuroblastoma.ipynb__](./Notebook/The Genetic Landscape of High-Risk Neuroblastoma.ipynb)"
     ]
    }
   ],
   "metadata": {}
  }
 ]
}