{
 "metadata": {
  "kernelspec": {
   "codemirror_mode": {
    "name": "ipython",
    "version": 2
   },
   "display_name": "IPython (Python 2)",
   "language": "python",
   "name": "python2"
  },
  "name": "",
  "signature": "sha256:29d038f2c996eac5866998fcb88bba4c9198cee3f72b7e07c7fd056716369561"
 },
 "nbformat": 3,
 "nbformat_minor": 0,
 "worksheets": [
  {
   "cells": [
    {
     "cell_type": "heading",
     "level": 1,
     "metadata": {},
     "source": [
      "Notebook Directory"
     ]
    },
    {
     "cell_type": "heading",
     "level": 2,
     "metadata": {},
     "source": [
      "Cohorts"
     ]
    },
    {
     "cell_type": "markdown",
     "metadata": {},
     "source": [
      "* [__Metastatic Breast Cancer__](./Notebook/Activating ESR1 mutations in hormone-resistant metastatic breast cancer.ipynb)  \n",
      "    * Activating ESR1 mutations in hormone-resistant metastatic breast cancer [link](http://www.nature.com/ng/journal/v45/n12/full/ng.2823.html)  \n",
      "        * 11 ER+ patients, WXS and rna\n",
      "        "
     ]
    },
    {
     "cell_type": "markdown",
     "metadata": {},
     "source": [
      "* [__Bile Duct Cancer__](./Notebook/Exome Sequencing Identifies Distinct Mutational Patterns in Liver Fluke-Related and Non-Infection-Related Bile Duct Cancers.ipynb)\n",
      "    * Exome Sequencing Identifies Distinct Mutational Patterns in Liver Fluke-Related and Non-Infection-Related Bile Duct Cancers [link]()\n"
     ]
    },
    {
     "cell_type": "markdown",
     "metadata": {},
     "source": [
      "* [__Lung Cancer__](./Notebook/Exome and whole-genome sequencing of esophageal adenocarcinoma identifies recurrent driver events and mutational complexity.ipynb)\n",
      "    * Exome and whole-genome sequencing of esophageal adenocarcinoma identifies recurrent driver events and mutational complexity [link](http://www.nature.com/ng/journal/v45/n12/full/ng.2823.html)  \n",
      "    * [__Integrative and Comparative Genomic Analysis of Lung Squamous Cell Carcinomas in East Asian Patients.ipynb__](./Notebook/Integrative and Comparative Genomic Analysis of Lung Squamous Cell Carcinomas in East Asian Patients.ipynb)"
     ]
    },
    {
     "cell_type": "markdown",
     "metadata": {},
     "source": [
      "* [__Liver Cancer__](./Notebook/Exome sequencing identifies frequent inactivating mutations in BAP1, ARID1A and PBRM1 in intrahepatic cholangiocarcinomas.ipynb)\n",
      "    * Exome sequencing identifies frequent inactivating mutations in BAP1, ARID1A and PBRM1 in intrahepatic cholangiocarcinomas [link]()\n"
     ]
    },
    {
     "cell_type": "markdown",
     "metadata": {},
     "source": [
      "* [__Leuekemia__](./Notebook/Exome sequencing identifies secondary mutations of SETBP1 and JAK3 in juvenile myelomonocytic leukemia.ipynb)\n",
      "    * Exome sequencing identifies secondary mutations of SETBP1 and JAK3 in juvenile myelomonocytic leukemia [link]()"
     ]
    },
    {
     "cell_type": "markdown",
     "metadata": {},
     "source": [
      "* [__Prostate Cancer__](./Notebook/Exome sequencing identifies recurrent SPOP, FOXA1 and MED12 mutations in prostate cancer.ipynb)\n",
      "    * Exome sequencing identifies recurrent SPOP, FOXA1 and MED12 mutations in prostate cancer [link]()"
     ]
    },
    {
     "cell_type": "markdown",
     "metadata": {},
     "source": [
      "* [__Meningioma__](./Notebook/Genomic sequencing of meningiomas identifies oncogenic SMO and AKT1 mutations.ipynb)\n",
      "    * Genomic sequencing of meningiomas identifies oncogenic SMO and AKT1 mutations.ipynb [link]()"
     ]
    },
    {
     "cell_type": "markdown",
     "metadata": {},
     "source": [
      "* [__Neuroblastoma__](./Notebook/Integrated genomic analyses identify ARID1A and ARID1B in the childhood cancer neuroblastoma.ipynb)\n",
      "    * Integrated genomic analyses identify ARID1A and ARID1B in the childhood cancer neuroblastoma [link]()\n",
      "    * * [__The Genetic Landscape of High-Risk Neuroblastoma.ipynb__](./Notebook/The Genetic Landscape of High-Risk Neuroblastoma.ipynb)\n"
     ]
    },
    {
     "cell_type": "markdown",
     "metadata": {},
     "source": [
      "* [__MCL__](./Notebook/Landscape of somatic mutations and clonal evolution in mantle cell lymphoma.ipynb)\n",
      "    * Landscape of somatic mutations and clonal evolution in mantle cell lymphoma [link]()"
     ]
    },
    {
     "cell_type": "markdown",
     "metadata": {},
     "source": [
      "* [__CML__](./Notebook/Recurrent SETBP1 Mutations in Atypical CML.ipynb)\n",
      "    * Recurrent SETBP1 Mutations in Atypical CML [link]()"
     ]
    },
    {
     "cell_type": "markdown",
     "metadata": {},
     "source": [
      "* [__Small Intestine Cancer__](./Notebook/Somatic Mutation of CDKN1B in Small Intestine Neuroendocrine Tumors.ipynb)\n",
      "    * Somatic Mutation of CDKN1B in Small Intestine Neuroendocrine Tumors [link]()"
     ]
    },
    {
     "cell_type": "markdown",
     "metadata": {},
     "source": [
      "* [__Myeloid Malignancy__](./Notebook/Somatic SETBP1 mutations in myeloid malignancies.ipynb)\n",
      "    * Somatic SETBP1 mutations in myeloid malignancies [link]()"
     ]
    },
    {
     "cell_type": "markdown",
     "metadata": {},
     "source": [
      "* [__Solitary Fibrous Tumor__](./Notebook/Whole-exome sequencing identifies a recurrent NAB2-STAT6 fusion in solitary fibrous tumors.ipynb) \n",
      "    * Whole-exome sequencing identifies a recurrent NAB2-STAT6 fusion in solitary fibrous tumors [link]() "
     ]
    },
    {
     "cell_type": "markdown",
     "metadata": {},
     "source": [
      "* [__ACC__](./Notebook/The Mutational Landscape of Adenoid Cystic Carcinoma.ipynb)\n",
      "    * The Mutation Landscape of Adenoid Cystic Carcinoma [link]()\n"
     ]
    },
    {
     "cell_type": "markdown",
     "metadata": {},
     "source": [
      "* [__Bladder Cancer__](./Notebook/Whole-genome and whole-exome sequencing of bladder cancer identifies frequent alterations in genes involved in sister chromatid cohesion and segregation.ipynb.ipynb)\n",
      "    * Whole-genome and whole-exome sequencing of bladder cancer identifies frequent alterations in genes involved in sister chromatid cohesion and segregation [link]()"
     ]
    },
    {
     "cell_type": "heading",
     "level": 2,
     "metadata": {},
     "source": [
      "Analysis"
     ]
    },
    {
     "cell_type": "markdown",
     "metadata": {},
     "source": [
      "* [__Merged.ipynb__](./Notebook/Merged.ipynb)"
     ]
    },
    {
     "cell_type": "heading",
     "level": 1,
     "metadata": {},
     "source": [
      "Extra"
     ]
    },
    {
     "cell_type": "markdown",
     "metadata": {},
     "source": [
      "* [__Activating ESR1 mutations in hormone-resistant metastatic breast cancer.ipynb __](./Notebook/Activating ESR1 mutations in hormone-resistant metastatic breast cancer.ipynb)\n",
      "\n",
      "\n",
      "* [__Exome Sequencing Identifies Distinct Mutational Patterns in Liver Fluke-Related and Non-Infection-Related Bile Duct Cancers.ipynb__](./Notebook/Exome Sequencing Identifies Distinct Mutational Patterns in Liver Fluke-Related and Non-Infection-Related Bile Duct Cancers.ipynb)\n",
      "\n",
      "* [__Exome and whole-genome sequencing of esophageal adenocarcinoma identifies recurrent driver events and mutational complexity.ipynb__](./Notebook/Exome and whole-genome sequencing of esophageal adenocarcinoma identifies recurrent driver events and mutational complexity.ipynb)\n",
      "\n",
      "\n",
      "* [__Exome sequencing identifies frequent inactivating mutations in BAP1, ARID1A and PBRM1 in intrahepatic cholangiocarcinomas.ipynb__](./Notebook/Exome sequencing identifies frequent inactivating mutations in BAP1, ARID1A and PBRM1 in intrahepatic cholangiocarcinomas.ipynb)\n",
      "\n",
      "\n",
      "* [__Exome sequencing identifies recurrent SPOP, FOXA1 and MED12 mutations in prostate cancer.ipynb__](./Notebook/Exome sequencing identifies recurrent SPOP, FOXA1 and MED12 mutations in prostate cancer.ipynb)\n",
      "\n",
      "\n",
      "* [__Exome sequencing identifies secondary mutations of SETBP1 and JAK3 in juvenile myelomonocytic leukemia.ipynb__](./Notebook/Exome sequencing identifies secondary mutations of SETBP1 and JAK3 in juvenile myelomonocytic leukemia.ipynb)\n",
      "\n",
      "\n",
      "* [__Genomic sequencing of meningiomas identifies oncogenic SMO and AKT1 mutations.ipynb__](./Notebook/Genomic sequencing of meningiomas identifies oncogenic SMO and AKT1 mutations.ipynb)\n",
      "\n",
      "\n",
      "* [__Integrated genomic analyses identify ARID1A and ARID1B in the childhood cancer neuroblastoma.ipynb__](./Notebook/Integrated genomic analyses identify ARID1A and ARID1B in the childhood cancer neuroblastoma.ipynb)\n",
      "\n",
      "\n",
      "* [__Integrative and Comparative Genomic Analysis of Lung Squamous Cell Carcinomas in East Asian Patients.ipynb__](./Notebook/Integrative and Comparative Genomic Analysis of Lung Squamous Cell Carcinomas in East Asian Patients.ipynb)\n",
      "\n",
      "\n",
      "* [__Landscape of somatic mutations and clonal evolution in mantle cell lymphoma.ipynb__](./Notebook/Landscape of somatic mutations and clonal evolution in mantle cell lymphoma.ipynb)\n",
      "\n",
      "\n",
      "* [__Recurrent SETBP1 Mutations in Atypical CML.ipynb__](./Notebook/Recurrent SETBP1 Mutations in Atypical CML.ipynb)\n",
      "\n",
      "\n",
      "* [__Somatic Mutation of CDKN1B in Small Intestine Neuroendocrine Tumors.ipynb__](./Notebook/Somatic Mutation of CDKN1B in Small Intestine Neuroendocrine Tumors.ipynb)\n",
      "\n",
      "\n",
      "\n",
      "* [__Somatic SETBP1 mutations in myeloid malignancies.ipynb__](./Notebook/Somatic SETBP1 mutations in myeloid malignancies.ipynb)\n",
      "\n",
      "\n",
      "* [__The Genetic Landscape of High-Risk Neuroblastoma.ipynb__](./Notebook/The Genetic Landscape of High-Risk Neuroblastoma.ipynb)\n",
      "\n",
      "\n",
      "\n",
      "* [__The Mutational Landscape of Adenoid Cystic Carcinoma.ipynb__](./Notebook/The Mutational Landscape of Adenoid Cystic Carcinoma.ipynb)\n",
      "\n",
      "\n",
      "\n",
      "* [__Whole-exome sequencing identifies a recurrent NAB2-STAT6 fusion in solitary fibrous tumors.ipynb__](./Notebook/Whole-exome sequencing identifies a recurrent NAB2-STAT6 fusion in solitary fibrous tumors.ipynb)\n",
      "\n",
      "\n",
      "* [__Whole-genome and whole-exome sequencing of bladder cancer identifies frequent alterations in genes involved in sister chromatid cohesion and segregation.ipynb__](./Notebook/Whole-genome and whole-exome sequencing of bladder cancer identifies frequent alterations in genes involved in sister chromatid cohesion and segregation.ipynb.ipynb)"
     ]
    }
   ],
   "metadata": {}
  }
 ]
}