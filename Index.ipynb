{
 "metadata": {
  "kernelspec": {
   "codemirror_mode": {
    "name": "ipython",
    "version": 2
   },
   "display_name": "IPython (Python 2)",
   "language": "python",
   "name": "python2"
  },
  "name": "",
  "signature": "sha256:48466775e1154246f40b6f0c24057fc127143f389a5bc671c0b9db0af39cc2a1"
 },
 "nbformat": 3,
 "nbformat_minor": 0,
 "worksheets": [
  {
   "cells": [
    {
     "cell_type": "heading",
     "level": 1,
     "metadata": {},
     "source": [
      "Notebook Directory"
     ]
    },
    {
     "cell_type": "heading",
     "level": 2,
     "metadata": {},
     "source": [
      "Cohorts"
     ]
    },
    {
     "cell_type": "markdown",
     "metadata": {},
     "source": [
      "* [__Metastatic Breast Cancer__](./Notebook/Activating ESR1 mutations in hormone-resistant metastatic breast cancer.ipynb)  \n",
      "    * Activating ESR1 mutations in hormone-resistant metastatic breast cancer [link](http://www.nature.com/ng/journal/v45/n12/full/ng.2823.html)  \n",
      "        * 11 ER+ patients, WES and Rna\n",
      "        * FMG: ESR1 (Activating Mutation)"
     ]
    },
    {
     "cell_type": "markdown",
     "metadata": {},
     "source": [
      "* [__Bile Duct Cancer__](./Notebook/Exome Sequencing Identifies Distinct Mutational Patterns in Liver Fluke-Related and Non-Infection-Related Bile Duct Cancers.ipynb)\n",
      "    * Exome Sequencing Identifies Distinct Mutational Patterns in Liver Fluke-Related and Non-Infection-Related Bile Duct Cancers [link](http://www.nature.com/ng/journal/v45/n12/full/ng.2806.html)\n",
      "        * 209 CCA Patients, WGS/WES\n",
      "            * From Asia & Europe\n",
      "        * Missense Mutations Dominant\n",
      "       \n"
     ]
    },
    {
     "cell_type": "markdown",
     "metadata": {},
     "source": [
      "* [__Lung Cancer__](./Notebook/Exome and whole-genome sequencing of esophageal adenocarcinoma identifies recurrent driver events and mutational complexity.ipynb)\n",
      "    * Exome and whole-genome sequencing of esophageal adenocarcinoma identifies recurrent driver events and mutational complexity [link](http://www.nature.com/ng/journal/v45/n5/full/ng.2591.html)  \n",
      "        * 149 EAC Pairs, WES\n",
      "        * 12 EAC Pairs, WGS\n",
      "        * New FMGs: SPG20, TLR4, ELMO1 and DOCK2\n",
      "    * [__Integrative and Comparative Genomic Analysis of Lung Squamous Cell Carcinomas in East Asian Patients.ipynb__](./Notebook/Integrative and Comparative Genomic Analysis of Lung Squamous Cell Carcinomas in East Asian Patients.ipynb)\n",
      "        * [link](http://jco.ascopubs.org/content/32/2/121.long)\n",
      "            * 104 Patients with LSCC: WES, RNA, Copy #, SNP\n",
      "            * FMGs: TP53, RB1, PTEN, NFE2L2, KEAP1, MLL2,and PIK3CA"
     ]
    },
    {
     "cell_type": "markdown",
     "metadata": {},
     "source": [
      "* [__Liver Cancer__](./Notebook/Exome sequencing identifies frequent inactivating mutations in BAP1, ARID1A and PBRM1 in intrahepatic cholangiocarcinomas.ipynb)\n",
      "    * Exome sequencing identifies frequent inactivating mutations in BAP1, ARID1A and PBRM1 in intrahepatic cholangiocarcinomas [link](http://www.nature.com/ng/journal/v45/n12/full/ng.2813.html)\n",
      "        * 32 Intrahepatic and 9 Gallbladder Cholangriocarcinomas, WES\n",
      "        * FMG's in Intrahepatic: BAP1, ARID1A, PBRM1, IDH1, IDH2 \n",
      "        * FMG in Gallbladder: TP53"
     ]
    },
    {
     "cell_type": "markdown",
     "metadata": {},
     "source": [
      "* [__Leuekemia__](./Notebook/Exome sequencing identifies secondary mutations of SETBP1 and JAK3 in juvenile myelomonocytic leukemia.ipynb)\n",
      "    * Exome sequencing identifies secondary mutations of SETBP1 and JAK3 in juvenile myelomonocytic leukemia [link](http://www.nature.com/ng/journal/v45/n8/full/ng.2698.html)\n",
      "        * 13 Paired Patients JMML, WES\n",
      "        * 92 Tumors targeted for 8 genes\n",
      "        * FMGs: SETBP1, JAK3"
     ]
    },
    {
     "cell_type": "markdown",
     "metadata": {},
     "source": [
      "* [__Prostate Cancer__](./Notebook/Exome sequencing identifies recurrent SPOP, FOXA1 and MED12 mutations in prostate cancer.ipynb)\n",
      "    * Exome sequencing identifies recurrent SPOP, FOXA1 and MED12 mutations in prostate cancer [link](http://www.nature.com/ng/journal/v44/n6/full/ng.2279.html)\n",
      "        * 112 Prostate Paired Patients, WES\n",
      "        * FMG's: SPOP, FOXA1, MED12"
     ]
    },
    {
     "cell_type": "markdown",
     "metadata": {},
     "source": [
      "* [__Meningioma__](./Notebook/Genomic sequencing of meningiomas identifies oncogenic SMO and AKT1 mutations.ipynb)\n",
      "    * Genomic sequencing of meningiomas identifies oncogenic SMO and AKT1 mutations.ipynb [link](http://www.nature.com/ng/journal/v45/n3/full/ng.2526.html)\n",
      "        * 11 Meningioma Patients, WGS Discovery\n",
      "        * 6 Meningioma Patients, WES Discovery\n",
      "        * Additional 48 Tumors Validation Sequencing\n",
      "        * FMG: NF2"
     ]
    },
    {
     "cell_type": "markdown",
     "metadata": {},
     "source": [
      "* [__Neuroblastoma__](./Notebook/Integrated genomic analyses identify ARID1A and ARID1B in the childhood cancer neuroblastoma.ipynb)\n",
      "    * Integrated genomic analyses identify ARID1A and ARID1B in the childhood cancer neuroblastoma [link](http://www.nature.com/ng/journal/v45/n1/full/ng.2493.html)\n",
      "        * 6 Child Neuroblastoma, WGS\n",
      "        * 16 with WES\n",
      "        * FMG: ARID1A, ARID1B, MYCN\n",
      "    * [__The Genetic Landscape of High-Risk Neuroblastoma.ipynb__](./Notebook/The Genetic Landscape of High-Risk Neuroblastoma.ipynb)\n",
      "        * [link](http://www.nature.com/ng/journal/v45/n3/full/ng.2529.html)\n",
      "            * 240 Children w/ High-Risk Neuroblastoma; WES, WGS, Transcriptome\n",
      "            * FMGs: ALK, PTPN11, ATRX, MYCN"
     ]
    },
    {
     "cell_type": "markdown",
     "metadata": {},
     "source": [
      "* [__MCL__](./Notebook/Landscape of somatic mutations and clonal evolution in mantle cell lymphoma.ipynb)\n",
      "    * Landscape of somatic mutations and clonal evolution in mantle cell lymphoma [link](http://www.ncbi.nlm.nih.gov/pubmed/24145436)\n",
      "        * 29 MCL matched Patients w/ 6 cell lines, WES and WGS\n",
      "        * 172 Patients, Validation\n",
      "        * FMG: \n",
      "            * Drivers- ATM, CCND1, TP53\n",
      "            * Chromatin Modifiers - WHSC1, MLL2, MEF2B\n",
      "            * Other - BIRC3m TLR2"
     ]
    },
    {
     "cell_type": "markdown",
     "metadata": {},
     "source": [
      "* [__aCML__](./Notebook/Recurrent SETBP1 Mutations in Atypical CML.ipynb)\n",
      "    * Recurrent SETBP1 Mutations in Atypical CML [link](http://www.nature.com/ng/journal/v45/n1/full/ng.2495.html)\n",
      "        * 8 Patients aCML, WES\n",
      "        * FMG: SETBP1\n",
      "        * Bad Tabula Data"
     ]
    },
    {
     "cell_type": "markdown",
     "metadata": {},
     "source": [
      "* [__Small Intestine Cancer__](./Notebook/Somatic Mutation of CDKN1B in Small Intestine Neuroendocrine Tumors.ipynb)\n",
      "    * Somatic Mutation of CDKN1B in Small Intestine Neuroendocrine Tumors [link](http://www.nature.com/ng/journal/v45/n12/full/ng.2821.html)\n",
      "        * 50 Patients (55 tumors) w SINT; WES, WGS\n",
      "        * FMG: CDKN1B"
     ]
    },
    {
     "cell_type": "markdown",
     "metadata": {},
     "source": [
      "* [__Myeloid Malignancy__](./Notebook/Somatic SETBP1 mutations in myeloid malignancies.ipynb)\n",
      "    * Somatic SETBP1 mutations in myeloid malignancies [link](http://www.nature.com/ng/journal/v45/n8/full/ng.2696.html)\n",
      "        * 20 patients w/ myeloid malignancy, WES\n",
      "        * FMG: SETBP1"
     ]
    },
    {
     "cell_type": "markdown",
     "metadata": {},
     "source": [
      "* [__Solitary Fibrous Tumor__](./Notebook/Whole-exome sequencing identifies a recurrent NAB2-STAT6 fusion in solitary fibrous tumors.ipynb) \n",
      "    * Whole-exome sequencing identifies a recurrent NAB2-STAT6 fusion in solitary fibrous tumors [link](http://www.nature.com/ng/journal/v45/n2/full/ng.2522.html) \n",
      "        * 17 Patients w/ SFTS, WES\n",
      "        * 53 Tumors Analyzed\n",
      "        * NAB2-STAT6 Fusion in 55% of tumors "
     ]
    },
    {
     "cell_type": "markdown",
     "metadata": {},
     "source": [
      "* [__ACC__](./Notebook/The Mutational Landscape of Adenoid Cystic Carcinoma.ipynb)\n",
      "    * The Mutation Landscape of Adenoid Cystic Carcinoma [link](http://www.nature.com/ng/journal/v45/n7/full/ng.2643.html)\n",
      "        * 60 ACC Pairs; WES and WGS\n",
      "        * FMG: SMARCA2, CREBBP, KDM6A\n",
      "        * Recurrent mutations in FGF-IGF-PI3K pathway\n",
      "        * MYB-NFIB Translocations\n"
     ]
    },
    {
     "cell_type": "markdown",
     "metadata": {},
     "source": [
      "* [__Bladder Cancer__](./Notebook/Whole-genome and whole-exome sequencing of bladder cancer identifies frequent alterations in genes involved in sister chromatid cohesion and segregation.ipynb.ipynb)\n",
      "    * Whole-genome and whole-exome sequencing of bladder cancer identifies frequent alterations in genes involved in sister chromatid cohesion and segregation [link](http://www.nature.com/ng/journal/v45/n12/full/ng.2798.html)\n",
      "        * 99 patients w/ TCC; WGS and WES\n",
      "        * FMGs: STAG2, ESPL1\n",
      "        * Recurrent Fusion: FGR3 w/ TACC3"
     ]
    },
    {
     "cell_type": "heading",
     "level": 2,
     "metadata": {},
     "source": [
      "Analysis"
     ]
    },
    {
     "cell_type": "markdown",
     "metadata": {},
     "source": [
      "* [__Merged.ipynb__](./Notebook/Merged.ipynb)"
     ]
    }
   ],
   "metadata": {}
  }
 ]
}