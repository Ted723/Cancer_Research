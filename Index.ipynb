{
 "metadata": {
  "name": "",
  "signature": "sha256:f0d5850c004c5cffec5d0be4c27cdb97128dc395a1583afaf69a2a4ef222d0b8"
 },
 "nbformat": 3,
 "nbformat_minor": 0,
 "worksheets": [
  {
   "cells": [
    {
     "cell_type": "markdown",
     "metadata": {},
     "source": [
      "<b>Initialize</b>\n",
      "\n",
      "* [],(./"
     ]
    },
    {
     "cell_type": "markdown",
     "metadata": {},
     "source": [
      "<b>Notebook Links</b>\n",
      "\n",
      "* ..."
     ]
    },
    {
     "cell_type": "code",
     "collapsed": false,
     "input": [],
     "language": "python",
     "metadata": {},
     "outputs": []
    }
   ],
   "metadata": {}
  }
 ]
}