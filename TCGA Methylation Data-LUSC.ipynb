{
 "metadata": {
  "kernelspec": {
   "codemirror_mode": {
    "name": "ipython",
    "version": 2
   },
   "display_name": "IPython (Python 2)",
   "language": "python",
   "name": "python2"
  },
  "name": "",
  "signature": "sha256:b22ea8574c839ecd4c1cb662fc4bc2931c08ee199ec5df7517a8e01a7fab8f1f"
 },
 "nbformat": 3,
 "nbformat_minor": 0,
 "worksheets": [
  {
   "cells": [
    {
     "cell_type": "heading",
     "level": 1,
     "metadata": {},
     "source": [
      "Get TCGA Methylation Data"
     ]
    },
    {
     "cell_type": "markdown",
     "metadata": {},
     "source": [
      "<b>Imports</b>"
     ]
    },
    {
     "cell_type": "code",
     "collapsed": false,
     "input": [
      "from bs4 import BeautifulSoup\n",
      "import urllib2\n",
      "from urllib2 import HTTPError\n",
      "import pandas as pd\n",
      "import os as os\n",
      "import StringIO\n",
      "import gzip"
     ],
     "language": "python",
     "metadata": {},
     "outputs": [],
     "prompt_number": 1
    },
    {
     "cell_type": "markdown",
     "metadata": {},
     "source": [
      "<b>Directory Currently In:</b>"
     ]
    },
    {
     "cell_type": "code",
     "collapsed": false,
     "input": [
      "pwd"
     ],
     "language": "python",
     "metadata": {},
     "outputs": [
      {
       "metadata": {},
       "output_type": "pyout",
       "prompt_number": 14,
       "text": [
        "u'/cellar/users/talejand/Documents/IdekerLab/BackUp'"
       ]
      }
     ],
     "prompt_number": 14
    },
    {
     "cell_type": "code",
     "collapsed": false,
     "input": [
      "ls"
     ],
     "language": "python",
     "metadata": {},
     "outputs": [
      {
       "output_type": "stream",
       "stream": "stdout",
       "text": [
        "\u001b[0m\u001b[01;34mBLCA_Meth_Data\u001b[0m/  \u001b[01;34mLIHC_Meth_Data\u001b[0m/\r\n",
        "\u001b[01;34mBRCA_Meth_Data\u001b[0m/  \u001b[01;34mMethyl\u001b[0m/\r\n",
        "\u001b[01;34mCESC_Meth_Data\u001b[0m/  \u001b[01;34mNotebook\u001b[0m/\r\n",
        "\u001b[01;34mCHOL_Meth_Data\u001b[0m/  qcReport.pdf\r\n",
        "\u001b[01;34mCOAD_Meth_Data\u001b[0m/  Sample_Sheet.csv\r\n",
        "\u001b[01;34mESCA_Meth_Data\u001b[0m/  Sample_Sheet.ods\r\n",
        "filess           \u001b[01;34mtcga-data.nci.nih.gov\u001b[0m/\r\n",
        "filess~          TCGA Methylation Data Code Tries.ipynb\r\n",
        "\u001b[01;34mGBM_Meth_Data\u001b[0m/   TCGA Methylation Data-Different Real.ipynb\r\n",
        "\u001b[01;34mHNSC_Meth_Data\u001b[0m/  TCGA Methylation Data-Get_Patient_Data.ipynb\r\n",
        "\u001b[01;34mJustinCase\u001b[0m/      TCGA Methylation Data OG.ipynb\r\n",
        "\u001b[01;34mKIRC_Meth_Data\u001b[0m/  TCGA Methylation Data-RealTry-Indivdownload-Copy0.ipynb\r\n",
        "\u001b[01;34mKIRP_Meth_Data\u001b[0m/  TCGA Methylation Data-RealTry-Indivdownload.ipynb\r\n",
        "\u001b[01;34mLAML_Meth_Data\u001b[0m/  tmp.html\r\n",
        "\u001b[01;34mLGG_Meth_Data\u001b[0m/\r\n"
       ]
      }
     ],
     "prompt_number": 15
    },
    {
     "cell_type": "markdown",
     "metadata": {},
     "source": [
      "<b>Outpaths</b>"
     ]
    },
    {
     "cell_type": "code",
     "collapsed": false,
     "input": [
      "PATH_TO_CERT = 'JustinCase/cacert.pem'\n",
      "OUT_PATH = 'Methyl'\n",
      "out_path = OUT_PATH + '/New_Methyl_Data'\n",
      "if not os.path.isdir(out_path):\n",
      "    os.mkdir(out_path)"
     ],
     "language": "python",
     "metadata": {},
     "outputs": [],
     "prompt_number": 2
    },
    {
     "cell_type": "markdown",
     "metadata": {},
     "source": [
      "<b>Path to TCGA Website</b>"
     ]
    },
    {
     "cell_type": "code",
     "collapsed": false,
     "input": [
      "base_url = 'https://tcga-data.nci.nih.gov/tcgafiles/ftp_auth/distro_ftpusers/anonymous/tumor/'"
     ],
     "language": "python",
     "metadata": {},
     "outputs": [],
     "prompt_number": 5
    },
    {
     "cell_type": "code",
     "collapsed": false,
     "input": [
      "url = 'https://tcga-data.nci.nih.gov/tcgafiles/ftp_auth/distro_ftpusers/anonymous/tumor/lusc/cgcc/jhu-usc.edu/humanmethylation450/methylation/'"
     ],
     "language": "python",
     "metadata": {},
     "outputs": [],
     "prompt_number": 3
    },
    {
     "cell_type": "markdown",
     "metadata": {},
     "source": [
      "<b>Download Certificate (Optional?)</b>"
     ]
    },
    {
     "cell_type": "code",
     "collapsed": false,
     "input": [
      "!curl --cacert $PATH_TO_CERT $url -o tmp.html"
     ],
     "language": "python",
     "metadata": {},
     "outputs": [
      {
       "output_type": "stream",
       "stream": "stdout",
       "text": [
        "  % Total    % Received % Xferd  Average Speed   Time    Time     Time  Current\r\n",
        "                                 Dload  Upload   Total   Spent    Left  Speed\r\n",
        "\r",
        "  0     0    0     0    0     0      0      0 --:--:-- --:--:-- --:--:--     0"
       ]
      },
      {
       "output_type": "stream",
       "stream": "stdout",
       "text": [
        "\r",
        "  0     0    0     0    0     0      0      0 --:--:-- --:--:-- --:--:--     0"
       ]
      },
      {
       "output_type": "stream",
       "stream": "stdout",
       "text": [
        "\r",
        "100  154k    0  154k    0     0   139k      0 --:--:--  0:00:01 --:--:--  139k\r\n"
       ]
      }
     ],
     "prompt_number": 4
    },
    {
     "cell_type": "markdown",
     "metadata": {},
     "source": [
      "<b>Beautiful Soup module is used to parse links from webpage </b>"
     ]
    },
    {
     "cell_type": "code",
     "collapsed": false,
     "input": [
      "#webpage = urllib2.urlopen(url + 'jhu-usc.edu_HNSC.HumanMethylation450.Level_1.1.0.0.tar.gz').read()\n",
      "#webpage = urllib2.urlopen(url).read()\n",
      "webpage = open('tmp.html', 'rb').read()\n",
      "soup = BeautifulSoup(webpage)\n",
      "soup"
     ],
     "language": "python",
     "metadata": {},
     "outputs": [
      {
       "metadata": {},
       "output_type": "pyout",
       "prompt_number": 5,
       "text": [
        "<!DOCTYPE HTML PUBLIC \"-//W3C//DTD HTML 3.2 Final//EN\">\n",
        "<html>\n",
        "<head>\n",
        "<title>Index of /tcgafiles/ftp_auth/distro_ftpusers/anonymous/tumor/lusc/cgcc/jhu-usc.edu/humanmethylation450/methylation</title>\n",
        "</head>\n",
        "<body>\n",
        "<h1>Index of /tcgafiles/ftp_auth/distro_ftpusers/anonymous/tumor/lusc/cgcc/jhu-usc.edu/humanmethylation450/methylation</h1>\n",
        "<pre>      <a href=\"?C=N;O=D\">Name</a>                                                                                           <a href=\"?C=M;O=A\">Last modified</a>      <a href=\"?C=S;O=A\">Size</a>  <hr/>      <a href=\"/tcgafiles/ftp_auth/distro_ftpusers/anonymous/tumor/lusc/cgcc/jhu-usc.edu/humanmethylation450/\">Parent Directory</a>                                                                                                    -   \n",
        "      <a href=\"jhu-usc.edu_LUSC.HumanMethylation450.Level_1.1.0.0.tar.gz\">jhu-usc.edu_LUSC.HumanMethylation450.Level_1.1.0.0.tar.gz</a>                                      2011-11-07 17:37  310M  \n",
        "      <a href=\"jhu-usc.edu_LUSC.HumanMethylation450.Level_1.1.0.0.tar.gz.md5\">jhu-usc.edu_LUSC.HumanMethylation450.Level_1.1.0.0.tar.gz.md5</a>                                  2011-11-07 17:37   91   \n",
        "      <a href=\"jhu-usc.edu_LUSC.HumanMethylation450.Level_1.1.1.0.tar.gz\">jhu-usc.edu_LUSC.HumanMethylation450.Level_1.1.1.0.tar.gz</a>                                      2012-01-04 16:50   24M  \n",
        "      <a href=\"jhu-usc.edu_LUSC.HumanMethylation450.Level_1.1.1.0.tar.gz.md5\">jhu-usc.edu_LUSC.HumanMethylation450.Level_1.1.1.0.tar.gz.md5</a>                                  2012-01-04 16:50   91   \n",
        "      <a href=\"jhu-usc.edu_LUSC.HumanMethylation450.Level_1.1.2.0.tar.gz\">jhu-usc.edu_LUSC.HumanMethylation450.Level_1.1.2.0.tar.gz</a>                                      2012-02-28 17:46   24M  \n",
        "      <a href=\"jhu-usc.edu_LUSC.HumanMethylation450.Level_1.1.2.0.tar.gz.md5\">jhu-usc.edu_LUSC.HumanMethylation450.Level_1.1.2.0.tar.gz.md5</a>                                  2012-02-28 17:46   91   \n",
        "      <a href=\"jhu-usc.edu_LUSC.HumanMethylation450.Level_1.1.2.0/\">jhu-usc.edu_LUSC.HumanMethylation450.Level_1.1.2.0/</a>                                            2012-02-28 17:46    -   \n",
        "      <a href=\"jhu-usc.edu_LUSC.HumanMethylation450.Level_1.1.3.0.tar.gz\">jhu-usc.edu_LUSC.HumanMethylation450.Level_1.1.3.0.tar.gz</a>                                      2012-10-07 06:55   24M  \n",
        "      <a href=\"jhu-usc.edu_LUSC.HumanMethylation450.Level_1.1.3.0.tar.gz.md5\">jhu-usc.edu_LUSC.HumanMethylation450.Level_1.1.3.0.tar.gz.md5</a>                                  2012-10-07 06:55   91   \n",
        "      <a href=\"jhu-usc.edu_LUSC.HumanMethylation450.Level_1.1.3.0/\">jhu-usc.edu_LUSC.HumanMethylation450.Level_1.1.3.0/</a>                                            2012-10-07 06:55    -   \n",
        "      <a href=\"jhu-usc.edu_LUSC.HumanMethylation450.Level_1.1.4.0.tar.gz\">jhu-usc.edu_LUSC.HumanMethylation450.Level_1.1.4.0.tar.gz</a>                                      2012-10-30 08:04   24M  \n",
        "      <a href=\"jhu-usc.edu_LUSC.HumanMethylation450.Level_1.1.4.0.tar.gz.md5\">jhu-usc.edu_LUSC.HumanMethylation450.Level_1.1.4.0.tar.gz.md5</a>                                  2012-10-30 08:04   91   \n",
        "      <a href=\"jhu-usc.edu_LUSC.HumanMethylation450.Level_1.1.4.0/\">jhu-usc.edu_LUSC.HumanMethylation450.Level_1.1.4.0/</a>                                            2012-10-30 08:04    -   \n",
        "      <a href=\"jhu-usc.edu_LUSC.HumanMethylation450.Level_1.1.5.0.tar.gz\">jhu-usc.edu_LUSC.HumanMethylation450.Level_1.1.5.0.tar.gz</a>                                      2013-03-16 02:57   24M  \n",
        "      <a href=\"jhu-usc.edu_LUSC.HumanMethylation450.Level_1.1.5.0.tar.gz.md5\">jhu-usc.edu_LUSC.HumanMethylation450.Level_1.1.5.0.tar.gz.md5</a>                                  2013-03-16 02:57   91   \n",
        "      <a href=\"jhu-usc.edu_LUSC.HumanMethylation450.Level_1.1.5.0/\">jhu-usc.edu_LUSC.HumanMethylation450.Level_1.1.5.0/</a>                                            2013-03-16 02:56    -   \n",
        "      <a href=\"jhu-usc.edu_LUSC.HumanMethylation450.Level_1.1.6.0.tar.gz\">jhu-usc.edu_LUSC.HumanMethylation450.Level_1.1.6.0.tar.gz</a>                                      2013-06-18 18:28   24M  \n",
        "      <a href=\"jhu-usc.edu_LUSC.HumanMethylation450.Level_1.1.6.0.tar.gz.md5\">jhu-usc.edu_LUSC.HumanMethylation450.Level_1.1.6.0.tar.gz.md5</a>                                  2013-06-18 18:28   91   \n",
        "      <a href=\"jhu-usc.edu_LUSC.HumanMethylation450.Level_1.1.6.0/\">jhu-usc.edu_LUSC.HumanMethylation450.Level_1.1.6.0/</a>                                            2013-06-18 18:28    -   \n",
        "      <a href=\"jhu-usc.edu_LUSC.HumanMethylation450.Level_1.1.7.0.tar.gz\">jhu-usc.edu_LUSC.HumanMethylation450.Level_1.1.7.0.tar.gz</a>                                      2015-01-26 20:29   24M  \n",
        "      <a href=\"jhu-usc.edu_LUSC.HumanMethylation450.Level_1.1.7.0.tar.gz.md5\">jhu-usc.edu_LUSC.HumanMethylation450.Level_1.1.7.0.tar.gz.md5</a>                                  2015-01-26 20:29   91   \n",
        "      <a href=\"jhu-usc.edu_LUSC.HumanMethylation450.Level_1.1.7.0/\">jhu-usc.edu_LUSC.HumanMethylation450.Level_1.1.7.0/</a>                                            2015-01-26 20:28    -   \n",
        "      <a href=\"jhu-usc.edu_LUSC.HumanMethylation450.Level_1.10.3.0.tar.gz\">jhu-usc.edu_LUSC.HumanMethylation450.Level_1.10.3.0.tar.gz</a>                                     2012-10-07 06:54  163M  \n",
        "      <a href=\"jhu-usc.edu_LUSC.HumanMethylation450.Level_1.10.3.0.tar.gz.md5\">jhu-usc.edu_LUSC.HumanMethylation450.Level_1.10.3.0.tar.gz.md5</a>                                 2012-10-07 06:54   92   \n",
        "      <a href=\"jhu-usc.edu_LUSC.HumanMethylation450.Level_1.10.3.0/\">jhu-usc.edu_LUSC.HumanMethylation450.Level_1.10.3.0/</a>                                           2012-10-07 06:54    -   \n",
        "      <a href=\"jhu-usc.edu_LUSC.HumanMethylation450.Level_1.10.4.0.tar.gz\">jhu-usc.edu_LUSC.HumanMethylation450.Level_1.10.4.0.tar.gz</a>                                     2012-10-30 08:03  163M  \n",
        "      <a href=\"jhu-usc.edu_LUSC.HumanMethylation450.Level_1.10.4.0.tar.gz.md5\">jhu-usc.edu_LUSC.HumanMethylation450.Level_1.10.4.0.tar.gz.md5</a>                                 2012-10-30 08:03   92   \n",
        "      <a href=\"jhu-usc.edu_LUSC.HumanMethylation450.Level_1.10.4.0/\">jhu-usc.edu_LUSC.HumanMethylation450.Level_1.10.4.0/</a>                                           2012-10-30 08:03    -   \n",
        "      <a href=\"jhu-usc.edu_LUSC.HumanMethylation450.Level_1.10.5.0.tar.gz\">jhu-usc.edu_LUSC.HumanMethylation450.Level_1.10.5.0.tar.gz</a>                                     2013-03-16 02:56  163M  \n",
        "      <a href=\"jhu-usc.edu_LUSC.HumanMethylation450.Level_1.10.5.0.tar.gz.md5\">jhu-usc.edu_LUSC.HumanMethylation450.Level_1.10.5.0.tar.gz.md5</a>                                 2013-03-16 02:56   92   \n",
        "      <a href=\"jhu-usc.edu_LUSC.HumanMethylation450.Level_1.10.5.0/\">jhu-usc.edu_LUSC.HumanMethylation450.Level_1.10.5.0/</a>                                           2013-03-16 02:56    -   \n",
        "      <a href=\"jhu-usc.edu_LUSC.HumanMethylation450.Level_1.10.6.0.tar.gz\">jhu-usc.edu_LUSC.HumanMethylation450.Level_1.10.6.0.tar.gz</a>                                     2013-06-18 18:29  163M  \n",
        "      <a href=\"jhu-usc.edu_LUSC.HumanMethylation450.Level_1.10.6.0.tar.gz.md5\">jhu-usc.edu_LUSC.HumanMethylation450.Level_1.10.6.0.tar.gz.md5</a>                                 2013-06-18 18:29   92   \n",
        "      <a href=\"jhu-usc.edu_LUSC.HumanMethylation450.Level_1.10.6.0/\">jhu-usc.edu_LUSC.HumanMethylation450.Level_1.10.6.0/</a>                                           2013-06-18 18:28    -   \n",
        "      <a href=\"jhu-usc.edu_LUSC.HumanMethylation450.Level_1.10.7.0.tar.gz\">jhu-usc.edu_LUSC.HumanMethylation450.Level_1.10.7.0.tar.gz</a>                                     2015-01-26 20:28  163M  \n",
        "      <a href=\"jhu-usc.edu_LUSC.HumanMethylation450.Level_1.10.7.0.tar.gz.md5\">jhu-usc.edu_LUSC.HumanMethylation450.Level_1.10.7.0.tar.gz.md5</a>                                 2015-01-26 20:28   92   \n",
        "      <a href=\"jhu-usc.edu_LUSC.HumanMethylation450.Level_1.10.7.0/\">jhu-usc.edu_LUSC.HumanMethylation450.Level_1.10.7.0/</a>                                           2015-01-26 20:28    -   \n",
        "      <a href=\"jhu-usc.edu_LUSC.HumanMethylation450.Level_1.11.3.0.tar.gz\">jhu-usc.edu_LUSC.HumanMethylation450.Level_1.11.3.0.tar.gz</a>                                     2012-10-07 07:03  130M  \n",
        "      <a href=\"jhu-usc.edu_LUSC.HumanMethylation450.Level_1.11.3.0.tar.gz.md5\">jhu-usc.edu_LUSC.HumanMethylation450.Level_1.11.3.0.tar.gz.md5</a>                                 2012-10-07 07:03   92   \n",
        "      <a href=\"jhu-usc.edu_LUSC.HumanMethylation450.Level_1.11.3.0/\">jhu-usc.edu_LUSC.HumanMethylation450.Level_1.11.3.0/</a>                                           2012-10-07 07:02    -   \n",
        "      <a href=\"jhu-usc.edu_LUSC.HumanMethylation450.Level_1.11.4.0.tar.gz\">jhu-usc.edu_LUSC.HumanMethylation450.Level_1.11.4.0.tar.gz</a>                                     2012-10-30 08:12  130M  \n",
        "      <a href=\"jhu-usc.edu_LUSC.HumanMethylation450.Level_1.11.4.0.tar.gz.md5\">jhu-usc.edu_LUSC.HumanMethylation450.Level_1.11.4.0.tar.gz.md5</a>                                 2012-10-30 08:12   92   \n",
        "      <a href=\"jhu-usc.edu_LUSC.HumanMethylation450.Level_1.11.4.0/\">jhu-usc.edu_LUSC.HumanMethylation450.Level_1.11.4.0/</a>                                           2012-10-30 08:11    -   \n",
        "      <a href=\"jhu-usc.edu_LUSC.HumanMethylation450.Level_1.11.5.0.tar.gz\">jhu-usc.edu_LUSC.HumanMethylation450.Level_1.11.5.0.tar.gz</a>                                     2013-03-16 02:51  130M  \n",
        "      <a href=\"jhu-usc.edu_LUSC.HumanMethylation450.Level_1.11.5.0.tar.gz.md5\">jhu-usc.edu_LUSC.HumanMethylation450.Level_1.11.5.0.tar.gz.md5</a>                                 2013-03-16 02:51   92   \n",
        "      <a href=\"jhu-usc.edu_LUSC.HumanMethylation450.Level_1.11.5.0/\">jhu-usc.edu_LUSC.HumanMethylation450.Level_1.11.5.0/</a>                                           2013-03-16 02:50    -   \n",
        "      <a href=\"jhu-usc.edu_LUSC.HumanMethylation450.Level_1.11.6.0.tar.gz\">jhu-usc.edu_LUSC.HumanMethylation450.Level_1.11.6.0.tar.gz</a>                                     2013-06-18 18:22  130M  \n",
        "      <a href=\"jhu-usc.edu_LUSC.HumanMethylation450.Level_1.11.6.0.tar.gz.md5\">jhu-usc.edu_LUSC.HumanMethylation450.Level_1.11.6.0.tar.gz.md5</a>                                 2013-06-18 18:23   92   \n",
        "      <a href=\"jhu-usc.edu_LUSC.HumanMethylation450.Level_1.11.6.0/\">jhu-usc.edu_LUSC.HumanMethylation450.Level_1.11.6.0/</a>                                           2013-06-18 18:22    -   \n",
        "      <a href=\"jhu-usc.edu_LUSC.HumanMethylation450.Level_1.11.7.0.tar.gz\">jhu-usc.edu_LUSC.HumanMethylation450.Level_1.11.7.0.tar.gz</a>                                     2015-01-26 20:22  130M  \n",
        "      <a href=\"jhu-usc.edu_LUSC.HumanMethylation450.Level_1.11.7.0.tar.gz.md5\">jhu-usc.edu_LUSC.HumanMethylation450.Level_1.11.7.0.tar.gz.md5</a>                                 2015-01-26 20:22   92   \n",
        "      <a href=\"jhu-usc.edu_LUSC.HumanMethylation450.Level_1.11.7.0/\">jhu-usc.edu_LUSC.HumanMethylation450.Level_1.11.7.0/</a>                                           2015-01-26 20:21    -   \n",
        "      <a href=\"jhu-usc.edu_LUSC.HumanMethylation450.Level_1.12.5.0.tar.gz\">jhu-usc.edu_LUSC.HumanMethylation450.Level_1.12.5.0.tar.gz</a>                                     2013-03-16 02:52  129M  \n",
        "      <a href=\"jhu-usc.edu_LUSC.HumanMethylation450.Level_1.12.5.0.tar.gz.md5\">jhu-usc.edu_LUSC.HumanMethylation450.Level_1.12.5.0.tar.gz.md5</a>                                 2013-03-16 02:52   92   \n",
        "      <a href=\"jhu-usc.edu_LUSC.HumanMethylation450.Level_1.12.5.0/\">jhu-usc.edu_LUSC.HumanMethylation450.Level_1.12.5.0/</a>                                           2013-03-16 02:51    -   \n",
        "      <a href=\"jhu-usc.edu_LUSC.HumanMethylation450.Level_1.12.6.0.tar.gz\">jhu-usc.edu_LUSC.HumanMethylation450.Level_1.12.6.0.tar.gz</a>                                     2013-06-18 18:23  129M  \n",
        "      <a href=\"jhu-usc.edu_LUSC.HumanMethylation450.Level_1.12.6.0.tar.gz.md5\">jhu-usc.edu_LUSC.HumanMethylation450.Level_1.12.6.0.tar.gz.md5</a>                                 2013-06-18 18:23   92   \n",
        "      <a href=\"jhu-usc.edu_LUSC.HumanMethylation450.Level_1.12.6.0/\">jhu-usc.edu_LUSC.HumanMethylation450.Level_1.12.6.0/</a>                                           2013-06-18 18:23    -   \n",
        "      <a href=\"jhu-usc.edu_LUSC.HumanMethylation450.Level_1.12.7.0.tar.gz\">jhu-usc.edu_LUSC.HumanMethylation450.Level_1.12.7.0.tar.gz</a>                                     2015-01-26 20:23  129M  \n",
        "      <a href=\"jhu-usc.edu_LUSC.HumanMethylation450.Level_1.12.7.0.tar.gz.md5\">jhu-usc.edu_LUSC.HumanMethylation450.Level_1.12.7.0.tar.gz.md5</a>                                 2015-01-26 20:23   92   \n",
        "      <a href=\"jhu-usc.edu_LUSC.HumanMethylation450.Level_1.12.7.0/\">jhu-usc.edu_LUSC.HumanMethylation450.Level_1.12.7.0/</a>                                           2015-01-26 20:22    -   \n",
        "      <a href=\"jhu-usc.edu_LUSC.HumanMethylation450.Level_1.13.5.0.tar.gz\">jhu-usc.edu_LUSC.HumanMethylation450.Level_1.13.5.0.tar.gz</a>                                     2013-03-16 02:50   88M  \n",
        "      <a href=\"jhu-usc.edu_LUSC.HumanMethylation450.Level_1.13.5.0.tar.gz.md5\">jhu-usc.edu_LUSC.HumanMethylation450.Level_1.13.5.0.tar.gz.md5</a>                                 2013-03-16 02:50   92   \n",
        "      <a href=\"jhu-usc.edu_LUSC.HumanMethylation450.Level_1.13.5.0/\">jhu-usc.edu_LUSC.HumanMethylation450.Level_1.13.5.0/</a>                                           2013-03-16 02:50    -   \n",
        "      <a href=\"jhu-usc.edu_LUSC.HumanMethylation450.Level_1.13.6.0.tar.gz\">jhu-usc.edu_LUSC.HumanMethylation450.Level_1.13.6.0.tar.gz</a>                                     2013-06-18 18:21   88M  \n",
        "      <a href=\"jhu-usc.edu_LUSC.HumanMethylation450.Level_1.13.6.0.tar.gz.md5\">jhu-usc.edu_LUSC.HumanMethylation450.Level_1.13.6.0.tar.gz.md5</a>                                 2013-06-18 18:21   92   \n",
        "      <a href=\"jhu-usc.edu_LUSC.HumanMethylation450.Level_1.13.6.0/\">jhu-usc.edu_LUSC.HumanMethylation450.Level_1.13.6.0/</a>                                           2013-06-18 18:21    -   \n",
        "      <a href=\"jhu-usc.edu_LUSC.HumanMethylation450.Level_1.13.7.0.tar.gz\">jhu-usc.edu_LUSC.HumanMethylation450.Level_1.13.7.0.tar.gz</a>                                     2015-01-26 20:20   88M  \n",
        "      <a href=\"jhu-usc.edu_LUSC.HumanMethylation450.Level_1.13.7.0.tar.gz.md5\">jhu-usc.edu_LUSC.HumanMethylation450.Level_1.13.7.0.tar.gz.md5</a>                                 2015-01-26 20:20   92   \n",
        "      <a href=\"jhu-usc.edu_LUSC.HumanMethylation450.Level_1.13.7.0/\">jhu-usc.edu_LUSC.HumanMethylation450.Level_1.13.7.0/</a>                                           2015-01-26 20:20    -   \n",
        "      <a href=\"jhu-usc.edu_LUSC.HumanMethylation450.Level_1.14.6.0.tar.gz\">jhu-usc.edu_LUSC.HumanMethylation450.Level_1.14.6.0.tar.gz</a>                                     2013-06-18 18:22  113M  \n",
        "      <a href=\"jhu-usc.edu_LUSC.HumanMethylation450.Level_1.14.6.0.tar.gz.md5\">jhu-usc.edu_LUSC.HumanMethylation450.Level_1.14.6.0.tar.gz.md5</a>                                 2013-06-18 18:22   92   \n",
        "      <a href=\"jhu-usc.edu_LUSC.HumanMethylation450.Level_1.14.6.0/\">jhu-usc.edu_LUSC.HumanMethylation450.Level_1.14.6.0/</a>                                           2013-06-18 18:21    -   \n",
        "      <a href=\"jhu-usc.edu_LUSC.HumanMethylation450.Level_1.14.7.0.tar.gz\">jhu-usc.edu_LUSC.HumanMethylation450.Level_1.14.7.0.tar.gz</a>                                     2015-01-26 20:21  113M  \n",
        "      <a href=\"jhu-usc.edu_LUSC.HumanMethylation450.Level_1.14.7.0.tar.gz.md5\">jhu-usc.edu_LUSC.HumanMethylation450.Level_1.14.7.0.tar.gz.md5</a>                                 2015-01-26 20:21   92   \n",
        "      <a href=\"jhu-usc.edu_LUSC.HumanMethylation450.Level_1.14.7.0/\">jhu-usc.edu_LUSC.HumanMethylation450.Level_1.14.7.0/</a>                                           2015-01-26 20:21    -   \n",
        "      <a href=\"jhu-usc.edu_LUSC.HumanMethylation450.Level_1.15.6.0.tar.gz\">jhu-usc.edu_LUSC.HumanMethylation450.Level_1.15.6.0.tar.gz</a>                                     2013-06-18 18:18  177M  \n",
        "      <a href=\"jhu-usc.edu_LUSC.HumanMethylation450.Level_1.15.6.0.tar.gz.md5\">jhu-usc.edu_LUSC.HumanMethylation450.Level_1.15.6.0.tar.gz.md5</a>                                 2013-06-18 18:18   92   \n",
        "      <a href=\"jhu-usc.edu_LUSC.HumanMethylation450.Level_1.15.6.0/\">jhu-usc.edu_LUSC.HumanMethylation450.Level_1.15.6.0/</a>                                           2013-06-18 18:17    -   \n",
        "      <a href=\"jhu-usc.edu_LUSC.HumanMethylation450.Level_1.15.7.0.tar.gz\">jhu-usc.edu_LUSC.HumanMethylation450.Level_1.15.7.0.tar.gz</a>                                     2015-01-26 20:17  177M  \n",
        "      <a href=\"jhu-usc.edu_LUSC.HumanMethylation450.Level_1.15.7.0.tar.gz.md5\">jhu-usc.edu_LUSC.HumanMethylation450.Level_1.15.7.0.tar.gz.md5</a>                                 2015-01-26 20:17   92   \n",
        "      <a href=\"jhu-usc.edu_LUSC.HumanMethylation450.Level_1.15.7.0/\">jhu-usc.edu_LUSC.HumanMethylation450.Level_1.15.7.0/</a>                                           2015-01-26 20:17    -   \n",
        "      <a href=\"jhu-usc.edu_LUSC.HumanMethylation450.Level_1.16.6.0.tar.gz\">jhu-usc.edu_LUSC.HumanMethylation450.Level_1.16.6.0.tar.gz</a>                                     2013-06-18 18:20  396M  \n",
        "      <a href=\"jhu-usc.edu_LUSC.HumanMethylation450.Level_1.16.6.0.tar.gz.md5\">jhu-usc.edu_LUSC.HumanMethylation450.Level_1.16.6.0.tar.gz.md5</a>                                 2013-06-18 18:20   92   \n",
        "      <a href=\"jhu-usc.edu_LUSC.HumanMethylation450.Level_1.16.6.0/\">jhu-usc.edu_LUSC.HumanMethylation450.Level_1.16.6.0/</a>                                           2013-06-18 18:18    -   \n",
        "      <a href=\"jhu-usc.edu_LUSC.HumanMethylation450.Level_1.16.7.0.tar.gz\">jhu-usc.edu_LUSC.HumanMethylation450.Level_1.16.7.0.tar.gz</a>                                     2015-01-26 20:20  396M  \n",
        "      <a href=\"jhu-usc.edu_LUSC.HumanMethylation450.Level_1.16.7.0.tar.gz.md5\">jhu-usc.edu_LUSC.HumanMethylation450.Level_1.16.7.0.tar.gz.md5</a>                                 2015-01-26 20:20   92   \n",
        "      <a href=\"jhu-usc.edu_LUSC.HumanMethylation450.Level_1.16.7.0/\">jhu-usc.edu_LUSC.HumanMethylation450.Level_1.16.7.0/</a>                                           2015-01-26 20:18    -   \n",
        "      <a href=\"jhu-usc.edu_LUSC.HumanMethylation450.Level_1.17.6.0.tar.gz\">jhu-usc.edu_LUSC.HumanMethylation450.Level_1.17.6.0.tar.gz</a>                                     2013-06-18 18:17  219M  \n",
        "      <a href=\"jhu-usc.edu_LUSC.HumanMethylation450.Level_1.17.6.0.tar.gz.md5\">jhu-usc.edu_LUSC.HumanMethylation450.Level_1.17.6.0.tar.gz.md5</a>                                 2013-06-18 18:17   92   \n",
        "      <a href=\"jhu-usc.edu_LUSC.HumanMethylation450.Level_1.17.6.0/\">jhu-usc.edu_LUSC.HumanMethylation450.Level_1.17.6.0/</a>                                           2013-06-18 18:16    -   \n",
        "      <a href=\"jhu-usc.edu_LUSC.HumanMethylation450.Level_1.17.7.0.tar.gz\">jhu-usc.edu_LUSC.HumanMethylation450.Level_1.17.7.0.tar.gz</a>                                     2015-01-26 20:15  219M  \n",
        "      <a href=\"jhu-usc.edu_LUSC.HumanMethylation450.Level_1.17.7.0.tar.gz.md5\">jhu-usc.edu_LUSC.HumanMethylation450.Level_1.17.7.0.tar.gz.md5</a>                                 2015-01-26 20:15   92   \n",
        "      <a href=\"jhu-usc.edu_LUSC.HumanMethylation450.Level_1.17.7.0/\">jhu-usc.edu_LUSC.HumanMethylation450.Level_1.17.7.0/</a>                                           2015-01-26 20:14    -   \n",
        "      <a href=\"jhu-usc.edu_LUSC.HumanMethylation450.Level_1.18.7.0.tar.gz\">jhu-usc.edu_LUSC.HumanMethylation450.Level_1.18.7.0.tar.gz</a>                                     2015-01-26 20:16   97M  \n",
        "      <a href=\"jhu-usc.edu_LUSC.HumanMethylation450.Level_1.18.7.0.tar.gz.md5\">jhu-usc.edu_LUSC.HumanMethylation450.Level_1.18.7.0.tar.gz.md5</a>                                 2015-01-26 20:16   92   \n",
        "      <a href=\"jhu-usc.edu_LUSC.HumanMethylation450.Level_1.18.7.0/\">jhu-usc.edu_LUSC.HumanMethylation450.Level_1.18.7.0/</a>                                           2015-01-26 20:16    -   \n",
        "      <a href=\"jhu-usc.edu_LUSC.HumanMethylation450.Level_1.2.0.0.tar.gz\">jhu-usc.edu_LUSC.HumanMethylation450.Level_1.2.0.0.tar.gz</a>                                      2011-11-07 17:35  261M  \n",
        "      <a href=\"jhu-usc.edu_LUSC.HumanMethylation450.Level_1.2.0.0.tar.gz.md5\">jhu-usc.edu_LUSC.HumanMethylation450.Level_1.2.0.0.tar.gz.md5</a>                                  2011-11-07 17:35   91   \n",
        "      <a href=\"jhu-usc.edu_LUSC.HumanMethylation450.Level_1.2.1.0.tar.gz\">jhu-usc.edu_LUSC.HumanMethylation450.Level_1.2.1.0.tar.gz</a>                                      2012-01-04 16:50  416M  \n",
        "      <a href=\"jhu-usc.edu_LUSC.HumanMethylation450.Level_1.2.1.0.tar.gz.md5\">jhu-usc.edu_LUSC.HumanMethylation450.Level_1.2.1.0.tar.gz.md5</a>                                  2012-01-04 16:50   91   \n",
        "      <a href=\"jhu-usc.edu_LUSC.HumanMethylation450.Level_1.2.2.0.tar.gz\">jhu-usc.edu_LUSC.HumanMethylation450.Level_1.2.2.0.tar.gz</a>                                      2012-02-28 17:45  416M  \n",
        "      <a href=\"jhu-usc.edu_LUSC.HumanMethylation450.Level_1.2.2.0.tar.gz.md5\">jhu-usc.edu_LUSC.HumanMethylation450.Level_1.2.2.0.tar.gz.md5</a>                                  2012-02-28 17:46   91   \n",
        "      <a href=\"jhu-usc.edu_LUSC.HumanMethylation450.Level_1.2.2.0/\">jhu-usc.edu_LUSC.HumanMethylation450.Level_1.2.2.0/</a>                                            2012-02-28 17:44    -   \n",
        "      <a href=\"jhu-usc.edu_LUSC.HumanMethylation450.Level_1.2.3.0.tar.gz\">jhu-usc.edu_LUSC.HumanMethylation450.Level_1.2.3.0.tar.gz</a>                                      2012-10-07 06:53  416M  \n",
        "      <a href=\"jhu-usc.edu_LUSC.HumanMethylation450.Level_1.2.3.0.tar.gz.md5\">jhu-usc.edu_LUSC.HumanMethylation450.Level_1.2.3.0.tar.gz.md5</a>                                  2012-10-07 06:53   91   \n",
        "      <a href=\"jhu-usc.edu_LUSC.HumanMethylation450.Level_1.2.3.0/\">jhu-usc.edu_LUSC.HumanMethylation450.Level_1.2.3.0/</a>                                            2012-10-07 06:51    -   \n",
        "      <a href=\"jhu-usc.edu_LUSC.HumanMethylation450.Level_1.2.4.0.tar.gz\">jhu-usc.edu_LUSC.HumanMethylation450.Level_1.2.4.0.tar.gz</a>                                      2012-10-30 08:02  416M  \n",
        "      <a href=\"jhu-usc.edu_LUSC.HumanMethylation450.Level_1.2.4.0.tar.gz.md5\">jhu-usc.edu_LUSC.HumanMethylation450.Level_1.2.4.0.tar.gz.md5</a>                                  2012-10-30 08:02   91   \n",
        "      <a href=\"jhu-usc.edu_LUSC.HumanMethylation450.Level_1.2.4.0/\">jhu-usc.edu_LUSC.HumanMethylation450.Level_1.2.4.0/</a>                                            2012-10-30 08:01    -   \n",
        "      <a href=\"jhu-usc.edu_LUSC.HumanMethylation450.Level_1.2.5.0.tar.gz\">jhu-usc.edu_LUSC.HumanMethylation450.Level_1.2.5.0.tar.gz</a>                                      2013-03-16 02:55  416M  \n",
        "      <a href=\"jhu-usc.edu_LUSC.HumanMethylation450.Level_1.2.5.0.tar.gz.md5\">jhu-usc.edu_LUSC.HumanMethylation450.Level_1.2.5.0.tar.gz.md5</a>                                  2013-03-16 02:55   91   \n",
        "      <a href=\"jhu-usc.edu_LUSC.HumanMethylation450.Level_1.2.5.0/\">jhu-usc.edu_LUSC.HumanMethylation450.Level_1.2.5.0/</a>                                            2013-03-16 02:54    -   \n",
        "      <a href=\"jhu-usc.edu_LUSC.HumanMethylation450.Level_1.2.6.0.tar.gz\">jhu-usc.edu_LUSC.HumanMethylation450.Level_1.2.6.0.tar.gz</a>                                      2013-06-18 18:27  416M  \n",
        "      <a href=\"jhu-usc.edu_LUSC.HumanMethylation450.Level_1.2.6.0.tar.gz.md5\">jhu-usc.edu_LUSC.HumanMethylation450.Level_1.2.6.0.tar.gz.md5</a>                                  2013-06-18 18:27   91   \n",
        "      <a href=\"jhu-usc.edu_LUSC.HumanMethylation450.Level_1.2.6.0/\">jhu-usc.edu_LUSC.HumanMethylation450.Level_1.2.6.0/</a>                                            2013-06-18 18:26    -   \n",
        "      <a href=\"jhu-usc.edu_LUSC.HumanMethylation450.Level_1.2.7.0.tar.gz\">jhu-usc.edu_LUSC.HumanMethylation450.Level_1.2.7.0.tar.gz</a>                                      2015-01-26 20:27  416M  \n",
        "      <a href=\"jhu-usc.edu_LUSC.HumanMethylation450.Level_1.2.7.0.tar.gz.md5\">jhu-usc.edu_LUSC.HumanMethylation450.Level_1.2.7.0.tar.gz.md5</a>                                  2015-01-26 20:27   91   \n",
        "      <a href=\"jhu-usc.edu_LUSC.HumanMethylation450.Level_1.2.7.0/\">jhu-usc.edu_LUSC.HumanMethylation450.Level_1.2.7.0/</a>                                            2015-01-26 20:25    -   \n",
        "      <a href=\"jhu-usc.edu_LUSC.HumanMethylation450.Level_1.3.0.0.tar.gz\">jhu-usc.edu_LUSC.HumanMethylation450.Level_1.3.0.0.tar.gz</a>                                      2011-11-07 17:33  138M  \n",
        "      <a href=\"jhu-usc.edu_LUSC.HumanMethylation450.Level_1.3.0.0.tar.gz.md5\">jhu-usc.edu_LUSC.HumanMethylation450.Level_1.3.0.0.tar.gz.md5</a>                                  2011-11-07 17:33   91   \n",
        "      <a href=\"jhu-usc.edu_LUSC.HumanMethylation450.Level_1.3.1.0.tar.gz\">jhu-usc.edu_LUSC.HumanMethylation450.Level_1.3.1.0.tar.gz</a>                                      2012-01-04 16:48  319M  \n",
        "      <a href=\"jhu-usc.edu_LUSC.HumanMethylation450.Level_1.3.1.0.tar.gz.md5\">jhu-usc.edu_LUSC.HumanMethylation450.Level_1.3.1.0.tar.gz.md5</a>                                  2012-01-04 16:48   91   \n",
        "      <a href=\"jhu-usc.edu_LUSC.HumanMethylation450.Level_1.3.2.0.tar.gz\">jhu-usc.edu_LUSC.HumanMethylation450.Level_1.3.2.0.tar.gz</a>                                      2012-02-28 17:43  319M  \n",
        "      <a href=\"jhu-usc.edu_LUSC.HumanMethylation450.Level_1.3.2.0.tar.gz.md5\">jhu-usc.edu_LUSC.HumanMethylation450.Level_1.3.2.0.tar.gz.md5</a>                                  2012-02-28 17:43   91   \n",
        "      <a href=\"jhu-usc.edu_LUSC.HumanMethylation450.Level_1.3.2.0/\">jhu-usc.edu_LUSC.HumanMethylation450.Level_1.3.2.0/</a>                                            2012-02-28 17:42    -   \n",
        "      <a href=\"jhu-usc.edu_LUSC.HumanMethylation450.Level_1.3.3.0.tar.gz\">jhu-usc.edu_LUSC.HumanMethylation450.Level_1.3.3.0.tar.gz</a>                                      2012-10-07 06:51  319M  \n",
        "      <a href=\"jhu-usc.edu_LUSC.HumanMethylation450.Level_1.3.3.0.tar.gz.md5\">jhu-usc.edu_LUSC.HumanMethylation450.Level_1.3.3.0.tar.gz.md5</a>                                  2012-10-07 06:51   91   \n",
        "      <a href=\"jhu-usc.edu_LUSC.HumanMethylation450.Level_1.3.3.0/\">jhu-usc.edu_LUSC.HumanMethylation450.Level_1.3.3.0/</a>                                            2012-10-07 06:49    -   \n",
        "      <a href=\"jhu-usc.edu_LUSC.HumanMethylation450.Level_1.3.4.0.tar.gz\">jhu-usc.edu_LUSC.HumanMethylation450.Level_1.3.4.0.tar.gz</a>                                      2012-10-30 08:00  319M  \n",
        "      <a href=\"jhu-usc.edu_LUSC.HumanMethylation450.Level_1.3.4.0.tar.gz.md5\">jhu-usc.edu_LUSC.HumanMethylation450.Level_1.3.4.0.tar.gz.md5</a>                                  2012-10-30 08:00   91   \n",
        "      <a href=\"jhu-usc.edu_LUSC.HumanMethylation450.Level_1.3.4.0/\">jhu-usc.edu_LUSC.HumanMethylation450.Level_1.3.4.0/</a>                                            2012-10-30 07:59    -   \n",
        "      <a href=\"jhu-usc.edu_LUSC.HumanMethylation450.Level_1.3.5.0.tar.gz\">jhu-usc.edu_LUSC.HumanMethylation450.Level_1.3.5.0.tar.gz</a>                                      2013-03-16 02:53  319M  \n",
        "      <a href=\"jhu-usc.edu_LUSC.HumanMethylation450.Level_1.3.5.0.tar.gz.md5\">jhu-usc.edu_LUSC.HumanMethylation450.Level_1.3.5.0.tar.gz.md5</a>                                  2013-03-16 02:53   91   \n",
        "      <a href=\"jhu-usc.edu_LUSC.HumanMethylation450.Level_1.3.5.0/\">jhu-usc.edu_LUSC.HumanMethylation450.Level_1.3.5.0/</a>                                            2013-03-16 02:52    -   \n",
        "      <a href=\"jhu-usc.edu_LUSC.HumanMethylation450.Level_1.3.6.0.tar.gz\">jhu-usc.edu_LUSC.HumanMethylation450.Level_1.3.6.0.tar.gz</a>                                      2013-06-18 18:25  319M  \n",
        "      <a href=\"jhu-usc.edu_LUSC.HumanMethylation450.Level_1.3.6.0.tar.gz.md5\">jhu-usc.edu_LUSC.HumanMethylation450.Level_1.3.6.0.tar.gz.md5</a>                                  2013-06-18 18:25   91   \n",
        "      <a href=\"jhu-usc.edu_LUSC.HumanMethylation450.Level_1.3.6.0/\">jhu-usc.edu_LUSC.HumanMethylation450.Level_1.3.6.0/</a>                                            2013-06-18 18:24    -   \n",
        "      <a href=\"jhu-usc.edu_LUSC.HumanMethylation450.Level_1.3.7.0.tar.gz\">jhu-usc.edu_LUSC.HumanMethylation450.Level_1.3.7.0.tar.gz</a>                                      2015-01-26 20:25  319M  \n",
        "      <a href=\"jhu-usc.edu_LUSC.HumanMethylation450.Level_1.3.7.0.tar.gz.md5\">jhu-usc.edu_LUSC.HumanMethylation450.Level_1.3.7.0.tar.gz.md5</a>                                  2015-01-26 20:25   91   \n",
        "      <a href=\"jhu-usc.edu_LUSC.HumanMethylation450.Level_1.3.7.0/\">jhu-usc.edu_LUSC.HumanMethylation450.Level_1.3.7.0/</a>                                            2015-01-26 20:23    -   \n",
        "      <a href=\"jhu-usc.edu_LUSC.HumanMethylation450.Level_1.4.0.0.tar.gz\">jhu-usc.edu_LUSC.HumanMethylation450.Level_1.4.0.0.tar.gz</a>                                      2011-11-07 17:39   16M  \n",
        "      <a href=\"jhu-usc.edu_LUSC.HumanMethylation450.Level_1.4.0.0.tar.gz.md5\">jhu-usc.edu_LUSC.HumanMethylation450.Level_1.4.0.0.tar.gz.md5</a>                                  2011-11-07 17:39   91   \n",
        "      <a href=\"jhu-usc.edu_LUSC.HumanMethylation450.Level_1.4.1.0.tar.gz\">jhu-usc.edu_LUSC.HumanMethylation450.Level_1.4.1.0.tar.gz</a>                                      2012-01-04 16:52  269M  \n",
        "      <a href=\"jhu-usc.edu_LUSC.HumanMethylation450.Level_1.4.1.0.tar.gz.md5\">jhu-usc.edu_LUSC.HumanMethylation450.Level_1.4.1.0.tar.gz.md5</a>                                  2012-01-04 16:52   91   \n",
        "      <a href=\"jhu-usc.edu_LUSC.HumanMethylation450.Level_1.4.2.0.tar.gz\">jhu-usc.edu_LUSC.HumanMethylation450.Level_1.4.2.0.tar.gz</a>                                      2012-02-28 17:50  269M  \n",
        "      <a href=\"jhu-usc.edu_LUSC.HumanMethylation450.Level_1.4.2.0.tar.gz.md5\">jhu-usc.edu_LUSC.HumanMethylation450.Level_1.4.2.0.tar.gz.md5</a>                                  2012-02-28 17:50   91   \n",
        "      <a href=\"jhu-usc.edu_LUSC.HumanMethylation450.Level_1.4.2.0/\">jhu-usc.edu_LUSC.HumanMethylation450.Level_1.4.2.0/</a>                                            2012-02-28 17:49    -   \n",
        "      <a href=\"jhu-usc.edu_LUSC.HumanMethylation450.Level_1.4.3.0.tar.gz\">jhu-usc.edu_LUSC.HumanMethylation450.Level_1.4.3.0.tar.gz</a>                                      2012-10-07 07:00  269M  \n",
        "      <a href=\"jhu-usc.edu_LUSC.HumanMethylation450.Level_1.4.3.0.tar.gz.md5\">jhu-usc.edu_LUSC.HumanMethylation450.Level_1.4.3.0.tar.gz.md5</a>                                  2012-10-07 07:00   91   \n",
        "      <a href=\"jhu-usc.edu_LUSC.HumanMethylation450.Level_1.4.3.0/\">jhu-usc.edu_LUSC.HumanMethylation450.Level_1.4.3.0/</a>                                            2012-10-07 06:59    -   \n",
        "      <a href=\"jhu-usc.edu_LUSC.HumanMethylation450.Level_1.4.4.0.tar.gz\">jhu-usc.edu_LUSC.HumanMethylation450.Level_1.4.4.0.tar.gz</a>                                      2012-10-30 08:09  269M  \n",
        "      <a href=\"jhu-usc.edu_LUSC.HumanMethylation450.Level_1.4.4.0.tar.gz.md5\">jhu-usc.edu_LUSC.HumanMethylation450.Level_1.4.4.0.tar.gz.md5</a>                                  2012-10-30 08:09   91   \n",
        "      <a href=\"jhu-usc.edu_LUSC.HumanMethylation450.Level_1.4.4.0/\">jhu-usc.edu_LUSC.HumanMethylation450.Level_1.4.4.0/</a>                                            2012-10-30 08:08    -   \n",
        "      <a href=\"jhu-usc.edu_LUSC.HumanMethylation450.Level_1.4.5.0.tar.gz\">jhu-usc.edu_LUSC.HumanMethylation450.Level_1.4.5.0.tar.gz</a>                                      2013-03-16 03:01  269M  \n",
        "      <a href=\"jhu-usc.edu_LUSC.HumanMethylation450.Level_1.4.5.0.tar.gz.md5\">jhu-usc.edu_LUSC.HumanMethylation450.Level_1.4.5.0.tar.gz.md5</a>                                  2013-03-16 03:01   91   \n",
        "      <a href=\"jhu-usc.edu_LUSC.HumanMethylation450.Level_1.4.5.0/\">jhu-usc.edu_LUSC.HumanMethylation450.Level_1.4.5.0/</a>                                            2013-03-16 03:00    -   \n",
        "      <a href=\"jhu-usc.edu_LUSC.HumanMethylation450.Level_1.4.6.0.tar.gz\">jhu-usc.edu_LUSC.HumanMethylation450.Level_1.4.6.0.tar.gz</a>                                      2013-06-18 18:34  269M  \n",
        "      <a href=\"jhu-usc.edu_LUSC.HumanMethylation450.Level_1.4.6.0.tar.gz.md5\">jhu-usc.edu_LUSC.HumanMethylation450.Level_1.4.6.0.tar.gz.md5</a>                                  2013-06-18 18:34   91   \n",
        "      <a href=\"jhu-usc.edu_LUSC.HumanMethylation450.Level_1.4.6.0/\">jhu-usc.edu_LUSC.HumanMethylation450.Level_1.4.6.0/</a>                                            2013-06-18 18:33    -   \n",
        "      <a href=\"jhu-usc.edu_LUSC.HumanMethylation450.Level_1.4.7.0.tar.gz\">jhu-usc.edu_LUSC.HumanMethylation450.Level_1.4.7.0.tar.gz</a>                                      2015-01-26 20:34  269M  \n",
        "      <a href=\"jhu-usc.edu_LUSC.HumanMethylation450.Level_1.4.7.0.tar.gz.md5\">jhu-usc.edu_LUSC.HumanMethylation450.Level_1.4.7.0.tar.gz.md5</a>                                  2015-01-26 20:34   91   \n",
        "      <a href=\"jhu-usc.edu_LUSC.HumanMethylation450.Level_1.4.7.0/\">jhu-usc.edu_LUSC.HumanMethylation450.Level_1.4.7.0/</a>                                            2015-01-26 20:33    -   \n",
        "      <a href=\"jhu-usc.edu_LUSC.HumanMethylation450.Level_1.5.0.0.tar.gz\">jhu-usc.edu_LUSC.HumanMethylation450.Level_1.5.0.0.tar.gz</a>                                      2011-11-07 17:39  408M  \n",
        "      <a href=\"jhu-usc.edu_LUSC.HumanMethylation450.Level_1.5.0.0.tar.gz.md5\">jhu-usc.edu_LUSC.HumanMethylation450.Level_1.5.0.0.tar.gz.md5</a>                                  2011-11-07 17:39   91   \n",
        "      <a href=\"jhu-usc.edu_LUSC.HumanMethylation450.Level_1.5.1.0.tar.gz\">jhu-usc.edu_LUSC.HumanMethylation450.Level_1.5.1.0.tar.gz</a>                                      2012-01-04 16:51  146M  \n",
        "      <a href=\"jhu-usc.edu_LUSC.HumanMethylation450.Level_1.5.1.0.tar.gz.md5\">jhu-usc.edu_LUSC.HumanMethylation450.Level_1.5.1.0.tar.gz.md5</a>                                  2012-01-04 16:51   91   \n",
        "      <a href=\"jhu-usc.edu_LUSC.HumanMethylation450.Level_1.5.2.0.tar.gz\">jhu-usc.edu_LUSC.HumanMethylation450.Level_1.5.2.0.tar.gz</a>                                      2012-02-28 17:49  146M  \n",
        "      <a href=\"jhu-usc.edu_LUSC.HumanMethylation450.Level_1.5.2.0.tar.gz.md5\">jhu-usc.edu_LUSC.HumanMethylation450.Level_1.5.2.0.tar.gz.md5</a>                                  2012-02-28 17:49   91   \n",
        "      <a href=\"jhu-usc.edu_LUSC.HumanMethylation450.Level_1.5.2.0/\">jhu-usc.edu_LUSC.HumanMethylation450.Level_1.5.2.0/</a>                                            2012-02-28 17:48    -   \n",
        "      <a href=\"jhu-usc.edu_LUSC.HumanMethylation450.Level_1.5.3.0.tar.gz\">jhu-usc.edu_LUSC.HumanMethylation450.Level_1.5.3.0.tar.gz</a>                                      2012-10-07 06:58  146M  \n",
        "      <a href=\"jhu-usc.edu_LUSC.HumanMethylation450.Level_1.5.3.0.tar.gz.md5\">jhu-usc.edu_LUSC.HumanMethylation450.Level_1.5.3.0.tar.gz.md5</a>                                  2012-10-07 06:58   91   \n",
        "      <a href=\"jhu-usc.edu_LUSC.HumanMethylation450.Level_1.5.3.0/\">jhu-usc.edu_LUSC.HumanMethylation450.Level_1.5.3.0/</a>                                            2012-10-07 06:58    -   \n",
        "      <a href=\"jhu-usc.edu_LUSC.HumanMethylation450.Level_1.5.4.0.tar.gz\">jhu-usc.edu_LUSC.HumanMethylation450.Level_1.5.4.0.tar.gz</a>                                      2012-10-30 08:08  146M  \n",
        "      <a href=\"jhu-usc.edu_LUSC.HumanMethylation450.Level_1.5.4.0.tar.gz.md5\">jhu-usc.edu_LUSC.HumanMethylation450.Level_1.5.4.0.tar.gz.md5</a>                                  2012-10-30 08:08   91   \n",
        "      <a href=\"jhu-usc.edu_LUSC.HumanMethylation450.Level_1.5.4.0/\">jhu-usc.edu_LUSC.HumanMethylation450.Level_1.5.4.0/</a>                                            2012-10-30 08:07    -   \n",
        "      <a href=\"jhu-usc.edu_LUSC.HumanMethylation450.Level_1.5.5.0.tar.gz\">jhu-usc.edu_LUSC.HumanMethylation450.Level_1.5.5.0.tar.gz</a>                                      2013-03-16 03:00  146M  \n",
        "      <a href=\"jhu-usc.edu_LUSC.HumanMethylation450.Level_1.5.5.0.tar.gz.md5\">jhu-usc.edu_LUSC.HumanMethylation450.Level_1.5.5.0.tar.gz.md5</a>                                  2013-03-16 03:00   91   \n",
        "      <a href=\"jhu-usc.edu_LUSC.HumanMethylation450.Level_1.5.5.0/\">jhu-usc.edu_LUSC.HumanMethylation450.Level_1.5.5.0/</a>                                            2013-03-16 02:59    -   \n",
        "      <a href=\"jhu-usc.edu_LUSC.HumanMethylation450.Level_1.5.6.0.tar.gz\">jhu-usc.edu_LUSC.HumanMethylation450.Level_1.5.6.0.tar.gz</a>                                      2013-06-18 18:32  146M  \n",
        "      <a href=\"jhu-usc.edu_LUSC.HumanMethylation450.Level_1.5.6.0.tar.gz.md5\">jhu-usc.edu_LUSC.HumanMethylation450.Level_1.5.6.0.tar.gz.md5</a>                                  2013-06-18 18:32   91   \n",
        "      <a href=\"jhu-usc.edu_LUSC.HumanMethylation450.Level_1.5.6.0/\">jhu-usc.edu_LUSC.HumanMethylation450.Level_1.5.6.0/</a>                                            2013-06-18 18:32    -   \n",
        "      <a href=\"jhu-usc.edu_LUSC.HumanMethylation450.Level_1.5.7.0.tar.gz\">jhu-usc.edu_LUSC.HumanMethylation450.Level_1.5.7.0.tar.gz</a>                                      2015-01-26 20:32  146M  \n",
        "      <a href=\"jhu-usc.edu_LUSC.HumanMethylation450.Level_1.5.7.0.tar.gz.md5\">jhu-usc.edu_LUSC.HumanMethylation450.Level_1.5.7.0.tar.gz.md5</a>                                  2015-01-26 20:32   91   \n",
        "      <a href=\"jhu-usc.edu_LUSC.HumanMethylation450.Level_1.5.7.0/\">jhu-usc.edu_LUSC.HumanMethylation450.Level_1.5.7.0/</a>                                            2015-01-26 20:32    -   \n",
        "      <a href=\"jhu-usc.edu_LUSC.HumanMethylation450.Level_1.6.2.0.tar.gz\">jhu-usc.edu_LUSC.HumanMethylation450.Level_1.6.2.0.tar.gz</a>                                      2012-02-28 17:48  204M  \n",
        "      <a href=\"jhu-usc.edu_LUSC.HumanMethylation450.Level_1.6.2.0.tar.gz.md5\">jhu-usc.edu_LUSC.HumanMethylation450.Level_1.6.2.0.tar.gz.md5</a>                                  2012-02-28 17:48   91   \n",
        "      <a href=\"jhu-usc.edu_LUSC.HumanMethylation450.Level_1.6.2.0/\">jhu-usc.edu_LUSC.HumanMethylation450.Level_1.6.2.0/</a>                                            2012-02-28 17:47    -   \n",
        "      <a href=\"jhu-usc.edu_LUSC.HumanMethylation450.Level_1.6.3.0.tar.gz\">jhu-usc.edu_LUSC.HumanMethylation450.Level_1.6.3.0.tar.gz</a>                                      2012-10-07 06:57  204M  \n",
        "      <a href=\"jhu-usc.edu_LUSC.HumanMethylation450.Level_1.6.3.0.tar.gz.md5\">jhu-usc.edu_LUSC.HumanMethylation450.Level_1.6.3.0.tar.gz.md5</a>                                  2012-10-07 06:57   91   \n",
        "      <a href=\"jhu-usc.edu_LUSC.HumanMethylation450.Level_1.6.3.0/\">jhu-usc.edu_LUSC.HumanMethylation450.Level_1.6.3.0/</a>                                            2012-10-07 06:56    -   \n",
        "      <a href=\"jhu-usc.edu_LUSC.HumanMethylation450.Level_1.6.4.0.tar.gz\">jhu-usc.edu_LUSC.HumanMethylation450.Level_1.6.4.0.tar.gz</a>                                      2012-10-30 08:07  204M  \n",
        "      <a href=\"jhu-usc.edu_LUSC.HumanMethylation450.Level_1.6.4.0.tar.gz.md5\">jhu-usc.edu_LUSC.HumanMethylation450.Level_1.6.4.0.tar.gz.md5</a>                                  2012-10-30 08:07   91   \n",
        "      <a href=\"jhu-usc.edu_LUSC.HumanMethylation450.Level_1.6.4.0/\">jhu-usc.edu_LUSC.HumanMethylation450.Level_1.6.4.0/</a>                                            2012-10-30 08:06    -   \n",
        "      <a href=\"jhu-usc.edu_LUSC.HumanMethylation450.Level_1.6.5.0.tar.gz\">jhu-usc.edu_LUSC.HumanMethylation450.Level_1.6.5.0.tar.gz</a>                                      2013-03-16 02:59  204M  \n",
        "      <a href=\"jhu-usc.edu_LUSC.HumanMethylation450.Level_1.6.5.0.tar.gz.md5\">jhu-usc.edu_LUSC.HumanMethylation450.Level_1.6.5.0.tar.gz.md5</a>                                  2013-03-16 02:59   91   \n",
        "      <a href=\"jhu-usc.edu_LUSC.HumanMethylation450.Level_1.6.5.0/\">jhu-usc.edu_LUSC.HumanMethylation450.Level_1.6.5.0/</a>                                            2013-03-16 02:58    -   \n",
        "      <a href=\"jhu-usc.edu_LUSC.HumanMethylation450.Level_1.6.6.0.tar.gz\">jhu-usc.edu_LUSC.HumanMethylation450.Level_1.6.6.0.tar.gz</a>                                      2013-06-18 18:31  204M  \n",
        "      <a href=\"jhu-usc.edu_LUSC.HumanMethylation450.Level_1.6.6.0.tar.gz.md5\">jhu-usc.edu_LUSC.HumanMethylation450.Level_1.6.6.0.tar.gz.md5</a>                                  2013-06-18 18:31   91   \n",
        "      <a href=\"jhu-usc.edu_LUSC.HumanMethylation450.Level_1.6.6.0/\">jhu-usc.edu_LUSC.HumanMethylation450.Level_1.6.6.0/</a>                                            2013-06-18 18:30    -   \n",
        "      <a href=\"jhu-usc.edu_LUSC.HumanMethylation450.Level_1.6.7.0.tar.gz\">jhu-usc.edu_LUSC.HumanMethylation450.Level_1.6.7.0.tar.gz</a>                                      2015-01-26 20:31  204M  \n",
        "      <a href=\"jhu-usc.edu_LUSC.HumanMethylation450.Level_1.6.7.0.tar.gz.md5\">jhu-usc.edu_LUSC.HumanMethylation450.Level_1.6.7.0.tar.gz.md5</a>                                  2015-01-26 20:31   91   \n",
        "      <a href=\"jhu-usc.edu_LUSC.HumanMethylation450.Level_1.6.7.0/\">jhu-usc.edu_LUSC.HumanMethylation450.Level_1.6.7.0/</a>                                            2015-01-26 20:30    -   \n",
        "      <a href=\"jhu-usc.edu_LUSC.HumanMethylation450.Level_1.7.2.0.tar.gz\">jhu-usc.edu_LUSC.HumanMethylation450.Level_1.7.2.0.tar.gz</a>                                      2012-02-28 17:47  254M  \n",
        "      <a href=\"jhu-usc.edu_LUSC.HumanMethylation450.Level_1.7.2.0.tar.gz.md5\">jhu-usc.edu_LUSC.HumanMethylation450.Level_1.7.2.0.tar.gz.md5</a>                                  2012-02-28 17:47   91   \n",
        "      <a href=\"jhu-usc.edu_LUSC.HumanMethylation450.Level_1.7.2.0/\">jhu-usc.edu_LUSC.HumanMethylation450.Level_1.7.2.0/</a>                                            2012-02-28 17:46    -   \n",
        "      <a href=\"jhu-usc.edu_LUSC.HumanMethylation450.Level_1.7.3.0.tar.gz\">jhu-usc.edu_LUSC.HumanMethylation450.Level_1.7.3.0.tar.gz</a>                                      2012-10-07 06:56  254M  \n",
        "      <a href=\"jhu-usc.edu_LUSC.HumanMethylation450.Level_1.7.3.0.tar.gz.md5\">jhu-usc.edu_LUSC.HumanMethylation450.Level_1.7.3.0.tar.gz.md5</a>                                  2012-10-07 06:56   91   \n",
        "      <a href=\"jhu-usc.edu_LUSC.HumanMethylation450.Level_1.7.3.0/\">jhu-usc.edu_LUSC.HumanMethylation450.Level_1.7.3.0/</a>                                            2012-10-07 06:55    -   \n",
        "      <a href=\"jhu-usc.edu_LUSC.HumanMethylation450.Level_1.7.4.0.tar.gz\">jhu-usc.edu_LUSC.HumanMethylation450.Level_1.7.4.0.tar.gz</a>                                      2012-10-30 08:06  254M  \n",
        "      <a href=\"jhu-usc.edu_LUSC.HumanMethylation450.Level_1.7.4.0.tar.gz.md5\">jhu-usc.edu_LUSC.HumanMethylation450.Level_1.7.4.0.tar.gz.md5</a>                                  2012-10-30 08:06   91   \n",
        "      <a href=\"jhu-usc.edu_LUSC.HumanMethylation450.Level_1.7.4.0/\">jhu-usc.edu_LUSC.HumanMethylation450.Level_1.7.4.0/</a>                                            2012-10-30 08:05    -   \n",
        "      <a href=\"jhu-usc.edu_LUSC.HumanMethylation450.Level_1.7.5.0.tar.gz\">jhu-usc.edu_LUSC.HumanMethylation450.Level_1.7.5.0.tar.gz</a>                                      2013-03-16 02:58  254M  \n",
        "      <a href=\"jhu-usc.edu_LUSC.HumanMethylation450.Level_1.7.5.0.tar.gz.md5\">jhu-usc.edu_LUSC.HumanMethylation450.Level_1.7.5.0.tar.gz.md5</a>                                  2013-03-16 02:58   91   \n",
        "      <a href=\"jhu-usc.edu_LUSC.HumanMethylation450.Level_1.7.5.0/\">jhu-usc.edu_LUSC.HumanMethylation450.Level_1.7.5.0/</a>                                            2013-03-16 02:57    -   \n",
        "      <a href=\"jhu-usc.edu_LUSC.HumanMethylation450.Level_1.7.6.0.tar.gz\">jhu-usc.edu_LUSC.HumanMethylation450.Level_1.7.6.0.tar.gz</a>                                      2013-06-18 18:30  254M  \n",
        "      <a href=\"jhu-usc.edu_LUSC.HumanMethylation450.Level_1.7.6.0.tar.gz.md5\">jhu-usc.edu_LUSC.HumanMethylation450.Level_1.7.6.0.tar.gz.md5</a>                                  2013-06-18 18:30   91   \n",
        "      <a href=\"jhu-usc.edu_LUSC.HumanMethylation450.Level_1.7.6.0/\">jhu-usc.edu_LUSC.HumanMethylation450.Level_1.7.6.0/</a>                                            2013-06-18 18:29    -   \n",
        "      <a href=\"jhu-usc.edu_LUSC.HumanMethylation450.Level_1.7.7.0.tar.gz\">jhu-usc.edu_LUSC.HumanMethylation450.Level_1.7.7.0.tar.gz</a>                                      2015-01-26 20:30  254M  \n",
        "      <a href=\"jhu-usc.edu_LUSC.HumanMethylation450.Level_1.7.7.0.tar.gz.md5\">jhu-usc.edu_LUSC.HumanMethylation450.Level_1.7.7.0.tar.gz.md5</a>                                  2015-01-26 20:30   91   \n",
        "      <a href=\"jhu-usc.edu_LUSC.HumanMethylation450.Level_1.7.7.0/\">jhu-usc.edu_LUSC.HumanMethylation450.Level_1.7.7.0/</a>                                            2015-01-26 20:29    -   \n",
        "      <a href=\"jhu-usc.edu_LUSC.HumanMethylation450.Level_1.8.3.0.tar.gz\">jhu-usc.edu_LUSC.HumanMethylation450.Level_1.8.3.0.tar.gz</a>                                      2012-10-07 07:02   65M  \n",
        "      <a href=\"jhu-usc.edu_LUSC.HumanMethylation450.Level_1.8.3.0.tar.gz.md5\">jhu-usc.edu_LUSC.HumanMethylation450.Level_1.8.3.0.tar.gz.md5</a>                                  2012-10-07 07:02   91   \n",
        "      <a href=\"jhu-usc.edu_LUSC.HumanMethylation450.Level_1.8.3.0/\">jhu-usc.edu_LUSC.HumanMethylation450.Level_1.8.3.0/</a>                                            2012-10-07 07:02    -   \n",
        "      <a href=\"jhu-usc.edu_LUSC.HumanMethylation450.Level_1.8.4.0.tar.gz\">jhu-usc.edu_LUSC.HumanMethylation450.Level_1.8.4.0.tar.gz</a>                                      2012-10-30 08:11   65M  \n",
        "      <a href=\"jhu-usc.edu_LUSC.HumanMethylation450.Level_1.8.4.0.tar.gz.md5\">jhu-usc.edu_LUSC.HumanMethylation450.Level_1.8.4.0.tar.gz.md5</a>                                  2012-10-30 08:11   91   \n",
        "      <a href=\"jhu-usc.edu_LUSC.HumanMethylation450.Level_1.8.4.0/\">jhu-usc.edu_LUSC.HumanMethylation450.Level_1.8.4.0/</a>                                            2012-10-30 08:11    -   \n",
        "      <a href=\"jhu-usc.edu_LUSC.HumanMethylation450.Level_1.8.5.0.tar.gz\">jhu-usc.edu_LUSC.HumanMethylation450.Level_1.8.5.0.tar.gz</a>                                      2013-03-16 03:03   65M  \n",
        "      <a href=\"jhu-usc.edu_LUSC.HumanMethylation450.Level_1.8.5.0.tar.gz.md5\">jhu-usc.edu_LUSC.HumanMethylation450.Level_1.8.5.0.tar.gz.md5</a>                                  2013-03-16 03:03   91   \n",
        "      <a href=\"jhu-usc.edu_LUSC.HumanMethylation450.Level_1.8.5.0/\">jhu-usc.edu_LUSC.HumanMethylation450.Level_1.8.5.0/</a>                                            2013-03-16 03:03    -   \n",
        "      <a href=\"jhu-usc.edu_LUSC.HumanMethylation450.Level_1.8.6.0.tar.gz\">jhu-usc.edu_LUSC.HumanMethylation450.Level_1.8.6.0.tar.gz</a>                                      2013-06-18 18:36   65M  \n",
        "      <a href=\"jhu-usc.edu_LUSC.HumanMethylation450.Level_1.8.6.0.tar.gz.md5\">jhu-usc.edu_LUSC.HumanMethylation450.Level_1.8.6.0.tar.gz.md5</a>                                  2013-06-18 18:36   91   \n",
        "      <a href=\"jhu-usc.edu_LUSC.HumanMethylation450.Level_1.8.6.0/\">jhu-usc.edu_LUSC.HumanMethylation450.Level_1.8.6.0/</a>                                            2013-06-18 18:36    -   \n",
        "      <a href=\"jhu-usc.edu_LUSC.HumanMethylation450.Level_1.8.7.0.tar.gz\">jhu-usc.edu_LUSC.HumanMethylation450.Level_1.8.7.0.tar.gz</a>                                      2015-01-26 20:36   65M  \n",
        "      <a href=\"jhu-usc.edu_LUSC.HumanMethylation450.Level_1.8.7.0.tar.gz.md5\">jhu-usc.edu_LUSC.HumanMethylation450.Level_1.8.7.0.tar.gz.md5</a>                                  2015-01-26 20:36   91   \n",
        "      <a href=\"jhu-usc.edu_LUSC.HumanMethylation450.Level_1.8.7.0/\">jhu-usc.edu_LUSC.HumanMethylation450.Level_1.8.7.0/</a>                                            2015-01-26 20:36    -   \n",
        "      <a href=\"jhu-usc.edu_LUSC.HumanMethylation450.Level_1.9.3.0.tar.gz\">jhu-usc.edu_LUSC.HumanMethylation450.Level_1.9.3.0.tar.gz</a>                                      2012-10-07 07:01  303M  \n",
        "      <a href=\"jhu-usc.edu_LUSC.HumanMethylation450.Level_1.9.3.0.tar.gz.md5\">jhu-usc.edu_LUSC.HumanMethylation450.Level_1.9.3.0.tar.gz.md5</a>                                  2012-10-07 07:01   91   \n",
        "      <a href=\"jhu-usc.edu_LUSC.HumanMethylation450.Level_1.9.3.0/\">jhu-usc.edu_LUSC.HumanMethylation450.Level_1.9.3.0/</a>                                            2012-10-07 07:00    -   \n",
        "      <a href=\"jhu-usc.edu_LUSC.HumanMethylation450.Level_1.9.4.0.tar.gz\">jhu-usc.edu_LUSC.HumanMethylation450.Level_1.9.4.0.tar.gz</a>                                      2012-10-30 08:11  303M  \n",
        "      <a href=\"jhu-usc.edu_LUSC.HumanMethylation450.Level_1.9.4.0.tar.gz.md5\">jhu-usc.edu_LUSC.HumanMethylation450.Level_1.9.4.0.tar.gz.md5</a>                                  2012-10-30 08:11   91   \n",
        "      <a href=\"jhu-usc.edu_LUSC.HumanMethylation450.Level_1.9.4.0/\">jhu-usc.edu_LUSC.HumanMethylation450.Level_1.9.4.0/</a>                                            2012-10-30 08:10    -   \n",
        "      <a href=\"jhu-usc.edu_LUSC.HumanMethylation450.Level_1.9.5.0.tar.gz\">jhu-usc.edu_LUSC.HumanMethylation450.Level_1.9.5.0.tar.gz</a>                                      2013-03-16 03:02  303M  \n",
        "      <a href=\"jhu-usc.edu_LUSC.HumanMethylation450.Level_1.9.5.0.tar.gz.md5\">jhu-usc.edu_LUSC.HumanMethylation450.Level_1.9.5.0.tar.gz.md5</a>                                  2013-03-16 03:02   91   \n",
        "      <a href=\"jhu-usc.edu_LUSC.HumanMethylation450.Level_1.9.5.0/\">jhu-usc.edu_LUSC.HumanMethylation450.Level_1.9.5.0/</a>                                            2013-03-16 03:01    -   \n",
        "      <a href=\"jhu-usc.edu_LUSC.HumanMethylation450.Level_1.9.6.0.tar.gz\">jhu-usc.edu_LUSC.HumanMethylation450.Level_1.9.6.0.tar.gz</a>                                      2013-06-18 18:35  303M  \n",
        "      <a href=\"jhu-usc.edu_LUSC.HumanMethylation450.Level_1.9.6.0.tar.gz.md5\">jhu-usc.edu_LUSC.HumanMethylation450.Level_1.9.6.0.tar.gz.md5</a>                                  2013-06-18 18:35   91   \n",
        "      <a href=\"jhu-usc.edu_LUSC.HumanMethylation450.Level_1.9.6.0/\">jhu-usc.edu_LUSC.HumanMethylation450.Level_1.9.6.0/</a>                                            2013-06-18 18:34    -   \n",
        "      <a href=\"jhu-usc.edu_LUSC.HumanMethylation450.Level_1.9.7.0.tar.gz\">jhu-usc.edu_LUSC.HumanMethylation450.Level_1.9.7.0.tar.gz</a>                                      2015-01-26 20:36  303M  \n",
        "      <a href=\"jhu-usc.edu_LUSC.HumanMethylation450.Level_1.9.7.0.tar.gz.md5\">jhu-usc.edu_LUSC.HumanMethylation450.Level_1.9.7.0.tar.gz.md5</a>                                  2015-01-26 20:36   91   \n",
        "      <a href=\"jhu-usc.edu_LUSC.HumanMethylation450.Level_1.9.7.0/\">jhu-usc.edu_LUSC.HumanMethylation450.Level_1.9.7.0/</a>                                            2015-01-26 20:34    -   \n",
        "      <a href=\"jhu-usc.edu_LUSC.HumanMethylation450.Level_2.1.0.0.tar.gz\">jhu-usc.edu_LUSC.HumanMethylation450.Level_2.1.0.0.tar.gz</a>                                      2011-11-07 17:27  347M  \n",
        "      <a href=\"jhu-usc.edu_LUSC.HumanMethylation450.Level_2.1.0.0.tar.gz.md5\">jhu-usc.edu_LUSC.HumanMethylation450.Level_2.1.0.0.tar.gz.md5</a>                                  2011-11-07 17:27   91   \n",
        "      <a href=\"jhu-usc.edu_LUSC.HumanMethylation450.Level_2.1.1.0.tar.gz\">jhu-usc.edu_LUSC.HumanMethylation450.Level_2.1.1.0.tar.gz</a>                                      2012-01-04 16:44   27M  \n",
        "      <a href=\"jhu-usc.edu_LUSC.HumanMethylation450.Level_2.1.1.0.tar.gz.md5\">jhu-usc.edu_LUSC.HumanMethylation450.Level_2.1.1.0.tar.gz.md5</a>                                  2012-01-04 16:44   91   \n",
        "      <a href=\"jhu-usc.edu_LUSC.HumanMethylation450.Level_2.1.2.0.tar.gz\">jhu-usc.edu_LUSC.HumanMethylation450.Level_2.1.2.0.tar.gz</a>                                      2012-02-28 17:35   27M  \n",
        "      <a href=\"jhu-usc.edu_LUSC.HumanMethylation450.Level_2.1.2.0.tar.gz.md5\">jhu-usc.edu_LUSC.HumanMethylation450.Level_2.1.2.0.tar.gz.md5</a>                                  2012-02-28 17:35   91   \n",
        "      <a href=\"jhu-usc.edu_LUSC.HumanMethylation450.Level_2.1.2.0/\">jhu-usc.edu_LUSC.HumanMethylation450.Level_2.1.2.0/</a>                                            2012-02-28 17:35    -   \n",
        "      <a href=\"jhu-usc.edu_LUSC.HumanMethylation450.Level_2.1.3.0.tar.gz\">jhu-usc.edu_LUSC.HumanMethylation450.Level_2.1.3.0.tar.gz</a>                                      2012-10-07 06:38   27M  \n",
        "      <a href=\"jhu-usc.edu_LUSC.HumanMethylation450.Level_2.1.3.0.tar.gz.md5\">jhu-usc.edu_LUSC.HumanMethylation450.Level_2.1.3.0.tar.gz.md5</a>                                  2012-10-07 06:38   91   \n",
        "      <a href=\"jhu-usc.edu_LUSC.HumanMethylation450.Level_2.1.3.0/\">jhu-usc.edu_LUSC.HumanMethylation450.Level_2.1.3.0/</a>                                            2012-10-07 06:38    -   \n",
        "      <a href=\"jhu-usc.edu_LUSC.HumanMethylation450.Level_2.1.4.0.tar.gz\">jhu-usc.edu_LUSC.HumanMethylation450.Level_2.1.4.0.tar.gz</a>                                      2012-10-30 07:48   27M  \n",
        "      <a href=\"jhu-usc.edu_LUSC.HumanMethylation450.Level_2.1.4.0.tar.gz.md5\">jhu-usc.edu_LUSC.HumanMethylation450.Level_2.1.4.0.tar.gz.md5</a>                                  2012-10-30 07:48   91   \n",
        "      <a href=\"jhu-usc.edu_LUSC.HumanMethylation450.Level_2.1.4.0/\">jhu-usc.edu_LUSC.HumanMethylation450.Level_2.1.4.0/</a>                                            2012-10-30 07:48    -   \n",
        "      <a href=\"jhu-usc.edu_LUSC.HumanMethylation450.Level_2.1.5.0.tar.gz\">jhu-usc.edu_LUSC.HumanMethylation450.Level_2.1.5.0.tar.gz</a>                                      2013-03-16 02:41   27M  \n",
        "      <a href=\"jhu-usc.edu_LUSC.HumanMethylation450.Level_2.1.5.0.tar.gz.md5\">jhu-usc.edu_LUSC.HumanMethylation450.Level_2.1.5.0.tar.gz.md5</a>                                  2013-03-16 02:41   91   \n",
        "      <a href=\"jhu-usc.edu_LUSC.HumanMethylation450.Level_2.1.5.0/\">jhu-usc.edu_LUSC.HumanMethylation450.Level_2.1.5.0/</a>                                            2013-03-16 02:41    -   \n",
        "      <a href=\"jhu-usc.edu_LUSC.HumanMethylation450.Level_2.1.6.0.tar.gz\">jhu-usc.edu_LUSC.HumanMethylation450.Level_2.1.6.0.tar.gz</a>                                      2013-06-18 18:05   27M  \n",
        "      <a href=\"jhu-usc.edu_LUSC.HumanMethylation450.Level_2.1.6.0.tar.gz.md5\">jhu-usc.edu_LUSC.HumanMethylation450.Level_2.1.6.0.tar.gz.md5</a>                                  2013-06-18 18:05   91   \n",
        "      <a href=\"jhu-usc.edu_LUSC.HumanMethylation450.Level_2.1.6.0/\">jhu-usc.edu_LUSC.HumanMethylation450.Level_2.1.6.0/</a>                                            2013-06-18 18:04    -   \n",
        "      <a href=\"jhu-usc.edu_LUSC.HumanMethylation450.Level_2.1.7.0.tar.gz\">jhu-usc.edu_LUSC.HumanMethylation450.Level_2.1.7.0.tar.gz</a>                                      2015-01-26 20:04   27M  \n",
        "      <a href=\"jhu-usc.edu_LUSC.HumanMethylation450.Level_2.1.7.0.tar.gz.md5\">jhu-usc.edu_LUSC.HumanMethylation450.Level_2.1.7.0.tar.gz.md5</a>                                  2015-01-26 20:04   91   \n",
        "      <a href=\"jhu-usc.edu_LUSC.HumanMethylation450.Level_2.1.7.0/\">jhu-usc.edu_LUSC.HumanMethylation450.Level_2.1.7.0/</a>                                            2015-01-26 20:04    -   \n",
        "      <a href=\"jhu-usc.edu_LUSC.HumanMethylation450.Level_2.10.3.0.tar.gz\">jhu-usc.edu_LUSC.HumanMethylation450.Level_2.10.3.0.tar.gz</a>                                     2012-10-07 06:38  183M  \n",
        "      <a href=\"jhu-usc.edu_LUSC.HumanMethylation450.Level_2.10.3.0.tar.gz.md5\">jhu-usc.edu_LUSC.HumanMethylation450.Level_2.10.3.0.tar.gz.md5</a>                                 2012-10-07 06:38   92   \n",
        "      <a href=\"jhu-usc.edu_LUSC.HumanMethylation450.Level_2.10.3.0/\">jhu-usc.edu_LUSC.HumanMethylation450.Level_2.10.3.0/</a>                                           2012-10-07 06:37    -   \n",
        "      <a href=\"jhu-usc.edu_LUSC.HumanMethylation450.Level_2.10.4.0.tar.gz\">jhu-usc.edu_LUSC.HumanMethylation450.Level_2.10.4.0.tar.gz</a>                                     2012-10-30 07:47  183M  \n",
        "      <a href=\"jhu-usc.edu_LUSC.HumanMethylation450.Level_2.10.4.0.tar.gz.md5\">jhu-usc.edu_LUSC.HumanMethylation450.Level_2.10.4.0.tar.gz.md5</a>                                 2012-10-30 07:47   92   \n",
        "      <a href=\"jhu-usc.edu_LUSC.HumanMethylation450.Level_2.10.4.0/\">jhu-usc.edu_LUSC.HumanMethylation450.Level_2.10.4.0/</a>                                           2012-10-30 07:46    -   \n",
        "      <a href=\"jhu-usc.edu_LUSC.HumanMethylation450.Level_2.10.5.0.tar.gz\">jhu-usc.edu_LUSC.HumanMethylation450.Level_2.10.5.0.tar.gz</a>                                     2013-03-16 02:41  183M  \n",
        "      <a href=\"jhu-usc.edu_LUSC.HumanMethylation450.Level_2.10.5.0.tar.gz.md5\">jhu-usc.edu_LUSC.HumanMethylation450.Level_2.10.5.0.tar.gz.md5</a>                                 2013-03-16 02:41   92   \n",
        "      <a href=\"jhu-usc.edu_LUSC.HumanMethylation450.Level_2.10.5.0/\">jhu-usc.edu_LUSC.HumanMethylation450.Level_2.10.5.0/</a>                                           2013-03-16 02:40    -   \n",
        "      <a href=\"jhu-usc.edu_LUSC.HumanMethylation450.Level_2.10.6.0.tar.gz\">jhu-usc.edu_LUSC.HumanMethylation450.Level_2.10.6.0.tar.gz</a>                                     2013-06-18 18:06  183M  \n",
        "      <a href=\"jhu-usc.edu_LUSC.HumanMethylation450.Level_2.10.6.0.tar.gz.md5\">jhu-usc.edu_LUSC.HumanMethylation450.Level_2.10.6.0.tar.gz.md5</a>                                 2013-06-18 18:06   92   \n",
        "      <a href=\"jhu-usc.edu_LUSC.HumanMethylation450.Level_2.10.6.0/\">jhu-usc.edu_LUSC.HumanMethylation450.Level_2.10.6.0/</a>                                           2013-06-18 18:05    -   \n",
        "      <a href=\"jhu-usc.edu_LUSC.HumanMethylation450.Level_2.10.7.0.tar.gz\">jhu-usc.edu_LUSC.HumanMethylation450.Level_2.10.7.0.tar.gz</a>                                     2015-01-26 20:03  183M  \n",
        "      <a href=\"jhu-usc.edu_LUSC.HumanMethylation450.Level_2.10.7.0.tar.gz.md5\">jhu-usc.edu_LUSC.HumanMethylation450.Level_2.10.7.0.tar.gz.md5</a>                                 2015-01-26 20:03   92   \n",
        "      <a href=\"jhu-usc.edu_LUSC.HumanMethylation450.Level_2.10.7.0/\">jhu-usc.edu_LUSC.HumanMethylation450.Level_2.10.7.0/</a>                                           2015-01-26 20:02    -   \n",
        "      <a href=\"jhu-usc.edu_LUSC.HumanMethylation450.Level_2.11.3.0.tar.gz\">jhu-usc.edu_LUSC.HumanMethylation450.Level_2.11.3.0.tar.gz</a>                                     2012-10-07 06:49  146M  \n",
        "      <a href=\"jhu-usc.edu_LUSC.HumanMethylation450.Level_2.11.3.0.tar.gz.md5\">jhu-usc.edu_LUSC.HumanMethylation450.Level_2.11.3.0.tar.gz.md5</a>                                 2012-10-07 06:49   92   \n",
        "      <a href=\"jhu-usc.edu_LUSC.HumanMethylation450.Level_2.11.3.0/\">jhu-usc.edu_LUSC.HumanMethylation450.Level_2.11.3.0/</a>                                           2012-10-07 06:48    -   \n",
        "      <a href=\"jhu-usc.edu_LUSC.HumanMethylation450.Level_2.11.4.0.tar.gz\">jhu-usc.edu_LUSC.HumanMethylation450.Level_2.11.4.0.tar.gz</a>                                     2012-10-30 07:59  146M  \n",
        "      <a href=\"jhu-usc.edu_LUSC.HumanMethylation450.Level_2.11.4.0.tar.gz.md5\">jhu-usc.edu_LUSC.HumanMethylation450.Level_2.11.4.0.tar.gz.md5</a>                                 2012-10-30 07:59   92   \n",
        "      <a href=\"jhu-usc.edu_LUSC.HumanMethylation450.Level_2.11.4.0/\">jhu-usc.edu_LUSC.HumanMethylation450.Level_2.11.4.0/</a>                                           2012-10-30 07:58    -   \n",
        "      <a href=\"jhu-usc.edu_LUSC.HumanMethylation450.Level_2.11.5.0.tar.gz\">jhu-usc.edu_LUSC.HumanMethylation450.Level_2.11.5.0.tar.gz</a>                                     2013-03-16 02:34  146M  \n",
        "      <a href=\"jhu-usc.edu_LUSC.HumanMethylation450.Level_2.11.5.0.tar.gz.md5\">jhu-usc.edu_LUSC.HumanMethylation450.Level_2.11.5.0.tar.gz.md5</a>                                 2013-03-16 02:34   92   \n",
        "      <a href=\"jhu-usc.edu_LUSC.HumanMethylation450.Level_2.11.5.0/\">jhu-usc.edu_LUSC.HumanMethylation450.Level_2.11.5.0/</a>                                           2013-03-16 02:33    -   \n",
        "      <a href=\"jhu-usc.edu_LUSC.HumanMethylation450.Level_2.11.6.0.tar.gz\">jhu-usc.edu_LUSC.HumanMethylation450.Level_2.11.6.0.tar.gz</a>                                     2013-06-18 17:58  146M  \n",
        "      <a href=\"jhu-usc.edu_LUSC.HumanMethylation450.Level_2.11.6.0.tar.gz.md5\">jhu-usc.edu_LUSC.HumanMethylation450.Level_2.11.6.0.tar.gz.md5</a>                                 2013-06-18 17:58   92   \n",
        "      <a href=\"jhu-usc.edu_LUSC.HumanMethylation450.Level_2.11.6.0/\">jhu-usc.edu_LUSC.HumanMethylation450.Level_2.11.6.0/</a>                                           2013-06-18 17:57    -   \n",
        "      <a href=\"jhu-usc.edu_LUSC.HumanMethylation450.Level_2.11.7.0.tar.gz\">jhu-usc.edu_LUSC.HumanMethylation450.Level_2.11.7.0.tar.gz</a>                                     2015-01-26 19:56  146M  \n",
        "      <a href=\"jhu-usc.edu_LUSC.HumanMethylation450.Level_2.11.7.0.tar.gz.md5\">jhu-usc.edu_LUSC.HumanMethylation450.Level_2.11.7.0.tar.gz.md5</a>                                 2015-01-26 19:56   92   \n",
        "      <a href=\"jhu-usc.edu_LUSC.HumanMethylation450.Level_2.11.7.0/\">jhu-usc.edu_LUSC.HumanMethylation450.Level_2.11.7.0/</a>                                           2015-01-26 19:55    -   \n",
        "      <a href=\"jhu-usc.edu_LUSC.HumanMethylation450.Level_2.12.5.0.tar.gz\">jhu-usc.edu_LUSC.HumanMethylation450.Level_2.12.5.0.tar.gz</a>                                     2013-03-16 02:35  146M  \n",
        "      <a href=\"jhu-usc.edu_LUSC.HumanMethylation450.Level_2.12.5.0.tar.gz.md5\">jhu-usc.edu_LUSC.HumanMethylation450.Level_2.12.5.0.tar.gz.md5</a>                                 2013-03-16 02:35   92   \n",
        "      <a href=\"jhu-usc.edu_LUSC.HumanMethylation450.Level_2.12.5.0/\">jhu-usc.edu_LUSC.HumanMethylation450.Level_2.12.5.0/</a>                                           2013-03-16 02:34    -   \n",
        "      <a href=\"jhu-usc.edu_LUSC.HumanMethylation450.Level_2.12.6.0.tar.gz\">jhu-usc.edu_LUSC.HumanMethylation450.Level_2.12.6.0.tar.gz</a>                                     2013-06-18 17:59  146M  \n",
        "      <a href=\"jhu-usc.edu_LUSC.HumanMethylation450.Level_2.12.6.0.tar.gz.md5\">jhu-usc.edu_LUSC.HumanMethylation450.Level_2.12.6.0.tar.gz.md5</a>                                 2013-06-18 17:59   92   \n",
        "      <a href=\"jhu-usc.edu_LUSC.HumanMethylation450.Level_2.12.6.0/\">jhu-usc.edu_LUSC.HumanMethylation450.Level_2.12.6.0/</a>                                           2013-06-18 17:58    -   \n",
        "      <a href=\"jhu-usc.edu_LUSC.HumanMethylation450.Level_2.12.7.0.tar.gz\">jhu-usc.edu_LUSC.HumanMethylation450.Level_2.12.7.0.tar.gz</a>                                     2015-01-26 19:57  146M  \n",
        "      <a href=\"jhu-usc.edu_LUSC.HumanMethylation450.Level_2.12.7.0.tar.gz.md5\">jhu-usc.edu_LUSC.HumanMethylation450.Level_2.12.7.0.tar.gz.md5</a>                                 2015-01-26 19:57   92   \n",
        "      <a href=\"jhu-usc.edu_LUSC.HumanMethylation450.Level_2.12.7.0/\">jhu-usc.edu_LUSC.HumanMethylation450.Level_2.12.7.0/</a>                                           2015-01-26 19:56    -   \n",
        "      <a href=\"jhu-usc.edu_LUSC.HumanMethylation450.Level_2.13.5.0.tar.gz\">jhu-usc.edu_LUSC.HumanMethylation450.Level_2.13.5.0.tar.gz</a>                                     2013-03-16 02:33   98M  \n",
        "      <a href=\"jhu-usc.edu_LUSC.HumanMethylation450.Level_2.13.5.0.tar.gz.md5\">jhu-usc.edu_LUSC.HumanMethylation450.Level_2.13.5.0.tar.gz.md5</a>                                 2013-03-16 02:33   92   \n",
        "      <a href=\"jhu-usc.edu_LUSC.HumanMethylation450.Level_2.13.5.0/\">jhu-usc.edu_LUSC.HumanMethylation450.Level_2.13.5.0/</a>                                           2013-03-16 02:32    -   \n",
        "      <a href=\"jhu-usc.edu_LUSC.HumanMethylation450.Level_2.13.6.0.tar.gz\">jhu-usc.edu_LUSC.HumanMethylation450.Level_2.13.6.0.tar.gz</a>                                     2013-06-18 17:56   98M  \n",
        "      <a href=\"jhu-usc.edu_LUSC.HumanMethylation450.Level_2.13.6.0.tar.gz.md5\">jhu-usc.edu_LUSC.HumanMethylation450.Level_2.13.6.0.tar.gz.md5</a>                                 2013-06-18 17:56   92   \n",
        "      <a href=\"jhu-usc.edu_LUSC.HumanMethylation450.Level_2.13.6.0/\">jhu-usc.edu_LUSC.HumanMethylation450.Level_2.13.6.0/</a>                                           2013-06-18 17:55    -   \n",
        "      <a href=\"jhu-usc.edu_LUSC.HumanMethylation450.Level_2.13.7.0.tar.gz\">jhu-usc.edu_LUSC.HumanMethylation450.Level_2.13.7.0.tar.gz</a>                                     2015-01-26 19:54   98M  \n",
        "      <a href=\"jhu-usc.edu_LUSC.HumanMethylation450.Level_2.13.7.0.tar.gz.md5\">jhu-usc.edu_LUSC.HumanMethylation450.Level_2.13.7.0.tar.gz.md5</a>                                 2015-01-26 19:54   92   \n",
        "      <a href=\"jhu-usc.edu_LUSC.HumanMethylation450.Level_2.13.7.0/\">jhu-usc.edu_LUSC.HumanMethylation450.Level_2.13.7.0/</a>                                           2015-01-26 19:53    -   \n",
        "      <a href=\"jhu-usc.edu_LUSC.HumanMethylation450.Level_2.14.6.0.tar.gz\">jhu-usc.edu_LUSC.HumanMethylation450.Level_2.14.6.0.tar.gz</a>                                     2013-06-18 17:57  127M  \n",
        "      <a href=\"jhu-usc.edu_LUSC.HumanMethylation450.Level_2.14.6.0.tar.gz.md5\">jhu-usc.edu_LUSC.HumanMethylation450.Level_2.14.6.0.tar.gz.md5</a>                                 2013-06-18 17:57   92   \n",
        "      <a href=\"jhu-usc.edu_LUSC.HumanMethylation450.Level_2.14.6.0/\">jhu-usc.edu_LUSC.HumanMethylation450.Level_2.14.6.0/</a>                                           2013-06-18 17:56    -   \n",
        "      <a href=\"jhu-usc.edu_LUSC.HumanMethylation450.Level_2.14.7.0.tar.gz\">jhu-usc.edu_LUSC.HumanMethylation450.Level_2.14.7.0.tar.gz</a>                                     2015-01-26 19:55  127M  \n",
        "      <a href=\"jhu-usc.edu_LUSC.HumanMethylation450.Level_2.14.7.0.tar.gz.md5\">jhu-usc.edu_LUSC.HumanMethylation450.Level_2.14.7.0.tar.gz.md5</a>                                 2015-01-26 19:55   92   \n",
        "      <a href=\"jhu-usc.edu_LUSC.HumanMethylation450.Level_2.14.7.0/\">jhu-usc.edu_LUSC.HumanMethylation450.Level_2.14.7.0/</a>                                           2015-01-26 19:54    -   \n",
        "      <a href=\"jhu-usc.edu_LUSC\"><a href=\"jhu-usc.edu_LUSC.HumanMethylation450.Level_1.1.2.0.tar.gz\"></a><a href=\"jhu-usc.edu_LUSC.HumanMethylation450.Level_1.1.2.0.tar.gz.md5\"></a><a href=\"jhu-usc.edu_LUSC.HumanMethylation450.Level_1.1.2.0/\"></a><a href=\"jhu-usc.edu_LUSC.HumanMethylation450.Level_1.1.3.0.tar.gz\"></a><a href=\"jhu-usc.edu_LUSC.HumanMethylation450.Level_1.1.3.0.tar.gz.md5\"></a><a href=\"jhu-usc.edu_LUSC.HumanMethylation450.Level_1.1.3.0/\"></a><a href=\"jhu-usc.edu_LUSC.HumanMethylation450.Level_1.1.4.0.tar.gz\"></a><a href=\"jhu-usc.edu_LUSC.HumanMethylation450.Level_1.1.4.0.tar.gz.md5\"></a><a href=\"jhu-usc.edu_LUSC.HumanMethylation450.Level_1.1.4.0/\"></a><a href=\"jhu-usc.edu_LUSC.HumanMethylation450.Level_1.1.5.0.tar.gz\"></a><a href=\"jhu-usc.edu_LUSC.HumanMethylation450.Level_1.1.5.0.tar.gz.md5\"></a><a href=\"jhu-usc.edu_LUSC.HumanMethylation450.Level_1.1.5.0/\"></a><a href=\"jhu-usc.edu_LUSC.HumanMethylation450.Level_1.1.6.0.tar.gz\"></a><a href=\"jhu-usc.edu_LUSC.HumanMethylation450.Level_1.1.6.0.tar.gz.md5\"></a><a href=\"jhu-usc.edu_LUSC.HumanMethylation450.Level_1.1.6.0/\"></a><a href=\"jhu-usc.edu_LUSC.HumanMethylation450.Level_1.1.7.0.tar.gz\"></a><a href=\"jhu-usc.edu_LUSC.HumanMethylation450.Level_1.1.7.0.tar.gz.md5\"></a><a href=\"jhu-usc.edu_LUSC.HumanMethylation450.Level_1.1.7.0/\"></a><a href=\"jhu-usc.edu_LUSC.HumanMethylation450.Level_1.10.3.0.tar.gz\"></a><a href=\"jhu-usc.edu_LUSC.HumanMethylation450.Level_1.10.3.0.tar.gz.md5\"></a><a href=\"jhu-usc.edu_LUSC.HumanMethylation450.Level_1.10.3.0/\"></a><a href=\"jhu-usc.edu_LUSC.HumanMethylation450.Level_1.10.4.0.tar.gz\"></a><a href=\"jhu-usc.edu_LUSC.HumanMethylation450.Level_1.10.4.0.tar.gz.md5\"></a><a href=\"jhu-usc.edu_LUSC.HumanMethylation450.Level_1.10.4.0/\"></a><a href=\"jhu-usc.edu_LUSC.HumanMethylation450.Level_1.10.5.0.tar.gz\"></a><a href=\"jhu-usc.edu_LUSC.HumanMethylation450.Level_1.10.5.0.tar.gz.md5\"></a><a href=\"jhu-usc.edu_LUSC.HumanMethylation450.Level_1.10.5.0/\"></a><a href=\"jhu-usc.edu_LUSC.HumanMethylation450.Level_1.10.6.0.tar.gz\"></a><a href=\"jhu-usc.edu_LUSC.HumanMethylation450.Level_1.10.6.0.tar.gz.md5\"></a><a href=\"jhu-usc.edu_LUSC.HumanMethylation450.Level_1.10.6.0/\"></a><a href=\"jhu-usc.edu_LUSC.HumanMethylation450.Level_1.10.7.0.tar.gz\"></a><a href=\"jhu-usc.edu_LUSC.HumanMethylation450.Level_1.10.7.0.tar.gz.md5\"></a><a href=\"jhu-usc.edu_LUSC.HumanMethylation450.Level_1.10.7.0/\"></a><a href=\"jhu-usc.edu_LUSC.HumanMethylation450.Level_1.11.3.0.tar.gz\"></a><a href=\"jhu-usc.edu_LUSC.HumanMethylation450.Level_1.11.3.0.tar.gz.md5\"></a><a href=\"jhu-usc.edu_LUSC.HumanMethylation450.Level_1.11.3.0/\"></a><a href=\"jhu-usc.edu_LUSC.HumanMethylation450.Level_1.11.4.0.tar.gz\"></a><a href=\"jhu-usc.edu_LUSC.HumanMethylation450.Level_1.11.4.0.tar.gz.md5\"></a><a href=\"jhu-usc.edu_LUSC.HumanMethylation450.Level_1.11.4.0/\"></a><a href=\"jhu-usc.edu_LUSC.HumanMethylation450.Level_1.11.5.0.tar.gz\"></a><a href=\"jhu-usc.edu_LUSC.HumanMethylation450.Level_1.11.5.0.tar.gz.md5\"></a><a href=\"jhu-usc.edu_LUSC.HumanMethylation450.Level_1.11.5.0/\"></a><a href=\"jhu-usc.edu_LUSC.HumanMethylation450.Level_1.11.6.0.tar.gz\"></a><a href=\"jhu-usc.edu_LUSC.HumanMethylation450.Level_1.11.6.0.tar.gz.md5\"></a><a href=\"jhu-usc.edu_LUSC.HumanMethylation450.Level_1.11.6.0/\"></a><a href=\"jhu-usc.edu_LUSC.HumanMethylation450.Level_1.11.7.0.tar.gz\"></a><a href=\"jhu-usc.edu_LUSC.HumanMethylation450.Level_1.11.7.0.tar.gz.md5\"></a><a href=\"jhu-usc.edu_LUSC.HumanMethylation450.Level_1.11.7.0/\"></a><a href=\"jhu-usc.edu_LUSC.HumanMethylation450.Level_1.12.5.0.tar.gz\"></a><a href=\"jhu-usc.edu_LUSC.HumanMethylation450.Level_1.12.5.0.tar.gz.md5\"></a><a href=\"jhu-usc.edu_LUSC.HumanMethylation450.Level_1.12.5.0/\"></a><a href=\"jhu-usc.edu_LUSC.HumanMethylation450.Level_1.12.6.0.tar.gz\"></a><a href=\"jhu-usc.edu_LUSC.HumanMethylation450.Level_1.12.6.0.tar.gz.md5\"></a><a href=\"jhu-usc.edu_LUSC.HumanMethylation450.Level_1.12.6.0/\"></a><a href=\"jhu-usc.edu_LUSC.HumanMethylation450.Level_1.12.7.0.tar.gz\"></a><a href=\"jhu-usc.edu_LUSC.HumanMethylation450.Level_1.12.7.0.tar.gz.md5\"></a><a href=\"jhu-usc.edu_LUSC.HumanMethylation450.Level_1.12.7.0/\"></a><a href=\"jhu-usc.edu_LUSC.HumanMethylation450.Level_1.13.5.0.tar.gz\"></a><a href=\"jhu-usc.edu_LUSC.HumanMethylation450.Level_1.13.5.0.tar.gz.md5\"></a><a href=\"jhu-usc.edu_LUSC.HumanMethylation450.Level_1.13.5.0/\"></a><a href=\"jhu-usc.edu_LUSC.HumanMethylation450.Level_1.13.6.0.tar.gz\"></a><a href=\"jhu-usc.edu_LUSC.HumanMethylation450.Level_1.13.6.0.tar.gz.md5\"></a><a href=\"jhu-usc.edu_LUSC.HumanMethylation450.Level_1.13.6.0/\"></a><a href=\"jhu-usc.edu_LUSC.HumanMethylation450.Level_1.13.7.0.tar.gz\"></a><a href=\"jhu-usc.edu_LUSC.HumanMethylation450.Level_1.13.7.0.tar.gz.md5\"></a><a href=\"jhu-usc.edu_LUSC.HumanMethylation450.Level_1.13.7.0/\"></a><a href=\"jhu-usc.edu_LUSC.HumanMethylation450.Level_1.14.6.0.tar.gz\"></a><a href=\"jhu-usc.edu_LUSC.HumanMethylation450.Level_1.14.6.0.tar.gz.md5\"></a><a href=\"jhu-usc.edu_LUSC.HumanMethylation450.Level_1.14.6.0/\"></a><a href=\"jhu-usc.edu_LUSC.HumanMethylation450.Level_1.14.7.0.tar.gz\"></a><a href=\"jhu-usc.edu_LUSC.HumanMethylation450.Level_1.14.7.0.tar.gz.md5\"></a><a href=\"jhu-usc.edu_LUSC.HumanMethylation450.Level_1.14.7.0/\"></a><a href=\"jhu-usc.edu_LUSC.HumanMethylation450.Level_1.15.6.0.tar.gz\"></a><a href=\"jhu-usc.edu_LUSC.HumanMethylation450.Level_1.15.6.0.tar.gz.md5\"></a><a href=\"jhu-usc.edu_LUSC.HumanMethylation450.Level_1.15.6.0/\"></a><a href=\"jhu-usc.edu_LUSC.HumanMethylation450.Level_1.15.7.0.tar.gz\"></a><a href=\"jhu-usc.edu_LUSC.HumanMethylation450.Level_1.15.7.0.tar.gz.md5\"></a><a href=\"jhu-usc.edu_LUSC.HumanMethylation450.Level_1.15.7.0/\"></a><a href=\"jhu-usc.edu_LUSC.HumanMethylation450.Level_1.16.6.0.tar.gz\"></a><a href=\"jhu-usc.edu_LUSC.HumanMethylation450.Level_1.16.6.0.tar.gz.md5\"></a><a href=\"jhu-usc.edu_LUSC.HumanMethylation450.Level_1.16.6.0/\"></a><a href=\"jhu-usc.edu_LUSC.HumanMethylation450.Level_1.16.7.0.tar.gz\"></a><a href=\"jhu-usc.edu_LUSC.HumanMethylation450.Level_1.16.7.0.tar.gz.md5\"></a><a href=\"jhu-usc.edu_LUSC.HumanMethylation450.Level_1.16.7.0/\"></a><a href=\"jhu-usc.edu_LUSC.HumanMethylation450.Level_1.17.6.0.tar.gz\"></a><a href=\"jhu-usc.edu_LUSC.HumanMethylation450.Level_1.17.6.0.tar.gz.md5\"></a><a href=\"jhu-usc.edu_LUSC.HumanMethylation450.Level_1.17.6.0/\"></a><a href=\"jhu-usc.edu_LUSC.HumanMethylation450.Level_1.17.7.0.tar.gz\"></a><a href=\"jhu-usc.edu_LUSC.HumanMethylation450.Level_1.17.7.0.tar.gz.md5\"></a><a href=\"jhu-usc.edu_LUSC.HumanMethylation450.Level_1.17.7.0/\"></a><a href=\"jhu-usc.edu_LUSC.HumanMethylation450.Level_1.18.7.0.tar.gz\"></a></a></pre></body></html>"
       ]
      }
     ],
     "prompt_number": 5
    },
    {
     "cell_type": "markdown",
     "metadata": {},
     "source": [
      "<b>Get Tar Links</b>"
     ]
    },
    {
     "cell_type": "code",
     "collapsed": false,
     "input": [
      "links = [link.get('href') for link in soup.find_all('a') \n",
      "                          if (link.get('href') != None )\n",
      "                           and '_1.' in link.get('href')\n",
      "                           and '.tar.gz' in link.get('href')\n",
      "                           and '.md5' not in link.get('href')]\n",
      "links"
     ],
     "language": "python",
     "metadata": {},
     "outputs": [
      {
       "metadata": {},
       "output_type": "pyout",
       "prompt_number": 8,
       "text": [
        "['jhu-usc.edu_LUSC.HumanMethylation450.Level_1.1.0.0.tar.gz',\n",
        " 'jhu-usc.edu_LUSC.HumanMethylation450.Level_1.1.1.0.tar.gz',\n",
        " 'jhu-usc.edu_LUSC.HumanMethylation450.Level_1.1.2.0.tar.gz',\n",
        " 'jhu-usc.edu_LUSC.HumanMethylation450.Level_1.1.3.0.tar.gz',\n",
        " 'jhu-usc.edu_LUSC.HumanMethylation450.Level_1.1.4.0.tar.gz',\n",
        " 'jhu-usc.edu_LUSC.HumanMethylation450.Level_1.1.5.0.tar.gz',\n",
        " 'jhu-usc.edu_LUSC.HumanMethylation450.Level_1.1.6.0.tar.gz',\n",
        " 'jhu-usc.edu_LUSC.HumanMethylation450.Level_1.1.7.0.tar.gz',\n",
        " 'jhu-usc.edu_LUSC.HumanMethylation450.Level_1.10.3.0.tar.gz',\n",
        " 'jhu-usc.edu_LUSC.HumanMethylation450.Level_1.10.4.0.tar.gz',\n",
        " 'jhu-usc.edu_LUSC.HumanMethylation450.Level_1.10.5.0.tar.gz',\n",
        " 'jhu-usc.edu_LUSC.HumanMethylation450.Level_1.10.6.0.tar.gz',\n",
        " 'jhu-usc.edu_LUSC.HumanMethylation450.Level_1.10.7.0.tar.gz',\n",
        " 'jhu-usc.edu_LUSC.HumanMethylation450.Level_1.11.3.0.tar.gz',\n",
        " 'jhu-usc.edu_LUSC.HumanMethylation450.Level_1.11.4.0.tar.gz',\n",
        " 'jhu-usc.edu_LUSC.HumanMethylation450.Level_1.11.5.0.tar.gz',\n",
        " 'jhu-usc.edu_LUSC.HumanMethylation450.Level_1.11.6.0.tar.gz',\n",
        " 'jhu-usc.edu_LUSC.HumanMethylation450.Level_1.11.7.0.tar.gz',\n",
        " 'jhu-usc.edu_LUSC.HumanMethylation450.Level_1.12.5.0.tar.gz',\n",
        " 'jhu-usc.edu_LUSC.HumanMethylation450.Level_1.12.6.0.tar.gz',\n",
        " 'jhu-usc.edu_LUSC.HumanMethylation450.Level_1.12.7.0.tar.gz',\n",
        " 'jhu-usc.edu_LUSC.HumanMethylation450.Level_1.13.5.0.tar.gz',\n",
        " 'jhu-usc.edu_LUSC.HumanMethylation450.Level_1.13.6.0.tar.gz',\n",
        " 'jhu-usc.edu_LUSC.HumanMethylation450.Level_1.13.7.0.tar.gz',\n",
        " 'jhu-usc.edu_LUSC.HumanMethylation450.Level_1.14.6.0.tar.gz',\n",
        " 'jhu-usc.edu_LUSC.HumanMethylation450.Level_1.14.7.0.tar.gz',\n",
        " 'jhu-usc.edu_LUSC.HumanMethylation450.Level_1.15.6.0.tar.gz',\n",
        " 'jhu-usc.edu_LUSC.HumanMethylation450.Level_1.15.7.0.tar.gz',\n",
        " 'jhu-usc.edu_LUSC.HumanMethylation450.Level_1.16.6.0.tar.gz',\n",
        " 'jhu-usc.edu_LUSC.HumanMethylation450.Level_1.16.7.0.tar.gz',\n",
        " 'jhu-usc.edu_LUSC.HumanMethylation450.Level_1.17.6.0.tar.gz',\n",
        " 'jhu-usc.edu_LUSC.HumanMethylation450.Level_1.17.7.0.tar.gz',\n",
        " 'jhu-usc.edu_LUSC.HumanMethylation450.Level_1.18.7.0.tar.gz',\n",
        " 'jhu-usc.edu_LUSC.HumanMethylation450.Level_1.2.0.0.tar.gz',\n",
        " 'jhu-usc.edu_LUSC.HumanMethylation450.Level_1.2.1.0.tar.gz',\n",
        " 'jhu-usc.edu_LUSC.HumanMethylation450.Level_1.2.2.0.tar.gz',\n",
        " 'jhu-usc.edu_LUSC.HumanMethylation450.Level_1.2.3.0.tar.gz',\n",
        " 'jhu-usc.edu_LUSC.HumanMethylation450.Level_1.2.4.0.tar.gz',\n",
        " 'jhu-usc.edu_LUSC.HumanMethylation450.Level_1.2.5.0.tar.gz',\n",
        " 'jhu-usc.edu_LUSC.HumanMethylation450.Level_1.2.6.0.tar.gz',\n",
        " 'jhu-usc.edu_LUSC.HumanMethylation450.Level_1.2.7.0.tar.gz',\n",
        " 'jhu-usc.edu_LUSC.HumanMethylation450.Level_1.3.0.0.tar.gz',\n",
        " 'jhu-usc.edu_LUSC.HumanMethylation450.Level_1.3.1.0.tar.gz',\n",
        " 'jhu-usc.edu_LUSC.HumanMethylation450.Level_1.3.2.0.tar.gz',\n",
        " 'jhu-usc.edu_LUSC.HumanMethylation450.Level_1.3.3.0.tar.gz',\n",
        " 'jhu-usc.edu_LUSC.HumanMethylation450.Level_1.3.4.0.tar.gz',\n",
        " 'jhu-usc.edu_LUSC.HumanMethylation450.Level_1.3.5.0.tar.gz',\n",
        " 'jhu-usc.edu_LUSC.HumanMethylation450.Level_1.3.6.0.tar.gz',\n",
        " 'jhu-usc.edu_LUSC.HumanMethylation450.Level_1.3.7.0.tar.gz',\n",
        " 'jhu-usc.edu_LUSC.HumanMethylation450.Level_1.4.0.0.tar.gz',\n",
        " 'jhu-usc.edu_LUSC.HumanMethylation450.Level_1.4.1.0.tar.gz',\n",
        " 'jhu-usc.edu_LUSC.HumanMethylation450.Level_1.4.2.0.tar.gz',\n",
        " 'jhu-usc.edu_LUSC.HumanMethylation450.Level_1.4.3.0.tar.gz',\n",
        " 'jhu-usc.edu_LUSC.HumanMethylation450.Level_1.4.4.0.tar.gz',\n",
        " 'jhu-usc.edu_LUSC.HumanMethylation450.Level_1.4.5.0.tar.gz',\n",
        " 'jhu-usc.edu_LUSC.HumanMethylation450.Level_1.4.6.0.tar.gz',\n",
        " 'jhu-usc.edu_LUSC.HumanMethylation450.Level_1.4.7.0.tar.gz',\n",
        " 'jhu-usc.edu_LUSC.HumanMethylation450.Level_1.5.0.0.tar.gz',\n",
        " 'jhu-usc.edu_LUSC.HumanMethylation450.Level_1.5.1.0.tar.gz',\n",
        " 'jhu-usc.edu_LUSC.HumanMethylation450.Level_1.5.2.0.tar.gz',\n",
        " 'jhu-usc.edu_LUSC.HumanMethylation450.Level_1.5.3.0.tar.gz',\n",
        " 'jhu-usc.edu_LUSC.HumanMethylation450.Level_1.5.4.0.tar.gz',\n",
        " 'jhu-usc.edu_LUSC.HumanMethylation450.Level_1.5.5.0.tar.gz',\n",
        " 'jhu-usc.edu_LUSC.HumanMethylation450.Level_1.5.6.0.tar.gz',\n",
        " 'jhu-usc.edu_LUSC.HumanMethylation450.Level_1.5.7.0.tar.gz',\n",
        " 'jhu-usc.edu_LUSC.HumanMethylation450.Level_1.6.2.0.tar.gz',\n",
        " 'jhu-usc.edu_LUSC.HumanMethylation450.Level_1.6.3.0.tar.gz',\n",
        " 'jhu-usc.edu_LUSC.HumanMethylation450.Level_1.6.4.0.tar.gz',\n",
        " 'jhu-usc.edu_LUSC.HumanMethylation450.Level_1.6.5.0.tar.gz',\n",
        " 'jhu-usc.edu_LUSC.HumanMethylation450.Level_1.6.6.0.tar.gz',\n",
        " 'jhu-usc.edu_LUSC.HumanMethylation450.Level_1.6.7.0.tar.gz',\n",
        " 'jhu-usc.edu_LUSC.HumanMethylation450.Level_1.7.2.0.tar.gz',\n",
        " 'jhu-usc.edu_LUSC.HumanMethylation450.Level_1.7.3.0.tar.gz',\n",
        " 'jhu-usc.edu_LUSC.HumanMethylation450.Level_1.7.4.0.tar.gz',\n",
        " 'jhu-usc.edu_LUSC.HumanMethylation450.Level_1.7.5.0.tar.gz',\n",
        " 'jhu-usc.edu_LUSC.HumanMethylation450.Level_1.7.6.0.tar.gz',\n",
        " 'jhu-usc.edu_LUSC.HumanMethylation450.Level_1.7.7.0.tar.gz',\n",
        " 'jhu-usc.edu_LUSC.HumanMethylation450.Level_1.8.3.0.tar.gz',\n",
        " 'jhu-usc.edu_LUSC.HumanMethylation450.Level_1.8.4.0.tar.gz',\n",
        " 'jhu-usc.edu_LUSC.HumanMethylation450.Level_1.8.5.0.tar.gz',\n",
        " 'jhu-usc.edu_LUSC.HumanMethylation450.Level_1.8.6.0.tar.gz',\n",
        " 'jhu-usc.edu_LUSC.HumanMethylation450.Level_1.8.7.0.tar.gz',\n",
        " 'jhu-usc.edu_LUSC.HumanMethylation450.Level_1.9.3.0.tar.gz',\n",
        " 'jhu-usc.edu_LUSC.HumanMethylation450.Level_1.9.4.0.tar.gz',\n",
        " 'jhu-usc.edu_LUSC.HumanMethylation450.Level_1.9.5.0.tar.gz',\n",
        " 'jhu-usc.edu_LUSC.HumanMethylation450.Level_1.9.6.0.tar.gz',\n",
        " 'jhu-usc.edu_LUSC.HumanMethylation450.Level_1.9.7.0.tar.gz',\n",
        " 'jhu-usc.edu_LUSC.HumanMethylation450.Level_1.1.2.0.tar.gz',\n",
        " 'jhu-usc.edu_LUSC.HumanMethylation450.Level_1.1.3.0.tar.gz',\n",
        " 'jhu-usc.edu_LUSC.HumanMethylation450.Level_1.1.4.0.tar.gz',\n",
        " 'jhu-usc.edu_LUSC.HumanMethylation450.Level_1.1.5.0.tar.gz',\n",
        " 'jhu-usc.edu_LUSC.HumanMethylation450.Level_1.1.6.0.tar.gz',\n",
        " 'jhu-usc.edu_LUSC.HumanMethylation450.Level_1.1.7.0.tar.gz',\n",
        " 'jhu-usc.edu_LUSC.HumanMethylation450.Level_1.10.3.0.tar.gz',\n",
        " 'jhu-usc.edu_LUSC.HumanMethylation450.Level_1.10.4.0.tar.gz',\n",
        " 'jhu-usc.edu_LUSC.HumanMethylation450.Level_1.10.5.0.tar.gz',\n",
        " 'jhu-usc.edu_LUSC.HumanMethylation450.Level_1.10.6.0.tar.gz',\n",
        " 'jhu-usc.edu_LUSC.HumanMethylation450.Level_1.10.7.0.tar.gz',\n",
        " 'jhu-usc.edu_LUSC.HumanMethylation450.Level_1.11.3.0.tar.gz',\n",
        " 'jhu-usc.edu_LUSC.HumanMethylation450.Level_1.11.4.0.tar.gz',\n",
        " 'jhu-usc.edu_LUSC.HumanMethylation450.Level_1.11.5.0.tar.gz',\n",
        " 'jhu-usc.edu_LUSC.HumanMethylation450.Level_1.11.6.0.tar.gz',\n",
        " 'jhu-usc.edu_LUSC.HumanMethylation450.Level_1.11.7.0.tar.gz',\n",
        " 'jhu-usc.edu_LUSC.HumanMethylation450.Level_1.12.5.0.tar.gz',\n",
        " 'jhu-usc.edu_LUSC.HumanMethylation450.Level_1.12.6.0.tar.gz',\n",
        " 'jhu-usc.edu_LUSC.HumanMethylation450.Level_1.12.7.0.tar.gz',\n",
        " 'jhu-usc.edu_LUSC.HumanMethylation450.Level_1.13.5.0.tar.gz',\n",
        " 'jhu-usc.edu_LUSC.HumanMethylation450.Level_1.13.6.0.tar.gz',\n",
        " 'jhu-usc.edu_LUSC.HumanMethylation450.Level_1.13.7.0.tar.gz',\n",
        " 'jhu-usc.edu_LUSC.HumanMethylation450.Level_1.14.6.0.tar.gz',\n",
        " 'jhu-usc.edu_LUSC.HumanMethylation450.Level_1.14.7.0.tar.gz',\n",
        " 'jhu-usc.edu_LUSC.HumanMethylation450.Level_1.15.6.0.tar.gz',\n",
        " 'jhu-usc.edu_LUSC.HumanMethylation450.Level_1.15.7.0.tar.gz',\n",
        " 'jhu-usc.edu_LUSC.HumanMethylation450.Level_1.16.6.0.tar.gz',\n",
        " 'jhu-usc.edu_LUSC.HumanMethylation450.Level_1.16.7.0.tar.gz',\n",
        " 'jhu-usc.edu_LUSC.HumanMethylation450.Level_1.17.6.0.tar.gz',\n",
        " 'jhu-usc.edu_LUSC.HumanMethylation450.Level_1.17.7.0.tar.gz',\n",
        " 'jhu-usc.edu_LUSC.HumanMethylation450.Level_1.18.7.0.tar.gz']"
       ]
      }
     ],
     "prompt_number": 8
    },
    {
     "cell_type": "markdown",
     "metadata": {},
     "source": [
      "<b> Download and Unzip tar.gz files </b>"
     ]
    },
    {
     "cell_type": "code",
     "collapsed": false,
     "input": [
      "for i, download_file in enumerate(links):\n",
      "    print \"Downloading file {}\".format(i + 1)\n",
      "    response = urllib2.urlopen(url + download_file)\n",
      "    compressedFile = StringIO.StringIO()\n",
      "    compressedFile.write(response.read())\n",
      "    compressedFile.seek(0)\n",
      "    decompressedFile = gzip.GzipFile(fileobj=compressedFile, mode='rb')\n",
      "    \n",
      "    with open(download_file.replace(\"\", \"\"), 'w') as datapath:\n",
      "        datapath.write(compressedFile.read())"
     ],
     "language": "python",
     "metadata": {},
     "outputs": []
    },
    {
     "cell_type": "markdown",
     "metadata": {},
     "source": [
      "<b>Extract Tar Archive Using Command Line Function</b>"
     ]
    },
    {
     "cell_type": "code",
     "collapsed": false,
     "input": [
      "!tar -xvf jhu-usc.edu_HNSC.HumanMethylation450.Level_1.1.2.0.tar"
     ],
     "language": "python",
     "metadata": {},
     "outputs": [
      {
       "output_type": "stream",
       "stream": "stdout",
       "text": [
        "jhu-usc.edu_HNSC.HumanMethylation450.Level_1.1.2.0/6285650014_R01C01_Grn.idat\r\n"
       ]
      },
      {
       "output_type": "stream",
       "stream": "stdout",
       "text": [
        "jhu-usc.edu_HNSC.HumanMethylation450.Level_1.1.2.0/6285650014_R01C01_Red.idat\r\n"
       ]
      },
      {
       "output_type": "stream",
       "stream": "stdout",
       "text": [
        "jhu-usc.edu_HNSC.HumanMethylation450.Level_1.1.2.0/6285650014_R01C02_Grn.idat\r\n"
       ]
      },
      {
       "output_type": "stream",
       "stream": "stdout",
       "text": [
        "jhu-usc.edu_HNSC.HumanMethylation450.Level_1.1.2.0/6285650014_R01C02_Red.idat\r\n"
       ]
      },
      {
       "output_type": "stream",
       "stream": "stdout",
       "text": [
        "jhu-usc.edu_HNSC.HumanMethylation450.Level_1.1.2.0/6285650014_R02C01_Grn.idat\r\n"
       ]
      },
      {
       "output_type": "stream",
       "stream": "stdout",
       "text": [
        "jhu-usc.edu_HNSC.HumanMethylation450.Level_1.1.2.0/6285650014_R02C01_Red.idat\r\n"
       ]
      },
      {
       "output_type": "stream",
       "stream": "stdout",
       "text": [
        "jhu-usc.edu_HNSC.HumanMethylation450.Level_1.1.2.0/6285650014_R02C02_Grn.idat\r\n"
       ]
      },
      {
       "output_type": "stream",
       "stream": "stdout",
       "text": [
        "jhu-usc.edu_HNSC.HumanMethylation450.Level_1.1.2.0/6285650014_R02C02_Red.idat\r\n"
       ]
      },
      {
       "output_type": "stream",
       "stream": "stdout",
       "text": [
        "jhu-usc.edu_HNSC.HumanMethylation450.Level_1.1.2.0/6285650014_R03C01_Grn.idat\r\n"
       ]
      },
      {
       "output_type": "stream",
       "stream": "stdout",
       "text": [
        "jhu-usc.edu_HNSC.HumanMethylation450.Level_1.1.2.0/6285650014_R03C01_Red.idat\r\n"
       ]
      },
      {
       "output_type": "stream",
       "stream": "stdout",
       "text": [
        "jhu-usc.edu_HNSC.HumanMethylation450.Level_1.1.2.0/6285650014_R03C02_Grn.idat\r\n"
       ]
      },
      {
       "output_type": "stream",
       "stream": "stdout",
       "text": [
        "jhu-usc.edu_HNSC.HumanMethylation450.Level_1.1.2.0/6285650014_R03C02_Red.idat\r\n"
       ]
      },
      {
       "output_type": "stream",
       "stream": "stdout",
       "text": [
        "jhu-usc.edu_HNSC.HumanMethylation450.Level_1.1.2.0/6285650014_R04C01_Grn.idat\r\n"
       ]
      },
      {
       "output_type": "stream",
       "stream": "stdout",
       "text": [
        "jhu-usc.edu_HNSC.HumanMethylation450.Level_1.1.2.0/6285650014_R04C01_Red.idat\r\n"
       ]
      },
      {
       "output_type": "stream",
       "stream": "stdout",
       "text": [
        "jhu-usc.edu_HNSC.HumanMethylation450.Level_1.1.2.0/6285650014_R04C02_Grn.idat\r\n"
       ]
      },
      {
       "output_type": "stream",
       "stream": "stdout",
       "text": [
        "jhu-usc.edu_HNSC.HumanMethylation450.Level_1.1.2.0/6285650014_R04C02_Red.idat\r\n"
       ]
      },
      {
       "output_type": "stream",
       "stream": "stdout",
       "text": [
        "jhu-usc.edu_HNSC.HumanMethylation450.Level_1.1.2.0/6285650014_R05C01_Grn.idat\r\n"
       ]
      },
      {
       "output_type": "stream",
       "stream": "stdout",
       "text": [
        "jhu-usc.edu_HNSC.HumanMethylation450.Level_1.1.2.0/6285650014_R05C01_Red.idat\r\n"
       ]
      },
      {
       "output_type": "stream",
       "stream": "stdout",
       "text": [
        "jhu-usc.edu_HNSC.HumanMethylation450.Level_1.1.2.0/6285650014_R05C02_Grn.idat\r\n"
       ]
      },
      {
       "output_type": "stream",
       "stream": "stdout",
       "text": [
        "jhu-usc.edu_HNSC.HumanMethylation450.Level_1.1.2.0/6285650014_R05C02_Red.idat\r\n"
       ]
      },
      {
       "output_type": "stream",
       "stream": "stdout",
       "text": [
        "jhu-usc.edu_HNSC.HumanMethylation450.Level_1.1.2.0/6285650014_R06C01_Grn.idat\r\n"
       ]
      },
      {
       "output_type": "stream",
       "stream": "stdout",
       "text": [
        "jhu-usc.edu_HNSC.HumanMethylation450.Level_1.1.2.0/6285650014_R06C01_Red.idat\r\n"
       ]
      },
      {
       "output_type": "stream",
       "stream": "stdout",
       "text": [
        "jhu-usc.edu_HNSC.HumanMethylation450.Level_1.1.2.0/6285650014_R06C02_Grn.idat\r\n"
       ]
      },
      {
       "output_type": "stream",
       "stream": "stdout",
       "text": [
        "jhu-usc.edu_HNSC.HumanMethylation450.Level_1.1.2.0/6285650014_R06C02_Red.idat\r\n"
       ]
      },
      {
       "output_type": "stream",
       "stream": "stdout",
       "text": [
        "jhu-usc.edu_HNSC.HumanMethylation450.Level_1.1.2.0/6285650015_R01C01_Grn.idat\r\n"
       ]
      },
      {
       "output_type": "stream",
       "stream": "stdout",
       "text": [
        "jhu-usc.edu_HNSC.HumanMethylation450.Level_1.1.2.0/6285650015_R01C01_Red.idat\r\n"
       ]
      },
      {
       "output_type": "stream",
       "stream": "stdout",
       "text": [
        "jhu-usc.edu_HNSC.HumanMethylation450.Level_1.1.2.0/6285650015_R01C02_Grn.idat\r\n"
       ]
      },
      {
       "output_type": "stream",
       "stream": "stdout",
       "text": [
        "jhu-usc.edu_HNSC.HumanMethylation450.Level_1.1.2.0/6285650015_R01C02_Red.idat\r\n"
       ]
      },
      {
       "output_type": "stream",
       "stream": "stdout",
       "text": [
        "jhu-usc.edu_HNSC.HumanMethylation450.Level_1.1.2.0/6285650015_R02C01_Grn.idat\r\n"
       ]
      },
      {
       "output_type": "stream",
       "stream": "stdout",
       "text": [
        "jhu-usc.edu_HNSC.HumanMethylation450.Level_1.1.2.0/6285650015_R02C01_Red.idat\r\n"
       ]
      },
      {
       "output_type": "stream",
       "stream": "stdout",
       "text": [
        "jhu-usc.edu_HNSC.HumanMethylation450.Level_1.1.2.0/6285650015_R02C02_Grn.idat\r\n"
       ]
      },
      {
       "output_type": "stream",
       "stream": "stdout",
       "text": [
        "jhu-usc.edu_HNSC.HumanMethylation450.Level_1.1.2.0/6285650015_R02C02_Red.idat\r\n"
       ]
      },
      {
       "output_type": "stream",
       "stream": "stdout",
       "text": [
        "jhu-usc.edu_HNSC.HumanMethylation450.Level_1.1.2.0/6285650015_R03C01_Grn.idat\r\n"
       ]
      },
      {
       "output_type": "stream",
       "stream": "stdout",
       "text": [
        "jhu-usc.edu_HNSC.HumanMethylation450.Level_1.1.2.0/6285650015_R03C01_Red.idat\r\n"
       ]
      },
      {
       "output_type": "stream",
       "stream": "stdout",
       "text": [
        "jhu-usc.edu_HNSC.HumanMethylation450.Level_1.1.2.0/6285650015_R03C02_Grn.idat\r\n"
       ]
      },
      {
       "output_type": "stream",
       "stream": "stdout",
       "text": [
        "jhu-usc.edu_HNSC.HumanMethylation450.Level_1.1.2.0/6285650015_R03C02_Red.idat\r\n"
       ]
      },
      {
       "output_type": "stream",
       "stream": "stdout",
       "text": [
        "jhu-usc.edu_HNSC.HumanMethylation450.Level_1.1.2.0/6285650015_R04C01_Grn.idat\r\n"
       ]
      },
      {
       "output_type": "stream",
       "stream": "stdout",
       "text": [
        "jhu-usc.edu_HNSC.HumanMethylation450.Level_1.1.2.0/6285650015_R04C01_Red.idat\r\n"
       ]
      },
      {
       "output_type": "stream",
       "stream": "stdout",
       "text": [
        "jhu-usc.edu_HNSC.HumanMethylation450.Level_1.1.2.0/6285650015_R04C02_Grn.idat\r\n"
       ]
      },
      {
       "output_type": "stream",
       "stream": "stdout",
       "text": [
        "jhu-usc.edu_HNSC.HumanMethylation450.Level_1.1.2.0/6285650015_R04C02_Red.idat\r\n"
       ]
      },
      {
       "output_type": "stream",
       "stream": "stdout",
       "text": [
        "jhu-usc.edu_HNSC.HumanMethylation450.Level_1.1.2.0/6285650015_R05C01_Grn.idat\r\n"
       ]
      },
      {
       "output_type": "stream",
       "stream": "stdout",
       "text": [
        "jhu-usc.edu_HNSC.HumanMethylation450.Level_1.1.2.0/6285650015_R05C01_Red.idat\r\n"
       ]
      },
      {
       "output_type": "stream",
       "stream": "stdout",
       "text": [
        "jhu-usc.edu_HNSC.HumanMethylation450.Level_1.1.2.0/6285650015_R05C02_Grn.idat\r\n"
       ]
      },
      {
       "output_type": "stream",
       "stream": "stdout",
       "text": [
        "jhu-usc.edu_HNSC.HumanMethylation450.Level_1.1.2.0/6285650015_R05C02_Red.idat\r\n"
       ]
      },
      {
       "output_type": "stream",
       "stream": "stdout",
       "text": [
        "jhu-usc.edu_HNSC.HumanMethylation450.Level_1.1.2.0/6285650015_R06C01_Grn.idat\r\n"
       ]
      },
      {
       "output_type": "stream",
       "stream": "stdout",
       "text": [
        "jhu-usc.edu_HNSC.HumanMethylation450.Level_1.1.2.0/6285650015_R06C01_Red.idat\r\n"
       ]
      },
      {
       "output_type": "stream",
       "stream": "stdout",
       "text": [
        "jhu-usc.edu_HNSC.HumanMethylation450.Level_1.1.2.0/6285650015_R06C02_Grn.idat\r\n"
       ]
      },
      {
       "output_type": "stream",
       "stream": "stdout",
       "text": [
        "jhu-usc.edu_HNSC.HumanMethylation450.Level_1.1.2.0/6285650015_R06C02_Red.idat\r\n"
       ]
      },
      {
       "output_type": "stream",
       "stream": "stdout",
       "text": [
        "jhu-usc.edu_HNSC.HumanMethylation450.Level_1.1.2.0/6285650016_R01C01_Grn.idat\r\n"
       ]
      },
      {
       "output_type": "stream",
       "stream": "stdout",
       "text": [
        "jhu-usc.edu_HNSC.HumanMethylation450.Level_1.1.2.0/6285650016_R01C01_Red.idat\r\n"
       ]
      },
      {
       "output_type": "stream",
       "stream": "stdout",
       "text": [
        "jhu-usc.edu_HNSC.HumanMethylation450.Level_1.1.2.0/6285650016_R02C01_Grn.idat\r\n"
       ]
      },
      {
       "output_type": "stream",
       "stream": "stdout",
       "text": [
        "jhu-usc.edu_HNSC.HumanMethylation450.Level_1.1.2.0/6285650016_R02C01_Red.idat\r\n"
       ]
      },
      {
       "output_type": "stream",
       "stream": "stdout",
       "text": [
        "jhu-usc.edu_HNSC.HumanMethylation450.Level_1.1.2.0/6285650016_R02C02_Grn.idat\r\n"
       ]
      },
      {
       "output_type": "stream",
       "stream": "stdout",
       "text": [
        "jhu-usc.edu_HNSC.HumanMethylation450.Level_1.1.2.0/6285650016_R02C02_Red.idat\r\n"
       ]
      },
      {
       "output_type": "stream",
       "stream": "stdout",
       "text": [
        "jhu-usc.edu_HNSC.HumanMethylation450.Level_1.1.2.0/6285650016_R03C01_Grn.idat\r\n"
       ]
      },
      {
       "output_type": "stream",
       "stream": "stdout",
       "text": [
        "jhu-usc.edu_HNSC.HumanMethylation450.Level_1.1.2.0/6285650016_R03C01_Red.idat\r\n"
       ]
      },
      {
       "output_type": "stream",
       "stream": "stdout",
       "text": [
        "jhu-usc.edu_HNSC.HumanMethylation450.Level_1.1.2.0/6285650016_R03C02_Grn.idat\r\n"
       ]
      },
      {
       "output_type": "stream",
       "stream": "stdout",
       "text": [
        "jhu-usc.edu_HNSC.HumanMethylation450.Level_1.1.2.0/6285650016_R03C02_Red.idat\r\n"
       ]
      },
      {
       "output_type": "stream",
       "stream": "stdout",
       "text": [
        "jhu-usc.edu_HNSC.HumanMethylation450.Level_1.1.2.0/6285650016_R04C01_Grn.idat\r\n"
       ]
      },
      {
       "output_type": "stream",
       "stream": "stdout",
       "text": [
        "jhu-usc.edu_HNSC.HumanMethylation450.Level_1.1.2.0/6285650016_R04C01_Red.idat\r\n"
       ]
      },
      {
       "output_type": "stream",
       "stream": "stdout",
       "text": [
        "jhu-usc.edu_HNSC.HumanMethylation450.Level_1.1.2.0/6285650016_R04C02_Grn.idat\r\n"
       ]
      },
      {
       "output_type": "stream",
       "stream": "stdout",
       "text": [
        "jhu-usc.edu_HNSC.HumanMethylation450.Level_1.1.2.0/6285650016_R04C02_Red.idat\r\n"
       ]
      },
      {
       "output_type": "stream",
       "stream": "stdout",
       "text": [
        "jhu-usc.edu_HNSC.HumanMethylation450.Level_1.1.2.0/6285650016_R05C02_Grn.idat\r\n"
       ]
      },
      {
       "output_type": "stream",
       "stream": "stdout",
       "text": [
        "jhu-usc.edu_HNSC.HumanMethylation450.Level_1.1.2.0/6285650016_R05C02_Red.idat\r\n"
       ]
      },
      {
       "output_type": "stream",
       "stream": "stdout",
       "text": [
        "jhu-usc.edu_HNSC.HumanMethylation450.Level_1.1.2.0/6285650016_R06C01_Grn.idat\r\n"
       ]
      },
      {
       "output_type": "stream",
       "stream": "stdout",
       "text": [
        "jhu-usc.edu_HNSC.HumanMethylation450.Level_1.1.2.0/6285650016_R06C01_Red.idat\r\n"
       ]
      },
      {
       "output_type": "stream",
       "stream": "stdout",
       "text": [
        "jhu-usc.edu_HNSC.HumanMethylation450.Level_1.1.2.0/6285650016_R06C02_Grn.idat\r\n"
       ]
      },
      {
       "output_type": "stream",
       "stream": "stdout",
       "text": [
        "jhu-usc.edu_HNSC.HumanMethylation450.Level_1.1.2.0/6285650016_R06C02_Red.idat\r\n"
       ]
      },
      {
       "output_type": "stream",
       "stream": "stdout",
       "text": [
        "jhu-usc.edu_HNSC.HumanMethylation450.Level_1.1.2.0/6285650023_R01C01_Grn.idat\r\n"
       ]
      },
      {
       "output_type": "stream",
       "stream": "stdout",
       "text": [
        "jhu-usc.edu_HNSC.HumanMethylation450.Level_1.1.2.0/6285650023_R01C01_Red.idat\r\n"
       ]
      },
      {
       "output_type": "stream",
       "stream": "stdout",
       "text": [
        "jhu-usc.edu_HNSC.HumanMethylation450.Level_1.1.2.0/6285650023_R02C01_Grn.idat\r\n"
       ]
      },
      {
       "output_type": "stream",
       "stream": "stdout",
       "text": [
        "jhu-usc.edu_HNSC.HumanMethylation450.Level_1.1.2.0/6285650023_R02C01_Red.idat\r\n"
       ]
      },
      {
       "output_type": "stream",
       "stream": "stdout",
       "text": [
        "jhu-usc.edu_HNSC.HumanMethylation450.Level_1.1.2.0/6285650023_R03C01_Grn.idat\r\n"
       ]
      },
      {
       "output_type": "stream",
       "stream": "stdout",
       "text": [
        "jhu-usc.edu_HNSC.HumanMethylation450.Level_1.1.2.0/6285650023_R03C01_Red.idat\r\n"
       ]
      },
      {
       "output_type": "stream",
       "stream": "stdout",
       "text": [
        "jhu-usc.edu_HNSC.HumanMethylation450.Level_1.1.2.0/6285650023_R04C01_Grn.idat\r\n"
       ]
      },
      {
       "output_type": "stream",
       "stream": "stdout",
       "text": [
        "jhu-usc.edu_HNSC.HumanMethylation450.Level_1.1.2.0/6285650023_R04C01_Red.idat\r\n"
       ]
      },
      {
       "output_type": "stream",
       "stream": "stdout",
       "text": [
        "jhu-usc.edu_HNSC.HumanMethylation450.Level_1.1.2.0/6929671086_R01C01_Grn.idat\r\n"
       ]
      },
      {
       "output_type": "stream",
       "stream": "stdout",
       "text": [
        "jhu-usc.edu_HNSC.HumanMethylation450.Level_1.1.2.0/6929671086_R01C01_Red.idat\r\n"
       ]
      },
      {
       "output_type": "stream",
       "stream": "stdout",
       "text": [
        "jhu-usc.edu_HNSC.HumanMethylation450.Level_1.1.2.0/6929671086_R02C01_Grn.idat\r\n"
       ]
      },
      {
       "output_type": "stream",
       "stream": "stdout",
       "text": [
        "jhu-usc.edu_HNSC.HumanMethylation450.Level_1.1.2.0/6929671086_R02C01_Red.idat\r\n"
       ]
      },
      {
       "output_type": "stream",
       "stream": "stdout",
       "text": [
        "jhu-usc.edu_HNSC.HumanMethylation450.Level_1.1.2.0/CHANGES_DCC.txt\r\n",
        "jhu-usc.edu_HNSC.HumanMethylation450.Level_1.1.2.0/README_DCC.txt\r\n",
        "jhu-usc.edu_HNSC.HumanMethylation450.Level_1.1.2.0/MANIFEST.txt\r\n"
       ]
      }
     ],
     "prompt_number": 4
    }
   ],
   "metadata": {}
  }
 ]
}