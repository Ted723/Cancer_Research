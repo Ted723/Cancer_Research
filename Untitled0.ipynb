{
 "metadata": {
  "name": "",
  "signature": "sha256:6a70680be77dc2b3d66d0f9215429983db7966a50b31add76c6a40584b412415"
 },
 "nbformat": 3,
 "nbformat_minor": 0,
 "worksheets": [
  {
   "cells": [
    {
     "cell_type": "markdown",
     "metadata": {},
     "source": [
      "Move the methylation folder"
     ]
    },
    {
     "cell_type": "code",
     "collapsed": false,
     "input": [
      "cd /data/nrnb01_nobackup/agross/TCGA_methylation/"
     ],
     "language": "python",
     "metadata": {},
     "outputs": [
      {
       "output_type": "stream",
       "stream": "stdout",
       "text": [
        "/data/nrnb01_nobackup/agross/TCGA_methylation\n"
       ]
      }
     ],
     "prompt_number": 47
    },
    {
     "cell_type": "markdown",
     "metadata": {},
     "source": [
      "List out folder directory"
     ]
    },
    {
     "cell_type": "code",
     "collapsed": false,
     "input": [
      "folders = !ls -d jhu-usc.edu*/"
     ],
     "language": "python",
     "metadata": {},
     "outputs": [],
     "prompt_number": 48
    },
    {
     "cell_type": "markdown",
     "metadata": {},
     "source": [
      "Pull out unique list of cancers"
     ]
    },
    {
     "cell_type": "code",
     "collapsed": false,
     "input": [
      "pull_cancer = lambda f: f.split('_')[1].split('.')[0]\n",
      "cancers = {pull_cancer(f) for f in folders}"
     ],
     "language": "python",
     "metadata": {},
     "outputs": [],
     "prompt_number": 51
    },
    {
     "cell_type": "markdown",
     "metadata": {},
     "source": [
      "Move files into cancer level directory"
     ]
    },
    {
     "cell_type": "code",
     "collapsed": false,
     "input": [
      "for cancer in cancers:\n",
      "    sub_f = [f for f in folders if pull_cancer(f) == cancer]\n",
      "    !mkdir $cancer\n",
      "    for f in sub_f:\n",
      "        !cp $f/* $cancer"
     ],
     "language": "python",
     "metadata": {},
     "outputs": [
      {
       "output_type": "stream",
       "stream": "stdout",
       "text": [
        "mkdir: cannot create directory \u2018UCS\u2019: File exists\r\n"
       ]
      },
      {
       "output_type": "stream",
       "stream": "stdout",
       "text": [
        "mkdir: cannot create directory \u2018THYM\u2019: File exists\r\n"
       ]
      }
     ],
     "prompt_number": 55
    }
   ],
   "metadata": {}
  }
 ]
}