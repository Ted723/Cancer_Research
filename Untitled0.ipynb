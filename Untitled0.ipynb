{
 "metadata": {
  "kernelspec": {
   "codemirror_mode": {
    "name": "ipython",
    "version": 2
   },
   "display_name": "IPython (Python 2)",
   "language": "python",
   "name": "python2"
  },
  "name": "",
  "signature": "sha256:c5b178d2af3421663fa2dd4f0d33edb86b973ba20d69a1119a82d512933a43c2"
 },
 "nbformat": 3,
 "nbformat_minor": 0,
 "worksheets": [
  {
   "cells": [
    {
     "cell_type": "heading",
     "level": 1,
     "metadata": {},
     "source": [
      "List of Sequence Sources"
     ]
    },
    {
     "cell_type": "markdown",
     "metadata": {},
     "source": [
      "* [__Metastatic Breast Cancer__](./Notebook/Activating ESR1 mutations in hormone-resistant metastatic breast cancer.ipynb)  \n",
      "    * Activating ESR1 mutations in hormone-resistant metastatic breast cancer [link](http://www.nature.com/ng/journal/v45/n12/full/ng.2823.html)  \n",
      "    * 11 ER+ patients, WXS and rna"
     ]
    }
   ],
   "metadata": {}
  }
 ]
}