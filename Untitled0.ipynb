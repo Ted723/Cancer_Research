{
 "metadata": {
  "name": "",
  "signature": "sha256:a5b2a218b39061e7b399fb5e43ed654227e8f7db281f732cebe226adb9916b60"
 },
 "nbformat": 3,
 "nbformat_minor": 0,
 "worksheets": [
  {
   "cells": [
    {
     "cell_type": "markdown",
     "metadata": {},
     "source": [
      "Move the methylation folder"
     ]
    },
    {
     "cell_type": "code",
     "collapsed": false,
     "input": [
      "cd /data/nrnb01_nobackup/agross/TCGA_methylation/"
     ],
     "language": "python",
     "metadata": {},
     "outputs": [
      {
       "output_type": "stream",
       "stream": "stdout",
       "text": [
        "[Errno 2] No such file or directory: '/data/nrnb01_nobackup/agross/TCGA_methylation/'\n",
        "/Users/ted_alejandre/Documents/IdekerLab/Cancer_Research\n"
       ]
      }
     ],
     "prompt_number": 1
    },
    {
     "cell_type": "markdown",
     "metadata": {},
     "source": [
      "List out folder directory"
     ]
    },
    {
     "cell_type": "code",
     "collapsed": false,
     "input": [
      "folders = !ls -d jhu-usc.edu*/"
     ],
     "language": "python",
     "metadata": {},
     "outputs": [],
     "prompt_number": 48
    },
    {
     "cell_type": "markdown",
     "metadata": {},
     "source": [
      "Pull out unique list of cancers"
     ]
    },
    {
     "cell_type": "code",
     "collapsed": false,
     "input": [
      "pull_cancer = lambda f: f.split('_')[1].split('.')[0]\n",
      "cancers = {pull_cancer(f) for f in folders}"
     ],
     "language": "python",
     "metadata": {},
     "outputs": [],
     "prompt_number": 51
    },
    {
     "cell_type": "markdown",
     "metadata": {},
     "source": [
      "Move files into cancer level directory"
     ]
    },
    {
     "cell_type": "code",
     "collapsed": false,
     "input": [
      "for cancer in cancers:\n",
      "    sub_f = [f for f in folders if pull_cancer(f) == cancer]\n",
      "    !mkdir $cancer\n",
      "    for f in sub_f:\n",
      "        !cp $f/* $cancer"
     ],
     "language": "python",
     "metadata": {},
     "outputs": [
      {
       "output_type": "stream",
       "stream": "stdout",
       "text": [
        "mkdir: cannot create directory \u2018UCS\u2019: File exists\r\n"
       ]
      },
      {
       "output_type": "stream",
       "stream": "stdout",
       "text": [
        "mkdir: cannot create directory \u2018THYM\u2019: File exists\r\n"
       ]
      }
     ],
     "prompt_number": 55
    }
   ],
   "metadata": {}
  }
 ]
}