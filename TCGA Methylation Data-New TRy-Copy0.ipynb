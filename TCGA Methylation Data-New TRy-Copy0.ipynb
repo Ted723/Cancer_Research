{
 "metadata": {
  "kernelspec": {
   "codemirror_mode": {
    "name": "ipython",
    "version": 2
   },
   "display_name": "IPython (Python 2)",
   "language": "python",
   "name": "python2"
  },
  "name": "",
  "signature": "sha256:a1f4bfdba566efa046021992705f4d07c81a265aa08290c494c54956dee8e2f4"
 },
 "nbformat": 3,
 "nbformat_minor": 0,
 "worksheets": [
  {
   "cells": [
    {
     "cell_type": "heading",
     "level": 1,
     "metadata": {},
     "source": [
      "Extract TCGA Methylation Data"
     ]
    },
    {
     "cell_type": "code",
     "collapsed": false,
     "input": [
      "import NotebookImport\n",
      "from Imports import *"
     ],
     "language": "python",
     "metadata": {},
     "outputs": []
    },
    {
     "cell_type": "code",
     "collapsed": false,
     "input": [
      "pwd"
     ],
     "language": "python",
     "metadata": {},
     "outputs": [
      {
       "metadata": {},
       "output_type": "pyout",
       "prompt_number": 12,
       "text": [
        "u'/Users/ted_alejandre/Documents/IdekerLab/Cancer_Research/Methyl'"
       ]
      }
     ],
     "prompt_number": 12
    },
    {
     "cell_type": "code",
     "collapsed": false,
     "input": [
      "PATH_TO_CERT = '../Methyl/cacert.pm'\n",
      "OUT_PATH = '../Methyl'\n",
      "out_path = OUT_PATH + '/New_Methyl_Data'\n",
      "if not os.path.isdir(out_path):\n",
      "    os.mkdir(out_path)"
     ],
     "language": "python",
     "metadata": {},
     "outputs": [],
     "prompt_number": 15
    },
    {
     "cell_type": "code",
     "collapsed": false,
     "input": [
      "url = 'https://tcga-data.nci.nih.gov/tcgafiles/ftp_auth/distro_ftpusers/anonymous/tumor/hnsc/cgcc/jhu-usc.edu/humanmethylation450/methylation/'"
     ],
     "language": "python",
     "metadata": {},
     "outputs": [],
     "prompt_number": 3
    },
    {
     "cell_type": "markdown",
     "metadata": {},
     "source": [
      "<b>Download Certificate</b>"
     ]
    },
    {
     "cell_type": "code",
     "collapsed": false,
     "input": [
      "!curl --cacert $PATH_TO_CERT $url -o tmp.html"
     ],
     "language": "python",
     "metadata": {},
     "outputs": []
    },
    {
     "cell_type": "markdown",
     "metadata": {},
     "source": [
      "<b>Beautiful Soup module is used to parse links from webpage </b>"
     ]
    },
    {
     "cell_type": "code",
     "collapsed": false,
     "input": [
      "webpage = open('tmp.html', 'rb').read()\n",
      "soup = BeautifulSoup(webpage)"
     ],
     "language": "python",
     "metadata": {},
     "outputs": [
      {
       "output_type": "stream",
       "stream": "stdout",
       "text": [
        "Object `read` not found.\n"
       ]
      }
     ],
     "prompt_number": 17
    },
    {
     "cell_type": "code",
     "collapsed": false,
     "input": [
      "links = [link.get('href') for link in soup.find_all('a')\n",
      "   if link.get('href') != None and '1.1.'\n",
      "   and '.md5' = None and '.tar.gz' in link.get('href')]"
     ],
     "language": "python",
     "metadata": {},
     "outputs": []
    },
    {
     "cell_type": "markdown",
     "metadata": {},
     "source": [
      "<b>Garner md5 links for checksum</b>"
     ]
    },
    {
     "cell_type": "code",
     "collapsed": false,
     "input": [
      "md5links = [md5link.get('href') for md5link in soup.find_all('a')\n",
      "   if md5link.get('href') != None and '1.1'\n",
      "   and 'tar.gz.md5' in md5link.get('href')]"
     ],
     "language": "python",
     "metadata": {},
     "outputs": []
    },
    {
     "cell_type": "markdown",
     "metadata": {},
     "source": [
      "<b>Download Data</b>"
     ]
    },
    {
     "cell_type": "code",
     "collapsed": false,
     "input": [
      "methyldata = {}\n",
      "for gzfile in links:\n",
      "    try:\n",
      "        methyldata[fil] = pd.read_table(gzfile, header =0, index_col=0, \n",
      "                                      low_memory=True)\n",
      "        except HTTPError:\n",
      "            print gzfile\n",
      "                                    "
     ],
     "language": "python",
     "metadata": {},
     "outputs": []
    },
    {
     "cell_type": "markdown",
     "metadata": {},
     "source": [
      "<b>Checksum</b>"
     ]
    },
    {
     "cell_type": "code",
     "collapsed": false,
     "input": [
      "#file_name = 'filename.exe'      \n",
      "file_name = gzfile in links\n",
      "# Correct original md5 goes here (put md5 link)\n",
      "#original_md5 = '5d41402abc4b2a76b9719d911017c592'  \n",
      "original_md5 = md5file in md5links\n",
      "# Open,close, read file and calculate MD5 on its contents \n",
      "with open(file_name) as file_to_check:\n",
      "    # read contents of the file\n",
      "    data = file_to_check.read()    \n",
      "    # pipe contents of the file through\n",
      "    md5_returned = hashlib.md5(data).hexdigest()\n",
      "\n",
      "# Finally compare original MD5 with freshly calculated\n",
      "if orginal_md5 == md5_returned:\n",
      "    print \"MD5 verified.\"\n",
      "else:\n",
      "    print \"MD5 verification failed!.\""
     ],
     "language": "python",
     "metadata": {},
     "outputs": []
    },
    {
     "cell_type": "markdown",
     "metadata": {},
     "source": [
      "<b>Unzip</b>"
     ]
    },
    {
     "cell_type": "code",
     "collapsed": false,
     "input": [
      "#url = 'https://tcga-data.nci.nih.gov/tcgafiles/ftp_auth/distro_ftpusers/anonymous/tumor/hnsc/cgcc/jhu-usc.edu/humanmethylation450/methylation/'\n",
      "#filename = \"jhu-usc.edu_HNSC.HumanMethylation450.Level_1.1.0.0.tar.gz \"\n",
      "#outFilePath = \"jhu-usc.edu_HNSC.HumanMethylation450.Level_1.1.0.0.csv\"\n",
      "\n",
      "#response = urllib2.urlopen(url + filename)\n",
      "for download_file in methyldata:\n",
      "    compressedFile = StringIO.StringIO()\n",
      "    compressedFile.write(gzfile.read())\n",
      "\n",
      "# Set the file's current position to the beginning\n",
      "# of the file so that gzip.GzipFile can read\n",
      "# its contents from the top.\n",
      "\n",
      "    compressedFile.seek(0)\n",
      "\n",
      "    decompressedFile = gzip.GzipFile(fileobj=compressedFile, mode='rb')\n",
      "\n",
      "    with open(out_file, 'w') as outfile:\n",
      "        outfile.write(decompressedFile.read())"
     ],
     "language": "python",
     "metadata": {},
     "outputs": []
    },
    {
     "cell_type": "heading",
     "level": 2,
     "metadata": {},
     "source": [
      "<b>Other Methods, Codes and Ideas </b>"
     ]
    },
    {
     "cell_type": "code",
     "collapsed": false,
     "input": [
      "#this also extracts href \n",
      "try:\n",
      "    webpage = urllib2.urlopen('https://tcga-data.nci.nih.gov/tcgafiles/ftp_auth/distro_ftpusers/anonymous/tumor/hnsc/cgcc/jhu-usc.edu/humanmethylation450/methylation/')\n",
      "    soup = BeautifulSoup(webpage)\n",
      "except:\n",
      "    print \"Error\"\n",
      "else:\n",
      "    for link in soup.find_all('a'):\n",
      "        print(link.get('href'))"
     ],
     "language": "python",
     "metadata": {},
     "outputs": []
    },
    {
     "cell_type": "markdown",
     "metadata": {},
     "source": [
      "<b>Both cells used below from site </b>"
     ]
    },
    {
     "cell_type": "code",
     "collapsed": false,
     "input": [
      "!md5sum -c jhu-usc.edu_HNSC.HumanMethylation450.Level_1.1.0.0.tar.gz.md5 jhu-usc.edu_HNSC.HumanMethylation450.Level_1.1.0.0.tar.gz OK"
     ],
     "language": "python",
     "metadata": {},
     "outputs": []
    },
    {
     "cell_type": "code",
     "collapsed": false,
     "input": [
      "$ cd archive_directory\n",
      "$ md5sum -c MANIFEST.txt"
     ],
     "language": "python",
     "metadata": {},
     "outputs": []
    }
   ],
   "metadata": {}
  }
 ]
}