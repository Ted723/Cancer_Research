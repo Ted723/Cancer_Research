{
 "metadata": {
  "name": "",
  "signature": "sha256:c70be0b7ab4c0b0bceb811c0865f0ea33ca1035ce0bb169f87c00579cbdb3463"
 },
 "nbformat": 3,
 "nbformat_minor": 0,
 "worksheets": [
  {
   "cells": [
    {
     "cell_type": "heading",
     "level": 1,
     "metadata": {},
     "source": [
      "Get TCGA Methylation Data"
     ]
    },
    {
     "cell_type": "markdown",
     "metadata": {},
     "source": [
      "<b>Imports</b>"
     ]
    },
    {
     "cell_type": "code",
     "collapsed": false,
     "input": [
      "from bs4 import BeautifulSoup\n",
      "import urllib2\n",
      "from urllib2 import HTTPError\n",
      "import pandas as pd\n",
      "import os as os\n",
      "import StringIO\n",
      "import gzip"
     ],
     "language": "python",
     "metadata": {},
     "outputs": [],
     "prompt_number": 1
    },
    {
     "cell_type": "markdown",
     "metadata": {},
     "source": [
      "<b>Directory Currently In:</b>"
     ]
    },
    {
     "cell_type": "code",
     "collapsed": false,
     "input": [
      "pwd"
     ],
     "language": "python",
     "metadata": {},
     "outputs": [
      {
       "metadata": {},
       "output_type": "pyout",
       "prompt_number": 2,
       "text": [
        "u'/cellar/users/talejand/Documents/IdekerLab/BackUp'"
       ]
      }
     ],
     "prompt_number": 2
    },
    {
     "cell_type": "code",
     "collapsed": false,
     "input": [
      "ls"
     ],
     "language": "python",
     "metadata": {},
     "outputs": [
      {
       "output_type": "stream",
       "stream": "stdout",
       "text": [
        "BEST?-Copy0.ipynb\r\n",
        "\u001b[0m\u001b[01;34mBLCA_Meth_Data\u001b[0m/\r\n",
        "\u001b[01;34mBRCA_Meth_Data\u001b[0m/\r\n",
        "\u001b[01;34mCESC_Meth_Data\u001b[0m/\r\n",
        "\u001b[01;34mCHOL_Meth_Data\u001b[0m/\r\n",
        "\u001b[01;34mCOAD_Meth_Data\u001b[0m/\r\n",
        "\u001b[01;34mDLBC_Meth_Data\u001b[0m/\r\n",
        "\u001b[01;34mESCA_Meth_Data\u001b[0m/\r\n",
        "filess\r\n",
        "filess~\r\n",
        "\u001b[01;34mGBM_Meth_Data\u001b[0m/\r\n",
        "\u001b[01;34mHNSC_Meth_Data\u001b[0m/\r\n",
        "\u001b[01;34mjhu-usc.edu_ACC.HumanMethylation450.aux.1.0.0\u001b[0m/\r\n",
        "jhu-usc.edu_ACC.HumanMethylation450.aux.1.0.0.tar.gz\r\n",
        "\u001b[01;34mjhu-usc.edu_ACC.HumanMethylation450.Level_1.1.0.0\u001b[0m/\r\n",
        "jhu-usc.edu_ACC.HumanMethylation450.Level_1.1.0.0.tar.gz\r\n",
        "\u001b[01;34mjhu-usc.edu_ACC.HumanMethylation450.mage-tab.1.0.0\u001b[0m/\r\n",
        "jhu-usc.edu_ACC.HumanMethylation450.mage-tab.1.0.0.tar.gz\r\n",
        "\u001b[01;34mjhu-usc.edu_LAML.HumanMethylation450.Level_1.2.4.0\u001b[0m/\r\n",
        "jhu-usc.edu_LAML.HumanMethylation450.Level_1.2.4.0.tar.gz\r\n",
        "\u001b[01;34mjhu-usc.edu_LAML.HumanMethylation450.Level_1.2.5.0\u001b[0m/\r\n",
        "jhu-usc.edu_LAML.HumanMethylation450.Level_1.2.5.0.tar.gz\r\n",
        "\u001b[01;34mjhu-usc.edu_LUSC.HumanMethylation450.Level_1.10.3.0\u001b[0m/\r\n",
        "\u001b[01;34mjhu-usc.edu_LUSC.HumanMethylation450.Level_1.10.4.0\u001b[0m/\r\n",
        "\u001b[01;34mjhu-usc.edu_LUSC.HumanMethylation450.Level_1.10.5.0\u001b[0m/\r\n",
        "\u001b[01;34mjhu-usc.edu_LUSC.HumanMethylation450.Level_1.10.6.0\u001b[0m/\r\n",
        "\u001b[01;34mjhu-usc.edu_LUSC.HumanMethylation450.Level_1.11.5.0\u001b[0m/\r\n",
        "\u001b[01;34mjhu-usc.edu_LUSC.HumanMethylation450.Level_1.11.6.0\u001b[0m/\r\n",
        "\u001b[01;34mjhu-usc.edu_LUSC.HumanMethylation450.Level_1.11.7.0\u001b[0m/\r\n",
        "\u001b[01;34mjhu-usc.edu_LUSC.HumanMethylation450.Level_1.1.2.0\u001b[0m/\r\n",
        "\u001b[01;34mjhu-usc.edu_LUSC.HumanMethylation450.Level_1.12.5.0\u001b[0m/\r\n",
        "\u001b[01;34mjhu-usc.edu_LUSC.HumanMethylation450.Level_1.12.7.0\u001b[0m/\r\n",
        "\u001b[01;34mjhu-usc.edu_LUSC.HumanMethylation450.Level_1.1.3.0\u001b[0m/\r\n",
        "\u001b[01;34mjhu-usc.edu_LUSC.HumanMethylation450.Level_1.13.6.0\u001b[0m/\r\n",
        "\u001b[01;34mjhu-usc.edu_LUSC.HumanMethylation450.Level_1.13.7.0\u001b[0m/\r\n",
        "\u001b[01;34mjhu-usc.edu_LUSC.HumanMethylation450.Level_1.1.4.0\u001b[0m/\r\n",
        "\u001b[01;34mjhu-usc.edu_LUSC.HumanMethylation450.Level_1.14.6.0\u001b[0m/\r\n",
        "\u001b[01;34mjhu-usc.edu_LUSC.HumanMethylation450.Level_1.14.7.0\u001b[0m/\r\n",
        "\u001b[01;34mjhu-usc.edu_LUSC.HumanMethylation450.Level_1.1.5.0\u001b[0m/\r\n",
        "\u001b[01;34mjhu-usc.edu_LUSC.HumanMethylation450.Level_1.15.7.0\u001b[0m/\r\n",
        "\u001b[01;34mjhu-usc.edu_LUSC.HumanMethylation450.Level_1.1.6.0\u001b[0m/\r\n",
        "\u001b[01;34mjhu-usc.edu_LUSC.HumanMethylation450.Level_1.16.6.0\u001b[0m/\r\n",
        "\u001b[01;34mjhu-usc.edu_LUSC.HumanMethylation450.Level_1.16.7.0\u001b[0m/\r\n",
        "\u001b[01;34mjhu-usc.edu_LUSC.HumanMethylation450.Level_1.18.7.0\u001b[0m/\r\n",
        "\u001b[01;34mjhu-usc.edu_LUSC.HumanMethylation450.Level_1.2.0.0\u001b[0m/\r\n",
        "\u001b[01;34mjhu-usc.edu_LUSC.HumanMethylation450.Level_1.2.1.0\u001b[0m/\r\n",
        "\u001b[01;34mjhu-usc.edu_LUSC.HumanMethylation450.Level_1.2.3.0\u001b[0m/\r\n",
        "\u001b[01;34mjhu-usc.edu_LUSC.HumanMethylation450.Level_1.2.4.0\u001b[0m/\r\n",
        "\u001b[01;34mjhu-usc.edu_LUSC.HumanMethylation450.Level_1.2.6.0\u001b[0m/\r\n",
        "\u001b[01;34mjhu-usc.edu_LUSC.HumanMethylation450.Level_1.2.7.0\u001b[0m/\r\n",
        "\u001b[01;34mjhu-usc.edu_LUSC.HumanMethylation450.Level_1.3.2.0\u001b[0m/\r\n",
        "\u001b[01;34mjhu-usc.edu_LUSC.HumanMethylation450.Level_1.3.3.0\u001b[0m/\r\n",
        "\u001b[01;34mjhu-usc.edu_LUSC.HumanMethylation450.Level_1.3.4.0\u001b[0m/\r\n",
        "\u001b[01;34mjhu-usc.edu_LUSC.HumanMethylation450.Level_1.3.5.0\u001b[0m/\r\n",
        "\u001b[01;34mjhu-usc.edu_LUSC.HumanMethylation450.Level_1.3.7.0\u001b[0m/\r\n",
        "\u001b[01;34mjhu-usc.edu_LUSC.HumanMethylation450.Level_1.4.0.0\u001b[0m/\r\n",
        "\u001b[01;34mjhu-usc.edu_LUSC.HumanMethylation450.Level_1.4.2.0\u001b[0m/\r\n",
        "\u001b[01;34mjhu-usc.edu_LUSC.HumanMethylation450.Level_1.4.3.0\u001b[0m/\r\n",
        "\u001b[01;34mjhu-usc.edu_LUSC.HumanMethylation450.Level_1.4.4.0\u001b[0m/\r\n",
        "\u001b[01;34mjhu-usc.edu_LUSC.HumanMethylation450.Level_1.4.5.0\u001b[0m/\r\n",
        "\u001b[01;34mjhu-usc.edu_LUSC.HumanMethylation450.Level_1.4.7.0\u001b[0m/\r\n",
        "\u001b[01;34mjhu-usc.edu_LUSC.HumanMethylation450.Level_1.5.0.0\u001b[0m/\r\n",
        "\u001b[01;34mjhu-usc.edu_LUSC.HumanMethylation450.Level_1.5.1.0\u001b[0m/\r\n",
        "\u001b[01;34mjhu-usc.edu_LUSC.HumanMethylation450.Level_1.5.3.0\u001b[0m/\r\n",
        "\u001b[01;34mjhu-usc.edu_LUSC.HumanMethylation450.Level_1.5.6.0\u001b[0m/\r\n",
        "\u001b[01;34mjhu-usc.edu_LUSC.HumanMethylation450.Level_1.5.7.0\u001b[0m/\r\n",
        "\u001b[01;34mjhu-usc.edu_LUSC.HumanMethylation450.Level_1.6.2.0\u001b[0m/\r\n",
        "\u001b[01;34mjhu-usc.edu_LUSC.HumanMethylation450.Level_1.6.3.0\u001b[0m/\r\n",
        "\u001b[01;34mjhu-usc.edu_LUSC.HumanMethylation450.Level_1.6.4.0\u001b[0m/\r\n",
        "\u001b[01;34mjhu-usc.edu_LUSC.HumanMethylation450.Level_1.6.5.0\u001b[0m/\r\n",
        "\u001b[01;34mjhu-usc.edu_LUSC.HumanMethylation450.Level_1.7.2.0\u001b[0m/\r\n",
        "\u001b[01;34mjhu-usc.edu_LUSC.HumanMethylation450.Level_1.7.5.0\u001b[0m/\r\n",
        "\u001b[01;34mjhu-usc.edu_LUSC.HumanMethylation450.Level_1.7.6.0\u001b[0m/\r\n",
        "\u001b[01;34mjhu-usc.edu_LUSC.HumanMethylation450.Level_1.7.7.0\u001b[0m/\r\n",
        "\u001b[01;34mjhu-usc.edu_LUSC.HumanMethylation450.Level_1.8.3.0\u001b[0m/\r\n",
        "\u001b[01;34mjhu-usc.edu_LUSC.HumanMethylation450.Level_1.8.4.0\u001b[0m/\r\n",
        "\u001b[01;34mjhu-usc.edu_LUSC.HumanMethylation450.Level_1.8.5.0\u001b[0m/\r\n",
        "\u001b[01;34mjhu-usc.edu_LUSC.HumanMethylation450.Level_1.8.7.0\u001b[0m/\r\n",
        "\u001b[01;34mjhu-usc.edu_LUSC.HumanMethylation450.Level_1.9.4.0\u001b[0m/\r\n",
        "\u001b[01;34mjhu-usc.edu_LUSC.HumanMethylation450.Level_1.9.6.0\u001b[0m/\r\n",
        "\u001b[01;34mjhu-usc.edu_LUSC.HumanMethylation450.Level_1.9.7.0\u001b[0m/\r\n",
        "\u001b[01;34mJustinCase\u001b[0m/\r\n",
        "\u001b[01;34mKIRC_Meth_Data\u001b[0m/\r\n",
        "\u001b[01;34mKIRP_Meth_Data\u001b[0m/\r\n",
        "\u001b[01;34mLAML_Meth_Data\u001b[0m/\r\n",
        "\u001b[01;34mLGG_Meth_Data\u001b[0m/\r\n",
        "\u001b[01;34mLIHC_Meth_Data\u001b[0m/\r\n",
        "\u001b[01;34mLUAD \u001b[0m/\r\n",
        "\u001b[01;34mLUSC_Meth_Data\u001b[0m/\r\n",
        "MANIFEST.txt\r\n",
        "\u001b[01;34mMethyl\u001b[0m/\r\n",
        "\u001b[01;34mNotebook\u001b[0m/\r\n",
        "qcReport.pdf\r\n",
        "README_DCC.txt\r\n",
        "Sample_Sheet.csv\r\n",
        "Sample_Sheet.ods\r\n",
        "tar_links.txt\r\n",
        "\u001b[01;34mtcga-data.nci.nih.gov\u001b[0m/\r\n",
        "TCGA Methylation Data Code Tries.ipynb\r\n",
        "TCGA Methylation Data-Different Real.ipynb\r\n",
        "TCGA Methylation Data-Get_Patient_Data-Copy0.ipynb\r\n",
        "TCGA Methylation Data-Get_Patient_Data.ipynb\r\n",
        "TCGA Methylation Data-LUSC.ipynb\r\n",
        "TCGA Methylation Data-NEW.ipynb\r\n",
        "TCGA Methylation Data OG.ipynb\r\n",
        "TCGA Methylation Data-RealTry-Indivdownload-Copy0.ipynb\r\n",
        "TCGA Methylation Data-RealTry-Indivdownload-Copy1.ipynb\r\n",
        "TCGA Methylation Data-RealTry-Indivdownload.ipynb\r\n",
        "TheWay.ipynb\r\n",
        "tmp.html\r\n",
        "url_list.txt\r\n"
       ]
      }
     ],
     "prompt_number": 3
    },
    {
     "cell_type": "markdown",
     "metadata": {},
     "source": [
      "<b>Outpaths</b>"
     ]
    },
    {
     "cell_type": "code",
     "collapsed": false,
     "input": [
      "PATH_TO_CERT = 'JustinCase/cacert.pem'\n",
      "OUT_PATH = '/cellar/users/talejand/Data/'\n",
      "out_path = OUT_PATH + 'Methyl_Data/'\n",
      "if not os.path.isdir(out_path):\n",
      "    os.mkdir(out_path)"
     ],
     "language": "python",
     "metadata": {},
     "outputs": [],
     "prompt_number": 4
    },
    {
     "cell_type": "markdown",
     "metadata": {},
     "source": [
      "<b>Path to TCGA Website</b>"
     ]
    },
    {
     "cell_type": "code",
     "collapsed": false,
     "input": [
      "base_url = 'https://tcga-data.nci.nih.gov/tcgafiles/ftp_auth/distro_ftpusers/anonymous/tumor/'"
     ],
     "language": "python",
     "metadata": {},
     "outputs": [],
     "prompt_number": 5
    },
    {
     "cell_type": "code",
     "collapsed": false,
     "input": [
      "end_url = '/cgcc/jhu-usc.edu/humanmethylation450/methylation/'"
     ],
     "language": "python",
     "metadata": {},
     "outputs": [],
     "prompt_number": 6
    },
    {
     "cell_type": "code",
     "collapsed": false,
     "input": [
      "cancertype = ['acc','blca','brca','cesc','chol','coad','dlbc','esca','gbm','hnsc','kich','kirc',\n",
      "              'kirp','laml','lgg','lihc','luad','lusc','meso','misc','ov','paad','pcpg','prad',\n",
      "              'read','sarc','skcm','stad','tgct','thca','thym','ucec','ucs','uvm']\n",
      "#cancertypes = ['acc','laml','chol']"
     ],
     "language": "python",
     "metadata": {},
     "outputs": [],
     "prompt_number": 9
    },
    {
     "cell_type": "code",
     "collapsed": false,
     "input": [
      "urls = []\n",
      "for i in cancertype:\n",
      "    url = base_url + i + end_url\n",
      "    urls.append(url)\n",
      "\n",
      "f=open('url_list.txt','w')\n",
      "l1=map(lambda x:x+'\\n', urls)\n",
      "f.writelines(l1)\n",
      "f.close()"
     ],
     "language": "python",
     "metadata": {},
     "outputs": [],
     "prompt_number": 10
    },
    {
     "cell_type": "markdown",
     "metadata": {},
     "source": [
      "<b>Download Certificate (Optional?)</b>"
     ]
    },
    {
     "cell_type": "code",
     "collapsed": false,
     "input": [
      "!xargs curl --cacert $PATH_TO_CERT -I < url_list.txt"
     ],
     "language": "python",
     "metadata": {},
     "outputs": [
      {
       "output_type": "stream",
       "stream": "stdout",
       "text": [
        "HTTP/1.1 200 OK\r",
        "\r\n",
        "Date: Tue, 17 Feb 2015 22:28:47 GMT\r",
        "\r\n",
        "Server: Apache\r",
        "\r\n",
        "Content-Type: text/html;charset=ISO-8859-1\r",
        "\r\n",
        "\r",
        "\r\n"
       ]
      },
      {
       "output_type": "stream",
       "stream": "stdout",
       "text": [
        "HTTP/1.1 200 OK\r",
        "\r\n",
        "Date: Tue, 17 Feb 2015 22:28:47 GMT\r",
        "\r\n",
        "Server: Apache\r",
        "\r\n",
        "Content-Type: text/html;charset=ISO-8859-1\r",
        "\r\n",
        "\r",
        "\r\n"
       ]
      },
      {
       "output_type": "stream",
       "stream": "stdout",
       "text": [
        "HTTP/1.1 200 OK\r",
        "\r\n",
        "Date: Tue, 17 Feb 2015 22:28:47 GMT\r",
        "\r\n",
        "Server: Apache\r",
        "\r\n",
        "Content-Type: text/html;charset=ISO-8859-1\r",
        "\r\n",
        "\r",
        "\r\n"
       ]
      },
      {
       "output_type": "stream",
       "stream": "stdout",
       "text": [
        "HTTP/1.1 200 OK\r",
        "\r\n",
        "Date: Tue, 17 Feb 2015 22:28:47 GMT\r",
        "\r\n",
        "Server: Apache\r",
        "\r\n",
        "Content-Type: text/html;charset=ISO-8859-1\r",
        "\r\n",
        "\r",
        "\r\n"
       ]
      },
      {
       "output_type": "stream",
       "stream": "stdout",
       "text": [
        "HTTP/1.1 200 OK\r",
        "\r\n",
        "Date: Tue, 17 Feb 2015 22:28:48 GMT\r",
        "\r\n",
        "Server: Apache\r",
        "\r\n",
        "Content-Type: text/html;charset=ISO-8859-1\r",
        "\r\n",
        "\r",
        "\r\n"
       ]
      },
      {
       "output_type": "stream",
       "stream": "stdout",
       "text": [
        "HTTP/1.1 200 OK\r",
        "\r\n",
        "Date: Tue, 17 Feb 2015 22:28:48 GMT\r",
        "\r\n",
        "Server: Apache\r",
        "\r\n",
        "Content-Type: text/html;charset=ISO-8859-1\r",
        "\r\n",
        "\r",
        "\r\n"
       ]
      },
      {
       "output_type": "stream",
       "stream": "stdout",
       "text": [
        "HTTP/1.1 200 OK\r",
        "\r\n",
        "Date: Tue, 17 Feb 2015 22:28:48 GMT\r",
        "\r\n",
        "Server: Apache\r",
        "\r\n",
        "Content-Type: text/html;charset=ISO-8859-1\r",
        "\r\n",
        "\r",
        "\r\n"
       ]
      },
      {
       "output_type": "stream",
       "stream": "stdout",
       "text": [
        "HTTP/1.1 200 OK\r",
        "\r\n",
        "Date: Tue, 17 Feb 2015 22:28:48 GMT\r",
        "\r\n",
        "Server: Apache\r",
        "\r\n",
        "Content-Type: text/html;charset=ISO-8859-1\r",
        "\r\n",
        "\r",
        "\r\n"
       ]
      },
      {
       "output_type": "stream",
       "stream": "stdout",
       "text": [
        "HTTP/1.1 200 OK\r",
        "\r\n",
        "Date: Tue, 17 Feb 2015 22:28:48 GMT\r",
        "\r\n",
        "Server: Apache\r",
        "\r\n",
        "Content-Type: text/html;charset=ISO-8859-1\r",
        "\r\n",
        "\r",
        "\r\n"
       ]
      },
      {
       "output_type": "stream",
       "stream": "stdout",
       "text": [
        "HTTP/1.1 200 OK\r",
        "\r\n",
        "Date: Tue, 17 Feb 2015 22:28:48 GMT\r",
        "\r\n",
        "Server: Apache\r",
        "\r\n",
        "Content-Type: text/html;charset=ISO-8859-1\r",
        "\r\n",
        "\r",
        "\r\n"
       ]
      },
      {
       "output_type": "stream",
       "stream": "stdout",
       "text": [
        "HTTP/1.1 200 OK\r",
        "\r\n",
        "Date: Tue, 17 Feb 2015 22:28:48 GMT\r",
        "\r\n",
        "Server: Apache\r",
        "\r\n",
        "Content-Type: text/html;charset=ISO-8859-1\r",
        "\r\n",
        "\r",
        "\r\n"
       ]
      },
      {
       "output_type": "stream",
       "stream": "stdout",
       "text": [
        "HTTP/1.1 200 OK\r",
        "\r\n",
        "Date: Tue, 17 Feb 2015 22:28:48 GMT\r",
        "\r\n",
        "Server: Apache\r",
        "\r\n",
        "Content-Type: text/html;charset=ISO-8859-1\r",
        "\r\n",
        "\r",
        "\r\n"
       ]
      },
      {
       "output_type": "stream",
       "stream": "stdout",
       "text": [
        "HTTP/1.1 200 OK\r",
        "\r\n",
        "Date: Tue, 17 Feb 2015 22:28:49 GMT\r",
        "\r\n",
        "Server: Apache\r",
        "\r\n",
        "Content-Type: text/html;charset=ISO-8859-1\r",
        "\r\n",
        "\r",
        "\r\n"
       ]
      },
      {
       "output_type": "stream",
       "stream": "stdout",
       "text": [
        "HTTP/1.1 200 OK\r",
        "\r\n",
        "Date: Tue, 17 Feb 2015 22:28:49 GMT\r",
        "\r\n",
        "Server: Apache\r",
        "\r\n",
        "Content-Type: text/html;charset=ISO-8859-1\r",
        "\r\n",
        "\r",
        "\r\n"
       ]
      },
      {
       "output_type": "stream",
       "stream": "stdout",
       "text": [
        "HTTP/1.1 200 OK\r",
        "\r\n",
        "Date: Tue, 17 Feb 2015 22:28:49 GMT\r",
        "\r\n",
        "Server: Apache\r",
        "\r\n",
        "Content-Type: text/html;charset=ISO-8859-1\r",
        "\r\n",
        "\r",
        "\r\n"
       ]
      },
      {
       "output_type": "stream",
       "stream": "stdout",
       "text": [
        "HTTP/1.1 200 OK\r",
        "\r\n",
        "Date: Tue, 17 Feb 2015 22:28:49 GMT\r",
        "\r\n",
        "Server: Apache\r",
        "\r\n",
        "Content-Type: text/html;charset=ISO-8859-1\r",
        "\r\n",
        "\r",
        "\r\n"
       ]
      },
      {
       "output_type": "stream",
       "stream": "stdout",
       "text": [
        "HTTP/1.1 200 OK\r",
        "\r\n",
        "Date: Tue, 17 Feb 2015 22:28:49 GMT\r",
        "\r\n",
        "Server: Apache\r",
        "\r\n",
        "Content-Type: text/html;charset=ISO-8859-1\r",
        "\r\n",
        "\r",
        "\r\n"
       ]
      },
      {
       "output_type": "stream",
       "stream": "stdout",
       "text": [
        "HTTP/1.1 200 OK\r",
        "\r\n",
        "Date: Tue, 17 Feb 2015 22:28:49 GMT\r",
        "\r\n",
        "Server: Apache\r",
        "\r\n",
        "Content-Type: text/html;charset=ISO-8859-1\r",
        "\r\n",
        "\r",
        "\r\n"
       ]
      },
      {
       "output_type": "stream",
       "stream": "stdout",
       "text": [
        "HTTP/1.1 200 OK\r",
        "\r\n",
        "Date: Tue, 17 Feb 2015 22:28:49 GMT\r",
        "\r\n",
        "Server: Apache\r",
        "\r\n",
        "Content-Type: text/html;charset=ISO-8859-1\r",
        "\r\n",
        "\r",
        "\r\n"
       ]
      },
      {
       "output_type": "stream",
       "stream": "stdout",
       "text": [
        "HTTP/1.1 404 Not Found\r",
        "\r\n",
        "Date: Tue, 17 Feb 2015 22:28:49 GMT\r",
        "\r\n",
        "Server: Apache\r",
        "\r\n",
        "Last-Modified: Wed, 13 Aug 2014 15:33:21 GMT\r",
        "\r\n",
        "ETag: \"1f8b-50084820b1240\"\r",
        "\r\n",
        "Accept-Ranges: bytes\r",
        "\r\n",
        "Content-Length: 8075\r",
        "\r\n",
        "Content-Type: text/html\r",
        "\r\n",
        "\r",
        "\r\n"
       ]
      },
      {
       "output_type": "stream",
       "stream": "stdout",
       "text": [
        "HTTP/1.1 200 OK\r",
        "\r\n",
        "Date: Tue, 17 Feb 2015 22:28:50 GMT\r",
        "\r\n",
        "Server: Apache\r",
        "\r\n",
        "Content-Type: text/html;charset=ISO-8859-1\r",
        "\r\n",
        "\r",
        "\r\n"
       ]
      },
      {
       "output_type": "stream",
       "stream": "stdout",
       "text": [
        "HTTP/1.1 200 OK\r",
        "\r\n",
        "Date: Tue, 17 Feb 2015 22:28:50 GMT\r",
        "\r\n",
        "Server: Apache\r",
        "\r\n",
        "Content-Type: text/html;charset=ISO-8859-1\r",
        "\r\n",
        "\r",
        "\r\n"
       ]
      },
      {
       "output_type": "stream",
       "stream": "stdout",
       "text": [
        "HTTP/1.1 200 OK\r",
        "\r\n",
        "Date: Tue, 17 Feb 2015 22:28:50 GMT\r",
        "\r\n",
        "Server: Apache\r",
        "\r\n",
        "Content-Type: text/html;charset=ISO-8859-1\r",
        "\r\n",
        "\r",
        "\r\n"
       ]
      },
      {
       "output_type": "stream",
       "stream": "stdout",
       "text": [
        "HTTP/1.1 200 OK\r",
        "\r\n",
        "Date: Tue, 17 Feb 2015 22:28:50 GMT\r",
        "\r\n",
        "Server: Apache\r",
        "\r\n",
        "Content-Type: text/html;charset=ISO-8859-1\r",
        "\r\n",
        "\r",
        "\r\n"
       ]
      },
      {
       "output_type": "stream",
       "stream": "stdout",
       "text": [
        "HTTP/1.1 200 OK\r",
        "\r\n",
        "Date: Tue, 17 Feb 2015 22:28:50 GMT\r",
        "\r\n",
        "Server: Apache\r",
        "\r\n",
        "Content-Type: text/html;charset=ISO-8859-1\r",
        "\r\n",
        "\r",
        "\r\n"
       ]
      },
      {
       "output_type": "stream",
       "stream": "stdout",
       "text": [
        "HTTP/1.1 200 OK\r",
        "\r\n",
        "Date: Tue, 17 Feb 2015 22:28:50 GMT\r",
        "\r\n",
        "Server: Apache\r",
        "\r\n",
        "Content-Type: text/html;charset=ISO-8859-1\r",
        "\r\n",
        "\r",
        "\r\n"
       ]
      },
      {
       "output_type": "stream",
       "stream": "stdout",
       "text": [
        "HTTP/1.1 200 OK\r",
        "\r\n",
        "Date: Tue, 17 Feb 2015 22:28:50 GMT\r",
        "\r\n",
        "Server: Apache\r",
        "\r\n",
        "Content-Type: text/html;charset=ISO-8859-1\r",
        "\r\n",
        "\r",
        "\r\n"
       ]
      },
      {
       "output_type": "stream",
       "stream": "stdout",
       "text": [
        "HTTP/1.1 200 OK\r",
        "\r\n",
        "Date: Tue, 17 Feb 2015 22:28:50 GMT\r",
        "\r\n",
        "Server: Apache\r",
        "\r\n",
        "Content-Type: text/html;charset=ISO-8859-1\r",
        "\r\n",
        "\r",
        "\r\n"
       ]
      },
      {
       "output_type": "stream",
       "stream": "stdout",
       "text": [
        "HTTP/1.1 200 OK\r",
        "\r\n",
        "Date: Tue, 17 Feb 2015 22:28:50 GMT\r",
        "\r\n",
        "Server: Apache\r",
        "\r\n",
        "Content-Type: text/html;charset=ISO-8859-1\r",
        "\r\n",
        "\r",
        "\r\n"
       ]
      },
      {
       "output_type": "stream",
       "stream": "stdout",
       "text": [
        "HTTP/1.1 200 OK\r",
        "\r\n",
        "Date: Tue, 17 Feb 2015 22:28:51 GMT\r",
        "\r\n",
        "Server: Apache\r",
        "\r\n",
        "Content-Type: text/html;charset=ISO-8859-1\r",
        "\r\n",
        "\r",
        "\r\n"
       ]
      },
      {
       "output_type": "stream",
       "stream": "stdout",
       "text": [
        "HTTP/1.1 200 OK\r",
        "\r\n",
        "Date: Tue, 17 Feb 2015 22:28:51 GMT\r",
        "\r\n",
        "Server: Apache\r",
        "\r\n",
        "Content-Type: text/html;charset=ISO-8859-1\r",
        "\r\n",
        "\r",
        "\r\n"
       ]
      },
      {
       "output_type": "stream",
       "stream": "stdout",
       "text": [
        "HTTP/1.1 200 OK\r",
        "\r\n",
        "Date: Tue, 17 Feb 2015 22:28:51 GMT\r",
        "\r\n",
        "Server: Apache\r",
        "\r\n",
        "Content-Type: text/html;charset=ISO-8859-1\r",
        "\r\n",
        "\r",
        "\r\n"
       ]
      },
      {
       "output_type": "stream",
       "stream": "stdout",
       "text": [
        "HTTP/1.1 200 OK\r",
        "\r\n",
        "Date: Tue, 17 Feb 2015 22:28:51 GMT\r",
        "\r\n",
        "Server: Apache\r",
        "\r\n",
        "Content-Type: text/html;charset=ISO-8859-1\r",
        "\r\n",
        "\r",
        "\r\n"
       ]
      },
      {
       "output_type": "stream",
       "stream": "stdout",
       "text": [
        "HTTP/1.1 200 OK\r",
        "\r\n",
        "Date: Tue, 17 Feb 2015 22:28:51 GMT\r",
        "\r\n",
        "Server: Apache\r",
        "\r\n",
        "Content-Type: text/html;charset=ISO-8859-1\r",
        "\r\n",
        "\r",
        "\r\n"
       ]
      }
     ],
     "prompt_number": 11
    },
    {
     "cell_type": "markdown",
     "metadata": {},
     "source": [
      "<b>Beautiful Soup module is used to parse links from webpage </b>"
     ]
    },
    {
     "cell_type": "markdown",
     "metadata": {},
     "source": [
      "* creates list of TCGA cancer methylation data urls\n",
      "* parses urls for specific datalinks that include aux and magetab files"
     ]
    },
    {
     "cell_type": "code",
     "collapsed": false,
     "input": [
      "urls = []\n",
      "for i in cancertype:\n",
      "    url = base_url + i + end_url\n",
      "    urls.append(url)\n",
      "    tar_links = []\n",
      "    for j in urls:    \n",
      "        webpage = urllib2.urlopen(j)\n",
      "        soup = BeautifulSoup(webpage)\n",
      "        links = [j + link.get('href') for link in soup.find_all('a') \n",
      "                          if (link.get('href') != None )\n",
      "                           and 'tar.gz' in link.get('href')\n",
      "                           and '_2.' not in link.get('href')\n",
      "                           and '_3.' not in link.get('href')\n",
      "                           and '.md5' not in link.get('href')]\n",
      "   \n",
      "        tar_links.append(links)\n",
      "        \n",
      "        print tar_links"
     ],
     "language": "python",
     "metadata": {},
     "outputs": [
      {
       "output_type": "stream",
       "stream": "stdout",
       "text": [
        "[['https://tcga-data.nci.nih.gov/tcgafiles/ftp_auth/distro_ftpusers/anonymous/tumor/acc/cgcc/jhu-usc.edu/humanmethylation450/methylation/jhu-usc.edu_ACC.HumanMethylation450.Level_1.1.0.0.tar.gz', 'https://tcga-data.nci.nih.gov/tcgafiles/ftp_auth/distro_ftpusers/anonymous/tumor/acc/cgcc/jhu-usc.edu/humanmethylation450/methylation/jhu-usc.edu_ACC.HumanMethylation450.aux.1.0.0.tar.gz', 'https://tcga-data.nci.nih.gov/tcgafiles/ftp_auth/distro_ftpusers/anonymous/tumor/acc/cgcc/jhu-usc.edu/humanmethylation450/methylation/jhu-usc.edu_ACC.HumanMethylation450.mage-tab.1.0.0.tar.gz']]\n",
        "[['https://tcga-data.nci.nih.gov/tcgafiles/ftp_auth/distro_ftpusers/anonymous/tumor/acc/cgcc/jhu-usc.edu/humanmethylation450/methylation/jhu-usc.edu_ACC.HumanMethylation450.Level_1.1.0.0.tar.gz', 'https://tcga-data.nci.nih.gov/tcgafiles/ftp_auth/distro_ftpusers/anonymous/tumor/acc/cgcc/jhu-usc.edu/humanmethylation450/methylation/jhu-usc.edu_ACC.HumanMethylation450.aux.1.0.0.tar.gz', 'https://tcga-data.nci.nih.gov/tcgafiles/ftp_auth/distro_ftpusers/anonymous/tumor/acc/cgcc/jhu-usc.edu/humanmethylation450/methylation/jhu-usc.edu_ACC.HumanMethylation450.mage-tab.1.0.0.tar.gz']]"
       ]
      },
      {
       "output_type": "stream",
       "stream": "stdout",
       "text": [
        "\n",
        "[['https://tcga-data.nci.nih.gov/tcgafiles/ftp_auth/distro_ftpusers/anonymous/tumor/acc/cgcc/jhu-usc.edu/humanmethylation450/methylation/jhu-usc.edu_ACC.HumanMethylation450.Level_1.1.0.0.tar.gz', 'https://tcga-data.nci.nih.gov/tcgafiles/ftp_auth/distro_ftpusers/anonymous/tumor/acc/cgcc/jhu-usc.edu/humanmethylation450/methylation/jhu-usc.edu_ACC.HumanMethylation450.aux.1.0.0.tar.gz', 'https://tcga-data.nci.nih.gov/tcgafiles/ftp_auth/distro_ftpusers/anonymous/tumor/acc/cgcc/jhu-usc.edu/humanmethylation450/methylation/jhu-usc.edu_ACC.HumanMethylation450.mage-tab.1.0.0.tar.gz'], ['https://tcga-data.nci.nih.gov/tcgafiles/ftp_auth/distro_ftpusers/anonymous/tumor/blca/cgcc/jhu-usc.edu/humanmethylation450/methylation/jhu-usc.edu_BLCA.HumanMethylation450.Level_1.1.0.0.tar.gz', 'https://tcga-data.nci.nih.gov/tcgafiles/ftp_auth/distro_ftpusers/anonymous/tumor/blca/cgcc/jhu-usc.edu/humanmethylation450/methylation/jhu-usc.edu_BLCA.HumanMethylation450.Level_1.1.1.0.tar.gz', 'https://tcga-data.nci.nih.gov/tcgafiles/ftp_auth/distro_ftpusers/anonymous/tumor/blca/cgcc/jhu-usc.edu/humanmethylation450/methylation/jhu-usc.edu_BLCA.HumanMethylation450.Level_1.1.10.0.tar.gz', 'https://tcga-data.nci.nih.gov/tcgafiles/ftp_auth/distro_ftpusers/anonymous/tumor/blca/cgcc/jhu-usc.edu/humanmethylation450/methylation/jhu-usc.edu_BLCA.HumanMethylation450.Level_1.1.11.0.tar.gz', 'https://tcga-data.nci.nih.gov/tcgafiles/ftp_auth/distro_ftpusers/anonymous/tumor/blca/cgcc/jhu-usc.edu/humanmethylation450/methylation/jhu-usc.edu_BLCA.HumanMethylation450.Level_1.1.12.0.tar.gz', 'https://tcga-data.nci.nih.gov/tcgafiles/ftp_auth/distro_ftpusers/anonymous/tumor/blca/cgcc/jhu-usc.edu/humanmethylation450/methylation/jhu-usc.edu_BLCA.HumanMethylation450.Level_1.1.13.0.tar.gz', 'https://tcga-data.nci.nih.gov/tcgafiles/ftp_auth/distro_ftpusers/anonymous/tumor/blca/cgcc/jhu-usc.edu/humanmethylation450/methylation/jhu-usc.edu_BLCA.HumanMethylation450.Level_1.1.14.0.tar.gz', 'https://tcga-data.nci.nih.gov/tcgafiles/ftp_auth/distro_ftpusers/anonymous/tumor/blca/cgcc/jhu-usc.edu/humanmethylation450/methylation/jhu-usc.edu_BLCA.HumanMethylation450.Level_1.1.15.0.tar.gz', 'https://tcga-data.nci.nih.gov/tcgafiles/ftp_auth/distro_ftpusers/anonymous/tumor/blca/cgcc/jhu-usc.edu/humanmethylation450/methylation/jhu-usc.edu_BLCA.HumanMethylation450.Level_1.1.16.0.tar.gz', 'https://tcga-data.nci.nih.gov/tcgafiles/ftp_auth/distro_ftpusers/anonymous/tumor/blca/cgcc/jhu-usc.edu/humanmethylation450/methylation/jhu-usc.edu_BLCA.HumanMethylation450.Level_1.1.17.0.tar.gz', 'https://tcga-data.nci.nih.gov/tcgafiles/ftp_auth/distro_ftpusers/anonymous/tumor/blca/cgcc/jhu-usc.edu/humanmethylation450/methylation/jhu-usc.edu_BLCA.HumanMethylation450.Level_1.1.2.0.tar.gz', 'https://tcga-data.nci.nih.gov/tcgafiles/ftp_auth/distro_ftpusers/anonymous/tumor/blca/cgcc/jhu-usc.edu/humanmethylation450/methylation/jhu-usc.edu_BLCA.HumanMethylation450.Level_1.1.3.0.tar.gz', 'https://tcga-data.nci.nih.gov/tcgafiles/ftp_auth/distro_ftpusers/anonymous/tumor/blca/cgcc/jhu-usc.edu/humanmethylation450/methylation/jhu-usc.edu_BLCA.HumanMethylation450.Level_1.1.4.0.tar.gz', 'https://tcga-data.nci.nih.gov/tcgafiles/ftp_auth/distro_ftpusers/anonymous/tumor/blca/cgcc/jhu-usc.edu/humanmethylation450/methylation/jhu-usc.edu_BLCA.HumanMethylation450.Level_1.1.5.0.tar.gz', 'https://tcga-data.nci.nih.gov/tcgafiles/ftp_auth/distro_ftpusers/anonymous/tumor/blca/cgcc/jhu-usc.edu/humanmethylation450/methylation/jhu-usc.edu_BLCA.HumanMethylation450.Level_1.1.6.0.tar.gz', 'https://tcga-data.nci.nih.gov/tcgafiles/ftp_auth/distro_ftpusers/anonymous/tumor/blca/cgcc/jhu-usc.edu/humanmethylation450/methylation/jhu-usc.edu_BLCA.HumanMethylation450.Level_1.1.7.0.tar.gz', 'https://tcga-data.nci.nih.gov/tcgafiles/ftp_auth/distro_ftpusers/anonymous/tumor/blca/cgcc/jhu-usc.edu/humanmethylation450/methylation/jhu-usc.edu_BLCA.HumanMethylation450.Level_1.1.8.0.tar.gz', 'https://tcga-data.nci.nih.gov/tcgafiles/ftp_auth/distro_ftpusers/anonymous/tumor/blca/cgcc/jhu-usc.edu/humanmethylation450/methylation/jhu-usc.edu_BLCA.HumanMethylation450.Level_1.1.9.0.tar.gz', 'https://tcga-data.nci.nih.gov/tcgafiles/ftp_auth/distro_ftpusers/anonymous/tumor/blca/cgcc/jhu-usc.edu/humanmethylation450/methylation/jhu-usc.edu_BLCA.HumanMethylation450.Level_1.10.10.0.tar.gz', 'https://tcga-data.nci.nih.gov/tcgafiles/ftp_auth/distro_ftpusers/anonymous/tumor/blca/cgcc/jhu-usc.edu/humanmethylation450/methylation/jhu-usc.edu_BLCA.HumanMethylation450.Level_1.10.11.0.tar.gz', 'https://tcga-data.nci.nih.gov/tcgafiles/ftp_auth/distro_ftpusers/anonymous/tumor/blca/cgcc/jhu-usc.edu/humanmethylation450/methylation/jhu-usc.edu_BLCA.HumanMethylation450.Level_1.10.12.0.tar.gz', 'https://tcga-data.nci.nih.gov/tcgafiles/ftp_auth/distro_ftpusers/anonymous/tumor/blca/cgcc/jhu-usc.edu/humanmethylation450/methylation/jhu-usc.edu_BLCA.HumanMethylation450.Level_1.10.13.0.tar.gz', 'https://tcga-data.nci.nih.gov/tcgafiles/ftp_auth/distro_ftpusers/anonymous/tumor/blca/cgcc/jhu-usc.edu/humanmethylation450/methylation/jhu-usc.edu_BLCA.HumanMethylation450.Level_1.10.14.0.tar.gz', 'https://tcga-data.nci.nih.gov/tcgafiles/ftp_auth/distro_ftpusers/anonymous/tumor/blca/cgcc/jhu-usc.edu/humanmethylation450/methylation/jhu-usc.edu_BLCA.HumanMethylation450.Level_1.10.15.0.tar.gz', 'https://tcga-data.nci.nih.gov/tcgafiles/ftp_auth/distro_ftpusers/anonymous/tumor/blca/cgcc/jhu-usc.edu/humanmethylation450/methylation/jhu-usc.edu_BLCA.HumanMethylation450.Level_1.10.16.0.tar.gz', 'https://tcga-data.nci.nih.gov/tcgafiles/ftp_auth/distro_ftpusers/anonymous/tumor/blca/cgcc/jhu-usc.edu/humanmethylation450/methylation/jhu-usc.edu_BLCA.HumanMethylation450.Level_1.10.17.0.tar.gz', 'https://tcga-data.nci.nih.gov/tcgafiles/ftp_auth/distro_ftpusers/anonymous/tumor/blca/cgcc/jhu-usc.edu/humanmethylation450/methylation/jhu-usc.edu_BLCA.HumanMethylation450.Level_1.10.4.0.tar.gz', 'https://tcga-data.nci.nih.gov/tcgafiles/ftp_auth/distro_ftpusers/anonymous/tumor/blca/cgcc/jhu-usc.edu/humanmethylation450/methylation/jhu-usc.edu_BLCA.HumanMethylation450.Level_1.10.5.0.tar.gz', 'https://tcga-data.nci.nih.gov/tcgafiles/ftp_auth/distro_ftpusers/anonymous/tumor/blca/cgcc/jhu-usc.edu/humanmethylation450/methylation/jhu-usc.edu_BLCA.HumanMethylation450.Level_1.10.6.0.tar.gz', 'https://tcga-data.nci.nih.gov/tcgafiles/ftp_auth/distro_ftpusers/anonymous/tumor/blca/cgcc/jhu-usc.edu/humanmethylation450/methylation/jhu-usc.edu_BLCA.HumanMethylation450.Level_1.10.7.0.tar.gz', 'https://tcga-data.nci.nih.gov/tcgafiles/ftp_auth/distro_ftpusers/anonymous/tumor/blca/cgcc/jhu-usc.edu/humanmethylation450/methylation/jhu-usc.edu_BLCA.HumanMethylation450.Level_1.10.8.0.tar.gz', 'https://tcga-data.nci.nih.gov/tcgafiles/ftp_auth/distro_ftpusers/anonymous/tumor/blca/cgcc/jhu-usc.edu/humanmethylation450/methylation/jhu-usc.edu_BLCA.HumanMethylation450.Level_1.10.9.0.tar.gz', 'https://tcga-data.nci.nih.gov/tcgafiles/ftp_auth/distro_ftpusers/anonymous/tumor/blca/cgcc/jhu-usc.edu/humanmethylation450/methylation/jhu-usc.edu_BLCA.HumanMethylation450.Level_1.11.10.0.tar.gz', 'https://tcga-data.nci.nih.gov/tcgafiles/ftp_auth/distro_ftpusers/anonymous/tumor/blca/cgcc/jhu-usc.edu/humanmethylation450/methylation/jhu-usc.edu_BLCA.HumanMethylation450.Level_1.11.11.0.tar.gz', 'https://tcga-data.nci.nih.gov/tcgafiles/ftp_auth/distro_ftpusers/anonymous/tumor/blca/cgcc/jhu-usc.edu/humanmethylation450/methylation/jhu-usc.edu_BLCA.HumanMethylation450.Level_1.11.12.0.tar.gz', 'https://tcga-data.nci.nih.gov/tcgafiles/ftp_auth/distro_ftpusers/anonymous/tumor/blca/cgcc/jhu-usc.edu/humanmethylation450/methylation/jhu-usc.edu_BLCA.HumanMethylation450.Level_1.11.13.0.tar.gz', 'https://tcga-data.nci.nih.gov/tcgafiles/ftp_auth/distro_ftpusers/anonymous/tumor/blca/cgcc/jhu-usc.edu/humanmethylation450/methylation/jhu-usc.edu_BLCA.HumanMethylation450.Level_1.11.14.0.tar.gz', 'https://tcga-data.nci.nih.gov/tcgafiles/ftp_auth/distro_ftpusers/anonymous/tumor/blca/cgcc/jhu-usc.edu/humanmethylation450/methylation/jhu-usc.edu_BLCA.HumanMethylation450.Level_1.11.15.0.tar.gz', 'https://tcga-data.nci.nih.gov/tcgafiles/ftp_auth/distro_ftpusers/anonymous/tumor/blca/cgcc/jhu-usc.edu/humanmethylation450/methylation/jhu-usc.edu_BLCA.HumanMethylation450.Level_1.11.16.0.tar.gz', 'https://tcga-data.nci.nih.gov/tcgafiles/ftp_auth/distro_ftpusers/anonymous/tumor/blca/cgcc/jhu-usc.edu/humanmethylation450/methylation/jhu-usc.edu_BLCA.HumanMethylation450.Level_1.11.17.0.tar.gz', 'https://tcga-data.nci.nih.gov/tcgafiles/ftp_auth/distro_ftpusers/anonymous/tumor/blca/cgcc/jhu-usc.edu/humanmethylation450/methylation/jhu-usc.edu_BLCA.HumanMethylation450.Level_1.11.4.0.tar.gz', 'https://tcga-data.nci.nih.gov/tcgafiles/ftp_auth/distro_ftpusers/anonymous/tumor/blca/cgcc/jhu-usc.edu/humanmethylation450/methylation/jhu-usc.edu_BLCA.HumanMethylation450.Level_1.11.5.0.tar.gz', 'https://tcga-data.nci.nih.gov/tcgafiles/ftp_auth/distro_ftpusers/anonymous/tumor/blca/cgcc/jhu-usc.edu/humanmethylation450/methylation/jhu-usc.edu_BLCA.HumanMethylation450.Level_1.11.6.0.tar.gz', 'https://tcga-data.nci.nih.gov/tcgafiles/ftp_auth/distro_ftpusers/anonymous/tumor/blca/cgcc/jhu-usc.edu/humanmethylation450/methylation/jhu-usc.edu_BLCA.HumanMethylation450.Level_1.11.7.0.tar.gz', 'https://tcga-data.nci.nih.gov/tcgafiles/ftp_auth/distro_ftpusers/anonymous/tumor/blca/cgcc/jhu-usc.edu/humanmethylation450/methylation/jhu-usc.edu_BLCA.HumanMethylation450.Level_1.11.8.0.tar.gz', 'https://tcga-data.nci.nih.gov/tcgafiles/ftp_auth/distro_ftpusers/anonymous/tumor/blca/cgcc/jhu-usc.edu/humanmethylation450/methylation/jhu-usc.edu_BLCA.HumanMethylation450.Level_1.11.9.0.tar.gz', 'https://tcga-data.nci.nih.gov/tcgafiles/ftp_auth/distro_ftpusers/anonymous/tumor/blca/cgcc/jhu-usc.edu/humanmethylation450/methylation/jhu-usc.edu_BLCA.HumanMethylation450.Level_1.12.10.0.tar.gz', 'https://tcga-data.nci.nih.gov/tcgafiles/ftp_auth/distro_ftpusers/anonymous/tumor/blca/cgcc/jhu-usc.edu/humanmethylation450/methylation/jhu-usc.edu_BLCA.HumanMethylation450.Level_1.12.11.0.tar.gz', 'https://tcga-data.nci.nih.gov/tcgafiles/ftp_auth/distro_ftpusers/anonymous/tumor/blca/cgcc/jhu-usc.edu/humanmethylation450/methylation/jhu-usc.edu_BLCA.HumanMethylation450.Level_1.12.12.0.tar.gz', 'https://tcga-data.nci.nih.gov/tcgafiles/ftp_auth/distro_ftpusers/anonymous/tumor/blca/cgcc/jhu-usc.edu/humanmethylation450/methylation/jhu-usc.edu_BLCA.HumanMethylation450.Level_1.12.13.0.tar.gz', 'https://tcga-data.nci.nih.gov/tcgafiles/ftp_auth/distro_ftpusers/anonymous/tumor/blca/cgcc/jhu-usc.edu/humanmethylation450/methylation/jhu-usc.edu_BLCA.HumanMethylation450.Level_1.12.14.0.tar.gz', 'https://tcga-data.nci.nih.gov/tcgafiles/ftp_auth/distro_ftpusers/anonymous/tumor/blca/cgcc/jhu-usc.edu/humanmethylation450/methylation/jhu-usc.edu_BLCA.HumanMethylation450.Level_1.12.15.0.tar.gz', 'https://tcga-data.nci.nih.gov/tcgafiles/ftp_auth/distro_ftpusers/anonymous/tumor/blca/cgcc/jhu-usc.edu/humanmethylation450/methylation/jhu-usc.edu_BLCA.HumanMethylation450.Level_1.12.16.0.tar.gz', 'https://tcga-data.nci.nih.gov/tcgafiles/ftp_auth/distro_ftpusers/anonymous/tumor/blca/cgcc/jhu-usc.edu/humanmethylation450/methylation/jhu-usc.edu_BLCA.HumanMethylation450.Level_1.12.17.0.tar.gz', 'https://tcga-data.nci.nih.gov/tcgafiles/ftp_auth/distro_ftpusers/anonymous/tumor/blca/cgcc/jhu-usc.edu/humanmethylation450/methylation/jhu-usc.edu_BLCA.HumanMethylation450.Level_1.12.7.0.tar.gz', 'https://tcga-data.nci.nih.gov/tcgafiles/ftp_auth/distro_ftpusers/anonymous/tumor/blca/cgcc/jhu-usc.edu/humanmethylation450/methylation/jhu-usc.edu_BLCA.HumanMethylation450.Level_1.12.8.0.tar.gz', 'https://tcga-data.nci.nih.gov/tcgafiles/ftp_auth/distro_ftpusers/anonymous/tumor/blca/cgcc/jhu-usc.edu/humanmethylation450/methylation/jhu-usc.edu_BLCA.HumanMethylation450.Level_1.12.9.0.tar.gz', 'https://tcga-data.nci.nih.gov/tcgafiles/ftp_auth/distro_ftpusers/anonymous/tumor/blca/cgcc/jhu-usc.edu/humanmethylation450/methylation/jhu-usc.edu_BLCA.HumanMethylation450.Level_1.13.10.0.tar.gz', 'https://tcga-data.nci.nih.gov/tcgafiles/ftp_auth/distro_ftpusers/anonymous/tumor/blca/cgcc/jhu-usc.edu/humanmethylation450/methylation/jhu-usc.edu_BLCA.HumanMethylation450.Level_1.13.11.0.tar.gz', 'https://tcga-data.nci.nih.gov/tcgafiles/ftp_auth/distro_ftpusers/anonymous/tumor/blca/cgcc/jhu-usc.edu/humanmethylation450/methylation/jhu-usc.edu_BLCA.HumanMethylation450.Level_1.13.12.0.tar.gz', 'https://tcga-data.nci.nih.gov/tcgafiles/ftp_auth/distro_ftpusers/anonymous/tumor/blca/cgcc/jhu-usc.edu/humanmethylation450/methylation/jhu-usc.edu_BLCA.HumanMethylation450.Level_1.13.13.0.tar.gz', 'https://tcga-data.nci.nih.gov/tcgafiles/ftp_auth/distro_ftpusers/anonymous/tumor/blca/cgcc/jhu-usc.edu/humanmethylation450/methylation/jhu-usc.edu_BLCA.HumanMethylation450.Level_1.13.14.0.tar.gz', 'https://tcga-data.nci.nih.gov/tcgafiles/ftp_auth/distro_ftpusers/anonymous/tumor/blca/cgcc/jhu-usc.edu/humanmethylation450/methylation/jhu-usc.edu_BLCA.HumanMethylation450.Level_1.13.15.0.tar.gz', 'https://tcga-data.nci.nih.gov/tcgafiles/ftp_auth/distro_ftpusers/anonymous/tumor/blca/cgcc/jhu-usc.edu/humanmethylation450/methylation/jhu-usc.edu_BLCA.HumanMethylation450.Level_1.13.16.0.tar.gz', 'https://tcga-data.nci.nih.gov/tcgafiles/ftp_auth/distro_ftpusers/anonymous/tumor/blca/cgcc/jhu-usc.edu/humanmethylation450/methylation/jhu-usc.edu_BLCA.HumanMethylation450.Level_1.13.17.0.tar.gz', 'https://tcga-data.nci.nih.gov/tcgafiles/ftp_auth/distro_ftpusers/anonymous/tumor/blca/cgcc/jhu-usc.edu/humanmethylation450/methylation/jhu-usc.edu_BLCA.HumanMethylation450.Level_1.13.8.0.tar.gz', 'https://tcga-data.nci.nih.gov/tcgafiles/ftp_auth/distro_ftpusers/anonymous/tumor/blca/cgcc/jhu-usc.edu/humanmethylation450/methylation/jhu-usc.edu_BLCA.HumanMethylation450.Level_1.13.9.0.tar.gz', 'https://tcga-data.nci.nih.gov/tcgafiles/ftp_auth/distro_ftpusers/anonymous/tumor/blca/cgcc/jhu-usc.edu/humanmethylation450/methylation/jhu-usc.edu_BLCA.HumanMethylation450.Level_1.14.10.0.tar.gz', 'https://tcga-data.nci.nih.gov/tcgafiles/ftp_auth/distro_ftpusers/anonymous/tumor/blca/cgcc/jhu-usc.edu/humanmethylation450/methylation/jhu-usc.edu_BLCA.HumanMethylation450.Level_1.14.11.0.tar.gz', 'https://tcga-data.nci.nih.gov/tcgafiles/ftp_auth/distro_ftpusers/anonymous/tumor/blca/cgcc/jhu-usc.edu/humanmethylation450/methylation/jhu-usc.edu_BLCA.HumanMethylation450.Level_1.14.12.0.tar.gz', 'https://tcga-data.nci.nih.gov/tcgafiles/ftp_auth/distro_ftpusers/anonymous/tumor/blca/cgcc/jhu-usc.edu/humanmethylation450/methylation/jhu-usc.edu_BLCA.HumanMethylation450.Level_1.14.13.0.tar.gz', 'https://tcga-data.nci.nih.gov/tcgafiles/ftp_auth/distro_ftpusers/anonymous/tumor/blca/cgcc/jhu-usc.edu/humanmethylation450/methylation/jhu-usc.edu_BLCA.HumanMethylation450.Level_1.14.14.0.tar.gz', 'https://tcga-data.nci.nih.gov/tcgafiles/ftp_auth/distro_ftpusers/anonymous/tumor/blca/cgcc/jhu-usc.edu/humanmethylation450/methylation/jhu-usc.edu_BLCA.HumanMethylation450.Level_1.14.15.0.tar.gz', 'https://tcga-data.nci.nih.gov/tcgafiles/ftp_auth/distro_ftpusers/anonymous/tumor/blca/cgcc/jhu-usc.edu/humanmethylation450/methylation/jhu-usc.edu_BLCA.HumanMethylation450.Level_1.14.16.0.tar.gz', 'https://tcga-data.nci.nih.gov/tcgafiles/ftp_auth/distro_ftpusers/anonymous/tumor/blca/cgcc/jhu-usc.edu/humanmethylation450/methylation/jhu-usc.edu_BLCA.HumanMethylation450.Level_1.14.17.0.tar.gz', 'https://tcga-data.nci.nih.gov/tcgafiles/ftp_auth/distro_ftpusers/anonymous/tumor/blca/cgcc/jhu-usc.edu/humanmethylation450/methylation/jhu-usc.edu_BLCA.HumanMethylation450.Level_1.14.9.0.tar.gz', 'https://tcga-data.nci.nih.gov/tcgafiles/ftp_auth/distro_ftpusers/anonymous/tumor/blca/cgcc/jhu-usc.edu/humanmethylation450/methylation/jhu-usc.edu_BLCA.HumanMethylation450.Level_1.15.10.0.tar.gz', 'https://tcga-data.nci.nih.gov/tcgafiles/ftp_auth/distro_ftpusers/anonymous/tumor/blca/cgcc/jhu-usc.edu/humanmethylation450/methylation/jhu-usc.edu_BLCA.HumanMethylation450.Level_1.15.11.0.tar.gz', 'https://tcga-data.nci.nih.gov/tcgafiles/ftp_auth/distro_ftpusers/anonymous/tumor/blca/cgcc/jhu-usc.edu/humanmethylation450/methylation/jhu-usc.edu_BLCA.HumanMethylation450.Level_1.15.12.0.tar.gz', 'https://tcga-data.nci.nih.gov/tcgafiles/ftp_auth/distro_ftpusers/anonymous/tumor/blca/cgcc/jhu-usc.edu/humanmethylation450/methylation/jhu-usc.edu_BLCA.HumanMethylation450.Level_1.15.13.0.tar.gz', 'https://tcga-data.nci.nih.gov/tcgafiles/ftp_auth/distro_ftpusers/anonymous/tumor/blca/cgcc/jhu-usc.edu/humanmethylation450/methylation/jhu-usc.edu_BLCA.HumanMethylation450.Level_1.15.14.0.tar.gz', 'https://tcga-data.nci.nih.gov/tcgafiles/ftp_auth/distro_ftpusers/anonymous/tumor/blca/cgcc/jhu-usc.edu/humanmethylation450/methylation/jhu-usc.edu_BLCA.HumanMethylation450.Level_1.15.15.0.tar.gz', 'https://tcga-data.nci.nih.gov/tcgafiles/ftp_auth/distro_ftpusers/anonymous/tumor/blca/cgcc/jhu-usc.edu/humanmethylation450/methylation/jhu-usc.edu_BLCA.HumanMethylation450.Level_1.15.16.0.tar.gz', 'https://tcga-data.nci.nih.gov/tcgafiles/ftp_auth/distro_ftpusers/anonymous/tumor/blca/cgcc/jhu-usc.edu/humanmethylation450/methylation/jhu-usc.edu_BLCA.HumanMethylation450.Level_1.15.17.0.tar.gz', 'https://tcga-data.nci.nih.gov/tcgafiles/ftp_auth/distro_ftpusers/anonymous/tumor/blca/cgcc/jhu-usc.edu/humanmethylation450/methylation/jhu-usc.edu_BLCA.HumanMethylation450.Level_1.16.11.0.tar.gz', 'https://tcga-data.nci.nih.gov/tcgafiles/ftp_auth/distro_ftpusers/anonymous/tumor/blca/cgcc/jhu-usc.edu/humanmethylation450/methylation/jhu-usc.edu_BLCA.HumanMethylation450.Level_1.16.12.0.tar.gz', 'https://tcga-data.nci.nih.gov/tcgafiles/ftp_auth/distro_ftpusers/anonymous/tumor/blca/cgcc/jhu-usc.edu/humanmethylation450/methylation/jhu-usc.edu_BLCA.HumanMethylation450.Level_1.16.13.0.tar.gz', 'https://tcga-data.nci.nih.gov/tcgafiles/ftp_auth/distro_ftpusers/anonymous/tumor/blca/cgcc/jhu-usc.edu/humanmethylation450/methylation/jhu-usc.edu_BLCA.HumanMethylation450.Level_1.16.14.0.tar.gz', 'https://tcga-data.nci.nih.gov/tcgafiles/ftp_auth/distro_ftpusers/anonymous/tumor/blca/cgcc/jhu-usc.edu/humanmethylation450/methylation/jhu-usc.edu_BLCA.HumanMethylation450.Level_1.16.15.0.tar.gz', 'https://tcga-data.nci.nih.gov/tcgafiles/ftp_auth/distro_ftpusers/anonymous/tumor/blca/cgcc/jhu-usc.edu/humanmethylation450/methylation/jhu-usc.edu_BLCA.HumanMethylation450.Level_1.16.16.0.tar.gz', 'https://tcga-data.nci.nih.gov/tcgafiles/ftp_auth/distro_ftpusers/anonymous/tumor/blca/cgcc/jhu-usc.edu/humanmethylation450/methylation/jhu-usc.edu_BLCA.HumanMethylation450.Level_1.16.17.0.tar.gz', 'https://tcga-data.nci.nih.gov/tcgafiles/ftp_auth/distro_ftpusers/anonymous/tumor/blca/cgcc/jhu-usc.edu/humanmethylation450/methylation/jhu-usc.edu_BLCA.HumanMethylation450.Level_1.17.12.0.tar.gz', 'https://tcga-data.nci.nih.gov/tcgafiles/ftp_auth/distro_ftpusers/anonymous/tumor/blca/cgcc/jhu-usc.edu/humanmethylation450/methylation/jhu-usc.edu_BLCA.HumanMethylation450.Level_1.17.13.0.tar.gz', 'https://tcga-data.nci.nih.gov/tcgafiles/ftp_auth/distro_ftpusers/anonymous/tumor/blca/cgcc/jhu-usc.edu/humanmethylation450/methylation/jhu-usc.edu_BLCA.HumanMethylation450.Level_1.17.14.0.tar.gz', 'https://tcga-data.nci.nih.gov/tcgafiles/ftp_auth/distro_ftpusers/anonymous/tumor/blca/cgcc/jhu-usc.edu/humanmethylation450/methylation/jhu-usc.edu_BLCA.HumanMethylation450.Level_1.17.15.0.tar.gz', 'https://tcga-data.nci.nih.gov/tcgafiles/ftp_auth/distro_ftpusers/anonymous/tumor/blca/cgcc/jhu-usc.edu/humanmethylation450/methylation/jhu-usc.edu_BLCA.HumanMethylation450.Level_1.17.16.0.tar.gz', 'https://tcga-data.nci.nih.gov/tcgafiles/ftp_auth/distro_ftpusers/anonymous/tumor/blca/cgcc/jhu-usc.edu/humanmethylation450/methylation/jhu-usc.edu_BLCA.HumanMethylation450.Level_1.17.17.0.tar.gz', 'https://tcga-data.nci.nih.gov/tcgafiles/ftp_auth/distro_ftpusers/anonymous/tumor/blca/cgcc/jhu-usc.edu/humanmethylation450/methylation/jhu-usc.edu_BLCA.HumanMethylation450.Level_1.18.12.0.tar.gz', 'https://tcga-data.nci.nih.gov/tcgafiles/ftp_auth/distro_ftpusers/anonymous/tumor/blca/cgcc/jhu-usc.edu/humanmethylation450/methylation/jhu-usc.edu_BLCA.HumanMethylation450.Level_1.18.13.0.tar.gz', 'https://tcga-data.nci.nih.gov/tcgafiles/ftp_auth/distro_ftpusers/anonymous/tumor/blca/cgcc/jhu-usc.edu/humanmethylation450/methylation/jhu-usc.edu_BLCA.HumanMethylation450.Level_1.18.14.0.tar.gz', 'https://tcga-data.nci.nih.gov/tcgafiles/ftp_auth/distro_ftpusers/anonymous/tumor/blca/cgcc/jhu-usc.edu/humanmethylation450/methylation/jhu-usc.edu_BLCA.HumanMethylation450.Level_1.18.15.0.tar.gz', 'https://tcga-data.nci.nih.gov/tcgafiles/ftp_auth/distro_ftpusers/anonymous/tumor/blca/cgcc/jhu-usc.edu/humanmethylation450/methylation/jhu-usc.edu_BLCA.HumanMethylation450.Level_1.18.16.0.tar.gz', 'https://tcga-data.nci.nih.gov/tcgafiles/ftp_auth/distro_ftpusers/anonymous/tumor/blca/cgcc/jhu-usc.edu/humanmethylation450/methylation/jhu-usc.edu_BLCA.HumanMethylation450.Level_1.18.17.0.tar.gz', 'https://tcga-data.nci.nih.gov/tcgafiles/ftp_auth/distro_ftpusers/anonymous/tumor/blca/cgcc/jhu-usc.edu/humanmethylation450/methylation/jhu-usc.edu_BLCA.HumanMethylation450.Level_1.19.12.0.tar.gz', 'https://tcga-data.nci.nih.gov/tcgafiles/ftp_auth/distro_ftpusers/anonymous/tumor/blca/cgcc/jhu-usc.edu/humanmethylation450/methylation/jhu-usc.edu_BLCA.HumanMethylation450.Level_1.19.13.0.tar.gz', 'https://tcga-data.nci.nih.gov/tcgafiles/ftp_auth/distro_ftpusers/anonymous/tumor/blca/cgcc/jhu-usc.edu/humanmethylation450/methylation/jhu-usc.edu_BLCA.HumanMethylation450.Level_1.19.14.0.tar.gz', 'https://tcga-data.nci.nih.gov/tcgafiles/ftp_auth/distro_ftpusers/anonymous/tumor/blca/cgcc/jhu-usc.edu/humanmethylation450/methylation/jhu-usc.edu_BLCA.HumanMethylation450.Level_1.19.15.0.tar.gz', 'https://tcga-data.nci.nih.gov/tcgafiles/ftp_auth/distro_ftpusers/anonymous/tumor/blca/cgcc/jhu-usc.edu/humanmethylation450/methylation/jhu-usc.edu_BLCA.HumanMethylation450.Level_1.19.16.0.tar.gz', 'https://tcga-data.nci.nih.gov/tcgafiles/ftp_auth/distro_ftpusers/anonymous/tumor/blca/cgcc/jhu-usc.edu/humanmethylation450/methylation/jhu-usc.edu_BLCA.HumanMethylation450.Level_1.19.17.0.tar.gz', 'https://tcga-data.nci.nih.gov/tcgafiles/ftp_auth/distro_ftpusers/anonymous/tumor/blca/cgcc/jhu-usc.edu/humanmethylation450/methylation/jhu-usc.edu_BLCA.HumanMethylation450.Level_1.2.0.0.tar.gz', 'https://tcga-data.nci.nih.gov/tcgafiles/ftp_auth/distro_ftpusers/anonymous/tumor/blca/cgcc/jhu-usc.edu/humanmethylation450/methylation/jhu-usc.edu_BLCA.HumanMethylation450.Level_1.1.1.0.tar.gz', 'https://tcga-data.nci.nih.gov/tcgafiles/ftp_auth/distro_ftpusers/anonymous/tumor/blca/cgcc/jhu-usc.edu/humanmethylation450/methylation/jhu-usc.edu_BLCA.HumanMethylation450.Level_1.1.10.0.tar.gz', 'https://tcga-data.nci.nih.gov/tcgafiles/ftp_auth/distro_ftpusers/anonymous/tumor/blca/cgcc/jhu-usc.edu/humanmethylation450/methylation/jhu-usc.edu_BLCA.HumanMethylation450.Level_1.1.11.0.tar.gz', 'https://tcga-data.nci.nih.gov/tcgafiles/ftp_auth/distro_ftpusers/anonymous/tumor/blca/cgcc/jhu-usc.edu/humanmethylation450/methylation/jhu-usc.edu_BLCA.HumanMethylation450.Level_1.1.12.0.tar.gz', 'https://tcga-data.nci.nih.gov/tcgafiles/ftp_auth/distro_ftpusers/anonymous/tumor/blca/cgcc/jhu-usc.edu/humanmethylation450/methylation/jhu-usc.edu_BLCA.HumanMethylation450.Level_1.1.13.0.tar.gz', 'https://tcga-data.nci.nih.gov/tcgafiles/ftp_auth/distro_ftpusers/anonymous/tumor/blca/cgcc/jhu-usc.edu/humanmethylation450/methylation/jhu-usc.edu_BLCA.HumanMethylation450.Level_1.1.14.0.tar.gz', 'https://tcga-data.nci.nih.gov/tcgafiles/ftp_auth/distro_ftpusers/anonymous/tumor/blca/cgcc/jhu-usc.edu/humanmethylation450/methylation/jhu-usc.edu_BLCA.HumanMethylation450.Level_1.1.15.0.tar.gz', 'https://tcga-data.nci.nih.gov/tcgafiles/ftp_auth/distro_ftpusers/anonymous/tumor/blca/cgcc/jhu-usc.edu/humanmethylation450/methylation/jhu-usc.edu_BLCA.HumanMethylation450.Level_1.1.16.0.tar.gz', 'https://tcga-data.nci.nih.gov/tcgafiles/ftp_auth/distro_ftpusers/anonymous/tumor/blca/cgcc/jhu-usc.edu/humanmethylation450/methylation/jhu-usc.edu_BLCA.HumanMethylation450.Level_1.1.17.0.tar.gz', 'https://tcga-data.nci.nih.gov/tcgafiles/ftp_auth/distro_ftpusers/anonymous/tumor/blca/cgcc/jhu-usc.edu/humanmethylation450/methylation/jhu-usc.edu_BLCA.HumanMethylation450.Level_1.1.2.0.tar.gz', 'https://tcga-data.nci.nih.gov/tcgafiles/ftp_auth/distro_ftpusers/anonymous/tumor/blca/cgcc/jhu-usc.edu/humanmethylation450/methylation/jhu-usc.edu_BLCA.HumanMethylation450.Level_1.1.3.0.tar.gz', 'https://tcga-data.nci.nih.gov/tcgafiles/ftp_auth/distro_ftpusers/anonymous/tumor/blca/cgcc/jhu-usc.edu/humanmethylation450/methylation/jhu-usc.edu_BLCA.HumanMethylation450.Level_1.1.4.0.tar.gz', 'https://tcga-data.nci.nih.gov/tcgafiles/ftp_auth/distro_ftpusers/anonymous/tumor/blca/cgcc/jhu-usc.edu/humanmethylation450/methylation/jhu-usc.edu_BLCA.HumanMethylation450.Level_1.1.5.0.tar.gz', 'https://tcga-data.nci.nih.gov/tcgafiles/ftp_auth/distro_ftpusers/anonymous/tumor/blca/cgcc/jhu-usc.edu/humanmethylation450/methylation/jhu-usc.edu_BLCA.HumanMethylation450.Level_1.1.6.0.tar.gz', 'https://tcga-data.nci.nih.gov/tcgafiles/ftp_auth/distro_ftpusers/anonymous/tumor/blca/cgcc/jhu-usc.edu/humanmethylation450/methylation/jhu-usc.edu_BLCA.HumanMethylation450.Level_1.1.7.0.tar.gz', 'https://tcga-data.nci.nih.gov/tcgafiles/ftp_auth/distro_ftpusers/anonymous/tumor/blca/cgcc/jhu-usc.edu/humanmethylation450/methylation/jhu-usc.edu_BLCA.HumanMethylation450.Level_1.1.8.0.tar.gz', 'https://tcga-data.nci.nih.gov/tcgafiles/ftp_auth/distro_ftpusers/anonymous/tumor/blca/cgcc/jhu-usc.edu/humanmethylation450/methylation/jhu-usc.edu_BLCA.HumanMethylation450.Level_1.1.9.0.tar.gz', 'https://tcga-data.nci.nih.gov/tcgafiles/ftp_auth/distro_ftpusers/anonymous/tumor/blca/cgcc/jhu-usc.edu/humanmethylation450/methylation/jhu-usc.edu_BLCA.HumanMethylation450.Level_1.10.10.0.tar.gz', 'https://tcga-data.nci.nih.gov/tcgafiles/ftp_auth/distro_ftpusers/anonymous/tumor/blca/cgcc/jhu-usc.edu/humanmethylation450/methylation/jhu-usc.edu_BLCA.HumanMethylation450.Level_1.10.11.0.tar.gz', 'https://tcga-data.nci.nih.gov/tcgafiles/ftp_auth/distro_ftpusers/anonymous/tumor/blca/cgcc/jhu-usc.edu/humanmethylation450/methylation/jhu-usc.edu_BLCA.HumanMethylation450.Level_1.10.12.0.tar.gz', 'https://tcga-data.nci.nih.gov/tcgafiles/ftp_auth/distro_ftpusers/anonymous/tumor/blca/cgcc/jhu-usc.edu/humanmethylation450/methylation/jhu-usc.edu_BLCA.HumanMethylation450.Level_1.10.13.0.tar.gz', 'https://tcga-data.nci.nih.gov/tcgafiles/ftp_auth/distro_ftpusers/anonymous/tumor/blca/cgcc/jhu-usc.edu/humanmethylation450/methylation/jhu-usc.edu_BLCA.HumanMethylation450.Level_1.10.14.0.tar.gz', 'https://tcga-data.nci.nih.gov/tcgafiles/ftp_auth/distro_ftpusers/anonymous/tumor/blca/cgcc/jhu-usc.edu/humanmethylation450/methylation/jhu-usc.edu_BLCA.HumanMethylation450.Level_1.10.15.0.tar.gz', 'https://tcga-data.nci.nih.gov/tcgafiles/ftp_auth/distro_ftpusers/anonymous/tumor/blca/cgcc/jhu-usc.edu/humanmethylation450/methylation/jhu-usc.edu_BLCA.HumanMethylation450.Level_1.10.16.0.tar.gz', 'https://tcga-data.nci.nih.gov/tcgafiles/ftp_auth/distro_ftpusers/anonymous/tumor/blca/cgcc/jhu-usc.edu/humanmethylation450/methylation/jhu-usc.edu_BLCA.HumanMethylation450.Level_1.10.17.0.tar.gz', 'https://tcga-data.nci.nih.gov/tcgafiles/ftp_auth/distro_ftpusers/anonymous/tumor/blca/cgcc/jhu-usc.edu/humanmethylation450/methylation/jhu-usc.edu_BLCA.HumanMethylation450.Level_1.10.4.0.tar.gz', 'https://tcga-data.nci.nih.gov/tcgafiles/ftp_auth/distro_ftpusers/anonymous/tumor/blca/cgcc/jhu-usc.edu/humanmethylation450/methylation/jhu-usc.edu_BLCA.HumanMethylation450.Level_1.10.5.0.tar.gz', 'https://tcga-data.nci.nih.gov/tcgafiles/ftp_auth/distro_ftpusers/anonymous/tumor/blca/cgcc/jhu-usc.edu/humanmethylation450/methylation/jhu-usc.edu_BLCA.HumanMethylation450.Level_1.10.6.0.tar.gz', 'https://tcga-data.nci.nih.gov/tcgafiles/ftp_auth/distro_ftpusers/anonymous/tumor/blca/cgcc/jhu-usc.edu/humanmethylation450/methylation/jhu-usc.edu_BLCA.HumanMethylation450.Level_1.10.7.0.tar.gz', 'https://tcga-data.nci.nih.gov/tcgafiles/ftp_auth/distro_ftpusers/anonymous/tumor/blca/cgcc/jhu-usc.edu/humanmethylation450/methylation/jhu-usc.edu_BLCA.HumanMethylation450.Level_1.10.8.0.tar.gz', 'https://tcga-data.nci.nih.gov/tcgafiles/ftp_auth/distro_ftpusers/anonymous/tumor/blca/cgcc/jhu-usc.edu/humanmethylation450/methylation/jhu-usc.edu_BLCA.HumanMethylation450.Level_1.10.9.0.tar.gz', 'https://tcga-data.nci.nih.gov/tcgafiles/ftp_auth/distro_ftpusers/anonymous/tumor/blca/cgcc/jhu-usc.edu/humanmethylation450/methylation/jhu-usc.edu_BLCA.HumanMethylation450.Level_1.11.10.0.tar.gz', 'https://tcga-data.nci.nih.gov/tcgafiles/ftp_auth/distro_ftpusers/anonymous/tumor/blca/cgcc/jhu-usc.edu/humanmethylation450/methylation/jhu-usc.edu_BLCA.HumanMethylation450.Level_1.11.11.0.tar.gz', 'https://tcga-data.nci.nih.gov/tcgafiles/ftp_auth/distro_ftpusers/anonymous/tumor/blca/cgcc/jhu-usc.edu/humanmethylation450/methylation/jhu-usc.edu_BLCA.HumanMethylation450.Level_1.11.12.0.tar.gz', 'https://tcga-data.nci.nih.gov/tcgafiles/ftp_auth/distro_ftpusers/anonymous/tumor/blca/cgcc/jhu-usc.edu/humanmethylation450/methylation/jhu-usc.edu_BLCA.HumanMethylation450.Level_1.11.13.0.tar.gz', 'https://tcga-data.nci.nih.gov/tcgafiles/ftp_auth/distro_ftpusers/anonymous/tumor/blca/cgcc/jhu-usc.edu/humanmethylation450/methylation/jhu-usc.edu_BLCA.HumanMethylation450.Level_1.11.14.0.tar.gz']]"
       ]
      },
      {
       "output_type": "stream",
       "stream": "stdout",
       "text": [
        "\n",
        "[['https://tcga-data.nci.nih.gov/tcgafiles/ftp_auth/distro_ftpusers/anonymous/tumor/acc/cgcc/jhu-usc.edu/humanmethylation450/methylation/jhu-usc.edu_ACC.HumanMethylation450.Level_1.1.0.0.tar.gz', 'https://tcga-data.nci.nih.gov/tcgafiles/ftp_auth/distro_ftpusers/anonymous/tumor/acc/cgcc/jhu-usc.edu/humanmethylation450/methylation/jhu-usc.edu_ACC.HumanMethylation450.aux.1.0.0.tar.gz', 'https://tcga-data.nci.nih.gov/tcgafiles/ftp_auth/distro_ftpusers/anonymous/tumor/acc/cgcc/jhu-usc.edu/humanmethylation450/methylation/jhu-usc.edu_ACC.HumanMethylation450.mage-tab.1.0.0.tar.gz']]"
       ]
      },
      {
       "output_type": "stream",
       "stream": "stdout",
       "text": [
        "\n",
        "[['https://tcga-data.nci.nih.gov/tcgafiles/ftp_auth/distro_ftpusers/anonymous/tumor/acc/cgcc/jhu-usc.edu/humanmethylation450/methylation/jhu-usc.edu_ACC.HumanMethylation450.Level_1.1.0.0.tar.gz', 'https://tcga-data.nci.nih.gov/tcgafiles/ftp_auth/distro_ftpusers/anonymous/tumor/acc/cgcc/jhu-usc.edu/humanmethylation450/methylation/jhu-usc.edu_ACC.HumanMethylation450.aux.1.0.0.tar.gz', 'https://tcga-data.nci.nih.gov/tcgafiles/ftp_auth/distro_ftpusers/anonymous/tumor/acc/cgcc/jhu-usc.edu/humanmethylation450/methylation/jhu-usc.edu_ACC.HumanMethylation450.mage-tab.1.0.0.tar.gz'], ['https://tcga-data.nci.nih.gov/tcgafiles/ftp_auth/distro_ftpusers/anonymous/tumor/blca/cgcc/jhu-usc.edu/humanmethylation450/methylation/jhu-usc.edu_BLCA.HumanMethylation450.Level_1.1.0.0.tar.gz', 'https://tcga-data.nci.nih.gov/tcgafiles/ftp_auth/distro_ftpusers/anonymous/tumor/blca/cgcc/jhu-usc.edu/humanmethylation450/methylation/jhu-usc.edu_BLCA.HumanMethylation450.Level_1.1.1.0.tar.gz', 'https://tcga-data.nci.nih.gov/tcgafiles/ftp_auth/distro_ftpusers/anonymous/tumor/blca/cgcc/jhu-usc.edu/humanmethylation450/methylation/jhu-usc.edu_BLCA.HumanMethylation450.Level_1.1.10.0.tar.gz', 'https://tcga-data.nci.nih.gov/tcgafiles/ftp_auth/distro_ftpusers/anonymous/tumor/blca/cgcc/jhu-usc.edu/humanmethylation450/methylation/jhu-usc.edu_BLCA.HumanMethylation450.Level_1.1.11.0.tar.gz', 'https://tcga-data.nci.nih.gov/tcgafiles/ftp_auth/distro_ftpusers/anonymous/tumor/blca/cgcc/jhu-usc.edu/humanmethylation450/methylation/jhu-usc.edu_BLCA.HumanMethylation450.Level_1.1.12.0.tar.gz', 'https://tcga-data.nci.nih.gov/tcgafiles/ftp_auth/distro_ftpusers/anonymous/tumor/blca/cgcc/jhu-usc.edu/humanmethylation450/methylation/jhu-usc.edu_BLCA.HumanMethylation450.Level_1.1.13.0.tar.gz', 'https://tcga-data.nci.nih.gov/tcgafiles/ftp_auth/distro_ftpusers/anonymous/tumor/blca/cgcc/jhu-usc.edu/humanmethylation450/methylation/jhu-usc.edu_BLCA.HumanMethylation450.Level_1.1.14.0.tar.gz', 'https://tcga-data.nci.nih.gov/tcgafiles/ftp_auth/distro_ftpusers/anonymous/tumor/blca/cgcc/jhu-usc.edu/humanmethylation450/methylation/jhu-usc.edu_BLCA.HumanMethylation450.Level_1.1.15.0.tar.gz', 'https://tcga-data.nci.nih.gov/tcgafiles/ftp_auth/distro_ftpusers/anonymous/tumor/blca/cgcc/jhu-usc.edu/humanmethylation450/methylation/jhu-usc.edu_BLCA.HumanMethylation450.Level_1.1.16.0.tar.gz', 'https://tcga-data.nci.nih.gov/tcgafiles/ftp_auth/distro_ftpusers/anonymous/tumor/blca/cgcc/jhu-usc.edu/humanmethylation450/methylation/jhu-usc.edu_BLCA.HumanMethylation450.Level_1.1.17.0.tar.gz', 'https://tcga-data.nci.nih.gov/tcgafiles/ftp_auth/distro_ftpusers/anonymous/tumor/blca/cgcc/jhu-usc.edu/humanmethylation450/methylation/jhu-usc.edu_BLCA.HumanMethylation450.Level_1.1.2.0.tar.gz', 'https://tcga-data.nci.nih.gov/tcgafiles/ftp_auth/distro_ftpusers/anonymous/tumor/blca/cgcc/jhu-usc.edu/humanmethylation450/methylation/jhu-usc.edu_BLCA.HumanMethylation450.Level_1.1.3.0.tar.gz', 'https://tcga-data.nci.nih.gov/tcgafiles/ftp_auth/distro_ftpusers/anonymous/tumor/blca/cgcc/jhu-usc.edu/humanmethylation450/methylation/jhu-usc.edu_BLCA.HumanMethylation450.Level_1.1.4.0.tar.gz', 'https://tcga-data.nci.nih.gov/tcgafiles/ftp_auth/distro_ftpusers/anonymous/tumor/blca/cgcc/jhu-usc.edu/humanmethylation450/methylation/jhu-usc.edu_BLCA.HumanMethylation450.Level_1.1.5.0.tar.gz', 'https://tcga-data.nci.nih.gov/tcgafiles/ftp_auth/distro_ftpusers/anonymous/tumor/blca/cgcc/jhu-usc.edu/humanmethylation450/methylation/jhu-usc.edu_BLCA.HumanMethylation450.Level_1.1.6.0.tar.gz', 'https://tcga-data.nci.nih.gov/tcgafiles/ftp_auth/distro_ftpusers/anonymous/tumor/blca/cgcc/jhu-usc.edu/humanmethylation450/methylation/jhu-usc.edu_BLCA.HumanMethylation450.Level_1.1.7.0.tar.gz', 'https://tcga-data.nci.nih.gov/tcgafiles/ftp_auth/distro_ftpusers/anonymous/tumor/blca/cgcc/jhu-usc.edu/humanmethylation450/methylation/jhu-usc.edu_BLCA.HumanMethylation450.Level_1.1.8.0.tar.gz', 'https://tcga-data.nci.nih.gov/tcgafiles/ftp_auth/distro_ftpusers/anonymous/tumor/blca/cgcc/jhu-usc.edu/humanmethylation450/methylation/jhu-usc.edu_BLCA.HumanMethylation450.Level_1.1.9.0.tar.gz', 'https://tcga-data.nci.nih.gov/tcgafiles/ftp_auth/distro_ftpusers/anonymous/tumor/blca/cgcc/jhu-usc.edu/humanmethylation450/methylation/jhu-usc.edu_BLCA.HumanMethylation450.Level_1.10.10.0.tar.gz', 'https://tcga-data.nci.nih.gov/tcgafiles/ftp_auth/distro_ftpusers/anonymous/tumor/blca/cgcc/jhu-usc.edu/humanmethylation450/methylation/jhu-usc.edu_BLCA.HumanMethylation450.Level_1.10.11.0.tar.gz', 'https://tcga-data.nci.nih.gov/tcgafiles/ftp_auth/distro_ftpusers/anonymous/tumor/blca/cgcc/jhu-usc.edu/humanmethylation450/methylation/jhu-usc.edu_BLCA.HumanMethylation450.Level_1.10.12.0.tar.gz', 'https://tcga-data.nci.nih.gov/tcgafiles/ftp_auth/distro_ftpusers/anonymous/tumor/blca/cgcc/jhu-usc.edu/humanmethylation450/methylation/jhu-usc.edu_BLCA.HumanMethylation450.Level_1.10.13.0.tar.gz', 'https://tcga-data.nci.nih.gov/tcgafiles/ftp_auth/distro_ftpusers/anonymous/tumor/blca/cgcc/jhu-usc.edu/humanmethylation450/methylation/jhu-usc.edu_BLCA.HumanMethylation450.Level_1.10.14.0.tar.gz', 'https://tcga-data.nci.nih.gov/tcgafiles/ftp_auth/distro_ftpusers/anonymous/tumor/blca/cgcc/jhu-usc.edu/humanmethylation450/methylation/jhu-usc.edu_BLCA.HumanMethylation450.Level_1.10.15.0.tar.gz', 'https://tcga-data.nci.nih.gov/tcgafiles/ftp_auth/distro_ftpusers/anonymous/tumor/blca/cgcc/jhu-usc.edu/humanmethylation450/methylation/jhu-usc.edu_BLCA.HumanMethylation450.Level_1.10.16.0.tar.gz', 'https://tcga-data.nci.nih.gov/tcgafiles/ftp_auth/distro_ftpusers/anonymous/tumor/blca/cgcc/jhu-usc.edu/humanmethylation450/methylation/jhu-usc.edu_BLCA.HumanMethylation450.Level_1.10.17.0.tar.gz', 'https://tcga-data.nci.nih.gov/tcgafiles/ftp_auth/distro_ftpusers/anonymous/tumor/blca/cgcc/jhu-usc.edu/humanmethylation450/methylation/jhu-usc.edu_BLCA.HumanMethylation450.Level_1.10.4.0.tar.gz', 'https://tcga-data.nci.nih.gov/tcgafiles/ftp_auth/distro_ftpusers/anonymous/tumor/blca/cgcc/jhu-usc.edu/humanmethylation450/methylation/jhu-usc.edu_BLCA.HumanMethylation450.Level_1.10.5.0.tar.gz', 'https://tcga-data.nci.nih.gov/tcgafiles/ftp_auth/distro_ftpusers/anonymous/tumor/blca/cgcc/jhu-usc.edu/humanmethylation450/methylation/jhu-usc.edu_BLCA.HumanMethylation450.Level_1.10.6.0.tar.gz', 'https://tcga-data.nci.nih.gov/tcgafiles/ftp_auth/distro_ftpusers/anonymous/tumor/blca/cgcc/jhu-usc.edu/humanmethylation450/methylation/jhu-usc.edu_BLCA.HumanMethylation450.Level_1.10.7.0.tar.gz', 'https://tcga-data.nci.nih.gov/tcgafiles/ftp_auth/distro_ftpusers/anonymous/tumor/blca/cgcc/jhu-usc.edu/humanmethylation450/methylation/jhu-usc.edu_BLCA.HumanMethylation450.Level_1.10.8.0.tar.gz', 'https://tcga-data.nci.nih.gov/tcgafiles/ftp_auth/distro_ftpusers/anonymous/tumor/blca/cgcc/jhu-usc.edu/humanmethylation450/methylation/jhu-usc.edu_BLCA.HumanMethylation450.Level_1.10.9.0.tar.gz', 'https://tcga-data.nci.nih.gov/tcgafiles/ftp_auth/distro_ftpusers/anonymous/tumor/blca/cgcc/jhu-usc.edu/humanmethylation450/methylation/jhu-usc.edu_BLCA.HumanMethylation450.Level_1.11.10.0.tar.gz', 'https://tcga-data.nci.nih.gov/tcgafiles/ftp_auth/distro_ftpusers/anonymous/tumor/blca/cgcc/jhu-usc.edu/humanmethylation450/methylation/jhu-usc.edu_BLCA.HumanMethylation450.Level_1.11.11.0.tar.gz', 'https://tcga-data.nci.nih.gov/tcgafiles/ftp_auth/distro_ftpusers/anonymous/tumor/blca/cgcc/jhu-usc.edu/humanmethylation450/methylation/jhu-usc.edu_BLCA.HumanMethylation450.Level_1.11.12.0.tar.gz', 'https://tcga-data.nci.nih.gov/tcgafiles/ftp_auth/distro_ftpusers/anonymous/tumor/blca/cgcc/jhu-usc.edu/humanmethylation450/methylation/jhu-usc.edu_BLCA.HumanMethylation450.Level_1.11.13.0.tar.gz', 'https://tcga-data.nci.nih.gov/tcgafiles/ftp_auth/distro_ftpusers/anonymous/tumor/blca/cgcc/jhu-usc.edu/humanmethylation450/methylation/jhu-usc.edu_BLCA.HumanMethylation450.Level_1.11.14.0.tar.gz', 'https://tcga-data.nci.nih.gov/tcgafiles/ftp_auth/distro_ftpusers/anonymous/tumor/blca/cgcc/jhu-usc.edu/humanmethylation450/methylation/jhu-usc.edu_BLCA.HumanMethylation450.Level_1.11.15.0.tar.gz', 'https://tcga-data.nci.nih.gov/tcgafiles/ftp_auth/distro_ftpusers/anonymous/tumor/blca/cgcc/jhu-usc.edu/humanmethylation450/methylation/jhu-usc.edu_BLCA.HumanMethylation450.Level_1.11.16.0.tar.gz', 'https://tcga-data.nci.nih.gov/tcgafiles/ftp_auth/distro_ftpusers/anonymous/tumor/blca/cgcc/jhu-usc.edu/humanmethylation450/methylation/jhu-usc.edu_BLCA.HumanMethylation450.Level_1.11.17.0.tar.gz', 'https://tcga-data.nci.nih.gov/tcgafiles/ftp_auth/distro_ftpusers/anonymous/tumor/blca/cgcc/jhu-usc.edu/humanmethylation450/methylation/jhu-usc.edu_BLCA.HumanMethylation450.Level_1.11.4.0.tar.gz', 'https://tcga-data.nci.nih.gov/tcgafiles/ftp_auth/distro_ftpusers/anonymous/tumor/blca/cgcc/jhu-usc.edu/humanmethylation450/methylation/jhu-usc.edu_BLCA.HumanMethylation450.Level_1.11.5.0.tar.gz', 'https://tcga-data.nci.nih.gov/tcgafiles/ftp_auth/distro_ftpusers/anonymous/tumor/blca/cgcc/jhu-usc.edu/humanmethylation450/methylation/jhu-usc.edu_BLCA.HumanMethylation450.Level_1.11.6.0.tar.gz', 'https://tcga-data.nci.nih.gov/tcgafiles/ftp_auth/distro_ftpusers/anonymous/tumor/blca/cgcc/jhu-usc.edu/humanmethylation450/methylation/jhu-usc.edu_BLCA.HumanMethylation450.Level_1.11.7.0.tar.gz', 'https://tcga-data.nci.nih.gov/tcgafiles/ftp_auth/distro_ftpusers/anonymous/tumor/blca/cgcc/jhu-usc.edu/humanmethylation450/methylation/jhu-usc.edu_BLCA.HumanMethylation450.Level_1.11.8.0.tar.gz', 'https://tcga-data.nci.nih.gov/tcgafiles/ftp_auth/distro_ftpusers/anonymous/tumor/blca/cgcc/jhu-usc.edu/humanmethylation450/methylation/jhu-usc.edu_BLCA.HumanMethylation450.Level_1.11.9.0.tar.gz', 'https://tcga-data.nci.nih.gov/tcgafiles/ftp_auth/distro_ftpusers/anonymous/tumor/blca/cgcc/jhu-usc.edu/humanmethylation450/methylation/jhu-usc.edu_BLCA.HumanMethylation450.Level_1.12.10.0.tar.gz', 'https://tcga-data.nci.nih.gov/tcgafiles/ftp_auth/distro_ftpusers/anonymous/tumor/blca/cgcc/jhu-usc.edu/humanmethylation450/methylation/jhu-usc.edu_BLCA.HumanMethylation450.Level_1.12.11.0.tar.gz', 'https://tcga-data.nci.nih.gov/tcgafiles/ftp_auth/distro_ftpusers/anonymous/tumor/blca/cgcc/jhu-usc.edu/humanmethylation450/methylation/jhu-usc.edu_BLCA.HumanMethylation450.Level_1.12.12.0.tar.gz', 'https://tcga-data.nci.nih.gov/tcgafiles/ftp_auth/distro_ftpusers/anonymous/tumor/blca/cgcc/jhu-usc.edu/humanmethylation450/methylation/jhu-usc.edu_BLCA.HumanMethylation450.Level_1.12.13.0.tar.gz', 'https://tcga-data.nci.nih.gov/tcgafiles/ftp_auth/distro_ftpusers/anonymous/tumor/blca/cgcc/jhu-usc.edu/humanmethylation450/methylation/jhu-usc.edu_BLCA.HumanMethylation450.Level_1.12.14.0.tar.gz', 'https://tcga-data.nci.nih.gov/tcgafiles/ftp_auth/distro_ftpusers/anonymous/tumor/blca/cgcc/jhu-usc.edu/humanmethylation450/methylation/jhu-usc.edu_BLCA.HumanMethylation450.Level_1.12.15.0.tar.gz', 'https://tcga-data.nci.nih.gov/tcgafiles/ftp_auth/distro_ftpusers/anonymous/tumor/blca/cgcc/jhu-usc.edu/humanmethylation450/methylation/jhu-usc.edu_BLCA.HumanMethylation450.Level_1.12.16.0.tar.gz', 'https://tcga-data.nci.nih.gov/tcgafiles/ftp_auth/distro_ftpusers/anonymous/tumor/blca/cgcc/jhu-usc.edu/humanmethylation450/methylation/jhu-usc.edu_BLCA.HumanMethylation450.Level_1.12.17.0.tar.gz', 'https://tcga-data.nci.nih.gov/tcgafiles/ftp_auth/distro_ftpusers/anonymous/tumor/blca/cgcc/jhu-usc.edu/humanmethylation450/methylation/jhu-usc.edu_BLCA.HumanMethylation450.Level_1.12.7.0.tar.gz', 'https://tcga-data.nci.nih.gov/tcgafiles/ftp_auth/distro_ftpusers/anonymous/tumor/blca/cgcc/jhu-usc.edu/humanmethylation450/methylation/jhu-usc.edu_BLCA.HumanMethylation450.Level_1.12.8.0.tar.gz', 'https://tcga-data.nci.nih.gov/tcgafiles/ftp_auth/distro_ftpusers/anonymous/tumor/blca/cgcc/jhu-usc.edu/humanmethylation450/methylation/jhu-usc.edu_BLCA.HumanMethylation450.Level_1.12.9.0.tar.gz', 'https://tcga-data.nci.nih.gov/tcgafiles/ftp_auth/distro_ftpusers/anonymous/tumor/blca/cgcc/jhu-usc.edu/humanmethylation450/methylation/jhu-usc.edu_BLCA.HumanMethylation450.Level_1.13.10.0.tar.gz', 'https://tcga-data.nci.nih.gov/tcgafiles/ftp_auth/distro_ftpusers/anonymous/tumor/blca/cgcc/jhu-usc.edu/humanmethylation450/methylation/jhu-usc.edu_BLCA.HumanMethylation450.Level_1.13.11.0.tar.gz', 'https://tcga-data.nci.nih.gov/tcgafiles/ftp_auth/distro_ftpusers/anonymous/tumor/blca/cgcc/jhu-usc.edu/humanmethylation450/methylation/jhu-usc.edu_BLCA.HumanMethylation450.Level_1.13.12.0.tar.gz', 'https://tcga-data.nci.nih.gov/tcgafiles/ftp_auth/distro_ftpusers/anonymous/tumor/blca/cgcc/jhu-usc.edu/humanmethylation450/methylation/jhu-usc.edu_BLCA.HumanMethylation450.Level_1.13.13.0.tar.gz', 'https://tcga-data.nci.nih.gov/tcgafiles/ftp_auth/distro_ftpusers/anonymous/tumor/blca/cgcc/jhu-usc.edu/humanmethylation450/methylation/jhu-usc.edu_BLCA.HumanMethylation450.Level_1.13.14.0.tar.gz', 'https://tcga-data.nci.nih.gov/tcgafiles/ftp_auth/distro_ftpusers/anonymous/tumor/blca/cgcc/jhu-usc.edu/humanmethylation450/methylation/jhu-usc.edu_BLCA.HumanMethylation450.Level_1.13.15.0.tar.gz', 'https://tcga-data.nci.nih.gov/tcgafiles/ftp_auth/distro_ftpusers/anonymous/tumor/blca/cgcc/jhu-usc.edu/humanmethylation450/methylation/jhu-usc.edu_BLCA.HumanMethylation450.Level_1.13.16.0.tar.gz', 'https://tcga-data.nci.nih.gov/tcgafiles/ftp_auth/distro_ftpusers/anonymous/tumor/blca/cgcc/jhu-usc.edu/humanmethylation450/methylation/jhu-usc.edu_BLCA.HumanMethylation450.Level_1.13.17.0.tar.gz', 'https://tcga-data.nci.nih.gov/tcgafiles/ftp_auth/distro_ftpusers/anonymous/tumor/blca/cgcc/jhu-usc.edu/humanmethylation450/methylation/jhu-usc.edu_BLCA.HumanMethylation450.Level_1.13.8.0.tar.gz', 'https://tcga-data.nci.nih.gov/tcgafiles/ftp_auth/distro_ftpusers/anonymous/tumor/blca/cgcc/jhu-usc.edu/humanmethylation450/methylation/jhu-usc.edu_BLCA.HumanMethylation450.Level_1.13.9.0.tar.gz', 'https://tcga-data.nci.nih.gov/tcgafiles/ftp_auth/distro_ftpusers/anonymous/tumor/blca/cgcc/jhu-usc.edu/humanmethylation450/methylation/jhu-usc.edu_BLCA.HumanMethylation450.Level_1.14.10.0.tar.gz', 'https://tcga-data.nci.nih.gov/tcgafiles/ftp_auth/distro_ftpusers/anonymous/tumor/blca/cgcc/jhu-usc.edu/humanmethylation450/methylation/jhu-usc.edu_BLCA.HumanMethylation450.Level_1.14.11.0.tar.gz', 'https://tcga-data.nci.nih.gov/tcgafiles/ftp_auth/distro_ftpusers/anonymous/tumor/blca/cgcc/jhu-usc.edu/humanmethylation450/methylation/jhu-usc.edu_BLCA.HumanMethylation450.Level_1.14.12.0.tar.gz', 'https://tcga-data.nci.nih.gov/tcgafiles/ftp_auth/distro_ftpusers/anonymous/tumor/blca/cgcc/jhu-usc.edu/humanmethylation450/methylation/jhu-usc.edu_BLCA.HumanMethylation450.Level_1.14.13.0.tar.gz', 'https://tcga-data.nci.nih.gov/tcgafiles/ftp_auth/distro_ftpusers/anonymous/tumor/blca/cgcc/jhu-usc.edu/humanmethylation450/methylation/jhu-usc.edu_BLCA.HumanMethylation450.Level_1.14.14.0.tar.gz', 'https://tcga-data.nci.nih.gov/tcgafiles/ftp_auth/distro_ftpusers/anonymous/tumor/blca/cgcc/jhu-usc.edu/humanmethylation450/methylation/jhu-usc.edu_BLCA.HumanMethylation450.Level_1.14.15.0.tar.gz', 'https://tcga-data.nci.nih.gov/tcgafiles/ftp_auth/distro_ftpusers/anonymous/tumor/blca/cgcc/jhu-usc.edu/humanmethylation450/methylation/jhu-usc.edu_BLCA.HumanMethylation450.Level_1.14.16.0.tar.gz', 'https://tcga-data.nci.nih.gov/tcgafiles/ftp_auth/distro_ftpusers/anonymous/tumor/blca/cgcc/jhu-usc.edu/humanmethylation450/methylation/jhu-usc.edu_BLCA.HumanMethylation450.Level_1.14.17.0.tar.gz', 'https://tcga-data.nci.nih.gov/tcgafiles/ftp_auth/distro_ftpusers/anonymous/tumor/blca/cgcc/jhu-usc.edu/humanmethylation450/methylation/jhu-usc.edu_BLCA.HumanMethylation450.Level_1.14.9.0.tar.gz', 'https://tcga-data.nci.nih.gov/tcgafiles/ftp_auth/distro_ftpusers/anonymous/tumor/blca/cgcc/jhu-usc.edu/humanmethylation450/methylation/jhu-usc.edu_BLCA.HumanMethylation450.Level_1.15.10.0.tar.gz', 'https://tcga-data.nci.nih.gov/tcgafiles/ftp_auth/distro_ftpusers/anonymous/tumor/blca/cgcc/jhu-usc.edu/humanmethylation450/methylation/jhu-usc.edu_BLCA.HumanMethylation450.Level_1.15.11.0.tar.gz', 'https://tcga-data.nci.nih.gov/tcgafiles/ftp_auth/distro_ftpusers/anonymous/tumor/blca/cgcc/jhu-usc.edu/humanmethylation450/methylation/jhu-usc.edu_BLCA.HumanMethylation450.Level_1.15.12.0.tar.gz', 'https://tcga-data.nci.nih.gov/tcgafiles/ftp_auth/distro_ftpusers/anonymous/tumor/blca/cgcc/jhu-usc.edu/humanmethylation450/methylation/jhu-usc.edu_BLCA.HumanMethylation450.Level_1.15.13.0.tar.gz', 'https://tcga-data.nci.nih.gov/tcgafiles/ftp_auth/distro_ftpusers/anonymous/tumor/blca/cgcc/jhu-usc.edu/humanmethylation450/methylation/jhu-usc.edu_BLCA.HumanMethylation450.Level_1.15.14.0.tar.gz', 'https://tcga-data.nci.nih.gov/tcgafiles/ftp_auth/distro_ftpusers/anonymous/tumor/blca/cgcc/jhu-usc.edu/humanmethylation450/methylation/jhu-usc.edu_BLCA.HumanMethylation450.Level_1.15.15.0.tar.gz', 'https://tcga-data.nci.nih.gov/tcgafiles/ftp_auth/distro_ftpusers/anonymous/tumor/blca/cgcc/jhu-usc.edu/humanmethylation450/methylation/jhu-usc.edu_BLCA.HumanMethylation450.Level_1.15.16.0.tar.gz', 'https://tcga-data.nci.nih.gov/tcgafiles/ftp_auth/distro_ftpusers/anonymous/tumor/blca/cgcc/jhu-usc.edu/humanmethylation450/methylation/jhu-usc.edu_BLCA.HumanMethylation450.Level_1.15.17.0.tar.gz', 'https://tcga-data.nci.nih.gov/tcgafiles/ftp_auth/distro_ftpusers/anonymous/tumor/blca/cgcc/jhu-usc.edu/humanmethylation450/methylation/jhu-usc.edu_BLCA.HumanMethylation450.Level_1.16.11.0.tar.gz', 'https://tcga-data.nci.nih.gov/tcgafiles/ftp_auth/distro_ftpusers/anonymous/tumor/blca/cgcc/jhu-usc.edu/humanmethylation450/methylation/jhu-usc.edu_BLCA.HumanMethylation450.Level_1.16.12.0.tar.gz', 'https://tcga-data.nci.nih.gov/tcgafiles/ftp_auth/distro_ftpusers/anonymous/tumor/blca/cgcc/jhu-usc.edu/humanmethylation450/methylation/jhu-usc.edu_BLCA.HumanMethylation450.Level_1.16.13.0.tar.gz', 'https://tcga-data.nci.nih.gov/tcgafiles/ftp_auth/distro_ftpusers/anonymous/tumor/blca/cgcc/jhu-usc.edu/humanmethylation450/methylation/jhu-usc.edu_BLCA.HumanMethylation450.Level_1.16.14.0.tar.gz', 'https://tcga-data.nci.nih.gov/tcgafiles/ftp_auth/distro_ftpusers/anonymous/tumor/blca/cgcc/jhu-usc.edu/humanmethylation450/methylation/jhu-usc.edu_BLCA.HumanMethylation450.Level_1.16.15.0.tar.gz', 'https://tcga-data.nci.nih.gov/tcgafiles/ftp_auth/distro_ftpusers/anonymous/tumor/blca/cgcc/jhu-usc.edu/humanmethylation450/methylation/jhu-usc.edu_BLCA.HumanMethylation450.Level_1.16.16.0.tar.gz', 'https://tcga-data.nci.nih.gov/tcgafiles/ftp_auth/distro_ftpusers/anonymous/tumor/blca/cgcc/jhu-usc.edu/humanmethylation450/methylation/jhu-usc.edu_BLCA.HumanMethylation450.Level_1.16.17.0.tar.gz', 'https://tcga-data.nci.nih.gov/tcgafiles/ftp_auth/distro_ftpusers/anonymous/tumor/blca/cgcc/jhu-usc.edu/humanmethylation450/methylation/jhu-usc.edu_BLCA.HumanMethylation450.Level_1.17.12.0.tar.gz', 'https://tcga-data.nci.nih.gov/tcgafiles/ftp_auth/distro_ftpusers/anonymous/tumor/blca/cgcc/jhu-usc.edu/humanmethylation450/methylation/jhu-usc.edu_BLCA.HumanMethylation450.Level_1.17.13.0.tar.gz', 'https://tcga-data.nci.nih.gov/tcgafiles/ftp_auth/distro_ftpusers/anonymous/tumor/blca/cgcc/jhu-usc.edu/humanmethylation450/methylation/jhu-usc.edu_BLCA.HumanMethylation450.Level_1.17.14.0.tar.gz', 'https://tcga-data.nci.nih.gov/tcgafiles/ftp_auth/distro_ftpusers/anonymous/tumor/blca/cgcc/jhu-usc.edu/humanmethylation450/methylation/jhu-usc.edu_BLCA.HumanMethylation450.Level_1.17.15.0.tar.gz', 'https://tcga-data.nci.nih.gov/tcgafiles/ftp_auth/distro_ftpusers/anonymous/tumor/blca/cgcc/jhu-usc.edu/humanmethylation450/methylation/jhu-usc.edu_BLCA.HumanMethylation450.Level_1.17.16.0.tar.gz', 'https://tcga-data.nci.nih.gov/tcgafiles/ftp_auth/distro_ftpusers/anonymous/tumor/blca/cgcc/jhu-usc.edu/humanmethylation450/methylation/jhu-usc.edu_BLCA.HumanMethylation450.Level_1.17.17.0.tar.gz', 'https://tcga-data.nci.nih.gov/tcgafiles/ftp_auth/distro_ftpusers/anonymous/tumor/blca/cgcc/jhu-usc.edu/humanmethylation450/methylation/jhu-usc.edu_BLCA.HumanMethylation450.Level_1.18.12.0.tar.gz', 'https://tcga-data.nci.nih.gov/tcgafiles/ftp_auth/distro_ftpusers/anonymous/tumor/blca/cgcc/jhu-usc.edu/humanmethylation450/methylation/jhu-usc.edu_BLCA.HumanMethylation450.Level_1.18.13.0.tar.gz', 'https://tcga-data.nci.nih.gov/tcgafiles/ftp_auth/distro_ftpusers/anonymous/tumor/blca/cgcc/jhu-usc.edu/humanmethylation450/methylation/jhu-usc.edu_BLCA.HumanMethylation450.Level_1.18.14.0.tar.gz', 'https://tcga-data.nci.nih.gov/tcgafiles/ftp_auth/distro_ftpusers/anonymous/tumor/blca/cgcc/jhu-usc.edu/humanmethylation450/methylation/jhu-usc.edu_BLCA.HumanMethylation450.Level_1.18.15.0.tar.gz', 'https://tcga-data.nci.nih.gov/tcgafiles/ftp_auth/distro_ftpusers/anonymous/tumor/blca/cgcc/jhu-usc.edu/humanmethylation450/methylation/jhu-usc.edu_BLCA.HumanMethylation450.Level_1.18.16.0.tar.gz', 'https://tcga-data.nci.nih.gov/tcgafiles/ftp_auth/distro_ftpusers/anonymous/tumor/blca/cgcc/jhu-usc.edu/humanmethylation450/methylation/jhu-usc.edu_BLCA.HumanMethylation450.Level_1.18.17.0.tar.gz', 'https://tcga-data.nci.nih.gov/tcgafiles/ftp_auth/distro_ftpusers/anonymous/tumor/blca/cgcc/jhu-usc.edu/humanmethylation450/methylation/jhu-usc.edu_BLCA.HumanMethylation450.Level_1.19.12.0.tar.gz', 'https://tcga-data.nci.nih.gov/tcgafiles/ftp_auth/distro_ftpusers/anonymous/tumor/blca/cgcc/jhu-usc.edu/humanmethylation450/methylation/jhu-usc.edu_BLCA.HumanMethylation450.Level_1.19.13.0.tar.gz', 'https://tcga-data.nci.nih.gov/tcgafiles/ftp_auth/distro_ftpusers/anonymous/tumor/blca/cgcc/jhu-usc.edu/humanmethylation450/methylation/jhu-usc.edu_BLCA.HumanMethylation450.Level_1.19.14.0.tar.gz', 'https://tcga-data.nci.nih.gov/tcgafiles/ftp_auth/distro_ftpusers/anonymous/tumor/blca/cgcc/jhu-usc.edu/humanmethylation450/methylation/jhu-usc.edu_BLCA.HumanMethylation450.Level_1.19.15.0.tar.gz', 'https://tcga-data.nci.nih.gov/tcgafiles/ftp_auth/distro_ftpusers/anonymous/tumor/blca/cgcc/jhu-usc.edu/humanmethylation450/methylation/jhu-usc.edu_BLCA.HumanMethylation450.Level_1.19.16.0.tar.gz', 'https://tcga-data.nci.nih.gov/tcgafiles/ftp_auth/distro_ftpusers/anonymous/tumor/blca/cgcc/jhu-usc.edu/humanmethylation450/methylation/jhu-usc.edu_BLCA.HumanMethylation450.Level_1.19.17.0.tar.gz', 'https://tcga-data.nci.nih.gov/tcgafiles/ftp_auth/distro_ftpusers/anonymous/tumor/blca/cgcc/jhu-usc.edu/humanmethylation450/methylation/jhu-usc.edu_BLCA.HumanMethylation450.Level_1.2.0.0.tar.gz', 'https://tcga-data.nci.nih.gov/tcgafiles/ftp_auth/distro_ftpusers/anonymous/tumor/blca/cgcc/jhu-usc.edu/humanmethylation450/methylation/jhu-usc.edu_BLCA.HumanMethylation450.Level_1.2.1.0.tar.gz', 'https://tcga-data.nci.nih.gov/tcgafiles/ftp_auth/distro_ftpusers/anonymous/tumor/blca/cgcc/jhu-usc.edu/humanmethylation450/methylation/jhu-usc.edu_BLCA.HumanMethylation450.Level_1.2.10.0.tar.gz', 'https://tcga-data.nci.nih.gov/tcgafiles/ftp_auth/distro_ftpusers/anonymous/tumor/blca/cgcc/jhu-usc.edu/humanmethylation450/methylation/jhu-usc.edu_BLCA.HumanMethylation450.Level_1.2.11.0.tar.gz', 'https://tcga-data.nci.nih.gov/tcgafiles/ftp_auth/distro_ftpusers/anonymous/tumor/blca/cgcc/jhu-usc.edu/humanmethylation450/methylation/jhu-usc.edu_BLCA.HumanMethylation450.Level_1.2.12.0.tar.gz', 'https://tcga-data.nci.nih.gov/tcgafiles/ftp_auth/distro_ftpusers/anonymous/tumor/blca/cgcc/jhu-usc.edu/humanmethylation450/methylation/jhu-usc.edu_BLCA.HumanMethylation450.Level_1.2.13.0.tar.gz', 'https://tcga-data.nci.nih.gov/tcgafiles/ftp_auth/distro_ftpusers/anonymous/tumor/blca/cgcc/jhu-usc.edu/humanmethylation450/methylation/jhu-usc.edu_BLCA.HumanMethylation450.Level_1.2.14.0.tar.gz', 'https://tcga-data.nci.nih.gov/tcgafiles/ftp_auth/distro_ftpusers/anonymous/tumor/blca/cgcc/jhu-usc.edu/humanmethylation450/methylation/jhu-usc.edu_BLCA.HumanMethylation450.Level_1.2.15.0.tar.gz', 'https://tcga-data.nci.nih.gov/tcgafiles/ftp_auth/distro_ftpusers/anonymous/tumor/blca/cgcc/jhu-usc.edu/humanmethylation450/methylation/jhu-usc.edu_BLCA.HumanMethylation450.Level_1.2.16.0.tar.gz', 'https://tcga-data.nci.nih.gov/tcgafiles/ftp_auth/distro_ftpusers/anonymous/tumor/blca/cgcc/jhu-usc.edu/humanmethylation450/methylation/jhu-usc.edu_BLCA.HumanMethylation450.Level_1.2.17.0.tar.gz', 'https://tcga-data.nci.nih.gov/tcgafiles/ftp_auth/distro_ftpusers/anonymous/tumor/blca/cgcc/jhu-usc.edu/humanmethylation450/methylation/jhu-usc.edu_BLCA.HumanMethylation450.Level_1.2.2.0.tar.gz', 'https://tcga-data.nci.nih.gov/tcgafiles/ftp_auth/distro_ftpusers/anonymous/tumor/blca/cgcc/jhu-usc.edu/humanmethylation450/methylation/jhu-usc.edu_BLCA.HumanMethylation450.Level_1.2.3.0.tar.gz', 'https://tcga-data.nci.nih.gov/tcgafiles/ftp_auth/distro_ftpusers/anonymous/tumor/blca/cgcc/jhu-usc.edu/humanmethylation450/methylation/jhu-usc.edu_BLCA.HumanMethylation450.Level_1.2.4.0.tar.gz', 'https://tcga-data.nci.nih.gov/tcgafiles/ftp_auth/distro_ftpusers/anonymous/tumor/blca/cgcc/jhu-usc.edu/humanmethylation450/methylation/jhu-usc.edu_BLCA.HumanMethylation450.Level_1.2.5.0.tar.gz', 'https://tcga-data.nci.nih.gov/tcgafiles/ftp_auth/distro_ftpusers/anonymous/tumor/blca/cgcc/jhu-usc.edu/humanmethylation450/methylation/jhu-usc.edu_BLCA.HumanMethylation450.Level_1.2.6.0.tar.gz', 'https://tcga-data.nci.nih.gov/tcgafiles/ftp_auth/distro_ftpusers/anonymous/tumor/blca/cgcc/jhu-usc.edu/humanmethylation450/methylation/jhu-usc.edu_BLCA.HumanMethylation450.Level_1.2.7.0.tar.gz', 'https://tcga-data.nci.nih.gov/tcgafiles/ftp_auth/distro_ftpusers/anonymous/tumor/blca/cgcc/jhu-usc.edu/humanmethylation450/methylation/jhu-usc.edu_BLCA.HumanMethylation450.Level_1.2.8.0.tar.gz', 'https://tcga-data.nci.nih.gov/tcgafiles/ftp_auth/distro_ftpusers/anonymous/tumor/blca/cgcc/jhu-usc.edu/humanmethylation450/methylation/jhu-usc.edu_BLCA.HumanMethylation450.Level_1.2.9.0.tar.gz', 'https://tcga-data.nci.nih.gov/tcgafiles/ftp_auth/distro_ftpusers/anonymous/tumor/blca/cgcc/jhu-usc.edu/humanmethylation450/methylation/jhu-usc.edu_BLCA.HumanMethylation450.Level_1.20.13.0.tar.gz', 'https://tcga-data.nci.nih.gov/tcgafiles/ftp_auth/distro_ftpusers/anonymous/tumor/blca/cgcc/jhu-usc.edu/humanmethylation450/methylation/jhu-usc.edu_BLCA.HumanMethylation450.Level_1.20.14.0.tar.gz', 'https://tcga-data.nci.nih.gov/tcgafiles/ftp_auth/distro_ftpusers/anonymous/tumor/blca/cgcc/jhu-usc.edu/humanmethylation450/methylation/jhu-usc.edu_BLCA.HumanMethylation450.Level_1.20.15.0.tar.gz', 'https://tcga-data.nci.nih.gov/tcgafiles/ftp_auth/distro_ftpusers/anonymous/tumor/blca/cgcc/jhu-usc.edu/humanmethylation450/methylation/jhu-usc.edu_BLCA.HumanMethylation450.Level_1.20.16.0.tar.gz', 'https://tcga-data.nci.nih.gov/tcgafiles/ftp_auth/distro_ftpusers/anonymous/tumor/blca/cgcc/jhu-usc.edu/humanmethylation450/methylation/jhu-usc.edu_BLCA.HumanMethylation450.Level_1.20.17.0.tar.gz', 'https://tcga-data.nci.nih.gov/tcgafiles/ftp_auth/distro_ftpusers/anonymous/tumor/blca/cgcc/jhu-usc.edu/humanmethylation450/methylation/jhu-usc.edu_BLCA.HumanMethylation450.Level_1.21.14.0.tar.gz', 'https://tcga-data.nci.nih.gov/tcgafiles/ftp_auth/distro_ftpusers/anonymous/tumor/blca/cgcc/jhu-usc.edu/humanmethylation450/methylation/jhu-usc.edu_BLCA.HumanMethylation450.Level_1.21.15.0.tar.gz', 'https://tcga-data.nci.nih.gov/tcgafiles/ftp_auth/distro_ftpusers/anonymous/tumor/blca/cgcc/jhu-usc.edu/humanmethylation450/methylation/jhu-usc.edu_BLCA.HumanMethylation450.Level_1.21.16.0.tar.gz', 'https://tcga-data.nci.nih.gov/tcgafiles/ftp_auth/distro_ftpusers/anonymous/tumor/blca/cgcc/jhu-usc.edu/humanmethylation450/methylation/jhu-usc.edu_BLCA.HumanMethylation450.Level_1.21.17.0.tar.gz', 'https://tcga-data.nci.nih.gov/tcgafiles/ftp_auth/distro_ftpusers/anonymous/tumor/blca/cgcc/jhu-usc.edu/humanmethylation450/methylation/jhu-usc.edu_BLCA.HumanMethylation450.Level_1.22.15.0.tar.gz', 'https://tcga-data.nci.nih.gov/tcgafiles/ftp_auth/distro_ftpusers/anonymous/tumor/blca/cgcc/jhu-usc.edu/humanmethylation450/methylation/jhu-usc.edu_BLCA.HumanMethylation450.Level_1.22.16.0.tar.gz', 'https://tcga-data.nci.nih.gov/tcgafiles/ftp_auth/distro_ftpusers/anonymous/tumor/blca/cgcc/jhu-usc.edu/humanmethylation450/methylation/jhu-usc.edu_BLCA.HumanMethylation450.Level_1.22.17.0.tar.gz', 'https://tcga-data.nci.nih.gov/tcgafiles/ftp_auth/distro_ftpusers/anonymous/tumor/blca/cgcc/jhu-usc.edu/humanmethylation450/methylation/jhu-usc.edu_BLCA.HumanMethylation450.Level_1.23.16.0.tar.gz', 'https://tcga-data.nci.nih.gov/tcgafiles/ftp_auth/distro_ftpusers/anonymous/tumor/blca/cgcc/jhu-usc.edu/humanmethylation450/methylation/jhu-usc.edu_BLCA.HumanMethylation450.Level_1.23.17.0.tar.gz', 'https://tcga-data.nci.nih.gov/tcgafiles/ftp_auth/distro_ftpusers/anonymous/tumor/blca/cgcc/jhu-usc.edu/humanmethylation450/methylation/jhu-usc.edu_BLCA.HumanMethylation450.Level_1.24.17.0.tar.gz', 'https://tcga-data.nci.nih.gov/tcgafiles/ftp_auth/distro_ftpusers/anonymous/tumor/blca/cgcc/jhu-usc.edu/humanmethylation450/methylation/jhu-usc.edu_BLCA.HumanMethylation450.Level_1.3.0.0.tar.gz', 'https://tcga-data.nci.nih.gov/tcgafiles/ftp_auth/distro_ftpusers/anonymous/tumor/blca/cgcc/jhu-usc.edu/humanmethylation450/methylation/jhu-usc.edu_BLCA.HumanMethylation450.Level_1.3.1.0.tar.gz', 'https://tcga-data.nci.nih.gov/tcgafiles/ftp_auth/distro_ftpusers/anonymous/tumor/blca/cgcc/jhu-usc.edu/humanmethylation450/methylation/jhu-usc.edu_BLCA.HumanMethylation450.Level_1.3.10.0.tar.gz', 'https://tcga-data.nci.nih.gov/tcgafiles/ftp_auth/distro_ftpusers/anonymous/tumor/blca/cgcc/jhu-usc.edu/humanmethylation450/methylation/jhu-usc.edu_BLCA.HumanMethylation450.Level_1.3.11.0.tar.gz', 'https://tcga-data.nci.nih.gov/tcgafiles/ftp_auth/distro_ftpusers/anonymous/tumor/blca/cgcc/jhu-usc.edu/humanmethylation450/methylation/jhu-usc.edu_BLCA.HumanMethylation450.Level_1.3.12.0.tar.gz', 'https://tcga-data.nci.nih.gov/tcgafiles/ftp_auth/distro_ftpusers/anonymous/tumor/blca/cgcc/jhu-usc.edu/humanmethylation450/methylation/jhu-usc.edu_BLCA.HumanMethylation450.Level_1.3.13.0.tar.gz', 'https://tcga-data.nci.nih.gov/tcgafiles/ftp_auth/distro_ftpusers/anonymous/tumor/blca/cgcc/jhu-usc.edu/humanmethylation450/methylation/jhu-usc.edu_BLCA.HumanMethylation450.Level_1.3.14.0.tar.gz', 'https://tcga-data.nci.nih.gov/tcgafiles/ftp_auth/distro_ftpusers/anonymous/tumor/blca/cgcc/jhu-usc.edu/humanmethylation450/methylation/jhu-usc.edu_BLCA.HumanMethylation450.Level_1.3.15.0.tar.gz', 'https://tcga-data.nci.nih.gov/tcgafiles/ftp_auth/distro_ftpusers/anonymous/tumor/blca/cgcc/jhu-usc.edu/humanmethylation450/methylation/jhu-usc.edu_BLCA.HumanMethylation450.Level_1.3.16.0.tar.gz', 'https://tcga-data.nci.nih.gov/tcgafiles/ftp_auth/distro_ftpusers/anonymous/tumor/blca/cgcc/jhu-usc.edu/humanmethylation450/methylation/jhu-usc.edu_BLCA.HumanMethylation450.Level_1.3.17.0.tar.gz', 'https://tcga-data.nci.nih.gov/tcgafiles/ftp_auth/distro_ftpusers/anonymous/tumor/blca/cgcc/jhu-usc.edu/humanmethylation450/methylation/jhu-usc.edu_BLCA.HumanMethylation450.Level_1.3.2.0.tar.gz', 'https://tcga-data.nci.nih.gov/tcgafiles/ftp_auth/distro_ftpusers/anonymous/tumor/blca/cgcc/jhu-usc.edu/humanmethylation450/methylation/jhu-usc.edu_BLCA.HumanMethylation450.Level_1.3.3.0.tar.gz', 'https://tcga-data.nci.nih.gov/tcgafiles/ftp_auth/distro_ftpusers/anonymous/tumor/blca/cgcc/jhu-usc.edu/humanmethylation450/methylation/jhu-usc.edu_BLCA.HumanMethylation450.Level_1.3.4.0.tar.gz', 'https://tcga-data.nci.nih.gov/tcgafiles/ftp_auth/distro_ftpusers/anonymous/tumor/blca/cgcc/jhu-usc.edu/humanmethylation450/methylation/jhu-usc.edu_BLCA.HumanMethylation450.Level_1.3.5.0.tar.gz', 'https://tcga-data.nci.nih.gov/tcgafiles/ftp_auth/distro_ftpusers/anonymous/tumor/blca/cgcc/jhu-usc.edu/humanmethylation450/methylation/jhu-usc.edu_BLCA.HumanMethylation450.Level_1.3.6.0.tar.gz', 'https://tcga-data.nci.nih.gov/tcgafiles/ftp_auth/distro_ftpusers/anonymous/tumor/blca/cgcc/jhu-usc.edu/humanmethylation450/methylation/jhu-usc.edu_BLCA.HumanMethylation450.Level_1.3.7.0.tar.gz', 'https://tcga-data.nci.nih.gov/tcgafiles/ftp_auth/distro_ftpusers/anonymous/tumor/blca/cgcc/jhu-usc.edu/humanmethylation450/methylation/jhu-usc.edu_BLCA.HumanMethylation450.Level_1.3.8.0.tar.gz', 'https://tcga-data.nci.nih.gov/tcgafiles/ftp_auth/distro_ftpusers/anonymous/tumor/blca/cgcc/jhu-usc.edu/humanmethylation450/methylation/jhu-usc.edu_BLCA.HumanMethylation450.Level_1.3.9.0.tar.gz', 'https://tcga-data.nci.nih.gov/tcgafiles/ftp_auth/distro_ftpusers/anonymous/tumor/blca/cgcc/jhu-usc.edu/humanmethylation450/methylation/jhu-usc.edu_BLCA.HumanMethylation450.Level_1.4.0.0.tar.gz', 'https://tcga-data.nci.nih.gov/tcgafiles/ftp_auth/distro_ftpusers/anonymous/tumor/blca/cgcc/jhu-usc.edu/humanmethylation450/methylation/jhu-usc.edu_BLCA.HumanMethylation450.Level_1.4.1.0.tar.gz', 'https://tcga-data.nci.nih.gov/tcgafiles/ftp_auth/distro_ftpusers/anonymous/tumor/blca/cgcc/jhu-usc.edu/humanmethylation450/methylation/jhu-usc.edu_BLCA.HumanMethylation450.Level_1.4.10.0.tar.gz', 'https://tcga-data.nci.nih.gov/tcgafiles/ftp_auth/distro_ftpusers/anonymous/tumor/blca/cgcc/jhu-usc.edu/humanmethylation450/methylation/jhu-usc.edu_BLCA.HumanMethylation450.Level_1.4.11.0.tar.gz', 'https://tcga-data.nci.nih.gov/tcgafiles/ftp_auth/distro_ftpusers/anonymous/tumor/blca/cgcc/jhu-usc.edu/humanmethylation450/methylation/jhu-usc.edu_BLCA.HumanMethylation450.Level_1.4.12.0.tar.gz', 'https://tcga-data.nci.nih.gov/tcgafiles/ftp_auth/distro_ftpusers/anonymous/tumor/blca/cgcc/jhu-usc.edu/humanmethylation450/methylation/jhu-usc.edu_BLCA.HumanMethylation450.Level_1.4.13.0.tar.gz', 'https://tcga-data.nci.nih.gov/tcgafiles/ftp_auth/distro_ftpusers/anonymous/tumor/blca/cgcc/jhu-usc.edu/humanmethylation450/methylation/jhu-usc.edu_BLCA.HumanMethylation450.Level_1.4.14.0.tar.gz', 'https://tcga-data.nci.nih.gov/tcgafiles/ftp_auth/distro_ftpusers/anonymous/tumor/blca/cgcc/jhu-usc.edu/humanmethylation450/methylation/jhu-usc.edu_BLCA.HumanMethylation450.Level_1.4.15.0.tar.gz', 'https://tcga-data.nci.nih.gov/tcgafiles/ftp_auth/distro_ftpusers/anonymous/tumor/blca/cgcc/jhu-usc.edu/humanmethylation450/methylation/jhu-usc.edu_BLCA.HumanMethylation450.Level_1.4.16.0.tar.gz', 'https://tcga-data.nci.nih.gov/tcgafiles/ftp_auth/distro_ftpusers/anonymous/tumor/blca/cgcc/jhu-usc.edu/humanmethylation450/methylation/jhu-usc.edu_BLCA.HumanMethylation450.Level_1.4.17.0.tar.gz', 'https://tcga-data.nci.nih.gov/tcgafiles/ftp_auth/distro_ftpusers/anonymous/tumor/blca/cgcc/jhu-usc.edu/humanmethylation450/methylation/jhu-usc.edu_BLCA.HumanMethylation450.Level_1.4.2.0.tar.gz', 'https://tcga-data.nci.nih.gov/tcgafiles/ftp_auth/distro_ftpusers/anonymous/tumor/blca/cgcc/jhu-usc.edu/humanmethylation450/methylation/jhu-usc.edu_BLCA.HumanMethylation450.Level_1.4.3.0.tar.gz', 'https://tcga-data.nci.nih.gov/tcgafiles/ftp_auth/distro_ftpusers/anonymous/tumor/blca/cgcc/jhu-usc.edu/humanmethylation450/methylation/jhu-usc.edu_BLCA.HumanMethylation450.Level_1.4.4.0.tar.gz', 'https://tcga-data.nci.nih.gov/tcgafiles/ftp_auth/distro_ftpusers/anonymous/tumor/blca/cgcc/jhu-usc.edu/humanmethylation450/methylation/jhu-usc.edu_BLCA.HumanMethylation450.Level_1.4.5.0.tar.gz', 'https://tcga-data.nci.nih.gov/tcgafiles/ftp_auth/distro_ftpusers/anonymous/tumor/blca/cgcc/jhu-usc.edu/humanmethylation450/methylation/jhu-usc.edu_BLCA.HumanMethylation450.Level_1.4.6.0.tar.gz', 'https://tcga-data.nci.nih.gov/tcgafiles/ftp_auth/distro_ftpusers/anonymous/tumor/blca/cgcc/jhu-usc.edu/humanmethylation450/methylation/jhu-usc.edu_BLCA.HumanMethylation450.Level_1.4.7.0.tar.gz', 'https://tcga-data.nci.nih.gov/tcgafiles/ftp_auth/distro_ftpusers/anonymous/tumor/blca/cgcc/jhu-usc.edu/humanmethylation450/methylation/jhu-usc.edu_BLCA.HumanMethylation450.Level_1.4.8.0.tar.gz', 'https://tcga-data.nci.nih.gov/tcgafiles/ftp_auth/distro_ftpusers/anonymous/tumor/blca/cgcc/jhu-usc.edu/humanmethylation450/methylation/jhu-usc.edu_BLCA.HumanMethylation450.Level_1.4.9.0.tar.gz', 'https://tcga-data.nci.nih.gov/tcgafiles/ftp_auth/distro_ftpusers/anonymous/tumor/blca/cgcc/jhu-usc.edu/humanmethylation450/methylation/jhu-usc.edu_BLCA.HumanMethylation450.Level_1.5.1.0.tar.gz', 'https://tcga-data.nci.nih.gov/tcgafiles/ftp_auth/distro_ftpusers/anonymous/tumor/blca/cgcc/jhu-usc.edu/humanmethylation450/methylation/jhu-usc.edu_BLCA.HumanMethylation450.Level_1.5.10.0.tar.gz', 'https://tcga-data.nci.nih.gov/tcgafiles/ftp_auth/distro_ftpusers/anonymous/tumor/blca/cgcc/jhu-usc.edu/humanmethylation450/methylation/jhu-usc.edu_BLCA.HumanMethylation450.Level_1.5.11.0.tar.gz', 'https://tcga-data.nci.nih.gov/tcgafiles/ftp_auth/distro_ftpusers/anonymous/tumor/blca/cgcc/jhu-usc.edu/humanmethylation450/methylation/jhu-usc.edu_BLCA.HumanMethylation450.Level_1.5.12.0.tar.gz', 'https://tcga-data.nci.nih.gov/tcgafiles/ftp_auth/distro_ftpusers/anonymous/tumor/blca/cgcc/jhu-usc.edu/humanmethylation450/methylation/jhu-usc.edu_BLCA.HumanMethylation450.Level_1.5.13.0.tar.gz', 'https://tcga-data.nci.nih.gov/tcgafiles/ftp_auth/distro_ftpusers/anonymous/tumor/blca/cgcc/jhu-usc.edu/humanmethylation450/methylation/jhu-usc.edu_BLCA.HumanMethylation450.Level_1.5.14.0.tar.gz', 'https://tcga-data.nci.nih.gov/tcgafiles/ftp_auth/distro_ftpusers/anonymous/tumor/blca/cgcc/jhu-usc.edu/humanmethylation450/methylation/jhu-usc.edu_BLCA.HumanMethylation450.Level_1.5.15.0.tar.gz', 'https://tcga-data.nci.nih.gov/tcgafiles/ftp_auth/distro_ftpusers/anonymous/tumor/blca/cgcc/jhu-usc.edu/humanmethylation450/methylation/jhu-usc.edu_BLCA.HumanMethylation450.Level_1.5.16.0.tar.gz', 'https://tcga-data.nci.nih.gov/tcgafiles/ftp_auth/distro_ftpusers/anonymous/tumor/blca/cgcc/jhu-usc.edu/humanmethylation450/methylation/jhu-usc.edu_BLCA.HumanMethylation450.Level_1.5.17.0.tar.gz', 'https://tcga-data.nci.nih.gov/tcgafiles/ftp_auth/distro_ftpusers/anonymous/tumor/blca/cgcc/jhu-usc.edu/humanmethylation450/methylation/jhu-usc.edu_BLCA.HumanMethylation450.Level_1.5.2.0.tar.gz', 'https://tcga-data.nci.nih.gov/tcgafiles/ftp_auth/distro_ftpusers/anonymous/tumor/blca/cgcc/jhu-usc.edu/humanmethylation450/methylation/jhu-usc.edu_BLCA.HumanMethylation450.Level_1.5.3.0.tar.gz', 'https://tcga-data.nci.nih.gov/tcgafiles/ftp_auth/distro_ftpusers/anonymous/tumor/blca/cgcc/jhu-usc.edu/humanmethylation450/methylation/jhu-usc.edu_BLCA.HumanMethylation450.Level_1.5.4.0.tar.gz', 'https://tcga-data.nci.nih.gov/tcgafiles/ftp_auth/distro_ftpusers/anonymous/tumor/blca/cgcc/jhu-usc.edu/humanmethylation450/methylation/jhu-usc.edu_BLCA.HumanMethylation450.Level_1.5.5.0.tar.gz', 'https://tcga-data.nci.nih.gov/tcgafiles/ftp_auth/distro_ftpusers/anonymous/tumor/blca/cgcc/jhu-usc.edu/humanmethylation450/methylation/jhu-usc.edu_BLCA.HumanMethylation450.Level_1.5.6.0.tar.gz', 'https://tcga-data.nci.nih.gov/tcgafiles/ftp_auth/distro_ftpusers/anonymous/tumor/blca/cgcc/jhu-usc.edu/humanmethylation450/methylation/jhu-usc.edu_BLCA.HumanMethylation450.Level_1.5.7.0.tar.gz', 'https://tcga-data.nci.nih.gov/tcgafiles/ftp_auth/distro_ftpusers/anonymous/tumor/blca/cgcc/jhu-usc.edu/humanmethylation450/methylation/jhu-usc.edu_BLCA.HumanMethylation450.Level_1.5.8.0.tar.gz', 'https://tcga-data.nci.nih.gov/tcgafiles/ftp_auth/distro_ftpusers/anonymous/tumor/blca/cgcc/jhu-usc.edu/humanmethylation450/methylation/jhu-usc.edu_BLCA.HumanMethylation450.Level_1.5.9.0.tar.gz', 'https://tcga-data.nci.nih.gov/tcgafiles/ftp_auth/distro_ftpusers/anonymous/tumor/blca/cgcc/jhu-usc.edu/humanmethylation450/methylation/jhu-usc.edu_BLCA.HumanMethylation450.Level_1.6.1.0.tar.gz', 'https://tcga-data.nci.nih.gov/tcgafiles/ftp_auth/distro_ftpusers/anonymous/tumor/blca/cgcc/jhu-usc.edu/humanmethylation450/methylation/jhu-usc.edu_BLCA.HumanMethylation450.Level_1.6.10.0.tar.gz', 'https://tcga-data.nci.nih.gov/tcgafiles/ftp_auth/distro_ftpusers/anonymous/tumor/blca/cgcc/jhu-usc.edu/humanmethylation450/methylation/jhu-usc.edu_BLCA.HumanMethylation450.Level_1.6.11.0.tar.gz', 'https://tcga-data.nci.nih.gov/tcgafiles/ftp_auth/distro_ftpusers/anonymous/tumor/blca/cgcc/jhu-usc.edu/humanmethylation450/methylation/jhu-usc.edu_BLCA.HumanMethylation450.Level_1.6.12.0.tar.gz', 'https://tcga-data.nci.nih.gov/tcgafiles/ftp_auth/distro_ftpusers/anonymous/tumor/blca/cgcc/jhu-usc.edu/humanmethylation450/methylation/jhu-usc.edu_BLCA.HumanMethylation450.Level_1.6.13.0.tar.gz', 'https://tcga-data.nci.nih.gov/tcgafiles/ftp_auth/distro_ftpusers/anonymous/tumor/blca/cgcc/jhu-usc.edu/humanmethylation450/methylation/jhu-usc.edu_BLCA.HumanMethylation450.Level_1.6.14.0.tar.gz', 'https://tcga-data.nci.nih.gov/tcgafiles/ftp_auth/distro_ftpusers/anonymous/tumor/blca/cgcc/jhu-usc.edu/humanmethylation450/methylation/jhu-usc.edu_BLCA.HumanMethylation450.Level_1.6.15.0.tar.gz', 'https://tcga-data.nci.nih.gov/tcgafiles/ftp_auth/distro_ftpusers/anonymous/tumor/blca/cgcc/jhu-usc.edu/humanmethylation450/methylation/jhu-usc.edu_BLCA.HumanMethylation450.Level_1.6.16.0.tar.gz', 'https://tcga-data.nci.nih.gov/tcgafiles/ftp_auth/distro_ftpusers/anonymous/tumor/blca/cgcc/jhu-usc.edu/humanmethylation450/methylation/jhu-usc.edu_BLCA.HumanMethylation450.Level_1.6.17.0.tar.gz', 'https://tcga-data.nci.nih.gov/tcgafiles/ftp_auth/distro_ftpusers/anonymous/tumor/blca/cgcc/jhu-usc.edu/humanmethylation450/methylation/jhu-usc.edu_BLCA.HumanMethylation450.Level_1.6.2.0.tar.gz', 'https://tcga-data.nci.nih.gov/tcgafiles/ftp_auth/distro_ftpusers/anonymous/tumor/blca/cgcc/jhu-usc.edu/humanmethylation450/methylation/jhu-usc.edu_BLCA.HumanMethylation450.Level_1.6.3.0.tar.gz', 'https://tcga-data.nci.nih.gov/tcgafiles/ftp_auth/distro_ftpusers/anonymous/tumor/blca/cgcc/jhu-usc.edu/humanmethylation450/methylation/jhu-usc.edu_BLCA.HumanMethylation450.Level_1.6.4.0.tar.gz', 'https://tcga-data.nci.nih.gov/tcgafiles/ftp_auth/distro_ftpusers/anonymous/tumor/blca/cgcc/jhu-usc.edu/humanmethylation450/methylation/jhu-usc.edu_BLCA.HumanMethylation450.Level_1.6.5.0.tar.gz', 'https://tcga-data.nci.nih.gov/tcgafiles/ftp_auth/distro_ftpusers/anonymous/tumor/blca/cgcc/jhu-usc.edu/humanmethylation450/methylation/jhu-usc.edu_BLCA.HumanMethylation450.Level_1.6.6.0.tar.gz', 'https://tcga-data.nci.nih.gov/tcgafiles/ftp_auth/distro_ftpusers/anonymous/tumor/blca/cgcc/jhu-usc.edu/humanmethylation450/methylation/jhu-usc.edu_BLCA.HumanMethylation450.Level_1.6.7.0.tar.gz', 'https://tcga-data.nci.nih.gov/tcgafiles/ftp_auth/distro_ftpusers/anonymous/tumor/blca/cgcc/jhu-usc.edu/humanmethylation450/methylation/jhu-usc.edu_BLCA.HumanMethylation450.Level_1.6.8.0.tar.gz', 'https://tcga-data.nci.nih.gov/tcgafiles/ftp_auth/distro_ftpusers/anonymous/tumor/blca/cgcc/jhu-usc.edu/humanmethylation450/methylation/jhu-usc.edu_BLCA.HumanMethylation450.Level_1.6.9.0.tar.gz', 'https://tcga-data.nci.nih.gov/tcgafiles/ftp_auth/distro_ftpusers/anonymous/tumor/blca/cgcc/jhu-usc.edu/humanmethylation450/methylation/jhu-usc.edu_BLCA.HumanMethylation450.Level_1.7.10.0.tar.gz', 'https://tcga-data.nci.nih.gov/tcgafiles/ftp_auth/distro_ftpusers/anonymous/tumor/blca/cgcc/jhu-usc.edu/humanmethylation450/methylation/jhu-usc.edu_BLCA.HumanMethylation450.Level_1.7.11.0.tar.gz', 'https://tcga-data.nci.nih.gov/tcgafiles/ftp_auth/distro_ftpusers/anonymous/tumor/blca/cgcc/jhu-usc.edu/humanmethylation450/methylation/jhu-usc.edu_BLCA.HumanMethylation450.Level_1.7.12.0.tar.gz', 'https://tcga-data.nci.nih.gov/tcgafiles/ftp_auth/distro_ftpusers/anonymous/tumor/blca/cgcc/jhu-usc.edu/humanmethylation450/methylation/jhu-usc.edu_BLCA.HumanMethylation450.Level_1.7.13.0.tar.gz', 'https://tcga-data.nci.nih.gov/tcgafiles/ftp_auth/distro_ftpusers/anonymous/tumor/blca/cgcc/jhu-usc.edu/humanmethylation450/methylation/jhu-usc.edu_BLCA.HumanMethylation450.Level_1.7.14.0.tar.gz', 'https://tcga-data.nci.nih.gov/tcgafiles/ftp_auth/distro_ftpusers/anonymous/tumor/blca/cgcc/jhu-usc.edu/humanmethylation450/methylation/jhu-usc.edu_BLCA.HumanMethylation450.Level_1.7.15.0.tar.gz', 'https://tcga-data.nci.nih.gov/tcgafiles/ftp_auth/distro_ftpusers/anonymous/tumor/blca/cgcc/jhu-usc.edu/humanmethylation450/methylation/jhu-usc.edu_BLCA.HumanMethylation450.Level_1.7.16.0.tar.gz', 'https://tcga-data.nci.nih.gov/tcgafiles/ftp_auth/distro_ftpusers/anonymous/tumor/blca/cgcc/jhu-usc.edu/humanmethylation450/methylation/jhu-usc.edu_BLCA.HumanMethylation450.Level_1.7.17.0.tar.gz', 'https://tcga-data.nci.nih.gov/tcgafiles/ftp_auth/distro_ftpusers/anonymous/tumor/blca/cgcc/jhu-usc.edu/humanmethylation450/methylation/jhu-usc.edu_BLCA.HumanMethylation450.Level_1.7.2.0.tar.gz', 'https://tcga-data.nci.nih.gov/tcgafiles/ftp_auth/distro_ftpusers/anonymous/tumor/blca/cgcc/jhu-usc.edu/humanmethylation450/methylation/jhu-usc.edu_BLCA.HumanMethylation450.Level_1.7.3.0.tar.gz', 'https://tcga-data.nci.nih.gov/tcgafiles/ftp_auth/distro_ftpusers/anonymous/tumor/blca/cgcc/jhu-usc.edu/humanmethylation450/methylation/jhu-usc.edu_BLCA.HumanMethylation450.Level_1.7.4.0.tar.gz', 'https://tcga-data.nci.nih.gov/tcgafiles/ftp_auth/distro_ftpusers/anonymous/tumor/blca/cgcc/jhu-usc.edu/humanmethylation450/methylation/jhu-usc.edu_BLCA.HumanMethylation450.Level_1.7.5.0.tar.gz', 'https://tcga-data.nci.nih.gov/tcgafiles/ftp_auth/distro_ftpusers/anonymous/tumor/blca/cgcc/jhu-usc.edu/humanmethylation450/methylation/jhu-usc.edu_BLCA.HumanMethylation450.Level_1.7.6.0.tar.gz']]"
       ]
      }
     ]
    },
    {
     "cell_type": "markdown",
     "metadata": {},
     "source": [
      "<b>Get Tar Links</b>"
     ]
    },
    {
     "cell_type": "markdown",
     "metadata": {},
     "source": [
      "* reduces list so that it can be in singular format to load into pandas"
     ]
    },
    {
     "cell_type": "code",
     "collapsed": false,
     "input": [
      "tar_links = reduce(lambda x,y: x+y, tar_links)\n",
      "tar_links"
     ],
     "language": "python",
     "metadata": {},
     "outputs": [
      {
       "metadata": {},
       "output_type": "pyout",
       "prompt_number": 11,
       "text": [
        "['https://tcga-data.nci.nih.gov/tcgafiles/ftp_auth/distro_ftpusers/anonymous/tumor/acc/cgcc/jhu-usc.edu/humanmethylation450/methylation/jhu-usc.edu_ACC.HumanMethylation450.Level_1.1.0.0.tar.gz',\n",
        " 'https://tcga-data.nci.nih.gov/tcgafiles/ftp_auth/distro_ftpusers/anonymous/tumor/acc/cgcc/jhu-usc.edu/humanmethylation450/methylation/jhu-usc.edu_ACC.HumanMethylation450.aux.1.0.0.tar.gz',\n",
        " 'https://tcga-data.nci.nih.gov/tcgafiles/ftp_auth/distro_ftpusers/anonymous/tumor/acc/cgcc/jhu-usc.edu/humanmethylation450/methylation/jhu-usc.edu_ACC.HumanMethylation450.mage-tab.1.0.0.tar.gz',\n",
        " 'https://tcga-data.nci.nih.gov/tcgafiles/ftp_auth/distro_ftpusers/anonymous/tumor/laml/cgcc/jhu-usc.edu/humanmethylation450/methylation/jhu-usc.edu_LAML.HumanMethylation450.Level_1.2.4.0.tar.gz',\n",
        " 'https://tcga-data.nci.nih.gov/tcgafiles/ftp_auth/distro_ftpusers/anonymous/tumor/laml/cgcc/jhu-usc.edu/humanmethylation450/methylation/jhu-usc.edu_LAML.HumanMethylation450.Level_1.2.5.0.tar.gz',\n",
        " 'https://tcga-data.nci.nih.gov/tcgafiles/ftp_auth/distro_ftpusers/anonymous/tumor/laml/cgcc/jhu-usc.edu/humanmethylation450/methylation/jhu-usc.edu_LAML.HumanMethylation450.aux.2.0.0.tar.gz',\n",
        " 'https://tcga-data.nci.nih.gov/tcgafiles/ftp_auth/distro_ftpusers/anonymous/tumor/laml/cgcc/jhu-usc.edu/humanmethylation450/methylation/jhu-usc.edu_LAML.HumanMethylation450.aux.2.1.0.tar.gz',\n",
        " 'https://tcga-data.nci.nih.gov/tcgafiles/ftp_auth/distro_ftpusers/anonymous/tumor/laml/cgcc/jhu-usc.edu/humanmethylation450/methylation/jhu-usc.edu_LAML.HumanMethylation450.aux.2.2.0.tar.gz',\n",
        " 'https://tcga-data.nci.nih.gov/tcgafiles/ftp_auth/distro_ftpusers/anonymous/tumor/laml/cgcc/jhu-usc.edu/humanmethylation450/methylation/jhu-usc.edu_LAML.HumanMethylation450.aux.2.3.0.tar.gz',\n",
        " 'https://tcga-data.nci.nih.gov/tcgafiles/ftp_auth/distro_ftpusers/anonymous/tumor/laml/cgcc/jhu-usc.edu/humanmethylation450/methylation/jhu-usc.edu_LAML.HumanMethylation450.mage-tab.2.0.0.tar.gz',\n",
        " 'https://tcga-data.nci.nih.gov/tcgafiles/ftp_auth/distro_ftpusers/anonymous/tumor/laml/cgcc/jhu-usc.edu/humanmethylation450/methylation/jhu-usc.edu_LAML.HumanMethylation450.mage-tab.2.1.0.tar.gz',\n",
        " 'https://tcga-data.nci.nih.gov/tcgafiles/ftp_auth/distro_ftpusers/anonymous/tumor/laml/cgcc/jhu-usc.edu/humanmethylation450/methylation/jhu-usc.edu_LAML.HumanMethylation450.mage-tab.2.2.0.tar.gz',\n",
        " 'https://tcga-data.nci.nih.gov/tcgafiles/ftp_auth/distro_ftpusers/anonymous/tumor/laml/cgcc/jhu-usc.edu/humanmethylation450/methylation/jhu-usc.edu_LAML.HumanMethylation450.mage-tab.2.3.0.tar.gz',\n",
        " 'https://tcga-data.nci.nih.gov/tcgafiles/ftp_auth/distro_ftpusers/anonymous/tumor/laml/cgcc/jhu-usc.edu/humanmethylation450/methylation/jhu-usc.edu_LAML.HumanMethylation450.mage-tab.2.4.0.tar.gz',\n",
        " 'https://tcga-data.nci.nih.gov/tcgafiles/ftp_auth/distro_ftpusers/anonymous/tumor/laml/cgcc/jhu-usc.edu/humanmethylation450/methylation/jhu-usc.edu_LAML.HumanMethylation450.mage-tab.2.5.0.tar.gz',\n",
        " 'https://tcga-data.nci.nih.gov/tcgafiles/ftp_auth/distro_ftpusers/anonymous/tumor/chol/cgcc/jhu-usc.edu/humanmethylation450/methylation/jhu-usc.edu_CHOL.HumanMethylation450.Level_1.1.0.0.tar.gz',\n",
        " 'https://tcga-data.nci.nih.gov/tcgafiles/ftp_auth/distro_ftpusers/anonymous/tumor/chol/cgcc/jhu-usc.edu/humanmethylation450/methylation/jhu-usc.edu_CHOL.HumanMethylation450.Level_1.1.1.0.tar.gz',\n",
        " 'https://tcga-data.nci.nih.gov/tcgafiles/ftp_auth/distro_ftpusers/anonymous/tumor/chol/cgcc/jhu-usc.edu/humanmethylation450/methylation/jhu-usc.edu_CHOL.HumanMethylation450.aux.1.0.0.tar.gz',\n",
        " 'https://tcga-data.nci.nih.gov/tcgafiles/ftp_auth/distro_ftpusers/anonymous/tumor/chol/cgcc/jhu-usc.edu/humanmethylation450/methylation/jhu-usc.edu_CHOL.HumanMethylation450.aux.1.1.0.tar.gz',\n",
        " 'https://tcga-data.nci.nih.gov/tcgafiles/ftp_auth/distro_ftpusers/anonymous/tumor/chol/cgcc/jhu-usc.edu/humanmethylation450/methylation/jhu-usc.edu_CHOL.HumanMethylation450.mage-tab.1.0.0.tar.gz',\n",
        " 'https://tcga-data.nci.nih.gov/tcgafiles/ftp_auth/distro_ftpusers/anonymous/tumor/chol/cgcc/jhu-usc.edu/humanmethylation450/methylation/jhu-usc.edu_CHOL.HumanMethylation450.mage-tab.1.1.0.tar.gz']"
       ]
      }
     ],
     "prompt_number": 11
    },
    {
     "cell_type": "markdown",
     "metadata": {},
     "source": [
      "* write download links to list "
     ]
    },
    {
     "cell_type": "code",
     "collapsed": false,
     "input": [
      "f=open('tar_links.txt','w')\n",
      "l1=map(lambda x:x+'\\n', tar_links)\n",
      "f.writelines(l1)\n",
      "f.close()"
     ],
     "language": "python",
     "metadata": {},
     "outputs": [],
     "prompt_number": 14
    },
    {
     "cell_type": "markdown",
     "metadata": {},
     "source": [
      "* read tar_links list in pandas"
     ]
    },
    {
     "cell_type": "code",
     "collapsed": false,
     "input": [
      "l = pd.read_table('tar_links.txt', header=None)\n",
      "l"
     ],
     "language": "python",
     "metadata": {},
     "outputs": [
      {
       "html": [
        "<div style=\"max-height:1000px;max-width:1500px;overflow:auto;\">\n",
        "<table border=\"1\" class=\"dataframe\">\n",
        "  <thead>\n",
        "    <tr style=\"text-align: right;\">\n",
        "      <th></th>\n",
        "      <th>0</th>\n",
        "    </tr>\n",
        "  </thead>\n",
        "  <tbody>\n",
        "    <tr>\n",
        "      <th>0 </th>\n",
        "      <td> https://tcga-data.nci.nih.gov/tcgafiles/ftp_au...</td>\n",
        "    </tr>\n",
        "    <tr>\n",
        "      <th>1 </th>\n",
        "      <td> https://tcga-data.nci.nih.gov/tcgafiles/ftp_au...</td>\n",
        "    </tr>\n",
        "    <tr>\n",
        "      <th>2 </th>\n",
        "      <td> https://tcga-data.nci.nih.gov/tcgafiles/ftp_au...</td>\n",
        "    </tr>\n",
        "    <tr>\n",
        "      <th>3 </th>\n",
        "      <td> https://tcga-data.nci.nih.gov/tcgafiles/ftp_au...</td>\n",
        "    </tr>\n",
        "    <tr>\n",
        "      <th>4 </th>\n",
        "      <td> https://tcga-data.nci.nih.gov/tcgafiles/ftp_au...</td>\n",
        "    </tr>\n",
        "    <tr>\n",
        "      <th>5 </th>\n",
        "      <td> https://tcga-data.nci.nih.gov/tcgafiles/ftp_au...</td>\n",
        "    </tr>\n",
        "    <tr>\n",
        "      <th>6 </th>\n",
        "      <td> https://tcga-data.nci.nih.gov/tcgafiles/ftp_au...</td>\n",
        "    </tr>\n",
        "    <tr>\n",
        "      <th>7 </th>\n",
        "      <td> https://tcga-data.nci.nih.gov/tcgafiles/ftp_au...</td>\n",
        "    </tr>\n",
        "    <tr>\n",
        "      <th>8 </th>\n",
        "      <td> https://tcga-data.nci.nih.gov/tcgafiles/ftp_au...</td>\n",
        "    </tr>\n",
        "    <tr>\n",
        "      <th>9 </th>\n",
        "      <td> https://tcga-data.nci.nih.gov/tcgafiles/ftp_au...</td>\n",
        "    </tr>\n",
        "    <tr>\n",
        "      <th>10</th>\n",
        "      <td> https://tcga-data.nci.nih.gov/tcgafiles/ftp_au...</td>\n",
        "    </tr>\n",
        "    <tr>\n",
        "      <th>11</th>\n",
        "      <td> https://tcga-data.nci.nih.gov/tcgafiles/ftp_au...</td>\n",
        "    </tr>\n",
        "    <tr>\n",
        "      <th>12</th>\n",
        "      <td> https://tcga-data.nci.nih.gov/tcgafiles/ftp_au...</td>\n",
        "    </tr>\n",
        "    <tr>\n",
        "      <th>13</th>\n",
        "      <td> https://tcga-data.nci.nih.gov/tcgafiles/ftp_au...</td>\n",
        "    </tr>\n",
        "    <tr>\n",
        "      <th>14</th>\n",
        "      <td> https://tcga-data.nci.nih.gov/tcgafiles/ftp_au...</td>\n",
        "    </tr>\n",
        "    <tr>\n",
        "      <th>15</th>\n",
        "      <td> https://tcga-data.nci.nih.gov/tcgafiles/ftp_au...</td>\n",
        "    </tr>\n",
        "    <tr>\n",
        "      <th>16</th>\n",
        "      <td> https://tcga-data.nci.nih.gov/tcgafiles/ftp_au...</td>\n",
        "    </tr>\n",
        "    <tr>\n",
        "      <th>17</th>\n",
        "      <td> https://tcga-data.nci.nih.gov/tcgafiles/ftp_au...</td>\n",
        "    </tr>\n",
        "    <tr>\n",
        "      <th>18</th>\n",
        "      <td> https://tcga-data.nci.nih.gov/tcgafiles/ftp_au...</td>\n",
        "    </tr>\n",
        "    <tr>\n",
        "      <th>19</th>\n",
        "      <td> https://tcga-data.nci.nih.gov/tcgafiles/ftp_au...</td>\n",
        "    </tr>\n",
        "    <tr>\n",
        "      <th>20</th>\n",
        "      <td> https://tcga-data.nci.nih.gov/tcgafiles/ftp_au...</td>\n",
        "    </tr>\n",
        "  </tbody>\n",
        "</table>\n",
        "</div>"
       ],
       "metadata": {},
       "output_type": "pyout",
       "prompt_number": 17,
       "text": [
        "                                                    0\n",
        "0   https://tcga-data.nci.nih.gov/tcgafiles/ftp_au...\n",
        "1   https://tcga-data.nci.nih.gov/tcgafiles/ftp_au...\n",
        "2   https://tcga-data.nci.nih.gov/tcgafiles/ftp_au...\n",
        "3   https://tcga-data.nci.nih.gov/tcgafiles/ftp_au...\n",
        "4   https://tcga-data.nci.nih.gov/tcgafiles/ftp_au...\n",
        "5   https://tcga-data.nci.nih.gov/tcgafiles/ftp_au...\n",
        "6   https://tcga-data.nci.nih.gov/tcgafiles/ftp_au...\n",
        "7   https://tcga-data.nci.nih.gov/tcgafiles/ftp_au...\n",
        "8   https://tcga-data.nci.nih.gov/tcgafiles/ftp_au...\n",
        "9   https://tcga-data.nci.nih.gov/tcgafiles/ftp_au...\n",
        "10  https://tcga-data.nci.nih.gov/tcgafiles/ftp_au...\n",
        "11  https://tcga-data.nci.nih.gov/tcgafiles/ftp_au...\n",
        "12  https://tcga-data.nci.nih.gov/tcgafiles/ftp_au...\n",
        "13  https://tcga-data.nci.nih.gov/tcgafiles/ftp_au...\n",
        "14  https://tcga-data.nci.nih.gov/tcgafiles/ftp_au...\n",
        "15  https://tcga-data.nci.nih.gov/tcgafiles/ftp_au...\n",
        "16  https://tcga-data.nci.nih.gov/tcgafiles/ftp_au...\n",
        "17  https://tcga-data.nci.nih.gov/tcgafiles/ftp_au...\n",
        "18  https://tcga-data.nci.nih.gov/tcgafiles/ftp_au...\n",
        "19  https://tcga-data.nci.nih.gov/tcgafiles/ftp_au...\n",
        "20  https://tcga-data.nci.nih.gov/tcgafiles/ftp_au..."
       ]
      }
     ],
     "prompt_number": 17
    },
    {
     "cell_type": "markdown",
     "metadata": {},
     "source": [
      "<b>Download tarlink data, aux and mage files</b>"
     ]
    },
    {
     "cell_type": "code",
     "collapsed": false,
     "input": [
      "!wget -i tar_links.txt | tar -xz"
     ],
     "language": "python",
     "metadata": {},
     "outputs": [
      {
       "output_type": "stream",
       "stream": "stdout",
       "text": [
        "--2015-02-17 13:40:38--  https://tcga-data.nci.nih.gov/tcgafiles/ftp_auth/distro_ftpusers/anonymous/tumor/acc/cgcc/jhu-usc.edu/humanmethylation450/methylation/jhu-usc.edu_ACC.HumanMethylation450.Level_1.1.0.0.tar.gz\r\n"
       ]
      },
      {
       "output_type": "stream",
       "stream": "stdout",
       "text": [
        "Resolving tcga-data.nci.nih.gov (tcga-data.nci.nih.gov)... 165.112.32.155\r\n",
        "Connecting to tcga-data.nci.nih.gov (tcga-data.nci.nih.gov)|165.112.32.155|:443... "
       ]
      },
      {
       "output_type": "stream",
       "stream": "stdout",
       "text": [
        "connected.\r\n"
       ]
      },
      {
       "output_type": "stream",
       "stream": "stdout",
       "text": [
        "HTTP request sent, awaiting response... "
       ]
      },
      {
       "output_type": "stream",
       "stream": "stdout",
       "text": [
        "200 OK\r\n",
        "Length: 692119605 (660M) [application/x-gzip]\r\n",
        "Saving to: \u2018jhu-usc.edu_ACC.HumanMethylation450.Level_1.1.0.0.tar.gz\u2019\r\n",
        "\r\n",
        "\r",
        " 0% [                                       ] 0           --.-K/s              "
       ]
      },
      {
       "output_type": "stream",
       "stream": "stdout",
       "text": [
        "\r",
        " 0% [                                       ] 40,960       169KB/s             "
       ]
      },
      {
       "output_type": "stream",
       "stream": "stdout",
       "text": [
        "\r",
        " 0% [                                       ] 155,648      320KB/s             "
       ]
      },
      {
       "output_type": "stream",
       "stream": "stdout",
       "text": [
        "\r",
        " 0% [                                       ] 385,024      528KB/s             "
       ]
      },
      {
       "output_type": "stream",
       "stream": "stdout",
       "text": [
        "\r",
        " 0% [                                       ] 778,240      829KB/s             "
       ]
      },
      {
       "output_type": "stream",
       "stream": "stdout",
       "text": [
        "\r",
        " 0% [                                       ] 1,433,600   1.22MB/s             "
       ]
      },
      {
       "output_type": "stream",
       "stream": "stdout",
       "text": [
        "\r",
        " 0% [                                       ] 2,187,264   1.54MB/s             "
       ]
      },
      {
       "output_type": "stream",
       "stream": "stdout",
       "text": [
        "\r",
        " 0% [                                       ] 3,596,288   2.21MB/s             "
       ]
      },
      {
       "output_type": "stream",
       "stream": "stdout",
       "text": [
        "\r",
        " 0% [                                       ] 5,054,464   2.75MB/s             "
       ]
      },
      {
       "output_type": "stream",
       "stream": "stdout",
       "text": [
        "\r",
        " 0% [                                       ] 6,381,568   3.07MB/s             "
       ]
      },
      {
       "output_type": "stream",
       "stream": "stdout",
       "text": [
        "\r",
        " 1% [                                       ] 7,970,816   3.42MB/s             "
       ]
      },
      {
       "output_type": "stream",
       "stream": "stdout",
       "text": [
        "\r",
        " 1% [                                       ] 9,641,984   3.74MB/s             "
       ]
      },
      {
       "output_type": "stream",
       "stream": "stdout",
       "text": [
        "\r",
        " 1% [                                       ] 11,345,920  4.01MB/s             "
       ]
      },
      {
       "output_type": "stream",
       "stream": "stdout",
       "text": [
        "\r",
        " 1% [                                       ] 13,099,008  4.28MB/s             "
       ]
      },
      {
       "output_type": "stream",
       "stream": "stdout",
       "text": [
        "\r",
        " 2% [                                       ] 14,163,968  4.32MB/s  eta 2m 30s "
       ]
      },
      {
       "output_type": "stream",
       "stream": "stdout",
       "text": [
        "\r",
        " 2% [                                       ] 15,572,992  4.66MB/s  eta 2m 30s "
       ]
      },
      {
       "output_type": "stream",
       "stream": "stdout",
       "text": [
        "\r",
        " 2% [                                       ] 16,769,024  4.94MB/s  eta 2m 30s "
       ]
      },
      {
       "output_type": "stream",
       "stream": "stdout",
       "text": [
        "\r",
        " 2% [>                                      ] 17,768,448  5.11MB/s  eta 2m 30s "
       ]
      },
      {
       "output_type": "stream",
       "stream": "stdout",
       "text": [
        "\r",
        " 2% [>                                      ] 18,669,568  5.36MB/s  eta 2m 30s "
       ]
      },
      {
       "output_type": "stream",
       "stream": "stdout",
       "text": [
        "\r",
        " 2% [>                                      ] 19,849,216  5.55MB/s  eta 2m 23s "
       ]
      },
      {
       "output_type": "stream",
       "stream": "stdout",
       "text": [
        "\r",
        " 2% [>                                      ] 20,406,272  5.52MB/s  eta 2m 23s "
       ]
      },
      {
       "output_type": "stream",
       "stream": "stdout",
       "text": [
        "\r",
        " 3% [>                                      ] 21,028,864  5.45MB/s  eta 2m 23s "
       ]
      },
      {
       "output_type": "stream",
       "stream": "stdout",
       "text": [
        "\r",
        " 3% [>                                      ] 21,602,304  5.26MB/s  eta 2m 23s "
       ]
      },
      {
       "output_type": "stream",
       "stream": "stdout",
       "text": [
        "\r",
        " 3% [>                                      ] 22,224,896  5.04MB/s  eta 2m 23s "
       ]
      },
      {
       "output_type": "stream",
       "stream": "stdout",
       "text": [
        "\r",
        " 3% [>                                      ] 22,814,720  4.84MB/s  eta 2m 34s "
       ]
      },
      {
       "output_type": "stream",
       "stream": "stdout",
       "text": [
        "\r",
        " 3% [>                                      ] 23,470,080  4.66MB/s  eta 2m 34s "
       ]
      },
      {
       "output_type": "stream",
       "stream": "stdout",
       "text": [
        "\r",
        " 3% [>                                      ] 24,076,288  4.37MB/s  eta 2m 34s "
       ]
      },
      {
       "output_type": "stream",
       "stream": "stdout",
       "text": [
        "\r",
        " 3% [>                                      ] 24,469,504  4.09MB/s  eta 2m 34s "
       ]
      },
      {
       "output_type": "stream",
       "stream": "stdout",
       "text": [
        "\r",
        " 3% [>                                      ] 25,141,248  3.89MB/s  eta 2m 34s "
       ]
      },
      {
       "output_type": "stream",
       "stream": "stdout",
       "text": [
        "\r",
        " 3% [>                                      ] 25,485,312  3.61MB/s  eta 2m 44s "
       ]
      },
      {
       "output_type": "stream",
       "stream": "stdout",
       "text": [
        "\r",
        " 3% [>                                      ] 25,845,760  3.36MB/s  eta 2m 44s "
       ]
      },
      {
       "output_type": "stream",
       "stream": "stdout",
       "text": [
        "\r",
        " 3% [>                                      ] 26,206,208  3.02MB/s  eta 2m 44s "
       ]
      },
      {
       "output_type": "stream",
       "stream": "stdout",
       "text": [
        "\r",
        " 3% [>                                      ] 26,583,040  2.86MB/s  eta 2m 44s "
       ]
      },
      {
       "output_type": "stream",
       "stream": "stdout",
       "text": [
        "\r",
        " 3% [>                                      ] 26,943,488  2.55MB/s  eta 2m 44s "
       ]
      },
      {
       "output_type": "stream",
       "stream": "stdout",
       "text": [
        "\r",
        " 3% [>                                      ] 27,353,088  2.51MB/s  eta 2m 58s "
       ]
      },
      {
       "output_type": "stream",
       "stream": "stdout",
       "text": [
        "\r",
        " 4% [>                                      ] 27,746,304  2.30MB/s  eta 2m 58s "
       ]
      },
      {
       "output_type": "stream",
       "stream": "stdout",
       "text": [
        "\r",
        " 4% [>                                      ] 28,123,136  2.21MB/s  eta 2m 58s "
       ]
      },
      {
       "output_type": "stream",
       "stream": "stdout",
       "text": [
        "\r",
        " 4% [>                                      ] 28,532,736  2.17MB/s  eta 2m 58s "
       ]
      },
      {
       "output_type": "stream",
       "stream": "stdout",
       "text": [
        "\r",
        " 4% [>                                      ] 28,893,184  2.09MB/s  eta 2m 58s "
       ]
      },
      {
       "output_type": "stream",
       "stream": "stdout",
       "text": [
        "\r",
        " 4% [>                                      ] 29,335,552  2.00MB/s  eta 3m 9s  "
       ]
      },
      {
       "output_type": "stream",
       "stream": "stdout",
       "text": [
        "\r",
        " 4% [>                                      ] 29,745,152  1.95MB/s  eta 3m 9s  "
       ]
      },
      {
       "output_type": "stream",
       "stream": "stdout",
       "text": [
        "\r",
        " 4% [>                                      ] 30,121,984  1.89MB/s  eta 3m 9s  "
       ]
      },
      {
       "output_type": "stream",
       "stream": "stdout",
       "text": [
        "\r",
        " 4% [>                                      ] 30,547,968  1.85MB/s  eta 3m 9s  "
       ]
      },
      {
       "output_type": "stream",
       "stream": "stdout",
       "text": [
        "\r",
        " 4% [>                                      ] 30,908,416  1.76MB/s  eta 3m 9s  "
       ]
      },
      {
       "output_type": "stream",
       "stream": "stdout",
       "text": [
        "\r",
        " 4% [>                                      ] 31,350,784  1.78MB/s  eta 3m 18s "
       ]
      },
      {
       "output_type": "stream",
       "stream": "stdout",
       "text": [
        "\r",
        " 4% [>                                      ] 31,727,616  1.79MB/s  eta 3m 18s "
       ]
      },
      {
       "output_type": "stream",
       "stream": "stdout",
       "text": [
        "\r",
        " 4% [>                                      ] 32,137,216  1.81MB/s  eta 3m 18s "
       ]
      },
      {
       "output_type": "stream",
       "stream": "stdout",
       "text": [
        "\r",
        " 4% [>                                      ] 32,514,048  1.81MB/s  eta 3m 18s "
       ]
      },
      {
       "output_type": "stream",
       "stream": "stdout",
       "text": [
        "\r",
        " 4% [>                                      ] 32,923,648  1.82MB/s  eta 3m 18s "
       ]
      },
      {
       "output_type": "stream",
       "stream": "stdout",
       "text": [
        "\r",
        " 4% [>                                      ] 33,366,016  1.84MB/s  eta 3m 26s "
       ]
      },
      {
       "output_type": "stream",
       "stream": "stdout",
       "text": [
        "\r",
        " 4% [>                                      ] 33,726,464  1.83MB/s  eta 3m 26s "
       ]
      },
      {
       "output_type": "stream",
       "stream": "stdout",
       "text": [
        "\r",
        " 4% [>                                      ] 34,152,448  1.84MB/s  eta 3m 26s "
       ]
      },
      {
       "output_type": "stream",
       "stream": "stdout",
       "text": [
        "\r",
        " 4% [>                                      ] 34,512,896  1.84MB/s  eta 3m 26s "
       ]
      },
      {
       "output_type": "stream",
       "stream": "stdout",
       "text": [
        "\r",
        " 5% [>                                      ] 34,938,880  1.85MB/s  eta 3m 26s "
       ]
      },
      {
       "output_type": "stream",
       "stream": "stdout",
       "text": [
        "\r",
        " 5% [>                                      ] 35,217,408  1.81MB/s  eta 3m 34s "
       ]
      },
      {
       "output_type": "stream",
       "stream": "stdout",
       "text": [
        "\r",
        " 5% [=>                                     ] 35,643,392  1.81MB/s  eta 3m 34s "
       ]
      },
      {
       "output_type": "stream",
       "stream": "stdout",
       "text": [
        "\r",
        " 5% [=>                                     ] 35,971,072  1.79MB/s  eta 3m 34s "
       ]
      },
      {
       "output_type": "stream",
       "stream": "stdout",
       "text": [
        "\r",
        " 5% [=>                                     ] 36,249,600  1.75MB/s  eta 3m 34s "
       ]
      },
      {
       "output_type": "stream",
       "stream": "stdout",
       "text": [
        "\r",
        " 5% [=>                                     ] 36,593,664  1.73MB/s  eta 3m 34s "
       ]
      },
      {
       "output_type": "stream",
       "stream": "stdout",
       "text": [
        "\r",
        " 5% [=>                                     ] 36,904,960  1.71MB/s  eta 3m 43s "
       ]
      },
      {
       "output_type": "stream",
       "stream": "stdout",
       "text": [
        "\r",
        " 5% [=>                                     ] 37,199,872  1.64MB/s  eta 3m 43s "
       ]
      },
      {
       "output_type": "stream",
       "stream": "stdout",
       "text": [
        "\r",
        " 5% [=>                                     ] 37,625,856  1.65MB/s  eta 3m 43s "
       ]
      },
      {
       "output_type": "stream",
       "stream": "stdout",
       "text": [
        "\r",
        " 5% [=>                                     ] 37,888,000  1.61MB/s  eta 3m 43s "
       ]
      },
      {
       "output_type": "stream",
       "stream": "stdout",
       "text": [
        "\r",
        " 5% [=>                                     ] 38,166,528  1.56MB/s  eta 3m 43s "
       ]
      },
      {
       "output_type": "stream",
       "stream": "stdout",
       "text": [
        "\r",
        " 5% [=>                                     ] 38,477,824  1.54MB/s  eta 3m 52s "
       ]
      },
      {
       "output_type": "stream",
       "stream": "stdout",
       "text": [
        "\r",
        " 5% [=>                                     ] 38,739,968  1.51MB/s  eta 3m 52s "
       ]
      },
      {
       "output_type": "stream",
       "stream": "stdout",
       "text": [
        "\r",
        " 5% [=>                                     ] 39,051,264  1.49MB/s  eta 3m 52s "
       ]
      },
      {
       "output_type": "stream",
       "stream": "stdout",
       "text": [
        "\r",
        " 5% [=>                                     ] 39,346,176  1.45MB/s  eta 3m 52s "
       ]
      },
      {
       "output_type": "stream",
       "stream": "stdout",
       "text": [
        "\r",
        " 5% [=>                                     ] 39,641,088  1.42MB/s  eta 3m 52s "
       ]
      },
      {
       "output_type": "stream",
       "stream": "stdout",
       "text": [
        "\r",
        " 5% [=>                                     ] 39,985,152  1.41MB/s  eta 4m 0s  "
       ]
      },
      {
       "output_type": "stream",
       "stream": "stdout",
       "text": [
        "\r",
        " 5% [=>                                     ] 40,280,064  1.38MB/s  eta 4m 0s  "
       ]
      },
      {
       "output_type": "stream",
       "stream": "stdout",
       "text": [
        "\r",
        " 5% [=>                                     ] 40,591,360  1.38MB/s  eta 4m 0s  "
       ]
      },
      {
       "output_type": "stream",
       "stream": "stdout",
       "text": [
        "\r",
        " 5% [=>                                     ] 40,935,424  1.40MB/s  eta 4m 0s  "
       ]
      },
      {
       "output_type": "stream",
       "stream": "stdout",
       "text": [
        "\r",
        " 5% [=>                                     ] 41,213,952  1.38MB/s  eta 4m 0s  "
       ]
      },
      {
       "output_type": "stream",
       "stream": "stdout",
       "text": [
        "\r",
        " 6% [=>                                     ] 41,541,632  1.38MB/s  eta 4m 7s  "
       ]
      },
      {
       "output_type": "stream",
       "stream": "stdout",
       "text": [
        "\r",
        " 6% [=>                                     ] 41,869,312  1.38MB/s  eta 4m 7s  "
       ]
      },
      {
       "output_type": "stream",
       "stream": "stdout",
       "text": [
        "\r",
        " 6% [=>                                     ] 42,147,840  1.38MB/s  eta 4m 7s  "
       ]
      },
      {
       "output_type": "stream",
       "stream": "stdout",
       "text": [
        "\r",
        " 6% [=>                                     ] 42,491,904  1.40MB/s  eta 4m 7s  "
       ]
      },
      {
       "output_type": "stream",
       "stream": "stdout",
       "text": [
        "\r",
        " 6% [=>                                     ] 42,754,048  1.40MB/s  eta 4m 7s  "
       ]
      },
      {
       "output_type": "stream",
       "stream": "stdout",
       "text": [
        "\r",
        " 6% [=>                                     ] 43,081,728  1.41MB/s  eta 4m 13s "
       ]
      },
      {
       "output_type": "stream",
       "stream": "stdout",
       "text": [
        "\r",
        " 6% [=>                                     ] 43,343,872  1.40MB/s  eta 4m 13s "
       ]
      },
      {
       "output_type": "stream",
       "stream": "stdout",
       "text": [
        "\r",
        " 6% [=>                                     ] 43,687,936  1.42MB/s  eta 4m 13s "
       ]
      },
      {
       "output_type": "stream",
       "stream": "stdout",
       "text": [
        "\r",
        " 6% [=>                                     ] 43,950,080  1.40MB/s  eta 4m 13s "
       ]
      },
      {
       "output_type": "stream",
       "stream": "stdout",
       "text": [
        "\r",
        " 6% [=>                                     ] 44,310,528  1.41MB/s  eta 4m 13s "
       ]
      },
      {
       "output_type": "stream",
       "stream": "stdout",
       "text": [
        "\r",
        " 6% [=>                                     ] 44,654,592  1.42MB/s  eta 4m 19s "
       ]
      },
      {
       "output_type": "stream",
       "stream": "stdout",
       "text": [
        "\r",
        " 6% [=>                                     ] 44,916,736  1.40MB/s  eta 4m 19s "
       ]
      },
      {
       "output_type": "stream",
       "stream": "stdout",
       "text": [
        "\r",
        " 6% [=>                                     ] 45,244,416  1.39MB/s  eta 4m 19s "
       ]
      },
      {
       "output_type": "stream",
       "stream": "stdout",
       "text": [
        "\r",
        " 6% [=>                                     ] 45,506,560  1.38MB/s  eta 4m 19s "
       ]
      },
      {
       "output_type": "stream",
       "stream": "stdout",
       "text": [
        "\r",
        " 6% [=>                                     ] 45,719,552  1.35MB/s  eta 4m 19s "
       ]
      },
      {
       "output_type": "stream",
       "stream": "stdout",
       "text": [
        "\r",
        " 6% [=>                                     ] 46,014,464  1.34MB/s  eta 4m 26s "
       ]
      },
      {
       "output_type": "stream",
       "stream": "stdout",
       "text": [
        "\r",
        " 6% [=>                                     ] 46,309,376  1.33MB/s  eta 4m 26s "
       ]
      },
      {
       "output_type": "stream",
       "stream": "stdout",
       "text": [
        "\r",
        " 6% [=>                                     ] 46,555,136  1.32MB/s  eta 4m 26s "
       ]
      },
      {
       "output_type": "stream",
       "stream": "stdout",
       "text": [
        "\r",
        " 6% [=>                                     ] 46,866,432  1.32MB/s  eta 4m 26s "
       ]
      },
      {
       "output_type": "stream",
       "stream": "stdout",
       "text": [
        "\r",
        " 6% [=>                                     ] 47,128,576  1.30MB/s  eta 4m 26s "
       ]
      },
      {
       "output_type": "stream",
       "stream": "stdout",
       "text": [
        "\r",
        " 6% [=>                                     ] 47,308,800  1.27MB/s  eta 4m 32s "
       ]
      },
      {
       "output_type": "stream",
       "stream": "stdout",
       "text": [
        "\r",
        " 6% [=>                                     ] 47,603,712  1.27MB/s  eta 4m 32s "
       ]
      },
      {
       "output_type": "stream",
       "stream": "stdout",
       "text": [
        "\r",
        " 6% [=>                                     ] 47,849,472  1.26MB/s  eta 4m 32s "
       ]
      },
      {
       "output_type": "stream",
       "stream": "stdout",
       "text": [
        "\r",
        " 6% [=>                                     ] 48,062,464  1.23MB/s  eta 4m 32s "
       ]
      },
      {
       "output_type": "stream",
       "stream": "stdout",
       "text": [
        "\r",
        " 6% [=>                                     ] 48,324,608  1.21MB/s  eta 4m 32s "
       ]
      },
      {
       "output_type": "stream",
       "stream": "stdout",
       "text": [
        "\r",
        " 7% [=>                                     ] 48,570,368  1.20MB/s  eta 4m 39s "
       ]
      },
      {
       "output_type": "stream",
       "stream": "stdout",
       "text": [
        "\r",
        " 7% [=>                                     ] 48,816,128  1.18MB/s  eta 4m 39s "
       ]
      },
      {
       "output_type": "stream",
       "stream": "stdout",
       "text": [
        "\r",
        " 7% [=>                                     ] 49,078,272  1.18MB/s  eta 4m 39s "
       ]
      },
      {
       "output_type": "stream",
       "stream": "stdout",
       "text": [
        "\r",
        " 7% [=>                                     ] 49,324,032  1.16MB/s  eta 4m 39s "
       ]
      },
      {
       "output_type": "stream",
       "stream": "stdout",
       "text": [
        "\r",
        " 7% [=>                                     ] 49,586,176  1.17MB/s  eta 4m 39s "
       ]
      },
      {
       "output_type": "stream",
       "stream": "stdout",
       "text": [
        "\r",
        " 7% [=>                                     ] 49,848,320  1.18MB/s  eta 4m 44s "
       ]
      },
      {
       "output_type": "stream",
       "stream": "stdout",
       "text": [
        "\r",
        " 7% [=>                                     ] 50,077,696  1.17MB/s  eta 4m 44s "
       ]
      },
      {
       "output_type": "stream",
       "stream": "stdout",
       "text": [
        "\r",
        " 7% [=>                                     ] 50,356,224  1.17MB/s  eta 4m 44s "
       ]
      },
      {
       "output_type": "stream",
       "stream": "stdout",
       "text": [
        "\r",
        " 7% [=>                                     ] 50,601,984  1.16MB/s  eta 4m 44s "
       ]
      },
      {
       "output_type": "stream",
       "stream": "stdout",
       "text": [
        "\r",
        " 7% [=>                                     ] 50,864,128  1.15MB/s  eta 4m 44s "
       ]
      },
      {
       "output_type": "stream",
       "stream": "stdout",
       "text": [
        "\r",
        " 7% [=>                                     ] 51,126,272  1.15MB/s  eta 4m 50s "
       ]
      },
      {
       "output_type": "stream",
       "stream": "stdout",
       "text": [
        "\r",
        " 7% [=>                                     ] 51,339,264  1.10MB/s  eta 4m 50s "
       ]
      },
      {
       "output_type": "stream",
       "stream": "stdout",
       "text": [
        "\r",
        " 7% [=>                                     ] 51,617,792  1.12MB/s  eta 4m 50s "
       ]
      },
      {
       "output_type": "stream",
       "stream": "stdout",
       "text": [
        "\r",
        " 7% [=>                                     ] 51,798,016  1.10MB/s  eta 4m 50s "
       ]
      },
      {
       "output_type": "stream",
       "stream": "stdout",
       "text": [
        "\r",
        " 7% [=>                                     ] 52,011,008  1.09MB/s  eta 4m 50s "
       ]
      },
      {
       "output_type": "stream",
       "stream": "stdout",
       "text": [
        "\r",
        " 7% [=>                                     ] 52,207,616  1.08MB/s  eta 4m 57s "
       ]
      },
      {
       "output_type": "stream",
       "stream": "stdout",
       "text": [
        "\r",
        " 7% [=>                                     ] 52,404,224  1.07MB/s  eta 4m 57s "
       ]
      },
      {
       "output_type": "stream",
       "stream": "stdout",
       "text": [
        "\r",
        " 7% [=>                                     ] 52,600,832  1.05MB/s  eta 4m 57s "
       ]
      },
      {
       "output_type": "stream",
       "stream": "stdout",
       "text": [
        "\r",
        " 7% [=>                                     ] 52,813,824  1.04MB/s  eta 4m 57s "
       ]
      },
      {
       "output_type": "stream",
       "stream": "stdout",
       "text": [
        "\r",
        " 7% [=>                                     ] 53,010,432  1.03MB/s  eta 4m 57s "
       ]
      },
      {
       "output_type": "stream",
       "stream": "stdout",
       "text": [
        "\r",
        " 7% [=>                                     ] 53,207,040  1.01MB/s  eta 5m 4s  "
       ]
      },
      {
       "output_type": "stream",
       "stream": "stdout",
       "text": [
        "\r",
        " 7% [==>                                    ] 53,420,032  1.00MB/s  eta 5m 4s  "
       ]
      },
      {
       "output_type": "stream",
       "stream": "stdout",
       "text": [
        "\r",
        " 7% [==>                                    ] 53,616,640  1001KB/s  eta 5m 4s  "
       ]
      },
      {
       "output_type": "stream",
       "stream": "stdout",
       "text": [
        "\r",
        " 7% [==>                                    ] 53,829,632   990KB/s  eta 5m 4s  "
       ]
      },
      {
       "output_type": "stream",
       "stream": "stdout",
       "text": [
        "\r",
        " 7% [==>                                    ] 54,026,240   977KB/s  eta 5m 4s  "
       ]
      },
      {
       "output_type": "stream",
       "stream": "stdout",
       "text": [
        "\r",
        " 7% [==>                                    ] 54,239,232   968KB/s  eta 5m 10s "
       ]
      },
      {
       "output_type": "stream",
       "stream": "stdout",
       "text": [
        "\r",
        " 7% [==>                                    ] 54,419,456   925KB/s  eta 5m 10s "
       ]
      },
      {
       "output_type": "stream",
       "stream": "stdout",
       "text": [
        "\r",
        " 7% [==>                                    ] 54,648,832   947KB/s  eta 5m 10s "
       ]
      },
      {
       "output_type": "stream",
       "stream": "stdout",
       "text": [
        "\r",
        " 7% [==>                                    ] 54,829,056   921KB/s  eta 5m 10s "
       ]
      },
      {
       "output_type": "stream",
       "stream": "stdout",
       "text": [
        "\r",
        " 7% [==>                                    ] 54,976,512   910KB/s  eta 5m 10s "
       ]
      },
      {
       "output_type": "stream",
       "stream": "stdout",
       "text": [
        "\r",
        " 7% [==>                                    ] 55,189,504   908KB/s  eta 5m 17s "
       ]
      },
      {
       "output_type": "stream",
       "stream": "stdout",
       "text": [
        "\r",
        " 8% [==>                                    ] 55,402,496   906KB/s  eta 5m 17s "
       ]
      },
      {
       "output_type": "stream",
       "stream": "stdout",
       "text": [
        "\r",
        " 8% [==>                                    ] 55,615,488   910KB/s  eta 5m 17s "
       ]
      },
      {
       "output_type": "stream",
       "stream": "stdout",
       "text": [
        "\r",
        " 8% [==>                                    ] 55,795,712   903KB/s  eta 5m 17s "
       ]
      },
      {
       "output_type": "stream",
       "stream": "stdout",
       "text": [
        "\r",
        " 8% [==>                                    ] 56,025,088   907KB/s  eta 5m 17s "
       ]
      },
      {
       "output_type": "stream",
       "stream": "stdout",
       "text": [
        "\r",
        " 8% [==>                                    ] 56,254,464   917KB/s  eta 5m 23s "
       ]
      },
      {
       "output_type": "stream",
       "stream": "stdout",
       "text": [
        "\r",
        " 8% [==>                                    ] 56,434,688   913KB/s  eta 5m 23s "
       ]
      },
      {
       "output_type": "stream",
       "stream": "stdout",
       "text": [
        "\r",
        " 8% [==>                                    ] 56,664,064   924KB/s  eta 5m 23s "
       ]
      },
      {
       "output_type": "stream",
       "stream": "stdout",
       "text": [
        "\r",
        " 8% [==>                                    ] 56,860,672   921KB/s  eta 5m 23s "
       ]
      },
      {
       "output_type": "stream",
       "stream": "stdout",
       "text": [
        "\r",
        " 8% [==>                                    ] 57,090,048   920KB/s  eta 5m 23s "
       ]
      },
      {
       "output_type": "stream",
       "stream": "stdout",
       "text": [
        "\r",
        " 8% [==>                                    ] 57,319,424   927KB/s  eta 5m 28s "
       ]
      },
      {
       "output_type": "stream",
       "stream": "stdout",
       "text": [
        "\r",
        " 8% [==>                                    ] 57,499,648   923KB/s  eta 5m 28s "
       ]
      },
      {
       "output_type": "stream",
       "stream": "stdout",
       "text": [
        "\r",
        " 8% [==>                                    ] 57,712,640   935KB/s  eta 5m 28s "
       ]
      },
      {
       "output_type": "stream",
       "stream": "stdout",
       "text": [
        "\r",
        " 8% [==>                                    ] 57,909,248   943KB/s  eta 5m 28s "
       ]
      },
      {
       "output_type": "stream",
       "stream": "stdout",
       "text": [
        "\r",
        " 8% [==>                                    ] 58,122,240   952KB/s  eta 5m 28s "
       ]
      },
      {
       "output_type": "stream",
       "stream": "stdout",
       "text": [
        "\r",
        " 8% [==>                                    ] 58,318,848   962KB/s  eta 5m 33s "
       ]
      },
      {
       "output_type": "stream",
       "stream": "stdout",
       "text": [
        "\r",
        " 8% [==>                                    ] 58,531,840   966KB/s  eta 5m 33s "
       ]
      },
      {
       "output_type": "stream",
       "stream": "stdout",
       "text": [
        "\r",
        " 8% [==>                                    ] 58,744,832   972KB/s  eta 5m 33s "
       ]
      },
      {
       "output_type": "stream",
       "stream": "stdout",
       "text": [
        "\r",
        " 8% [==>                                    ] 58,957,824   978KB/s  eta 5m 33s "
       ]
      },
      {
       "output_type": "stream",
       "stream": "stdout",
       "text": [
        "\r",
        " 8% [==>                                    ] 59,154,432   979KB/s  eta 5m 33s "
       ]
      },
      {
       "output_type": "stream",
       "stream": "stdout",
       "text": [
        "\r",
        " 8% [==>                                    ] 59,367,424   981KB/s  eta 5m 37s "
       ]
      },
      {
       "output_type": "stream",
       "stream": "stdout",
       "text": [
        "\r",
        " 8% [==>                                    ] 59,580,416   985KB/s  eta 5m 37s "
       ]
      },
      {
       "output_type": "stream",
       "stream": "stdout",
       "text": [
        "\r",
        " 8% [==>                                    ] 59,809,792   986KB/s  eta 5m 37s "
       ]
      },
      {
       "output_type": "stream",
       "stream": "stdout",
       "text": [
        "\r",
        " 8% [==>                                    ] 60,039,168   993KB/s  eta 5m 37s "
       ]
      },
      {
       "output_type": "stream",
       "stream": "stdout",
       "text": [
        "\r",
        " 8% [==>                                    ] 60,268,544   997KB/s  eta 5m 37s "
       ]
      },
      {
       "output_type": "stream",
       "stream": "stdout",
       "text": [
        "\r",
        " 8% [==>                                    ] 60,514,304  1002KB/s  eta 5m 41s "
       ]
      },
      {
       "output_type": "stream",
       "stream": "stdout",
       "text": [
        "\r",
        " 8% [==>                                    ] 60,760,064  1014KB/s  eta 5m 41s "
       ]
      },
      {
       "output_type": "stream",
       "stream": "stdout",
       "text": [
        "\r",
        " 8% [==>                                    ] 61,005,824  1.00MB/s  eta 5m 41s "
       ]
      },
      {
       "output_type": "stream",
       "stream": "stdout",
       "text": [
        "\r",
        " 8% [==>                                    ] 61,267,968  1.02MB/s  eta 5m 41s "
       ]
      },
      {
       "output_type": "stream",
       "stream": "stdout",
       "text": [
        "\r",
        " 8% [==>                                    ] 61,530,112  1.04MB/s  eta 5m 41s "
       ]
      },
      {
       "output_type": "stream",
       "stream": "stdout",
       "text": [
        "\r",
        " 8% [==>                                    ] 61,792,256  1.06MB/s  eta 5m 44s "
       ]
      },
      {
       "output_type": "stream",
       "stream": "stdout",
       "text": [
        "\r",
        " 8% [==>                                    ] 62,070,784  1.07MB/s  eta 5m 44s "
       ]
      },
      {
       "output_type": "stream",
       "stream": "stdout",
       "text": [
        "\r",
        " 9% [==>                                    ] 62,365,696  1.10MB/s  eta 5m 44s "
       ]
      },
      {
       "output_type": "stream",
       "stream": "stdout",
       "text": [
        "\r",
        " 9% [==>                                    ] 62,660,608  1.13MB/s  eta 5m 44s "
       ]
      },
      {
       "output_type": "stream",
       "stream": "stdout",
       "text": [
        "\r",
        " 9% [==>                                    ] 63,004,672  1.16MB/s  eta 5m 44s "
       ]
      },
      {
       "output_type": "stream",
       "stream": "stdout",
       "text": [
        "\r",
        " 9% [==>                                    ] 63,332,352  1.20MB/s  eta 5m 45s "
       ]
      },
      {
       "output_type": "stream",
       "stream": "stdout",
       "text": [
        "\r",
        " 9% [==>                                    ] 63,709,184  1.24MB/s  eta 5m 45s "
       ]
      },
      {
       "output_type": "stream",
       "stream": "stdout",
       "text": [
        "\r",
        " 9% [==>                                    ] 64,036,864  1.28MB/s  eta 5m 45s "
       ]
      },
      {
       "output_type": "stream",
       "stream": "stdout",
       "text": [
        "\r",
        " 9% [==>                                    ] 64,479,232  1.35MB/s  eta 5m 45s "
       ]
      },
      {
       "output_type": "stream",
       "stream": "stdout",
       "text": [
        "\r",
        " 9% [==>                                    ] 64,888,832  1.40MB/s  eta 5m 45s "
       ]
      },
      {
       "output_type": "stream",
       "stream": "stdout",
       "text": [
        "\r",
        " 9% [==>                                    ] 65,331,200  1.45MB/s  eta 5m 44s "
       ]
      },
      {
       "output_type": "stream",
       "stream": "stdout",
       "text": [
        "\r",
        " 9% [==>                                    ] 65,839,104  1.55MB/s  eta 5m 44s "
       ]
      },
      {
       "output_type": "stream",
       "stream": "stdout",
       "text": [
        "\r",
        " 9% [==>                                    ] 66,297,856  1.61MB/s  eta 5m 44s "
       ]
      },
      {
       "output_type": "stream",
       "stream": "stdout",
       "text": [
        "\r",
        " 9% [==>                                    ] 66,871,296  1.70MB/s  eta 5m 44s "
       ]
      },
      {
       "output_type": "stream",
       "stream": "stdout",
       "text": [
        "\r",
        " 9% [==>                                    ] 67,428,352  1.80MB/s  eta 5m 44s "
       ]
      },
      {
       "output_type": "stream",
       "stream": "stdout",
       "text": [
        "\r",
        " 9% [==>                                    ] 68,034,560  1.90MB/s  eta 5m 38s "
       ]
      },
      {
       "output_type": "stream",
       "stream": "stdout",
       "text": [
        "\r",
        " 9% [==>                                    ] 68,673,536  1.99MB/s  eta 5m 38s "
       ]
      },
      {
       "output_type": "stream",
       "stream": "stdout",
       "text": [
        "\r",
        "10% [==>                                    ] 69,328,896  2.12MB/s  eta 5m 38s "
       ]
      },
      {
       "output_type": "stream",
       "stream": "stdout",
       "text": [
        "\r",
        "10% [==>                                    ] 70,098,944  2.26MB/s  eta 5m 38s "
       ]
      },
      {
       "output_type": "stream",
       "stream": "stdout",
       "text": [
        "\r",
        "10% [==>                                    ] 70,803,456  2.36MB/s  eta 5m 38s "
       ]
      },
      {
       "output_type": "stream",
       "stream": "stdout",
       "text": [
        "\r",
        "10% [===>                                   ] 71,688,192  2.56MB/s  eta 5m 28s "
       ]
      },
      {
       "output_type": "stream",
       "stream": "stdout",
       "text": [
        "\r",
        "10% [===>                                   ] 72,491,008  2.69MB/s  eta 5m 28s "
       ]
      },
      {
       "output_type": "stream",
       "stream": "stdout",
       "text": [
        "\r",
        "10% [===>                                   ] 73,424,896  2.84MB/s  eta 5m 28s "
       ]
      },
      {
       "output_type": "stream",
       "stream": "stdout",
       "text": [
        "\r",
        "10% [===>                                   ] 74,276,864  3.03MB/s  eta 5m 28s "
       ]
      },
      {
       "output_type": "stream",
       "stream": "stdout",
       "text": [
        "\r",
        "10% [===>                                   ] 75,407,360  3.23MB/s  eta 5m 28s "
       ]
      },
      {
       "output_type": "stream",
       "stream": "stdout",
       "text": [
        "\r",
        "11% [===>                                   ] 76,275,712  3.28MB/s  eta 5m 14s "
       ]
      },
      {
       "output_type": "stream",
       "stream": "stdout",
       "text": [
        "\r",
        "11% [===>                                   ] 77,504,512  3.56MB/s  eta 5m 14s "
       ]
      },
      {
       "output_type": "stream",
       "stream": "stdout",
       "text": [
        "\r",
        "11% [===>                                   ] 78,340,096  3.64MB/s  eta 5m 14s "
       ]
      },
      {
       "output_type": "stream",
       "stream": "stdout",
       "text": [
        "\r",
        "11% [===>                                   ] 79,192,064  3.72MB/s  eta 5m 14s "
       ]
      },
      {
       "output_type": "stream",
       "stream": "stdout",
       "text": [
        "\r",
        "11% [===>                                   ] 80,060,416  3.87MB/s  eta 5m 14s "
       ]
      },
      {
       "output_type": "stream",
       "stream": "stdout",
       "text": [
        "\r",
        "11% [===>                                   ] 81,010,688  3.96MB/s  eta 5m 1s  "
       ]
      },
      {
       "output_type": "stream",
       "stream": "stdout",
       "text": [
        "\r",
        "11% [===>                                   ] 81,879,040  4.02MB/s  eta 5m 1s  "
       ]
      },
      {
       "output_type": "stream",
       "stream": "stdout",
       "text": [
        "\r",
        "11% [===>                                   ] 82,911,232  4.12MB/s  eta 5m 1s  "
       ]
      },
      {
       "output_type": "stream",
       "stream": "stdout",
       "text": [
        "\r",
        "12% [===>                                   ] 83,812,352  4.21MB/s  eta 5m 1s  "
       ]
      },
      {
       "output_type": "stream",
       "stream": "stdout",
       "text": [
        "\r",
        "12% [===>                                   ] 84,860,928  4.27MB/s  eta 5m 1s  "
       ]
      },
      {
       "output_type": "stream",
       "stream": "stdout",
       "text": [
        "\r",
        "12% [===>                                   ] 85,909,504  4.34MB/s  eta 4m 49s "
       ]
      },
      {
       "output_type": "stream",
       "stream": "stdout",
       "text": [
        "\r",
        "12% [===>                                   ] 86,908,928  4.42MB/s  eta 4m 49s "
       ]
      },
      {
       "output_type": "stream",
       "stream": "stdout",
       "text": [
        "\r",
        "12% [===>                                   ] 87,957,504  4.48MB/s  eta 4m 49s "
       ]
      },
      {
       "output_type": "stream",
       "stream": "stdout",
       "text": [
        "\r",
        "12% [====>                                  ] 88,973,312  4.51MB/s  eta 4m 49s "
       ]
      },
      {
       "output_type": "stream",
       "stream": "stdout",
       "text": [
        "\r",
        "13% [====>                                  ] 90,087,424  4.56MB/s  eta 4m 49s "
       ]
      },
      {
       "output_type": "stream",
       "stream": "stdout",
       "text": [
        "\r",
        "13% [====>                                  ] 91,103,232  4.55MB/s  eta 4m 37s "
       ]
      },
      {
       "output_type": "stream",
       "stream": "stdout",
       "text": [
        "\r",
        "13% [====>                                  ] 92,250,112  4.47MB/s  eta 4m 37s "
       ]
      },
      {
       "output_type": "stream",
       "stream": "stdout",
       "text": [
        "\r",
        "13% [====>                                  ] 93,396,992  4.58MB/s  eta 4m 37s "
       ]
      },
      {
       "output_type": "stream",
       "stream": "stdout",
       "text": [
        "\r",
        "13% [====>                                  ] 94,232,576  4.56MB/s  eta 4m 37s "
       ]
      },
      {
       "output_type": "stream",
       "stream": "stdout",
       "text": [
        "\r",
        "13% [====>                                  ] 95,035,392  4.53MB/s  eta 4m 37s "
       ]
      },
      {
       "output_type": "stream",
       "stream": "stdout",
       "text": [
        "\r",
        "13% [====>                                  ] 95,887,360  4.52MB/s  eta 4m 28s "
       ]
      },
      {
       "output_type": "stream",
       "stream": "stdout",
       "text": [
        "\r",
        "13% [====>                                  ] 96,722,944  4.49MB/s  eta 4m 28s "
       ]
      },
      {
       "output_type": "stream",
       "stream": "stdout",
       "text": [
        "\r",
        "14% [====>                                  ] 97,558,528  4.46MB/s  eta 4m 28s "
       ]
      },
      {
       "output_type": "stream",
       "stream": "stdout",
       "text": [
        "\r",
        "14% [====>                                  ] 98,459,648  4.44MB/s  eta 4m 28s "
       ]
      },
      {
       "output_type": "stream",
       "stream": "stdout",
       "text": [
        "\r",
        "14% [====>                                  ] 99,278,848  4.39MB/s  eta 4m 28s "
       ]
      },
      {
       "output_type": "stream",
       "stream": "stdout",
       "text": [
        "\r",
        "14% [====>                                  ] 100,212,736 4.37MB/s  eta 4m 21s "
       ]
      },
      {
       "output_type": "stream",
       "stream": "stdout",
       "text": [
        "\r",
        "14% [====>                                  ] 101,048,320 4.30MB/s  eta 4m 21s "
       ]
      },
      {
       "output_type": "stream",
       "stream": "stdout",
       "text": [
        "\r",
        "14% [====>                                  ] 101,965,824 4.27MB/s  eta 4m 21s "
       ]
      },
      {
       "output_type": "stream",
       "stream": "stdout",
       "text": [
        "\r",
        "14% [====>                                  ] 102,834,176 4.22MB/s  eta 4m 21s "
       ]
      },
      {
       "output_type": "stream",
       "stream": "stdout",
       "text": [
        "\r",
        "14% [====>                                  ] 103,751,680 4.15MB/s  eta 4m 21s "
       ]
      },
      {
       "output_type": "stream",
       "stream": "stdout",
       "text": [
        "\r",
        "15% [====>                                  ] 104,620,032 4.11MB/s  eta 4m 13s "
       ]
      },
      {
       "output_type": "stream",
       "stream": "stdout",
       "text": [
        "\r",
        "15% [====>                                  ] 105,553,920 4.06MB/s  eta 4m 13s "
       ]
      },
      {
       "output_type": "stream",
       "stream": "stdout",
       "text": [
        "\r",
        "15% [====>                                  ] 106,438,656 4.05MB/s  eta 4m 13s "
       ]
      },
      {
       "output_type": "stream",
       "stream": "stdout",
       "text": [
        "\r",
        "15% [=====>                                 ] 107,356,160 4.07MB/s  eta 4m 13s "
       ]
      },
      {
       "output_type": "stream",
       "stream": "stdout",
       "text": [
        "\r",
        "15% [=====>                                 ] 108,191,744 4.08MB/s  eta 4m 13s "
       ]
      },
      {
       "output_type": "stream",
       "stream": "stdout",
       "text": [
        "\r",
        "15% [=====>                                 ] 108,863,488 4.03MB/s  eta 4m 7s  "
       ]
      },
      {
       "output_type": "stream",
       "stream": "stdout",
       "text": [
        "\r",
        "15% [=====>                                 ] 109,600,768 4.00MB/s  eta 4m 7s  "
       ]
      },
      {
       "output_type": "stream",
       "stream": "stdout",
       "text": [
        "\r",
        "15% [=====>                                 ] 110,272,512 3.95MB/s  eta 4m 7s  "
       ]
      },
      {
       "output_type": "stream",
       "stream": "stdout",
       "text": [
        "\r",
        "16% [=====>                                 ] 111,042,560 3.93MB/s  eta 4m 7s  "
       ]
      },
      {
       "output_type": "stream",
       "stream": "stdout",
       "text": [
        "\r",
        "16% [=====>                                 ] 111,747,072 3.89MB/s  eta 4m 7s  "
       ]
      },
      {
       "output_type": "stream",
       "stream": "stdout",
       "text": [
        "\r",
        "16% [=====>                                 ] 112,549,888 3.87MB/s  eta 4m 3s  "
       ]
      },
      {
       "output_type": "stream",
       "stream": "stdout",
       "text": [
        "\r",
        "16% [=====>                                 ] 113,270,784 3.71MB/s  eta 4m 3s  "
       ]
      },
      {
       "output_type": "stream",
       "stream": "stdout",
       "text": [
        "\r",
        "16% [=====>                                 ] 114,204,672 3.67MB/s  eta 4m 3s  "
       ]
      },
      {
       "output_type": "stream",
       "stream": "stdout",
       "text": [
        "\r",
        "16% [=====>                                 ] 114,876,416 3.60MB/s  eta 4m 3s  "
       ]
      },
      {
       "output_type": "stream",
       "stream": "stdout",
       "text": [
        "\r",
        "16% [=====>                                 ] 115,417,088 3.50MB/s  eta 4m 3s  "
       ]
      },
      {
       "output_type": "stream",
       "stream": "stdout",
       "text": [
        "\r",
        "16% [=====>                                 ] 116,072,448 3.43MB/s  eta 4m 0s  "
       ]
      },
      {
       "output_type": "stream",
       "stream": "stdout",
       "text": [
        "\r",
        "16% [=====>                                 ] 116,629,504 3.31MB/s  eta 4m 0s  "
       ]
      },
      {
       "output_type": "stream",
       "stream": "stdout",
       "text": [
        "\r",
        "16% [=====>                                 ] 117,317,632 3.27MB/s  eta 4m 0s  "
       ]
      },
      {
       "output_type": "stream",
       "stream": "stdout",
       "text": [
        "\r",
        "17% [=====>                                 ] 117,923,840 3.19MB/s  eta 4m 0s  "
       ]
      },
      {
       "output_type": "stream",
       "stream": "stdout",
       "text": [
        "\r",
        "17% [=====>                                 ] 118,628,352 3.11MB/s  eta 4m 0s  "
       ]
      },
      {
       "output_type": "stream",
       "stream": "stdout",
       "text": [
        "\r",
        "17% [=====>                                 ] 119,300,096 3.12MB/s  eta 3m 57s "
       ]
      },
      {
       "output_type": "stream",
       "stream": "stdout",
       "text": [
        "\r",
        "17% [=====>                                 ] 119,955,456 3.11MB/s  eta 3m 57s "
       ]
      },
      {
       "output_type": "stream",
       "stream": "stdout",
       "text": [
        "\r",
        "17% [=====>                                 ] 120,676,352 3.13MB/s  eta 3m 57s "
       ]
      },
      {
       "output_type": "stream",
       "stream": "stdout",
       "text": [
        "\r",
        "17% [=====>                                 ] 121,298,944 3.09MB/s  eta 3m 57s "
       ]
      },
      {
       "output_type": "stream",
       "stream": "stdout",
       "text": [
        "\r",
        "17% [=====>                                 ] 122,036,224 3.09MB/s  eta 3m 57s "
       ]
      },
      {
       "output_type": "stream",
       "stream": "stdout",
       "text": [
        "\r",
        "17% [=====>                                 ] 122,675,200 3.05MB/s  eta 3m 54s "
       ]
      },
      {
       "output_type": "stream",
       "stream": "stdout",
       "text": [
        "\r",
        "17% [=====>                                 ] 123,396,096 3.04MB/s  eta 3m 54s "
       ]
      },
      {
       "output_type": "stream",
       "stream": "stdout",
       "text": [
        "\r",
        "17% [=====>                                 ] 124,116,992 3.06MB/s  eta 3m 54s "
       ]
      },
      {
       "output_type": "stream",
       "stream": "stdout",
       "text": [
        "\r",
        "18% [======>                                ] 124,772,352 3.07MB/s  eta 3m 54s "
       ]
      },
      {
       "output_type": "stream",
       "stream": "stdout",
       "text": [
        "\r",
        "18% [======>                                ] 125,214,720 3.01MB/s  eta 3m 54s "
       ]
      },
      {
       "output_type": "stream",
       "stream": "stdout",
       "text": [
        "\r",
        "18% [======>                                ] 125,706,240 2.97MB/s  eta 3m 52s "
       ]
      },
      {
       "output_type": "stream",
       "stream": "stdout",
       "text": [
        "\r",
        "18% [======>                                ] 126,066,688 2.90MB/s  eta 3m 52s "
       ]
      },
      {
       "output_type": "stream",
       "stream": "stdout",
       "text": [
        "\r",
        "18% [======>                                ] 126,410,752 2.82MB/s  eta 3m 52s "
       ]
      },
      {
       "output_type": "stream",
       "stream": "stdout",
       "text": [
        "\r",
        "18% [======>                                ] 126,803,968 2.74MB/s  eta 3m 52s "
       ]
      },
      {
       "output_type": "stream",
       "stream": "stdout",
       "text": [
        "\r",
        "18% [======>                                ] 127,180,800 2.66MB/s  eta 3m 52s "
       ]
      },
      {
       "output_type": "stream",
       "stream": "stdout",
       "text": [
        "\r",
        "18% [======>                                ] 127,574,016 2.55MB/s  eta 3m 52s "
       ]
      },
      {
       "output_type": "stream",
       "stream": "stdout",
       "text": [
        "\r",
        "18% [======>                                ] 128,000,000 2.48MB/s  eta 3m 52s "
       ]
      },
      {
       "output_type": "stream",
       "stream": "stdout",
       "text": [
        "\r",
        "18% [======>                                ] 128,409,600 2.41MB/s  eta 3m 52s "
       ]
      },
      {
       "output_type": "stream",
       "stream": "stdout",
       "text": [
        "\r",
        "18% [======>                                ] 128,802,816 2.28MB/s  eta 3m 52s "
       ]
      },
      {
       "output_type": "stream",
       "stream": "stdout",
       "text": [
        "\r",
        "18% [======>                                ] 129,245,184 2.22MB/s  eta 3m 52s "
       ]
      },
      {
       "output_type": "stream",
       "stream": "stdout",
       "text": [
        "\r",
        "18% [======>                                ] 129,671,168 2.15MB/s  eta 3m 52s "
       ]
      },
      {
       "output_type": "stream",
       "stream": "stdout",
       "text": [
        "\r",
        "18% [======>                                ] 130,064,384 2.02MB/s  eta 3m 52s "
       ]
      },
      {
       "output_type": "stream",
       "stream": "stdout",
       "text": [
        "\r",
        "18% [======>                                ] 130,506,752 1.96MB/s  eta 3m 52s "
       ]
      },
      {
       "output_type": "stream",
       "stream": "stdout",
       "text": [
        "\r",
        "18% [======>                                ] 130,899,968 1.89MB/s  eta 3m 52s "
       ]
      },
      {
       "output_type": "stream",
       "stream": "stdout",
       "text": [
        "\r",
        "18% [======>                                ] 131,309,568 1.83MB/s  eta 3m 52s "
       ]
      },
      {
       "output_type": "stream",
       "stream": "stdout",
       "text": [
        "\r",
        "19% [======>                                ] 131,719,168 1.83MB/s  eta 3m 52s "
       ]
      },
      {
       "output_type": "stream",
       "stream": "stdout",
       "text": [
        "\r",
        "19% [======>                                ] 132,112,384 1.84MB/s  eta 3m 52s "
       ]
      },
      {
       "output_type": "stream",
       "stream": "stdout",
       "text": [
        "\r",
        "19% [======>                                ] 132,390,912 1.80MB/s  eta 3m 52s "
       ]
      },
      {
       "output_type": "stream",
       "stream": "stdout",
       "text": [
        "\r",
        "19% [======>                                ] 132,734,976 1.80MB/s  eta 3m 52s "
       ]
      },
      {
       "output_type": "stream",
       "stream": "stdout",
       "text": [
        "\r",
        "19% [======>                                ] 133,062,656 1.78MB/s  eta 3m 52s "
       ]
      },
      {
       "output_type": "stream",
       "stream": "stdout",
       "text": [
        "\r",
        "19% [======>                                ] 133,373,952 1.76MB/s  eta 3m 53s "
       ]
      },
      {
       "output_type": "stream",
       "stream": "stdout",
       "text": [
        "\r",
        "19% [======>                                ] 133,701,632 1.75MB/s  eta 3m 53s "
       ]
      },
      {
       "output_type": "stream",
       "stream": "stdout",
       "text": [
        "\r",
        "19% [======>                                ] 134,045,696 1.74MB/s  eta 3m 53s "
       ]
      },
      {
       "output_type": "stream",
       "stream": "stdout",
       "text": [
        "\r",
        "19% [======>                                ] 134,389,760 1.73MB/s  eta 3m 53s "
       ]
      },
      {
       "output_type": "stream",
       "stream": "stdout",
       "text": [
        "\r",
        "19% [======>                                ] 134,766,592 1.72MB/s  eta 3m 53s "
       ]
      },
      {
       "output_type": "stream",
       "stream": "stdout",
       "text": [
        "\r",
        "19% [======>                                ] 135,110,656 1.70MB/s  eta 3m 53s "
       ]
      },
      {
       "output_type": "stream",
       "stream": "stdout",
       "text": [
        "\r",
        "19% [======>                                ] 135,520,256 1.70MB/s  eta 3m 53s "
       ]
      },
      {
       "output_type": "stream",
       "stream": "stdout",
       "text": [
        "\r",
        "19% [======>                                ] 135,913,472 1.69MB/s  eta 3m 53s "
       ]
      },
      {
       "output_type": "stream",
       "stream": "stdout",
       "text": [
        "\r",
        "19% [======>                                ] 136,323,072 1.69MB/s  eta 3m 53s "
       ]
      },
      {
       "output_type": "stream",
       "stream": "stdout",
       "text": [
        "\r",
        "19% [======>                                ] 136,732,672 1.69MB/s  eta 3m 53s "
       ]
      },
      {
       "output_type": "stream",
       "stream": "stdout",
       "text": [
        "\r",
        "19% [======>                                ] 137,125,888 1.67MB/s  eta 3m 53s "
       ]
      },
      {
       "output_type": "stream",
       "stream": "stdout",
       "text": [
        "\r",
        "19% [======>                                ] 137,535,488 1.67MB/s  eta 3m 53s "
       ]
      },
      {
       "output_type": "stream",
       "stream": "stdout",
       "text": [
        "\r",
        "19% [======>                                ] 137,928,704 1.67MB/s  eta 3m 53s "
       ]
      },
      {
       "output_type": "stream",
       "stream": "stdout",
       "text": [
        "\r",
        "19% [======>                                ] 138,354,688 1.71MB/s  eta 3m 53s "
       ]
      },
      {
       "output_type": "stream",
       "stream": "stdout",
       "text": [
        "\r",
        "20% [======>                                ] 138,764,288 1.74MB/s  eta 3m 53s "
       ]
      },
      {
       "output_type": "stream",
       "stream": "stdout",
       "text": [
        "\r",
        "20% [======>                                ] 139,157,504 1.77MB/s  eta 3m 53s "
       ]
      },
      {
       "output_type": "stream",
       "stream": "stdout",
       "text": [
        "\r",
        "20% [======>                                ] 139,567,104 1.79MB/s  eta 3m 53s "
       ]
      },
      {
       "output_type": "stream",
       "stream": "stdout",
       "text": [
        "\r",
        "20% [======>                                ] 139,960,320 1.81MB/s  eta 3m 53s "
       ]
      },
      {
       "output_type": "stream",
       "stream": "stdout",
       "text": [
        "\r",
        "20% [======>                                ] 140,386,304 1.83MB/s  eta 3m 53s "
       ]
      },
      {
       "output_type": "stream",
       "stream": "stdout",
       "text": [
        "\r",
        "20% [======>                                ] 140,795,904 1.84MB/s  eta 3m 53s "
       ]
      },
      {
       "output_type": "stream",
       "stream": "stdout",
       "text": [
        "\r",
        "20% [======>                                ] 141,205,504 1.86MB/s  eta 3m 53s "
       ]
      },
      {
       "output_type": "stream",
       "stream": "stdout",
       "text": [
        "\r",
        "20% [======>                                ] 141,631,488 1.87MB/s  eta 3m 53s "
       ]
      },
      {
       "output_type": "stream",
       "stream": "stdout",
       "text": [
        "\r",
        "20% [=======>                               ] 142,024,704 1.87MB/s  eta 3m 53s "
       ]
      },
      {
       "output_type": "stream",
       "stream": "stdout",
       "text": [
        "\r",
        "20% [=======>                               ] 142,450,688 1.88MB/s  eta 3m 53s "
       ]
      },
      {
       "output_type": "stream",
       "stream": "stdout",
       "text": [
        "\r",
        "20% [=======>                               ] 142,794,752 1.86MB/s  eta 3m 53s "
       ]
      },
      {
       "output_type": "stream",
       "stream": "stdout",
       "text": [
        "\r",
        "20% [=======>                               ] 143,106,048 1.84MB/s  eta 3m 53s "
       ]
      },
      {
       "output_type": "stream",
       "stream": "stdout",
       "text": [
        "\r",
        "20% [=======>                               ] 143,433,728 1.82MB/s  eta 3m 53s "
       ]
      },
      {
       "output_type": "stream",
       "stream": "stdout",
       "text": [
        "\r",
        "20% [=======>                               ] 143,745,024 1.78MB/s  eta 3m 53s "
       ]
      },
      {
       "output_type": "stream",
       "stream": "stdout",
       "text": [
        "\r",
        "20% [=======>                               ] 144,105,472 1.77MB/s  eta 3m 53s "
       ]
      },
      {
       "output_type": "stream",
       "stream": "stdout",
       "text": [
        "\r",
        "20% [=======>                               ] 144,433,152 1.76MB/s  eta 3m 53s "
       ]
      },
      {
       "output_type": "stream",
       "stream": "stdout",
       "text": [
        "\r",
        "20% [=======>                               ] 144,793,600 1.74MB/s  eta 3m 54s "
       ]
      },
      {
       "output_type": "stream",
       "stream": "stdout",
       "text": [
        "\r",
        "20% [=======>                               ] 145,154,048 1.73MB/s  eta 3m 54s "
       ]
      },
      {
       "output_type": "stream",
       "stream": "stdout",
       "text": [
        "\r",
        "21% [=======>                               ] 145,530,880 1.72MB/s  eta 3m 54s "
       ]
      },
      {
       "output_type": "stream",
       "stream": "stdout",
       "text": [
        "\r",
        "21% [=======>                               ] 145,883,136 1.70MB/s  eta 3m 54s "
       ]
      },
      {
       "output_type": "stream",
       "stream": "stdout",
       "text": [
        "\r",
        "21% [=======>                               ] 146,284,544 1.70MB/s  eta 3m 54s "
       ]
      },
      {
       "output_type": "stream",
       "stream": "stdout",
       "text": [
        "\r",
        "21% [=======>                               ] 146,644,992 1.69MB/s  eta 3m 54s "
       ]
      },
      {
       "output_type": "stream",
       "stream": "stdout",
       "text": [
        "\r",
        "21% [=======>                               ] 147,005,440 1.67MB/s  eta 3m 54s "
       ]
      },
      {
       "output_type": "stream",
       "stream": "stdout",
       "text": [
        "\r",
        "21% [=======>                               ] 147,251,200 1.62MB/s  eta 3m 54s "
       ]
      },
      {
       "output_type": "stream",
       "stream": "stdout",
       "text": [
        "\r",
        "21% [=======>                               ] 147,595,264 1.59MB/s  eta 3m 54s "
       ]
      },
      {
       "output_type": "stream",
       "stream": "stdout",
       "text": [
        "\r",
        "21% [=======>                               ] 147,955,712 1.55MB/s  eta 3m 54s "
       ]
      },
      {
       "output_type": "stream",
       "stream": "stdout",
       "text": [
        "\r",
        "21% [=======>                               ] 148,316,160 1.56MB/s  eta 3m 54s "
       ]
      },
      {
       "output_type": "stream",
       "stream": "stdout",
       "text": [
        "\r",
        "21% [=======>                               ] 148,676,608 1.57MB/s  eta 3m 54s "
       ]
      },
      {
       "output_type": "stream",
       "stream": "stdout",
       "text": [
        "\r",
        "21% [=======>                               ] 148,987,904 1.57MB/s  eta 3m 54s "
       ]
      },
      {
       "output_type": "stream",
       "stream": "stdout",
       "text": [
        "\r",
        "21% [=======>                               ] 149,331,968 1.56MB/s  eta 3m 54s "
       ]
      },
      {
       "output_type": "stream",
       "stream": "stdout",
       "text": [
        "\r",
        "21% [=======>                               ] 149,692,416 1.56MB/s  eta 3m 54s "
       ]
      },
      {
       "output_type": "stream",
       "stream": "stdout",
       "text": [
        "\r",
        "21% [=======>                               ] 149,987,328 1.55MB/s  eta 3m 55s "
       ]
      },
      {
       "output_type": "stream",
       "stream": "stdout",
       "text": [
        "\r",
        "21% [=======>                               ] 150,347,776 1.55MB/s  eta 3m 55s "
       ]
      },
      {
       "output_type": "stream",
       "stream": "stdout",
       "text": [
        "\r",
        "21% [=======>                               ] 150,626,304 1.53MB/s  eta 3m 55s "
       ]
      },
      {
       "output_type": "stream",
       "stream": "stdout",
       "text": [
        "\r",
        "21% [=======>                               ] 151,003,136 1.53MB/s  eta 3m 55s "
       ]
      },
      {
       "output_type": "stream",
       "stream": "stdout",
       "text": [
        "\r",
        "21% [=======>                               ] 151,298,048 1.49MB/s  eta 3m 55s "
       ]
      },
      {
       "output_type": "stream",
       "stream": "stdout",
       "text": [
        "\r",
        "21% [=======>                               ] 151,543,808 1.44MB/s  eta 3m 56s "
       ]
      },
      {
       "output_type": "stream",
       "stream": "stdout",
       "text": [
        "\r",
        "21% [=======>                               ] 151,855,104 1.43MB/s  eta 3m 56s "
       ]
      },
      {
       "output_type": "stream",
       "stream": "stdout",
       "text": [
        "\r",
        "21% [=======>                               ] 152,166,400 1.42MB/s  eta 3m 56s "
       ]
      },
      {
       "output_type": "stream",
       "stream": "stdout",
       "text": [
        "\r",
        "22% [=======>                               ] 152,477,696 1.42MB/s  eta 3m 56s "
       ]
      },
      {
       "output_type": "stream",
       "stream": "stdout",
       "text": [
        "\r",
        "22% [=======>                               ] 152,739,840 1.40MB/s  eta 3m 56s "
       ]
      },
      {
       "output_type": "stream",
       "stream": "stdout",
       "text": [
        "\r",
        "22% [=======>                               ] 153,083,904 1.40MB/s  eta 3m 57s "
       ]
      },
      {
       "output_type": "stream",
       "stream": "stdout",
       "text": [
        "\r",
        "22% [=======>                               ] 153,411,584 1.41MB/s  eta 3m 57s "
       ]
      },
      {
       "output_type": "stream",
       "stream": "stdout",
       "text": [
        "\r",
        "22% [=======>                               ] 153,706,496 1.39MB/s  eta 3m 57s "
       ]
      },
      {
       "output_type": "stream",
       "stream": "stdout",
       "text": [
        "\r",
        "22% [=======>                               ] 154,083,328 1.39MB/s  eta 3m 57s "
       ]
      },
      {
       "output_type": "stream",
       "stream": "stdout",
       "text": [
        "\r",
        "22% [=======>                               ] 154,460,160 1.39MB/s  eta 3m 57s "
       ]
      },
      {
       "output_type": "stream",
       "stream": "stdout",
       "text": [
        "\r",
        "22% [=======>                               ] 154,836,992 1.39MB/s  eta 3m 57s "
       ]
      },
      {
       "output_type": "stream",
       "stream": "stdout",
       "text": [
        "\r",
        "22% [=======>                               ] 155,197,440 1.41MB/s  eta 3m 57s "
       ]
      },
      {
       "output_type": "stream",
       "stream": "stdout",
       "text": [
        "\r",
        "22% [=======>                               ] 155,492,352 1.39MB/s  eta 3m 57s "
       ]
      },
      {
       "output_type": "stream",
       "stream": "stdout",
       "text": [
        "\r",
        "22% [=======>                               ] 155,885,568 1.40MB/s  eta 3m 57s "
       ]
      },
      {
       "output_type": "stream",
       "stream": "stdout",
       "text": [
        "\r",
        "22% [=======>                               ] 156,278,784 1.42MB/s  eta 3m 57s "
       ]
      },
      {
       "output_type": "stream",
       "stream": "stdout",
       "text": [
        "\r",
        "22% [=======>                               ] 156,672,000 1.45MB/s  eta 3m 57s "
       ]
      },
      {
       "output_type": "stream",
       "stream": "stdout",
       "text": [
        "\r",
        "22% [=======>                               ] 157,065,216 1.47MB/s  eta 3m 57s "
       ]
      },
      {
       "output_type": "stream",
       "stream": "stdout",
       "text": [
        "\r",
        "22% [=======>                               ] 157,458,432 1.49MB/s  eta 3m 57s "
       ]
      },
      {
       "output_type": "stream",
       "stream": "stdout",
       "text": [
        "\r",
        "22% [=======>                               ] 157,851,648 1.52MB/s  eta 3m 57s "
       ]
      },
      {
       "output_type": "stream",
       "stream": "stdout",
       "text": [
        "\r",
        "22% [=======>                               ] 158,244,864 1.53MB/s  eta 3m 57s "
       ]
      },
      {
       "output_type": "stream",
       "stream": "stdout",
       "text": [
        "\r",
        "22% [=======>                               ] 158,638,080 1.54MB/s  eta 3m 58s "
       ]
      },
      {
       "output_type": "stream",
       "stream": "stdout",
       "text": [
        "\r",
        "22% [=======>                               ] 159,031,296 1.55MB/s  eta 3m 58s "
       ]
      },
      {
       "output_type": "stream",
       "stream": "stdout",
       "text": [
        "\r",
        "23% [=======>                               ] 159,408,128 1.56MB/s  eta 3m 58s "
       ]
      },
      {
       "output_type": "stream",
       "stream": "stdout",
       "text": [
        "\r",
        "23% [=======>                               ] 159,719,424 1.57MB/s  eta 3m 58s "
       ]
      },
      {
       "output_type": "stream",
       "stream": "stdout",
       "text": [
        "\r",
        "23% [========>                              ] 160,079,872 1.56MB/s  eta 3m 58s "
       ]
      },
      {
       "output_type": "stream",
       "stream": "stdout",
       "text": [
        "\r",
        "23% [========>                              ] 160,473,088 1.57MB/s  eta 3m 58s "
       ]
      },
      {
       "output_type": "stream",
       "stream": "stdout",
       "text": [
        "\r",
        "23% [========>                              ] 160,866,304 1.58MB/s  eta 3m 58s "
       ]
      },
      {
       "output_type": "stream",
       "stream": "stdout",
       "text": [
        "\r",
        "23% [========>                              ] 161,193,984 1.58MB/s  eta 3m 58s "
       ]
      },
      {
       "output_type": "stream",
       "stream": "stdout",
       "text": [
        "\r",
        "23% [========>                              ] 161,554,432 1.58MB/s  eta 3m 58s "
       ]
      },
      {
       "output_type": "stream",
       "stream": "stdout",
       "text": [
        "\r",
        "23% [========>                              ] 161,980,416 1.59MB/s  eta 3m 58s "
       ]
      },
      {
       "output_type": "stream",
       "stream": "stdout",
       "text": [
        "\r",
        "23% [========>                              ] 162,406,400 1.60MB/s  eta 3m 58s "
       ]
      },
      {
       "output_type": "stream",
       "stream": "stdout",
       "text": [
        "\r",
        "23% [========>                              ] 162,832,384 1.62MB/s  eta 3m 58s "
       ]
      },
      {
       "output_type": "stream",
       "stream": "stdout",
       "text": [
        "\r",
        "23% [========>                              ] 163,176,448 1.63MB/s  eta 3m 58s "
       ]
      },
      {
       "output_type": "stream",
       "stream": "stdout",
       "text": [
        "\r",
        "23% [========>                              ] 163,602,432 1.64MB/s  eta 3m 58s "
       ]
      },
      {
       "output_type": "stream",
       "stream": "stdout",
       "text": [
        "\r",
        "23% [========>                              ] 164,077,568 1.66MB/s  eta 3m 58s "
       ]
      },
      {
       "output_type": "stream",
       "stream": "stdout",
       "text": [
        "\r",
        "23% [========>                              ] 164,569,088 1.70MB/s  eta 3m 57s "
       ]
      },
      {
       "output_type": "stream",
       "stream": "stdout",
       "text": [
        "\r",
        "23% [========>                              ] 165,060,608 1.74MB/s  eta 3m 57s "
       ]
      },
      {
       "output_type": "stream",
       "stream": "stdout",
       "text": [
        "\r",
        "23% [========>                              ] 165,453,824 1.76MB/s  eta 3m 57s "
       ]
      },
      {
       "output_type": "stream",
       "stream": "stdout",
       "text": [
        "\r",
        "23% [========>                              ] 165,978,112 1.80MB/s  eta 3m 57s "
       ]
      },
      {
       "output_type": "stream",
       "stream": "stdout",
       "text": [
        "\r",
        "24% [========>                              ] 166,535,168 1.87MB/s  eta 3m 57s "
       ]
      },
      {
       "output_type": "stream",
       "stream": "stdout",
       "text": [
        "\r",
        "24% [========>                              ] 166,961,152 1.89MB/s  eta 3m 56s "
       ]
      },
      {
       "output_type": "stream",
       "stream": "stdout",
       "text": [
        "\r",
        "24% [========>                              ] 167,567,360 1.96MB/s  eta 3m 56s "
       ]
      },
      {
       "output_type": "stream",
       "stream": "stdout",
       "text": [
        "\r",
        "24% [========>                              ] 168,173,568 2.04MB/s  eta 3m 56s "
       ]
      },
      {
       "output_type": "stream",
       "stream": "stdout",
       "text": [
        "\r",
        "24% [========>                              ] 168,697,856 2.08MB/s  eta 3m 56s "
       ]
      },
      {
       "output_type": "stream",
       "stream": "stdout",
       "text": [
        "\r",
        "24% [========>                              ] 169,385,984 2.18MB/s  eta 3m 56s "
       ]
      },
      {
       "output_type": "stream",
       "stream": "stdout",
       "text": [
        "\r",
        "24% [========>                              ] 170,090,496 2.27MB/s  eta 3m 54s "
       ]
      },
      {
       "output_type": "stream",
       "stream": "stdout",
       "text": [
        "\r",
        "24% [========>                              ] 170,696,704 2.33MB/s  eta 3m 54s "
       ]
      },
      {
       "output_type": "stream",
       "stream": "stdout",
       "text": [
        "\r",
        "24% [========>                              ] 171,499,520 2.45MB/s  eta 3m 54s "
       ]
      },
      {
       "output_type": "stream",
       "stream": "stdout",
       "text": [
        "\r",
        "24% [========>                              ] 172,138,496 2.55MB/s  eta 3m 54s "
       ]
      },
      {
       "output_type": "stream",
       "stream": "stdout",
       "text": [
        "\r",
        "24% [========>                              ] 173,023,232 2.67MB/s  eta 3m 54s "
       ]
      },
      {
       "output_type": "stream",
       "stream": "stdout",
       "text": [
        "\r",
        "25% [========>                              ] 173,891,584 2.79MB/s  eta 3m 50s "
       ]
      },
      {
       "output_type": "stream",
       "stream": "stdout",
       "text": [
        "\r",
        "25% [========>                              ] 174,710,784 2.93MB/s  eta 3m 50s "
       ]
      },
      {
       "output_type": "stream",
       "stream": "stdout",
       "text": [
        "\r",
        "25% [========>                              ] 175,759,360 3.10MB/s  eta 3m 50s "
       ]
      },
      {
       "output_type": "stream",
       "stream": "stdout",
       "text": [
        "\r",
        "25% [========>                              ] 176,578,560 3.19MB/s  eta 3m 50s "
       ]
      },
      {
       "output_type": "stream",
       "stream": "stdout",
       "text": [
        "\r",
        "25% [=========>                             ] 177,725,440 3.38MB/s  eta 3m 50s "
       ]
      },
      {
       "output_type": "stream",
       "stream": "stdout",
       "text": [
        "\r",
        "25% [=========>                             ] 178,610,176 3.54MB/s  eta 3m 45s "
       ]
      },
      {
       "output_type": "stream",
       "stream": "stdout",
       "text": [
        "\r",
        "25% [=========>                             ] 179,904,512 3.75MB/s  eta 3m 45s "
       ]
      },
      {
       "output_type": "stream",
       "stream": "stdout",
       "text": [
        "\r",
        "26% [=========>                             ] 180,920,320 3.87MB/s  eta 3m 45s "
       ]
      },
      {
       "output_type": "stream",
       "stream": "stdout",
       "text": [
        "\r",
        "26% [=========>                             ] 182,345,728 4.15MB/s  eta 3m 45s "
       ]
      },
      {
       "output_type": "stream",
       "stream": "stdout",
       "text": [
        "\r",
        "26% [=========>                             ] 183,590,912 4.33MB/s  eta 3m 45s "
       ]
      },
      {
       "output_type": "stream",
       "stream": "stdout",
       "text": [
        "\r",
        "26% [=========>                             ] 185,032,704 4.55MB/s  eta 3m 37s "
       ]
      },
      {
       "output_type": "stream",
       "stream": "stdout",
       "text": [
        "\r",
        "26% [=========>                             ] 186,425,344 4.75MB/s  eta 3m 37s "
       ]
      },
      {
       "output_type": "stream",
       "stream": "stdout",
       "text": [
        "\r",
        "27% [=========>                             ] 187,981,824 5.06MB/s  eta 3m 37s "
       ]
      },
      {
       "output_type": "stream",
       "stream": "stdout",
       "text": [
        "\r",
        "27% [=========>                             ] 189,538,304 5.29MB/s  eta 3m 37s "
       ]
      },
      {
       "output_type": "stream",
       "stream": "stdout",
       "text": [
        "\r",
        "27% [=========>                             ] 191,242,240 5.54MB/s  eta 3m 37s "
       ]
      },
      {
       "output_type": "stream",
       "stream": "stdout",
       "text": [
        "\r",
        "27% [=========>                             ] 193,044,480 5.81MB/s  eta 3m 27s "
       ]
      },
      {
       "output_type": "stream",
       "stream": "stdout",
       "text": [
        "\r",
        "28% [=========>                             ] 194,863,104 6.18MB/s  eta 3m 27s "
       ]
      },
      {
       "output_type": "stream",
       "stream": "stdout",
       "text": [
        "\r",
        "28% [==========>                            ] 196,845,568 6.48MB/s  eta 3m 27s "
       ]
      },
      {
       "output_type": "stream",
       "stream": "stdout",
       "text": [
        "\r",
        "28% [==========>                            ] 198,811,648 6.75MB/s  eta 3m 27s "
       ]
      },
      {
       "output_type": "stream",
       "stream": "stdout",
       "text": [
        "\r",
        "29% [==========>                            ] 200,826,880 7.15MB/s  eta 3m 27s "
       ]
      },
      {
       "output_type": "stream",
       "stream": "stdout",
       "text": [
        "\r",
        "29% [==========>                            ] 203,137,024 7.51MB/s  eta 3m 15s "
       ]
      },
      {
       "output_type": "stream",
       "stream": "stdout",
       "text": [
        "\r",
        "29% [==========>                            ] 205,266,944 7.80MB/s  eta 3m 15s "
       ]
      },
      {
       "output_type": "stream",
       "stream": "stdout",
       "text": [
        "\r",
        "29% [==========>                            ] 207,003,648 8.05MB/s  eta 3m 15s "
       ]
      },
      {
       "output_type": "stream",
       "stream": "stdout",
       "text": [
        "\r",
        "30% [==========>                            ] 208,855,040 8.21MB/s  eta 3m 15s "
       ]
      },
      {
       "output_type": "stream",
       "stream": "stdout",
       "text": [
        "\r",
        "30% [==========>                            ] 210,509,824 8.29MB/s  eta 3m 15s "
       ]
      },
      {
       "output_type": "stream",
       "stream": "stdout",
       "text": [
        "\r",
        "30% [==========>                            ] 212,418,560 8.54MB/s  eta 3m 6s  "
       ]
      },
      {
       "output_type": "stream",
       "stream": "stdout",
       "text": [
        "\r",
        "30% [===========>                           ] 214,179,840 8.61MB/s  eta 3m 6s  "
       ]
      },
      {
       "output_type": "stream",
       "stream": "stdout",
       "text": [
        "\r",
        "31% [===========>                           ] 216,195,072 8.76MB/s  eta 3m 6s  "
       ]
      },
      {
       "output_type": "stream",
       "stream": "stdout",
       "text": [
        "\r",
        "31% [===========>                           ] 218,013,696 8.89MB/s  eta 3m 6s  "
       ]
      },
      {
       "output_type": "stream",
       "stream": "stdout",
       "text": [
        "\r",
        "31% [===========>                           ] 220,160,000 9.02MB/s  eta 3m 6s  "
       ]
      },
      {
       "output_type": "stream",
       "stream": "stdout",
       "text": [
        "\r",
        "32% [===========>                           ] 222,011,392 9.03MB/s  eta 2m 56s "
       ]
      },
      {
       "output_type": "stream",
       "stream": "stdout",
       "text": [
        "\r",
        "32% [===========>                           ] 224,092,160 9.17MB/s  eta 2m 56s "
       ]
      },
      {
       "output_type": "stream",
       "stream": "stdout",
       "text": [
        "\r",
        "32% [===========>                           ] 226,107,392 9.21MB/s  eta 2m 56s "
       ]
      },
      {
       "output_type": "stream",
       "stream": "stdout",
       "text": [
        "\r",
        "32% [===========>                           ] 227,991,552 9.18MB/s  eta 2m 56s "
       ]
      },
      {
       "output_type": "stream",
       "stream": "stdout",
       "text": [
        "\r",
        "33% [===========>                           ] 229,466,112 9.04MB/s  eta 2m 56s "
       ]
      },
      {
       "output_type": "stream",
       "stream": "stdout",
       "text": [
        "\r",
        "33% [============>                          ] 231,006,208 8.80MB/s  eta 2m 48s "
       ]
      },
      {
       "output_type": "stream",
       "stream": "stdout",
       "text": [
        "\r",
        "33% [============>                          ] 232,497,152 8.59MB/s  eta 2m 48s "
       ]
      },
      {
       "output_type": "stream",
       "stream": "stdout",
       "text": [
        "\r",
        "33% [============>                          ] 234,053,632 8.42MB/s  eta 2m 48s "
       ]
      },
      {
       "output_type": "stream",
       "stream": "stdout",
       "text": [
        "\r",
        "34% [============>                          ] 235,511,808 8.36MB/s  eta 2m 48s "
       ]
      },
      {
       "output_type": "stream",
       "stream": "stdout",
       "text": [
        "\r",
        "34% [============>                          ] 236,658,688 8.19MB/s  eta 2m 48s "
       ]
      },
      {
       "output_type": "stream",
       "stream": "stdout",
       "text": [
        "\r",
        "34% [============>                          ] 237,740,032 8.05MB/s  eta 2m 43s "
       ]
      },
      {
       "output_type": "stream",
       "stream": "stdout",
       "text": [
        "\r",
        "34% [============>                          ] 238,985,216 7.80MB/s  eta 2m 43s "
       ]
      },
      {
       "output_type": "stream",
       "stream": "stdout",
       "text": [
        "\r",
        "34% [============>                          ] 240,181,248 7.60MB/s  eta 2m 43s "
       ]
      },
      {
       "output_type": "stream",
       "stream": "stdout",
       "text": [
        "\r",
        "34% [============>                          ] 241,393,664 7.40MB/s  eta 2m 43s "
       ]
      },
      {
       "output_type": "stream",
       "stream": "stdout",
       "text": [
        "\r",
        "35% [============>                          ] 242,671,616 7.22MB/s  eta 2m 43s "
       ]
      },
      {
       "output_type": "stream",
       "stream": "stdout",
       "text": [
        "\r",
        "35% [============>                          ] 243,867,648 6.91MB/s  eta 2m 39s "
       ]
      },
      {
       "output_type": "stream",
       "stream": "stdout",
       "text": [
        "\r",
        "35% [============>                          ] 245,080,064 6.71MB/s  eta 2m 39s "
       ]
      },
      {
       "output_type": "stream",
       "stream": "stdout",
       "text": [
        "\r",
        "35% [============>                          ] 246,489,088 6.60MB/s  eta 2m 39s "
       ]
      },
      {
       "output_type": "stream",
       "stream": "stdout",
       "text": [
        "\r",
        "35% [============>                          ] 247,717,888 6.41MB/s  eta 2m 39s "
       ]
      },
      {
       "output_type": "stream",
       "stream": "stdout",
       "text": [
        "\r",
        "35% [=============>                         ] 249,110,528 6.17MB/s  eta 2m 39s "
       ]
      },
      {
       "output_type": "stream",
       "stream": "stdout",
       "text": [
        "\r",
        "36% [=============>                         ] 250,404,864 6.12MB/s  eta 2m 34s "
       ]
      },
      {
       "output_type": "stream",
       "stream": "stdout",
       "text": [
        "\r",
        "36% [=============>                         ] 251,748,352 6.09MB/s  eta 2m 34s "
       ]
      },
      {
       "output_type": "stream",
       "stream": "stdout",
       "text": [
        "\r",
        "36% [=============>                         ] 253,124,608 6.03MB/s  eta 2m 34s "
       ]
      },
      {
       "output_type": "stream",
       "stream": "stdout",
       "text": [
        "\r",
        "36% [=============>                         ] 254,435,328 5.98MB/s  eta 2m 34s "
       ]
      },
      {
       "output_type": "stream",
       "stream": "stdout",
       "text": [
        "\r",
        "36% [=============>                         ] 255,811,584 6.14MB/s  eta 2m 34s "
       ]
      },
      {
       "output_type": "stream",
       "stream": "stdout",
       "text": [
        "\r",
        "37% [=============>                         ] 257,105,920 6.02MB/s  eta 2m 29s "
       ]
      },
      {
       "output_type": "stream",
       "stream": "stdout",
       "text": [
        "\r",
        "37% [=============>                         ] 258,596,864 6.11MB/s  eta 2m 29s "
       ]
      },
      {
       "output_type": "stream",
       "stream": "stdout",
       "text": [
        "\r",
        "37% [=============>                         ] 259,907,584 6.14MB/s  eta 2m 29s "
       ]
      },
      {
       "output_type": "stream",
       "stream": "stdout",
       "text": [
        "\r",
        "37% [=============>                         ] 261,316,608 6.20MB/s  eta 2m 29s "
       ]
      },
      {
       "output_type": "stream",
       "stream": "stdout",
       "text": [
        "\r",
        "37% [=============>                         ] 262,692,864 6.26MB/s  eta 2m 29s "
       ]
      },
      {
       "output_type": "stream",
       "stream": "stdout",
       "text": [
        "\r",
        "38% [=============>                         ] 264,052,736 6.29MB/s  eta 2m 25s "
       ]
      },
      {
       "output_type": "stream",
       "stream": "stdout",
       "text": [
        "\r",
        "38% [=============>                         ] 265,461,760 6.33MB/s  eta 2m 25s "
       ]
      },
      {
       "output_type": "stream",
       "stream": "stdout",
       "text": [
        "\r",
        "38% [==============>                        ] 266,788,864 6.34MB/s  eta 2m 25s "
       ]
      },
      {
       "output_type": "stream",
       "stream": "stdout",
       "text": [
        "\r",
        "38% [==============>                        ] 268,279,808 6.43MB/s  eta 2m 25s "
       ]
      },
      {
       "output_type": "stream",
       "stream": "stdout",
       "text": [
        "\r",
        "38% [==============>                        ] 269,557,760 6.42MB/s  eta 2m 25s "
       ]
      },
      {
       "output_type": "stream",
       "stream": "stdout",
       "text": [
        "\r",
        "39% [==============>                        ] 271,032,320 6.46MB/s  eta 2m 20s "
       ]
      },
      {
       "output_type": "stream",
       "stream": "stdout",
       "text": [
        "\r",
        "39% [==============>                        ] 272,244,736 6.44MB/s  eta 2m 20s "
       ]
      },
      {
       "output_type": "stream",
       "stream": "stdout",
       "text": [
        "\r",
        "39% [==============>                        ] 273,752,064 6.49MB/s  eta 2m 20s "
       ]
      },
      {
       "output_type": "stream",
       "stream": "stdout",
       "text": [
        "\r",
        "39% [==============>                        ] 274,997,248 6.46MB/s  eta 2m 20s "
       ]
      },
      {
       "output_type": "stream",
       "stream": "stdout",
       "text": [
        "\r",
        "39% [==============>                        ] 276,488,192 6.49MB/s  eta 2m 20s "
       ]
      },
      {
       "output_type": "stream",
       "stream": "stdout",
       "text": [
        "\r",
        "40% [==============>                        ] 277,864,448 6.50MB/s  eta 2m 16s "
       ]
      },
      {
       "output_type": "stream",
       "stream": "stdout",
       "text": [
        "\r",
        "40% [==============>                        ] 279,207,936 6.50MB/s  eta 2m 16s "
       ]
      },
      {
       "output_type": "stream",
       "stream": "stdout",
       "text": [
        "\r",
        "40% [==============>                        ] 280,600,576 6.50MB/s  eta 2m 16s "
       ]
      },
      {
       "output_type": "stream",
       "stream": "stdout",
       "text": [
        "\r",
        "40% [==============>                        ] 281,927,680 6.47MB/s  eta 2m 16s "
       ]
      },
      {
       "output_type": "stream",
       "stream": "stdout",
       "text": [
        "\r",
        "40% [==============>                        ] 283,418,624 6.51MB/s  eta 2m 16s "
       ]
      },
      {
       "output_type": "stream",
       "stream": "stdout",
       "text": [
        "\r",
        "41% [===============>                       ] 284,680,192 6.48MB/s  eta 2m 12s "
       ]
      },
      {
       "output_type": "stream",
       "stream": "stdout",
       "text": [
        "\r",
        "41% [===============>                       ] 286,171,136 6.51MB/s  eta 2m 12s "
       ]
      },
      {
       "output_type": "stream",
       "stream": "stdout",
       "text": [
        "\r",
        "41% [===============>                       ] 287,399,936 6.43MB/s  eta 2m 12s "
       ]
      },
      {
       "output_type": "stream",
       "stream": "stdout",
       "text": [
        "\r",
        "41% [===============>                       ] 288,989,184 6.49MB/s  eta 2m 12s "
       ]
      },
      {
       "output_type": "stream",
       "stream": "stdout",
       "text": [
        "\r",
        "41% [===============>                       ] 290,136,064 6.42MB/s  eta 2m 12s "
       ]
      },
      {
       "output_type": "stream",
       "stream": "stdout",
       "text": [
        "\r",
        "42% [===============>                       ] 291,758,080 6.47MB/s  eta 2m 8s  "
       ]
      },
      {
       "output_type": "stream",
       "stream": "stdout",
       "text": [
        "\r",
        "42% [===============>                       ] 293,085,184 6.46MB/s  eta 2m 8s  "
       ]
      },
      {
       "output_type": "stream",
       "stream": "stdout",
       "text": [
        "\r",
        "42% [===============>                       ] 294,543,360 6.49MB/s  eta 2m 8s  "
       ]
      },
      {
       "output_type": "stream",
       "stream": "stdout",
       "text": [
        "\r",
        "42% [===============>                       ] 295,821,312 6.47MB/s  eta 2m 8s  "
       ]
      },
      {
       "output_type": "stream",
       "stream": "stdout",
       "text": [
        "\r",
        "42% [===============>                       ] 297,394,176 6.52MB/s  eta 2m 8s  "
       ]
      },
      {
       "output_type": "stream",
       "stream": "stdout",
       "text": [
        "\r",
        "43% [===============>                       ] 298,786,816 6.53MB/s  eta 2m 4s  "
       ]
      },
      {
       "output_type": "stream",
       "stream": "stdout",
       "text": [
        "\r",
        "43% [===============>                       ] 300,277,760 6.51MB/s  eta 2m 4s  "
       ]
      },
      {
       "output_type": "stream",
       "stream": "stdout",
       "text": [
        "\r",
        "43% [================>                      ] 301,981,696 6.60MB/s  eta 2m 4s  "
       ]
      },
      {
       "output_type": "stream",
       "stream": "stdout",
       "text": [
        "\r",
        "43% [================>                      ] 303,333,376 6.60MB/s  eta 2m 4s  "
       ]
      },
      {
       "output_type": "stream",
       "stream": "stdout",
       "text": [
        "\r",
        "44% [================>                      ] 304,963,584 6.67MB/s  eta 2m 4s  "
       ]
      },
      {
       "output_type": "stream",
       "stream": "stdout",
       "text": [
        "\r",
        "44% [================>                      ] 306,372,608 6.70MB/s  eta 2m 0s  "
       ]
      },
      {
       "output_type": "stream",
       "stream": "stdout",
       "text": [
        "\r",
        "44% [================>                      ] 308,011,008 6.77MB/s  eta 2m 0s  "
       ]
      },
      {
       "output_type": "stream",
       "stream": "stdout",
       "text": [
        "\r",
        "44% [================>                      ] 309,567,488 6.82MB/s  eta 2m 0s  "
       ]
      },
      {
       "output_type": "stream",
       "stream": "stdout",
       "text": [
        "\r",
        "44% [================>                      ] 311,140,352 6.88MB/s  eta 2m 0s  "
       ]
      },
      {
       "output_type": "stream",
       "stream": "stdout",
       "text": [
        "\r",
        "45% [================>                      ] 312,778,752 6.98MB/s  eta 2m 0s  "
       ]
      },
      {
       "output_type": "stream",
       "stream": "stdout",
       "text": [
        "\r",
        "45% [================>                      ] 314,400,768 7.00MB/s  eta 1m 56s "
       ]
      },
      {
       "output_type": "stream",
       "stream": "stdout",
       "text": [
        "\r",
        "45% [================>                      ] 316,334,080 7.13MB/s  eta 1m 56s "
       ]
      },
      {
       "output_type": "stream",
       "stream": "stdout",
       "text": [
        "\r",
        "45% [================>                      ] 317,792,256 7.19MB/s  eta 1m 56s "
       ]
      },
      {
       "output_type": "stream",
       "stream": "stdout",
       "text": [
        "\r",
        "46% [=================>                     ] 319,774,720 7.40MB/s  eta 1m 56s "
       ]
      },
      {
       "output_type": "stream",
       "stream": "stdout",
       "text": [
        "\r",
        "46% [=================>                     ] 321,265,664 7.42MB/s  eta 1m 56s "
       ]
      },
      {
       "output_type": "stream",
       "stream": "stdout",
       "text": [
        "\r",
        "46% [=================>                     ] 323,215,360 7.57MB/s  eta 1m 51s "
       ]
      },
      {
       "output_type": "stream",
       "stream": "stdout",
       "text": [
        "\r",
        "46% [=================>                     ] 324,886,528 7.66MB/s  eta 1m 51s "
       ]
      },
      {
       "output_type": "stream",
       "stream": "stdout",
       "text": [
        "\r",
        "47% [=================>                     ] 326,541,312 7.72MB/s  eta 1m 51s "
       ]
      },
      {
       "output_type": "stream",
       "stream": "stdout",
       "text": [
        "\r",
        "47% [=================>                     ] 327,868,416 7.66MB/s  eta 1m 51s "
       ]
      },
      {
       "output_type": "stream",
       "stream": "stdout",
       "text": [
        "\r",
        "47% [=================>                     ] 329,228,288 7.64MB/s  eta 1m 51s "
       ]
      },
      {
       "output_type": "stream",
       "stream": "stdout",
       "text": [
        "\r",
        "47% [=================>                     ] 330,555,392 7.59MB/s  eta 1m 48s "
       ]
      },
      {
       "output_type": "stream",
       "stream": "stdout",
       "text": [
        "\r",
        "47% [=================>                     ] 331,571,200 7.43MB/s  eta 1m 48s "
       ]
      },
      {
       "output_type": "stream",
       "stream": "stdout",
       "text": [
        "\r",
        "48% [=================>                     ] 332,636,160 7.30MB/s  eta 1m 48s "
       ]
      },
      {
       "output_type": "stream",
       "stream": "stdout",
       "text": [
        "\r",
        "48% [=================>                     ] 333,684,736 7.12MB/s  eta 1m 48s "
       ]
      },
      {
       "output_type": "stream",
       "stream": "stdout",
       "text": [
        "\r",
        "48% [=================>                     ] 334,815,232 6.99MB/s  eta 1m 48s "
       ]
      },
      {
       "output_type": "stream",
       "stream": "stdout",
       "text": [
        "\r",
        "48% [=================>                     ] 335,912,960 6.85MB/s  eta 1m 46s "
       ]
      },
      {
       "output_type": "stream",
       "stream": "stdout",
       "text": [
        "\r",
        "48% [=================>                     ] 337,027,072 6.65MB/s  eta 1m 46s "
       ]
      },
      {
       "output_type": "stream",
       "stream": "stdout",
       "text": [
        "\r",
        "48% [==================>                    ] 338,190,336 6.51MB/s  eta 1m 46s "
       ]
      },
      {
       "output_type": "stream",
       "stream": "stdout",
       "text": [
        "\r",
        "49% [==================>                    ] 339,304,448 6.36MB/s  eta 1m 46s "
       ]
      },
      {
       "output_type": "stream",
       "stream": "stdout",
       "text": [
        "\r",
        "49% [==================>                    ] 340,434,944 6.10MB/s  eta 1m 46s "
       ]
      },
      {
       "output_type": "stream",
       "stream": "stdout",
       "text": [
        "\r",
        "49% [==================>                    ] 341,532,672 5.91MB/s  eta 1m 43s "
       ]
      },
      {
       "output_type": "stream",
       "stream": "stdout",
       "text": [
        "\r",
        "49% [==================>                    ] 342,515,712 5.70MB/s  eta 1m 43s "
       ]
      },
      {
       "output_type": "stream",
       "stream": "stdout",
       "text": [
        "\r",
        "49% [==================>                    ] 343,334,912 5.52MB/s  eta 1m 43s "
       ]
      },
      {
       "output_type": "stream",
       "stream": "stdout",
       "text": [
        "\r",
        "49% [==================>                    ] 344,055,808 5.14MB/s  eta 1m 43s "
       ]
      },
      {
       "output_type": "stream",
       "stream": "stdout",
       "text": [
        "\r",
        "49% [==================>                    ] 344,678,400 4.96MB/s  eta 1m 43s "
       ]
      },
      {
       "output_type": "stream",
       "stream": "stdout",
       "text": [
        "\r",
        "49% [==================>                    ] 345,333,760 4.78MB/s  eta 1m 42s "
       ]
      },
      {
       "output_type": "stream",
       "stream": "stdout",
       "text": [
        "\r",
        "49% [==================>                    ] 345,956,352 4.55MB/s  eta 1m 42s "
       ]
      },
      {
       "output_type": "stream",
       "stream": "stdout",
       "text": [
        "\r",
        "50% [==================>                    ] 346,660,864 4.44MB/s  eta 1m 42s "
       ]
      },
      {
       "output_type": "stream",
       "stream": "stdout",
       "text": [
        "\r",
        "50% [==================>                    ] 347,332,608 4.32MB/s  eta 1m 42s "
       ]
      },
      {
       "output_type": "stream",
       "stream": "stdout",
       "text": [
        "\r",
        "50% [==================>                    ] 348,037,120 4.17MB/s  eta 1m 42s "
       ]
      },
      {
       "output_type": "stream",
       "stream": "stdout",
       "text": [
        "\r",
        "50% [==================>                    ] 348,758,016 4.07MB/s  eta 1m 41s "
       ]
      },
      {
       "output_type": "stream",
       "stream": "stdout",
       "text": [
        "\r",
        "50% [==================>                    ] 349,462,528 3.96MB/s  eta 1m 41s "
       ]
      },
      {
       "output_type": "stream",
       "stream": "stdout",
       "text": [
        "\r",
        "50% [==================>                    ] 350,183,424 3.79MB/s  eta 1m 41s "
       ]
      },
      {
       "output_type": "stream",
       "stream": "stdout",
       "text": [
        "\r",
        "50% [==================>                    ] 350,478,336 3.48MB/s  eta 1m 41s "
       ]
      },
      {
       "output_type": "stream",
       "stream": "stdout",
       "text": [
        "\r",
        "50% [==================>                    ] 351,133,696 3.35MB/s  eta 1m 41s "
       ]
      },
      {
       "output_type": "stream",
       "stream": "stdout",
       "text": [
        "\r",
        "50% [==================>                    ] 351,510,528 3.07MB/s  eta 1m 40s "
       ]
      },
      {
       "output_type": "stream",
       "stream": "stdout",
       "text": [
        "\r",
        "50% [==================>                    ] 351,887,360 3.01MB/s  eta 1m 40s "
       ]
      },
      {
       "output_type": "stream",
       "stream": "stdout",
       "text": [
        "\r",
        "50% [==================>                    ] 352,280,576 2.77MB/s  eta 1m 40s "
       ]
      },
      {
       "output_type": "stream",
       "stream": "stdout",
       "text": [
        "\r",
        "50% [==================>                    ] 352,673,792 2.67MB/s  eta 1m 40s "
       ]
      },
      {
       "output_type": "stream",
       "stream": "stdout",
       "text": [
        "\r",
        "51% [==================>                    ] 353,067,008 2.57MB/s  eta 1m 40s "
       ]
      },
      {
       "output_type": "stream",
       "stream": "stdout",
       "text": [
        "\r",
        "51% [==================>                    ] 353,476,608 2.51MB/s  eta 1m 40s "
       ]
      },
      {
       "output_type": "stream",
       "stream": "stdout",
       "text": [
        "\r",
        "51% [==================>                    ] 353,886,208 2.44MB/s  eta 1m 40s "
       ]
      },
      {
       "output_type": "stream",
       "stream": "stdout",
       "text": [
        "\r",
        "51% [==================>                    ] 354,312,192 2.34MB/s  eta 1m 40s "
       ]
      },
      {
       "output_type": "stream",
       "stream": "stdout",
       "text": [
        "\r",
        "51% [==================>                    ] 354,705,408 2.27MB/s  eta 1m 40s "
       ]
      },
      {
       "output_type": "stream",
       "stream": "stdout",
       "text": [
        "\r",
        "51% [===================>                   ] 355,131,392 2.21MB/s  eta 1m 40s "
       ]
      },
      {
       "output_type": "stream",
       "stream": "stdout",
       "text": [
        "\r",
        "51% [===================>                   ] 355,524,608 2.07MB/s  eta 1m 40s "
       ]
      },
      {
       "output_type": "stream",
       "stream": "stdout",
       "text": [
        "\r",
        "51% [===================>                   ] 355,901,440 1.99MB/s  eta 1m 40s "
       ]
      },
      {
       "output_type": "stream",
       "stream": "stdout",
       "text": [
        "\r",
        "51% [===================>                   ] 356,229,120 1.83MB/s  eta 1m 40s "
       ]
      },
      {
       "output_type": "stream",
       "stream": "stdout",
       "text": [
        "\r",
        "51% [===================>                   ] 356,556,800 1.89MB/s  eta 1m 40s "
       ]
      },
      {
       "output_type": "stream",
       "stream": "stdout",
       "text": [
        "\r",
        "51% [===================>                   ] 356,900,864 1.76MB/s  eta 1m 40s "
       ]
      },
      {
       "output_type": "stream",
       "stream": "stdout",
       "text": [
        "\r",
        "51% [===================>                   ] 357,228,544 1.75MB/s  eta 1m 40s "
       ]
      },
      {
       "output_type": "stream",
       "stream": "stdout",
       "text": [
        "\r",
        "51% [===================>                   ] 357,621,760 1.75MB/s  eta 1m 40s "
       ]
      },
      {
       "output_type": "stream",
       "stream": "stdout",
       "text": [
        "\r",
        "51% [===================>                   ] 358,014,976 1.75MB/s  eta 1m 40s "
       ]
      },
      {
       "output_type": "stream",
       "stream": "stdout",
       "text": [
        "\r",
        "51% [===================>                   ] 358,391,808 1.75MB/s  eta 1m 40s "
       ]
      },
      {
       "output_type": "stream",
       "stream": "stdout",
       "text": [
        "\r",
        "51% [===================>                   ] 358,785,024 1.74MB/s  eta 1m 40s "
       ]
      },
      {
       "output_type": "stream",
       "stream": "stdout",
       "text": [
        "\r",
        "51% [===================>                   ] 359,161,856 1.74MB/s  eta 1m 40s "
       ]
      },
      {
       "output_type": "stream",
       "stream": "stdout",
       "text": [
        "\r",
        "51% [===================>                   ] 359,555,072 1.74MB/s  eta 1m 40s "
       ]
      },
      {
       "output_type": "stream",
       "stream": "stdout",
       "text": [
        "\r",
        "52% [===================>                   ] 359,964,672 1.73MB/s  eta 1m 40s "
       ]
      },
      {
       "output_type": "stream",
       "stream": "stdout",
       "text": [
        "\r",
        "52% [===================>                   ] 360,357,888 1.73MB/s  eta 1m 40s "
       ]
      },
      {
       "output_type": "stream",
       "stream": "stdout",
       "text": [
        "\r",
        "52% [===================>                   ] 360,800,256 1.73MB/s  eta 1m 40s "
       ]
      },
      {
       "output_type": "stream",
       "stream": "stdout",
       "text": [
        "\r",
        "52% [===================>                   ] 361,209,856 1.74MB/s  eta 1m 40s "
       ]
      },
      {
       "output_type": "stream",
       "stream": "stdout",
       "text": [
        "\r",
        "52% [===================>                   ] 361,635,840 1.78MB/s  eta 1m 40s "
       ]
      },
      {
       "output_type": "stream",
       "stream": "stdout",
       "text": [
        "\r",
        "52% [===================>                   ] 362,078,208 1.77MB/s  eta 1m 40s "
       ]
      },
      {
       "output_type": "stream",
       "stream": "stdout",
       "text": [
        "\r",
        "52% [===================>                   ] 362,504,192 1.81MB/s  eta 1m 40s "
       ]
      },
      {
       "output_type": "stream",
       "stream": "stdout",
       "text": [
        "\r",
        "52% [===================>                   ] 362,946,560 1.84MB/s  eta 1m 40s "
       ]
      },
      {
       "output_type": "stream",
       "stream": "stdout",
       "text": [
        "\r",
        "52% [===================>                   ] 363,405,312 1.87MB/s  eta 99s    "
       ]
      },
      {
       "output_type": "stream",
       "stream": "stdout",
       "text": [
        "\r",
        "52% [===================>                   ] 363,831,296 1.90MB/s  eta 99s    "
       ]
      },
      {
       "output_type": "stream",
       "stream": "stdout",
       "text": [
        "\r",
        "52% [===================>                   ] 364,240,896 1.91MB/s  eta 99s    "
       ]
      },
      {
       "output_type": "stream",
       "stream": "stdout",
       "text": [
        "\r",
        "52% [===================>                   ] 364,666,880 1.92MB/s  eta 99s    "
       ]
      },
      {
       "output_type": "stream",
       "stream": "stdout",
       "text": [
        "\r",
        "52% [===================>                   ] 365,092,864 1.93MB/s  eta 99s    "
       ]
      },
      {
       "output_type": "stream",
       "stream": "stdout",
       "text": [
        "\r",
        "52% [===================>                   ] 365,551,616 1.96MB/s  eta 99s    "
       ]
      },
      {
       "output_type": "stream",
       "stream": "stdout",
       "text": [
        "\r",
        "52% [===================>                   ] 365,928,448 1.95MB/s  eta 99s    "
       ]
      },
      {
       "output_type": "stream",
       "stream": "stdout",
       "text": [
        "\r",
        "52% [===================>                   ] 366,387,200 1.96MB/s  eta 99s    "
       ]
      },
      {
       "output_type": "stream",
       "stream": "stdout",
       "text": [
        "\r",
        "53% [===================>                   ] 366,845,952 1.98MB/s  eta 99s    "
       ]
      },
      {
       "output_type": "stream",
       "stream": "stdout",
       "text": [
        "\r",
        "53% [===================>                   ] 367,255,552 1.97MB/s  eta 99s    "
       ]
      },
      {
       "output_type": "stream",
       "stream": "stdout",
       "text": [
        "\r",
        "53% [===================>                   ] 367,714,304 1.99MB/s  eta 99s    "
       ]
      },
      {
       "output_type": "stream",
       "stream": "stdout",
       "text": [
        "\r",
        "53% [===================>                   ] 368,123,904 1.99MB/s  eta 99s    "
       ]
      },
      {
       "output_type": "stream",
       "stream": "stdout",
       "text": [
        "\r",
        "53% [===================>                   ] 368,566,272 1.99MB/s  eta 99s    "
       ]
      },
      {
       "output_type": "stream",
       "stream": "stdout",
       "text": [
        "\r",
        "53% [===================>                   ] 369,025,024 1.99MB/s  eta 99s    "
       ]
      },
      {
       "output_type": "stream",
       "stream": "stdout",
       "text": [
        "\r",
        "53% [===================>                   ] 369,418,240 1.98MB/s  eta 99s    "
       ]
      },
      {
       "output_type": "stream",
       "stream": "stdout",
       "text": [
        "\r",
        "53% [===================>                   ] 369,909,760 1.99MB/s  eta 98s    "
       ]
      },
      {
       "output_type": "stream",
       "stream": "stdout",
       "text": [
        "\r",
        "53% [===================>                   ] 370,384,896 2.01MB/s  eta 98s    "
       ]
      },
      {
       "output_type": "stream",
       "stream": "stdout",
       "text": [
        "\r",
        "53% [===================>                   ] 370,597,888 1.94MB/s  eta 98s    "
       ]
      },
      {
       "output_type": "stream",
       "stream": "stdout",
       "text": [
        "\r",
        "53% [===================>                   ] 371,171,328 1.96MB/s  eta 98s    "
       ]
      },
      {
       "output_type": "stream",
       "stream": "stdout",
       "text": [
        "\r",
        "53% [===================>                   ] 371,580,928 1.94MB/s  eta 98s    "
       ]
      },
      {
       "output_type": "stream",
       "stream": "stdout",
       "text": [
        "\r",
        "53% [===================>                   ] 372,006,912 1.92MB/s  eta 98s    "
       ]
      },
      {
       "output_type": "stream",
       "stream": "stdout",
       "text": [
        "\r",
        "53% [===================>                   ] 372,465,664 1.91MB/s  eta 98s    "
       ]
      },
      {
       "output_type": "stream",
       "stream": "stdout",
       "text": [
        "\r",
        "53% [====================>                  ] 372,908,032 1.91MB/s  eta 98s    "
       ]
      },
      {
       "output_type": "stream",
       "stream": "stdout",
       "text": [
        "\r",
        "53% [====================>                  ] 373,252,096 1.89MB/s  eta 98s    "
       ]
      },
      {
       "output_type": "stream",
       "stream": "stdout",
       "text": [
        "\r",
        "53% [====================>                  ] 373,743,616 1.89MB/s  eta 98s    "
       ]
      },
      {
       "output_type": "stream",
       "stream": "stdout",
       "text": [
        "\r",
        "54% [====================>                  ] 374,251,520 1.89MB/s  eta 98s    "
       ]
      },
      {
       "output_type": "stream",
       "stream": "stdout",
       "text": [
        "\r",
        "54% [====================>                  ] 374,759,424 1.92MB/s  eta 98s    "
       ]
      },
      {
       "output_type": "stream",
       "stream": "stdout",
       "text": [
        "\r",
        "54% [====================>                  ] 375,136,256 1.90MB/s  eta 98s    "
       ]
      },
      {
       "output_type": "stream",
       "stream": "stdout",
       "text": [
        "\r",
        "54% [====================>                  ] 375,644,160 1.91MB/s  eta 98s    "
       ]
      },
      {
       "output_type": "stream",
       "stream": "stdout",
       "text": [
        "\r",
        "54% [====================>                  ] 376,168,448 1.91MB/s  eta 98s    "
       ]
      },
      {
       "output_type": "stream",
       "stream": "stdout",
       "text": [
        "\r",
        "54% [====================>                  ] 376,709,120 1.92MB/s  eta 97s    "
       ]
      },
      {
       "output_type": "stream",
       "stream": "stdout",
       "text": [
        "\r",
        "54% [====================>                  ] 377,249,792 1.99MB/s  eta 97s    "
       ]
      },
      {
       "output_type": "stream",
       "stream": "stdout",
       "text": [
        "\r",
        "54% [====================>                  ] 377,790,464 1.97MB/s  eta 97s    "
       ]
      },
      {
       "output_type": "stream",
       "stream": "stdout",
       "text": [
        "\r",
        "54% [====================>                  ] 378,331,136 2.02MB/s  eta 97s    "
       ]
      },
      {
       "output_type": "stream",
       "stream": "stdout",
       "text": [
        "\r",
        "54% [====================>                  ] 378,871,808 2.04MB/s  eta 97s    "
       ]
      },
      {
       "output_type": "stream",
       "stream": "stdout",
       "text": [
        "\r",
        "54% [====================>                  ] 379,412,480 2.07MB/s  eta 97s    "
       ]
      },
      {
       "output_type": "stream",
       "stream": "stdout",
       "text": [
        "\r",
        "54% [====================>                  ] 379,756,544 2.05MB/s  eta 97s    "
       ]
      },
      {
       "output_type": "stream",
       "stream": "stdout",
       "text": [
        "\r",
        "54% [====================>                  ] 380,215,296 2.07MB/s  eta 97s    "
       ]
      },
      {
       "output_type": "stream",
       "stream": "stdout",
       "text": [
        "\r",
        "54% [====================>                  ] 380,592,128 2.04MB/s  eta 97s    "
       ]
      },
      {
       "output_type": "stream",
       "stream": "stdout",
       "text": [
        "\r",
        "55% [====================>                  ] 380,968,960 2.02MB/s  eta 97s    "
       ]
      },
      {
       "output_type": "stream",
       "stream": "stdout",
       "text": [
        "\r",
        "55% [====================>                  ] 381,296,640 1.99MB/s  eta 97s    "
       ]
      },
      {
       "output_type": "stream",
       "stream": "stdout",
       "text": [
        "\r",
        "55% [====================>                  ] 381,706,240 1.97MB/s  eta 97s    "
       ]
      },
      {
       "output_type": "stream",
       "stream": "stdout",
       "text": [
        "\r",
        "55% [====================>                  ] 382,132,224 1.96MB/s  eta 97s    "
       ]
      },
      {
       "output_type": "stream",
       "stream": "stdout",
       "text": [
        "\r",
        "55% [====================>                  ] 382,459,904 1.92MB/s  eta 97s    "
       ]
      },
      {
       "output_type": "stream",
       "stream": "stdout",
       "text": [
        "\r",
        "55% [====================>                  ] 382,885,888 1.89MB/s  eta 97s    "
       ]
      },
      {
       "output_type": "stream",
       "stream": "stdout",
       "text": [
        "\r",
        "55% [====================>                  ] 383,311,872 1.89MB/s  eta 96s    "
       ]
      },
      {
       "output_type": "stream",
       "stream": "stdout",
       "text": [
        "\r",
        "55% [====================>                  ] 383,655,936 1.85MB/s  eta 96s    "
       ]
      },
      {
       "output_type": "stream",
       "stream": "stdout",
       "text": [
        "\r",
        "55% [====================>                  ] 384,081,920 1.82MB/s  eta 96s    "
       ]
      },
      {
       "output_type": "stream",
       "stream": "stdout",
       "text": [
        "\r",
        "55% [====================>                  ] 384,524,288 1.82MB/s  eta 96s    "
       ]
      },
      {
       "output_type": "stream",
       "stream": "stdout",
       "text": [
        "\r",
        "55% [====================>                  ] 384,868,352 1.79MB/s  eta 96s    "
       ]
      },
      {
       "output_type": "stream",
       "stream": "stdout",
       "text": [
        "\r",
        "55% [====================>                  ] 385,294,336 1.79MB/s  eta 96s    "
       ]
      },
      {
       "output_type": "stream",
       "stream": "stdout",
       "text": [
        "\r",
        "55% [====================>                  ] 385,654,784 1.77MB/s  eta 96s    "
       ]
      },
      {
       "output_type": "stream",
       "stream": "stdout",
       "text": [
        "\r",
        "55% [====================>                  ] 386,064,384 1.73MB/s  eta 96s    "
       ]
      },
      {
       "output_type": "stream",
       "stream": "stdout",
       "text": [
        "\r",
        "55% [====================>                  ] 386,506,752 1.76MB/s  eta 96s    "
       ]
      },
      {
       "output_type": "stream",
       "stream": "stdout",
       "text": [
        "\r",
        "55% [====================>                  ] 386,867,200 1.78MB/s  eta 96s    "
       ]
      },
      {
       "output_type": "stream",
       "stream": "stdout",
       "text": [
        "\r",
        "55% [====================>                  ] 387,293,184 1.79MB/s  eta 96s    "
       ]
      },
      {
       "output_type": "stream",
       "stream": "stdout",
       "text": [
        "\r",
        "56% [====================>                  ] 387,719,168 1.82MB/s  eta 96s    "
       ]
      },
      {
       "output_type": "stream",
       "stream": "stdout",
       "text": [
        "\r",
        "56% [====================>                  ] 388,063,232 1.81MB/s  eta 96s    "
       ]
      },
      {
       "output_type": "stream",
       "stream": "stdout",
       "text": [
        "\r",
        "56% [====================>                  ] 388,489,216 1.82MB/s  eta 96s    "
       ]
      },
      {
       "output_type": "stream",
       "stream": "stdout",
       "text": [
        "\r",
        "56% [====================>                  ] 388,816,896 1.81MB/s  eta 96s    "
       ]
      },
      {
       "output_type": "stream",
       "stream": "stdout",
       "text": [
        "\r",
        "56% [====================>                  ] 389,242,880 1.82MB/s  eta 96s    "
       ]
      },
      {
       "output_type": "stream",
       "stream": "stdout",
       "text": [
        "\r",
        "56% [====================>                  ] 389,537,792 1.79MB/s  eta 96s    "
       ]
      },
      {
       "output_type": "stream",
       "stream": "stdout",
       "text": [
        "\r",
        "56% [====================>                  ] 389,865,472 1.75MB/s  eta 96s    "
       ]
      },
      {
       "output_type": "stream",
       "stream": "stdout",
       "text": [
        "\r",
        "56% [====================>                  ] 390,193,152 1.74MB/s  eta 96s    "
       ]
      },
      {
       "output_type": "stream",
       "stream": "stdout",
       "text": [
        "\r",
        "56% [=====================>                 ] 390,488,064 1.71MB/s  eta 96s    "
       ]
      },
      {
       "output_type": "stream",
       "stream": "stdout",
       "text": [
        "\r",
        "56% [=====================>                 ] 390,815,744 1.69MB/s  eta 96s    "
       ]
      },
      {
       "output_type": "stream",
       "stream": "stdout",
       "text": [
        "\r",
        "56% [=====================>                 ] 391,159,808 1.67MB/s  eta 96s    "
       ]
      },
      {
       "output_type": "stream",
       "stream": "stdout",
       "text": [
        "\r",
        "56% [=====================>                 ] 391,536,640 1.66MB/s  eta 96s    "
       ]
      },
      {
       "output_type": "stream",
       "stream": "stdout",
       "text": [
        "\r",
        "56% [=====================>                 ] 391,913,472 1.65MB/s  eta 96s    "
       ]
      },
      {
       "output_type": "stream",
       "stream": "stdout",
       "text": [
        "\r",
        "56% [=====================>                 ] 392,273,920 1.65MB/s  eta 96s    "
       ]
      },
      {
       "output_type": "stream",
       "stream": "stdout",
       "text": [
        "\r",
        "56% [=====================>                 ] 392,683,520 1.63MB/s  eta 95s    "
       ]
      },
      {
       "output_type": "stream",
       "stream": "stdout",
       "text": [
        "\r",
        "56% [=====================>                 ] 393,076,736 1.64MB/s  eta 95s    "
       ]
      },
      {
       "output_type": "stream",
       "stream": "stdout",
       "text": [
        "\r",
        "56% [=====================>                 ] 393,453,568 1.63MB/s  eta 95s    "
       ]
      },
      {
       "output_type": "stream",
       "stream": "stdout",
       "text": [
        "\r",
        "56% [=====================>                 ] 393,879,552 1.63MB/s  eta 95s    "
       ]
      },
      {
       "output_type": "stream",
       "stream": "stdout",
       "text": [
        "\r",
        "56% [=====================>                 ] 394,289,152 1.64MB/s  eta 95s    "
       ]
      },
      {
       "output_type": "stream",
       "stream": "stdout",
       "text": [
        "\r",
        "57% [=====================>                 ] 394,665,984 1.64MB/s  eta 95s    "
       ]
      },
      {
       "output_type": "stream",
       "stream": "stdout",
       "text": [
        "\r",
        "57% [=====================>                 ] 395,059,200 1.65MB/s  eta 95s    "
       ]
      },
      {
       "output_type": "stream",
       "stream": "stdout",
       "text": [
        "\r",
        "57% [=====================>                 ] 395,436,032 1.68MB/s  eta 95s    "
       ]
      },
      {
       "output_type": "stream",
       "stream": "stdout",
       "text": [
        "\r",
        "57% [=====================>                 ] 395,812,864 1.70MB/s  eta 95s    "
       ]
      },
      {
       "output_type": "stream",
       "stream": "stdout",
       "text": [
        "\r",
        "57% [=====================>                 ] 396,206,080 1.72MB/s  eta 95s    "
       ]
      },
      {
       "output_type": "stream",
       "stream": "stdout",
       "text": [
        "\r",
        "57% [=====================>                 ] 396,599,296 1.75MB/s  eta 95s    "
       ]
      },
      {
       "output_type": "stream",
       "stream": "stdout",
       "text": [
        "\r",
        "57% [=====================>                 ] 396,976,128 1.76MB/s  eta 95s    "
       ]
      },
      {
       "output_type": "stream",
       "stream": "stdout",
       "text": [
        "\r",
        "57% [=====================>                 ] 397,385,728 1.78MB/s  eta 95s    "
       ]
      },
      {
       "output_type": "stream",
       "stream": "stdout",
       "text": [
        "\r",
        "57% [=====================>                 ] 397,746,176 1.78MB/s  eta 95s    "
       ]
      },
      {
       "output_type": "stream",
       "stream": "stdout",
       "text": [
        "\r",
        "57% [=====================>                 ] 398,139,392 1.80MB/s  eta 95s    "
       ]
      },
      {
       "output_type": "stream",
       "stream": "stdout",
       "text": [
        "\r",
        "57% [=====================>                 ] 398,499,840 1.79MB/s  eta 94s    "
       ]
      },
      {
       "output_type": "stream",
       "stream": "stdout",
       "text": [
        "\r",
        "57% [=====================>                 ] 398,925,824 1.80MB/s  eta 94s    "
       ]
      },
      {
       "output_type": "stream",
       "stream": "stdout",
       "text": [
        "\r",
        "57% [=====================>                 ] 399,351,808 1.81MB/s  eta 94s    "
       ]
      },
      {
       "output_type": "stream",
       "stream": "stdout",
       "text": [
        "\r",
        "57% [=====================>                 ] 399,728,640 1.80MB/s  eta 94s    "
       ]
      },
      {
       "output_type": "stream",
       "stream": "stdout",
       "text": [
        "\r",
        "57% [=====================>                 ] 400,138,240 1.82MB/s  eta 94s    "
       ]
      },
      {
       "output_type": "stream",
       "stream": "stdout",
       "text": [
        "\r",
        "57% [=====================>                 ] 400,564,224 1.82MB/s  eta 94s    "
       ]
      },
      {
       "output_type": "stream",
       "stream": "stdout",
       "text": [
        "\r",
        "57% [=====================>                 ] 400,924,672 1.82MB/s  eta 94s    "
       ]
      },
      {
       "output_type": "stream",
       "stream": "stdout",
       "text": [
        "\r",
        "57% [=====================>                 ] 401,350,656 1.83MB/s  eta 94s    "
       ]
      },
      {
       "output_type": "stream",
       "stream": "stdout",
       "text": [
        "\r",
        "58% [=====================>                 ] 401,727,488 1.83MB/s  eta 94s    "
       ]
      },
      {
       "output_type": "stream",
       "stream": "stdout",
       "text": [
        "\r",
        "58% [=====================>                 ] 402,169,856 1.84MB/s  eta 94s    "
       ]
      },
      {
       "output_type": "stream",
       "stream": "stdout",
       "text": [
        "\r",
        "58% [=====================>                 ] 402,595,840 1.85MB/s  eta 94s    "
       ]
      },
      {
       "output_type": "stream",
       "stream": "stdout",
       "text": [
        "\r",
        "58% [=====================>                 ] 403,005,440 1.85MB/s  eta 94s    "
       ]
      },
      {
       "output_type": "stream",
       "stream": "stdout",
       "text": [
        "\r",
        "58% [=====================>                 ] 403,480,576 1.87MB/s  eta 94s    "
       ]
      },
      {
       "output_type": "stream",
       "stream": "stdout",
       "text": [
        "\r",
        "58% [=====================>                 ] 403,890,176 1.88MB/s  eta 94s    "
       ]
      },
      {
       "output_type": "stream",
       "stream": "stdout",
       "text": [
        "\r",
        "58% [=====================>                 ] 404,365,312 1.91MB/s  eta 94s    "
       ]
      },
      {
       "output_type": "stream",
       "stream": "stdout",
       "text": [
        "\r",
        "58% [=====================>                 ] 404,807,680 1.92MB/s  eta 93s    "
       ]
      },
      {
       "output_type": "stream",
       "stream": "stdout",
       "text": [
        "\r",
        "58% [=====================>                 ] 405,233,664 1.91MB/s  eta 93s    "
       ]
      },
      {
       "output_type": "stream",
       "stream": "stdout",
       "text": [
        "\r",
        "58% [=====================>                 ] 405,725,184 1.93MB/s  eta 93s    "
       ]
      },
      {
       "output_type": "stream",
       "stream": "stdout",
       "text": [
        "\r",
        "58% [=====================>                 ] 406,102,016 1.94MB/s  eta 93s    "
       ]
      },
      {
       "output_type": "stream",
       "stream": "stdout",
       "text": [
        "\r",
        "58% [=====================>                 ] 406,462,464 1.92MB/s  eta 93s    "
       ]
      },
      {
       "output_type": "stream",
       "stream": "stdout",
       "text": [
        "\r",
        "58% [=====================>                 ] 406,904,832 1.93MB/s  eta 93s    "
       ]
      },
      {
       "output_type": "stream",
       "stream": "stdout",
       "text": [
        "\r",
        "58% [=====================>                 ] 407,314,432 1.93MB/s  eta 93s    "
       ]
      },
      {
       "output_type": "stream",
       "stream": "stdout",
       "text": [
        "\r",
        "58% [=====================>                 ] 407,724,032 1.94MB/s  eta 93s    "
       ]
      },
      {
       "output_type": "stream",
       "stream": "stdout",
       "text": [
        "\r",
        "58% [======================>                ] 408,199,168 1.96MB/s  eta 93s    "
       ]
      },
      {
       "output_type": "stream",
       "stream": "stdout",
       "text": [
        "\r",
        "59% [======================>                ] 408,592,384 1.95MB/s  eta 93s    "
       ]
      },
      {
       "output_type": "stream",
       "stream": "stdout",
       "text": [
        "\r",
        "59% [======================>                ] 409,083,904 1.97MB/s  eta 92s    "
       ]
      },
      {
       "output_type": "stream",
       "stream": "stdout",
       "text": [
        "\r",
        "59% [======================>                ] 409,575,424 1.99MB/s  eta 92s    "
       ]
      },
      {
       "output_type": "stream",
       "stream": "stdout",
       "text": [
        "\r",
        "59% [======================>                ] 410,001,408 1.99MB/s  eta 92s    "
       ]
      },
      {
       "output_type": "stream",
       "stream": "stdout",
       "text": [
        "\r",
        "59% [======================>                ] 410,492,928 2.00MB/s  eta 92s    "
       ]
      },
      {
       "output_type": "stream",
       "stream": "stdout",
       "text": [
        "\r",
        "59% [======================>                ] 410,918,912 1.99MB/s  eta 92s    "
       ]
      },
      {
       "output_type": "stream",
       "stream": "stdout",
       "text": [
        "\r",
        "59% [======================>                ] 411,426,816 2.00MB/s  eta 92s    "
       ]
      },
      {
       "output_type": "stream",
       "stream": "stdout",
       "text": [
        "\r",
        "59% [======================>                ] 411,918,336 2.01MB/s  eta 92s    "
       ]
      },
      {
       "output_type": "stream",
       "stream": "stdout",
       "text": [
        "\r",
        "59% [======================>                ] 412,377,088 2.04MB/s  eta 92s    "
       ]
      },
      {
       "output_type": "stream",
       "stream": "stdout",
       "text": [
        "\r",
        "59% [======================>                ] 412,901,376 2.08MB/s  eta 92s    "
       ]
      },
      {
       "output_type": "stream",
       "stream": "stdout",
       "text": [
        "\r",
        "59% [======================>                ] 413,343,744 2.10MB/s  eta 92s    "
       ]
      },
      {
       "output_type": "stream",
       "stream": "stdout",
       "text": [
        "\r",
        "59% [======================>                ] 413,868,032 2.15MB/s  eta 91s    "
       ]
      },
      {
       "output_type": "stream",
       "stream": "stdout",
       "text": [
        "\r",
        "59% [======================>                ] 414,359,552 2.17MB/s  eta 91s    "
       ]
      },
      {
       "output_type": "stream",
       "stream": "stdout",
       "text": [
        "\r",
        "59% [======================>                ] 414,818,304 2.18MB/s  eta 91s    "
       ]
      },
      {
       "output_type": "stream",
       "stream": "stdout",
       "text": [
        "\r",
        "60% [======================>                ] 415,309,824 2.20MB/s  eta 91s    "
       ]
      },
      {
       "output_type": "stream",
       "stream": "stdout",
       "text": [
        "\r",
        "60% [======================>                ] 415,768,576 2.22MB/s  eta 91s    "
       ]
      },
      {
       "output_type": "stream",
       "stream": "stdout",
       "text": [
        "\r",
        "60% [======================>                ] 416,292,864 2.24MB/s  eta 90s    "
       ]
      },
      {
       "output_type": "stream",
       "stream": "stdout",
       "text": [
        "\r",
        "60% [======================>                ] 416,735,232 2.23MB/s  eta 90s    "
       ]
      },
      {
       "output_type": "stream",
       "stream": "stdout",
       "text": [
        "\r",
        "60% [======================>                ] 417,243,136 2.24MB/s  eta 90s    "
       ]
      },
      {
       "output_type": "stream",
       "stream": "stdout",
       "text": [
        "\r",
        "60% [======================>                ] 417,685,504 2.24MB/s  eta 90s    "
       ]
      },
      {
       "output_type": "stream",
       "stream": "stdout",
       "text": [
        "\r",
        "60% [======================>                ] 418,193,408 2.25MB/s  eta 90s    "
       ]
      },
      {
       "output_type": "stream",
       "stream": "stdout",
       "text": [
        "\r",
        "60% [======================>                ] 418,668,544 2.25MB/s  eta 90s    "
       ]
      },
      {
       "output_type": "stream",
       "stream": "stdout",
       "text": [
        "\r",
        "60% [======================>                ] 419,143,680 2.25MB/s  eta 90s    "
       ]
      },
      {
       "output_type": "stream",
       "stream": "stdout",
       "text": [
        "\r",
        "60% [======================>                ] 419,553,280 2.23MB/s  eta 90s    "
       ]
      },
      {
       "output_type": "stream",
       "stream": "stdout",
       "text": [
        "\r",
        "60% [======================>                ] 420,077,568 2.24MB/s  eta 90s    "
       ]
      },
      {
       "output_type": "stream",
       "stream": "stdout",
       "text": [
        "\r",
        "60% [======================>                ] 420,454,400 2.17MB/s  eta 90s    "
       ]
      },
      {
       "output_type": "stream",
       "stream": "stdout",
       "text": [
        "\r",
        "60% [======================>                ] 420,782,080 2.08MB/s  eta 89s    "
       ]
      },
      {
       "output_type": "stream",
       "stream": "stdout",
       "text": [
        "\r",
        "60% [======================>                ] 421,060,608 2.01MB/s  eta 89s    "
       ]
      },
      {
       "output_type": "stream",
       "stream": "stdout",
       "text": [
        "\r",
        "60% [======================>                ] 421,240,832 1.92MB/s  eta 89s    "
       ]
      },
      {
       "output_type": "stream",
       "stream": "stdout",
       "text": [
        "\r",
        "60% [======================>                ] 421,437,440 1.84MB/s  eta 89s    "
       ]
      },
      {
       "output_type": "stream",
       "stream": "stdout",
       "text": [
        "\r",
        "60% [======================>                ] 421,650,432 1.74MB/s  eta 89s    "
       ]
      },
      {
       "output_type": "stream",
       "stream": "stdout",
       "text": [
        "\r",
        "60% [======================>                ] 421,863,424 1.67MB/s  eta 89s    "
       ]
      },
      {
       "output_type": "stream",
       "stream": "stdout",
       "text": [
        "\r",
        "60% [======================>                ] 422,076,416 1.60MB/s  eta 89s    "
       ]
      },
      {
       "output_type": "stream",
       "stream": "stdout",
       "text": [
        "\r",
        "61% [======================>                ] 422,289,408 1.48MB/s  eta 89s    "
       ]
      },
      {
       "output_type": "stream",
       "stream": "stdout",
       "text": [
        "\r",
        "61% [======================>                ] 422,502,400 1.41MB/s  eta 89s    "
       ]
      },
      {
       "output_type": "stream",
       "stream": "stdout",
       "text": [
        "\r",
        "61% [======================>                ] 422,731,776 1.35MB/s  eta 89s    "
       ]
      },
      {
       "output_type": "stream",
       "stream": "stdout",
       "text": [
        "\r",
        "61% [======================>                ] 422,944,768 1.23MB/s  eta 90s    "
       ]
      },
      {
       "output_type": "stream",
       "stream": "stdout",
       "text": [
        "\r",
        "61% [======================>                ] 423,157,760 1.17MB/s  eta 90s    "
       ]
      },
      {
       "output_type": "stream",
       "stream": "stdout",
       "text": [
        "\r",
        "61% [======================>                ] 423,354,368 1.13MB/s  eta 90s    "
       ]
      },
      {
       "output_type": "stream",
       "stream": "stdout",
       "text": [
        "\r",
        "61% [======================>                ] 423,567,360 1.07MB/s  eta 90s    "
       ]
      },
      {
       "output_type": "stream",
       "stream": "stdout",
       "text": [
        "\r",
        "61% [======================>                ] 423,780,352 1005KB/s  eta 90s    "
       ]
      },
      {
       "output_type": "stream",
       "stream": "stdout",
       "text": [
        "\r",
        "61% [======================>                ] 423,993,344  963KB/s  eta 90s    "
       ]
      },
      {
       "output_type": "stream",
       "stream": "stdout",
       "text": [
        "\r",
        "61% [======================>                ] 424,206,336  968KB/s  eta 90s    "
       ]
      },
      {
       "output_type": "stream",
       "stream": "stdout",
       "text": [
        "\r",
        "61% [======================>                ] 424,419,328  974KB/s  eta 90s    "
       ]
      },
      {
       "output_type": "stream",
       "stream": "stdout",
       "text": [
        "\r",
        "61% [======================>                ] 424,648,704  985KB/s  eta 90s    "
       ]
      },
      {
       "output_type": "stream",
       "stream": "stdout",
       "text": [
        "\r",
        "61% [======================>                ] 424,845,312  986KB/s  eta 90s    "
       ]
      },
      {
       "output_type": "stream",
       "stream": "stdout",
       "text": [
        "\r",
        "61% [======================>                ] 425,074,688  987KB/s  eta 90s    "
       ]
      },
      {
       "output_type": "stream",
       "stream": "stdout",
       "text": [
        "\r",
        "61% [======================>                ] 425,304,064  994KB/s  eta 90s    "
       ]
      },
      {
       "output_type": "stream",
       "stream": "stdout",
       "text": [
        "\r",
        "61% [======================>                ] 425,517,056  999KB/s  eta 90s    "
       ]
      },
      {
       "output_type": "stream",
       "stream": "stdout",
       "text": [
        "\r",
        "61% [======================>                ] 425,746,432 1006KB/s  eta 90s    "
       ]
      },
      {
       "output_type": "stream",
       "stream": "stdout",
       "text": [
        "\r",
        "61% [=======================>               ] 425,975,808 1009KB/s  eta 90s    "
       ]
      },
      {
       "output_type": "stream",
       "stream": "stdout",
       "text": [
        "\r",
        "61% [=======================>               ] 426,205,184 1015KB/s  eta 90s    "
       ]
      },
      {
       "output_type": "stream",
       "stream": "stdout",
       "text": [
        "\r",
        "61% [=======================>               ] 426,450,944 1024KB/s  eta 90s    "
       ]
      },
      {
       "output_type": "stream",
       "stream": "stdout",
       "text": [
        "\r",
        "61% [=======================>               ] 426,696,704 1.01MB/s  eta 90s    "
       ]
      },
      {
       "output_type": "stream",
       "stream": "stdout",
       "text": [
        "\r",
        "61% [=======================>               ] 426,942,464 1.02MB/s  eta 90s    "
       ]
      },
      {
       "output_type": "stream",
       "stream": "stdout",
       "text": [
        "\r",
        "61% [=======================>               ] 427,204,608 1.04MB/s  eta 90s    "
       ]
      },
      {
       "output_type": "stream",
       "stream": "stdout",
       "text": [
        "\r",
        "61% [=======================>               ] 427,483,136 1.05MB/s  eta 90s    "
       ]
      },
      {
       "output_type": "stream",
       "stream": "stdout",
       "text": [
        "\r",
        "61% [=======================>               ] 427,761,664 1.07MB/s  eta 90s    "
       ]
      },
      {
       "output_type": "stream",
       "stream": "stdout",
       "text": [
        "\r",
        "61% [=======================>               ] 428,040,192 1.09MB/s  eta 90s    "
       ]
      },
      {
       "output_type": "stream",
       "stream": "stdout",
       "text": [
        "\r",
        "61% [=======================>               ] 428,302,336 1.11MB/s  eta 90s    "
       ]
      },
      {
       "output_type": "stream",
       "stream": "stdout",
       "text": [
        "\r",
        "61% [=======================>               ] 428,531,712 1.11MB/s  eta 90s    "
       ]
      },
      {
       "output_type": "stream",
       "stream": "stdout",
       "text": [
        "\r",
        "61% [=======================>               ] 428,761,088 1.12MB/s  eta 90s    "
       ]
      },
      {
       "output_type": "stream",
       "stream": "stdout",
       "text": [
        "\r",
        "61% [=======================>               ] 428,924,928 1.10MB/s  eta 90s    "
       ]
      },
      {
       "output_type": "stream",
       "stream": "stdout",
       "text": [
        "\r",
        "62% [=======================>               ] 429,121,536 1.09MB/s  eta 90s    "
       ]
      },
      {
       "output_type": "stream",
       "stream": "stdout",
       "text": [
        "\r",
        "62% [=======================>               ] 429,318,144 1.07MB/s  eta 90s    "
       ]
      },
      {
       "output_type": "stream",
       "stream": "stdout",
       "text": [
        "\r",
        "62% [=======================>               ] 429,531,136 1.06MB/s  eta 90s    "
       ]
      },
      {
       "output_type": "stream",
       "stream": "stdout",
       "text": [
        "\r",
        "62% [=======================>               ] 429,760,512 1.04MB/s  eta 90s    "
       ]
      },
      {
       "output_type": "stream",
       "stream": "stdout",
       "text": [
        "\r",
        "62% [=======================>               ] 429,973,504 1.03MB/s  eta 90s    "
       ]
      },
      {
       "output_type": "stream",
       "stream": "stdout",
       "text": [
        "\r",
        "62% [=======================>               ] 430,202,880 1.01MB/s  eta 90s    "
       ]
      },
      {
       "output_type": "stream",
       "stream": "stdout",
       "text": [
        "\r",
        "62% [=======================>               ] 430,432,256 1016KB/s  eta 90s    "
       ]
      },
      {
       "output_type": "stream",
       "stream": "stdout",
       "text": [
        "\r",
        "62% [=======================>               ] 430,661,632 1000KB/s  eta 90s    "
       ]
      },
      {
       "output_type": "stream",
       "stream": "stdout",
       "text": [
        "\r",
        "62% [=======================>               ] 430,891,008  970KB/s  eta 90s    "
       ]
      },
      {
       "output_type": "stream",
       "stream": "stdout",
       "text": [
        "\r",
        "62% [=======================>               ] 431,120,384  951KB/s  eta 90s    "
       ]
      },
      {
       "output_type": "stream",
       "stream": "stdout",
       "text": [
        "\r",
        "62% [=======================>               ] 431,349,760  915KB/s  eta 90s    "
       ]
      },
      {
       "output_type": "stream",
       "stream": "stdout",
       "text": [
        "\r",
        "62% [=======================>               ] 431,579,136  910KB/s  eta 90s    "
       ]
      },
      {
       "output_type": "stream",
       "stream": "stdout",
       "text": [
        "\r",
        "62% [=======================>               ] 431,808,512  923KB/s  eta 90s    "
       ]
      },
      {
       "output_type": "stream",
       "stream": "stdout",
       "text": [
        "\r",
        "62% [=======================>               ] 432,037,888  906KB/s  eta 90s    "
       ]
      },
      {
       "output_type": "stream",
       "stream": "stdout",
       "text": [
        "\r",
        "62% [=======================>               ] 432,267,264  920KB/s  eta 90s    "
       ]
      },
      {
       "output_type": "stream",
       "stream": "stdout",
       "text": [
        "\r",
        "62% [=======================>               ] 432,496,640  924KB/s  eta 90s    "
       ]
      },
      {
       "output_type": "stream",
       "stream": "stdout",
       "text": [
        "\r",
        "62% [=======================>               ] 432,726,016  930KB/s  eta 90s    "
       ]
      },
      {
       "output_type": "stream",
       "stream": "stdout",
       "text": [
        "\r",
        "62% [=======================>               ] 432,955,392  932KB/s  eta 90s    "
       ]
      },
      {
       "output_type": "stream",
       "stream": "stdout",
       "text": [
        "\r",
        "62% [=======================>               ] 433,184,768  936KB/s  eta 90s    "
       ]
      },
      {
       "output_type": "stream",
       "stream": "stdout",
       "text": [
        "\r",
        "62% [=======================>               ] 433,414,144  940KB/s  eta 90s    "
       ]
      },
      {
       "output_type": "stream",
       "stream": "stdout",
       "text": [
        "\r",
        "62% [=======================>               ] 433,659,904  942KB/s  eta 90s    "
       ]
      },
      {
       "output_type": "stream",
       "stream": "stdout",
       "text": [
        "\r",
        "62% [=======================>               ] 433,905,664  949KB/s  eta 90s    "
       ]
      },
      {
       "output_type": "stream",
       "stream": "stdout",
       "text": [
        "\r",
        "62% [=======================>               ] 434,118,656  956KB/s  eta 90s    "
       ]
      },
      {
       "output_type": "stream",
       "stream": "stdout",
       "text": [
        "\r",
        "62% [=======================>               ] 434,331,648  962KB/s  eta 90s    "
       ]
      },
      {
       "output_type": "stream",
       "stream": "stdout",
       "text": [
        "\r",
        "62% [=======================>               ] 434,561,024  973KB/s  eta 90s    "
       ]
      },
      {
       "output_type": "stream",
       "stream": "stdout",
       "text": [
        "\r",
        "62% [=======================>               ] 434,806,784  981KB/s  eta 90s    "
       ]
      },
      {
       "output_type": "stream",
       "stream": "stdout",
       "text": [
        "\r",
        "62% [=======================>               ] 435,085,312 1001KB/s  eta 90s    "
       ]
      },
      {
       "output_type": "stream",
       "stream": "stdout",
       "text": [
        "\r",
        "62% [=======================>               ] 435,339,264 1022KB/s  eta 90s    "
       ]
      },
      {
       "output_type": "stream",
       "stream": "stdout",
       "text": [
        "\r",
        "62% [=======================>               ] 435,625,984 1.01MB/s  eta 90s    "
       ]
      },
      {
       "output_type": "stream",
       "stream": "stdout",
       "text": [
        "\r",
        "62% [=======================>               ] 435,888,128 1.03MB/s  eta 90s    "
       ]
      },
      {
       "output_type": "stream",
       "stream": "stdout",
       "text": [
        "\r",
        "63% [=======================>               ] 436,084,736 1.03MB/s  eta 90s    "
       ]
      },
      {
       "output_type": "stream",
       "stream": "stdout",
       "text": [
        "\r",
        "63% [=======================>               ] 436,330,496 1.04MB/s  eta 90s    "
       ]
      },
      {
       "output_type": "stream",
       "stream": "stdout",
       "text": [
        "\r",
        "63% [=======================>               ] 436,609,024 1.06MB/s  eta 90s    "
       ]
      },
      {
       "output_type": "stream",
       "stream": "stdout",
       "text": [
        "\r",
        "63% [=======================>               ] 436,887,552 1.08MB/s  eta 90s    "
       ]
      },
      {
       "output_type": "stream",
       "stream": "stdout",
       "text": [
        "\r",
        "63% [=======================>               ] 437,116,928 1.09MB/s  eta 90s    "
       ]
      },
      {
       "output_type": "stream",
       "stream": "stdout",
       "text": [
        "\r",
        "63% [=======================>               ] 437,411,840 1.11MB/s  eta 90s    "
       ]
      },
      {
       "output_type": "stream",
       "stream": "stdout",
       "text": [
        "\r",
        "63% [=======================>               ] 437,723,136 1.13MB/s  eta 90s    "
       ]
      },
      {
       "output_type": "stream",
       "stream": "stdout",
       "text": [
        "\r",
        "63% [=======================>               ] 438,034,432 1.15MB/s  eta 90s    "
       ]
      },
      {
       "output_type": "stream",
       "stream": "stdout",
       "text": [
        "\r",
        "63% [=======================>               ] 438,280,192 1.16MB/s  eta 90s    "
       ]
      },
      {
       "output_type": "stream",
       "stream": "stdout",
       "text": [
        "\r",
        "63% [=======================>               ] 438,591,488 1.17MB/s  eta 90s    "
       ]
      },
      {
       "output_type": "stream",
       "stream": "stdout",
       "text": [
        "\r",
        "63% [=======================>               ] 438,919,168 1.19MB/s  eta 90s    "
       ]
      },
      {
       "output_type": "stream",
       "stream": "stdout",
       "text": [
        "\r",
        "63% [=======================>               ] 439,230,464 1.21MB/s  eta 90s    "
       ]
      },
      {
       "output_type": "stream",
       "stream": "stdout",
       "text": [
        "\r",
        "63% [=======================>               ] 439,508,992 1.21MB/s  eta 90s    "
       ]
      },
      {
       "output_type": "stream",
       "stream": "stdout",
       "text": [
        "\r",
        "63% [=======================>               ] 439,803,904 1.22MB/s  eta 90s    "
       ]
      },
      {
       "output_type": "stream",
       "stream": "stdout",
       "text": [
        "\r",
        "63% [=======================>               ] 440,066,048 1.23MB/s  eta 90s    "
       ]
      },
      {
       "output_type": "stream",
       "stream": "stdout",
       "text": [
        "\r",
        "63% [=======================>               ] 440,377,344 1.25MB/s  eta 90s    "
       ]
      },
      {
       "output_type": "stream",
       "stream": "stdout",
       "text": [
        "\r",
        "63% [=======================>               ] 440,688,640 1.27MB/s  eta 90s    "
       ]
      },
      {
       "output_type": "stream",
       "stream": "stdout",
       "text": [
        "\r",
        "63% [=======================>               ] 440,950,784 1.28MB/s  eta 90s    "
       ]
      },
      {
       "output_type": "stream",
       "stream": "stdout",
       "text": [
        "\r",
        "63% [=======================>               ] 441,278,464 1.30MB/s  eta 89s    "
       ]
      },
      {
       "output_type": "stream",
       "stream": "stdout",
       "text": [
        "\r",
        "63% [=======================>               ] 441,540,608 1.30MB/s  eta 89s    "
       ]
      },
      {
       "output_type": "stream",
       "stream": "stdout",
       "text": [
        "\r",
        "63% [=======================>               ] 441,835,520 1.30MB/s  eta 89s    "
       ]
      },
      {
       "output_type": "stream",
       "stream": "stdout",
       "text": [
        "\r",
        "63% [=======================>               ] 442,146,816 1.32MB/s  eta 89s    "
       ]
      },
      {
       "output_type": "stream",
       "stream": "stdout",
       "text": [
        "\r",
        "63% [=======================>               ] 442,408,960 1.31MB/s  eta 89s    "
       ]
      },
      {
       "output_type": "stream",
       "stream": "stdout",
       "text": [
        "\r",
        "63% [=======================>               ] 442,703,872 1.32MB/s  eta 89s    "
       ]
      },
      {
       "output_type": "stream",
       "stream": "stdout",
       "text": [
        "\r",
        "63% [=======================>               ] 442,867,712 1.28MB/s  eta 89s    "
       ]
      },
      {
       "output_type": "stream",
       "stream": "stdout",
       "text": [
        "\r",
        "64% [=======================>               ] 443,195,392 1.28MB/s  eta 89s    "
       ]
      },
      {
       "output_type": "stream",
       "stream": "stdout",
       "text": [
        "\r",
        "64% [=======================>               ] 443,441,152 1.27MB/s  eta 89s    "
       ]
      },
      {
       "output_type": "stream",
       "stream": "stdout",
       "text": [
        "\r",
        "64% [=======================>               ] 443,654,144 1.25MB/s  eta 89s    "
       ]
      },
      {
       "output_type": "stream",
       "stream": "stdout",
       "text": [
        "\r",
        "64% [========================>              ] 443,932,672 1.24MB/s  eta 89s    "
       ]
      },
      {
       "output_type": "stream",
       "stream": "stdout",
       "text": [
        "\r",
        "64% [========================>              ] 444,227,584 1.24MB/s  eta 89s    "
       ]
      },
      {
       "output_type": "stream",
       "stream": "stdout",
       "text": [
        "\r",
        "64% [========================>              ] 444,489,728 1.22MB/s  eta 89s    "
       ]
      },
      {
       "output_type": "stream",
       "stream": "stdout",
       "text": [
        "\r",
        "64% [========================>              ] 444,784,640 1.22MB/s  eta 89s    "
       ]
      },
      {
       "output_type": "stream",
       "stream": "stdout",
       "text": [
        "\r",
        "64% [========================>              ] 445,079,552 1.23MB/s  eta 89s    "
       ]
      },
      {
       "output_type": "stream",
       "stream": "stdout",
       "text": [
        "\r",
        "64% [========================>              ] 445,341,696 1.22MB/s  eta 89s    "
       ]
      },
      {
       "output_type": "stream",
       "stream": "stdout",
       "text": [
        "\r",
        "64% [========================>              ] 445,636,608 1.22MB/s  eta 89s    "
       ]
      },
      {
       "output_type": "stream",
       "stream": "stdout",
       "text": [
        "\r",
        "64% [========================>              ] 445,898,752 1.22MB/s  eta 89s    "
       ]
      },
      {
       "output_type": "stream",
       "stream": "stdout",
       "text": [
        "\r",
        "64% [========================>              ] 446,210,048 1.23MB/s  eta 89s    "
       ]
      },
      {
       "output_type": "stream",
       "stream": "stdout",
       "text": [
        "\r",
        "64% [========================>              ] 446,504,960 1.22MB/s  eta 89s    "
       ]
      },
      {
       "output_type": "stream",
       "stream": "stdout",
       "text": [
        "\r",
        "64% [========================>              ] 446,799,872 1.23MB/s  eta 89s    "
       ]
      },
      {
       "output_type": "stream",
       "stream": "stdout",
       "text": [
        "\r",
        "64% [========================>              ] 447,111,168 1.23MB/s  eta 89s    "
       ]
      },
      {
       "output_type": "stream",
       "stream": "stdout",
       "text": [
        "\r",
        "64% [========================>              ] 447,389,696 1.25MB/s  eta 89s    "
       ]
      },
      {
       "output_type": "stream",
       "stream": "stdout",
       "text": [
        "\r",
        "64% [========================>              ] 447,651,840 1.23MB/s  eta 89s    "
       ]
      },
      {
       "output_type": "stream",
       "stream": "stdout",
       "text": [
        "\r",
        "64% [========================>              ] 447,946,752 1.25MB/s  eta 89s    "
       ]
      },
      {
       "output_type": "stream",
       "stream": "stdout",
       "text": [
        "\r",
        "64% [========================>              ] 448,176,128 1.24MB/s  eta 88s    "
       ]
      },
      {
       "output_type": "stream",
       "stream": "stdout",
       "text": [
        "\r",
        "64% [========================>              ] 448,389,120 1.23MB/s  eta 88s    "
       ]
      },
      {
       "output_type": "stream",
       "stream": "stdout",
       "text": [
        "\r",
        "64% [========================>              ] 448,651,264 1.23MB/s  eta 88s    "
       ]
      },
      {
       "output_type": "stream",
       "stream": "stdout",
       "text": [
        "\r",
        "64% [========================>              ] 448,880,640 1.22MB/s  eta 88s    "
       ]
      },
      {
       "output_type": "stream",
       "stream": "stdout",
       "text": [
        "\r",
        "64% [========================>              ] 449,159,168 1.22MB/s  eta 88s    "
       ]
      },
      {
       "output_type": "stream",
       "stream": "stdout",
       "text": [
        "\r",
        "64% [========================>              ] 449,437,696 1.21MB/s  eta 88s    "
       ]
      },
      {
       "output_type": "stream",
       "stream": "stdout",
       "text": [
        "\r",
        "64% [========================>              ] 449,699,840 1.21MB/s  eta 88s    "
       ]
      },
      {
       "output_type": "stream",
       "stream": "stdout",
       "text": [
        "\r",
        "65% [========================>              ] 449,994,752 1.21MB/s  eta 88s    "
       ]
      },
      {
       "output_type": "stream",
       "stream": "stdout",
       "text": [
        "\r",
        "65% [========================>              ] 450,256,896 1.21MB/s  eta 88s    "
       ]
      },
      {
       "output_type": "stream",
       "stream": "stdout",
       "text": [
        "\r",
        "65% [========================>              ] 450,568,192 1.21MB/s  eta 88s    "
       ]
      },
      {
       "output_type": "stream",
       "stream": "stdout",
       "text": [
        "\r",
        "65% [========================>              ] 450,863,104 1.21MB/s  eta 88s    "
       ]
      },
      {
       "output_type": "stream",
       "stream": "stdout",
       "text": [
        "\r",
        "65% [========================>              ] 451,141,632 1.20MB/s  eta 88s    "
       ]
      },
      {
       "output_type": "stream",
       "stream": "stdout",
       "text": [
        "\r",
        "65% [========================>              ] 451,436,544 1.21MB/s  eta 88s    "
       ]
      },
      {
       "output_type": "stream",
       "stream": "stdout",
       "text": [
        "\r",
        "65% [========================>              ] 451,665,920 1.19MB/s  eta 88s    "
       ]
      },
      {
       "output_type": "stream",
       "stream": "stdout",
       "text": [
        "\r",
        "65% [========================>              ] 451,878,912 1.20MB/s  eta 88s    "
       ]
      },
      {
       "output_type": "stream",
       "stream": "stdout",
       "text": [
        "\r",
        "65% [========================>              ] 452,108,288 1.20MB/s  eta 88s    "
       ]
      },
      {
       "output_type": "stream",
       "stream": "stdout",
       "text": [
        "\r",
        "65% [========================>              ] 452,321,280 1.20MB/s  eta 88s    "
       ]
      },
      {
       "output_type": "stream",
       "stream": "stdout",
       "text": [
        "\r",
        "65% [========================>              ] 452,599,808 1.21MB/s  eta 88s    "
       ]
      },
      {
       "output_type": "stream",
       "stream": "stdout",
       "text": [
        "\r",
        "65% [========================>              ] 452,861,952 1.22MB/s  eta 88s    "
       ]
      },
      {
       "output_type": "stream",
       "stream": "stdout",
       "text": [
        "\r",
        "65% [========================>              ] 453,124,096 1.22MB/s  eta 88s    "
       ]
      },
      {
       "output_type": "stream",
       "stream": "stdout",
       "text": [
        "\r",
        "65% [========================>              ] 453,419,008 1.23MB/s  eta 88s    "
       ]
      },
      {
       "output_type": "stream",
       "stream": "stdout",
       "text": [
        "\r",
        "65% [========================>              ] 453,681,152 1.22MB/s  eta 88s    "
       ]
      },
      {
       "output_type": "stream",
       "stream": "stdout",
       "text": [
        "\r",
        "65% [========================>              ] 453,976,064 1.22MB/s  eta 88s    "
       ]
      },
      {
       "output_type": "stream",
       "stream": "stdout",
       "text": [
        "\r",
        "65% [========================>              ] 454,238,208 1.22MB/s  eta 88s    "
       ]
      },
      {
       "output_type": "stream",
       "stream": "stdout",
       "text": [
        "\r",
        "65% [========================>              ] 454,516,736 1.22MB/s  eta 88s    "
       ]
      },
      {
       "output_type": "stream",
       "stream": "stdout",
       "text": [
        "\r",
        "65% [========================>              ] 454,778,880 1.21MB/s  eta 88s    "
       ]
      },
      {
       "output_type": "stream",
       "stream": "stdout",
       "text": [
        "\r",
        "65% [========================>              ] 455,073,792 1.22MB/s  eta 88s    "
       ]
      },
      {
       "output_type": "stream",
       "stream": "stdout",
       "text": [
        "\r",
        "65% [========================>              ] 455,352,320 1.21MB/s  eta 88s    "
       ]
      },
      {
       "output_type": "stream",
       "stream": "stdout",
       "text": [
        "\r",
        "65% [========================>              ] 455,663,616 1.25MB/s  eta 88s    "
       ]
      },
      {
       "output_type": "stream",
       "stream": "stdout",
       "text": [
        "\r",
        "65% [========================>              ] 455,942,144 1.23MB/s  eta 88s    "
       ]
      },
      {
       "output_type": "stream",
       "stream": "stdout",
       "text": [
        "\r",
        "65% [========================>              ] 456,253,440 1.26MB/s  eta 87s    "
       ]
      },
      {
       "output_type": "stream",
       "stream": "stdout",
       "text": [
        "\r",
        "65% [========================>              ] 456,531,968 1.29MB/s  eta 87s    "
       ]
      },
      {
       "output_type": "stream",
       "stream": "stdout",
       "text": [
        "\r",
        "66% [========================>              ] 456,843,264 1.30MB/s  eta 87s    "
       ]
      },
      {
       "output_type": "stream",
       "stream": "stdout",
       "text": [
        "\r",
        "66% [========================>              ] 457,170,944 1.32MB/s  eta 87s    "
       ]
      },
      {
       "output_type": "stream",
       "stream": "stdout",
       "text": [
        "\r",
        "66% [========================>              ] 457,433,088 1.32MB/s  eta 87s    "
       ]
      },
      {
       "output_type": "stream",
       "stream": "stdout",
       "text": [
        "\r",
        "66% [========================>              ] 457,646,080 1.30MB/s  eta 87s    "
       ]
      },
      {
       "output_type": "stream",
       "stream": "stdout",
       "text": [
        "\r",
        "66% [========================>              ] 457,891,840 1.29MB/s  eta 87s    "
       ]
      },
      {
       "output_type": "stream",
       "stream": "stdout",
       "text": [
        "\r",
        "66% [========================>              ] 458,121,216 1.27MB/s  eta 87s    "
       ]
      },
      {
       "output_type": "stream",
       "stream": "stdout",
       "text": [
        "\r",
        "66% [========================>              ] 458,383,360 1.26MB/s  eta 87s    "
       ]
      },
      {
       "output_type": "stream",
       "stream": "stdout",
       "text": [
        "\r",
        "66% [========================>              ] 458,661,888 1.26MB/s  eta 87s    "
       ]
      },
      {
       "output_type": "stream",
       "stream": "stdout",
       "text": [
        "\r",
        "66% [========================>              ] 458,891,264 1.24MB/s  eta 87s    "
       ]
      },
      {
       "output_type": "stream",
       "stream": "stdout",
       "text": [
        "\r",
        "66% [========================>              ] 459,186,176 1.25MB/s  eta 87s    "
       ]
      },
      {
       "output_type": "stream",
       "stream": "stdout",
       "text": [
        "\r",
        "66% [========================>              ] 459,431,936 1.24MB/s  eta 87s    "
       ]
      },
      {
       "output_type": "stream",
       "stream": "stdout",
       "text": [
        "\r",
        "66% [========================>              ] 459,743,232 1.25MB/s  eta 87s    "
       ]
      },
      {
       "output_type": "stream",
       "stream": "stdout",
       "text": [
        "\r",
        "66% [========================>              ] 459,988,992 1.24MB/s  eta 87s    "
       ]
      },
      {
       "output_type": "stream",
       "stream": "stdout",
       "text": [
        "\r",
        "66% [========================>              ] 460,316,672 1.24MB/s  eta 87s    "
       ]
      },
      {
       "output_type": "stream",
       "stream": "stdout",
       "text": [
        "\r",
        "66% [========================>              ] 460,627,968 1.25MB/s  eta 87s    "
       ]
      },
      {
       "output_type": "stream",
       "stream": "stdout",
       "text": [
        "\r",
        "66% [========================>              ] 460,890,112 1.23MB/s  eta 87s    "
       ]
      },
      {
       "output_type": "stream",
       "stream": "stdout",
       "text": [
        "\r",
        "66% [========================>              ] 461,217,792 1.24MB/s  eta 87s    "
       ]
      },
      {
       "output_type": "stream",
       "stream": "stdout",
       "text": [
        "\r",
        "66% [=========================>             ] 461,512,704 1.24MB/s  eta 87s    "
       ]
      },
      {
       "output_type": "stream",
       "stream": "stdout",
       "text": [
        "\r",
        "66% [=========================>             ] 461,807,616 1.26MB/s  eta 86s    "
       ]
      },
      {
       "output_type": "stream",
       "stream": "stdout",
       "text": [
        "\r",
        "66% [=========================>             ] 462,102,528 1.28MB/s  eta 86s    "
       ]
      },
      {
       "output_type": "stream",
       "stream": "stdout",
       "text": [
        "\r",
        "66% [=========================>             ] 462,381,056 1.29MB/s  eta 86s    "
       ]
      },
      {
       "output_type": "stream",
       "stream": "stdout",
       "text": [
        "\r",
        "66% [=========================>             ] 462,692,352 1.31MB/s  eta 86s    "
       ]
      },
      {
       "output_type": "stream",
       "stream": "stdout",
       "text": [
        "\r",
        "66% [=========================>             ] 462,954,496 1.32MB/s  eta 86s    "
       ]
      },
      {
       "output_type": "stream",
       "stream": "stdout",
       "text": [
        "\r",
        "66% [=========================>             ] 463,282,176 1.33MB/s  eta 86s    "
       ]
      },
      {
       "output_type": "stream",
       "stream": "stdout",
       "text": [
        "\r",
        "66% [=========================>             ] 463,560,704 1.34MB/s  eta 86s    "
       ]
      },
      {
       "output_type": "stream",
       "stream": "stdout",
       "text": [
        "\r",
        "67% [=========================>             ] 463,872,000 1.35MB/s  eta 86s    "
       ]
      },
      {
       "output_type": "stream",
       "stream": "stdout",
       "text": [
        "\r",
        "67% [=========================>             ] 464,183,296 1.36MB/s  eta 86s    "
       ]
      },
      {
       "output_type": "stream",
       "stream": "stdout",
       "text": [
        "\r",
        "67% [=========================>             ] 464,445,440 1.35MB/s  eta 86s    "
       ]
      },
      {
       "output_type": "stream",
       "stream": "stdout",
       "text": [
        "\r",
        "67% [=========================>             ] 464,691,200 1.34MB/s  eta 86s    "
       ]
      },
      {
       "output_type": "stream",
       "stream": "stdout",
       "text": [
        "\r",
        "67% [=========================>             ] 465,002,496 1.35MB/s  eta 86s    "
       ]
      },
      {
       "output_type": "stream",
       "stream": "stdout",
       "text": [
        "\r",
        "67% [=========================>             ] 465,281,024 1.35MB/s  eta 86s    "
       ]
      },
      {
       "output_type": "stream",
       "stream": "stdout",
       "text": [
        "\r",
        "67% [=========================>             ] 465,592,320 1.35MB/s  eta 86s    "
       ]
      },
      {
       "output_type": "stream",
       "stream": "stdout",
       "text": [
        "\r",
        "67% [=========================>             ] 465,887,232 1.31MB/s  eta 86s    "
       ]
      },
      {
       "output_type": "stream",
       "stream": "stdout",
       "text": [
        "\r",
        "67% [=========================>             ] 466,231,296 1.32MB/s  eta 85s    "
       ]
      },
      {
       "output_type": "stream",
       "stream": "stdout",
       "text": [
        "\r",
        "67% [=========================>             ] 466,477,056 1.30MB/s  eta 85s    "
       ]
      },
      {
       "output_type": "stream",
       "stream": "stdout",
       "text": [
        "\r",
        "67% [=========================>             ] 466,739,200 1.29MB/s  eta 85s    "
       ]
      },
      {
       "output_type": "stream",
       "stream": "stdout",
       "text": [
        "\r",
        "67% [=========================>             ] 467,001,344 1.28MB/s  eta 85s    "
       ]
      },
      {
       "output_type": "stream",
       "stream": "stdout",
       "text": [
        "\r",
        "67% [=========================>             ] 467,279,872 1.27MB/s  eta 85s    "
       ]
      },
      {
       "output_type": "stream",
       "stream": "stdout",
       "text": [
        "\r",
        "67% [=========================>             ] 467,558,400 1.26MB/s  eta 85s    "
       ]
      },
      {
       "output_type": "stream",
       "stream": "stdout",
       "text": [
        "\r",
        "67% [=========================>             ] 467,836,928 1.26MB/s  eta 85s    "
       ]
      },
      {
       "output_type": "stream",
       "stream": "stdout",
       "text": [
        "\r",
        "67% [=========================>             ] 468,066,304 1.23MB/s  eta 85s    "
       ]
      },
      {
       "output_type": "stream",
       "stream": "stdout",
       "text": [
        "\r",
        "67% [=========================>             ] 468,361,216 1.23MB/s  eta 85s    "
       ]
      },
      {
       "output_type": "stream",
       "stream": "stdout",
       "text": [
        "\r",
        "67% [=========================>             ] 468,590,592 1.21MB/s  eta 85s    "
       ]
      },
      {
       "output_type": "stream",
       "stream": "stdout",
       "text": [
        "\r",
        "67% [=========================>             ] 468,836,352 1.20MB/s  eta 85s    "
       ]
      },
      {
       "output_type": "stream",
       "stream": "stdout",
       "text": [
        "\r",
        "67% [=========================>             ] 469,049,344 1.17MB/s  eta 85s    "
       ]
      },
      {
       "output_type": "stream",
       "stream": "stdout",
       "text": [
        "\r",
        "67% [=========================>             ] 469,295,104 1.16MB/s  eta 85s    "
       ]
      },
      {
       "output_type": "stream",
       "stream": "stdout",
       "text": [
        "\r",
        "67% [=========================>             ] 469,524,480 1.15MB/s  eta 85s    "
       ]
      },
      {
       "output_type": "stream",
       "stream": "stdout",
       "text": [
        "\r",
        "67% [=========================>             ] 469,770,240 1.14MB/s  eta 85s    "
       ]
      },
      {
       "output_type": "stream",
       "stream": "stdout",
       "text": [
        "\r",
        "67% [=========================>             ] 470,032,384 1.13MB/s  eta 85s    "
       ]
      },
      {
       "output_type": "stream",
       "stream": "stdout",
       "text": [
        "\r",
        "67% [=========================>             ] 470,278,144 1.14MB/s  eta 85s    "
       ]
      },
      {
       "output_type": "stream",
       "stream": "stdout",
       "text": [
        "\r",
        "67% [=========================>             ] 470,474,752 1.10MB/s  eta 85s    "
       ]
      },
      {
       "output_type": "stream",
       "stream": "stdout",
       "text": [
        "\r",
        "68% [=========================>             ] 470,736,896 1.11MB/s  eta 85s    "
       ]
      },
      {
       "output_type": "stream",
       "stream": "stdout",
       "text": [
        "\r",
        "68% [=========================>             ] 470,933,504 1.09MB/s  eta 85s    "
       ]
      },
      {
       "output_type": "stream",
       "stream": "stdout",
       "text": [
        "\r",
        "68% [=========================>             ] 471,146,496 1.06MB/s  eta 85s    "
       ]
      },
      {
       "output_type": "stream",
       "stream": "stdout",
       "text": [
        "\r",
        "68% [=========================>             ] 471,375,872 1.04MB/s  eta 85s    "
       ]
      },
      {
       "output_type": "stream",
       "stream": "stdout",
       "text": [
        "\r",
        "68% [=========================>             ] 471,588,864 1.03MB/s  eta 85s    "
       ]
      },
      {
       "output_type": "stream",
       "stream": "stdout",
       "text": [
        "\r",
        "68% [=========================>             ] 471,818,240 1.03MB/s  eta 85s    "
       ]
      },
      {
       "output_type": "stream",
       "stream": "stdout",
       "text": [
        "\r",
        "68% [=========================>             ] 472,064,000 1.04MB/s  eta 85s    "
       ]
      },
      {
       "output_type": "stream",
       "stream": "stdout",
       "text": [
        "\r",
        "68% [=========================>             ] 472,293,376 1.04MB/s  eta 84s    "
       ]
      },
      {
       "output_type": "stream",
       "stream": "stdout",
       "text": [
        "\r",
        "68% [=========================>             ] 472,539,136 1.04MB/s  eta 84s    "
       ]
      },
      {
       "output_type": "stream",
       "stream": "stdout",
       "text": [
        "\r",
        "68% [=========================>             ] 472,784,896 1.05MB/s  eta 84s    "
       ]
      },
      {
       "output_type": "stream",
       "stream": "stdout",
       "text": [
        "\r",
        "68% [=========================>             ] 473,014,272 1.04MB/s  eta 84s    "
       ]
      },
      {
       "output_type": "stream",
       "stream": "stdout",
       "text": [
        "\r",
        "68% [=========================>             ] 473,292,800 1.05MB/s  eta 84s    "
       ]
      },
      {
       "output_type": "stream",
       "stream": "stdout",
       "text": [
        "\r",
        "68% [=========================>             ] 473,538,560 1.05MB/s  eta 84s    "
       ]
      },
      {
       "output_type": "stream",
       "stream": "stdout",
       "text": [
        "\r",
        "68% [=========================>             ] 473,784,320 1.05MB/s  eta 84s    "
       ]
      },
      {
       "output_type": "stream",
       "stream": "stdout",
       "text": [
        "\r",
        "68% [=========================>             ] 474,046,464 1.05MB/s  eta 84s    "
       ]
      },
      {
       "output_type": "stream",
       "stream": "stdout",
       "text": [
        "\r",
        "68% [=========================>             ] 474,292,224 1.07MB/s  eta 84s    "
       ]
      },
      {
       "output_type": "stream",
       "stream": "stdout",
       "text": [
        "\r",
        "68% [=========================>             ] 474,537,984 1.09MB/s  eta 84s    "
       ]
      },
      {
       "output_type": "stream",
       "stream": "stdout",
       "text": [
        "\r",
        "68% [=========================>             ] 474,783,744 1.10MB/s  eta 84s    "
       ]
      },
      {
       "output_type": "stream",
       "stream": "stdout",
       "text": [
        "\r",
        "68% [=========================>             ] 475,029,504 1.11MB/s  eta 84s    "
       ]
      },
      {
       "output_type": "stream",
       "stream": "stdout",
       "text": [
        "\r",
        "68% [=========================>             ] 475,291,648 1.12MB/s  eta 84s    "
       ]
      },
      {
       "output_type": "stream",
       "stream": "stdout",
       "text": [
        "\r",
        "68% [=========================>             ] 475,521,024 1.12MB/s  eta 84s    "
       ]
      },
      {
       "output_type": "stream",
       "stream": "stdout",
       "text": [
        "\r",
        "68% [=========================>             ] 475,783,168 1.13MB/s  eta 84s    "
       ]
      },
      {
       "output_type": "stream",
       "stream": "stdout",
       "text": [
        "\r",
        "68% [=========================>             ] 476,028,928 1.14MB/s  eta 84s    "
       ]
      },
      {
       "output_type": "stream",
       "stream": "stdout",
       "text": [
        "\r",
        "68% [=========================>             ] 476,274,688 1.14MB/s  eta 84s    "
       ]
      },
      {
       "output_type": "stream",
       "stream": "stdout",
       "text": [
        "\r",
        "68% [=========================>             ] 476,553,216 1.14MB/s  eta 84s    "
       ]
      },
      {
       "output_type": "stream",
       "stream": "stdout",
       "text": [
        "\r",
        "68% [=========================>             ] 476,798,976 1.14MB/s  eta 84s    "
       ]
      },
      {
       "output_type": "stream",
       "stream": "stdout",
       "text": [
        "\r",
        "68% [=========================>             ] 477,044,736 1.15MB/s  eta 84s    "
       ]
      },
      {
       "output_type": "stream",
       "stream": "stdout",
       "text": [
        "\r",
        "68% [=========================>             ] 477,323,264 1.16MB/s  eta 84s    "
       ]
      },
      {
       "output_type": "stream",
       "stream": "stdout",
       "text": [
        "\r",
        "68% [=========================>             ] 477,552,640 1.15MB/s  eta 84s    "
       ]
      },
      {
       "output_type": "stream",
       "stream": "stdout",
       "text": [
        "\r",
        "69% [=========================>             ] 477,831,168 1.16MB/s  eta 84s    "
       ]
      },
      {
       "output_type": "stream",
       "stream": "stdout",
       "text": [
        "\r",
        "69% [=========================>             ] 478,076,928 1.16MB/s  eta 84s    "
       ]
      },
      {
       "output_type": "stream",
       "stream": "stdout",
       "text": [
        "\r",
        "69% [=========================>             ] 478,388,224 1.18MB/s  eta 84s    "
       ]
      },
      {
       "output_type": "stream",
       "stream": "stdout",
       "text": [
        "\r",
        "69% [=========================>             ] 478,633,984 1.17MB/s  eta 83s    "
       ]
      },
      {
       "output_type": "stream",
       "stream": "stdout",
       "text": [
        "\r",
        "69% [=========================>             ] 478,945,280 1.20MB/s  eta 83s    "
       ]
      },
      {
       "output_type": "stream",
       "stream": "stdout",
       "text": [
        "\r",
        "69% [==========================>            ] 479,174,656 1.19MB/s  eta 83s    "
       ]
      },
      {
       "output_type": "stream",
       "stream": "stdout",
       "text": [
        "\r",
        "69% [==========================>            ] 479,420,416 1.18MB/s  eta 83s    "
       ]
      },
      {
       "output_type": "stream",
       "stream": "stdout",
       "text": [
        "\r",
        "69% [==========================>            ] 479,666,176 1.18MB/s  eta 83s    "
       ]
      },
      {
       "output_type": "stream",
       "stream": "stdout",
       "text": [
        "\r",
        "69% [==========================>            ] 479,911,936 1.18MB/s  eta 83s    "
       ]
      },
      {
       "output_type": "stream",
       "stream": "stdout",
       "text": [
        "\r",
        "69% [==========================>            ] 480,174,080 1.18MB/s  eta 83s    "
       ]
      },
      {
       "output_type": "stream",
       "stream": "stdout",
       "text": [
        "\r",
        "69% [==========================>            ] 480,436,224 1.19MB/s  eta 83s    "
       ]
      },
      {
       "output_type": "stream",
       "stream": "stdout",
       "text": [
        "\r",
        "69% [==========================>            ] 480,714,752 1.20MB/s  eta 83s    "
       ]
      },
      {
       "output_type": "stream",
       "stream": "stdout",
       "text": [
        "\r",
        "69% [==========================>            ] 480,993,280 1.21MB/s  eta 83s    "
       ]
      },
      {
       "output_type": "stream",
       "stream": "stdout",
       "text": [
        "\r",
        "69% [==========================>            ] 481,271,808 1.22MB/s  eta 83s    "
       ]
      },
      {
       "output_type": "stream",
       "stream": "stdout",
       "text": [
        "\r",
        "69% [==========================>            ] 481,566,720 1.23MB/s  eta 83s    "
       ]
      },
      {
       "output_type": "stream",
       "stream": "stdout",
       "text": [
        "\r",
        "69% [==========================>            ] 481,845,248 1.23MB/s  eta 83s    "
       ]
      },
      {
       "output_type": "stream",
       "stream": "stdout",
       "text": [
        "\r",
        "69% [==========================>            ] 482,156,544 1.25MB/s  eta 83s    "
       ]
      },
      {
       "output_type": "stream",
       "stream": "stdout",
       "text": [
        "\r",
        "69% [==========================>            ] 482,451,456 1.26MB/s  eta 83s    "
       ]
      },
      {
       "output_type": "stream",
       "stream": "stdout",
       "text": [
        "\r",
        "69% [==========================>            ] 482,762,752 1.27MB/s  eta 82s    "
       ]
      },
      {
       "output_type": "stream",
       "stream": "stdout",
       "text": [
        "\r",
        "69% [==========================>            ] 483,057,664 1.27MB/s  eta 82s    "
       ]
      },
      {
       "output_type": "stream",
       "stream": "stdout",
       "text": [
        "\r",
        "69% [==========================>            ] 483,352,576 1.31MB/s  eta 82s    "
       ]
      },
      {
       "output_type": "stream",
       "stream": "stdout",
       "text": [
        "\r",
        "69% [==========================>            ] 483,680,256 1.30MB/s  eta 82s    "
       ]
      },
      {
       "output_type": "stream",
       "stream": "stdout",
       "text": [
        "\r",
        "69% [==========================>            ] 483,893,248 1.29MB/s  eta 82s    "
       ]
      },
      {
       "output_type": "stream",
       "stream": "stdout",
       "text": [
        "\r",
        "69% [==========================>            ] 484,237,312 1.31MB/s  eta 82s    "
       ]
      },
      {
       "output_type": "stream",
       "stream": "stdout",
       "text": [
        "\r",
        "69% [==========================>            ] 484,466,688 1.30MB/s  eta 82s    "
       ]
      },
      {
       "output_type": "stream",
       "stream": "stdout",
       "text": [
        "\r",
        "70% [==========================>            ] 484,728,832 1.30MB/s  eta 82s    "
       ]
      },
      {
       "output_type": "stream",
       "stream": "stdout",
       "text": [
        "\r",
        "70% [==========================>            ] 484,990,976 1.29MB/s  eta 82s    "
       ]
      },
      {
       "output_type": "stream",
       "stream": "stdout",
       "text": [
        "\r",
        "70% [==========================>            ] 485,253,120 1.28MB/s  eta 82s    "
       ]
      },
      {
       "output_type": "stream",
       "stream": "stdout",
       "text": [
        "\r",
        "70% [==========================>            ] 485,531,648 1.28MB/s  eta 82s    "
       ]
      },
      {
       "output_type": "stream",
       "stream": "stdout",
       "text": [
        "\r",
        "70% [==========================>            ] 485,810,176 1.28MB/s  eta 82s    "
       ]
      },
      {
       "output_type": "stream",
       "stream": "stdout",
       "text": [
        "\r",
        "70% [==========================>            ] 486,088,704 1.28MB/s  eta 82s    "
       ]
      },
      {
       "output_type": "stream",
       "stream": "stdout",
       "text": [
        "\r",
        "70% [==========================>            ] 486,383,616 1.27MB/s  eta 82s    "
       ]
      },
      {
       "output_type": "stream",
       "stream": "stdout",
       "text": [
        "\r",
        "70% [==========================>            ] 486,694,912 1.27MB/s  eta 82s    "
       ]
      },
      {
       "output_type": "stream",
       "stream": "stdout",
       "text": [
        "\r",
        "70% [==========================>            ] 487,006,208 1.27MB/s  eta 81s    "
       ]
      },
      {
       "output_type": "stream",
       "stream": "stdout",
       "text": [
        "\r",
        "70% [==========================>            ] 487,301,120 1.27MB/s  eta 81s    "
       ]
      },
      {
       "output_type": "stream",
       "stream": "stdout",
       "text": [
        "\r",
        "70% [==========================>            ] 487,612,416 1.27MB/s  eta 81s    "
       ]
      },
      {
       "output_type": "stream",
       "stream": "stdout",
       "text": [
        "\r",
        "70% [==========================>            ] 487,907,328 1.27MB/s  eta 81s    "
       ]
      },
      {
       "output_type": "stream",
       "stream": "stdout",
       "text": [
        "\r",
        "70% [==========================>            ] 488,218,624 1.27MB/s  eta 81s    "
       ]
      },
      {
       "output_type": "stream",
       "stream": "stdout",
       "text": [
        "\r",
        "70% [==========================>            ] 488,529,920 1.30MB/s  eta 81s    "
       ]
      },
      {
       "output_type": "stream",
       "stream": "stdout",
       "text": [
        "\r",
        "70% [==========================>            ] 488,841,216 1.32MB/s  eta 81s    "
       ]
      },
      {
       "output_type": "stream",
       "stream": "stdout",
       "text": [
        "\r",
        "70% [==========================>            ] 489,152,512 1.33MB/s  eta 81s    "
       ]
      },
      {
       "output_type": "stream",
       "stream": "stdout",
       "text": [
        "\r",
        "70% [==========================>            ] 489,480,192 1.36MB/s  eta 81s    "
       ]
      },
      {
       "output_type": "stream",
       "stream": "stdout",
       "text": [
        "\r",
        "70% [==========================>            ] 489,742,336 1.36MB/s  eta 81s    "
       ]
      },
      {
       "output_type": "stream",
       "stream": "stdout",
       "text": [
        "\r",
        "70% [==========================>            ] 490,086,400 1.38MB/s  eta 80s    "
       ]
      },
      {
       "output_type": "stream",
       "stream": "stdout",
       "text": [
        "\r",
        "70% [==========================>            ] 490,414,080 1.39MB/s  eta 80s    "
       ]
      },
      {
       "output_type": "stream",
       "stream": "stdout",
       "text": [
        "\r",
        "70% [==========================>            ] 490,692,608 1.39MB/s  eta 80s    "
       ]
      },
      {
       "output_type": "stream",
       "stream": "stdout",
       "text": [
        "\r",
        "70% [==========================>            ] 491,020,288 1.40MB/s  eta 80s    "
       ]
      },
      {
       "output_type": "stream",
       "stream": "stdout",
       "text": [
        "\r",
        "70% [==========================>            ] 491,315,200 1.41MB/s  eta 80s    "
       ]
      },
      {
       "output_type": "stream",
       "stream": "stdout",
       "text": [
        "\r",
        "71% [==========================>            ] 491,626,496 1.40MB/s  eta 80s    "
       ]
      },
      {
       "output_type": "stream",
       "stream": "stdout",
       "text": [
        "\r",
        "71% [==========================>            ] 491,970,560 1.41MB/s  eta 80s    "
       ]
      },
      {
       "output_type": "stream",
       "stream": "stdout",
       "text": [
        "\r",
        "71% [==========================>            ] 492,281,856 1.42MB/s  eta 80s    "
       ]
      },
      {
       "output_type": "stream",
       "stream": "stdout",
       "text": [
        "\r",
        "71% [==========================>            ] 492,576,768 1.42MB/s  eta 80s    "
       ]
      },
      {
       "output_type": "stream",
       "stream": "stdout",
       "text": [
        "\r",
        "71% [==========================>            ] 492,920,832 1.42MB/s  eta 80s    "
       ]
      },
      {
       "output_type": "stream",
       "stream": "stdout",
       "text": [
        "\r",
        "71% [==========================>            ] 493,215,744 1.42MB/s  eta 80s    "
       ]
      },
      {
       "output_type": "stream",
       "stream": "stdout",
       "text": [
        "\r",
        "71% [==========================>            ] 493,559,808 1.43MB/s  eta 80s    "
       ]
      },
      {
       "output_type": "stream",
       "stream": "stdout",
       "text": [
        "\r",
        "71% [==========================>            ] 493,854,720 1.43MB/s  eta 80s    "
       ]
      },
      {
       "output_type": "stream",
       "stream": "stdout",
       "text": [
        "\r",
        "71% [==========================>            ] 494,231,552 1.45MB/s  eta 80s    "
       ]
      },
      {
       "output_type": "stream",
       "stream": "stdout",
       "text": [
        "\r",
        "71% [==========================>            ] 494,575,616 1.46MB/s  eta 80s    "
       ]
      },
      {
       "output_type": "stream",
       "stream": "stdout",
       "text": [
        "\r",
        "71% [==========================>            ] 494,936,064 1.47MB/s  eta 79s    "
       ]
      },
      {
       "output_type": "stream",
       "stream": "stdout",
       "text": [
        "\r",
        "71% [==========================>            ] 495,345,664 1.50MB/s  eta 79s    "
       ]
      },
      {
       "output_type": "stream",
       "stream": "stdout",
       "text": [
        "\r",
        "71% [==========================>            ] 495,738,880 1.53MB/s  eta 79s    "
       ]
      },
      {
       "output_type": "stream",
       "stream": "stdout",
       "text": [
        "\r",
        "71% [==========================>            ] 496,115,712 1.55MB/s  eta 79s    "
       ]
      },
      {
       "output_type": "stream",
       "stream": "stdout",
       "text": [
        "\r",
        "71% [==========================>            ] 496,574,464 1.59MB/s  eta 79s    "
       ]
      },
      {
       "output_type": "stream",
       "stream": "stdout",
       "text": [
        "\r",
        "71% [===========================>           ] 496,984,064 1.63MB/s  eta 78s    "
       ]
      },
      {
       "output_type": "stream",
       "stream": "stdout",
       "text": [
        "\r",
        "71% [===========================>           ] 497,442,816 1.66MB/s  eta 78s    "
       ]
      },
      {
       "output_type": "stream",
       "stream": "stdout",
       "text": [
        "\r",
        "71% [===========================>           ] 497,967,104 1.71MB/s  eta 78s    "
       ]
      },
      {
       "output_type": "stream",
       "stream": "stdout",
       "text": [
        "\r",
        "72% [===========================>           ] 498,458,624 1.78MB/s  eta 78s    "
       ]
      },
      {
       "output_type": "stream",
       "stream": "stdout",
       "text": [
        "\r",
        "72% [===========================>           ] 498,950,144 1.82MB/s  eta 78s    "
       ]
      },
      {
       "output_type": "stream",
       "stream": "stdout",
       "text": [
        "\r",
        "72% [===========================>           ] 499,556,352 1.89MB/s  eta 77s    "
       ]
      },
      {
       "output_type": "stream",
       "stream": "stdout",
       "text": [
        "\r",
        "72% [===========================>           ] 500,146,176 1.99MB/s  eta 77s    "
       ]
      },
      {
       "output_type": "stream",
       "stream": "stdout",
       "text": [
        "\r",
        "72% [===========================>           ] 500,686,848 2.05MB/s  eta 77s    "
       ]
      },
      {
       "output_type": "stream",
       "stream": "stdout",
       "text": [
        "\r",
        "72% [===========================>           ] 501,309,440 2.13MB/s  eta 77s    "
       ]
      },
      {
       "output_type": "stream",
       "stream": "stdout",
       "text": [
        "\r",
        "72% [===========================>           ] 501,948,416 2.22MB/s  eta 77s    "
       ]
      },
      {
       "output_type": "stream",
       "stream": "stdout",
       "text": [
        "\r",
        "72% [===========================>           ] 502,636,544 2.31MB/s  eta 76s    "
       ]
      },
      {
       "output_type": "stream",
       "stream": "stdout",
       "text": [
        "\r",
        "72% [===========================>           ] 503,078,912 2.33MB/s  eta 76s    "
       ]
      },
      {
       "output_type": "stream",
       "stream": "stdout",
       "text": [
        "\r",
        "72% [===========================>           ] 503,635,968 2.37MB/s  eta 76s    "
       ]
      },
      {
       "output_type": "stream",
       "stream": "stdout",
       "text": [
        "\r",
        "72% [===========================>           ] 504,160,256 2.43MB/s  eta 76s    "
       ]
      },
      {
       "output_type": "stream",
       "stream": "stdout",
       "text": [
        "\r",
        "72% [===========================>           ] 504,733,696 2.46MB/s  eta 76s    "
       ]
      },
      {
       "output_type": "stream",
       "stream": "stdout",
       "text": [
        "\r",
        "73% [===========================>           ] 505,372,672 2.52MB/s  eta 75s    "
       ]
      },
      {
       "output_type": "stream",
       "stream": "stdout",
       "text": [
        "\r",
        "73% [===========================>           ] 505,896,960 2.56MB/s  eta 75s    "
       ]
      },
      {
       "output_type": "stream",
       "stream": "stdout",
       "text": [
        "\r",
        "73% [===========================>           ] 506,568,704 2.62MB/s  eta 75s    "
       ]
      },
      {
       "output_type": "stream",
       "stream": "stdout",
       "text": [
        "\r",
        "73% [===========================>           ] 507,125,760 2.65MB/s  eta 75s    "
       ]
      },
      {
       "output_type": "stream",
       "stream": "stdout",
       "text": [
        "\r",
        "73% [===========================>           ] 507,813,888 2.70MB/s  eta 75s    "
       ]
      },
      {
       "output_type": "stream",
       "stream": "stdout",
       "text": [
        "\r",
        "73% [===========================>           ] 508,502,016 2.75MB/s  eta 73s    "
       ]
      },
      {
       "output_type": "stream",
       "stream": "stdout",
       "text": [
        "\r",
        "73% [===========================>           ] 509,108,224 2.76MB/s  eta 73s    "
       ]
      },
      {
       "output_type": "stream",
       "stream": "stdout",
       "text": [
        "\r",
        "73% [===========================>           ] 509,829,120 2.80MB/s  eta 73s    "
       ]
      },
      {
       "output_type": "stream",
       "stream": "stdout",
       "text": [
        "\r",
        "73% [===========================>           ] 510,468,096 2.83MB/s  eta 73s    "
       ]
      },
      {
       "output_type": "stream",
       "stream": "stdout",
       "text": [
        "\r",
        "73% [===========================>           ] 511,139,840 2.83MB/s  eta 73s    "
       ]
      },
      {
       "output_type": "stream",
       "stream": "stdout",
       "text": [
        "\r",
        "73% [===========================>           ] 511,795,200 2.85MB/s  eta 72s    "
       ]
      },
      {
       "output_type": "stream",
       "stream": "stdout",
       "text": [
        "\r",
        "74% [===========================>           ] 512,483,328 2.88MB/s  eta 72s    "
       ]
      },
      {
       "output_type": "stream",
       "stream": "stdout",
       "text": [
        "\r",
        "74% [===========================>           ] 513,187,840 2.93MB/s  eta 72s    "
       ]
      },
      {
       "output_type": "stream",
       "stream": "stdout",
       "text": [
        "\r",
        "74% [===========================>           ] 513,859,584 2.97MB/s  eta 72s    "
       ]
      },
      {
       "output_type": "stream",
       "stream": "stdout",
       "text": [
        "\r",
        "74% [===========================>           ] 514,596,864 3.02MB/s  eta 72s    "
       ]
      },
      {
       "output_type": "stream",
       "stream": "stdout",
       "text": [
        "\r",
        "74% [============================>          ] 515,268,608 3.06MB/s  eta 71s    "
       ]
      },
      {
       "output_type": "stream",
       "stream": "stdout",
       "text": [
        "\r",
        "74% [============================>          ] 515,973,120 3.08MB/s  eta 71s    "
       ]
      },
      {
       "output_type": "stream",
       "stream": "stdout",
       "text": [
        "\r",
        "74% [============================>          ] 516,661,248 3.10MB/s  eta 71s    "
       ]
      },
      {
       "output_type": "stream",
       "stream": "stdout",
       "text": [
        "\r",
        "74% [============================>          ] 517,349,376 3.13MB/s  eta 71s    "
       ]
      },
      {
       "output_type": "stream",
       "stream": "stdout",
       "text": [
        "\r",
        "74% [============================>          ] 518,053,888 3.15MB/s  eta 71s    "
       ]
      },
      {
       "output_type": "stream",
       "stream": "stdout",
       "text": [
        "\r",
        "74% [============================>          ] 518,742,016 3.17MB/s  eta 69s    "
       ]
      },
      {
       "output_type": "stream",
       "stream": "stdout",
       "text": [
        "\r",
        "75% [============================>          ] 519,380,992 3.17MB/s  eta 69s    "
       ]
      },
      {
       "output_type": "stream",
       "stream": "stdout",
       "text": [
        "\r",
        "75% [============================>          ] 520,134,656 3.21MB/s  eta 69s    "
       ]
      },
      {
       "output_type": "stream",
       "stream": "stdout",
       "text": [
        "\r",
        "75% [============================>          ] 520,724,480 3.19MB/s  eta 69s    "
       ]
      },
      {
       "output_type": "stream",
       "stream": "stdout",
       "text": [
        "\r",
        "75% [============================>          ] 521,494,528 3.22MB/s  eta 69s    "
       ]
      },
      {
       "output_type": "stream",
       "stream": "stdout",
       "text": [
        "\r",
        "75% [============================>          ] 522,084,352 3.20MB/s  eta 68s    "
       ]
      },
      {
       "output_type": "stream",
       "stream": "stdout",
       "text": [
        "\r",
        "75% [============================>          ] 522,838,016 3.22MB/s  eta 68s    "
       ]
      },
      {
       "output_type": "stream",
       "stream": "stdout",
       "text": [
        "\r",
        "75% [============================>          ] 523,460,608 3.21MB/s  eta 68s    "
       ]
      },
      {
       "output_type": "stream",
       "stream": "stdout",
       "text": [
        "\r",
        "75% [============================>          ] 524,214,272 3.23MB/s  eta 68s    "
       ]
      },
      {
       "output_type": "stream",
       "stream": "stdout",
       "text": [
        "\r",
        "75% [============================>          ] 524,836,864 3.21MB/s  eta 68s    "
       ]
      },
      {
       "output_type": "stream",
       "stream": "stdout",
       "text": [
        "\r",
        "75% [============================>          ] 525,574,144 3.23MB/s  eta 66s    "
       ]
      },
      {
       "output_type": "stream",
       "stream": "stdout",
       "text": [
        "\r",
        "76% [============================>          ] 526,229,504 3.22MB/s  eta 66s    "
       ]
      },
      {
       "output_type": "stream",
       "stream": "stdout",
       "text": [
        "\r",
        "76% [============================>          ] 526,950,400 3.23MB/s  eta 66s    "
       ]
      },
      {
       "output_type": "stream",
       "stream": "stdout",
       "text": [
        "\r",
        "76% [============================>          ] 527,654,912 3.23MB/s  eta 66s    "
       ]
      },
      {
       "output_type": "stream",
       "stream": "stdout",
       "text": [
        "\r",
        "76% [============================>          ] 528,359,424 3.23MB/s  eta 66s    "
       ]
      },
      {
       "output_type": "stream",
       "stream": "stdout",
       "text": [
        "\r",
        "76% [============================>          ] 529,113,088 3.25MB/s  eta 65s    "
       ]
      },
      {
       "output_type": "stream",
       "stream": "stdout",
       "text": [
        "\r",
        "76% [============================>          ] 529,817,600 3.25MB/s  eta 65s    "
       ]
      },
      {
       "output_type": "stream",
       "stream": "stdout",
       "text": [
        "\r",
        "76% [============================>          ] 530,636,800 3.28MB/s  eta 65s    "
       ]
      },
      {
       "output_type": "stream",
       "stream": "stdout",
       "text": [
        "\r",
        "76% [============================>          ] 531,324,928 3.28MB/s  eta 65s    "
       ]
      },
      {
       "output_type": "stream",
       "stream": "stdout",
       "text": [
        "\r",
        "76% [============================>          ] 532,111,360 3.31MB/s  eta 65s    "
       ]
      },
      {
       "output_type": "stream",
       "stream": "stdout",
       "text": [
        "\r",
        "76% [=============================>         ] 532,815,872 3.32MB/s  eta 63s    "
       ]
      },
      {
       "output_type": "stream",
       "stream": "stdout",
       "text": [
        "\r",
        "77% [=============================>         ] 533,635,072 3.36MB/s  eta 63s    "
       ]
      },
      {
       "output_type": "stream",
       "stream": "stdout",
       "text": [
        "\r",
        "77% [=============================>         ] 534,388,736 3.38MB/s  eta 63s    "
       ]
      },
      {
       "output_type": "stream",
       "stream": "stdout",
       "text": [
        "\r",
        "77% [=============================>         ] 535,191,552 3.42MB/s  eta 63s    "
       ]
      },
      {
       "output_type": "stream",
       "stream": "stdout",
       "text": [
        "\r",
        "77% [=============================>         ] 535,977,984 3.45MB/s  eta 63s    "
       ]
      },
      {
       "output_type": "stream",
       "stream": "stdout",
       "text": [
        "\r",
        "77% [=============================>         ] 536,846,336 3.51MB/s  eta 61s    "
       ]
      },
      {
       "output_type": "stream",
       "stream": "stdout",
       "text": [
        "\r",
        "77% [=============================>         ] 537,681,920 3.54MB/s  eta 61s    "
       ]
      },
      {
       "output_type": "stream",
       "stream": "stdout",
       "text": [
        "\r",
        "77% [=============================>         ] 538,583,040 3.60MB/s  eta 61s    "
       ]
      },
      {
       "output_type": "stream",
       "stream": "stdout",
       "text": [
        "\r",
        "77% [=============================>         ] 539,500,544 3.68MB/s  eta 61s    "
       ]
      },
      {
       "output_type": "stream",
       "stream": "stdout",
       "text": [
        "\r",
        "78% [=============================>         ] 540,418,048 3.73MB/s  eta 61s    "
       ]
      },
      {
       "output_type": "stream",
       "stream": "stdout",
       "text": [
        "\r",
        "78% [=============================>         ] 541,401,088 3.81MB/s  eta 59s    "
       ]
      },
      {
       "output_type": "stream",
       "stream": "stdout",
       "text": [
        "\r",
        "78% [=============================>         ] 542,367,744 3.90MB/s  eta 59s    "
       ]
      },
      {
       "output_type": "stream",
       "stream": "stdout",
       "text": [
        "\r",
        "78% [=============================>         ] 543,399,936 3.99MB/s  eta 59s    "
       ]
      },
      {
       "output_type": "stream",
       "stream": "stdout",
       "text": [
        "\r",
        "78% [=============================>         ] 544,415,744 4.06MB/s  eta 59s    "
       ]
      },
      {
       "output_type": "stream",
       "stream": "stdout",
       "text": [
        "\r",
        "78% [=============================>         ] 545,529,856 4.22MB/s  eta 59s    "
       ]
      },
      {
       "output_type": "stream",
       "stream": "stdout",
       "text": [
        "\r",
        "78% [=============================>         ] 546,627,584 4.32MB/s  eta 57s    "
       ]
      },
      {
       "output_type": "stream",
       "stream": "stdout",
       "text": [
        "\r",
        "79% [=============================>         ] 547,856,384 4.45MB/s  eta 57s    "
       ]
      },
      {
       "output_type": "stream",
       "stream": "stdout",
       "text": [
        "\r",
        "79% [=============================>         ] 549,003,264 4.58MB/s  eta 57s    "
       ]
      },
      {
       "output_type": "stream",
       "stream": "stdout",
       "text": [
        "\r",
        "79% [==============================>        ] 550,346,752 4.74MB/s  eta 57s    "
       ]
      },
      {
       "output_type": "stream",
       "stream": "stdout",
       "text": [
        "\r",
        "79% [==============================>        ] 551,559,168 4.84MB/s  eta 57s    "
       ]
      },
      {
       "output_type": "stream",
       "stream": "stdout",
       "text": [
        "\r",
        "79% [==============================>        ] 553,017,344 5.07MB/s  eta 54s    "
       ]
      },
      {
       "output_type": "stream",
       "stream": "stdout",
       "text": [
        "\r",
        "80% [==============================>        ] 554,360,832 5.21MB/s  eta 54s    "
       ]
      },
      {
       "output_type": "stream",
       "stream": "stdout",
       "text": [
        "\r",
        "80% [==============================>        ] 555,884,544 5.40MB/s  eta 54s    "
       ]
      },
      {
       "output_type": "stream",
       "stream": "stdout",
       "text": [
        "\r",
        "80% [==============================>        ] 557,293,568 5.60MB/s  eta 54s    "
       ]
      },
      {
       "output_type": "stream",
       "stream": "stdout",
       "text": [
        "\r",
        "80% [==============================>        ] 558,997,504 5.81MB/s  eta 54s    "
       ]
      },
      {
       "output_type": "stream",
       "stream": "stdout",
       "text": [
        "\r",
        "80% [==============================>        ] 560,553,984 5.97MB/s  eta 51s    "
       ]
      },
      {
       "output_type": "stream",
       "stream": "stdout",
       "text": [
        "\r",
        "81% [==============================>        ] 562,372,608 6.21MB/s  eta 51s    "
       ]
      },
      {
       "output_type": "stream",
       "stream": "stdout",
       "text": [
        "\r",
        "81% [==============================>        ] 564,060,160 6.46MB/s  eta 51s    "
       ]
      },
      {
       "output_type": "stream",
       "stream": "stdout",
       "text": [
        "\r",
        "81% [==============================>        ] 566,009,856 6.74MB/s  eta 51s    "
       ]
      },
      {
       "output_type": "stream",
       "stream": "stdout",
       "text": [
        "\r",
        "82% [===============================>       ] 567,910,400 6.97MB/s  eta 51s    "
       ]
      },
      {
       "output_type": "stream",
       "stream": "stdout",
       "text": [
        "\r",
        "82% [===============================>       ] 569,942,016 7.33MB/s  eta 46s    "
       ]
      },
      {
       "output_type": "stream",
       "stream": "stdout",
       "text": [
        "\r",
        "82% [===============================>       ] 571,990,016 7.58MB/s  eta 46s    "
       ]
      },
      {
       "output_type": "stream",
       "stream": "stdout",
       "text": [
        "\r",
        "82% [===============================>       ] 574,201,856 7.85MB/s  eta 46s    "
       ]
      },
      {
       "output_type": "stream",
       "stream": "stdout",
       "text": [
        "\r",
        "83% [===============================>       ] 575,791,104 7.95MB/s  eta 46s    "
       ]
      },
      {
       "output_type": "stream",
       "stream": "stdout",
       "text": [
        "\r",
        "83% [===============================>       ] 578,183,168 8.25MB/s  eta 46s    "
       ]
      },
      {
       "output_type": "stream",
       "stream": "stdout",
       "text": [
        "\r",
        "83% [===============================>       ] 579,854,336 8.32MB/s  eta 42s    "
       ]
      },
      {
       "output_type": "stream",
       "stream": "stdout",
       "text": [
        "\r",
        "84% [===============================>       ] 581,492,736 8.44MB/s  eta 42s    "
       ]
      },
      {
       "output_type": "stream",
       "stream": "stdout",
       "text": [
        "\r",
        "84% [===============================>       ] 583,213,056 8.50MB/s  eta 42s    "
       ]
      },
      {
       "output_type": "stream",
       "stream": "stdout",
       "text": [
        "\r",
        "84% [===============================>       ] 584,687,616 8.49MB/s  eta 42s    "
       ]
      },
      {
       "output_type": "stream",
       "stream": "stdout",
       "text": [
        "\r",
        "84% [================================>      ] 585,998,336 8.45MB/s  eta 42s    "
       ]
      },
      {
       "output_type": "stream",
       "stream": "stdout",
       "text": [
        "\r",
        "84% [================================>      ] 587,341,824 8.34MB/s  eta 39s    "
       ]
      },
      {
       "output_type": "stream",
       "stream": "stdout",
       "text": [
        "\r",
        "85% [================================>      ] 588,685,312 8.22MB/s  eta 39s    "
       ]
      },
      {
       "output_type": "stream",
       "stream": "stdout",
       "text": [
        "\r",
        "85% [================================>      ] 590,061,568 8.08MB/s  eta 39s    "
       ]
      },
      {
       "output_type": "stream",
       "stream": "stdout",
       "text": [
        "\r",
        "85% [================================>      ] 591,454,208 7.95MB/s  eta 39s    "
       ]
      },
      {
       "output_type": "stream",
       "stream": "stdout",
       "text": [
        "\r",
        "85% [================================>      ] 592,732,160 7.77MB/s  eta 39s    "
       ]
      },
      {
       "output_type": "stream",
       "stream": "stdout",
       "text": [
        "\r",
        "85% [================================>      ] 594,239,488 7.58MB/s  eta 36s    "
       ]
      },
      {
       "output_type": "stream",
       "stream": "stdout",
       "text": [
        "\r",
        "86% [================================>      ] 595,582,976 7.40MB/s  eta 36s    "
       ]
      },
      {
       "output_type": "stream",
       "stream": "stdout",
       "text": [
        "\r",
        "86% [================================>      ] 597,106,688 7.27MB/s  eta 36s    "
       ]
      },
      {
       "output_type": "stream",
       "stream": "stdout",
       "text": [
        "\r",
        "86% [================================>      ] 598,253,568 7.02MB/s  eta 36s    "
       ]
      },
      {
       "output_type": "stream",
       "stream": "stdout",
       "text": [
        "\r",
        "86% [================================>      ] 599,334,912 6.60MB/s  eta 36s    "
       ]
      },
      {
       "output_type": "stream",
       "stream": "stdout",
       "text": [
        "\r",
        "86% [================================>      ] 600,383,488 6.46MB/s  eta 34s    "
       ]
      },
      {
       "output_type": "stream",
       "stream": "stdout",
       "text": [
        "\r",
        "86% [================================>      ] 601,448,448 6.24MB/s  eta 34s    "
       ]
      },
      {
       "output_type": "stream",
       "stream": "stdout",
       "text": [
        "\r",
        "87% [================================>      ] 602,497,024 6.04MB/s  eta 34s    "
       ]
      },
      {
       "output_type": "stream",
       "stream": "stdout",
       "text": [
        "\r",
        "87% [=================================>     ] 603,611,136 6.12MB/s  eta 34s    "
       ]
      },
      {
       "output_type": "stream",
       "stream": "stdout",
       "text": [
        "\r",
        "87% [=================================>     ] 604,725,248 5.85MB/s  eta 34s    "
       ]
      },
      {
       "output_type": "stream",
       "stream": "stdout",
       "text": [
        "\r",
        "87% [=================================>     ] 605,790,208 5.80MB/s  eta 32s    "
       ]
      },
      {
       "output_type": "stream",
       "stream": "stdout",
       "text": [
        "\r",
        "87% [=================================>     ] 606,871,552 5.73MB/s  eta 32s    "
       ]
      },
      {
       "output_type": "stream",
       "stream": "stdout",
       "text": [
        "\r",
        "87% [=================================>     ] 607,821,824 5.62MB/s  eta 32s    "
       ]
      },
      {
       "output_type": "stream",
       "stream": "stdout",
       "text": [
        "\r",
        "87% [=================================>     ] 608,690,176 5.43MB/s  eta 32s    "
       ]
      },
      {
       "output_type": "stream",
       "stream": "stdout",
       "text": [
        "\r",
        "88% [=================================>     ] 609,525,760 5.29MB/s  eta 32s    "
       ]
      },
      {
       "output_type": "stream",
       "stream": "stdout",
       "text": [
        "\r",
        "88% [=================================>     ] 610,410,496 5.16MB/s  eta 30s    "
       ]
      },
      {
       "output_type": "stream",
       "stream": "stdout",
       "text": [
        "\r",
        "88% [=================================>     ] 611,311,616 4.94MB/s  eta 30s    "
       ]
      },
      {
       "output_type": "stream",
       "stream": "stdout",
       "text": [
        "\r",
        "88% [=================================>     ] 612,261,888 4.83MB/s  eta 30s    "
       ]
      },
      {
       "output_type": "stream",
       "stream": "stdout",
       "text": [
        "\r",
        "88% [=================================>     ] 613,179,392 4.72MB/s  eta 30s    "
       ]
      },
      {
       "output_type": "stream",
       "stream": "stdout",
       "text": [
        "\r",
        "88% [=================================>     ] 614,113,280 4.64MB/s  eta 30s    "
       ]
      },
      {
       "output_type": "stream",
       "stream": "stdout",
       "text": [
        "\r",
        "88% [=================================>     ] 615,079,936 4.62MB/s  eta 28s    "
       ]
      },
      {
       "output_type": "stream",
       "stream": "stdout",
       "text": [
        "\r",
        "89% [=================================>     ] 616,030,208 4.59MB/s  eta 28s    "
       ]
      },
      {
       "output_type": "stream",
       "stream": "stdout",
       "text": [
        "\r",
        "89% [=================================>     ] 617,029,632 4.57MB/s  eta 28s    "
       ]
      },
      {
       "output_type": "stream",
       "stream": "stdout",
       "text": [
        "\r",
        "89% [=================================>     ] 617,963,520 4.53MB/s  eta 28s    "
       ]
      },
      {
       "output_type": "stream",
       "stream": "stdout",
       "text": [
        "\r",
        "89% [=================================>     ] 618,930,176 4.50MB/s  eta 28s    "
       ]
      },
      {
       "output_type": "stream",
       "stream": "stdout",
       "text": [
        "\r",
        "89% [=================================>     ] 619,847,680 4.41MB/s  eta 26s    "
       ]
      },
      {
       "output_type": "stream",
       "stream": "stdout",
       "text": [
        "\r",
        "89% [=================================>     ] 620,486,656 4.28MB/s  eta 26s    "
       ]
      },
      {
       "output_type": "stream",
       "stream": "stdout",
       "text": [
        "\r",
        "89% [==================================>    ] 621,568,000 4.40MB/s  eta 26s    "
       ]
      },
      {
       "output_type": "stream",
       "stream": "stdout",
       "text": [
        "\r",
        "89% [==================================>    ] 622,256,128 4.22MB/s  eta 26s    "
       ]
      },
      {
       "output_type": "stream",
       "stream": "stdout",
       "text": [
        "\r",
        "90% [==================================>    ] 622,993,408 4.18MB/s  eta 26s    "
       ]
      },
      {
       "output_type": "stream",
       "stream": "stdout",
       "text": [
        "\r",
        "90% [==================================>    ] 623,665,152 4.12MB/s  eta 25s    "
       ]
      },
      {
       "output_type": "stream",
       "stream": "stdout",
       "text": [
        "\r",
        "90% [==================================>    ] 624,418,816 4.09MB/s  eta 25s    "
       ]
      },
      {
       "output_type": "stream",
       "stream": "stdout",
       "text": [
        "\r",
        "90% [==================================>    ] 625,156,096 4.03MB/s  eta 25s    "
       ]
      },
      {
       "output_type": "stream",
       "stream": "stdout",
       "text": [
        "\r",
        "90% [==================================>    ] 625,942,528 3.99MB/s  eta 25s    "
       ]
      },
      {
       "output_type": "stream",
       "stream": "stdout",
       "text": [
        "\r",
        "90% [==================================>    ] 626,745,344 3.95MB/s  eta 25s    "
       ]
      },
      {
       "output_type": "stream",
       "stream": "stdout",
       "text": [
        "\r",
        "90% [==================================>    ] 627,613,696 3.89MB/s  eta 23s    "
       ]
      },
      {
       "output_type": "stream",
       "stream": "stdout",
       "text": [
        "\r",
        "90% [==================================>    ] 628,416,512 3.85MB/s  eta 23s    "
       ]
      },
      {
       "output_type": "stream",
       "stream": "stdout",
       "text": [
        "\r",
        "90% [==================================>    ] 629,235,712 3.82MB/s  eta 23s    "
       ]
      },
      {
       "output_type": "stream",
       "stream": "stdout",
       "text": [
        "\r",
        "91% [==================================>    ] 629,874,688 3.65MB/s  eta 23s    "
       ]
      },
      {
       "output_type": "stream",
       "stream": "stdout",
       "text": [
        "\r",
        "91% [==================================>    ] 630,759,424 3.65MB/s  eta 23s    "
       ]
      },
      {
       "output_type": "stream",
       "stream": "stdout",
       "text": [
        "\r",
        "91% [==================================>    ] 631,382,016 3.56MB/s  eta 22s    "
       ]
      },
      {
       "output_type": "stream",
       "stream": "stdout",
       "text": [
        "\r",
        "91% [==================================>    ] 631,988,224 3.48MB/s  eta 22s    "
       ]
      },
      {
       "output_type": "stream",
       "stream": "stdout",
       "text": [
        "\r",
        "91% [==================================>    ] 632,627,200 3.40MB/s  eta 22s    "
       ]
      },
      {
       "output_type": "stream",
       "stream": "stdout",
       "text": [
        "\r",
        "91% [==================================>    ] 633,282,560 3.38MB/s  eta 22s    "
       ]
      },
      {
       "output_type": "stream",
       "stream": "stdout",
       "text": [
        "\r",
        "91% [==================================>    ] 633,937,920 3.36MB/s  eta 22s    "
       ]
      },
      {
       "output_type": "stream",
       "stream": "stdout",
       "text": [
        "\r",
        "91% [==================================>    ] 634,626,048 3.35MB/s  eta 21s    "
       ]
      },
      {
       "output_type": "stream",
       "stream": "stdout",
       "text": [
        "\r",
        "91% [==================================>    ] 635,297,792 3.33MB/s  eta 21s    "
       ]
      },
      {
       "output_type": "stream",
       "stream": "stdout",
       "text": [
        "\r",
        "91% [==================================>    ] 636,002,304 3.33MB/s  eta 21s    "
       ]
      },
      {
       "output_type": "stream",
       "stream": "stdout",
       "text": [
        "\r",
        "91% [==================================>    ] 636,674,048 3.29MB/s  eta 21s    "
       ]
      },
      {
       "output_type": "stream",
       "stream": "stdout",
       "text": [
        "\r",
        "92% [==================================>    ] 637,362,176 3.26MB/s  eta 21s    "
       ]
      },
      {
       "output_type": "stream",
       "stream": "stdout",
       "text": [
        "\r",
        "92% [==================================>    ] 638,066,688 3.24MB/s  eta 19s    "
       ]
      },
      {
       "output_type": "stream",
       "stream": "stdout",
       "text": [
        "\r",
        "92% [==================================>    ] 638,771,200 3.22MB/s  eta 19s    "
       ]
      },
      {
       "output_type": "stream",
       "stream": "stdout",
       "text": [
        "\r",
        "92% [===================================>   ] 639,492,096 3.17MB/s  eta 19s    "
       ]
      },
      {
       "output_type": "stream",
       "stream": "stdout",
       "text": [
        "\r",
        "92% [===================================>   ] 640,196,608 3.15MB/s  eta 19s    "
       ]
      },
      {
       "output_type": "stream",
       "stream": "stdout",
       "text": [
        "\r",
        "92% [===================================>   ] 640,884,736 3.21MB/s  eta 19s    "
       ]
      },
      {
       "output_type": "stream",
       "stream": "stdout",
       "text": [
        "\r",
        "92% [===================================>   ] 641,589,248 3.16MB/s  eta 18s    "
       ]
      },
      {
       "output_type": "stream",
       "stream": "stdout",
       "text": [
        "\r",
        "92% [===================================>   ] 642,293,760 3.19MB/s  eta 18s    "
       ]
      },
      {
       "output_type": "stream",
       "stream": "stdout",
       "text": [
        "\r",
        "92% [===================================>   ] 642,981,888 3.20MB/s  eta 18s    "
       ]
      },
      {
       "output_type": "stream",
       "stream": "stdout",
       "text": [
        "\r",
        "93% [===================================>   ] 643,686,400 3.22MB/s  eta 18s    "
       ]
      },
      {
       "output_type": "stream",
       "stream": "stdout",
       "text": [
        "\r",
        "93% [===================================>   ] 644,390,912 3.23MB/s  eta 18s    "
       ]
      },
      {
       "output_type": "stream",
       "stream": "stdout",
       "text": [
        "\r",
        "93% [===================================>   ] 644,931,584 3.19MB/s  eta 17s    "
       ]
      },
      {
       "output_type": "stream",
       "stream": "stdout",
       "text": [
        "\r",
        "93% [===================================>   ] 645,472,256 3.14MB/s  eta 17s    "
       ]
      },
      {
       "output_type": "stream",
       "stream": "stdout",
       "text": [
        "\r",
        "93% [===================================>   ] 645,963,776 3.09MB/s  eta 17s    "
       ]
      },
      {
       "output_type": "stream",
       "stream": "stdout",
       "text": [
        "\r",
        "93% [===================================>   ] 646,438,912 3.03MB/s  eta 17s    "
       ]
      },
      {
       "output_type": "stream",
       "stream": "stdout",
       "text": [
        "\r",
        "93% [===================================>   ] 646,832,128 2.95MB/s  eta 17s    "
       ]
      },
      {
       "output_type": "stream",
       "stream": "stdout",
       "text": [
        "\r",
        "93% [===================================>   ] 647,258,112 2.85MB/s  eta 16s    "
       ]
      },
      {
       "output_type": "stream",
       "stream": "stdout",
       "text": [
        "\r",
        "93% [===================================>   ] 647,716,864 2.78MB/s  eta 16s    "
       ]
      },
      {
       "output_type": "stream",
       "stream": "stdout",
       "text": [
        "\r",
        "93% [===================================>   ] 648,126,464 2.70MB/s  eta 16s    "
       ]
      },
      {
       "output_type": "stream",
       "stream": "stdout",
       "text": [
        "\r",
        "93% [===================================>   ] 648,601,600 2.62MB/s  eta 16s    "
       ]
      },
      {
       "output_type": "stream",
       "stream": "stdout",
       "text": [
        "\r",
        "93% [===================================>   ] 649,060,352 2.56MB/s  eta 16s    "
       ]
      },
      {
       "output_type": "stream",
       "stream": "stdout",
       "text": [
        "\r",
        "93% [===================================>   ] 649,502,720 2.49MB/s  eta 15s    "
       ]
      },
      {
       "output_type": "stream",
       "stream": "stdout",
       "text": [
        "\r",
        "93% [===================================>   ] 649,994,240 2.40MB/s  eta 15s    "
       ]
      },
      {
       "output_type": "stream",
       "stream": "stdout",
       "text": [
        "\r",
        "93% [===================================>   ] 650,436,608 2.34MB/s  eta 15s    "
       ]
      },
      {
       "output_type": "stream",
       "stream": "stdout",
       "text": [
        "\r",
        "94% [===================================>   ] 650,928,128 2.28MB/s  eta 15s    "
       ]
      },
      {
       "output_type": "stream",
       "stream": "stdout",
       "text": [
        "\r",
        "94% [===================================>   ] 651,354,112 2.17MB/s  eta 15s    "
       ]
      },
      {
       "output_type": "stream",
       "stream": "stdout",
       "text": [
        "\r",
        "94% [===================================>   ] 651,845,632 2.21MB/s  eta 15s    "
       ]
      },
      {
       "output_type": "stream",
       "stream": "stdout",
       "text": [
        "\r",
        "94% [===================================>   ] 652,320,768 2.13MB/s  eta 15s    "
       ]
      },
      {
       "output_type": "stream",
       "stream": "stdout",
       "text": [
        "\r",
        "94% [===================================>   ] 652,795,904 2.11MB/s  eta 15s    "
       ]
      },
      {
       "output_type": "stream",
       "stream": "stdout",
       "text": [
        "\r",
        "94% [===================================>   ] 653,287,424 2.15MB/s  eta 15s    "
       ]
      },
      {
       "output_type": "stream",
       "stream": "stdout",
       "text": [
        "\r",
        "94% [===================================>   ] 653,746,176 2.12MB/s  eta 15s    "
       ]
      },
      {
       "output_type": "stream",
       "stream": "stdout",
       "text": [
        "\r",
        "94% [===================================>   ] 654,139,392 2.11MB/s  eta 14s    "
       ]
      },
      {
       "output_type": "stream",
       "stream": "stdout",
       "text": [
        "\r",
        "94% [===================================>   ] 654,483,456 2.10MB/s  eta 14s    "
       ]
      },
      {
       "output_type": "stream",
       "stream": "stdout",
       "text": [
        "\r",
        "94% [===================================>   ] 654,843,904 2.07MB/s  eta 14s    "
       ]
      },
      {
       "output_type": "stream",
       "stream": "stdout",
       "text": [
        "\r",
        "94% [===================================>   ] 655,220,736 2.05MB/s  eta 14s    "
       ]
      },
      {
       "output_type": "stream",
       "stream": "stdout",
       "text": [
        "\r",
        "94% [===================================>   ] 655,613,952 2.04MB/s  eta 14s    "
       ]
      },
      {
       "output_type": "stream",
       "stream": "stdout",
       "text": [
        "\r",
        "94% [===================================>   ] 656,023,552 2.02MB/s  eta 13s    "
       ]
      },
      {
       "output_type": "stream",
       "stream": "stdout",
       "text": [
        "\r",
        "94% [===================================>   ] 656,465,920 2.02MB/s  eta 13s    "
       ]
      },
      {
       "output_type": "stream",
       "stream": "stdout",
       "text": [
        "\r",
        "94% [====================================>  ] 656,842,752 1.99MB/s  eta 13s    "
       ]
      },
      {
       "output_type": "stream",
       "stream": "stdout",
       "text": [
        "\r",
        "94% [====================================>  ] 657,317,888 1.99MB/s  eta 13s    "
       ]
      },
      {
       "output_type": "stream",
       "stream": "stdout",
       "text": [
        "\r",
        "95% [====================================>  ] 657,793,024 1.99MB/s  eta 13s    "
       ]
      },
      {
       "output_type": "stream",
       "stream": "stdout",
       "text": [
        "\r",
        "95% [====================================>  ] 658,186,240 1.96MB/s  eta 12s    "
       ]
      },
      {
       "output_type": "stream",
       "stream": "stdout",
       "text": [
        "\r",
        "95% [====================================>  ] 658,677,760 1.97MB/s  eta 12s    "
       ]
      },
      {
       "output_type": "stream",
       "stream": "stdout",
       "text": [
        "\r",
        "95% [====================================>  ] 659,038,208 1.94MB/s  eta 12s    "
       ]
      },
      {
       "output_type": "stream",
       "stream": "stdout",
       "text": [
        "\r",
        "95% [====================================>  ] 659,398,656 1.92MB/s  eta 12s    "
       ]
      },
      {
       "output_type": "stream",
       "stream": "stdout",
       "text": [
        "\r",
        "95% [====================================>  ] 659,709,952 1.88MB/s  eta 12s    "
       ]
      },
      {
       "output_type": "stream",
       "stream": "stdout",
       "text": [
        "\r",
        "95% [====================================>  ] 660,086,784 1.84MB/s  eta 12s    "
       ]
      },
      {
       "output_type": "stream",
       "stream": "stdout",
       "text": [
        "\r",
        "95% [====================================>  ] 660,414,464 1.82MB/s  eta 12s    "
       ]
      },
      {
       "output_type": "stream",
       "stream": "stdout",
       "text": [
        "\r",
        "95% [====================================>  ] 660,807,680 1.82MB/s  eta 12s    "
       ]
      },
      {
       "output_type": "stream",
       "stream": "stdout",
       "text": [
        "\r",
        "95% [====================================>  ] 661,217,280 1.85MB/s  eta 12s    "
       ]
      },
      {
       "output_type": "stream",
       "stream": "stdout",
       "text": [
        "\r",
        "95% [====================================>  ] 661,561,344 1.83MB/s  eta 12s    "
       ]
      },
      {
       "output_type": "stream",
       "stream": "stdout",
       "text": [
        "\r",
        "95% [====================================>  ] 661,970,944 1.82MB/s  eta 11s    "
       ]
      },
      {
       "output_type": "stream",
       "stream": "stdout",
       "text": [
        "\r",
        "95% [====================================>  ] 662,413,312 1.83MB/s  eta 11s    "
       ]
      },
      {
       "output_type": "stream",
       "stream": "stdout",
       "text": [
        "\r",
        "95% [====================================>  ] 662,773,760 1.82MB/s  eta 11s    "
       ]
      },
      {
       "output_type": "stream",
       "stream": "stdout",
       "text": [
        "\r",
        "95% [====================================>  ] 663,183,360 1.80MB/s  eta 11s    "
       ]
      },
      {
       "output_type": "stream",
       "stream": "stdout",
       "text": [
        "\r",
        "95% [====================================>  ] 663,625,728 1.80MB/s  eta 11s    "
       ]
      },
      {
       "output_type": "stream",
       "stream": "stdout",
       "text": [
        "\r",
        "95% [====================================>  ] 663,986,176 1.78MB/s  eta 10s    "
       ]
      },
      {
       "output_type": "stream",
       "stream": "stdout",
       "text": [
        "\r",
        "95% [====================================>  ] 664,395,776 1.74MB/s  eta 10s    "
       ]
      },
      {
       "output_type": "stream",
       "stream": "stdout",
       "text": [
        "\r",
        "96% [====================================>  ] 664,821,760 1.78MB/s  eta 10s    "
       ]
      },
      {
       "output_type": "stream",
       "stream": "stdout",
       "text": [
        "\r",
        "96% [====================================>  ] 665,182,208 1.74MB/s  eta 10s    "
       ]
      },
      {
       "output_type": "stream",
       "stream": "stdout",
       "text": [
        "\r",
        "96% [====================================>  ] 665,575,424 1.76MB/s  eta 10s    "
       ]
      },
      {
       "output_type": "stream",
       "stream": "stdout",
       "text": [
        "\r",
        "96% [====================================>  ] 665,935,872 1.77MB/s  eta 10s    "
       ]
      },
      {
       "output_type": "stream",
       "stream": "stdout",
       "text": [
        "\r",
        "96% [====================================>  ] 666,312,704 1.77MB/s  eta 10s    "
       ]
      },
      {
       "output_type": "stream",
       "stream": "stdout",
       "text": [
        "\r",
        "96% [====================================>  ] 666,689,536 1.77MB/s  eta 10s    "
       ]
      },
      {
       "output_type": "stream",
       "stream": "stdout",
       "text": [
        "\r",
        "96% [====================================>  ] 667,066,368 1.77MB/s  eta 10s    "
       ]
      },
      {
       "output_type": "stream",
       "stream": "stdout",
       "text": [
        "\r",
        "96% [====================================>  ] 667,459,584 1.77MB/s  eta 10s    "
       ]
      },
      {
       "output_type": "stream",
       "stream": "stdout",
       "text": [
        "\r",
        "96% [====================================>  ] 667,852,800 1.77MB/s  eta 9s     "
       ]
      },
      {
       "output_type": "stream",
       "stream": "stdout",
       "text": [
        "\r",
        "96% [====================================>  ] 668,229,632 1.78MB/s  eta 9s     "
       ]
      },
      {
       "output_type": "stream",
       "stream": "stdout",
       "text": [
        "\r",
        "96% [====================================>  ] 668,622,848 1.79MB/s  eta 9s     "
       ]
      },
      {
       "output_type": "stream",
       "stream": "stdout",
       "text": [
        "\r",
        "96% [====================================>  ] 668,999,680 1.78MB/s  eta 9s     "
       ]
      },
      {
       "output_type": "stream",
       "stream": "stdout",
       "text": [
        "\r",
        "96% [====================================>  ] 669,409,280 1.80MB/s  eta 9s     "
       ]
      },
      {
       "output_type": "stream",
       "stream": "stdout",
       "text": [
        "\r",
        "96% [====================================>  ] 669,769,728 1.78MB/s  eta 8s     "
       ]
      },
      {
       "output_type": "stream",
       "stream": "stdout",
       "text": [
        "\r",
        "96% [====================================>  ] 670,179,328 1.79MB/s  eta 8s     "
       ]
      },
      {
       "output_type": "stream",
       "stream": "stdout",
       "text": [
        "\r",
        "96% [====================================>  ] 670,572,544 1.79MB/s  eta 8s     "
       ]
      },
      {
       "output_type": "stream",
       "stream": "stdout",
       "text": [
        "\r",
        "96% [====================================>  ] 671,031,296 1.80MB/s  eta 8s     "
       ]
      },
      {
       "output_type": "stream",
       "stream": "stdout",
       "text": [
        "\r",
        "97% [====================================>  ] 671,424,512 1.81MB/s  eta 8s     "
       ]
      },
      {
       "output_type": "stream",
       "stream": "stdout",
       "text": [
        "\r",
        "97% [====================================>  ] 671,866,880 1.83MB/s  eta 7s     "
       ]
      },
      {
       "output_type": "stream",
       "stream": "stdout",
       "text": [
        "\r",
        "97% [====================================>  ] 672,292,864 1.84MB/s  eta 7s     "
       ]
      },
      {
       "output_type": "stream",
       "stream": "stdout",
       "text": [
        "\r",
        "97% [====================================>  ] 672,751,616 1.87MB/s  eta 7s     "
       ]
      },
      {
       "output_type": "stream",
       "stream": "stdout",
       "text": [
        "\r",
        "97% [====================================>  ] 673,193,984 1.88MB/s  eta 7s     "
       ]
      },
      {
       "output_type": "stream",
       "stream": "stdout",
       "text": [
        "\r",
        "97% [====================================>  ] 673,669,120 1.91MB/s  eta 7s     "
       ]
      },
      {
       "output_type": "stream",
       "stream": "stdout",
       "text": [
        "\r",
        "97% [====================================>  ] 674,144,256 1.95MB/s  eta 7s     "
       ]
      },
      {
       "output_type": "stream",
       "stream": "stdout",
       "text": [
        "\r",
        "97% [=====================================> ] 674,652,160 1.98MB/s  eta 7s     "
       ]
      },
      {
       "output_type": "stream",
       "stream": "stdout",
       "text": [
        "\r",
        "97% [=====================================> ] 675,160,064 2.02MB/s  eta 7s     "
       ]
      },
      {
       "output_type": "stream",
       "stream": "stdout",
       "text": [
        "\r",
        "97% [=====================================> ] 675,700,736 2.06MB/s  eta 7s     "
       ]
      },
      {
       "output_type": "stream",
       "stream": "stdout",
       "text": [
        "\r",
        "97% [=====================================> ] 676,306,944 2.11MB/s  eta 7s     "
       ]
      },
      {
       "output_type": "stream",
       "stream": "stdout",
       "text": [
        "\r",
        "97% [=====================================> ] 676,831,232 2.16MB/s  eta 6s     "
       ]
      },
      {
       "output_type": "stream",
       "stream": "stdout",
       "text": [
        "\r",
        "97% [=====================================> ] 677,502,976 2.24MB/s  eta 6s     "
       ]
      },
      {
       "output_type": "stream",
       "stream": "stdout",
       "text": [
        "\r",
        "97% [=====================================> ] 678,027,264 2.28MB/s  eta 6s     "
       ]
      },
      {
       "output_type": "stream",
       "stream": "stdout",
       "text": [
        "\r",
        "98% [=====================================> ] 678,780,928 2.37MB/s  eta 6s     "
       ]
      },
      {
       "output_type": "stream",
       "stream": "stdout",
       "text": [
        "\r",
        "98% [=====================================> ] 679,419,904 2.45MB/s  eta 6s     "
       ]
      },
      {
       "output_type": "stream",
       "stream": "stdout",
       "text": [
        "\r",
        "98% [=====================================> ] 680,157,184 2.54MB/s  eta 4s     "
       ]
      },
      {
       "output_type": "stream",
       "stream": "stdout",
       "text": [
        "\r",
        "98% [=====================================> ] 680,894,464 2.62MB/s  eta 4s     "
       ]
      },
      {
       "output_type": "stream",
       "stream": "stdout",
       "text": [
        "\r",
        "98% [=====================================> ] 681,680,896 2.72MB/s  eta 4s     "
       ]
      },
      {
       "output_type": "stream",
       "stream": "stdout",
       "text": [
        "\r",
        "98% [=====================================> ] 682,631,168 2.86MB/s  eta 4s     "
       ]
      },
      {
       "output_type": "stream",
       "stream": "stdout",
       "text": [
        "\r",
        "98% [=====================================> ] 683,384,832 2.94MB/s  eta 4s     "
       ]
      },
      {
       "output_type": "stream",
       "stream": "stdout",
       "text": [
        "\r",
        "98% [=====================================> ] 684,384,256 3.07MB/s  eta 3s     "
       ]
      },
      {
       "output_type": "stream",
       "stream": "stdout",
       "text": [
        "\r",
        "98% [=====================================> ] 685,187,072 3.19MB/s  eta 3s     "
       ]
      },
      {
       "output_type": "stream",
       "stream": "stdout",
       "text": [
        "\r",
        "99% [=====================================> ] 686,317,568 3.36MB/s  eta 3s     "
       ]
      },
      {
       "output_type": "stream",
       "stream": "stdout",
       "text": [
        "\r",
        "99% [=====================================> ] 687,267,840 3.47MB/s  eta 3s     "
       ]
      },
      {
       "output_type": "stream",
       "stream": "stdout",
       "text": [
        "\r",
        "99% [=====================================> ] 688,447,488 3.70MB/s  eta 3s     "
       ]
      },
      {
       "output_type": "stream",
       "stream": "stdout",
       "text": [
        "\r",
        "99% [=====================================> ] 689,528,832 3.85MB/s  eta 1s     "
       ]
      },
      {
       "output_type": "stream",
       "stream": "stdout",
       "text": [
        "\r",
        "99% [=====================================> ] 690,806,784 4.04MB/s  eta 1s     "
       ]
      },
      {
       "output_type": "stream",
       "stream": "stdout",
       "text": [
        "\r",
        "99% [=====================================> ] 692,002,816 4.20MB/s  eta 1s     \r",
        "100%[======================================>] 692,119,605 4.22MB/s   in 4m 11s \r\n",
        "\r\n"
       ]
      },
      {
       "output_type": "stream",
       "stream": "stdout",
       "text": [
        "2015-02-17 13:44:50 (2.63 MB/s) - \u2018jhu-usc.edu_ACC.HumanMethylation450.Level_1.1.0.0.tar.gz\u2019 saved [692119605/692119605]\r\n",
        "\r\n",
        "--2015-02-17 13:44:50--  https://tcga-data.nci.nih.gov/tcgafiles/ftp_auth/distro_ftpusers/anonymous/tumor/acc/cgcc/jhu-usc.edu/humanmethylation450/methylation/jhu-usc.edu_ACC.HumanMethylation450.aux.1.0.0.tar.gz\r\n",
        "Reusing existing connection to tcga-data.nci.nih.gov:443.\r\n",
        "HTTP request sent, awaiting response... "
       ]
      },
      {
       "output_type": "stream",
       "stream": "stdout",
       "text": [
        "200 OK\r\n",
        "Length: 13857 (14K) [application/x-gzip]\r\n",
        "Saving to: \u2018jhu-usc.edu_ACC.HumanMethylation450.aux.1.0.0.tar.gz\u2019\r\n",
        "\r\n",
        "\r",
        " 0% [                                       ] 0           --.-K/s              \r",
        "100%[======================================>] 13,857      --.-K/s   in 0s      \r\n",
        "\r\n",
        "2015-02-17 13:44:50 (168 MB/s) - \u2018jhu-usc.edu_ACC.HumanMethylation450.aux.1.0.0.tar.gz\u2019 saved [13857/13857]\r\n",
        "\r\n",
        "--2015-02-17 13:44:50--  https://tcga-data.nci.nih.gov/tcgafiles/ftp_auth/distro_ftpusers/anonymous/tumor/acc/cgcc/jhu-usc.edu/humanmethylation450/methylation/jhu-usc.edu_ACC.HumanMethylation450.mage-tab.1.0.0.tar.gz\r\n",
        "Reusing existing connection to tcga-data.nci.nih.gov:443.\r\n",
        "HTTP request sent, awaiting response... "
       ]
      },
      {
       "output_type": "stream",
       "stream": "stdout",
       "text": [
        "200 OK\r\n",
        "Length: 10557 (10K) [application/x-gzip]\r\n",
        "Saving to: \u2018jhu-usc.edu_ACC.HumanMethylation450.mage-tab.1.0.0.tar.gz\u2019\r\n",
        "\r\n",
        "\r",
        " 0% [                                       ] 0           --.-K/s              \r",
        "100%[======================================>] 10,557      --.-K/s   in 0s      \r\n",
        "\r\n",
        "2015-02-17 13:44:50 (142 MB/s) - \u2018jhu-usc.edu_ACC.HumanMethylation450.mage-tab.1.0.0.tar.gz\u2019 saved [10557/10557]\r\n",
        "\r\n",
        "--2015-02-17 13:44:50--  https://tcga-data.nci.nih.gov/tcgafiles/ftp_auth/distro_ftpusers/anonymous/tumor/laml/cgcc/jhu-usc.edu/humanmethylation450/methylation/jhu-usc.edu_LAML.HumanMethylation450.Level_1.2.4.0.tar.gz\r\n",
        "Reusing existing connection to tcga-data.nci.nih.gov:443.\r\n",
        "HTTP request sent, awaiting response... "
       ]
      },
      {
       "output_type": "stream",
       "stream": "stdout",
       "text": [
        "200 OK\r\n",
        "Length: 1200700245 (1.1G) [application/x-gzip]\r\n",
        "Saving to: \u2018jhu-usc.edu_LAML.HumanMethylation450.Level_1.2.4.0.tar.gz\u2019\r\n",
        "\r\n",
        "\r",
        " 0% [                                       ] 0           --.-K/s              "
       ]
      },
      {
       "output_type": "stream",
       "stream": "stdout",
       "text": [
        "\r",
        " 0% [                                       ] 434,176     1.72MB/s             "
       ]
      },
      {
       "output_type": "stream",
       "stream": "stdout",
       "text": [
        "\r",
        " 0% [                                       ] 1,056,768   2.08MB/s             "
       ]
      },
      {
       "output_type": "stream",
       "stream": "stdout",
       "text": [
        "\r",
        " 0% [                                       ] 1,925,120   2.54MB/s             "
       ]
      },
      {
       "output_type": "stream",
       "stream": "stdout",
       "text": [
        "\r",
        " 0% [                                       ] 3,219,456   3.19MB/s             "
       ]
      },
      {
       "output_type": "stream",
       "stream": "stdout",
       "text": [
        "\r",
        " 0% [                                       ] 5,169,152   4.10MB/s             "
       ]
      },
      {
       "output_type": "stream",
       "stream": "stdout",
       "text": [
        "\r",
        " 0% [                                       ] 7,708,672   5.11MB/s             "
       ]
      },
      {
       "output_type": "stream",
       "stream": "stdout",
       "text": [
        "\r",
        " 0% [                                       ] 10,412,032  6.05MB/s             "
       ]
      },
      {
       "output_type": "stream",
       "stream": "stdout",
       "text": [
        "\r",
        " 1% [                                       ] 12,427,264  6.44MB/s             "
       ]
      },
      {
       "output_type": "stream",
       "stream": "stdout",
       "text": [
        "\r",
        " 1% [                                       ] 15,179,776  7.09MB/s             "
       ]
      },
      {
       "output_type": "stream",
       "stream": "stdout",
       "text": [
        "\r",
        " 1% [                                       ] 17,588,224  7.48MB/s             "
       ]
      },
      {
       "output_type": "stream",
       "stream": "stdout",
       "text": [
        "\r",
        " 1% [                                       ] 20,439,040  7.98MB/s             "
       ]
      },
      {
       "output_type": "stream",
       "stream": "stdout",
       "text": [
        "\r",
        " 1% [                                       ] 23,240,704  8.38MB/s             "
       ]
      },
      {
       "output_type": "stream",
       "stream": "stdout",
       "text": [
        "\r",
        " 2% [                                       ] 26,206,208  8.78MB/s             "
       ]
      },
      {
       "output_type": "stream",
       "stream": "stdout",
       "text": [
        "\r",
        " 2% [                                       ] 29,270,016  9.16MB/s  eta 2m 2s  "
       ]
      },
      {
       "output_type": "stream",
       "stream": "stdout",
       "text": [
        "\r",
        " 2% [>                                      ] 32,612,352  9.58MB/s  eta 2m 2s  "
       ]
      },
      {
       "output_type": "stream",
       "stream": "stdout",
       "text": [
        "\r",
        " 2% [>                                      ] 35,905,536  10.8MB/s  eta 2m 2s  "
       ]
      },
      {
       "output_type": "stream",
       "stream": "stdout",
       "text": [
        "\r",
        " 3% [>                                      ] 39,526,400  11.6MB/s  eta 2m 2s  "
       ]
      },
      {
       "output_type": "stream",
       "stream": "stdout",
       "text": [
        "\r",
        " 3% [>                                      ] 43,048,960  12.3MB/s  eta 2m 2s  "
       ]
      },
      {
       "output_type": "stream",
       "stream": "stdout",
       "text": [
        "\r",
        " 3% [>                                      ] 46,227,456  12.9MB/s  eta 1m 41s "
       ]
      },
      {
       "output_type": "stream",
       "stream": "stdout",
       "text": [
        "\r",
        " 4% [>                                      ] 48,734,208  13.5MB/s  eta 1m 41s "
       ]
      },
      {
       "output_type": "stream",
       "stream": "stdout",
       "text": [
        "\r",
        " 4% [>                                      ] 50,716,672  13.5MB/s  eta 1m 41s "
       ]
      },
      {
       "output_type": "stream",
       "stream": "stdout",
       "text": [
        "\r",
        " 4% [>                                      ] 52,617,216  13.3MB/s  eta 1m 41s "
       ]
      },
      {
       "output_type": "stream",
       "stream": "stdout",
       "text": [
        "\r",
        " 4% [>                                      ] 54,648,832  13.3MB/s  eta 1m 41s "
       ]
      },
      {
       "output_type": "stream",
       "stream": "stdout",
       "text": [
        "\r",
        " 4% [>                                      ] 56,631,296  13.2MB/s  eta 1m 42s "
       ]
      },
      {
       "output_type": "stream",
       "stream": "stdout",
       "text": [
        "\r",
        " 4% [>                                      ] 58,777,600  13.0MB/s  eta 1m 42s "
       ]
      },
      {
       "output_type": "stream",
       "stream": "stdout",
       "text": [
        "\r",
        " 5% [>                                      ] 60,760,064  12.8MB/s  eta 1m 42s "
       ]
      },
      {
       "output_type": "stream",
       "stream": "stdout",
       "text": [
        "\r",
        " 5% [=>                                     ] 62,939,136  12.5MB/s  eta 1m 42s "
       ]
      },
      {
       "output_type": "stream",
       "stream": "stdout",
       "text": [
        "\r",
        " 5% [=>                                     ] 65,052,672  12.4MB/s  eta 1m 42s "
       ]
      },
      {
       "output_type": "stream",
       "stream": "stdout",
       "text": [
        "\r",
        " 5% [=>                                     ] 67,215,360  12.0MB/s  eta 1m 42s "
       ]
      },
      {
       "output_type": "stream",
       "stream": "stdout",
       "text": [
        "\r",
        " 5% [=>                                     ] 69,361,664  11.8MB/s  eta 1m 42s "
       ]
      },
      {
       "output_type": "stream",
       "stream": "stdout",
       "text": [
        "\r",
        " 5% [=>                                     ] 71,557,120  11.5MB/s  eta 1m 42s "
       ]
      },
      {
       "output_type": "stream",
       "stream": "stdout",
       "text": [
        "\r",
        " 6% [=>                                     ] 73,719,808  10.9MB/s  eta 1m 42s "
       ]
      },
      {
       "output_type": "stream",
       "stream": "stdout",
       "text": [
        "\r",
        " 6% [=>                                     ] 75,948,032  10.6MB/s  eta 1m 42s "
       ]
      },
      {
       "output_type": "stream",
       "stream": "stdout",
       "text": [
        "\r",
        " 6% [=>                                     ] 78,241,792  10.7MB/s  eta 1m 41s "
       ]
      },
      {
       "output_type": "stream",
       "stream": "stdout",
       "text": [
        "\r",
        " 6% [=>                                     ] 80,404,480  10.1MB/s  eta 1m 41s "
       ]
      },
      {
       "output_type": "stream",
       "stream": "stdout",
       "text": [
        "\r",
        " 6% [=>                                     ] 82,780,160  10.1MB/s  eta 1m 41s "
       ]
      },
      {
       "output_type": "stream",
       "stream": "stdout",
       "text": [
        "\r",
        " 7% [=>                                     ] 85,000,192  10.2MB/s  eta 1m 41s "
       ]
      },
      {
       "output_type": "stream",
       "stream": "stdout",
       "text": [
        "\r",
        " 7% [=>                                     ] 87,318,528  10.3MB/s  eta 1m 41s "
       ]
      },
      {
       "output_type": "stream",
       "stream": "stdout",
       "text": [
        "\r",
        " 7% [=>                                     ] 89,546,752  10.4MB/s  eta 1m 40s "
       ]
      },
      {
       "output_type": "stream",
       "stream": "stdout",
       "text": [
        "\r",
        " 7% [=>                                     ] 91,840,512  10.5MB/s  eta 1m 40s "
       ]
      },
      {
       "output_type": "stream",
       "stream": "stdout",
       "text": [
        "\r",
        " 7% [==>                                    ] 94,101,504  10.5MB/s  eta 1m 40s "
       ]
      },
      {
       "output_type": "stream",
       "stream": "stdout",
       "text": [
        "\r",
        " 8% [==>                                    ] 96,395,264  10.6MB/s  eta 1m 40s "
       ]
      },
      {
       "output_type": "stream",
       "stream": "stdout",
       "text": [
        "\r",
        " 8% [==>                                    ] 98,705,408  10.6MB/s  eta 1m 40s "
       ]
      },
      {
       "output_type": "stream",
       "stream": "stdout",
       "text": [
        "\r",
        " 8% [==>                                    ] 101,048,320 10.7MB/s  eta 99s    "
       ]
      },
      {
       "output_type": "stream",
       "stream": "stdout",
       "text": [
        "\r",
        " 8% [==>                                    ] 103,325,696 10.7MB/s  eta 99s    "
       ]
      },
      {
       "output_type": "stream",
       "stream": "stdout",
       "text": [
        "\r",
        " 8% [==>                                    ] 105,766,912 10.8MB/s  eta 99s    "
       ]
      },
      {
       "output_type": "stream",
       "stream": "stdout",
       "text": [
        "\r",
        " 8% [==>                                    ] 107,962,368 10.8MB/s  eta 99s    "
       ]
      },
      {
       "output_type": "stream",
       "stream": "stdout",
       "text": [
        "\r",
        " 9% [==>                                    ] 110,338,048 10.9MB/s  eta 99s    "
       ]
      },
      {
       "output_type": "stream",
       "stream": "stdout",
       "text": [
        "\r",
        " 9% [==>                                    ] 112,566,272 10.9MB/s  eta 97s    "
       ]
      },
      {
       "output_type": "stream",
       "stream": "stdout",
       "text": [
        "\r",
        " 9% [==>                                    ] 114,941,952 10.9MB/s  eta 97s    "
       ]
      },
      {
       "output_type": "stream",
       "stream": "stdout",
       "text": [
        "\r",
        " 9% [==>                                    ] 117,186,560 10.9MB/s  eta 97s    "
       ]
      },
      {
       "output_type": "stream",
       "stream": "stdout",
       "text": [
        "\r",
        " 9% [==>                                    ] 119,595,008 10.9MB/s  eta 97s    "
       ]
      },
      {
       "output_type": "stream",
       "stream": "stdout",
       "text": [
        "\r",
        "10% [==>                                    ] 121,806,848 10.9MB/s  eta 97s    "
       ]
      },
      {
       "output_type": "stream",
       "stream": "stdout",
       "text": [
        "\r",
        "10% [===>                                   ] 124,231,680 10.9MB/s  eta 96s    "
       ]
      },
      {
       "output_type": "stream",
       "stream": "stdout",
       "text": [
        "\r",
        "10% [===>                                   ] 126,443,520 10.9MB/s  eta 96s    "
       ]
      },
      {
       "output_type": "stream",
       "stream": "stdout",
       "text": [
        "\r",
        "10% [===>                                   ] 128,819,200 11.0MB/s  eta 96s    "
       ]
      },
      {
       "output_type": "stream",
       "stream": "stdout",
       "text": [
        "\r",
        "10% [===>                                   ] 131,112,960 11.0MB/s  eta 96s    "
       ]
      },
      {
       "output_type": "stream",
       "stream": "stdout",
       "text": [
        "\r",
        "11% [===>                                   ] 133,423,104 11.0MB/s  eta 96s    "
       ]
      },
      {
       "output_type": "stream",
       "stream": "stdout",
       "text": [
        "\r",
        "11% [===>                                   ] 135,766,016 11.0MB/s  eta 95s    "
       ]
      },
      {
       "output_type": "stream",
       "stream": "stdout",
       "text": [
        "\r",
        "11% [===>                                   ] 138,059,776 11.0MB/s  eta 95s    "
       ]
      },
      {
       "output_type": "stream",
       "stream": "stdout",
       "text": [
        "\r",
        "11% [===>                                   ] 140,419,072 11.0MB/s  eta 95s    "
       ]
      },
      {
       "output_type": "stream",
       "stream": "stdout",
       "text": [
        "\r",
        "11% [===>                                   ] 142,778,368 11.0MB/s  eta 95s    "
       ]
      },
      {
       "output_type": "stream",
       "stream": "stdout",
       "text": [
        "\r",
        "12% [===>                                   ] 145,121,280 11.0MB/s  eta 95s    "
       ]
      },
      {
       "output_type": "stream",
       "stream": "stdout",
       "text": [
        "\r",
        "12% [===>                                   ] 147,398,656 11.0MB/s  eta 94s    "
       ]
      },
      {
       "output_type": "stream",
       "stream": "stdout",
       "text": [
        "\r",
        "12% [===>                                   ] 149,741,568 11.0MB/s  eta 94s    "
       ]
      },
      {
       "output_type": "stream",
       "stream": "stdout",
       "text": [
        "\r",
        "12% [===>                                   ] 152,035,328 11.0MB/s  eta 94s    "
       ]
      },
      {
       "output_type": "stream",
       "stream": "stdout",
       "text": [
        "\r",
        "12% [====>                                  ] 154,329,088 11.0MB/s  eta 94s    "
       ]
      },
      {
       "output_type": "stream",
       "stream": "stdout",
       "text": [
        "\r",
        "12% [====>                                  ] 155,852,800 10.7MB/s  eta 94s    "
       ]
      },
      {
       "output_type": "stream",
       "stream": "stdout",
       "text": [
        "\r",
        "13% [====>                                  ] 157,048,832 10.4MB/s  eta 94s    "
       ]
      },
      {
       "output_type": "stream",
       "stream": "stdout",
       "text": [
        "\r",
        "13% [====>                                  ] 158,228,480 10.1MB/s  eta 94s    "
       ]
      },
      {
       "output_type": "stream",
       "stream": "stdout",
       "text": [
        "\r",
        "13% [====>                                  ] 159,457,280 9.68MB/s  eta 94s    "
       ]
      },
      {
       "output_type": "stream",
       "stream": "stdout",
       "text": [
        "\r",
        "13% [====>                                  ] 160,653,312 9.37MB/s  eta 94s    "
       ]
      },
      {
       "output_type": "stream",
       "stream": "stdout",
       "text": [
        "\r",
        "13% [====>                                  ] 161,406,976 8.93MB/s  eta 94s    "
       ]
      },
      {
       "output_type": "stream",
       "stream": "stdout",
       "text": [
        "\r",
        "13% [====>                                  ] 162,471,936 8.48MB/s  eta 97s    "
       ]
      },
      {
       "output_type": "stream",
       "stream": "stdout",
       "text": [
        "\r",
        "13% [====>                                  ] 163,307,520 8.07MB/s  eta 97s    "
       ]
      },
      {
       "output_type": "stream",
       "stream": "stdout",
       "text": [
        "\r",
        "13% [====>                                  ] 164,356,096 7.54MB/s  eta 97s    "
       ]
      },
      {
       "output_type": "stream",
       "stream": "stdout",
       "text": [
        "\r",
        "13% [====>                                  ] 165,453,824 7.24MB/s  eta 97s    "
       ]
      },
      {
       "output_type": "stream",
       "stream": "stdout",
       "text": [
        "\r",
        "13% [====>                                  ] 166,305,792 6.87MB/s  eta 97s    "
       ]
      },
      {
       "output_type": "stream",
       "stream": "stdout",
       "text": [
        "\r",
        "13% [====>                                  ] 167,436,288 6.57MB/s  eta 1m 40s "
       ]
      },
      {
       "output_type": "stream",
       "stream": "stdout",
       "text": [
        "\r",
        "14% [====>                                  ] 168,370,176 6.01MB/s  eta 1m 40s "
       ]
      },
      {
       "output_type": "stream",
       "stream": "stdout",
       "text": [
        "\r",
        "14% [====>                                  ] 169,467,904 5.69MB/s  eta 1m 40s "
       ]
      },
      {
       "output_type": "stream",
       "stream": "stdout",
       "text": [
        "\r",
        "14% [====>                                  ] 170,631,168 5.45MB/s  eta 1m 40s "
       ]
      },
      {
       "output_type": "stream",
       "stream": "stdout",
       "text": [
        "\r",
        "14% [====>                                  ] 171,515,904 5.05MB/s  eta 1m 40s "
       ]
      },
      {
       "output_type": "stream",
       "stream": "stdout",
       "text": [
        "\r",
        "14% [====>                                  ] 172,711,936 4.86MB/s  eta 1m 42s "
       ]
      },
      {
       "output_type": "stream",
       "stream": "stdout",
       "text": [
        "\r",
        "14% [====>                                  ] 173,645,824 4.79MB/s  eta 1m 42s "
       ]
      },
      {
       "output_type": "stream",
       "stream": "stdout",
       "text": [
        "\r",
        "14% [====>                                  ] 174,809,088 4.69MB/s  eta 1m 42s "
       ]
      },
      {
       "output_type": "stream",
       "stream": "stdout",
       "text": [
        "\r",
        "14% [====>                                  ] 176,005,120 4.73MB/s  eta 1m 42s "
       ]
      },
      {
       "output_type": "stream",
       "stream": "stdout",
       "text": [
        "\r",
        "14% [====>                                  ] 176,922,624 4.73MB/s  eta 1m 42s "
       ]
      },
      {
       "output_type": "stream",
       "stream": "stdout",
       "text": [
        "\r",
        "14% [====>                                  ] 178,135,040 4.82MB/s  eta 1m 45s "
       ]
      },
      {
       "output_type": "stream",
       "stream": "stdout",
       "text": [
        "\r",
        "14% [====>                                  ] 179,118,080 4.86MB/s  eta 1m 45s "
       ]
      },
      {
       "output_type": "stream",
       "stream": "stdout",
       "text": [
        "\r",
        "15% [====>                                  ] 180,248,576 4.88MB/s  eta 1m 45s "
       ]
      },
      {
       "output_type": "stream",
       "stream": "stdout",
       "text": [
        "\r",
        "15% [====>                                  ] 181,477,376 4.94MB/s  eta 1m 45s "
       ]
      },
      {
       "output_type": "stream",
       "stream": "stdout",
       "text": [
        "\r",
        "15% [====>                                  ] 182,427,648 4.95MB/s  eta 1m 45s "
       ]
      },
      {
       "output_type": "stream",
       "stream": "stdout",
       "text": [
        "\r",
        "15% [====>                                  ] 183,607,296 4.97MB/s  eta 1m 47s "
       ]
      },
      {
       "output_type": "stream",
       "stream": "stdout",
       "text": [
        "\r",
        "15% [====>                                  ] 184,573,952 4.96MB/s  eta 1m 47s "
       ]
      },
      {
       "output_type": "stream",
       "stream": "stdout",
       "text": [
        "\r",
        "15% [=====>                                 ] 185,311,232 4.87MB/s  eta 1m 47s "
       ]
      },
      {
       "output_type": "stream",
       "stream": "stdout",
       "text": [
        "\r",
        "15% [=====>                                 ] 186,179,584 4.83MB/s  eta 1m 47s "
       ]
      },
      {
       "output_type": "stream",
       "stream": "stdout",
       "text": [
        "\r",
        "15% [=====>                                 ] 186,867,712 4.72MB/s  eta 1m 47s "
       ]
      },
      {
       "output_type": "stream",
       "stream": "stdout",
       "text": [
        "\r",
        "15% [=====>                                 ] 187,785,216 4.66MB/s  eta 1m 50s "
       ]
      },
      {
       "output_type": "stream",
       "stream": "stdout",
       "text": [
        "\r",
        "15% [=====>                                 ] 188,653,568 4.60MB/s  eta 1m 50s "
       ]
      },
      {
       "output_type": "stream",
       "stream": "stdout",
       "text": [
        "\r",
        "15% [=====>                                 ] 189,456,384 4.52MB/s  eta 1m 50s "
       ]
      },
      {
       "output_type": "stream",
       "stream": "stdout",
       "text": [
        "\r",
        "15% [=====>                                 ] 190,406,656 4.44MB/s  eta 1m 50s "
       ]
      },
      {
       "output_type": "stream",
       "stream": "stdout",
       "text": [
        "\r",
        "15% [=====>                                 ] 191,307,776 4.40MB/s  eta 1m 50s "
       ]
      },
      {
       "output_type": "stream",
       "stream": "stdout",
       "text": [
        "\r",
        "16% [=====>                                 ] 192,143,360 4.33MB/s  eta 1m 52s "
       ]
      },
      {
       "output_type": "stream",
       "stream": "stdout",
       "text": [
        "\r",
        "16% [=====>                                 ] 193,110,016 4.30MB/s  eta 1m 52s "
       ]
      },
      {
       "output_type": "stream",
       "stream": "stdout",
       "text": [
        "\r",
        "16% [=====>                                 ] 193,454,080 3.99MB/s  eta 1m 52s "
       ]
      },
      {
       "output_type": "stream",
       "stream": "stdout",
       "text": [
        "\r",
        "16% [=====>                                 ] 194,322,432 3.94MB/s  eta 1m 52s "
       ]
      },
      {
       "output_type": "stream",
       "stream": "stdout",
       "text": [
        "\r",
        "16% [=====>                                 ] 194,813,952 3.77MB/s  eta 1m 52s "
       ]
      },
      {
       "output_type": "stream",
       "stream": "stdout",
       "text": [
        "\r",
        "16% [=====>                                 ] 195,272,704 3.54MB/s  eta 1m 56s "
       ]
      },
      {
       "output_type": "stream",
       "stream": "stdout",
       "text": [
        "\r",
        "16% [=====>                                 ] 195,715,072 3.45MB/s  eta 1m 56s "
       ]
      },
      {
       "output_type": "stream",
       "stream": "stdout",
       "text": [
        "\r",
        "16% [=====>                                 ] 196,190,208 3.27MB/s  eta 1m 56s "
       ]
      },
      {
       "output_type": "stream",
       "stream": "stdout",
       "text": [
        "\r",
        "16% [=====>                                 ] 196,665,344 3.17MB/s  eta 1m 56s "
       ]
      },
      {
       "output_type": "stream",
       "stream": "stdout",
       "text": [
        "\r",
        "16% [=====>                                 ] 197,189,632 3.11MB/s  eta 1m 56s "
       ]
      },
      {
       "output_type": "stream",
       "stream": "stdout",
       "text": [
        "\r",
        "16% [=====>                                 ] 197,664,768 3.01MB/s  eta 1m 59s "
       ]
      },
      {
       "output_type": "stream",
       "stream": "stdout",
       "text": [
        "\r",
        "16% [=====>                                 ] 198,221,824 2.87MB/s  eta 1m 59s "
       ]
      },
      {
       "output_type": "stream",
       "stream": "stdout",
       "text": [
        "\r",
        "16% [=====>                                 ] 198,746,112 2.81MB/s  eta 1m 59s "
       ]
      },
      {
       "output_type": "stream",
       "stream": "stdout",
       "text": [
        "\r",
        "16% [=====>                                 ] 199,254,016 2.72MB/s  eta 1m 59s "
       ]
      },
      {
       "output_type": "stream",
       "stream": "stdout",
       "text": [
        "\r",
        "16% [=====>                                 ] 199,827,456 2.57MB/s  eta 1m 59s "
       ]
      },
      {
       "output_type": "stream",
       "stream": "stdout",
       "text": [
        "\r",
        "16% [=====>                                 ] 200,368,128 2.50MB/s  eta 2m 3s  "
       ]
      },
      {
       "output_type": "stream",
       "stream": "stdout",
       "text": [
        "\r",
        "16% [=====>                                 ] 200,843,264 2.41MB/s  eta 2m 3s  "
       ]
      },
      {
       "output_type": "stream",
       "stream": "stdout",
       "text": [
        "\r",
        "16% [=====>                                 ] 201,433,088 2.35MB/s  eta 2m 3s  "
       ]
      },
      {
       "output_type": "stream",
       "stream": "stdout",
       "text": [
        "\r",
        "16% [=====>                                 ] 201,891,840 2.28MB/s  eta 2m 3s  "
       ]
      },
      {
       "output_type": "stream",
       "stream": "stdout",
       "text": [
        "\r",
        "16% [=====>                                 ] 202,481,664 2.31MB/s  eta 2m 3s  "
       ]
      },
      {
       "output_type": "stream",
       "stream": "stdout",
       "text": [
        "\r",
        "16% [=====>                                 ] 203,055,104 2.35MB/s  eta 2m 6s  "
       ]
      },
      {
       "output_type": "stream",
       "stream": "stdout",
       "text": [
        "\r",
        "16% [=====>                                 ] 203,530,240 2.37MB/s  eta 2m 6s  "
       ]
      },
      {
       "output_type": "stream",
       "stream": "stdout",
       "text": [
        "\r",
        "17% [=====>                                 ] 204,120,064 2.39MB/s  eta 2m 6s  "
       ]
      },
      {
       "output_type": "stream",
       "stream": "stdout",
       "text": [
        "\r",
        "17% [=====>                                 ] 204,677,120 2.42MB/s  eta 2m 6s  "
       ]
      },
      {
       "output_type": "stream",
       "stream": "stdout",
       "text": [
        "\r",
        "17% [=====>                                 ] 205,168,640 2.42MB/s  eta 2m 6s  "
       ]
      },
      {
       "output_type": "stream",
       "stream": "stdout",
       "text": [
        "\r",
        "17% [=====>                                 ] 205,578,240 2.36MB/s  eta 2m 9s  "
       ]
      },
      {
       "output_type": "stream",
       "stream": "stdout",
       "text": [
        "\r",
        "17% [=====>                                 ] 206,200,832 2.38MB/s  eta 2m 9s  "
       ]
      },
      {
       "output_type": "stream",
       "stream": "stdout",
       "text": [
        "\r",
        "17% [=====>                                 ] 206,659,584 2.33MB/s  eta 2m 9s  "
       ]
      },
      {
       "output_type": "stream",
       "stream": "stdout",
       "text": [
        "\r",
        "17% [=====>                                 ] 207,134,720 2.33MB/s  eta 2m 9s  "
       ]
      },
      {
       "output_type": "stream",
       "stream": "stdout",
       "text": [
        "\r",
        "17% [=====>                                 ] 207,495,168 2.28MB/s  eta 2m 9s  "
       ]
      },
      {
       "output_type": "stream",
       "stream": "stdout",
       "text": [
        "\r",
        "17% [=====>                                 ] 207,970,304 2.27MB/s  eta 2m 13s "
       ]
      },
      {
       "output_type": "stream",
       "stream": "stdout",
       "text": [
        "\r",
        "17% [=====>                                 ] 208,379,904 2.24MB/s  eta 2m 13s "
       ]
      },
      {
       "output_type": "stream",
       "stream": "stdout",
       "text": [
        "\r",
        "17% [=====>                                 ] 208,838,656 2.22MB/s  eta 2m 13s "
       ]
      },
      {
       "output_type": "stream",
       "stream": "stdout",
       "text": [
        "\r",
        "17% [=====>                                 ] 209,297,408 2.20MB/s  eta 2m 13s "
       ]
      },
      {
       "output_type": "stream",
       "stream": "stdout",
       "text": [
        "\r",
        "17% [=====>                                 ] 209,788,928 2.19MB/s  eta 2m 13s "
       ]
      },
      {
       "output_type": "stream",
       "stream": "stdout",
       "text": [
        "\r",
        "17% [=====>                                 ] 210,264,064 2.17MB/s  eta 2m 16s "
       ]
      },
      {
       "output_type": "stream",
       "stream": "stdout",
       "text": [
        "\r",
        "17% [=====>                                 ] 210,771,968 2.18MB/s  eta 2m 16s "
       ]
      },
      {
       "output_type": "stream",
       "stream": "stdout",
       "text": [
        "\r",
        "17% [=====>                                 ] 211,263,488 2.16MB/s  eta 2m 16s "
       ]
      },
      {
       "output_type": "stream",
       "stream": "stdout",
       "text": [
        "\r",
        "17% [=====>                                 ] 211,787,776 2.16MB/s  eta 2m 16s "
       ]
      },
      {
       "output_type": "stream",
       "stream": "stdout",
       "text": [
        "\r",
        "17% [=====>                                 ] 212,279,296 2.15MB/s  eta 2m 16s "
       ]
      },
      {
       "output_type": "stream",
       "stream": "stdout",
       "text": [
        "\r",
        "17% [=====>                                 ] 212,836,352 2.16MB/s  eta 2m 18s "
       ]
      },
      {
       "output_type": "stream",
       "stream": "stdout",
       "text": [
        "\r",
        "17% [=====>                                 ] 213,295,104 2.16MB/s  eta 2m 18s "
       ]
      },
      {
       "output_type": "stream",
       "stream": "stdout",
       "text": [
        "\r",
        "17% [=====>                                 ] 213,852,160 2.21MB/s  eta 2m 18s "
       ]
      },
      {
       "output_type": "stream",
       "stream": "stdout",
       "text": [
        "\r",
        "17% [=====>                                 ] 214,343,680 2.23MB/s  eta 2m 18s "
       ]
      },
      {
       "output_type": "stream",
       "stream": "stdout",
       "text": [
        "\r",
        "17% [=====>                                 ] 214,851,584 2.28MB/s  eta 2m 18s "
       ]
      },
      {
       "output_type": "stream",
       "stream": "stdout",
       "text": [
        "\r",
        "17% [=====>                                 ] 215,212,032 2.25MB/s  eta 2m 21s "
       ]
      },
      {
       "output_type": "stream",
       "stream": "stdout",
       "text": [
        "\r",
        "17% [======>                                ] 215,621,632 2.24MB/s  eta 2m 21s "
       ]
      },
      {
       "output_type": "stream",
       "stream": "stdout",
       "text": [
        "\r",
        "17% [======>                                ] 216,014,848 2.22MB/s  eta 2m 21s "
       ]
      },
      {
       "output_type": "stream",
       "stream": "stdout",
       "text": [
        "\r",
        "18% [======>                                ] 216,473,600 2.22MB/s  eta 2m 21s "
       ]
      },
      {
       "output_type": "stream",
       "stream": "stdout",
       "text": [
        "\r",
        "18% [======>                                ] 216,883,200 2.20MB/s  eta 2m 21s "
       ]
      },
      {
       "output_type": "stream",
       "stream": "stdout",
       "text": [
        "\r",
        "18% [======>                                ] 217,374,720 2.20MB/s  eta 2m 24s "
       ]
      },
      {
       "output_type": "stream",
       "stream": "stdout",
       "text": [
        "\r",
        "18% [======>                                ] 217,833,472 2.20MB/s  eta 2m 24s "
       ]
      },
      {
       "output_type": "stream",
       "stream": "stdout",
       "text": [
        "\r",
        "18% [======>                                ] 218,308,608 2.18MB/s  eta 2m 24s "
       ]
      },
      {
       "output_type": "stream",
       "stream": "stdout",
       "text": [
        "\r",
        "18% [======>                                ] 218,800,128 2.18MB/s  eta 2m 24s "
       ]
      },
      {
       "output_type": "stream",
       "stream": "stdout",
       "text": [
        "\r",
        "18% [======>                                ] 219,275,264 2.16MB/s  eta 2m 24s "
       ]
      },
      {
       "output_type": "stream",
       "stream": "stdout",
       "text": [
        "\r",
        "18% [======>                                ] 219,783,168 2.17MB/s  eta 2m 27s "
       ]
      },
      {
       "output_type": "stream",
       "stream": "stdout",
       "text": [
        "\r",
        "18% [======>                                ] 220,274,688 2.15MB/s  eta 2m 27s "
       ]
      },
      {
       "output_type": "stream",
       "stream": "stdout",
       "text": [
        "\r",
        "18% [======>                                ] 220,831,744 2.16MB/s  eta 2m 27s "
       ]
      },
      {
       "output_type": "stream",
       "stream": "stdout",
       "text": [
        "\r",
        "18% [======>                                ] 221,339,648 2.16MB/s  eta 2m 27s "
       ]
      },
      {
       "output_type": "stream",
       "stream": "stdout",
       "text": [
        "\r",
        "18% [======>                                ] 221,847,552 2.16MB/s  eta 2m 27s "
       ]
      },
      {
       "output_type": "stream",
       "stream": "stdout",
       "text": [
        "\r",
        "18% [======>                                ] 222,355,456 2.17MB/s  eta 2m 29s "
       ]
      },
      {
       "output_type": "stream",
       "stream": "stdout",
       "text": [
        "\r",
        "18% [======>                                ] 222,879,744 2.24MB/s  eta 2m 29s "
       ]
      },
      {
       "output_type": "stream",
       "stream": "stdout",
       "text": [
        "\r",
        "18% [======>                                ] 223,387,648 2.27MB/s  eta 2m 29s "
       ]
      },
      {
       "output_type": "stream",
       "stream": "stdout",
       "text": [
        "\r",
        "18% [======>                                ] 223,911,936 2.30MB/s  eta 2m 29s "
       ]
      },
      {
       "output_type": "stream",
       "stream": "stdout",
       "text": [
        "\r",
        "18% [======>                                ] 224,452,608 2.35MB/s  eta 2m 29s "
       ]
      },
      {
       "output_type": "stream",
       "stream": "stdout",
       "text": [
        "\r",
        "18% [======>                                ] 224,944,128 2.35MB/s  eta 2m 32s "
       ]
      },
      {
       "output_type": "stream",
       "stream": "stdout",
       "text": [
        "\r",
        "18% [======>                                ] 225,517,568 2.38MB/s  eta 2m 32s "
       ]
      },
      {
       "output_type": "stream",
       "stream": "stdout",
       "text": [
        "\r",
        "18% [======>                                ] 226,041,856 2.40MB/s  eta 2m 32s "
       ]
      },
      {
       "output_type": "stream",
       "stream": "stdout",
       "text": [
        "\r",
        "18% [======>                                ] 226,566,144 2.42MB/s  eta 2m 32s "
       ]
      },
      {
       "output_type": "stream",
       "stream": "stdout",
       "text": [
        "\r",
        "18% [======>                                ] 227,106,816 2.43MB/s  eta 2m 32s "
       ]
      },
      {
       "output_type": "stream",
       "stream": "stdout",
       "text": [
        "\r",
        "18% [======>                                ] 227,614,720 2.42MB/s  eta 2m 34s "
       ]
      },
      {
       "output_type": "stream",
       "stream": "stdout",
       "text": [
        "\r",
        "19% [======>                                ] 228,171,776 2.43MB/s  eta 2m 34s "
       ]
      },
      {
       "output_type": "stream",
       "stream": "stdout",
       "text": [
        "\r",
        "19% [======>                                ] 228,712,448 2.44MB/s  eta 2m 34s "
       ]
      },
      {
       "output_type": "stream",
       "stream": "stdout",
       "text": [
        "\r",
        "19% [======>                                ] 229,236,736 2.43MB/s  eta 2m 34s "
       ]
      },
      {
       "output_type": "stream",
       "stream": "stdout",
       "text": [
        "\r",
        "19% [======>                                ] 229,810,176 2.44MB/s  eta 2m 34s "
       ]
      },
      {
       "output_type": "stream",
       "stream": "stdout",
       "text": [
        "\r",
        "19% [======>                                ] 230,334,464 2.44MB/s  eta 2m 36s "
       ]
      },
      {
       "output_type": "stream",
       "stream": "stdout",
       "text": [
        "\r",
        "19% [======>                                ] 230,875,136 2.44MB/s  eta 2m 36s "
       ]
      },
      {
       "output_type": "stream",
       "stream": "stdout",
       "text": [
        "\r",
        "19% [======>                                ] 231,383,040 2.44MB/s  eta 2m 36s "
       ]
      },
      {
       "output_type": "stream",
       "stream": "stdout",
       "text": [
        "\r",
        "19% [======>                                ] 231,923,712 2.45MB/s  eta 2m 36s "
       ]
      },
      {
       "output_type": "stream",
       "stream": "stdout",
       "text": [
        "\r",
        "19% [======>                                ] 232,464,384 2.45MB/s  eta 2m 36s "
       ]
      },
      {
       "output_type": "stream",
       "stream": "stdout",
       "text": [
        "\r",
        "19% [======>                                ] 232,972,288 2.45MB/s  eta 2m 38s "
       ]
      },
      {
       "output_type": "stream",
       "stream": "stdout",
       "text": [
        "\r",
        "19% [======>                                ] 233,447,424 2.44MB/s  eta 2m 38s "
       ]
      },
      {
       "output_type": "stream",
       "stream": "stdout",
       "text": [
        "\r",
        "19% [======>                                ] 233,889,792 2.38MB/s  eta 2m 38s "
       ]
      },
      {
       "output_type": "stream",
       "stream": "stdout",
       "text": [
        "\r",
        "19% [======>                                ] 234,414,080 2.39MB/s  eta 2m 38s "
       ]
      },
      {
       "output_type": "stream",
       "stream": "stdout",
       "text": [
        "\r",
        "19% [======>                                ] 234,725,376 2.32MB/s  eta 2m 38s "
       ]
      },
      {
       "output_type": "stream",
       "stream": "stdout",
       "text": [
        "\r",
        "19% [======>                                ] 234,987,520 2.24MB/s  eta 2m 41s "
       ]
      },
      {
       "output_type": "stream",
       "stream": "stdout",
       "text": [
        "\r",
        "19% [======>                                ] 235,331,584 2.18MB/s  eta 2m 41s "
       ]
      },
      {
       "output_type": "stream",
       "stream": "stdout",
       "text": [
        "\r",
        "19% [======>                                ] 235,626,496 2.11MB/s  eta 2m 41s "
       ]
      },
      {
       "output_type": "stream",
       "stream": "stdout",
       "text": [
        "\r",
        "19% [======>                                ] 235,954,176 2.05MB/s  eta 2m 41s "
       ]
      },
      {
       "output_type": "stream",
       "stream": "stdout",
       "text": [
        "\r",
        "19% [======>                                ] 236,331,008 1.99MB/s  eta 2m 41s "
       ]
      },
      {
       "output_type": "stream",
       "stream": "stdout",
       "text": [
        "\r",
        "19% [======>                                ] 236,707,840 1.91MB/s  eta 2m 44s "
       ]
      },
      {
       "output_type": "stream",
       "stream": "stdout",
       "text": [
        "\r",
        "19% [======>                                ] 237,084,672 1.87MB/s  eta 2m 44s "
       ]
      },
      {
       "output_type": "stream",
       "stream": "stdout",
       "text": [
        "\r",
        "19% [======>                                ] 237,428,736 1.80MB/s  eta 2m 44s "
       ]
      },
      {
       "output_type": "stream",
       "stream": "stdout",
       "text": [
        "\r",
        "19% [======>                                ] 237,740,032 1.74MB/s  eta 2m 44s "
       ]
      },
      {
       "output_type": "stream",
       "stream": "stdout",
       "text": [
        "\r",
        "19% [======>                                ] 238,133,248 1.70MB/s  eta 2m 44s "
       ]
      },
      {
       "output_type": "stream",
       "stream": "stdout",
       "text": [
        "\r",
        "19% [======>                                ] 238,493,696 1.62MB/s  eta 2m 47s "
       ]
      },
      {
       "output_type": "stream",
       "stream": "stdout",
       "text": [
        "\r",
        "19% [======>                                ] 238,804,992 1.56MB/s  eta 2m 47s "
       ]
      },
      {
       "output_type": "stream",
       "stream": "stdout",
       "text": [
        "\r",
        "19% [======>                                ] 239,181,824 1.48MB/s  eta 2m 47s "
       ]
      },
      {
       "output_type": "stream",
       "stream": "stdout",
       "text": [
        "\r",
        "19% [======>                                ] 239,558,656 1.47MB/s  eta 2m 47s "
       ]
      },
      {
       "output_type": "stream",
       "stream": "stdout",
       "text": [
        "\r",
        "19% [======>                                ] 239,804,416 1.46MB/s  eta 2m 47s "
       ]
      },
      {
       "output_type": "stream",
       "stream": "stdout",
       "text": [
        "\r",
        "19% [======>                                ] 240,099,328 1.46MB/s  eta 2m 50s "
       ]
      },
      {
       "output_type": "stream",
       "stream": "stdout",
       "text": [
        "\r",
        "20% [======>                                ] 240,345,088 1.45MB/s  eta 2m 50s "
       ]
      },
      {
       "output_type": "stream",
       "stream": "stdout",
       "text": [
        "\r",
        "20% [======>                                ] 240,656,384 1.45MB/s  eta 2m 50s "
       ]
      },
      {
       "output_type": "stream",
       "stream": "stdout",
       "text": [
        "\r",
        "20% [======>                                ] 240,967,680 1.44MB/s  eta 2m 50s "
       ]
      },
      {
       "output_type": "stream",
       "stream": "stdout",
       "text": [
        "\r",
        "20% [======>                                ] 241,262,592 1.43MB/s  eta 2m 50s "
       ]
      },
      {
       "output_type": "stream",
       "stream": "stdout",
       "text": [
        "\r",
        "20% [======>                                ] 241,590,272 1.44MB/s  eta 2m 53s "
       ]
      },
      {
       "output_type": "stream",
       "stream": "stdout",
       "text": [
        "\r",
        "20% [======>                                ] 241,885,184 1.42MB/s  eta 2m 53s "
       ]
      },
      {
       "output_type": "stream",
       "stream": "stdout",
       "text": [
        "\r",
        "20% [======>                                ] 242,229,248 1.43MB/s  eta 2m 53s "
       ]
      },
      {
       "output_type": "stream",
       "stream": "stdout",
       "text": [
        "\r",
        "20% [======>                                ] 242,556,928 1.42MB/s  eta 2m 53s "
       ]
      },
      {
       "output_type": "stream",
       "stream": "stdout",
       "text": [
        "\r",
        "20% [======>                                ] 242,868,224 1.42MB/s  eta 2m 53s "
       ]
      },
      {
       "output_type": "stream",
       "stream": "stdout",
       "text": [
        "\r",
        "20% [======>                                ] 243,195,904 1.43MB/s  eta 2m 55s "
       ]
      },
      {
       "output_type": "stream",
       "stream": "stdout",
       "text": [
        "\r",
        "20% [======>                                ] 243,523,584 1.42MB/s  eta 2m 55s "
       ]
      },
      {
       "output_type": "stream",
       "stream": "stdout",
       "text": [
        "\r",
        "20% [======>                                ] 243,884,032 1.42MB/s  eta 2m 55s "
       ]
      },
      {
       "output_type": "stream",
       "stream": "stdout",
       "text": [
        "\r",
        "20% [======>                                ] 244,211,712 1.45MB/s  eta 2m 55s "
       ]
      },
      {
       "output_type": "stream",
       "stream": "stdout",
       "text": [
        "\r",
        "20% [======>                                ] 244,539,392 1.41MB/s  eta 2m 55s "
       ]
      },
      {
       "output_type": "stream",
       "stream": "stdout",
       "text": [
        "\r",
        "20% [======>                                ] 244,916,224 1.44MB/s  eta 2m 58s "
       ]
      },
      {
       "output_type": "stream",
       "stream": "stdout",
       "text": [
        "\r",
        "20% [======>                                ] 245,161,984 1.42MB/s  eta 2m 58s "
       ]
      },
      {
       "output_type": "stream",
       "stream": "stdout",
       "text": [
        "\r",
        "20% [======>                                ] 245,456,896 1.43MB/s  eta 2m 58s "
       ]
      },
      {
       "output_type": "stream",
       "stream": "stdout",
       "text": [
        "\r",
        "20% [======>                                ] 245,719,040 1.43MB/s  eta 2m 58s "
       ]
      },
      {
       "output_type": "stream",
       "stream": "stdout",
       "text": [
        "\r",
        "20% [======>                                ] 246,013,952 1.42MB/s  eta 2m 58s "
       ]
      },
      {
       "output_type": "stream",
       "stream": "stdout",
       "text": [
        "\r",
        "20% [=======>                               ] 246,325,248 1.42MB/s  eta 3m 1s  "
       ]
      },
      {
       "output_type": "stream",
       "stream": "stdout",
       "text": [
        "\r",
        "20% [=======>                               ] 246,620,160 1.42MB/s  eta 3m 1s  "
       ]
      },
      {
       "output_type": "stream",
       "stream": "stdout",
       "text": [
        "\r",
        "20% [=======>                               ] 246,931,456 1.42MB/s  eta 3m 1s  "
       ]
      },
      {
       "output_type": "stream",
       "stream": "stdout",
       "text": [
        "\r",
        "20% [=======>                               ] 247,242,752 1.40MB/s  eta 3m 1s  "
       ]
      },
      {
       "output_type": "stream",
       "stream": "stdout",
       "text": [
        "\r",
        "20% [=======>                               ] 247,603,200 1.41MB/s  eta 3m 1s  "
       ]
      },
      {
       "output_type": "stream",
       "stream": "stdout",
       "text": [
        "\r",
        "20% [=======>                               ] 247,898,112 1.41MB/s  eta 3m 4s  "
       ]
      },
      {
       "output_type": "stream",
       "stream": "stdout",
       "text": [
        "\r",
        "20% [=======>                               ] 248,242,176 1.41MB/s  eta 3m 4s  "
       ]
      },
      {
       "output_type": "stream",
       "stream": "stdout",
       "text": [
        "\r",
        "20% [=======>                               ] 248,569,856 1.41MB/s  eta 3m 4s  "
       ]
      },
      {
       "output_type": "stream",
       "stream": "stdout",
       "text": [
        "\r",
        "20% [=======>                               ] 248,897,536 1.41MB/s  eta 3m 4s  "
       ]
      },
      {
       "output_type": "stream",
       "stream": "stdout",
       "text": [
        "\r",
        "20% [=======>                               ] 249,225,216 1.41MB/s  eta 3m 4s  "
       ]
      },
      {
       "output_type": "stream",
       "stream": "stdout",
       "text": [
        "\r",
        "20% [=======>                               ] 249,569,280 1.42MB/s  eta 3m 6s  "
       ]
      },
      {
       "output_type": "stream",
       "stream": "stdout",
       "text": [
        "\r",
        "20% [=======>                               ] 249,946,112 1.45MB/s  eta 3m 6s  "
       ]
      },
      {
       "output_type": "stream",
       "stream": "stdout",
       "text": [
        "\r",
        "20% [=======>                               ] 250,273,792 1.47MB/s  eta 3m 6s  "
       ]
      },
      {
       "output_type": "stream",
       "stream": "stdout",
       "text": [
        "\r",
        "20% [=======>                               ] 250,617,856 1.49MB/s  eta 3m 6s  "
       ]
      },
      {
       "output_type": "stream",
       "stream": "stdout",
       "text": [
        "\r",
        "20% [=======>                               ] 250,978,304 1.51MB/s  eta 3m 6s  "
       ]
      },
      {
       "output_type": "stream",
       "stream": "stdout",
       "text": [
        "\r",
        "20% [=======>                               ] 251,273,216 1.51MB/s  eta 3m 8s  "
       ]
      },
      {
       "output_type": "stream",
       "stream": "stdout",
       "text": [
        "\r",
        "20% [=======>                               ] 251,650,048 1.52MB/s  eta 3m 8s  "
       ]
      },
      {
       "output_type": "stream",
       "stream": "stdout",
       "text": [
        "\r",
        "20% [=======>                               ] 251,961,344 1.54MB/s  eta 3m 8s  "
       ]
      },
      {
       "output_type": "stream",
       "stream": "stdout",
       "text": [
        "\r",
        "21% [=======>                               ] 252,305,408 1.54MB/s  eta 3m 8s  "
       ]
      },
      {
       "output_type": "stream",
       "stream": "stdout",
       "text": [
        "\r",
        "21% [=======>                               ] 252,682,240 1.55MB/s  eta 3m 8s  "
       ]
      },
      {
       "output_type": "stream",
       "stream": "stdout",
       "text": [
        "\r",
        "21% [=======>                               ] 253,009,920 1.55MB/s  eta 3m 11s "
       ]
      },
      {
       "output_type": "stream",
       "stream": "stdout",
       "text": [
        "\r",
        "21% [=======>                               ] 253,353,984 1.55MB/s  eta 3m 11s "
       ]
      },
      {
       "output_type": "stream",
       "stream": "stdout",
       "text": [
        "\r",
        "21% [=======>                               ] 253,730,816 1.57MB/s  eta 3m 11s "
       ]
      },
      {
       "output_type": "stream",
       "stream": "stdout",
       "text": [
        "\r",
        "21% [=======>                               ] 254,042,112 1.56MB/s  eta 3m 11s "
       ]
      },
      {
       "output_type": "stream",
       "stream": "stdout",
       "text": [
        "\r",
        "21% [=======>                               ] 254,402,560 1.57MB/s  eta 3m 11s "
       ]
      },
      {
       "output_type": "stream",
       "stream": "stdout",
       "text": [
        "\r",
        "21% [=======>                               ] 254,746,624 1.57MB/s  eta 3m 13s "
       ]
      },
      {
       "output_type": "stream",
       "stream": "stdout",
       "text": [
        "\r",
        "21% [=======>                               ] 255,107,072 1.58MB/s  eta 3m 13s "
       ]
      },
      {
       "output_type": "stream",
       "stream": "stdout",
       "text": [
        "\r",
        "21% [=======>                               ] 255,500,288 1.59MB/s  eta 3m 13s "
       ]
      },
      {
       "output_type": "stream",
       "stream": "stdout",
       "text": [
        "\r",
        "21% [=======>                               ] 255,844,352 1.60MB/s  eta 3m 13s "
       ]
      },
      {
       "output_type": "stream",
       "stream": "stdout",
       "text": [
        "\r",
        "21% [=======>                               ] 256,237,568 1.61MB/s  eta 3m 13s "
       ]
      },
      {
       "output_type": "stream",
       "stream": "stdout",
       "text": [
        "\r",
        "21% [=======>                               ] 256,598,016 1.62MB/s  eta 3m 15s "
       ]
      },
      {
       "output_type": "stream",
       "stream": "stdout",
       "text": [
        "\r",
        "21% [=======>                               ] 256,991,232 1.64MB/s  eta 3m 15s "
       ]
      },
      {
       "output_type": "stream",
       "stream": "stdout",
       "text": [
        "\r",
        "21% [=======>                               ] 257,433,600 1.67MB/s  eta 3m 15s "
       ]
      },
      {
       "output_type": "stream",
       "stream": "stdout",
       "text": [
        "\r",
        "21% [=======>                               ] 257,826,816 1.69MB/s  eta 3m 15s "
       ]
      },
      {
       "output_type": "stream",
       "stream": "stdout",
       "text": [
        "\r",
        "21% [=======>                               ] 258,285,568 1.72MB/s  eta 3m 15s "
       ]
      },
      {
       "output_type": "stream",
       "stream": "stdout",
       "text": [
        "\r",
        "21% [=======>                               ] 258,727,936 1.74MB/s  eta 3m 17s "
       ]
      },
      {
       "output_type": "stream",
       "stream": "stdout",
       "text": [
        "\r",
        "21% [=======>                               ] 259,203,072 1.79MB/s  eta 3m 17s "
       ]
      },
      {
       "output_type": "stream",
       "stream": "stdout",
       "text": [
        "\r",
        "21% [=======>                               ] 259,710,976 1.84MB/s  eta 3m 17s "
       ]
      },
      {
       "output_type": "stream",
       "stream": "stdout",
       "text": [
        "\r",
        "21% [=======>                               ] 260,202,496 1.87MB/s  eta 3m 17s "
       ]
      },
      {
       "output_type": "stream",
       "stream": "stdout",
       "text": [
        "\r",
        "21% [=======>                               ] 260,710,400 1.93MB/s  eta 3m 17s "
       ]
      },
      {
       "output_type": "stream",
       "stream": "stdout",
       "text": [
        "\r",
        "21% [=======>                               ] 261,251,072 1.98MB/s  eta 3m 18s "
       ]
      },
      {
       "output_type": "stream",
       "stream": "stdout",
       "text": [
        "\r",
        "21% [=======>                               ] 261,857,280 2.05MB/s  eta 3m 18s "
       ]
      },
      {
       "output_type": "stream",
       "stream": "stdout",
       "text": [
        "\r",
        "21% [=======>                               ] 262,463,488 2.12MB/s  eta 3m 18s "
       ]
      },
      {
       "output_type": "stream",
       "stream": "stdout",
       "text": [
        "\r",
        "21% [=======>                               ] 263,069,696 2.21MB/s  eta 3m 18s "
       ]
      },
      {
       "output_type": "stream",
       "stream": "stdout",
       "text": [
        "\r",
        "21% [=======>                               ] 263,741,440 2.28MB/s  eta 3m 18s "
       ]
      },
      {
       "output_type": "stream",
       "stream": "stdout",
       "text": [
        "\r",
        "22% [=======>                               ] 264,413,184 2.36MB/s  eta 3m 19s "
       ]
      },
      {
       "output_type": "stream",
       "stream": "stdout",
       "text": [
        "\r",
        "22% [=======>                               ] 265,166,848 2.49MB/s  eta 3m 19s "
       ]
      },
      {
       "output_type": "stream",
       "stream": "stdout",
       "text": [
        "\r",
        "22% [=======>                               ] 265,920,512 2.59MB/s  eta 3m 19s "
       ]
      },
      {
       "output_type": "stream",
       "stream": "stdout",
       "text": [
        "\r",
        "22% [=======>                               ] 266,706,944 2.69MB/s  eta 3m 19s "
       ]
      },
      {
       "output_type": "stream",
       "stream": "stdout",
       "text": [
        "\r",
        "22% [=======>                               ] 267,575,296 2.81MB/s  eta 3m 19s "
       ]
      },
      {
       "output_type": "stream",
       "stream": "stdout",
       "text": [
        "\r",
        "22% [=======>                               ] 268,427,264 2.97MB/s  eta 3m 18s "
       ]
      },
      {
       "output_type": "stream",
       "stream": "stdout",
       "text": [
        "\r",
        "22% [=======>                               ] 269,393,920 3.10MB/s  eta 3m 18s "
       ]
      },
      {
       "output_type": "stream",
       "stream": "stdout",
       "text": [
        "\r",
        "22% [=======>                               ] 270,344,192 3.23MB/s  eta 3m 18s "
       ]
      },
      {
       "output_type": "stream",
       "stream": "stdout",
       "text": [
        "\r",
        "22% [=======>                               ] 271,425,536 3.45MB/s  eta 3m 18s "
       ]
      },
      {
       "output_type": "stream",
       "stream": "stdout",
       "text": [
        "\r",
        "22% [=======>                               ] 272,457,728 3.59MB/s  eta 3m 18s "
       ]
      },
      {
       "output_type": "stream",
       "stream": "stdout",
       "text": [
        "\r",
        "22% [=======>                               ] 273,670,144 3.78MB/s  eta 3m 17s "
       ]
      },
      {
       "output_type": "stream",
       "stream": "stdout",
       "text": [
        "\r",
        "22% [=======>                               ] 274,915,328 3.97MB/s  eta 3m 17s "
       ]
      },
      {
       "output_type": "stream",
       "stream": "stdout",
       "text": [
        "\r",
        "22% [=======>                               ] 276,111,360 4.20MB/s  eta 3m 17s "
       ]
      },
      {
       "output_type": "stream",
       "stream": "stdout",
       "text": [
        "\r",
        "23% [========>                              ] 277,340,160 4.38MB/s  eta 3m 17s "
       ]
      },
      {
       "output_type": "stream",
       "stream": "stdout",
       "text": [
        "\r",
        "23% [========>                              ] 278,175,744 4.41MB/s  eta 3m 17s "
       ]
      },
      {
       "output_type": "stream",
       "stream": "stdout",
       "text": [
        "\r",
        "23% [========>                              ] 278,880,256 4.41MB/s  eta 3m 15s "
       ]
      },
      {
       "output_type": "stream",
       "stream": "stdout",
       "text": [
        "\r",
        "23% [========>                              ] 279,535,616 4.40MB/s  eta 3m 15s "
       ]
      },
      {
       "output_type": "stream",
       "stream": "stdout",
       "text": [
        "\r",
        "23% [========>                              ] 280,305,664 4.43MB/s  eta 3m 15s "
       ]
      },
      {
       "output_type": "stream",
       "stream": "stdout",
       "text": [
        "\r",
        "23% [========>                              ] 281,042,944 4.41MB/s  eta 3m 15s "
       ]
      },
      {
       "output_type": "stream",
       "stream": "stdout",
       "text": [
        "\r",
        "23% [========>                              ] 281,780,224 4.40MB/s  eta 3m 15s "
       ]
      },
      {
       "output_type": "stream",
       "stream": "stdout",
       "text": [
        "\r",
        "23% [========>                              ] 282,566,656 4.39MB/s  eta 3m 15s "
       ]
      },
      {
       "output_type": "stream",
       "stream": "stdout",
       "text": [
        "\r",
        "23% [========>                              ] 283,320,320 4.34MB/s  eta 3m 15s "
       ]
      },
      {
       "output_type": "stream",
       "stream": "stdout",
       "text": [
        "\r",
        "23% [========>                              ] 284,123,136 4.31MB/s  eta 3m 15s "
       ]
      },
      {
       "output_type": "stream",
       "stream": "stdout",
       "text": [
        "\r",
        "23% [========>                              ] 284,844,032 4.22MB/s  eta 3m 15s "
       ]
      },
      {
       "output_type": "stream",
       "stream": "stdout",
       "text": [
        "\r",
        "23% [========>                              ] 285,663,232 4.17MB/s  eta 3m 15s "
       ]
      },
      {
       "output_type": "stream",
       "stream": "stdout",
       "text": [
        "\r",
        "23% [========>                              ] 286,351,360 4.06MB/s  eta 3m 15s "
       ]
      },
      {
       "output_type": "stream",
       "stream": "stdout",
       "text": [
        "\r",
        "23% [========>                              ] 286,990,336 3.86MB/s  eta 3m 15s "
       ]
      },
      {
       "output_type": "stream",
       "stream": "stdout",
       "text": [
        "\r",
        "23% [========>                              ] 287,514,624 3.67MB/s  eta 3m 15s "
       ]
      },
      {
       "output_type": "stream",
       "stream": "stdout",
       "text": [
        "\r",
        "24% [========>                              ] 288,169,984 3.51MB/s  eta 3m 15s "
       ]
      },
      {
       "output_type": "stream",
       "stream": "stdout",
       "text": [
        "\r",
        "24% [========>                              ] 288,776,192 3.36MB/s  eta 3m 15s "
       ]
      },
      {
       "output_type": "stream",
       "stream": "stdout",
       "text": [
        "\r",
        "24% [========>                              ] 289,366,016 3.22MB/s  eta 3m 16s "
       ]
      },
      {
       "output_type": "stream",
       "stream": "stdout",
       "text": [
        "\r",
        "24% [========>                              ] 289,988,608 3.19MB/s  eta 3m 16s "
       ]
      },
      {
       "output_type": "stream",
       "stream": "stdout",
       "text": [
        "\r",
        "24% [========>                              ] 290,529,280 3.14MB/s  eta 3m 16s "
       ]
      },
      {
       "output_type": "stream",
       "stream": "stdout",
       "text": [
        "\r",
        "24% [========>                              ] 290,791,424 3.00MB/s  eta 3m 16s "
       ]
      },
      {
       "output_type": "stream",
       "stream": "stdout",
       "text": [
        "\r",
        "24% [========>                              ] 291,299,328 2.93MB/s  eta 3m 16s "
       ]
      },
      {
       "output_type": "stream",
       "stream": "stdout",
       "text": [
        "\r",
        "24% [========>                              ] 291,659,776 2.82MB/s  eta 3m 17s "
       ]
      },
      {
       "output_type": "stream",
       "stream": "stdout",
       "text": [
        "\r",
        "24% [========>                              ] 292,020,224 2.67MB/s  eta 3m 17s "
       ]
      },
      {
       "output_type": "stream",
       "stream": "stdout",
       "text": [
        "\r",
        "24% [========>                              ] 292,380,672 2.56MB/s  eta 3m 17s "
       ]
      },
      {
       "output_type": "stream",
       "stream": "stdout",
       "text": [
        "\r",
        "24% [========>                              ] 292,757,504 2.46MB/s  eta 3m 17s "
       ]
      },
      {
       "output_type": "stream",
       "stream": "stdout",
       "text": [
        "\r",
        "24% [========>                              ] 293,117,952 2.37MB/s  eta 3m 17s "
       ]
      },
      {
       "output_type": "stream",
       "stream": "stdout",
       "text": [
        "\r",
        "24% [========>                              ] 293,527,552 2.20MB/s  eta 3m 19s "
       ]
      },
      {
       "output_type": "stream",
       "stream": "stdout",
       "text": [
        "\r",
        "24% [========>                              ] 293,920,768 2.14MB/s  eta 3m 19s "
       ]
      },
      {
       "output_type": "stream",
       "stream": "stdout",
       "text": [
        "\r",
        "24% [========>                              ] 294,297,600 2.09MB/s  eta 3m 19s "
       ]
      },
      {
       "output_type": "stream",
       "stream": "stdout",
       "text": [
        "\r",
        "24% [========>                              ] 294,690,816 2.03MB/s  eta 3m 19s "
       ]
      },
      {
       "output_type": "stream",
       "stream": "stdout",
       "text": [
        "\r",
        "24% [========>                              ] 295,084,032 1.98MB/s  eta 3m 19s "
       ]
      },
      {
       "output_type": "stream",
       "stream": "stdout",
       "text": [
        "\r",
        "24% [========>                              ] 295,477,248 1.93MB/s  eta 3m 20s "
       ]
      },
      {
       "output_type": "stream",
       "stream": "stdout",
       "text": [
        "\r",
        "24% [========>                              ] 295,870,464 1.88MB/s  eta 3m 20s "
       ]
      },
      {
       "output_type": "stream",
       "stream": "stdout",
       "text": [
        "\r",
        "24% [========>                              ] 296,263,680 1.80MB/s  eta 3m 20s "
       ]
      },
      {
       "output_type": "stream",
       "stream": "stdout",
       "text": [
        "\r",
        "24% [========>                              ] 296,656,896 1.77MB/s  eta 3m 20s "
       ]
      },
      {
       "output_type": "stream",
       "stream": "stdout",
       "text": [
        "\r",
        "24% [========>                              ] 297,066,496 1.80MB/s  eta 3m 20s "
       ]
      },
      {
       "output_type": "stream",
       "stream": "stdout",
       "text": [
        "\r",
        "24% [========>                              ] 297,459,712 1.78MB/s  eta 3m 22s "
       ]
      },
      {
       "output_type": "stream",
       "stream": "stdout",
       "text": [
        "\r",
        "24% [========>                              ] 297,852,928 1.79MB/s  eta 3m 22s "
       ]
      },
      {
       "output_type": "stream",
       "stream": "stdout",
       "text": [
        "\r",
        "24% [========>                              ] 298,246,144 1.80MB/s  eta 3m 22s "
       ]
      },
      {
       "output_type": "stream",
       "stream": "stdout",
       "text": [
        "\r",
        "24% [========>                              ] 298,655,744 1.82MB/s  eta 3m 22s "
       ]
      },
      {
       "output_type": "stream",
       "stream": "stdout",
       "text": [
        "\r",
        "24% [========>                              ] 299,048,960 1.82MB/s  eta 3m 22s "
       ]
      },
      {
       "output_type": "stream",
       "stream": "stdout",
       "text": [
        "\r",
        "24% [========>                              ] 299,442,176 1.82MB/s  eta 3m 23s "
       ]
      },
      {
       "output_type": "stream",
       "stream": "stdout",
       "text": [
        "\r",
        "24% [========>                              ] 299,835,392 1.83MB/s  eta 3m 23s "
       ]
      },
      {
       "output_type": "stream",
       "stream": "stdout",
       "text": [
        "\r",
        "25% [========>                              ] 300,212,224 1.83MB/s  eta 3m 23s "
       ]
      },
      {
       "output_type": "stream",
       "stream": "stdout",
       "text": [
        "\r",
        "25% [========>                              ] 300,621,824 1.84MB/s  eta 3m 23s "
       ]
      },
      {
       "output_type": "stream",
       "stream": "stdout",
       "text": [
        "\r",
        "25% [========>                              ] 301,015,040 1.84MB/s  eta 3m 23s "
       ]
      },
      {
       "output_type": "stream",
       "stream": "stdout",
       "text": [
        "\r",
        "25% [========>                              ] 301,424,640 1.84MB/s  eta 3m 24s "
       ]
      },
      {
       "output_type": "stream",
       "stream": "stdout",
       "text": [
        "\r",
        "25% [========>                              ] 301,834,240 1.85MB/s  eta 3m 24s "
       ]
      },
      {
       "output_type": "stream",
       "stream": "stdout",
       "text": [
        "\r",
        "25% [========>                              ] 302,227,456 1.85MB/s  eta 3m 24s "
       ]
      },
      {
       "output_type": "stream",
       "stream": "stdout",
       "text": [
        "\r",
        "25% [========>                              ] 302,669,824 1.86MB/s  eta 3m 24s "
       ]
      },
      {
       "output_type": "stream",
       "stream": "stdout",
       "text": [
        "\r",
        "25% [========>                              ] 303,063,040 1.86MB/s  eta 3m 24s "
       ]
      },
      {
       "output_type": "stream",
       "stream": "stdout",
       "text": [
        "\r",
        "25% [========>                              ] 303,521,792 1.88MB/s  eta 3m 25s "
       ]
      },
      {
       "output_type": "stream",
       "stream": "stdout",
       "text": [
        "\r",
        "25% [========>                              ] 303,964,160 1.89MB/s  eta 3m 25s "
       ]
      },
      {
       "output_type": "stream",
       "stream": "stdout",
       "text": [
        "\r",
        "25% [========>                              ] 304,390,144 1.90MB/s  eta 3m 25s "
       ]
      },
      {
       "output_type": "stream",
       "stream": "stdout",
       "text": [
        "\r",
        "25% [========>                              ] 304,848,896 1.92MB/s  eta 3m 25s "
       ]
      },
      {
       "output_type": "stream",
       "stream": "stdout",
       "text": [
        "\r",
        "25% [========>                              ] 305,307,648 1.94MB/s  eta 3m 25s "
       ]
      },
      {
       "output_type": "stream",
       "stream": "stdout",
       "text": [
        "\r",
        "25% [========>                              ] 305,782,784 1.96MB/s  eta 3m 26s "
       ]
      },
      {
       "output_type": "stream",
       "stream": "stdout",
       "text": [
        "\r",
        "25% [========>                              ] 306,257,920 1.99MB/s  eta 3m 26s "
       ]
      },
      {
       "output_type": "stream",
       "stream": "stdout",
       "text": [
        "\r",
        "25% [========>                              ] 306,765,824 2.02MB/s  eta 3m 26s "
       ]
      },
      {
       "output_type": "stream",
       "stream": "stdout",
       "text": [
        "\r",
        "25% [========>                              ] 307,273,728 2.05MB/s  eta 3m 26s "
       ]
      },
      {
       "output_type": "stream",
       "stream": "stdout",
       "text": [
        "\r",
        "25% [========>                              ] 307,814,400 2.10MB/s  eta 3m 26s "
       ]
      },
      {
       "output_type": "stream",
       "stream": "stdout",
       "text": [
        "\r",
        "25% [=========>                             ] 308,338,688 2.13MB/s  eta 3m 27s "
       ]
      },
      {
       "output_type": "stream",
       "stream": "stdout",
       "text": [
        "\r",
        "25% [=========>                             ] 308,944,896 2.18MB/s  eta 3m 27s "
       ]
      },
      {
       "output_type": "stream",
       "stream": "stdout",
       "text": [
        "\r",
        "25% [=========>                             ] 309,534,720 2.25MB/s  eta 3m 27s "
       ]
      },
      {
       "output_type": "stream",
       "stream": "stdout",
       "text": [
        "\r",
        "25% [=========>                             ] 310,173,696 2.31MB/s  eta 3m 27s "
       ]
      },
      {
       "output_type": "stream",
       "stream": "stdout",
       "text": [
        "\r",
        "25% [=========>                             ] 310,829,056 2.38MB/s  eta 3m 27s "
       ]
      },
      {
       "output_type": "stream",
       "stream": "stdout",
       "text": [
        "\r",
        "25% [=========>                             ] 311,500,800 2.46MB/s  eta 3m 27s "
       ]
      },
      {
       "output_type": "stream",
       "stream": "stdout",
       "text": [
        "\r",
        "26% [=========>                             ] 312,254,464 2.54MB/s  eta 3m 27s "
       ]
      },
      {
       "output_type": "stream",
       "stream": "stdout",
       "text": [
        "\r",
        "26% [=========>                             ] 312,975,360 2.62MB/s  eta 3m 27s "
       ]
      },
      {
       "output_type": "stream",
       "stream": "stdout",
       "text": [
        "\r",
        "26% [=========>                             ] 313,778,176 2.75MB/s  eta 3m 27s "
       ]
      },
      {
       "output_type": "stream",
       "stream": "stdout",
       "text": [
        "\r",
        "26% [=========>                             ] 314,580,992 2.85MB/s  eta 3m 27s "
       ]
      },
      {
       "output_type": "stream",
       "stream": "stdout",
       "text": [
        "\r",
        "26% [=========>                             ] 315,416,576 2.95MB/s  eta 3m 26s "
       ]
      },
      {
       "output_type": "stream",
       "stream": "stdout",
       "text": [
        "\r",
        "26% [=========>                             ] 316,301,312 3.06MB/s  eta 3m 26s "
       ]
      },
      {
       "output_type": "stream",
       "stream": "stdout",
       "text": [
        "\r",
        "26% [=========>                             ] 317,218,816 3.23MB/s  eta 3m 26s "
       ]
      },
      {
       "output_type": "stream",
       "stream": "stdout",
       "text": [
        "\r",
        "26% [=========>                             ] 318,234,624 3.36MB/s  eta 3m 26s "
       ]
      },
      {
       "output_type": "stream",
       "stream": "stdout",
       "text": [
        "\r",
        "26% [=========>                             ] 319,234,048 3.51MB/s  eta 3m 26s "
       ]
      },
      {
       "output_type": "stream",
       "stream": "stdout",
       "text": [
        "\r",
        "26% [=========>                             ] 320,282,624 3.64MB/s  eta 3m 25s "
       ]
      },
      {
       "output_type": "stream",
       "stream": "stdout",
       "text": [
        "\r",
        "26% [=========>                             ] 321,363,968 3.84MB/s  eta 3m 25s "
       ]
      },
      {
       "output_type": "stream",
       "stream": "stdout",
       "text": [
        "\r",
        "26% [=========>                             ] 322,543,616 4.00MB/s  eta 3m 25s "
       ]
      },
      {
       "output_type": "stream",
       "stream": "stdout",
       "text": [
        "\r",
        "26% [=========>                             ] 323,788,800 4.18MB/s  eta 3m 25s "
       ]
      },
      {
       "output_type": "stream",
       "stream": "stdout",
       "text": [
        "\r",
        "27% [=========>                             ] 325,066,752 4.35MB/s  eta 3m 25s "
       ]
      },
      {
       "output_type": "stream",
       "stream": "stdout",
       "text": [
        "\r",
        "27% [=========>                             ] 325,967,872 4.45MB/s  eta 3m 23s "
       ]
      },
      {
       "output_type": "stream",
       "stream": "stdout",
       "text": [
        "\r",
        "27% [=========>                             ] 327,507,968 4.68MB/s  eta 3m 23s "
       ]
      },
      {
       "output_type": "stream",
       "stream": "stdout",
       "text": [
        "\r",
        "27% [=========>                             ] 328,491,008 4.74MB/s  eta 3m 23s "
       ]
      },
      {
       "output_type": "stream",
       "stream": "stdout",
       "text": [
        "\r",
        "27% [=========>                             ] 329,605,120 4.84MB/s  eta 3m 23s "
       ]
      },
      {
       "output_type": "stream",
       "stream": "stdout",
       "text": [
        "\r",
        "27% [=========>                             ] 330,604,544 4.95MB/s  eta 3m 23s "
       ]
      },
      {
       "output_type": "stream",
       "stream": "stdout",
       "text": [
        "\r",
        "27% [=========>                             ] 331,833,344 5.06MB/s  eta 3m 21s "
       ]
      },
      {
       "output_type": "stream",
       "stream": "stdout",
       "text": [
        "\r",
        "27% [=========>                             ] 332,898,304 5.12MB/s  eta 3m 21s "
       ]
      },
      {
       "output_type": "stream",
       "stream": "stdout",
       "text": [
        "\r",
        "27% [=========>                             ] 334,159,872 5.22MB/s  eta 3m 21s "
       ]
      },
      {
       "output_type": "stream",
       "stream": "stdout",
       "text": [
        "\r",
        "27% [=========>                             ] 335,273,984 5.32MB/s  eta 3m 21s "
       ]
      },
      {
       "output_type": "stream",
       "stream": "stdout",
       "text": [
        "\r",
        "28% [=========>                             ] 336,502,784 5.38MB/s  eta 3m 21s "
       ]
      },
      {
       "output_type": "stream",
       "stream": "stdout",
       "text": [
        "\r",
        "28% [=========>                             ] 337,731,584 5.44MB/s  eta 3m 18s "
       ]
      },
      {
       "output_type": "stream",
       "stream": "stdout",
       "text": [
        "\r",
        "28% [==========>                            ] 338,976,768 5.52MB/s  eta 3m 18s "
       ]
      },
      {
       "output_type": "stream",
       "stream": "stdout",
       "text": [
        "\r",
        "28% [==========>                            ] 340,271,104 5.57MB/s  eta 3m 18s "
       ]
      },
      {
       "output_type": "stream",
       "stream": "stdout",
       "text": [
        "\r",
        "28% [==========>                            ] 341,532,672 5.60MB/s  eta 3m 18s "
       ]
      },
      {
       "output_type": "stream",
       "stream": "stdout",
       "text": [
        "\r",
        "28% [==========>                            ] 342,843,392 5.61MB/s  eta 3m 18s "
       ]
      },
      {
       "output_type": "stream",
       "stream": "stdout",
       "text": [
        "\r",
        "28% [==========>                            ] 344,170,496 5.61MB/s  eta 3m 16s "
       ]
      },
      {
       "output_type": "stream",
       "stream": "stdout",
       "text": [
        "\r",
        "28% [==========>                            ] 345,432,064 5.76MB/s  eta 3m 16s "
       ]
      },
      {
       "output_type": "stream",
       "stream": "stdout",
       "text": [
        "\r",
        "28% [==========>                            ] 346,824,704 5.74MB/s  eta 3m 16s "
       ]
      },
      {
       "output_type": "stream",
       "stream": "stdout",
       "text": [
        "\r",
        "28% [==========>                            ] 348,200,960 5.83MB/s  eta 3m 16s "
       ]
      },
      {
       "output_type": "stream",
       "stream": "stdout",
       "text": [
        "\r",
        "29% [==========>                            ] 349,511,680 5.89MB/s  eta 3m 16s "
       ]
      },
      {
       "output_type": "stream",
       "stream": "stdout",
       "text": [
        "\r",
        "29% [==========>                            ] 350,937,088 6.02MB/s  eta 3m 13s "
       ]
      },
      {
       "output_type": "stream",
       "stream": "stdout",
       "text": [
        "\r",
        "29% [==========>                            ] 352,215,040 6.05MB/s  eta 3m 13s "
       ]
      },
      {
       "output_type": "stream",
       "stream": "stdout",
       "text": [
        "\r",
        "29% [==========>                            ] 353,624,064 6.12MB/s  eta 3m 13s "
       ]
      },
      {
       "output_type": "stream",
       "stream": "stdout",
       "text": [
        "\r",
        "29% [==========>                            ] 354,967,552 6.15MB/s  eta 3m 13s "
       ]
      },
      {
       "output_type": "stream",
       "stream": "stdout",
       "text": [
        "\r",
        "29% [==========>                            ] 356,491,264 6.25MB/s  eta 3m 13s "
       ]
      },
      {
       "output_type": "stream",
       "stream": "stdout",
       "text": [
        "\r",
        "29% [==========>                            ] 357,703,680 6.24MB/s  eta 3m 10s "
       ]
      },
      {
       "output_type": "stream",
       "stream": "stdout",
       "text": [
        "\r",
        "29% [==========>                            ] 359,260,160 6.32MB/s  eta 3m 10s "
       ]
      },
      {
       "output_type": "stream",
       "stream": "stdout",
       "text": [
        "\r",
        "30% [==========>                            ] 360,505,344 6.34MB/s  eta 3m 10s "
       ]
      },
      {
       "output_type": "stream",
       "stream": "stdout",
       "text": [
        "\r",
        "30% [==========>                            ] 362,029,056 6.41MB/s  eta 3m 10s "
       ]
      },
      {
       "output_type": "stream",
       "stream": "stdout",
       "text": [
        "\r",
        "30% [==========>                            ] 363,274,240 6.41MB/s  eta 3m 10s "
       ]
      },
      {
       "output_type": "stream",
       "stream": "stdout",
       "text": [
        "\r",
        "30% [==========>                            ] 364,781,568 6.44MB/s  eta 3m 7s  "
       ]
      },
      {
       "output_type": "stream",
       "stream": "stdout",
       "text": [
        "\r",
        "30% [==========>                            ] 366,223,360 6.46MB/s  eta 3m 7s  "
       ]
      },
      {
       "output_type": "stream",
       "stream": "stdout",
       "text": [
        "\r",
        "30% [==========>                            ] 367,566,848 6.46MB/s  eta 3m 7s  "
       ]
      },
      {
       "output_type": "stream",
       "stream": "stdout",
       "text": [
        "\r",
        "30% [==========>                            ] 369,156,096 6.52MB/s  eta 3m 7s  "
       ]
      },
      {
       "output_type": "stream",
       "stream": "stdout",
       "text": [
        "\r",
        "30% [===========>                           ] 370,466,816 6.53MB/s  eta 3m 7s  "
       ]
      },
      {
       "output_type": "stream",
       "stream": "stdout",
       "text": [
        "\r",
        "30% [===========>                           ] 371,908,608 6.56MB/s  eta 3m 4s  "
       ]
      },
      {
       "output_type": "stream",
       "stream": "stdout",
       "text": [
        "\r",
        "31% [===========>                           ] 373,268,480 6.57MB/s  eta 3m 4s  "
       ]
      },
      {
       "output_type": "stream",
       "stream": "stdout",
       "text": [
        "\r",
        "31% [===========>                           ] 374,661,120 6.57MB/s  eta 3m 4s  "
       ]
      },
      {
       "output_type": "stream",
       "stream": "stdout",
       "text": [
        "\r",
        "31% [===========>                           ] 376,053,760 6.58MB/s  eta 3m 4s  "
       ]
      },
      {
       "output_type": "stream",
       "stream": "stdout",
       "text": [
        "\r",
        "31% [===========>                           ] 377,430,016 6.53MB/s  eta 3m 4s  "
       ]
      },
      {
       "output_type": "stream",
       "stream": "stdout",
       "text": [
        "\r",
        "31% [===========>                           ] 378,970,112 6.59MB/s  eta 3m 1s  "
       ]
      },
      {
       "output_type": "stream",
       "stream": "stdout",
       "text": [
        "\r",
        "31% [===========>                           ] 380,198,912 6.55MB/s  eta 3m 1s  "
       ]
      },
      {
       "output_type": "stream",
       "stream": "stdout",
       "text": [
        "\r",
        "31% [===========>                           ] 381,722,624 6.59MB/s  eta 3m 1s  "
       ]
      },
      {
       "output_type": "stream",
       "stream": "stdout",
       "text": [
        "\r",
        "31% [===========>                           ] 383,000,576 6.56MB/s  eta 3m 1s  "
       ]
      },
      {
       "output_type": "stream",
       "stream": "stdout",
       "text": [
        "\r",
        "32% [===========>                           ] 384,507,904 6.59MB/s  eta 3m 1s  "
       ]
      },
      {
       "output_type": "stream",
       "stream": "stdout",
       "text": [
        "\r",
        "32% [===========>                           ] 385,622,016 6.40MB/s  eta 2m 59s "
       ]
      },
      {
       "output_type": "stream",
       "stream": "stdout",
       "text": [
        "\r",
        "32% [===========>                           ] 387,145,728 6.44MB/s  eta 2m 59s "
       ]
      },
      {
       "output_type": "stream",
       "stream": "stdout",
       "text": [
        "\r",
        "32% [===========>                           ] 388,194,304 6.34MB/s  eta 2m 59s "
       ]
      },
      {
       "output_type": "stream",
       "stream": "stdout",
       "text": [
        "\r",
        "32% [===========>                           ] 389,193,728 6.24MB/s  eta 2m 59s "
       ]
      },
      {
       "output_type": "stream",
       "stream": "stdout",
       "text": [
        "\r",
        "32% [===========>                           ] 390,373,376 6.17MB/s  eta 2m 59s "
       ]
      },
      {
       "output_type": "stream",
       "stream": "stdout",
       "text": [
        "\r",
        "32% [===========>                           ] 391,520,256 6.08MB/s  eta 2m 57s "
       ]
      },
      {
       "output_type": "stream",
       "stream": "stdout",
       "text": [
        "\r",
        "32% [===========>                           ] 392,667,136 6.01MB/s  eta 2m 57s "
       ]
      },
      {
       "output_type": "stream",
       "stream": "stdout",
       "text": [
        "\r",
        "32% [===========>                           ] 393,961,472 5.99MB/s  eta 2m 57s "
       ]
      },
      {
       "output_type": "stream",
       "stream": "stdout",
       "text": [
        "\r",
        "32% [===========>                           ] 395,042,816 5.86MB/s  eta 2m 57s "
       ]
      },
      {
       "output_type": "stream",
       "stream": "stdout",
       "text": [
        "\r",
        "33% [===========>                           ] 396,386,304 5.86MB/s  eta 2m 57s "
       ]
      },
      {
       "output_type": "stream",
       "stream": "stdout",
       "text": [
        "\r",
        "33% [===========>                           ] 397,533,184 5.80MB/s  eta 2m 55s "
       ]
      },
      {
       "output_type": "stream",
       "stream": "stdout",
       "text": [
        "\r",
        "33% [===========>                           ] 398,893,056 5.74MB/s  eta 2m 55s "
       ]
      },
      {
       "output_type": "stream",
       "stream": "stdout",
       "text": [
        "\r",
        "33% [===========>                           ] 400,105,472 5.69MB/s  eta 2m 55s "
       ]
      },
      {
       "output_type": "stream",
       "stream": "stdout",
       "text": [
        "\r",
        "33% [============>                          ] 401,481,728 5.71MB/s  eta 2m 55s "
       ]
      },
      {
       "output_type": "stream",
       "stream": "stdout",
       "text": [
        "\r",
        "33% [============>                          ] 402,759,680 5.68MB/s  eta 2m 55s "
       ]
      },
      {
       "output_type": "stream",
       "stream": "stdout",
       "text": [
        "\r",
        "33% [============>                          ] 404,152,320 5.72MB/s  eta 2m 53s "
       ]
      },
      {
       "output_type": "stream",
       "stream": "stdout",
       "text": [
        "\r",
        "33% [============>                          ] 405,446,656 5.71MB/s  eta 2m 53s "
       ]
      },
      {
       "output_type": "stream",
       "stream": "stdout",
       "text": [
        "\r",
        "33% [============>                          ] 406,839,296 5.85MB/s  eta 2m 53s "
       ]
      },
      {
       "output_type": "stream",
       "stream": "stdout",
       "text": [
        "\r",
        "34% [============>                          ] 408,281,088 5.96MB/s  eta 2m 53s "
       ]
      },
      {
       "output_type": "stream",
       "stream": "stdout",
       "text": [
        "\r",
        "34% [============>                          ] 409,559,040 6.00MB/s  eta 2m 53s "
       ]
      },
      {
       "output_type": "stream",
       "stream": "stdout",
       "text": [
        "\r",
        "34% [============>                          ] 411,066,368 6.12MB/s  eta 2m 51s "
       ]
      },
      {
       "output_type": "stream",
       "stream": "stdout",
       "text": [
        "\r",
        "34% [============>                          ] 412,360,704 6.14MB/s  eta 2m 51s "
       ]
      },
      {
       "output_type": "stream",
       "stream": "stdout",
       "text": [
        "\r",
        "34% [============>                          ] 413,835,264 6.22MB/s  eta 2m 51s "
       ]
      },
      {
       "output_type": "stream",
       "stream": "stdout",
       "text": [
        "\r",
        "34% [============>                          ] 415,113,216 6.25MB/s  eta 2m 51s "
       ]
      },
      {
       "output_type": "stream",
       "stream": "stdout",
       "text": [
        "\r",
        "34% [============>                          ] 416,636,928 6.32MB/s  eta 2m 51s "
       ]
      },
      {
       "output_type": "stream",
       "stream": "stdout",
       "text": [
        "\r",
        "34% [============>                          ] 418,029,568 6.36MB/s  eta 2m 48s "
       ]
      },
      {
       "output_type": "stream",
       "stream": "stdout",
       "text": [
        "\r",
        "34% [============>                          ] 419,405,824 6.44MB/s  eta 2m 48s "
       ]
      },
      {
       "output_type": "stream",
       "stream": "stdout",
       "text": [
        "\r",
        "35% [============>                          ] 420,765,696 6.46MB/s  eta 2m 48s "
       ]
      },
      {
       "output_type": "stream",
       "stream": "stdout",
       "text": [
        "\r",
        "35% [============>                          ] 422,199,296 6.49MB/s  eta 2m 48s "
       ]
      },
      {
       "output_type": "stream",
       "stream": "stdout",
       "text": [
        "\r",
        "35% [============>                          ] 423,501,824 6.49MB/s  eta 2m 48s "
       ]
      },
      {
       "output_type": "stream",
       "stream": "stdout",
       "text": [
        "\r",
        "35% [============>                          ] 424,992,768 6.52MB/s  eta 2m 46s "
       ]
      },
      {
       "output_type": "stream",
       "stream": "stdout",
       "text": [
        "\r",
        "35% [============>                          ] 426,041,344 6.36MB/s  eta 2m 46s "
       ]
      },
      {
       "output_type": "stream",
       "stream": "stdout",
       "text": [
        "\r",
        "35% [============>                          ] 427,384,832 6.36MB/s  eta 2m 46s "
       ]
      },
      {
       "output_type": "stream",
       "stream": "stdout",
       "text": [
        "\r",
        "35% [============>                          ] 428,515,328 6.25MB/s  eta 2m 46s "
       ]
      },
      {
       "output_type": "stream",
       "stream": "stdout",
       "text": [
        "\r",
        "35% [============>                          ] 429,514,752 6.17MB/s  eta 2m 46s "
       ]
      },
      {
       "output_type": "stream",
       "stream": "stdout",
       "text": [
        "\r",
        "35% [============>                          ] 430,596,096 6.06MB/s  eta 2m 44s "
       ]
      },
      {
       "output_type": "stream",
       "stream": "stdout",
       "text": [
        "\r",
        "35% [=============>                         ] 431,677,440 5.98MB/s  eta 2m 44s "
       ]
      },
      {
       "output_type": "stream",
       "stream": "stdout",
       "text": [
        "\r",
        "36% [=============>                         ] 432,742,400 5.84MB/s  eta 2m 44s "
       ]
      },
      {
       "output_type": "stream",
       "stream": "stdout",
       "text": [
        "\r",
        "36% [=============>                         ] 433,954,816 5.79MB/s  eta 2m 44s "
       ]
      },
      {
       "output_type": "stream",
       "stream": "stdout",
       "text": [
        "\r",
        "36% [=============>                         ] 434,937,856 5.66MB/s  eta 2m 44s "
       ]
      },
      {
       "output_type": "stream",
       "stream": "stdout",
       "text": [
        "\r",
        "36% [=============>                         ] 436,183,040 5.58MB/s  eta 2m 43s "
       ]
      },
      {
       "output_type": "stream",
       "stream": "stdout",
       "text": [
        "\r",
        "36% [=============>                         ] 437,248,000 5.50MB/s  eta 2m 43s "
       ]
      },
      {
       "output_type": "stream",
       "stream": "stdout",
       "text": [
        "\r",
        "36% [=============>                         ] 438,444,032 5.49MB/s  eta 2m 43s "
       ]
      },
      {
       "output_type": "stream",
       "stream": "stdout",
       "text": [
        "\r",
        "36% [=============>                         ] 439,558,144 5.37MB/s  eta 2m 43s "
       ]
      },
      {
       "output_type": "stream",
       "stream": "stdout",
       "text": [
        "\r",
        "36% [=============>                         ] 440,754,176 5.30MB/s  eta 2m 43s "
       ]
      },
      {
       "output_type": "stream",
       "stream": "stdout",
       "text": [
        "\r",
        "36% [=============>                         ] 441,950,208 5.25MB/s  eta 2m 41s "
       ]
      },
      {
       "output_type": "stream",
       "stream": "stdout",
       "text": [
        "\r",
        "36% [=============>                         ] 443,064,320 5.29MB/s  eta 2m 41s "
       ]
      },
      {
       "output_type": "stream",
       "stream": "stdout",
       "text": [
        "\r",
        "37% [=============>                         ] 444,358,656 5.24MB/s  eta 2m 41s "
       ]
      },
      {
       "output_type": "stream",
       "stream": "stdout",
       "text": [
        "\r",
        "37% [=============>                         ] 445,407,232 5.27MB/s  eta 2m 41s "
       ]
      },
      {
       "output_type": "stream",
       "stream": "stdout",
       "text": [
        "\r",
        "37% [=============>                         ] 446,717,952 5.34MB/s  eta 2m 41s "
       ]
      },
      {
       "output_type": "stream",
       "stream": "stdout",
       "text": [
        "\r",
        "37% [=============>                         ] 447,799,296 5.38MB/s  eta 2m 40s "
       ]
      },
      {
       "output_type": "stream",
       "stream": "stdout",
       "text": [
        "\r",
        "37% [=============>                         ] 448,733,184 5.34MB/s  eta 2m 40s "
       ]
      },
      {
       "output_type": "stream",
       "stream": "stdout",
       "text": [
        "\r",
        "37% [=============>                         ] 449,667,072 5.29MB/s  eta 2m 40s "
       ]
      },
      {
       "output_type": "stream",
       "stream": "stdout",
       "text": [
        "\r",
        "37% [=============>                         ] 450,617,344 5.23MB/s  eta 2m 40s "
       ]
      },
      {
       "output_type": "stream",
       "stream": "stdout",
       "text": [
        "\r",
        "37% [=============>                         ] 451,518,464 5.17MB/s  eta 2m 40s "
       ]
      },
      {
       "output_type": "stream",
       "stream": "stdout",
       "text": [
        "\r",
        "37% [=============>                         ] 452,452,352 5.12MB/s  eta 2m 39s "
       ]
      },
      {
       "output_type": "stream",
       "stream": "stdout",
       "text": [
        "\r",
        "37% [=============>                         ] 453,386,240 5.05MB/s  eta 2m 39s "
       ]
      },
      {
       "output_type": "stream",
       "stream": "stdout",
       "text": [
        "\r",
        "37% [=============>                         ] 454,402,048 5.00MB/s  eta 2m 39s "
       ]
      },
      {
       "output_type": "stream",
       "stream": "stdout",
       "text": [
        "\r",
        "37% [=============>                         ] 455,434,240 4.98MB/s  eta 2m 39s "
       ]
      },
      {
       "output_type": "stream",
       "stream": "stdout",
       "text": [
        "\r",
        "38% [=============>                         ] 456,417,280 4.94MB/s  eta 2m 39s "
       ]
      },
      {
       "output_type": "stream",
       "stream": "stdout",
       "text": [
        "\r",
        "38% [=============>                         ] 457,465,856 4.90MB/s  eta 2m 38s "
       ]
      },
      {
       "output_type": "stream",
       "stream": "stdout",
       "text": [
        "\r",
        "38% [=============>                         ] 458,498,048 4.87MB/s  eta 2m 38s "
       ]
      },
      {
       "output_type": "stream",
       "stream": "stdout",
       "text": [
        "\r",
        "38% [=============>                         ] 459,530,240 4.84MB/s  eta 2m 38s "
       ]
      },
      {
       "output_type": "stream",
       "stream": "stdout",
       "text": [
        "\r",
        "38% [=============>                         ] 460,660,736 4.78MB/s  eta 2m 38s "
       ]
      },
      {
       "output_type": "stream",
       "stream": "stdout",
       "text": [
        "\r",
        "38% [=============>                         ] 461,807,616 4.78MB/s  eta 2m 38s "
       ]
      },
      {
       "output_type": "stream",
       "stream": "stdout",
       "text": [
        "\r",
        "38% [==============>                        ] 462,823,424 4.74MB/s  eta 2m 36s "
       ]
      },
      {
       "output_type": "stream",
       "stream": "stdout",
       "text": [
        "\r",
        "38% [==============>                        ] 463,593,472 4.63MB/s  eta 2m 36s "
       ]
      },
      {
       "output_type": "stream",
       "stream": "stdout",
       "text": [
        "\r",
        "38% [==============>                        ] 464,429,056 4.67MB/s  eta 2m 36s "
       ]
      },
      {
       "output_type": "stream",
       "stream": "stdout",
       "text": [
        "\r",
        "38% [==============>                        ] 465,166,336 4.52MB/s  eta 2m 36s "
       ]
      },
      {
       "output_type": "stream",
       "stream": "stdout",
       "text": [
        "\r",
        "38% [==============>                        ] 465,739,776 4.44MB/s  eta 2m 36s "
       ]
      },
      {
       "output_type": "stream",
       "stream": "stdout",
       "text": [
        "\r",
        "38% [==============>                        ] 466,362,368 4.37MB/s  eta 2m 36s "
       ]
      },
      {
       "output_type": "stream",
       "stream": "stdout",
       "text": [
        "\r",
        "38% [==============>                        ] 466,984,960 4.27MB/s  eta 2m 36s "
       ]
      },
      {
       "output_type": "stream",
       "stream": "stdout",
       "text": [
        "\r",
        "38% [==============>                        ] 467,623,936 4.18MB/s  eta 2m 36s "
       ]
      },
      {
       "output_type": "stream",
       "stream": "stdout",
       "text": [
        "\r",
        "39% [==============>                        ] 468,279,296 4.07MB/s  eta 2m 36s "
       ]
      },
      {
       "output_type": "stream",
       "stream": "stdout",
       "text": [
        "\r",
        "39% [==============>                        ] 468,918,272 3.97MB/s  eta 2m 36s "
       ]
      },
      {
       "output_type": "stream",
       "stream": "stdout",
       "text": [
        "\r",
        "39% [==============>                        ] 469,590,016 3.89MB/s  eta 2m 36s "
       ]
      },
      {
       "output_type": "stream",
       "stream": "stdout",
       "text": [
        "\r",
        "39% [==============>                        ] 470,278,144 3.80MB/s  eta 2m 36s "
       ]
      },
      {
       "output_type": "stream",
       "stream": "stdout",
       "text": [
        "\r",
        "39% [==============>                        ] 470,982,656 3.70MB/s  eta 2m 36s "
       ]
      },
      {
       "output_type": "stream",
       "stream": "stdout",
       "text": [
        "\r",
        "39% [==============>                        ] 471,654,400 3.60MB/s  eta 2m 36s "
       ]
      },
      {
       "output_type": "stream",
       "stream": "stdout",
       "text": [
        "\r",
        "39% [==============>                        ] 472,375,296 3.43MB/s  eta 2m 36s "
       ]
      },
      {
       "output_type": "stream",
       "stream": "stdout",
       "text": [
        "\r",
        "39% [==============>                        ] 473,030,656 3.33MB/s  eta 2m 35s "
       ]
      },
      {
       "output_type": "stream",
       "stream": "stdout",
       "text": [
        "\r",
        "39% [==============>                        ] 473,784,320 3.33MB/s  eta 2m 35s "
       ]
      },
      {
       "output_type": "stream",
       "stream": "stdout",
       "text": [
        "\r",
        "39% [==============>                        ] 474,472,448 3.18MB/s  eta 2m 35s "
       ]
      },
      {
       "output_type": "stream",
       "stream": "stdout",
       "text": [
        "\r",
        "39% [==============>                        ] 475,209,728 3.22MB/s  eta 2m 35s "
       ]
      },
      {
       "output_type": "stream",
       "stream": "stdout",
       "text": [
        "\r",
        "39% [==============>                        ] 475,963,392 3.17MB/s  eta 2m 35s "
       ]
      },
      {
       "output_type": "stream",
       "stream": "stdout",
       "text": [
        "\r",
        "39% [==============>                        ] 476,602,368 3.17MB/s  eta 2m 35s "
       ]
      },
      {
       "output_type": "stream",
       "stream": "stdout",
       "text": [
        "\r",
        "39% [==============>                        ] 477,372,416 3.22MB/s  eta 2m 35s "
       ]
      },
      {
       "output_type": "stream",
       "stream": "stdout",
       "text": [
        "\r",
        "39% [==============>                        ] 478,044,160 3.23MB/s  eta 2m 35s "
       ]
      },
      {
       "output_type": "stream",
       "stream": "stdout",
       "text": [
        "\r",
        "39% [==============>                        ] 478,781,440 3.26MB/s  eta 2m 35s "
       ]
      },
      {
       "output_type": "stream",
       "stream": "stdout",
       "text": [
        "\r",
        "39% [==============>                        ] 479,453,184 3.26MB/s  eta 2m 35s "
       ]
      },
      {
       "output_type": "stream",
       "stream": "stdout",
       "text": [
        "\r",
        "39% [==============>                        ] 480,174,080 3.28MB/s  eta 2m 35s "
       ]
      },
      {
       "output_type": "stream",
       "stream": "stdout",
       "text": [
        "\r",
        "40% [==============>                        ] 480,796,672 3.27MB/s  eta 2m 35s "
       ]
      },
      {
       "output_type": "stream",
       "stream": "stdout",
       "text": [
        "\r",
        "40% [==============>                        ] 481,239,040 3.19MB/s  eta 2m 35s "
       ]
      },
      {
       "output_type": "stream",
       "stream": "stdout",
       "text": [
        "\r",
        "40% [==============>                        ] 481,992,704 3.21MB/s  eta 2m 35s "
       ]
      },
      {
       "output_type": "stream",
       "stream": "stdout",
       "text": [
        "\r",
        "40% [==============>                        ] 482,533,376 3.16MB/s  eta 2m 35s "
       ]
      },
      {
       "output_type": "stream",
       "stream": "stdout",
       "text": [
        "\r",
        "40% [==============>                        ] 483,098,624 3.12MB/s  eta 2m 35s "
       ]
      },
      {
       "output_type": "stream",
       "stream": "stdout",
       "text": [
        "\r",
        "40% [==============>                        ] 483,631,104 3.07MB/s  eta 2m 35s "
       ]
      },
      {
       "output_type": "stream",
       "stream": "stdout",
       "text": [
        "\r",
        "40% [==============>                        ] 484,253,696 3.05MB/s  eta 2m 35s "
       ]
      },
      {
       "output_type": "stream",
       "stream": "stdout",
       "text": [
        "\r",
        "40% [==============>                        ] 484,810,752 3.01MB/s  eta 2m 35s "
       ]
      },
      {
       "output_type": "stream",
       "stream": "stdout",
       "text": [
        "\r",
        "40% [==============>                        ] 485,482,496 3.01MB/s  eta 2m 35s "
       ]
      },
      {
       "output_type": "stream",
       "stream": "stdout",
       "text": [
        "\r",
        "40% [==============>                        ] 486,072,320 2.96MB/s  eta 2m 35s "
       ]
      },
      {
       "output_type": "stream",
       "stream": "stdout",
       "text": [
        "\r",
        "40% [==============>                        ] 486,727,680 2.95MB/s  eta 2m 35s "
       ]
      },
      {
       "output_type": "stream",
       "stream": "stdout",
       "text": [
        "\r",
        "40% [==============>                        ] 487,301,120 2.91MB/s  eta 2m 35s "
       ]
      },
      {
       "output_type": "stream",
       "stream": "stdout",
       "text": [
        "\r",
        "40% [==============>                        ] 487,956,480 2.88MB/s  eta 2m 35s "
       ]
      },
      {
       "output_type": "stream",
       "stream": "stdout",
       "text": [
        "\r",
        "40% [==============>                        ] 488,366,080 2.80MB/s  eta 2m 35s "
       ]
      },
      {
       "output_type": "stream",
       "stream": "stdout",
       "text": [
        "\r",
        "40% [==============>                        ] 488,906,752 2.76MB/s  eta 2m 35s "
       ]
      },
      {
       "output_type": "stream",
       "stream": "stdout",
       "text": [
        "\r",
        "40% [==============>                        ] 489,349,120 2.69MB/s  eta 2m 35s "
       ]
      },
      {
       "output_type": "stream",
       "stream": "stdout",
       "text": [
        "\r",
        "40% [==============>                        ] 489,873,408 2.64MB/s  eta 2m 35s "
       ]
      },
      {
       "output_type": "stream",
       "stream": "stdout",
       "text": [
        "\r",
        "40% [==============>                        ] 490,397,696 2.63MB/s  eta 2m 35s "
       ]
      },
      {
       "output_type": "stream",
       "stream": "stdout",
       "text": [
        "\r",
        "40% [==============>                        ] 490,921,984 2.62MB/s  eta 2m 35s "
       ]
      },
      {
       "output_type": "stream",
       "stream": "stdout",
       "text": [
        "\r",
        "40% [==============>                        ] 491,462,656 2.63MB/s  eta 2m 35s "
       ]
      },
      {
       "output_type": "stream",
       "stream": "stdout",
       "text": [
        "\r",
        "40% [==============>                        ] 491,986,944 2.62MB/s  eta 2m 35s "
       ]
      },
      {
       "output_type": "stream",
       "stream": "stdout",
       "text": [
        "\r",
        "41% [==============>                        ] 492,560,384 2.63MB/s  eta 2m 35s "
       ]
      },
      {
       "output_type": "stream",
       "stream": "stdout",
       "text": [
        "\r",
        "41% [===============>                       ] 493,019,136 2.54MB/s  eta 2m 35s "
       ]
      },
      {
       "output_type": "stream",
       "stream": "stdout",
       "text": [
        "\r",
        "41% [===============>                       ] 493,559,808 2.52MB/s  eta 2m 35s "
       ]
      },
      {
       "output_type": "stream",
       "stream": "stdout",
       "text": [
        "\r",
        "41% [===============>                       ] 494,002,176 2.47MB/s  eta 2m 35s "
       ]
      },
      {
       "output_type": "stream",
       "stream": "stdout",
       "text": [
        "\r",
        "41% [===============>                       ] 494,444,544 2.38MB/s  eta 2m 35s "
       ]
      },
      {
       "output_type": "stream",
       "stream": "stdout",
       "text": [
        "\r",
        "41% [===============>                       ] 494,854,144 2.32MB/s  eta 2m 35s "
       ]
      },
      {
       "output_type": "stream",
       "stream": "stdout",
       "text": [
        "\r",
        "41% [===============>                       ] 495,312,896 2.27MB/s  eta 2m 35s "
       ]
      },
      {
       "output_type": "stream",
       "stream": "stdout",
       "text": [
        "\r",
        "41% [===============>                       ] 495,738,880 2.24MB/s  eta 2m 35s "
       ]
      },
      {
       "output_type": "stream",
       "stream": "stdout",
       "text": [
        "\r",
        "41% [===============>                       ] 496,214,016 2.24MB/s  eta 2m 35s "
       ]
      },
      {
       "output_type": "stream",
       "stream": "stdout",
       "text": [
        "\r",
        "41% [===============>                       ] 496,623,616 2.22MB/s  eta 2m 35s "
       ]
      },
      {
       "output_type": "stream",
       "stream": "stdout",
       "text": [
        "\r",
        "41% [===============>                       ] 497,049,600 2.19MB/s  eta 2m 35s "
       ]
      },
      {
       "output_type": "stream",
       "stream": "stdout",
       "text": [
        "\r",
        "41% [===============>                       ] 497,377,280 2.14MB/s  eta 2m 35s "
       ]
      },
      {
       "output_type": "stream",
       "stream": "stdout",
       "text": [
        "\r",
        "41% [===============>                       ] 497,737,728 2.10MB/s  eta 2m 35s "
       ]
      },
      {
       "output_type": "stream",
       "stream": "stdout",
       "text": [
        "\r",
        "41% [===============>                       ] 498,098,176 2.05MB/s  eta 2m 36s "
       ]
      },
      {
       "output_type": "stream",
       "stream": "stdout",
       "text": [
        "\r",
        "41% [===============>                       ] 498,442,240 2.00MB/s  eta 2m 36s "
       ]
      },
      {
       "output_type": "stream",
       "stream": "stdout",
       "text": [
        "\r",
        "41% [===============>                       ] 498,819,072 1.96MB/s  eta 2m 36s "
       ]
      },
      {
       "output_type": "stream",
       "stream": "stdout",
       "text": [
        "\r",
        "41% [===============>                       ] 499,179,520 1.88MB/s  eta 2m 36s "
       ]
      },
      {
       "output_type": "stream",
       "stream": "stdout",
       "text": [
        "\r",
        "41% [===============>                       ] 499,556,352 1.90MB/s  eta 2m 36s "
       ]
      },
      {
       "output_type": "stream",
       "stream": "stdout",
       "text": [
        "\r",
        "41% [===============>                       ] 499,933,184 1.84MB/s  eta 2m 36s "
       ]
      },
      {
       "output_type": "stream",
       "stream": "stdout",
       "text": [
        "\r",
        "41% [===============>                       ] 500,326,400 1.83MB/s  eta 2m 36s "
       ]
      },
      {
       "output_type": "stream",
       "stream": "stdout",
       "text": [
        "\r",
        "41% [===============>                       ] 500,719,616 1.82MB/s  eta 2m 36s "
       ]
      },
      {
       "output_type": "stream",
       "stream": "stdout",
       "text": [
        "\r",
        "41% [===============>                       ] 501,080,064 1.82MB/s  eta 2m 36s "
       ]
      },
      {
       "output_type": "stream",
       "stream": "stdout",
       "text": [
        "\r",
        "41% [===============>                       ] 501,489,664 1.81MB/s  eta 2m 36s "
       ]
      },
      {
       "output_type": "stream",
       "stream": "stdout",
       "text": [
        "\r",
        "41% [===============>                       ] 501,850,112 1.78MB/s  eta 2m 36s "
       ]
      },
      {
       "output_type": "stream",
       "stream": "stdout",
       "text": [
        "\r",
        "41% [===============>                       ] 502,276,096 1.78MB/s  eta 2m 36s "
       ]
      },
      {
       "output_type": "stream",
       "stream": "stdout",
       "text": [
        "\r",
        "41% [===============>                       ] 502,636,544 1.76MB/s  eta 2m 36s "
       ]
      },
      {
       "output_type": "stream",
       "stream": "stdout",
       "text": [
        "\r",
        "41% [===============>                       ] 503,062,528 1.79MB/s  eta 2m 36s "
       ]
      },
      {
       "output_type": "stream",
       "stream": "stdout",
       "text": [
        "\r",
        "41% [===============>                       ] 503,472,128 1.77MB/s  eta 2m 36s "
       ]
      },
      {
       "output_type": "stream",
       "stream": "stdout",
       "text": [
        "\r",
        "41% [===============>                       ] 503,848,960 1.78MB/s  eta 2m 37s "
       ]
      },
      {
       "output_type": "stream",
       "stream": "stdout",
       "text": [
        "\r",
        "41% [===============>                       ] 504,274,944 1.80MB/s  eta 2m 37s "
       ]
      },
      {
       "output_type": "stream",
       "stream": "stdout",
       "text": [
        "\r",
        "42% [===============>                       ] 504,668,160 1.81MB/s  eta 2m 37s "
       ]
      },
      {
       "output_type": "stream",
       "stream": "stdout",
       "text": [
        "\r",
        "42% [===============>                       ] 505,061,376 1.81MB/s  eta 2m 37s "
       ]
      },
      {
       "output_type": "stream",
       "stream": "stdout",
       "text": [
        "\r",
        "42% [===============>                       ] 505,503,744 1.83MB/s  eta 2m 37s "
       ]
      },
      {
       "output_type": "stream",
       "stream": "stdout",
       "text": [
        "\r",
        "42% [===============>                       ] 505,896,960 1.83MB/s  eta 2m 37s "
       ]
      },
      {
       "output_type": "stream",
       "stream": "stdout",
       "text": [
        "\r",
        "42% [===============>                       ] 506,290,176 1.82MB/s  eta 2m 37s "
       ]
      },
      {
       "output_type": "stream",
       "stream": "stdout",
       "text": [
        "\r",
        "42% [===============>                       ] 506,732,544 1.84MB/s  eta 2m 37s "
       ]
      },
      {
       "output_type": "stream",
       "stream": "stdout",
       "text": [
        "\r",
        "42% [===============>                       ] 507,125,760 1.84MB/s  eta 2m 37s "
       ]
      },
      {
       "output_type": "stream",
       "stream": "stdout",
       "text": [
        "\r",
        "42% [===============>                       ] 507,535,360 1.84MB/s  eta 2m 37s "
       ]
      },
      {
       "output_type": "stream",
       "stream": "stdout",
       "text": [
        "\r",
        "42% [===============>                       ] 507,961,344 1.85MB/s  eta 2m 37s "
       ]
      },
      {
       "output_type": "stream",
       "stream": "stdout",
       "text": [
        "\r",
        "42% [===============>                       ] 508,338,176 1.85MB/s  eta 2m 37s "
       ]
      },
      {
       "output_type": "stream",
       "stream": "stdout",
       "text": [
        "\r",
        "42% [===============>                       ] 508,796,928 1.87MB/s  eta 2m 37s "
       ]
      },
      {
       "output_type": "stream",
       "stream": "stdout",
       "text": [
        "\r",
        "42% [===============>                       ] 509,222,912 1.87MB/s  eta 2m 37s "
       ]
      },
      {
       "output_type": "stream",
       "stream": "stdout",
       "text": [
        "\r",
        "42% [===============>                       ] 509,648,896 1.88MB/s  eta 2m 37s "
       ]
      },
      {
       "output_type": "stream",
       "stream": "stdout",
       "text": [
        "\r",
        "42% [===============>                       ] 510,107,648 1.90MB/s  eta 2m 38s "
       ]
      },
      {
       "output_type": "stream",
       "stream": "stdout",
       "text": [
        "\r",
        "42% [===============>                       ] 510,517,248 1.90MB/s  eta 2m 38s "
       ]
      },
      {
       "output_type": "stream",
       "stream": "stdout",
       "text": [
        "\r",
        "42% [===============>                       ] 510,992,384 1.92MB/s  eta 2m 38s "
       ]
      },
      {
       "output_type": "stream",
       "stream": "stdout",
       "text": [
        "\r",
        "42% [===============>                       ] 511,434,752 1.95MB/s  eta 2m 38s "
       ]
      },
      {
       "output_type": "stream",
       "stream": "stdout",
       "text": [
        "\r",
        "42% [===============>                       ] 511,909,888 1.97MB/s  eta 2m 38s "
       ]
      },
      {
       "output_type": "stream",
       "stream": "stdout",
       "text": [
        "\r",
        "42% [===============>                       ] 512,286,720 1.97MB/s  eta 2m 38s "
       ]
      },
      {
       "output_type": "stream",
       "stream": "stdout",
       "text": [
        "\r",
        "42% [===============>                       ] 512,647,168 1.96MB/s  eta 2m 38s "
       ]
      },
      {
       "output_type": "stream",
       "stream": "stdout",
       "text": [
        "\r",
        "42% [===============>                       ] 513,040,384 1.95MB/s  eta 2m 38s "
       ]
      },
      {
       "output_type": "stream",
       "stream": "stdout",
       "text": [
        "\r",
        "42% [===============>                       ] 513,417,216 1.94MB/s  eta 2m 38s "
       ]
      },
      {
       "output_type": "stream",
       "stream": "stdout",
       "text": [
        "\r",
        "42% [===============>                       ] 513,843,200 1.95MB/s  eta 2m 38s "
       ]
      },
      {
       "output_type": "stream",
       "stream": "stdout",
       "text": [
        "\r",
        "42% [===============>                       ] 514,236,416 1.94MB/s  eta 2m 38s "
       ]
      },
      {
       "output_type": "stream",
       "stream": "stdout",
       "text": [
        "\r",
        "42% [===============>                       ] 514,711,552 1.96MB/s  eta 2m 38s "
       ]
      },
      {
       "output_type": "stream",
       "stream": "stdout",
       "text": [
        "\r",
        "42% [===============>                       ] 515,137,536 1.96MB/s  eta 2m 38s "
       ]
      },
      {
       "output_type": "stream",
       "stream": "stdout",
       "text": [
        "\r",
        "42% [===============>                       ] 515,596,288 1.97MB/s  eta 2m 38s "
       ]
      },
      {
       "output_type": "stream",
       "stream": "stdout",
       "text": [
        "\r",
        "42% [===============>                       ] 516,038,656 1.98MB/s  eta 2m 38s "
       ]
      },
      {
       "output_type": "stream",
       "stream": "stdout",
       "text": [
        "\r",
        "43% [===============>                       ] 516,513,792 1.98MB/s  eta 2m 38s "
       ]
      },
      {
       "output_type": "stream",
       "stream": "stdout",
       "text": [
        "\r",
        "43% [===============>                       ] 517,038,080 2.00MB/s  eta 2m 38s "
       ]
      },
      {
       "output_type": "stream",
       "stream": "stdout",
       "text": [
        "\r",
        "43% [===============>                       ] 517,496,832 2.01MB/s  eta 2m 38s "
       ]
      },
      {
       "output_type": "stream",
       "stream": "stdout",
       "text": [
        "\r",
        "43% [===============>                       ] 518,004,736 2.01MB/s  eta 2m 38s "
       ]
      },
      {
       "output_type": "stream",
       "stream": "stdout",
       "text": [
        "\r",
        "43% [===============>                       ] 518,545,408 2.02MB/s  eta 2m 38s "
       ]
      },
      {
       "output_type": "stream",
       "stream": "stdout",
       "text": [
        "\r",
        "43% [===============>                       ] 518,971,392 2.08MB/s  eta 2m 38s "
       ]
      },
      {
       "output_type": "stream",
       "stream": "stdout",
       "text": [
        "\r",
        "43% [===============>                       ] 519,512,064 2.08MB/s  eta 2m 38s "
       ]
      },
      {
       "output_type": "stream",
       "stream": "stdout",
       "text": [
        "\r",
        "43% [===============>                       ] 519,970,816 2.12MB/s  eta 2m 38s "
       ]
      },
      {
       "output_type": "stream",
       "stream": "stdout",
       "text": [
        "\r",
        "43% [===============>                       ] 520,495,104 2.13MB/s  eta 2m 38s "
       ]
      },
      {
       "output_type": "stream",
       "stream": "stdout",
       "text": [
        "\r",
        "43% [===============>                       ] 521,052,160 2.18MB/s  eta 2m 38s "
       ]
      },
      {
       "output_type": "stream",
       "stream": "stdout",
       "text": [
        "\r",
        "43% [===============>                       ] 521,461,760 2.19MB/s  eta 2m 39s "
       ]
      },
      {
       "output_type": "stream",
       "stream": "stdout",
       "text": [
        "\r",
        "43% [===============>                       ] 522,018,816 2.20MB/s  eta 2m 39s "
       ]
      },
      {
       "output_type": "stream",
       "stream": "stdout",
       "text": [
        "\r",
        "43% [===============>                       ] 522,575,872 2.24MB/s  eta 2m 39s "
       ]
      },
      {
       "output_type": "stream",
       "stream": "stdout",
       "text": [
        "\r",
        "43% [===============>                       ] 523,001,856 2.24MB/s  eta 2m 39s "
       ]
      },
      {
       "output_type": "stream",
       "stream": "stdout",
       "text": [
        "\r",
        "43% [================>                      ] 523,542,528 2.24MB/s  eta 2m 39s "
       ]
      },
      {
       "output_type": "stream",
       "stream": "stdout",
       "text": [
        "\r",
        "43% [================>                      ] 524,099,584 2.27MB/s  eta 2m 38s "
       ]
      },
      {
       "output_type": "stream",
       "stream": "stdout",
       "text": [
        "\r",
        "43% [================>                      ] 524,509,184 2.25MB/s  eta 2m 38s "
       ]
      },
      {
       "output_type": "stream",
       "stream": "stdout",
       "text": [
        "\r",
        "43% [================>                      ] 525,066,240 2.28MB/s  eta 2m 38s "
       ]
      },
      {
       "output_type": "stream",
       "stream": "stdout",
       "text": [
        "\r",
        "43% [================>                      ] 525,475,840 2.26MB/s  eta 2m 38s "
       ]
      },
      {
       "output_type": "stream",
       "stream": "stdout",
       "text": [
        "\r",
        "43% [================>                      ] 526,032,896 2.27MB/s  eta 2m 38s "
       ]
      },
      {
       "output_type": "stream",
       "stream": "stdout",
       "text": [
        "\r",
        "43% [================>                      ] 526,589,952 2.31MB/s  eta 2m 38s "
       ]
      },
      {
       "output_type": "stream",
       "stream": "stdout",
       "text": [
        "\r",
        "43% [================>                      ] 527,015,936 2.29MB/s  eta 2m 38s "
       ]
      },
      {
       "output_type": "stream",
       "stream": "stdout",
       "text": [
        "\r",
        "43% [================>                      ] 527,556,608 2.30MB/s  eta 2m 38s "
       ]
      },
      {
       "output_type": "stream",
       "stream": "stdout",
       "text": [
        "\r",
        "43% [================>                      ] 528,048,128 2.31MB/s  eta 2m 38s "
       ]
      },
      {
       "output_type": "stream",
       "stream": "stdout",
       "text": [
        "\r",
        "44% [================>                      ] 528,539,648 2.31MB/s  eta 2m 38s "
       ]
      },
      {
       "output_type": "stream",
       "stream": "stdout",
       "text": [
        "\r",
        "44% [================>                      ] 528,949,248 2.25MB/s  eta 2m 39s "
       ]
      },
      {
       "output_type": "stream",
       "stream": "stdout",
       "text": [
        "\r",
        "44% [================>                      ] 529,522,688 2.28MB/s  eta 2m 39s "
       ]
      },
      {
       "output_type": "stream",
       "stream": "stdout",
       "text": [
        "\r",
        "44% [================>                      ] 529,883,136 2.24MB/s  eta 2m 39s "
       ]
      },
      {
       "output_type": "stream",
       "stream": "stdout",
       "text": [
        "\r",
        "44% [================>                      ] 530,341,888 2.22MB/s  eta 2m 39s "
       ]
      },
      {
       "output_type": "stream",
       "stream": "stdout",
       "text": [
        "\r",
        "44% [================>                      ] 530,751,488 2.20MB/s  eta 2m 39s "
       ]
      },
      {
       "output_type": "stream",
       "stream": "stdout",
       "text": [
        "\r",
        "44% [================>                      ] 531,193,856 2.17MB/s  eta 2m 39s "
       ]
      },
      {
       "output_type": "stream",
       "stream": "stdout",
       "text": [
        "\r",
        "44% [================>                      ] 531,685,376 2.17MB/s  eta 2m 39s "
       ]
      },
      {
       "output_type": "stream",
       "stream": "stdout",
       "text": [
        "\r",
        "44% [================>                      ] 532,103,168 2.15MB/s  eta 2m 39s "
       ]
      },
      {
       "output_type": "stream",
       "stream": "stdout",
       "text": [
        "\r",
        "44% [================>                      ] 532,602,880 2.16MB/s  eta 2m 39s "
       ]
      },
      {
       "output_type": "stream",
       "stream": "stdout",
       "text": [
        "\r",
        "44% [================>                      ] 533,045,248 2.14MB/s  eta 2m 39s "
       ]
      },
      {
       "output_type": "stream",
       "stream": "stdout",
       "text": [
        "\r",
        "44% [================>                      ] 533,553,152 2.14MB/s  eta 2m 39s "
       ]
      },
      {
       "output_type": "stream",
       "stream": "stdout",
       "text": [
        "\r",
        "44% [================>                      ] 534,093,824 2.15MB/s  eta 2m 39s "
       ]
      },
      {
       "output_type": "stream",
       "stream": "stdout",
       "text": [
        "\r",
        "44% [================>                      ] 534,568,960 2.14MB/s  eta 2m 39s "
       ]
      },
      {
       "output_type": "stream",
       "stream": "stdout",
       "text": [
        "\r",
        "44% [================>                      ] 535,109,632 2.14MB/s  eta 2m 39s "
       ]
      },
      {
       "output_type": "stream",
       "stream": "stdout",
       "text": [
        "\r",
        "44% [================>                      ] 535,666,688 2.15MB/s  eta 2m 39s "
       ]
      },
      {
       "output_type": "stream",
       "stream": "stdout",
       "text": [
        "\r",
        "44% [================>                      ] 536,141,824 2.15MB/s  eta 2m 39s "
       ]
      },
      {
       "output_type": "stream",
       "stream": "stdout",
       "text": [
        "\r",
        "44% [================>                      ] 536,698,880 2.18MB/s  eta 2m 39s "
       ]
      },
      {
       "output_type": "stream",
       "stream": "stdout",
       "text": [
        "\r",
        "44% [================>                      ] 537,272,320 2.23MB/s  eta 2m 39s "
       ]
      },
      {
       "output_type": "stream",
       "stream": "stdout",
       "text": [
        "\r",
        "44% [================>                      ] 537,747,456 2.25MB/s  eta 2m 39s "
       ]
      },
      {
       "output_type": "stream",
       "stream": "stdout",
       "text": [
        "\r",
        "44% [================>                      ] 538,304,512 2.29MB/s  eta 2m 39s "
       ]
      },
      {
       "output_type": "stream",
       "stream": "stdout",
       "text": [
        "\r",
        "44% [================>                      ] 538,779,648 2.31MB/s  eta 2m 39s "
       ]
      },
      {
       "output_type": "stream",
       "stream": "stdout",
       "text": [
        "\r",
        "44% [================>                      ] 539,320,320 2.33MB/s  eta 2m 39s "
       ]
      },
      {
       "output_type": "stream",
       "stream": "stdout",
       "text": [
        "\r",
        "44% [================>                      ] 539,893,760 2.36MB/s  eta 2m 39s "
       ]
      },
      {
       "output_type": "stream",
       "stream": "stdout",
       "text": [
        "\r",
        "45% [================>                      ] 540,385,280 2.37MB/s  eta 2m 39s "
       ]
      },
      {
       "output_type": "stream",
       "stream": "stdout",
       "text": [
        "\r",
        "45% [================>                      ] 540,942,336 2.38MB/s  eta 2m 39s "
       ]
      },
      {
       "output_type": "stream",
       "stream": "stdout",
       "text": [
        "\r",
        "45% [================>                      ] 541,515,776 2.40MB/s  eta 2m 38s "
       ]
      },
      {
       "output_type": "stream",
       "stream": "stdout",
       "text": [
        "\r",
        "45% [================>                      ] 541,974,528 2.39MB/s  eta 2m 38s "
       ]
      },
      {
       "output_type": "stream",
       "stream": "stdout",
       "text": [
        "\r",
        "45% [================>                      ] 542,498,816 2.40MB/s  eta 2m 38s "
       ]
      },
      {
       "output_type": "stream",
       "stream": "stdout",
       "text": [
        "\r",
        "45% [================>                      ] 542,990,336 2.38MB/s  eta 2m 38s "
       ]
      },
      {
       "output_type": "stream",
       "stream": "stdout",
       "text": [
        "\r",
        "45% [================>                      ] 543,563,776 2.40MB/s  eta 2m 38s "
       ]
      },
      {
       "output_type": "stream",
       "stream": "stdout",
       "text": [
        "\r",
        "45% [================>                      ] 544,055,296 2.39MB/s  eta 2m 38s "
       ]
      },
      {
       "output_type": "stream",
       "stream": "stdout",
       "text": [
        "\r",
        "45% [================>                      ] 544,595,968 2.39MB/s  eta 2m 38s "
       ]
      },
      {
       "output_type": "stream",
       "stream": "stdout",
       "text": [
        "\r",
        "45% [================>                      ] 545,185,792 2.41MB/s  eta 2m 38s "
       ]
      },
      {
       "output_type": "stream",
       "stream": "stdout",
       "text": [
        "\r",
        "45% [================>                      ] 545,693,696 2.41MB/s  eta 2m 38s "
       ]
      },
      {
       "output_type": "stream",
       "stream": "stdout",
       "text": [
        "\r",
        "45% [================>                      ] 546,234,368 2.41MB/s  eta 2m 38s "
       ]
      },
      {
       "output_type": "stream",
       "stream": "stdout",
       "text": [
        "\r",
        "45% [================>                      ] 546,742,272 2.41MB/s  eta 2m 38s "
       ]
      },
      {
       "output_type": "stream",
       "stream": "stdout",
       "text": [
        "\r",
        "45% [================>                      ] 547,282,944 2.41MB/s  eta 2m 38s "
       ]
      },
      {
       "output_type": "stream",
       "stream": "stdout",
       "text": [
        "\r",
        "45% [================>                      ] 547,823,616 2.42MB/s  eta 2m 38s "
       ]
      },
      {
       "output_type": "stream",
       "stream": "stdout",
       "text": [
        "\r",
        "45% [================>                      ] 548,347,904 2.42MB/s  eta 2m 38s "
       ]
      },
      {
       "output_type": "stream",
       "stream": "stdout",
       "text": [
        "\r",
        "45% [================>                      ] 548,872,192 2.42MB/s  eta 2m 38s "
       ]
      },
      {
       "output_type": "stream",
       "stream": "stdout",
       "text": [
        "\r",
        "45% [================>                      ] 549,330,944 2.41MB/s  eta 2m 38s "
       ]
      },
      {
       "output_type": "stream",
       "stream": "stdout",
       "text": [
        "\r",
        "45% [================>                      ] 549,625,856 2.34MB/s  eta 2m 38s "
       ]
      },
      {
       "output_type": "stream",
       "stream": "stdout",
       "text": [
        "\r",
        "45% [================>                      ] 549,904,384 2.27MB/s  eta 2m 38s "
       ]
      },
      {
       "output_type": "stream",
       "stream": "stdout",
       "text": [
        "\r",
        "45% [================>                      ] 550,215,680 2.23MB/s  eta 2m 38s "
       ]
      },
      {
       "output_type": "stream",
       "stream": "stdout",
       "text": [
        "\r",
        "45% [================>                      ] 550,526,976 2.17MB/s  eta 2m 38s "
       ]
      },
      {
       "output_type": "stream",
       "stream": "stdout",
       "text": [
        "\r",
        "45% [================>                      ] 550,854,656 2.10MB/s  eta 2m 38s "
       ]
      },
      {
       "output_type": "stream",
       "stream": "stdout",
       "text": [
        "\r",
        "45% [================>                      ] 551,165,952 2.05MB/s  eta 2m 38s "
       ]
      },
      {
       "output_type": "stream",
       "stream": "stdout",
       "text": [
        "\r",
        "45% [================>                      ] 551,510,016 2.01MB/s  eta 2m 38s "
       ]
      },
      {
       "output_type": "stream",
       "stream": "stdout",
       "text": [
        "\r",
        "45% [================>                      ] 551,837,696 1.93MB/s  eta 2m 38s "
       ]
      },
      {
       "output_type": "stream",
       "stream": "stdout",
       "text": [
        "\r",
        "45% [================>                      ] 552,165,376 1.87MB/s  eta 2m 38s "
       ]
      },
      {
       "output_type": "stream",
       "stream": "stdout",
       "text": [
        "\r",
        "46% [================>                      ] 552,509,440 1.83MB/s  eta 2m 39s "
       ]
      },
      {
       "output_type": "stream",
       "stream": "stdout",
       "text": [
        "\r",
        "46% [================>                      ] 552,820,736 1.74MB/s  eta 2m 39s "
       ]
      },
      {
       "output_type": "stream",
       "stream": "stdout",
       "text": [
        "\r",
        "46% [================>                      ] 553,181,184 1.69MB/s  eta 2m 39s "
       ]
      },
      {
       "output_type": "stream",
       "stream": "stdout",
       "text": [
        "\r",
        "46% [================>                      ] 553,525,248 1.64MB/s  eta 2m 39s "
       ]
      },
      {
       "output_type": "stream",
       "stream": "stdout",
       "text": [
        "\r",
        "46% [================>                      ] 553,836,544 1.59MB/s  eta 2m 39s "
       ]
      },
      {
       "output_type": "stream",
       "stream": "stdout",
       "text": [
        "\r",
        "46% [=================>                     ] 554,213,376 1.57MB/s  eta 2m 39s "
       ]
      },
      {
       "output_type": "stream",
       "stream": "stdout",
       "text": [
        "\r",
        "46% [=================>                     ] 554,524,672 1.50MB/s  eta 2m 39s "
       ]
      },
      {
       "output_type": "stream",
       "stream": "stdout",
       "text": [
        "\r",
        "46% [=================>                     ] 554,868,736 1.52MB/s  eta 2m 39s "
       ]
      },
      {
       "output_type": "stream",
       "stream": "stdout",
       "text": [
        "\r",
        "46% [=================>                     ] 555,180,032 1.52MB/s  eta 2m 39s "
       ]
      },
      {
       "output_type": "stream",
       "stream": "stdout",
       "text": [
        "\r",
        "46% [=================>                     ] 555,425,792 1.50MB/s  eta 2m 39s "
       ]
      },
      {
       "output_type": "stream",
       "stream": "stdout",
       "text": [
        "\r",
        "46% [=================>                     ] 555,704,320 1.49MB/s  eta 2m 39s "
       ]
      },
      {
       "output_type": "stream",
       "stream": "stdout",
       "text": [
        "\r",
        "46% [=================>                     ] 555,868,160 1.43MB/s  eta 2m 39s "
       ]
      },
      {
       "output_type": "stream",
       "stream": "stdout",
       "text": [
        "\r",
        "46% [=================>                     ] 556,179,456 1.43MB/s  eta 2m 39s "
       ]
      },
      {
       "output_type": "stream",
       "stream": "stdout",
       "text": [
        "\r",
        "46% [=================>                     ] 556,392,448 1.40MB/s  eta 2m 39s "
       ]
      },
      {
       "output_type": "stream",
       "stream": "stdout",
       "text": [
        "\r",
        "46% [=================>                     ] 556,605,440 1.35MB/s  eta 2m 39s "
       ]
      },
      {
       "output_type": "stream",
       "stream": "stdout",
       "text": [
        "\r",
        "46% [=================>                     ] 556,834,816 1.32MB/s  eta 2m 40s "
       ]
      },
      {
       "output_type": "stream",
       "stream": "stdout",
       "text": [
        "\r",
        "46% [=================>                     ] 557,064,192 1.29MB/s  eta 2m 40s "
       ]
      },
      {
       "output_type": "stream",
       "stream": "stdout",
       "text": [
        "\r",
        "46% [=================>                     ] 557,277,184 1.24MB/s  eta 2m 40s "
       ]
      },
      {
       "output_type": "stream",
       "stream": "stdout",
       "text": [
        "\r",
        "46% [=================>                     ] 557,506,560 1.22MB/s  eta 2m 40s "
       ]
      },
      {
       "output_type": "stream",
       "stream": "stdout",
       "text": [
        "\r",
        "46% [=================>                     ] 557,719,552 1.19MB/s  eta 2m 40s "
       ]
      },
      {
       "output_type": "stream",
       "stream": "stdout",
       "text": [
        "\r",
        "46% [=================>                     ] 557,965,312 1.16MB/s  eta 2m 41s "
       ]
      },
      {
       "output_type": "stream",
       "stream": "stdout",
       "text": [
        "\r",
        "46% [=================>                     ] 558,211,072 1.12MB/s  eta 2m 41s "
       ]
      },
      {
       "output_type": "stream",
       "stream": "stdout",
       "text": [
        "\r",
        "46% [=================>                     ] 558,440,448 1.09MB/s  eta 2m 41s "
       ]
      },
      {
       "output_type": "stream",
       "stream": "stdout",
       "text": [
        "\r",
        "46% [=================>                     ] 558,686,208 1.07MB/s  eta 2m 41s "
       ]
      },
      {
       "output_type": "stream",
       "stream": "stdout",
       "text": [
        "\r",
        "46% [=================>                     ] 558,931,968 1.05MB/s  eta 2m 41s "
       ]
      },
      {
       "output_type": "stream",
       "stream": "stdout",
       "text": [
        "\r",
        "46% [=================>                     ] 559,161,344 1.04MB/s  eta 2m 41s "
       ]
      },
      {
       "output_type": "stream",
       "stream": "stdout",
       "text": [
        "\r",
        "46% [=================>                     ] 559,390,720 1.04MB/s  eta 2m 41s "
       ]
      },
      {
       "output_type": "stream",
       "stream": "stdout",
       "text": [
        "\r",
        "46% [=================>                     ] 559,652,864 1.04MB/s  eta 2m 41s "
       ]
      },
      {
       "output_type": "stream",
       "stream": "stdout",
       "text": [
        "\r",
        "46% [=================>                     ] 559,915,008 1.05MB/s  eta 2m 41s "
       ]
      },
      {
       "output_type": "stream",
       "stream": "stdout",
       "text": [
        "\r",
        "46% [=================>                     ] 560,160,768 1.06MB/s  eta 2m 41s "
       ]
      },
      {
       "output_type": "stream",
       "stream": "stdout",
       "text": [
        "\r",
        "46% [=================>                     ] 560,373,760 1.06MB/s  eta 2m 42s "
       ]
      },
      {
       "output_type": "stream",
       "stream": "stdout",
       "text": [
        "\r",
        "46% [=================>                     ] 560,635,904 1.06MB/s  eta 2m 42s "
       ]
      },
      {
       "output_type": "stream",
       "stream": "stdout",
       "text": [
        "\r",
        "46% [=================>                     ] 560,865,280 1.06MB/s  eta 2m 42s "
       ]
      },
      {
       "output_type": "stream",
       "stream": "stdout",
       "text": [
        "\r",
        "46% [=================>                     ] 561,094,656 1.07MB/s  eta 2m 42s "
       ]
      },
      {
       "output_type": "stream",
       "stream": "stdout",
       "text": [
        "\r",
        "46% [=================>                     ] 561,340,416 1.08MB/s  eta 2m 42s "
       ]
      },
      {
       "output_type": "stream",
       "stream": "stdout",
       "text": [
        "\r",
        "46% [=================>                     ] 561,586,176 1.08MB/s  eta 2m 42s "
       ]
      },
      {
       "output_type": "stream",
       "stream": "stdout",
       "text": [
        "\r",
        "46% [=================>                     ] 561,831,936 1.08MB/s  eta 2m 42s "
       ]
      },
      {
       "output_type": "stream",
       "stream": "stdout",
       "text": [
        "\r",
        "46% [=================>                     ] 562,126,848 1.08MB/s  eta 2m 42s "
       ]
      },
      {
       "output_type": "stream",
       "stream": "stdout",
       "text": [
        "\r",
        "46% [=================>                     ] 562,405,376 1.10MB/s  eta 2m 42s "
       ]
      },
      {
       "output_type": "stream",
       "stream": "stdout",
       "text": [
        "\r",
        "46% [=================>                     ] 562,601,984 1.09MB/s  eta 2m 42s "
       ]
      },
      {
       "output_type": "stream",
       "stream": "stdout",
       "text": [
        "\r",
        "46% [=================>                     ] 562,814,976 1.07MB/s  eta 2m 43s "
       ]
      },
      {
       "output_type": "stream",
       "stream": "stdout",
       "text": [
        "\r",
        "46% [=================>                     ] 563,060,736 1.06MB/s  eta 2m 43s "
       ]
      },
      {
       "output_type": "stream",
       "stream": "stdout",
       "text": [
        "\r",
        "46% [=================>                     ] 563,306,496 1.06MB/s  eta 2m 43s "
       ]
      },
      {
       "output_type": "stream",
       "stream": "stdout",
       "text": [
        "\r",
        "46% [=================>                     ] 563,568,640 1.06MB/s  eta 2m 43s "
       ]
      },
      {
       "output_type": "stream",
       "stream": "stdout",
       "text": [
        "\r",
        "46% [=================>                     ] 563,830,784 1.07MB/s  eta 2m 43s "
       ]
      },
      {
       "output_type": "stream",
       "stream": "stdout",
       "text": [
        "\r",
        "46% [=================>                     ] 564,043,776 1.06MB/s  eta 2m 44s "
       ]
      },
      {
       "output_type": "stream",
       "stream": "stdout",
       "text": [
        "\r",
        "46% [=================>                     ] 564,305,920 1.07MB/s  eta 2m 44s "
       ]
      },
      {
       "output_type": "stream",
       "stream": "stdout",
       "text": [
        "\r",
        "47% [=================>                     ] 564,600,832 1.07MB/s  eta 2m 44s "
       ]
      },
      {
       "output_type": "stream",
       "stream": "stdout",
       "text": [
        "\r",
        "47% [=================>                     ] 564,895,744 1.07MB/s  eta 2m 44s "
       ]
      },
      {
       "output_type": "stream",
       "stream": "stdout",
       "text": [
        "\r",
        "47% [=================>                     ] 565,174,272 1.09MB/s  eta 2m 44s "
       ]
      },
      {
       "output_type": "stream",
       "stream": "stdout",
       "text": [
        "\r",
        "47% [=================>                     ] 565,403,648 1.08MB/s  eta 2m 44s "
       ]
      },
      {
       "output_type": "stream",
       "stream": "stdout",
       "text": [
        "\r",
        "47% [=================>                     ] 565,682,176 1.09MB/s  eta 2m 44s "
       ]
      },
      {
       "output_type": "stream",
       "stream": "stdout",
       "text": [
        "\r",
        "47% [=================>                     ] 565,878,784 1.07MB/s  eta 2m 44s "
       ]
      },
      {
       "output_type": "stream",
       "stream": "stdout",
       "text": [
        "\r",
        "47% [=================>                     ] 566,075,392 1.06MB/s  eta 2m 44s "
       ]
      },
      {
       "output_type": "stream",
       "stream": "stdout",
       "text": [
        "\r",
        "47% [=================>                     ] 566,304,768 1.05MB/s  eta 2m 44s "
       ]
      },
      {
       "output_type": "stream",
       "stream": "stdout",
       "text": [
        "\r",
        "47% [=================>                     ] 566,550,528 1.06MB/s  eta 2m 45s "
       ]
      },
      {
       "output_type": "stream",
       "stream": "stdout",
       "text": [
        "\r",
        "47% [=================>                     ] 566,796,288 1.08MB/s  eta 2m 45s "
       ]
      },
      {
       "output_type": "stream",
       "stream": "stdout",
       "text": [
        "\r",
        "47% [=================>                     ] 567,025,664 1.07MB/s  eta 2m 45s "
       ]
      },
      {
       "output_type": "stream",
       "stream": "stdout",
       "text": [
        "\r",
        "47% [=================>                     ] 567,287,808 1.08MB/s  eta 2m 45s "
       ]
      },
      {
       "output_type": "stream",
       "stream": "stdout",
       "text": [
        "\r",
        "47% [=================>                     ] 567,549,952 1.09MB/s  eta 2m 45s "
       ]
      },
      {
       "output_type": "stream",
       "stream": "stdout",
       "text": [
        "\r",
        "47% [=================>                     ] 567,779,328 1.08MB/s  eta 2m 45s "
       ]
      },
      {
       "output_type": "stream",
       "stream": "stdout",
       "text": [
        "\r",
        "47% [=================>                     ] 568,057,856 1.09MB/s  eta 2m 45s "
       ]
      },
      {
       "output_type": "stream",
       "stream": "stdout",
       "text": [
        "\r",
        "47% [=================>                     ] 568,336,384 1.10MB/s  eta 2m 45s "
       ]
      },
      {
       "output_type": "stream",
       "stream": "stdout",
       "text": [
        "\r",
        "47% [=================>                     ] 568,565,760 1.09MB/s  eta 2m 45s "
       ]
      },
      {
       "output_type": "stream",
       "stream": "stdout",
       "text": [
        "\r",
        "47% [=================>                     ] 568,860,672 1.10MB/s  eta 2m 45s "
       ]
      },
      {
       "output_type": "stream",
       "stream": "stdout",
       "text": [
        "\r",
        "47% [=================>                     ] 569,139,200 1.11MB/s  eta 2m 46s "
       ]
      },
      {
       "output_type": "stream",
       "stream": "stdout",
       "text": [
        "\r",
        "47% [=================>                     ] 569,368,576 1.12MB/s  eta 2m 46s "
       ]
      },
      {
       "output_type": "stream",
       "stream": "stdout",
       "text": [
        "\r",
        "47% [=================>                     ] 569,647,104 1.11MB/s  eta 2m 46s "
       ]
      },
      {
       "output_type": "stream",
       "stream": "stdout",
       "text": [
        "\r",
        "47% [=================>                     ] 569,843,712 1.12MB/s  eta 2m 46s "
       ]
      },
      {
       "output_type": "stream",
       "stream": "stdout",
       "text": [
        "\r",
        "47% [=================>                     ] 570,040,320 1.12MB/s  eta 2m 46s "
       ]
      },
      {
       "output_type": "stream",
       "stream": "stdout",
       "text": [
        "\r",
        "47% [=================>                     ] 570,220,544 1.10MB/s  eta 2m 46s "
       ]
      },
      {
       "output_type": "stream",
       "stream": "stdout",
       "text": [
        "\r",
        "47% [=================>                     ] 570,433,536 1.11MB/s  eta 2m 46s "
       ]
      },
      {
       "output_type": "stream",
       "stream": "stdout",
       "text": [
        "\r",
        "47% [=================>                     ] 570,630,144 1.10MB/s  eta 2m 46s "
       ]
      },
      {
       "output_type": "stream",
       "stream": "stdout",
       "text": [
        "\r",
        "47% [=================>                     ] 570,875,904 1.10MB/s  eta 2m 46s "
       ]
      },
      {
       "output_type": "stream",
       "stream": "stdout",
       "text": [
        "\r",
        "47% [=================>                     ] 571,072,512 1.09MB/s  eta 2m 46s "
       ]
      },
      {
       "output_type": "stream",
       "stream": "stdout",
       "text": [
        "\r",
        "47% [=================>                     ] 571,351,040 1.09MB/s  eta 2m 47s "
       ]
      },
      {
       "output_type": "stream",
       "stream": "stdout",
       "text": [
        "\r",
        "47% [=================>                     ] 571,629,568 1.09MB/s  eta 2m 47s "
       ]
      },
      {
       "output_type": "stream",
       "stream": "stdout",
       "text": [
        "\r",
        "47% [=================>                     ] 571,875,328 1.09MB/s  eta 2m 47s "
       ]
      },
      {
       "output_type": "stream",
       "stream": "stdout",
       "text": [
        "\r",
        "47% [=================>                     ] 572,121,088 1.08MB/s  eta 2m 47s "
       ]
      },
      {
       "output_type": "stream",
       "stream": "stdout",
       "text": [
        "\r",
        "47% [=================>                     ] 572,416,000 1.08MB/s  eta 2m 47s "
       ]
      },
      {
       "output_type": "stream",
       "stream": "stdout",
       "text": [
        "\r",
        "47% [=================>                     ] 572,710,912 1.09MB/s  eta 2m 47s "
       ]
      },
      {
       "output_type": "stream",
       "stream": "stdout",
       "text": [
        "\r",
        "47% [=================>                     ] 572,989,440 1.09MB/s  eta 2m 47s "
       ]
      },
      {
       "output_type": "stream",
       "stream": "stdout",
       "text": [
        "\r",
        "47% [=================>                     ] 573,218,816 1.08MB/s  eta 2m 47s "
       ]
      },
      {
       "output_type": "stream",
       "stream": "stdout",
       "text": [
        "\r",
        "47% [=================>                     ] 573,513,728 1.10MB/s  eta 2m 47s "
       ]
      },
      {
       "output_type": "stream",
       "stream": "stdout",
       "text": [
        "\r",
        "47% [=================>                     ] 573,792,256 1.12MB/s  eta 2m 47s "
       ]
      },
      {
       "output_type": "stream",
       "stream": "stdout",
       "text": [
        "\r",
        "47% [=================>                     ] 574,021,632 1.13MB/s  eta 2m 48s "
       ]
      },
      {
       "output_type": "stream",
       "stream": "stdout",
       "text": [
        "\r",
        "47% [=================>                     ] 574,300,160 1.15MB/s  eta 2m 48s "
       ]
      },
      {
       "output_type": "stream",
       "stream": "stdout",
       "text": [
        "\r",
        "47% [=================>                     ] 574,529,536 1.17MB/s  eta 2m 48s "
       ]
      },
      {
       "output_type": "stream",
       "stream": "stdout",
       "text": [
        "\r",
        "47% [=================>                     ] 574,824,448 1.18MB/s  eta 2m 48s "
       ]
      },
      {
       "output_type": "stream",
       "stream": "stdout",
       "text": [
        "\r",
        "47% [=================>                     ] 575,102,976 1.19MB/s  eta 2m 48s "
       ]
      },
      {
       "output_type": "stream",
       "stream": "stdout",
       "text": [
        "\r",
        "47% [=================>                     ] 575,332,352 1.19MB/s  eta 2m 48s "
       ]
      },
      {
       "output_type": "stream",
       "stream": "stdout",
       "text": [
        "\r",
        "47% [=================>                     ] 575,627,264 1.20MB/s  eta 2m 48s "
       ]
      },
      {
       "output_type": "stream",
       "stream": "stdout",
       "text": [
        "\r",
        "47% [=================>                     ] 575,905,792 1.21MB/s  eta 2m 48s "
       ]
      },
      {
       "output_type": "stream",
       "stream": "stdout",
       "text": [
        "\r",
        "47% [=================>                     ] 576,151,552 1.21MB/s  eta 2m 48s "
       ]
      },
      {
       "output_type": "stream",
       "stream": "stdout",
       "text": [
        "\r",
        "48% [=================>                     ] 576,446,464 1.21MB/s  eta 2m 48s "
       ]
      },
      {
       "output_type": "stream",
       "stream": "stdout",
       "text": [
        "\r",
        "48% [=================>                     ] 576,675,840 1.18MB/s  eta 2m 48s "
       ]
      },
      {
       "output_type": "stream",
       "stream": "stdout",
       "text": [
        "\r",
        "48% [=================>                     ] 576,970,752 1.19MB/s  eta 2m 48s "
       ]
      },
      {
       "output_type": "stream",
       "stream": "stdout",
       "text": [
        "\r",
        "48% [=================>                     ] 577,200,128 1.18MB/s  eta 2m 48s "
       ]
      },
      {
       "output_type": "stream",
       "stream": "stdout",
       "text": [
        "\r",
        "48% [=================>                     ] 577,396,736 1.16MB/s  eta 2m 48s "
       ]
      },
      {
       "output_type": "stream",
       "stream": "stdout",
       "text": [
        "\r",
        "48% [=================>                     ] 577,658,880 1.15MB/s  eta 2m 48s "
       ]
      },
      {
       "output_type": "stream",
       "stream": "stdout",
       "text": [
        "\r",
        "48% [=================>                     ] 577,921,024 1.14MB/s  eta 2m 49s "
       ]
      },
      {
       "output_type": "stream",
       "stream": "stdout",
       "text": [
        "\r",
        "48% [=================>                     ] 578,199,552 1.14MB/s  eta 2m 49s "
       ]
      },
      {
       "output_type": "stream",
       "stream": "stdout",
       "text": [
        "\r",
        "48% [=================>                     ] 578,412,544 1.13MB/s  eta 2m 49s "
       ]
      },
      {
       "output_type": "stream",
       "stream": "stdout",
       "text": [
        "\r",
        "48% [=================>                     ] 578,707,456 1.13MB/s  eta 2m 49s "
       ]
      },
      {
       "output_type": "stream",
       "stream": "stdout",
       "text": [
        "\r",
        "48% [=================>                     ] 579,002,368 1.13MB/s  eta 2m 49s "
       ]
      },
      {
       "output_type": "stream",
       "stream": "stdout",
       "text": [
        "\r",
        "48% [=================>                     ] 579,297,280 1.14MB/s  eta 2m 49s "
       ]
      },
      {
       "output_type": "stream",
       "stream": "stdout",
       "text": [
        "\r",
        "48% [=================>                     ] 579,526,656 1.13MB/s  eta 2m 49s "
       ]
      },
      {
       "output_type": "stream",
       "stream": "stdout",
       "text": [
        "\r",
        "48% [=================>                     ] 579,821,568 1.14MB/s  eta 2m 49s "
       ]
      },
      {
       "output_type": "stream",
       "stream": "stdout",
       "text": [
        "\r",
        "48% [=================>                     ] 580,116,480 1.15MB/s  eta 2m 49s "
       ]
      },
      {
       "output_type": "stream",
       "stream": "stdout",
       "text": [
        "\r",
        "48% [=================>                     ] 580,362,240 1.14MB/s  eta 2m 49s "
       ]
      },
      {
       "output_type": "stream",
       "stream": "stdout",
       "text": [
        "\r",
        "48% [=================>                     ] 580,657,152 1.17MB/s  eta 2m 50s "
       ]
      },
      {
       "output_type": "stream",
       "stream": "stdout",
       "text": [
        "\r",
        "48% [=================>                     ] 580,952,064 1.17MB/s  eta 2m 50s "
       ]
      },
      {
       "output_type": "stream",
       "stream": "stdout",
       "text": [
        "\r",
        "48% [=================>                     ] 581,181,440 1.19MB/s  eta 2m 50s "
       ]
      },
      {
       "output_type": "stream",
       "stream": "stdout",
       "text": [
        "\r",
        "48% [=================>                     ] 581,492,736 1.20MB/s  eta 2m 50s "
       ]
      },
      {
       "output_type": "stream",
       "stream": "stdout",
       "text": [
        "\r",
        "48% [=================>                     ] 581,804,032 1.22MB/s  eta 2m 50s "
       ]
      },
      {
       "output_type": "stream",
       "stream": "stdout",
       "text": [
        "\r",
        "48% [=================>                     ] 582,115,328 1.23MB/s  eta 2m 50s "
       ]
      },
      {
       "output_type": "stream",
       "stream": "stdout",
       "text": [
        "\r",
        "48% [=================>                     ] 582,410,240 1.24MB/s  eta 2m 50s "
       ]
      },
      {
       "output_type": "stream",
       "stream": "stdout",
       "text": [
        "\r",
        "48% [=================>                     ] 582,656,000 1.24MB/s  eta 2m 50s "
       ]
      },
      {
       "output_type": "stream",
       "stream": "stdout",
       "text": [
        "\r",
        "48% [=================>                     ] 582,934,528 1.25MB/s  eta 2m 50s "
       ]
      },
      {
       "output_type": "stream",
       "stream": "stdout",
       "text": [
        "\r",
        "48% [=================>                     ] 583,229,440 1.25MB/s  eta 2m 50s "
       ]
      },
      {
       "output_type": "stream",
       "stream": "stdout",
       "text": [
        "\r",
        "48% [=================>                     ] 583,475,200 1.25MB/s  eta 2m 50s "
       ]
      },
      {
       "output_type": "stream",
       "stream": "stdout",
       "text": [
        "\r",
        "48% [=================>                     ] 583,786,496 1.26MB/s  eta 2m 50s "
       ]
      },
      {
       "output_type": "stream",
       "stream": "stdout",
       "text": [
        "\r",
        "48% [=================>                     ] 584,081,408 1.26MB/s  eta 2m 50s "
       ]
      },
      {
       "output_type": "stream",
       "stream": "stdout",
       "text": [
        "\r",
        "48% [=================>                     ] 584,343,552 1.26MB/s  eta 2m 50s "
       ]
      },
      {
       "output_type": "stream",
       "stream": "stdout",
       "text": [
        "\r",
        "48% [=================>                     ] 584,654,848 1.27MB/s  eta 2m 50s "
       ]
      },
      {
       "output_type": "stream",
       "stream": "stdout",
       "text": [
        "\r",
        "48% [==================>                    ] 584,966,144 1.28MB/s  eta 2m 51s "
       ]
      },
      {
       "output_type": "stream",
       "stream": "stdout",
       "text": [
        "\r",
        "48% [==================>                    ] 585,244,672 1.28MB/s  eta 2m 51s "
       ]
      },
      {
       "output_type": "stream",
       "stream": "stdout",
       "text": [
        "\r",
        "48% [==================>                    ] 585,555,968 1.29MB/s  eta 2m 51s "
       ]
      },
      {
       "output_type": "stream",
       "stream": "stdout",
       "text": [
        "\r",
        "48% [==================>                    ] 585,900,032 1.31MB/s  eta 2m 51s "
       ]
      },
      {
       "output_type": "stream",
       "stream": "stdout",
       "text": [
        "\r",
        "48% [==================>                    ] 586,211,328 1.32MB/s  eta 2m 51s "
       ]
      },
      {
       "output_type": "stream",
       "stream": "stdout",
       "text": [
        "\r",
        "48% [==================>                    ] 586,555,392 1.34MB/s  eta 2m 51s "
       ]
      },
      {
       "output_type": "stream",
       "stream": "stdout",
       "text": [
        "\r",
        "48% [==================>                    ] 586,932,224 1.37MB/s  eta 2m 51s "
       ]
      },
      {
       "output_type": "stream",
       "stream": "stdout",
       "text": [
        "\r",
        "48% [==================>                    ] 587,276,288 1.39MB/s  eta 2m 51s "
       ]
      },
      {
       "output_type": "stream",
       "stream": "stdout",
       "text": [
        "\r",
        "48% [==================>                    ] 587,653,120 1.42MB/s  eta 2m 51s "
       ]
      },
      {
       "output_type": "stream",
       "stream": "stdout",
       "text": [
        "\r",
        "48% [==================>                    ] 588,079,104 1.46MB/s  eta 2m 51s "
       ]
      },
      {
       "output_type": "stream",
       "stream": "stdout",
       "text": [
        "\r",
        "49% [==================>                    ] 588,472,320 1.50MB/s  eta 2m 51s "
       ]
      },
      {
       "output_type": "stream",
       "stream": "stdout",
       "text": [
        "\r",
        "49% [==================>                    ] 588,914,688 1.54MB/s  eta 2m 51s "
       ]
      },
      {
       "output_type": "stream",
       "stream": "stdout",
       "text": [
        "\r",
        "49% [==================>                    ] 589,389,824 1.60MB/s  eta 2m 51s "
       ]
      },
      {
       "output_type": "stream",
       "stream": "stdout",
       "text": [
        "\r",
        "49% [==================>                    ] 589,799,424 1.63MB/s  eta 2m 51s "
       ]
      },
      {
       "output_type": "stream",
       "stream": "stdout",
       "text": [
        "\r",
        "49% [==================>                    ] 590,323,712 1.71MB/s  eta 2m 51s "
       ]
      },
      {
       "output_type": "stream",
       "stream": "stdout",
       "text": [
        "\r",
        "49% [==================>                    ] 590,798,848 1.77MB/s  eta 2m 51s "
       ]
      },
      {
       "output_type": "stream",
       "stream": "stdout",
       "text": [
        "\r",
        "49% [==================>                    ] 591,355,904 1.84MB/s  eta 2m 51s "
       ]
      },
      {
       "output_type": "stream",
       "stream": "stdout",
       "text": [
        "\r",
        "49% [==================>                    ] 591,896,576 1.92MB/s  eta 2m 51s "
       ]
      },
      {
       "output_type": "stream",
       "stream": "stdout",
       "text": [
        "\r",
        "49% [==================>                    ] 592,519,168 2.01MB/s  eta 2m 51s "
       ]
      },
      {
       "output_type": "stream",
       "stream": "stdout",
       "text": [
        "\r",
        "49% [==================>                    ] 593,108,992 2.08MB/s  eta 2m 51s "
       ]
      },
      {
       "output_type": "stream",
       "stream": "stdout",
       "text": [
        "\r",
        "49% [==================>                    ] 593,797,120 2.21MB/s  eta 2m 50s "
       ]
      },
      {
       "output_type": "stream",
       "stream": "stdout",
       "text": [
        "\r",
        "49% [==================>                    ] 594,452,480 2.30MB/s  eta 2m 50s "
       ]
      },
      {
       "output_type": "stream",
       "stream": "stdout",
       "text": [
        "\r",
        "49% [==================>                    ] 595,255,296 2.42MB/s  eta 2m 50s "
       ]
      },
      {
       "output_type": "stream",
       "stream": "stdout",
       "text": [
        "\r",
        "49% [==================>                    ] 596,074,496 2.59MB/s  eta 2m 50s "
       ]
      },
      {
       "output_type": "stream",
       "stream": "stdout",
       "text": [
        "\r",
        "49% [==================>                    ] 596,910,080 2.72MB/s  eta 2m 50s "
       ]
      },
      {
       "output_type": "stream",
       "stream": "stdout",
       "text": [
        "\r",
        "49% [==================>                    ] 597,827,584 2.85MB/s  eta 2m 49s "
       ]
      },
      {
       "output_type": "stream",
       "stream": "stdout",
       "text": [
        "\r",
        "49% [==================>                    ] 598,728,704 3.03MB/s  eta 2m 49s "
       ]
      },
      {
       "output_type": "stream",
       "stream": "stdout",
       "text": [
        "\r",
        "49% [==================>                    ] 599,760,896 3.21MB/s  eta 2m 49s "
       ]
      },
      {
       "output_type": "stream",
       "stream": "stdout",
       "text": [
        "\r",
        "50% [==================>                    ] 600,776,704 3.36MB/s  eta 2m 49s "
       ]
      },
      {
       "output_type": "stream",
       "stream": "stdout",
       "text": [
        "\r",
        "50% [==================>                    ] 601,890,816 3.54MB/s  eta 2m 49s "
       ]
      },
      {
       "output_type": "stream",
       "stream": "stdout",
       "text": [
        "\r",
        "50% [==================>                    ] 603,054,080 3.79MB/s  eta 2m 47s "
       ]
      },
      {
       "output_type": "stream",
       "stream": "stdout",
       "text": [
        "\r",
        "50% [==================>                    ] 604,299,264 3.99MB/s  eta 2m 47s "
       ]
      },
      {
       "output_type": "stream",
       "stream": "stdout",
       "text": [
        "\r",
        "50% [==================>                    ] 605,560,832 4.19MB/s  eta 2m 47s "
       ]
      },
      {
       "output_type": "stream",
       "stream": "stdout",
       "text": [
        "\r",
        "50% [==================>                    ] 606,969,856 4.40MB/s  eta 2m 47s "
       ]
      },
      {
       "output_type": "stream",
       "stream": "stdout",
       "text": [
        "\r",
        "50% [==================>                    ] 608,395,264 4.70MB/s  eta 2m 47s "
       ]
      },
      {
       "output_type": "stream",
       "stream": "stdout",
       "text": [
        "\r",
        "50% [==================>                    ] 609,853,440 4.93MB/s  eta 2m 44s "
       ]
      },
      {
       "output_type": "stream",
       "stream": "stdout",
       "text": [
        "\r",
        "50% [==================>                    ] 610,967,552 5.02MB/s  eta 2m 44s "
       ]
      },
      {
       "output_type": "stream",
       "stream": "stdout",
       "text": [
        "\r",
        "50% [==================>                    ] 612,179,968 5.14MB/s  eta 2m 44s "
       ]
      },
      {
       "output_type": "stream",
       "stream": "stdout",
       "text": [
        "\r",
        "51% [==================>                    ] 613,294,080 5.32MB/s  eta 2m 44s "
       ]
      },
      {
       "output_type": "stream",
       "stream": "stdout",
       "text": [
        "\r",
        "51% [==================>                    ] 614,572,032 5.44MB/s  eta 2m 44s "
       ]
      },
      {
       "output_type": "stream",
       "stream": "stdout",
       "text": [
        "\r",
        "51% [===================>                   ] 615,768,064 5.53MB/s  eta 2m 42s "
       ]
      },
      {
       "output_type": "stream",
       "stream": "stdout",
       "text": [
        "\r",
        "51% [===================>                   ] 617,078,784 5.69MB/s  eta 2m 42s "
       ]
      },
      {
       "output_type": "stream",
       "stream": "stdout",
       "text": [
        "\r",
        "51% [===================>                   ] 618,438,656 5.80MB/s  eta 2m 42s "
       ]
      },
      {
       "output_type": "stream",
       "stream": "stdout",
       "text": [
        "\r",
        "51% [===================>                   ] 619,700,224 5.86MB/s  eta 2m 42s "
       ]
      },
      {
       "output_type": "stream",
       "stream": "stdout",
       "text": [
        "\r",
        "51% [===================>                   ] 621,158,400 6.02MB/s  eta 2m 42s "
       ]
      },
      {
       "output_type": "stream",
       "stream": "stdout",
       "text": [
        "\r",
        "51% [===================>                   ] 622,419,968 6.06MB/s  eta 2m 39s "
       ]
      },
      {
       "output_type": "stream",
       "stream": "stdout",
       "text": [
        "\r",
        "51% [===================>                   ] 623,910,912 6.14MB/s  eta 2m 39s "
       ]
      },
      {
       "output_type": "stream",
       "stream": "stdout",
       "text": [
        "\r",
        "52% [===================>                   ] 624,746,496 5.98MB/s  eta 2m 39s "
       ]
      },
      {
       "output_type": "stream",
       "stream": "stdout",
       "text": [
        "\r",
        "52% [===================>                   ] 625,319,936 5.72MB/s  eta 2m 39s "
       ]
      },
      {
       "output_type": "stream",
       "stream": "stdout",
       "text": [
        "\r",
        "52% [===================>                   ] 626,417,664 5.65MB/s  eta 2m 39s "
       ]
      },
      {
       "output_type": "stream",
       "stream": "stdout",
       "text": [
        "\r",
        "52% [===================>                   ] 626,941,952 5.39MB/s  eta 2m 38s "
       ]
      },
      {
       "output_type": "stream",
       "stream": "stdout",
       "text": [
        "\r",
        "52% [===================>                   ] 627,499,008 5.24MB/s  eta 2m 38s "
       ]
      },
      {
       "output_type": "stream",
       "stream": "stdout",
       "text": [
        "\r",
        "52% [===================>                   ] 628,006,912 4.92MB/s  eta 2m 38s "
       ]
      },
      {
       "output_type": "stream",
       "stream": "stdout",
       "text": [
        "\r",
        "52% [===================>                   ] 628,547,584 4.75MB/s  eta 2m 38s "
       ]
      },
      {
       "output_type": "stream",
       "stream": "stdout",
       "text": [
        "\r",
        "52% [===================>                   ] 629,071,872 4.57MB/s  eta 2m 38s "
       ]
      },
      {
       "output_type": "stream",
       "stream": "stdout",
       "text": [
        "\r",
        "52% [===================>                   ] 629,645,312 4.34MB/s  eta 2m 37s "
       ]
      },
      {
       "output_type": "stream",
       "stream": "stdout",
       "text": [
        "\r",
        "52% [===================>                   ] 630,202,368 4.16MB/s  eta 2m 37s "
       ]
      },
      {
       "output_type": "stream",
       "stream": "stdout",
       "text": [
        "\r",
        "52% [===================>                   ] 630,759,424 3.97MB/s  eta 2m 37s "
       ]
      },
      {
       "output_type": "stream",
       "stream": "stdout",
       "text": [
        "\r",
        "52% [===================>                   ] 631,316,480 3.78MB/s  eta 2m 37s "
       ]
      },
      {
       "output_type": "stream",
       "stream": "stdout",
       "text": [
        "\r",
        "52% [===================>                   ] 631,906,304 3.48MB/s  eta 2m 37s "
       ]
      },
      {
       "output_type": "stream",
       "stream": "stdout",
       "text": [
        "\r",
        "52% [===================>                   ] 632,496,128 3.28MB/s  eta 2m 37s "
       ]
      },
      {
       "output_type": "stream",
       "stream": "stdout",
       "text": [
        "\r",
        "52% [===================>                   ] 633,102,336 3.12MB/s  eta 2m 37s "
       ]
      },
      {
       "output_type": "stream",
       "stream": "stdout",
       "text": [
        "\r",
        "52% [===================>                   ] 633,659,392 2.78MB/s  eta 2m 37s "
       ]
      },
      {
       "output_type": "stream",
       "stream": "stdout",
       "text": [
        "\r",
        "52% [===================>                   ] 634,298,368 2.78MB/s  eta 2m 37s "
       ]
      },
      {
       "output_type": "stream",
       "stream": "stdout",
       "text": [
        "\r",
        "52% [===================>                   ] 634,871,808 2.80MB/s  eta 2m 37s "
       ]
      },
      {
       "output_type": "stream",
       "stream": "stdout",
       "text": [
        "\r",
        "52% [===================>                   ] 635,478,016 2.64MB/s  eta 2m 36s "
       ]
      },
      {
       "output_type": "stream",
       "stream": "stdout",
       "text": [
        "\r",
        "52% [===================>                   ] 636,067,840 2.67MB/s  eta 2m 36s "
       ]
      },
      {
       "output_type": "stream",
       "stream": "stdout",
       "text": [
        "\r",
        "53% [===================>                   ] 636,657,664 2.69MB/s  eta 2m 36s "
       ]
      },
      {
       "output_type": "stream",
       "stream": "stdout",
       "text": [
        "\r",
        "53% [===================>                   ] 637,263,872 2.71MB/s  eta 2m 36s "
       ]
      },
      {
       "output_type": "stream",
       "stream": "stdout",
       "text": [
        "\r",
        "53% [===================>                   ] 637,820,928 2.73MB/s  eta 2m 36s "
       ]
      },
      {
       "output_type": "stream",
       "stream": "stdout",
       "text": [
        "\r",
        "53% [===================>                   ] 638,443,520 2.75MB/s  eta 2m 35s "
       ]
      },
      {
       "output_type": "stream",
       "stream": "stdout",
       "text": [
        "\r",
        "53% [===================>                   ] 639,000,576 2.74MB/s  eta 2m 35s "
       ]
      },
      {
       "output_type": "stream",
       "stream": "stdout",
       "text": [
        "\r",
        "53% [===================>                   ] 639,655,936 2.77MB/s  eta 2m 35s "
       ]
      },
      {
       "output_type": "stream",
       "stream": "stdout",
       "text": [
        "\r",
        "53% [===================>                   ] 640,278,528 2.79MB/s  eta 2m 35s "
       ]
      },
      {
       "output_type": "stream",
       "stream": "stdout",
       "text": [
        "\r",
        "53% [===================>                   ] 640,835,584 2.78MB/s  eta 2m 35s "
       ]
      },
      {
       "output_type": "stream",
       "stream": "stdout",
       "text": [
        "\r",
        "53% [===================>                   ] 641,376,256 2.77MB/s  eta 2m 35s "
       ]
      },
      {
       "output_type": "stream",
       "stream": "stdout",
       "text": [
        "\r",
        "53% [===================>                   ] 641,933,312 2.71MB/s  eta 2m 35s "
       ]
      },
      {
       "output_type": "stream",
       "stream": "stdout",
       "text": [
        "\r",
        "53% [===================>                   ] 642,555,904 2.71MB/s  eta 2m 35s "
       ]
      },
      {
       "output_type": "stream",
       "stream": "stdout",
       "text": [
        "\r",
        "53% [===================>                   ] 643,047,424 2.68MB/s  eta 2m 35s "
       ]
      },
      {
       "output_type": "stream",
       "stream": "stdout",
       "text": [
        "\r",
        "53% [===================>                   ] 643,457,024 2.63MB/s  eta 2m 35s "
       ]
      },
      {
       "output_type": "stream",
       "stream": "stdout",
       "text": [
        "\r",
        "53% [===================>                   ] 643,997,696 2.59MB/s  eta 2m 34s "
       ]
      },
      {
       "output_type": "stream",
       "stream": "stdout",
       "text": [
        "\r",
        "53% [===================>                   ] 644,521,984 2.57MB/s  eta 2m 34s "
       ]
      },
      {
       "output_type": "stream",
       "stream": "stdout",
       "text": [
        "\r",
        "53% [===================>                   ] 645,029,888 2.54MB/s  eta 2m 34s "
       ]
      },
      {
       "output_type": "stream",
       "stream": "stdout",
       "text": [
        "\r",
        "53% [===================>                   ] 645,603,328 2.52MB/s  eta 2m 34s "
       ]
      },
      {
       "output_type": "stream",
       "stream": "stdout",
       "text": [
        "\r",
        "53% [===================>                   ] 646,176,768 2.51MB/s  eta 2m 34s "
       ]
      },
      {
       "output_type": "stream",
       "stream": "stdout",
       "text": [
        "\r",
        "53% [====================>                  ] 646,717,440 2.49MB/s  eta 2m 34s "
       ]
      },
      {
       "output_type": "stream",
       "stream": "stdout",
       "text": [
        "\r",
        "53% [====================>                  ] 647,307,264 2.49MB/s  eta 2m 34s "
       ]
      },
      {
       "output_type": "stream",
       "stream": "stdout",
       "text": [
        "\r",
        "53% [====================>                  ] 647,815,168 2.46MB/s  eta 2m 34s "
       ]
      },
      {
       "output_type": "stream",
       "stream": "stdout",
       "text": [
        "\r",
        "54% [====================>                  ] 648,421,376 2.46MB/s  eta 2m 34s "
       ]
      },
      {
       "output_type": "stream",
       "stream": "stdout",
       "text": [
        "\r",
        "54% [====================>                  ] 648,929,280 2.44MB/s  eta 2m 34s "
       ]
      },
      {
       "output_type": "stream",
       "stream": "stdout",
       "text": [
        "\r",
        "54% [====================>                  ] 649,568,256 2.45MB/s  eta 2m 33s "
       ]
      },
      {
       "output_type": "stream",
       "stream": "stdout",
       "text": [
        "\r",
        "54% [====================>                  ] 650,158,080 2.46MB/s  eta 2m 33s "
       ]
      },
      {
       "output_type": "stream",
       "stream": "stdout",
       "text": [
        "\r",
        "54% [====================>                  ] 650,731,520 2.49MB/s  eta 2m 33s "
       ]
      },
      {
       "output_type": "stream",
       "stream": "stdout",
       "text": [
        "\r",
        "54% [====================>                  ] 651,173,888 2.49MB/s  eta 2m 33s "
       ]
      },
      {
       "output_type": "stream",
       "stream": "stdout",
       "text": [
        "\r",
        "54% [====================>                  ] 651,649,024 2.48MB/s  eta 2m 33s "
       ]
      },
      {
       "output_type": "stream",
       "stream": "stdout",
       "text": [
        "\r",
        "54% [====================>                  ] 652,107,776 2.49MB/s  eta 2m 33s "
       ]
      },
      {
       "output_type": "stream",
       "stream": "stdout",
       "text": [
        "\r",
        "54% [====================>                  ] 652,533,760 2.46MB/s  eta 2m 33s "
       ]
      },
      {
       "output_type": "stream",
       "stream": "stdout",
       "text": [
        "\r",
        "54% [====================>                  ] 653,041,664 2.46MB/s  eta 2m 33s "
       ]
      },
      {
       "output_type": "stream",
       "stream": "stdout",
       "text": [
        "\r",
        "54% [====================>                  ] 653,500,416 2.44MB/s  eta 2m 33s "
       ]
      },
      {
       "output_type": "stream",
       "stream": "stdout",
       "text": [
        "\r",
        "54% [====================>                  ] 653,991,936 2.43MB/s  eta 2m 33s "
       ]
      },
      {
       "output_type": "stream",
       "stream": "stdout",
       "text": [
        "\r",
        "54% [====================>                  ] 654,483,456 2.42MB/s  eta 2m 33s "
       ]
      },
      {
       "output_type": "stream",
       "stream": "stdout",
       "text": [
        "\r",
        "54% [====================>                  ] 654,958,592 2.39MB/s  eta 2m 33s "
       ]
      },
      {
       "output_type": "stream",
       "stream": "stdout",
       "text": [
        "\r",
        "54% [====================>                  ] 655,482,880 2.38MB/s  eta 2m 33s "
       ]
      },
      {
       "output_type": "stream",
       "stream": "stdout",
       "text": [
        "\r",
        "54% [====================>                  ] 655,958,016 2.35MB/s  eta 2m 33s "
       ]
      },
      {
       "output_type": "stream",
       "stream": "stdout",
       "text": [
        "\r",
        "54% [====================>                  ] 656,465,920 2.35MB/s  eta 2m 33s "
       ]
      },
      {
       "output_type": "stream",
       "stream": "stdout",
       "text": [
        "\r",
        "54% [====================>                  ] 656,973,824 2.32MB/s  eta 2m 32s "
       ]
      },
      {
       "output_type": "stream",
       "stream": "stdout",
       "text": [
        "\r",
        "54% [====================>                  ] 657,465,344 2.30MB/s  eta 2m 32s "
       ]
      },
      {
       "output_type": "stream",
       "stream": "stdout",
       "text": [
        "\r",
        "54% [====================>                  ] 657,973,248 2.29MB/s  eta 2m 32s "
       ]
      },
      {
       "output_type": "stream",
       "stream": "stdout",
       "text": [
        "\r",
        "54% [====================>                  ] 658,464,768 2.30MB/s  eta 2m 32s "
       ]
      },
      {
       "output_type": "stream",
       "stream": "stdout",
       "text": [
        "\r",
        "54% [====================>                  ] 659,005,440 2.28MB/s  eta 2m 32s "
       ]
      },
      {
       "output_type": "stream",
       "stream": "stdout",
       "text": [
        "\r",
        "54% [====================>                  ] 659,464,192 2.28MB/s  eta 2m 32s "
       ]
      },
      {
       "output_type": "stream",
       "stream": "stdout",
       "text": [
        "\r",
        "54% [====================>                  ] 660,004,864 2.30MB/s  eta 2m 32s "
       ]
      },
      {
       "output_type": "stream",
       "stream": "stdout",
       "text": [
        "\r",
        "55% [====================>                  ] 660,480,000 2.31MB/s  eta 2m 32s "
       ]
      },
      {
       "output_type": "stream",
       "stream": "stdout",
       "text": [
        "\r",
        "55% [====================>                  ] 660,987,904 2.32MB/s  eta 2m 32s "
       ]
      },
      {
       "output_type": "stream",
       "stream": "stdout",
       "text": [
        "\r",
        "55% [====================>                  ] 661,463,040 2.32MB/s  eta 2m 32s "
       ]
      },
      {
       "output_type": "stream",
       "stream": "stdout",
       "text": [
        "\r",
        "55% [====================>                  ] 662,020,096 2.33MB/s  eta 2m 31s "
       ]
      },
      {
       "output_type": "stream",
       "stream": "stdout",
       "text": [
        "\r",
        "55% [====================>                  ] 662,544,384 2.34MB/s  eta 2m 31s "
       ]
      },
      {
       "output_type": "stream",
       "stream": "stdout",
       "text": [
        "\r",
        "55% [====================>                  ] 663,035,904 2.34MB/s  eta 2m 31s "
       ]
      },
      {
       "output_type": "stream",
       "stream": "stdout",
       "text": [
        "\r",
        "55% [====================>                  ] 663,543,808 2.34MB/s  eta 2m 31s "
       ]
      },
      {
       "output_type": "stream",
       "stream": "stdout",
       "text": [
        "\r",
        "55% [====================>                  ] 664,018,944 2.34MB/s  eta 2m 31s "
       ]
      },
      {
       "output_type": "stream",
       "stream": "stdout",
       "text": [
        "\r",
        "55% [====================>                  ] 664,526,848 2.34MB/s  eta 2m 31s "
       ]
      },
      {
       "output_type": "stream",
       "stream": "stdout",
       "text": [
        "\r",
        "55% [====================>                  ] 665,051,136 2.35MB/s  eta 2m 31s "
       ]
      },
      {
       "output_type": "stream",
       "stream": "stdout",
       "text": [
        "\r",
        "55% [====================>                  ] 665,526,272 2.34MB/s  eta 2m 31s "
       ]
      },
      {
       "output_type": "stream",
       "stream": "stdout",
       "text": [
        "\r",
        "55% [====================>                  ] 666,083,328 2.36MB/s  eta 2m 31s "
       ]
      },
      {
       "output_type": "stream",
       "stream": "stdout",
       "text": [
        "\r",
        "55% [====================>                  ] 666,591,232 2.36MB/s  eta 2m 31s "
       ]
      },
      {
       "output_type": "stream",
       "stream": "stdout",
       "text": [
        "\r",
        "55% [====================>                  ] 667,131,904 2.37MB/s  eta 2m 30s "
       ]
      },
      {
       "output_type": "stream",
       "stream": "stdout",
       "text": [
        "\r",
        "55% [====================>                  ] 667,639,808 2.37MB/s  eta 2m 30s "
       ]
      },
      {
       "output_type": "stream",
       "stream": "stdout",
       "text": [
        "\r",
        "55% [====================>                  ] 668,196,864 2.38MB/s  eta 2m 30s "
       ]
      },
      {
       "output_type": "stream",
       "stream": "stdout",
       "text": [
        "\r",
        "55% [====================>                  ] 668,737,536 2.39MB/s  eta 2m 30s "
       ]
      },
      {
       "output_type": "stream",
       "stream": "stdout",
       "text": [
        "\r",
        "55% [====================>                  ] 669,310,976 2.42MB/s  eta 2m 30s "
       ]
      },
      {
       "output_type": "stream",
       "stream": "stdout",
       "text": [
        "\r",
        "55% [====================>                  ] 669,900,800 2.45MB/s  eta 2m 30s "
       ]
      },
      {
       "output_type": "stream",
       "stream": "stdout",
       "text": [
        "\r",
        "55% [====================>                  ] 670,441,472 2.47MB/s  eta 2m 30s "
       ]
      },
      {
       "output_type": "stream",
       "stream": "stdout",
       "text": [
        "\r",
        "55% [====================>                  ] 671,064,064 2.49MB/s  eta 2m 30s "
       ]
      },
      {
       "output_type": "stream",
       "stream": "stdout",
       "text": [
        "\r",
        "55% [====================>                  ] 671,653,888 2.52MB/s  eta 2m 30s "
       ]
      },
      {
       "output_type": "stream",
       "stream": "stdout",
       "text": [
        "\r",
        "55% [====================>                  ] 672,292,864 2.55MB/s  eta 2m 30s "
       ]
      },
      {
       "output_type": "stream",
       "stream": "stdout",
       "text": [
        "\r",
        "56% [====================>                  ] 672,931,840 2.59MB/s  eta 2m 29s "
       ]
      },
      {
       "output_type": "stream",
       "stream": "stdout",
       "text": [
        "\r",
        "56% [====================>                  ] 673,554,432 2.62MB/s  eta 2m 29s "
       ]
      },
      {
       "output_type": "stream",
       "stream": "stdout",
       "text": [
        "\r",
        "56% [====================>                  ] 674,226,176 2.69MB/s  eta 2m 29s "
       ]
      },
      {
       "output_type": "stream",
       "stream": "stdout",
       "text": [
        "\r",
        "56% [====================>                  ] 674,897,920 2.73MB/s  eta 2m 29s "
       ]
      },
      {
       "output_type": "stream",
       "stream": "stdout",
       "text": [
        "\r",
        "56% [====================>                  ] 675,635,200 2.79MB/s  eta 2m 29s "
       ]
      },
      {
       "output_type": "stream",
       "stream": "stdout",
       "text": [
        "\r",
        "56% [====================>                  ] 676,339,712 2.86MB/s  eta 2m 28s "
       ]
      },
      {
       "output_type": "stream",
       "stream": "stdout",
       "text": [
        "\r",
        "56% [====================>                  ] 677,191,680 2.95MB/s  eta 2m 28s "
       ]
      },
      {
       "output_type": "stream",
       "stream": "stdout",
       "text": [
        "\r",
        "56% [=====================>                 ] 677,912,576 3.00MB/s  eta 2m 28s "
       ]
      },
      {
       "output_type": "stream",
       "stream": "stdout",
       "text": [
        "\r",
        "56% [=====================>                 ] 678,469,632 2.99MB/s  eta 2m 28s "
       ]
      },
      {
       "output_type": "stream",
       "stream": "stdout",
       "text": [
        "\r",
        "56% [=====================>                 ] 679,370,752 3.11MB/s  eta 2m 28s "
       ]
      },
      {
       "output_type": "stream",
       "stream": "stdout",
       "text": [
        "\r",
        "56% [=====================>                 ] 679,993,344 3.13MB/s  eta 2m 27s "
       ]
      },
      {
       "output_type": "stream",
       "stream": "stdout",
       "text": [
        "\r",
        "56% [=====================>                 ] 680,665,088 3.15MB/s  eta 2m 27s "
       ]
      },
      {
       "output_type": "stream",
       "stream": "stdout",
       "text": [
        "\r",
        "56% [=====================>                 ] 681,336,832 3.19MB/s  eta 2m 27s "
       ]
      },
      {
       "output_type": "stream",
       "stream": "stdout",
       "text": [
        "\r",
        "56% [=====================>                 ] 682,041,344 3.21MB/s  eta 2m 27s "
       ]
      },
      {
       "output_type": "stream",
       "stream": "stdout",
       "text": [
        "\r",
        "56% [=====================>                 ] 682,745,856 3.24MB/s  eta 2m 27s "
       ]
      },
      {
       "output_type": "stream",
       "stream": "stdout",
       "text": [
        "\r",
        "56% [=====================>                 ] 683,499,520 3.27MB/s  eta 2m 26s "
       ]
      },
      {
       "output_type": "stream",
       "stream": "stdout",
       "text": [
        "\r",
        "56% [=====================>                 ] 684,269,568 3.33MB/s  eta 2m 26s "
       ]
      },
      {
       "output_type": "stream",
       "stream": "stdout",
       "text": [
        "\r",
        "57% [=====================>                 ] 685,039,616 3.36MB/s  eta 2m 26s "
       ]
      },
      {
       "output_type": "stream",
       "stream": "stdout",
       "text": [
        "\r",
        "57% [=====================>                 ] 685,809,664 3.39MB/s  eta 2m 26s "
       ]
      },
      {
       "output_type": "stream",
       "stream": "stdout",
       "text": [
        "\r",
        "57% [=====================>                 ] 686,579,712 3.41MB/s  eta 2m 26s "
       ]
      },
      {
       "output_type": "stream",
       "stream": "stdout",
       "text": [
        "\r",
        "57% [=====================>                 ] 687,382,528 3.45MB/s  eta 2m 25s "
       ]
      },
      {
       "output_type": "stream",
       "stream": "stdout",
       "text": [
        "\r",
        "57% [=====================>                 ] 688,168,960 3.46MB/s  eta 2m 25s "
       ]
      },
      {
       "output_type": "stream",
       "stream": "stdout",
       "text": [
        "\r",
        "57% [=====================>                 ] 688,988,160 3.47MB/s  eta 2m 25s "
       ]
      },
      {
       "output_type": "stream",
       "stream": "stdout",
       "text": [
        "\r",
        "57% [=====================>                 ] 689,790,976 3.47MB/s  eta 2m 25s "
       ]
      },
      {
       "output_type": "stream",
       "stream": "stdout",
       "text": [
        "\r",
        "57% [=====================>                 ] 690,642,944 3.48MB/s  eta 2m 25s "
       ]
      },
      {
       "output_type": "stream",
       "stream": "stdout",
       "text": [
        "\r",
        "57% [=====================>                 ] 691,445,760 3.54MB/s  eta 2m 24s "
       ]
      },
      {
       "output_type": "stream",
       "stream": "stdout",
       "text": [
        "\r",
        "57% [=====================>                 ] 692,248,576 3.62MB/s  eta 2m 24s "
       ]
      },
      {
       "output_type": "stream",
       "stream": "stdout",
       "text": [
        "\r",
        "57% [=====================>                 ] 693,067,776 3.66MB/s  eta 2m 24s "
       ]
      },
      {
       "output_type": "stream",
       "stream": "stdout",
       "text": [
        "\r",
        "57% [=====================>                 ] 693,919,744 3.70MB/s  eta 2m 24s "
       ]
      },
      {
       "output_type": "stream",
       "stream": "stdout",
       "text": [
        "\r",
        "57% [=====================>                 ] 694,788,096 3.76MB/s  eta 2m 24s "
       ]
      },
      {
       "output_type": "stream",
       "stream": "stdout",
       "text": [
        "\r",
        "57% [=====================>                 ] 695,590,912 3.78MB/s  eta 2m 22s "
       ]
      },
      {
       "output_type": "stream",
       "stream": "stdout",
       "text": [
        "\r",
        "58% [=====================>                 ] 696,475,648 3.81MB/s  eta 2m 22s "
       ]
      },
      {
       "output_type": "stream",
       "stream": "stdout",
       "text": [
        "\r",
        "58% [=====================>                 ] 697,278,464 3.84MB/s  eta 2m 22s "
       ]
      },
      {
       "output_type": "stream",
       "stream": "stdout",
       "text": [
        "\r",
        "58% [=====================>                 ] 698,114,048 3.86MB/s  eta 2m 22s "
       ]
      },
      {
       "output_type": "stream",
       "stream": "stdout",
       "text": [
        "\r",
        "58% [=====================>                 ] 698,933,248 3.87MB/s  eta 2m 22s "
       ]
      },
      {
       "output_type": "stream",
       "stream": "stdout",
       "text": [
        "\r",
        "58% [=====================>                 ] 699,768,832 3.88MB/s  eta 2m 21s "
       ]
      },
      {
       "output_type": "stream",
       "stream": "stdout",
       "text": [
        "\r",
        "58% [=====================>                 ] 700,620,800 3.90MB/s  eta 2m 21s "
       ]
      },
      {
       "output_type": "stream",
       "stream": "stdout",
       "text": [
        "\r",
        "58% [=====================>                 ] 701,489,152 3.92MB/s  eta 2m 21s "
       ]
      },
      {
       "output_type": "stream",
       "stream": "stdout",
       "text": [
        "\r",
        "58% [=====================>                 ] 702,324,736 3.92MB/s  eta 2m 21s "
       ]
      },
      {
       "output_type": "stream",
       "stream": "stdout",
       "text": [
        "\r",
        "58% [=====================>                 ] 703,176,704 3.92MB/s  eta 2m 21s "
       ]
      },
      {
       "output_type": "stream",
       "stream": "stdout",
       "text": [
        "\r",
        "58% [=====================>                 ] 704,012,288 3.94MB/s  eta 2m 20s "
       ]
      },
      {
       "output_type": "stream",
       "stream": "stdout",
       "text": [
        "\r",
        "58% [=====================>                 ] 704,864,256 3.94MB/s  eta 2m 20s "
       ]
      },
      {
       "output_type": "stream",
       "stream": "stdout",
       "text": [
        "\r",
        "58% [=====================>                 ] 705,683,456 3.95MB/s  eta 2m 20s "
       ]
      },
      {
       "output_type": "stream",
       "stream": "stdout",
       "text": [
        "\r",
        "58% [=====================>                 ] 706,535,424 3.95MB/s  eta 2m 20s "
       ]
      },
      {
       "output_type": "stream",
       "stream": "stdout",
       "text": [
        "\r",
        "58% [=====================>                 ] 707,338,240 3.95MB/s  eta 2m 20s "
       ]
      },
      {
       "output_type": "stream",
       "stream": "stdout",
       "text": [
        "\r",
        "58% [======================>                ] 708,157,440 3.93MB/s  eta 2m 18s "
       ]
      },
      {
       "output_type": "stream",
       "stream": "stdout",
       "text": [
        "\r",
        "59% [======================>                ] 709,042,176 3.96MB/s  eta 2m 18s "
       ]
      },
      {
       "output_type": "stream",
       "stream": "stdout",
       "text": [
        "\r",
        "59% [======================>                ] 709,828,608 3.95MB/s  eta 2m 18s "
       ]
      },
      {
       "output_type": "stream",
       "stream": "stdout",
       "text": [
        "\r",
        "59% [======================>                ] 710,729,728 3.96MB/s  eta 2m 18s "
       ]
      },
      {
       "output_type": "stream",
       "stream": "stdout",
       "text": [
        "\r",
        "59% [======================>                ] 711,532,544 3.96MB/s  eta 2m 18s "
       ]
      },
      {
       "output_type": "stream",
       "stream": "stdout",
       "text": [
        "\r",
        "59% [======================>                ] 712,433,664 3.98MB/s  eta 2m 17s "
       ]
      },
      {
       "output_type": "stream",
       "stream": "stdout",
       "text": [
        "\r",
        "59% [======================>                ] 713,252,864 3.97MB/s  eta 2m 17s "
       ]
      },
      {
       "output_type": "stream",
       "stream": "stdout",
       "text": [
        "\r",
        "59% [======================>                ] 714,022,912 3.88MB/s  eta 2m 17s "
       ]
      },
      {
       "output_type": "stream",
       "stream": "stdout",
       "text": [
        "\r",
        "59% [======================>                ] 715,005,952 3.91MB/s  eta 2m 17s "
       ]
      },
      {
       "output_type": "stream",
       "stream": "stdout",
       "text": [
        "\r",
        "59% [======================>                ] 715,710,464 3.87MB/s  eta 2m 17s "
       ]
      },
      {
       "output_type": "stream",
       "stream": "stdout",
       "text": [
        "\r",
        "59% [======================>                ] 716,349,440 3.82MB/s  eta 2m 16s "
       ]
      },
      {
       "output_type": "stream",
       "stream": "stdout",
       "text": [
        "\r",
        "59% [======================>                ] 717,070,336 3.76MB/s  eta 2m 16s "
       ]
      },
      {
       "output_type": "stream",
       "stream": "stdout",
       "text": [
        "\r",
        "59% [======================>                ] 717,758,464 3.72MB/s  eta 2m 16s "
       ]
      },
      {
       "output_type": "stream",
       "stream": "stdout",
       "text": [
        "\r",
        "59% [======================>                ] 718,462,976 3.69MB/s  eta 2m 16s "
       ]
      },
      {
       "output_type": "stream",
       "stream": "stdout",
       "text": [
        "\r",
        "59% [======================>                ] 719,265,792 3.67MB/s  eta 2m 16s "
       ]
      },
      {
       "output_type": "stream",
       "stream": "stdout",
       "text": [
        "\r",
        "59% [======================>                ] 719,986,688 3.64MB/s  eta 2m 15s "
       ]
      },
      {
       "output_type": "stream",
       "stream": "stdout",
       "text": [
        "\r",
        "60% [======================>                ] 720,822,272 3.64MB/s  eta 2m 15s "
       ]
      },
      {
       "output_type": "stream",
       "stream": "stdout",
       "text": [
        "\r",
        "60% [======================>                ] 721,575,936 3.61MB/s  eta 2m 15s "
       ]
      },
      {
       "output_type": "stream",
       "stream": "stdout",
       "text": [
        "\r",
        "60% [======================>                ] 722,460,672 3.63MB/s  eta 2m 15s "
       ]
      },
      {
       "output_type": "stream",
       "stream": "stdout",
       "text": [
        "\r",
        "60% [======================>                ] 723,279,872 3.63MB/s  eta 2m 15s "
       ]
      },
      {
       "output_type": "stream",
       "stream": "stdout",
       "text": [
        "\r",
        "60% [======================>                ] 724,148,224 3.60MB/s  eta 2m 14s "
       ]
      },
      {
       "output_type": "stream",
       "stream": "stdout",
       "text": [
        "\r",
        "60% [======================>                ] 725,049,344 3.62MB/s  eta 2m 14s "
       ]
      },
      {
       "output_type": "stream",
       "stream": "stdout",
       "text": [
        "\r",
        "60% [======================>                ] 725,868,544 3.61MB/s  eta 2m 14s "
       ]
      },
      {
       "output_type": "stream",
       "stream": "stdout",
       "text": [
        "\r",
        "60% [======================>                ] 726,802,432 3.64MB/s  eta 2m 14s "
       ]
      },
      {
       "output_type": "stream",
       "stream": "stdout",
       "text": [
        "\r",
        "60% [======================>                ] 727,621,632 3.72MB/s  eta 2m 14s "
       ]
      },
      {
       "output_type": "stream",
       "stream": "stdout",
       "text": [
        "\r",
        "60% [======================>                ] 728,555,520 3.78MB/s  eta 2m 12s "
       ]
      },
      {
       "output_type": "stream",
       "stream": "stdout",
       "text": [
        "\r",
        "60% [======================>                ] 729,423,872 3.84MB/s  eta 2m 12s "
       ]
      },
      {
       "output_type": "stream",
       "stream": "stdout",
       "text": [
        "\r",
        "60% [======================>                ] 730,324,992 3.91MB/s  eta 2m 12s "
       ]
      },
      {
       "output_type": "stream",
       "stream": "stdout",
       "text": [
        "\r",
        "60% [======================>                ] 731,242,496 3.95MB/s  eta 2m 12s "
       ]
      },
      {
       "output_type": "stream",
       "stream": "stdout",
       "text": [
        "\r",
        "60% [======================>                ] 732,127,232 3.98MB/s  eta 2m 12s "
       ]
      },
      {
       "output_type": "stream",
       "stream": "stdout",
       "text": [
        "\r",
        "61% [======================>                ] 733,028,352 4.02MB/s  eta 2m 11s "
       ]
      },
      {
       "output_type": "stream",
       "stream": "stdout",
       "text": [
        "\r",
        "61% [======================>                ] 733,896,704 4.08MB/s  eta 2m 11s "
       ]
      },
      {
       "output_type": "stream",
       "stream": "stdout",
       "text": [
        "\r",
        "61% [======================>                ] 734,830,592 4.11MB/s  eta 2m 11s "
       ]
      },
      {
       "output_type": "stream",
       "stream": "stdout",
       "text": [
        "\r",
        "61% [======================>                ] 735,682,560 4.12MB/s  eta 2m 11s "
       ]
      },
      {
       "output_type": "stream",
       "stream": "stdout",
       "text": [
        "\r",
        "61% [======================>                ] 736,600,064 4.14MB/s  eta 2m 11s "
       ]
      },
      {
       "output_type": "stream",
       "stream": "stdout",
       "text": [
        "\r",
        "61% [======================>                ] 737,452,032 4.16MB/s  eta 2m 10s "
       ]
      },
      {
       "output_type": "stream",
       "stream": "stdout",
       "text": [
        "\r",
        "61% [======================>                ] 738,369,536 4.18MB/s  eta 2m 10s "
       ]
      },
      {
       "output_type": "stream",
       "stream": "stdout",
       "text": [
        "\r",
        "61% [=======================>               ] 739,237,888 4.18MB/s  eta 2m 10s "
       ]
      },
      {
       "output_type": "stream",
       "stream": "stdout",
       "text": [
        "\r",
        "61% [=======================>               ] 740,139,008 4.20MB/s  eta 2m 10s "
       ]
      },
      {
       "output_type": "stream",
       "stream": "stdout",
       "text": [
        "\r",
        "61% [=======================>               ] 741,023,744 4.20MB/s  eta 2m 10s "
       ]
      },
      {
       "output_type": "stream",
       "stream": "stdout",
       "text": [
        "\r",
        "61% [=======================>               ] 741,941,248 4.21MB/s  eta 2m 8s  "
       ]
      },
      {
       "output_type": "stream",
       "stream": "stdout",
       "text": [
        "\r",
        "61% [=======================>               ] 742,825,984 4.21MB/s  eta 2m 8s  "
       ]
      },
      {
       "output_type": "stream",
       "stream": "stdout",
       "text": [
        "\r",
        "61% [=======================>               ] 743,727,104 4.21MB/s  eta 2m 8s  "
       ]
      },
      {
       "output_type": "stream",
       "stream": "stdout",
       "text": [
        "\r",
        "62% [=======================>               ] 744,644,608 4.22MB/s  eta 2m 8s  "
       ]
      },
      {
       "output_type": "stream",
       "stream": "stdout",
       "text": [
        "\r",
        "62% [=======================>               ] 745,529,344 4.21MB/s  eta 2m 8s  "
       ]
      },
      {
       "output_type": "stream",
       "stream": "stdout",
       "text": [
        "\r",
        "62% [=======================>               ] 746,479,616 4.23MB/s  eta 2m 7s  "
       ]
      },
      {
       "output_type": "stream",
       "stream": "stdout",
       "text": [
        "\r",
        "62% [=======================>               ] 747,364,352 4.22MB/s  eta 2m 7s  "
       ]
      },
      {
       "output_type": "stream",
       "stream": "stdout",
       "text": [
        "\r",
        "62% [=======================>               ] 748,298,240 4.23MB/s  eta 2m 7s  "
       ]
      },
      {
       "output_type": "stream",
       "stream": "stdout",
       "text": [
        "\r",
        "62% [=======================>               ] 749,166,592 4.23MB/s  eta 2m 7s  "
       ]
      },
      {
       "output_type": "stream",
       "stream": "stdout",
       "text": [
        "\r",
        "62% [=======================>               ] 749,920,256 4.12MB/s  eta 2m 7s  "
       ]
      },
      {
       "output_type": "stream",
       "stream": "stdout",
       "text": [
        "\r",
        "62% [=======================>               ] 750,870,528 4.13MB/s  eta 2m 5s  "
       ]
      },
      {
       "output_type": "stream",
       "stream": "stdout",
       "text": [
        "\r",
        "62% [=======================>               ] 751,525,888 4.05MB/s  eta 2m 5s  "
       ]
      },
      {
       "output_type": "stream",
       "stream": "stdout",
       "text": [
        "\r",
        "62% [=======================>               ] 752,263,168 4.00MB/s  eta 2m 5s  "
       ]
      },
      {
       "output_type": "stream",
       "stream": "stdout",
       "text": [
        "\r",
        "62% [=======================>               ] 753,033,216 3.99MB/s  eta 2m 5s  "
       ]
      },
      {
       "output_type": "stream",
       "stream": "stdout",
       "text": [
        "\r",
        "62% [=======================>               ] 753,737,728 3.91MB/s  eta 2m 5s  "
       ]
      },
      {
       "output_type": "stream",
       "stream": "stdout",
       "text": [
        "\r",
        "62% [=======================>               ] 754,589,696 3.90MB/s  eta 2m 4s  "
       ]
      },
      {
       "output_type": "stream",
       "stream": "stdout",
       "text": [
        "\r",
        "62% [=======================>               ] 755,326,976 3.86MB/s  eta 2m 4s  "
       ]
      },
      {
       "output_type": "stream",
       "stream": "stdout",
       "text": [
        "\r",
        "62% [=======================>               ] 756,211,712 3.86MB/s  eta 2m 4s  "
       ]
      },
      {
       "output_type": "stream",
       "stream": "stdout",
       "text": [
        "\r",
        "63% [=======================>               ] 756,965,376 3.80MB/s  eta 2m 4s  "
       ]
      },
      {
       "output_type": "stream",
       "stream": "stdout",
       "text": [
        "\r",
        "63% [=======================>               ] 757,866,496 3.80MB/s  eta 2m 4s  "
       ]
      },
      {
       "output_type": "stream",
       "stream": "stdout",
       "text": [
        "\r",
        "63% [=======================>               ] 758,341,632 3.68MB/s  eta 2m 3s  "
       ]
      },
      {
       "output_type": "stream",
       "stream": "stdout",
       "text": [
        "\r",
        "63% [=======================>               ] 759,259,136 3.66MB/s  eta 2m 3s  "
       ]
      },
      {
       "output_type": "stream",
       "stream": "stdout",
       "text": [
        "\r",
        "63% [=======================>               ] 759,865,344 3.59MB/s  eta 2m 3s  "
       ]
      },
      {
       "output_type": "stream",
       "stream": "stdout",
       "text": [
        "\r",
        "63% [=======================>               ] 760,520,704 3.51MB/s  eta 2m 3s  "
       ]
      },
      {
       "output_type": "stream",
       "stream": "stdout",
       "text": [
        "\r",
        "63% [=======================>               ] 761,208,832 3.50MB/s  eta 2m 3s  "
       ]
      },
      {
       "output_type": "stream",
       "stream": "stdout",
       "text": [
        "\r",
        "63% [=======================>               ] 761,831,424 3.39MB/s  eta 2m 2s  "
       ]
      },
      {
       "output_type": "stream",
       "stream": "stdout",
       "text": [
        "\r",
        "63% [=======================>               ] 762,437,632 3.30MB/s  eta 2m 2s  "
       ]
      },
      {
       "output_type": "stream",
       "stream": "stdout",
       "text": [
        "\r",
        "63% [=======================>               ] 762,929,152 3.24MB/s  eta 2m 2s  "
       ]
      },
      {
       "output_type": "stream",
       "stream": "stdout",
       "text": [
        "\r",
        "63% [=======================>               ] 763,289,600 3.13MB/s  eta 2m 2s  "
       ]
      },
      {
       "output_type": "stream",
       "stream": "stdout",
       "text": [
        "\r",
        "63% [=======================>               ] 763,633,664 3.02MB/s  eta 2m 2s  "
       ]
      },
      {
       "output_type": "stream",
       "stream": "stdout",
       "text": [
        "\r",
        "63% [=======================>               ] 764,026,880 2.88MB/s  eta 2m 2s  "
       ]
      },
      {
       "output_type": "stream",
       "stream": "stdout",
       "text": [
        "\r",
        "63% [=======================>               ] 764,403,712 2.76MB/s  eta 2m 2s  "
       ]
      },
      {
       "output_type": "stream",
       "stream": "stdout",
       "text": [
        "\r",
        "63% [=======================>               ] 764,780,544 2.65MB/s  eta 2m 2s  "
       ]
      },
      {
       "output_type": "stream",
       "stream": "stdout",
       "text": [
        "\r",
        "63% [=======================>               ] 765,157,376 2.41MB/s  eta 2m 2s  "
       ]
      },
      {
       "output_type": "stream",
       "stream": "stdout",
       "text": [
        "\r",
        "63% [=======================>               ] 765,566,976 2.31MB/s  eta 2m 2s  "
       ]
      },
      {
       "output_type": "stream",
       "stream": "stdout",
       "text": [
        "\r",
        "63% [=======================>               ] 765,845,504 2.10MB/s  eta 2m 2s  "
       ]
      },
      {
       "output_type": "stream",
       "stream": "stdout",
       "text": [
        "\r",
        "63% [=======================>               ] 766,091,264 2.00MB/s  eta 2m 2s  "
       ]
      },
      {
       "output_type": "stream",
       "stream": "stdout",
       "text": [
        "\r",
        "63% [=======================>               ] 766,304,256 1.89MB/s  eta 2m 2s  "
       ]
      },
      {
       "output_type": "stream",
       "stream": "stdout",
       "text": [
        "\r",
        "63% [=======================>               ] 766,517,248 1.74MB/s  eta 2m 2s  "
       ]
      },
      {
       "output_type": "stream",
       "stream": "stdout",
       "text": [
        "\r",
        "63% [=======================>               ] 766,746,624 1.63MB/s  eta 2m 2s  "
       ]
      },
      {
       "output_type": "stream",
       "stream": "stdout",
       "text": [
        "\r",
        "63% [=======================>               ] 766,976,000 1.52MB/s  eta 2m 2s  "
       ]
      },
      {
       "output_type": "stream",
       "stream": "stdout",
       "text": [
        "\r",
        "63% [=======================>               ] 767,221,760 1.49MB/s  eta 2m 2s  "
       ]
      },
      {
       "output_type": "stream",
       "stream": "stdout",
       "text": [
        "\r",
        "63% [=======================>               ] 767,451,136 1.36MB/s  eta 2m 2s  "
       ]
      },
      {
       "output_type": "stream",
       "stream": "stdout",
       "text": [
        "\r",
        "63% [=======================>               ] 767,696,896 1.33MB/s  eta 2m 2s  "
       ]
      },
      {
       "output_type": "stream",
       "stream": "stdout",
       "text": [
        "\r",
        "63% [=======================>               ] 767,926,272 1.30MB/s  eta 2m 2s  "
       ]
      },
      {
       "output_type": "stream",
       "stream": "stdout",
       "text": [
        "\r",
        "63% [=======================>               ] 768,172,032 1.24MB/s  eta 2m 2s  "
       ]
      },
      {
       "output_type": "stream",
       "stream": "stdout",
       "text": [
        "\r",
        "63% [=======================>               ] 768,385,024 1.20MB/s  eta 2m 2s  "
       ]
      },
      {
       "output_type": "stream",
       "stream": "stdout",
       "text": [
        "\r",
        "64% [=======================>               ] 768,565,248 1.15MB/s  eta 2m 2s  "
       ]
      },
      {
       "output_type": "stream",
       "stream": "stdout",
       "text": [
        "\r",
        "64% [=======================>               ] 768,761,856 1.11MB/s  eta 2m 2s  "
       ]
      },
      {
       "output_type": "stream",
       "stream": "stdout",
       "text": [
        "\r",
        "64% [=======================>               ] 768,974,848 1.06MB/s  eta 2m 2s  "
       ]
      },
      {
       "output_type": "stream",
       "stream": "stdout",
       "text": [
        "\r",
        "64% [=======================>               ] 769,187,840 1.04MB/s  eta 2m 2s  "
       ]
      },
      {
       "output_type": "stream",
       "stream": "stdout",
       "text": [
        "\r",
        "64% [=======================>               ] 769,433,600 1.03MB/s  eta 2m 2s  "
       ]
      },
      {
       "output_type": "stream",
       "stream": "stdout",
       "text": [
        "\r",
        "64% [=======================>               ] 769,646,592 1.02MB/s  eta 2m 2s  "
       ]
      },
      {
       "output_type": "stream",
       "stream": "stdout",
       "text": [
        "\r",
        "64% [========================>              ] 769,875,968 1.03MB/s  eta 2m 2s  "
       ]
      },
      {
       "output_type": "stream",
       "stream": "stdout",
       "text": [
        "\r",
        "64% [========================>              ] 770,138,112 1.03MB/s  eta 2m 2s  "
       ]
      },
      {
       "output_type": "stream",
       "stream": "stdout",
       "text": [
        "\r",
        "64% [========================>              ] 770,351,104 1.03MB/s  eta 2m 2s  "
       ]
      },
      {
       "output_type": "stream",
       "stream": "stdout",
       "text": [
        "\r",
        "64% [========================>              ] 770,629,632 1.04MB/s  eta 2m 2s  "
       ]
      },
      {
       "output_type": "stream",
       "stream": "stdout",
       "text": [
        "\r",
        "64% [========================>              ] 770,875,392 1.04MB/s  eta 2m 2s  "
       ]
      },
      {
       "output_type": "stream",
       "stream": "stdout",
       "text": [
        "\r",
        "64% [========================>              ] 771,121,152 1.04MB/s  eta 2m 2s  "
       ]
      },
      {
       "output_type": "stream",
       "stream": "stdout",
       "text": [
        "\r",
        "64% [========================>              ] 771,399,680 1.05MB/s  eta 2m 2s  "
       ]
      },
      {
       "output_type": "stream",
       "stream": "stdout",
       "text": [
        "\r",
        "64% [========================>              ] 771,661,824 1.06MB/s  eta 2m 2s  "
       ]
      },
      {
       "output_type": "stream",
       "stream": "stdout",
       "text": [
        "\r",
        "64% [========================>              ] 771,907,584 1.05MB/s  eta 2m 2s  "
       ]
      },
      {
       "output_type": "stream",
       "stream": "stdout",
       "text": [
        "\r",
        "64% [========================>              ] 772,169,728 1.08MB/s  eta 2m 2s  "
       ]
      },
      {
       "output_type": "stream",
       "stream": "stdout",
       "text": [
        "\r",
        "64% [========================>              ] 772,415,488 1.10MB/s  eta 2m 2s  "
       ]
      },
      {
       "output_type": "stream",
       "stream": "stdout",
       "text": [
        "\r",
        "64% [========================>              ] 772,677,632 1.11MB/s  eta 2m 2s  "
       ]
      },
      {
       "output_type": "stream",
       "stream": "stdout",
       "text": [
        "\r",
        "64% [========================>              ] 772,923,392 1.13MB/s  eta 2m 2s  "
       ]
      },
      {
       "output_type": "stream",
       "stream": "stdout",
       "text": [
        "\r",
        "64% [========================>              ] 773,185,536 1.13MB/s  eta 2m 2s  "
       ]
      },
      {
       "output_type": "stream",
       "stream": "stdout",
       "text": [
        "\r",
        "64% [========================>              ] 773,464,064 1.15MB/s  eta 2m 2s  "
       ]
      },
      {
       "output_type": "stream",
       "stream": "stdout",
       "text": [
        "\r",
        "64% [========================>              ] 773,693,440 1.15MB/s  eta 2m 2s  "
       ]
      },
      {
       "output_type": "stream",
       "stream": "stdout",
       "text": [
        "\r",
        "64% [========================>              ] 773,955,584 1.15MB/s  eta 2m 2s  "
       ]
      },
      {
       "output_type": "stream",
       "stream": "stdout",
       "text": [
        "\r",
        "64% [========================>              ] 774,184,960 1.15MB/s  eta 2m 2s  "
       ]
      },
      {
       "output_type": "stream",
       "stream": "stdout",
       "text": [
        "\r",
        "64% [========================>              ] 774,447,104 1.15MB/s  eta 2m 2s  "
       ]
      },
      {
       "output_type": "stream",
       "stream": "stdout",
       "text": [
        "\r",
        "64% [========================>              ] 774,627,328 1.13MB/s  eta 2m 2s  "
       ]
      },
      {
       "output_type": "stream",
       "stream": "stdout",
       "text": [
        "\r",
        "64% [========================>              ] 774,905,856 1.13MB/s  eta 2m 2s  "
       ]
      },
      {
       "output_type": "stream",
       "stream": "stdout",
       "text": [
        "\r",
        "64% [========================>              ] 775,118,848 1.12MB/s  eta 2m 2s  "
       ]
      },
      {
       "output_type": "stream",
       "stream": "stdout",
       "text": [
        "\r",
        "64% [========================>              ] 775,331,840 1.10MB/s  eta 2m 2s  "
       ]
      },
      {
       "output_type": "stream",
       "stream": "stdout",
       "text": [
        "\r",
        "64% [========================>              ] 775,544,832 1.09MB/s  eta 2m 2s  "
       ]
      },
      {
       "output_type": "stream",
       "stream": "stdout",
       "text": [
        "\r",
        "64% [========================>              ] 775,790,592 1.09MB/s  eta 2m 2s  "
       ]
      },
      {
       "output_type": "stream",
       "stream": "stdout",
       "text": [
        "\r",
        "64% [========================>              ] 776,019,968 1.08MB/s  eta 2m 2s  "
       ]
      },
      {
       "output_type": "stream",
       "stream": "stdout",
       "text": [
        "\r",
        "64% [========================>              ] 776,265,728 1.08MB/s  eta 2m 2s  "
       ]
      },
      {
       "output_type": "stream",
       "stream": "stdout",
       "text": [
        "\r",
        "64% [========================>              ] 776,527,872 1.08MB/s  eta 2m 2s  "
       ]
      },
      {
       "output_type": "stream",
       "stream": "stdout",
       "text": [
        "\r",
        "64% [========================>              ] 776,790,016 1.08MB/s  eta 2m 2s  "
       ]
      },
      {
       "output_type": "stream",
       "stream": "stdout",
       "text": [
        "\r",
        "64% [========================>              ] 777,035,776 1.08MB/s  eta 2m 2s  "
       ]
      },
      {
       "output_type": "stream",
       "stream": "stdout",
       "text": [
        "\r",
        "64% [========================>              ] 777,314,304 1.07MB/s  eta 2m 2s  "
       ]
      },
      {
       "output_type": "stream",
       "stream": "stdout",
       "text": [
        "\r",
        "64% [========================>              ] 777,527,296 1.06MB/s  eta 2m 2s  "
       ]
      },
      {
       "output_type": "stream",
       "stream": "stdout",
       "text": [
        "\r",
        "64% [========================>              ] 777,707,520 1.04MB/s  eta 2m 2s  "
       ]
      },
      {
       "output_type": "stream",
       "stream": "stdout",
       "text": [
        "\r",
        "64% [========================>              ] 777,920,512 1.02MB/s  eta 2m 2s  "
       ]
      },
      {
       "output_type": "stream",
       "stream": "stdout",
       "text": [
        "\r",
        "64% [========================>              ] 778,149,888 1.05MB/s  eta 2m 2s  "
       ]
      },
      {
       "output_type": "stream",
       "stream": "stdout",
       "text": [
        "\r",
        "64% [========================>              ] 778,362,880 1.02MB/s  eta 2m 2s  "
       ]
      },
      {
       "output_type": "stream",
       "stream": "stdout",
       "text": [
        "\r",
        "64% [========================>              ] 778,608,640 1.04MB/s  eta 2m 2s  "
       ]
      },
      {
       "output_type": "stream",
       "stream": "stdout",
       "text": [
        "\r",
        "64% [========================>              ] 778,854,400 1.05MB/s  eta 2m 3s  "
       ]
      },
      {
       "output_type": "stream",
       "stream": "stdout",
       "text": [
        "\r",
        "64% [========================>              ] 779,083,776 1.05MB/s  eta 2m 3s  "
       ]
      },
      {
       "output_type": "stream",
       "stream": "stdout",
       "text": [
        "\r",
        "64% [========================>              ] 779,329,536 1.06MB/s  eta 2m 3s  "
       ]
      },
      {
       "output_type": "stream",
       "stream": "stdout",
       "text": [
        "\r",
        "64% [========================>              ] 779,591,680 1.06MB/s  eta 2m 3s  "
       ]
      },
      {
       "output_type": "stream",
       "stream": "stdout",
       "text": [
        "\r",
        "64% [========================>              ] 779,837,440 1.07MB/s  eta 2m 3s  "
       ]
      },
      {
       "output_type": "stream",
       "stream": "stdout",
       "text": [
        "\r",
        "64% [========================>              ] 780,083,200 1.07MB/s  eta 2m 3s  "
       ]
      },
      {
       "output_type": "stream",
       "stream": "stdout",
       "text": [
        "\r",
        "64% [========================>              ] 780,328,960 1.07MB/s  eta 2m 3s  "
       ]
      },
      {
       "output_type": "stream",
       "stream": "stdout",
       "text": [
        "\r",
        "65% [========================>              ] 780,574,720 1.07MB/s  eta 2m 3s  "
       ]
      },
      {
       "output_type": "stream",
       "stream": "stdout",
       "text": [
        "\r",
        "65% [========================>              ] 780,820,480 1.07MB/s  eta 2m 3s  "
       ]
      },
      {
       "output_type": "stream",
       "stream": "stdout",
       "text": [
        "\r",
        "65% [========================>              ] 780,984,320 1.04MB/s  eta 2m 3s  "
       ]
      },
      {
       "output_type": "stream",
       "stream": "stdout",
       "text": [
        "\r",
        "65% [========================>              ] 781,279,232 1.07MB/s  eta 2m 3s  "
       ]
      },
      {
       "output_type": "stream",
       "stream": "stdout",
       "text": [
        "\r",
        "65% [========================>              ] 781,475,840 1.07MB/s  eta 2m 3s  "
       ]
      },
      {
       "output_type": "stream",
       "stream": "stdout",
       "text": [
        "\r",
        "65% [========================>              ] 781,705,216 1.08MB/s  eta 2m 3s  "
       ]
      },
      {
       "output_type": "stream",
       "stream": "stdout",
       "text": [
        "\r",
        "65% [========================>              ] 781,918,208 1.07MB/s  eta 2m 3s  "
       ]
      },
      {
       "output_type": "stream",
       "stream": "stdout",
       "text": [
        "\r",
        "65% [========================>              ] 782,163,968 1.08MB/s  eta 2m 3s  "
       ]
      },
      {
       "output_type": "stream",
       "stream": "stdout",
       "text": [
        "\r",
        "65% [========================>              ] 782,409,728 1.08MB/s  eta 2m 3s  "
       ]
      },
      {
       "output_type": "stream",
       "stream": "stdout",
       "text": [
        "\r",
        "65% [========================>              ] 782,639,104 1.08MB/s  eta 2m 3s  "
       ]
      },
      {
       "output_type": "stream",
       "stream": "stdout",
       "text": [
        "\r",
        "65% [========================>              ] 782,901,248 1.07MB/s  eta 2m 3s  "
       ]
      },
      {
       "output_type": "stream",
       "stream": "stdout",
       "text": [
        "\r",
        "65% [========================>              ] 783,163,392 1.08MB/s  eta 2m 3s  "
       ]
      },
      {
       "output_type": "stream",
       "stream": "stdout",
       "text": [
        "\r",
        "65% [========================>              ] 783,392,768 1.07MB/s  eta 2m 3s  "
       ]
      },
      {
       "output_type": "stream",
       "stream": "stdout",
       "text": [
        "\r",
        "65% [========================>              ] 783,654,912 1.08MB/s  eta 2m 3s  "
       ]
      },
      {
       "output_type": "stream",
       "stream": "stdout",
       "text": [
        "\r",
        "65% [========================>              ] 783,884,288 1.07MB/s  eta 2m 3s  "
       ]
      },
      {
       "output_type": "stream",
       "stream": "stdout",
       "text": [
        "\r",
        "65% [========================>              ] 784,146,432 1.07MB/s  eta 2m 3s  "
       ]
      },
      {
       "output_type": "stream",
       "stream": "stdout",
       "text": [
        "\r",
        "65% [========================>              ] 784,392,192 1.07MB/s  eta 2m 3s  "
       ]
      },
      {
       "output_type": "stream",
       "stream": "stdout",
       "text": [
        "\r",
        "65% [========================>              ] 784,654,336 1.08MB/s  eta 2m 3s  "
       ]
      },
      {
       "output_type": "stream",
       "stream": "stdout",
       "text": [
        "\r",
        "65% [========================>              ] 784,916,480 1.09MB/s  eta 2m 3s  "
       ]
      },
      {
       "output_type": "stream",
       "stream": "stdout",
       "text": [
        "\r",
        "65% [========================>              ] 785,162,240 1.10MB/s  eta 2m 3s  "
       ]
      },
      {
       "output_type": "stream",
       "stream": "stdout",
       "text": [
        "\r",
        "65% [========================>              ] 785,440,768 1.13MB/s  eta 2m 3s  "
       ]
      },
      {
       "output_type": "stream",
       "stream": "stdout",
       "text": [
        "\r",
        "65% [========================>              ] 785,686,528 1.14MB/s  eta 2m 3s  "
       ]
      },
      {
       "output_type": "stream",
       "stream": "stdout",
       "text": [
        "\r",
        "65% [========================>              ] 785,965,056 1.15MB/s  eta 2m 3s  "
       ]
      },
      {
       "output_type": "stream",
       "stream": "stdout",
       "text": [
        "\r",
        "65% [========================>              ] 786,227,200 1.17MB/s  eta 2m 3s  "
       ]
      },
      {
       "output_type": "stream",
       "stream": "stdout",
       "text": [
        "\r",
        "65% [========================>              ] 786,472,960 1.17MB/s  eta 2m 3s  "
       ]
      },
      {
       "output_type": "stream",
       "stream": "stdout",
       "text": [
        "\r",
        "65% [========================>              ] 786,751,488 1.18MB/s  eta 2m 3s  "
       ]
      },
      {
       "output_type": "stream",
       "stream": "stdout",
       "text": [
        "\r",
        "65% [========================>              ] 786,997,248 1.18MB/s  eta 2m 3s  "
       ]
      },
      {
       "output_type": "stream",
       "stream": "stdout",
       "text": [
        "\r",
        "65% [========================>              ] 787,275,776 1.19MB/s  eta 2m 3s  "
       ]
      },
      {
       "output_type": "stream",
       "stream": "stdout",
       "text": [
        "\r",
        "65% [========================>              ] 787,554,304 1.20MB/s  eta 2m 3s  "
       ]
      },
      {
       "output_type": "stream",
       "stream": "stdout",
       "text": [
        "\r",
        "65% [========================>              ] 787,800,064 1.20MB/s  eta 2m 3s  "
       ]
      },
      {
       "output_type": "stream",
       "stream": "stdout",
       "text": [
        "\r",
        "65% [========================>              ] 788,094,976 1.21MB/s  eta 2m 3s  "
       ]
      },
      {
       "output_type": "stream",
       "stream": "stdout",
       "text": [
        "\r",
        "65% [========================>              ] 788,373,504 1.22MB/s  eta 2m 3s  "
       ]
      },
      {
       "output_type": "stream",
       "stream": "stdout",
       "text": [
        "\r",
        "65% [========================>              ] 788,635,648 1.22MB/s  eta 2m 3s  "
       ]
      },
      {
       "output_type": "stream",
       "stream": "stdout",
       "text": [
        "\r",
        "65% [========================>              ] 788,946,944 1.23MB/s  eta 2m 2s  "
       ]
      },
      {
       "output_type": "stream",
       "stream": "stdout",
       "text": [
        "\r",
        "65% [========================>              ] 789,258,240 1.24MB/s  eta 2m 2s  "
       ]
      },
      {
       "output_type": "stream",
       "stream": "stdout",
       "text": [
        "\r",
        "65% [========================>              ] 789,536,768 1.24MB/s  eta 2m 2s  "
       ]
      },
      {
       "output_type": "stream",
       "stream": "stdout",
       "text": [
        "\r",
        "65% [========================>              ] 789,864,448 1.26MB/s  eta 2m 2s  "
       ]
      },
      {
       "output_type": "stream",
       "stream": "stdout",
       "text": [
        "\r",
        "65% [========================>              ] 790,192,128 1.29MB/s  eta 2m 2s  "
       ]
      },
      {
       "output_type": "stream",
       "stream": "stdout",
       "text": [
        "\r",
        "65% [========================>              ] 790,503,424 1.29MB/s  eta 2m 2s  "
       ]
      },
      {
       "output_type": "stream",
       "stream": "stdout",
       "text": [
        "\r",
        "65% [========================>              ] 790,880,256 1.33MB/s  eta 2m 2s  "
       ]
      },
      {
       "output_type": "stream",
       "stream": "stdout",
       "text": [
        "\r",
        "65% [========================>              ] 791,240,704 1.36MB/s  eta 2m 2s  "
       ]
      },
      {
       "output_type": "stream",
       "stream": "stdout",
       "text": [
        "\r",
        "65% [========================>              ] 791,584,768 1.38MB/s  eta 2m 2s  "
       ]
      },
      {
       "output_type": "stream",
       "stream": "stdout",
       "text": [
        "\r",
        "65% [========================>              ] 791,977,984 1.43MB/s  eta 2m 2s  "
       ]
      },
      {
       "output_type": "stream",
       "stream": "stdout",
       "text": [
        "\r",
        "65% [========================>              ] 792,354,816 1.45MB/s  eta 2m 2s  "
       ]
      },
      {
       "output_type": "stream",
       "stream": "stdout",
       "text": [
        "\r",
        "66% [========================>              ] 792,813,568 1.50MB/s  eta 2m 2s  "
       ]
      },
      {
       "output_type": "stream",
       "stream": "stdout",
       "text": [
        "\r",
        "66% [========================>              ] 793,223,168 1.56MB/s  eta 2m 2s  "
       ]
      },
      {
       "output_type": "stream",
       "stream": "stdout",
       "text": [
        "\r",
        "66% [========================>              ] 793,698,304 1.61MB/s  eta 2m 2s  "
       ]
      },
      {
       "output_type": "stream",
       "stream": "stdout",
       "text": [
        "\r",
        "66% [========================>              ] 794,157,056 1.67MB/s  eta 2m 2s  "
       ]
      },
      {
       "output_type": "stream",
       "stream": "stdout",
       "text": [
        "\r",
        "66% [========================>              ] 794,664,960 1.73MB/s  eta 2m 1s  "
       ]
      },
      {
       "output_type": "stream",
       "stream": "stdout",
       "text": [
        "\r",
        "66% [========================>              ] 795,205,632 1.83MB/s  eta 2m 1s  "
       ]
      },
      {
       "output_type": "stream",
       "stream": "stdout",
       "text": [
        "\r",
        "66% [========================>              ] 795,762,688 1.90MB/s  eta 2m 1s  "
       ]
      },
      {
       "output_type": "stream",
       "stream": "stdout",
       "text": [
        "\r",
        "66% [========================>              ] 796,385,280 1.99MB/s  eta 2m 1s  "
       ]
      },
      {
       "output_type": "stream",
       "stream": "stdout",
       "text": [
        "\r",
        "66% [========================>              ] 796,975,104 2.09MB/s  eta 2m 1s  "
       ]
      },
      {
       "output_type": "stream",
       "stream": "stdout",
       "text": [
        "\r",
        "66% [========================>              ] 797,712,384 2.20MB/s  eta 2m 1s  "
       ]
      },
      {
       "output_type": "stream",
       "stream": "stdout",
       "text": [
        "\r",
        "66% [========================>              ] 798,384,128 2.29MB/s  eta 2m 1s  "
       ]
      },
      {
       "output_type": "stream",
       "stream": "stdout",
       "text": [
        "\r",
        "66% [========================>              ] 799,170,560 2.41MB/s  eta 2m 1s  "
       ]
      },
      {
       "output_type": "stream",
       "stream": "stdout",
       "text": [
        "\r",
        "66% [========================>              ] 799,924,224 2.56MB/s  eta 2m 1s  "
       ]
      },
      {
       "output_type": "stream",
       "stream": "stdout",
       "text": [
        "\r",
        "66% [=========================>             ] 800,792,576 2.69MB/s  eta 2m 1s  "
       ]
      },
      {
       "output_type": "stream",
       "stream": "stdout",
       "text": [
        "\r",
        "66% [=========================>             ] 801,513,472 2.78MB/s  eta 1m 59s "
       ]
      },
      {
       "output_type": "stream",
       "stream": "stdout",
       "text": [
        "\r",
        "66% [=========================>             ] 802,177,024 2.85MB/s  eta 1m 59s "
       ]
      },
      {
       "output_type": "stream",
       "stream": "stdout",
       "text": [
        "\r",
        "66% [=========================>             ] 802,807,808 2.95MB/s  eta 1m 59s "
       ]
      },
      {
       "output_type": "stream",
       "stream": "stdout",
       "text": [
        "\r",
        "66% [=========================>             ] 803,528,704 3.02MB/s  eta 1m 59s "
       ]
      },
      {
       "output_type": "stream",
       "stream": "stdout",
       "text": [
        "\r",
        "66% [=========================>             ] 804,184,064 3.07MB/s  eta 1m 59s "
       ]
      },
      {
       "output_type": "stream",
       "stream": "stdout",
       "text": [
        "\r",
        "67% [=========================>             ] 804,970,496 3.17MB/s  eta 1m 58s "
       ]
      },
      {
       "output_type": "stream",
       "stream": "stdout",
       "text": [
        "\r",
        "67% [=========================>             ] 805,789,696 3.25MB/s  eta 1m 58s "
       ]
      },
      {
       "output_type": "stream",
       "stream": "stdout",
       "text": [
        "\r",
        "67% [=========================>             ] 806,461,440 3.29MB/s  eta 1m 58s "
       ]
      },
      {
       "output_type": "stream",
       "stream": "stdout",
       "text": [
        "\r",
        "67% [=========================>             ] 807,280,640 3.35MB/s  eta 1m 58s "
       ]
      },
      {
       "output_type": "stream",
       "stream": "stdout",
       "text": [
        "\r",
        "67% [=========================>             ] 808,050,688 3.42MB/s  eta 1m 58s "
       ]
      },
      {
       "output_type": "stream",
       "stream": "stdout",
       "text": [
        "\r",
        "67% [=========================>             ] 808,919,040 3.49MB/s  eta 1m 57s "
       ]
      },
      {
       "output_type": "stream",
       "stream": "stdout",
       "text": [
        "\r",
        "67% [=========================>             ] 809,672,704 3.51MB/s  eta 1m 57s "
       ]
      },
      {
       "output_type": "stream",
       "stream": "stdout",
       "text": [
        "\r",
        "67% [=========================>             ] 810,508,288 3.55MB/s  eta 1m 57s "
       ]
      },
      {
       "output_type": "stream",
       "stream": "stdout",
       "text": [
        "\r",
        "67% [=========================>             ] 811,294,720 3.57MB/s  eta 1m 57s "
       ]
      },
      {
       "output_type": "stream",
       "stream": "stdout",
       "text": [
        "\r",
        "67% [=========================>             ] 811,933,696 3.51MB/s  eta 1m 57s "
       ]
      },
      {
       "output_type": "stream",
       "stream": "stdout",
       "text": [
        "\r",
        "67% [=========================>             ] 812,818,432 3.53MB/s  eta 1m 56s "
       ]
      },
      {
       "output_type": "stream",
       "stream": "stdout",
       "text": [
        "\r",
        "67% [=========================>             ] 813,490,176 3.57MB/s  eta 1m 56s "
       ]
      },
      {
       "output_type": "stream",
       "stream": "stdout",
       "text": [
        "\r",
        "67% [=========================>             ] 814,178,304 3.51MB/s  eta 1m 56s "
       ]
      },
      {
       "output_type": "stream",
       "stream": "stdout",
       "text": [
        "\r",
        "67% [=========================>             ] 814,751,744 3.48MB/s  eta 1m 56s "
       ]
      },
      {
       "output_type": "stream",
       "stream": "stdout",
       "text": [
        "\r",
        "67% [=========================>             ] 815,489,024 3.47MB/s  eta 1m 56s "
       ]
      },
      {
       "output_type": "stream",
       "stream": "stdout",
       "text": [
        "\r",
        "67% [=========================>             ] 816,128,000 3.46MB/s  eta 1m 55s "
       ]
      },
      {
       "output_type": "stream",
       "stream": "stdout",
       "text": [
        "\r",
        "68% [=========================>             ] 816,848,896 3.46MB/s  eta 1m 55s "
       ]
      },
      {
       "output_type": "stream",
       "stream": "stdout",
       "text": [
        "\r",
        "68% [=========================>             ] 817,520,640 3.44MB/s  eta 1m 55s "
       ]
      },
      {
       "output_type": "stream",
       "stream": "stdout",
       "text": [
        "\r",
        "68% [=========================>             ] 818,225,152 3.40MB/s  eta 1m 55s "
       ]
      },
      {
       "output_type": "stream",
       "stream": "stdout",
       "text": [
        "\r",
        "68% [=========================>             ] 818,995,200 3.40MB/s  eta 1m 55s "
       ]
      },
      {
       "output_type": "stream",
       "stream": "stdout",
       "text": [
        "\r",
        "68% [=========================>             ] 819,666,944 3.36MB/s  eta 1m 54s "
       ]
      },
      {
       "output_type": "stream",
       "stream": "stdout",
       "text": [
        "\r",
        "68% [=========================>             ] 820,404,224 3.32MB/s  eta 1m 54s "
       ]
      },
      {
       "output_type": "stream",
       "stream": "stdout",
       "text": [
        "\r",
        "68% [=========================>             ] 821,092,352 3.29MB/s  eta 1m 54s "
       ]
      },
      {
       "output_type": "stream",
       "stream": "stdout",
       "text": [
        "\r",
        "68% [=========================>             ] 821,829,632 3.27MB/s  eta 1m 54s "
       ]
      },
      {
       "output_type": "stream",
       "stream": "stdout",
       "text": [
        "\r",
        "68% [=========================>             ] 822,534,144 3.28MB/s  eta 1m 54s "
       ]
      },
      {
       "output_type": "stream",
       "stream": "stdout",
       "text": [
        "\r",
        "68% [=========================>             ] 823,255,040 3.21MB/s  eta 1m 53s "
       ]
      },
      {
       "output_type": "stream",
       "stream": "stdout",
       "text": [
        "\r",
        "68% [=========================>             ] 823,926,784 3.22MB/s  eta 1m 53s "
       ]
      },
      {
       "output_type": "stream",
       "stream": "stdout",
       "text": [
        "\r",
        "68% [=========================>             ] 824,467,456 3.21MB/s  eta 1m 53s "
       ]
      },
      {
       "output_type": "stream",
       "stream": "stdout",
       "text": [
        "\r",
        "68% [=========================>             ] 824,991,744 3.18MB/s  eta 1m 53s "
       ]
      },
      {
       "output_type": "stream",
       "stream": "stdout",
       "text": [
        "\r",
        "68% [=========================>             ] 825,565,184 3.14MB/s  eta 1m 53s "
       ]
      },
      {
       "output_type": "stream",
       "stream": "stdout",
       "text": [
        "\r",
        "68% [=========================>             ] 826,171,392 3.13MB/s  eta 1m 52s "
       ]
      },
      {
       "output_type": "stream",
       "stream": "stdout",
       "text": [
        "\r",
        "68% [=========================>             ] 826,728,448 3.09MB/s  eta 1m 52s "
       ]
      },
      {
       "output_type": "stream",
       "stream": "stdout",
       "text": [
        "\r",
        "68% [=========================>             ] 827,400,192 3.09MB/s  eta 1m 52s "
       ]
      },
      {
       "output_type": "stream",
       "stream": "stdout",
       "text": [
        "\r",
        "68% [=========================>             ] 828,006,400 3.05MB/s  eta 1m 52s "
       ]
      },
      {
       "output_type": "stream",
       "stream": "stdout",
       "text": [
        "\r",
        "69% [=========================>             ] 828,678,144 3.04MB/s  eta 1m 52s "
       ]
      },
      {
       "output_type": "stream",
       "stream": "stdout",
       "text": [
        "\r",
        "69% [=========================>             ] 829,300,736 3.02MB/s  eta 1m 51s "
       ]
      },
      {
       "output_type": "stream",
       "stream": "stdout",
       "text": [
        "\r",
        "69% [=========================>             ] 830,005,248 3.00MB/s  eta 1m 51s "
       ]
      },
      {
       "output_type": "stream",
       "stream": "stdout",
       "text": [
        "\r",
        "69% [=========================>             ] 830,693,376 3.01MB/s  eta 1m 51s "
       ]
      },
      {
       "output_type": "stream",
       "stream": "stdout",
       "text": [
        "\r",
        "69% [==========================>            ] 831,348,736 2.99MB/s  eta 1m 51s "
       ]
      },
      {
       "output_type": "stream",
       "stream": "stdout",
       "text": [
        "\r",
        "69% [==========================>            ] 832,086,016 2.98MB/s  eta 1m 51s "
       ]
      },
      {
       "output_type": "stream",
       "stream": "stdout",
       "text": [
        "\r",
        "69% [==========================>            ] 832,741,376 2.97MB/s  eta 1m 50s "
       ]
      },
      {
       "output_type": "stream",
       "stream": "stdout",
       "text": [
        "\r",
        "69% [==========================>            ] 833,495,040 3.00MB/s  eta 1m 50s "
       ]
      },
      {
       "output_type": "stream",
       "stream": "stdout",
       "text": [
        "\r",
        "69% [==========================>            ] 834,183,168 3.01MB/s  eta 1m 50s "
       ]
      },
      {
       "output_type": "stream",
       "stream": "stdout",
       "text": [
        "\r",
        "69% [==========================>            ] 834,920,448 3.09MB/s  eta 1m 50s "
       ]
      },
      {
       "output_type": "stream",
       "stream": "stdout",
       "text": [
        "\r",
        "69% [==========================>            ] 835,608,576 3.12MB/s  eta 1m 50s "
       ]
      },
      {
       "output_type": "stream",
       "stream": "stdout",
       "text": [
        "\r",
        "69% [==========================>            ] 836,362,240 3.16MB/s  eta 1m 49s "
       ]
      },
      {
       "output_type": "stream",
       "stream": "stdout",
       "text": [
        "\r",
        "69% [==========================>            ] 837,083,136 3.23MB/s  eta 1m 49s "
       ]
      },
      {
       "output_type": "stream",
       "stream": "stdout",
       "text": [
        "\r",
        "69% [==========================>            ] 837,804,032 3.25MB/s  eta 1m 49s "
       ]
      },
      {
       "output_type": "stream",
       "stream": "stdout",
       "text": [
        "\r",
        "69% [==========================>            ] 838,377,472 3.18MB/s  eta 1m 49s "
       ]
      },
      {
       "output_type": "stream",
       "stream": "stdout",
       "text": [
        "\r",
        "69% [==========================>            ] 839,163,904 3.22MB/s  eta 1m 49s "
       ]
      },
      {
       "output_type": "stream",
       "stream": "stdout",
       "text": [
        "\r",
        "69% [==========================>            ] 839,704,576 3.19MB/s  eta 1m 48s "
       ]
      },
      {
       "output_type": "stream",
       "stream": "stdout",
       "text": [
        "\r",
        "69% [==========================>            ] 840,294,400 3.16MB/s  eta 1m 48s "
       ]
      },
      {
       "output_type": "stream",
       "stream": "stdout",
       "text": [
        "\r",
        "70% [==========================>            ] 840,851,456 3.12MB/s  eta 1m 48s "
       ]
      },
      {
       "output_type": "stream",
       "stream": "stdout",
       "text": [
        "\r",
        "70% [==========================>            ] 841,474,048 3.10MB/s  eta 1m 48s "
       ]
      },
      {
       "output_type": "stream",
       "stream": "stdout",
       "text": [
        "\r",
        "70% [==========================>            ] 842,063,872 3.07MB/s  eta 1m 48s "
       ]
      },
      {
       "output_type": "stream",
       "stream": "stdout",
       "text": [
        "\r",
        "70% [==========================>            ] 842,702,848 3.04MB/s  eta 1m 47s "
       ]
      },
      {
       "output_type": "stream",
       "stream": "stdout",
       "text": [
        "\r",
        "70% [==========================>            ] 843,374,592 3.03MB/s  eta 1m 47s "
       ]
      },
      {
       "output_type": "stream",
       "stream": "stdout",
       "text": [
        "\r",
        "70% [==========================>            ] 844,029,952 3.02MB/s  eta 1m 47s "
       ]
      },
      {
       "output_type": "stream",
       "stream": "stdout",
       "text": [
        "\r",
        "70% [==========================>            ] 844,554,240 2.97MB/s  eta 1m 47s "
       ]
      },
      {
       "output_type": "stream",
       "stream": "stdout",
       "text": [
        "\r",
        "70% [==========================>            ] 844,996,608 2.90MB/s  eta 1m 47s "
       ]
      },
      {
       "output_type": "stream",
       "stream": "stdout",
       "text": [
        "\r",
        "70% [==========================>            ] 845,504,512 2.82MB/s  eta 1m 46s "
       ]
      },
      {
       "output_type": "stream",
       "stream": "stdout",
       "text": [
        "\r",
        "70% [==========================>            ] 845,914,112 2.73MB/s  eta 1m 46s "
       ]
      },
      {
       "output_type": "stream",
       "stream": "stdout",
       "text": [
        "\r",
        "70% [==========================>            ] 846,307,328 2.64MB/s  eta 1m 46s "
       ]
      },
      {
       "output_type": "stream",
       "stream": "stdout",
       "text": [
        "\r",
        "70% [==========================>            ] 846,651,392 2.54MB/s  eta 1m 46s "
       ]
      },
      {
       "output_type": "stream",
       "stream": "stdout",
       "text": [
        "\r",
        "70% [==========================>            ] 847,060,992 2.52MB/s  eta 1m 46s "
       ]
      },
      {
       "output_type": "stream",
       "stream": "stdout",
       "text": [
        "\r",
        "70% [==========================>            ] 847,421,440 2.40MB/s  eta 1m 46s "
       ]
      },
      {
       "output_type": "stream",
       "stream": "stdout",
       "text": [
        "\r",
        "70% [==========================>            ] 847,847,424 2.37MB/s  eta 1m 46s "
       ]
      },
      {
       "output_type": "stream",
       "stream": "stdout",
       "text": [
        "\r",
        "70% [==========================>            ] 848,207,872 2.30MB/s  eta 1m 46s "
       ]
      },
      {
       "output_type": "stream",
       "stream": "stdout",
       "text": [
        "\r",
        "70% [==========================>            ] 848,617,472 2.25MB/s  eta 1m 46s "
       ]
      },
      {
       "output_type": "stream",
       "stream": "stdout",
       "text": [
        "\r",
        "70% [==========================>            ] 849,027,072 2.20MB/s  eta 1m 46s "
       ]
      },
      {
       "output_type": "stream",
       "stream": "stdout",
       "text": [
        "\r",
        "70% [==========================>            ] 849,485,824 2.12MB/s  eta 1m 46s "
       ]
      },
      {
       "output_type": "stream",
       "stream": "stdout",
       "text": [
        "\r",
        "70% [==========================>            ] 849,911,808 2.07MB/s  eta 1m 46s "
       ]
      },
      {
       "output_type": "stream",
       "stream": "stdout",
       "text": [
        "\r",
        "70% [==========================>            ] 850,337,792 2.02MB/s  eta 1m 46s "
       ]
      },
      {
       "output_type": "stream",
       "stream": "stdout",
       "text": [
        "\r",
        "70% [==========================>            ] 850,780,160 1.98MB/s  eta 1m 46s "
       ]
      },
      {
       "output_type": "stream",
       "stream": "stdout",
       "text": [
        "\r",
        "70% [==========================>            ] 851,206,144 1.91MB/s  eta 1m 46s "
       ]
      },
      {
       "output_type": "stream",
       "stream": "stdout",
       "text": [
        "\r",
        "70% [==========================>            ] 851,664,896 1.91MB/s  eta 1m 45s "
       ]
      },
      {
       "output_type": "stream",
       "stream": "stdout",
       "text": [
        "\r",
        "70% [==========================>            ] 852,008,960 1.87MB/s  eta 1m 45s "
       ]
      },
      {
       "output_type": "stream",
       "stream": "stdout",
       "text": [
        "\r",
        "71% [==========================>            ] 852,516,864 1.86MB/s  eta 1m 45s "
       ]
      },
      {
       "output_type": "stream",
       "stream": "stdout",
       "text": [
        "\r",
        "71% [==========================>            ] 852,860,928 1.84MB/s  eta 1m 45s "
       ]
      },
      {
       "output_type": "stream",
       "stream": "stdout",
       "text": [
        "\r",
        "71% [==========================>            ] 853,188,608 1.82MB/s  eta 1m 45s "
       ]
      },
      {
       "output_type": "stream",
       "stream": "stdout",
       "text": [
        "\r",
        "71% [==========================>            ] 853,598,208 1.82MB/s  eta 1m 45s "
       ]
      },
      {
       "output_type": "stream",
       "stream": "stdout",
       "text": [
        "\r",
        "71% [==========================>            ] 854,024,192 1.82MB/s  eta 1m 45s "
       ]
      },
      {
       "output_type": "stream",
       "stream": "stdout",
       "text": [
        "\r",
        "71% [==========================>            ] 854,417,408 1.83MB/s  eta 1m 45s "
       ]
      },
      {
       "output_type": "stream",
       "stream": "stdout",
       "text": [
        "\r",
        "71% [==========================>            ] 854,794,240 1.81MB/s  eta 1m 45s "
       ]
      },
      {
       "output_type": "stream",
       "stream": "stdout",
       "text": [
        "\r",
        "71% [==========================>            ] 855,236,608 1.82MB/s  eta 1m 45s "
       ]
      },
      {
       "output_type": "stream",
       "stream": "stdout",
       "text": [
        "\r",
        "71% [==========================>            ] 855,597,056 1.80MB/s  eta 1m 44s "
       ]
      },
      {
       "output_type": "stream",
       "stream": "stdout",
       "text": [
        "\r",
        "71% [==========================>            ] 856,055,808 1.80MB/s  eta 1m 44s "
       ]
      },
      {
       "output_type": "stream",
       "stream": "stdout",
       "text": [
        "\r",
        "71% [==========================>            ] 856,530,944 1.81MB/s  eta 1m 44s "
       ]
      },
      {
       "output_type": "stream",
       "stream": "stdout",
       "text": [
        "\r",
        "71% [==========================>            ] 856,973,312 1.81MB/s  eta 1m 44s "
       ]
      },
      {
       "output_type": "stream",
       "stream": "stdout",
       "text": [
        "\r",
        "71% [==========================>            ] 857,366,528 1.79MB/s  eta 1m 44s "
       ]
      },
      {
       "output_type": "stream",
       "stream": "stdout",
       "text": [
        "\r",
        "71% [==========================>            ] 857,841,664 1.81MB/s  eta 1m 44s "
       ]
      },
      {
       "output_type": "stream",
       "stream": "stdout",
       "text": [
        "\r",
        "71% [==========================>            ] 858,218,496 1.86MB/s  eta 1m 44s "
       ]
      },
      {
       "output_type": "stream",
       "stream": "stdout",
       "text": [
        "\r",
        "71% [==========================>            ] 858,693,632 1.85MB/s  eta 1m 44s "
       ]
      },
      {
       "output_type": "stream",
       "stream": "stdout",
       "text": [
        "\r",
        "71% [==========================>            ] 859,119,616 1.87MB/s  eta 1m 44s "
       ]
      },
      {
       "output_type": "stream",
       "stream": "stdout",
       "text": [
        "\r",
        "71% [==========================>            ] 859,561,984 1.91MB/s  eta 1m 44s "
       ]
      },
      {
       "output_type": "stream",
       "stream": "stdout",
       "text": [
        "\r",
        "71% [==========================>            ] 860,037,120 1.94MB/s  eta 1m 43s "
       ]
      },
      {
       "output_type": "stream",
       "stream": "stdout",
       "text": [
        "\r",
        "71% [==========================>            ] 860,446,720 1.95MB/s  eta 1m 43s "
       ]
      },
      {
       "output_type": "stream",
       "stream": "stdout",
       "text": [
        "\r",
        "71% [==========================>            ] 860,889,088 1.97MB/s  eta 1m 43s "
       ]
      },
      {
       "output_type": "stream",
       "stream": "stdout",
       "text": [
        "\r",
        "71% [==========================>            ] 861,315,072 1.99MB/s  eta 1m 43s "
       ]
      },
      {
       "output_type": "stream",
       "stream": "stdout",
       "text": [
        "\r",
        "71% [==========================>            ] 861,757,440 1.99MB/s  eta 1m 43s "
       ]
      },
      {
       "output_type": "stream",
       "stream": "stdout",
       "text": [
        "\r",
        "71% [===========================>           ] 862,216,192 2.01MB/s  eta 1m 43s "
       ]
      },
      {
       "output_type": "stream",
       "stream": "stdout",
       "text": [
        "\r",
        "71% [===========================>           ] 862,625,792 2.01MB/s  eta 1m 43s "
       ]
      },
      {
       "output_type": "stream",
       "stream": "stdout",
       "text": [
        "\r",
        "71% [===========================>           ] 863,084,544 2.02MB/s  eta 1m 43s "
       ]
      },
      {
       "output_type": "stream",
       "stream": "stdout",
       "text": [
        "\r",
        "71% [===========================>           ] 863,510,528 2.02MB/s  eta 1m 43s "
       ]
      },
      {
       "output_type": "stream",
       "stream": "stdout",
       "text": [
        "\r",
        "71% [===========================>           ] 863,952,896 2.03MB/s  eta 1m 43s "
       ]
      },
      {
       "output_type": "stream",
       "stream": "stdout",
       "text": [
        "\r",
        "71% [===========================>           ] 864,411,648 2.03MB/s  eta 1m 42s "
       ]
      },
      {
       "output_type": "stream",
       "stream": "stdout",
       "text": [
        "\r",
        "72% [===========================>           ] 864,837,632 2.03MB/s  eta 1m 42s "
       ]
      },
      {
       "output_type": "stream",
       "stream": "stdout",
       "text": [
        "\r",
        "72% [===========================>           ] 865,296,384 2.03MB/s  eta 1m 42s "
       ]
      },
      {
       "output_type": "stream",
       "stream": "stdout",
       "text": [
        "\r",
        "72% [===========================>           ] 865,738,752 2.04MB/s  eta 1m 42s "
       ]
      },
      {
       "output_type": "stream",
       "stream": "stdout",
       "text": [
        "\r",
        "72% [===========================>           ] 866,181,120 2.04MB/s  eta 1m 42s "
       ]
      },
      {
       "output_type": "stream",
       "stream": "stdout",
       "text": [
        "\r",
        "72% [===========================>           ] 866,656,256 2.05MB/s  eta 1m 42s "
       ]
      },
      {
       "output_type": "stream",
       "stream": "stdout",
       "text": [
        "\r",
        "72% [===========================>           ] 867,082,240 2.05MB/s  eta 1m 42s "
       ]
      },
      {
       "output_type": "stream",
       "stream": "stdout",
       "text": [
        "\r",
        "72% [===========================>           ] 867,573,760 2.06MB/s  eta 1m 42s "
       ]
      },
      {
       "output_type": "stream",
       "stream": "stdout",
       "text": [
        "\r",
        "72% [===========================>           ] 868,032,512 2.07MB/s  eta 1m 42s "
       ]
      },
      {
       "output_type": "stream",
       "stream": "stdout",
       "text": [
        "\r",
        "72% [===========================>           ] 868,524,032 2.09MB/s  eta 1m 42s "
       ]
      },
      {
       "output_type": "stream",
       "stream": "stdout",
       "text": [
        "\r",
        "72% [===========================>           ] 868,999,168 2.11MB/s  eta 1m 41s "
       ]
      },
      {
       "output_type": "stream",
       "stream": "stdout",
       "text": [
        "\r",
        "72% [===========================>           ] 869,507,072 2.13MB/s  eta 1m 41s "
       ]
      },
      {
       "output_type": "stream",
       "stream": "stdout",
       "text": [
        "\r",
        "72% [===========================>           ] 870,014,976 2.15MB/s  eta 1m 41s "
       ]
      },
      {
       "output_type": "stream",
       "stream": "stdout",
       "text": [
        "\r",
        "72% [===========================>           ] 870,522,880 2.17MB/s  eta 1m 41s "
       ]
      },
      {
       "output_type": "stream",
       "stream": "stdout",
       "text": [
        "\r",
        "72% [===========================>           ] 871,079,936 2.21MB/s  eta 1m 41s "
       ]
      },
      {
       "output_type": "stream",
       "stream": "stdout",
       "text": [
        "\r",
        "72% [===========================>           ] 871,604,224 2.23MB/s  eta 1m 40s "
       ]
      },
      {
       "output_type": "stream",
       "stream": "stdout",
       "text": [
        "\r",
        "72% [===========================>           ] 872,194,048 2.29MB/s  eta 1m 40s "
       ]
      },
      {
       "output_type": "stream",
       "stream": "stdout",
       "text": [
        "\r",
        "72% [===========================>           ] 872,783,872 2.33MB/s  eta 1m 40s "
       ]
      },
      {
       "output_type": "stream",
       "stream": "stdout",
       "text": [
        "\r",
        "72% [===========================>           ] 873,390,080 2.37MB/s  eta 1m 40s "
       ]
      },
      {
       "output_type": "stream",
       "stream": "stdout",
       "text": [
        "\r",
        "72% [===========================>           ] 874,012,672 2.44MB/s  eta 1m 40s "
       ]
      },
      {
       "output_type": "stream",
       "stream": "stdout",
       "text": [
        "\r",
        "72% [===========================>           ] 874,700,800 2.51MB/s  eta 99s    "
       ]
      },
      {
       "output_type": "stream",
       "stream": "stdout",
       "text": [
        "\r",
        "72% [===========================>           ] 875,388,928 2.57MB/s  eta 99s    "
       ]
      },
      {
       "output_type": "stream",
       "stream": "stdout",
       "text": [
        "\r",
        "72% [===========================>           ] 876,093,440 2.64MB/s  eta 99s    "
       ]
      },
      {
       "output_type": "stream",
       "stream": "stdout",
       "text": [
        "\r",
        "73% [===========================>           ] 876,830,720 2.74MB/s  eta 99s    "
       ]
      },
      {
       "output_type": "stream",
       "stream": "stdout",
       "text": [
        "\r",
        "73% [===========================>           ] 877,600,768 2.82MB/s  eta 99s    "
       ]
      },
      {
       "output_type": "stream",
       "stream": "stdout",
       "text": [
        "\r",
        "73% [===========================>           ] 878,436,352 2.91MB/s  eta 98s    "
       ]
      },
      {
       "output_type": "stream",
       "stream": "stdout",
       "text": [
        "\r",
        "73% [===========================>           ] 879,239,168 3.02MB/s  eta 98s    "
       ]
      },
      {
       "output_type": "stream",
       "stream": "stdout",
       "text": [
        "\r",
        "73% [===========================>           ] 880,173,056 3.14MB/s  eta 98s    "
       ]
      },
      {
       "output_type": "stream",
       "stream": "stdout",
       "text": [
        "\r",
        "73% [===========================>           ] 881,057,792 3.24MB/s  eta 98s    "
       ]
      },
      {
       "output_type": "stream",
       "stream": "stdout",
       "text": [
        "\r",
        "73% [===========================>           ] 882,073,600 3.42MB/s  eta 98s    "
       ]
      },
      {
       "output_type": "stream",
       "stream": "stdout",
       "text": [
        "\r",
        "73% [===========================>           ] 883,007,488 3.53MB/s  eta 97s    "
       ]
      },
      {
       "output_type": "stream",
       "stream": "stdout",
       "text": [
        "\r",
        "73% [===========================>           ] 884,154,368 3.69MB/s  eta 97s    "
       ]
      },
      {
       "output_type": "stream",
       "stream": "stdout",
       "text": [
        "\r",
        "73% [===========================>           ] 885,219,328 3.88MB/s  eta 97s    "
       ]
      },
      {
       "output_type": "stream",
       "stream": "stdout",
       "text": [
        "\r",
        "73% [===========================>           ] 886,415,360 4.05MB/s  eta 97s    "
       ]
      },
      {
       "output_type": "stream",
       "stream": "stdout",
       "text": [
        "\r",
        "73% [===========================>           ] 887,627,776 4.21MB/s  eta 97s    "
       ]
      },
      {
       "output_type": "stream",
       "stream": "stdout",
       "text": [
        "\r",
        "74% [===========================>           ] 888,922,112 4.39MB/s  eta 95s    "
       ]
      },
      {
       "output_type": "stream",
       "stream": "stdout",
       "text": [
        "\r",
        "74% [===========================>           ] 890,249,216 4.63MB/s  eta 95s    "
       ]
      },
      {
       "output_type": "stream",
       "stream": "stdout",
       "text": [
        "\r",
        "74% [===========================>           ] 891,691,008 4.84MB/s  eta 95s    "
       ]
      },
      {
       "output_type": "stream",
       "stream": "stdout",
       "text": [
        "\r",
        "74% [============================>          ] 893,149,184 5.03MB/s  eta 95s    "
       ]
      },
      {
       "output_type": "stream",
       "stream": "stdout",
       "text": [
        "\r",
        "74% [============================>          ] 894,689,280 5.26MB/s  eta 95s    "
       ]
      },
      {
       "output_type": "stream",
       "stream": "stdout",
       "text": [
        "\r",
        "74% [============================>          ] 896,229,376 5.53MB/s  eta 92s    "
       ]
      },
      {
       "output_type": "stream",
       "stream": "stdout",
       "text": [
        "\r",
        "74% [============================>          ] 897,982,464 5.79MB/s  eta 92s    "
       ]
      },
      {
       "output_type": "stream",
       "stream": "stdout",
       "text": [
        "\r",
        "74% [============================>          ] 899,686,400 6.11MB/s  eta 92s    "
       ]
      },
      {
       "output_type": "stream",
       "stream": "stdout",
       "text": [
        "\r",
        "75% [============================>          ] 901,554,176 6.37MB/s  eta 92s    "
       ]
      },
      {
       "output_type": "stream",
       "stream": "stdout",
       "text": [
        "\r",
        "75% [============================>          ] 903,454,720 6.63MB/s  eta 92s    "
       ]
      },
      {
       "output_type": "stream",
       "stream": "stdout",
       "text": [
        "\r",
        "75% [============================>          ] 905,535,488 6.93MB/s  eta 89s    "
       ]
      },
      {
       "output_type": "stream",
       "stream": "stdout",
       "text": [
        "\r",
        "75% [============================>          ] 907,599,872 7.35MB/s  eta 89s    "
       ]
      },
      {
       "output_type": "stream",
       "stream": "stdout",
       "text": [
        "\r",
        "75% [============================>          ] 909,631,488 7.60MB/s  eta 89s    "
       ]
      },
      {
       "output_type": "stream",
       "stream": "stdout",
       "text": [
        "\r",
        "75% [============================>          ] 911,859,712 7.90MB/s  eta 89s    "
       ]
      },
      {
       "output_type": "stream",
       "stream": "stdout",
       "text": [
        "\r",
        "76% [============================>          ] 913,825,792 8.21MB/s  eta 89s    "
       ]
      },
      {
       "output_type": "stream",
       "stream": "stdout",
       "text": [
        "\r",
        "76% [============================>          ] 915,578,880 8.32MB/s  eta 85s    "
       ]
      },
      {
       "output_type": "stream",
       "stream": "stdout",
       "text": [
        "\r",
        "76% [============================>          ] 917,331,968 8.54MB/s  eta 85s    "
       ]
      },
      {
       "output_type": "stream",
       "stream": "stdout",
       "text": [
        "\r",
        "76% [============================>          ] 919,166,976 8.65MB/s  eta 85s    "
       ]
      },
      {
       "output_type": "stream",
       "stream": "stdout",
       "text": [
        "\r",
        "76% [============================>          ] 920,985,600 8.74MB/s  eta 85s    "
       ]
      },
      {
       "output_type": "stream",
       "stream": "stdout",
       "text": [
        "\r",
        "76% [============================>          ] 922,935,296 8.90MB/s  eta 85s    "
       ]
      },
      {
       "output_type": "stream",
       "stream": "stdout",
       "text": [
        "\r",
        "77% [=============================>         ] 924,729,344 8.95MB/s  eta 82s    "
       ]
      },
      {
       "output_type": "stream",
       "stream": "stdout",
       "text": [
        "\r",
        "77% [=============================>         ] 926,736,384 9.04MB/s  eta 82s    "
       ]
      },
      {
       "output_type": "stream",
       "stream": "stdout",
       "text": [
        "\r",
        "77% [=============================>         ] 928,522,240 9.10MB/s  eta 82s    "
       ]
      },
      {
       "output_type": "stream",
       "stream": "stdout",
       "text": [
        "\r",
        "77% [=============================>         ] 929,906,688 8.96MB/s  eta 82s    "
       ]
      },
      {
       "output_type": "stream",
       "stream": "stdout",
       "text": [
        "\r",
        "77% [=============================>         ] 931,422,208 8.83MB/s  eta 82s    "
       ]
      },
      {
       "output_type": "stream",
       "stream": "stdout",
       "text": [
        "\r",
        "77% [=============================>         ] 932,929,536 8.62MB/s  eta 79s    "
       ]
      },
      {
       "output_type": "stream",
       "stream": "stdout",
       "text": [
        "\r",
        "77% [=============================>         ] 934,436,864 8.47MB/s  eta 79s    "
       ]
      },
      {
       "output_type": "stream",
       "stream": "stdout",
       "text": [
        "\r",
        "77% [=============================>         ] 936,026,112 8.35MB/s  eta 79s    "
       ]
      },
      {
       "output_type": "stream",
       "stream": "stdout",
       "text": [
        "\r",
        "78% [=============================>         ] 937,533,440 8.08MB/s  eta 79s    "
       ]
      },
      {
       "output_type": "stream",
       "stream": "stdout",
       "text": [
        "\r",
        "78% [=============================>         ] 939,008,000 7.92MB/s  eta 79s    "
       ]
      },
      {
       "output_type": "stream",
       "stream": "stdout",
       "text": [
        "\r",
        "78% [=============================>         ] 940,679,168 7.90MB/s  eta 76s    "
       ]
      },
      {
       "output_type": "stream",
       "stream": "stdout",
       "text": [
        "\r",
        "78% [=============================>         ] 942,219,264 7.84MB/s  eta 76s    "
       ]
      },
      {
       "output_type": "stream",
       "stream": "stdout",
       "text": [
        "\r",
        "78% [=============================>         ] 943,923,200 7.80MB/s  eta 76s    "
       ]
      },
      {
       "output_type": "stream",
       "stream": "stdout",
       "text": [
        "\r",
        "78% [=============================>         ] 945,332,224 7.46MB/s  eta 76s    "
       ]
      },
      {
       "output_type": "stream",
       "stream": "stdout",
       "text": [
        "\r",
        "78% [=============================>         ] 947,200,000 7.46MB/s  eta 76s    "
       ]
      },
      {
       "output_type": "stream",
       "stream": "stdout",
       "text": [
        "\r",
        "78% [=============================>         ] 948,314,112 7.27MB/s  eta 74s    "
       ]
      },
      {
       "output_type": "stream",
       "stream": "stdout",
       "text": [
        "\r",
        "79% [=============================>         ] 949,526,528 7.12MB/s  eta 74s    "
       ]
      },
      {
       "output_type": "stream",
       "stream": "stdout",
       "text": [
        "\r",
        "79% [=============================>         ] 950,730,752 6.83MB/s  eta 74s    "
       ]
      },
      {
       "output_type": "stream",
       "stream": "stdout",
       "text": [
        "\r",
        "79% [=============================>         ] 952,000,512 6.76MB/s  eta 74s    "
       ]
      },
      {
       "output_type": "stream",
       "stream": "stdout",
       "text": [
        "\r",
        "79% [=============================>         ] 953,245,696 6.71MB/s  eta 74s    "
       ]
      },
      {
       "output_type": "stream",
       "stream": "stdout",
       "text": [
        "\r",
        "79% [==============================>        ] 954,507,264 6.65MB/s  eta 72s    "
       ]
      },
      {
       "output_type": "stream",
       "stream": "stdout",
       "text": [
        "\r",
        "79% [==============================>        ] 955,768,832 6.59MB/s  eta 72s    "
       ]
      },
      {
       "output_type": "stream",
       "stream": "stdout",
       "text": [
        "\r",
        "79% [==============================>        ] 957,063,168 6.53MB/s  eta 72s    "
       ]
      },
      {
       "output_type": "stream",
       "stream": "stdout",
       "text": [
        "\r",
        "79% [==============================>        ] 958,078,976 6.24MB/s  eta 72s    "
       ]
      },
      {
       "output_type": "stream",
       "stream": "stdout",
       "text": [
        "\r",
        "79% [==============================>        ] 959,537,152 6.22MB/s  eta 72s    "
       ]
      },
      {
       "output_type": "stream",
       "stream": "stdout",
       "text": [
        "\r",
        "79% [==============================>        ] 960,536,576 6.09MB/s  eta 70s    "
       ]
      },
      {
       "output_type": "stream",
       "stream": "stdout",
       "text": [
        "\r",
        "80% [==============================>        ] 961,486,848 5.93MB/s  eta 70s    "
       ]
      },
      {
       "output_type": "stream",
       "stream": "stdout",
       "text": [
        "\r",
        "80% [==============================>        ] 962,535,424 5.71MB/s  eta 70s    "
       ]
      },
      {
       "output_type": "stream",
       "stream": "stdout",
       "text": [
        "\r",
        "80% [==============================>        ] 963,518,464 5.54MB/s  eta 70s    "
       ]
      },
      {
       "output_type": "stream",
       "stream": "stdout",
       "text": [
        "\r",
        "80% [==============================>        ] 964,583,424 5.62MB/s  eta 70s    "
       ]
      },
      {
       "output_type": "stream",
       "stream": "stdout",
       "text": [
        "\r",
        "80% [==============================>        ] 965,632,000 5.38MB/s  eta 68s    "
       ]
      },
      {
       "output_type": "stream",
       "stream": "stdout",
       "text": [
        "\r",
        "80% [==============================>        ] 966,713,344 5.34MB/s  eta 68s    "
       ]
      },
      {
       "output_type": "stream",
       "stream": "stdout",
       "text": [
        "\r",
        "80% [==============================>        ] 967,843,840 5.32MB/s  eta 68s    "
       ]
      },
      {
       "output_type": "stream",
       "stream": "stdout",
       "text": [
        "\r",
        "80% [==============================>        ] 968,876,032 5.25MB/s  eta 68s    "
       ]
      },
      {
       "output_type": "stream",
       "stream": "stdout",
       "text": [
        "\r",
        "80% [==============================>        ] 970,022,912 5.24MB/s  eta 68s    "
       ]
      },
      {
       "output_type": "stream",
       "stream": "stdout",
       "text": [
        "\r",
        "80% [==============================>        ] 971,063,296 5.18MB/s  eta 66s    "
       ]
      },
      {
       "output_type": "stream",
       "stream": "stdout",
       "text": [
        "\r",
        "80% [==============================>        ] 972,201,984 5.13MB/s  eta 66s    "
       ]
      },
      {
       "output_type": "stream",
       "stream": "stdout",
       "text": [
        "\r",
        "81% [==============================>        ] 973,299,712 5.08MB/s  eta 66s    "
       ]
      },
      {
       "output_type": "stream",
       "stream": "stdout",
       "text": [
        "\r",
        "81% [==============================>        ] 974,249,984 5.02MB/s  eta 66s    "
       ]
      },
      {
       "output_type": "stream",
       "stream": "stdout",
       "text": [
        "\r",
        "81% [==============================>        ] 975,020,032 4.87MB/s  eta 66s    "
       ]
      },
      {
       "output_type": "stream",
       "stream": "stdout",
       "text": [
        "\r",
        "81% [==============================>        ] 975,855,616 4.81MB/s  eta 65s    "
       ]
      },
      {
       "output_type": "stream",
       "stream": "stdout",
       "text": [
        "\r",
        "81% [==============================>        ] 976,658,432 4.77MB/s  eta 65s    "
       ]
      },
      {
       "output_type": "stream",
       "stream": "stdout",
       "text": [
        "\r",
        "81% [==============================>        ] 977,477,632 4.73MB/s  eta 65s    "
       ]
      },
      {
       "output_type": "stream",
       "stream": "stdout",
       "text": [
        "\r",
        "81% [==============================>        ] 978,378,752 4.69MB/s  eta 65s    "
       ]
      },
      {
       "output_type": "stream",
       "stream": "stdout",
       "text": [
        "\r",
        "81% [==============================>        ] 979,263,488 4.65MB/s  eta 65s    "
       ]
      },
      {
       "output_type": "stream",
       "stream": "stdout",
       "text": [
        "\r",
        "81% [==============================>        ] 980,131,840 4.61MB/s  eta 64s    "
       ]
      },
      {
       "output_type": "stream",
       "stream": "stdout",
       "text": [
        "\r",
        "81% [==============================>        ] 981,065,728 4.55MB/s  eta 64s    "
       ]
      },
      {
       "output_type": "stream",
       "stream": "stdout",
       "text": [
        "\r",
        "81% [==============================>        ] 981,917,696 4.49MB/s  eta 64s    "
       ]
      },
      {
       "output_type": "stream",
       "stream": "stdout",
       "text": [
        "\r",
        "81% [==============================>        ] 982,884,352 4.45MB/s  eta 64s    "
       ]
      },
      {
       "output_type": "stream",
       "stream": "stdout",
       "text": [
        "\r",
        "81% [==============================>        ] 983,769,088 4.40MB/s  eta 64s    "
       ]
      },
      {
       "output_type": "stream",
       "stream": "stdout",
       "text": [
        "\r",
        "82% [==============================>        ] 984,719,360 4.32MB/s  eta 62s    "
       ]
      },
      {
       "output_type": "stream",
       "stream": "stdout",
       "text": [
        "\r",
        "82% [===============================>       ] 985,505,792 4.26MB/s  eta 62s    "
       ]
      },
      {
       "output_type": "stream",
       "stream": "stdout",
       "text": [
        "\r",
        "82% [===============================>       ] 986,177,536 4.13MB/s  eta 62s    "
       ]
      },
      {
       "output_type": "stream",
       "stream": "stdout",
       "text": [
        "\r",
        "82% [===============================>       ] 986,652,672 4.01MB/s  eta 62s    "
       ]
      },
      {
       "output_type": "stream",
       "stream": "stdout",
       "text": [
        "\r",
        "82% [===============================>       ] 987,406,336 3.87MB/s  eta 62s    "
       ]
      },
      {
       "output_type": "stream",
       "stream": "stdout",
       "text": [
        "\r",
        "82% [===============================>       ] 987,914,240 3.77MB/s  eta 61s    "
       ]
      },
      {
       "output_type": "stream",
       "stream": "stdout",
       "text": [
        "\r",
        "82% [===============================>       ] 988,422,144 3.68MB/s  eta 61s    "
       ]
      },
      {
       "output_type": "stream",
       "stream": "stdout",
       "text": [
        "\r",
        "82% [===============================>       ] 988,979,200 3.58MB/s  eta 61s    "
       ]
      },
      {
       "output_type": "stream",
       "stream": "stdout",
       "text": [
        "\r",
        "82% [===============================>       ] 989,421,568 3.40MB/s  eta 61s    "
       ]
      },
      {
       "output_type": "stream",
       "stream": "stdout",
       "text": [
        "\r",
        "82% [===============================>       ] 989,896,704 3.24MB/s  eta 61s    "
       ]
      },
      {
       "output_type": "stream",
       "stream": "stdout",
       "text": [
        "\r",
        "82% [===============================>       ] 990,322,688 3.11MB/s  eta 61s    "
       ]
      },
      {
       "output_type": "stream",
       "stream": "stdout",
       "text": [
        "\r",
        "82% [===============================>       ] 990,633,984 2.95MB/s  eta 61s    "
       ]
      },
      {
       "output_type": "stream",
       "stream": "stdout",
       "text": [
        "\r",
        "82% [===============================>       ] 990,945,280 2.72MB/s  eta 61s    "
       ]
      },
      {
       "output_type": "stream",
       "stream": "stdout",
       "text": [
        "\r",
        "82% [===============================>       ] 991,256,576 2.55MB/s  eta 61s    "
       ]
      },
      {
       "output_type": "stream",
       "stream": "stdout",
       "text": [
        "\r",
        "82% [===============================>       ] 991,584,256 2.40MB/s  eta 61s    "
       ]
      },
      {
       "output_type": "stream",
       "stream": "stdout",
       "text": [
        "\r",
        "82% [===============================>       ] 991,879,168 2.15MB/s  eta 60s    "
       ]
      },
      {
       "output_type": "stream",
       "stream": "stdout",
       "text": [
        "\r",
        "82% [===============================>       ] 992,223,232 2.02MB/s  eta 60s    "
       ]
      },
      {
       "output_type": "stream",
       "stream": "stdout",
       "text": [
        "\r",
        "82% [===============================>       ] 992,518,144 1.93MB/s  eta 60s    "
       ]
      },
      {
       "output_type": "stream",
       "stream": "stdout",
       "text": [
        "\r",
        "82% [===============================>       ] 992,878,592 1.85MB/s  eta 60s    "
       ]
      },
      {
       "output_type": "stream",
       "stream": "stdout",
       "text": [
        "\r",
        "82% [===============================>       ] 993,255,424 1.75MB/s  eta 60s    "
       ]
      },
      {
       "output_type": "stream",
       "stream": "stdout",
       "text": [
        "\r",
        "82% [===============================>       ] 993,533,952 1.70MB/s  eta 60s    "
       ]
      },
      {
       "output_type": "stream",
       "stream": "stdout",
       "text": [
        "\r",
        "82% [===============================>       ] 993,910,784 1.67MB/s  eta 60s    "
       ]
      },
      {
       "output_type": "stream",
       "stream": "stdout",
       "text": [
        "\r",
        "82% [===============================>       ] 994,189,312 1.56MB/s  eta 60s    "
       ]
      },
      {
       "output_type": "stream",
       "stream": "stdout",
       "text": [
        "\r",
        "82% [===============================>       ] 994,582,528 1.52MB/s  eta 60s    "
       ]
      },
      {
       "output_type": "stream",
       "stream": "stdout",
       "text": [
        "\r",
        "82% [===============================>       ] 994,861,056 1.49MB/s  eta 60s    "
       ]
      },
      {
       "output_type": "stream",
       "stream": "stdout",
       "text": [
        "\r",
        "82% [===============================>       ] 995,123,200 1.43MB/s  eta 60s    "
       ]
      },
      {
       "output_type": "stream",
       "stream": "stdout",
       "text": [
        "\r",
        "82% [===============================>       ] 995,352,576 1.41MB/s  eta 60s    "
       ]
      },
      {
       "output_type": "stream",
       "stream": "stdout",
       "text": [
        "\r",
        "82% [===============================>       ] 995,565,568 1.38MB/s  eta 60s    "
       ]
      },
      {
       "output_type": "stream",
       "stream": "stdout",
       "text": [
        "\r",
        "82% [===============================>       ] 995,778,560 1.34MB/s  eta 60s    "
       ]
      },
      {
       "output_type": "stream",
       "stream": "stdout",
       "text": [
        "\r",
        "82% [===============================>       ] 996,007,936 1.30MB/s  eta 60s    "
       ]
      },
      {
       "output_type": "stream",
       "stream": "stdout",
       "text": [
        "\r",
        "82% [===============================>       ] 996,188,160 1.26MB/s  eta 60s    "
       ]
      },
      {
       "output_type": "stream",
       "stream": "stdout",
       "text": [
        "\r",
        "82% [===============================>       ] 996,352,000 1.21MB/s  eta 60s    "
       ]
      },
      {
       "output_type": "stream",
       "stream": "stdout",
       "text": [
        "\r",
        "82% [===============================>       ] 996,483,072 1.16MB/s  eta 60s    "
       ]
      },
      {
       "output_type": "stream",
       "stream": "stdout",
       "text": [
        "\r",
        "83% [===============================>       ] 996,663,296 1.11MB/s  eta 60s    "
       ]
      },
      {
       "output_type": "stream",
       "stream": "stdout",
       "text": [
        "\r",
        "83% [===============================>       ] 996,827,136 1.05MB/s  eta 60s    "
       ]
      },
      {
       "output_type": "stream",
       "stream": "stdout",
       "text": [
        "\r",
        "83% [===============================>       ] 996,974,592 1.00MB/s  eta 60s    "
       ]
      },
      {
       "output_type": "stream",
       "stream": "stdout",
       "text": [
        "\r",
        "83% [===============================>       ] 997,122,048  936KB/s  eta 60s    "
       ]
      },
      {
       "output_type": "stream",
       "stream": "stdout",
       "text": [
        "\r",
        "83% [===============================>       ] 997,269,504  883KB/s  eta 60s    "
       ]
      },
      {
       "output_type": "stream",
       "stream": "stdout",
       "text": [
        "\r",
        "83% [===============================>       ] 997,416,960  772KB/s  eta 60s    "
       ]
      },
      {
       "output_type": "stream",
       "stream": "stdout",
       "text": [
        "\r",
        "83% [===============================>       ] 997,564,416  759KB/s  eta 60s    "
       ]
      },
      {
       "output_type": "stream",
       "stream": "stdout",
       "text": [
        "\r",
        "83% [===============================>       ] 997,679,104  712KB/s  eta 60s    "
       ]
      },
      {
       "output_type": "stream",
       "stream": "stdout",
       "text": [
        "\r",
        "83% [===============================>       ] 997,777,408  665KB/s  eta 60s    "
       ]
      },
      {
       "output_type": "stream",
       "stream": "stdout",
       "text": [
        "\r",
        "83% [===============================>       ] 997,892,096  646KB/s  eta 60s    "
       ]
      },
      {
       "output_type": "stream",
       "stream": "stdout",
       "text": [
        "\r",
        "83% [===============================>       ] 998,023,168  610KB/s  eta 60s    "
       ]
      },
      {
       "output_type": "stream",
       "stream": "stdout",
       "text": [
        "\r",
        "83% [===============================>       ] 998,154,240  609KB/s  eta 60s    "
       ]
      },
      {
       "output_type": "stream",
       "stream": "stdout",
       "text": [
        "\r",
        "83% [===============================>       ] 998,285,312  575KB/s  eta 60s    "
       ]
      },
      {
       "output_type": "stream",
       "stream": "stdout",
       "text": [
        "\r",
        "83% [===============================>       ] 998,400,000  561KB/s  eta 60s    "
       ]
      },
      {
       "output_type": "stream",
       "stream": "stdout",
       "text": [
        "\r",
        "83% [===============================>       ] 998,498,304  534KB/s  eta 60s    "
       ]
      },
      {
       "output_type": "stream",
       "stream": "stdout",
       "text": [
        "\r",
        "83% [===============================>       ] 998,596,608  516KB/s  eta 60s    "
       ]
      },
      {
       "output_type": "stream",
       "stream": "stdout",
       "text": [
        "\r",
        "83% [===============================>       ] 998,694,912  511KB/s  eta 60s    "
       ]
      },
      {
       "output_type": "stream",
       "stream": "stdout",
       "text": [
        "\r",
        "83% [===============================>       ] 998,793,216  491KB/s  eta 60s    "
       ]
      },
      {
       "output_type": "stream",
       "stream": "stdout",
       "text": [
        "\r",
        "83% [===============================>       ] 998,907,904  486KB/s  eta 60s    "
       ]
      },
      {
       "output_type": "stream",
       "stream": "stdout",
       "text": [
        "\r",
        "83% [===============================>       ] 999,006,208  481KB/s  eta 60s    "
       ]
      },
      {
       "output_type": "stream",
       "stream": "stdout",
       "text": [
        "\r",
        "83% [===============================>       ] 999,120,896  492KB/s  eta 60s    "
       ]
      },
      {
       "output_type": "stream",
       "stream": "stdout",
       "text": [
        "\r",
        "83% [===============================>       ] 999,235,584  483KB/s  eta 60s    "
       ]
      },
      {
       "output_type": "stream",
       "stream": "stdout",
       "text": [
        "\r",
        "83% [===============================>       ] 999,350,272  484KB/s  eta 60s    "
       ]
      },
      {
       "output_type": "stream",
       "stream": "stdout",
       "text": [
        "\r",
        "83% [===============================>       ] 999,464,960  487KB/s  eta 60s    "
       ]
      },
      {
       "output_type": "stream",
       "stream": "stdout",
       "text": [
        "\r",
        "83% [===============================>       ] 999,579,648  488KB/s  eta 60s    "
       ]
      },
      {
       "output_type": "stream",
       "stream": "stdout",
       "text": [
        "\r",
        "83% [===============================>       ] 999,694,336  488KB/s  eta 60s    "
       ]
      },
      {
       "output_type": "stream",
       "stream": "stdout",
       "text": [
        "\r",
        "83% [===============================>       ] 999,825,408  488KB/s  eta 60s    "
       ]
      },
      {
       "output_type": "stream",
       "stream": "stdout",
       "text": [
        "\r",
        "83% [===============================>       ] 999,956,480  490KB/s  eta 60s    "
       ]
      },
      {
       "output_type": "stream",
       "stream": "stdout",
       "text": [
        "\r",
        "83% [=============================>       ] 1,000,087,552  501KB/s  eta 60s    "
       ]
      },
      {
       "output_type": "stream",
       "stream": "stdout",
       "text": [
        "\r",
        "83% [=============================>       ] 1,000,218,624  504KB/s  eta 60s    "
       ]
      },
      {
       "output_type": "stream",
       "stream": "stdout",
       "text": [
        "\r",
        "83% [=============================>       ] 1,000,349,696  512KB/s  eta 60s    "
       ]
      },
      {
       "output_type": "stream",
       "stream": "stdout",
       "text": [
        "\r",
        "83% [=============================>       ] 1,000,480,768  519KB/s  eta 60s    "
       ]
      },
      {
       "output_type": "stream",
       "stream": "stdout",
       "text": [
        "\r",
        "83% [=============================>       ] 1,000,611,840  521KB/s  eta 60s    "
       ]
      },
      {
       "output_type": "stream",
       "stream": "stdout",
       "text": [
        "\r",
        "83% [=============================>       ] 1,000,742,912  508KB/s  eta 60s    "
       ]
      },
      {
       "output_type": "stream",
       "stream": "stdout",
       "text": [
        "\r",
        "83% [=============================>       ] 1,000,873,984  513KB/s  eta 60s    "
       ]
      },
      {
       "output_type": "stream",
       "stream": "stdout",
       "text": [
        "\r",
        "83% [=============================>       ] 1,000,988,672  507KB/s  eta 60s    "
       ]
      },
      {
       "output_type": "stream",
       "stream": "stdout",
       "text": [
        "\r",
        "83% [=============================>       ] 1,001,103,360  503KB/s  eta 60s    "
       ]
      },
      {
       "output_type": "stream",
       "stream": "stdout",
       "text": [
        "\r",
        "83% [=============================>       ] 1,001,234,432  500KB/s  eta 60s    "
       ]
      },
      {
       "output_type": "stream",
       "stream": "stdout",
       "text": [
        "\r",
        "83% [=============================>       ] 1,001,365,504  502KB/s  eta 60s    "
       ]
      },
      {
       "output_type": "stream",
       "stream": "stdout",
       "text": [
        "\r",
        "83% [=============================>       ] 1,001,496,576  500KB/s  eta 60s    "
       ]
      },
      {
       "output_type": "stream",
       "stream": "stdout",
       "text": [
        "\r",
        "83% [=============================>       ] 1,001,627,648  503KB/s  eta 60s    "
       ]
      },
      {
       "output_type": "stream",
       "stream": "stdout",
       "text": [
        "\r",
        "83% [=============================>       ] 1,001,758,720  500KB/s  eta 60s    "
       ]
      },
      {
       "output_type": "stream",
       "stream": "stdout",
       "text": [
        "\r",
        "83% [=============================>       ] 1,001,889,792  508KB/s  eta 60s    "
       ]
      },
      {
       "output_type": "stream",
       "stream": "stdout",
       "text": [
        "\r",
        "83% [=============================>       ] 1,002,020,864  510KB/s  eta 60s    "
       ]
      },
      {
       "output_type": "stream",
       "stream": "stdout",
       "text": [
        "\r",
        "83% [=============================>       ] 1,002,168,320  512KB/s  eta 60s    "
       ]
      },
      {
       "output_type": "stream",
       "stream": "stdout",
       "text": [
        "\r",
        "83% [=============================>       ] 1,002,299,392  515KB/s  eta 60s    "
       ]
      },
      {
       "output_type": "stream",
       "stream": "stdout",
       "text": [
        "\r",
        "83% [=============================>       ] 1,002,414,080  514KB/s  eta 60s    "
       ]
      },
      {
       "output_type": "stream",
       "stream": "stdout",
       "text": [
        "\r",
        "83% [=============================>       ] 1,002,545,152  537KB/s  eta 60s    "
       ]
      },
      {
       "output_type": "stream",
       "stream": "stdout",
       "text": [
        "\r",
        "83% [=============================>       ] 1,002,676,224  537KB/s  eta 60s    "
       ]
      },
      {
       "output_type": "stream",
       "stream": "stdout",
       "text": [
        "\r",
        "83% [=============================>       ] 1,002,790,912  547KB/s  eta 60s    "
       ]
      },
      {
       "output_type": "stream",
       "stream": "stdout",
       "text": [
        "\r",
        "83% [=============================>       ] 1,002,921,984  550KB/s  eta 60s    "
       ]
      },
      {
       "output_type": "stream",
       "stream": "stdout",
       "text": [
        "\r",
        "83% [=============================>       ] 1,003,053,056  558KB/s  eta 60s    "
       ]
      },
      {
       "output_type": "stream",
       "stream": "stdout",
       "text": [
        "\r",
        "83% [=============================>       ] 1,003,184,128  564KB/s  eta 60s    "
       ]
      },
      {
       "output_type": "stream",
       "stream": "stdout",
       "text": [
        "\r",
        "83% [=============================>       ] 1,003,298,816  566KB/s  eta 60s    "
       ]
      },
      {
       "output_type": "stream",
       "stream": "stdout",
       "text": [
        "\r",
        "83% [=============================>       ] 1,003,429,888  569KB/s  eta 60s    "
       ]
      },
      {
       "output_type": "stream",
       "stream": "stdout",
       "text": [
        "\r",
        "83% [=============================>       ] 1,003,560,960  570KB/s  eta 60s    "
       ]
      },
      {
       "output_type": "stream",
       "stream": "stdout",
       "text": [
        "\r",
        "83% [=============================>       ] 1,003,692,032  576KB/s  eta 60s    "
       ]
      },
      {
       "output_type": "stream",
       "stream": "stdout",
       "text": [
        "\r",
        "83% [=============================>       ] 1,003,839,488  584KB/s  eta 60s    "
       ]
      },
      {
       "output_type": "stream",
       "stream": "stdout",
       "text": [
        "\r",
        "83% [=============================>       ] 1,003,986,944  591KB/s  eta 60s    "
       ]
      },
      {
       "output_type": "stream",
       "stream": "stdout",
       "text": [
        "\r",
        "83% [=============================>       ] 1,004,134,400  597KB/s  eta 60s    "
       ]
      },
      {
       "output_type": "stream",
       "stream": "stdout",
       "text": [
        "\r",
        "83% [=============================>       ] 1,004,314,624  612KB/s  eta 60s    "
       ]
      },
      {
       "output_type": "stream",
       "stream": "stdout",
       "text": [
        "\r",
        "83% [=============================>       ] 1,004,494,848  629KB/s  eta 60s    "
       ]
      },
      {
       "output_type": "stream",
       "stream": "stdout",
       "text": [
        "\r",
        "83% [=============================>       ] 1,004,658,688  638KB/s  eta 60s    "
       ]
      },
      {
       "output_type": "stream",
       "stream": "stdout",
       "text": [
        "\r",
        "83% [=============================>       ] 1,004,855,296  665KB/s  eta 60s    "
       ]
      },
      {
       "output_type": "stream",
       "stream": "stdout",
       "text": [
        "\r",
        "83% [=============================>       ] 1,005,084,672  689KB/s  eta 60s    "
       ]
      },
      {
       "output_type": "stream",
       "stream": "stdout",
       "text": [
        "\r",
        "83% [=============================>       ] 1,005,314,048  719KB/s  eta 59s    "
       ]
      },
      {
       "output_type": "stream",
       "stream": "stdout",
       "text": [
        "\r",
        "83% [=============================>       ] 1,005,510,656  746KB/s  eta 59s    "
       ]
      },
      {
       "output_type": "stream",
       "stream": "stdout",
       "text": [
        "\r",
        "83% [=============================>       ] 1,005,805,568  788KB/s  eta 59s    "
       ]
      },
      {
       "output_type": "stream",
       "stream": "stdout",
       "text": [
        "\r",
        "83% [==============================>      ] 1,006,100,480  831KB/s  eta 59s    "
       ]
      },
      {
       "output_type": "stream",
       "stream": "stdout",
       "text": [
        "\r",
        "83% [==============================>      ] 1,006,428,160  900KB/s  eta 59s    "
       ]
      },
      {
       "output_type": "stream",
       "stream": "stdout",
       "text": [
        "\r",
        "83% [==============================>      ] 1,006,690,304  933KB/s  eta 59s    "
       ]
      },
      {
       "output_type": "stream",
       "stream": "stdout",
       "text": [
        "\r",
        "83% [==============================>      ] 1,007,083,520 1013KB/s  eta 59s    "
       ]
      },
      {
       "output_type": "stream",
       "stream": "stdout",
       "text": [
        "\r",
        "83% [==============================>      ] 1,007,509,504 1.06MB/s  eta 59s    "
       ]
      },
      {
       "output_type": "stream",
       "stream": "stdout",
       "text": [
        "\r",
        "83% [==============================>      ] 1,007,968,256 1.14MB/s  eta 59s    "
       ]
      },
      {
       "output_type": "stream",
       "stream": "stdout",
       "text": [
        "\r",
        "83% [==============================>      ] 1,008,361,472 1.23MB/s  eta 59s    "
       ]
      },
      {
       "output_type": "stream",
       "stream": "stdout",
       "text": [
        "\r",
        "84% [==============================>      ] 1,008,852,992 1.31MB/s  eta 59s    "
       ]
      },
      {
       "output_type": "stream",
       "stream": "stdout",
       "text": [
        "\r",
        "84% [==============================>      ] 1,009,442,816 1.44MB/s  eta 59s    "
       ]
      },
      {
       "output_type": "stream",
       "stream": "stdout",
       "text": [
        "\r",
        "84% [==============================>      ] 1,010,065,408 1.56MB/s  eta 59s    "
       ]
      },
      {
       "output_type": "stream",
       "stream": "stdout",
       "text": [
        "\r",
        "84% [==============================>      ] 1,010,540,544 1.64MB/s  eta 59s    "
       ]
      },
      {
       "output_type": "stream",
       "stream": "stdout",
       "text": [
        "\r",
        "84% [==============================>      ] 1,011,261,440 1.78MB/s  eta 59s    "
       ]
      },
      {
       "output_type": "stream",
       "stream": "stdout",
       "text": [
        "\r",
        "84% [==============================>      ] 1,011,818,496 1.91MB/s  eta 58s    "
       ]
      },
      {
       "output_type": "stream",
       "stream": "stdout",
       "text": [
        "\r",
        "84% [==============================>      ] 1,012,654,080 2.08MB/s  eta 58s    "
       ]
      },
      {
       "output_type": "stream",
       "stream": "stdout",
       "text": [
        "\r",
        "84% [==============================>      ] 1,013,276,672 2.18MB/s  eta 58s    "
       ]
      },
      {
       "output_type": "stream",
       "stream": "stdout",
       "text": [
        "\r",
        "84% [==============================>      ] 1,014,226,944 2.40MB/s  eta 58s    "
       ]
      },
      {
       "output_type": "stream",
       "stream": "stdout",
       "text": [
        "\r",
        "84% [==============================>      ] 1,015,275,520 2.59MB/s  eta 58s    "
       ]
      },
      {
       "output_type": "stream",
       "stream": "stdout",
       "text": [
        "\r",
        "84% [==============================>      ] 1,016,373,248 2.80MB/s  eta 56s    "
       ]
      },
      {
       "output_type": "stream",
       "stream": "stdout",
       "text": [
        "\r",
        "84% [==============================>      ] 1,017,225,216 3.00MB/s  eta 56s    "
       ]
      },
      {
       "output_type": "stream",
       "stream": "stdout",
       "text": [
        "\r",
        "84% [==============================>      ] 1,018,470,400 3.24MB/s  eta 56s    "
       ]
      },
      {
       "output_type": "stream",
       "stream": "stdout",
       "text": [
        "\r",
        "84% [==============================>      ] 1,019,453,440 3.40MB/s  eta 56s    "
       ]
      },
      {
       "output_type": "stream",
       "stream": "stdout",
       "text": [
        "\r",
        "85% [==============================>      ] 1,020,813,312 3.65MB/s  eta 56s    "
       ]
      },
      {
       "output_type": "stream",
       "stream": "stdout",
       "text": [
        "\r",
        "85% [==============================>      ] 1,021,976,576 3.94MB/s  eta 54s    "
       ]
      },
      {
       "output_type": "stream",
       "stream": "stdout",
       "text": [
        "\r",
        "85% [==============================>      ] 1,023,451,136 4.20MB/s  eta 54s    "
       ]
      },
      {
       "output_type": "stream",
       "stream": "stdout",
       "text": [
        "\r",
        "85% [==============================>      ] 1,024,843,776 4.44MB/s  eta 54s    "
       ]
      },
      {
       "output_type": "stream",
       "stream": "stdout",
       "text": [
        "\r",
        "85% [==============================>      ] 1,026,383,872 4.70MB/s  eta 54s    "
       ]
      },
      {
       "output_type": "stream",
       "stream": "stdout",
       "text": [
        "\r",
        "85% [==============================>      ] 1,027,850,240 5.05MB/s  eta 54s    "
       ]
      },
      {
       "output_type": "stream",
       "stream": "stdout",
       "text": [
        "\r",
        "85% [==============================>      ] 1,029,677,056 5.37MB/s  eta 52s    "
       ]
      },
      {
       "output_type": "stream",
       "stream": "stdout",
       "text": [
        "\r",
        "85% [==============================>      ] 1,031,413,760 5.67MB/s  eta 52s    "
       ]
      },
      {
       "output_type": "stream",
       "stream": "stdout",
       "text": [
        "\r",
        "86% [==============================>      ] 1,033,330,688 5.99MB/s  eta 52s    "
       ]
      },
      {
       "output_type": "stream",
       "stream": "stdout",
       "text": [
        "\r",
        "86% [==============================>      ] 1,035,247,616 6.42MB/s  eta 52s    "
       ]
      },
      {
       "output_type": "stream",
       "stream": "stdout",
       "text": [
        "\r",
        "86% [==============================>      ] 1,037,393,920 6.76MB/s  eta 52s    "
       ]
      },
      {
       "output_type": "stream",
       "stream": "stdout",
       "text": [
        "\r",
        "86% [===============================>     ] 1,039,564,800 7.10MB/s  eta 49s    "
       ]
      },
      {
       "output_type": "stream",
       "stream": "stdout",
       "text": [
        "\r",
        "86% [===============================>     ] 1,041,899,520 7.62MB/s  eta 49s    "
       ]
      },
      {
       "output_type": "stream",
       "stream": "stdout",
       "text": [
        "\r",
        "86% [===============================>     ] 1,044,258,816 7.98MB/s  eta 49s    "
       ]
      },
      {
       "output_type": "stream",
       "stream": "stdout",
       "text": [
        "\r",
        "87% [===============================>     ] 1,046,847,488 8.39MB/s  eta 49s    "
       ]
      },
      {
       "output_type": "stream",
       "stream": "stdout",
       "text": [
        "\r",
        "87% [===============================>     ] 1,049,518,080 8.95MB/s  eta 49s    "
       ]
      },
      {
       "output_type": "stream",
       "stream": "stdout",
       "text": [
        "\r",
        "87% [===============================>     ] 1,052,286,976 9.36MB/s  eta 44s    "
       ]
      },
      {
       "output_type": "stream",
       "stream": "stdout",
       "text": [
        "\r",
        "87% [===============================>     ] 1,055,219,712 9.81MB/s  eta 44s    "
       ]
      },
      {
       "output_type": "stream",
       "stream": "stdout",
       "text": [
        "\r",
        "88% [===============================>     ] 1,058,185,216 10.4MB/s  eta 44s    "
       ]
      },
      {
       "output_type": "stream",
       "stream": "stdout",
       "text": [
        "\r",
        "88% [===============================>     ] 1,061,478,400 10.9MB/s  eta 44s    "
       ]
      },
      {
       "output_type": "stream",
       "stream": "stdout",
       "text": [
        "\r",
        "88% [===============================>     ] 1,064,640,512 11.4MB/s  eta 44s    "
       ]
      },
      {
       "output_type": "stream",
       "stream": "stdout",
       "text": [
        "\r",
        "88% [===============================>     ] 1,068,113,920 12.1MB/s  eta 39s    "
       ]
      },
      {
       "output_type": "stream",
       "stream": "stdout",
       "text": [
        "\r",
        "89% [================================>    ] 1,071,636,480 12.6MB/s  eta 39s    "
       ]
      },
      {
       "output_type": "stream",
       "stream": "stdout",
       "text": [
        "\r",
        "89% [================================>    ] 1,074,896,896 12.9MB/s  eta 39s    "
       ]
      },
      {
       "output_type": "stream",
       "stream": "stdout",
       "text": [
        "\r",
        "89% [================================>    ] 1,077,633,024 13.2MB/s  eta 39s    "
       ]
      },
      {
       "output_type": "stream",
       "stream": "stdout",
       "text": [
        "\r",
        "89% [================================>    ] 1,080,385,536 13.5MB/s  eta 39s    "
       ]
      },
      {
       "output_type": "stream",
       "stream": "stdout",
       "text": [
        "\r",
        "90% [================================>    ] 1,083,269,120 13.7MB/s  eta 34s    "
       ]
      },
      {
       "output_type": "stream",
       "stream": "stdout",
       "text": [
        "\r",
        "90% [================================>    ] 1,086,087,168 13.8MB/s  eta 34s    "
       ]
      },
      {
       "output_type": "stream",
       "stream": "stdout",
       "text": [
        "\r",
        "90% [================================>    ] 1,086,791,680 13.3MB/s  eta 34s    "
       ]
      },
      {
       "output_type": "stream",
       "stream": "stdout",
       "text": [
        "\r",
        "90% [================================>    ] 1,090,445,312 13.6MB/s  eta 34s    "
       ]
      },
      {
       "output_type": "stream",
       "stream": "stdout",
       "text": [
        "\r",
        "90% [================================>    ] 1,092,542,464 13.6MB/s  eta 34s    "
       ]
      },
      {
       "output_type": "stream",
       "stream": "stdout",
       "text": [
        "\r",
        "91% [================================>    ] 1,094,574,080 13.3MB/s  eta 31s    "
       ]
      },
      {
       "output_type": "stream",
       "stream": "stdout",
       "text": [
        "\r",
        "91% [================================>    ] 1,096,851,456 13.2MB/s  eta 31s    "
       ]
      },
      {
       "output_type": "stream",
       "stream": "stdout",
       "text": [
        "\r",
        "91% [================================>    ] 1,098,850,304 12.9MB/s  eta 31s    "
       ]
      },
      {
       "output_type": "stream",
       "stream": "stdout",
       "text": [
        "\r",
        "91% [================================>    ] 1,101,012,992 12.7MB/s  eta 31s    "
       ]
      },
      {
       "output_type": "stream",
       "stream": "stdout",
       "text": [
        "\r",
        "91% [================================>    ] 1,102,405,632 12.2MB/s  eta 31s    "
       ]
      },
      {
       "output_type": "stream",
       "stream": "stdout",
       "text": [
        "\r",
        "91% [=================================>   ] 1,104,158,720 11.6MB/s  eta 28s    "
       ]
      },
      {
       "output_type": "stream",
       "stream": "stdout",
       "text": [
        "\r",
        "92% [=================================>   ] 1,105,600,512 11.0MB/s  eta 28s    "
       ]
      },
      {
       "output_type": "stream",
       "stream": "stdout",
       "text": [
        "\r",
        "92% [=================================>   ] 1,106,862,080 10.5MB/s  eta 28s    "
       ]
      },
      {
       "output_type": "stream",
       "stream": "stdout",
       "text": [
        "\r",
        "92% [=================================>   ] 1,107,976,192 10.2MB/s  eta 28s    "
       ]
      },
      {
       "output_type": "stream",
       "stream": "stdout",
       "text": [
        "\r",
        "92% [=================================>   ] 1,109,254,144 9.25MB/s  eta 28s    "
       ]
      },
      {
       "output_type": "stream",
       "stream": "stdout",
       "text": [
        "\r",
        "92% [=================================>   ] 1,110,433,792 8.83MB/s  eta 26s    "
       ]
      },
      {
       "output_type": "stream",
       "stream": "stdout",
       "text": [
        "\r",
        "92% [=================================>   ] 1,111,760,896 8.45MB/s  eta 26s    "
       ]
      },
      {
       "output_type": "stream",
       "stream": "stdout",
       "text": [
        "\r",
        "92% [=================================>   ] 1,112,973,312 8.07MB/s  eta 26s    "
       ]
      },
      {
       "output_type": "stream",
       "stream": "stdout",
       "text": [
        "\r",
        "92% [=================================>   ] 1,114,234,880 7.52MB/s  eta 26s    "
       ]
      },
      {
       "output_type": "stream",
       "stream": "stdout",
       "text": [
        "\r",
        "92% [=================================>   ] 1,115,611,136 7.37MB/s  eta 26s    "
       ]
      },
      {
       "output_type": "stream",
       "stream": "stdout",
       "text": [
        "\r",
        "93% [=================================>   ] 1,116,938,240 7.07MB/s  eta 24s    "
       ]
      },
      {
       "output_type": "stream",
       "stream": "stdout",
       "text": [
        "\r",
        "93% [=================================>   ] 1,118,281,728 6.86MB/s  eta 24s    "
       ]
      },
      {
       "output_type": "stream",
       "stream": "stdout",
       "text": [
        "\r",
        "93% [=================================>   ] 1,119,641,600 6.67MB/s  eta 24s    "
       ]
      },
      {
       "output_type": "stream",
       "stream": "stdout",
       "text": [
        "\r",
        "93% [=================================>   ] 1,121,034,240 6.58MB/s  eta 24s    "
       ]
      },
      {
       "output_type": "stream",
       "stream": "stdout",
       "text": [
        "\r",
        "93% [=================================>   ] 1,122,377,728 6.26MB/s  eta 24s    "
       ]
      },
      {
       "output_type": "stream",
       "stream": "stdout",
       "text": [
        "\r",
        "93% [=================================>   ] 1,123,803,136 6.30MB/s  eta 22s    "
       ]
      },
      {
       "output_type": "stream",
       "stream": "stdout",
       "text": [
        "\r",
        "93% [=================================>   ] 1,125,163,008 6.24MB/s  eta 22s    "
       ]
      },
      {
       "output_type": "stream",
       "stream": "stdout",
       "text": [
        "\r",
        "93% [=================================>   ] 1,126,588,416 6.20MB/s  eta 22s    "
       ]
      },
      {
       "output_type": "stream",
       "stream": "stdout",
       "text": [
        "\r",
        "93% [=================================>   ] 1,127,964,672 6.24MB/s  eta 22s    "
       ]
      },
      {
       "output_type": "stream",
       "stream": "stdout",
       "text": [
        "\r",
        "94% [=================================>   ] 1,129,390,080 6.31MB/s  eta 22s    "
       ]
      },
      {
       "output_type": "stream",
       "stream": "stdout",
       "text": [
        "\r",
        "94% [=================================>   ] 1,130,766,336 6.40MB/s  eta 20s    "
       ]
      },
      {
       "output_type": "stream",
       "stream": "stdout",
       "text": [
        "\r",
        "94% [=================================>   ] 1,132,142,592 6.43MB/s  eta 20s    "
       ]
      },
      {
       "output_type": "stream",
       "stream": "stdout",
       "text": [
        "\r",
        "94% [=================================>   ] 1,133,568,000 6.47MB/s  eta 20s    "
       ]
      },
      {
       "output_type": "stream",
       "stream": "stdout",
       "text": [
        "\r",
        "94% [=================================>   ] 1,135,009,792 6.57MB/s  eta 20s    "
       ]
      },
      {
       "output_type": "stream",
       "stream": "stdout",
       "text": [
        "\r",
        "94% [==================================>  ] 1,136,386,048 6.59MB/s  eta 20s    "
       ]
      },
      {
       "output_type": "stream",
       "stream": "stdout",
       "text": [
        "\r",
        "94% [==================================>  ] 1,137,762,304 6.60MB/s  eta 18s    "
       ]
      },
      {
       "output_type": "stream",
       "stream": "stdout",
       "text": [
        "\r",
        "94% [==================================>  ] 1,139,269,632 6.64MB/s  eta 18s    "
       ]
      },
      {
       "output_type": "stream",
       "stream": "stdout",
       "text": [
        "\r",
        "94% [==================================>  ] 1,140,629,504 6.63MB/s  eta 18s    "
       ]
      },
      {
       "output_type": "stream",
       "stream": "stdout",
       "text": [
        "\r",
        "95% [==================================>  ] 1,142,038,528 6.64MB/s  eta 18s    "
       ]
      },
      {
       "output_type": "stream",
       "stream": "stdout",
       "text": [
        "\r",
        "95% [==================================>  ] 1,143,332,864 6.63MB/s  eta 18s    "
       ]
      },
      {
       "output_type": "stream",
       "stream": "stdout",
       "text": [
        "\r",
        "95% [==================================>  ] 1,144,348,672 6.51MB/s  eta 16s    "
       ]
      },
      {
       "output_type": "stream",
       "stream": "stdout",
       "text": [
        "\r",
        "95% [==================================>  ] 1,145,413,632 6.40MB/s  eta 16s    "
       ]
      },
      {
       "output_type": "stream",
       "stream": "stdout",
       "text": [
        "\r",
        "95% [==================================>  ] 1,146,445,824 6.30MB/s  eta 16s    "
       ]
      },
      {
       "output_type": "stream",
       "stream": "stdout",
       "text": [
        "\r",
        "95% [==================================>  ] 1,147,609,088 6.23MB/s  eta 16s    "
       ]
      },
      {
       "output_type": "stream",
       "stream": "stdout",
       "text": [
        "\r",
        "95% [==================================>  ] 1,148,690,432 6.15MB/s  eta 16s    "
       ]
      },
      {
       "output_type": "stream",
       "stream": "stdout",
       "text": [
        "\r",
        "95% [==================================>  ] 1,149,943,808 6.06MB/s  eta 14s    "
       ]
      },
      {
       "output_type": "stream",
       "stream": "stdout",
       "text": [
        "\r",
        "95% [==================================>  ] 1,151,049,728 5.98MB/s  eta 14s    "
       ]
      },
      {
       "output_type": "stream",
       "stream": "stdout",
       "text": [
        "\r",
        "95% [==================================>  ] 1,152,393,216 5.96MB/s  eta 14s    "
       ]
      },
      {
       "output_type": "stream",
       "stream": "stdout",
       "text": [
        "\r",
        "96% [==================================>  ] 1,153,605,632 5.86MB/s  eta 14s    "
       ]
      },
      {
       "output_type": "stream",
       "stream": "stdout",
       "text": [
        "\r",
        "96% [==================================>  ] 1,154,899,968 5.83MB/s  eta 14s    "
       ]
      },
      {
       "output_type": "stream",
       "stream": "stdout",
       "text": [
        "\r",
        "96% [==================================>  ] 1,156,194,304 5.82MB/s  eta 13s    "
       ]
      },
      {
       "output_type": "stream",
       "stream": "stdout",
       "text": [
        "\r",
        "96% [==================================>  ] 1,157,488,640 5.76MB/s  eta 13s    "
       ]
      },
      {
       "output_type": "stream",
       "stream": "stdout",
       "text": [
        "\r",
        "96% [==================================>  ] 1,158,799,360 5.74MB/s  eta 13s    "
       ]
      },
      {
       "output_type": "stream",
       "stream": "stdout",
       "text": [
        "\r",
        "96% [==================================>  ] 1,160,142,848 5.72MB/s  eta 13s    "
       ]
      },
      {
       "output_type": "stream",
       "stream": "stdout",
       "text": [
        "\r",
        "96% [==================================>  ] 1,161,519,104 5.74MB/s  eta 13s    "
       ]
      },
      {
       "output_type": "stream",
       "stream": "stdout",
       "text": [
        "\r",
        "96% [==================================>  ] 1,162,846,208 5.79MB/s  eta 11s    "
       ]
      },
      {
       "output_type": "stream",
       "stream": "stdout",
       "text": [
        "\r",
        "96% [==================================>  ] 1,164,320,768 5.91MB/s  eta 11s    "
       ]
      },
      {
       "output_type": "stream",
       "stream": "stdout",
       "text": [
        "\r",
        "97% [==================================>  ] 1,165,598,720 5.97MB/s  eta 11s    "
       ]
      },
      {
       "output_type": "stream",
       "stream": "stdout",
       "text": [
        "\r",
        "97% [==================================>  ] 1,167,073,280 6.09MB/s  eta 11s    "
       ]
      },
      {
       "output_type": "stream",
       "stream": "stdout",
       "text": [
        "\r",
        "97% [===================================> ] 1,168,416,768 6.14MB/s  eta 11s    "
       ]
      },
      {
       "output_type": "stream",
       "stream": "stdout",
       "text": [
        "\r",
        "97% [===================================> ] 1,169,858,560 6.22MB/s  eta 9s     "
       ]
      },
      {
       "output_type": "stream",
       "stream": "stdout",
       "text": [
        "\r",
        "97% [===================================> ] 1,171,234,816 6.30MB/s  eta 9s     "
       ]
      },
      {
       "output_type": "stream",
       "stream": "stdout",
       "text": [
        "\r",
        "97% [===================================> ] 1,172,660,224 6.36MB/s  eta 9s     "
       ]
      },
      {
       "output_type": "stream",
       "stream": "stdout",
       "text": [
        "\r",
        "97% [===================================> ] 1,174,069,248 6.42MB/s  eta 9s     "
       ]
      },
      {
       "output_type": "stream",
       "stream": "stdout",
       "text": [
        "\r",
        "97% [===================================> ] 1,175,478,272 6.49MB/s  eta 9s     "
       ]
      },
      {
       "output_type": "stream",
       "stream": "stdout",
       "text": [
        "\r",
        "98% [===================================> ] 1,176,920,064 6.53MB/s  eta 7s     "
       ]
      },
      {
       "output_type": "stream",
       "stream": "stdout",
       "text": [
        "\r",
        "98% [===================================> ] 1,178,296,320 6.54MB/s  eta 7s     "
       ]
      },
      {
       "output_type": "stream",
       "stream": "stdout",
       "text": [
        "\r",
        "98% [===================================> ] 1,179,754,496 6.60MB/s  eta 7s     "
       ]
      },
      {
       "output_type": "stream",
       "stream": "stdout",
       "text": [
        "\r",
        "98% [===================================> ] 1,181,130,752 6.60MB/s  eta 7s     "
       ]
      },
      {
       "output_type": "stream",
       "stream": "stdout",
       "text": [
        "\r",
        "98% [===================================> ] 1,182,605,312 6.63MB/s  eta 7s     "
       ]
      },
      {
       "output_type": "stream",
       "stream": "stdout",
       "text": [
        "\r",
        "98% [===================================> ] 1,183,932,416 6.63MB/s  eta 5s     "
       ]
      },
      {
       "output_type": "stream",
       "stream": "stdout",
       "text": [
        "\r",
        "98% [===================================> ] 1,185,423,360 6.68MB/s  eta 5s     "
       ]
      },
      {
       "output_type": "stream",
       "stream": "stdout",
       "text": [
        "\r",
        "98% [===================================> ] 1,186,750,464 6.66MB/s  eta 5s     "
       ]
      },
      {
       "output_type": "stream",
       "stream": "stdout",
       "text": [
        "\r",
        "98% [===================================> ] 1,188,225,024 6.71MB/s  eta 5s     "
       ]
      },
      {
       "output_type": "stream",
       "stream": "stdout",
       "text": [
        "\r",
        "99% [===================================> ] 1,189,568,512 6.68MB/s  eta 5s     "
       ]
      },
      {
       "output_type": "stream",
       "stream": "stdout",
       "text": [
        "\r",
        "99% [===================================> ] 1,191,108,608 6.72MB/s  eta 3s     "
       ]
      },
      {
       "output_type": "stream",
       "stream": "stdout",
       "text": [
        "\r",
        "99% [===================================> ] 1,192,419,328 6.69MB/s  eta 3s     "
       ]
      },
      {
       "output_type": "stream",
       "stream": "stdout",
       "text": [
        "\r",
        "99% [===================================> ] 1,193,943,040 6.73MB/s  eta 3s     "
       ]
      },
      {
       "output_type": "stream",
       "stream": "stdout",
       "text": [
        "\r",
        "99% [===================================> ] 1,195,286,528 6.70MB/s  eta 3s     "
       ]
      },
      {
       "output_type": "stream",
       "stream": "stdout",
       "text": [
        "\r",
        "99% [===================================> ] 1,196,793,856 6.71MB/s  eta 3s     "
       ]
      },
      {
       "output_type": "stream",
       "stream": "stdout",
       "text": [
        "\r",
        "99% [===================================> ] 1,198,186,496 6.71MB/s  eta 1s     "
       ]
      },
      {
       "output_type": "stream",
       "stream": "stdout",
       "text": [
        "\r",
        "99% [===================================> ] 1,199,628,288 6.71MB/s  eta 1s     "
       ]
      },
      {
       "output_type": "stream",
       "stream": "stdout",
       "text": [
        "\r",
        "100%[====================================>] 1,200,700,245 6.75MB/s   in 5m 33s \r\n",
        "\r\n"
       ]
      },
      {
       "output_type": "stream",
       "stream": "stdout",
       "text": [
        "2015-02-17 13:50:25 (3.44 MB/s) - \u2018jhu-usc.edu_LAML.HumanMethylation450.Level_1.2.4.0.tar.gz\u2019 saved [1200700245/1200700245]\r\n",
        "\r\n",
        "--2015-02-17 13:50:25--  https://tcga-data.nci.nih.gov/tcgafiles/ftp_auth/distro_ftpusers/anonymous/tumor/laml/cgcc/jhu-usc.edu/humanmethylation450/methylation/jhu-usc.edu_LAML.HumanMethylation450.Level_1.2.5.0.tar.gz\r\n",
        "Reusing existing connection to tcga-data.nci.nih.gov:443.\r\n",
        "HTTP request sent, awaiting response... "
       ]
      },
      {
       "output_type": "stream",
       "stream": "stdout",
       "text": [
        "200 OK\r\n",
        "Length: 1663997490 (1.5G) [application/x-gzip]\r\n",
        "Saving to: \u2018jhu-usc.edu_LAML.HumanMethylation450.Level_1.2.5.0.tar.gz\u2019\r\n",
        "\r\n",
        "\r",
        " 0% [                                       ] 0           --.-K/s              "
       ]
      },
      {
       "output_type": "stream",
       "stream": "stdout",
       "text": [
        "\r",
        " 0% [                                       ] 122,880      505KB/s             "
       ]
      },
      {
       "output_type": "stream",
       "stream": "stdout",
       "text": [
        "\r",
        " 0% [                                       ] 401,408      820KB/s             "
       ]
      },
      {
       "output_type": "stream",
       "stream": "stdout",
       "text": [
        "\r",
        " 0% [                                       ] 974,848     1.29MB/s             "
       ]
      },
      {
       "output_type": "stream",
       "stream": "stdout",
       "text": [
        "\r",
        " 0% [                                       ] 2,072,576   2.14MB/s             "
       ]
      },
      {
       "output_type": "stream",
       "stream": "stdout",
       "text": [
        "\r",
        " 0% [                                       ] 3,219,456   2.73MB/s             "
       ]
      },
      {
       "output_type": "stream",
       "stream": "stdout",
       "text": [
        "\r",
        " 0% [                                       ] 5,021,696   3.52MB/s             "
       ]
      },
      {
       "output_type": "stream",
       "stream": "stdout",
       "text": [
        "\r",
        " 0% [                                       ] 6,823,936   4.17MB/s             "
       ]
      },
      {
       "output_type": "stream",
       "stream": "stdout",
       "text": [
        "\r",
        " 0% [                                       ] 8,232,960   4.45MB/s             "
       ]
      },
      {
       "output_type": "stream",
       "stream": "stdout",
       "text": [
        "\r",
        " 0% [                                       ] 10,133,504  4.92MB/s             "
       ]
      },
      {
       "output_type": "stream",
       "stream": "stdout",
       "text": [
        "\r",
        " 0% [                                       ] 11,558,912  5.09MB/s             "
       ]
      },
      {
       "output_type": "stream",
       "stream": "stdout",
       "text": [
        "\r",
        " 0% [                                       ] 13,492,224  5.43MB/s             "
       ]
      },
      {
       "output_type": "stream",
       "stream": "stdout",
       "text": [
        "\r",
        " 0% [                                       ] 14,983,168  5.56MB/s             "
       ]
      },
      {
       "output_type": "stream",
       "stream": "stdout",
       "text": [
        "^C\r\n"
       ]
      }
     ],
     "prompt_number": 18
    },
    {
     "cell_type": "code",
     "collapsed": false,
     "input": [
      "#!tar -xvzf jhu-usc.edu_ACC.HumanMethylation450.Level_1.1.0.0.tar.gz\n",
      "#ls *.tar.gz | xargs tar xzf {}"
     ],
     "language": "python",
     "metadata": {},
     "outputs": []
    },
    {
     "cell_type": "markdown",
     "metadata": {},
     "source": [
      "<b>Unzip and Extract tar archives to Data Folder</b>"
     ]
    },
    {
     "cell_type": "code",
     "collapsed": false,
     "input": [
      "!cat *.tar.gz | tar -xvzf - -i -C $out_path"
     ],
     "language": "python",
     "metadata": {},
     "outputs": [
      {
       "output_type": "stream",
       "stream": "stdout",
       "text": [
        "jhu-usc.edu_ACC.HumanMethylation450.Level_1.1.0.0/9283265010_R01C01_Grn.idat\r\n"
       ]
      },
      {
       "output_type": "stream",
       "stream": "stdout",
       "text": [
        "jhu-usc.edu_ACC.HumanMethylation450.Level_1.1.0.0/9283265010_R01C01_Red.idat\r\n"
       ]
      },
      {
       "output_type": "stream",
       "stream": "stdout",
       "text": [
        "jhu-usc.edu_ACC.HumanMethylation450.Level_1.1.0.0/9283265010_R01C02_Grn.idat\r\n"
       ]
      },
      {
       "output_type": "stream",
       "stream": "stdout",
       "text": [
        "jhu-usc.edu_ACC.HumanMethylation450.Level_1.1.0.0/9283265010_R01C02_Red.idat\r\n"
       ]
      },
      {
       "output_type": "stream",
       "stream": "stdout",
       "text": [
        "jhu-usc.edu_ACC.HumanMethylation450.Level_1.1.0.0/9283265010_R02C01_Grn.idat\r\n"
       ]
      },
      {
       "output_type": "stream",
       "stream": "stdout",
       "text": [
        "jhu-usc.edu_ACC.HumanMethylation450.Level_1.1.0.0/9283265010_R02C01_Red.idat\r\n"
       ]
      },
      {
       "output_type": "stream",
       "stream": "stdout",
       "text": [
        "jhu-usc.edu_ACC.HumanMethylation450.Level_1.1.0.0/9283265010_R02C02_Grn.idat\r\n"
       ]
      },
      {
       "output_type": "stream",
       "stream": "stdout",
       "text": [
        "jhu-usc.edu_ACC.HumanMethylation450.Level_1.1.0.0/9283265010_R02C02_Red.idat\r\n"
       ]
      },
      {
       "output_type": "stream",
       "stream": "stdout",
       "text": [
        "jhu-usc.edu_ACC.HumanMethylation450.Level_1.1.0.0/9283265010_R03C01_Grn.idat\r\n"
       ]
      },
      {
       "output_type": "stream",
       "stream": "stdout",
       "text": [
        "jhu-usc.edu_ACC.HumanMethylation450.Level_1.1.0.0/9283265010_R03C01_Red.idat\r\n"
       ]
      },
      {
       "output_type": "stream",
       "stream": "stdout",
       "text": [
        "jhu-usc.edu_ACC.HumanMethylation450.Level_1.1.0.0/9283265010_R03C02_Grn.idat\r\n"
       ]
      },
      {
       "output_type": "stream",
       "stream": "stdout",
       "text": [
        "jhu-usc.edu_ACC.HumanMethylation450.Level_1.1.0.0/9283265010_R03C02_Red.idat\r\n"
       ]
      },
      {
       "output_type": "stream",
       "stream": "stdout",
       "text": [
        "jhu-usc.edu_ACC.HumanMethylation450.Level_1.1.0.0/9283265010_R04C01_Grn.idat\r\n"
       ]
      },
      {
       "output_type": "stream",
       "stream": "stdout",
       "text": [
        "jhu-usc.edu_ACC.HumanMethylation450.Level_1.1.0.0/9283265010_R04C01_Red.idat\r\n"
       ]
      },
      {
       "output_type": "stream",
       "stream": "stdout",
       "text": [
        "jhu-usc.edu_ACC.HumanMethylation450.Level_1.1.0.0/9283265010_R04C02_Grn.idat\r\n"
       ]
      },
      {
       "output_type": "stream",
       "stream": "stdout",
       "text": [
        "jhu-usc.edu_ACC.HumanMethylation450.Level_1.1.0.0/9283265010_R04C02_Red.idat\r\n"
       ]
      },
      {
       "output_type": "stream",
       "stream": "stdout",
       "text": [
        "jhu-usc.edu_ACC.HumanMethylation450.Level_1.1.0.0/9283265010_R05C01_Grn.idat\r\n"
       ]
      },
      {
       "output_type": "stream",
       "stream": "stdout",
       "text": [
        "jhu-usc.edu_ACC.HumanMethylation450.Level_1.1.0.0/9283265010_R05C01_Red.idat\r\n"
       ]
      },
      {
       "output_type": "stream",
       "stream": "stdout",
       "text": [
        "jhu-usc.edu_ACC.HumanMethylation450.Level_1.1.0.0/9283265010_R05C02_Grn.idat\r\n"
       ]
      },
      {
       "output_type": "stream",
       "stream": "stdout",
       "text": [
        "jhu-usc.edu_ACC.HumanMethylation450.Level_1.1.0.0/9283265010_R05C02_Red.idat\r\n"
       ]
      },
      {
       "output_type": "stream",
       "stream": "stdout",
       "text": [
        "jhu-usc.edu_ACC.HumanMethylation450.Level_1.1.0.0/9283265010_R06C01_Grn.idat\r\n"
       ]
      },
      {
       "output_type": "stream",
       "stream": "stdout",
       "text": [
        "jhu-usc.edu_ACC.HumanMethylation450.Level_1.1.0.0/9283265010_R06C01_Red.idat\r\n"
       ]
      },
      {
       "output_type": "stream",
       "stream": "stdout",
       "text": [
        "jhu-usc.edu_ACC.HumanMethylation450.Level_1.1.0.0/9283265010_R06C02_Grn.idat\r\n"
       ]
      },
      {
       "output_type": "stream",
       "stream": "stdout",
       "text": [
        "jhu-usc.edu_ACC.HumanMethylation450.Level_1.1.0.0/9283265010_R06C02_Red.idat\r\n"
       ]
      },
      {
       "output_type": "stream",
       "stream": "stdout",
       "text": [
        "jhu-usc.edu_ACC.HumanMethylation450.Level_1.1.0.0/9283265012_R01C01_Grn.idat\r\n"
       ]
      },
      {
       "output_type": "stream",
       "stream": "stdout",
       "text": [
        "jhu-usc.edu_ACC.HumanMethylation450.Level_1.1.0.0/9283265012_R01C01_Red.idat\r\n"
       ]
      },
      {
       "output_type": "stream",
       "stream": "stdout",
       "text": [
        "jhu-usc.edu_ACC.HumanMethylation450.Level_1.1.0.0/9283265012_R01C02_Grn.idat\r\n"
       ]
      },
      {
       "output_type": "stream",
       "stream": "stdout",
       "text": [
        "jhu-usc.edu_ACC.HumanMethylation450.Level_1.1.0.0/9283265012_R01C02_Red.idat\r\n"
       ]
      },
      {
       "output_type": "stream",
       "stream": "stdout",
       "text": [
        "jhu-usc.edu_ACC.HumanMethylation450.Level_1.1.0.0/9283265012_R02C01_Grn.idat\r\n"
       ]
      },
      {
       "output_type": "stream",
       "stream": "stdout",
       "text": [
        "jhu-usc.edu_ACC.HumanMethylation450.Level_1.1.0.0/9283265012_R02C01_Red.idat\r\n"
       ]
      },
      {
       "output_type": "stream",
       "stream": "stdout",
       "text": [
        "jhu-usc.edu_ACC.HumanMethylation450.Level_1.1.0.0/9283265012_R02C02_Grn.idat\r\n"
       ]
      },
      {
       "output_type": "stream",
       "stream": "stdout",
       "text": [
        "jhu-usc.edu_ACC.HumanMethylation450.Level_1.1.0.0/9283265012_R02C02_Red.idat\r\n"
       ]
      },
      {
       "output_type": "stream",
       "stream": "stdout",
       "text": [
        "jhu-usc.edu_ACC.HumanMethylation450.Level_1.1.0.0/9283265012_R03C01_Grn.idat\r\n"
       ]
      },
      {
       "output_type": "stream",
       "stream": "stdout",
       "text": [
        "jhu-usc.edu_ACC.HumanMethylation450.Level_1.1.0.0/9283265012_R03C01_Red.idat\r\n"
       ]
      },
      {
       "output_type": "stream",
       "stream": "stdout",
       "text": [
        "jhu-usc.edu_ACC.HumanMethylation450.Level_1.1.0.0/9283265012_R03C02_Grn.idat\r\n"
       ]
      },
      {
       "output_type": "stream",
       "stream": "stdout",
       "text": [
        "jhu-usc.edu_ACC.HumanMethylation450.Level_1.1.0.0/9283265012_R03C02_Red.idat\r\n"
       ]
      },
      {
       "output_type": "stream",
       "stream": "stdout",
       "text": [
        "jhu-usc.edu_ACC.HumanMethylation450.Level_1.1.0.0/9283265012_R04C01_Grn.idat\r\n"
       ]
      },
      {
       "output_type": "stream",
       "stream": "stdout",
       "text": [
        "jhu-usc.edu_ACC.HumanMethylation450.Level_1.1.0.0/9283265012_R04C01_Red.idat\r\n"
       ]
      },
      {
       "output_type": "stream",
       "stream": "stdout",
       "text": [
        "jhu-usc.edu_ACC.HumanMethylation450.Level_1.1.0.0/9283265012_R04C02_Grn.idat\r\n"
       ]
      },
      {
       "output_type": "stream",
       "stream": "stdout",
       "text": [
        "jhu-usc.edu_ACC.HumanMethylation450.Level_1.1.0.0/9283265012_R04C02_Red.idat\r\n"
       ]
      },
      {
       "output_type": "stream",
       "stream": "stdout",
       "text": [
        "jhu-usc.edu_ACC.HumanMethylation450.Level_1.1.0.0/9283265012_R05C01_Grn.idat\r\n"
       ]
      },
      {
       "output_type": "stream",
       "stream": "stdout",
       "text": [
        "jhu-usc.edu_ACC.HumanMethylation450.Level_1.1.0.0/9283265012_R05C01_Red.idat\r\n"
       ]
      },
      {
       "output_type": "stream",
       "stream": "stdout",
       "text": [
        "jhu-usc.edu_ACC.HumanMethylation450.Level_1.1.0.0/9283265012_R05C02_Grn.idat\r\n"
       ]
      },
      {
       "output_type": "stream",
       "stream": "stdout",
       "text": [
        "jhu-usc.edu_ACC.HumanMethylation450.Level_1.1.0.0/9283265012_R05C02_Red.idat\r\n"
       ]
      },
      {
       "output_type": "stream",
       "stream": "stdout",
       "text": [
        "jhu-usc.edu_ACC.HumanMethylation450.Level_1.1.0.0/9283265012_R06C01_Grn.idat\r\n"
       ]
      },
      {
       "output_type": "stream",
       "stream": "stdout",
       "text": [
        "jhu-usc.edu_ACC.HumanMethylation450.Level_1.1.0.0/9283265012_R06C01_Red.idat\r\n"
       ]
      },
      {
       "output_type": "stream",
       "stream": "stdout",
       "text": [
        "jhu-usc.edu_ACC.HumanMethylation450.Level_1.1.0.0/9283265012_R06C02_Grn.idat\r\n"
       ]
      },
      {
       "output_type": "stream",
       "stream": "stdout",
       "text": [
        "jhu-usc.edu_ACC.HumanMethylation450.Level_1.1.0.0/9283265012_R06C02_Red.idat\r\n"
       ]
      },
      {
       "output_type": "stream",
       "stream": "stdout",
       "text": [
        "jhu-usc.edu_ACC.HumanMethylation450.Level_1.1.0.0/9283265025_R01C01_Grn.idat\r\n"
       ]
      },
      {
       "output_type": "stream",
       "stream": "stdout",
       "text": [
        "jhu-usc.edu_ACC.HumanMethylation450.Level_1.1.0.0/9283265025_R01C01_Red.idat\r\n"
       ]
      },
      {
       "output_type": "stream",
       "stream": "stdout",
       "text": [
        "jhu-usc.edu_ACC.HumanMethylation450.Level_1.1.0.0/9283265025_R01C02_Grn.idat\r\n"
       ]
      },
      {
       "output_type": "stream",
       "stream": "stdout",
       "text": [
        "jhu-usc.edu_ACC.HumanMethylation450.Level_1.1.0.0/9283265025_R01C02_Red.idat\r\n"
       ]
      },
      {
       "output_type": "stream",
       "stream": "stdout",
       "text": [
        "jhu-usc.edu_ACC.HumanMethylation450.Level_1.1.0.0/9283265025_R02C01_Grn.idat\r\n"
       ]
      },
      {
       "output_type": "stream",
       "stream": "stdout",
       "text": [
        "jhu-usc.edu_ACC.HumanMethylation450.Level_1.1.0.0/9283265025_R02C01_Red.idat\r\n"
       ]
      },
      {
       "output_type": "stream",
       "stream": "stdout",
       "text": [
        "jhu-usc.edu_ACC.HumanMethylation450.Level_1.1.0.0/9283265025_R02C02_Grn.idat\r\n"
       ]
      },
      {
       "output_type": "stream",
       "stream": "stdout",
       "text": [
        "jhu-usc.edu_ACC.HumanMethylation450.Level_1.1.0.0/9283265025_R02C02_Red.idat\r\n"
       ]
      },
      {
       "output_type": "stream",
       "stream": "stdout",
       "text": [
        "jhu-usc.edu_ACC.HumanMethylation450.Level_1.1.0.0/9283265025_R03C01_Grn.idat\r\n"
       ]
      },
      {
       "output_type": "stream",
       "stream": "stdout",
       "text": [
        "jhu-usc.edu_ACC.HumanMethylation450.Level_1.1.0.0/9283265025_R03C01_Red.idat\r\n"
       ]
      },
      {
       "output_type": "stream",
       "stream": "stdout",
       "text": [
        "jhu-usc.edu_ACC.HumanMethylation450.Level_1.1.0.0/9283265025_R03C02_Grn.idat\r\n"
       ]
      },
      {
       "output_type": "stream",
       "stream": "stdout",
       "text": [
        "jhu-usc.edu_ACC.HumanMethylation450.Level_1.1.0.0/9283265025_R03C02_Red.idat\r\n"
       ]
      },
      {
       "output_type": "stream",
       "stream": "stdout",
       "text": [
        "jhu-usc.edu_ACC.HumanMethylation450.Level_1.1.0.0/9283265025_R04C01_Grn.idat\r\n"
       ]
      },
      {
       "output_type": "stream",
       "stream": "stdout",
       "text": [
        "jhu-usc.edu_ACC.HumanMethylation450.Level_1.1.0.0/9283265025_R04C01_Red.idat\r\n"
       ]
      },
      {
       "output_type": "stream",
       "stream": "stdout",
       "text": [
        "jhu-usc.edu_ACC.HumanMethylation450.Level_1.1.0.0/9283265025_R04C02_Grn.idat\r\n"
       ]
      },
      {
       "output_type": "stream",
       "stream": "stdout",
       "text": [
        "jhu-usc.edu_ACC.HumanMethylation450.Level_1.1.0.0/9283265025_R04C02_Red.idat\r\n"
       ]
      },
      {
       "output_type": "stream",
       "stream": "stdout",
       "text": [
        "jhu-usc.edu_ACC.HumanMethylation450.Level_1.1.0.0/9283265025_R05C01_Grn.idat\r\n"
       ]
      },
      {
       "output_type": "stream",
       "stream": "stdout",
       "text": [
        "jhu-usc.edu_ACC.HumanMethylation450.Level_1.1.0.0/9283265025_R05C01_Red.idat\r\n"
       ]
      },
      {
       "output_type": "stream",
       "stream": "stdout",
       "text": [
        "jhu-usc.edu_ACC.HumanMethylation450.Level_1.1.0.0/9283265025_R05C02_Grn.idat\r\n"
       ]
      },
      {
       "output_type": "stream",
       "stream": "stdout",
       "text": [
        "jhu-usc.edu_ACC.HumanMethylation450.Level_1.1.0.0/9283265025_R05C02_Red.idat\r\n"
       ]
      },
      {
       "output_type": "stream",
       "stream": "stdout",
       "text": [
        "jhu-usc.edu_ACC.HumanMethylation450.Level_1.1.0.0/9283265025_R06C01_Grn.idat\r\n"
       ]
      },
      {
       "output_type": "stream",
       "stream": "stdout",
       "text": [
        "jhu-usc.edu_ACC.HumanMethylation450.Level_1.1.0.0/9283265025_R06C01_Red.idat\r\n"
       ]
      },
      {
       "output_type": "stream",
       "stream": "stdout",
       "text": [
        "^C\r\n"
       ]
      }
     ],
     "prompt_number": 37
    },
    {
     "cell_type": "code",
     "collapsed": false,
     "input": [
      "#!find . -name '*.tar.gz' -exec tar -xzvf -C $OUT_PATH {} \\;"
     ],
     "language": "python",
     "metadata": {},
     "outputs": [
      {
       "output_type": "stream",
       "stream": "stdout",
       "text": [
        "tar (child): -C: Cannot open: No such file or directory\r\n",
        "tar (child): Error is not recoverable: exiting now\r\n",
        "tar: Child returned status 2\r\n",
        "tar: Error is not recoverable: exiting now\r\n"
       ]
      },
      {
       "output_type": "stream",
       "stream": "stdout",
       "text": [
        "tar (child): -C: Cannot open: No such file or directory\r\n",
        "tar (child): Error is not recoverable: exiting now\r\n",
        "tar: Child returned status 2\r\n",
        "tar: Error is not recoverable: exiting now\r\n"
       ]
      },
      {
       "output_type": "stream",
       "stream": "stdout",
       "text": [
        "tar (child): -C: Cannot open: No such file or directory\r\n",
        "tar (child): Error is not recoverable: exiting now\r\n",
        "tar: Child returned status 2\r\n",
        "tar: Error is not recoverable: exiting now\r\n"
       ]
      },
      {
       "output_type": "stream",
       "stream": "stdout",
       "text": [
        "tar (child): -C: Cannot open: No such file or directory\r\n",
        "tar (child): Error is not recoverable: exiting now\r\n",
        "tar: Child returned status 2\r\n",
        "tar: Error is not recoverable: exiting now\r\n",
        "tar (child): -C: Cannot open: No such file or directory\r\n",
        "tar (child): Error is not recoverable: exiting now\r\n",
        "tar: Child returned status 2\r\n",
        "tar: Error is not recoverable: exiting now\r\n"
       ]
      },
      {
       "output_type": "stream",
       "stream": "stdout",
       "text": [
        "tar (child): -C: Cannot open: No such file or directory\r\n",
        "tar (child): Error is not recoverable: exiting now\r\n",
        "tar: Child returned status 2\r\n",
        "tar: Error is not recoverable: exiting now\r\n",
        "tar (child): -C: Cannot open"
       ]
      },
      {
       "output_type": "stream",
       "stream": "stdout",
       "text": [
        ": No such file or directory\r\n",
        "tar (child): Error is not recoverable: exiting now\r\n",
        "tar: Child returned status 2\r\n",
        "tar: Error is not recoverable: exiting now\r\n",
        "tar (child): -C: Cannot open: No such file or directory\r\n",
        "tar (child): Error is not recoverable: exiting now\r\n",
        "tar: Child returned status 2\r\n",
        "tar: Error is not recoverable: exiting now\r\n",
        "tar (child): -C: Cannot open: No such file or directory\r\n",
        "tar (child): Error is not recoverable: exiting now\r\n",
        "tar: Child returned status 2\r\n",
        "tar: Error is not recoverable: exiting now\r\n",
        "tar (child): -C: Cannot open: No such file or directory\r\n",
        "tar (child): Error is not recoverable: exiting now\r\n",
        "tar: Child returned status 2\r\n",
        "tar: Error is not recoverable: exiting now\r\n",
        "tar (child): -C: Cannot open: No such file or directory\r\n",
        "tar (child): Error is not recoverable: exiting now\r\n",
        "tar: Child returned status 2\r\n",
        "tar: Error is not recoverable: exiting now\r\n",
        "tar (child): -C: Cannot open: No such file or directory\r\n",
        "tar (child): Error is not recoverable: exiting now\r\n",
        "tar: Child returned status 2\r\n",
        "tar: Error is not recoverable: exiting now\r\n",
        "tar (child): -C: Cannot open: No such file or directory\r\n",
        "tar (child): Error is not recoverable: exiting now\r\n",
        "tar: Child returned status 2\r\n",
        "tar: Error is not recoverable: exiting now\r\n",
        "tar (child): -C: Cannot open: No such file or directory\r\n",
        "tar (child): Error is not recoverable: exiting now\r\n",
        "tar: Child returned status 2\r\n",
        "tar: Error is not recoverable: exiting now\r\n",
        "tar (child): -C: Cannot open: No such file or directory\r\n",
        "tar (child): Error is not recoverable: exiting now\r\n",
        "tar: Child returned status 2\r\n",
        "tar: Error is not recoverable: exiting now\r\n",
        "tar (child): -C: Cannot open: No such file or directory\r\n",
        "tar (child): Error is not recoverable: exiting now\r\n",
        "tar: Child returned status 2\r\n",
        "tar: Error is not recoverable: exiting now\r\n",
        "tar (child): -C: Cannot open: No such file or directory\r\n",
        "tar (child): Error is not recoverable: exiting now\r\n",
        "tar: Child returned status 2\r\n",
        "tar: Error is not recoverable: exiting now\r\n",
        "tar (child): -C: Cannot open: No such file or directory\r\n",
        "tar (child): Error is not recoverable: exiting now\r\n",
        "tar: Child returned status 2\r\n",
        "tar: Error is not recoverable: exiting now\r\n",
        "tar (child): -C: Cannot open: No such file or directory\r\n",
        "tar (child): Error is not recoverable: exiting now\r\n",
        "tar: Child returned status 2\r\n",
        "tar: Error is not recoverable: exiting now\r\n",
        "tar (child): -C: Cannot open: No such file or directory\r\n",
        "tar (child): Error is not recoverable: exiting now\r\n",
        "tar: Child returned status 2\r\n",
        "tar: Error is not recoverable: exiting now\r\n",
        "tar (child): -C: Cannot open: No such file or directory\r\n",
        "tar (child): Error is not recoverable: exiting now\r\n",
        "tar: Child returned status 2\r\n",
        "tar: Error is not recoverable: exiting now\r\n",
        "tar (child): -C: Cannot open: No such file or directory\r\n",
        "tar (child): Error is not recoverable: exiting now\r\n",
        "tar: Child returned status 2\r\n",
        "tar: Error is not recoverable: exiting now\r\n",
        "tar (child): -C: Cannot open: No such file or directory\r\n",
        "tar (child): Error is not recoverable: exiting now\r\n",
        "tar: Child returned status 2\r\n",
        "tar: Error is not recoverable: exiting now\r\n"
       ]
      },
      {
       "output_type": "stream",
       "stream": "stdout",
       "text": [
        "tar (child): -C: Cannot open: No such file or directory\r\n",
        "tar (child): Error is not recoverable: exiting now\r\n",
        "tar: Child returned status 2\r\n",
        "tar: Error is not recoverable: exiting now\r\n",
        "tar (child): -C: Cannot open: No such file or directory\r\n",
        "tar (child): Error is not recoverable: exiting now\r\n",
        "tar: Child returned status 2\r\n",
        "tar: Error is not recoverable: exiting now\r\n",
        "tar (child): -C: Cannot open: No such file or directory\r\n",
        "tar (child): Error is not recoverable: exiting now\r\n",
        "tar: Child returned status 2\r\n",
        "tar: Error is not recoverable: exiting now\r\n",
        "tar (child): -C: Cannot open: No such file or directory\r\n",
        "tar (child): Error is not recoverable: exiting now\r\n",
        "tar: Child returned status 2\r\n",
        "tar: Error is not recoverable: exiting now\r\n",
        "tar (child): -C: Cannot open: No such file or directory\r\n",
        "tar (child): Error is not recoverable: exiting now\r\n",
        "tar: Child returned status 2\r\n",
        "tar: Error is not recoverable: exiting now\r\n",
        "tar (child): -C: Cannot open: No such file or directory\r\n",
        "tar (child): Error is not recoverable: exiting now\r\n",
        "tar: Child returned status 2\r\n",
        "tar: Error is not recoverable: exiting now\r\n",
        "tar (child): -C: Cannot open: No such file or directory\r\n",
        "tar (child): Error is not recoverable: exiting now\r\n",
        "tar: Child returned status 2\r\n",
        "tar: Error is not recoverable: exiting now\r\n",
        "tar (child): -C: Cannot open: No such file or directory\r\n",
        "tar (child): Error is not recoverable: exiting now\r\n",
        "tar: Child returned status 2\r\n",
        "tar: Error is not recoverable: exiting now\r\n",
        "tar (child): -C: Cannot open: No such file or directory\r\n",
        "tar (child): Error is not recoverable: exiting now\r\n",
        "tar: Child returned status 2\r\n",
        "tar: Error is not recoverable: exiting now\r\n",
        "tar (child): -C: Cannot open: No such file or directory\r\n",
        "tar (child): Error is not recoverable: exiting now\r\n",
        "tar: Child returned status 2\r\n",
        "tar: Error is not recoverable: exiting now\r\n",
        "tar (child): -C: Cannot open: No such file or directory\r\n",
        "tar (child): Error is not recoverable: exiting now\r\n",
        "tar: Child returned status 2\r\n",
        "tar: Error is not recoverable: exiting now\r\n",
        "tar (child): -C: Cannot open: No such file or directory\r\n",
        "tar (child): Error is not recoverable: exiting now\r\n",
        "tar: Child returned status 2\r\n",
        "tar: Error is not recoverable: exiting now\r\n",
        "tar (child): -C: Cannot open: No such file or directory\r\n",
        "tar (child): Error is not recoverable: exiting now\r\n",
        "tar: Child returned status 2\r\n",
        "tar: Error is not recoverable: exiting now\r\n",
        "tar (child): -C: Cannot open: No such file or directory\r\n",
        "tar (child): Error is not recoverable: exiting now\r\n",
        "tar: Child returned status 2\r\n",
        "tar: Error is not recoverable: exiting now\r\n",
        "tar (child): -C: Cannot open: No such file or directory\r\n",
        "tar (child): Error is not recoverable: exiting now\r\n",
        "tar: Child returned status 2\r\n",
        "tar: Error is not recoverable: exiting now\r\n",
        "tar (child): -C: Cannot open: No such file or directory\r\n",
        "tar (child): Error is not recoverable: exiting now\r\n",
        "tar: Child returned status 2\r\n",
        "tar: Error is not recoverable: exiting now\r\n",
        "tar (child): -C: Cannot open: No such file or directory\r\n",
        "tar (child): Error is not recoverable: exiting now\r\n",
        "tar: Child returned status 2\r\n",
        "tar: Error is not recoverable: exiting now\r\n"
       ]
      },
      {
       "output_type": "stream",
       "stream": "stdout",
       "text": [
        "tar (child): -C: Cannot open: No such file or directory\r\n",
        "tar (child): Error is not recoverable: exiting now\r\n",
        "tar: Child returned status 2\r\n",
        "tar: Error is not recoverable: exiting now\r\n",
        "tar (child): -C: Cannot open: No such file or directory\r\n",
        "tar (child): Error is not recoverable: exiting now\r\n",
        "tar: Child returned status 2\r\n",
        "tar: Error is not recoverable: exiting now\r\n",
        "tar (child): -C: Cannot open: No such file or directory\r\n",
        "tar (child): Error is not recoverable: exiting now\r\n",
        "tar: Child returned status 2\r\n",
        "tar: Error is not recoverable: exiting now\r\n",
        "tar (child): -C: Cannot open: No such file or directory\r\n",
        "tar (child): Error is not recoverable: exiting now\r\n",
        "tar: Child returned status 2\r\n",
        "tar: Error is not recoverable: exiting now\r\n",
        "tar (child): -C: Cannot open: No such file or directory\r\n",
        "tar (child): Error is not recoverable: exiting now\r\n",
        "tar: Child returned status 2\r\n",
        "tar: Error is not recoverable: exiting now\r\n",
        "tar (child): -C: Cannot open: No such file or directory\r\n",
        "tar (child): Error is not recoverable: exiting now\r\n",
        "tar: Child returned status 2\r\n",
        "tar: Error is not recoverable: exiting now\r\n",
        "tar (child): -C: Cannot open: No such file or directory\r\n",
        "tar (child): Error is not recoverable: exiting now\r\n",
        "tar: Child returned status 2\r\n",
        "tar: Error is not recoverable: exiting now\r\n",
        "tar (child): -C: Cannot open: No such file or directory\r\n",
        "tar (child): Error is not recoverable: exiting now\r\n",
        "tar: Child returned status 2\r\n",
        "tar: Error is not recoverable: exiting now\r\n",
        "tar (child): -C: Cannot open: No such file or directory\r\n",
        "tar (child): Error is not recoverable: exiting now\r\n",
        "tar: Child returned status 2\r\n",
        "tar: Error is not recoverable: exiting now\r\n",
        "tar (child): -C: Cannot open: No such file or directory\r\n",
        "tar (child): Error is not recoverable: exiting now\r\n",
        "tar: Child returned status 2\r\n",
        "tar: Error is not recoverable: exiting now\r\n",
        "tar (child): -C: Cannot open: No such file or directory\r\n",
        "tar (child): Error is not recoverable: exiting now\r\n",
        "tar: Child returned status 2\r\n",
        "tar: Error is not recoverable: exiting now\r\n",
        "tar (child): -C: Cannot open: No such file or directory\r\n",
        "tar (child): Error is not recoverable: exiting now\r\n",
        "tar: Child returned status 2\r\n",
        "tar: Error is not recoverable: exiting now\r\n",
        "tar (child): -C: Cannot open: No such file or directory\r\n",
        "tar (child): Error is not recoverable: exiting now\r\n",
        "tar: Child returned status 2\r\n",
        "tar: Error is not recoverable: exiting now\r\n",
        "tar (child): -C: Cannot open: No such file or directory\r\n",
        "tar (child): Error is not recoverable: exiting now\r\n",
        "tar: Child returned status 2\r\n",
        "tar: Error is not recoverable: exiting now\r\n",
        "tar (child): -C: Cannot open: No such file or directory\r\n",
        "tar (child): Error is not recoverable: exiting now\r\n",
        "tar: Child returned status 2\r\n",
        "tar: Error is not recoverable: exiting now\r\n",
        "tar (child): -C: Cannot open: No such file or directory\r\n",
        "tar (child): Error is not recoverable: exiting now\r\n",
        "tar: Child returned status 2\r\n",
        "tar: Error is not recoverable: exiting now\r\n"
       ]
      },
      {
       "output_type": "stream",
       "stream": "stdout",
       "text": [
        "tar (child): -C: Cannot open: No such file or directory\r\n",
        "tar (child): Error is not recoverable: exiting now\r\n",
        "tar: Child returned status 2\r\n",
        "tar: Error is not recoverable: exiting now\r\n",
        "tar (child): -C: Cannot open: No such file or directory\r\n",
        "tar (child): Error is not recoverable: exiting now\r\n",
        "tar: Child returned status 2\r\n",
        "tar: Error is not recoverable: exiting now\r\n",
        "tar (child): -C: Cannot open: No such file or directory\r\n",
        "tar (child): Error is not recoverable: exiting now\r\n",
        "tar: Child returned status 2\r\n",
        "tar: Error is not recoverable: exiting now\r\n",
        "tar (child): -C: Cannot open: No such file or directory\r\n",
        "tar (child): Error is not recoverable: exiting now\r\n",
        "tar: Child returned status 2\r\n",
        "tar: Error is not recoverable: exiting now\r\n",
        "tar (child): -C: Cannot open: No such file or directory\r\n",
        "tar (child): Error is not recoverable: exiting now\r\n",
        "tar: Child returned status 2\r\n",
        "tar: Error is not recoverable: exiting now\r\n",
        "tar (child): -C: Cannot open: No such file or directory\r\n",
        "tar (child): Error is not recoverable: exiting now\r\n",
        "tar: Child returned status 2\r\n",
        "tar: Error is not recoverable: exiting now\r\n",
        "tar (child): -C: Cannot open: No such file or directory\r\n",
        "tar (child): Error is not recoverable: exiting now\r\n",
        "tar: Child returned status 2\r\n",
        "tar: Error is not recoverable: exiting now\r\n",
        "tar (child): -C: Cannot open: No such file or directory\r\n",
        "tar (child): Error is not recoverable: exiting now\r\n",
        "tar: Child returned status 2\r\n",
        "tar: Error is not recoverable: exiting now\r\n",
        "tar (child): -C: Cannot open: No such file or directory\r\n",
        "tar (child): Error is not recoverable: exiting now\r\n",
        "tar: Child returned status 2\r\n",
        "tar: Error is not recoverable: exiting now\r\n",
        "tar (child): -C: Cannot open: No such file or directory\r\n",
        "tar (child): Error is not recoverable: exiting now\r\n",
        "tar: Child returned status 2\r\n",
        "tar: Error is not recoverable: exiting now\r\n",
        "tar (child): -C: Cannot open: No such file or directory\r\n",
        "tar (child): Error is not recoverable: exiting now\r\n",
        "tar: Child returned status 2\r\n",
        "tar: Error is not recoverable: exiting now\r\n",
        "tar (child): -C: Cannot open: No such file or directory\r\n",
        "tar (child): Error is not recoverable: exiting now\r\n",
        "tar: Child returned status 2\r\n",
        "tar: Error is not recoverable: exiting now\r\n",
        "tar (child): -C: Cannot open: No such file or directory\r\n",
        "tar (child): Error is not recoverable: exiting now\r\n",
        "tar: Child returned status 2\r\n",
        "tar: Error is not recoverable: exiting now\r\n",
        "tar (child): -C: Cannot open: No such file or directory\r\n",
        "tar (child): Error is not recoverable: exiting now\r\n",
        "tar: Child returned status 2\r\n",
        "tar: Error is not recoverable: exiting now\r\n",
        "tar (child): -C: Cannot open: No such file or directory\r\n",
        "tar (child): Error is not recoverable: exiting now\r\n",
        "tar: Child returned status 2\r\n",
        "tar: Error is not recoverable: exiting now\r\n"
       ]
      },
      {
       "output_type": "stream",
       "stream": "stdout",
       "text": [
        "tar (child): -C: Cannot open: No such file or directory\r\n",
        "tar (child): Error is not recoverable: exiting now\r\n",
        "tar: Child returned status 2\r\n",
        "tar: Error is not recoverable: exiting now\r\n",
        "tar (child): -C: Cannot open: No such file or directory\r\n",
        "tar (child): Error is not recoverable: exiting now\r\n",
        "tar: Child returned status 2\r\n",
        "tar: Error is not recoverable: exiting now\r\n",
        "tar (child): -C: Cannot open: No such file or directory\r\n",
        "tar (child): Error is not recoverable: exiting now\r\n",
        "tar: Child returned status 2\r\n",
        "tar: Error is not recoverable: exiting now\r\n",
        "tar (child): -C: Cannot open: No such file or directory\r\n",
        "tar (child): Error is not recoverable: exiting now\r\n",
        "tar: Child returned status 2\r\n",
        "tar: Error is not recoverable: exiting now\r\n",
        "tar (child): -C: Cannot open: No such file or directory\r\n",
        "tar (child): Error is not recoverable: exiting now\r\n",
        "tar: Child returned status 2\r\n",
        "tar: Error is not recoverable: exiting now\r\n",
        "tar (child): -C: Cannot open: No such file or directory\r\n",
        "tar (child): Error is not recoverable: exiting now\r\n",
        "tar: Child returned status 2\r\n",
        "tar: Error is not recoverable: exiting now\r\n",
        "tar (child): -C: Cannot open: No such file or directory\r\n",
        "tar (child): Error is not recoverable: exiting now\r\n",
        "tar: Child returned status 2\r\n",
        "tar: Error is not recoverable: exiting now\r\n",
        "tar (child): -C: Cannot open: No such file or directory\r\n",
        "tar (child): Error is not recoverable: exiting now\r\n",
        "tar: Child returned status 2\r\n",
        "tar: Error is not recoverable: exiting now\r\n",
        "tar (child): -C: Cannot open: No such file or directory\r\n",
        "tar (child): Error is not recoverable: exiting now\r\n",
        "tar: Child returned status 2\r\n",
        "tar: Error is not recoverable: exiting now\r\n",
        "tar (child): -C: Cannot open: No such file or directory\r\n",
        "tar (child): Error is not recoverable: exiting now\r\n",
        "tar: Child returned status 2\r\n",
        "tar: Error is not recoverable: exiting now\r\n",
        "tar (child): -C: Cannot open: No such file or directory\r\n",
        "tar (child): Error is not recoverable: exiting now\r\n",
        "tar: Child returned status 2\r\n",
        "tar: Error is not recoverable: exiting now\r\n",
        "tar (child): -C: Cannot open: No such file or directory\r\n",
        "tar (child): Error is not recoverable: exiting now\r\n",
        "tar: Child returned status 2\r\n",
        "tar: Error is not recoverable: exiting now\r\n",
        "tar (child): -C: Cannot open: No such file or directory\r\n",
        "tar (child): Error is not recoverable: exiting now\r\n",
        "tar: Child returned status 2\r\n",
        "tar: Error is not recoverable: exiting now\r\n",
        "tar (child): -C: Cannot open: No such file or directory\r\n",
        "tar (child): Error is not recoverable: exiting now\r\n",
        "tar: Child returned status 2\r\n",
        "tar: Error is not recoverable: exiting now\r\n",
        "tar (child): -C: Cannot open: No such file or directory\r\n",
        "tar (child): Error is not recoverable: exiting now\r\n",
        "tar: Child returned status 2\r\n",
        "tar: Error is not recoverable: exiting now\r\n",
        "tar (child): -C: Cannot open: No such file or directory\r\n",
        "tar (child): Error is not recoverable: exiting now\r\n",
        "tar: Child returned status 2\r\n",
        "tar: Error is not recoverable: exiting now\r\n",
        "tar (child): -C: Cannot open: No such file or directory\r\n",
        "tar (child): Error is not recoverable: exiting now\r\n",
        "tar: Child returned status 2\r\n",
        "tar: Error is not recoverable: exiting now\r\n"
       ]
      },
      {
       "output_type": "stream",
       "stream": "stdout",
       "text": [
        "tar (child): -C: Cannot open: No such file or directory\r\n",
        "tar (child): Error is not recoverable: exiting now\r\n",
        "tar: Child returned status 2\r\n",
        "tar: Error is not recoverable: exiting now\r\n",
        "tar (child): -C: Cannot open: No such file or directory\r\n",
        "tar (child): Error is not recoverable: exiting now\r\n",
        "tar: Child returned status 2\r\n",
        "tar: Error is not recoverable: exiting now\r\n",
        "tar (child): -C: Cannot open: No such file or directory\r\n",
        "tar (child): Error is not recoverable: exiting now\r\n",
        "tar: Child returned status 2\r\n",
        "tar: Error is not recoverable: exiting now\r\n",
        "tar (child): -C: Cannot open: No such file or directory\r\n",
        "tar (child): Error is not recoverable: exiting now\r\n",
        "tar: Child returned status 2\r\n",
        "tar: Error is not recoverable: exiting now\r\n"
       ]
      },
      {
       "output_type": "stream",
       "stream": "stdout",
       "text": [
        "tar (child): -C: Cannot open: No such file or directory\r\n",
        "tar (child): Error is not recoverable: exiting now\r\n",
        "tar: Child returned status 2\r\n",
        "tar: Error is not recoverable: exiting now\r\n",
        "tar (child): -C: Cannot open: No such file or directory\r\n",
        "tar (child): Error is not recoverable: exiting now\r\n",
        "tar: Child returned status 2\r\n",
        "tar: Error is not recoverable: exiting now\r\n",
        "tar (child): -C: Cannot open: No such file or directory\r\n",
        "tar (child): Error is not recoverable: exiting now\r\n",
        "tar: Child returned status 2\r\n",
        "tar: Error is not recoverable: exiting now\r\n",
        "tar (child): -C: Cannot open: No such file or directory\r\n",
        "tar (child): Error is not recoverable: exiting now\r\n",
        "tar: Child returned status 2\r\n",
        "tar: Error is not recoverable: exiting now\r\n",
        "tar (child): -C: Cannot open: No such file or directory\r\n",
        "tar (child): Error is not recoverable: exiting now\r\n",
        "tar: Child returned status 2\r\n",
        "tar: Error is not recoverable: exiting now\r\n"
       ]
      },
      {
       "output_type": "stream",
       "stream": "stdout",
       "text": [
        "tar (child): -C: Cannot open: No such file or directory\r\n",
        "tar (child): Error is not recoverable: exiting now\r\n",
        "tar: Child returned status 2\r\n",
        "tar: Error is not recoverable: exiting now\r\n",
        "tar (child): -C: Cannot open: No such file or directory\r\n",
        "tar (child): Error is not recoverable: exiting now\r\n",
        "tar: Child returned status 2\r\n",
        "tar: Error is not recoverable: exiting now\r\n"
       ]
      },
      {
       "output_type": "stream",
       "stream": "stdout",
       "text": [
        "tar (child): -C: Cannot open: No such file or directory\r\n",
        "tar (child): Error is not recoverable: exiting now\r\n",
        "tar: Child returned status 2\r\n",
        "tar: Error is not recoverable: exiting now\r\n",
        "tar (child): -C: Cannot open: No such file or directory\r\n",
        "tar (child): Error is not recoverable: exiting now\r\n",
        "tar: Child returned status 2\r\n",
        "tar: Error is not recoverable: exiting now\r\n"
       ]
      },
      {
       "output_type": "stream",
       "stream": "stdout",
       "text": [
        "tar (child): -C: Cannot open: No such file or directory\r\n",
        "tar (child): Error is not recoverable: exiting now\r\n",
        "tar: Child returned status 2\r\n",
        "tar: Error is not recoverable: exiting now\r\n"
       ]
      },
      {
       "output_type": "stream",
       "stream": "stdout",
       "text": [
        "tar (child): -C: Cannot open: No such file or directory\r\n",
        "tar (child): Error is not recoverable: exiting now\r\n",
        "tar: Child returned status 2\r\n",
        "tar: Error is not recoverable: exiting now\r\n",
        "tar (child): -C: Cannot open: No such file or directory\r\n",
        "tar (child): Error is not recoverable: exiting now\r\n",
        "tar: Child returned status 2\r\n",
        "tar: Error is not recoverable: exiting now\r\n",
        "tar (child): -C: Cannot open: No such file or directory\r\n",
        "tar (child): Error is not recoverable: exiting now\r\n",
        "tar: Child returned status 2\r\n",
        "tar: Error is not recoverable: exiting now\r\n",
        "tar (child): -C: Cannot open: No such file or directory\r\n",
        "tar (child): Error is not recoverable: exiting now\r\n",
        "tar: Child returned status 2\r\n",
        "tar: Error is not recoverable: exiting now\r\n"
       ]
      }
     ],
     "prompt_number": 25
    },
    {
     "cell_type": "code",
     "collapsed": false,
     "input": [
      "#for i in cancertypes:"
     ],
     "language": "python",
     "metadata": {},
     "outputs": []
    }
   ],
   "metadata": {}
  }
 ]
}