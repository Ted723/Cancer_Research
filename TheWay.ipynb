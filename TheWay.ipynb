{
 "metadata": {
  "name": "",
  "signature": "sha256:f875275d17ba206295a5968f6c2185665cc67c8a98d622f4d6bacc1bc595f5f2"
 },
 "nbformat": 3,
 "nbformat_minor": 0,
 "worksheets": [
  {
   "cells": [
    {
     "cell_type": "heading",
     "level": 1,
     "metadata": {},
     "source": [
      "Get TCGA Methylation Data"
     ]
    },
    {
     "cell_type": "markdown",
     "metadata": {},
     "source": [
      "This notebook illustrates how to retrieve Level 1 TCGA HumanMethylation450k raw Data for all available cancertypes, as well as the accompanying auxillary and mage-tab files that allow mapping of clinical patient data to methylation data. \n",
      "* BeautifulSoup is used to parse the TCGA HTTPS open access directory for urls to download data. \n",
      "* The downloaded tar archives are unzipped and extracted to user specified out_path folder.\n"
     ]
    },
    {
     "cell_type": "markdown",
     "metadata": {},
     "source": [
      "<b>Imports</b>"
     ]
    },
    {
     "cell_type": "code",
     "collapsed": false,
     "input": [
      "from bs4 import BeautifulSoup\n",
      "import urllib2\n",
      "from urllib2 import HTTPError\n",
      "import pandas as pd\n",
      "import os as os\n",
      "import StringIO\n",
      "import gzip\n",
      "\n",
      "from IPython.display import clear_output"
     ],
     "language": "python",
     "metadata": {},
     "outputs": [],
     "prompt_number": 3
    },
    {
     "cell_type": "markdown",
     "metadata": {},
     "source": [
      "<b>Directory Currently In:</b>"
     ]
    },
    {
     "cell_type": "code",
     "collapsed": false,
     "input": [
      "pwd"
     ],
     "language": "python",
     "metadata": {},
     "outputs": [
      {
       "metadata": {},
       "output_type": "pyout",
       "prompt_number": 4,
       "text": [
        "u'/cellar/users/talejand/Documents/IdekerLab/BackUp'"
       ]
      }
     ],
     "prompt_number": 4
    },
    {
     "cell_type": "code",
     "collapsed": false,
     "input": [
      "ls"
     ],
     "language": "python",
     "metadata": {},
     "outputs": [
      {
       "output_type": "stream",
       "stream": "stdout",
       "text": [
        "filess~  \u001b[0m\u001b[01;34mJustinCase\u001b[0m/  \u001b[01;34mOld\u001b[0m/  tar_links.txt  TheWay.ipynb  tmp.html  Untitled0.ipynb  url_list.txt\r\n"
       ]
      }
     ],
     "prompt_number": 5
    },
    {
     "cell_type": "markdown",
     "metadata": {},
     "source": [
      "<b>Outpaths</b>"
     ]
    },
    {
     "cell_type": "code",
     "collapsed": false,
     "input": [
      "PATH_TO_CERT = 'JustinCase/cacert.pem'\n",
      "OUT_PATH = '/data/nrnb01_nobackup/agross/TCGA_methylation/'\n",
      "out_path = OUT_PATH + 'Methyl_Data/'\n",
      "if not os.path.isdir(out_path):\n",
      "    os.mkdir(out_path)"
     ],
     "language": "python",
     "metadata": {},
     "outputs": [],
     "prompt_number": 6
    },
    {
     "cell_type": "markdown",
     "metadata": {},
     "source": [
      "<b>Path to TCGA Website</b>"
     ]
    },
    {
     "cell_type": "code",
     "collapsed": false,
     "input": [
      "base_url = 'https://tcga-data.nci.nih.gov/tcgafiles/ftp_auth/distro_ftpusers/anonymous/tumor/'"
     ],
     "language": "python",
     "metadata": {},
     "outputs": [],
     "prompt_number": 7
    },
    {
     "cell_type": "code",
     "collapsed": false,
     "input": [
      "end_url = '/cgcc/jhu-usc.edu/humanmethylation450/methylation/'"
     ],
     "language": "python",
     "metadata": {},
     "outputs": [],
     "prompt_number": 8
    },
    {
     "cell_type": "code",
     "collapsed": false,
     "input": [
      "cancertype = ['acc','blca','brca','cesc','chol','coad','dlbc','esca','gbm','hnsc','kich','kirc',\n",
      "              'kirp','laml','lgg','lihc','luad','lusc','meso','misc','ov','paad','pcpg','prad',\n",
      "              'read','sarc','skcm','stad','tgct','thca','thym','ucec','ucs','uvm']\n",
      "#cancertypes = ['acc','laml','chol']"
     ],
     "language": "python",
     "metadata": {},
     "outputs": [],
     "prompt_number": 9
    },
    {
     "cell_type": "code",
     "collapsed": false,
     "input": [
      "urls = []\n",
      "for i in cancertype:\n",
      "    url = base_url + i + end_url\n",
      "    urls.append(url)\n",
      "\n",
      "f=open('url_list.txt','w')\n",
      "l1=map(lambda x:x+'\\n', urls)\n",
      "f.writelines(l1)\n",
      "f.close()"
     ],
     "language": "python",
     "metadata": {},
     "outputs": [],
     "prompt_number": 10
    },
    {
     "cell_type": "markdown",
     "metadata": {},
     "source": [
      "<b>Download Certificate (Optional?)</b>"
     ]
    },
    {
     "cell_type": "code",
     "collapsed": false,
     "input": [
      "!xargs curl --cacert $PATH_TO_CERT -I < url_list.txt\n",
      "clear_output()"
     ],
     "language": "python",
     "metadata": {},
     "outputs": [],
     "prompt_number": 11
    },
    {
     "cell_type": "markdown",
     "metadata": {},
     "source": [
      "<b>Beautiful Soup module is used to parse links from webpage </b>"
     ]
    },
    {
     "cell_type": "markdown",
     "metadata": {},
     "source": [
      "* creates list of TCGA cancer methylation data urls\n",
      "* parses urls for specific datalinks that include aux and magetab files"
     ]
    },
    {
     "cell_type": "code",
     "collapsed": false,
     "input": [
      "urls = []\n",
      "tar_links = []\n",
      "\n",
      "for i in cancertype:\n",
      "    print i\n",
      "    try:\n",
      "        url = base_url + i + end_url\n",
      "        urls.append(url)      \n",
      "        webpage = urllib2.urlopen(url)\n",
      "        soup = BeautifulSoup(webpage)\n",
      "        links = [url + link.get('href') for link in soup.find_all('a') \n",
      "                                      if (link.get('href') != None )\n",
      "                                      and 'aux' in link.get('href')\n",
      "                                      and '_2.' not in link.get('href')\n",
      "                                      and '_3.' not in link.get('href')\n",
      "                                      and '.md5' not in link.get('href')]\n",
      "        tar_links.extend(links)\n",
      "    except urllib2.HTTPError:\n",
      "        print '{} failed'.format(i)"
     ],
     "language": "python",
     "metadata": {},
     "outputs": [
      {
       "output_type": "stream",
       "stream": "stdout",
       "text": [
        "acc\n",
        "blca"
       ]
      },
      {
       "output_type": "stream",
       "stream": "stdout",
       "text": [
        "\n",
        "brca"
       ]
      },
      {
       "output_type": "stream",
       "stream": "stdout",
       "text": [
        "\n",
        "cesc"
       ]
      },
      {
       "output_type": "stream",
       "stream": "stdout",
       "text": [
        "\n",
        "chol"
       ]
      },
      {
       "output_type": "stream",
       "stream": "stdout",
       "text": [
        "\n",
        "coad"
       ]
      },
      {
       "output_type": "stream",
       "stream": "stdout",
       "text": [
        "\n",
        "dlbc"
       ]
      },
      {
       "output_type": "stream",
       "stream": "stdout",
       "text": [
        "\n",
        "esca"
       ]
      },
      {
       "output_type": "stream",
       "stream": "stdout",
       "text": [
        "\n",
        "gbm"
       ]
      },
      {
       "output_type": "stream",
       "stream": "stdout",
       "text": [
        "\n",
        "hnsc"
       ]
      },
      {
       "output_type": "stream",
       "stream": "stdout",
       "text": [
        "\n",
        "kich"
       ]
      },
      {
       "output_type": "stream",
       "stream": "stdout",
       "text": [
        "\n",
        "kirc"
       ]
      },
      {
       "output_type": "stream",
       "stream": "stdout",
       "text": [
        "\n",
        "kirp"
       ]
      },
      {
       "output_type": "stream",
       "stream": "stdout",
       "text": [
        "\n",
        "laml"
       ]
      },
      {
       "output_type": "stream",
       "stream": "stdout",
       "text": [
        "\n",
        "lgg"
       ]
      },
      {
       "output_type": "stream",
       "stream": "stdout",
       "text": [
        "\n",
        "lihc"
       ]
      },
      {
       "output_type": "stream",
       "stream": "stdout",
       "text": [
        "\n",
        "luad"
       ]
      },
      {
       "output_type": "stream",
       "stream": "stdout",
       "text": [
        "\n",
        "lusc"
       ]
      },
      {
       "output_type": "stream",
       "stream": "stdout",
       "text": [
        "\n",
        "meso"
       ]
      },
      {
       "output_type": "stream",
       "stream": "stdout",
       "text": [
        "\n",
        "misc"
       ]
      },
      {
       "output_type": "stream",
       "stream": "stdout",
       "text": [
        "\n",
        "misc failed"
       ]
      },
      {
       "output_type": "stream",
       "stream": "stdout",
       "text": [
        "\n",
        "ov\n",
        "paad"
       ]
      },
      {
       "output_type": "stream",
       "stream": "stdout",
       "text": [
        "\n",
        "pcpg"
       ]
      },
      {
       "output_type": "stream",
       "stream": "stdout",
       "text": [
        "\n",
        "prad"
       ]
      },
      {
       "output_type": "stream",
       "stream": "stdout",
       "text": [
        "\n",
        "read"
       ]
      },
      {
       "output_type": "stream",
       "stream": "stdout",
       "text": [
        "\n",
        "sarc"
       ]
      },
      {
       "output_type": "stream",
       "stream": "stdout",
       "text": [
        "\n",
        "skcm"
       ]
      },
      {
       "output_type": "stream",
       "stream": "stdout",
       "text": [
        "\n",
        "stad"
       ]
      },
      {
       "output_type": "stream",
       "stream": "stdout",
       "text": [
        "\n",
        "tgct"
       ]
      },
      {
       "output_type": "stream",
       "stream": "stdout",
       "text": [
        "\n",
        "thca"
       ]
      },
      {
       "output_type": "stream",
       "stream": "stdout",
       "text": [
        "\n",
        "thym"
       ]
      },
      {
       "output_type": "stream",
       "stream": "stdout",
       "text": [
        "\n",
        "ucec"
       ]
      },
      {
       "output_type": "stream",
       "stream": "stdout",
       "text": [
        "\n",
        "ucs"
       ]
      },
      {
       "output_type": "stream",
       "stream": "stdout",
       "text": [
        "\n",
        "uvm"
       ]
      },
      {
       "output_type": "stream",
       "stream": "stdout",
       "text": [
        "\n"
       ]
      }
     ],
     "prompt_number": 14
    },
    {
     "cell_type": "markdown",
     "metadata": {},
     "source": [
      "* write download links to list "
     ]
    },
    {
     "cell_type": "code",
     "collapsed": false,
     "input": [
      "f=open('tar_links.txt','w')\n",
      "l1=map(lambda x:x+'\\n', tar_links)\n",
      "f.writelines(l1)\n",
      "f.close()"
     ],
     "language": "python",
     "metadata": {},
     "outputs": [],
     "prompt_number": 15
    },
    {
     "cell_type": "markdown",
     "metadata": {},
     "source": [
      "<b>Download tarlink data, aux and mage files</b>"
     ]
    },
    {
     "cell_type": "code",
     "collapsed": false,
     "input": [
      "!wget -q -i tar_links.txt | tar -xz\n",
      "clear_output()"
     ],
     "language": "python",
     "metadata": {},
     "outputs": [],
     "prompt_number": 16
    },
    {
     "cell_type": "code",
     "collapsed": false,
     "input": [
      "pwd"
     ],
     "language": "python",
     "metadata": {},
     "outputs": [
      {
       "metadata": {},
       "output_type": "pyout",
       "prompt_number": 19,
       "text": [
        "u'/cellar/users/talejand/Documents/IdekerLab/BackUp'"
       ]
      }
     ],
     "prompt_number": 19
    },
    {
     "cell_type": "code",
     "collapsed": false,
     "input": [
      "#!tar -xvzf jhu-usc.edu_ACC.HumanMethylation450.Level_1.1.0.0.tar.gz\n",
      "#ls *.tar.gz | xargs tar xzf {}"
     ],
     "language": "python",
     "metadata": {},
     "outputs": []
    },
    {
     "cell_type": "markdown",
     "metadata": {},
     "source": [
      "<b>Move and count files using bash script </b>\n",
      "* Files are moved to corresponding folders and each folder is counted for the number of idat files present"
     ]
    },
    {
     "cell_type": "code",
     "collapsed": false,
     "input": [
      "%%move_and_count.sh*"
     ],
     "language": "python",
     "metadata": {},
     "outputs": []
    },
    {
     "cell_type": "markdown",
     "metadata": {},
     "source": [
      "* Displays text doc that shows number of idat files per category"
     ]
    },
    {
     "cell_type": "code",
     "collapsed": false,
     "input": [
      "!cat idat_count.txt "
     ],
     "language": "python",
     "metadata": {},
     "outputs": []
    },
    {
     "cell_type": "markdown",
     "metadata": {},
     "source": [
      "* should i move csv mappings somewhere separately\n",
      "* also need to remove tar.gz in script\n",
      "* also need to only get newest aux file\n",
      "* also need to move all idat files of each cancer in one folder\n"
     ]
    },
    {
     "cell_type": "markdown",
     "metadata": {},
     "source": [
      "Below are untested..."
     ]
    },
    {
     "cell_type": "markdown",
     "metadata": {},
     "source": [
      "<b>Unzip and Extract tar archives to Data Folder</b>"
     ]
    },
    {
     "cell_type": "code",
     "collapsed": false,
     "input": [
      "#!cat *tar.gz |tar -xzf -i -C $out_path"
     ],
     "language": "python",
     "metadata": {},
     "outputs": [
      {
       "output_type": "stream",
       "stream": "stdout",
       "text": [
        "tar (child): -i: Cannot open: No such file or directory\r\n",
        "tar (child): Error is not recoverable: exiting now\r\n",
        "tar: Child returned status 2\r\n",
        "tar: Error is not recoverable: exiting now\r\n",
        "cat: write error: Broken pipe\r\n"
       ]
      }
     ],
     "prompt_number": 17
    },
    {
     "cell_type": "markdown",
     "metadata": {},
     "source": [
      "<b>Count number of idat files</b>\n"
     ]
    },
    {
     "cell_type": "code",
     "collapsed": false,
     "input": [
      "#cd /data/nrnb01_nobackup/agross/TCGA_methylation/"
     ],
     "language": "python",
     "metadata": {},
     "outputs": [
      {
       "output_type": "stream",
       "stream": "stdout",
       "text": [
        "/data/nrnb01_nobackup/agross/TCGA_methylation\n"
       ]
      }
     ],
     "prompt_number": 37
    },
    {
     "cell_type": "code",
     "collapsed": false,
     "input": [
      "#ls -R | grep .idat$ | wc -l"
     ],
     "language": "python",
     "metadata": {},
     "outputs": [
      {
       "output_type": "stream",
       "stream": "stdout",
       "text": [
        "110628\r\n"
       ]
      }
     ],
     "prompt_number": 41
    },
    {
     "cell_type": "code",
     "collapsed": false,
     "input": [
      "#!find . -name '*.tar.gz' -exec tar -xzvf -C $OUT_PATH {} \\;"
     ],
     "language": "python",
     "metadata": {},
     "outputs": [],
     "prompt_number": 36
    },
    {
     "cell_type": "code",
     "collapsed": false,
     "input": [
      "#for i in cancertypes:"
     ],
     "language": "python",
     "metadata": {},
     "outputs": []
    }
   ],
   "metadata": {}
  }
 ]
}